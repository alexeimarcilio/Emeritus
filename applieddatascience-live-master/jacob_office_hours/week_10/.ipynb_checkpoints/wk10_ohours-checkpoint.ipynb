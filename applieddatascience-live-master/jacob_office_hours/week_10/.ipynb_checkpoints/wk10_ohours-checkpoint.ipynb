{
 "cells": [
  {
   "cell_type": "markdown",
   "metadata": {},
   "source": [
    "### Week 10: Pandas and NumPy"
   ]
  },
  {
   "cell_type": "code",
   "execution_count": 2,
   "metadata": {},
   "outputs": [],
   "source": [
    "import pandas_datareader as pdr"
   ]
  },
  {
   "cell_type": "code",
   "execution_count": 3,
   "metadata": {},
   "outputs": [],
   "source": [
    "import pandas as pd\n",
    "import numpy as np\n",
    "import matplotlib.pyplot as plt\n",
    "%matplotlib inline"
   ]
  },
  {
   "cell_type": "code",
   "execution_count": 7,
   "metadata": {},
   "outputs": [],
   "source": [
    "data = pdr.get_data_fred('GS10')"
   ]
  },
  {
   "cell_type": "code",
   "execution_count": 16,
   "metadata": {},
   "outputs": [],
   "source": [
    "ibm = pdr.get_data_yahoo('IBM')"
   ]
  },
  {
   "cell_type": "code",
   "execution_count": 17,
   "metadata": {},
   "outputs": [
    {
     "data": {
      "text/html": [
       "<div>\n",
       "<style scoped>\n",
       "    .dataframe tbody tr th:only-of-type {\n",
       "        vertical-align: middle;\n",
       "    }\n",
       "\n",
       "    .dataframe tbody tr th {\n",
       "        vertical-align: top;\n",
       "    }\n",
       "\n",
       "    .dataframe thead th {\n",
       "        text-align: right;\n",
       "    }\n",
       "</style>\n",
       "<table border=\"1\" class=\"dataframe\">\n",
       "  <thead>\n",
       "    <tr style=\"text-align: right;\">\n",
       "      <th></th>\n",
       "      <th>High</th>\n",
       "      <th>Low</th>\n",
       "      <th>Open</th>\n",
       "      <th>Close</th>\n",
       "      <th>Volume</th>\n",
       "      <th>Adj Close</th>\n",
       "    </tr>\n",
       "    <tr>\n",
       "      <th>Date</th>\n",
       "      <th></th>\n",
       "      <th></th>\n",
       "      <th></th>\n",
       "      <th></th>\n",
       "      <th></th>\n",
       "      <th></th>\n",
       "    </tr>\n",
       "  </thead>\n",
       "  <tbody>\n",
       "    <tr>\n",
       "      <td>2015-06-17</td>\n",
       "      <td>167.850006</td>\n",
       "      <td>166.100006</td>\n",
       "      <td>167.000000</td>\n",
       "      <td>167.169998</td>\n",
       "      <td>2863000.0</td>\n",
       "      <td>134.506073</td>\n",
       "    </tr>\n",
       "    <tr>\n",
       "      <td>2015-06-18</td>\n",
       "      <td>168.720001</td>\n",
       "      <td>167.050003</td>\n",
       "      <td>167.050003</td>\n",
       "      <td>168.250000</td>\n",
       "      <td>3330900.0</td>\n",
       "      <td>135.375046</td>\n",
       "    </tr>\n",
       "    <tr>\n",
       "      <td>2015-06-19</td>\n",
       "      <td>168.419998</td>\n",
       "      <td>166.770004</td>\n",
       "      <td>167.619995</td>\n",
       "      <td>166.990005</td>\n",
       "      <td>7074000.0</td>\n",
       "      <td>134.361221</td>\n",
       "    </tr>\n",
       "    <tr>\n",
       "      <td>2015-06-22</td>\n",
       "      <td>168.339996</td>\n",
       "      <td>167.199997</td>\n",
       "      <td>167.649994</td>\n",
       "      <td>167.729996</td>\n",
       "      <td>2335800.0</td>\n",
       "      <td>134.956650</td>\n",
       "    </tr>\n",
       "    <tr>\n",
       "      <td>2015-06-23</td>\n",
       "      <td>169.970001</td>\n",
       "      <td>167.570007</td>\n",
       "      <td>168.380005</td>\n",
       "      <td>168.619995</td>\n",
       "      <td>3701600.0</td>\n",
       "      <td>135.672729</td>\n",
       "    </tr>\n",
       "  </tbody>\n",
       "</table>\n",
       "</div>"
      ],
      "text/plain": [
       "                  High         Low        Open       Close     Volume  \\\n",
       "Date                                                                    \n",
       "2015-06-17  167.850006  166.100006  167.000000  167.169998  2863000.0   \n",
       "2015-06-18  168.720001  167.050003  167.050003  168.250000  3330900.0   \n",
       "2015-06-19  168.419998  166.770004  167.619995  166.990005  7074000.0   \n",
       "2015-06-22  168.339996  167.199997  167.649994  167.729996  2335800.0   \n",
       "2015-06-23  169.970001  167.570007  168.380005  168.619995  3701600.0   \n",
       "\n",
       "             Adj Close  \n",
       "Date                    \n",
       "2015-06-17  134.506073  \n",
       "2015-06-18  135.375046  \n",
       "2015-06-19  134.361221  \n",
       "2015-06-22  134.956650  \n",
       "2015-06-23  135.672729  "
      ]
     },
     "execution_count": 17,
     "metadata": {},
     "output_type": "execute_result"
    }
   ],
   "source": [
    "ibm.head()"
   ]
  },
  {
   "cell_type": "code",
   "execution_count": 18,
   "metadata": {},
   "outputs": [
    {
     "name": "stdout",
     "output_type": "stream",
     "text": [
      "<class 'pandas.core.frame.DataFrame'>\n",
      "DatetimeIndex: 1258 entries, 2015-06-17 to 2020-06-15\n",
      "Data columns (total 6 columns):\n",
      "High         1258 non-null float64\n",
      "Low          1258 non-null float64\n",
      "Open         1258 non-null float64\n",
      "Close        1258 non-null float64\n",
      "Volume       1258 non-null float64\n",
      "Adj Close    1258 non-null float64\n",
      "dtypes: float64(6)\n",
      "memory usage: 68.8 KB\n"
     ]
    }
   ],
   "source": [
    "ibm.info()"
   ]
  },
  {
   "cell_type": "code",
   "execution_count": 19,
   "metadata": {},
   "outputs": [
    {
     "data": {
      "text/plain": [
       "<matplotlib.axes._subplots.AxesSubplot at 0x7f8840928090>"
      ]
     },
     "execution_count": 19,
     "metadata": {},
     "output_type": "execute_result"
    },
    {
     "data": {
      "image/png": "[encoded data removed]",
      "text/plain": [
       "<Figure size 432x288 with 1 Axes>"
      ]
     },
     "metadata": {
      "needs_background": "light"
     },
     "output_type": "display_data"
    }
   ],
   "source": [
    "ibm['Adj Close'].plot()"
   ]
  },
  {
   "cell_type": "code",
   "execution_count": 24,
   "metadata": {},
   "outputs": [
    {
     "data": {
      "text/plain": [
       "<matplotlib.axes._subplots.AxesSubplot at 0x7f8875df3490>"
      ]
     },
     "execution_count": 24,
     "metadata": {},
     "output_type": "execute_result"
    },
    {
     "data": {
      "image/png": "[encoded data removed]",
      "text/plain": [
       "<Figure size 432x288 with 1 Axes>"
      ]
     },
     "metadata": {
      "needs_background": "light"
     },
     "output_type": "display_data"
    }
   ],
   "source": [
    "ibm['Adj Close'].pct_change(28).plot()"
   ]
  },
  {
   "cell_type": "code",
   "execution_count": 25,
   "metadata": {},
   "outputs": [
    {
     "data": {
      "text/html": [
       "<div>\n",
       "<style scoped>\n",
       "    .dataframe tbody tr th:only-of-type {\n",
       "        vertical-align: middle;\n",
       "    }\n",
       "\n",
       "    .dataframe tbody tr th {\n",
       "        vertical-align: top;\n",
       "    }\n",
       "\n",
       "    .dataframe thead th {\n",
       "        text-align: right;\n",
       "    }\n",
       "</style>\n",
       "<table border=\"1\" class=\"dataframe\">\n",
       "  <thead>\n",
       "    <tr style=\"text-align: right;\">\n",
       "      <th></th>\n",
       "      <th>High</th>\n",
       "      <th>Low</th>\n",
       "      <th>Open</th>\n",
       "      <th>Close</th>\n",
       "      <th>Volume</th>\n",
       "      <th>Adj Close</th>\n",
       "    </tr>\n",
       "    <tr>\n",
       "      <th>Date</th>\n",
       "      <th></th>\n",
       "      <th></th>\n",
       "      <th></th>\n",
       "      <th></th>\n",
       "      <th></th>\n",
       "      <th></th>\n",
       "    </tr>\n",
       "  </thead>\n",
       "  <tbody>\n",
       "    <tr>\n",
       "      <td>2018-06-01</td>\n",
       "      <td>142.839996</td>\n",
       "      <td>141.619995</td>\n",
       "      <td>142.429993</td>\n",
       "      <td>141.949997</td>\n",
       "      <td>3857500.0</td>\n",
       "      <td>129.219833</td>\n",
       "    </tr>\n",
       "    <tr>\n",
       "      <td>2018-06-04</td>\n",
       "      <td>143.169998</td>\n",
       "      <td>142.179993</td>\n",
       "      <td>142.300003</td>\n",
       "      <td>143.039993</td>\n",
       "      <td>3035300.0</td>\n",
       "      <td>130.212067</td>\n",
       "    </tr>\n",
       "    <tr>\n",
       "      <td>2018-06-05</td>\n",
       "      <td>144.080002</td>\n",
       "      <td>143.039993</td>\n",
       "      <td>143.050003</td>\n",
       "      <td>143.699997</td>\n",
       "      <td>2836000.0</td>\n",
       "      <td>130.812897</td>\n",
       "    </tr>\n",
       "    <tr>\n",
       "      <td>2018-06-06</td>\n",
       "      <td>144.720001</td>\n",
       "      <td>143.539993</td>\n",
       "      <td>144.339996</td>\n",
       "      <td>144.710007</td>\n",
       "      <td>3220100.0</td>\n",
       "      <td>131.732330</td>\n",
       "    </tr>\n",
       "    <tr>\n",
       "      <td>2018-06-07</td>\n",
       "      <td>146.699997</td>\n",
       "      <td>144.929993</td>\n",
       "      <td>145.000000</td>\n",
       "      <td>145.360001</td>\n",
       "      <td>4316500.0</td>\n",
       "      <td>132.324036</td>\n",
       "    </tr>\n",
       "    <tr>\n",
       "      <td>...</td>\n",
       "      <td>...</td>\n",
       "      <td>...</td>\n",
       "      <td>...</td>\n",
       "      <td>...</td>\n",
       "      <td>...</td>\n",
       "      <td>...</td>\n",
       "    </tr>\n",
       "    <tr>\n",
       "      <td>2020-06-09</td>\n",
       "      <td>133.600006</td>\n",
       "      <td>131.020004</td>\n",
       "      <td>133.520004</td>\n",
       "      <td>131.869995</td>\n",
       "      <td>5393600.0</td>\n",
       "      <td>131.869995</td>\n",
       "    </tr>\n",
       "    <tr>\n",
       "      <td>2020-06-10</td>\n",
       "      <td>132.229996</td>\n",
       "      <td>129.800003</td>\n",
       "      <td>132.149994</td>\n",
       "      <td>129.869995</td>\n",
       "      <td>4734800.0</td>\n",
       "      <td>129.869995</td>\n",
       "    </tr>\n",
       "    <tr>\n",
       "      <td>2020-06-11</td>\n",
       "      <td>126.099998</td>\n",
       "      <td>117.839996</td>\n",
       "      <td>126.029999</td>\n",
       "      <td>118.010002</td>\n",
       "      <td>11763600.0</td>\n",
       "      <td>118.010002</td>\n",
       "    </tr>\n",
       "    <tr>\n",
       "      <td>2020-06-12</td>\n",
       "      <td>123.120003</td>\n",
       "      <td>119.279999</td>\n",
       "      <td>121.250000</td>\n",
       "      <td>121.910004</td>\n",
       "      <td>6218100.0</td>\n",
       "      <td>121.910004</td>\n",
       "    </tr>\n",
       "    <tr>\n",
       "      <td>2020-06-15</td>\n",
       "      <td>122.366997</td>\n",
       "      <td>118.290001</td>\n",
       "      <td>119.190002</td>\n",
       "      <td>121.650002</td>\n",
       "      <td>4854840.0</td>\n",
       "      <td>121.650002</td>\n",
       "    </tr>\n",
       "  </tbody>\n",
       "</table>\n",
       "<p>513 rows × 6 columns</p>\n",
       "</div>"
      ],
      "text/plain": [
       "                  High         Low        Open       Close      Volume  \\\n",
       "Date                                                                     \n",
       "2018-06-01  142.839996  141.619995  142.429993  141.949997   3857500.0   \n",
       "2018-06-04  143.169998  142.179993  142.300003  143.039993   3035300.0   \n",
       "2018-06-05  144.080002  143.039993  143.050003  143.699997   2836000.0   \n",
       "2018-06-06  144.720001  143.539993  144.339996  144.710007   3220100.0   \n",
       "2018-06-07  146.699997  144.929993  145.000000  145.360001   4316500.0   \n",
       "...                ...         ...         ...         ...         ...   \n",
       "2020-06-09  133.600006  131.020004  133.520004  131.869995   5393600.0   \n",
       "2020-06-10  132.229996  129.800003  132.149994  129.869995   4734800.0   \n",
       "2020-06-11  126.099998  117.839996  126.029999  118.010002  11763600.0   \n",
       "2020-06-12  123.120003  119.279999  121.250000  121.910004   6218100.0   \n",
       "2020-06-15  122.366997  118.290001  119.190002  121.650002   4854840.0   \n",
       "\n",
       "             Adj Close  \n",
       "Date                    \n",
       "2018-06-01  129.219833  \n",
       "2018-06-04  130.212067  \n",
       "2018-06-05  130.812897  \n",
       "2018-06-06  131.732330  \n",
       "2018-06-07  132.324036  \n",
       "...                ...  \n",
       "2020-06-09  131.869995  \n",
       "2020-06-10  129.869995  \n",
       "2020-06-11  118.010002  \n",
       "2020-06-12  121.910004  \n",
       "2020-06-15  121.650002  \n",
       "\n",
       "[513 rows x 6 columns]"
      ]
     },
     "execution_count": 25,
     "metadata": {},
     "output_type": "execute_result"
    }
   ],
   "source": [
    "ibm['06-2018':]"
   ]
  },
  {
   "cell_type": "code",
   "execution_count": 26,
   "metadata": {},
   "outputs": [
    {
     "data": {
      "text/plain": [
       "<matplotlib.axes._subplots.AxesSubplot at 0x7f8875c9f490>"
      ]
     },
     "execution_count": 26,
     "metadata": {},
     "output_type": "execute_result"
    },
    {
     "data": {
      "image/png": "[encoded data removed]",
      "text/plain": [
       "<Figure size 432x288 with 1 Axes>"
      ]
     },
     "metadata": {
      "needs_background": "light"
     },
     "output_type": "display_data"
    }
   ],
   "source": [
    "ibm['Adj Close'].diff().plot()"
   ]
  },
  {
   "cell_type": "code",
   "execution_count": 28,
   "metadata": {},
   "outputs": [
    {
     "data": {
      "text/plain": [
       "<matplotlib.axes._subplots.AxesSubplot at 0x7f8875ccfcd0>"
      ]
     },
     "execution_count": 28,
     "metadata": {},
     "output_type": "execute_result"
    },
    {
     "data": {
      "image/png": "[encoded data removed]",
      "text/plain": [
       "<Figure size 432x288 with 1 Axes>"
      ]
     },
     "metadata": {
      "needs_background": "light"
     },
     "output_type": "display_data"
    }
   ],
   "source": [
    "ibm['2019'].plot()"
   ]
  },
  {
   "cell_type": "code",
   "execution_count": 29,
   "metadata": {},
   "outputs": [
    {
     "data": {
      "text/html": [
       "<div>\n",
       "<style scoped>\n",
       "    .dataframe tbody tr th:only-of-type {\n",
       "        vertical-align: middle;\n",
       "    }\n",
       "\n",
       "    .dataframe tbody tr th {\n",
       "        vertical-align: top;\n",
       "    }\n",
       "\n",
       "    .dataframe thead th {\n",
       "        text-align: right;\n",
       "    }\n",
       "</style>\n",
       "<table border=\"1\" class=\"dataframe\">\n",
       "  <thead>\n",
       "    <tr style=\"text-align: right;\">\n",
       "      <th></th>\n",
       "      <th>High</th>\n",
       "      <th>Low</th>\n",
       "      <th>Open</th>\n",
       "      <th>Close</th>\n",
       "      <th>Volume</th>\n",
       "      <th>Adj Close</th>\n",
       "    </tr>\n",
       "    <tr>\n",
       "      <th>Date</th>\n",
       "      <th></th>\n",
       "      <th></th>\n",
       "      <th></th>\n",
       "      <th></th>\n",
       "      <th></th>\n",
       "      <th></th>\n",
       "    </tr>\n",
       "  </thead>\n",
       "  <tbody>\n",
       "    <tr>\n",
       "      <td>2015-06-17</td>\n",
       "      <td>167.850006</td>\n",
       "      <td>166.100006</td>\n",
       "      <td>167.000000</td>\n",
       "      <td>167.169998</td>\n",
       "      <td>2863000.0</td>\n",
       "      <td>134.506073</td>\n",
       "    </tr>\n",
       "    <tr>\n",
       "      <td>2015-06-18</td>\n",
       "      <td>168.720001</td>\n",
       "      <td>167.050003</td>\n",
       "      <td>167.050003</td>\n",
       "      <td>168.250000</td>\n",
       "      <td>3330900.0</td>\n",
       "      <td>135.375046</td>\n",
       "    </tr>\n",
       "    <tr>\n",
       "      <td>2015-06-19</td>\n",
       "      <td>168.419998</td>\n",
       "      <td>166.770004</td>\n",
       "      <td>167.619995</td>\n",
       "      <td>166.990005</td>\n",
       "      <td>7074000.0</td>\n",
       "      <td>134.361221</td>\n",
       "    </tr>\n",
       "    <tr>\n",
       "      <td>2015-06-22</td>\n",
       "      <td>168.339996</td>\n",
       "      <td>167.199997</td>\n",
       "      <td>167.649994</td>\n",
       "      <td>167.729996</td>\n",
       "      <td>2335800.0</td>\n",
       "      <td>134.956650</td>\n",
       "    </tr>\n",
       "    <tr>\n",
       "      <td>2015-06-23</td>\n",
       "      <td>169.970001</td>\n",
       "      <td>167.570007</td>\n",
       "      <td>168.380005</td>\n",
       "      <td>168.619995</td>\n",
       "      <td>3701600.0</td>\n",
       "      <td>135.672729</td>\n",
       "    </tr>\n",
       "  </tbody>\n",
       "</table>\n",
       "</div>"
      ],
      "text/plain": [
       "                  High         Low        Open       Close     Volume  \\\n",
       "Date                                                                    \n",
       "2015-06-17  167.850006  166.100006  167.000000  167.169998  2863000.0   \n",
       "2015-06-18  168.720001  167.050003  167.050003  168.250000  3330900.0   \n",
       "2015-06-19  168.419998  166.770004  167.619995  166.990005  7074000.0   \n",
       "2015-06-22  168.339996  167.199997  167.649994  167.729996  2335800.0   \n",
       "2015-06-23  169.970001  167.570007  168.380005  168.619995  3701600.0   \n",
       "\n",
       "             Adj Close  \n",
       "Date                    \n",
       "2015-06-17  134.506073  \n",
       "2015-06-18  135.375046  \n",
       "2015-06-19  134.361221  \n",
       "2015-06-22  134.956650  \n",
       "2015-06-23  135.672729  "
      ]
     },
     "execution_count": 29,
     "metadata": {},
     "output_type": "execute_result"
    }
   ],
   "source": [
    "ibm.head()"
   ]
  },
  {
   "cell_type": "code",
   "execution_count": 30,
   "metadata": {},
   "outputs": [
    {
     "data": {
      "text/html": [
       "<div>\n",
       "<style scoped>\n",
       "    .dataframe tbody tr th:only-of-type {\n",
       "        vertical-align: middle;\n",
       "    }\n",
       "\n",
       "    .dataframe tbody tr th {\n",
       "        vertical-align: top;\n",
       "    }\n",
       "\n",
       "    .dataframe thead th {\n",
       "        text-align: right;\n",
       "    }\n",
       "</style>\n",
       "<table border=\"1\" class=\"dataframe\">\n",
       "  <thead>\n",
       "    <tr style=\"text-align: right;\">\n",
       "      <th></th>\n",
       "      <th>High</th>\n",
       "      <th>Low</th>\n",
       "      <th>Open</th>\n",
       "      <th>Close</th>\n",
       "      <th>Volume</th>\n",
       "      <th>Adj Close</th>\n",
       "    </tr>\n",
       "  </thead>\n",
       "  <tbody>\n",
       "    <tr>\n",
       "      <td>count</td>\n",
       "      <td>1258.000000</td>\n",
       "      <td>1258.000000</td>\n",
       "      <td>1258.000000</td>\n",
       "      <td>1258.000000</td>\n",
       "      <td>1.258000e+03</td>\n",
       "      <td>1258.000000</td>\n",
       "    </tr>\n",
       "    <tr>\n",
       "      <td>mean</td>\n",
       "      <td>146.723988</td>\n",
       "      <td>144.510365</td>\n",
       "      <td>145.639102</td>\n",
       "      <td>145.626860</td>\n",
       "      <td>4.548523e+06</td>\n",
       "      <td>129.878856</td>\n",
       "    </tr>\n",
       "    <tr>\n",
       "      <td>std</td>\n",
       "      <td>14.449302</td>\n",
       "      <td>14.836420</td>\n",
       "      <td>14.649033</td>\n",
       "      <td>14.625180</td>\n",
       "      <td>2.668491e+06</td>\n",
       "      <td>11.260251</td>\n",
       "    </tr>\n",
       "    <tr>\n",
       "      <td>min</td>\n",
       "      <td>97.739998</td>\n",
       "      <td>90.559998</td>\n",
       "      <td>94.599998</td>\n",
       "      <td>94.769997</td>\n",
       "      <td>1.193000e+06</td>\n",
       "      <td>93.515839</td>\n",
       "    </tr>\n",
       "    <tr>\n",
       "      <td>25%</td>\n",
       "      <td>137.767506</td>\n",
       "      <td>135.737499</td>\n",
       "      <td>136.759995</td>\n",
       "      <td>136.702503</td>\n",
       "      <td>3.080075e+06</td>\n",
       "      <td>124.574423</td>\n",
       "    </tr>\n",
       "    <tr>\n",
       "      <td>50%</td>\n",
       "      <td>146.860001</td>\n",
       "      <td>144.684998</td>\n",
       "      <td>145.715004</td>\n",
       "      <td>145.660004</td>\n",
       "      <td>3.830050e+06</td>\n",
       "      <td>131.270584</td>\n",
       "    </tr>\n",
       "    <tr>\n",
       "      <td>75%</td>\n",
       "      <td>155.397495</td>\n",
       "      <td>153.397495</td>\n",
       "      <td>154.362495</td>\n",
       "      <td>154.247501</td>\n",
       "      <td>5.066875e+06</td>\n",
       "      <td>136.125912</td>\n",
       "    </tr>\n",
       "    <tr>\n",
       "      <td>max</td>\n",
       "      <td>182.789993</td>\n",
       "      <td>180.919998</td>\n",
       "      <td>182.000000</td>\n",
       "      <td>181.949997</td>\n",
       "      <td>3.049020e+07</td>\n",
       "      <td>157.394867</td>\n",
       "    </tr>\n",
       "  </tbody>\n",
       "</table>\n",
       "</div>"
      ],
      "text/plain": [
       "              High          Low         Open        Close        Volume  \\\n",
       "count  1258.000000  1258.000000  1258.000000  1258.000000  1.258000e+03   \n",
       "mean    146.723988   144.510365   145.639102   145.626860  4.548523e+06   \n",
       "std      14.449302    14.836420    14.649033    14.625180  2.668491e+06   \n",
       "min      97.739998    90.559998    94.599998    94.769997  1.193000e+06   \n",
       "25%     137.767506   135.737499   136.759995   136.702503  3.080075e+06   \n",
       "50%     146.860001   144.684998   145.715004   145.660004  3.830050e+06   \n",
       "75%     155.397495   153.397495   154.362495   154.247501  5.066875e+06   \n",
       "max     182.789993   180.919998   182.000000   181.949997  3.049020e+07   \n",
       "\n",
       "         Adj Close  \n",
       "count  1258.000000  \n",
       "mean    129.878856  \n",
       "std      11.260251  \n",
       "min      93.515839  \n",
       "25%     124.574423  \n",
       "50%     131.270584  \n",
       "75%     136.125912  \n",
       "max     157.394867  "
      ]
     },
     "execution_count": 30,
     "metadata": {},
     "output_type": "execute_result"
    }
   ],
   "source": [
    "ibm.describe()"
   ]
  },
  {
   "cell_type": "code",
   "execution_count": 31,
   "metadata": {},
   "outputs": [
    {
     "data": {
      "text/plain": [
       "<matplotlib.axes._subplots.AxesSubplot at 0x7f88817c7f50>"
      ]
     },
     "execution_count": 31,
     "metadata": {},
     "output_type": "execute_result"
    },
    {
     "data": {
      "image/png": "[encoded data removed]",
      "text/plain": [
       "<Figure size 432x288 with 1 Axes>"
      ]
     },
     "metadata": {
      "needs_background": "light"
     },
     "output_type": "display_data"
    }
   ],
   "source": [
    "ibm['Adj Close'].plot()"
   ]
  },
  {
   "cell_type": "code",
   "execution_count": 38,
   "metadata": {},
   "outputs": [],
   "source": [
    "week_roll = ibm['Adj Close'].rolling(window=15)"
   ]
  },
  {
   "cell_type": "code",
   "execution_count": 39,
   "metadata": {},
   "outputs": [
    {
     "data": {
      "text/plain": [
       "<matplotlib.axes._subplots.AxesSubplot at 0x7f88206dc8d0>"
      ]
     },
     "execution_count": 39,
     "metadata": {},
     "output_type": "execute_result"
    },
    {
     "data": {
      "image/png": "[encoded data removed]",
      "text/plain": [
       "<Figure size 432x288 with 1 Axes>"
      ]
     },
     "metadata": {
      "needs_background": "light"
     },
     "output_type": "display_data"
    }
   ],
   "source": [
    "week_roll.mean().plot()"
   ]
  },
  {
   "cell_type": "code",
   "execution_count": 42,
   "metadata": {},
   "outputs": [
    {
     "data": {
      "text/plain": [
       "<matplotlib.axes._subplots.AxesSubplot at 0x7f8820b29650>"
      ]
     },
     "execution_count": 42,
     "metadata": {},
     "output_type": "execute_result"
    },
    {
     "data": {
      "image/png": "[encoded data removed]",
      "text/plain": [
       "<Figure size 432x288 with 1 Axes>"
      ]
     },
     "metadata": {
      "needs_background": "light"
     },
     "output_type": "display_data"
    }
   ],
   "source": [
    "week_roll.std().plot()"
   ]
  },
  {
   "cell_type": "markdown",
   "metadata": {},
   "source": [
    "### NumPy"
   ]
  },
  {
   "cell_type": "code",
   "execution_count": 70,
   "metadata": {},
   "outputs": [],
   "source": [
    "a = np.random.randint(0, 20, 24).reshape(6, 4)"
   ]
  },
  {
   "cell_type": "code",
   "execution_count": 44,
   "metadata": {},
   "outputs": [
    {
     "data": {
      "text/plain": [
       "array([[ 8,  4,  7,  7],\n",
       "       [ 0, 15, 18,  6],\n",
       "       [13, 14,  3, 12],\n",
       "       [ 3, 14,  3, 14],\n",
       "       [18, 15, 11,  9],\n",
       "       [14,  7, 12,  9]])"
      ]
     },
     "execution_count": 44,
     "metadata": {},
     "output_type": "execute_result"
    }
   ],
   "source": [
    "a"
   ]
  },
  {
   "cell_type": "code",
   "execution_count": 46,
   "metadata": {},
   "outputs": [
    {
     "data": {
      "text/plain": [
       "array([[11,  7, 10, 10],\n",
       "       [ 3, 18, 21,  9],\n",
       "       [16, 17,  6, 15],\n",
       "       [ 6, 17,  6, 17],\n",
       "       [21, 18, 14, 12],\n",
       "       [17, 10, 15, 12]])"
      ]
     },
     "execution_count": 46,
     "metadata": {},
     "output_type": "execute_result"
    }
   ],
   "source": [
    "a + 3"
   ]
  },
  {
   "cell_type": "code",
   "execution_count": 47,
   "metadata": {},
   "outputs": [
    {
     "data": {
      "text/plain": [
       "array([[ 8,  0, 13,  3, 18, 14],\n",
       "       [ 4, 15, 14, 14, 15,  7],\n",
       "       [ 7, 18,  3,  3, 11, 12],\n",
       "       [ 7,  6, 12, 14,  9,  9]])"
      ]
     },
     "execution_count": 47,
     "metadata": {},
     "output_type": "execute_result"
    }
   ],
   "source": [
    "np.transpose(a)"
   ]
  },
  {
   "cell_type": "code",
   "execution_count": 48,
   "metadata": {},
   "outputs": [
    {
     "data": {
      "text/plain": [
       "array([[ 8,  0, 13,  3, 18, 14],\n",
       "       [ 4, 15, 14, 14, 15,  7],\n",
       "       [ 7, 18,  3,  3, 11, 12],\n",
       "       [ 7,  6, 12, 14,  9,  9]])"
      ]
     },
     "execution_count": 48,
     "metadata": {},
     "output_type": "execute_result"
    }
   ],
   "source": [
    "a.T"
   ]
  },
  {
   "cell_type": "code",
   "execution_count": 49,
   "metadata": {},
   "outputs": [
    {
     "data": {
      "text/plain": [
       "(6, 4)"
      ]
     },
     "execution_count": 49,
     "metadata": {},
     "output_type": "execute_result"
    }
   ],
   "source": [
    "a.shape"
   ]
  },
  {
   "cell_type": "code",
   "execution_count": 50,
   "metadata": {},
   "outputs": [],
   "source": [
    "b = a.T"
   ]
  },
  {
   "cell_type": "code",
   "execution_count": 51,
   "metadata": {},
   "outputs": [
    {
     "data": {
      "text/plain": [
       "(4, 6)"
      ]
     },
     "execution_count": 51,
     "metadata": {},
     "output_type": "execute_result"
    }
   ],
   "source": [
    "b.shape"
   ]
  },
  {
   "cell_type": "code",
   "execution_count": 53,
   "metadata": {},
   "outputs": [
    {
     "data": {
      "text/plain": [
       "array([[ 8,  4,  7,  7],\n",
       "       [ 0, 15, 18,  6],\n",
       "       [13, 14,  3, 12],\n",
       "       [ 3, 14,  3, 14],\n",
       "       [18, 15, 11,  9],\n",
       "       [14,  7, 12,  9]])"
      ]
     },
     "execution_count": 53,
     "metadata": {},
     "output_type": "execute_result"
    }
   ],
   "source": [
    "a"
   ]
  },
  {
   "cell_type": "code",
   "execution_count": 52,
   "metadata": {},
   "outputs": [
    {
     "data": {
      "text/plain": [
       "array([[ 8,  0, 13,  3, 18, 14],\n",
       "       [ 4, 15, 14, 14, 15,  7],\n",
       "       [ 7, 18,  3,  3, 11, 12],\n",
       "       [ 7,  6, 12, 14,  9,  9]])"
      ]
     },
     "execution_count": 52,
     "metadata": {},
     "output_type": "execute_result"
    }
   ],
   "source": [
    "b"
   ]
  },
  {
   "cell_type": "code",
   "execution_count": 54,
   "metadata": {},
   "outputs": [
    {
     "data": {
      "text/plain": [
       "array([[178, 228, 265, 199, 344, 287],\n",
       "       [228, 585, 336, 348, 477, 375],\n",
       "       [265, 336, 518, 412, 585, 424],\n",
       "       [199, 348, 412, 410, 423, 302],\n",
       "       [344, 477, 585, 423, 751, 570],\n",
       "       [287, 375, 424, 302, 570, 470]])"
      ]
     },
     "execution_count": 54,
     "metadata": {},
     "output_type": "execute_result"
    }
   ],
   "source": [
    "np.dot(a, b)"
   ]
  },
  {
   "cell_type": "code",
   "execution_count": 55,
   "metadata": {},
   "outputs": [
    {
     "data": {
      "text/plain": [
       "array([[762, 624, 470, 542],\n",
       "       [624, 907, 631, 680],\n",
       "       [470, 631, 656, 442],\n",
       "       [542, 680, 442, 587]])"
      ]
     },
     "execution_count": 55,
     "metadata": {},
     "output_type": "execute_result"
    }
   ],
   "source": [
    "np.dot(b, a)"
   ]
  },
  {
   "cell_type": "code",
   "execution_count": 56,
   "metadata": {},
   "outputs": [
    {
     "data": {
      "text/plain": [
       "array([[178, 228, 265, 199, 344, 287],\n",
       "       [228, 585, 336, 348, 477, 375],\n",
       "       [265, 336, 518, 412, 585, 424],\n",
       "       [199, 348, 412, 410, 423, 302],\n",
       "       [344, 477, 585, 423, 751, 570],\n",
       "       [287, 375, 424, 302, 570, 470]])"
      ]
     },
     "execution_count": 56,
     "metadata": {},
     "output_type": "execute_result"
    }
   ],
   "source": [
    "np.matmul(a, b)"
   ]
  },
  {
   "cell_type": "code",
   "execution_count": 57,
   "metadata": {},
   "outputs": [
    {
     "data": {
      "text/plain": [
       "array([[178, 228, 265, 199, 344, 287],\n",
       "       [228, 585, 336, 348, 477, 375],\n",
       "       [265, 336, 518, 412, 585, 424],\n",
       "       [199, 348, 412, 410, 423, 302],\n",
       "       [344, 477, 585, 423, 751, 570],\n",
       "       [287, 375, 424, 302, 570, 470]])"
      ]
     },
     "execution_count": 57,
     "metadata": {},
     "output_type": "execute_result"
    }
   ],
   "source": [
    "a@b"
   ]
  },
  {
   "cell_type": "code",
   "execution_count": 61,
   "metadata": {},
   "outputs": [
    {
     "data": {
      "text/plain": [
       "array([[ 0.00416167,  0.0014697 , -0.00133793, -0.00453775],\n",
       "       [ 0.0014697 ,  0.0137696 , -0.00535041, -0.01327943],\n",
       "       [-0.00133793, -0.00535041,  0.00532006,  0.00342755],\n",
       "       [-0.00453775, -0.01327943,  0.00342755,  0.0186959 ]])"
      ]
     },
     "execution_count": 61,
     "metadata": {},
     "output_type": "execute_result"
    }
   ],
   "source": [
    "np.linalg.inv(b@a)"
   ]
  },
  {
   "cell_type": "code",
   "execution_count": 62,
   "metadata": {},
   "outputs": [
    {
     "ename": "ValueError",
     "evalue": "operands could not be broadcast together with shapes (6,4) (4,6) ",
     "output_type": "error",
     "traceback": [
      "\u001b[0;31m---------------------------------------------------------------------------\u001b[0m",
      "\u001b[0;31mValueError\u001b[0m                                Traceback (most recent call last)",
      "\u001b[0;32m<ipython-input-62-8ce765dcfa30>\u001b[0m in \u001b[0;36m<module>\u001b[0;34m\u001b[0m\n\u001b[0;32m----> 1\u001b[0;31m \u001b[0ma\u001b[0m\u001b[0;34m*\u001b[0m\u001b[0mb\u001b[0m\u001b[0;34m\u001b[0m\u001b[0;34m\u001b[0m\u001b[0m\n\u001b[0m",
      "\u001b[0;31mValueError\u001b[0m: operands could not be broadcast together with shapes (6,4) (4,6) "
     ]
    }
   ],
   "source": [
    "a*b"
   ]
  },
  {
   "cell_type": "code",
   "execution_count": 65,
   "metadata": {},
   "outputs": [],
   "source": [
    "# a = np.array([2, 3])\n",
    "# b = np.array([4, 2])"
   ]
  },
  {
   "cell_type": "code",
   "execution_count": 67,
   "metadata": {},
   "outputs": [
    {
     "data": {
      "text/plain": [
       "14"
      ]
     },
     "execution_count": 67,
     "metadata": {},
     "output_type": "execute_result"
    }
   ],
   "source": [
    "a@b"
   ]
  },
  {
   "cell_type": "code",
   "execution_count": 76,
   "metadata": {},
   "outputs": [
    {
     "data": {
      "text/plain": [
       "array([[1., 0., 0., 0.],\n",
       "       [0., 1., 0., 0.],\n",
       "       [0., 0., 1., 0.],\n",
       "       [0., 0., 0., 1.]])"
      ]
     },
     "execution_count": 76,
     "metadata": {},
     "output_type": "execute_result"
    }
   ],
   "source": [
    "np.identity(a.shape[1])"
   ]
  },
  {
   "cell_type": "code",
   "execution_count": 77,
   "metadata": {},
   "outputs": [
    {
     "data": {
      "text/plain": [
       "array([[19, 10, 13, 17],\n",
       "       [ 6, 19, 16, 14],\n",
       "       [16,  9,  4, 11],\n",
       "       [11, 18, 19,  7],\n",
       "       [ 0, 15,  8, 14],\n",
       "       [18,  2,  4,  0]])"
      ]
     },
     "execution_count": 77,
     "metadata": {},
     "output_type": "execute_result"
    }
   ],
   "source": [
    "a"
   ]
  },
  {
   "cell_type": "code",
   "execution_count": 78,
   "metadata": {},
   "outputs": [
    {
     "data": {
      "text/plain": [
       "array([[19., 10., 13., 17.],\n",
       "       [ 6., 19., 16., 14.],\n",
       "       [16.,  9.,  4., 11.],\n",
       "       [11., 18., 19.,  7.],\n",
       "       [ 0., 15.,  8., 14.],\n",
       "       [18.,  2.,  4.,  0.]])"
      ]
     },
     "execution_count": 78,
     "metadata": {},
     "output_type": "execute_result"
    }
   ],
   "source": [
    "a@np.identity(a.shape[1])"
   ]
  },
  {
   "cell_type": "code",
   "execution_count": 83,
   "metadata": {},
   "outputs": [],
   "source": [
    "A = np.random.random(size = 25).reshape(5, 5)"
   ]
  },
  {
   "cell_type": "code",
   "execution_count": 84,
   "metadata": {},
   "outputs": [
    {
     "data": {
      "text/plain": [
       "-0.0023061953758425364"
      ]
     },
     "execution_count": 84,
     "metadata": {},
     "output_type": "execute_result"
    }
   ],
   "source": [
    "np.linalg.det(A)"
   ]
  },
  {
   "cell_type": "code",
   "execution_count": 91,
   "metadata": {},
   "outputs": [],
   "source": [
    "a = np.array([[2, -4],[-1,-1]])\n",
    "b = np.array([[4], [-1]])\n"
   ]
  },
  {
   "cell_type": "code",
   "execution_count": 92,
   "metadata": {},
   "outputs": [
    {
     "data": {
      "text/plain": [
       "array([[12],\n",
       "       [-3]])"
      ]
     },
     "execution_count": 92,
     "metadata": {},
     "output_type": "execute_result"
    }
   ],
   "source": [
    "a@b"
   ]
  },
  {
   "cell_type": "code",
   "execution_count": 94,
   "metadata": {},
   "outputs": [
    {
     "data": {
      "text/plain": [
       "array([[ 4],\n",
       "       [-1]])"
      ]
     },
     "execution_count": 94,
     "metadata": {},
     "output_type": "execute_result"
    }
   ],
   "source": [
    "b"
   ]
  },
  {
   "cell_type": "markdown",
   "metadata": {},
   "source": [
    "$$Av = \\lambda v$$\n",
    "\n",
    "$$Av - \\lambda v = 0$$"
   ]
  },
  {
   "cell_type": "markdown",
   "metadata": {},
   "source": [
    "$$(A - \\lambda I)v = 0$$"
   ]
  },
  {
   "cell_type": "code",
   "execution_count": 96,
   "metadata": {},
   "outputs": [],
   "source": [
    "A = np.array([[1, 2], [4, 3]])"
   ]
  },
  {
   "cell_type": "code",
   "execution_count": 97,
   "metadata": {},
   "outputs": [
    {
     "data": {
      "text/plain": [
       "(array([-1.,  5.]), array([[-0.70710678, -0.4472136 ],\n",
       "        [ 0.70710678, -0.89442719]]))"
      ]
     },
     "execution_count": 97,
     "metadata": {},
     "output_type": "execute_result"
    }
   ],
   "source": [
    "np.linalg.eig(A)"
   ]
  },
  {
   "cell_type": "markdown",
   "metadata": {},
   "source": [
    "### Alpha Vantage Test"
   ]
  },
  {
   "cell_type": "code",
   "execution_count": 98,
   "metadata": {},
   "outputs": [],
   "source": [
    "alpha_api = 'LW9XCI6UYMQY5E14'"
   ]
  },
  {
   "cell_type": "code",
   "execution_count": 99,
   "metadata": {},
   "outputs": [],
   "source": [
    "import pandas_datareader.data as web"
   ]
  },
  {
   "cell_type": "code",
   "execution_count": 106,
   "metadata": {},
   "outputs": [],
   "source": [
    "f = web.DataReader(\"AAPL\", \"av-daily\", \n",
    "              api_key=alpha_api)"
   ]
  },
  {
   "cell_type": "code",
   "execution_count": 108,
   "metadata": {},
   "outputs": [
    {
     "data": {
      "text/plain": [
       "<matplotlib.axes._subplots.AxesSubplot at 0x7f88202e7250>"
      ]
     },
     "execution_count": 108,
     "metadata": {},
     "output_type": "execute_result"
    },
    {
     "data": {
      "image/png": "[encoded data removed]",
      "text/plain": [
       "<Figure size 432x288 with 1 Axes>"
      ]
     },
     "metadata": {
      "needs_background": "light"
     },
     "output_type": "display_data"
    }
   ],
   "source": [
    "f['close'].plot()"
   ]
  },
  {
   "cell_type": "code",
   "execution_count": null,
   "metadata": {},
   "outputs": [],
   "source": []
  }
 ],
 "metadata": {
  "kernelspec": {
   "display_name": "Python 3",
   "language": "python",
   "name": "python3"
  },
  "language_info": {
   "codemirror_mode": {
    "name": "ipython",
    "version": 3
   },
   "file_extension": ".py",
   "mimetype": "text/x-python",
   "name": "python",
   "nbconvert_exporter": "python",
   "pygments_lexer": "ipython3",
   "version": "3.7.4"
  },
  "widgets": {
   "application/vnd.jupyter.widget-state+json": {
    "state": {},
    "version_major": 2,
    "version_minor": 0
   }
  }
 },
 "nbformat": 4,
 "nbformat_minor": 4
}
