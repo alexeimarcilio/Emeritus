{
 "cells": [
  {
   "cell_type": "markdown",
   "metadata": {},
   "source": [
    "# Introduction to Git\n",
    "\n",
    "<center>\n",
    "    <img src = https://git-scm.com/images/logo@2x.png />\n",
    "    </center>"
   ]
  },
  {
   "cell_type": "markdown",
   "metadata": {},
   "source": [
    "### What is Version Control"
   ]
  },
  {
   "cell_type": "markdown",
   "metadata": {},
   "source": [
    "### Configuring Git\n",
    "\n",
    "- `git config --global user.name \"Steven Segal\"`\n",
    "- `git config --global user.email \"ssegal@aol.com\"`"
   ]
  },
  {
   "cell_type": "markdown",
   "metadata": {},
   "source": [
    "### Setting up Editor\n",
    "\n",
    "**Vim** is default -- you have decisions to make.\n",
    "\n",
    "- *nano*: `git config --global core.editor \"nano -w\"`\n",
    "- *VS code*:`git config --global core.editor \"code --wait\"`"
   ]
  },
  {
   "cell_type": "markdown",
   "metadata": {},
   "source": [
    "### Checking Configuration\n",
    "\n",
    "- `git config --list`"
   ]
  },
  {
   "cell_type": "markdown",
   "metadata": {},
   "source": [
    "### A New Project\n",
    "\n",
    "<center>\n",
    "<img src = https://upload.wikimedia.org/wikipedia/en/7/7f/Kraftwerk_-_The_Man-Machine.png width = 30%/><img src = https://upload.wikimedia.org/wikipedia/en/a/a6/Kraftwerk_-_Computer_World.png width = 30% />\n",
    "    </center>\n",
    "\n",
    "\n",
    "- `cd Desktop`\n",
    "- `mkdir kraftwerk`\n",
    "- `cd kraftwerk`"
   ]
  },
  {
   "cell_type": "markdown",
   "metadata": {},
   "source": [
    "### Starting a Git Repository\n",
    "\n",
    "- `git init`\n",
    "- `ls -a`"
   ]
  },
  {
   "cell_type": "markdown",
   "metadata": {},
   "source": [
    "**CAUTION**\n",
    "\n",
    "<div class = \"alert\">\n",
    "<ul>\n",
    "    <li>Avoid nesting repositories</li>\n",
    "    <li>Using <code>-rm</code> to delete repository</li>\n",
    "    </ul>"
   ]
  },
  {
   "cell_type": "markdown",
   "metadata": {},
   "source": [
    "- `nano manmachine.txt`\n"
   ]
  },
  {
   "cell_type": "markdown",
   "metadata": {},
   "source": [
    "`\"The Man-Machine stands as one of the pinnacles of 70's rock music\"`"
   ]
  },
  {
   "cell_type": "markdown",
   "metadata": {},
   "source": [
    "- `cat manmachine.txt`"
   ]
  },
  {
   "cell_type": "markdown",
   "metadata": {},
   "source": [
    "- `git status`"
   ]
  },
  {
   "cell_type": "markdown",
   "metadata": {},
   "source": [
    "- `git add manmachine.txt`"
   ]
  },
  {
   "cell_type": "markdown",
   "metadata": {},
   "source": [
    "- `git status`"
   ]
  },
  {
   "cell_type": "markdown",
   "metadata": {},
   "source": [
    "- `git commit -m \"Started info on manmachine\"`"
   ]
  },
  {
   "cell_type": "markdown",
   "metadata": {},
   "source": [
    "- `git status`\n",
    "- `git log`"
   ]
  },
  {
   "cell_type": "markdown",
   "metadata": {},
   "source": [
    "- `nano manmachine.txt`"
   ]
  },
  {
   "cell_type": "markdown",
   "metadata": {},
   "source": [
    "`\"Contains song THE ROBOTS where lyrics reference the revolutionary technique of robotics, and how humans can use them as they wish\"`"
   ]
  },
  {
   "cell_type": "markdown",
   "metadata": {},
   "source": [
    "- `git status`\n",
    "- `git diff`"
   ]
  },
  {
   "cell_type": "markdown",
   "metadata": {},
   "source": [
    "- `git commit -m \"Added info on THE ROBOTS lyrics\"`\n",
    "- `git status`"
   ]
  },
  {
   "cell_type": "markdown",
   "metadata": {},
   "source": [
    "- `nano manmachine.txt`\n",
    "\n",
    "`\"When the song is performed live, the band is traditionally replaced by robots that resemble themselves\"`\n",
    "\n",
    "- `git diff`"
   ]
  },
  {
   "cell_type": "markdown",
   "metadata": {},
   "source": [
    "- `git add manmachine.txt`\n",
    "- `git diff`\n",
    "- `git diff --staged`"
   ]
  },
  {
   "cell_type": "markdown",
   "metadata": {},
   "source": [
    "### Big Idea: Staging Area\n",
    "\n",
    "<img src = https://swcarpentry.github.io/git-novice/fig/git-staging-area.svg />"
   ]
  },
  {
   "cell_type": "markdown",
   "metadata": {},
   "source": [
    "##### Questions\n",
    "\n",
    "1. Create a new directory and check the status of your repository.  Add your repo to the staging area and recheck the status.  What do you notice?\n",
    "\n",
    "2. What criticism might you have about the following commit message?\n",
    "\n",
    " - `git commit -m \"changed stuff\"`\n",
    " \n",
    "3. We can add multiple files to the staging area using either wildcards or by multiple adds before a commit.  What do you think is a drawback to working on multiple files and using the command:\n",
    "\n",
    " - `git add .`\n",
    " \n",
    "4. Please do the following:\n",
    " - Create a new git repository on your computer called me. \n",
    " - Write a one sentence biography in a file called `me.txt`.\n",
    " - Commit your changes.  \n",
    " - Modify a line and display the differences between updated state and its original state."
   ]
  },
  {
   "cell_type": "markdown",
   "metadata": {},
   "source": [
    "### Tracking Changes\n",
    "\n",
    "- `git status`\n",
    "- `git add`\n",
    "- `git commit`\n",
    "- `git log`\n",
    "- `git diff`"
   ]
  },
  {
   "cell_type": "markdown",
   "metadata": {},
   "source": [
    "### Exploring History\n",
    "\n",
    "- `git diff HEAD`\n",
    "- `git diff HEAD~1 manmachine.txt`\n",
    "- `git show HEAD~2 manmachine.txt`\n",
    "- `git checkout`\n",
    "- `git diff somebiglongstring`\n"
   ]
  },
  {
   "cell_type": "markdown",
   "metadata": {},
   "source": [
    "##### HEAD\n",
    "\n",
    "- `git checkout master`"
   ]
  },
  {
   "cell_type": "markdown",
   "metadata": {},
   "source": [
    "##### PROBLEM\n",
    "\n",
    "Create a new file called `computerworld.txt` with the line of text:\n",
    "\n",
    "- `\"The album deals with the themes of the rise of computers within society.\"`\n",
    "\n",
    "Stage the changes and add a second line:\n",
    "\n",
    "- `\"The track \"Computer Love\" was released as a seven-inch single in the UK, in July 1981, backed with \"The Model\", from the group's previous album The Man-Machine. \"`\n",
    "\n",
    "Commit the changes with an appropriate message.  What would be the output of:\n",
    "\n",
    "- `git checkout HEAD computerworld.txt`\n",
    "- `cat computerworld.txt`"
   ]
  },
  {
   "cell_type": "markdown",
   "metadata": {},
   "source": [
    "What is the difference between running:\n",
    "\n",
    "- `git log`\n",
    "\n",
    "- `git log computerworld.txt`\n",
    "\n",
    "- `git log --patch HEAD~2 *.txt`"
   ]
  },
  {
   "cell_type": "markdown",
   "metadata": {},
   "source": [
    "### Setup new remote repository\n",
    "\n",
    "<img src = git_remote1.png />"
   ]
  },
  {
   "cell_type": "markdown",
   "metadata": {},
   "source": [
    "### Add Collaborator\n",
    "\n",
    "<img src = https://swcarpentry.github.io/git-novice/fig/github-add-collaborators.png />\n",
    "\n",
    "**To accept invitation**: [https://github.com/notifications](https://github.com/notifications)"
   ]
  },
  {
   "cell_type": "markdown",
   "metadata": {},
   "source": [
    "- `git clone url_for_repo *optional where to put it*`"
   ]
  },
  {
   "cell_type": "markdown",
   "metadata": {},
   "source": [
    "- Make a change to file.\n",
    "- `add`, `commit`, `push origin master`"
   ]
  },
  {
   "cell_type": "markdown",
   "metadata": {},
   "source": [
    "Owner incorporates changes: `git pull origin master`"
   ]
  },
  {
   "cell_type": "markdown",
   "metadata": {},
   "source": [
    "### Typical Workflow\n",
    "\n",
    "- Update local with remote (`git pull`)\n",
    "- Make changes, stage and commit\n",
    "- Push to remote (`git push`)"
   ]
  },
  {
   "cell_type": "markdown",
   "metadata": {},
   "source": [
    "##### PROBLEM\n",
    "\n",
    "Switch roles and repeat the pull/edit/push process."
   ]
  },
  {
   "cell_type": "markdown",
   "metadata": {},
   "source": [
    "### Conflicts and Resolution\n",
    "\n",
    "- Add a new line to a file in only one partners repository.\n",
    "- `add/commit/push`"
   ]
  },
  {
   "cell_type": "markdown",
   "metadata": {},
   "source": [
    "- Other partner make changes to same file without pulling!\n",
    "- `add/commit/push`"
   ]
  },
  {
   "cell_type": "markdown",
   "metadata": {},
   "source": [
    "- Pull down master (`git pull origin master`)\n",
    "- examine conflicted file."
   ]
  },
  {
   "cell_type": "markdown",
   "metadata": {},
   "source": [
    "- Resolve changes, `add/commit/push`"
   ]
  },
  {
   "cell_type": "markdown",
   "metadata": {},
   "source": [
    "### PROBLEM\n",
    "\n",
    "Organize the list below into an appropriate order so as to minimize the opportunity for conflicts.\n",
    "\n",
    "a. Change file computerworld.txt to include text `\"In two photos, the mannequin representing Karl Bartos is seen playing a Stylophone, an instrument which is featured on the track \"Pocket Calculator\".\"`\n",
    "\n",
    "b. Update remote repo with local changes\n",
    "\n",
    "c. Celebrate success with beers and kraftwerk soundtrack\n",
    "\n",
    "d. Update local repo based on remote\n",
    "\n",
    "e. Stage changes for commit\n",
    "\n",
    "f. Commit changes locally"
   ]
  }
 ],
 "metadata": {
  "kernelspec": {
   "display_name": "Python 3",
   "language": "python",
   "name": "python3"
  },
  "language_info": {
   "codemirror_mode": {
    "name": "ipython",
    "version": 3
   },
   "file_extension": ".py",
   "mimetype": "text/x-python",
   "name": "python",
   "nbconvert_exporter": "python",
   "pygments_lexer": "ipython3",
   "version": "3.7.4"
  },
  "widgets": {
   "application/vnd.jupyter.widget-state+json": {
    "state": {},
    "version_major": 2,
    "version_minor": 0
   }
  }
 },
 "nbformat": 4,
 "nbformat_minor": 4
}
