{
 "cells": [
  {
   "cell_type": "markdown",
   "metadata": {},
   "source": [
    "# Scope\n",
    "Not all variables are accessible from anywhere."
   ]
  },
  {
   "cell_type": "code",
   "execution_count": null,
   "metadata": {},
   "outputs": [],
   "source": [
    "x = 42 # x is defined in the GLOBAL scope of the program.\n",
    "print(x)\n",
    "\n",
    "def my_func():\n",
    "    x = 'hello' # x is defined in the LOCAL scope of the function.\n",
    "    print(x)\n",
    "\n",
    "\n",
    "result = my_func()\n",
    "\n",
    "print(x)"
   ]
  },
  {
   "cell_type": "code",
   "execution_count": null,
   "metadata": {},
   "outputs": [],
   "source": [
    "# Built-in scope\n",
    "numbers = [6, 3, 4, 2, 5, 7]\n",
    "\n",
    "print(sum(numbers))\n",
    "\n",
    "def sum(numbers): # Don't do that in real life!\n",
    "    return 'wrong function'\n",
    "\n",
    "print(sum(numbers))\n",
    "\n",
    "print(__builtin__.sum(numbers)) # Don't worry! We still can access the original function.\n",
    "\n",
    "del sum # We can delete our function.\n",
    "print(sum(numbers))"
   ]
  },
  {
   "cell_type": "code",
   "execution_count": null,
   "metadata": {},
   "outputs": [],
   "source": [
    "del type # We can't delete built-in functions. Don't worry ;)"
   ]
  },
  {
   "cell_type": "markdown",
   "metadata": {},
   "source": [
    "## The _global_ keyword\n",
    "Don't use it."
   ]
  },
  {
   "cell_type": "code",
   "execution_count": null,
   "metadata": {},
   "outputs": [],
   "source": [
    "i = 0"
   ]
  },
  {
   "cell_type": "code",
   "execution_count": null,
   "metadata": {},
   "outputs": [],
   "source": [
    "# Bad! Functions with side-effects are considered bad practice.\n",
    "def update():\n",
    "    global i # When we write this, baby unicorns cry.\n",
    "    i += 1\n",
    "\n",
    "update()\n",
    "print(i)"
   ]
  },
  {
   "cell_type": "code",
   "execution_count": null,
   "metadata": {},
   "outputs": [],
   "source": [
    "# Good! We are explicitly accessing and modifying \"i\".\n",
    "def update(i):\n",
    "    return i + 1\n",
    "\n",
    "i = update(i)\n",
    "print(i)"
   ]
  },
  {
   "cell_type": "markdown",
   "metadata": {},
   "source": [
    "### _Explicit is better than implicit._\n",
    "#### _Although practicality beats purity._\n",
    "[The Zen of Python](http://www.thezenofpython.com/)"
   ]
  },
  {
   "cell_type": "markdown",
   "metadata": {},
   "source": [
    "# Nested functions\n",
    "Most useful when we want to *hide* a function.\n",
    "\n",
    "They work *exactly* as normal functions, but with a **local scope**."
   ]
  },
  {
   "cell_type": "code",
   "execution_count": null,
   "metadata": {},
   "outputs": [],
   "source": [
    "def scramble(numbers):\n",
    "    def update(n):\n",
    "        if n % 2: # Is odd?\n",
    "            return n * 3 + 1\n",
    "        else:\n",
    "            return n // 2 # Floor division.\n",
    "    \n",
    "    result = [] # Or list comprehension, I know.\n",
    "    for n in numbers:\n",
    "        result.append(update(n))\n",
    "    \n",
    "    return result\n",
    "\n",
    "scramble(range(20))"
   ]
  },
  {
   "cell_type": "code",
   "execution_count": null,
   "metadata": {},
   "outputs": [],
   "source": [
    "# Recursive functions.\n",
    "def reverse(n):\n",
    "    print(n)\n",
    "    n = n - 1\n",
    "    if n >= 0:\n",
    "        reverse(n)\n",
    "    \n",
    "reverse(5)"
   ]
  },
  {
   "cell_type": "markdown",
   "metadata": {},
   "source": [
    "### _Flat is better than nested._\n",
    "[The Zen of Python](http://www.thezenofpython.com/)"
   ]
  },
  {
   "cell_type": "markdown",
   "metadata": {},
   "source": [
    "# Default and flexible arguments\n",
    "Default arguments are a very goood idea: the function is easier to use, but still can be tweaked."
   ]
  },
  {
   "cell_type": "code",
   "execution_count": null,
   "metadata": {},
   "outputs": [],
   "source": [
    "# Specifying default values of some parameters.\n",
    "def breakfast(menu, which=0, how_many=1):\n",
    "    # Order the breakfast\n",
    "    for i in range(how_many):\n",
    "        print(menu[which] + '!')\n",
    "\n",
    "menu = ['spam', 'eggs', 'ice cream']\n",
    "\n",
    "breakfast(menu)\n",
    "#breakfast(menu, which=1, how_many=3)"
   ]
  },
  {
   "cell_type": "code",
   "execution_count": null,
   "metadata": {},
   "outputs": [],
   "source": [
    "def breakfast(*menu, which=0, how_many=1): # This creates a tuple!\n",
    "    #print(type(menu))\n",
    "           \n",
    "    # Order the breakfast\n",
    "    for i in range(how_many):\n",
    "        print(menu[which] + '!')\n",
    "\n",
    "breakfast('spam', 'eggs', 'ice cream')"
   ]
  },
  {
   "cell_type": "markdown",
   "metadata": {},
   "source": [
    "A ** before the parameter name creates a dictionary instead."
   ]
  },
  {
   "cell_type": "markdown",
   "metadata": {},
   "source": [
    "# Error and exception handling"
   ]
  },
  {
   "cell_type": "code",
   "execution_count": null,
   "metadata": {},
   "outputs": [],
   "source": [
    "def breakfast(menu, which=0, how_many=1):\n",
    "    # Argument check.\n",
    "    if not type(menu) in (list, tuple):\n",
    "        raise TypeError('The menu must be a \"list\" of dishes.')\n",
    "        \n",
    "    for dish in menu:\n",
    "        if type(dish) != str:\n",
    "            raise TypeError('Dishes must be \"strings\".')\n",
    "        \n",
    "    if which < 0 or which >= len(menu):\n",
    "        raise ValueError('Make sure you select a dish from the menu.')\n",
    "        \n",
    "    if how_many == 0:\n",
    "        raise ValueError('You can\\'t stay in this restaurant without ordering!')  \n",
    "    elif how_many < 0:\n",
    "        raise ValueError('You can\\'t order a negative number of things!')\n",
    "        \n",
    "    #try:\n",
    "    #    assert how_many > 0\n",
    "    #except AssertionError:\n",
    "    #    print('Please order a natural number of things.')\n",
    "    #    return\n",
    "    \n",
    "    # Order the breakfast\n",
    "    try:\n",
    "        for i in range(how_many):\n",
    "            print(menu[which] + '!')\n",
    "    except:\n",
    "        print('Oops, something went wrong!')\n",
    "        \n",
    "menu = ['spam', 'eggs', 'ice cream']\n",
    "breakfast(menu)"
   ]
  },
  {
   "cell_type": "markdown",
   "metadata": {},
   "source": [
    "### _Errors should never pass silently._\n",
    "#### _Unless explicitly silenced._\n",
    "[The Zen of Python](http://www.thezenofpython.com/)"
   ]
  },
  {
   "cell_type": "markdown",
   "metadata": {},
   "source": [
    "# Lambda functions\n",
    "They accept only *one* line! They don't use *return*! They don't have *parentheses*! They are *just weirder*!\n",
    "\n",
    "Normally used to create *disposable* one-liner functions without name. We \"define\" and call them one go."
   ]
  },
  {
   "cell_type": "code",
   "execution_count": null,
   "metadata": {},
   "outputs": [],
   "source": [
    "# Why do this?\n",
    "foo = lambda x: print(x)\n",
    "\n",
    "# When we have this.\n",
    "def foo(x):\n",
    "    print(x)"
   ]
  },
  {
   "cell_type": "code",
   "execution_count": null,
   "metadata": {},
   "outputs": [],
   "source": [
    "# Some functions accept other functions as arguments.\n",
    "def square(x):\n",
    "    return x**2\n",
    "squares = map(square, range(10)) # Explicit is better than implicit.\n",
    "print(list(squares))\n",
    "\n",
    "squares = map(lambda x: x**2, range(10))\n",
    "print(list(squares))\n",
    "\n",
    "# The above example is equivalent to this. The map function is very simple.\n",
    "squares = [x**2 for x in range(10)]\n",
    "print(squares)"
   ]
  },
  {
   "cell_type": "code",
   "execution_count": null,
   "metadata": {},
   "outputs": [],
   "source": [
    "# More complex example.\n",
    "def lambda_conf(n):\n",
    "    return lambda a: a * n # It's returning a function! Not calling it!\n",
    "\n",
    "my_lambda = lambda_conf(2)\n",
    "print(type(my_lambda))\n",
    "''' Now, my_lambda is equivalent to:\n",
    "\n",
    "def my_lambda(a):\n",
    "    return a * 2\n",
    "'''\n",
    "\n",
    "print(my_lambda(42))"
   ]
  },
  {
   "cell_type": "markdown",
   "metadata": {},
   "source": [
    "### _There should be one-- and preferably only one --obvious way to do it._\n",
    "#### _Although that way may not be obvious at first unless you're Dutch._\n",
    "[The Zen of Python](http://www.thezenofpython.com/)"
   ]
  }
 ],
 "metadata": {
  "kernelspec": {
   "display_name": "Python 3",
   "language": "python",
   "name": "python3"
  },
  "language_info": {
   "codemirror_mode": {
    "name": "ipython",
    "version": 3
   },
   "file_extension": ".py",
   "mimetype": "text/x-python",
   "name": "python",
   "nbconvert_exporter": "python",
   "pygments_lexer": "ipython3",
   "version": "3.6.10"
  }
 },
 "nbformat": 4,
 "nbformat_minor": 4
}
