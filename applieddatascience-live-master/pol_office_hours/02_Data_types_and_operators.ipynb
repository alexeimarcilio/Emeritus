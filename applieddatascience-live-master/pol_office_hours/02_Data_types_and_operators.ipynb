{
 "cells": [
  {
   "cell_type": "markdown",
   "metadata": {},
   "source": [
    "# A note on markdown\n",
    "\n",
    "### You can format text in different ways\n",
    "\n",
    "You can have [links](https://www.markdownguide.org/cheat-sheet), `pieces of code`, **bold** and *italic* text, and so on.\n",
    "\n",
    "### You can have lists\n",
    "\n",
    "- This is a list item\n",
    "- This is another list item\n",
    "    - nested item1\n",
    "    - nested item2\n",
    "\n",
    "\n",
    "1. Instead, this is an ordered list item\n",
    "2. And this is another one\n",
    "    1. asdad\n",
    "    2. qweqwe\n",
    "\n",
    "Even TODO lists:\n",
    "- [ ] You can see the tasks already done.\n",
    "- [x] And which ones still need your attention.\n",
    "\n",
    "\n",
    "---\n",
    "\n",
    "There's a nice cheat sheet here:\n",
    "https://www.markdownguide.org/cheat-sheet"
   ]
  },
  {
   "cell_type": "markdown",
   "metadata": {},
   "source": [
    "# Intro to Python\n",
    "\n",
    "Python is an *interpreted* language.\n",
    "\n",
    "The Python interpreter will read the code, line by line, and evaluate every expression."
   ]
  },
  {
   "cell_type": "code",
   "execution_count": null,
   "metadata": {},
   "outputs": [],
   "source": [
    "# This will print hello world.\n",
    "print('Hello, world!')"
   ]
  },
  {
   "cell_type": "code",
   "execution_count": null,
   "metadata": {},
   "outputs": [],
   "source": [
    "'Hello, world!'"
   ]
  },
  {
   "cell_type": "code",
   "execution_count": null,
   "metadata": {},
   "outputs": [],
   "source": [
    "3 + 5"
   ]
  },
  {
   "cell_type": "code",
   "execution_count": null,
   "metadata": {},
   "outputs": [],
   "source": [
    "print('Hello, world!')\n",
    "print(3 + 5)"
   ]
  },
  {
   "cell_type": "code",
   "execution_count": null,
   "metadata": {},
   "outputs": [],
   "source": [
    "x = 2\n",
    "print(x + 3)"
   ]
  },
  {
   "cell_type": "markdown",
   "metadata": {},
   "source": [
    "## Defining variables\n",
    "Variables are \"like\" names used store data."
   ]
  },
  {
   "cell_type": "code",
   "execution_count": null,
   "metadata": {},
   "outputs": [],
   "source": [
    "x = 3\n",
    "y = 5\n",
    "x + y"
   ]
  },
  {
   "cell_type": "code",
   "execution_count": null,
   "metadata": {},
   "outputs": [],
   "source": [
    "result = x + y\n",
    "print(result)"
   ]
  },
  {
   "cell_type": "markdown",
   "metadata": {},
   "source": [
    "## Basic data types"
   ]
  },
  {
   "cell_type": "markdown",
   "metadata": {},
   "source": [
    "- Integers\n",
    "- Floats\n",
    "- Strings\n",
    "- Booleans"
   ]
  },
  {
   "cell_type": "code",
   "execution_count": null,
   "metadata": {},
   "outputs": [],
   "source": [
    "example_int = 42\n",
    "example_float = 42.868648326483246823764\n",
    "example_string = 'Python'\n",
    "example_bool = False"
   ]
  },
  {
   "cell_type": "code",
   "execution_count": null,
   "metadata": {},
   "outputs": [],
   "source": [
    "x = False\n",
    "y = False\n",
    "\n",
    "# custom xor operand\n",
    "(x or y) and not (x and y)\n",
    "\n",
    "# or a simpler version\n",
    "not x == y"
   ]
  },
  {
   "cell_type": "markdown",
   "metadata": {},
   "source": [
    "# Operators\n",
    "\n",
    "## Comparison\n",
    "\n",
    "Take **2** operands, return a `Bool`.\n",
    "\n",
    "- `x > y`\n",
    "- `x < y`\n",
    "- `x >= y`\n",
    "- `x <= y`\n",
    "- `x == y`\n",
    "- `x != y`\n",
    " \n",
    "## Logical\n",
    "Take **2 `Bool`** operands, return another `Bool`.\n",
    "\n",
    "- `x and y`\n",
    "- `x or y`\n",
    "- `not x`\n",
    "\n",
    "Operator | X         | Y         | Result\n",
    "---------|-----------|-----------|-------\n",
    "AND      | True      | True      | True\n",
    "         | True      | False     | False\n",
    "         | False     | True      | False\n",
    "         | False     | False     | False\n",
    "OR       | True      | True      | True\n",
    "         | True      | False     | True\n",
    "         | False     | True      | True\n",
    "         | False     | False     | False\n",
    "NOT      | True      | -         | False\n",
    "         | False     | -         | True\n",
    "         \n",
    "\n",
    "### Operator precedence\n",
    "\n",
    "What will this evaluate to? `not 3 + 5 and True > False`\n",
    "\n",
    "https://www.tutorialspoint.com/python/operators_precedence_example.htm"
   ]
  },
  {
   "cell_type": "code",
   "execution_count": null,
   "metadata": {},
   "outputs": [],
   "source": [
    "not 3 + 5 and True > False"
   ]
  },
  {
   "cell_type": "code",
   "execution_count": null,
   "metadata": {},
   "outputs": [],
   "source": [
    "2 + 3 > 1 + 1"
   ]
  },
  {
   "cell_type": "code",
   "execution_count": null,
   "metadata": {},
   "outputs": [],
   "source": [
    "2 + 3 * 4"
   ]
  },
  {
   "cell_type": "markdown",
   "metadata": {},
   "source": [
    "# Lists\n",
    "\n",
    "They store ordered data, and can be modified (they are mutable)."
   ]
  },
  {
   "cell_type": "code",
   "execution_count": null,
   "metadata": {},
   "outputs": [],
   "source": [
    "x = [1, 2.675656, 3, 'foo', 'bar', 3 + 5, ['x', 'y']]\n",
    "print(x)"
   ]
  },
  {
   "cell_type": "code",
   "execution_count": null,
   "metadata": {},
   "outputs": [],
   "source": [
    "# In most programming languages (Python included), we start counting at 0.\n",
    "x[0]\n",
    "x[len(x) - 1]\n",
    "x[-1]\n",
    "x[0:3]\n",
    "x[:3]\n",
    "x[4:len(x)]\n",
    "x[4:] # The last elements of my list.\n",
    "x[-3:-1]\n",
    "\n",
    "x[1:5:2]\n",
    "x[::-1]\n",
    "\n",
    "# Change values from the list\n",
    "# x[3] = 4\n",
    "# del x[3]\n",
    "\n",
    "# Lists are \"mutable\". Not all data structures (like tuples) are."
   ]
  },
  {
   "cell_type": "code",
   "execution_count": null,
   "metadata": {},
   "outputs": [],
   "source": [
    "x[::-1]"
   ]
  },
  {
   "cell_type": "code",
   "execution_count": null,
   "metadata": {},
   "outputs": [],
   "source": [
    "y = [7]\n",
    "x + y"
   ]
  },
  {
   "cell_type": "code",
   "execution_count": null,
   "metadata": {},
   "outputs": [],
   "source": [
    "'Monty' + ' Python' "
   ]
  },
  {
   "cell_type": "markdown",
   "metadata": {},
   "source": [
    "# Tuples\n",
    "\n",
    "Like lists, but immutables. Faster!"
   ]
  },
  {
   "cell_type": "code",
   "execution_count": null,
   "metadata": {},
   "outputs": [],
   "source": [
    "t = (1, 'hello', 3)\n",
    "first, second, third = t # tuple unpacking\n",
    "print(t[1])"
   ]
  },
  {
   "cell_type": "code",
   "execution_count": null,
   "metadata": {},
   "outputs": [],
   "source": [
    "l = [1, 2, 3]\n",
    "first, second, third = t # lists can also be unpacked\n",
    "first\n",
    "# Any 'iterable' can be unpacked in python"
   ]
  },
  {
   "cell_type": "markdown",
   "metadata": {},
   "source": [
    "# Dictionaries\n",
    "\n",
    "IRL, dictionaries store data in a **key: value** format:\n",
    "\n",
    "    word_1: description_1\n",
    "    word_2: description_2\n",
    "    .\n",
    "    .\n",
    "    .\n",
    "    word_N: description_N\n",
    "\n",
    "However, in Python, dictionaries have an arbitrary order, they are accessed by **key**."
   ]
  },
  {
   "cell_type": "code",
   "execution_count": null,
   "metadata": {},
   "outputs": [],
   "source": [
    "age = {'Alice': 23,\n",
    "       'Bob': 34,\n",
    "       'Claire': 45,\n",
    "      1:2,\n",
    "      2:'a'}"
   ]
  },
  {
   "cell_type": "code",
   "execution_count": null,
   "metadata": {},
   "outputs": [],
   "source": [
    "age['Bob']"
   ]
  },
  {
   "cell_type": "code",
   "execution_count": null,
   "metadata": {},
   "outputs": [],
   "source": [
    "age['Alice'] # Error, but..."
   ]
  },
  {
   "cell_type": "code",
   "execution_count": null,
   "metadata": {},
   "outputs": [],
   "source": [
    "for key in age:\n",
    "    print(key)"
   ]
  },
  {
   "cell_type": "code",
   "execution_count": null,
   "metadata": {},
   "outputs": [],
   "source": [
    "age['key'] = 123"
   ]
  },
  {
   "cell_type": "code",
   "execution_count": null,
   "metadata": {},
   "outputs": [],
   "source": [
    "print(age)"
   ]
  },
  {
   "cell_type": "code",
   "execution_count": null,
   "metadata": {},
   "outputs": [],
   "source": [
    "age['not exists']"
   ]
  },
  {
   "cell_type": "markdown",
   "metadata": {},
   "source": [
    "# Extra: be Pythonic"
   ]
  },
  {
   "cell_type": "code",
   "execution_count": null,
   "metadata": {},
   "outputs": [],
   "source": [
    "import this"
   ]
  }
 ],
 "metadata": {
  "kernelspec": {
   "display_name": "Python 3",
   "language": "python",
   "name": "python3"
  },
  "language_info": {
   "codemirror_mode": {
    "name": "ipython",
    "version": 3
   },
   "file_extension": ".py",
   "mimetype": "text/x-python",
   "name": "python",
   "nbconvert_exporter": "python",
   "pygments_lexer": "ipython3",
   "version": "3.6.10"
  }
 },
 "nbformat": 4,
 "nbformat_minor": 2
}
