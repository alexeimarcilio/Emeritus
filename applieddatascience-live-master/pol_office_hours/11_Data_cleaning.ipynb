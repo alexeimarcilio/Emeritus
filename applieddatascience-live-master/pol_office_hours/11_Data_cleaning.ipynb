{
 "cells": [
  {
   "cell_type": "code",
   "execution_count": 22,
   "metadata": {},
   "outputs": [
    {
     "name": "stdout",
     "output_type": "stream",
     "text": [
      " 02_Data_types_and_operators.ipynb\r\n",
      " 03_Functions.ipynb\r\n",
      " 04_Data_science_packages.ipynb\r\n",
      " 05_Advanced_functions.ipynb\r\n",
      " 06_Data_manipulation_and_analysis.ipynb\r\n",
      " 07_Data_visualization.ipynb\r\n",
      " 08_Probability.ipynb\r\n",
      " 09_Distributions.ipynb\r\n",
      " 10_Organizing_and_analyzing_data.ipynb\r\n",
      " 11_Data_cleaning.ipynb\r\n",
      "'January 3-10, 2018 - Core Trends Survey - CSV.csv'\r\n"
     ]
    }
   ],
   "source": [
    "!ls"
   ]
  },
  {
   "cell_type": "code",
   "execution_count": 23,
   "metadata": {},
   "outputs": [],
   "source": [
    "import numpy as np\n",
    "import pandas as pd"
   ]
  },
  {
   "cell_type": "code",
   "execution_count": 24,
   "metadata": {},
   "outputs": [
    {
     "name": "stderr",
     "output_type": "stream",
     "text": [
      "/home/alexei/ds/eme/pro/my_project_env/lib/python3.6/site-packages/IPython/core/interactiveshell.py:3063: DtypeWarning: Columns (4) have mixed types.Specify dtype option on import or set low_memory=False.\n",
      "  interactivity=interactivity, compiler=compiler, result=result)\n"
     ]
    }
   ],
   "source": [
    "nyc = pd.read_csv('nyc_311_data_subset-2.csv')"
   ]
  },
  {
   "cell_type": "code",
   "execution_count": 25,
   "metadata": {},
   "outputs": [
    {
     "data": {
      "text/html": [
       "<div>\n",
       "<style scoped>\n",
       "    .dataframe tbody tr th:only-of-type {\n",
       "        vertical-align: middle;\n",
       "    }\n",
       "\n",
       "    .dataframe tbody tr th {\n",
       "        vertical-align: top;\n",
       "    }\n",
       "\n",
       "    .dataframe thead th {\n",
       "        text-align: right;\n",
       "    }\n",
       "</style>\n",
       "<table border=\"1\" class=\"dataframe\">\n",
       "  <thead>\n",
       "    <tr style=\"text-align: right;\">\n",
       "      <th></th>\n",
       "      <th>Unique Key</th>\n",
       "      <th>Created Date</th>\n",
       "      <th>Closed Date</th>\n",
       "      <th>Agency</th>\n",
       "      <th>Incident Zip</th>\n",
       "      <th>Borough</th>\n",
       "      <th>Latitude</th>\n",
       "      <th>Longitude</th>\n",
       "    </tr>\n",
       "  </thead>\n",
       "  <tbody>\n",
       "    <tr>\n",
       "      <th>0</th>\n",
       "      <td>1</td>\n",
       "      <td>10/11/2016 11:53:00 AM</td>\n",
       "      <td>10/11/2016 12:00:00 PM</td>\n",
       "      <td>DSNY</td>\n",
       "      <td>NaN</td>\n",
       "      <td>QUEENS</td>\n",
       "      <td>NaN</td>\n",
       "      <td>NaN</td>\n",
       "    </tr>\n",
       "    <tr>\n",
       "      <th>1</th>\n",
       "      <td>1</td>\n",
       "      <td>10/11/2016 11:36:00 AM</td>\n",
       "      <td>10/11/2016 12:00:00 PM</td>\n",
       "      <td>DSNY</td>\n",
       "      <td>NaN</td>\n",
       "      <td>QUEENS</td>\n",
       "      <td>NaN</td>\n",
       "      <td>NaN</td>\n",
       "    </tr>\n",
       "    <tr>\n",
       "      <th>2</th>\n",
       "      <td>1</td>\n",
       "      <td>10/11/2016 11:36:00 AM</td>\n",
       "      <td>10/11/2016 12:00:00 PM</td>\n",
       "      <td>DSNY</td>\n",
       "      <td>NaN</td>\n",
       "      <td>QUEENS</td>\n",
       "      <td>NaN</td>\n",
       "      <td>NaN</td>\n",
       "    </tr>\n",
       "    <tr>\n",
       "      <th>3</th>\n",
       "      <td>1</td>\n",
       "      <td>10/11/2016 12:39:00 PM</td>\n",
       "      <td>10/11/2016 12:39:00 PM</td>\n",
       "      <td>DSNY</td>\n",
       "      <td>NaN</td>\n",
       "      <td>QUEENS</td>\n",
       "      <td>NaN</td>\n",
       "      <td>NaN</td>\n",
       "    </tr>\n",
       "    <tr>\n",
       "      <th>4</th>\n",
       "      <td>1</td>\n",
       "      <td>10/11/2016 12:18:00 PM</td>\n",
       "      <td>10/11/2016 12:18:00 PM</td>\n",
       "      <td>DSNY</td>\n",
       "      <td>NaN</td>\n",
       "      <td>QUEENS</td>\n",
       "      <td>NaN</td>\n",
       "      <td>NaN</td>\n",
       "    </tr>\n",
       "  </tbody>\n",
       "</table>\n",
       "</div>"
      ],
      "text/plain": [
       "   Unique Key            Created Date             Closed Date Agency  \\\n",
       "0           1  10/11/2016 11:53:00 AM  10/11/2016 12:00:00 PM   DSNY   \n",
       "1           1  10/11/2016 11:36:00 AM  10/11/2016 12:00:00 PM   DSNY   \n",
       "2           1  10/11/2016 11:36:00 AM  10/11/2016 12:00:00 PM   DSNY   \n",
       "3           1  10/11/2016 12:39:00 PM  10/11/2016 12:39:00 PM   DSNY   \n",
       "4           1  10/11/2016 12:18:00 PM  10/11/2016 12:18:00 PM   DSNY   \n",
       "\n",
       "  Incident Zip Borough  Latitude  Longitude  \n",
       "0          NaN  QUEENS       NaN        NaN  \n",
       "1          NaN  QUEENS       NaN        NaN  \n",
       "2          NaN  QUEENS       NaN        NaN  \n",
       "3          NaN  QUEENS       NaN        NaN  \n",
       "4          NaN  QUEENS       NaN        NaN  "
      ]
     },
     "execution_count": 25,
     "metadata": {},
     "output_type": "execute_result"
    }
   ],
   "source": [
    "nyc.head()"
   ]
  },
  {
   "cell_type": "code",
   "execution_count": 26,
   "metadata": {},
   "outputs": [
    {
     "name": "stdout",
     "output_type": "stream",
     "text": [
      "<class 'pandas.core.frame.DataFrame'>\n",
      "RangeIndex: 971063 entries, 0 to 971062\n",
      "Data columns (total 8 columns):\n",
      " #   Column        Non-Null Count   Dtype  \n",
      "---  ------        --------------   -----  \n",
      " 0   Unique Key    971063 non-null  int64  \n",
      " 1   Created Date  971063 non-null  object \n",
      " 2   Closed Date   882944 non-null  object \n",
      " 3   Agency        971063 non-null  object \n",
      " 4   Incident Zip  911140 non-null  object \n",
      " 5   Borough       971063 non-null  object \n",
      " 6   Latitude      887284 non-null  float64\n",
      " 7   Longitude     887284 non-null  float64\n",
      "dtypes: float64(2), int64(1), object(5)\n",
      "memory usage: 59.3+ MB\n"
     ]
    }
   ],
   "source": [
    "nyc.info()"
   ]
  },
  {
   "cell_type": "code",
   "execution_count": 27,
   "metadata": {},
   "outputs": [
    {
     "name": "stdout",
     "output_type": "stream",
     "text": [
      "[1]\n"
     ]
    }
   ],
   "source": [
    "print(nyc['Unique Key'].unique())\n",
    "del nyc['Unique Key']"
   ]
  },
  {
   "cell_type": "code",
   "execution_count": 28,
   "metadata": {},
   "outputs": [
    {
     "data": {
      "text/html": [
       "<div>\n",
       "<style scoped>\n",
       "    .dataframe tbody tr th:only-of-type {\n",
       "        vertical-align: middle;\n",
       "    }\n",
       "\n",
       "    .dataframe tbody tr th {\n",
       "        vertical-align: top;\n",
       "    }\n",
       "\n",
       "    .dataframe thead th {\n",
       "        text-align: right;\n",
       "    }\n",
       "</style>\n",
       "<table border=\"1\" class=\"dataframe\">\n",
       "  <thead>\n",
       "    <tr style=\"text-align: right;\">\n",
       "      <th></th>\n",
       "      <th>Created Date</th>\n",
       "      <th>Closed Date</th>\n",
       "      <th>Agency</th>\n",
       "      <th>Incident Zip</th>\n",
       "      <th>Borough</th>\n",
       "      <th>Latitude</th>\n",
       "      <th>Longitude</th>\n",
       "    </tr>\n",
       "  </thead>\n",
       "  <tbody>\n",
       "    <tr>\n",
       "      <th>0</th>\n",
       "      <td>10/11/2016 11:53:00 AM</td>\n",
       "      <td>10/11/2016 12:00:00 PM</td>\n",
       "      <td>DSNY</td>\n",
       "      <td>NaN</td>\n",
       "      <td>QUEENS</td>\n",
       "      <td>NaN</td>\n",
       "      <td>NaN</td>\n",
       "    </tr>\n",
       "    <tr>\n",
       "      <th>1</th>\n",
       "      <td>10/11/2016 11:36:00 AM</td>\n",
       "      <td>10/11/2016 12:00:00 PM</td>\n",
       "      <td>DSNY</td>\n",
       "      <td>NaN</td>\n",
       "      <td>QUEENS</td>\n",
       "      <td>NaN</td>\n",
       "      <td>NaN</td>\n",
       "    </tr>\n",
       "    <tr>\n",
       "      <th>2</th>\n",
       "      <td>10/11/2016 11:36:00 AM</td>\n",
       "      <td>10/11/2016 12:00:00 PM</td>\n",
       "      <td>DSNY</td>\n",
       "      <td>NaN</td>\n",
       "      <td>QUEENS</td>\n",
       "      <td>NaN</td>\n",
       "      <td>NaN</td>\n",
       "    </tr>\n",
       "    <tr>\n",
       "      <th>3</th>\n",
       "      <td>10/11/2016 12:39:00 PM</td>\n",
       "      <td>10/11/2016 12:39:00 PM</td>\n",
       "      <td>DSNY</td>\n",
       "      <td>NaN</td>\n",
       "      <td>QUEENS</td>\n",
       "      <td>NaN</td>\n",
       "      <td>NaN</td>\n",
       "    </tr>\n",
       "    <tr>\n",
       "      <th>4</th>\n",
       "      <td>10/11/2016 12:18:00 PM</td>\n",
       "      <td>10/11/2016 12:18:00 PM</td>\n",
       "      <td>DSNY</td>\n",
       "      <td>NaN</td>\n",
       "      <td>QUEENS</td>\n",
       "      <td>NaN</td>\n",
       "      <td>NaN</td>\n",
       "    </tr>\n",
       "  </tbody>\n",
       "</table>\n",
       "</div>"
      ],
      "text/plain": [
       "             Created Date             Closed Date Agency Incident Zip Borough  \\\n",
       "0  10/11/2016 11:53:00 AM  10/11/2016 12:00:00 PM   DSNY          NaN  QUEENS   \n",
       "1  10/11/2016 11:36:00 AM  10/11/2016 12:00:00 PM   DSNY          NaN  QUEENS   \n",
       "2  10/11/2016 11:36:00 AM  10/11/2016 12:00:00 PM   DSNY          NaN  QUEENS   \n",
       "3  10/11/2016 12:39:00 PM  10/11/2016 12:39:00 PM   DSNY          NaN  QUEENS   \n",
       "4  10/11/2016 12:18:00 PM  10/11/2016 12:18:00 PM   DSNY          NaN  QUEENS   \n",
       "\n",
       "   Latitude  Longitude  \n",
       "0       NaN        NaN  \n",
       "1       NaN        NaN  \n",
       "2       NaN        NaN  \n",
       "3       NaN        NaN  \n",
       "4       NaN        NaN  "
      ]
     },
     "execution_count": 28,
     "metadata": {},
     "output_type": "execute_result"
    }
   ],
   "source": [
    "nyc.head()"
   ]
  },
  {
   "cell_type": "markdown",
   "metadata": {},
   "source": [
    "# Bad data\n",
    "\n",
    "## Transforming bad data\n",
    "The \"Incident Zip\" column contains lots of bad data."
   ]
  },
  {
   "cell_type": "code",
   "execution_count": 29,
   "metadata": {},
   "outputs": [
    {
     "data": {
      "text/plain": [
       "array([nan, '10001', '11691', '11211', '10027', '10452', '11428', '11101',\n",
       "       '10075', '11215', '11210', '11231', '11217', '10457', '10033',\n",
       "       '11209', '11201', '11367', '10029', '10021', '10028', '10034',\n",
       "       '10032', '10039', '11414', '10461', '11229', '10462', '11223',\n",
       "       '10023', '10453', '11225', '11219', '10451', '11234', '10014',\n",
       "       '11354', '11361', '10468', '11233', '10466', '11204', '11413',\n",
       "       '11224', '11375', '11040', '11232', '11203', '11205', '11434',\n",
       "       '10011', '10003', '10025', '10013', '10036', '11237', '11355',\n",
       "       '11368', '10454', '10456', '10463', '11222', '11228', '11216',\n",
       "       '10128', '11435', '11419', '11358', '11421', '10019', '11238',\n",
       "       '11213', '11235', '11420', '10038', '11226', '10472', '10016',\n",
       "       '11221', '11236', '11436', '11214', '11377', '11385', '11365',\n",
       "       '10312', '11426', '11373', '11218', '10005', '11230', '10026',\n",
       "       '10473', '10280', '10301', '10309', '10310', '10009', '10002',\n",
       "       '11433', '10020', '11357', '10030', '11378', '11249', '11432',\n",
       "       '11212', '10024', '10035', '11429', '11206', '11372', '10471',\n",
       "       '10119', '10307', '11364', '11103', '10017', '10012', '11105',\n",
       "       '10458', '10018', '11374', '10459', '10314', '10037', '10302',\n",
       "       '10040', '11411', '11692', '10303', '11418', '10031', '11220',\n",
       "       '11427', '10465', '10306', '10010', '10460', '10305', '11207',\n",
       "       '11208', '10474', '11417', '10475', '10455', '11416', '10065',\n",
       "       '11363', '11693', '10308', '11356', '10469', '11369', '10470',\n",
       "       '10467', '10007', '10304', '11366', '11694', '11102', '11423',\n",
       "       '11422', '19044', '11412', '10022', '11379', '11251', '30374-0283',\n",
       "       '11004', '11104', '10004', '11362', '11360', '11109', '07047',\n",
       "       '11590', '11001', '11430', '11106', '10464', '43216', '11370',\n",
       "       '10271', '11239', '11415', '10006', '10121', '10177', '11030-3409',\n",
       "       '10069', '07302', '0000', '10044', '10282', '10000', '11743',\n",
       "       '10178', '07114', '07410', '13851', '10169', '11697', '10168',\n",
       "       '10538', '10123', '11516', '10174', '10278', '11598', '10112',\n",
       "       '10605', 'UNKNOWN', '10172', '11570', '07105', '11561', '11576',\n",
       "       '10162', '10281', '10151', '220194', '99999', '00083', '44087',\n",
       "       '10472.0', '10039.0', '10471.0', '11372.0', '11377.0', '11354.0',\n",
       "       '10453.0', '10304.0', '11235.0', '10307.0', '11361.0', '11218.0',\n",
       "       '11219.0', '10302.0', '10035.0', '11233.0', '10019.0', '10037.0',\n",
       "       '11385.0', '10075.0', '10040.0', '10458.0', '11223.0', '10462.0',\n",
       "       '11104.0', '11420.0', '10474.0', '11229.0', '11226.0', '10456.0',\n",
       "       '10468.0', '10467.0', '10002.0', '11208.0', '10460.0', '11212.0',\n",
       "       '10032.0', '11204.0', '11207.0', '11214.0', '11363.0', '11422.0',\n",
       "       '11434.0', '10457.0', '10028.0', '10452.0', '10009.0', '11432.0',\n",
       "       '11213.0', '10465.0', '11209.0', '10033.0', '11379.0', '11216.0',\n",
       "       '11249.0', '10031.0', '11418.0', '11414.0', '10034.0', '11230.0',\n",
       "       '11692.0', '11210.0', '11217.0', '11201.0', '10128.0', '10010.0',\n",
       "       '11215.0', '11211.0', '11375.0', '11419.0', '10469.0', '11423.0',\n",
       "       '11106.0', '11220.0', '10069.0', '10306.0', '10301.0', '11369.0',\n",
       "       '10027.0', '10312.0', '10309.0', '11427.0', '11691.0', '11417.0',\n",
       "       '11416.0', '11234.0', '11236.0', '10455.0', '11105.0', '11228.0',\n",
       "       '10029.0', '10011.0', '10007.0', '11237.0', '11231.0', '10303.0',\n",
       "       '11357.0', '11415.0', '10001.0', '11203.0', '10451.0', '10314.0',\n",
       "       '10021.0', '11225.0', '10463.0', '11426.0', '11206.0', '11103.0',\n",
       "       '11222.0', '10461.0', '10030.0', '10470.0', '11373.0', '10466.0',\n",
       "       '11412.0', '10026.0', '10308.0', '10012.0', '10025.0', '11238.0',\n",
       "       '11366.0', '10459.0', '10005.0', '11364.0', '11368.0', '10473.0',\n",
       "       '11232.0', '11378.0', '10305.0', '10454.0', '10282.0', '11101.0',\n",
       "       '11221.0', '10014.0', '10016.0', '11356.0', '10003.0', '11429.0',\n",
       "       '11413.0', '10022.0', '10013.0', '11365.0', '11367.0', '11694.0',\n",
       "       '11411.0', '11433.0', '11355.0', '11421.0', '10036.0', '10065.0',\n",
       "       '11224.0', '11374.0', '11358.0', '10023.0', '10475.0', '10017.0',\n",
       "       '10024.0', '11370.0', '11693.0', '11362.0', '11004.0', '11205.0',\n",
       "       '11102.0', '10004.0', '10038.0', '11435.0', '10006.0', '11360.0',\n",
       "       '11428.0', '10018.0', '11436.0', '10464.0', '10310.0', '10044.0',\n",
       "       '10280.0', '11239.0', '11001.0', '10020.0', '10112.0', '10172.0',\n",
       "       '10168.0', '7114.0', '11030.0', '10278.0', '11109.0', '10000.0',\n",
       "       '11697.0', '11040.0', '11725.0', '10111.0', '11005.0', '10162.0',\n",
       "       '10281.0', '10169.0', '11803.0', '11430.0', '10119.0', '90274.0',\n",
       "       '11520.0', '7112.0', '10041.0', '11570.0', '10167.0', '10107.0',\n",
       "       '10174.0', '10120.0', '10177.0', '7073.0', '10154.0', '10165.0',\n",
       "       '11550', '11701', '33134', '07628', '10532', '10703', '11371',\n",
       "       '10105', '18773', '11580', '11725-9030', '10158', '07722',\n",
       "       '11779.0', '10271.0', '11359.0', '10153.0', '10604.0', '10279.0',\n",
       "       '29601.0', '10538.0', '30006.0', '11792.0', '11747.0', '10118.0',\n",
       "       '83.0', '11566.0', '11776.0', '12344.0', '10121.0', '11550.0',\n",
       "       '11576.0', '10103.0', '10801.0', '11509.0', '10701.0', '10105.0',\n",
       "       '10913.0', '0.0', '11518.0', '11002.0', '10573.0', '10158.0',\n",
       "       '10601.0', '11581.0', '11710.0', '42101.0', '10803.0', '10123.0',\n",
       "       '11050.0', '3358.0', '8876.0', '10179.0', '12222.0', '11003',\n",
       "       '10154', '10110', '10153', 'UNKOWN', '11636', '11005', '98057',\n",
       "       '10801', '10550', '07310', '10115.0', '60179.0', '11003.0',\n",
       "       '7093.0', '7306.0', '10170.0', '61702.0', '10804.0', '11791.0',\n",
       "       '11743.0', '7013.0', '11042.0', '11371.0', '07024', '29616-0759',\n",
       "       '14094', '11040-4204', '55433', '33033', '10118', '11501', '11514',\n",
       "       '11021', '02241-5789', '91711', '11735', '07104', '48393-0824',\n",
       "       '30353-0949', '10173', '02298', '11050', '33433', '33309',\n",
       "       '10110.0', '10106.0', '10045.0', '7101.0', '07307', '10041',\n",
       "       '01581', '10279', '10179', '11244', '10604', '07086', '?', '10111',\n",
       "       '10165', '11530', '10573', 11433.0, 11213.0, 10037.0, 10030.0,\n",
       "       10462.0, 10035.0, 10458.0, 11377.0, 11691.0, 10036.0, 10002.0,\n",
       "       11355.0, 11419.0, 11209.0, 10460.0, 11226.0, 10011.0, 11233.0,\n",
       "       10033.0, 10009.0, 10463.0, 10459.0, 10031.0, 10034.0, 10472.0,\n",
       "       11372.0, 10025.0, 10301.0, 11357.0, 11216.0, 11230.0, 10302.0,\n",
       "       10452.0, 11234.0, 10003.0, 10453.0, 10456.0, 10473.0, 11238.0,\n",
       "       10027.0, 10451.0, 11218.0, 11208.0, 11220.0, 10032.0, 11366.0,\n",
       "       11214.0, 11236.0, 11223.0, 10303.0, 11207.0, 11378.0, 10466.0,\n",
       "       11212.0, 11219.0, 10028.0, 11201.0, 11373.0, 10023.0, 10468.0,\n",
       "       11105.0, 11222.0, 10304.0, 11413.0, 10467.0, 10039.0, 11420.0,\n",
       "       10457.0, 10016.0, 11414.0, 11104.0, 11221.0, 10040.0, 11435.0,\n",
       "       11385.0, 10026.0, 11368.0, 11215.0, 11412.0, 11001.0, 10010.0,\n",
       "       10306.0, 11101.0, 11415.0, 11375.0, 10465.0, 10024.0, 10021.0,\n",
       "       11237.0, 10014.0, 11229.0, 11217.0, 10310.0, 10461.0, 10012.0,\n",
       "       11356.0, 11228.0, 11205.0, 10001.0, 11210.0, 10455.0, 11411.0,\n",
       "       10005.0, 11418.0, 11232.0, 10471.0, 10029.0, 10308.0, 11225.0,\n",
       "       10019.0, 11422.0, 10006.0, 11224.0, 11354.0, 11249.0, 11434.0,\n",
       "       10282.0, 11374.0, 10128.0, 10013.0, 11367.0, 10065.0, 11231.0,\n",
       "       11211.0, 11432.0, 11692.0, 11235.0, 11204.0, 11361.0, 10017.0,\n",
       "       11103.0, 10020.0, 10312.0, 11365.0, 10018.0, 11206.0, 11416.0,\n",
       "       10305.0, 11370.0, 11203.0, 11379.0, 11369.0, 10469.0, 10314.0,\n",
       "       10075.0, 11436.0, 11429.0, 10022.0, 11428.0, 10470.0, 10474.0,\n",
       "       11358.0, 11102.0, 11427.0, 10454.0, 10309.0, 11421.0, 11423.0,\n",
       "       11106.0, 11362.0, 10307.0, 10464.0, 11360.0, 10038.0, 11426.0,\n",
       "       10112.0, 11239.0, 11004.0, 11417.0, 11693.0, 11364.0, 11021.0,\n",
       "       7114.0, 11694.0, 10475.0, 10007.0, 10280.0, 10069.0, 8861.0,\n",
       "       10279.0, 10044.0, 8817.0, 10004.0, 11363.0, 11005.0, 11697.0,\n",
       "       10281.0, 10111.0, 11040.0, 11430.0, 10118.0, 10121.0, 7302.0,\n",
       "       11251.0, 10803.0, 10119.0, 10580.0, 11109.0, 11749.0, 19053.0,\n",
       "       10708.0, 10165.0, 10122.0, 10176.0, 10000.0, 10178.0, 11520.0,\n",
       "       10583.0, 10048.0, 10168.0, 10177.0, 83.0, 8901.0, 10110.0, 10169.0,\n",
       "       7310.0, 8512.0, 97062.0, 10167.0, 11743.0, 11371.0, 80014.0,\n",
       "       11722.0, 10155.0, 11554.0, 10123.0, 6870.0, 10103.0, 12222.0,\n",
       "       10041.0, 10106.0, 7086.0, 1749.0, 11042.0, 11719.0, 11024.0,\n",
       "       11801.0, 10162.0, 7208.0, 97114.0, 11571.0, 10278.0, 19034.0,\n",
       "       11695.0, 11968.0, 11010.0, 0.0, '10707.0', '10173.0', '11251.0',\n",
       "       '10155.0', '10580.0', '11241.0', '11553.0', '10176.0', '11510.0',\n",
       "       '11802-9060', '11779', '11757', '19040.0', '11758.0', '11746.0',\n",
       "       '30346.0', '11590.0', '7410.0', '10550.0', '11695.0', '11580.0',\n",
       "       '11516.0', '11575.0', '11572.0', '10178.0', '10960.0', '10710',\n",
       "       '00000', '18901', '42301', '11695', '32752-9963', '10170', '10705',\n",
       "       '11557.0', '3830.0', '10134.0', '11021.0', '7029.0', '10055',\n",
       "       '10106', '12222', '10704', '11558', '07960', '12209', '10176',\n",
       "       '07712', '10103', '11797', '11520', '10115', '10601', '14624',\n",
       "       '10048', '14222', '19962', '19399', '02346', '11756-0215', '11111',\n",
       "       '10155', '07608', '10530', '07103-4154', '11801', '10583', '11793',\n",
       "       '10166', '10045', 'NJ 07114', '06601', '10023-6349', '10805',\n",
       "       '877.0', '11701.0', '7302.0', '07660', '11563', '9153',\n",
       "       '14231-9054', '11729.0', '11559.0', '11431.0', '11530.0', '07747',\n",
       "       '11359', '07040', '11579', '10152', '92131', '19123', '11791',\n",
       "       '90054-0807', '08876', '55486-0102', '37909.0', '11561.0',\n",
       "       '10543.0', '11706.0', '7030.0', '91942', '14450', '07090', '12550',\n",
       "       '12553', '10567.0', '10259.0', '11797.0', '10151.0', '11552.0',\n",
       "       '92193.0', '1757.0', '10055.0', '11554.0', '10989', '11219-0283',\n",
       "       '07070', '37214', '17108-0988', '43218', '02114', '10553',\n",
       "       '43218-2118', '32256', '7640.0', '7087.0', 11561.0, 10154.0,\n",
       "       11359.0, 11530.0, 10977.0, 10173.0, 7108.0, 10271.0, 6902.0,\n",
       "       10120.0, 10153.0, 10158.0, 11590.0, 99999.0, 7030.0, 10591.0,\n",
       "       8043.0, 10174.0, 105457.0, 10604.0, 7304.0, 10573.0, '10120',\n",
       "       '07093', '10801-6393', '20705.0', '33128.0', '7105.0', '14228.0',\n",
       "       '11582.0', '10008.0', '7310.0', '7094.0', '11577.0', '7086.0',\n",
       "       '7201.0', '10122.0', '32256.0', '29615.0', '19047.0', '2062.0',\n",
       "       '12205.0', '99999.0', '11704.0', '7047.0', '11242.0', '07073',\n",
       "       '11797-9001', '10129', 'JFK', '01853', '7040.0', '10532.0',\n",
       "       '19044.0', '10704.0', '11768.0'], dtype=object)"
      ]
     },
     "execution_count": 29,
     "metadata": {},
     "output_type": "execute_result"
    }
   ],
   "source": [
    "nyc['Incident Zip'].unique()"
   ]
  },
  {
   "cell_type": "code",
   "execution_count": 30,
   "metadata": {},
   "outputs": [
    {
     "data": {
      "text/plain": [
       "'12903'"
      ]
     },
     "execution_count": 30,
     "metadata": {},
     "output_type": "execute_result"
    }
   ],
   "source": [
    "# In general, we do this on a case by case basis.\n",
    "# Not possible to make a function to fix every possible input format.\n",
    "\n",
    "def fix_zip(code):\n",
    "    try:\n",
    "        code = int(float(code))\n",
    "    except:\n",
    "        try:\n",
    "            code = int(code.split('-')[0])\n",
    "        except:\n",
    "            return np.NaN\n",
    "        \n",
    "    if not 10000 < code < 19999:\n",
    "        return np.NaN\n",
    "    \n",
    "    return str(code)\n",
    "\n",
    "fix_zip('12903-13') # Test."
   ]
  },
  {
   "cell_type": "code",
   "execution_count": 31,
   "metadata": {},
   "outputs": [],
   "source": [
    "# We use apply because fix_zip takes a single string as argument.\n",
    "nyc['Incident Zip'] = nyc['Incident Zip'].apply(fix_zip)\n",
    "\n",
    "# An alternative solution could be to use:\n",
    "# nyc['Incident Zip'] = fix_zip(nyc['Incident Zip'])\n",
    "# But this would require fix_zip to accept and return Series."
   ]
  },
  {
   "cell_type": "markdown",
   "metadata": {},
   "source": [
    "### Cleaning data requires domain knowledge\n",
    "To fix synonyms, mispellings, variable types (discrete vs categorical)...\n",
    "### Cleaning data modifies the dataset\n",
    "Every time we modify a dataset, we loose some information.\n",
    "\n",
    "Is it always wise to get rid of everything that doesn't fit?\n",
    "\n",
    "**Overcleaning** is a thing."
   ]
  },
  {
   "cell_type": "markdown",
   "metadata": {},
   "source": [
    "## Removing bad data\n",
    "Some columns contain missing values."
   ]
  },
  {
   "cell_type": "code",
   "execution_count": 32,
   "metadata": {},
   "outputs": [
    {
     "data": {
      "text/html": [
       "<div>\n",
       "<style scoped>\n",
       "    .dataframe tbody tr th:only-of-type {\n",
       "        vertical-align: middle;\n",
       "    }\n",
       "\n",
       "    .dataframe tbody tr th {\n",
       "        vertical-align: top;\n",
       "    }\n",
       "\n",
       "    .dataframe thead th {\n",
       "        text-align: right;\n",
       "    }\n",
       "</style>\n",
       "<table border=\"1\" class=\"dataframe\">\n",
       "  <thead>\n",
       "    <tr style=\"text-align: right;\">\n",
       "      <th></th>\n",
       "      <th>Created Date</th>\n",
       "      <th>Closed Date</th>\n",
       "      <th>Agency</th>\n",
       "      <th>Incident Zip</th>\n",
       "      <th>Borough</th>\n",
       "      <th>Latitude</th>\n",
       "      <th>Longitude</th>\n",
       "    </tr>\n",
       "  </thead>\n",
       "  <tbody>\n",
       "    <tr>\n",
       "      <th>10</th>\n",
       "      <td>09/01/2016 12:33:42 AM</td>\n",
       "      <td>09/16/2016 01:06:56 AM</td>\n",
       "      <td>DCA</td>\n",
       "      <td>10001</td>\n",
       "      <td>MANHATTAN</td>\n",
       "      <td>40.744790</td>\n",
       "      <td>-73.988834</td>\n",
       "    </tr>\n",
       "    <tr>\n",
       "      <th>11</th>\n",
       "      <td>09/01/2016 08:16:24 PM</td>\n",
       "      <td>09/10/2016 06:08:25 PM</td>\n",
       "      <td>HPD</td>\n",
       "      <td>11691</td>\n",
       "      <td>QUEENS</td>\n",
       "      <td>40.600554</td>\n",
       "      <td>-73.750704</td>\n",
       "    </tr>\n",
       "    <tr>\n",
       "      <th>12</th>\n",
       "      <td>09/01/2016 12:17:00 PM</td>\n",
       "      <td>09/07/2016 12:00:00 PM</td>\n",
       "      <td>DSNY</td>\n",
       "      <td>11211</td>\n",
       "      <td>BROOKLYN</td>\n",
       "      <td>40.704925</td>\n",
       "      <td>-73.962007</td>\n",
       "    </tr>\n",
       "    <tr>\n",
       "      <th>13</th>\n",
       "      <td>09/01/2016 12:10:22 PM</td>\n",
       "      <td>09/10/2016 02:23:44 PM</td>\n",
       "      <td>HPD</td>\n",
       "      <td>10027</td>\n",
       "      <td>MANHATTAN</td>\n",
       "      <td>40.812322</td>\n",
       "      <td>-73.955338</td>\n",
       "    </tr>\n",
       "    <tr>\n",
       "      <th>14</th>\n",
       "      <td>09/01/2016 12:32:32 PM</td>\n",
       "      <td>09/11/2016 02:03:37 AM</td>\n",
       "      <td>HPD</td>\n",
       "      <td>10452</td>\n",
       "      <td>BRONX</td>\n",
       "      <td>40.839529</td>\n",
       "      <td>-73.922534</td>\n",
       "    </tr>\n",
       "  </tbody>\n",
       "</table>\n",
       "</div>"
      ],
      "text/plain": [
       "              Created Date             Closed Date Agency Incident Zip  \\\n",
       "10  09/01/2016 12:33:42 AM  09/16/2016 01:06:56 AM    DCA        10001   \n",
       "11  09/01/2016 08:16:24 PM  09/10/2016 06:08:25 PM    HPD        11691   \n",
       "12  09/01/2016 12:17:00 PM  09/07/2016 12:00:00 PM   DSNY        11211   \n",
       "13  09/01/2016 12:10:22 PM  09/10/2016 02:23:44 PM    HPD        10027   \n",
       "14  09/01/2016 12:32:32 PM  09/11/2016 02:03:37 AM    HPD        10452   \n",
       "\n",
       "      Borough   Latitude  Longitude  \n",
       "10  MANHATTAN  40.744790 -73.988834  \n",
       "11     QUEENS  40.600554 -73.750704  \n",
       "12   BROOKLYN  40.704925 -73.962007  \n",
       "13  MANHATTAN  40.812322 -73.955338  \n",
       "14      BRONX  40.839529 -73.922534  "
      ]
     },
     "execution_count": 32,
     "metadata": {},
     "output_type": "execute_result"
    }
   ],
   "source": [
    "nyc = nyc[nyc['Latitude'].notnull() &\n",
    "          nyc['Longitude'].notnull() &\n",
    "          nyc['Closed Date'].notnull() &\n",
    "          nyc['Incident Zip'].notnull()]\n",
    "\n",
    "nyc.head()"
   ]
  },
  {
   "cell_type": "markdown",
   "metadata": {},
   "source": [
    "**and** operates on two booleans, **&** is an element-wise operator.\n",
    "\n",
    "**or** operates on two booleans, **|** is an element-wise operator.\n",
    "\n",
    "**not** operates on a boolean, **!** is an element-wise operator."
   ]
  },
  {
   "cell_type": "code",
   "execution_count": 33,
   "metadata": {},
   "outputs": [
    {
     "name": "stdout",
     "output_type": "stream",
     "text": [
      "True\n",
      "False\n",
      "False\n",
      "True\n",
      "True\n",
      "False\n",
      "False\n",
      "True\n",
      "------------------\n",
      "0     True\n",
      "1    False\n",
      "2    False\n",
      "3    False\n",
      "dtype: bool\n",
      "0     True\n",
      "1     True\n",
      "2     True\n",
      "3    False\n",
      "dtype: bool\n",
      "0    False\n",
      "1    False\n",
      "2     True\n",
      "3     True\n",
      "dtype: bool\n",
      "0    False\n",
      "1     True\n",
      "2    False\n",
      "3     True\n",
      "dtype: bool\n",
      "0     True\n",
      "1    False\n",
      "2    False\n",
      "3    False\n",
      "dtype: bool\n"
     ]
    }
   ],
   "source": [
    "print(True and True)\n",
    "print(True and False)\n",
    "print(False and False)\n",
    "\n",
    "print(True or True)\n",
    "print(True or False)\n",
    "print(False or False)\n",
    "\n",
    "print(not True)\n",
    "print(not False)\n",
    "\n",
    "b1 = pd.Series([True, True, False, False])\n",
    "b2 = pd.Series([True, False, True, False])\n",
    "\n",
    "print('------------------')\n",
    "\n",
    "print(b1 & b2)\n",
    "print(b1 | b2)\n",
    "print(~b1)\n",
    "print(~b2)\n",
    "\n",
    "\n",
    "print(b1 & b2)"
   ]
  },
  {
   "cell_type": "code",
   "execution_count": 34,
   "metadata": {},
   "outputs": [
    {
     "name": "stdout",
     "output_type": "stream",
     "text": [
      "0     True\n",
      "1    False\n",
      "2    False\n",
      "3    False\n",
      "dtype: bool\n"
     ]
    }
   ],
   "source": [
    "print(b1 & b2)"
   ]
  },
  {
   "cell_type": "markdown",
   "metadata": {},
   "source": [
    "\n",
    "## More data transformations\n",
    "Not necessariy bad data, but changed to more convenient or computationally efficient formats."
   ]
  },
  {
   "cell_type": "code",
   "execution_count": 35,
   "metadata": {},
   "outputs": [],
   "source": [
    "#import datetime\n",
    "\n",
    "# Better use pandas to convert the whole Series. Saves us using apply lambda constructs.\n",
    "nyc['Created Date'] = pd.to_datetime(nyc['Created Date'])\n",
    "nyc['Closed Date'] = pd.to_datetime(nyc['Closed Date'])"
   ]
  },
  {
   "cell_type": "code",
   "execution_count": 36,
   "metadata": {},
   "outputs": [
    {
     "data": {
      "text/html": [
       "<div>\n",
       "<style scoped>\n",
       "    .dataframe tbody tr th:only-of-type {\n",
       "        vertical-align: middle;\n",
       "    }\n",
       "\n",
       "    .dataframe tbody tr th {\n",
       "        vertical-align: top;\n",
       "    }\n",
       "\n",
       "    .dataframe thead th {\n",
       "        text-align: right;\n",
       "    }\n",
       "</style>\n",
       "<table border=\"1\" class=\"dataframe\">\n",
       "  <thead>\n",
       "    <tr style=\"text-align: right;\">\n",
       "      <th></th>\n",
       "      <th>Created Date</th>\n",
       "      <th>Closed Date</th>\n",
       "      <th>Agency</th>\n",
       "      <th>Incident Zip</th>\n",
       "      <th>Borough</th>\n",
       "      <th>Latitude</th>\n",
       "      <th>Longitude</th>\n",
       "    </tr>\n",
       "  </thead>\n",
       "  <tbody>\n",
       "    <tr>\n",
       "      <th>10</th>\n",
       "      <td>2016-09-01 00:33:42</td>\n",
       "      <td>2016-09-16 01:06:56</td>\n",
       "      <td>DCA</td>\n",
       "      <td>10001</td>\n",
       "      <td>MANHATTAN</td>\n",
       "      <td>40.744790</td>\n",
       "      <td>-73.988834</td>\n",
       "    </tr>\n",
       "    <tr>\n",
       "      <th>11</th>\n",
       "      <td>2016-09-01 20:16:24</td>\n",
       "      <td>2016-09-10 18:08:25</td>\n",
       "      <td>HPD</td>\n",
       "      <td>11691</td>\n",
       "      <td>QUEENS</td>\n",
       "      <td>40.600554</td>\n",
       "      <td>-73.750704</td>\n",
       "    </tr>\n",
       "    <tr>\n",
       "      <th>12</th>\n",
       "      <td>2016-09-01 12:17:00</td>\n",
       "      <td>2016-09-07 12:00:00</td>\n",
       "      <td>DSNY</td>\n",
       "      <td>11211</td>\n",
       "      <td>BROOKLYN</td>\n",
       "      <td>40.704925</td>\n",
       "      <td>-73.962007</td>\n",
       "    </tr>\n",
       "    <tr>\n",
       "      <th>13</th>\n",
       "      <td>2016-09-01 12:10:22</td>\n",
       "      <td>2016-09-10 14:23:44</td>\n",
       "      <td>HPD</td>\n",
       "      <td>10027</td>\n",
       "      <td>MANHATTAN</td>\n",
       "      <td>40.812322</td>\n",
       "      <td>-73.955338</td>\n",
       "    </tr>\n",
       "    <tr>\n",
       "      <th>14</th>\n",
       "      <td>2016-09-01 12:32:32</td>\n",
       "      <td>2016-09-11 02:03:37</td>\n",
       "      <td>HPD</td>\n",
       "      <td>10452</td>\n",
       "      <td>BRONX</td>\n",
       "      <td>40.839529</td>\n",
       "      <td>-73.922534</td>\n",
       "    </tr>\n",
       "  </tbody>\n",
       "</table>\n",
       "</div>"
      ],
      "text/plain": [
       "          Created Date         Closed Date Agency Incident Zip    Borough  \\\n",
       "10 2016-09-01 00:33:42 2016-09-16 01:06:56    DCA        10001  MANHATTAN   \n",
       "11 2016-09-01 20:16:24 2016-09-10 18:08:25    HPD        11691     QUEENS   \n",
       "12 2016-09-01 12:17:00 2016-09-07 12:00:00   DSNY        11211   BROOKLYN   \n",
       "13 2016-09-01 12:10:22 2016-09-10 14:23:44    HPD        10027  MANHATTAN   \n",
       "14 2016-09-01 12:32:32 2016-09-11 02:03:37    HPD        10452      BRONX   \n",
       "\n",
       "     Latitude  Longitude  \n",
       "10  40.744790 -73.988834  \n",
       "11  40.600554 -73.750704  \n",
       "12  40.704925 -73.962007  \n",
       "13  40.812322 -73.955338  \n",
       "14  40.839529 -73.922534  "
      ]
     },
     "execution_count": 36,
     "metadata": {},
     "output_type": "execute_result"
    }
   ],
   "source": [
    "nyc.head()"
   ]
  },
  {
   "cell_type": "code",
   "execution_count": 37,
   "metadata": {},
   "outputs": [
    {
     "data": {
      "text/html": [
       "<div>\n",
       "<style scoped>\n",
       "    .dataframe tbody tr th:only-of-type {\n",
       "        vertical-align: middle;\n",
       "    }\n",
       "\n",
       "    .dataframe tbody tr th {\n",
       "        vertical-align: top;\n",
       "    }\n",
       "\n",
       "    .dataframe thead th {\n",
       "        text-align: right;\n",
       "    }\n",
       "</style>\n",
       "<table border=\"1\" class=\"dataframe\">\n",
       "  <thead>\n",
       "    <tr style=\"text-align: right;\">\n",
       "      <th></th>\n",
       "      <th>Created Date</th>\n",
       "      <th>Closed Date</th>\n",
       "      <th>Agency</th>\n",
       "      <th>Incident Zip</th>\n",
       "      <th>Borough</th>\n",
       "      <th>Latitude</th>\n",
       "      <th>Longitude</th>\n",
       "      <th>Processing Time</th>\n",
       "    </tr>\n",
       "  </thead>\n",
       "  <tbody>\n",
       "    <tr>\n",
       "      <th>10</th>\n",
       "      <td>2016-09-01 00:33:42</td>\n",
       "      <td>2016-09-16 01:06:56</td>\n",
       "      <td>DCA</td>\n",
       "      <td>10001</td>\n",
       "      <td>MANHATTAN</td>\n",
       "      <td>40.744790</td>\n",
       "      <td>-73.988834</td>\n",
       "      <td>15 days 00:33:14</td>\n",
       "    </tr>\n",
       "    <tr>\n",
       "      <th>11</th>\n",
       "      <td>2016-09-01 20:16:24</td>\n",
       "      <td>2016-09-10 18:08:25</td>\n",
       "      <td>HPD</td>\n",
       "      <td>11691</td>\n",
       "      <td>QUEENS</td>\n",
       "      <td>40.600554</td>\n",
       "      <td>-73.750704</td>\n",
       "      <td>8 days 21:52:01</td>\n",
       "    </tr>\n",
       "    <tr>\n",
       "      <th>12</th>\n",
       "      <td>2016-09-01 12:17:00</td>\n",
       "      <td>2016-09-07 12:00:00</td>\n",
       "      <td>DSNY</td>\n",
       "      <td>11211</td>\n",
       "      <td>BROOKLYN</td>\n",
       "      <td>40.704925</td>\n",
       "      <td>-73.962007</td>\n",
       "      <td>5 days 23:43:00</td>\n",
       "    </tr>\n",
       "    <tr>\n",
       "      <th>13</th>\n",
       "      <td>2016-09-01 12:10:22</td>\n",
       "      <td>2016-09-10 14:23:44</td>\n",
       "      <td>HPD</td>\n",
       "      <td>10027</td>\n",
       "      <td>MANHATTAN</td>\n",
       "      <td>40.812322</td>\n",
       "      <td>-73.955338</td>\n",
       "      <td>9 days 02:13:22</td>\n",
       "    </tr>\n",
       "    <tr>\n",
       "      <th>14</th>\n",
       "      <td>2016-09-01 12:32:32</td>\n",
       "      <td>2016-09-11 02:03:37</td>\n",
       "      <td>HPD</td>\n",
       "      <td>10452</td>\n",
       "      <td>BRONX</td>\n",
       "      <td>40.839529</td>\n",
       "      <td>-73.922534</td>\n",
       "      <td>9 days 13:31:05</td>\n",
       "    </tr>\n",
       "  </tbody>\n",
       "</table>\n",
       "</div>"
      ],
      "text/plain": [
       "          Created Date         Closed Date Agency Incident Zip    Borough  \\\n",
       "10 2016-09-01 00:33:42 2016-09-16 01:06:56    DCA        10001  MANHATTAN   \n",
       "11 2016-09-01 20:16:24 2016-09-10 18:08:25    HPD        11691     QUEENS   \n",
       "12 2016-09-01 12:17:00 2016-09-07 12:00:00   DSNY        11211   BROOKLYN   \n",
       "13 2016-09-01 12:10:22 2016-09-10 14:23:44    HPD        10027  MANHATTAN   \n",
       "14 2016-09-01 12:32:32 2016-09-11 02:03:37    HPD        10452      BRONX   \n",
       "\n",
       "     Latitude  Longitude  Processing Time  \n",
       "10  40.744790 -73.988834 15 days 00:33:14  \n",
       "11  40.600554 -73.750704  8 days 21:52:01  \n",
       "12  40.704925 -73.962007  5 days 23:43:00  \n",
       "13  40.812322 -73.955338  9 days 02:13:22  \n",
       "14  40.839529 -73.922534  9 days 13:31:05  "
      ]
     },
     "execution_count": 37,
     "metadata": {},
     "output_type": "execute_result"
    }
   ],
   "source": [
    "nyc['Processing Time'] = nyc['Closed Date'] - nyc['Created Date']\n",
    "nyc.head()"
   ]
  },
  {
   "cell_type": "code",
   "execution_count": 38,
   "metadata": {},
   "outputs": [
    {
     "data": {
      "text/plain": [
       "1994"
      ]
     },
     "execution_count": 38,
     "metadata": {},
     "output_type": "execute_result"
    }
   ],
   "source": [
    "nyc['Processing Time'][10].days\n",
    "nyc['Processing Time'][10].seconds\n",
    "#nyc['Procesing Time'][10].microseconds\n",
    "#nyc['Procesing Time'][10].nanoseconds\n",
    "\n",
    "# Why do we want microseconds?\n",
    "#import datetime\n",
    "#start = datetime.datetime.now()\n",
    "#do_something(inputs)\n",
    "#finish = datetime.datetime.now()\n",
    "#elapsed_time = finish - start"
   ]
  },
  {
   "cell_type": "code",
   "execution_count": 39,
   "metadata": {},
   "outputs": [
    {
     "data": {
      "image/png": "[encoded data removed]",
      "text/plain": [
       "<Figure size 432x288 with 1 Axes>"
      ]
     },
     "metadata": {
      "needs_background": "light"
     },
     "output_type": "display_data"
    }
   ],
   "source": [
    "import matplotlib.pyplot as plt\n",
    "\n",
    "plt.hist(nyc['Processing Time'] / np.timedelta64(1, 'D'), bins=100) # Don't need to use apply.\n",
    "\n",
    "plt.xlabel('Processing Time (days)')\n",
    "plt.ylabel('Cases')\n",
    "\n",
    "plt.show()"
   ]
  },
  {
   "cell_type": "markdown",
   "metadata": {},
   "source": [
    "Are negative _Processing Times_ caused by swapped _Created_ and _Closed_ dates?"
   ]
  },
  {
   "cell_type": "code",
   "execution_count": 40,
   "metadata": {},
   "outputs": [
    {
     "data": {
      "text/plain": [
       "count                     806523\n",
       "mean      4 days 23:57:59.176249\n",
       "std      12 days 05:59:53.869236\n",
       "min          -134 days +00:00:00\n",
       "25%       0 days 02:34:24.500000\n",
       "50%              0 days 21:05:32\n",
       "75%              4 days 14:21:59\n",
       "max            148 days 13:10:54\n",
       "Name: Processing Time, dtype: object"
      ]
     },
     "execution_count": 40,
     "metadata": {},
     "output_type": "execute_result"
    }
   ],
   "source": [
    "nyc['Processing Time'].describe()"
   ]
  },
  {
   "cell_type": "code",
   "execution_count": 41,
   "metadata": {},
   "outputs": [
    {
     "name": "stdout",
     "output_type": "stream",
     "text": [
      "766199\n",
      "6419\n"
     ]
    }
   ],
   "source": [
    "print(sum(nyc['Processing Time'] / np.timedelta64(1, 'D') > 0))\n",
    "print(sum(nyc['Processing Time'] / np.timedelta64(1, 'D') < 0))"
   ]
  },
  {
   "cell_type": "code",
   "execution_count": 42,
   "metadata": {},
   "outputs": [
    {
     "data": {
      "image/png": "[encoded data removed]",
      "text/plain": [
       "<Figure size 432x288 with 1 Axes>"
      ]
     },
     "metadata": {
      "needs_background": "light"
     },
     "output_type": "display_data"
    }
   ],
   "source": [
    "plt.hist(abs(nyc['Processing Time'] / np.timedelta64(1, 'D')), bins=100)\n",
    "\n",
    "plt.xlabel('Processing Time (days)')\n",
    "plt.ylabel('Cases')\n",
    "\n",
    "plt.show()"
   ]
  },
  {
   "cell_type": "code",
   "execution_count": 43,
   "metadata": {},
   "outputs": [
    {
     "data": {
      "image/png": "[encoded data removed]",
      "text/plain": [
       "<Figure size 432x288 with 1 Axes>"
      ]
     },
     "metadata": {
      "needs_background": "light"
     },
     "output_type": "display_data"
    }
   ],
   "source": [
    "plt.hist(abs(nyc['Processing Time'] / np.timedelta64(1, 'D')), bins=1000)\n",
    "plt.xscale('log')\n",
    "plt.yscale('log')\n",
    "\n",
    "plt.xlabel('Processing Time (days)')\n",
    "plt.ylabel('Cases')\n",
    "\n",
    "plt.show()"
   ]
  },
  {
   "cell_type": "markdown",
   "metadata": {},
   "source": [
    "## Data Visualization"
   ]
  },
  {
   "cell_type": "code",
   "execution_count": 47,
   "metadata": {},
   "outputs": [],
   "source": [
    "import gmplot # Documentation at https://github.com/gmplot/gmplot/wiki\n",
    "\n",
    "gmap = gmplot.GoogleMapPlotter(40.6588258, -74.1447601, 10) # Coordinates copied from Google Maps."
   ]
  },
  {
   "cell_type": "code",
   "execution_count": 48,
   "metadata": {},
   "outputs": [],
   "source": [
    "s = nyc.sample(5000)\n",
    "gmap.scatter(s['Latitude'], s['Longitude'], c='r', marker=False)\n",
    "gmap.draw('nyc.html')"
   ]
  },
  {
   "cell_type": "markdown",
   "metadata": {},
   "source": [
    "## Grouping data"
   ]
  },
  {
   "cell_type": "code",
   "execution_count": 46,
   "metadata": {},
   "outputs": [
    {
     "data": {
      "image/png": "[encoded data removed]",
      "text/plain": [
       "<Figure size 432x288 with 1 Axes>"
      ]
     },
     "metadata": {
      "needs_background": "light"
     },
     "output_type": "display_data"
    }
   ],
   "source": [
    "b = nyc.groupby('Borough').size()\n",
    "\n",
    "plt.bar(b.index, b)\n",
    "\n",
    "plt.xticks(rotation=90)\n",
    "plt.xlabel('Borough')\n",
    "plt.ylabel('Cases')\n",
    "\n",
    "plt.show()"
   ]
  },
  {
   "cell_type": "markdown",
   "metadata": {},
   "source": [
    "Is Brooklyn more problematic than Staten Island, or does it simply have more population?\n",
    "\n",
    "In general, it's a bad idea to work with raw counts.\n",
    "\n",
    "$ Normalized = \\frac{Observed}{Expected} $\n",
    "\n",
    "The units normalized count, in this case, could be **cases per 1,000 inhabitants**, for instance."
   ]
  },
  {
   "cell_type": "markdown",
   "metadata": {},
   "source": [
    "### A note on grouping:"
   ]
  },
  {
   "cell_type": "code",
   "execution_count": null,
   "metadata": {},
   "outputs": [],
   "source": [
    "new_nyc = nyc.copy()\n",
    "days = abs(new_nyc['Processing Time'] / np.timedelta64(1, 'D'))\n",
    "\n",
    "# Using pandas interface to create a grouping variable:\n",
    "new_nyc['Binned Processing Times'] = 'Medium'\n",
    "new_nyc.loc[days < 10, 'Binned Processing Times'] = 'Low'\n",
    "new_nyc.loc[days > 50, 'Binned Processing Times'] = 'High'\n",
    "\n",
    "grouped_nyc = new_nyc.groupby('Binned Processing Times')\n",
    "\n",
    "# is probably easier, more readable, and more explicit than:\n",
    "def time_groups(df, i):\n",
    "    days = abs(df.loc[i, 'Processing Time'] / np.timedelta64(1, 'D'))\n",
    "    \n",
    "    if days < 10:\n",
    "        return 'Low'\n",
    "    if days < 50:\n",
    "        return 'Medium'\n",
    "    else:\n",
    "        return 'High'\n",
    "\n",
    "grouped_nyc_fun = new_nyc.head(1000).groupby(lambda x: time_groups(new_nyc.head(1000), x))\n",
    "\n",
    "\n",
    "print(grouped_nyc.groups)\n",
    "print(grouped_nyc_fun.groups)"
   ]
  },
  {
   "cell_type": "code",
   "execution_count": null,
   "metadata": {},
   "outputs": [],
   "source": [
    "new_nyc.head(20)"
   ]
  },
  {
   "cell_type": "code",
   "execution_count": null,
   "metadata": {},
   "outputs": [],
   "source": [
    "agency_borough = nyc.groupby(['Agency', 'Borough']).size().unstack()\n",
    "\n",
    "fig, ax = plt.subplots(3, 2, figsize=(10, 10))\n",
    "\n",
    "for i, (label, col) in enumerate(agency_borough.iteritems()):\n",
    "    r, c = int(i / 2), i % 2\n",
    "    count = col.sort_values(ascending=False).head()\n",
    "    ax[r, c].bar(count.index, count)\n",
    "    \n",
    "    ax[r, c].set_title(label)\n",
    "    \n",
    "plt.tight_layout()\n",
    "plt.show()"
   ]
  }
 ],
 "metadata": {
  "kernelspec": {
   "display_name": "Python 3",
   "language": "python",
   "name": "python3"
  },
  "language_info": {
   "codemirror_mode": {
    "name": "ipython",
    "version": 3
   },
   "file_extension": ".py",
   "mimetype": "text/x-python",
   "name": "python",
   "nbconvert_exporter": "python",
   "pygments_lexer": "ipython3",
   "version": "3.6.9"
  }
 },
 "nbformat": 4,
 "nbformat_minor": 4
}
