{
 "cells": [
  {
   "cell_type": "markdown",
   "metadata": {
    "deletable": false,
    "editable": false,
    "nbgrader": {
     "grade": false,
     "locked": true,
     "solution": false
    }
   },
   "source": [
    "# Module 12 - Statistical Distributions - the Shape of Data\n",
    "\n",
    "**_Author: Carleton Smith, William Peterson, Greg Godreau, Mona Khalil_**\n",
    "\n",
    "**_Revised: Jessica Cervi_**\n",
    "\n",
    "**Expected time = 2.5 hours**\n",
    "\n",
    "**Total points = 85 points**\n",
    "\n",
    "\n",
    "\n",
    "## Assignment Overview\n",
    "\n",
    "In this assignment, you will work with different  distributions that are essential for any data scientist, including the normal distribution, bernoulli distribution, binomial distribution, poisson distribution, geometric distribution, and exponential distribution. You'll become familiar with the differences between the use and parameterization of the various distributions as well as learning how to plot, interact with, and interpret the distributions using Python. Throughout this assignment, we will be working with key pieces of code in Python, focusing on the `numpy`, `pandas`, `matplotlib` and `scipy` libraries commonly used by data scientists in their workflow.\n",
    "\n",
    "This assignment is designed to build your familiarity and comfort coding in Python while also helping you review key topics from each module. As you progress through the assignment, answers will get increasingly complex. It is important that you adopt a data scientist's mindset when completing this assignment. **Remember to run your code from each cell before submitting your assignment.** Running your code beforehand will notify you of errors and give you a chance to fix your errors before submitting. You should view your Vocareum submission as if you are delivering a final project to your manager or client. \n",
    "\n",
    "***Vocareum Tips***\n",
    "- Do not add arguments or options to functions unless you are specifically asked to. This will cause an error in Vocareum.\n",
    "- Do not use a library unless you are expicitly asked to in the question. \n",
    "- You can download the Grading Report after submitting the assignment. This will include feedback and hints on incorrect questions. \n",
    "\n",
    "\n",
    "### Learning Objectives\n",
    "\n",
    "- Define and differentiate between various distribution models including the normal distribution, bernoulli distribution, binomial distribution, poisson distribution, geometric distribution, and exponential distribution.  \n",
    "- Apply distribution models to sample data, in this case, the `office_supplies` dataset.\n",
    "\n",
    "\n",
    "\n",
    "## Index: \n",
    "\n",
    "#### Module 12: Statistical Distributions - the Shape of Data\n",
    "\n",
    "- [Question 1](#q1)\n",
    "- [Question 2](#q2)\n",
    "- [Question 3](#q3)\n",
    "- [Question 4](#q4)\n",
    "- [Question 5](#q5)\n",
    "- [Question 6](#q6)\n",
    "- [Question 7](#q7)\n",
    "- [Question 8](#q8)\n",
    "- [Question 9](#q9)\n",
    "- [Question 10](#q10)\n",
    "- [Question 11](#q11)\n",
    "- [Question 12](#q12)\n",
    "- [Question 13](#q13)\n",
    "- [Question 14](#q14)\n"
   ]
  },
  {
   "cell_type": "markdown",
   "metadata": {
    "deletable": false,
    "editable": false,
    "nbgrader": {
     "grade": false,
     "locked": true,
     "solution": false
    }
   },
   "source": [
    "## Module 12: Statistical Distributions - the Shape of Data\n",
    "\n",
    "\n",
    "In this assignment, we will be working with the `office_supplies` dataset, which includes data from 46,000 sales of office supplies from a small company. We'll be using a subset of the data made up of three columns. \n",
    "\n",
    "Let's import the necessary libraries and load this data set using the pandas `pd.read_csv()` function. Finally, we will explore the dataset using `df.head()`."
   ]
  },
  {
   "cell_type": "code",
   "execution_count": 2,
   "metadata": {
    "deletable": false,
    "editable": false,
    "nbgrader": {
     "grade": false,
     "locked": true,
     "solution": false
    }
   },
   "outputs": [
    {
     "data": {
      "text/html": [
       "<div>\n",
       "<style scoped>\n",
       "    .dataframe tbody tr th:only-of-type {\n",
       "        vertical-align: middle;\n",
       "    }\n",
       "\n",
       "    .dataframe tbody tr th {\n",
       "        vertical-align: top;\n",
       "    }\n",
       "\n",
       "    .dataframe thead th {\n",
       "        text-align: right;\n",
       "    }\n",
       "</style>\n",
       "<table border=\"1\" class=\"dataframe\">\n",
       "  <thead>\n",
       "    <tr style=\"text-align: right;\">\n",
       "      <th></th>\n",
       "      <th>sales</th>\n",
       "      <th>transactions</th>\n",
       "      <th>neg</th>\n",
       "    </tr>\n",
       "  </thead>\n",
       "  <tbody>\n",
       "    <tr>\n",
       "      <th>0</th>\n",
       "      <td>107.16</td>\n",
       "      <td>20</td>\n",
       "      <td>1</td>\n",
       "    </tr>\n",
       "    <tr>\n",
       "      <th>1</th>\n",
       "      <td>110.66</td>\n",
       "      <td>2</td>\n",
       "      <td>1</td>\n",
       "    </tr>\n",
       "    <tr>\n",
       "      <th>2</th>\n",
       "      <td>4697.62</td>\n",
       "      <td>12</td>\n",
       "      <td>1</td>\n",
       "    </tr>\n",
       "    <tr>\n",
       "      <th>3</th>\n",
       "      <td>103.08</td>\n",
       "      <td>9</td>\n",
       "      <td>1</td>\n",
       "    </tr>\n",
       "    <tr>\n",
       "      <th>4</th>\n",
       "      <td>-566.50</td>\n",
       "      <td>1</td>\n",
       "      <td>-1</td>\n",
       "    </tr>\n",
       "  </tbody>\n",
       "</table>\n",
       "</div>"
      ],
      "text/plain": [
       "     sales  transactions  neg\n",
       "0   107.16            20    1\n",
       "1   110.66             2    1\n",
       "2  4697.62            12    1\n",
       "3   103.08             9    1\n",
       "4  -566.50             1   -1"
      ]
     },
     "execution_count": 2,
     "metadata": {},
     "output_type": "execute_result"
    }
   ],
   "source": [
    "# Import numpy and pandas\n",
    "import numpy as np\n",
    "import pandas as pd\n",
    "import matplotlib.pyplot as plt\n",
    "\n",
    "# Load the data set\n",
    "office = pd.read_csv('./data/office_supplies.csv')\n",
    "\n",
    "# Examine the first 5 rows\n",
    "office.head()"
   ]
  },
  {
   "cell_type": "markdown",
   "metadata": {
    "deletable": false,
    "editable": false,
    "nbgrader": {
     "grade": false,
     "locked": true,
     "solution": false
    }
   },
   "source": [
    "Observe that the column `neg`  has 2 values, 1 and -1, indicating whether a record in the data set is negative sales (1 if negative sales/return of an item).\n",
    "\n",
    "Next, we use the attribute `.describe()` to obtain a summary of the statistical details about our dataframe."
   ]
  },
  {
   "cell_type": "code",
   "execution_count": 1,
   "metadata": {},
   "outputs": [],
   "source": [
    "a = 999.373"
   ]
  },
  {
   "cell_type": "code",
   "execution_count": 8,
   "metadata": {},
   "outputs": [
    {
     "data": {
      "text/plain": [
       "1000"
      ]
     },
     "execution_count": 8,
     "metadata": {},
     "output_type": "execute_result"
    }
   ],
   "source": [
    "int(round(a,-2))"
   ]
  },
  {
   "cell_type": "code",
   "execution_count": 9,
   "metadata": {},
   "outputs": [],
   "source": [
    "round?\n",
    "\n"
   ]
  },
  {
   "cell_type": "code",
   "execution_count": 3,
   "metadata": {
    "nbgrader": {
     "grade": false,
     "locked": false,
     "solution": false
    }
   },
   "outputs": [
    {
     "data": {
      "text/html": [
       "<div>\n",
       "<style scoped>\n",
       "    .dataframe tbody tr th:only-of-type {\n",
       "        vertical-align: middle;\n",
       "    }\n",
       "\n",
       "    .dataframe tbody tr th {\n",
       "        vertical-align: top;\n",
       "    }\n",
       "\n",
       "    .dataframe thead th {\n",
       "        text-align: right;\n",
       "    }\n",
       "</style>\n",
       "<table border=\"1\" class=\"dataframe\">\n",
       "  <thead>\n",
       "    <tr style=\"text-align: right;\">\n",
       "      <th></th>\n",
       "      <th>sales</th>\n",
       "      <th>transactions</th>\n",
       "      <th>neg</th>\n",
       "    </tr>\n",
       "  </thead>\n",
       "  <tbody>\n",
       "    <tr>\n",
       "      <th>count</th>\n",
       "      <td>46407.000000</td>\n",
       "      <td>46407.000000</td>\n",
       "      <td>46407.000000</td>\n",
       "    </tr>\n",
       "    <tr>\n",
       "      <th>mean</th>\n",
       "      <td>999.040725</td>\n",
       "      <td>13.591075</td>\n",
       "      <td>0.998319</td>\n",
       "    </tr>\n",
       "    <tr>\n",
       "      <th>std</th>\n",
       "      <td>1186.011301</td>\n",
       "      <td>7.451356</td>\n",
       "      <td>0.057955</td>\n",
       "    </tr>\n",
       "    <tr>\n",
       "      <th>min</th>\n",
       "      <td>-919.830000</td>\n",
       "      <td>1.000000</td>\n",
       "      <td>-1.000000</td>\n",
       "    </tr>\n",
       "    <tr>\n",
       "      <th>25%</th>\n",
       "      <td>280.590000</td>\n",
       "      <td>7.000000</td>\n",
       "      <td>1.000000</td>\n",
       "    </tr>\n",
       "    <tr>\n",
       "      <th>50%</th>\n",
       "      <td>446.670000</td>\n",
       "      <td>15.000000</td>\n",
       "      <td>1.000000</td>\n",
       "    </tr>\n",
       "    <tr>\n",
       "      <th>75%</th>\n",
       "      <td>1236.900000</td>\n",
       "      <td>19.000000</td>\n",
       "      <td>1.000000</td>\n",
       "    </tr>\n",
       "    <tr>\n",
       "      <th>max</th>\n",
       "      <td>11069.760000</td>\n",
       "      <td>66.000000</td>\n",
       "      <td>1.000000</td>\n",
       "    </tr>\n",
       "  </tbody>\n",
       "</table>\n",
       "</div>"
      ],
      "text/plain": [
       "              sales  transactions           neg\n",
       "count  46407.000000  46407.000000  46407.000000\n",
       "mean     999.040725     13.591075      0.998319\n",
       "std     1186.011301      7.451356      0.057955\n",
       "min     -919.830000      1.000000     -1.000000\n",
       "25%      280.590000      7.000000      1.000000\n",
       "50%      446.670000     15.000000      1.000000\n",
       "75%     1236.900000     19.000000      1.000000\n",
       "max    11069.760000     66.000000      1.000000"
      ]
     },
     "execution_count": 3,
     "metadata": {},
     "output_type": "execute_result"
    }
   ],
   "source": [
    "office.describe()"
   ]
  },
  {
   "cell_type": "markdown",
   "metadata": {
    "deletable": false,
    "editable": false,
    "nbgrader": {
     "grade": false,
     "locked": true,
     "solution": false
    }
   },
   "source": [
    "<a id = \"normal\"></a>\n",
    "### Normal Distribution\n",
    "\n",
    "The normal distribution, also known as the *Gaussian distribution*, is a probability distribution that is symmetric around the mean, showing that data near the mean are more frequent in occurrence than data far from the mean. In graph form, the normal distribution will appear as a *bell curve*."
   ]
  },
  {
   "cell_type": "markdown",
   "metadata": {
    "deletable": false,
    "editable": false,
    "nbgrader": {
     "grade": false,
     "locked": true,
     "solution": false
    }
   },
   "source": [
    "[Back to top](#Index:) \n",
    "<a id='q1'></a>\n",
    "\n",
    "### Question 1:\n",
    "\n",
    "*5 points*\n",
    "\n",
    "Which of the following parameters describe a normal distribution?\n",
    "- a) mean -- $\\mu$\n",
    "- b) Standard Deviation -- $\\sigma$\n",
    "- c) probability -- $p$\n",
    "- d) mean / Variance -- $\\lambda$\n",
    "- e) Variance -- $\\sigma^2$\n",
    "\n",
    "Create a list of all correct answers, i.e., ['a', 'b'], and assign it to `ans1`."
   ]
  },
  {
   "cell_type": "code",
   "execution_count": 4,
   "metadata": {},
   "outputs": [],
   "source": [
    "### GRADED\n",
    "\n",
    "### YOUR SOLUTION HERE\n",
    "ans1 = ['a','b']\n",
    "\n",
    "###\n",
    "### YOUR CODE HERE\n",
    "###\n"
   ]
  },
  {
   "cell_type": "code",
   "execution_count": 5,
   "metadata": {
    "deletable": false,
    "editable": false,
    "nbgrader": {
     "grade": true,
     "grade_id": "Question 01",
     "locked": true,
     "points": "5",
     "solution": false
    }
   },
   "outputs": [],
   "source": [
    "###\n",
    "### AUTOGRADER TEST - DO NOT REMOVE\n",
    "###\n"
   ]
  },
  {
   "cell_type": "markdown",
   "metadata": {
    "deletable": false,
    "editable": false,
    "nbgrader": {
     "grade": false,
     "locked": true,
     "solution": false
    }
   },
   "source": [
    "Next, we generate a distribution of sample means drawn from the `office['sales']` data set. The Central Limit Theorem states that, aside from a few exceptions, a distribution of means from multiple samples in a population follows a normal distribution.\n",
    "\n",
    "Run the following code cell, which does the following task 10,000 times inside a `for` loop:\n",
    "1. Randomly choose 100 observations from the `sales` column\n",
    "2. Take the mean of each sample of 100 observations\n",
    "3. Append the mean to a Python list called `sample_means`, which is initialized as an empty list before the loop.\n",
    "\n",
    "After running this loop, we print the first 5 means in the list to get a sense of what it looks like."
   ]
  },
  {
   "cell_type": "code",
   "execution_count": 6,
   "metadata": {
    "nbgrader": {
     "grade": false,
     "locked": false,
     "solution": false
    }
   },
   "outputs": [
    {
     "name": "stdout",
     "output_type": "stream",
     "text": [
      "Example sample means: [956.7939999999998, 1206.182, 853.3449, 1043.3463000000002, 988.8136999999998] \n",
      "\n",
      "CPU times: user 962 ms, sys: 0 ns, total: 962 ms\n",
      "Wall time: 971 ms\n"
     ]
    }
   ],
   "source": [
    "%%time\n",
    "\n",
    "# Create a list to collect sample means\n",
    "sample_means = []\n",
    "\n",
    "# Generate 100 \n",
    "for i in range(10000):\n",
    "    \n",
    "    # Draw 100 random observations from the sales column\n",
    "    sample = np.random.choice(office['sales'], size = 100, replace = True)\n",
    "    \n",
    "    # Add the mean of each sample to the list\n",
    "    sample_means.append(np.mean(sample))\n",
    "\n",
    "    \n",
    "# Print first five sample means\n",
    "print(\"Example sample means:\", sample_means[:5], \"\\n\")"
   ]
  },
  {
   "cell_type": "markdown",
   "metadata": {
    "deletable": false,
    "editable": false,
    "nbgrader": {
     "grade": false,
     "locked": true,
     "solution": false
    }
   },
   "source": [
    "Now that we have our list of sample means, we are going to create two subplots in `matplotlib` -- one plotting the distribution of sample means, and one plotting a random normal sample of 10,000 values using `np.random.normal()`. "
   ]
  },
  {
   "cell_type": "code",
   "execution_count": 7,
   "metadata": {},
   "outputs": [
    {
     "data": {
      "image/png": "[encoded data removed]",
      "text/plain": [
       "<Figure size 720x360 with 2 Axes>"
      ]
     },
     "metadata": {
      "needs_background": "light"
     },
     "output_type": "display_data"
    }
   ],
   "source": [
    "# Set up a subplot with 2 axes\n",
    "_, (ax1, ax2) = plt.subplots(1,2, figsize = (10,5))\n",
    "\n",
    "# Create a histogram for the first subplot of sample_means\n",
    "ax1.hist(sample_means, bins = 80)\n",
    "ax1.set_title(\"Mean Sales; Calculated from Samples\");\n",
    "\n",
    "# Create the second histogram of random normal data\n",
    "ax2.hist(np.random.normal(size = 10000), bins = 80)\n",
    "ax2.set_title(\"Draws From Standard Normal: $\\mu = 0$\");"
   ]
  },
  {
   "cell_type": "markdown",
   "metadata": {
    "deletable": false,
    "editable": false,
    "nbgrader": {
     "grade": false,
     "locked": true,
     "solution": false
    }
   },
   "source": [
    "The two visualizations are fairly similar, and are both clear examples of a _normal distribution_. In a normal distribution, the majority of data is centered around the mean with a small number of data points (outliers) present at the edges (tails) of the distribution. "
   ]
  },
  {
   "cell_type": "markdown",
   "metadata": {
    "deletable": false,
    "editable": false,
    "nbgrader": {
     "grade": false,
     "locked": true,
     "solution": false
    }
   },
   "source": [
    "[Back to top](#Index:) \n",
    "<a id='q2'></a>\n",
    "\n",
    "### Question 2:\n",
    "\n",
    "*5 points*\n",
    "\n",
    "Refer to the two figures above. The mean $\\mu$ of the standard normal distribution on the right is 0, and the standard deviation is 1. The distribution of sample means on the left is also approximately normal. Estimate the value of the mean of the distribution on the left to the nearest 100 and assign it to `ans2` below.\n",
    "\n",
    "**Hint:** Use the functions `.mean()` and `round` and recall that the distribution on the left was generated from `office['sales']`."
   ]
  },
  {
   "cell_type": "code",
   "execution_count": 6,
   "metadata": {},
   "outputs": [
    {
     "ename": "NameError",
     "evalue": "name 'office' is not defined",
     "output_type": "error",
     "traceback": [
      "\u001b[0;31m---------------------------------------------------------------------------\u001b[0m",
      "\u001b[0;31mNameError\u001b[0m                                 Traceback (most recent call last)",
      "\u001b[0;32m<ipython-input-6-26601d27224f>\u001b[0m in \u001b[0;36m<module>\u001b[0;34m\u001b[0m\n\u001b[0;32m----> 1\u001b[0;31m \u001b[0mint\u001b[0m\u001b[0;34m(\u001b[0m\u001b[0mround\u001b[0m\u001b[0;34m(\u001b[0m\u001b[0moffice\u001b[0m\u001b[0;34m[\u001b[0m\u001b[0;34m'sales'\u001b[0m\u001b[0;34m]\u001b[0m\u001b[0;34m.\u001b[0m\u001b[0mmean\u001b[0m\u001b[0;34m(\u001b[0m\u001b[0;34m)\u001b[0m\u001b[0;34m,\u001b[0m\u001b[0;36m2\u001b[0m\u001b[0;34m)\u001b[0m\u001b[0;34m)\u001b[0m\u001b[0;34m\u001b[0m\u001b[0;34m\u001b[0m\u001b[0m\n\u001b[0m",
      "\u001b[0;31mNameError\u001b[0m: name 'office' is not defined"
     ]
    }
   ],
   "source": [
    "int(round(office['sales'].mean(),-2))"
   ]
  },
  {
   "cell_type": "code",
   "execution_count": 9,
   "metadata": {},
   "outputs": [],
   "source": [
    "### GRADED\n",
    "\n",
    "### YOUR SOLUTION HERE\n",
    "ans2 = int(round(office['sales'].mean(),-2))\n",
    "\n",
    "###\n",
    "### YOUR CODE HERE\n",
    "###\n"
   ]
  },
  {
   "cell_type": "code",
   "execution_count": 10,
   "metadata": {},
   "outputs": [
    {
     "data": {
      "text/plain": [
       "1000"
      ]
     },
     "execution_count": 10,
     "metadata": {},
     "output_type": "execute_result"
    }
   ],
   "source": [
    "ans2"
   ]
  },
  {
   "cell_type": "code",
   "execution_count": 11,
   "metadata": {
    "deletable": false,
    "editable": false,
    "nbgrader": {
     "grade": true,
     "grade_id": "Question 02",
     "locked": true,
     "points": "5",
     "solution": false
    }
   },
   "outputs": [],
   "source": [
    "###\n",
    "### AUTOGRADER TEST - DO NOT REMOVE\n",
    "###\n"
   ]
  },
  {
   "cell_type": "markdown",
   "metadata": {
    "deletable": false,
    "editable": false,
    "nbgrader": {
     "grade": false,
     "locked": true,
     "solution": false
    }
   },
   "source": [
    "### Standard deviation\n",
    "\n",
    "The **standard deviation** measures the average distance above or below the mean. It's an indicator of how spread out a data set is in relation to the mean.\n",
    "\n",
    "Let's take a look at the standard deviation of the `sample_means` data set using the `np.std()` function from the `numpy` package."
   ]
  },
  {
   "cell_type": "code",
   "execution_count": 12,
   "metadata": {
    "deletable": false,
    "editable": false,
    "nbgrader": {
     "grade": false,
     "locked": true,
     "solution": false
    }
   },
   "outputs": [
    {
     "name": "stdout",
     "output_type": "stream",
     "text": [
      "Standard deviation =  118.74433618037185\n"
     ]
    }
   ],
   "source": [
    "# Print the sample_means standard deviation\n",
    "print(\"Standard deviation = \", np.std(sample_means))"
   ]
  },
  {
   "cell_type": "markdown",
   "metadata": {
    "deletable": false,
    "editable": false,
    "nbgrader": {
     "grade": false,
     "locked": true,
     "solution": false
    }
   },
   "source": [
    "Assume now that we have the following knowledge about the entire population (all of the `office` sales data):\n",
    "\n",
    "- The data is normally distributed\n",
    "- The population mean is \\$1,000 per sale\n",
    "- The population standard deviation is \\$120 per sale\n",
    "- The population covariance is 0 ($\\rho = 0$)\n",
    "\n",
    "We'll use this knowledge to compare summary values of another normal distribution, a vending machine company's sales with:\n",
    "- A normally distributed population\n",
    "- A population mean of \\$950\n",
    "- A population standard deviation of \\$20\n",
    "\n",
    "**Note:** From now on, we will use the letter `O` to denote the `office` dataset, and the letter `V` to represent the vending machine company dataset."
   ]
  },
  {
   "cell_type": "markdown",
   "metadata": {
    "deletable": false,
    "editable": false,
    "nbgrader": {
     "grade": false,
     "locked": true,
     "solution": false
    }
   },
   "source": [
    "### Linear Combination of Normal Distributions\n",
    "\n",
    "Next, we are going to look at methods of interacting with and comparing values from the two distributions. \n",
    "\n",
    "Let's consider two potential scenarios:  \n",
    "\n",
    "- Adding the mean sales from both companies\n",
    "- Generating a weight mean, using the combination of 0.6 of the sales from the office supply company and 0.4 of the sales from the vending company. These figures represent the proportions of sale records from each distribution (60% of all sales were from the office company, 40% were from the vending company).\n",
    "\n",
    "#### Expected Value\n",
    "The term _expected value_ $E[X]$ refers to the actual or inferred value of the population $X$. (In your work as a data scientist, you will sometimes have access to this information, but often times you may need to estimate it.) \n",
    "\n",
    "The `office` data set has an expected population mean of 1000, and the `vending` company has an expected mean of 950. Using mathematical notation, the expected value for these two distributions can be represented as follows:  \n",
    "\n",
    "$E[O] = 1000$  \n",
    "$E[V] = 950$  \n",
    "\n",
    "If $a \\text{ and } b$ are constants, and $X \\text{ and } Y$ are normally distributed, then \n",
    "\n",
    "$$E[aX +bY] = a*E[X] + b*E[Y]$$ \n",
    "\n",
    "Thus, we can add together the means for a total mean score:  \n",
    "\n",
    "$E[O + V] = 1*E[O] + 1*E[V] = 1,000 + 950 = 1,950$  \n",
    "\n",
    "Or, we can calculate a _weighted_ mean, adjusting for the proportions represented in each of the `office` and `vending` data sets.\n",
    "\n",
    "$E[.6O+.4V] = .6 E[O] + .4 E[V] = .6*1,000 + .4 * 950 = 980$  "
   ]
  },
  {
   "cell_type": "markdown",
   "metadata": {
    "deletable": false,
    "editable": false,
    "nbgrader": {
     "grade": false,
     "locked": true,
     "solution": false
    }
   },
   "source": [
    "#### Variance\n",
    " The **variance**, the measure of spread in a data set, is defined as the standard deviation squared ($\\sigma^2$). \n",
    " Because the Standard Deviation ($\\sigma$) of the office supply sales and the vending company are 120 and 20, respectively,\n",
    "the variance will be 14,400 for the office supply sales and will be 400 for the vending company.  \n",
    "\n",
    "Using mathematical notation, we can represent the variance as follows:  \n",
    "$Var[O] = 14400$  \n",
    "$Var[V] = 400$\n",
    "\n",
    "If $a \\text{ and } b$ are constants, and $X \\text{ and } Y$ are normally distributed, we know: \n",
    "\n",
    "$$Var[aX+bY] = a^2Var[X] + b^2Var[Y] + 2abCov[X,Y]$$\n",
    "\n",
    "Remember, $Cov[X,Y] \\text{ is } \\rho$. For us, as stated above, $\\rho$ is 0.  \n",
    "\n",
    "We can calculate the variance between the two data sets as follows:\n",
    "\n",
    "$Var[O+V] = 1^2Var[O] + 1^2Var[V] + 0 = 14,400 + 400 = 14,800$  \n",
    "\n",
    "We can also calculate a weighed variance, reflecting the proportions in the actual population:\n",
    "\n",
    "$Var[.6O+.4V] = .6^2Var[O] + .4^2Var[V] + 0 = .36*14,400 + .16*400 = 5,248$  \n",
    "\n"
   ]
  },
  {
   "cell_type": "markdown",
   "metadata": {
    "deletable": false,
    "editable": false,
    "nbgrader": {
     "grade": false,
     "locked": true,
     "solution": false
    }
   },
   "source": [
    "[Back to top](#Index:) \n",
    "<a id='q3'></a>\n",
    "\n",
    "### Question 3:\n",
    "\n",
    "*5 points*\n",
    "\n",
    "Calculate the **expected value** of twice the mean sales of the office company plus half of the mean sales of the vending company. Assign the result as a float to `ans3`."
   ]
  },
  {
   "cell_type": "markdown",
   "metadata": {},
   "source": [
    "$$E[aX + bY] = a*E[X] + b*E[Y]$$ \n",
    "$$E[2X + 0.5Y] = 2*E[X] + 0.5*E[Y]$$ "
   ]
  },
  {
   "cell_type": "code",
   "execution_count": 13,
   "metadata": {},
   "outputs": [],
   "source": [
    "ans3 = 2 * 1000 + 0.5 * 950"
   ]
  },
  {
   "cell_type": "code",
   "execution_count": 14,
   "metadata": {},
   "outputs": [],
   "source": [
    "### GRADED\n",
    "EO = 1000\n",
    "EV = 950\n",
    "\n",
    "### YOUR SOLUTION HERE\n",
    "ans3 = 2 * EO + 0.5 * EV\n",
    "\n",
    "###\n",
    "### YOUR CODE HERE\n",
    "###\n"
   ]
  },
  {
   "cell_type": "code",
   "execution_count": 15,
   "metadata": {},
   "outputs": [
    {
     "data": {
      "text/plain": [
       "2475.0"
      ]
     },
     "execution_count": 15,
     "metadata": {},
     "output_type": "execute_result"
    }
   ],
   "source": [
    "ans3"
   ]
  },
  {
   "cell_type": "code",
   "execution_count": 16,
   "metadata": {
    "deletable": false,
    "editable": false,
    "nbgrader": {
     "grade": true,
     "grade_id": "Question 03",
     "locked": true,
     "points": "5",
     "solution": false
    }
   },
   "outputs": [],
   "source": [
    "###\n",
    "### AUTOGRADER TEST - DO NOT REMOVE\n",
    "###\n"
   ]
  },
  {
   "cell_type": "markdown",
   "metadata": {
    "deletable": false,
    "editable": false,
    "nbgrader": {
     "grade": false,
     "locked": true,
     "solution": false
    }
   },
   "source": [
    "[Back to top](#Index:) \n",
    "<a id='q4'></a>\n",
    "\n",
    "### Question 4:\n",
    "\n",
    "*5 points*\n",
    "\n",
    "Calculate the **variance** of twice the mean sales of the company, plus half of the mean sales of the vending company.\n",
    "Assign your answer as a float to `ans4`."
   ]
  },
  {
   "cell_type": "markdown",
   "metadata": {},
   "source": [
    "$$Var[aX+bY] = a^2Var[X] + b^2Var[Y] + 2abCov[X,Y]$$\n",
    "$$Var[2X+0.5Y] = 2^2Var[X] + 0.5^2Var[Y] + 2ab*0[X,Y]$$"
   ]
  },
  {
   "cell_type": "code",
   "execution_count": 17,
   "metadata": {},
   "outputs": [
    {
     "data": {
      "text/plain": [
       "57700.0"
      ]
     },
     "execution_count": 17,
     "metadata": {},
     "output_type": "execute_result"
    }
   ],
   "source": [
    "VarO = 14400\n",
    "VarV = 400\n",
    "\n",
    "(2**2 * VarO) + (0.5 ** 2 * VarV)"
   ]
  },
  {
   "cell_type": "code",
   "execution_count": 18,
   "metadata": {},
   "outputs": [],
   "source": [
    "### GRADED\n",
    "VarO = 14400\n",
    "VarV = 400\n",
    "\n",
    "### YOUR SOLUTION HERE\n",
    "ans4 = None\n",
    "\n",
    "###\n",
    "### YOUR CODE HERE\n",
    "###\n"
   ]
  },
  {
   "cell_type": "code",
   "execution_count": 19,
   "metadata": {
    "deletable": false,
    "editable": false,
    "nbgrader": {
     "grade": true,
     "grade_id": "Question 04",
     "locked": true,
     "points": "5",
     "solution": false
    }
   },
   "outputs": [],
   "source": [
    "###\n",
    "### AUTOGRADER TEST - DO NOT REMOVE\n",
    "###\n"
   ]
  },
  {
   "cell_type": "markdown",
   "metadata": {
    "deletable": false,
    "editable": false,
    "nbgrader": {
     "grade": false,
     "locked": true,
     "solution": false
    }
   },
   "source": [
    "<a id = \"bernoulli\"></a>\n",
    "### Bernoulli Distribution\n",
    "\n",
    "We just saw that continuous data can be plotted in a histogram, and often fits a _normal distribution_ which has several key characteristics. The *Bernoulli Distribution* shows the probabilities of a binary variable (a data set with **two** possible outcomes in a **single \"trial\"**). A common example is flipping a coin and recording the result (heads = 1, tails = 0). If you flip a coin 100 times and get 60% heads, and 40% tails, your result is as follows:\n",
    "\n",
    "    1. Heads   -> 0.6\n",
    "    2. Tails   -> 0.4\n",
    "    \n",
    "In another example, you can group continuous data into binary indicators that represent an outcome. For example, you can group positive sale values (sales) and negative sale values (returns) as follows:\n",
    "\n",
    "    1. sales >=0   -> 0.9\n",
    "    2. sales <0    -> 0.1\n",
    "\n",
    "Notice these are _mututally exclusive outcomes_, with all probabilities adding up to 1.0."
   ]
  },
  {
   "cell_type": "markdown",
   "metadata": {
    "deletable": false,
    "editable": false,
    "nbgrader": {
     "grade": false,
     "locked": true,
     "solution": false
    }
   },
   "source": [
    "Let's find the actual probability of sales - in the office data set - being greater than or equal to zero. First, let's extract just the `sales` column for further exploration, and then describe the contents of the values. If we want to count the number of values in this data set, we can use `len`. The `len` function can also be used to count subsets of the data."
   ]
  },
  {
   "cell_type": "code",
   "execution_count": 20,
   "metadata": {
    "deletable": false,
    "editable": false,
    "nbgrader": {
     "grade": false,
     "locked": true,
     "solution": false
    }
   },
   "outputs": [
    {
     "name": "stdout",
     "output_type": "stream",
     "text": [
      "Total Sales observations: 46407\n",
      "Total non-negative sales observations 46368\n",
      "Proportion of non-negative sales observations 0.9991596095416639\n"
     ]
    }
   ],
   "source": [
    "# Extract the sales column\n",
    "sales = office['sales']\n",
    "\n",
    "# Count the number of sales\n",
    "print(\"Total Sales observations:\", len(sales))\n",
    "\n",
    "# Count the number of sales with a positive value\n",
    "print(\"Total non-negative sales observations\", len(sales[sales>=0]))\n",
    "\n",
    "# Calculate the proportion of positive sales\n",
    "print(\"Proportion of non-negative sales observations\", len(sales[sales>=0])/len(sales))"
   ]
  },
  {
   "cell_type": "markdown",
   "metadata": {
    "deletable": false,
    "editable": false,
    "nbgrader": {
     "grade": false,
     "locked": true,
     "solution": false
    }
   },
   "source": [
    "Fortunately for this company, there are very few instances of negative sales figures for an account.  \n",
    "\n",
    "Let's calculate another probability:\n",
    "Assume that this supplier needs a sale value of \\$250 in order for an account to break even."
   ]
  },
  {
   "cell_type": "code",
   "execution_count": 21,
   "metadata": {
    "deletable": false,
    "editable": false,
    "nbgrader": {
     "grade": false,
     "locked": true,
     "solution": false
    }
   },
   "outputs": [
    {
     "name": "stdout",
     "output_type": "stream",
     "text": [
      "Total Sales observations: 46407\n",
      "Total break-even accounts 37356\n",
      "Proportion of break-even accounts 0.8049647682461698\n"
     ]
    }
   ],
   "source": [
    "# Count the number of sales\n",
    "print(\"Total Sales observations:\", len(sales))\n",
    "\n",
    "# Count the number of sales over $250\n",
    "print(\"Total break-even accounts\", len(sales[sales>=250]))\n",
    "\n",
    "# Calculate the proportion of break-even accounts\n",
    "print(\"Proportion of break-even accounts\", len(sales[sales>=250])/len(sales))"
   ]
  },
  {
   "cell_type": "markdown",
   "metadata": {
    "deletable": false,
    "editable": false,
    "nbgrader": {
     "grade": false,
     "locked": true,
     "solution": false
    }
   },
   "source": [
    "Great! It seems that around 80% of the time, a sale allows for the account to break even. We'll round the above probability to 0.8 for all further calculations.\n",
    "\n",
    "Let's import the `scipy.stats` library so we can interact with some key functions for plotting a Bernoulli distribution. `stats.bernoulli.pmf` provides the **probability mass function**, which is the discrete probability of an event occurring or not occurring. In this case, we assigned the probability of the event occurring (a sale breaking even) to `p` as 0.8. \n",
    "\n",
    "Let's print out the probability of the event occurring (account breaking even) or not occurring (account not breaking even)."
   ]
  },
  {
   "cell_type": "code",
   "execution_count": 22,
   "metadata": {
    "deletable": false,
    "editable": false,
    "nbgrader": {
     "grade": false,
     "locked": true,
     "solution": false
    }
   },
   "outputs": [
    {
     "name": "stdout",
     "output_type": "stream",
     "text": [
      "Probability of a sale not breaking even: 0.20\n",
      "Probability of a sale breaking even: 0.80\n"
     ]
    }
   ],
   "source": [
    "from scipy import stats\n",
    "\n",
    "# Probability of an account breaking even\n",
    "p = 0.8\n",
    "\n",
    "# Print the probabilities of an account breaking even/not breaking even\n",
    "print(\"Probability of a sale not breaking even: {:.2f}\".format(stats.bernoulli.pmf(0,p)))\n",
    "print(\"Probability of a sale breaking even: {:.2f}\".format(stats.bernoulli.pmf(1,p)))"
   ]
  },
  {
   "cell_type": "markdown",
   "metadata": {
    "deletable": false,
    "editable": false,
    "nbgrader": {
     "grade": false,
     "locked": true,
     "solution": false
    }
   },
   "source": [
    "[Back to top](#Index:) \n",
    "<a id='q5'></a>\n",
    "\n",
    "### Question 5:\n",
    "\n",
    "*10 points*\n",
    "\n",
    "The `python` code to plot the probability `p` of a sale not breaking even is given by:\n",
    "\n",
    "```python\n",
    "plt.vlines(0, 0, stats.bernoulli.pmf(0, p), colors='b', lw=5, alpha=0.5)\n",
    "```\n",
    "    \n",
    "Using the example above, plot the probabilities of a sale breaking even or not. Do not change any parameter other than the value corresponding to the successfull outcome. Save your plot as a png with the name \"plot5.png\" in the folder \"results\".\n"
   ]
  },
  {
   "cell_type": "code",
   "execution_count": 23,
   "metadata": {},
   "outputs": [
    {
     "data": {
      "text/plain": [
       "0.8"
      ]
     },
     "execution_count": 23,
     "metadata": {},
     "output_type": "execute_result"
    }
   ],
   "source": [
    "p"
   ]
  },
  {
   "cell_type": "code",
   "execution_count": 24,
   "metadata": {},
   "outputs": [
    {
     "data": {
      "image/png": "[encoded data removed]",
      "text/plain": [
       "<Figure size 432x288 with 1 Axes>"
      ]
     },
     "metadata": {
      "needs_background": "light"
     },
     "output_type": "display_data"
    }
   ],
   "source": [
    "plt.vlines(0, 0, stats.bernoulli.pmf(0, p), colors='b', lw=5, alpha=0.5)\n",
    "plt.vlines(1, 0, stats.bernoulli.pmf(0, 1-p), colors='b', lw=5, alpha=0.5)\n",
    "plt.savefig('results/plot5.png')"
   ]
  },
  {
   "cell_type": "code",
   "execution_count": null,
   "metadata": {},
   "outputs": [],
   "source": []
  },
  {
   "cell_type": "code",
   "execution_count": 25,
   "metadata": {},
   "outputs": [],
   "source": [
    "### GRADED\n",
    "\n",
    "### YOUR SOLUTION HERE\n",
    "\n",
    "\n",
    "###\n",
    "### YOUR CODE HERE\n",
    "###\n"
   ]
  },
  {
   "cell_type": "code",
   "execution_count": 26,
   "metadata": {
    "deletable": false,
    "editable": false,
    "nbgrader": {
     "grade": true,
     "grade_id": "Question 05",
     "locked": true,
     "points": "10",
     "solution": false
    }
   },
   "outputs": [],
   "source": [
    "###\n",
    "### AUTOGRADER TEST - DO NOT REMOVE\n",
    "###\n"
   ]
  },
  {
   "cell_type": "markdown",
   "metadata": {
    "deletable": false,
    "editable": false,
    "nbgrader": {
     "grade": false,
     "locked": true,
     "solution": false
    }
   },
   "source": [
    "As you can see, the Bernoulli distribution is a straight distribution plotting the probability of two discrete outcomes. On the x-axis, you will always have two points on 0 and 1. The height on the y-axis will represent the probability of each outcome."
   ]
  },
  {
   "cell_type": "markdown",
   "metadata": {
    "deletable": false,
    "editable": false,
    "nbgrader": {
     "grade": false,
     "locked": true,
     "solution": false
    }
   },
   "source": [
    "<a id = \"binomial\"></a>\n",
    "### Binomial Distribution  \n",
    "\n",
    "A **binomial distribution** is the distribution found from repeating a Bernoulli trial with a $p$ chance of success $n$ times. \n",
    "\n",
    "For example, if you flip a coin once, you can assume there is a probability of 50% that you will land on heads. If you were to run an experiment where you create 100 \"trials\" -- each time in which, you flip a coin 8 times, you can plot the number of heads in each of the 100 trials in a _binomial distribution_."
   ]
  },
  {
   "cell_type": "markdown",
   "metadata": {
    "deletable": false,
    "editable": false,
    "nbgrader": {
     "grade": false,
     "locked": true,
     "solution": false
    }
   },
   "source": [
    "[Back to top](#Index:) \n",
    "<a id='q6'></a>\n",
    "\n",
    "### Question 6:\n",
    "\n",
    "*5 points*\n",
    "\n",
    "Given our p-value from above of .8, and an n- parameter of 100, what is the expected mean of the binomial distribution? Assign your answer as a float to `ans7` below.\n",
    "\n",
    "**Hint:** Use the `scipy` function `stats.binom.mean`."
   ]
  },
  {
   "cell_type": "code",
   "execution_count": 27,
   "metadata": {},
   "outputs": [
    {
     "data": {
      "text/plain": [
       "80.0"
      ]
     },
     "execution_count": 27,
     "metadata": {},
     "output_type": "execute_result"
    }
   ],
   "source": [
    "stats.binom.mean(100, .8)"
   ]
  },
  {
   "cell_type": "code",
   "execution_count": 28,
   "metadata": {},
   "outputs": [],
   "source": [
    "### GRADED\n",
    "\n",
    "### YOUR SOLUTION HERE\n",
    "ans6 = stats.binom.mean(100, .8)\n",
    "\n",
    "###\n",
    "### YOUR CODE HERE\n",
    "###\n"
   ]
  },
  {
   "cell_type": "code",
   "execution_count": 29,
   "metadata": {
    "deletable": false,
    "editable": false,
    "nbgrader": {
     "grade": true,
     "grade_id": "Question 06",
     "locked": true,
     "points": "5",
     "solution": false
    }
   },
   "outputs": [],
   "source": [
    "###\n",
    "### AUTOGRADER TEST - DO NOT REMOVE\n",
    "###\n"
   ]
  },
  {
   "cell_type": "markdown",
   "metadata": {
    "deletable": false,
    "editable": false,
    "nbgrader": {
     "grade": false,
     "locked": true,
     "solution": false
    }
   },
   "source": [
    "Next, let's simulate a binomial distribution using Python.\n",
    "\n",
    "The cell below performs the following tasks:\n",
    "- Create an empty list called `bin_sample` to store values\n",
    "- Start a `for` loop that performs the following actions 10,000 times:\n",
    "  - Draw 100 samples from the `sales` column\n",
    "  - Count the number of sales which are greater than $250 (breaking even)\n",
    "  - Add the count to the `bin_sample` list"
   ]
  },
  {
   "cell_type": "code",
   "execution_count": 30,
   "metadata": {},
   "outputs": [
    {
     "name": "stdout",
     "output_type": "stream",
     "text": [
      "CPU times: user 1.42 s, sys: 0 ns, total: 1.42 s\n",
      "Wall time: 1.42 s\n"
     ]
    }
   ],
   "source": [
    "%%time\n",
    "# Create an empty list for storing observations\n",
    "bin_sample = []\n",
    "\n",
    "# Run code 10000 times\n",
    "for i in range(10000):\n",
    "    # Take 100 samples from \"sales\"\n",
    "    sample = np.random.choice(office['sales'], size = 100, replace = True)\n",
    "    \n",
    "    # Only keep observations greater than 250\n",
    "    break_even = [s for s in sample if s >=250]\n",
    "    \n",
    "    # Count remaining observations\n",
    "    bin_sample.append(len(break_even))"
   ]
  },
  {
   "cell_type": "markdown",
   "metadata": {
    "deletable": false,
    "editable": false,
    "nbgrader": {
     "grade": false,
     "locked": true,
     "solution": false
    }
   },
   "source": [
    "Now, we have a list of 10,000 samples indicating the total count of sales that were over $250. Let's plot this list to see the shape of the distributions.\n",
    "\n",
    "We're going to create two overlapping bar graphs. First, in blue, we will plot our observed binomial distribution taken from the `bin_sample` list we just generated. Second, in red, we will plot the **probability mass function** of a binomial distribution given a probability of 0.8, n=100, and 10,000 trials to simulate the expected outcome of our trials above. Let's compare the two."
   ]
  },
  {
   "cell_type": "code",
   "execution_count": 31,
   "metadata": {
    "deletable": false,
    "editable": false,
    "nbgrader": {
     "grade": false,
     "locked": true,
     "solution": false
    }
   },
   "outputs": [
    {
     "data": {
      "text/plain": [
       "80    1037\n",
       "82     973\n",
       "81     959\n",
       "83     895\n",
       "79     881\n",
       "dtype: int64"
      ]
     },
     "execution_count": 31,
     "metadata": {},
     "output_type": "execute_result"
    }
   ],
   "source": [
    "# Count the number of trials by # of successes\n",
    "bin_sample_counts = pd.Series(bin_sample).value_counts()\n",
    "\n",
    "# Examine the grouped data\n",
    "bin_sample_counts.head()"
   ]
  },
  {
   "cell_type": "markdown",
   "metadata": {
    "deletable": false,
    "editable": false,
    "nbgrader": {
     "grade": false,
     "locked": true,
     "solution": false
    }
   },
   "source": [
    "You can see that the most frequent number of successes is roughly 80, reflecting the 80% probability of breaking even. Let's create our simulated binomial data using the `stats.binom.pmf()` function."
   ]
  },
  {
   "cell_type": "code",
   "execution_count": 32,
   "metadata": {
    "deletable": false,
    "editable": false,
    "nbgrader": {
     "grade": false,
     "locked": true,
     "solution": false
    }
   },
   "outputs": [
    {
     "data": {
      "text/plain": [
       "60    0.012283\n",
       "61    0.033244\n",
       "62    0.086308\n",
       "63    0.214860\n",
       "64    0.512675\n",
       "dtype: float64"
      ]
     },
     "execution_count": 32,
     "metadata": {},
     "output_type": "execute_result"
    }
   ],
   "source": [
    "# Create the binomial data in the same format as our observed data\n",
    "binom_pmf = {}\n",
    "for i in range(60,96):\n",
    "    binom_pmf[i] = stats.binom.pmf(i,100,len(sales[sales>=250])/len(sales),)*10000\n",
    "    \n",
    "# Convert from a dictionary to a pandas series\n",
    "binom_pmf_ser=pd.Series(binom_pmf)\n",
    "\n",
    "# Examine the binomial data\n",
    "binom_pmf_ser.head()"
   ]
  },
  {
   "cell_type": "markdown",
   "metadata": {
    "deletable": false,
    "editable": false,
    "nbgrader": {
     "grade": false,
     "locked": true,
     "solution": false
    }
   },
   "source": [
    "[Back to top](#Index:) \n",
    "<a id='q7'></a>\n",
    "\n",
    "### Question 7:\n",
    "\n",
    "*10 points*\n",
    "\n",
    "We now have our two overlapping series to plot and compare. The `binom_pmf_ser` represents what the distribution _should_ look like based on the probability value and the `bin_sample_counts` represents the actual binomial distribution of sales values for comparison.\n",
    "\n",
    "The `python` code to create a bar plot of the actual binomial distribution is given by:\n",
    "\n",
    "```python\n",
    "plt.bar(bin_sample_counts.index, bin_sample_counts, color = \"blue\", alpha = .4)\n",
    "```\n",
    "    \n",
    "Using the example above, create a plot that contains the actual binomial distribution *and* a second bar graph of the binomial series. Set the color in the second bar plot equal to `red`. Do not change any parameter. Save your plot as a png with the name \"plot8.png\" in the folder \"results\".\n"
   ]
  },
  {
   "cell_type": "markdown",
   "metadata": {},
   "source": [
    "# plot the pmf and the sample counts"
   ]
  },
  {
   "cell_type": "code",
   "execution_count": 33,
   "metadata": {
    "nbgrader": {
     "grade": false,
     "grade_id": "Question 07",
     "locked": false,
     "points": "10",
     "solution": false
    }
   },
   "outputs": [
    {
     "data": {
      "image/png": "[encoded data removed]",
      "text/plain": [
       "<Figure size 432x288 with 2 Axes>"
      ]
     },
     "metadata": {
      "needs_background": "light"
     },
     "output_type": "display_data"
    }
   ],
   "source": [
    "### GRADED\n",
    "\n",
    "### YOUR SOLUTION HERE\n",
    "\n",
    "\n",
    "\n",
    "\n",
    "# plt.show()\n",
    "# plot1 = plt.figure(1)\n",
    "# plt.bar(bin_sample_counts.index, bin_sample_counts, color = \"blue\", alpha = .4)\n",
    "# plot2 = plt.figure(2)\n",
    "# plt.bar(binom_pmf_ser.index, binom_pmf_ser, color = \"red\", alpha = .4)\n",
    "# plt.savefig('results/plot8.png')\n",
    "\n",
    "plt.subplot(2, 1, 1)\n",
    "plt.bar(bin_sample_counts.index, bin_sample_counts, color = \"blue\", alpha = .4)\n",
    "plt.subplot(2, 1, 2)\n",
    "plt.bar(binom_pmf_ser.index, binom_pmf_ser, color = \"red\", alpha = .4)\n",
    "plt.savefig('results/plot8.png')\n",
    "\n",
    "\n",
    "###\n",
    "### YOUR CODE HERE\n",
    "###\n"
   ]
  },
  {
   "cell_type": "code",
   "execution_count": 34,
   "metadata": {},
   "outputs": [
    {
     "data": {
      "text/plain": [
       "60       0.012283\n",
       "61       0.033244\n",
       "62       0.086308\n",
       "63       0.214860\n",
       "64       0.512675\n",
       "65       1.171912\n",
       "66       2.564973\n",
       "67       5.372183\n",
       "68      10.760182\n",
       "69      20.596067\n",
       "70      37.645385\n",
       "71      65.650563\n",
       "72     109.135930\n",
       "73     172.769362\n",
       "74     260.173210\n",
       "75     372.253218\n",
       "76     505.392368\n",
       "77     650.149148\n",
       "78     791.243277\n",
       "79     909.430310\n",
       "80     985.286504\n",
       "81    1004.086927\n",
       "82     960.229099\n",
       "83     859.474661\n",
       "84     717.904234\n",
       "85     557.739462\n",
       "86     401.502250\n",
       "87     266.661654\n",
       "88     162.586713\n",
       "89      90.477396\n",
       "90      45.640886\n",
       "91      20.700292\n",
       "92       8.357857\n",
       "93       2.967330\n",
       "94       0.912010\n",
       "95       0.237734\n",
       "dtype: float64"
      ]
     },
     "execution_count": 34,
     "metadata": {},
     "output_type": "execute_result"
    }
   ],
   "source": [
    "binom_pmf_ser"
   ]
  },
  {
   "cell_type": "code",
   "execution_count": 35,
   "metadata": {
    "deletable": false,
    "editable": false,
    "nbgrader": {
     "grade": true,
     "grade_id": "Question 07",
     "locked": true,
     "points": "10",
     "solution": false
    }
   },
   "outputs": [],
   "source": [
    "###\n",
    "### AUTOGRADER TEST - DO NOT REMOVE\n",
    "###\n"
   ]
  },
  {
   "cell_type": "markdown",
   "metadata": {
    "deletable": false,
    "editable": false,
    "nbgrader": {
     "grade": false,
     "locked": true,
     "solution": false
    }
   },
   "source": [
    "As you can see, the distributions are nearly identical. Binomial distributions are often used in data science questions related to probabilities. If you're answering questions about the probability of a binary outcome (i.e., will a customer make a purchase?), you can use the probability calculated from a large data set to draw samples and plot the probability of a range of outcomes over future trials."
   ]
  },
  {
   "cell_type": "markdown",
   "metadata": {
    "deletable": false,
    "editable": false,
    "nbgrader": {
     "grade": false,
     "locked": true,
     "solution": false
    }
   },
   "source": [
    "[Back to top](#Index:) \n",
    "<a id='q8'></a>\n",
    "\n",
    "### Question 8:\n",
    "\n",
    "*5 points*\n",
    "\n",
    "Given a binomial distribution with n = 100 and p = .80, what is the variance of the distribution? Assign your result as a float to `ans9` below."
   ]
  },
  {
   "cell_type": "code",
   "execution_count": 36,
   "metadata": {},
   "outputs": [],
   "source": [
    "### GRADED\n",
    "n = 100\n",
    "p = .8\n",
    "\n",
    "### YOUR SOLUTION HERE\n",
    "ans8 = stats.binom.var(100, .8)\n",
    "\n",
    "###\n",
    "### YOUR CODE HERE\n",
    "###\n"
   ]
  },
  {
   "cell_type": "code",
   "execution_count": 37,
   "metadata": {},
   "outputs": [
    {
     "data": {
      "text/plain": [
       "15.999999999999996"
      ]
     },
     "execution_count": 37,
     "metadata": {},
     "output_type": "execute_result"
    }
   ],
   "source": [
    "ans8"
   ]
  },
  {
   "cell_type": "code",
   "execution_count": 38,
   "metadata": {
    "deletable": false,
    "editable": false,
    "nbgrader": {
     "grade": true,
     "grade_id": "Question 08",
     "locked": true,
     "points": "8",
     "solution": false
    }
   },
   "outputs": [],
   "source": [
    "###\n",
    "### AUTOGRADER TEST - DO NOT REMOVE\n",
    "###\n"
   ]
  },
  {
   "cell_type": "markdown",
   "metadata": {
    "deletable": false,
    "editable": false,
    "nbgrader": {
     "grade": false,
     "locked": true,
     "solution": false
    }
   },
   "source": [
    "<a id = \"poisson\"></a>\n",
    "### Poisson Distribution"
   ]
  },
  {
   "cell_type": "markdown",
   "metadata": {
    "deletable": false,
    "editable": false,
    "nbgrader": {
     "grade": false,
     "locked": true,
     "solution": false
    }
   },
   "source": [
    "The **Poisson distribution** describes a set of discrete occurrences from a _Poisson experiment_. It characterizes the probability of a _count_ of events occurring (i.e., the number of patients in an emergency room per day) using the following formula:\n",
    "\n",
    "$$P(x; μ) = (e^{-μ}) (μ^x) / x!$$\n",
    "\n",
    "This equation reads, that the probability of $x$, given a mean $\\mu$, can be defined by the equation on the right. Here _e_ is a constant approximately equal to _2.71828_. \n",
    "\n",
    "Given our example of patients in an emergency room, we can estimate the probability of _x_ number of patients in the emergency room in a day given $\\mu$, (the average number of daily patients in the emergency room). \n",
    "\n",
    "#### Probability of a specific count value\n",
    "Let's return to our sales data. We have a column, `transactions`, that contains a count of the number of items per sale. Calculate the mean number of transactions per sale below."
   ]
  },
  {
   "cell_type": "code",
   "execution_count": 39,
   "metadata": {
    "deletable": false,
    "editable": false,
    "nbgrader": {
     "grade": false,
     "locked": true,
     "solution": false
    }
   },
   "outputs": [
    {
     "data": {
      "text/plain": [
       "13.591074622363006"
      ]
     },
     "execution_count": 39,
     "metadata": {},
     "output_type": "execute_result"
    }
   ],
   "source": [
    "office['transactions'].mean()"
   ]
  },
  {
   "cell_type": "markdown",
   "metadata": {
    "deletable": false,
    "editable": false,
    "nbgrader": {
     "grade": false,
     "locked": true,
     "solution": false
    }
   },
   "source": [
    "We know that there are an average of approximately 13.59 transactions in a given sale. What is the probability that there are 15 transactions in our next sale? \n",
    "\n",
    "Let's solve the equation using Python. We can assign the correct values to `x`, `mu`, and `e` below."
   ]
  },
  {
   "cell_type": "code",
   "execution_count": 40,
   "metadata": {},
   "outputs": [],
   "source": [
    "x = 15\n",
    "mu = office['transactions'].mean()\n",
    "\n",
    "e = np.exp(1) # e, Euler's number 2.718..."
   ]
  },
  {
   "cell_type": "markdown",
   "metadata": {
    "deletable": false,
    "editable": false,
    "nbgrader": {
     "grade": false,
     "locked": true,
     "solution": false
    }
   },
   "source": [
    "Next, let's solve our equation using all 3 values we just assigned to `x`, `mu`, and `e`. You can solve for the denominator $x!$ (x-factorial) using `factorial` from the `math` package."
   ]
  },
  {
   "cell_type": "code",
   "execution_count": 41,
   "metadata": {
    "deletable": false,
    "editable": false,
    "nbgrader": {
     "grade": false,
     "locked": true,
     "solution": false
    }
   },
   "outputs": [
    {
     "name": "stdout",
     "output_type": "stream",
     "text": [
      "0.09545059327679627\n"
     ]
    }
   ],
   "source": [
    "import math\n",
    "prob = (e**(-mu))*(mu**x)/math.factorial(x)\n",
    "\n",
    "print(prob)"
   ]
  },
  {
   "cell_type": "markdown",
   "metadata": {
    "deletable": false,
    "editable": false,
    "nbgrader": {
     "grade": false,
     "locked": true,
     "solution": false
    }
   },
   "source": [
    "Thus, based on the Poisson distribution, we can estimate that there is a 9.5% probability that our next sale will have 15 transactions.\n",
    "\n",
    "#### How does this work?\n",
    "\n",
    "Let's simulate a Poisson distribution below using the `poisson` function in `scipy.stats`. This allows you to generate a Poisson distribution with a specified mean."
   ]
  },
  {
   "cell_type": "code",
   "execution_count": 42,
   "metadata": {},
   "outputs": [
    {
     "name": "stdout",
     "output_type": "stream",
     "text": [
      "0.10325773353084435\n"
     ]
    }
   ],
   "source": [
    "# Problem below\n",
    "x = 8\n",
    "mu = 6\n",
    "e = np.exp(1) # e, Euler's number 2.718...\n",
    "\n",
    "prob = (e**(-mu))*(mu**x)/math.factorial(x)\n",
    "\n",
    "print(prob)"
   ]
  },
  {
   "cell_type": "code",
   "execution_count": 43,
   "metadata": {
    "deletable": false,
    "editable": false,
    "nbgrader": {
     "grade": false,
     "locked": true,
     "solution": false
    }
   },
   "outputs": [
    {
     "name": "stdout",
     "output_type": "stream",
     "text": [
      "[1.251616524719395e-06, 1.701081358604397e-05, 0.0001155976184175149, 0.000523698619359963, 0.0017794067538374355, 0.00483680999498827, 0.010956240929346113, 0.0212724411501901, 0.03613941688400742, 0.05457483463102573, 0.07417306499733914, 0.09164469648620137, 0.1037958257239813, 0.10851513945418557, 0.1053455255698543, 0.09545059327679604, 0.08107975849835979, 0.06482123812437535, 0.04894390469235281, 0.035010540051767874, 0.023791543120640333, 0.015397744663513723, 0.0095123589426321, 0.005621007835826741, 0.0031831473729003667, 0.001730495739162698, 0.0009045883355631325, 0.00045534546559843634, 0.0002210226500679608, 0.00010358397690710777]\n"
     ]
    }
   ],
   "source": [
    "from scipy.stats import poisson\n",
    "\n",
    "# Create an empty array\n",
    "arr = []\n",
    "\n",
    "# Create a Poisson object\n",
    "rv = poisson(office['transactions'].mean())\n",
    "\n",
    "# Assign the probability value of each count to arr\n",
    "for num in range(0,30):\n",
    " arr.append(rv.pmf(num))\n",
    "\n",
    "print(arr)"
   ]
  },
  {
   "cell_type": "markdown",
   "metadata": {
    "deletable": false,
    "editable": false,
    "nbgrader": {
     "grade": false,
     "locked": true,
     "solution": false
    }
   },
   "source": [
    "The array printed above contains the probability of getting a transaction value between 0 and 30 based on the mean number of transactions (13.59). The probability value is calculated using the formula above, the **probability mass function**. \n",
    "\n",
    "Let's plot this array in a **Poisson distribution**, adding a marker for our earlier count of 15 transactions."
   ]
  },
  {
   "cell_type": "code",
   "execution_count": 44,
   "metadata": {
    "deletable": false,
    "editable": false,
    "nbgrader": {
     "grade": false,
     "locked": true,
     "solution": false
    }
   },
   "outputs": [
    {
     "data": {
      "image/png": "[encoded data removed]",
      "text/plain": [
       "<Figure size 432x288 with 1 Axes>"
      ]
     },
     "metadata": {
      "needs_background": "light"
     },
     "output_type": "display_data"
    }
   ],
   "source": [
    "# Plot the array\n",
    "plt.grid(True)\n",
    "plt.plot(arr, linewidth=2.0)\n",
    "\n",
    "# Add a marker for transactions = 15\n",
    "prob = rv.pmf(15)\n",
    "plt.plot([15], [prob], marker='o', markersize=6, color=\"red\")\n",
    "\n",
    "# Add labels and title\n",
    "plt.ylabel('Probability of a # of Transactions')\n",
    "plt.xlabel('Number of Transactions')\n",
    "plt.title('Probability Distribution Curve')\n",
    "plt.show()"
   ]
  },
  {
   "cell_type": "markdown",
   "metadata": {
    "deletable": false,
    "editable": false,
    "nbgrader": {
     "grade": false,
     "locked": true,
     "solution": false
    }
   },
   "source": [
    "The above distribution confirms that there is an approximately 9.5% probability that our next sale contains 15 transactions."
   ]
  },
  {
   "cell_type": "markdown",
   "metadata": {
    "deletable": false,
    "editable": false,
    "nbgrader": {
     "grade": false,
     "locked": true,
     "solution": false
    }
   },
   "source": [
    "[Back to top](#Index:) \n",
    "<a id='q09'></a>\n",
    "\n",
    "### Question 09:\n",
    "\n",
    "*5 points*\n",
    "\n",
    "\n",
    "A real estate company sells an average of 6 homes per week. What is the probability that they will sell 8 homes next week? Assign your answer as a float value to `ans9` below."
   ]
  },
  {
   "cell_type": "code",
   "execution_count": 48,
   "metadata": {},
   "outputs": [],
   "source": [
    "### GRADED\n",
    "\n",
    "### YOUR SOLUTION HERE\n",
    "import math\n",
    "x = 8\n",
    "mu = 6\n",
    "e = np.exp(1) # e, Euler's number 2.718...\n",
    "\n",
    "prob = (e**(-mu))*(mu**x)/math.factorial(x)\n",
    "ans9 = prob\n",
    "###\n",
    "### YOUR CODE HERE\n",
    "###\n"
   ]
  },
  {
   "cell_type": "code",
   "execution_count": 46,
   "metadata": {
    "deletable": false,
    "editable": false,
    "nbgrader": {
     "grade": true,
     "grade_id": "Question 09",
     "locked": true,
     "points": "5",
     "solution": false
    }
   },
   "outputs": [],
   "source": [
    "###\n",
    "### AUTOGRADER TEST - DO NOT REMOVE\n",
    "###\n"
   ]
  },
  {
   "cell_type": "markdown",
   "metadata": {
    "deletable": false,
    "editable": false,
    "nbgrader": {
     "grade": false,
     "locked": true,
     "solution": false
    }
   },
   "source": [
    "[Back to top](#Index:) \n",
    "<a id='q10'></a>\n",
    "\n",
    "### Question 10:\n",
    "\n",
    "*5 points*\n",
    "\n",
    "Which of the following sets of data can you use with a Poisson distribution?\n",
    "\n",
    "- a) The number of infants at each height and weight category\n",
    "- b) The number of tickets issued by the police department per day\n",
    "- c) The average daily tickets per police officer per day\n",
    "- d) The number of tests run per visit to a pediatrician's office\n",
    "\n",
    "Assign the letter associated with your choice as a string to `ans10` below."
   ]
  },
  {
   "cell_type": "code",
   "execution_count": 49,
   "metadata": {},
   "outputs": [],
   "source": [
    "### GRADED\n",
    "\n",
    "### YOUR SOLUTION HERE\n",
    "ans10 = 'c'\n",
    "\n",
    "###\n",
    "### YOUR CODE HERE\n",
    "###\n"
   ]
  },
  {
   "cell_type": "code",
   "execution_count": 50,
   "metadata": {
    "deletable": false,
    "editable": false,
    "nbgrader": {
     "grade": true,
     "grade_id": "Question 10",
     "locked": true,
     "points": "10",
     "solution": false
    }
   },
   "outputs": [],
   "source": [
    "###\n",
    "### AUTOGRADER TEST - DO NOT REMOVE\n",
    "###\n"
   ]
  },
  {
   "cell_type": "markdown",
   "metadata": {
    "deletable": false,
    "editable": false,
    "nbgrader": {
     "grade": false,
     "locked": true,
     "solution": false
    }
   },
   "source": [
    "<a id = \"geometric\"></a>\n",
    "### Geometric Distribution\n",
    "A **geometric distribution** describes the number of trials needed for the **FIRST** success of an outcome.\n",
    "\n",
    "- Discrete distribution\n",
    "- Only 1 parameter: $p$\n",
    "- Expected value: $1/p$\n",
    "- Variance: $(1-p)/p^2$\n",
    "\n",
    "\n",
    "For example, let's extend the example found near the end of lecture 5-10, with a basketball player whose chances of making a free-throw are 60% ($p = .6$)  \n",
    "\n",
    "#### Probability of making the first shot  \n",
    "\n",
    "If a player makes the first shot, there is only one Bernoulli trial. What is the probability that was a success?  \n",
    "\n",
    "The probability of one success is .6, thus that is the probability of making the first shot.  \n",
    "\n",
    "#### Probability of making the second shot\n",
    "\n",
    "If the player makes the second shot, there are two Bernoulli trials, a failure then a success.  \n",
    "\n",
    "The probability of the first failure is $1-p$ or .4.  Probability of the success on the second shot is $p$ or .6.  \n",
    "\n",
    "Thus the probability of making the second attempt is $(1-p)p = .4*.6 = .24$  \n",
    "\n",
    "#### Probability of making the 5th shot\n",
    "\n",
    "When a player makes the fifth shot, there are five Bernoulli trials, four failures then a success.  \n",
    "\n",
    "The probability of all the failures is $1-p$ or .4.  Probability of the success on the fifth shot is $p$ or .6.  \n",
    "\n",
    "Thus the probability of making the shot on the fifth attempt is $(1-p)^4p = .4^4*.6 = .1536$  "
   ]
  },
  {
   "cell_type": "markdown",
   "metadata": {
    "deletable": false,
    "editable": false,
    "nbgrader": {
     "grade": false,
     "locked": true,
     "solution": false
    }
   },
   "source": [
    "[Back to top](#Index:) \n",
    "<a id='q11'></a>\n",
    "\n",
    "### Question 11:\n",
    "\n",
    "*5 points*\n",
    "\n",
    "Given our probability of success of .8, what is the likelihood of a success on EITHER the first or second trial?\n",
    "\n",
    "Assign your answer as a float value between 0 and 1 to `ans11`."
   ]
  },
  {
   "cell_type": "code",
   "execution_count": 53,
   "metadata": {},
   "outputs": [],
   "source": [
    "### GRADED\n",
    "p = 0.8\n",
    "\n",
    "### YOUR SOLUTION HERE\n",
    "ans11 = p + (1-p) * p\n",
    "\n",
    "###\n",
    "### YOUR CODE HERE\n",
    "###\n"
   ]
  },
  {
   "cell_type": "code",
   "execution_count": 52,
   "metadata": {
    "deletable": false,
    "editable": false,
    "nbgrader": {
     "grade": true,
     "grade_id": "Question 11",
     "locked": true,
     "points": "5",
     "solution": false
    }
   },
   "outputs": [],
   "source": [
    "###\n",
    "### AUTOGRADER TEST - DO NOT REMOVE\n",
    "###\n"
   ]
  },
  {
   "cell_type": "markdown",
   "metadata": {
    "deletable": false,
    "editable": false,
    "nbgrader": {
     "grade": false,
     "locked": true,
     "solution": false
    }
   },
   "source": [
    "[Back to top](#Index:) \n",
    "<a id='q12'></a>\n",
    "\n",
    "### Question 12:\n",
    "\n",
    "*5 points*\n",
    "\n",
    "Given our probability of breaking even at .8, what is the expected value of a geometric distribution? (i.e., how many times will you need to draw a random value from the data set before you receive a sales value above $250?) Assign a number, float or int, to `ans12`."
   ]
  },
  {
   "cell_type": "code",
   "execution_count": 54,
   "metadata": {},
   "outputs": [],
   "source": [
    "### GRADED\n",
    "p = 0.8\n",
    "\n",
    "### YOUR SOLUTION HERE\n",
    "ans12 = 1/p\n",
    "\n",
    "###\n",
    "### YOUR CODE HERE\n",
    "###\n"
   ]
  },
  {
   "cell_type": "code",
   "execution_count": null,
   "metadata": {
    "collapsed": true,
    "deletable": false,
    "editable": false,
    "nbgrader": {
     "grade": true,
     "grade_id": "Question 12",
     "locked": true,
     "points": "5",
     "solution": false
    }
   },
   "outputs": [],
   "source": [
    "###\n",
    "### AUTOGRADER TEST - DO NOT REMOVE\n",
    "###\n"
   ]
  },
  {
   "cell_type": "markdown",
   "metadata": {
    "deletable": false,
    "editable": false,
    "nbgrader": {
     "grade": false,
     "locked": true,
     "solution": false
    }
   },
   "source": [
    "Once again, let's simulate our distribution with 10,000 trials. We'll be using the `np.random.permutation` function from the `numpy` package in order to randomly draw values from our data set. We will keep drawing values from the `sales` column until we receive a value above $250, and then record the number of trials that were necessary before retrieving the value.\n",
    "\n",
    "Using a `for` loop with a `while` loop nested inside, we will do the following:\n",
    "1. Randomly order the sales column\n",
    "2. Starting from item 1, see how long it takes to find a sales value greater than 250.\n",
    "3. Add that (one-based) index to a list\n",
    "\n",
    "**Please note:** this will take at least 10 seconds to finish running."
   ]
  },
  {
   "cell_type": "code",
   "execution_count": 55,
   "metadata": {},
   "outputs": [
    {
     "name": "stdout",
     "output_type": "stream",
     "text": [
      "CPU times: user 13 s, sys: 0 ns, total: 13 s\n",
      "Wall time: 13 s\n"
     ]
    }
   ],
   "source": [
    "%%time\n",
    "# Create an empty list to add data from for loop\n",
    "geom_trials = []\n",
    "\n",
    "for i in range(10000):\n",
    "    \n",
    "    # Permute the sales data\n",
    "    perm = np.random.permutation(sales)\n",
    "    attempt = 1 # One based indexing\n",
    "    \n",
    "    # Find first sales greater than 250\n",
    "    while perm[attempt-1] <=250:\n",
    "        attempt +=1\n",
    "    \n",
    "    # append index\n",
    "    geom_trials.append(attempt)"
   ]
  },
  {
   "cell_type": "markdown",
   "metadata": {
    "deletable": false,
    "editable": false,
    "nbgrader": {
     "grade": false,
     "locked": true,
     "solution": false
    }
   },
   "source": [
    "Now let's summarize and plot the number of trials that were necessary to retrieve a sales record above $250."
   ]
  },
  {
   "cell_type": "code",
   "execution_count": 56,
   "metadata": {},
   "outputs": [
    {
     "name": "stdout",
     "output_type": "stream",
     "text": [
      "1    8116\n",
      "2    1541\n",
      "3     282\n",
      "4      51\n",
      "5      10\n",
      "dtype: int64\n"
     ]
    },
    {
     "data": {
      "image/png": "[encoded data removed]",
      "text/plain": [
       "<Figure size 432x288 with 1 Axes>"
      ]
     },
     "metadata": {
      "needs_background": "light"
     },
     "output_type": "display_data"
    }
   ],
   "source": [
    "trial_num = pd.Series(geom_trials).value_counts()\n",
    "print(trial_num)\n",
    "plt.bar(trial_num.index, trial_num);"
   ]
  },
  {
   "cell_type": "markdown",
   "metadata": {
    "deletable": false,
    "editable": false,
    "nbgrader": {
     "grade": false,
     "locked": true,
     "solution": false
    }
   },
   "source": [
    "As you probably expected, around 80% of the time (8,000 of 10,000 trials), the first observation included sales above the break-even threshold.  \n",
    "\n",
    "However, there were a few trials where it took 3 or more times before retrieving a value above $250. There was even one trial where we had to keep drawing a random value 7 times!  "
   ]
  },
  {
   "cell_type": "markdown",
   "metadata": {
    "deletable": false,
    "editable": false,
    "nbgrader": {
     "grade": false,
     "locked": true,
     "solution": false
    }
   },
   "source": [
    "[Back to top](#Index:) \n",
    "<a id='q13'></a>\n",
    "\n",
    "### Question 13:\n",
    "\n",
    "*5 points*\n",
    "\n",
    "Given the parameter p = .8, calculate the probability of seeing the first success at trial 5 or later.\n",
    "\n",
    "**Hint:**\n",
    "The probability the first success does not occur in the first trial is:\n",
    "1 - p = 1- .8 = .2\n",
    "The probability the first success does not occur in the first OR second trial is:\n",
    "1-(p+p(1-p)) = 1-(.8+.8*.2) = 1-.96 = .04\n",
    "\n",
    "Assign your result as a float to `ans13`."
   ]
  },
  {
   "cell_type": "code",
   "execution_count": 60,
   "metadata": {},
   "outputs": [],
   "source": [
    "### GRADED\n",
    "p = 0.8\n",
    "n = 5\n",
    "\n",
    "prob = (1-p)**(n-1)*p\n",
    "\n",
    "### YOUR SOLUTION HERE\n",
    "ans13 = prob\n",
    "\n",
    "###\n",
    "### YOUR CODE HERE\n",
    "###\n"
   ]
  },
  {
   "cell_type": "code",
   "execution_count": 59,
   "metadata": {},
   "outputs": [
    {
     "data": {
      "text/plain": [
       "0.001279999999999999"
      ]
     },
     "execution_count": 59,
     "metadata": {},
     "output_type": "execute_result"
    }
   ],
   "source": [
    "prob"
   ]
  },
  {
   "cell_type": "code",
   "execution_count": null,
   "metadata": {
    "collapsed": true,
    "deletable": false,
    "editable": false,
    "nbgrader": {
     "grade": true,
     "grade_id": "Question 13",
     "locked": true,
     "points": "5",
     "solution": false
    }
   },
   "outputs": [],
   "source": [
    "###\n",
    "### AUTOGRADER TEST - DO NOT REMOVE\n",
    "###\n"
   ]
  },
  {
   "cell_type": "markdown",
   "metadata": {
    "deletable": false,
    "editable": false,
    "nbgrader": {
     "grade": false,
     "locked": true,
     "solution": false
    }
   },
   "source": [
    "<a id = \"exponential\"></a>\n",
    "### Exponential Distribution"
   ]
  },
  {
   "cell_type": "markdown",
   "metadata": {
    "deletable": false,
    "editable": false,
    "nbgrader": {
     "grade": false,
     "locked": true,
     "solution": false
    }
   },
   "source": [
    "The final distribution covered in this assignment is the Exponential Distribution.  \n",
    "The **Exponential Distribution** models continous random variables, for example, arrival times and rates. For example, it can be used to measure the time until a person arrives at a restaurant or the time until a component breaks down.\n",
    "\n",
    "- One parameter: lambda -- $\\lambda$\n",
    "- Expected value: $1/\\lambda$\n",
    "- Standard deviation: $1/\\lambda$ (note this is the same as the expected value)\n",
    "- Variance: $1/\\lambda^2$\n",
    "\n",
    "\n",
    "As a note, the Geometric Distribution is the discrete version of Exponential -- if the Bernoulli trials in the Geometric Distribution were occuring in continuous time, they would instead use the Exponential Distribution.\n",
    "\n",
    "\n",
    "Let's assume that our office supply company receives an order, **on average** every 4 hours. We should also assume the time between orders is distributed exponentially.\n",
    "\n",
    "This means our expected value is 4. We also know that the expected value is equal to $1/\\lambda$. Thus: \n",
    "\n",
    "$$4 = 1/\\lambda \\rightarrow \\lambda = 1/4$$"
   ]
  },
  {
   "cell_type": "markdown",
   "metadata": {
    "deletable": false,
    "editable": false,
    "nbgrader": {
     "grade": false,
     "locked": true,
     "solution": false
    }
   },
   "source": [
    "[Back to top](#Index:) \n",
    "<a id='q14'></a>\n",
    "\n",
    "### Question 14:\n",
    "\n",
    "*5 points*\n",
    "\n",
    "If the lambda parameter of an exponential distribution is equal to 1/4, what is the standard deviation of that exponential distribution?\n",
    "\n",
    "Assign your result as an int or float value to `ans14`."
   ]
  },
  {
   "cell_type": "code",
   "execution_count": null,
   "metadata": {
    "collapsed": true
   },
   "outputs": [],
   "source": [
    "### GRADED\n",
    "\n",
    "### YOUR SOLUTION HERE\n",
    "ans14 = 1/(1/4)\n",
    "\n",
    "###\n",
    "### YOUR CODE HERE\n",
    "###\n"
   ]
  },
  {
   "cell_type": "code",
   "execution_count": null,
   "metadata": {
    "collapsed": true,
    "deletable": false,
    "editable": false,
    "nbgrader": {
     "grade": true,
     "grade_id": "Question 14",
     "locked": true,
     "points": "5",
     "solution": false
    }
   },
   "outputs": [],
   "source": [
    "###\n",
    "### AUTOGRADER TEST - DO NOT REMOVE\n",
    "###\n"
   ]
  },
  {
   "cell_type": "markdown",
   "metadata": {},
   "source": [
    "[Back to top](#Index:) \n",
    "<a id='q15'></a>\n",
    "\n",
    "### Question 15:\n",
    "\n",
    "*5 points*\n",
    "\n",
    "If the lambda parameter of an exponential distribution is equal to 1/4, what is the variance of that exponential distribution?\n",
    "\n",
    "Assign your result as an int or float value to `ans15`."
   ]
  },
  {
   "cell_type": "code",
   "execution_count": 61,
   "metadata": {},
   "outputs": [],
   "source": [
    "### GRADED\n",
    "\n",
    "### YOUR SOLUTION HERE\n",
    "ans15 = 1/(1/4)**2\n",
    "\n",
    "###\n",
    "### YOUR CODE HERE\n",
    "###\n"
   ]
  },
  {
   "cell_type": "code",
   "execution_count": null,
   "metadata": {
    "collapsed": true,
    "deletable": false,
    "editable": false,
    "nbgrader": {
     "grade": true,
     "grade_id": "Quesiton 15",
     "locked": true,
     "points": "5",
     "solution": false
    }
   },
   "outputs": [],
   "source": [
    "###\n",
    "### AUTOGRADER TEST - DO NOT REMOVE\n",
    "###\n"
   ]
  }
 ],
 "metadata": {
  "kernelspec": {
   "display_name": "Python 3",
   "language": "python",
   "name": "python3"
  },
  "language_info": {
   "codemirror_mode": {
    "name": "ipython",
    "version": 3
   },
   "file_extension": ".py",
   "mimetype": "text/x-python",
   "name": "python",
   "nbconvert_exporter": "python",
   "pygments_lexer": "ipython3",
   "version": "3.6.9"
  }
 },
 "nbformat": 4,
 "nbformat_minor": 2
}
