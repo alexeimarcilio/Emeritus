{
 "cells": [
  {
   "cell_type": "markdown",
   "metadata": {},
   "source": [
    "# Introduction to Linear Algebra for Data Science and Machine Learning\n",
    "\n",
    "## Outine\n",
    "- What is Linear Algebra\n",
    "- One Variable Equation\n",
    "- Two Variable Equation\n",
    "- Systems of Equations\n",
    "- Wrap up\n"
   ]
  },
  {
   "cell_type": "markdown",
   "metadata": {},
   "source": [
    "  \n",
    "## What is Linear Algebra\n",
    "   \n",
    "Linear algebra is the branch of mathematics concerning linear equations such as linear functions and their representations in vector spaces and through matrices. \n",
    "\n",
    "Linear algebra is central to almost all areas of mathematics.\n",
    "\n",
    "<img src=\"images/linear_algebra.png\" width=\"400\">\n"
   ]
  },
  {
   "cell_type": "markdown",
   "metadata": {},
   "source": [
    "## One Variable Equation\n",
    "\n",
    "A linear equation is an equation of a straight line, written in one variable. The only power of the variable is 1. \n",
    "\n",
    "Linear equations in one variable may take the form \n",
    "**ax+b=0** where ``a and b are real numbers and a <> 0``. \n",
    "\n",
    "These equations are solved using basic algebraic operations.\n",
    "\n",
    "Consider the following equation:\n",
    "\n",
    "**2x+5=15**\n",
    "\n",
    "In this case, our variable is x and the value is 5."
   ]
  },
  {
   "cell_type": "code",
   "execution_count": 12,
   "metadata": {},
   "outputs": [
    {
     "data": {
      "text/plain": [
       "True"
      ]
     },
     "execution_count": 12,
     "metadata": {},
     "output_type": "execute_result"
    }
   ],
   "source": [
    "# Simple one variable equation\n",
    "x = 5 # solution\n",
    "2*x + 5 == 15"
   ]
  },
  {
   "cell_type": "markdown",
   "metadata": {},
   "source": [
    "## Two Variable Equation\n",
    "\n",
    "If a, b, and r are real numbers (and if a and b are not both equal to 0) then\n",
    "ax + by = r is called a linear equation in two variables. (The “two variables”\n",
    "are the x and the y.)\n",
    "\n",
    "The numbers a and b are called the coefficients of the equation ax+by = r.\n",
    "The number r is called the constant of the equation ax + by = r.\n",
    "\n",
    "A solution of a linear equation in two variables ax+by = r is a specific point\n",
    "in R2 such that when when the x-coordinate of the point is multiplied by a,\n",
    "and the y-coordinate of the point is multiplied by b, and those two numbers\n",
    "are added together, the answer equals r. (There are always infinitely many\n",
    "solutions to a linear equation in two variables.)\n",
    "\n",
    "**Below we will define the data for our line using the following two variable equation**\n",
    "\n",
    "``2y=2x−4`` which reduces to ``y=x−2``"
   ]
  },
  {
   "cell_type": "code",
   "execution_count": 5,
   "metadata": {},
   "outputs": [],
   "source": [
    "import pandas as pd\n",
    "df = pd.DataFrame({'x': range(1,10)})\n",
    "df['y'] = df['x']**2"
   ]
  },
  {
   "cell_type": "code",
   "execution_count": 6,
   "metadata": {},
   "outputs": [
    {
     "data": {
      "text/html": [
       "<div>\n",
       "<style scoped>\n",
       "    .dataframe tbody tr th:only-of-type {\n",
       "        vertical-align: middle;\n",
       "    }\n",
       "\n",
       "    .dataframe tbody tr th {\n",
       "        vertical-align: top;\n",
       "    }\n",
       "\n",
       "    .dataframe thead th {\n",
       "        text-align: right;\n",
       "    }\n",
       "</style>\n",
       "<table border=\"1\" class=\"dataframe\">\n",
       "  <thead>\n",
       "    <tr style=\"text-align: right;\">\n",
       "      <th></th>\n",
       "      <th>x</th>\n",
       "      <th>y</th>\n",
       "    </tr>\n",
       "  </thead>\n",
       "  <tbody>\n",
       "    <tr>\n",
       "      <th>0</th>\n",
       "      <td>1</td>\n",
       "      <td>1</td>\n",
       "    </tr>\n",
       "    <tr>\n",
       "      <th>1</th>\n",
       "      <td>2</td>\n",
       "      <td>4</td>\n",
       "    </tr>\n",
       "    <tr>\n",
       "      <th>2</th>\n",
       "      <td>3</td>\n",
       "      <td>9</td>\n",
       "    </tr>\n",
       "    <tr>\n",
       "      <th>3</th>\n",
       "      <td>4</td>\n",
       "      <td>16</td>\n",
       "    </tr>\n",
       "    <tr>\n",
       "      <th>4</th>\n",
       "      <td>5</td>\n",
       "      <td>25</td>\n",
       "    </tr>\n",
       "    <tr>\n",
       "      <th>5</th>\n",
       "      <td>6</td>\n",
       "      <td>36</td>\n",
       "    </tr>\n",
       "    <tr>\n",
       "      <th>6</th>\n",
       "      <td>7</td>\n",
       "      <td>49</td>\n",
       "    </tr>\n",
       "    <tr>\n",
       "      <th>7</th>\n",
       "      <td>8</td>\n",
       "      <td>64</td>\n",
       "    </tr>\n",
       "    <tr>\n",
       "      <th>8</th>\n",
       "      <td>9</td>\n",
       "      <td>81</td>\n",
       "    </tr>\n",
       "  </tbody>\n",
       "</table>\n",
       "</div>"
      ],
      "text/plain": [
       "   x   y\n",
       "0  1   1\n",
       "1  2   4\n",
       "2  3   9\n",
       "3  4  16\n",
       "4  5  25\n",
       "5  6  36\n",
       "6  7  49\n",
       "7  8  64\n",
       "8  9  81"
      ]
     },
     "execution_count": 6,
     "metadata": {},
     "output_type": "execute_result"
    }
   ],
   "source": [
    "df"
   ]
  },
  {
   "cell_type": "code",
   "execution_count": 7,
   "metadata": {},
   "outputs": [
    {
     "data": {
      "text/html": [
       "<div>\n",
       "<style scoped>\n",
       "    .dataframe tbody tr th:only-of-type {\n",
       "        vertical-align: middle;\n",
       "    }\n",
       "\n",
       "    .dataframe tbody tr th {\n",
       "        vertical-align: top;\n",
       "    }\n",
       "\n",
       "    .dataframe thead th {\n",
       "        text-align: right;\n",
       "    }\n",
       "</style>\n",
       "<table border=\"1\" class=\"dataframe\">\n",
       "  <thead>\n",
       "    <tr style=\"text-align: right;\">\n",
       "      <th></th>\n",
       "      <th>x</th>\n",
       "      <th>y</th>\n",
       "    </tr>\n",
       "  </thead>\n",
       "  <tbody>\n",
       "    <tr>\n",
       "      <th>0</th>\n",
       "      <td>-10</td>\n",
       "      <td>-12</td>\n",
       "    </tr>\n",
       "    <tr>\n",
       "      <th>1</th>\n",
       "      <td>-9</td>\n",
       "      <td>-11</td>\n",
       "    </tr>\n",
       "    <tr>\n",
       "      <th>2</th>\n",
       "      <td>-8</td>\n",
       "      <td>-10</td>\n",
       "    </tr>\n",
       "    <tr>\n",
       "      <th>3</th>\n",
       "      <td>-7</td>\n",
       "      <td>-9</td>\n",
       "    </tr>\n",
       "    <tr>\n",
       "      <th>4</th>\n",
       "      <td>-6</td>\n",
       "      <td>-8</td>\n",
       "    </tr>\n",
       "    <tr>\n",
       "      <th>5</th>\n",
       "      <td>-5</td>\n",
       "      <td>-7</td>\n",
       "    </tr>\n",
       "    <tr>\n",
       "      <th>6</th>\n",
       "      <td>-4</td>\n",
       "      <td>-6</td>\n",
       "    </tr>\n",
       "    <tr>\n",
       "      <th>7</th>\n",
       "      <td>-3</td>\n",
       "      <td>-5</td>\n",
       "    </tr>\n",
       "    <tr>\n",
       "      <th>8</th>\n",
       "      <td>-2</td>\n",
       "      <td>-4</td>\n",
       "    </tr>\n",
       "    <tr>\n",
       "      <th>9</th>\n",
       "      <td>-1</td>\n",
       "      <td>-3</td>\n",
       "    </tr>\n",
       "    <tr>\n",
       "      <th>10</th>\n",
       "      <td>0</td>\n",
       "      <td>-2</td>\n",
       "    </tr>\n",
       "    <tr>\n",
       "      <th>11</th>\n",
       "      <td>1</td>\n",
       "      <td>-1</td>\n",
       "    </tr>\n",
       "    <tr>\n",
       "      <th>12</th>\n",
       "      <td>2</td>\n",
       "      <td>0</td>\n",
       "    </tr>\n",
       "    <tr>\n",
       "      <th>13</th>\n",
       "      <td>3</td>\n",
       "      <td>1</td>\n",
       "    </tr>\n",
       "    <tr>\n",
       "      <th>14</th>\n",
       "      <td>4</td>\n",
       "      <td>2</td>\n",
       "    </tr>\n",
       "    <tr>\n",
       "      <th>15</th>\n",
       "      <td>5</td>\n",
       "      <td>3</td>\n",
       "    </tr>\n",
       "    <tr>\n",
       "      <th>16</th>\n",
       "      <td>6</td>\n",
       "      <td>4</td>\n",
       "    </tr>\n",
       "    <tr>\n",
       "      <th>17</th>\n",
       "      <td>7</td>\n",
       "      <td>5</td>\n",
       "    </tr>\n",
       "    <tr>\n",
       "      <th>18</th>\n",
       "      <td>8</td>\n",
       "      <td>6</td>\n",
       "    </tr>\n",
       "    <tr>\n",
       "      <th>19</th>\n",
       "      <td>9</td>\n",
       "      <td>7</td>\n",
       "    </tr>\n",
       "    <tr>\n",
       "      <th>20</th>\n",
       "      <td>10</td>\n",
       "      <td>8</td>\n",
       "    </tr>\n",
       "  </tbody>\n",
       "</table>\n",
       "</div>"
      ],
      "text/plain": [
       "     x   y\n",
       "0  -10 -12\n",
       "1   -9 -11\n",
       "2   -8 -10\n",
       "3   -7  -9\n",
       "4   -6  -8\n",
       "5   -5  -7\n",
       "6   -4  -6\n",
       "7   -3  -5\n",
       "8   -2  -4\n",
       "9   -1  -3\n",
       "10   0  -2\n",
       "11   1  -1\n",
       "12   2   0\n",
       "13   3   1\n",
       "14   4   2\n",
       "15   5   3\n",
       "16   6   4\n",
       "17   7   5\n",
       "18   8   6\n",
       "19   9   7\n",
       "20  10   8"
      ]
     },
     "execution_count": 7,
     "metadata": {},
     "output_type": "execute_result"
    }
   ],
   "source": [
    "import pandas as pd\n",
    "\n",
    "# Create a dataframe with a column x, containing values from -10 to 10\n",
    "df = pd.DataFrame({'x': range(-10, 11)})\n",
    "\n",
    "# Add column y, by applying the solved equation to x\n",
    "df['y'] = df['x'] - 2\n",
    "\n",
    "# this is our data\n",
    "df"
   ]
  },
  {
   "cell_type": "markdown",
   "metadata": {},
   "source": [
    "Now we can plot the values to see the line created from our equation."
   ]
  },
  {
   "cell_type": "code",
   "execution_count": 11,
   "metadata": {},
   "outputs": [
    {
     "data": {
      "image/png": "[encoded data removed]",
      "text/plain": [
       "<Figure size 640x480 with 1 Axes>"
      ]
     },
     "metadata": {},
     "output_type": "display_data"
    }
   ],
   "source": [
    "# use matplotlib for plotting\n",
    "import matplotlib.pyplot as plt\n",
    "%matplotlib inline\n",
    "\n",
    "plt.figure(num=None, figsize=(8, 6), dpi=80, facecolor='w', edgecolor='k')\n",
    "\n",
    "# plot our x and y coordinates\n",
    "plt.plot(df['x'], df['y'])\n",
    "# add labels\n",
    "plt.xlabel('x')\n",
    "plt.ylabel('y')\n",
    "# add a grid\n",
    "plt.grid()\n",
    "plt.axhline(color='black')\n",
    "plt.axvline(color='black')\n",
    "plt.annotate('x-intercept',(2, 0), color='red', fontsize=12)\n",
    "plt.annotate('y-intercept',(0,-2), color='red', fontsize=12)\n",
    "plt.show()"
   ]
  },
  {
   "cell_type": "markdown",
   "metadata": {},
   "source": [
    "## Systems of Equations\n",
    "\n",
    "To have a **``system of equations``** means that we have two or more linear equations together and we have to solve them simultaneously to make the equality true. \n",
    "\n",
    "There are three possible solutions of the linear system:1) One solution,2) No solution, 3) or the system is inconsistent and there are infinitely many solutions. \n",
    "\n",
    "Let's take an example if a system with one solution, meaning two lines intersect\n",
    "1. **2x−y=2**\n",
    "2. **x+y=−2**\n",
    "\n",
    "If we solve these equations we'll get y=−2 and x=0. This is the solution. Now let's see it graphically."
   ]
  },
  {
   "cell_type": "code",
   "execution_count": 12,
   "metadata": {},
   "outputs": [
    {
     "data": {
      "image/png": "[encoded data removed]",
      "text/plain": [
       "<Figure size 640x480 with 1 Axes>"
      ]
     },
     "metadata": {},
     "output_type": "display_data"
    }
   ],
   "source": [
    "import pandas as pd\n",
    "import matplotlib.pyplot as plt\n",
    "%matplotlib inline\n",
    "\n",
    "\n",
    "df_1 = pd.DataFrame({'x': range(-10, 11)})\n",
    "\n",
    "# Add column y, by applying the solved equation to x\n",
    "df_1['y'] = 2*df_1['x'] - 2\n",
    "\n",
    "df_2 = pd.DataFrame({'x':range(-10,11)})\n",
    "\n",
    "df_2['y'] = -1*df_2['x'] - 2\n",
    "\n",
    "plt.figure(num=None, figsize=(8, 6), dpi=80, facecolor='w', edgecolor='k')\n",
    "plt.plot(df_1['x'], df_1['y'])\n",
    "plt.plot(df_2['x'], df_2['y'])\n",
    "plt.xlabel('x')\n",
    "plt.ylabel('y')\n",
    "plt.grid()\n",
    "plt.axhline(color='black')\n",
    "plt.axvline(color='black')\n",
    "plt.annotate('2x - y = 2', (7.5,18),weight = 'bold')\n",
    "plt.annotate('x + y = -2', (-10,10),weight = 'bold')\n",
    "\n",
    "plt.annotate('Solution (x = 0 ; y = -2)',(0, -3)) # I put coordinates(0,-3) intentionally to make annotation look clear\n",
    "\n",
    "plt.show()"
   ]
  },
  {
   "cell_type": "markdown",
   "metadata": {},
   "source": [
    "## Wrap up\n",
    "We discussed:\n",
    "- What is Linear Algebra\n",
    "- One Variable Equation\n",
    "- Two Variable Equation\n",
    "- Systems of Equations"
   ]
  },
  {
   "cell_type": "code",
   "execution_count": null,
   "metadata": {},
   "outputs": [],
   "source": []
  }
 ],
 "metadata": {
  "kernelspec": {
   "display_name": "Python 3",
   "language": "python",
   "name": "python3"
  },
  "language_info": {
   "codemirror_mode": {
    "name": "ipython",
    "version": 3
   },
   "file_extension": ".py",
   "mimetype": "text/x-python",
   "name": "python",
   "nbconvert_exporter": "python",
   "pygments_lexer": "ipython3",
   "version": "3.6.9"
  },
  "latex_envs": {
   "LaTeX_envs_menu_present": true,
   "autoclose": false,
   "autocomplete": true,
   "bibliofile": "biblio.bib",
   "cite_by": "apalike",
   "current_citInitial": 1,
   "eqLabelWithNumbers": true,
   "eqNumInitial": 1,
   "hotkeys": {
    "equation": "Ctrl-E",
    "itemize": "Ctrl-I"
   },
   "labels_anchors": false,
   "latex_user_defs": false,
   "report_style_numbering": false,
   "user_envs_cfg": false
  }
 },
 "nbformat": 4,
 "nbformat_minor": 1
}
