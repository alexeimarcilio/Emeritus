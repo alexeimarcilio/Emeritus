{
 "cells": [
  {
   "cell_type": "markdown",
   "metadata": {},
   "source": [
    "# Matrix Addition and Subtraction\n",
    "\n",
    "## Outine\n",
    "- Matrix Addition and Subtraction\n",
    "- Adding or subtracting a scalar value to a matrix\n",
    "- Adding or subtracting two matrices\n",
    "- Wrap up"
   ]
  },
  {
   "cell_type": "markdown",
   "metadata": {},
   "source": [
    "  \n",
    "## Matrix Addition and Subtraction\n",
    "   \n",
    "Two matrices may be added or subtracted only if they have the same dimension; that is, they must have the same number of rows and columns. Addition or subtraction is accomplished by adding or subtracting corresponding elements. \n",
    "\n",
    "We use matrices to list data or to represent systems. Because the entries are numbers, we can perform operations on matrices. We add or subtract matrices by adding or subtracting corresponding entries.\n",
    "\n",
    "<img src=\"images/matrix_add_sub.png\" width=\"400\">\n"
   ]
  },
  {
   "cell_type": "markdown",
   "metadata": {},
   "source": [
    "## Adding or subtracting a scalar value to a matrix\n",
    "\n",
    "To learn the basics, consider a small matrix of dimension 2×2, where 2×2 denotes the number of rows × the number of columns. \n",
    "\n",
    "Let A=<img src=\"images/2x2_Matrix.png\" width=\"100\">. \n",
    "\n",
    "Consider adding a scalar value (in this case 3) to \"A\".\n",
    "<img src=\"images/Matrix_addition_scalar.png\" width=\"300\">\n",
    "The same basic principle holds true for \"A-3\":\n",
    "<img src=\"images/Matrix_subtraction_scalar.png\" width=\"300\">\n",
    "\n",
    "You can see that we add/subtract the scalar value to/from each element in the matrix \"A\". \"A\" can be of any dimension.\n",
    "\n",
    "This is simple to implement in Python, see the examples that follow:"
   ]
  },
  {
   "cell_type": "code",
   "execution_count": 1,
   "metadata": {},
   "outputs": [
    {
     "name": "stdout",
     "output_type": "stream",
     "text": [
      "[[15 37]\n",
      " [46  2]]\n"
     ]
    }
   ],
   "source": [
    "import numpy as np\n",
    "# create a random 2x2 matrix\n",
    "A = np.random.randint(1,50,size=(2,2))\n",
    "print(A)"
   ]
  },
  {
   "cell_type": "code",
   "execution_count": 2,
   "metadata": {},
   "outputs": [
    {
     "data": {
      "text/plain": [
       "array([[18, 40],\n",
       "       [49,  5]])"
      ]
     },
     "execution_count": 2,
     "metadata": {},
     "output_type": "execute_result"
    }
   ],
   "source": [
    "# now add 3 to the matrix\n",
    "A + 3"
   ]
  },
  {
   "cell_type": "code",
   "execution_count": 3,
   "metadata": {},
   "outputs": [
    {
     "data": {
      "text/plain": [
       "array([[12, 34],\n",
       "       [43, -1]])"
      ]
     },
     "execution_count": 3,
     "metadata": {},
     "output_type": "execute_result"
    }
   ],
   "source": [
    "# now subtract 3 from the matrix\n",
    "A - 3"
   ]
  },
  {
   "cell_type": "markdown",
   "metadata": {},
   "source": [
    "## Adding or subtracting two matrices"
   ]
  },
  {
   "cell_type": "markdown",
   "metadata": {},
   "source": [
    "An important point to know about matrix addition and subtraction is that it is only defined when A and B are of the same size. Here, both are 2×2. Since operations are performed element by element, these two matrices must have the same numbers of rows and columns. \n",
    "\n",
    "<img src=\"images/Matrix_addition.png\" width=\"300\">\n",
    "\n",
    "Notice that the result of a matrix addition or subtraction operation always has the same dimensionality as the two operands.\n",
    "\n",
    "In the following examples we will show the Addition and Subtraction of two randomly created 2x2 matrices.\n"
   ]
  },
  {
   "cell_type": "code",
   "execution_count": 4,
   "metadata": {},
   "outputs": [
    {
     "name": "stdout",
     "output_type": "stream",
     "text": [
      "Matrix A is :\n",
      "[[44  2]\n",
      " [38 19]]\n",
      "Matrix B is :\n",
      "[[44 39]\n",
      " [29 20]]\n",
      "Adding the matrices together :\n",
      "[[88 41]\n",
      " [67 39]]\n",
      "Subtracting the matricies :\n",
      "[[  0 -37]\n",
      " [  9  -1]]\n"
     ]
    }
   ],
   "source": [
    "# define matrix A\n",
    "A = np.random.randint(1,50,size=(2,2))\n",
    "print('Matrix A is :')\n",
    "print(A)\n",
    "\n",
    "# define matrix B\n",
    "B = np.random.randint(1,50,size=(2,2))\n",
    "print('Matrix B is :')\n",
    "print(B)\n",
    "\n",
    "# Calcualte A+B\n",
    "print('Adding the matrices together :')\n",
    "print(A + B)\n",
    "\n",
    "# Calcualte A+B\n",
    "print('Subtracting the matricies :')\n",
    "print(A - B)\n"
   ]
  },
  {
   "cell_type": "markdown",
   "metadata": {},
   "source": [
    "## Wrap up\n",
    "We discussed:\n",
    "- Matrix Addition and Subtraction\n",
    "- Adding or subtracting a scalar value to a matrix\n",
    "- Adding or subtracting two matrices"
   ]
  },
  {
   "cell_type": "code",
   "execution_count": null,
   "metadata": {},
   "outputs": [],
   "source": []
  },
  {
   "cell_type": "code",
   "execution_count": null,
   "metadata": {},
   "outputs": [],
   "source": []
  }
 ],
 "metadata": {
  "kernelspec": {
   "display_name": "Python 3",
   "language": "python",
   "name": "python3"
  },
  "language_info": {
   "codemirror_mode": {
    "name": "ipython",
    "version": 3
   },
   "file_extension": ".py",
   "mimetype": "text/x-python",
   "name": "python",
   "nbconvert_exporter": "python",
   "pygments_lexer": "ipython3",
   "version": "3.6.9"
  },
  "latex_envs": {
   "LaTeX_envs_menu_present": true,
   "autoclose": false,
   "autocomplete": true,
   "bibliofile": "biblio.bib",
   "cite_by": "apalike",
   "current_citInitial": 1,
   "eqLabelWithNumbers": true,
   "eqNumInitial": 1,
   "hotkeys": {
    "equation": "Ctrl-E",
    "itemize": "Ctrl-I"
   },
   "labels_anchors": false,
   "latex_user_defs": false,
   "report_style_numbering": false,
   "user_envs_cfg": false
  }
 },
 "nbformat": 4,
 "nbformat_minor": 1
}
