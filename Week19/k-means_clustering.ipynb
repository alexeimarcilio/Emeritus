{
 "cells": [
  {
   "cell_type": "markdown",
   "metadata": {},
   "source": [
    "<h1>Clustering Algorithms</h1>\n",
    "<h3>Unsupervised learning</h3>\n",
    "<ul>\n",
    "<li>The algorithm tries to group similar data together (clusters)\n",
    "<li>Using the values of the feature space\n",
    "</ul>\n",
    "<h3>K-Means Clusterng</h3>\n",
    "<ul>\n",
    "<li>partitions the dataspace into clusters\n",
    "<li>minimizes distance between the mean of a cluster and the data points\n",
    "<li>the desired number of clusters must be known in advance\n",
    "</ul>"
   ]
  },
  {
   "cell_type": "markdown",
   "metadata": {},
   "source": [
    "<h2>Image recognition dataset</h2>\n",
    "<ul>\n",
    "<li>Digits 0-9 pixelated into 64 quadrants\n",
    "<li>Each value represents the area that is shaded\n"
   ]
  },
  {
   "cell_type": "markdown",
   "metadata": {},
   "source": [
    "<h2>Do imports</h2>"
   ]
  },
  {
   "cell_type": "code",
   "execution_count": 1,
   "metadata": {},
   "outputs": [],
   "source": [
    "import numpy as np\n",
    "import matplotlib.pyplot as plt\n",
    "%matplotlib inline\n",
    "from sklearn.datasets import load_digits\n",
    "from sklearn.preprocessing import scale"
   ]
  },
  {
   "cell_type": "markdown",
   "metadata": {},
   "source": [
    "<h2>Load data</h2>"
   ]
  },
  {
   "cell_type": "code",
   "execution_count": 2,
   "metadata": {},
   "outputs": [
    {
     "data": {
      "text/plain": [
       "{'data': array([[ 0.,  0.,  5., ...,  0.,  0.,  0.],\n",
       "        [ 0.,  0.,  0., ..., 10.,  0.,  0.],\n",
       "        [ 0.,  0.,  0., ..., 16.,  9.,  0.],\n",
       "        ...,\n",
       "        [ 0.,  0.,  1., ...,  6.,  0.,  0.],\n",
       "        [ 0.,  0.,  2., ..., 12.,  0.,  0.],\n",
       "        [ 0.,  0., 10., ..., 12.,  1.,  0.]]),\n",
       " 'target': array([0, 1, 2, ..., 8, 9, 8]),\n",
       " 'target_names': array([0, 1, 2, 3, 4, 5, 6, 7, 8, 9]),\n",
       " 'images': array([[[ 0.,  0.,  5., ...,  1.,  0.,  0.],\n",
       "         [ 0.,  0., 13., ..., 15.,  5.,  0.],\n",
       "         [ 0.,  3., 15., ..., 11.,  8.,  0.],\n",
       "         ...,\n",
       "         [ 0.,  4., 11., ..., 12.,  7.,  0.],\n",
       "         [ 0.,  2., 14., ..., 12.,  0.,  0.],\n",
       "         [ 0.,  0.,  6., ...,  0.,  0.,  0.]],\n",
       " \n",
       "        [[ 0.,  0.,  0., ...,  5.,  0.,  0.],\n",
       "         [ 0.,  0.,  0., ...,  9.,  0.,  0.],\n",
       "         [ 0.,  0.,  3., ...,  6.,  0.,  0.],\n",
       "         ...,\n",
       "         [ 0.,  0.,  1., ...,  6.,  0.,  0.],\n",
       "         [ 0.,  0.,  1., ...,  6.,  0.,  0.],\n",
       "         [ 0.,  0.,  0., ..., 10.,  0.,  0.]],\n",
       " \n",
       "        [[ 0.,  0.,  0., ..., 12.,  0.,  0.],\n",
       "         [ 0.,  0.,  3., ..., 14.,  0.,  0.],\n",
       "         [ 0.,  0.,  8., ..., 16.,  0.,  0.],\n",
       "         ...,\n",
       "         [ 0.,  9., 16., ...,  0.,  0.,  0.],\n",
       "         [ 0.,  3., 13., ..., 11.,  5.,  0.],\n",
       "         [ 0.,  0.,  0., ..., 16.,  9.,  0.]],\n",
       " \n",
       "        ...,\n",
       " \n",
       "        [[ 0.,  0.,  1., ...,  1.,  0.,  0.],\n",
       "         [ 0.,  0., 13., ...,  2.,  1.,  0.],\n",
       "         [ 0.,  0., 16., ..., 16.,  5.,  0.],\n",
       "         ...,\n",
       "         [ 0.,  0., 16., ..., 15.,  0.,  0.],\n",
       "         [ 0.,  0., 15., ..., 16.,  0.,  0.],\n",
       "         [ 0.,  0.,  2., ...,  6.,  0.,  0.]],\n",
       " \n",
       "        [[ 0.,  0.,  2., ...,  0.,  0.,  0.],\n",
       "         [ 0.,  0., 14., ..., 15.,  1.,  0.],\n",
       "         [ 0.,  4., 16., ..., 16.,  7.,  0.],\n",
       "         ...,\n",
       "         [ 0.,  0.,  0., ..., 16.,  2.,  0.],\n",
       "         [ 0.,  0.,  4., ..., 16.,  2.,  0.],\n",
       "         [ 0.,  0.,  5., ..., 12.,  0.,  0.]],\n",
       " \n",
       "        [[ 0.,  0., 10., ...,  1.,  0.,  0.],\n",
       "         [ 0.,  2., 16., ...,  1.,  0.,  0.],\n",
       "         [ 0.,  0., 15., ..., 15.,  0.,  0.],\n",
       "         ...,\n",
       "         [ 0.,  4., 16., ..., 16.,  6.,  0.],\n",
       "         [ 0.,  8., 16., ..., 16.,  8.,  0.],\n",
       "         [ 0.,  1.,  8., ..., 12.,  1.,  0.]]]),\n",
       " 'DESCR': \".. _digits_dataset:\\n\\nOptical recognition of handwritten digits dataset\\n--------------------------------------------------\\n\\n**Data Set Characteristics:**\\n\\n    :Number of Instances: 5620\\n    :Number of Attributes: 64\\n    :Attribute Information: 8x8 image of integer pixels in the range 0..16.\\n    :Missing Attribute Values: None\\n    :Creator: E. Alpaydin (alpaydin '@' boun.edu.tr)\\n    :Date: July; 1998\\n\\nThis is a copy of the test set of the UCI ML hand-written digits datasets\\nhttps://archive.ics.uci.edu/ml/datasets/Optical+Recognition+of+Handwritten+Digits\\n\\nThe data set contains images of hand-written digits: 10 classes where\\neach class refers to a digit.\\n\\nPreprocessing programs made available by NIST were used to extract\\nnormalized bitmaps of handwritten digits from a preprinted form. From a\\ntotal of 43 people, 30 contributed to the training set and different 13\\nto the test set. 32x32 bitmaps are divided into nonoverlapping blocks of\\n4x4 and the number of on pixels are counted in each block. This generates\\nan input matrix of 8x8 where each element is an integer in the range\\n0..16. This reduces dimensionality and gives invariance to small\\ndistortions.\\n\\nFor info on NIST preprocessing routines, see M. D. Garris, J. L. Blue, G.\\nT. Candela, D. L. Dimmick, J. Geist, P. J. Grother, S. A. Janet, and C.\\nL. Wilson, NIST Form-Based Handprint Recognition System, NISTIR 5469,\\n1994.\\n\\n.. topic:: References\\n\\n  - C. Kaynak (1995) Methods of Combining Multiple Classifiers and Their\\n    Applications to Handwritten Digit Recognition, MSc Thesis, Institute of\\n    Graduate Studies in Science and Engineering, Bogazici University.\\n  - E. Alpaydin, C. Kaynak (1998) Cascading Classifiers, Kybernetika.\\n  - Ken Tang and Ponnuthurai N. Suganthan and Xi Yao and A. Kai Qin.\\n    Linear dimensionalityreduction using relevance weighted LDA. School of\\n    Electrical and Electronic Engineering Nanyang Technological University.\\n    2005.\\n  - Claudio Gentile. A New Approximate Maximal Margin Classification\\n    Algorithm. NIPS. 2000.\"}"
      ]
     },
     "execution_count": 2,
     "metadata": {},
     "output_type": "execute_result"
    }
   ],
   "source": [
    "digits = load_digits()\n",
    "digits"
   ]
  },
  {
   "cell_type": "code",
   "execution_count": 3,
   "metadata": {},
   "outputs": [
    {
     "name": "stdout",
     "output_type": "stream",
     "text": [
      ".. _digits_dataset:\n",
      "\n",
      "Optical recognition of handwritten digits dataset\n",
      "--------------------------------------------------\n",
      "\n",
      "**Data Set Characteristics:**\n",
      "\n",
      "    :Number of Instances: 5620\n",
      "    :Number of Attributes: 64\n",
      "    :Attribute Information: 8x8 image of integer pixels in the range 0..16.\n",
      "    :Missing Attribute Values: None\n",
      "    :Creator: E. Alpaydin (alpaydin '@' boun.edu.tr)\n",
      "    :Date: July; 1998\n",
      "\n",
      "This is a copy of the test set of the UCI ML hand-written digits datasets\n",
      "https://archive.ics.uci.edu/ml/datasets/Optical+Recognition+of+Handwritten+Digits\n",
      "\n",
      "The data set contains images of hand-written digits: 10 classes where\n",
      "each class refers to a digit.\n",
      "\n",
      "Preprocessing programs made available by NIST were used to extract\n",
      "normalized bitmaps of handwritten digits from a preprinted form. From a\n",
      "total of 43 people, 30 contributed to the training set and different 13\n",
      "to the test set. 32x32 bitmaps are divided into nonoverlapping blocks of\n",
      "4x4 and the number of on pixels are counted in each block. This generates\n",
      "an input matrix of 8x8 where each element is an integer in the range\n",
      "0..16. This reduces dimensionality and gives invariance to small\n",
      "distortions.\n",
      "\n",
      "For info on NIST preprocessing routines, see M. D. Garris, J. L. Blue, G.\n",
      "T. Candela, D. L. Dimmick, J. Geist, P. J. Grother, S. A. Janet, and C.\n",
      "L. Wilson, NIST Form-Based Handprint Recognition System, NISTIR 5469,\n",
      "1994.\n",
      "\n",
      ".. topic:: References\n",
      "\n",
      "  - C. Kaynak (1995) Methods of Combining Multiple Classifiers and Their\n",
      "    Applications to Handwritten Digit Recognition, MSc Thesis, Institute of\n",
      "    Graduate Studies in Science and Engineering, Bogazici University.\n",
      "  - E. Alpaydin, C. Kaynak (1998) Cascading Classifiers, Kybernetika.\n",
      "  - Ken Tang and Ponnuthurai N. Suganthan and Xi Yao and A. Kai Qin.\n",
      "    Linear dimensionalityreduction using relevance weighted LDA. School of\n",
      "    Electrical and Electronic Engineering Nanyang Technological University.\n",
      "    2005.\n",
      "  - Claudio Gentile. A New Approximate Maximal Margin Classification\n",
      "    Algorithm. NIPS. 2000.\n"
     ]
    }
   ],
   "source": [
    "print(digits['DESCR'])\n"
   ]
  },
  {
   "cell_type": "markdown",
   "metadata": {},
   "source": [
    "<h2>scale the data to normal distribution</h2>"
   ]
  },
  {
   "cell_type": "code",
   "execution_count": 7,
   "metadata": {},
   "outputs": [],
   "source": [
    "data = scale(digits.data)"
   ]
  },
  {
   "cell_type": "code",
   "execution_count": 8,
   "metadata": {},
   "outputs": [
    {
     "data": {
      "text/plain": [
       "array([[ 0.        , -0.33501649, -0.04308102, ..., -1.14664746,\n",
       "        -0.5056698 , -0.19600752],\n",
       "       [ 0.        , -0.33501649, -1.09493684, ...,  0.54856067,\n",
       "        -0.5056698 , -0.19600752],\n",
       "       [ 0.        , -0.33501649, -1.09493684, ...,  1.56568555,\n",
       "         1.6951369 , -0.19600752],\n",
       "       ...,\n",
       "       [ 0.        , -0.33501649, -0.88456568, ..., -0.12952258,\n",
       "        -0.5056698 , -0.19600752],\n",
       "       [ 0.        , -0.33501649, -0.67419451, ...,  0.8876023 ,\n",
       "        -0.5056698 , -0.19600752],\n",
       "       [ 0.        , -0.33501649,  1.00877481, ...,  0.8876023 ,\n",
       "        -0.26113572, -0.19600752]])"
      ]
     },
     "execution_count": 8,
     "metadata": {},
     "output_type": "execute_result"
    }
   ],
   "source": [
    "data"
   ]
  },
  {
   "cell_type": "markdown",
   "metadata": {},
   "source": [
    "<h2>Render the digit images and their associated values</h2>"
   ]
  },
  {
   "cell_type": "code",
   "execution_count": 10,
   "metadata": {},
   "outputs": [
    {
     "data": {
      "image/png": "[encoded data removed]",
      "text/plain": [
       "<Figure size 864x864 with 10 Axes>"
      ]
     },
     "metadata": {},
     "output_type": "display_data"
    }
   ],
   "source": [
    "def print_digits(images,y,max_n=10):\n",
    "    # set up the figure size in inches\n",
    "    fig = plt.figure(figsize=(12, 12))\n",
    "    fig.subplots_adjust(left=0, right=1, bottom=0, top=1,\n",
    "           hspace=.05, wspace=.5)\n",
    "    i = 0\n",
    "    while i <max_n and i <images.shape[0]:\n",
    "        # plot the images in a matrix of 20x20\n",
    "        p = fig.add_subplot(20, 20, i + 1, xticks=[],\n",
    "              yticks=[])\n",
    "        p.imshow(images[i], cmap=plt.cm.bone)\n",
    "        # label the image with the target value\n",
    "        p.text(0, 14, str(y[i]))\n",
    "        i = i + 1\n",
    "print_digits(digits.images, digits.target, max_n=10)"
   ]
  },
  {
   "cell_type": "markdown",
   "metadata": {},
   "source": [
    "<h2>Training and testing samples</h2>"
   ]
  },
  {
   "cell_type": "code",
   "execution_count": 11,
   "metadata": {},
   "outputs": [],
   "source": [
    "from sklearn.model_selection import train_test_split\n",
    "X_train, X_test, y_train, y_test, images_train,images_test = train_test_split(\n",
    "        data, digits.target, digits.images,  test_size=0.25, \n",
    "          random_state=42)\n",
    "\n",
    "n_samples, n_features = X_train.shape\n",
    "n_digits = len(np.unique(y_train))\n",
    "labels = y_train"
   ]
  },
  {
   "cell_type": "code",
   "execution_count": 12,
   "metadata": {},
   "outputs": [
    {
     "data": {
      "text/plain": [
       "10"
      ]
     },
     "execution_count": 12,
     "metadata": {},
     "output_type": "execute_result"
    }
   ],
   "source": [
    "len(np.unique(y_train))"
   ]
  },
  {
   "cell_type": "markdown",
   "metadata": {},
   "source": [
    "<h2>Create the model and fit the data</h2>"
   ]
  },
  {
   "cell_type": "code",
   "execution_count": 13,
   "metadata": {},
   "outputs": [
    {
     "data": {
      "text/plain": [
       "KMeans(algorithm='auto', copy_x=True, init='k-means++', max_iter=300,\n",
       "       n_clusters=10, n_init=10, n_jobs=None, precompute_distances='auto',\n",
       "       random_state=42, tol=0.0001, verbose=0)"
      ]
     },
     "execution_count": 13,
     "metadata": {},
     "output_type": "execute_result"
    }
   ],
   "source": [
    "from sklearn import cluster\n",
    "clf = cluster.KMeans(init='k-means++',n_clusters=10, random_state=42)\n",
    "clf.fit(X_train)"
   ]
  },
  {
   "cell_type": "markdown",
   "metadata": {},
   "source": [
    "k-means++ runs an initializer before using the k-means algorithm"
   ]
  },
  {
   "cell_type": "code",
   "execution_count": 14,
   "metadata": {},
   "outputs": [
    {
     "data": {
      "text/plain": [
       "array([[[ 0.,  0.,  2., ..., 16., 11.,  0.],\n",
       "        [ 0.,  0.,  8., ...,  3.,  0.,  0.],\n",
       "        [ 0.,  0., 13., ...,  0.,  0.,  0.],\n",
       "        ...,\n",
       "        [ 0.,  6., 16., ..., 16.,  5.,  0.],\n",
       "        [ 0.,  0.,  3., ...,  8.,  0.,  0.],\n",
       "        [ 0.,  0.,  4., ...,  0.,  0.,  0.]],\n",
       "\n",
       "       [[ 0.,  5., 16., ...,  0.,  0.,  0.],\n",
       "        [ 0., 11., 14., ...,  0.,  0.,  0.],\n",
       "        [ 0.,  8., 11., ...,  0.,  0.,  0.],\n",
       "        ...,\n",
       "        [ 0.,  0.,  0., ...,  5.,  1.,  0.],\n",
       "        [ 0.,  1., 11., ..., 16., 10.,  0.],\n",
       "        [ 0.,  5., 16., ...,  6.,  1.,  0.]],\n",
       "\n",
       "       [[ 0.,  0.,  4., ...,  0.,  0.,  0.],\n",
       "        [ 0.,  0., 13., ...,  7.,  0.,  0.],\n",
       "        [ 0.,  3., 16., ..., 15.,  6.,  0.],\n",
       "        ...,\n",
       "        [ 0.,  4., 12., ..., 11.,  6.,  0.],\n",
       "        [ 0.,  0., 14., ..., 14.,  1.,  0.],\n",
       "        [ 0.,  0.,  7., ...,  2.,  0.,  0.]],\n",
       "\n",
       "       ...,\n",
       "\n",
       "       [[ 0.,  0.,  9., ..., 13.,  1.,  0.],\n",
       "        [ 0.,  0., 12., ..., 16.,  7.,  0.],\n",
       "        [ 0.,  0.,  0., ..., 16.,  4.,  0.],\n",
       "        ...,\n",
       "        [ 0.,  0.,  7., ...,  0.,  0.,  0.],\n",
       "        [ 0.,  2., 15., ...,  7.,  0.,  0.],\n",
       "        [ 0.,  0.,  9., ..., 16.,  2.,  0.]],\n",
       "\n",
       "       [[ 0.,  0.,  1., ..., 10.,  0.,  0.],\n",
       "        [ 0.,  0.,  8., ..., 14.,  0.,  0.],\n",
       "        [ 0.,  1., 15., ..., 15.,  0.,  0.],\n",
       "        ...,\n",
       "        [ 0.,  0.,  4., ...,  9.,  1.,  0.],\n",
       "        [ 0.,  0.,  0., ...,  0.,  0.,  0.],\n",
       "        [ 0.,  0.,  1., ...,  0.,  0.,  0.]],\n",
       "\n",
       "       [[ 0.,  0.,  1., ...,  1.,  0.,  0.],\n",
       "        [ 0.,  0.,  1., ...,  4.,  0.,  0.],\n",
       "        [ 0.,  0.,  3., ...,  2.,  0.,  0.],\n",
       "        ...,\n",
       "        [ 0.,  0., 14., ...,  0.,  0.,  0.],\n",
       "        [ 0.,  0.,  9., ...,  0.,  0.,  0.],\n",
       "        [ 0.,  0.,  2., ...,  1.,  0.,  0.]]])"
      ]
     },
     "execution_count": 14,
     "metadata": {},
     "output_type": "execute_result"
    }
   ],
   "source": [
    "images_train"
   ]
  },
  {
   "cell_type": "markdown",
   "metadata": {},
   "source": [
    "<h2>Call print_digits with training images, and computed labels</h2>\n",
    "<h2>Returned labels are cluster numbers</h2>"
   ]
  },
  {
   "cell_type": "code",
   "execution_count": 16,
   "metadata": {},
   "outputs": [
    {
     "data": {
      "image/png": "[encoded data removed]",
      "text/plain": [
       "<Figure size 864x864 with 50 Axes>"
      ]
     },
     "metadata": {},
     "output_type": "display_data"
    }
   ],
   "source": [
    "print_digits(images_train, clf.labels_, max_n=20)"
   ]
  },
  {
   "cell_type": "markdown",
   "metadata": {},
   "source": [
    "<h2>Use test sample to generate predictions</h2>"
   ]
  },
  {
   "cell_type": "code",
   "execution_count": 17,
   "metadata": {},
   "outputs": [
    {
     "data": {
      "text/plain": [
       "array([1, 6, 6, 7, 3, 8, 3, 6, 3, 3, 5, 9, 1, 0, 1, 3, 6, 2, 6, 3, 9, 3,\n",
       "       6, 2, 5, 1, 6, 3, 1, 6, 1, 6, 8, 1, 1, 1, 6, 1, 2, 1, 1, 6, 5, 6,\n",
       "       1, 9, 6, 0, 1, 6, 2, 5, 6, 3, 1, 0, 6, 0, 0, 9, 0, 9, 6, 3, 9, 6,\n",
       "       2, 0, 2, 6, 6, 6, 6, 2, 2, 0, 9, 3, 6, 6, 6, 0, 3, 6, 6, 0, 1, 1,\n",
       "       1, 6, 5, 8, 5, 6, 6, 8, 6, 0, 1, 1, 9, 6, 6, 6, 9, 2, 2, 9, 9, 8,\n",
       "       2, 2, 1, 1, 9, 6, 5, 2, 6, 2, 3, 1, 6, 9, 0, 2, 3, 2, 3, 5, 3, 6,\n",
       "       2, 2, 0, 1, 1, 1, 8, 5, 0, 6, 9, 1, 6, 9, 1, 6, 0, 6, 6, 1, 1, 0,\n",
       "       1, 1, 8, 6, 6, 2, 2, 3, 6, 0, 9, 5, 5, 1, 2, 2, 6, 3, 1, 5, 5, 3,\n",
       "       2, 2, 3, 3, 6, 6, 6, 0, 6, 5, 8, 3, 1, 6, 6, 1, 5, 3, 7, 3, 6, 1,\n",
       "       2, 5, 6, 6, 6, 2, 5, 6, 1, 5, 5, 3, 9, 1, 6, 1, 5, 6, 1, 0, 9, 3,\n",
       "       3, 2, 9, 1, 9, 3, 1, 0, 6, 3, 6, 1, 2, 9, 6, 8, 9, 2, 1, 5, 5, 6,\n",
       "       3, 5, 0, 8, 5, 5, 2, 2, 2, 1, 3, 3, 8, 6, 1, 5, 5, 6, 1, 0, 6, 3,\n",
       "       2, 0, 5, 0, 1, 6, 5, 3, 6, 1, 0, 9, 8, 0, 0, 6, 1, 6, 6, 2, 6, 2,\n",
       "       6, 6, 6, 5, 3, 6, 6, 9, 0, 2, 5, 6, 9, 0, 8, 2, 1, 9, 6, 2, 6, 0,\n",
       "       6, 3, 8, 6, 9, 9, 5, 5, 2, 0, 5, 3, 3, 5, 5, 5, 2, 0, 1, 9, 5, 5,\n",
       "       6, 5, 3, 9, 3, 5, 7, 6, 5, 1, 0, 1, 5, 0, 7, 6, 5, 6, 5, 8, 2, 2,\n",
       "       9, 6, 2, 9, 6, 2, 6, 6, 1, 0, 0, 6, 0, 6, 0, 0, 1, 9, 3, 6, 5, 3,\n",
       "       6, 1, 6, 5, 6, 5, 9, 3, 6, 6, 6, 6, 5, 2, 0, 1, 6, 6, 7, 5, 1, 9,\n",
       "       8, 3, 9, 5, 1, 1, 2, 9, 5, 6, 1, 0, 3, 9, 6, 9, 3, 2, 1, 6, 2, 0,\n",
       "       5, 6, 7, 1, 6, 2, 1, 5, 8, 6, 0, 2, 3, 2, 6, 1, 6, 6, 1, 6, 6, 0,\n",
       "       5, 6, 3, 5, 2, 2, 1, 3, 1, 3], dtype=int32)"
      ]
     },
     "execution_count": 17,
     "metadata": {},
     "output_type": "execute_result"
    }
   ],
   "source": [
    "y_pred=clf.predict(X_test)\n",
    "y_pred"
   ]
  },
  {
   "cell_type": "code",
   "execution_count": 18,
   "metadata": {},
   "outputs": [
    {
     "data": {
      "image/png": "[encoded data removed]",
      "text/plain": [
       "<Figure size 864x864 with 15 Axes>"
      ]
     },
     "metadata": {},
     "output_type": "display_data"
    },
    {
     "data": {
      "image/png": "[encoded data removed]",
      "text/plain": [
       "<Figure size 864x864 with 15 Axes>"
      ]
     },
     "metadata": {},
     "output_type": "display_data"
    },
    {
     "data": {
      "image/png": "[encoded data removed]",
      "text/plain": [
       "<Figure size 864x864 with 15 Axes>"
      ]
     },
     "metadata": {},
     "output_type": "display_data"
    },
    {
     "data": {
      "image/png": "[encoded data removed]",
      "text/plain": [
       "<Figure size 864x864 with 15 Axes>"
      ]
     },
     "metadata": {},
     "output_type": "display_data"
    },
    {
     "data": {
      "text/plain": [
       "<Figure size 864x864 with 0 Axes>"
      ]
     },
     "metadata": {},
     "output_type": "display_data"
    },
    {
     "data": {
      "image/png": "[encoded data removed]",
      "text/plain": [
       "<Figure size 864x864 with 15 Axes>"
      ]
     },
     "metadata": {},
     "output_type": "display_data"
    },
    {
     "data": {
      "image/png": "[encoded data removed]",
      "text/plain": [
       "<Figure size 864x864 with 15 Axes>"
      ]
     },
     "metadata": {},
     "output_type": "display_data"
    },
    {
     "data": {
      "image/png": "[encoded data removed]",
      "text/plain": [
       "<Figure size 864x864 with 6 Axes>"
      ]
     },
     "metadata": {},
     "output_type": "display_data"
    },
    {
     "data": {
      "image/png": "[encoded data removed]",
      "text/plain": [
       "<Figure size 864x864 with 15 Axes>"
      ]
     },
     "metadata": {},
     "output_type": "display_data"
    },
    {
     "data": {
      "image/png": "[encoded data removed]",
      "text/plain": [
       "<Figure size 864x864 with 15 Axes>"
      ]
     },
     "metadata": {},
     "output_type": "display_data"
    }
   ],
   "source": [
    "def print_cluster(images, y_pred, cluster_number):\n",
    "    images = images[y_pred==cluster_number]\n",
    "    y_pred = y_pred[y_pred==cluster_number]\n",
    "    print_digits(images, y_pred,max_n=15)\n",
    "for i in range(10):\n",
    "      print_cluster(images_test, y_pred, i)\n"
   ]
  },
  {
   "cell_type": "markdown",
   "metadata": {},
   "source": [
    "<h1>Evaluating the model</h1>\n",
    "<li>Adjusted rand index: A measure of the similarity between two groups</li>\n",
    "<li>We'll use it to see how similar the y_test actuals and predicted groupings are</li>\n",
    "<li>http://scikit-learn.org/stable/modules/generated/sklearn.metrics.adjusted_rand_score.html</li>\n",
    "<li>0.0 indicates that there is no similarity and any overlap is explainable as totally random</li>\n",
    "<li>1.0 indicates that the two groups are identical</li>\n"
   ]
  },
  {
   "cell_type": "code",
   "execution_count": 19,
   "metadata": {},
   "outputs": [
    {
     "name": "stdout",
     "output_type": "stream",
     "text": [
      "Adjusted rand score: 0.4014715365247134\n"
     ]
    }
   ],
   "source": [
    "from sklearn import metrics\n",
    "print(\"Adjusted rand score: {0:2}\".format(metrics.adjusted_rand_score(y_test, y_pred)))"
   ]
  },
  {
   "cell_type": "markdown",
   "metadata": {},
   "source": [
    "<h2>Confusion matrix</h2>\n",
    "<li>Each row corresponds to a number (y_test)\n",
    "<li>Each column to y_pred (the cluster number)\n",
    "<li>Data is the number of times y_test was assigned to the corresponding y_pred\n",
    "<li>For example, 0 is fully assigned to cluster 2 (Row 0, Column 2)\n",
    "<li>8 is assigned to cluster 0  21 times (Row 8, Column 0)\n",
    "<li>7, which is cluster 6 is assigned to cluster 6 34 times (Row 7, Column 6)\n"
   ]
  },
  {
   "cell_type": "code",
   "execution_count": 22,
   "metadata": {},
   "outputs": [
    {
     "name": "stdout",
     "output_type": "stream",
     "text": [
      "[[43  0  0  0  0  0  0  0  0  0]\n",
      " [ 0  0  0  0  0 20  0  0  7 10]\n",
      " [ 0  0  0 21  0  6  1  0  9  1]\n",
      " [ 0  0  4  2  0  1 38  0  1  0]\n",
      " [ 0 24  4  0  0  1  0  1  0 25]\n",
      " [ 0  2  6 22  0  4 25  0  0  0]\n",
      " [ 1 44  0  0  0  0  0  0  0  0]\n",
      " [ 0  0 34  2  0  0  0  5  0  0]\n",
      " [ 0  0  1  3  0 24 10  0  0  0]\n",
      " [ 0  0  4  0  0  0 41  0  0  3]]\n"
     ]
    }
   ],
   "source": [
    "print(metrics.confusion_matrix(y_test, y_pred))"
   ]
  },
  {
   "cell_type": "markdown",
   "metadata": {},
   "source": [
    "<h2>Graphical view of the clusters</h2>"
   ]
  },
  {
   "cell_type": "markdown",
   "metadata": {},
   "source": [
    "<li>First reduce the x dimensions to 2 using principle component analysis</li>\n",
    "<li>https://en.wikipedia.org/wiki/Principal_component_analysis</li>\n",
    "<li>Then figure out the range of values and define the grid</li>\n",
    "<li>Run k-means on the reduced (2 component) data set</li>\n",
    "<li>Draw a color map and plot the pca points on this map</li>\n",
    "<li>Find the cluster centroids and plot them on the color map</li>\n",
    "\n"
   ]
  },
  {
   "cell_type": "code",
   "execution_count": 21,
   "metadata": {},
   "outputs": [
    {
     "data": {
      "image/png": "[encoded data removed]",
      "text/plain": [
       "<Figure size 432x288 with 1 Axes>"
      ]
     },
     "metadata": {},
     "output_type": "display_data"
    }
   ],
   "source": [
    "from sklearn import decomposition\n",
    "pca = decomposition.PCA(n_components=2).fit(X_train)\n",
    "reduced_X_train = pca.transform(X_train)\n",
    "# Step size of the mesh. \n",
    "h = .01     \n",
    "# point in the mesh [x_min, m_max]x[y_min, y_max].\n",
    "x_min, x_max = reduced_X_train[:, 0].min() + 1, reduced_X_train[:, 0].max() - 1\n",
    "y_min, y_max = reduced_X_train[:, 1].min() + 1, reduced_X_train[:, 1].max() - 1\n",
    "xx, yy = np.meshgrid(np.arange(x_min, x_max, h), \n",
    "    np.arange(y_min, y_max, h))\n",
    "kmeans = cluster.KMeans(init='k-means++', n_clusters=n_digits, \n",
    "    n_init=10)\n",
    "kmeans.fit(reduced_X_train)\n",
    "Z = kmeans.predict(np.c_[xx.ravel(), yy.ravel()])\n",
    "# Put the result into a color plot\n",
    "Z = Z.reshape(xx.shape)\n",
    "plt.figure(1)\n",
    "plt.clf()\n",
    "plt.imshow(Z, interpolation='nearest', extent=(xx.min(), xx.max(), yy.min(), yy.max()), cmap=plt.cm.Paired, aspect='auto', origin='lower')\n",
    "plt.plot(reduced_X_train[:, 0], reduced_X_train[:, 1], 'k.', \n",
    "    markersize=2)\n",
    "# Plot the centroids as a white X\n",
    "centroids = kmeans.cluster_centers_\n",
    "plt.scatter(centroids[:, 0], centroids[:, 1],marker='.', \n",
    "    s=169, linewidths=3, color='w', zorder=10)\n",
    "plt.title('K-means clustering on the digits dataset (PCA reduced data)\\nCentroids are marked with white dots')\n",
    "plt.xlim(x_min, x_max)\n",
    "plt.ylim(y_min, y_max)\n",
    "plt.xticks(())\n",
    "plt.yticks(())\n",
    "plt.show()"
   ]
  },
  {
   "cell_type": "code",
   "execution_count": null,
   "metadata": {},
   "outputs": [],
   "source": []
  },
  {
   "cell_type": "markdown",
   "metadata": {},
   "source": [
    "# K-Means Clustering of Volunteer Profiles"
   ]
  },
  {
   "cell_type": "code",
   "execution_count": 242,
   "metadata": {},
   "outputs": [],
   "source": [
    "import numpy as np\n",
    "import pandas as pd\n",
    "\n",
    "from matplotlib import pyplot as plt\n",
    "from sklearn.cluster import KMeans\n",
    "from sklearn import preprocessing\n",
    "from sklearn.preprocessing import MinMaxScaler\n"
   ]
  },
  {
   "cell_type": "code",
   "execution_count": 223,
   "metadata": {},
   "outputs": [],
   "source": [
    "vol = pd.read_csv('VolunteersOverview.csv')"
   ]
  },
  {
   "cell_type": "code",
   "execution_count": 224,
   "metadata": {},
   "outputs": [],
   "source": [
    "vol.drop(['School','Age','Province'], axis=1, inplace=True)"
   ]
  },
  {
   "cell_type": "code",
   "execution_count": 225,
   "metadata": {},
   "outputs": [],
   "source": [
    "vol.dropna(inplace=True)"
   ]
  },
  {
   "cell_type": "code",
   "execution_count": 226,
   "metadata": {},
   "outputs": [
    {
     "name": "stdout",
     "output_type": "stream",
     "text": [
      "<class 'pandas.core.frame.DataFrame'>\n",
      "Int64Index: 734 entries, 0 to 807\n",
      "Data columns (total 7 columns):\n",
      " #   Column                     Non-Null Count  Dtype  \n",
      "---  ------                     --------------  -----  \n",
      " 0   Gender                     734 non-null    float64\n",
      " 1   Distance                   734 non-null    float64\n",
      " 2   Tenure                     734 non-null    int64  \n",
      " 3   Employment Status          734 non-null    object \n",
      " 4   Student                    734 non-null    int64  \n",
      " 5   Q - Other Languages        734 non-null    object \n",
      " 6   Hours Volunteered in 2015  734 non-null    float64\n",
      "dtypes: float64(3), int64(2), object(2)\n",
      "memory usage: 45.9+ KB\n"
     ]
    }
   ],
   "source": [
    "vol.info()"
   ]
  },
  {
   "cell_type": "code",
   "execution_count": 227,
   "metadata": {},
   "outputs": [
    {
     "data": {
      "text/plain": [
       "Index(['Gender', 'Distance', 'Tenure', 'Employment Status', 'Student',\n",
       "       'Q - Other Languages ', 'Hours Volunteered in 2015'],\n",
       "      dtype='object')"
      ]
     },
     "execution_count": 227,
     "metadata": {},
     "output_type": "execute_result"
    }
   ],
   "source": [
    "vol.columns"
   ]
  },
  {
   "cell_type": "code",
   "execution_count": 228,
   "metadata": {},
   "outputs": [],
   "source": [
    "# Change Everything that's not English Only to 'Other'\n",
    "vol.loc[vol['Q - Other Languages '] != \"English Only\", 'Q - Other Languages '] = \"Other\""
   ]
  },
  {
   "cell_type": "code",
   "execution_count": 229,
   "metadata": {},
   "outputs": [],
   "source": [
    "# Create dummy variables for 2 columns\n",
    "dfEmployStatus = pd.get_dummies(vol['Employment Status'])\n",
    "dfOtherLang = pd.get_dummies(vol['Q - Other Languages '])\n",
    "\n",
    "#Concat new columns to original dataframe \n",
    "vol = pd.concat([vol, dfEmployStatus, dfOtherLang], axis=1)"
   ]
  },
  {
   "cell_type": "code",
   "execution_count": 230,
   "metadata": {},
   "outputs": [],
   "source": [
    "# Drop one of the dummy columns and the original columns:\n",
    "vol.drop(['Employment Status','Q - Other Languages ','Unemployed','Other'], axis=1, inplace=True)"
   ]
  },
  {
   "cell_type": "code",
   "execution_count": 231,
   "metadata": {},
   "outputs": [
    {
     "data": {
      "text/html": [
       "<div>\n",
       "<style scoped>\n",
       "    .dataframe tbody tr th:only-of-type {\n",
       "        vertical-align: middle;\n",
       "    }\n",
       "\n",
       "    .dataframe tbody tr th {\n",
       "        vertical-align: top;\n",
       "    }\n",
       "\n",
       "    .dataframe thead th {\n",
       "        text-align: right;\n",
       "    }\n",
       "</style>\n",
       "<table border=\"1\" class=\"dataframe\">\n",
       "  <thead>\n",
       "    <tr style=\"text-align: right;\">\n",
       "      <th></th>\n",
       "      <th>Gender</th>\n",
       "      <th>Distance</th>\n",
       "      <th>Tenure</th>\n",
       "      <th>Student</th>\n",
       "      <th>Hours Volunteered in 2015</th>\n",
       "      <th>Employed</th>\n",
       "      <th>Retired</th>\n",
       "      <th>Student</th>\n",
       "      <th>English Only</th>\n",
       "    </tr>\n",
       "  </thead>\n",
       "  <tbody>\n",
       "    <tr>\n",
       "      <th>0</th>\n",
       "      <td>0.0</td>\n",
       "      <td>16.490</td>\n",
       "      <td>5</td>\n",
       "      <td>1</td>\n",
       "      <td>0.0</td>\n",
       "      <td>0</td>\n",
       "      <td>0</td>\n",
       "      <td>1</td>\n",
       "      <td>0</td>\n",
       "    </tr>\n",
       "    <tr>\n",
       "      <th>1</th>\n",
       "      <td>0.0</td>\n",
       "      <td>6.660</td>\n",
       "      <td>1</td>\n",
       "      <td>0</td>\n",
       "      <td>0.0</td>\n",
       "      <td>0</td>\n",
       "      <td>1</td>\n",
       "      <td>0</td>\n",
       "      <td>1</td>\n",
       "    </tr>\n",
       "    <tr>\n",
       "      <th>4</th>\n",
       "      <td>0.0</td>\n",
       "      <td>3.930</td>\n",
       "      <td>13</td>\n",
       "      <td>0</td>\n",
       "      <td>136.0</td>\n",
       "      <td>0</td>\n",
       "      <td>1</td>\n",
       "      <td>0</td>\n",
       "      <td>0</td>\n",
       "    </tr>\n",
       "    <tr>\n",
       "      <th>8</th>\n",
       "      <td>0.0</td>\n",
       "      <td>0.000</td>\n",
       "      <td>1</td>\n",
       "      <td>0</td>\n",
       "      <td>2.0</td>\n",
       "      <td>0</td>\n",
       "      <td>1</td>\n",
       "      <td>0</td>\n",
       "      <td>1</td>\n",
       "    </tr>\n",
       "    <tr>\n",
       "      <th>14</th>\n",
       "      <td>0.0</td>\n",
       "      <td>1.856</td>\n",
       "      <td>1</td>\n",
       "      <td>0</td>\n",
       "      <td>0.0</td>\n",
       "      <td>1</td>\n",
       "      <td>0</td>\n",
       "      <td>0</td>\n",
       "      <td>1</td>\n",
       "    </tr>\n",
       "  </tbody>\n",
       "</table>\n",
       "</div>"
      ],
      "text/plain": [
       "    Gender  Distance  Tenure  Student  Hours Volunteered in 2015  Employed  \\\n",
       "0      0.0    16.490       5        1                        0.0         0   \n",
       "1      0.0     6.660       1        0                        0.0         0   \n",
       "4      0.0     3.930      13        0                      136.0         0   \n",
       "8      0.0     0.000       1        0                        2.0         0   \n",
       "14     0.0     1.856       1        0                        0.0         1   \n",
       "\n",
       "    Retired  Student  English Only  \n",
       "0         0        1             0  \n",
       "1         1        0             1  \n",
       "4         1        0             0  \n",
       "8         1        0             1  \n",
       "14        0        0             1  "
      ]
     },
     "execution_count": 231,
     "metadata": {},
     "output_type": "execute_result"
    }
   ],
   "source": [
    "vol.head()"
   ]
  },
  {
   "cell_type": "code",
   "execution_count": 244,
   "metadata": {},
   "outputs": [],
   "source": [
    "#standardize the data to normal distribution\n",
    "scaler = MinMaxScaler()\n",
    "vol_scaled = pd.DataFrame(scaler.fit_transform(vol), columns=vol.columns)"
   ]
  },
  {
   "cell_type": "code",
   "execution_count": 248,
   "metadata": {},
   "outputs": [
    {
     "data": {
      "text/html": [
       "<div>\n",
       "<style scoped>\n",
       "    .dataframe tbody tr th:only-of-type {\n",
       "        vertical-align: middle;\n",
       "    }\n",
       "\n",
       "    .dataframe tbody tr th {\n",
       "        vertical-align: top;\n",
       "    }\n",
       "\n",
       "    .dataframe thead th {\n",
       "        text-align: right;\n",
       "    }\n",
       "</style>\n",
       "<table border=\"1\" class=\"dataframe\">\n",
       "  <thead>\n",
       "    <tr style=\"text-align: right;\">\n",
       "      <th></th>\n",
       "      <th>Gender</th>\n",
       "      <th>Distance</th>\n",
       "      <th>Tenure</th>\n",
       "      <th>Student</th>\n",
       "      <th>Hours Volunteered in 2015</th>\n",
       "      <th>Employed</th>\n",
       "      <th>Retired</th>\n",
       "      <th>Student</th>\n",
       "      <th>English Only</th>\n",
       "    </tr>\n",
       "  </thead>\n",
       "  <tbody>\n",
       "    <tr>\n",
       "      <th>0</th>\n",
       "      <td>0.0</td>\n",
       "      <td>0.017776</td>\n",
       "      <td>0.125</td>\n",
       "      <td>1.0</td>\n",
       "      <td>0.000000</td>\n",
       "      <td>0.0</td>\n",
       "      <td>0.0</td>\n",
       "      <td>1.0</td>\n",
       "      <td>0.0</td>\n",
       "    </tr>\n",
       "    <tr>\n",
       "      <th>1</th>\n",
       "      <td>0.0</td>\n",
       "      <td>0.007179</td>\n",
       "      <td>0.000</td>\n",
       "      <td>0.0</td>\n",
       "      <td>0.000000</td>\n",
       "      <td>0.0</td>\n",
       "      <td>1.0</td>\n",
       "      <td>0.0</td>\n",
       "      <td>1.0</td>\n",
       "    </tr>\n",
       "    <tr>\n",
       "      <th>2</th>\n",
       "      <td>0.0</td>\n",
       "      <td>0.004237</td>\n",
       "      <td>0.375</td>\n",
       "      <td>0.0</td>\n",
       "      <td>0.361222</td>\n",
       "      <td>0.0</td>\n",
       "      <td>1.0</td>\n",
       "      <td>0.0</td>\n",
       "      <td>0.0</td>\n",
       "    </tr>\n",
       "    <tr>\n",
       "      <th>3</th>\n",
       "      <td>0.0</td>\n",
       "      <td>0.000000</td>\n",
       "      <td>0.000</td>\n",
       "      <td>0.0</td>\n",
       "      <td>0.005312</td>\n",
       "      <td>0.0</td>\n",
       "      <td>1.0</td>\n",
       "      <td>0.0</td>\n",
       "      <td>1.0</td>\n",
       "    </tr>\n",
       "    <tr>\n",
       "      <th>4</th>\n",
       "      <td>0.0</td>\n",
       "      <td>0.002001</td>\n",
       "      <td>0.000</td>\n",
       "      <td>0.0</td>\n",
       "      <td>0.000000</td>\n",
       "      <td>1.0</td>\n",
       "      <td>0.0</td>\n",
       "      <td>0.0</td>\n",
       "      <td>1.0</td>\n",
       "    </tr>\n",
       "    <tr>\n",
       "      <th>...</th>\n",
       "      <td>...</td>\n",
       "      <td>...</td>\n",
       "      <td>...</td>\n",
       "      <td>...</td>\n",
       "      <td>...</td>\n",
       "      <td>...</td>\n",
       "      <td>...</td>\n",
       "      <td>...</td>\n",
       "      <td>...</td>\n",
       "    </tr>\n",
       "    <tr>\n",
       "      <th>729</th>\n",
       "      <td>0.0</td>\n",
       "      <td>0.018940</td>\n",
       "      <td>0.000</td>\n",
       "      <td>0.0</td>\n",
       "      <td>0.011952</td>\n",
       "      <td>1.0</td>\n",
       "      <td>0.0</td>\n",
       "      <td>0.0</td>\n",
       "      <td>1.0</td>\n",
       "    </tr>\n",
       "    <tr>\n",
       "      <th>730</th>\n",
       "      <td>0.0</td>\n",
       "      <td>0.018940</td>\n",
       "      <td>0.000</td>\n",
       "      <td>1.0</td>\n",
       "      <td>0.000000</td>\n",
       "      <td>0.0</td>\n",
       "      <td>0.0</td>\n",
       "      <td>1.0</td>\n",
       "      <td>1.0</td>\n",
       "    </tr>\n",
       "    <tr>\n",
       "      <th>731</th>\n",
       "      <td>0.0</td>\n",
       "      <td>0.018940</td>\n",
       "      <td>0.000</td>\n",
       "      <td>1.0</td>\n",
       "      <td>0.000000</td>\n",
       "      <td>0.0</td>\n",
       "      <td>0.0</td>\n",
       "      <td>1.0</td>\n",
       "      <td>1.0</td>\n",
       "    </tr>\n",
       "    <tr>\n",
       "      <th>732</th>\n",
       "      <td>0.0</td>\n",
       "      <td>0.018940</td>\n",
       "      <td>0.000</td>\n",
       "      <td>1.0</td>\n",
       "      <td>0.014608</td>\n",
       "      <td>0.0</td>\n",
       "      <td>0.0</td>\n",
       "      <td>1.0</td>\n",
       "      <td>1.0</td>\n",
       "    </tr>\n",
       "    <tr>\n",
       "      <th>733</th>\n",
       "      <td>0.0</td>\n",
       "      <td>0.018940</td>\n",
       "      <td>0.000</td>\n",
       "      <td>1.0</td>\n",
       "      <td>0.000000</td>\n",
       "      <td>0.0</td>\n",
       "      <td>0.0</td>\n",
       "      <td>1.0</td>\n",
       "      <td>1.0</td>\n",
       "    </tr>\n",
       "  </tbody>\n",
       "</table>\n",
       "<p>734 rows × 9 columns</p>\n",
       "</div>"
      ],
      "text/plain": [
       "     Gender  Distance  Tenure  Student  Hours Volunteered in 2015  Employed  \\\n",
       "0       0.0  0.017776   0.125      1.0                   0.000000       0.0   \n",
       "1       0.0  0.007179   0.000      0.0                   0.000000       0.0   \n",
       "2       0.0  0.004237   0.375      0.0                   0.361222       0.0   \n",
       "3       0.0  0.000000   0.000      0.0                   0.005312       0.0   \n",
       "4       0.0  0.002001   0.000      0.0                   0.000000       1.0   \n",
       "..      ...       ...     ...      ...                        ...       ...   \n",
       "729     0.0  0.018940   0.000      0.0                   0.011952       1.0   \n",
       "730     0.0  0.018940   0.000      1.0                   0.000000       0.0   \n",
       "731     0.0  0.018940   0.000      1.0                   0.000000       0.0   \n",
       "732     0.0  0.018940   0.000      1.0                   0.014608       0.0   \n",
       "733     0.0  0.018940   0.000      1.0                   0.000000       0.0   \n",
       "\n",
       "     Retired  Student  English Only  \n",
       "0        0.0      1.0           0.0  \n",
       "1        1.0      0.0           1.0  \n",
       "2        1.0      0.0           0.0  \n",
       "3        1.0      0.0           1.0  \n",
       "4        0.0      0.0           1.0  \n",
       "..       ...      ...           ...  \n",
       "729      0.0      0.0           1.0  \n",
       "730      0.0      1.0           1.0  \n",
       "731      0.0      1.0           1.0  \n",
       "732      0.0      1.0           1.0  \n",
       "733      0.0      1.0           1.0  \n",
       "\n",
       "[734 rows x 9 columns]"
      ]
     },
     "execution_count": 248,
     "metadata": {},
     "output_type": "execute_result"
    }
   ],
   "source": [
    "vol_scaled"
   ]
  },
  {
   "cell_type": "code",
   "execution_count": 249,
   "metadata": {},
   "outputs": [
    {
     "data": {
      "image/png": "[encoded data removed]",
      "text/plain": [
       "<Figure size 720x576 with 1 Axes>"
      ]
     },
     "metadata": {
      "needs_background": "light"
     },
     "output_type": "display_data"
    }
   ],
   "source": [
    "# find the appropriate cluster number\n",
    "plt.figure(figsize=(10, 8))\n",
    "wcss = []\n",
    "for i in range(1, 11):\n",
    "    kmeans = KMeans(n_clusters = i, init = 'k-means++', random_state = 42)\n",
    "    kmeans.fit(vol_scaled)\n",
    "    wcss.append(kmeans.inertia_)\n",
    "plt.plot(range(1, 11), wcss)\n",
    "plt.title('The Elbow Method')\n",
    "plt.xlabel('Number of clusters')\n",
    "plt.ylabel('WCSS')\n",
    "plt.show()"
   ]
  },
  {
   "cell_type": "code",
   "execution_count": 266,
   "metadata": {},
   "outputs": [],
   "source": [
    "\n",
    "from sklearn.cluster import KMeans\n",
    "kmeans = KMeans(n_clusters=4)\n",
    "kmeans.fit(X)\n",
    "y_kmeans = kmeans.predict(X)"
   ]
  },
  {
   "cell_type": "code",
   "execution_count": 261,
   "metadata": {},
   "outputs": [
    {
     "ename": "TypeError",
     "evalue": "'(slice(None, None, None), 0)' is an invalid key",
     "output_type": "error",
     "traceback": [
      "\u001b[0;31m---------------------------------------------------------------------------\u001b[0m",
      "\u001b[0;31mTypeError\u001b[0m                                 Traceback (most recent call last)",
      "\u001b[0;32m<ipython-input-261-a9b9784347cd>\u001b[0m in \u001b[0;36m<module>\u001b[0;34m\u001b[0m\n\u001b[0;32m----> 1\u001b[0;31m \u001b[0mplt\u001b[0m\u001b[0;34m.\u001b[0m\u001b[0mscatter\u001b[0m\u001b[0;34m(\u001b[0m\u001b[0mX\u001b[0m\u001b[0;34m[\u001b[0m\u001b[0;34m:\u001b[0m\u001b[0;34m,\u001b[0m \u001b[0;36m0\u001b[0m\u001b[0;34m]\u001b[0m\u001b[0;34m,\u001b[0m \u001b[0mX\u001b[0m\u001b[0;34m[\u001b[0m\u001b[0;34m:\u001b[0m\u001b[0;34m,\u001b[0m \u001b[0;36m1\u001b[0m\u001b[0;34m]\u001b[0m\u001b[0;34m,\u001b[0m \u001b[0mc\u001b[0m\u001b[0;34m=\u001b[0m\u001b[0my_kmeans\u001b[0m\u001b[0;34m,\u001b[0m \u001b[0ms\u001b[0m\u001b[0;34m=\u001b[0m\u001b[0;36m50\u001b[0m\u001b[0;34m,\u001b[0m \u001b[0mcmap\u001b[0m\u001b[0;34m=\u001b[0m\u001b[0;34m'viridis'\u001b[0m\u001b[0;34m)\u001b[0m\u001b[0;34m\u001b[0m\u001b[0;34m\u001b[0m\u001b[0m\n\u001b[0m\u001b[1;32m      2\u001b[0m \u001b[0;34m\u001b[0m\u001b[0m\n\u001b[1;32m      3\u001b[0m \u001b[0mcenters\u001b[0m \u001b[0;34m=\u001b[0m \u001b[0mkmeans\u001b[0m\u001b[0;34m.\u001b[0m\u001b[0mcluster_centers_\u001b[0m\u001b[0;34m\u001b[0m\u001b[0;34m\u001b[0m\u001b[0m\n\u001b[1;32m      4\u001b[0m \u001b[0mplt\u001b[0m\u001b[0;34m.\u001b[0m\u001b[0mscatter\u001b[0m\u001b[0;34m(\u001b[0m\u001b[0mcenters\u001b[0m\u001b[0;34m[\u001b[0m\u001b[0;34m:\u001b[0m\u001b[0;34m,\u001b[0m \u001b[0;36m0\u001b[0m\u001b[0;34m]\u001b[0m\u001b[0;34m,\u001b[0m \u001b[0mcenters\u001b[0m\u001b[0;34m[\u001b[0m\u001b[0;34m:\u001b[0m\u001b[0;34m,\u001b[0m \u001b[0;36m1\u001b[0m\u001b[0;34m]\u001b[0m\u001b[0;34m,\u001b[0m \u001b[0mc\u001b[0m\u001b[0;34m=\u001b[0m\u001b[0;34m'black'\u001b[0m\u001b[0;34m,\u001b[0m \u001b[0ms\u001b[0m\u001b[0;34m=\u001b[0m\u001b[0;36m200\u001b[0m\u001b[0;34m,\u001b[0m \u001b[0malpha\u001b[0m\u001b[0;34m=\u001b[0m\u001b[0;36m0.5\u001b[0m\u001b[0;34m)\u001b[0m\u001b[0;34m;\u001b[0m\u001b[0;34m\u001b[0m\u001b[0;34m\u001b[0m\u001b[0m\n",
      "\u001b[0;32m~/ds/eme/pro/my_project_env/lib/python3.6/site-packages/pandas/core/frame.py\u001b[0m in \u001b[0;36m__getitem__\u001b[0;34m(self, key)\u001b[0m\n\u001b[1;32m   2798\u001b[0m             \u001b[0;32mif\u001b[0m \u001b[0mself\u001b[0m\u001b[0;34m.\u001b[0m\u001b[0mcolumns\u001b[0m\u001b[0;34m.\u001b[0m\u001b[0mnlevels\u001b[0m \u001b[0;34m>\u001b[0m \u001b[0;36m1\u001b[0m\u001b[0;34m:\u001b[0m\u001b[0;34m\u001b[0m\u001b[0;34m\u001b[0m\u001b[0m\n\u001b[1;32m   2799\u001b[0m                 \u001b[0;32mreturn\u001b[0m \u001b[0mself\u001b[0m\u001b[0;34m.\u001b[0m\u001b[0m_getitem_multilevel\u001b[0m\u001b[0;34m(\u001b[0m\u001b[0mkey\u001b[0m\u001b[0;34m)\u001b[0m\u001b[0;34m\u001b[0m\u001b[0;34m\u001b[0m\u001b[0m\n\u001b[0;32m-> 2800\u001b[0;31m             \u001b[0mindexer\u001b[0m \u001b[0;34m=\u001b[0m \u001b[0mself\u001b[0m\u001b[0;34m.\u001b[0m\u001b[0mcolumns\u001b[0m\u001b[0;34m.\u001b[0m\u001b[0mget_loc\u001b[0m\u001b[0;34m(\u001b[0m\u001b[0mkey\u001b[0m\u001b[0;34m)\u001b[0m\u001b[0;34m\u001b[0m\u001b[0;34m\u001b[0m\u001b[0m\n\u001b[0m\u001b[1;32m   2801\u001b[0m             \u001b[0;32mif\u001b[0m \u001b[0mis_integer\u001b[0m\u001b[0;34m(\u001b[0m\u001b[0mindexer\u001b[0m\u001b[0;34m)\u001b[0m\u001b[0;34m:\u001b[0m\u001b[0;34m\u001b[0m\u001b[0;34m\u001b[0m\u001b[0m\n\u001b[1;32m   2802\u001b[0m                 \u001b[0mindexer\u001b[0m \u001b[0;34m=\u001b[0m \u001b[0;34m[\u001b[0m\u001b[0mindexer\u001b[0m\u001b[0;34m]\u001b[0m\u001b[0;34m\u001b[0m\u001b[0;34m\u001b[0m\u001b[0m\n",
      "\u001b[0;32m~/ds/eme/pro/my_project_env/lib/python3.6/site-packages/pandas/core/indexes/base.py\u001b[0m in \u001b[0;36mget_loc\u001b[0;34m(self, key, method, tolerance)\u001b[0m\n\u001b[1;32m   2644\u001b[0m                 )\n\u001b[1;32m   2645\u001b[0m             \u001b[0;32mtry\u001b[0m\u001b[0;34m:\u001b[0m\u001b[0;34m\u001b[0m\u001b[0;34m\u001b[0m\u001b[0m\n\u001b[0;32m-> 2646\u001b[0;31m                 \u001b[0;32mreturn\u001b[0m \u001b[0mself\u001b[0m\u001b[0;34m.\u001b[0m\u001b[0m_engine\u001b[0m\u001b[0;34m.\u001b[0m\u001b[0mget_loc\u001b[0m\u001b[0;34m(\u001b[0m\u001b[0mkey\u001b[0m\u001b[0;34m)\u001b[0m\u001b[0;34m\u001b[0m\u001b[0;34m\u001b[0m\u001b[0m\n\u001b[0m\u001b[1;32m   2647\u001b[0m             \u001b[0;32mexcept\u001b[0m \u001b[0mKeyError\u001b[0m\u001b[0;34m:\u001b[0m\u001b[0;34m\u001b[0m\u001b[0;34m\u001b[0m\u001b[0m\n\u001b[1;32m   2648\u001b[0m                 \u001b[0;32mreturn\u001b[0m \u001b[0mself\u001b[0m\u001b[0;34m.\u001b[0m\u001b[0m_engine\u001b[0m\u001b[0;34m.\u001b[0m\u001b[0mget_loc\u001b[0m\u001b[0;34m(\u001b[0m\u001b[0mself\u001b[0m\u001b[0;34m.\u001b[0m\u001b[0m_maybe_cast_indexer\u001b[0m\u001b[0;34m(\u001b[0m\u001b[0mkey\u001b[0m\u001b[0;34m)\u001b[0m\u001b[0;34m)\u001b[0m\u001b[0;34m\u001b[0m\u001b[0;34m\u001b[0m\u001b[0m\n",
      "\u001b[0;32mpandas/_libs/index.pyx\u001b[0m in \u001b[0;36mpandas._libs.index.IndexEngine.get_loc\u001b[0;34m()\u001b[0m\n",
      "\u001b[0;32mpandas/_libs/index.pyx\u001b[0m in \u001b[0;36mpandas._libs.index.IndexEngine.get_loc\u001b[0;34m()\u001b[0m\n",
      "\u001b[0;31mTypeError\u001b[0m: '(slice(None, None, None), 0)' is an invalid key"
     ]
    }
   ],
   "source": [
    "plt.scatter(X[:, 0], X[:, 1], c=y_kmeans, s=50, cmap='viridis')\n",
    "\n",
    "centers = kmeans.cluster_centers_\n",
    "plt.scatter(centers[:, 0], centers[:, 1], c='black', s=200, alpha=0.5);"
   ]
  },
  {
   "cell_type": "code",
   "execution_count": 264,
   "metadata": {},
   "outputs": [
    {
     "name": "stderr",
     "output_type": "stream",
     "text": [
      "/home/alexei/ds/eme/pro/my_project_env/lib/python3.6/site-packages/sklearn/utils/deprecation.py:144: FutureWarning: The sklearn.datasets.samples_generator module is  deprecated in version 0.22 and will be removed in version 0.24. The corresponding classes / functions should instead be imported from sklearn.datasets. Anything that cannot be imported from sklearn.datasets is now part of the private API.\n",
      "  warnings.warn(message, FutureWarning)\n"
     ]
    },
    {
     "data": {
      "image/png": "[encoded data removed]",
      "text/plain": [
       "<Figure size 432x288 with 1 Axes>"
      ]
     },
     "metadata": {
      "needs_background": "light"
     },
     "output_type": "display_data"
    }
   ],
   "source": [
    "from sklearn.datasets.samples_generator import make_blobs\n",
    "X, y_true = make_blobs(n_samples=300, centers=4,\n",
    "                       cluster_std=0.60, random_state=0)\n",
    "plt.scatter(X[:, 0], X[:, 1], s=50);"
   ]
  },
  {
   "cell_type": "code",
   "execution_count": 265,
   "metadata": {},
   "outputs": [
    {
     "data": {
      "text/plain": [
       "array([[ 8.36856841e-01,  2.13635938e+00],\n",
       "       [-1.41365810e+00,  7.40962324e+00],\n",
       "       [ 1.15521298e+00,  5.09961887e+00],\n",
       "       [-1.01861632e+00,  7.81491465e+00],\n",
       "       [ 1.27135141e+00,  1.89254207e+00],\n",
       "       [ 3.43761754e+00,  2.61654166e-01],\n",
       "       [-1.80822253e+00,  1.59701749e+00],\n",
       "       [ 1.41372442e+00,  4.38117707e+00],\n",
       "       [-2.04932168e-01,  8.43209665e+00],\n",
       "       [-7.11099611e-01,  8.66043846e+00],\n",
       "       [-1.71237268e+00,  2.77780226e+00],\n",
       "       [-2.67000792e+00,  8.35389140e+00],\n",
       "       [ 1.24258802e+00,  4.50399192e+00],\n",
       "       [-2.22783649e+00,  6.89479938e+00],\n",
       "       [ 1.45513831e+00, -2.91989981e-02],\n",
       "       [ 4.53791789e-01,  3.95647753e+00],\n",
       "       [ 1.06923853e+00,  4.53068484e+00],\n",
       "       [ 2.56936589e+00,  5.07048304e-01],\n",
       "       [-1.06690610e+00,  3.13165795e+00],\n",
       "       [-1.07859101e+00,  2.20451529e+00],\n",
       "       [ 2.71506328e+00,  1.29082190e+00],\n",
       "       [ 1.77710994e+00,  1.18655254e+00],\n",
       "       [ 7.34363910e-01,  5.03725437e+00],\n",
       "       [-1.99648151e+00,  2.85164868e+00],\n",
       "       [-1.91828017e+00,  2.60516867e+00],\n",
       "       [-5.55523811e-01,  4.69595848e+00],\n",
       "       [ 1.69747910e+00,  8.66123282e-01],\n",
       "       [ 5.94762432e-01,  4.70964730e+00],\n",
       "       [-2.88024255e+00,  2.30437816e+00],\n",
       "       [ 1.86725632e-01,  4.02683656e+00],\n",
       "       [-5.13333436e-01,  7.87437368e+00],\n",
       "       [-2.05701103e+00,  7.37851598e+00],\n",
       "       [ 1.87271752e+00,  4.18069237e+00],\n",
       "       [-1.13121396e+00,  6.76652230e+00],\n",
       "       [-1.64428957e+00,  7.94095139e+00],\n",
       "       [-2.41933824e+00,  7.43952498e+00],\n",
       "       [-2.01606928e+00,  7.48420129e+00],\n",
       "       [-2.62142780e+00,  7.98635066e+00],\n",
       "       [-2.20299950e+00,  2.47947561e+00],\n",
       "       [ 1.66382237e+00,  6.63091635e-01],\n",
       "       [ 6.69786996e-01,  3.59540802e+00],\n",
       "       [-1.98539037e+00,  2.05520738e+00],\n",
       "       [-4.74920358e-02,  5.47425256e+00],\n",
       "       [ 1.54462126e+00,  4.21078127e+00],\n",
       "       [-1.70200643e+00,  2.46098693e+00],\n",
       "       [-1.02192525e+00,  2.76820711e+00],\n",
       "       [-1.37842552e+00,  8.10269597e+00],\n",
       "       [-1.55220688e+00,  2.74574995e+00],\n",
       "       [-1.47904303e+00,  7.56915836e+00],\n",
       "       [ 1.98894313e+00,  1.50976729e+00],\n",
       "       [-1.94972418e+00,  3.48383870e+00],\n",
       "       [ 2.45509737e+00,  6.21231788e-01],\n",
       "       [-8.94327882e-01,  7.61714473e+00],\n",
       "       [ 1.69687788e+00,  7.54910622e-01],\n",
       "       [ 1.75644805e+00,  2.05538289e+00],\n",
       "       [-1.11064012e+00,  2.82213820e+00],\n",
       "       [-4.15017659e-02,  7.80870276e+00],\n",
       "       [-1.14091533e+00,  1.97550822e+00],\n",
       "       [-1.80634968e+00,  7.72830656e+00],\n",
       "       [ 1.39263752e+00,  9.28962707e-01],\n",
       "       [-2.25698670e+00,  7.30207720e+00],\n",
       "       [ 5.71670482e-01,  4.32288566e+00],\n",
       "       [-1.54994580e+00,  9.28293222e+00],\n",
       "       [-1.03819212e+00,  2.95323761e+00],\n",
       "       [-2.10956676e+00,  3.10677258e+00],\n",
       "       [-1.18652985e+00,  2.78427720e+00],\n",
       "       [-2.45809975e+00,  7.51178724e+00],\n",
       "       [ 2.36960214e+00,  9.50716912e-01],\n",
       "       [-2.66676007e+00,  7.84766052e+00],\n",
       "       [-1.49720702e+00,  3.21418433e+00],\n",
       "       [ 1.32222457e+00,  4.17880807e+00],\n",
       "       [-4.87271301e-01,  3.32858293e+00],\n",
       "       [-1.03718771e+00,  8.06300134e+00],\n",
       "       [-1.60496819e+00,  2.97425420e+00],\n",
       "       [-1.50372568e+00,  1.92385320e+00],\n",
       "       [-7.85412206e-01,  8.45312331e+00],\n",
       "       [-1.75783190e+00,  2.97449321e+00],\n",
       "       [ 1.19008992e+00,  4.72773123e+00],\n",
       "       [ 2.14043942e+00,  7.06066610e-01],\n",
       "       [-1.03540116e+00,  8.20559195e+00],\n",
       "       [ 1.25471244e+00,  8.96331565e-02],\n",
       "       [ 5.95676822e-01,  4.08614263e+00],\n",
       "       [ 1.27955338e+00,  1.05789418e+00],\n",
       "       [ 1.72955064e+00,  1.14729369e+00],\n",
       "       [-9.49041610e-01,  8.46424331e+00],\n",
       "       [ 9.35325115e-01,  5.33179296e+00],\n",
       "       [ 2.36923352e+00,  7.94735861e-01],\n",
       "       [ 4.28576743e-01,  4.97399710e+00],\n",
       "       [-2.04758277e+00,  6.65428520e+00],\n",
       "       [-1.45672617e+00,  7.48669893e+00],\n",
       "       [ 5.29417185e-01,  3.80792420e+00],\n",
       "       [ 1.78194802e+00,  9.08151155e-01],\n",
       "       [-1.95575053e+00,  8.61631686e+00],\n",
       "       [-1.74572014e+00,  3.01190457e+00],\n",
       "       [-1.17979111e+00,  3.12767494e+00],\n",
       "       [ 1.16411070e+00,  3.79132988e+00],\n",
       "       [ 1.36155806e+00,  1.36638252e+00],\n",
       "       [ 2.60137487e+00,  1.08799459e+00],\n",
       "       [ 2.72396035e-01,  5.46996004e+00],\n",
       "       [-3.12240736e+00,  3.28167398e+00],\n",
       "       [-5.88085172e-01,  8.61427320e+00],\n",
       "       [ 1.66909648e+00, -4.36378231e-01],\n",
       "       [-6.82774903e-01,  7.67490317e+00],\n",
       "       [ 2.36790645e+00,  5.52190878e-01],\n",
       "       [ 1.05241733e+00,  4.54498095e+00],\n",
       "       [ 2.22707373e+00,  1.26296996e+00],\n",
       "       [ 2.43934644e+00, -7.25099666e-02],\n",
       "       [ 1.34471770e+00,  4.85711133e+00],\n",
       "       [-1.31454942e+00,  6.83904013e+00],\n",
       "       [ 9.82570091e-01,  5.37530962e+00],\n",
       "       [-1.06295223e+00,  2.20755388e+00],\n",
       "       [-1.60712495e+00,  3.56452854e+00],\n",
       "       [ 1.57322172e+00,  4.83933793e-01],\n",
       "       [-2.17851338e+00,  8.08585131e+00],\n",
       "       [ 1.83375842e+00,  7.54036153e-01],\n",
       "       [ 2.10616050e+00,  3.49513189e+00],\n",
       "       [-1.64338755e+00,  7.52691964e+00],\n",
       "       [ 1.10550448e+00,  1.26389129e+00],\n",
       "       [ 1.61152972e+00,  1.82347242e+00],\n",
       "       [ 4.59534668e-01,  5.44982630e+00],\n",
       "       [-5.38023054e-01,  3.01641891e+00],\n",
       "       [ 1.67841499e+00,  6.09047389e-01],\n",
       "       [-1.01214966e+00,  3.60254338e+00],\n",
       "       [ 1.34195197e+00,  5.93573847e-01],\n",
       "       [ 1.42811550e+00,  1.62435083e+00],\n",
       "       [ 2.04505527e+00,  1.12515470e+00],\n",
       "       [ 1.67280531e+00,  6.59300571e-01],\n",
       "       [-1.35863899e+00,  2.32200809e+00],\n",
       "       [ 1.13078931e+00,  9.35620856e-01],\n",
       "       [-1.73896306e+00,  1.94799775e+00],\n",
       "       [-3.40258925e-01,  8.16733925e+00],\n",
       "       [-1.63793622e+00,  2.43329317e+00],\n",
       "       [-1.68754414e+00,  2.24107546e+00],\n",
       "       [ 2.43040639e+00, -6.35709334e-02],\n",
       "       [-1.37998039e+00,  7.18503804e+00],\n",
       "       [-1.25245465e+00,  2.33911505e+00],\n",
       "       [-2.39482483e+00,  3.39806103e+00],\n",
       "       [-2.09183352e+00,  7.48142543e+00],\n",
       "       [ 4.88382309e-01,  3.26801777e+00],\n",
       "       [-5.39428614e-01,  7.45631776e+00],\n",
       "       [-2.59201821e+00,  8.07635945e+00],\n",
       "       [-1.04656513e+00,  2.96483837e+00],\n",
       "       [ 1.25566754e+00,  3.38204112e+00],\n",
       "       [-1.62150422e+00,  4.27191636e+00],\n",
       "       [ 1.86922139e+00,  5.44132083e+00],\n",
       "       [-1.76404140e+00,  2.22222995e+00],\n",
       "       [-1.38181918e+00,  7.28761248e+00],\n",
       "       [ 7.93137001e-03,  4.17614316e+00],\n",
       "       [-1.10298500e+00,  7.30222786e+00],\n",
       "       [-1.79351372e+00,  7.58086944e+00],\n",
       "       [-1.51176949e+00,  7.94426307e+00],\n",
       "       [ 9.59360742e-01,  4.56078645e+00],\n",
       "       [-6.01337393e-01,  6.29994922e+00],\n",
       "       [ 2.24592863e-01,  4.77028154e+00],\n",
       "       [ 1.56724897e+00,  1.78090633e-02],\n",
       "       [-1.03395259e+00,  2.92105785e+00],\n",
       "       [-9.22268640e-01,  8.09888579e+00],\n",
       "       [-1.88609638e+00,  2.24834407e+00],\n",
       "       [ 1.86873582e+00,  9.56103760e-01],\n",
       "       [ 1.10123507e+00,  4.88977075e+00],\n",
       "       [-1.93213725e+00,  8.30643453e+00],\n",
       "       [ 6.70478769e-01,  4.04094275e+00],\n",
       "       [ 7.43873988e-01,  4.12240568e+00],\n",
       "       [ 1.64003761e+00,  1.81948989e+00],\n",
       "       [ 8.15468056e-01,  4.78526116e+00],\n",
       "       [-2.63274574e+00,  2.63109786e+00],\n",
       "       [-9.61076361e-01,  1.27407596e+00],\n",
       "       [ 2.13979079e-01,  4.88542535e+00],\n",
       "       [ 1.43472182e+00,  1.30662037e+00],\n",
       "       [ 1.21387411e+00,  3.64795042e+00],\n",
       "       [ 1.08272576e+00,  4.06271877e+00],\n",
       "       [-1.22605234e+00,  8.29620146e+00],\n",
       "       [ 1.48170052e+00,  6.90074595e-01],\n",
       "       [ 1.89593761e+00,  5.18540259e+00],\n",
       "       [-1.32356154e+00,  4.13050840e+00],\n",
       "       [-1.14989863e+00,  7.89325283e+00],\n",
       "       [ 2.46915842e+00,  1.67877140e+00],\n",
       "       [ 2.31102276e+00,  1.30380848e+00],\n",
       "       [ 5.72793810e-01,  4.08805543e+00],\n",
       "       [-9.67794989e-01,  3.12186125e+00],\n",
       "       [ 2.62492001e+00,  9.50194405e-01],\n",
       "       [ 1.68353782e+00,  4.19583243e+00],\n",
       "       [-2.22131717e+00,  2.73050691e+00],\n",
       "       [-1.57846247e+00,  3.03445802e+00],\n",
       "       [ 8.15155229e-02,  4.56742235e+00],\n",
       "       [ 1.43289271e+00,  4.37679234e+00],\n",
       "       [ 1.06269622e+00,  5.17635143e+00],\n",
       "       [ 7.67522789e-01,  4.39759671e+00],\n",
       "       [ 2.47019077e+00,  1.31451315e+00],\n",
       "       [-1.73163168e+00,  7.16447286e+00],\n",
       "       [ 3.47138300e-01,  3.45177657e+00],\n",
       "       [-1.00140436e+00,  2.84881778e+00],\n",
       "       [ 1.01618041e+00,  4.48527047e+00],\n",
       "       [ 5.59529363e-01,  4.21400660e+00],\n",
       "       [-2.11821046e+00,  2.03478126e+00],\n",
       "       [-1.36219420e+00,  2.38333321e+00],\n",
       "       [-2.78366586e+00,  2.99211541e+00],\n",
       "       [ 1.65225163e+00,  3.65582842e+00],\n",
       "       [-1.93960658e+00,  2.18943582e+00],\n",
       "       [-1.81487687e+00,  7.97832190e+00],\n",
       "       [ 1.20212540e+00,  3.64414685e+00],\n",
       "       [-9.69200946e-01,  3.26721702e+00],\n",
       "       [ 1.86985974e+00, -1.07938624e-01],\n",
       "       [-1.80701134e+00,  2.06773859e+00],\n",
       "       [ 1.21767506e+00,  3.89290127e+00],\n",
       "       [-1.48368917e+00,  6.00777418e+00],\n",
       "       [-1.56387985e+00,  2.85349910e+00],\n",
       "       [-6.86210297e-01,  8.68285664e+00],\n",
       "       [ 1.07627418e+00,  4.68480619e+00],\n",
       "       [-9.75986627e-01,  6.73761577e+00],\n",
       "       [ 1.37964693e+00,  4.54826443e+00],\n",
       "       [-1.64129611e+00,  2.68097255e+00],\n",
       "       [-1.84892963e-03,  4.58145668e+00],\n",
       "       [ 1.71444449e+00,  5.02521524e+00],\n",
       "       [-1.40524304e+00,  7.72611315e+00],\n",
       "       [-7.08184904e-01,  2.50421275e+00],\n",
       "       [-8.85798374e-01,  2.64585078e+00],\n",
       "       [ 1.98436909e+00,  4.89556738e-01],\n",
       "       [ 2.95195825e+00, -3.44327355e-01],\n",
       "       [ 4.31891060e-01,  4.33495456e+00],\n",
       "       [-1.86621694e+00,  7.62549400e+00],\n",
       "       [ 2.52706430e+00,  6.17812202e-01],\n",
       "       [ 2.04067185e+00,  4.54845114e-01],\n",
       "       [-2.58043836e+00,  3.18844294e+00],\n",
       "       [ 1.61990909e+00,  6.76452867e-02],\n",
       "       [-2.58802708e+00,  3.13117134e+00],\n",
       "       [ 4.43598630e-01,  3.11530945e+00],\n",
       "       [-4.56773649e-01,  7.30600872e+00],\n",
       "       [-1.12867566e+00,  7.80509789e+00],\n",
       "       [ 2.13003529e+00,  5.19209620e+00],\n",
       "       [ 1.00372519e+00,  4.19147702e+00],\n",
       "       [-1.39346767e+00,  8.74641672e+00],\n",
       "       [ 7.28098690e-01,  3.85531444e+00],\n",
       "       [ 8.93499638e-01,  1.01093082e+00],\n",
       "       [-1.10782972e+00,  2.92014479e+00],\n",
       "       [ 7.89338559e-01,  4.33748653e+00],\n",
       "       [ 1.97553917e+00,  7.18989132e-01],\n",
       "       [-1.24902582e+00,  3.08533972e+00],\n",
       "       [-1.07768797e+00,  8.88106128e+00],\n",
       "       [-1.86849125e+00,  3.07982487e+00],\n",
       "       [ 2.76808540e+00,  1.08782923e+00],\n",
       "       [ 2.77180174e-01,  4.84428322e+00],\n",
       "       [ 3.41085289e+00,  8.72309369e-01],\n",
       "       [-1.58084155e+00,  7.55307742e+00],\n",
       "       [-1.53027550e+00,  7.70542113e+00],\n",
       "       [-1.82455840e+00,  7.35958960e+00],\n",
       "       [-1.68568257e+00,  7.95339446e+00],\n",
       "       [-1.65104622e+00,  3.44598961e+00],\n",
       "       [-1.30440901e+00,  3.00311934e+00],\n",
       "       [-7.30698168e-01,  6.24208856e+00],\n",
       "       [ 2.40615694e+00,  4.87047502e+00],\n",
       "       [-1.53631328e+00,  3.01443916e+00],\n",
       "       [ 1.48859977e+00,  6.51633844e-01],\n",
       "       [ 5.14320434e-01,  4.62733684e+00],\n",
       "       [-1.81469750e+00,  3.29009724e+00],\n",
       "       [-1.93731055e+00,  3.91361274e+00],\n",
       "       [-6.14907097e-01,  3.94963585e+00],\n",
       "       [ 2.03169783e+00,  1.96807561e-01],\n",
       "       [ 2.14917144e+00,  1.03697228e+00],\n",
       "       [-1.36999388e+00,  7.76953035e+00],\n",
       "       [ 9.14338767e-01,  4.55014643e+00],\n",
       "       [ 3.33818506e-01,  4.93645836e+00],\n",
       "       [-2.15968109e+00,  3.41003096e+00],\n",
       "       [ 1.36678633e+00,  6.34971633e-01],\n",
       "       [-5.71099336e-01,  8.13306058e+00],\n",
       "       [-1.00552592e+00,  3.08400540e+00],\n",
       "       [ 1.49493180e+00,  3.85848832e+00],\n",
       "       [-5.90447667e-01,  7.69493053e+00],\n",
       "       [ 7.15177948e-01,  5.41334556e+00],\n",
       "       [ 2.11390250e+00,  1.24743587e+00],\n",
       "       [ 1.20083098e+00,  6.01671730e-01],\n",
       "       [-2.54576750e+00,  3.15025055e+00],\n",
       "       [-1.95866665e+00,  2.43008647e+00],\n",
       "       [ 2.33812285e+00,  3.43116792e+00],\n",
       "       [ 3.35320909e+00,  1.69958043e+00],\n",
       "       [ 1.84287117e+00,  7.26928839e-02],\n",
       "       [ 1.32000621e+00,  1.40428145e+00],\n",
       "       [ 2.09680545e+00,  4.84741412e+00],\n",
       "       [-1.24307904e+00,  8.15166254e+00],\n",
       "       [-1.85908090e+00,  7.78874716e+00],\n",
       "       [ 2.74666646e+00,  1.54543482e+00],\n",
       "       [ 2.60778282e+00,  1.08890025e+00],\n",
       "       [ 1.65991049e+00,  3.56289184e+00],\n",
       "       [ 2.35151259e+00,  8.28001297e-01],\n",
       "       [ 2.22322228e+00,  8.38773426e-01],\n",
       "       [ 3.22881491e+00,  1.13171965e+00],\n",
       "       [-1.55876720e+00,  7.24816210e+00],\n",
       "       [-6.46956784e-01,  3.42941343e+00],\n",
       "       [-1.32688818e+00,  8.51530794e+00],\n",
       "       [ 9.17198564e-01,  3.90570036e+00],\n",
       "       [ 2.29469533e+00, -7.65891994e-01],\n",
       "       [ 1.81559810e+00,  1.11969719e+00],\n",
       "       [-1.12016775e+00,  7.11031582e+00],\n",
       "       [-1.65507124e+00,  8.61416749e+00],\n",
       "       [-1.27567815e+00,  7.96776461e+00],\n",
       "       [ 1.97369770e+00,  1.57979848e+00],\n",
       "       [ 2.51834185e+00,  1.39176615e+00],\n",
       "       [ 4.38990142e-01,  4.53592883e+00],\n",
       "       [ 3.69478657e-01,  7.79110522e+00],\n",
       "       [-1.79145759e+00,  2.74966896e+00]])"
      ]
     },
     "execution_count": 265,
     "metadata": {},
     "output_type": "execute_result"
    }
   ],
   "source": [
    "X"
   ]
  },
  {
   "cell_type": "code",
   "execution_count": 269,
   "metadata": {},
   "outputs": [
    {
     "name": "stdout",
     "output_type": "stream",
     "text": [
      "[[ 5.96590909e-02  1.66665125e-02  7.36860795e-03  1.00000000e+00\n",
      "   2.32818725e-02  1.77635684e-15  4.16333634e-17  1.00000000e+00\n",
      "   7.01704545e-01  2.29829545e+00]\n",
      " [ 1.00000000e+00  1.40568578e-02  8.72564935e-03  4.67532468e-01\n",
      "   2.62672255e-02  4.54545455e-01  2.59740260e-02  4.67532468e-01\n",
      "   8.96103896e-01  4.46753247e+00]\n",
      " [ 2.77555756e-16  1.11608517e-02  2.52192982e-02 -2.22044605e-15\n",
      "   4.39732299e-02  7.93859649e-01  7.89473684e-02 -2.22044605e-15\n",
      "   8.20175439e-01  1.00000000e+00]]\n"
     ]
    },
    {
     "ename": "TypeError",
     "evalue": "scatter() missing 1 required positional argument: 'y'",
     "output_type": "error",
     "traceback": [
      "\u001b[0;31m---------------------------------------------------------------------------\u001b[0m",
      "\u001b[0;31mTypeError\u001b[0m                                 Traceback (most recent call last)",
      "\u001b[0;32m<ipython-input-269-2ac49b8d513e>\u001b[0m in \u001b[0;36m<module>\u001b[0;34m\u001b[0m\n\u001b[1;32m      3\u001b[0m \u001b[0mprint\u001b[0m\u001b[0;34m(\u001b[0m\u001b[0mcentroids\u001b[0m\u001b[0;34m)\u001b[0m\u001b[0;34m\u001b[0m\u001b[0;34m\u001b[0m\u001b[0m\n\u001b[1;32m      4\u001b[0m \u001b[0;34m\u001b[0m\u001b[0m\n\u001b[0;32m----> 5\u001b[0;31m \u001b[0mplt\u001b[0m\u001b[0;34m.\u001b[0m\u001b[0mscatter\u001b[0m\u001b[0;34m(\u001b[0m\u001b[0mvol_scaled\u001b[0m\u001b[0;34m,\u001b[0m \u001b[0mc\u001b[0m\u001b[0;34m=\u001b[0m \u001b[0mkmeans\u001b[0m\u001b[0;34m.\u001b[0m\u001b[0mlabels_\u001b[0m\u001b[0;34m.\u001b[0m\u001b[0mastype\u001b[0m\u001b[0;34m(\u001b[0m\u001b[0mfloat\u001b[0m\u001b[0;34m)\u001b[0m\u001b[0;34m,\u001b[0m \u001b[0ms\u001b[0m\u001b[0;34m=\u001b[0m\u001b[0;36m50\u001b[0m\u001b[0;34m,\u001b[0m \u001b[0malpha\u001b[0m\u001b[0;34m=\u001b[0m\u001b[0;36m0.5\u001b[0m\u001b[0;34m)\u001b[0m\u001b[0;34m\u001b[0m\u001b[0;34m\u001b[0m\u001b[0m\n\u001b[0m\u001b[1;32m      6\u001b[0m \u001b[0mplt\u001b[0m\u001b[0;34m.\u001b[0m\u001b[0mscatter\u001b[0m\u001b[0;34m(\u001b[0m\u001b[0mcentroids\u001b[0m\u001b[0;34m[\u001b[0m\u001b[0;34m:\u001b[0m\u001b[0;34m,\u001b[0m \u001b[0;36m0\u001b[0m\u001b[0;34m]\u001b[0m\u001b[0;34m,\u001b[0m \u001b[0mcentroids\u001b[0m\u001b[0;34m[\u001b[0m\u001b[0;34m:\u001b[0m\u001b[0;34m,\u001b[0m \u001b[0;36m1\u001b[0m\u001b[0;34m]\u001b[0m\u001b[0;34m,\u001b[0m \u001b[0mc\u001b[0m\u001b[0;34m=\u001b[0m\u001b[0;34m'red'\u001b[0m\u001b[0;34m,\u001b[0m \u001b[0ms\u001b[0m\u001b[0;34m=\u001b[0m\u001b[0;36m50\u001b[0m\u001b[0;34m)\u001b[0m\u001b[0;34m\u001b[0m\u001b[0;34m\u001b[0m\u001b[0m\n\u001b[1;32m      7\u001b[0m \u001b[0mplt\u001b[0m\u001b[0;34m.\u001b[0m\u001b[0mshow\u001b[0m\u001b[0;34m(\u001b[0m\u001b[0;34m)\u001b[0m\u001b[0;34m\u001b[0m\u001b[0;34m\u001b[0m\u001b[0m\n",
      "\u001b[0;31mTypeError\u001b[0m: scatter() missing 1 required positional argument: 'y'"
     ]
    }
   ],
   "source": [
    "\n",
    "\n",
    "kmeans = KMeans(n_clusters=3).fit(vol_scaled)\n",
    "centroids = kmeans.cluster_centers_\n",
    "print(centroids)\n",
    "\n",
    "plt.scatter(vol_scaled, c= kmeans.labels_.astype(float), s=50, alpha=0.5)\n",
    "plt.scatter(centroids[:, 0], centroids[:, 1], c='red', s=50)\n",
    "plt.show()"
   ]
  },
  {
   "cell_type": "markdown",
   "metadata": {},
   "source": [
    "## Volunteer Profile Clustering with k-means"
   ]
  },
  {
   "cell_type": "code",
   "execution_count": 319,
   "metadata": {},
   "outputs": [],
   "source": [
    "import pandas as pd\n",
    "from scipy import stats\n",
    "from sklearn.cluster import KMeans\n",
    "import matplotlib.pyplot as plt\n",
    "import seaborn as sns"
   ]
  },
  {
   "cell_type": "code",
   "execution_count": 344,
   "metadata": {},
   "outputs": [],
   "source": [
    "df = pd.read_csv('VolunteersOverview.csv')"
   ]
  },
  {
   "cell_type": "markdown",
   "metadata": {},
   "source": [
    "### Cleanup Data"
   ]
  },
  {
   "cell_type": "code",
   "execution_count": 345,
   "metadata": {},
   "outputs": [],
   "source": [
    "df.drop(['School','Age','Province'], axis=1, inplace=True)"
   ]
  },
  {
   "cell_type": "code",
   "execution_count": 346,
   "metadata": {},
   "outputs": [],
   "source": [
    "# Change Everything that's not English Only to 'Other'\n",
    "df.loc[df['Q - Other Languages '] != \"English Only\", 'Q - Other Languages '] = \"Other\""
   ]
  },
  {
   "cell_type": "code",
   "execution_count": 347,
   "metadata": {},
   "outputs": [],
   "source": [
    "# Create dummy variables for 2 columns\n",
    "dfEmployStatus = pd.get_dummies(df['Employment Status'])\n",
    "dfOtherLang = pd.get_dummies(df['Q - Other Languages '])\n",
    "\n",
    "#Concat new columns to original dataframe \n",
    "df = pd.concat([df, dfEmployStatus, dfOtherLang], axis=1)"
   ]
  },
  {
   "cell_type": "code",
   "execution_count": 348,
   "metadata": {},
   "outputs": [],
   "source": [
    "# Drop one of the dummy columns and the original columns:\n",
    "df.drop(['Employment Status','Q - Other Languages ','Unemployed','Other'], axis=1, inplace=True)"
   ]
  },
  {
   "cell_type": "code",
   "execution_count": 349,
   "metadata": {},
   "outputs": [],
   "source": [
    "df.dropna(inplace=True)"
   ]
  },
  {
   "cell_type": "code",
   "execution_count": 351,
   "metadata": {},
   "outputs": [],
   "source": [
    "df.to_csv('volunteerNew')"
   ]
  },
  {
   "cell_type": "markdown",
   "metadata": {},
   "source": [
    "### Standardize"
   ]
  },
  {
   "cell_type": "code",
   "execution_count": 339,
   "metadata": {},
   "outputs": [],
   "source": [
    "df_tr_std = stats.zscore(df[df.columns])\n"
   ]
  },
  {
   "cell_type": "code",
   "execution_count": 340,
   "metadata": {},
   "outputs": [
    {
     "data": {
      "text/plain": [
       "array([[-0.56268019,  0.09454212,  1.3397743 , ...,  0.89152191,\n",
       "         0.89152191, -1.8859709 ],\n",
       "       [-0.56268019, -0.18744329, -0.24648512, ..., -1.12167742,\n",
       "        -1.12167742,  0.53023088],\n",
       "       [ 1.77720847, -0.37849343,  2.52946886, ..., -1.12167742,\n",
       "        -1.12167742, -1.8859709 ],\n",
       "       ...,\n",
       "       [-0.56268019,  0.12552323, -0.24648512, ...,  0.89152191,\n",
       "         0.89152191,  0.53023088],\n",
       "       [-0.56268019,  0.12552323, -0.24648512, ...,  0.89152191,\n",
       "         0.89152191,  0.53023088],\n",
       "       [-0.56268019,  0.12552323, -0.24648512, ...,  0.89152191,\n",
       "         0.89152191,  0.53023088]])"
      ]
     },
     "execution_count": 340,
     "metadata": {},
     "output_type": "execute_result"
    }
   ],
   "source": [
    "df_tr_std"
   ]
  },
  {
   "cell_type": "code",
   "execution_count": 336,
   "metadata": {},
   "outputs": [],
   "source": [
    "#Cluster the data\n",
    "kmeans = KMeans(n_clusters=2, random_state=0).fit(df_tr_std)\n",
    "labels = kmeans.labels_"
   ]
  },
  {
   "cell_type": "code",
   "execution_count": 338,
   "metadata": {},
   "outputs": [
    {
     "data": {
      "text/plain": [
       "array([[-0.56268019,  0.09454212,  1.3397743 , ...,  0.89152191,\n",
       "         0.89152191, -1.8859709 ],\n",
       "       [-0.56268019, -0.18744329, -0.24648512, ..., -1.12167742,\n",
       "        -1.12167742,  0.53023088],\n",
       "       [ 1.77720847, -0.37849343,  2.52946886, ..., -1.12167742,\n",
       "        -1.12167742, -1.8859709 ],\n",
       "       ...,\n",
       "       [-0.56268019,  0.12552323, -0.24648512, ...,  0.89152191,\n",
       "         0.89152191,  0.53023088],\n",
       "       [-0.56268019,  0.12552323, -0.24648512, ...,  0.89152191,\n",
       "         0.89152191,  0.53023088],\n",
       "       [-0.56268019,  0.12552323, -0.24648512, ...,  0.89152191,\n",
       "         0.89152191,  0.53023088]])"
      ]
     },
     "execution_count": 338,
     "metadata": {},
     "output_type": "execute_result"
    }
   ],
   "source": [
    "df_tr_std"
   ]
  },
  {
   "cell_type": "code",
   "execution_count": 332,
   "metadata": {},
   "outputs": [
    {
     "ename": "IndexError",
     "evalue": "only integers, slices (`:`), ellipsis (`...`), numpy.newaxis (`None`) and integer or boolean arrays are valid indices",
     "output_type": "error",
     "traceback": [
      "\u001b[0;31m---------------------------------------------------------------------------\u001b[0m",
      "\u001b[0;31mIndexError\u001b[0m                                Traceback (most recent call last)",
      "\u001b[0;32m<ipython-input-332-22dac8294340>\u001b[0m in \u001b[0;36m<module>\u001b[0;34m\u001b[0m\n\u001b[1;32m      1\u001b[0m \u001b[0;31m#Glue back to originaal data\u001b[0m\u001b[0;34m\u001b[0m\u001b[0;34m\u001b[0m\u001b[0;34m\u001b[0m\u001b[0m\n\u001b[0;32m----> 2\u001b[0;31m \u001b[0mdf_tr_std\u001b[0m\u001b[0;34m[\u001b[0m\u001b[0;34m'clusters'\u001b[0m\u001b[0;34m]\u001b[0m \u001b[0;34m=\u001b[0m \u001b[0mlabels\u001b[0m\u001b[0;34m\u001b[0m\u001b[0;34m\u001b[0m\u001b[0m\n\u001b[0m",
      "\u001b[0;31mIndexError\u001b[0m: only integers, slices (`:`), ellipsis (`...`), numpy.newaxis (`None`) and integer or boolean arrays are valid indices"
     ]
    }
   ],
   "source": [
    "#Glue back to originaal data\n",
    "df_tr_std['clusters'] = labels"
   ]
  },
  {
   "cell_type": "code",
   "execution_count": 329,
   "metadata": {},
   "outputs": [
    {
     "ename": "IndexError",
     "evalue": "only integers, slices (`:`), ellipsis (`...`), numpy.newaxis (`None`) and integer or boolean arrays are valid indices",
     "output_type": "error",
     "traceback": [
      "\u001b[0;31m---------------------------------------------------------------------------\u001b[0m",
      "\u001b[0;31mIndexError\u001b[0m                                Traceback (most recent call last)",
      "\u001b[0;32m<ipython-input-329-8bbcd3f68bc5>\u001b[0m in \u001b[0;36m<module>\u001b[0;34m\u001b[0m\n\u001b[1;32m      1\u001b[0m \u001b[0;31m#Glue back to originaal data\u001b[0m\u001b[0;34m\u001b[0m\u001b[0;34m\u001b[0m\u001b[0;34m\u001b[0m\u001b[0m\n\u001b[0;32m----> 2\u001b[0;31m \u001b[0mdf_tr_std\u001b[0m\u001b[0;34m[\u001b[0m\u001b[0;34m'clusters'\u001b[0m\u001b[0;34m]\u001b[0m \u001b[0;34m=\u001b[0m \u001b[0mlabels\u001b[0m\u001b[0;34m\u001b[0m\u001b[0;34m\u001b[0m\u001b[0m\n\u001b[0m\u001b[1;32m      3\u001b[0m \u001b[0;34m\u001b[0m\u001b[0m\n\u001b[1;32m      4\u001b[0m \u001b[0;31m#Add the column into our list\u001b[0m\u001b[0;34m\u001b[0m\u001b[0;34m\u001b[0m\u001b[0;34m\u001b[0m\u001b[0m\n\u001b[1;32m      5\u001b[0m \u001b[0mclmns\u001b[0m\u001b[0;34m.\u001b[0m\u001b[0mextend\u001b[0m\u001b[0;34m(\u001b[0m\u001b[0;34m[\u001b[0m\u001b[0;34m'clusters'\u001b[0m\u001b[0;34m]\u001b[0m\u001b[0;34m)\u001b[0m\u001b[0;34m\u001b[0m\u001b[0;34m\u001b[0m\u001b[0m\n",
      "\u001b[0;31mIndexError\u001b[0m: only integers, slices (`:`), ellipsis (`...`), numpy.newaxis (`None`) and integer or boolean arrays are valid indices"
     ]
    }
   ],
   "source": [
    "#Add the column into our list\n",
    "clmns.extend(['clusters'])\n",
    "\n",
    "#Lets analyze the clusters\n",
    "print(df_tr_std[df_tr_std.columns].groupby(['clusters']).mean())"
   ]
  },
  {
   "cell_type": "markdown",
   "metadata": {},
   "source": [
    "### k-means cluster of volunteer profiles"
   ]
  },
  {
   "cell_type": "code",
   "execution_count": 428,
   "metadata": {},
   "outputs": [],
   "source": [
    "import pandas as pd\n",
    "from scipy import stats\n",
    "from sklearn.cluster import KMeans\n",
    "import matplotlib.pyplot as plt\n",
    "import seaborn as sns\n",
    "import warnings"
   ]
  },
  {
   "cell_type": "code",
   "execution_count": 429,
   "metadata": {},
   "outputs": [],
   "source": [
    "df = pd.read_csv('volunteerNew')"
   ]
  },
  {
   "cell_type": "code",
   "execution_count": 430,
   "metadata": {},
   "outputs": [],
   "source": [
    "# remove the first column\n",
    "df = df.iloc[:,1:]"
   ]
  },
  {
   "cell_type": "code",
   "execution_count": 431,
   "metadata": {},
   "outputs": [],
   "source": [
    "#Make a copy of DF\n",
    "df_tr = df"
   ]
  },
  {
   "cell_type": "code",
   "execution_count": 432,
   "metadata": {},
   "outputs": [],
   "source": [
    "# list of columns\n",
    "clmns = ['Distance', 'Tenure', 'Student', 'Hours Volunteered in 2015',\n",
    "       'Employed', 'Retired', 'Student.1', 'English Only']"
   ]
  },
  {
   "cell_type": "markdown",
   "metadata": {},
   "source": [
    "### Standardize the data"
   ]
  },
  {
   "cell_type": "code",
   "execution_count": 433,
   "metadata": {},
   "outputs": [],
   "source": [
    "df_tr_std = stats.zscore(df_tr[clmns])"
   ]
  },
  {
   "cell_type": "markdown",
   "metadata": {},
   "source": [
    "### Cluster data"
   ]
  },
  {
   "cell_type": "code",
   "execution_count": 434,
   "metadata": {},
   "outputs": [],
   "source": [
    "#Cluster the data\n",
    "kmeans = KMeans(n_clusters=2, random_state=0).fit(df_tr_std)\n",
    "labels = kmeans.labels_"
   ]
  },
  {
   "cell_type": "code",
   "execution_count": 435,
   "metadata": {},
   "outputs": [],
   "source": [
    "#Glue back to original data\n",
    "df_tr['clusters'] = labels"
   ]
  },
  {
   "cell_type": "code",
   "execution_count": 436,
   "metadata": {},
   "outputs": [],
   "source": [
    "#Add the column into our list\n",
    "clmns.extend(['clusters'])"
   ]
  },
  {
   "cell_type": "markdown",
   "metadata": {},
   "source": [
    "\n",
    "### Analysis"
   ]
  },
  {
   "cell_type": "code",
   "execution_count": 437,
   "metadata": {},
   "outputs": [],
   "source": [
    "#Lets analyze the clusters"
   ]
  },
  {
   "cell_type": "code",
   "execution_count": 438,
   "metadata": {},
   "outputs": [
    {
     "data": {
      "text/html": [
       "<div>\n",
       "<style scoped>\n",
       "    .dataframe tbody tr th:only-of-type {\n",
       "        vertical-align: middle;\n",
       "    }\n",
       "\n",
       "    .dataframe tbody tr th {\n",
       "        vertical-align: top;\n",
       "    }\n",
       "\n",
       "    .dataframe thead th {\n",
       "        text-align: right;\n",
       "    }\n",
       "</style>\n",
       "<table border=\"1\" class=\"dataframe\">\n",
       "  <thead>\n",
       "    <tr style=\"text-align: right;\">\n",
       "      <th></th>\n",
       "      <th>Distance</th>\n",
       "      <th>Tenure</th>\n",
       "      <th>Student</th>\n",
       "      <th>Hours Volunteered in 2015</th>\n",
       "      <th>Employed</th>\n",
       "      <th>Retired</th>\n",
       "      <th>Student.1</th>\n",
       "      <th>English Only</th>\n",
       "    </tr>\n",
       "    <tr>\n",
       "      <th>clusters</th>\n",
       "      <th></th>\n",
       "      <th></th>\n",
       "      <th></th>\n",
       "      <th></th>\n",
       "      <th></th>\n",
       "      <th></th>\n",
       "      <th></th>\n",
       "      <th></th>\n",
       "    </tr>\n",
       "  </thead>\n",
       "  <tbody>\n",
       "    <tr>\n",
       "      <th>0</th>\n",
       "      <td>10.465270</td>\n",
       "      <td>2.115727</td>\n",
       "      <td>0.0</td>\n",
       "      <td>20.015579</td>\n",
       "      <td>0.744807</td>\n",
       "      <td>0.065282</td>\n",
       "      <td>0.0</td>\n",
       "      <td>0.816024</td>\n",
       "    </tr>\n",
       "    <tr>\n",
       "      <th>1</th>\n",
       "      <td>15.363302</td>\n",
       "      <td>1.228774</td>\n",
       "      <td>1.0</td>\n",
       "      <td>8.829009</td>\n",
       "      <td>0.000000</td>\n",
       "      <td>0.000000</td>\n",
       "      <td>1.0</td>\n",
       "      <td>0.752358</td>\n",
       "    </tr>\n",
       "  </tbody>\n",
       "</table>\n",
       "</div>"
      ],
      "text/plain": [
       "           Distance    Tenure  Student  Hours Volunteered in 2015  Employed  \\\n",
       "clusters                                                                      \n",
       "0         10.465270  2.115727      0.0                  20.015579  0.744807   \n",
       "1         15.363302  1.228774      1.0                   8.829009  0.000000   \n",
       "\n",
       "           Retired  Student.1  English Only  \n",
       "clusters                                     \n",
       "0         0.065282        0.0      0.816024  \n",
       "1         0.000000        1.0      0.752358  "
      ]
     },
     "execution_count": 438,
     "metadata": {},
     "output_type": "execute_result"
    }
   ],
   "source": [
    "# Let's look at the mean's of column by cluster\n",
    "df_tr[clmns].groupby(['clusters']).mean()"
   ]
  },
  {
   "cell_type": "markdown",
   "metadata": {},
   "source": [
    "We can see that cluster 0 and 1 differ in that cluster 0 has a much higher <br>\n",
    "hours volunteers, and are less likely to be a student, as well as greater tenure."
   ]
  },
  {
   "cell_type": "markdown",
   "metadata": {},
   "source": [
    "### Visualize clusters\n",
    "\n",
    "It's tricky of course to visualize anything above 2 dimensions so I made a <br>\n",
    "pair plot of a few of the features and colored the dots according to their cluster.<br>\n",
    "\n",
    "In this way we can see some of the cluster differences."
   ]
  },
  {
   "cell_type": "code",
   "execution_count": 446,
   "metadata": {},
   "outputs": [
    {
     "data": {
      "image/png": "[encoded data removed]",
      "text/plain": [
       "<Figure size 587.375x540 with 12 Axes>"
      ]
     },
     "metadata": {
      "needs_background": "light"
     },
     "output_type": "display_data"
    }
   ],
   "source": [
    "g = sns.pairplot(df_tr[['Tenure','Distance','Hours Volunteered in 2015','clusters']], hue=\"clusters\");\n",
    "warnings.filterwarnings(action = 'ignore', category=DeprecationWarning);\n",
    "\n",
    "g.fig.suptitle(\"Scatterplot of Features colored by cluster\", y=1.08);"
   ]
  },
  {
   "cell_type": "code",
   "execution_count": null,
   "metadata": {},
   "outputs": [],
   "source": []
  }
 ],
 "metadata": {
  "anaconda-cloud": {},
  "kernelspec": {
   "display_name": "Python 3",
   "language": "python",
   "name": "python3"
  },
  "language_info": {
   "codemirror_mode": {
    "name": "ipython",
    "version": 3
   },
   "file_extension": ".py",
   "mimetype": "text/x-python",
   "name": "python",
   "nbconvert_exporter": "python",
   "pygments_lexer": "ipython3",
   "version": "3.6.9"
  }
 },
 "nbformat": 4,
 "nbformat_minor": 1
}
