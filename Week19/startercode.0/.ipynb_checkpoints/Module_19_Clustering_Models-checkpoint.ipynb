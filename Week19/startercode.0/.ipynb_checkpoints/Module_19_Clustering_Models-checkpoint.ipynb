{
 "cells": [
  {
   "cell_type": "markdown",
   "metadata": {
    "deletable": false,
    "editable": false,
    "nbgrader": {
     "grade": false,
     "locked": true,
     "solution": false
    }
   },
   "source": [
    "# Module 19 - Clustering Models \n",
    "\n",
    "**_Author: Mona Khalil_**\n",
    "\n",
    "**_Reviewer: Jessica Cervi_**\n",
    "\n",
    "**Expected time = 2.5 hours**\n",
    "\n",
    "**Total points = 100 points**\n",
    "\n",
    "\n",
    "## Assignment Overview\n",
    "\n",
    "\n",
    "At this point in the course, you're familiar with the use of classification models to predict group assignment in a data set. Often, however, your data set does not contain predefined groups to sort records. You may instead want to determine if there are any groups that organically form within your data. This is where _clustering methods_ offer a valuable tool in your data science toolbox.\n",
    "\n",
    "**_Clustering_** methods are an example of _unsupervised learning_ , which is a class of machine learning algorithms used to draw inferences about _unlabeled data_. When your goal is to sort data points based on similar characteristics in order to create labels for future use, clustering methods are an excellent exploratory step to include in your machine learning workflow.\n",
    "\n",
    "In this assignment, you will implement two commonly used clustering methods -- a hierarchical (or agglomerative) cluster analysis and k-means cluster analysis. You will learn how to determine the optimal number of clusters for grouping your data, and how to define and interpret the data points in each cluster.\n",
    "\n",
    "This assignment is designed to build your familiarity and comfort coding in Python while also helping you review key topics from each module. As you progress through the assignment, answers will get increasingly complex. It is important that you adopt a data scientist's mindset when completing this assignment. Remember to run your code from each cell before submitting your assignment. Running your code beforehand will notify you of errors and give you a chance to fix them before submitting. You should view your Vocareum submission as if you are delivering a final project to your manager or client.\n",
    "\n",
    "**Vocareum Tips**\n",
    "   - Do not add arguments or options to functions unless you are specifically asked to. This will cause an error in Vocareum.\n",
    "   - Do not use a library unless you are expicitly asked to in the question.\n",
    "\n",
    "\n",
    "### Learning Objectives\n",
    "\n",
    "- Apply K-means clustering to sample data\n",
    "- Apply hierarchical clustering to a new data set\n",
    "- Compare the two algorithms and draw conclusions\n"
   ]
  },
  {
   "cell_type": "markdown",
   "metadata": {
    "deletable": false,
    "editable": false,
    "nbgrader": {
     "grade": false,
     "locked": true,
     "solution": false
    }
   },
   "source": [
    "## Index:\n",
    "\n",
    "#### Module 19: Clustering Methods\n",
    "\n",
    "- [Question 1](#q1)\n",
    "- [Question 2](#q2)\n",
    "- [Question 3](#q3)\n",
    "- [Question 4](#q4)\n",
    "- [Question 5](#q5)\n",
    "- [Question 6](#q6)\n",
    "- [Question 7](#q7)\n",
    "- [Question 8](#q8)\n",
    "- [Question 9](#q9)\n",
    "- [Question 10](#q10)\n",
    "\n"
   ]
  },
  {
   "cell_type": "markdown",
   "metadata": {
    "deletable": false,
    "editable": false,
    "nbgrader": {
     "grade": false,
     "locked": true,
     "solution": false
    }
   },
   "source": [
    "# Module 19 - Clustering Models\n",
    "\n",
    "\n",
    "### Getting and Preparing the Data\n",
    "\n",
    "We'll be working with a data set of [public employee compensation in San Francisco](http://data.world/data-society/employee-compensation-in-sf) retrieved from [data.world](http://data.world/). The data set contains a number of columns about the type of employment, location, department, salary, and benefits that we can use to explore a few key questions:\n",
    "- Are there organically occurring clusters of employees based on salary, benefits, and union membership?\n",
    "- If so, where do these clusters tend to be located (i.e., which department, which location, and which levels of seniority)?\n",
    "\n",
    "Let's import the data set, `employee_compensation.csv`, as `sf`. Take a look at the first few rows of the data set after importing it."
   ]
  },
  {
   "cell_type": "code",
   "execution_count": 1,
   "metadata": {
    "deletable": false,
    "editable": false,
    "nbgrader": {
     "grade": false,
     "locked": true,
     "solution": false
    }
   },
   "outputs": [],
   "source": [
    "import numpy as np\n",
    "import pandas as pd\n",
    "import matplotlib.pyplot as plt\n",
    "import seaborn as sns\n",
    "%matplotlib inline"
   ]
  },
  {
   "cell_type": "code",
   "execution_count": 2,
   "metadata": {
    "deletable": false,
    "editable": false,
    "nbgrader": {
     "grade": false,
     "locked": true,
     "solution": false
    },
    "scrolled": true
   },
   "outputs": [
    {
     "data": {
      "text/html": [
       "<div>\n",
       "<style scoped>\n",
       "    .dataframe tbody tr th:only-of-type {\n",
       "        vertical-align: middle;\n",
       "    }\n",
       "\n",
       "    .dataframe tbody tr th {\n",
       "        vertical-align: top;\n",
       "    }\n",
       "\n",
       "    .dataframe thead th {\n",
       "        text-align: right;\n",
       "    }\n",
       "</style>\n",
       "<table border=\"1\" class=\"dataframe\">\n",
       "  <thead>\n",
       "    <tr style=\"text-align: right;\">\n",
       "      <th></th>\n",
       "      <th>year_type</th>\n",
       "      <th>year</th>\n",
       "      <th>organization_group_code</th>\n",
       "      <th>organization_group</th>\n",
       "      <th>department_code</th>\n",
       "      <th>department</th>\n",
       "      <th>union_code</th>\n",
       "      <th>union</th>\n",
       "      <th>job_family_code</th>\n",
       "      <th>job_family</th>\n",
       "      <th>...</th>\n",
       "      <th>employee_identifier</th>\n",
       "      <th>salaries</th>\n",
       "      <th>overtime</th>\n",
       "      <th>other_salaries</th>\n",
       "      <th>total_salary</th>\n",
       "      <th>retirement</th>\n",
       "      <th>health_dental</th>\n",
       "      <th>other_benefits</th>\n",
       "      <th>total_benefits</th>\n",
       "      <th>total_compensation</th>\n",
       "    </tr>\n",
       "  </thead>\n",
       "  <tbody>\n",
       "    <tr>\n",
       "      <th>0</th>\n",
       "      <td>Calendar</td>\n",
       "      <td>2015</td>\n",
       "      <td>2</td>\n",
       "      <td>Public Works, Transportation &amp; Commerce</td>\n",
       "      <td>MTA</td>\n",
       "      <td>Municipal Transportation Agency</td>\n",
       "      <td>253</td>\n",
       "      <td>Transport Workers - Transit Operators, Local 2...</td>\n",
       "      <td>9100</td>\n",
       "      <td>Street Transit</td>\n",
       "      <td>...</td>\n",
       "      <td>4273</td>\n",
       "      <td>44381.77</td>\n",
       "      <td>11166.58</td>\n",
       "      <td>2694.49</td>\n",
       "      <td>58242.84</td>\n",
       "      <td>13602.20</td>\n",
       "      <td>8826.10</td>\n",
       "      <td>4423.70</td>\n",
       "      <td>26852.00</td>\n",
       "      <td>85094.84</td>\n",
       "    </tr>\n",
       "    <tr>\n",
       "      <th>1</th>\n",
       "      <td>Calendar</td>\n",
       "      <td>2015</td>\n",
       "      <td>2</td>\n",
       "      <td>Public Works, Transportation &amp; Commerce</td>\n",
       "      <td>MTA</td>\n",
       "      <td>Municipal Transportation Agency</td>\n",
       "      <td>790</td>\n",
       "      <td>SEIU - Miscellaneous, Local 1021</td>\n",
       "      <td>9100</td>\n",
       "      <td>Street Transit</td>\n",
       "      <td>...</td>\n",
       "      <td>34336</td>\n",
       "      <td>62811.00</td>\n",
       "      <td>7539.33</td>\n",
       "      <td>8382.41</td>\n",
       "      <td>78732.74</td>\n",
       "      <td>14020.17</td>\n",
       "      <td>12424.50</td>\n",
       "      <td>6469.20</td>\n",
       "      <td>32913.87</td>\n",
       "      <td>111646.61</td>\n",
       "    </tr>\n",
       "    <tr>\n",
       "      <th>2</th>\n",
       "      <td>Calendar</td>\n",
       "      <td>2015</td>\n",
       "      <td>4</td>\n",
       "      <td>Community Health</td>\n",
       "      <td>DPH</td>\n",
       "      <td>Public Health</td>\n",
       "      <td>250</td>\n",
       "      <td>SEIU - Health Workers, Local 1021</td>\n",
       "      <td>2700</td>\n",
       "      <td>Housekeeping &amp; Laundry</td>\n",
       "      <td>...</td>\n",
       "      <td>9890</td>\n",
       "      <td>34355.95</td>\n",
       "      <td>540.07</td>\n",
       "      <td>2783.39</td>\n",
       "      <td>37679.41</td>\n",
       "      <td>5935.65</td>\n",
       "      <td>9157.09</td>\n",
       "      <td>2843.73</td>\n",
       "      <td>17936.47</td>\n",
       "      <td>55615.88</td>\n",
       "    </tr>\n",
       "    <tr>\n",
       "      <th>3</th>\n",
       "      <td>Fiscal</td>\n",
       "      <td>2015</td>\n",
       "      <td>2</td>\n",
       "      <td>Public Works, Transportation &amp; Commerce</td>\n",
       "      <td>MTA</td>\n",
       "      <td>Municipal Transportation Agency</td>\n",
       "      <td>790</td>\n",
       "      <td>SEIU - Miscellaneous, Local 1021</td>\n",
       "      <td>8200</td>\n",
       "      <td>Protection &amp; Apprehension</td>\n",
       "      <td>...</td>\n",
       "      <td>29625</td>\n",
       "      <td>42915.13</td>\n",
       "      <td>251.92</td>\n",
       "      <td>271.44</td>\n",
       "      <td>43438.49</td>\n",
       "      <td>9640.21</td>\n",
       "      <td>8668.97</td>\n",
       "      <td>3512.85</td>\n",
       "      <td>21822.03</td>\n",
       "      <td>65260.52</td>\n",
       "    </tr>\n",
       "    <tr>\n",
       "      <th>4</th>\n",
       "      <td>Calendar</td>\n",
       "      <td>2015</td>\n",
       "      <td>2</td>\n",
       "      <td>Public Works, Transportation &amp; Commerce</td>\n",
       "      <td>MTA</td>\n",
       "      <td>Municipal Transportation Agency</td>\n",
       "      <td>790</td>\n",
       "      <td>SEIU - Miscellaneous, Local 1021</td>\n",
       "      <td>8200</td>\n",
       "      <td>Protection &amp; Apprehension</td>\n",
       "      <td>...</td>\n",
       "      <td>44400</td>\n",
       "      <td>45205.96</td>\n",
       "      <td>0.00</td>\n",
       "      <td>4380.23</td>\n",
       "      <td>49586.19</td>\n",
       "      <td>10134.36</td>\n",
       "      <td>8987.93</td>\n",
       "      <td>4093.31</td>\n",
       "      <td>23215.60</td>\n",
       "      <td>72801.79</td>\n",
       "    </tr>\n",
       "  </tbody>\n",
       "</table>\n",
       "<p>5 rows × 22 columns</p>\n",
       "</div>"
      ],
      "text/plain": [
       "  year_type  year  organization_group_code  \\\n",
       "0  Calendar  2015                        2   \n",
       "1  Calendar  2015                        2   \n",
       "2  Calendar  2015                        4   \n",
       "3    Fiscal  2015                        2   \n",
       "4  Calendar  2015                        2   \n",
       "\n",
       "                        organization_group department_code  \\\n",
       "0  Public Works, Transportation & Commerce             MTA   \n",
       "1  Public Works, Transportation & Commerce             MTA   \n",
       "2                         Community Health             DPH   \n",
       "3  Public Works, Transportation & Commerce             MTA   \n",
       "4  Public Works, Transportation & Commerce             MTA   \n",
       "\n",
       "                        department  union_code  \\\n",
       "0  Municipal Transportation Agency         253   \n",
       "1  Municipal Transportation Agency         790   \n",
       "2                    Public Health         250   \n",
       "3  Municipal Transportation Agency         790   \n",
       "4  Municipal Transportation Agency         790   \n",
       "\n",
       "                                               union  job_family_code  \\\n",
       "0  Transport Workers - Transit Operators, Local 2...             9100   \n",
       "1                   SEIU - Miscellaneous, Local 1021             9100   \n",
       "2                  SEIU - Health Workers, Local 1021             2700   \n",
       "3                   SEIU - Miscellaneous, Local 1021             8200   \n",
       "4                   SEIU - Miscellaneous, Local 1021             8200   \n",
       "\n",
       "                  job_family  ...  employee_identifier  salaries  overtime  \\\n",
       "0             Street Transit  ...                 4273  44381.77  11166.58   \n",
       "1             Street Transit  ...                34336  62811.00   7539.33   \n",
       "2     Housekeeping & Laundry  ...                 9890  34355.95    540.07   \n",
       "3  Protection & Apprehension  ...                29625  42915.13    251.92   \n",
       "4  Protection & Apprehension  ...                44400  45205.96      0.00   \n",
       "\n",
       "   other_salaries  total_salary  retirement  health_dental  other_benefits  \\\n",
       "0         2694.49      58242.84    13602.20        8826.10         4423.70   \n",
       "1         8382.41      78732.74    14020.17       12424.50         6469.20   \n",
       "2         2783.39      37679.41     5935.65        9157.09         2843.73   \n",
       "3          271.44      43438.49     9640.21        8668.97         3512.85   \n",
       "4         4380.23      49586.19    10134.36        8987.93         4093.31   \n",
       "\n",
       "   total_benefits  total_compensation  \n",
       "0        26852.00            85094.84  \n",
       "1        32913.87           111646.61  \n",
       "2        17936.47            55615.88  \n",
       "3        21822.03            65260.52  \n",
       "4        23215.60            72801.79  \n",
       "\n",
       "[5 rows x 22 columns]"
      ]
     },
     "execution_count": 2,
     "metadata": {},
     "output_type": "execute_result"
    }
   ],
   "source": [
    "sf = pd.read_csv('./data/employee_compensation.csv')\n",
    "sf.head()"
   ]
  },
  {
   "cell_type": "code",
   "execution_count": 3,
   "metadata": {},
   "outputs": [
    {
     "name": "stdout",
     "output_type": "stream",
     "text": [
      "<class 'pandas.core.frame.DataFrame'>\n",
      "RangeIndex: 11545 entries, 0 to 11544\n",
      "Data columns (total 22 columns):\n",
      " #   Column                   Non-Null Count  Dtype  \n",
      "---  ------                   --------------  -----  \n",
      " 0   year_type                11545 non-null  object \n",
      " 1   year                     11545 non-null  int64  \n",
      " 2   organization_group_code  11545 non-null  int64  \n",
      " 3   organization_group       11545 non-null  object \n",
      " 4   department_code          11545 non-null  object \n",
      " 5   department               11545 non-null  object \n",
      " 6   union_code               11545 non-null  int64  \n",
      " 7   union                    11545 non-null  object \n",
      " 8   job_family_code          11545 non-null  int64  \n",
      " 9   job_family               11545 non-null  object \n",
      " 10  job_code                 11545 non-null  int64  \n",
      " 11  job                      11545 non-null  object \n",
      " 12  employee_identifier      11545 non-null  int64  \n",
      " 13  salaries                 11545 non-null  float64\n",
      " 14  overtime                 11545 non-null  float64\n",
      " 15  other_salaries           11545 non-null  float64\n",
      " 16  total_salary             11545 non-null  float64\n",
      " 17  retirement               11545 non-null  float64\n",
      " 18  health_dental            11545 non-null  float64\n",
      " 19  other_benefits           11545 non-null  float64\n",
      " 20  total_benefits           11545 non-null  float64\n",
      " 21  total_compensation       11545 non-null  float64\n",
      "dtypes: float64(9), int64(6), object(7)\n",
      "memory usage: 1.9+ MB\n"
     ]
    }
   ],
   "source": [
    "sf.info()\n"
   ]
  },
  {
   "cell_type": "markdown",
   "metadata": {
    "deletable": false,
    "editable": false,
    "nbgrader": {
     "grade": false,
     "locked": true,
     "solution": false
    }
   },
   "source": [
    "As you can see, the data set contains a total of 22 columns, including several columns about the department, job title, and union membership for each employee as well as multiple forms of compensation received throughout the year. The columns that show the breakdown of compensation are excellent candidates for a cluster analysis. First, however, we need to perform some preprocessing on the columns we will be using -- `salaries`, `overtime` `retirement`, and `health_dental`."
   ]
  },
  {
   "cell_type": "markdown",
   "metadata": {
    "deletable": false,
    "editable": false,
    "nbgrader": {
     "grade": false,
     "locked": true,
     "solution": false
    }
   },
   "source": [
    "In statistics, **imputation** is the process of replacing missing data with substituted values. A very popular technique used to impute values is by filling any missing values in numeric columns with the mean of their respective column.  Mean imputation is one of the most ‘naïve’ imputation methods because unlike more complex methods like k-nearest neighbors imputation, it does not use the information we have about an observation to estimate a value for it.\n",
    "\n",
    "[Back to top](#Index:) \n",
    "<a id='q1'></a>\n",
    "\n",
    "### Question 1\n",
    "\n",
    "**10 points**\n",
    "\n",
    "Define a function `ans1` that:\n",
    "- Accepts a dataframe as an argument, defaulting to the `sf` dataframe\n",
    "- Returns a dataframe with any missing values in numeric columns with the mean of their respective column\n"
   ]
  },
  {
   "cell_type": "code",
   "execution_count": 4,
   "metadata": {},
   "outputs": [
    {
     "data": {
      "text/html": [
       "<div>\n",
       "<style scoped>\n",
       "    .dataframe tbody tr th:only-of-type {\n",
       "        vertical-align: middle;\n",
       "    }\n",
       "\n",
       "    .dataframe tbody tr th {\n",
       "        vertical-align: top;\n",
       "    }\n",
       "\n",
       "    .dataframe thead th {\n",
       "        text-align: right;\n",
       "    }\n",
       "</style>\n",
       "<table border=\"1\" class=\"dataframe\">\n",
       "  <thead>\n",
       "    <tr style=\"text-align: right;\">\n",
       "      <th></th>\n",
       "      <th>year_type</th>\n",
       "      <th>year</th>\n",
       "      <th>organization_group_code</th>\n",
       "      <th>organization_group</th>\n",
       "      <th>department_code</th>\n",
       "      <th>department</th>\n",
       "      <th>union_code</th>\n",
       "      <th>union</th>\n",
       "      <th>job_family_code</th>\n",
       "      <th>job_family</th>\n",
       "      <th>...</th>\n",
       "      <th>employee_identifier</th>\n",
       "      <th>salaries</th>\n",
       "      <th>overtime</th>\n",
       "      <th>other_salaries</th>\n",
       "      <th>total_salary</th>\n",
       "      <th>retirement</th>\n",
       "      <th>health_dental</th>\n",
       "      <th>other_benefits</th>\n",
       "      <th>total_benefits</th>\n",
       "      <th>total_compensation</th>\n",
       "    </tr>\n",
       "  </thead>\n",
       "  <tbody>\n",
       "    <tr>\n",
       "      <th>0</th>\n",
       "      <td>Calendar</td>\n",
       "      <td>2015</td>\n",
       "      <td>2</td>\n",
       "      <td>Public Works, Transportation &amp; Commerce</td>\n",
       "      <td>MTA</td>\n",
       "      <td>Municipal Transportation Agency</td>\n",
       "      <td>253</td>\n",
       "      <td>Transport Workers - Transit Operators, Local 2...</td>\n",
       "      <td>9100</td>\n",
       "      <td>Street Transit</td>\n",
       "      <td>...</td>\n",
       "      <td>4273</td>\n",
       "      <td>44381.77</td>\n",
       "      <td>11166.58</td>\n",
       "      <td>2694.49</td>\n",
       "      <td>58242.84</td>\n",
       "      <td>13602.20</td>\n",
       "      <td>8826.10</td>\n",
       "      <td>4423.70</td>\n",
       "      <td>26852.00</td>\n",
       "      <td>85094.84</td>\n",
       "    </tr>\n",
       "    <tr>\n",
       "      <th>1</th>\n",
       "      <td>Calendar</td>\n",
       "      <td>2015</td>\n",
       "      <td>2</td>\n",
       "      <td>Public Works, Transportation &amp; Commerce</td>\n",
       "      <td>MTA</td>\n",
       "      <td>Municipal Transportation Agency</td>\n",
       "      <td>790</td>\n",
       "      <td>SEIU - Miscellaneous, Local 1021</td>\n",
       "      <td>9100</td>\n",
       "      <td>Street Transit</td>\n",
       "      <td>...</td>\n",
       "      <td>34336</td>\n",
       "      <td>62811.00</td>\n",
       "      <td>7539.33</td>\n",
       "      <td>8382.41</td>\n",
       "      <td>78732.74</td>\n",
       "      <td>14020.17</td>\n",
       "      <td>12424.50</td>\n",
       "      <td>6469.20</td>\n",
       "      <td>32913.87</td>\n",
       "      <td>111646.61</td>\n",
       "    </tr>\n",
       "    <tr>\n",
       "      <th>2</th>\n",
       "      <td>Calendar</td>\n",
       "      <td>2015</td>\n",
       "      <td>4</td>\n",
       "      <td>Community Health</td>\n",
       "      <td>DPH</td>\n",
       "      <td>Public Health</td>\n",
       "      <td>250</td>\n",
       "      <td>SEIU - Health Workers, Local 1021</td>\n",
       "      <td>2700</td>\n",
       "      <td>Housekeeping &amp; Laundry</td>\n",
       "      <td>...</td>\n",
       "      <td>9890</td>\n",
       "      <td>34355.95</td>\n",
       "      <td>540.07</td>\n",
       "      <td>2783.39</td>\n",
       "      <td>37679.41</td>\n",
       "      <td>5935.65</td>\n",
       "      <td>9157.09</td>\n",
       "      <td>2843.73</td>\n",
       "      <td>17936.47</td>\n",
       "      <td>55615.88</td>\n",
       "    </tr>\n",
       "    <tr>\n",
       "      <th>3</th>\n",
       "      <td>Fiscal</td>\n",
       "      <td>2015</td>\n",
       "      <td>2</td>\n",
       "      <td>Public Works, Transportation &amp; Commerce</td>\n",
       "      <td>MTA</td>\n",
       "      <td>Municipal Transportation Agency</td>\n",
       "      <td>790</td>\n",
       "      <td>SEIU - Miscellaneous, Local 1021</td>\n",
       "      <td>8200</td>\n",
       "      <td>Protection &amp; Apprehension</td>\n",
       "      <td>...</td>\n",
       "      <td>29625</td>\n",
       "      <td>42915.13</td>\n",
       "      <td>251.92</td>\n",
       "      <td>271.44</td>\n",
       "      <td>43438.49</td>\n",
       "      <td>9640.21</td>\n",
       "      <td>8668.97</td>\n",
       "      <td>3512.85</td>\n",
       "      <td>21822.03</td>\n",
       "      <td>65260.52</td>\n",
       "    </tr>\n",
       "    <tr>\n",
       "      <th>4</th>\n",
       "      <td>Calendar</td>\n",
       "      <td>2015</td>\n",
       "      <td>2</td>\n",
       "      <td>Public Works, Transportation &amp; Commerce</td>\n",
       "      <td>MTA</td>\n",
       "      <td>Municipal Transportation Agency</td>\n",
       "      <td>790</td>\n",
       "      <td>SEIU - Miscellaneous, Local 1021</td>\n",
       "      <td>8200</td>\n",
       "      <td>Protection &amp; Apprehension</td>\n",
       "      <td>...</td>\n",
       "      <td>44400</td>\n",
       "      <td>45205.96</td>\n",
       "      <td>0.00</td>\n",
       "      <td>4380.23</td>\n",
       "      <td>49586.19</td>\n",
       "      <td>10134.36</td>\n",
       "      <td>8987.93</td>\n",
       "      <td>4093.31</td>\n",
       "      <td>23215.60</td>\n",
       "      <td>72801.79</td>\n",
       "    </tr>\n",
       "    <tr>\n",
       "      <th>...</th>\n",
       "      <td>...</td>\n",
       "      <td>...</td>\n",
       "      <td>...</td>\n",
       "      <td>...</td>\n",
       "      <td>...</td>\n",
       "      <td>...</td>\n",
       "      <td>...</td>\n",
       "      <td>...</td>\n",
       "      <td>...</td>\n",
       "      <td>...</td>\n",
       "      <td>...</td>\n",
       "      <td>...</td>\n",
       "      <td>...</td>\n",
       "      <td>...</td>\n",
       "      <td>...</td>\n",
       "      <td>...</td>\n",
       "      <td>...</td>\n",
       "      <td>...</td>\n",
       "      <td>...</td>\n",
       "      <td>...</td>\n",
       "      <td>...</td>\n",
       "    </tr>\n",
       "    <tr>\n",
       "      <th>11540</th>\n",
       "      <td>Calendar</td>\n",
       "      <td>2015</td>\n",
       "      <td>2</td>\n",
       "      <td>Public Works, Transportation &amp; Commerce</td>\n",
       "      <td>MTA</td>\n",
       "      <td>Municipal Transportation Agency</td>\n",
       "      <td>200</td>\n",
       "      <td>Transportation Workers, Local 200</td>\n",
       "      <td>9100</td>\n",
       "      <td>Street Transit</td>\n",
       "      <td>...</td>\n",
       "      <td>1849</td>\n",
       "      <td>79833.80</td>\n",
       "      <td>11649.70</td>\n",
       "      <td>5713.83</td>\n",
       "      <td>97197.33</td>\n",
       "      <td>17532.04</td>\n",
       "      <td>12424.50</td>\n",
       "      <td>8051.13</td>\n",
       "      <td>38007.67</td>\n",
       "      <td>135205.00</td>\n",
       "    </tr>\n",
       "    <tr>\n",
       "      <th>11541</th>\n",
       "      <td>Fiscal</td>\n",
       "      <td>2015</td>\n",
       "      <td>2</td>\n",
       "      <td>Public Works, Transportation &amp; Commerce</td>\n",
       "      <td>MTA</td>\n",
       "      <td>Municipal Transportation Agency</td>\n",
       "      <td>253</td>\n",
       "      <td>Transport Workers - Transit Operators, Local 2...</td>\n",
       "      <td>9100</td>\n",
       "      <td>Street Transit</td>\n",
       "      <td>...</td>\n",
       "      <td>26680</td>\n",
       "      <td>17069.19</td>\n",
       "      <td>1926.96</td>\n",
       "      <td>500.59</td>\n",
       "      <td>19496.74</td>\n",
       "      <td>4946.12</td>\n",
       "      <td>5400.32</td>\n",
       "      <td>1483.79</td>\n",
       "      <td>11830.23</td>\n",
       "      <td>31326.97</td>\n",
       "    </tr>\n",
       "    <tr>\n",
       "      <th>11542</th>\n",
       "      <td>Calendar</td>\n",
       "      <td>2015</td>\n",
       "      <td>2</td>\n",
       "      <td>Public Works, Transportation &amp; Commerce</td>\n",
       "      <td>MTA</td>\n",
       "      <td>Municipal Transportation Agency</td>\n",
       "      <td>351</td>\n",
       "      <td>Municipal Executive Association - Miscellaneous</td>\n",
       "      <td>9100</td>\n",
       "      <td>Street Transit</td>\n",
       "      <td>...</td>\n",
       "      <td>25074</td>\n",
       "      <td>107961.19</td>\n",
       "      <td>0.00</td>\n",
       "      <td>0.00</td>\n",
       "      <td>107961.19</td>\n",
       "      <td>21264.51</td>\n",
       "      <td>10035.18</td>\n",
       "      <td>14072.58</td>\n",
       "      <td>45372.27</td>\n",
       "      <td>153333.46</td>\n",
       "    </tr>\n",
       "    <tr>\n",
       "      <th>11543</th>\n",
       "      <td>Calendar</td>\n",
       "      <td>2015</td>\n",
       "      <td>4</td>\n",
       "      <td>Community Health</td>\n",
       "      <td>DPH</td>\n",
       "      <td>Public Health</td>\n",
       "      <td>790</td>\n",
       "      <td>SEIU - Miscellaneous, Local 1021</td>\n",
       "      <td>1400</td>\n",
       "      <td>Clerical, Secretarial &amp; Steno</td>\n",
       "      <td>...</td>\n",
       "      <td>31609</td>\n",
       "      <td>36012.00</td>\n",
       "      <td>79.78</td>\n",
       "      <td>0.00</td>\n",
       "      <td>36091.78</td>\n",
       "      <td>8483.19</td>\n",
       "      <td>10035.18</td>\n",
       "      <td>2909.69</td>\n",
       "      <td>21428.06</td>\n",
       "      <td>57519.84</td>\n",
       "    </tr>\n",
       "    <tr>\n",
       "      <th>11544</th>\n",
       "      <td>Calendar</td>\n",
       "      <td>2015</td>\n",
       "      <td>2</td>\n",
       "      <td>Public Works, Transportation &amp; Commerce</td>\n",
       "      <td>MTA</td>\n",
       "      <td>Municipal Transportation Agency</td>\n",
       "      <td>790</td>\n",
       "      <td>SEIU - Miscellaneous, Local 1021</td>\n",
       "      <td>8200</td>\n",
       "      <td>Protection &amp; Apprehension</td>\n",
       "      <td>...</td>\n",
       "      <td>29555</td>\n",
       "      <td>62027.56</td>\n",
       "      <td>5613.15</td>\n",
       "      <td>1789.39</td>\n",
       "      <td>69430.10</td>\n",
       "      <td>13016.23</td>\n",
       "      <td>12339.39</td>\n",
       "      <td>5702.67</td>\n",
       "      <td>31058.29</td>\n",
       "      <td>100488.39</td>\n",
       "    </tr>\n",
       "  </tbody>\n",
       "</table>\n",
       "<p>11545 rows × 22 columns</p>\n",
       "</div>"
      ],
      "text/plain": [
       "      year_type  year  organization_group_code  \\\n",
       "0      Calendar  2015                        2   \n",
       "1      Calendar  2015                        2   \n",
       "2      Calendar  2015                        4   \n",
       "3        Fiscal  2015                        2   \n",
       "4      Calendar  2015                        2   \n",
       "...         ...   ...                      ...   \n",
       "11540  Calendar  2015                        2   \n",
       "11541    Fiscal  2015                        2   \n",
       "11542  Calendar  2015                        2   \n",
       "11543  Calendar  2015                        4   \n",
       "11544  Calendar  2015                        2   \n",
       "\n",
       "                            organization_group department_code  \\\n",
       "0      Public Works, Transportation & Commerce             MTA   \n",
       "1      Public Works, Transportation & Commerce             MTA   \n",
       "2                             Community Health             DPH   \n",
       "3      Public Works, Transportation & Commerce             MTA   \n",
       "4      Public Works, Transportation & Commerce             MTA   \n",
       "...                                        ...             ...   \n",
       "11540  Public Works, Transportation & Commerce             MTA   \n",
       "11541  Public Works, Transportation & Commerce             MTA   \n",
       "11542  Public Works, Transportation & Commerce             MTA   \n",
       "11543                         Community Health             DPH   \n",
       "11544  Public Works, Transportation & Commerce             MTA   \n",
       "\n",
       "                            department  union_code  \\\n",
       "0      Municipal Transportation Agency         253   \n",
       "1      Municipal Transportation Agency         790   \n",
       "2                        Public Health         250   \n",
       "3      Municipal Transportation Agency         790   \n",
       "4      Municipal Transportation Agency         790   \n",
       "...                                ...         ...   \n",
       "11540  Municipal Transportation Agency         200   \n",
       "11541  Municipal Transportation Agency         253   \n",
       "11542  Municipal Transportation Agency         351   \n",
       "11543                    Public Health         790   \n",
       "11544  Municipal Transportation Agency         790   \n",
       "\n",
       "                                                   union  job_family_code  \\\n",
       "0      Transport Workers - Transit Operators, Local 2...             9100   \n",
       "1                       SEIU - Miscellaneous, Local 1021             9100   \n",
       "2                      SEIU - Health Workers, Local 1021             2700   \n",
       "3                       SEIU - Miscellaneous, Local 1021             8200   \n",
       "4                       SEIU - Miscellaneous, Local 1021             8200   \n",
       "...                                                  ...              ...   \n",
       "11540                  Transportation Workers, Local 200             9100   \n",
       "11541  Transport Workers - Transit Operators, Local 2...             9100   \n",
       "11542    Municipal Executive Association - Miscellaneous             9100   \n",
       "11543                   SEIU - Miscellaneous, Local 1021             1400   \n",
       "11544                   SEIU - Miscellaneous, Local 1021             8200   \n",
       "\n",
       "                          job_family  ...  employee_identifier   salaries  \\\n",
       "0                     Street Transit  ...                 4273   44381.77   \n",
       "1                     Street Transit  ...                34336   62811.00   \n",
       "2             Housekeeping & Laundry  ...                 9890   34355.95   \n",
       "3          Protection & Apprehension  ...                29625   42915.13   \n",
       "4          Protection & Apprehension  ...                44400   45205.96   \n",
       "...                              ...  ...                  ...        ...   \n",
       "11540                 Street Transit  ...                 1849   79833.80   \n",
       "11541                 Street Transit  ...                26680   17069.19   \n",
       "11542                 Street Transit  ...                25074  107961.19   \n",
       "11543  Clerical, Secretarial & Steno  ...                31609   36012.00   \n",
       "11544      Protection & Apprehension  ...                29555   62027.56   \n",
       "\n",
       "       overtime  other_salaries  total_salary  retirement  health_dental  \\\n",
       "0      11166.58         2694.49      58242.84    13602.20        8826.10   \n",
       "1       7539.33         8382.41      78732.74    14020.17       12424.50   \n",
       "2        540.07         2783.39      37679.41     5935.65        9157.09   \n",
       "3        251.92          271.44      43438.49     9640.21        8668.97   \n",
       "4          0.00         4380.23      49586.19    10134.36        8987.93   \n",
       "...         ...             ...           ...         ...            ...   \n",
       "11540  11649.70         5713.83      97197.33    17532.04       12424.50   \n",
       "11541   1926.96          500.59      19496.74     4946.12        5400.32   \n",
       "11542      0.00            0.00     107961.19    21264.51       10035.18   \n",
       "11543     79.78            0.00      36091.78     8483.19       10035.18   \n",
       "11544   5613.15         1789.39      69430.10    13016.23       12339.39   \n",
       "\n",
       "       other_benefits  total_benefits  total_compensation  \n",
       "0             4423.70        26852.00            85094.84  \n",
       "1             6469.20        32913.87           111646.61  \n",
       "2             2843.73        17936.47            55615.88  \n",
       "3             3512.85        21822.03            65260.52  \n",
       "4             4093.31        23215.60            72801.79  \n",
       "...               ...             ...                 ...  \n",
       "11540         8051.13        38007.67           135205.00  \n",
       "11541         1483.79        11830.23            31326.97  \n",
       "11542        14072.58        45372.27           153333.46  \n",
       "11543         2909.69        21428.06            57519.84  \n",
       "11544         5702.67        31058.29           100488.39  \n",
       "\n",
       "[11545 rows x 22 columns]"
      ]
     },
     "execution_count": 4,
     "metadata": {},
     "output_type": "execute_result"
    }
   ],
   "source": [
    "sf"
   ]
  },
  {
   "cell_type": "code",
   "execution_count": 5,
   "metadata": {},
   "outputs": [
    {
     "name": "stdout",
     "output_type": "stream",
     "text": [
      "<class 'pandas.core.frame.DataFrame'>\n",
      "RangeIndex: 11545 entries, 0 to 11544\n",
      "Data columns (total 22 columns):\n",
      " #   Column                   Non-Null Count  Dtype  \n",
      "---  ------                   --------------  -----  \n",
      " 0   year_type                11545 non-null  object \n",
      " 1   year                     11545 non-null  int64  \n",
      " 2   organization_group_code  11545 non-null  int64  \n",
      " 3   organization_group       11545 non-null  object \n",
      " 4   department_code          11545 non-null  object \n",
      " 5   department               11545 non-null  object \n",
      " 6   union_code               11545 non-null  int64  \n",
      " 7   union                    11545 non-null  object \n",
      " 8   job_family_code          11545 non-null  int64  \n",
      " 9   job_family               11545 non-null  object \n",
      " 10  job_code                 11545 non-null  int64  \n",
      " 11  job                      11545 non-null  object \n",
      " 12  employee_identifier      11545 non-null  int64  \n",
      " 13  salaries                 11545 non-null  float64\n",
      " 14  overtime                 11545 non-null  float64\n",
      " 15  other_salaries           11545 non-null  float64\n",
      " 16  total_salary             11545 non-null  float64\n",
      " 17  retirement               11545 non-null  float64\n",
      " 18  health_dental            11545 non-null  float64\n",
      " 19  other_benefits           11545 non-null  float64\n",
      " 20  total_benefits           11545 non-null  float64\n",
      " 21  total_compensation       11545 non-null  float64\n",
      "dtypes: float64(9), int64(6), object(7)\n",
      "memory usage: 1.9+ MB\n"
     ]
    }
   ],
   "source": [
    "sf.info()"
   ]
  },
  {
   "cell_type": "code",
   "execution_count": 6,
   "metadata": {},
   "outputs": [],
   "source": [
    "sf.fillna(sf.mean(), inplace=True)"
   ]
  },
  {
   "cell_type": "code",
   "execution_count": 8,
   "metadata": {},
   "outputs": [],
   "source": [
    "### YOUR SOLUTION HERE\n",
    "def ans1(df=sf):\n",
    "    \n",
    "    df.fillna(df.mean(), inplace=True)\n",
    "    \n",
    "    return df\n",
    "\n",
    "###\n",
    "### YOUR CODE HERE\n",
    "###\n"
   ]
  },
  {
   "cell_type": "code",
   "execution_count": 9,
   "metadata": {},
   "outputs": [
    {
     "data": {
      "text/html": [
       "<div>\n",
       "<style scoped>\n",
       "    .dataframe tbody tr th:only-of-type {\n",
       "        vertical-align: middle;\n",
       "    }\n",
       "\n",
       "    .dataframe tbody tr th {\n",
       "        vertical-align: top;\n",
       "    }\n",
       "\n",
       "    .dataframe thead th {\n",
       "        text-align: right;\n",
       "    }\n",
       "</style>\n",
       "<table border=\"1\" class=\"dataframe\">\n",
       "  <thead>\n",
       "    <tr style=\"text-align: right;\">\n",
       "      <th></th>\n",
       "      <th>year_type</th>\n",
       "      <th>year</th>\n",
       "      <th>organization_group_code</th>\n",
       "      <th>organization_group</th>\n",
       "      <th>department_code</th>\n",
       "      <th>department</th>\n",
       "      <th>union_code</th>\n",
       "      <th>union</th>\n",
       "      <th>job_family_code</th>\n",
       "      <th>job_family</th>\n",
       "      <th>...</th>\n",
       "      <th>employee_identifier</th>\n",
       "      <th>salaries</th>\n",
       "      <th>overtime</th>\n",
       "      <th>other_salaries</th>\n",
       "      <th>total_salary</th>\n",
       "      <th>retirement</th>\n",
       "      <th>health_dental</th>\n",
       "      <th>other_benefits</th>\n",
       "      <th>total_benefits</th>\n",
       "      <th>total_compensation</th>\n",
       "    </tr>\n",
       "  </thead>\n",
       "  <tbody>\n",
       "    <tr>\n",
       "      <th>0</th>\n",
       "      <td>Calendar</td>\n",
       "      <td>2015</td>\n",
       "      <td>2</td>\n",
       "      <td>Public Works, Transportation &amp; Commerce</td>\n",
       "      <td>MTA</td>\n",
       "      <td>Municipal Transportation Agency</td>\n",
       "      <td>253</td>\n",
       "      <td>Transport Workers - Transit Operators, Local 2...</td>\n",
       "      <td>9100</td>\n",
       "      <td>Street Transit</td>\n",
       "      <td>...</td>\n",
       "      <td>4273</td>\n",
       "      <td>44381.77</td>\n",
       "      <td>11166.58</td>\n",
       "      <td>2694.49</td>\n",
       "      <td>58242.84</td>\n",
       "      <td>13602.20</td>\n",
       "      <td>8826.10</td>\n",
       "      <td>4423.70</td>\n",
       "      <td>26852.00</td>\n",
       "      <td>85094.84</td>\n",
       "    </tr>\n",
       "    <tr>\n",
       "      <th>1</th>\n",
       "      <td>Calendar</td>\n",
       "      <td>2015</td>\n",
       "      <td>2</td>\n",
       "      <td>Public Works, Transportation &amp; Commerce</td>\n",
       "      <td>MTA</td>\n",
       "      <td>Municipal Transportation Agency</td>\n",
       "      <td>790</td>\n",
       "      <td>SEIU - Miscellaneous, Local 1021</td>\n",
       "      <td>9100</td>\n",
       "      <td>Street Transit</td>\n",
       "      <td>...</td>\n",
       "      <td>34336</td>\n",
       "      <td>62811.00</td>\n",
       "      <td>7539.33</td>\n",
       "      <td>8382.41</td>\n",
       "      <td>78732.74</td>\n",
       "      <td>14020.17</td>\n",
       "      <td>12424.50</td>\n",
       "      <td>6469.20</td>\n",
       "      <td>32913.87</td>\n",
       "      <td>111646.61</td>\n",
       "    </tr>\n",
       "    <tr>\n",
       "      <th>2</th>\n",
       "      <td>Calendar</td>\n",
       "      <td>2015</td>\n",
       "      <td>4</td>\n",
       "      <td>Community Health</td>\n",
       "      <td>DPH</td>\n",
       "      <td>Public Health</td>\n",
       "      <td>250</td>\n",
       "      <td>SEIU - Health Workers, Local 1021</td>\n",
       "      <td>2700</td>\n",
       "      <td>Housekeeping &amp; Laundry</td>\n",
       "      <td>...</td>\n",
       "      <td>9890</td>\n",
       "      <td>34355.95</td>\n",
       "      <td>540.07</td>\n",
       "      <td>2783.39</td>\n",
       "      <td>37679.41</td>\n",
       "      <td>5935.65</td>\n",
       "      <td>9157.09</td>\n",
       "      <td>2843.73</td>\n",
       "      <td>17936.47</td>\n",
       "      <td>55615.88</td>\n",
       "    </tr>\n",
       "    <tr>\n",
       "      <th>3</th>\n",
       "      <td>Fiscal</td>\n",
       "      <td>2015</td>\n",
       "      <td>2</td>\n",
       "      <td>Public Works, Transportation &amp; Commerce</td>\n",
       "      <td>MTA</td>\n",
       "      <td>Municipal Transportation Agency</td>\n",
       "      <td>790</td>\n",
       "      <td>SEIU - Miscellaneous, Local 1021</td>\n",
       "      <td>8200</td>\n",
       "      <td>Protection &amp; Apprehension</td>\n",
       "      <td>...</td>\n",
       "      <td>29625</td>\n",
       "      <td>42915.13</td>\n",
       "      <td>251.92</td>\n",
       "      <td>271.44</td>\n",
       "      <td>43438.49</td>\n",
       "      <td>9640.21</td>\n",
       "      <td>8668.97</td>\n",
       "      <td>3512.85</td>\n",
       "      <td>21822.03</td>\n",
       "      <td>65260.52</td>\n",
       "    </tr>\n",
       "    <tr>\n",
       "      <th>4</th>\n",
       "      <td>Calendar</td>\n",
       "      <td>2015</td>\n",
       "      <td>2</td>\n",
       "      <td>Public Works, Transportation &amp; Commerce</td>\n",
       "      <td>MTA</td>\n",
       "      <td>Municipal Transportation Agency</td>\n",
       "      <td>790</td>\n",
       "      <td>SEIU - Miscellaneous, Local 1021</td>\n",
       "      <td>8200</td>\n",
       "      <td>Protection &amp; Apprehension</td>\n",
       "      <td>...</td>\n",
       "      <td>44400</td>\n",
       "      <td>45205.96</td>\n",
       "      <td>0.00</td>\n",
       "      <td>4380.23</td>\n",
       "      <td>49586.19</td>\n",
       "      <td>10134.36</td>\n",
       "      <td>8987.93</td>\n",
       "      <td>4093.31</td>\n",
       "      <td>23215.60</td>\n",
       "      <td>72801.79</td>\n",
       "    </tr>\n",
       "    <tr>\n",
       "      <th>...</th>\n",
       "      <td>...</td>\n",
       "      <td>...</td>\n",
       "      <td>...</td>\n",
       "      <td>...</td>\n",
       "      <td>...</td>\n",
       "      <td>...</td>\n",
       "      <td>...</td>\n",
       "      <td>...</td>\n",
       "      <td>...</td>\n",
       "      <td>...</td>\n",
       "      <td>...</td>\n",
       "      <td>...</td>\n",
       "      <td>...</td>\n",
       "      <td>...</td>\n",
       "      <td>...</td>\n",
       "      <td>...</td>\n",
       "      <td>...</td>\n",
       "      <td>...</td>\n",
       "      <td>...</td>\n",
       "      <td>...</td>\n",
       "      <td>...</td>\n",
       "    </tr>\n",
       "    <tr>\n",
       "      <th>11540</th>\n",
       "      <td>Calendar</td>\n",
       "      <td>2015</td>\n",
       "      <td>2</td>\n",
       "      <td>Public Works, Transportation &amp; Commerce</td>\n",
       "      <td>MTA</td>\n",
       "      <td>Municipal Transportation Agency</td>\n",
       "      <td>200</td>\n",
       "      <td>Transportation Workers, Local 200</td>\n",
       "      <td>9100</td>\n",
       "      <td>Street Transit</td>\n",
       "      <td>...</td>\n",
       "      <td>1849</td>\n",
       "      <td>79833.80</td>\n",
       "      <td>11649.70</td>\n",
       "      <td>5713.83</td>\n",
       "      <td>97197.33</td>\n",
       "      <td>17532.04</td>\n",
       "      <td>12424.50</td>\n",
       "      <td>8051.13</td>\n",
       "      <td>38007.67</td>\n",
       "      <td>135205.00</td>\n",
       "    </tr>\n",
       "    <tr>\n",
       "      <th>11541</th>\n",
       "      <td>Fiscal</td>\n",
       "      <td>2015</td>\n",
       "      <td>2</td>\n",
       "      <td>Public Works, Transportation &amp; Commerce</td>\n",
       "      <td>MTA</td>\n",
       "      <td>Municipal Transportation Agency</td>\n",
       "      <td>253</td>\n",
       "      <td>Transport Workers - Transit Operators, Local 2...</td>\n",
       "      <td>9100</td>\n",
       "      <td>Street Transit</td>\n",
       "      <td>...</td>\n",
       "      <td>26680</td>\n",
       "      <td>17069.19</td>\n",
       "      <td>1926.96</td>\n",
       "      <td>500.59</td>\n",
       "      <td>19496.74</td>\n",
       "      <td>4946.12</td>\n",
       "      <td>5400.32</td>\n",
       "      <td>1483.79</td>\n",
       "      <td>11830.23</td>\n",
       "      <td>31326.97</td>\n",
       "    </tr>\n",
       "    <tr>\n",
       "      <th>11542</th>\n",
       "      <td>Calendar</td>\n",
       "      <td>2015</td>\n",
       "      <td>2</td>\n",
       "      <td>Public Works, Transportation &amp; Commerce</td>\n",
       "      <td>MTA</td>\n",
       "      <td>Municipal Transportation Agency</td>\n",
       "      <td>351</td>\n",
       "      <td>Municipal Executive Association - Miscellaneous</td>\n",
       "      <td>9100</td>\n",
       "      <td>Street Transit</td>\n",
       "      <td>...</td>\n",
       "      <td>25074</td>\n",
       "      <td>107961.19</td>\n",
       "      <td>0.00</td>\n",
       "      <td>0.00</td>\n",
       "      <td>107961.19</td>\n",
       "      <td>21264.51</td>\n",
       "      <td>10035.18</td>\n",
       "      <td>14072.58</td>\n",
       "      <td>45372.27</td>\n",
       "      <td>153333.46</td>\n",
       "    </tr>\n",
       "    <tr>\n",
       "      <th>11543</th>\n",
       "      <td>Calendar</td>\n",
       "      <td>2015</td>\n",
       "      <td>4</td>\n",
       "      <td>Community Health</td>\n",
       "      <td>DPH</td>\n",
       "      <td>Public Health</td>\n",
       "      <td>790</td>\n",
       "      <td>SEIU - Miscellaneous, Local 1021</td>\n",
       "      <td>1400</td>\n",
       "      <td>Clerical, Secretarial &amp; Steno</td>\n",
       "      <td>...</td>\n",
       "      <td>31609</td>\n",
       "      <td>36012.00</td>\n",
       "      <td>79.78</td>\n",
       "      <td>0.00</td>\n",
       "      <td>36091.78</td>\n",
       "      <td>8483.19</td>\n",
       "      <td>10035.18</td>\n",
       "      <td>2909.69</td>\n",
       "      <td>21428.06</td>\n",
       "      <td>57519.84</td>\n",
       "    </tr>\n",
       "    <tr>\n",
       "      <th>11544</th>\n",
       "      <td>Calendar</td>\n",
       "      <td>2015</td>\n",
       "      <td>2</td>\n",
       "      <td>Public Works, Transportation &amp; Commerce</td>\n",
       "      <td>MTA</td>\n",
       "      <td>Municipal Transportation Agency</td>\n",
       "      <td>790</td>\n",
       "      <td>SEIU - Miscellaneous, Local 1021</td>\n",
       "      <td>8200</td>\n",
       "      <td>Protection &amp; Apprehension</td>\n",
       "      <td>...</td>\n",
       "      <td>29555</td>\n",
       "      <td>62027.56</td>\n",
       "      <td>5613.15</td>\n",
       "      <td>1789.39</td>\n",
       "      <td>69430.10</td>\n",
       "      <td>13016.23</td>\n",
       "      <td>12339.39</td>\n",
       "      <td>5702.67</td>\n",
       "      <td>31058.29</td>\n",
       "      <td>100488.39</td>\n",
       "    </tr>\n",
       "  </tbody>\n",
       "</table>\n",
       "<p>11545 rows × 22 columns</p>\n",
       "</div>"
      ],
      "text/plain": [
       "      year_type  year  organization_group_code  \\\n",
       "0      Calendar  2015                        2   \n",
       "1      Calendar  2015                        2   \n",
       "2      Calendar  2015                        4   \n",
       "3        Fiscal  2015                        2   \n",
       "4      Calendar  2015                        2   \n",
       "...         ...   ...                      ...   \n",
       "11540  Calendar  2015                        2   \n",
       "11541    Fiscal  2015                        2   \n",
       "11542  Calendar  2015                        2   \n",
       "11543  Calendar  2015                        4   \n",
       "11544  Calendar  2015                        2   \n",
       "\n",
       "                            organization_group department_code  \\\n",
       "0      Public Works, Transportation & Commerce             MTA   \n",
       "1      Public Works, Transportation & Commerce             MTA   \n",
       "2                             Community Health             DPH   \n",
       "3      Public Works, Transportation & Commerce             MTA   \n",
       "4      Public Works, Transportation & Commerce             MTA   \n",
       "...                                        ...             ...   \n",
       "11540  Public Works, Transportation & Commerce             MTA   \n",
       "11541  Public Works, Transportation & Commerce             MTA   \n",
       "11542  Public Works, Transportation & Commerce             MTA   \n",
       "11543                         Community Health             DPH   \n",
       "11544  Public Works, Transportation & Commerce             MTA   \n",
       "\n",
       "                            department  union_code  \\\n",
       "0      Municipal Transportation Agency         253   \n",
       "1      Municipal Transportation Agency         790   \n",
       "2                        Public Health         250   \n",
       "3      Municipal Transportation Agency         790   \n",
       "4      Municipal Transportation Agency         790   \n",
       "...                                ...         ...   \n",
       "11540  Municipal Transportation Agency         200   \n",
       "11541  Municipal Transportation Agency         253   \n",
       "11542  Municipal Transportation Agency         351   \n",
       "11543                    Public Health         790   \n",
       "11544  Municipal Transportation Agency         790   \n",
       "\n",
       "                                                   union  job_family_code  \\\n",
       "0      Transport Workers - Transit Operators, Local 2...             9100   \n",
       "1                       SEIU - Miscellaneous, Local 1021             9100   \n",
       "2                      SEIU - Health Workers, Local 1021             2700   \n",
       "3                       SEIU - Miscellaneous, Local 1021             8200   \n",
       "4                       SEIU - Miscellaneous, Local 1021             8200   \n",
       "...                                                  ...              ...   \n",
       "11540                  Transportation Workers, Local 200             9100   \n",
       "11541  Transport Workers - Transit Operators, Local 2...             9100   \n",
       "11542    Municipal Executive Association - Miscellaneous             9100   \n",
       "11543                   SEIU - Miscellaneous, Local 1021             1400   \n",
       "11544                   SEIU - Miscellaneous, Local 1021             8200   \n",
       "\n",
       "                          job_family  ...  employee_identifier   salaries  \\\n",
       "0                     Street Transit  ...                 4273   44381.77   \n",
       "1                     Street Transit  ...                34336   62811.00   \n",
       "2             Housekeeping & Laundry  ...                 9890   34355.95   \n",
       "3          Protection & Apprehension  ...                29625   42915.13   \n",
       "4          Protection & Apprehension  ...                44400   45205.96   \n",
       "...                              ...  ...                  ...        ...   \n",
       "11540                 Street Transit  ...                 1849   79833.80   \n",
       "11541                 Street Transit  ...                26680   17069.19   \n",
       "11542                 Street Transit  ...                25074  107961.19   \n",
       "11543  Clerical, Secretarial & Steno  ...                31609   36012.00   \n",
       "11544      Protection & Apprehension  ...                29555   62027.56   \n",
       "\n",
       "       overtime  other_salaries  total_salary  retirement  health_dental  \\\n",
       "0      11166.58         2694.49      58242.84    13602.20        8826.10   \n",
       "1       7539.33         8382.41      78732.74    14020.17       12424.50   \n",
       "2        540.07         2783.39      37679.41     5935.65        9157.09   \n",
       "3        251.92          271.44      43438.49     9640.21        8668.97   \n",
       "4          0.00         4380.23      49586.19    10134.36        8987.93   \n",
       "...         ...             ...           ...         ...            ...   \n",
       "11540  11649.70         5713.83      97197.33    17532.04       12424.50   \n",
       "11541   1926.96          500.59      19496.74     4946.12        5400.32   \n",
       "11542      0.00            0.00     107961.19    21264.51       10035.18   \n",
       "11543     79.78            0.00      36091.78     8483.19       10035.18   \n",
       "11544   5613.15         1789.39      69430.10    13016.23       12339.39   \n",
       "\n",
       "       other_benefits  total_benefits  total_compensation  \n",
       "0             4423.70        26852.00            85094.84  \n",
       "1             6469.20        32913.87           111646.61  \n",
       "2             2843.73        17936.47            55615.88  \n",
       "3             3512.85        21822.03            65260.52  \n",
       "4             4093.31        23215.60            72801.79  \n",
       "...               ...             ...                 ...  \n",
       "11540         8051.13        38007.67           135205.00  \n",
       "11541         1483.79        11830.23            31326.97  \n",
       "11542        14072.58        45372.27           153333.46  \n",
       "11543         2909.69        21428.06            57519.84  \n",
       "11544         5702.67        31058.29           100488.39  \n",
       "\n",
       "[11545 rows x 22 columns]"
      ]
     },
     "execution_count": 9,
     "metadata": {},
     "output_type": "execute_result"
    }
   ],
   "source": [
    "ans1(sf)"
   ]
  },
  {
   "cell_type": "code",
   "execution_count": null,
   "metadata": {
    "collapsed": true,
    "deletable": false,
    "editable": false,
    "nbgrader": {
     "grade": true,
     "grade_id": "Question 01",
     "locked": true,
     "points": "10",
     "solution": false
    }
   },
   "outputs": [],
   "source": [
    "###\n",
    "### AUTOGRADER TEST - DO NOT REMOVE\n",
    "###\n"
   ]
  },
  {
   "cell_type": "markdown",
   "metadata": {
    "deletable": false,
    "editable": false,
    "nbgrader": {
     "grade": false,
     "locked": true,
     "solution": false
    }
   },
   "source": [
    "[Back to top](#Index:) \n",
    "<a id='q2'></a>\n",
    "\n",
    "\n",
    "### Question 2\n",
    "\n",
    "**10 points**\n",
    "\n",
    "Since cluster analyses are primarily used as an exploratory procedure, we don't need to split our dataframe into `X` and `y`. You will also rarely have to split your data into a training and test set. We do, however, need to separate our columns of interest into their own frame, `X`.\n",
    "\n",
    "\n",
    "Write a function `ans2` that\n",
    "- Accepts a dataframe as an argument, defaulting to the sf dataframe\n",
    "- Returns a dataframe with only our 3 columns of interest:\n",
    "    - `salaries`\n",
    "    - `overtime`, and \n",
    "    - `health_dental`"
   ]
  },
  {
   "cell_type": "code",
   "execution_count": 10,
   "metadata": {},
   "outputs": [],
   "source": [
    "### YOUR SOLUTION HERE\n",
    "def ans2(df=sf):\n",
    "    \n",
    "    return df[['salaries','overtime','health_dental']]\n",
    "\n",
    "###\n",
    "### YOUR CODE HERE\n",
    "###\n"
   ]
  },
  {
   "cell_type": "code",
   "execution_count": 11,
   "metadata": {},
   "outputs": [
    {
     "data": {
      "text/html": [
       "<div>\n",
       "<style scoped>\n",
       "    .dataframe tbody tr th:only-of-type {\n",
       "        vertical-align: middle;\n",
       "    }\n",
       "\n",
       "    .dataframe tbody tr th {\n",
       "        vertical-align: top;\n",
       "    }\n",
       "\n",
       "    .dataframe thead th {\n",
       "        text-align: right;\n",
       "    }\n",
       "</style>\n",
       "<table border=\"1\" class=\"dataframe\">\n",
       "  <thead>\n",
       "    <tr style=\"text-align: right;\">\n",
       "      <th></th>\n",
       "      <th>salaries</th>\n",
       "      <th>overtime</th>\n",
       "      <th>health_dental</th>\n",
       "    </tr>\n",
       "  </thead>\n",
       "  <tbody>\n",
       "    <tr>\n",
       "      <th>0</th>\n",
       "      <td>44381.77</td>\n",
       "      <td>11166.58</td>\n",
       "      <td>8826.10</td>\n",
       "    </tr>\n",
       "    <tr>\n",
       "      <th>1</th>\n",
       "      <td>62811.00</td>\n",
       "      <td>7539.33</td>\n",
       "      <td>12424.50</td>\n",
       "    </tr>\n",
       "    <tr>\n",
       "      <th>2</th>\n",
       "      <td>34355.95</td>\n",
       "      <td>540.07</td>\n",
       "      <td>9157.09</td>\n",
       "    </tr>\n",
       "    <tr>\n",
       "      <th>3</th>\n",
       "      <td>42915.13</td>\n",
       "      <td>251.92</td>\n",
       "      <td>8668.97</td>\n",
       "    </tr>\n",
       "    <tr>\n",
       "      <th>4</th>\n",
       "      <td>45205.96</td>\n",
       "      <td>0.00</td>\n",
       "      <td>8987.93</td>\n",
       "    </tr>\n",
       "    <tr>\n",
       "      <th>...</th>\n",
       "      <td>...</td>\n",
       "      <td>...</td>\n",
       "      <td>...</td>\n",
       "    </tr>\n",
       "    <tr>\n",
       "      <th>11540</th>\n",
       "      <td>79833.80</td>\n",
       "      <td>11649.70</td>\n",
       "      <td>12424.50</td>\n",
       "    </tr>\n",
       "    <tr>\n",
       "      <th>11541</th>\n",
       "      <td>17069.19</td>\n",
       "      <td>1926.96</td>\n",
       "      <td>5400.32</td>\n",
       "    </tr>\n",
       "    <tr>\n",
       "      <th>11542</th>\n",
       "      <td>107961.19</td>\n",
       "      <td>0.00</td>\n",
       "      <td>10035.18</td>\n",
       "    </tr>\n",
       "    <tr>\n",
       "      <th>11543</th>\n",
       "      <td>36012.00</td>\n",
       "      <td>79.78</td>\n",
       "      <td>10035.18</td>\n",
       "    </tr>\n",
       "    <tr>\n",
       "      <th>11544</th>\n",
       "      <td>62027.56</td>\n",
       "      <td>5613.15</td>\n",
       "      <td>12339.39</td>\n",
       "    </tr>\n",
       "  </tbody>\n",
       "</table>\n",
       "<p>11545 rows × 3 columns</p>\n",
       "</div>"
      ],
      "text/plain": [
       "        salaries  overtime  health_dental\n",
       "0       44381.77  11166.58        8826.10\n",
       "1       62811.00   7539.33       12424.50\n",
       "2       34355.95    540.07        9157.09\n",
       "3       42915.13    251.92        8668.97\n",
       "4       45205.96      0.00        8987.93\n",
       "...          ...       ...            ...\n",
       "11540   79833.80  11649.70       12424.50\n",
       "11541   17069.19   1926.96        5400.32\n",
       "11542  107961.19      0.00       10035.18\n",
       "11543   36012.00     79.78       10035.18\n",
       "11544   62027.56   5613.15       12339.39\n",
       "\n",
       "[11545 rows x 3 columns]"
      ]
     },
     "execution_count": 11,
     "metadata": {},
     "output_type": "execute_result"
    }
   ],
   "source": [
    "ans2(sf)"
   ]
  },
  {
   "cell_type": "code",
   "execution_count": null,
   "metadata": {
    "collapsed": true,
    "deletable": false,
    "editable": false,
    "nbgrader": {
     "grade": true,
     "grade_id": "Question 02",
     "locked": true,
     "points": "10",
     "solution": false
    }
   },
   "outputs": [],
   "source": [
    "###\n",
    "### AUTOGRADER TEST - DO NOT REMOVE\n",
    "###\n"
   ]
  },
  {
   "cell_type": "markdown",
   "metadata": {
    "deletable": false,
    "editable": false,
    "nbgrader": {
     "grade": false,
     "locked": true,
     "solution": false
    }
   },
   "source": [
    "<a id=\"types\"></a>\n",
    "## Types of Clustering Models\n",
    "There are dozens of clustering algorithms commonly used to determine how and where your data points are 'similar' in nature. Two common classes of algorithms include _connectivity models_ and _centroid models_. \n",
    "\n",
    "**Connectivity models** cluster data points based on how close they are to each other in linear space. Algorithms used in connectivity models either start with all data points as their own clusters, connecting nearby data points with each iteration; or, start with one cluster and divide data points based on distance. _Distance_ is determined by a number of different algorithms. _Hierarchical cluster analysis_ is one of the most commonly used connectivity models.\n",
    "\n",
    "**Centroid models** cluster data points based on their closeness to a specified number of centroids set in your analysis. These centroids are points randomly assigned in linear space, used as a reference point to calculate the distance of data points, and iterated over until the optimal centroid locations are determined for the specified number of clusters. The most commonly used centroid model is _K-means cluster analysis_."
   ]
  },
  {
   "cell_type": "markdown",
   "metadata": {
    "deletable": false,
    "editable": false,
    "nbgrader": {
     "grade": false,
     "locked": true,
     "solution": false
    }
   },
   "source": [
    "### Hierarchical Cluster Analysis\n",
    "\n",
    "**Hierarchical clustering** is a connectivity model that creates a _hierarchy_ of clusters. Each data point begins as its own cluster; with each iteration, the two nearest clusters are combined until all data points are incorporated into a single cluster. Hierarchical clustering can be implemented using the described approach (bottom-up), or using a top-down approach (starting with one cluster and breaking apart clusters until each data point is its own cluster). \n",
    "\n",
    "Additionally, there are a number of algorithms that can be used to determine \"distance\" between two clusters -- Euclidean distance, Squared Euclidean distance, Manhattan distance, Maximum distance, and Mahalanobis distance. We will primarily use Euclidean distance in this assignment, but we highly recommend that you explore the performance of multiple distance algorithms when using a hierarchical cluster analysis.\n",
    "\n",
    "We'll be implementing our hierarchical cluster analysis using the `scipy` library, as it offers a number of easy and effective ways to evaluate the results of your analysis. Let's import `dendrogram` and `linkage` from `from scipy.cluster.hierarchy`."
   ]
  },
  {
   "cell_type": "code",
   "execution_count": 12,
   "metadata": {
    "deletable": false,
    "editable": false,
    "nbgrader": {
     "grade": false,
     "locked": true,
     "solution": false
    }
   },
   "outputs": [],
   "source": [
    "from scipy.cluster.hierarchy import dendrogram, linkage"
   ]
  },
  {
   "cell_type": "markdown",
   "metadata": {
    "deletable": false,
    "editable": false,
    "nbgrader": {
     "grade": false,
     "locked": true,
     "solution": false
    }
   },
   "source": [
    "We will then need to specify one argument for our hierarchical clustering linkage, telling the algorithm how our data points are connected. We'll use the `'ward'` method.\n",
    "\n",
    "You can read more about the arguments for `linkage` available in the [scipy documentation](https://docs.scipy.org/doc/scipy/reference/generated/scipy.cluster.hierarchy.linkage.html)."
   ]
  },
  {
   "cell_type": "code",
   "execution_count": 13,
   "metadata": {
    "deletable": false,
    "editable": false,
    "nbgrader": {
     "grade": false,
     "locked": true,
     "solution": false
    }
   },
   "outputs": [
    {
     "data": {
      "text/plain": [
       "array([[8.65000000e+02, 9.88400000e+03, 0.00000000e+00, 2.00000000e+00],\n",
       "       [9.00000000e+00, 2.24600000e+03, 0.00000000e+00, 2.00000000e+00],\n",
       "       [2.55400000e+03, 5.86500000e+03, 0.00000000e+00, 2.00000000e+00],\n",
       "       ...,\n",
       "       [2.30770000e+04, 2.30800000e+04, 1.21594995e+06, 4.01500000e+03],\n",
       "       [2.30820000e+04, 2.30850000e+04, 1.73562468e+06, 7.53000000e+03],\n",
       "       [2.30860000e+04, 2.30870000e+04, 3.38706265e+06, 1.15450000e+04]])"
      ]
     },
     "execution_count": 13,
     "metadata": {},
     "output_type": "execute_result"
    }
   ],
   "source": [
    "hc = linkage(ans2(), 'ward')\n",
    "hc"
   ]
  },
  {
   "cell_type": "markdown",
   "metadata": {
    "deletable": false,
    "editable": false,
    "nbgrader": {
     "grade": false,
     "locked": true,
     "solution": false
    }
   },
   "source": [
    "We can then evaluate our hierarchical cluster analysis using a _dendrogram_ -- a plot showing how and where clusters are combined. Using the results of the `linkage` and the `dendrogram` method, we can easily generate a plot using `scipy`. \n",
    "\n",
    "Let's specify a few arguments to best view the plot in a Jupyter Notebook -- we'll widen the plot, set the orientation to `top`, and set the distance sort to `descending`.\n",
    "\n",
    "We'll need to import `matplotlib.pyplot` in order to generate this plot. Please note that this plot may take a few moments to render."
   ]
  },
  {
   "cell_type": "code",
   "execution_count": null,
   "metadata": {},
   "outputs": [],
   "source": [
    "from matplotlib import pyplot as plt\n",
    "\n",
    "# Set the plot size\n",
    "plt.figure(figsize=(25, 10))\n",
    "\n",
    "# Create the dendrogram\n",
    "# dendrogram(hc,\n",
    "#            orientation='top',\n",
    "#            distance_sort='descending')\n",
    "\n",
    "# # Display the plot\n",
    "# plt.show()"
   ]
  },
  {
   "cell_type": "code",
   "execution_count": 14,
   "metadata": {
    "deletable": false,
    "editable": false,
    "nbgrader": {
     "grade": false,
     "locked": true,
     "solution": false
    }
   },
   "outputs": [
    {
     "data": {
      "image/png": "[encoded data removed]",
      "text/plain": [
       "<Figure size 1800x720 with 1 Axes>"
      ]
     },
     "metadata": {
      "needs_background": "light"
     },
     "output_type": "display_data"
    }
   ],
   "source": [
    "from matplotlib import pyplot as plt\n",
    "\n",
    "# Set the plot size\n",
    "plt.figure(figsize=(25, 10))\n",
    "\n",
    "# Create the dendrogram\n",
    "dendrogram(hc,\n",
    "           orientation='top',\n",
    "           distance_sort='descending')\n",
    "\n",
    "# Display the plot\n",
    "plt.show()"
   ]
  },
  {
   "cell_type": "markdown",
   "metadata": {
    "deletable": false,
    "editable": false,
    "nbgrader": {
     "grade": false,
     "locked": true,
     "solution": false
    }
   },
   "source": [
    "<a id=\"dendrogram\"></a>\n",
    "#### Evaluating the Dendrogram\n",
    "\n",
    "We're going to evaluate the dendrogram's horizontal and vertical lines to determine an appropriate number of clusters for our model. Every vertical line represents a cluster, and every horizontal line represents where a cluster is merging with another. Starting from the bottom, you can see that the further the distance increases on the y-axis (the higher up you go), the more clusters merge together - eventually becoming one single cluster.\n",
    "\n",
    "Determining an appropriate number of clusters is a largely subjective decision. You'll notice an approximate location on the y-axis where the vertical lines become longer, indicating a larger distance between clusters being combined. We can estimate that a distance between 750,000 and 1,000,000 may be an appropriate threshold for determining a good fit for a number of clusters. This would put us between 4 and 6 clusters as an appropriate number to group our data.\n",
    "\n",
    "Since we have a sufficiently large data set (~10,000 observations), let's use 5 clusters and recompute our results, specifying the maximum number of clusters to merge into. We can do this using `fcluster` from `scipy.hierarchy`. "
   ]
  },
  {
   "cell_type": "code",
   "execution_count": 16,
   "metadata": {
    "deletable": false,
    "editable": false,
    "nbgrader": {
     "grade": false,
     "locked": true,
     "solution": false
    }
   },
   "outputs": [],
   "source": [
    "from scipy.cluster.hierarchy import fcluster"
   ]
  },
  {
   "cell_type": "markdown",
   "metadata": {
    "deletable": false,
    "editable": false,
    "nbgrader": {
     "grade": false,
     "locked": true,
     "solution": false
    }
   },
   "source": [
    "We'll set our max depth to 1,000,000 and our criterion as 'distance'."
   ]
  },
  {
   "cell_type": "code",
   "execution_count": 17,
   "metadata": {
    "deletable": false,
    "editable": false,
    "nbgrader": {
     "grade": false,
     "locked": true,
     "solution": false
    }
   },
   "outputs": [],
   "source": [
    "max_d = 1000000\n",
    "clusters = fcluster(hc, max_d, criterion='distance')"
   ]
  },
  {
   "cell_type": "code",
   "execution_count": 23,
   "metadata": {},
   "outputs": [
    {
     "data": {
      "text/plain": [
       "11545"
      ]
     },
     "execution_count": 23,
     "metadata": {},
     "output_type": "execute_result"
    }
   ],
   "source": [
    "len(clusters)"
   ]
  },
  {
   "cell_type": "markdown",
   "metadata": {
    "deletable": false,
    "editable": false,
    "nbgrader": {
     "grade": false,
     "locked": true,
     "solution": false
    }
   },
   "source": [
    "[Back to top](#Index:) \n",
    "<a id='q3'></a>\n",
    "\n",
    "\n",
    "### Question 3\n",
    "\n",
    "**10 points**\n",
    "\n",
    "We can now assign the clusters to a new column in our original data set, called `hc_clusters`. We will compare the results from our hierarchical cluster assignments to k-means cluster assignments later on.\n",
    "\n",
    "\n",
    "Write a function `ans3` that\n",
    "- Accepts a dataframe as an argument, defaulting to the sf dataframe\n",
    "- Creates a new column in this dataframe titled `hc_clusters`\n",
    "- Inserts the array `clusters` into this new column\n",
    "- Returns the resultant dataframe"
   ]
  },
  {
   "cell_type": "code",
   "execution_count": 18,
   "metadata": {
    "deletable": false,
    "editable": false,
    "nbgrader": {
     "grade": false,
     "locked": true,
     "solution": false
    }
   },
   "outputs": [],
   "source": [
    "sf['hc_clusters'] = clusters"
   ]
  },
  {
   "cell_type": "code",
   "execution_count": 27,
   "metadata": {},
   "outputs": [
    {
     "data": {
      "text/plain": [
       "5    5283\n",
       "1    2091\n",
       "4    1950\n",
       "2    1924\n",
       "3     297\n",
       "Name: hc_clusters, dtype: int64"
      ]
     },
     "execution_count": 27,
     "metadata": {},
     "output_type": "execute_result"
    }
   ],
   "source": [
    "sf['hc_clusters'].value_counts()"
   ]
  },
  {
   "cell_type": "code",
   "execution_count": 19,
   "metadata": {},
   "outputs": [],
   "source": [
    "### YOUR SOLUTION HERE\n",
    "def ans3(df=sf):\n",
    "    df['hc_clusters'] = clusters\n",
    "    return df\n",
    "\n",
    "###\n",
    "### YOUR CODE HERE\n",
    "###\n"
   ]
  },
  {
   "cell_type": "code",
   "execution_count": null,
   "metadata": {
    "collapsed": true,
    "deletable": false,
    "editable": false,
    "nbgrader": {
     "grade": true,
     "grade_id": "Question 03",
     "locked": true,
     "points": "10",
     "solution": false
    }
   },
   "outputs": [],
   "source": [
    "###\n",
    "### AUTOGRADER TEST - DO NOT REMOVE\n",
    "###\n"
   ]
  },
  {
   "cell_type": "markdown",
   "metadata": {
    "deletable": false,
    "editable": false,
    "nbgrader": {
     "grade": false,
     "locked": true,
     "solution": false
    }
   },
   "source": [
    "[Back to top](#Index:) \n",
    "<a id='q4'></a>\n",
    "\n",
    "### Question 4\n",
    "\n",
    "**5 points**\n",
    "\n",
    "\n",
    "\n",
    "Observe the dendrogram above. How many clusters will we retain if we set our `max_d` (max distance) to 1,500,000? Assign your answer to `ans4` below as an integer."
   ]
  },
  {
   "cell_type": "code",
   "execution_count": 28,
   "metadata": {},
   "outputs": [],
   "source": [
    "max_d = 1_500_000\n",
    "clusters = fcluster(hc, max_d, criterion='distance')"
   ]
  },
  {
   "cell_type": "code",
   "execution_count": 33,
   "metadata": {},
   "outputs": [
    {
     "data": {
      "text/plain": [
       "3"
      ]
     },
     "execution_count": 33,
     "metadata": {},
     "output_type": "execute_result"
    }
   ],
   "source": [
    "len(set(clusters))"
   ]
  },
  {
   "cell_type": "code",
   "execution_count": null,
   "metadata": {
    "collapsed": true
   },
   "outputs": [],
   "source": [
    "### YOUR SOLUTION HERE\n",
    "ans4 = None\n",
    "\n",
    "###\n",
    "### YOUR CODE HERE\n",
    "###\n"
   ]
  },
  {
   "cell_type": "code",
   "execution_count": null,
   "metadata": {
    "collapsed": true,
    "deletable": false,
    "editable": false,
    "nbgrader": {
     "grade": true,
     "grade_id": "Question 04",
     "locked": true,
     "points": "10",
     "solution": false
    }
   },
   "outputs": [],
   "source": [
    "###\n",
    "### AUTOGRADER TEST - DO NOT REMOVE\n",
    "###\n"
   ]
  },
  {
   "cell_type": "markdown",
   "metadata": {
    "deletable": false,
    "editable": false,
    "nbgrader": {
     "grade": false,
     "locked": true,
     "solution": false
    }
   },
   "source": [
    "<a id=\"k-means\"></a>\n",
    "### K-Means Cluster Analysis\n",
    "\n",
    "The other common clustering algorithm is the **k-means cluster analysis**. K-means cluster analysis is a _centroid_ model that aims to find the best location for a specified number of centroids, K, to cluster nearby data points. A k-means cluster analysis occurs in 6 steps:\n",
    "\n",
    "1. Specify the desired number of clusters (we'll review a method for determining the best value for K).\n",
    "2. Randomly assign data points into one of the K clusters.\n",
    "3. Determine the centroid (central point between all data points) based on the random cluster assignment.\n",
    "4. Reassign data points to the nearest centroid.\n",
    "5. Re-compute the centroid.\n",
    "6. Repeat steps 4 and 5 until the model converges (the model no longer improves by further data point reassignment).\n",
    "\n",
    "#### When is this useful?\n",
    "\n",
    "K-means cluster analysis is an easy to implement algorithm that can help you find meaning in data sets that don't have pre-existing groups or labels. The k-means clustering algorithm is better able to draw conclusions based on large data sets, so it's often preferred to hierarchical clustering when you have more than few thousand records in your data set. \n",
    "\n",
    "#### How many clusters?\n",
    "\n",
    "A K-means cluster analysis requires that you specify the number of centroids used to cluster your data. However, you first need to determine the appropriate value for K based on your data set. We'll use the _elbow method_ below to evaluate the fit of a K-means clustering analysis with a range of cluster values. \n",
    "\n",
    "This is accomplished using the following steps: \n",
    "- Initiate an empty list to append _within cluster sum of squares_ values\n",
    "- Using a for loop, fit a K-means cluster analysis for a range of values. We'll use values 1 through 10 in this iteration. We recommend a similar range, unless you're working with a very large data set (i.e., several million rows). In that case, you may want to increase your range.\n",
    "- Append the `inertia` value (within clusters sum of squares) to the list.\n",
    "- Plot the within cluster sum of squares for each number of clusters.\n",
    "\n",
    "Let's start by importing `KMeans` from scikit-learn. You'll notice we've switched to scikit-learn after using scipy. You can use either library based on your preference. However, it is our belief that scipy is a more effective tool for implementing a hierarchical cluster analysis."
   ]
  },
  {
   "cell_type": "code",
   "execution_count": 34,
   "metadata": {
    "deletable": false,
    "editable": false,
    "nbgrader": {
     "grade": false,
     "locked": true,
     "solution": false
    }
   },
   "outputs": [],
   "source": [
    "from sklearn.cluster import KMeans"
   ]
  },
  {
   "cell_type": "markdown",
   "metadata": {
    "deletable": false,
    "editable": false,
    "nbgrader": {
     "grade": false,
     "locked": true,
     "solution": false
    }
   },
   "source": [
    "We can then create our list, `w`, and perform our K-means cluster analyses for each number of clusters."
   ]
  },
  {
   "cell_type": "code",
   "execution_count": 35,
   "metadata": {
    "deletable": false,
    "editable": false,
    "nbgrader": {
     "grade": false,
     "locked": true,
     "solution": false
    }
   },
   "outputs": [],
   "source": [
    "w = []\n",
    "for i in range(1,11):\n",
    "    kmeans = KMeans(n_clusters = i, init = 'k-means++', random_state = 99)\n",
    "    kmeans.fit(ans2())\n",
    "    \n",
    "    w.append(kmeans.inertia_)"
   ]
  },
  {
   "cell_type": "code",
   "execution_count": 36,
   "metadata": {
    "deletable": false,
    "editable": false,
    "nbgrader": {
     "grade": false,
     "locked": true,
     "solution": false
    }
   },
   "outputs": [
    {
     "data": {
      "image/png": "[encoded data removed]",
      "text/plain": [
       "<Figure size 432x288 with 1 Axes>"
      ]
     },
     "metadata": {
      "needs_background": "light"
     },
     "output_type": "display_data"
    }
   ],
   "source": [
    "plt.plot(range(1,11), w);"
   ]
  },
  {
   "cell_type": "markdown",
   "metadata": {
    "deletable": false,
    "editable": false,
    "nbgrader": {
     "grade": false,
     "locked": true,
     "solution": false
    }
   },
   "source": [
    "<a id=\"elbow\"></a>\n",
    "#### Evaluating the Elbow Method\n",
    "\n",
    "The above plot depicts the _within cluster sum of squares_ (WCSS) when our model is trained on 1 to 10 centroids using our data set. The WCSS is a measure of variability within an individual cluster. A lower WCSS value indicates that data in our clusters is more uniform, and likely represents meaningful differences in the data. \n",
    "\n",
    "The _elbow_ of our plot, above identifies the approximate point where adding more clusters leads to diminishing returns in reducing within-cluster error. Based on visual observation, our elbow appears between 3 and 5 clusters. Ultimately, the most appropriate number of clusters depends on your machine learning/analytics needs. Let's perform a k-means cluster analysis on our data, specifying that we want to use 3 clusters on our data. We'll use `kmeans.fit_predict` instead of `kmeans.fit` in order to save our clusters back to the original data set."
   ]
  },
  {
   "cell_type": "code",
   "execution_count": 37,
   "metadata": {
    "deletable": false,
    "editable": false,
    "nbgrader": {
     "grade": false,
     "locked": true,
     "solution": false
    }
   },
   "outputs": [
    {
     "name": "stdout",
     "output_type": "stream",
     "text": [
      "[0 0 1 ... 2 1 0]\n"
     ]
    }
   ],
   "source": [
    "kmeans_3 = KMeans(n_clusters = 3, init = 'k-means++', random_state = 99)\n",
    "clusters_3 = kmeans_3.fit_predict(ans2())\n",
    "print(clusters_3)"
   ]
  },
  {
   "cell_type": "markdown",
   "metadata": {
    "deletable": false,
    "editable": false,
    "nbgrader": {
     "grade": false,
     "locked": true,
     "solution": false
    }
   },
   "source": [
    "We can then save the clusters as a new column in `X`. Once we decide on the optimal number of clusters, we will save the final iteration to `sf`."
   ]
  },
  {
   "cell_type": "code",
   "execution_count": 38,
   "metadata": {
    "deletable": false,
    "editable": false,
    "nbgrader": {
     "grade": false,
     "locked": true,
     "solution": false
    }
   },
   "outputs": [
    {
     "data": {
      "text/html": [
       "<div>\n",
       "<style scoped>\n",
       "    .dataframe tbody tr th:only-of-type {\n",
       "        vertical-align: middle;\n",
       "    }\n",
       "\n",
       "    .dataframe tbody tr th {\n",
       "        vertical-align: top;\n",
       "    }\n",
       "\n",
       "    .dataframe thead th {\n",
       "        text-align: right;\n",
       "    }\n",
       "</style>\n",
       "<table border=\"1\" class=\"dataframe\">\n",
       "  <thead>\n",
       "    <tr style=\"text-align: right;\">\n",
       "      <th></th>\n",
       "      <th>salaries</th>\n",
       "      <th>overtime</th>\n",
       "      <th>health_dental</th>\n",
       "      <th>cluster_3</th>\n",
       "    </tr>\n",
       "  </thead>\n",
       "  <tbody>\n",
       "    <tr>\n",
       "      <th>0</th>\n",
       "      <td>44381.77</td>\n",
       "      <td>11166.58</td>\n",
       "      <td>8826.10</td>\n",
       "      <td>0</td>\n",
       "    </tr>\n",
       "    <tr>\n",
       "      <th>1</th>\n",
       "      <td>62811.00</td>\n",
       "      <td>7539.33</td>\n",
       "      <td>12424.50</td>\n",
       "      <td>0</td>\n",
       "    </tr>\n",
       "    <tr>\n",
       "      <th>2</th>\n",
       "      <td>34355.95</td>\n",
       "      <td>540.07</td>\n",
       "      <td>9157.09</td>\n",
       "      <td>1</td>\n",
       "    </tr>\n",
       "    <tr>\n",
       "      <th>3</th>\n",
       "      <td>42915.13</td>\n",
       "      <td>251.92</td>\n",
       "      <td>8668.97</td>\n",
       "      <td>0</td>\n",
       "    </tr>\n",
       "    <tr>\n",
       "      <th>4</th>\n",
       "      <td>45205.96</td>\n",
       "      <td>0.00</td>\n",
       "      <td>8987.93</td>\n",
       "      <td>0</td>\n",
       "    </tr>\n",
       "  </tbody>\n",
       "</table>\n",
       "</div>"
      ],
      "text/plain": [
       "   salaries  overtime  health_dental  cluster_3\n",
       "0  44381.77  11166.58        8826.10          0\n",
       "1  62811.00   7539.33       12424.50          0\n",
       "2  34355.95    540.07        9157.09          1\n",
       "3  42915.13    251.92        8668.97          0\n",
       "4  45205.96      0.00        8987.93          0"
      ]
     },
     "execution_count": 38,
     "metadata": {},
     "output_type": "execute_result"
    }
   ],
   "source": [
    "X = ans2().copy()\n",
    "X['cluster_3'] = clusters_3\n",
    "X.head()"
   ]
  },
  {
   "cell_type": "markdown",
   "metadata": {
    "deletable": false,
    "editable": false,
    "nbgrader": {
     "grade": false,
     "locked": true,
     "solution": false
    }
   },
   "source": [
    "<a id=\"eval-k\"></a>\n",
    "#### Evaluating Clusters\n",
    "\n",
    "As we've highlighted earlier, evaluating the appropriate number of clusters for your data is largely a subjective process. We'll perform a number of steps to start investigating the value created by grouping data according to the number of k-means centroids specified. Let's start by grouping `X` by the `cluster_3` and calculating the mean of the 3 columns and number of data points in each cluster."
   ]
  },
  {
   "cell_type": "code",
   "execution_count": 39,
   "metadata": {
    "deletable": false,
    "editable": false,
    "nbgrader": {
     "grade": false,
     "locked": true,
     "solution": false
    }
   },
   "outputs": [
    {
     "data": {
      "text/html": [
       "<div>\n",
       "<style scoped>\n",
       "    .dataframe tbody tr th:only-of-type {\n",
       "        vertical-align: middle;\n",
       "    }\n",
       "\n",
       "    .dataframe tbody tr th {\n",
       "        vertical-align: top;\n",
       "    }\n",
       "\n",
       "    .dataframe thead tr th {\n",
       "        text-align: left;\n",
       "    }\n",
       "\n",
       "    .dataframe thead tr:last-of-type th {\n",
       "        text-align: right;\n",
       "    }\n",
       "</style>\n",
       "<table border=\"1\" class=\"dataframe\">\n",
       "  <thead>\n",
       "    <tr>\n",
       "      <th></th>\n",
       "      <th colspan=\"2\" halign=\"left\">salaries</th>\n",
       "      <th colspan=\"2\" halign=\"left\">overtime</th>\n",
       "      <th colspan=\"2\" halign=\"left\">health_dental</th>\n",
       "    </tr>\n",
       "    <tr>\n",
       "      <th></th>\n",
       "      <th>mean</th>\n",
       "      <th>count</th>\n",
       "      <th>mean</th>\n",
       "      <th>count</th>\n",
       "      <th>mean</th>\n",
       "      <th>count</th>\n",
       "    </tr>\n",
       "    <tr>\n",
       "      <th>cluster_3</th>\n",
       "      <th></th>\n",
       "      <th></th>\n",
       "      <th></th>\n",
       "      <th></th>\n",
       "      <th></th>\n",
       "      <th></th>\n",
       "    </tr>\n",
       "  </thead>\n",
       "  <tbody>\n",
       "    <tr>\n",
       "      <th>0</th>\n",
       "      <td>59858.323106</td>\n",
       "      <td>7717</td>\n",
       "      <td>8333.705234</td>\n",
       "      <td>7717</td>\n",
       "      <td>12158.181230</td>\n",
       "      <td>7717</td>\n",
       "    </tr>\n",
       "    <tr>\n",
       "      <th>1</th>\n",
       "      <td>15095.376750</td>\n",
       "      <td>3286</td>\n",
       "      <td>1297.877864</td>\n",
       "      <td>3286</td>\n",
       "      <td>3667.554680</td>\n",
       "      <td>3286</td>\n",
       "    </tr>\n",
       "    <tr>\n",
       "      <th>2</th>\n",
       "      <td>115732.735959</td>\n",
       "      <td>542</td>\n",
       "      <td>15141.441919</td>\n",
       "      <td>542</td>\n",
       "      <td>12294.956587</td>\n",
       "      <td>542</td>\n",
       "    </tr>\n",
       "  </tbody>\n",
       "</table>\n",
       "</div>"
      ],
      "text/plain": [
       "                salaries            overtime       health_dental      \n",
       "                    mean count          mean count          mean count\n",
       "cluster_3                                                             \n",
       "0           59858.323106  7717   8333.705234  7717  12158.181230  7717\n",
       "1           15095.376750  3286   1297.877864  3286   3667.554680  3286\n",
       "2          115732.735959   542  15141.441919   542  12294.956587   542"
      ]
     },
     "execution_count": 39,
     "metadata": {},
     "output_type": "execute_result"
    }
   ],
   "source": [
    "cluster_3_grp = X.groupby('cluster_3').agg(['mean', 'count'])\n",
    "cluster_3_grp"
   ]
  },
  {
   "cell_type": "markdown",
   "metadata": {
    "deletable": false,
    "editable": false,
    "nbgrader": {
     "grade": false,
     "locked": true,
     "solution": false
    }
   },
   "source": [
    "With 3 clusters, we can see a drastic difference in the salaries across each group. Cluster 1 has the lowest salary, overtime, and the least health/dental benefits. Cluster 2 has the highest salary, and likely represents the management tiers of San Francisco city government. \n",
    "\n",
    "Now, let's take a look at the data using 3 scatterplots representing all combinations of 2 columns used in the analysis. We can easily do this using the `seaborn` library as part of 3 `matplotlib` subplots."
   ]
  },
  {
   "cell_type": "code",
   "execution_count": 40,
   "metadata": {
    "deletable": false,
    "editable": false,
    "nbgrader": {
     "grade": false,
     "locked": true,
     "solution": false
    }
   },
   "outputs": [
    {
     "data": {
      "image/png": "[encoded data removed]",
      "text/plain": [
       "<Figure size 1440x288 with 3 Axes>"
      ]
     },
     "metadata": {
      "needs_background": "light"
     },
     "output_type": "display_data"
    }
   ],
   "source": [
    "# Set up the axes and figure size\n",
    "fig, (ax1, ax2, ax3) = plt.subplots(1, 3)\n",
    "fig.set_figwidth(20)\n",
    "\n",
    "# Create 3 scatterplot colored by cluster\n",
    "sns.scatterplot(x = 'salaries', y = 'overtime', hue = 'cluster_3', data = X, ax = ax1)\n",
    "sns.scatterplot(x = 'salaries', y = 'health_dental', hue = 'cluster_3', data = X, ax = ax2)\n",
    "sns.scatterplot(x = 'overtime', y = 'health_dental', hue = 'cluster_3', data = X, ax = ax3);"
   ]
  },
  {
   "cell_type": "markdown",
   "metadata": {
    "deletable": false,
    "editable": false,
    "nbgrader": {
     "grade": false,
     "locked": true,
     "solution": false
    }
   },
   "source": [
    "As you'll notice, the algorithm has a clear line dividing the data points based on salary, capturing a large number of high salary employees. However, you'll notice that, on the X-axis, employees whose salaries exceed a cutoff (approximately 125,000) no longer receive overtime. This is _not_ captured with only 3 clusters, and therefore, we may be missing valuable information about our data."
   ]
  },
  {
   "cell_type": "markdown",
   "metadata": {
    "deletable": false,
    "editable": false,
    "nbgrader": {
     "grade": false,
     "locked": true,
     "solution": false
    }
   },
   "source": [
    "[Back to top](#Index:) \n",
    "<a id='q5'></a>\n",
    "\n",
    "### Question 5\n",
    "\n",
    "**10 points**\n",
    "\n",
    "\n",
    "Write a function `ans5` that\n",
    "- Accepts a dataframe, defaulting to `X`, as input\n",
    "- Predicts cluster assignments on this input dataframe with the following parameters:\n",
    "    - `n_clusters=4`\n",
    "    - `init='k-means++'`\n",
    "    - `random_state=99`\n",
    "- Returns the original dataframe, with a new column `cluster_4` appended to it, containing the cluster labels"
   ]
  },
  {
   "cell_type": "code",
   "execution_count": 41,
   "metadata": {},
   "outputs": [
    {
     "data": {
      "text/html": [
       "<div>\n",
       "<style scoped>\n",
       "    .dataframe tbody tr th:only-of-type {\n",
       "        vertical-align: middle;\n",
       "    }\n",
       "\n",
       "    .dataframe tbody tr th {\n",
       "        vertical-align: top;\n",
       "    }\n",
       "\n",
       "    .dataframe thead th {\n",
       "        text-align: right;\n",
       "    }\n",
       "</style>\n",
       "<table border=\"1\" class=\"dataframe\">\n",
       "  <thead>\n",
       "    <tr style=\"text-align: right;\">\n",
       "      <th></th>\n",
       "      <th>salaries</th>\n",
       "      <th>overtime</th>\n",
       "      <th>health_dental</th>\n",
       "      <th>cluster_3</th>\n",
       "    </tr>\n",
       "  </thead>\n",
       "  <tbody>\n",
       "    <tr>\n",
       "      <th>0</th>\n",
       "      <td>44381.77</td>\n",
       "      <td>11166.58</td>\n",
       "      <td>8826.10</td>\n",
       "      <td>0</td>\n",
       "    </tr>\n",
       "    <tr>\n",
       "      <th>1</th>\n",
       "      <td>62811.00</td>\n",
       "      <td>7539.33</td>\n",
       "      <td>12424.50</td>\n",
       "      <td>0</td>\n",
       "    </tr>\n",
       "    <tr>\n",
       "      <th>2</th>\n",
       "      <td>34355.95</td>\n",
       "      <td>540.07</td>\n",
       "      <td>9157.09</td>\n",
       "      <td>1</td>\n",
       "    </tr>\n",
       "    <tr>\n",
       "      <th>3</th>\n",
       "      <td>42915.13</td>\n",
       "      <td>251.92</td>\n",
       "      <td>8668.97</td>\n",
       "      <td>0</td>\n",
       "    </tr>\n",
       "    <tr>\n",
       "      <th>4</th>\n",
       "      <td>45205.96</td>\n",
       "      <td>0.00</td>\n",
       "      <td>8987.93</td>\n",
       "      <td>0</td>\n",
       "    </tr>\n",
       "    <tr>\n",
       "      <th>...</th>\n",
       "      <td>...</td>\n",
       "      <td>...</td>\n",
       "      <td>...</td>\n",
       "      <td>...</td>\n",
       "    </tr>\n",
       "    <tr>\n",
       "      <th>11540</th>\n",
       "      <td>79833.80</td>\n",
       "      <td>11649.70</td>\n",
       "      <td>12424.50</td>\n",
       "      <td>0</td>\n",
       "    </tr>\n",
       "    <tr>\n",
       "      <th>11541</th>\n",
       "      <td>17069.19</td>\n",
       "      <td>1926.96</td>\n",
       "      <td>5400.32</td>\n",
       "      <td>1</td>\n",
       "    </tr>\n",
       "    <tr>\n",
       "      <th>11542</th>\n",
       "      <td>107961.19</td>\n",
       "      <td>0.00</td>\n",
       "      <td>10035.18</td>\n",
       "      <td>2</td>\n",
       "    </tr>\n",
       "    <tr>\n",
       "      <th>11543</th>\n",
       "      <td>36012.00</td>\n",
       "      <td>79.78</td>\n",
       "      <td>10035.18</td>\n",
       "      <td>1</td>\n",
       "    </tr>\n",
       "    <tr>\n",
       "      <th>11544</th>\n",
       "      <td>62027.56</td>\n",
       "      <td>5613.15</td>\n",
       "      <td>12339.39</td>\n",
       "      <td>0</td>\n",
       "    </tr>\n",
       "  </tbody>\n",
       "</table>\n",
       "<p>11545 rows × 4 columns</p>\n",
       "</div>"
      ],
      "text/plain": [
       "        salaries  overtime  health_dental  cluster_3\n",
       "0       44381.77  11166.58        8826.10          0\n",
       "1       62811.00   7539.33       12424.50          0\n",
       "2       34355.95    540.07        9157.09          1\n",
       "3       42915.13    251.92        8668.97          0\n",
       "4       45205.96      0.00        8987.93          0\n",
       "...          ...       ...            ...        ...\n",
       "11540   79833.80  11649.70       12424.50          0\n",
       "11541   17069.19   1926.96        5400.32          1\n",
       "11542  107961.19      0.00       10035.18          2\n",
       "11543   36012.00     79.78       10035.18          1\n",
       "11544   62027.56   5613.15       12339.39          0\n",
       "\n",
       "[11545 rows x 4 columns]"
      ]
     },
     "execution_count": 41,
     "metadata": {},
     "output_type": "execute_result"
    }
   ],
   "source": [
    "X"
   ]
  },
  {
   "cell_type": "code",
   "execution_count": 44,
   "metadata": {
    "nbgrader": {
     "grade": false,
     "grade_id": "Question05",
     "locked": false,
     "points": "1",
     "solution": false
    }
   },
   "outputs": [],
   "source": [
    "### YOUR SOLUTION HERE\n",
    "def ans5(df=X):\n",
    "    \n",
    "    kmeans_4 = KMeans(n_clusters = 4, init = 'k-means++', random_state = 99)\n",
    "    clusters_4 = kmeans_4.fit_predict(ans2())\n",
    "    df['cluster_4'] = clusters_4\n",
    "    \n",
    "    return df\n",
    "\n",
    "###\n",
    "### YOUR CODE HERE\n",
    "###\n"
   ]
  },
  {
   "cell_type": "code",
   "execution_count": null,
   "metadata": {},
   "outputs": [],
   "source": []
  },
  {
   "cell_type": "code",
   "execution_count": null,
   "metadata": {},
   "outputs": [],
   "source": []
  },
  {
   "cell_type": "code",
   "execution_count": null,
   "metadata": {
    "collapsed": true,
    "deletable": false,
    "editable": false,
    "nbgrader": {
     "grade": true,
     "grade_id": "Question 05",
     "locked": true,
     "points": "10",
     "solution": false
    }
   },
   "outputs": [],
   "source": [
    "###\n",
    "### AUTOGRADER TEST - DO NOT REMOVE\n",
    "###\n"
   ]
  },
  {
   "cell_type": "markdown",
   "metadata": {
    "deletable": false,
    "editable": false,
    "nbgrader": {
     "grade": false,
     "locked": true,
     "solution": false
    }
   },
   "source": [
    "[Back to top](#Index:) \n",
    "<a id='q6'></a>\n",
    "\n",
    "### Question 6\n",
    "\n",
    "**10 points**\n",
    "\n",
    "\n",
    "Write a function `ans6` that\n",
    "- Accepts as an argument the dataframe `X` from the previous question\n",
    "- Calculates the mean and count of each column (salaries, overtime, and health_dental) in `X` using `cluster_4` as a group category\n",
    "        - Hint: You will get 1 more column than last time, as the mean/count of `cluster_3` will also be calculated (and can be disregarded).\n",
    "- Returns the result as a dataframe"
   ]
  },
  {
   "cell_type": "code",
   "execution_count": null,
   "metadata": {
    "collapsed": true
   },
   "outputs": [],
   "source": [
    "### YOUR SOLUTION HERE\n",
    "def ans6(df=X):\n",
    "    return \n",
    "\n",
    "###\n",
    "### YOUR CODE HERE\n",
    "###\n"
   ]
  },
  {
   "cell_type": "code",
   "execution_count": null,
   "metadata": {
    "collapsed": true,
    "deletable": false,
    "editable": false,
    "nbgrader": {
     "grade": true,
     "grade_id": "Question 06",
     "locked": true,
     "points": "10",
     "solution": false
    }
   },
   "outputs": [],
   "source": [
    "###\n",
    "### AUTOGRADER TEST - DO NOT REMOVE\n",
    "###\n"
   ]
  },
  {
   "cell_type": "markdown",
   "metadata": {
    "deletable": false,
    "editable": false,
    "nbgrader": {
     "grade": false,
     "locked": true,
     "solution": false
    }
   },
   "source": [
    "Finally, let's visualize our model with 4 cluster centroids."
   ]
  },
  {
   "cell_type": "code",
   "execution_count": null,
   "metadata": {
    "collapsed": true,
    "deletable": false,
    "editable": false,
    "nbgrader": {
     "grade": false,
     "locked": true,
     "solution": false
    }
   },
   "outputs": [],
   "source": [
    "# Set up the axes and figure size\n",
    "fig, (ax1, ax2, ax3) = plt.subplots(1, 3)\n",
    "fig.set_figwidth(20)\n",
    "\n",
    "# Create 3 scatterplot colored by cluster\n",
    "sns.scatterplot(x = 'salaries', y = 'overtime', hue = 'cluster_4', data = X, ax = ax1)\n",
    "sns.scatterplot(x = 'salaries', y = 'health_dental', hue = 'cluster_4', data = X, ax = ax2)\n",
    "sns.scatterplot(x = 'overtime', y = 'health_dental', hue = 'cluster_4', data = X, ax = ax3);"
   ]
  },
  {
   "cell_type": "markdown",
   "metadata": {
    "deletable": false,
    "editable": false,
    "nbgrader": {
     "grade": false,
     "locked": true,
     "solution": false
    }
   },
   "source": [
    "As you can see, the k-means model with 4 centroids captures more nuance in the salary and overtime data. You'll notice, however, that there are still multiple clusters with similar health and dental coverage. \n",
    "\n",
    "You'll also notice the difference in the number of data points in each cluster -- cluster 3 includes only 286 data points, compared to the other clusters that include multiple thousands.\n",
    "\n",
    "Finally, let's evaluate a model with 5 clusters."
   ]
  },
  {
   "cell_type": "markdown",
   "metadata": {
    "deletable": false,
    "editable": false,
    "nbgrader": {
     "grade": false,
     "locked": true,
     "solution": false
    }
   },
   "source": [
    "[Back to top](#Index:) \n",
    "<a id='q7'></a>\n",
    "\n",
    "### Question 7\n",
    "\n",
    "**10 points**\n",
    "\n",
    "\n",
    "Write a function `ans7` that\n",
    "- Accepts as an argument the dataframe `X` from the output of question 5\n",
    "- Repeats the process of fitting a k-means algorithm using 5 clusters\n",
    "        - Use the following parameters:\n",
    "            - `n_clusters=5`\n",
    "            - `init='k-means++'`\n",
    "            - `random_state=99`\n",
    "- Appends the cluster label assignments to a new column `clusters_5`\n",
    "- Returns the result as a dataframe"
   ]
  },
  {
   "cell_type": "code",
   "execution_count": null,
   "metadata": {
    "collapsed": true
   },
   "outputs": [],
   "source": [
    "### YOUR SOLUTION HERE\n",
    "def ans7(df=X):\n",
    "    return \n",
    "\n",
    "###\n",
    "### YOUR CODE HERE\n",
    "###\n"
   ]
  },
  {
   "cell_type": "code",
   "execution_count": null,
   "metadata": {
    "collapsed": true,
    "deletable": false,
    "editable": false,
    "nbgrader": {
     "grade": true,
     "grade_id": "Question 07",
     "locked": true,
     "points": "10",
     "solution": false
    }
   },
   "outputs": [],
   "source": [
    "###\n",
    "### AUTOGRADER TEST - DO NOT REMOVE\n",
    "###\n"
   ]
  },
  {
   "cell_type": "markdown",
   "metadata": {
    "deletable": false,
    "editable": false,
    "nbgrader": {
     "grade": false,
     "locked": true,
     "solution": false
    }
   },
   "source": [
    "[Back to top](#Index:) \n",
    "<a id='q8'></a>\n",
    "\n",
    "### Question 8\n",
    "\n",
    "**10 points**\n",
    "\n",
    "\n",
    "Write a function `ans8` that\n",
    "- Accepts the output dataframe of `ans7` as an argument\n",
    "- Calculates the mean and count of the `salaries`, `overtime`, and `health_dental` columns, grouping by `cluster_5`\n",
    "- Return the results as a dataframe"
   ]
  },
  {
   "cell_type": "code",
   "execution_count": null,
   "metadata": {
    "collapsed": true
   },
   "outputs": [],
   "source": [
    "### YOUR SOLUTION HERE\n",
    "def ans8(df=ans7):\n",
    "    return \n",
    "\n",
    "###\n",
    "### YOUR CODE HERE\n",
    "###\n"
   ]
  },
  {
   "cell_type": "code",
   "execution_count": null,
   "metadata": {
    "collapsed": true,
    "deletable": false,
    "editable": false,
    "nbgrader": {
     "grade": true,
     "grade_id": "Question 08",
     "locked": true,
     "points": "10",
     "solution": false
    }
   },
   "outputs": [],
   "source": [
    "###\n",
    "### AUTOGRADER TEST - DO NOT REMOVE\n",
    "###\n"
   ]
  },
  {
   "cell_type": "markdown",
   "metadata": {
    "deletable": false,
    "editable": false,
    "nbgrader": {
     "grade": false,
     "locked": true,
     "solution": false
    }
   },
   "source": [
    "Finally, let's visualize a k-means cluster analysis with 5 cluster centroids."
   ]
  },
  {
   "cell_type": "code",
   "execution_count": null,
   "metadata": {
    "collapsed": true,
    "deletable": false,
    "editable": false,
    "nbgrader": {
     "grade": false,
     "locked": true,
     "solution": false
    }
   },
   "outputs": [],
   "source": [
    "# Set up the axes and figure size\n",
    "fig, (ax1, ax2, ax3) = plt.subplots(1, 3)\n",
    "fig.set_figwidth(20)\n",
    "\n",
    "# Create 3 scatterplot colored by cluster\n",
    "X = ans7()\n",
    "sns.scatterplot(x = 'salaries', y = 'overtime', hue = 'cluster_5', data = X, ax = ax1, legend='full')\n",
    "sns.scatterplot(x = 'salaries', y = 'health_dental', hue = 'cluster_5', data = X, ax = ax2, legend='full')\n",
    "sns.scatterplot(x = 'overtime', y = 'health_dental', hue = 'cluster_5', data = X, ax = ax3, legend='full');"
   ]
  },
  {
   "cell_type": "markdown",
   "metadata": {
    "deletable": false,
    "editable": false,
    "nbgrader": {
     "grade": false,
     "locked": true,
     "solution": false
    }
   },
   "source": [
    "Visually, it seems that the addition of a 5th cluster has split the lowest salary/overtime group into one with a mean salary of 9,074 and another with a mean salary of 38,610. There is a good chance that this split has separated part time workers from low wage/full time workers."
   ]
  },
  {
   "cell_type": "markdown",
   "metadata": {
    "deletable": false,
    "editable": false,
    "nbgrader": {
     "grade": false,
     "locked": true,
     "solution": false
    }
   },
   "source": [
    "[Back to top](#Index:) \n",
    "<a id='q9'></a>\n",
    "\n",
    "### Question 9\n",
    "\n",
    "**5 points**\n",
    "\n",
    "How many clusters would you select to best understand meaningful groups/tiers of pay within San Francisco city government? Assign the number as an integer to `ans9`."
   ]
  },
  {
   "cell_type": "code",
   "execution_count": null,
   "metadata": {
    "collapsed": true
   },
   "outputs": [],
   "source": [
    "### YOUR SOLUTION HERE\n",
    "ans9 = None\n",
    "\n",
    "###\n",
    "### YOUR CODE HERE\n",
    "###\n"
   ]
  },
  {
   "cell_type": "code",
   "execution_count": null,
   "metadata": {
    "collapsed": true,
    "deletable": false,
    "editable": false,
    "nbgrader": {
     "grade": true,
     "grade_id": "Question 09",
     "locked": true,
     "points": "5",
     "solution": false
    }
   },
   "outputs": [],
   "source": [
    "###\n",
    "### AUTOGRADER TEST - DO NOT REMOVE\n",
    "###\n"
   ]
  },
  {
   "cell_type": "markdown",
   "metadata": {
    "deletable": false,
    "editable": false,
    "nbgrader": {
     "grade": false,
     "locked": true,
     "solution": false
    }
   },
   "source": [
    "<a id=\"compare\"></a>\n",
    "### Comparing Hierarchical and K-Means Clusters\n",
    "\n",
    "We have two sets of clusters assigned to our original data set for comparison. Let's explore some aggregates/trends for each set of clusters to draw conclusions about our original data set. We'll start by creating a scatterplot of the `salaries` and `overtime` data for each type of cluster."
   ]
  },
  {
   "cell_type": "code",
   "execution_count": null,
   "metadata": {
    "collapsed": true,
    "deletable": false,
    "editable": false,
    "nbgrader": {
     "grade": false,
     "locked": true,
     "solution": false
    }
   },
   "outputs": [],
   "source": [
    "# Set up the axes and figure size\n",
    "fig, (ax1, ax2) = plt.subplots(1, 2)\n",
    "fig.set_figwidth(15)\n",
    "\n",
    "# Create 3 scatterplot colored by cluster\n",
    "sns.scatterplot(x = 'salaries', y = 'overtime', hue = 'hc_clusters', data = sf, ax = ax1, legend = 'full')\n",
    "sns.scatterplot(x = 'salaries', y = 'overtime', hue = 'cluster_5', data = X, ax = ax2, legend = 'full');"
   ]
  },
  {
   "cell_type": "markdown",
   "metadata": {
    "deletable": false,
    "editable": false,
    "nbgrader": {
     "grade": false,
     "locked": true,
     "solution": false
    }
   },
   "source": [
    "[Back to top](#Index:) \n",
    "<a id='q10'></a>\n",
    "\n",
    "\n",
    "### Question 10\n",
    "\n",
    "**20 points**\n",
    "\n",
    "Finally, write two functions:\n",
    "\n",
    "- `ans10_hc`\n",
    "    - Accepts the `sf` dataframe as a default\n",
    "- `ans10_km`\n",
    "    - Accepts the `X` dataframe as a default\n",
    "- Both functions should group the data by each set of clusters and calculate the count/mean for `salaries`, `overtime`, and `health_dental`\n",
    "- Return the resulting dataframes"
   ]
  },
  {
   "cell_type": "code",
   "execution_count": null,
   "metadata": {
    "collapsed": true,
    "nbgrader": {
     "grade": false,
     "locked": false,
     "solution": false
    }
   },
   "outputs": [],
   "source": [
    "### YOUR SOLUTION HERE\n",
    "def ans10_hc(df=sf):\n",
    "    return\n",
    "\n",
    "def ans10_km(df=X):\n",
    "    return\n",
    "###\n",
    "### YOUR CODE HERE\n",
    "###\n"
   ]
  },
  {
   "cell_type": "code",
   "execution_count": null,
   "metadata": {
    "collapsed": true,
    "deletable": false,
    "editable": false,
    "nbgrader": {
     "grade": true,
     "grade_id": "Question 10",
     "locked": true,
     "points": "20",
     "solution": false
    }
   },
   "outputs": [],
   "source": [
    "###\n",
    "### AUTOGRADER TEST - DO NOT REMOVE\n",
    "###\n"
   ]
  },
  {
   "cell_type": "markdown",
   "metadata": {
    "deletable": false,
    "editable": false,
    "nbgrader": {
     "grade": false,
     "locked": true,
     "solution": false
    }
   },
   "source": [
    "Let's compare the two aggregates below."
   ]
  },
  {
   "cell_type": "code",
   "execution_count": null,
   "metadata": {
    "collapsed": true,
    "deletable": false,
    "editable": false,
    "nbgrader": {
     "grade": false,
     "locked": true,
     "solution": false
    }
   },
   "outputs": [],
   "source": [
    "print(ans10_hc(), '\\n\\n', ans10_km())"
   ]
  },
  {
   "cell_type": "markdown",
   "metadata": {
    "deletable": false,
    "editable": false,
    "nbgrader": {
     "grade": false,
     "locked": true,
     "solution": false
    }
   },
   "source": [
    "There are 5 clusters in each model with different numerical values and slightly different count values. You'll notice that the k-means cluster analysis has clear linear divisions along the `salaries` column, whereas the hierarchical cluster analysis swaps many records from these two clusters in the middle. There are, however, similar cluster divisions on the high/low end of the salary and overtime distribution, suggesting that both models capture part time, low wage, and high wage workers fairly well."
   ]
  },
  {
   "cell_type": "markdown",
   "metadata": {
    "deletable": false,
    "editable": false,
    "nbgrader": {
     "grade": false,
     "locked": true,
     "solution": false
    }
   },
   "source": [
    "<a id=\"limitations\"></a>\n",
    "## Limitations\n",
    "\n",
    "Common clustering algorithms have a number of limitations to be aware of in their application and interpretation. \n",
    "\n",
    "### Hierarchical Clustering\n",
    "Hierarchical clustering algorithms are very sensitive to outliers in the data. A small number of outliers can drastically alter cluster assignments. Before using a hierarchical cluster analysis, you may want to remove extreme outliers from your data set and perform some feature scaling.\n",
    "\n",
    "Hierarchical cluster analyses are limited by earlier cluster assignments. Once data points are combined into clusters, they cannot be moved/reassigned -- even if that would optimize the final result.\n",
    "\n",
    "Finally, hierarchical cluster analyses are not ideal for very large data sets. You may have noticed that the dendrogram took a while to render in this assignment. Larger data sets (i.e., hundreds of thousands/millions of records) may not be suitable for hierarchical clustering. \n",
    "\n",
    "### K-Means Clustering\n",
    "As you noticed, k-means clustering requires more manual work, exploration, and judgment calls in order to determine the optimal number of clusters for your data set. Be prepared to perform a significant amount of manual data exploration in the process of performing a k-means cluster analysis.\n",
    "\n",
    "Additionally, k-means cluster analyses are highly sensitive to feature scaling. Scaling your features prior to fitting your model may drastically alter your results. You may wish to compare the results of a k-means analysis with scaled/non-scaled features when determining the best cluster fit for your data."
   ]
  }
 ],
 "metadata": {
  "kernelspec": {
   "display_name": "Python 3",
   "language": "python",
   "name": "python3"
  },
  "language_info": {
   "codemirror_mode": {
    "name": "ipython",
    "version": 3
   },
   "file_extension": ".py",
   "mimetype": "text/x-python",
   "name": "python",
   "nbconvert_exporter": "python",
   "pygments_lexer": "ipython3",
   "version": "3.6.9"
  }
 },
 "nbformat": 4,
 "nbformat_minor": 2
}
