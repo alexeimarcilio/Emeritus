{
 "cells": [
  {
   "cell_type": "code",
   "execution_count": 30,
   "metadata": {},
   "outputs": [
    {
     "name": "stdout",
     "output_type": "stream",
     "text": [
      "NLTK Downloader\n",
      "---------------------------------------------------------------------------\n",
      "    d) Download   l) List    u) Update   c) Config   h) Help   q) Quit\n",
      "---------------------------------------------------------------------------\n",
      "Downloader> genesis\n",
      "Command 'genesis' unrecognized\n",
      "\n",
      "---------------------------------------------------------------------------\n",
      "    d) Download   l) List    u) Update   c) Config   h) Help   q) Quit\n",
      "---------------------------------------------------------------------------\n"
     ]
    },
    {
     "ename": "KeyboardInterrupt",
     "evalue": "Interrupted by user",
     "output_type": "error",
     "traceback": [
      "\u001b[0;31m---------------------------------------------------------------------------\u001b[0m",
      "\u001b[0;31mKeyboardInterrupt\u001b[0m                         Traceback (most recent call last)",
      "\u001b[0;32m<ipython-input-30-3b02390c7677>\u001b[0m in \u001b[0;36m<module>\u001b[0;34m\u001b[0m\n\u001b[1;32m      1\u001b[0m \u001b[0;32mimport\u001b[0m \u001b[0mnltk\u001b[0m\u001b[0;34m\u001b[0m\u001b[0;34m\u001b[0m\u001b[0m\n\u001b[0;32m----> 2\u001b[0;31m \u001b[0mnltk\u001b[0m\u001b[0;34m.\u001b[0m\u001b[0mdownload\u001b[0m\u001b[0;34m(\u001b[0m\u001b[0;34m)\u001b[0m\u001b[0;34m\u001b[0m\u001b[0;34m\u001b[0m\u001b[0m\n\u001b[0m",
      "\u001b[0;32m~/ds/eme/pro/my_project_env/lib/python3.6/site-packages/nltk/downloader.py\u001b[0m in \u001b[0;36mdownload\u001b[0;34m(self, info_or_id, download_dir, quiet, force, prefix, halt_on_error, raise_on_error, print_error_to)\u001b[0m\n\u001b[1;32m    763\u001b[0m             \u001b[0;32mif\u001b[0m \u001b[0mdownload_dir\u001b[0m \u001b[0;32mis\u001b[0m \u001b[0;32mnot\u001b[0m \u001b[0;32mNone\u001b[0m\u001b[0;34m:\u001b[0m\u001b[0;34m\u001b[0m\u001b[0;34m\u001b[0m\u001b[0m\n\u001b[1;32m    764\u001b[0m                 \u001b[0mself\u001b[0m\u001b[0;34m.\u001b[0m\u001b[0m_download_dir\u001b[0m \u001b[0;34m=\u001b[0m \u001b[0mdownload_dir\u001b[0m\u001b[0;34m\u001b[0m\u001b[0;34m\u001b[0m\u001b[0m\n\u001b[0;32m--> 765\u001b[0;31m             \u001b[0mself\u001b[0m\u001b[0;34m.\u001b[0m\u001b[0m_interactive_download\u001b[0m\u001b[0;34m(\u001b[0m\u001b[0;34m)\u001b[0m\u001b[0;34m\u001b[0m\u001b[0;34m\u001b[0m\u001b[0m\n\u001b[0m\u001b[1;32m    766\u001b[0m             \u001b[0;32mreturn\u001b[0m \u001b[0;32mTrue\u001b[0m\u001b[0;34m\u001b[0m\u001b[0;34m\u001b[0m\u001b[0m\n\u001b[1;32m    767\u001b[0m \u001b[0;34m\u001b[0m\u001b[0m\n",
      "\u001b[0;32m~/ds/eme/pro/my_project_env/lib/python3.6/site-packages/nltk/downloader.py\u001b[0m in \u001b[0;36m_interactive_download\u001b[0;34m(self)\u001b[0m\n\u001b[1;32m   1117\u001b[0m                 \u001b[0mDownloaderShell\u001b[0m\u001b[0;34m(\u001b[0m\u001b[0mself\u001b[0m\u001b[0;34m)\u001b[0m\u001b[0;34m.\u001b[0m\u001b[0mrun\u001b[0m\u001b[0;34m(\u001b[0m\u001b[0;34m)\u001b[0m\u001b[0;34m\u001b[0m\u001b[0;34m\u001b[0m\u001b[0m\n\u001b[1;32m   1118\u001b[0m         \u001b[0;32melse\u001b[0m\u001b[0;34m:\u001b[0m\u001b[0;34m\u001b[0m\u001b[0;34m\u001b[0m\u001b[0m\n\u001b[0;32m-> 1119\u001b[0;31m             \u001b[0mDownloaderShell\u001b[0m\u001b[0;34m(\u001b[0m\u001b[0mself\u001b[0m\u001b[0;34m)\u001b[0m\u001b[0;34m.\u001b[0m\u001b[0mrun\u001b[0m\u001b[0;34m(\u001b[0m\u001b[0;34m)\u001b[0m\u001b[0;34m\u001b[0m\u001b[0;34m\u001b[0m\u001b[0m\n\u001b[0m\u001b[1;32m   1120\u001b[0m \u001b[0;34m\u001b[0m\u001b[0m\n\u001b[1;32m   1121\u001b[0m \u001b[0;34m\u001b[0m\u001b[0m\n",
      "\u001b[0;32m~/ds/eme/pro/my_project_env/lib/python3.6/site-packages/nltk/downloader.py\u001b[0m in \u001b[0;36mrun\u001b[0;34m(self)\u001b[0m\n\u001b[1;32m   1141\u001b[0m                 \u001b[0;34m\"q) Quit\"\u001b[0m\u001b[0;34m,\u001b[0m\u001b[0;34m\u001b[0m\u001b[0;34m\u001b[0m\u001b[0m\n\u001b[1;32m   1142\u001b[0m             )\n\u001b[0;32m-> 1143\u001b[0;31m             \u001b[0muser_input\u001b[0m \u001b[0;34m=\u001b[0m \u001b[0minput\u001b[0m\u001b[0;34m(\u001b[0m\u001b[0;34m\"Downloader> \"\u001b[0m\u001b[0;34m)\u001b[0m\u001b[0;34m.\u001b[0m\u001b[0mstrip\u001b[0m\u001b[0;34m(\u001b[0m\u001b[0;34m)\u001b[0m\u001b[0;34m\u001b[0m\u001b[0;34m\u001b[0m\u001b[0m\n\u001b[0m\u001b[1;32m   1144\u001b[0m             \u001b[0;32mif\u001b[0m \u001b[0;32mnot\u001b[0m \u001b[0muser_input\u001b[0m\u001b[0;34m:\u001b[0m\u001b[0;34m\u001b[0m\u001b[0;34m\u001b[0m\u001b[0m\n\u001b[1;32m   1145\u001b[0m                 \u001b[0mprint\u001b[0m\u001b[0;34m(\u001b[0m\u001b[0;34m)\u001b[0m\u001b[0;34m\u001b[0m\u001b[0;34m\u001b[0m\u001b[0m\n",
      "\u001b[0;32m~/ds/eme/pro/my_project_env/lib/python3.6/site-packages/ipykernel/kernelbase.py\u001b[0m in \u001b[0;36mraw_input\u001b[0;34m(self, prompt)\u001b[0m\n\u001b[1;32m    861\u001b[0m             \u001b[0mself\u001b[0m\u001b[0;34m.\u001b[0m\u001b[0m_parent_ident\u001b[0m\u001b[0;34m,\u001b[0m\u001b[0;34m\u001b[0m\u001b[0;34m\u001b[0m\u001b[0m\n\u001b[1;32m    862\u001b[0m             \u001b[0mself\u001b[0m\u001b[0;34m.\u001b[0m\u001b[0m_parent_header\u001b[0m\u001b[0;34m,\u001b[0m\u001b[0;34m\u001b[0m\u001b[0;34m\u001b[0m\u001b[0m\n\u001b[0;32m--> 863\u001b[0;31m             \u001b[0mpassword\u001b[0m\u001b[0;34m=\u001b[0m\u001b[0;32mFalse\u001b[0m\u001b[0;34m,\u001b[0m\u001b[0;34m\u001b[0m\u001b[0;34m\u001b[0m\u001b[0m\n\u001b[0m\u001b[1;32m    864\u001b[0m         )\n\u001b[1;32m    865\u001b[0m \u001b[0;34m\u001b[0m\u001b[0m\n",
      "\u001b[0;32m~/ds/eme/pro/my_project_env/lib/python3.6/site-packages/ipykernel/kernelbase.py\u001b[0m in \u001b[0;36m_input_request\u001b[0;34m(self, prompt, ident, parent, password)\u001b[0m\n\u001b[1;32m    891\u001b[0m             \u001b[0;32mexcept\u001b[0m \u001b[0mKeyboardInterrupt\u001b[0m\u001b[0;34m:\u001b[0m\u001b[0;34m\u001b[0m\u001b[0;34m\u001b[0m\u001b[0m\n\u001b[1;32m    892\u001b[0m                 \u001b[0;31m# re-raise KeyboardInterrupt, to truncate traceback\u001b[0m\u001b[0;34m\u001b[0m\u001b[0;34m\u001b[0m\u001b[0;34m\u001b[0m\u001b[0m\n\u001b[0;32m--> 893\u001b[0;31m                 \u001b[0;32mraise\u001b[0m \u001b[0mKeyboardInterrupt\u001b[0m\u001b[0;34m(\u001b[0m\u001b[0;34m\"Interrupted by user\"\u001b[0m\u001b[0;34m)\u001b[0m \u001b[0;32mfrom\u001b[0m \u001b[0;32mNone\u001b[0m\u001b[0;34m\u001b[0m\u001b[0;34m\u001b[0m\u001b[0m\n\u001b[0m\u001b[1;32m    894\u001b[0m             \u001b[0;32melse\u001b[0m\u001b[0;34m:\u001b[0m\u001b[0;34m\u001b[0m\u001b[0;34m\u001b[0m\u001b[0m\n\u001b[1;32m    895\u001b[0m                 \u001b[0;32mbreak\u001b[0m\u001b[0;34m\u001b[0m\u001b[0;34m\u001b[0m\u001b[0m\n",
      "\u001b[0;31mKeyboardInterrupt\u001b[0m: Interrupted by user"
     ]
    }
   ],
   "source": [
    "import nltk\n",
    "nltk.download()"
   ]
  },
  {
   "cell_type": "code",
   "execution_count": 10,
   "metadata": {},
   "outputs": [
    {
     "name": "stderr",
     "output_type": "stream",
     "text": [
      "[nltk_data] Downloading package averaged_perceptron_tagger to\n",
      "[nltk_data]     /home/alexei/nltk_data...\n",
      "[nltk_data]   Unzipping taggers/averaged_perceptron_tagger.zip.\n"
     ]
    },
    {
     "data": {
      "text/plain": [
       "True"
      ]
     },
     "execution_count": 10,
     "metadata": {},
     "output_type": "execute_result"
    }
   ],
   "source": [
    "nltk.download('averaged_perceptron_tagger')"
   ]
  },
  {
   "cell_type": "code",
   "execution_count": 27,
   "metadata": {},
   "outputs": [
    {
     "name": "stderr",
     "output_type": "stream",
     "text": [
      "[nltk_data] Downloading package gutenberg to /home/alexei/nltk_data...\n",
      "[nltk_data]   Unzipping corpora/gutenberg.zip.\n"
     ]
    },
    {
     "data": {
      "text/plain": [
       "True"
      ]
     },
     "execution_count": 27,
     "metadata": {},
     "output_type": "execute_result"
    }
   ],
   "source": [
    "nltk.download('gutenberg')"
   ]
  },
  {
   "cell_type": "code",
   "execution_count": null,
   "metadata": {},
   "outputs": [],
   "source": [
    "nltk.download('genesis')"
   ]
  },
  {
   "cell_type": "markdown",
   "metadata": {},
   "source": [
    "<h1>Working with text!</h1>\n"
   ]
  },
  {
   "cell_type": "markdown",
   "metadata": {},
   "source": [
    "<h2>Sentiment Analysis</h2>\n",
    "Identify entities and emotions in a sentence and use these to determine if the entity is being viewed positively or negatively"
   ]
  },
  {
   "cell_type": "markdown",
   "metadata": {},
   "source": [
    "<h3>Easy examples</h3>\n",
    "<li>I had an <b style=\"color:green\">excellent</b> souffle at the restaurant Cavity Maker</li>\n",
    "<li>Excellent is a positive word for both the souffle as well as for the restaurant</li>"
   ]
  },
  {
   "cell_type": "markdown",
   "metadata": {},
   "source": [
    "<h3>Not so easy examples</h3>\n",
    "<h4>Often, looking at words alone is not enough to figure out the sentiment</h4>\n",
    "<li><i>The Girl on the Train is an <span style=\"color:green\">excellent</span> book for a ‘stuck at home’ snow day</i></li> This one is easy since it includes an explicit positive opinion using a positive word\n",
    "<li><i>The Girl on the Train is an <span style=\"color:green\">excellent</span> book for using as a liner for your cat’s litter box</i></li> Not so simple! The positive word \"excellent\" is used with a negative connotation. \n",
    "<li><i>The Girl on the Train is <span style=\"color:green\">better</span> than Gone Girl</i></li> The positive word is used as a comparator. Whether the writer likes The Girl on the Train or not depends on what he or she thinks of Gone Girl"
   ]
  },
  {
   "cell_type": "markdown",
   "metadata": {},
   "source": [
    "<h4>Bottom line</h4>\n",
    "Sentiment analysis is generally a starting point in analyzing a text and is then coupled with other techniques (e.g., topic analysis)"
   ]
  },
  {
   "cell_type": "markdown",
   "metadata": {},
   "source": [
    "<h2>Sentiment analysis is usually done using a corpus of positive and negative words</h2>\n",
    "<li>Some sources compile lists of positive and negative words\n",
    "<li>Others include the polarity - the degree of positivity or negativity - of each word"
   ]
  },
  {
   "cell_type": "markdown",
   "metadata": {},
   "source": [
    "<h2>Sources of sentiment coded words</h2>\n",
    "<ol>\n",
    "<li>Hu and Liu's sentiment analysis lexicon: words coded as either positive or negative</li>\n",
    "<ul>\n",
    "<li>http://ptrckprry.com/course/ssd/data/positive-words.txt\n",
    "<li>http://ptrckprry.com/course/ssd/data/negative-words.txt\n",
    "</ul>\n",
    "<li>NRC Emotion Lexicon: words coded into emotional categories (many languages)</li>\n",
    "<ul>\n",
    "<li>http://saifmohammad.com/WebPages/NRC-Emotion-Lexicon.htm</li>\n",
    "</ul>\n",
    "<li>SentiWordNet: Lists of words weighted by positive or negative sentiment. Includes guidance on how to use the words</li>\n",
    "<ul>\n",
    "<li>http://sentiwordnet.isti.cnr.it/</li>\n",
    "</ul>\n",
    "<li>Vadar Sentiment tool: 7800 words with positive or negative polarity</li>\n",
    "<ul>\n",
    "<li>Included with python nltk</li>\n",
    "</ul>\n",
    "</ol>"
   ]
  },
  {
   "cell_type": "markdown",
   "metadata": {},
   "source": [
    "<h2>Our examples</h2>\n",
    "<li>Compiled set of 15 reviews each of four neighborhood restaurants\n",
    "<li>Presidential inaugural addresses (from Washington to Trump)\n",
    "<li>Some data from yelp (very limited!)"
   ]
  },
  {
   "cell_type": "markdown",
   "metadata": {},
   "source": [
    "<h3>Simple sentiment analysis</h3>\n",
    "Compute the proportion of positive and negative words in a text"
   ]
  },
  {
   "cell_type": "code",
   "execution_count": null,
   "metadata": {},
   "outputs": [],
   "source": [
    "def get_words(url):\n",
    "    import requests\n",
    "    words = requests.get(url).content.decode('latin-1')\n",
    "    word_list = words.split('\\n')\n",
    "    index = 0\n",
    "    while index < len(word_list):\n",
    "        word = word_list[index]\n",
    "        if ';' in word or not word:\n",
    "            word_list.pop(index)\n",
    "        else:\n",
    "            index+=1\n",
    "    return word_list\n",
    "\n",
    "#Get lists of positive and negative words\n",
    "p_url = 'http://ptrckprry.com/course/ssd/data/positive-words.txt'\n",
    "n_url = 'http://ptrckprry.com/course/ssd/data/negative-words.txt'\n",
    "positive_words = get_words(p_url)\n",
    "negative_words = get_words(n_url)"
   ]
  },
  {
   "cell_type": "markdown",
   "metadata": {},
   "source": [
    "<h4>Read the text being analyzed and count the proportion of positive and negative words in the text</h4>\n"
   ]
  },
  {
   "cell_type": "code",
   "execution_count": null,
   "metadata": {},
   "outputs": [],
   "source": [
    "with open('data/community.txt','r') as f:\n",
    "    community = f.read()\n",
    "with open('data/le_monde.txt','r') as f:\n",
    "    le_monde = f.read()\n"
   ]
  },
  {
   "cell_type": "markdown",
   "metadata": {},
   "source": [
    "<h4>Compute sentiment by looking at the proportion of positive and negative words in the text</h4>"
   ]
  },
  {
   "cell_type": "code",
   "execution_count": null,
   "metadata": {},
   "outputs": [],
   "source": [
    "from nltk import word_tokenize\n",
    "cpos = cneg = lpos = lneg = 0\n",
    "for word in word_tokenize(community):\n",
    "    if word in positive_words:\n",
    "        cpos+=1\n",
    "    if word in negative_words:\n",
    "        cneg+=1\n",
    "for word in word_tokenize(le_monde):\n",
    "    if word in positive_words:\n",
    "        lpos+=1\n",
    "    if word in negative_words:\n",
    "        lneg+=1\n",
    "print(\"community {0:1.2f}%\\t {1:1.2f}%\\t {2:1.2f}%\".format(cpos/len(word_tokenize(community))*100,\n",
    "                                                        cneg/len(word_tokenize(community))*100,\n",
    "                                                        (cpos-cneg)/len(word_tokenize(community))*100))\n",
    "print(\"le monde  {0:1.2f}%\\t {1:1.2f}%\\t {2:1.2f}%\".format(lpos/len(word_tokenize(le_monde))*100,\n",
    "                                                        lneg/len(word_tokenize(le_monde))*100,\n",
    "                                                        (lpos-lneg)/len(word_tokenize(le_monde))*100))\n"
   ]
  },
  {
   "cell_type": "markdown",
   "metadata": {},
   "source": [
    "<h2>Simple sentiment analysis using NRC data</h2>\n",
    "<li>NRC data codifies words with emotions</li>\n",
    "<li>14,182 words are coded into 2 sentiments and 8 emotions</li>\n"
   ]
  },
  {
   "cell_type": "markdown",
   "metadata": {},
   "source": [
    "<h4>For example, the word abandonment is associated with anger, fear, sadness and has a negative sentiment</h4>\n",
    "<li>abandoned\tanger\t1\n",
    "<li>abandoned\tanticipation\t0\n",
    "<li>abandoned\tdisgust\t0\n",
    "<li>abandoned\tfear\t1\n",
    "<li>abandoned\tjoy\t0\n",
    "<li>abandoned\tnegative\t1\n",
    "<li>abandoned\tpositive\t0\n",
    "<li>abandoned\tsadness\t1\n",
    "<li>abandoned\tsurprise\t0\n",
    "<li>abandoned\ttrust\t0"
   ]
  },
  {
   "cell_type": "markdown",
   "metadata": {},
   "source": [
    "<h4>Read the NRC sentiment data</h4>"
   ]
  },
  {
   "cell_type": "code",
   "execution_count": null,
   "metadata": {
    "collapsed": true
   },
   "outputs": [],
   "source": [
    "nrc = \"data/NRC-emotion-lexicon-wordlevel-alphabetized-v0.92.txt\"\n",
    "count=0\n",
    "emotion_dict=dict()\n",
    "with open(nrc,'r') as f:\n",
    "    all_lines = list()\n",
    "    for line in f:\n",
    "        if count < 46:\n",
    "            count+=1\n",
    "            continue\n",
    "        line = line.strip().split('\\t')\n",
    "        if int(line[2]) == 1:\n",
    "            if emotion_dict.get(line[0]):\n",
    "                emotion_dict[line[0]].append(line[1])\n",
    "            else:\n",
    "                emotion_dict[line[0]] = [line[1]]\n",
    "        "
   ]
  },
  {
   "cell_type": "markdown",
   "metadata": {},
   "source": [
    "<h4>Functionalize this</h4>"
   ]
  },
  {
   "cell_type": "code",
   "execution_count": null,
   "metadata": {
    "collapsed": true
   },
   "outputs": [],
   "source": [
    "def get_nrc_data():\n",
    "    nrc = \"data/NRC-emotion-lexicon-wordlevel-alphabetized-v0.92.txt\"\n",
    "    count=0\n",
    "    emotion_dict=dict()\n",
    "    with open(nrc,'r') as f:\n",
    "        all_lines = list()\n",
    "        for line in f:\n",
    "            if count < 46:\n",
    "                count+=1\n",
    "                continue\n",
    "            line = line.strip().split('\\t')\n",
    "            if int(line[2]) == 1:\n",
    "                if emotion_dict.get(line[0]):\n",
    "                    emotion_dict[line[0]].append(line[1])\n",
    "                else:\n",
    "                    emotion_dict[line[0]] = [line[1]]\n",
    "    return emotion_dict"
   ]
  },
  {
   "cell_type": "code",
   "execution_count": null,
   "metadata": {},
   "outputs": [],
   "source": [
    "emotion_dict = get_nrc_data()\n",
    "emotion_dict['abandoned']"
   ]
  },
  {
   "cell_type": "markdown",
   "metadata": {},
   "source": [
    "<h2>Analyzing yelp reviews</h2>\n",
    "<h4>Caveat: We're only looking at one review snippet for each restaurant</h4>\n",
    "<ol>\n",
    "<li>Download yelp python \"pip install yelp\"\n",
    "<li>Register with yelp https://www.yelp.com/developers/manage_api_keys (use anything for the host)\n",
    "<li>Copy the various keys into variables as below\n",
    "</ol>\n",
    "<h4>We'll see what we can figure out re reviews of restaurants close to Columbia</h4>\n",
    "<h4>First let's read in the yelp keys</h4>"
   ]
  },
  {
   "cell_type": "code",
   "execution_count": null,
   "metadata": {
    "collapsed": true
   },
   "outputs": [],
   "source": [
    "CONSUMER_KEY = \"\"\n",
    "CONSUMER_SECRET = \"\"\n",
    "TOKEN = \"\"\n",
    "TOKEN_SECRET = \"\""
   ]
  },
  {
   "cell_type": "markdown",
   "metadata": {},
   "source": [
    "<h2>I've saved my keys in a file and will use those. Don't run the next cell!</h2>"
   ]
  },
  {
   "cell_type": "code",
   "execution_count": null,
   "metadata": {},
   "outputs": [],
   "source": [
    "with open('yelp_keys.txt','r') as f:\n",
    "    count = 0\n",
    "    for line in f:\n",
    "        if count == 0:\n",
    "            CONSUMER_KEY = line.strip()\n",
    "        if count == 1:\n",
    "            CONSUMER_SECRET = line.strip()\n",
    "        if count == 2:\n",
    "            TOKEN = line.strip()\n",
    "        if count == 3:\n",
    "            TOKEN_SECRET = line.strip()\n",
    "        count+=1\n"
   ]
  },
  {
   "cell_type": "markdown",
   "metadata": {},
   "source": [
    "<h4>We need to do a few things</h4>\n",
    "<ul>\n",
    "<li>Get the latitude and longitude of our location\n",
    "<li>Set up the parameters for what data we want from yelp\n",
    "<li>Query yelp by passing authentication info as well as our parameters\n",
    "<li>Extract review snippets\n",
    "<li>And append into a containing (restaurant,review snippet) tuples\n",
    "</ul>"
   ]
  },
  {
   "cell_type": "code",
   "execution_count": null,
   "metadata": {
    "collapsed": true
   },
   "outputs": [],
   "source": [
    "#We'll use the get_lat_lng function we wrote way back in week 3\n",
    "def get_lat_lng(address):\n",
    "    url = 'https://maps.googleapis.com/maps/api/geocode/json?address='\n",
    "    url += address\n",
    "    import requests\n",
    "    response = requests.get(url)\n",
    "    if not (response.status_code == 200):\n",
    "        return None\n",
    "    data = response.json()\n",
    "    if not( data['status'] == 'OK'):\n",
    "        return None\n",
    "    main_result = data['results'][0]\n",
    "    geometry = main_result['geometry']\n",
    "    latitude = geometry['location']['lat']\n",
    "    longitude = geometry['location']['lng']\n",
    "    return latitude,longitude\n"
   ]
  },
  {
   "cell_type": "code",
   "execution_count": null,
   "metadata": {
    "collapsed": true
   },
   "outputs": [],
   "source": [
    "lat,long = get_lat_lng(\"Columbia University\")"
   ]
  },
  {
   "cell_type": "code",
   "execution_count": null,
   "metadata": {
    "collapsed": true
   },
   "outputs": [],
   "source": [
    "#Now set up our search parameters\n",
    "def set_search_parameters(lat,long,radius):\n",
    "  #See the Yelp API for more details\n",
    "    params = {}\n",
    "    params[\"term\"] = \"restaurant\"\n",
    "    params[\"ll\"] = \"{},{}\".format(str(lat),str(long))\n",
    "    params[\"radius_filter\"] = str(radius) #The distance around our point in metres\n",
    "    params[\"limit\"] = \"10\" #Limit ourselves to 10 results\n",
    " \n",
    "    return params"
   ]
  },
  {
   "cell_type": "code",
   "execution_count": null,
   "metadata": {},
   "outputs": [],
   "source": [
    "set_search_parameters(lat,long,200)"
   ]
  },
  {
   "cell_type": "markdown",
   "metadata": {},
   "source": [
    "<h4>Write the function that queries yelp. We'll use rauth library to handle authentication</h4>\n",
    "!pip install rauth"
   ]
  },
  {
   "cell_type": "code",
   "execution_count": null,
   "metadata": {
    "collapsed": true
   },
   "outputs": [],
   "source": [
    "def get_results(params):\n",
    "    import rauth\n",
    "    consumer_key = CONSUMER_KEY\n",
    "    consumer_secret = CONSUMER_SECRET\n",
    "    token = TOKEN\n",
    "    token_secret = TOKEN_SECRET\n",
    "\n",
    "    session = rauth.OAuth1Session(\n",
    "    consumer_key = consumer_key\n",
    "    ,consumer_secret = consumer_secret\n",
    "    ,access_token = token\n",
    "    ,access_token_secret = token_secret)\n",
    "\n",
    "    request = session.get(\"http://api.yelp.com/v2/search\",params=params)\n",
    "    #Transforms the JSON API response into a Python dictionary\n",
    "    data = request.json()\n",
    "    session.close()\n",
    "\n",
    "    return data\n"
   ]
  },
  {
   "cell_type": "code",
   "execution_count": null,
   "metadata": {},
   "outputs": [],
   "source": [
    "#Get the results\n",
    "response = get_results(set_search_parameters(get_lat_lng(\"Community Food and Juice\")[0],get_lat_lng(\"Community Food and Juice\")[1],200))"
   ]
  },
  {
   "cell_type": "markdown",
   "metadata": {},
   "source": [
    "<h4>Extract snippets</h4>"
   ]
  },
  {
   "cell_type": "code",
   "execution_count": null,
   "metadata": {},
   "outputs": [],
   "source": [
    "all_snippets = list()\n",
    "for business in response['businesses']:\n",
    "    name = business['name']\n",
    "    snippet = business['snippet_text']\n",
    "    id = business['id']\n",
    "    all_snippets.append((id,name,snippet))\n",
    "all_snippets"
   ]
  },
  {
   "cell_type": "markdown",
   "metadata": {},
   "source": [
    "<h4>Functionalize this</h4>\n"
   ]
  },
  {
   "cell_type": "code",
   "execution_count": null,
   "metadata": {},
   "outputs": [],
   "source": [
    "def get_snippets(response):\n",
    "    all_snippets = list()\n",
    "    for business in response['businesses']:\n",
    "        name = business['name']\n",
    "        snippet = business['snippet_text']\n",
    "        id = business['id']\n",
    "        all_snippets.append((id,name,snippet))\n",
    "    return all_snippets\n"
   ]
  },
  {
   "cell_type": "markdown",
   "metadata": {},
   "source": [
    "<h2>A function that analyzes emotions</h2>"
   ]
  },
  {
   "cell_type": "code",
   "execution_count": null,
   "metadata": {},
   "outputs": [],
   "source": [
    "def emotion_analyzer(text,emotion_dict=emotion_dict):\n",
    "    #Set up the result dictionary\n",
    "    emotions = {x for y in emotion_dict.values() for x in y}\n",
    "    emotion_count = dict()\n",
    "    for emotion in emotions:\n",
    "        emotion_count[emotion] = 0\n",
    "\n",
    "    #Analyze the text and normalize by total number of words\n",
    "    total_words = len(text.split())\n",
    "    for word in text.split():\n",
    "        if emotion_dict.get(word):\n",
    "            for emotion in emotion_dict.get(word):\n",
    "                emotion_count[emotion] += 1/len(text.split())\n",
    "    return emotion_count"
   ]
  },
  {
   "cell_type": "markdown",
   "metadata": {},
   "source": [
    "<h4>Now we can analyze the emotional content of the review snippets</h4>"
   ]
  },
  {
   "cell_type": "code",
   "execution_count": null,
   "metadata": {},
   "outputs": [],
   "source": [
    "print(\"%-12s %1s\\t%1s %1s %1s %1s   %1s %1s %1s %1s\"%(\n",
    "        \"restaurant\",\"fear\",\"trust\",\"negative\",\"positive\",\"joy\",\"disgust\",\"anticip\",\n",
    "        \"sadness\",\"surprise\"))\n",
    "        \n",
    "for snippet in all_snippets:\n",
    "    text = snippet[2]\n",
    "    result = emotion_analyzer(text)\n",
    "    print(\"%-12s %1.2f\\t%1.2f\\t%1.2f\\t%1.2f\\t%1.2f\\t%1.2f\\t%1.2f\\t%1.2f\\t%1.2f\"%(\n",
    "        snippet[1][0:10],result['fear'],result['trust'],\n",
    "          result['negative'],result['positive'],result['joy'],result['disgust'],\n",
    "          result['anticipation'],result['sadness'],result['surprise']))\n"
   ]
  },
  {
   "cell_type": "markdown",
   "metadata": {},
   "source": [
    "<h4>Let's functionalize this</h4>"
   ]
  },
  {
   "cell_type": "code",
   "execution_count": null,
   "metadata": {},
   "outputs": [],
   "source": [
    "def comparative_emotion_analyzer(text_tuples):\n",
    "    print(\"%-20s %1s\\t%1s %1s %1s %1s   %1s %1s %1s %1s\"%(\n",
    "            \"restaurant\",\"fear\",\"trust\",\"negative\",\"positive\",\"joy\",\"disgust\",\"anticip\",\n",
    "            \"sadness\",\"surprise\"))\n",
    "        \n",
    "    for text_tuple in text_tuples:\n",
    "        text = text_tuple[2] \n",
    "        result = emotion_analyzer(text)\n",
    "        print(\"%-20s %1.2f\\t%1.2f\\t%1.2f\\t%1.2f\\t%1.2f\\t%1.2f\\t%1.2f\\t%1.2f\\t%1.2f\"%(\n",
    "            text_tuple[1][0:20],result['fear'],result['trust'],\n",
    "              result['negative'],result['positive'],result['joy'],result['disgust'],\n",
    "              result['anticipation'],result['sadness'],result['surprise']))\n",
    "        \n",
    "#And test it        \n",
    "comparative_emotion_analyzer(all_snippets)"
   ]
  },
  {
   "cell_type": "markdown",
   "metadata": {},
   "source": [
    "<h4>And let's functionalize the yelp stuff as well</h4>"
   ]
  },
  {
   "cell_type": "code",
   "execution_count": null,
   "metadata": {},
   "outputs": [],
   "source": [
    "def analyze_nearby_restaurants(address,radius):\n",
    "    lat,long = get_lat_lng(address)\n",
    "    params = set_search_parameters(lat,long,radius)\n",
    "    response = get_results(params)\n",
    "    snippets = get_snippets(response)\n",
    "    comparative_emotion_analyzer(snippets)\n",
    "\n",
    "#And test it    \n",
    "analyze_nearby_restaurants(\"Community Food and Juice\",200)\n",
    "    "
   ]
  },
  {
   "cell_type": "code",
   "execution_count": null,
   "metadata": {},
   "outputs": [],
   "source": [
    "#Test it on some other place\n",
    "analyze_nearby_restaurants(\"221 Baker Street\",200)"
   ]
  },
  {
   "cell_type": "markdown",
   "metadata": {},
   "source": [
    "<h2>Simple analysis: Word Clouds</h2>"
   ]
  },
  {
   "cell_type": "markdown",
   "metadata": {},
   "source": [
    "<h4>Let's see what sort of words the snippets use</h4>\n",
    "<li>First we'll combine all snippets into one string\n",
    "<li>Then we'll generate a word cloud using the words in the string\n",
    "<li>You may need to install wordcloud using pip\n",
    "<li>pip install wordcloud"
   ]
  },
  {
   "cell_type": "code",
   "execution_count": null,
   "metadata": {},
   "outputs": [],
   "source": [
    "all_snippets"
   ]
  },
  {
   "cell_type": "code",
   "execution_count": null,
   "metadata": {},
   "outputs": [],
   "source": [
    "text=''\n",
    "for snippet in all_snippets:\n",
    "    text+=snippet[2]\n",
    "text"
   ]
  },
  {
   "cell_type": "code",
   "execution_count": null,
   "metadata": {},
   "outputs": [],
   "source": [
    "from wordcloud import WordCloud, STOPWORDS\n",
    "import matplotlib.pyplot as plt\n",
    "%matplotlib inline\n",
    "\n",
    "wordcloud = WordCloud(stopwords=STOPWORDS,background_color='white',width=3000,height=3000).generate(text)\n",
    "\n",
    "\n",
    "plt.imshow(wordcloud)\n",
    "plt.axis('off')\n",
    "plt.show()"
   ]
  },
  {
   "cell_type": "markdown",
   "metadata": {},
   "source": [
    "<h2>Let's do a detailed comparison of local restaurants</h2>\n",
    "<h4>I've saved a few reviews for each restaurant in four directories</h4>\n",
    "<h4>We'll use the PlainTextCorpusReader to read these directories</h4>\n",
    "<li>PlainTextCorpusReader reads all matching files in a directory and saves them by file-ids"
   ]
  },
  {
   "cell_type": "code",
   "execution_count": 5,
   "metadata": {},
   "outputs": [],
   "source": [
    "import nltk\n",
    "from nltk.corpus import PlaintextCorpusReader\n",
    "community_root = \"data/community\"\n",
    "le_monde_root = \"data/le_monde\"\n",
    "community_files = \"community.*\"\n",
    "le_monde_files = \"le_monde.*\"\n",
    "heights_root = \"data/heights\"\n",
    "heights_files = \"heights.*\"\n",
    "amigos_root = \"data/amigos\"\n",
    "amigos_files = \"amigos.*\"\n",
    "community_data = PlaintextCorpusReader(community_root,community_files)\n",
    "le_monde_data = PlaintextCorpusReader(le_monde_root,le_monde_files)\n",
    "heights_data = PlaintextCorpusReader(heights_root,heights_files)\n",
    "amigos_data = PlaintextCorpusReader(amigos_root,amigos_files)"
   ]
  },
  {
   "cell_type": "code",
   "execution_count": 6,
   "metadata": {},
   "outputs": [
    {
     "data": {
      "text/plain": [
       "['amigos.1',\n",
       " 'amigos.10',\n",
       " 'amigos.11',\n",
       " 'amigos.12',\n",
       " 'amigos.13',\n",
       " 'amigos.14',\n",
       " 'amigos.15',\n",
       " 'amigos.16',\n",
       " 'amigos.17',\n",
       " 'amigos.18',\n",
       " 'amigos.19',\n",
       " 'amigos.2',\n",
       " 'amigos.20',\n",
       " 'amigos.21',\n",
       " 'amigos.3',\n",
       " 'amigos.4',\n",
       " 'amigos.5',\n",
       " 'amigos.6',\n",
       " 'amigos.7',\n",
       " 'amigos.8',\n",
       " 'amigos.9']"
      ]
     },
     "execution_count": 6,
     "metadata": {},
     "output_type": "execute_result"
    }
   ],
   "source": [
    "amigos_data.fileids()"
   ]
  },
  {
   "cell_type": "code",
   "execution_count": 7,
   "metadata": {},
   "outputs": [
    {
     "data": {
      "text/plain": [
       "'I see all these bad reviews, but speaking for myself, I\\'ve never gotten bad service here, or had a negative experience in the least--and I\\'m here about once a week.\\n\\nThe atmosphere is fun and laid back, but not in a divey way. I\\'ve never had a bad dish, although some are merely average; however, a few are A+: THE QUESADILLAS, the Queso Fundido, and the margaritas are among the best I\\'ve ever had. The guacamole is above average.\\n\\nAlso, they have really great specials during the week--I believe one day is something like $21.95 for unlimited quesadillas + 5 margaritas? That sounds so impossible even as I type it but I\\'m pretty sure that\\'s correct\\nMy friend and I decided to go out on Cinco de Mayo but we wanted something close to home with a nice vibe, people and good music and food. I remember a friend telling me about this place a while back. So I decided to make a reservation.  Not only did we get there and find that it was packed BUT the receptionist explained that since we did make reservations,  we were priority on the list. \\n\\nWe found some seats at the bar and got some drinks. No more than 20 minutes later were we seated. The staff was great,  the food was great,  the drinks were AMAZING! The music was beautiful and the vibe was on point. \\n\\nI will DEFINITELY be going back with even more people! I love it!\\n\\nWe stopped at Amigos while walking the length of Broadway (yes, all 13 miles of it) and were craving a quick bite for lunch. It\\'s located on a cute and busy strip along Broadway, not far from Bank Street and a few doors down from the Seinfeld famous Tom\\'s Restaurant.  \\n\\nThey had both sidewalk and indoor seating available when we visited. We opted for indoor near the window. Service was prompt and courteous while we were here--no complaints at all. They provide complimentary chips and salsa which is always a pro.\\n\\nThe menu is ample--for both food and drink options. Definitely a TON of specials (each day has a different food special, brunch specials on the weekends, $3 margaritas during the day). Definitely a place you can get a great bang for your buck.\\n\\nWe both opted for quesadillas (shrimp and chicken) and were surprised to see it came with three medium sized quesadillas, along with sides of rice and beans. Huge portion! Quality was average I\\'d say, we were satisfied but not blown away. Would definitely come here again for happy hour specials though--looked like a fun spot!\\nYeah what a terrible place. The waiter hated us from the second we walked in. We had to ask no less than 5 times over the course of our meal for water refills, at least 3 for more chips, and I had to go get the check myself. Possibly the most blasé service I have had ever, but at least in the last long time. \\n\\nThe food was decent, though, which is surprising considering the horrific service. My shrimp enchiladas had a good flavor if they were drenched in oil. Guac was good and you can customize the spiciness and ingredients. The spicy margarita was really top notch, and at $11 I\\'ve gotten to the point where I think that\\'s a fair price for a cocktail.\\n\\nWhen I went to retrieve the check since we had been sitting for a good 20 minutes, I told the manager what a terrible experience we had. He was like, \"Oh, I\\'m so sorry, service is top notch, I\\'m so sorry, please come back and see us again\" asking for my name and stuff. Yeah I mean I won\\'t be back because I don\\'t live in NY but I would never go back anyway.\\nThe worst service that I have had in a long time. We waited for 20 minutes, had to seat ourselves and get our own menus, and ended up leaving without even getting spoken to or given water. Won\\'t be coming back.\\nAfter walking around the area, we decided to give this place a try. We had a choice of either sitting at the booths or sitting near the bar. We opted to sit near the bar and was immediately seated. The back of the restaurant and the restaurant looked a little sketchy. Daughter ordered the Arroz Con Pollo and thought it was a bit bland. It tasted like Chicken Fried Rice. Hubs ordered the Tilapia Tacos and thought it was pretty good. I liked the fact that the tilapia was fried and the fish wasn\\'t overcooked. I ordered the Enchilada with Salsa Verde and it was spicy and pretty good. Daughter ended up eating my order because it was tastier. She had a little reaction on her lip and scared herself because she thought there was peanuts in my Enchilada entree. We asked our waiter and he went to the kitchen to make sure that there wasn\\'t any in our orders. He reassured us that everything was safe. Turned out that she didn\\'t get a reaction to peanuts. \\n\\nMy enchilada was very spicy and her lips ended up feeling tingly from it and it scared her. But, the waiter was very nice in reassuring her that the food was safe. Service was very friendly, though. Will return to try other items when in the area.\\nwo stars for Amigos : ( \\n\\nI\\'m here in NYC visiting friends for a couple of days . My best friends works in Columbia university area so we decided to have lunch there ! The famous Tom\\'s restaurant was packed so we chose Amigos ! They had happy hour & of course lunch specials .\\n\\nSitting at the bar ... We were overlooked several times by the bartender . He finally came over & dropped off menus & Walked off ... *welcome to New York * lol . Moments like that I wish southern charm & manners ! He eventually came back & asked if we wanted drinks . Water first then we ordered margaritas. They were on special for $5. The size was very small . The quality of the tequila was very much a cheaper option . Ehhh could have passed on that . \\n\\nOn to food ... I ordered the quesadilla special , it came with rice & beans . We sat there for about 15 mins after ordering & no one brought us chips & salsa . We asked & his reply was \" it\\'s only for customers eating food but since I ordered food we could get some . \" I read over the menu to see if that was in small print somewhere .My friends decided they would just nibble on chips until they figured out what they wanted . Owen , who was rude but hey , guess it\\'s the NY thing, assumed my friend was fasting because she didn\\'t order anything . *side eye * we asked for his name & we talked for a bit . He was very cranky because he normally doesn\\'t work that shift & implied he makes more during breakfast lol . Sigh .... So that was the reason behind crappy service ???\\n\\nMy best friend raved about the service & this place prior to walking in . Her usual person wasn\\'t there & she apologized for my experience . I didn\\'t finish my food because the rice & beans seemed microwaved . You can\\'t really mess up a quesadilla ... It was ehhhh ok . Overall, I wouldn\\'t go back to Amigos unless it was the last option in the area . The drinks were subpar ... I left with a little buzz & the urge to eat something else . There\\'s tons of other food options in the Colombia university area to try !\\nAmigos is a nice little Mexican restaurant on the UWS, and conveniently located a block away from work. The first time I went there I had a quesadilla which was just blah. How can someone mess up a quesadilla you might ask? Same question I had. Needless to say, I hadn\\'t gone back to Amigos in over a year. \\n\\nI recently went back with a group of coworkers for drinks and had a more pleasant experience. We went around 4pm on a Friday and the restaurant was pretty empty. I had a peach and a strawberry margarita on the rocks, which were about $5-6. While at first they didn\\'t taste very strong, it definitely caught back up to me later. The strawberry tasted like any stars every margarita that you\\'ve ever had while the peach was actually pretty delicious. We also ordered the guacamole with pineapple and pomegranate and WOW. It was so delicious and the pineapple and pomegranate were the perfect touch. \\n\\nIf you want cheap margaritas and amazing guac, check out Amigos.\\nLate night happy hour is amazing with Erik! He\\'s the best bartender--so attentive and full of energy! \\n\\nCome to Amigos for a great time with great people!\\nMy cousin recommended i try this place out...she knows i love margaritas and burritos. I wasted no time paying Amigos a visit.  It\\'s a really cute place, very spacious. i was somewhat surprised at how big it was. After being seated i was given the complimentary chip and salsa. The chips were warm what i feel is always an excellent touch. I started off with a coconut margarita and it came in a little mason jar. I was a little taken back because it was so small, maybe the size of the glass threw me off. None the less it was very taste, and i had 2 additional. I was craving nachos, but i ordered the fish tacos. The order came with 3 tacos and a side of rice and beans.The portion was a great size i couldn\\'t finish it all. The tacos weren\\'t anything to go cray about, but they were good for the most part. I\\'ll def be back. It\\'s a kool place to have dinner with friends are just grab a few drinks. The waiter was very attentive...i didn\\'t have to flag him down for anything because he constantly checked on my table\\nand those surrounding\\nCame here on a Thursday night with some friends for drinks and food. The place is okay, the decor is cute but the place is getting a bit withered down. The staff is really friendly. The only thing I didn\\'t like is that every time we asked our waiter for something he kind of acted annoyed at times. I had a chicken quesadilla it was really good. I also had two frozen margaritas which were also very delicious but small in size.\\nThis is so far from the REAL Mexican food I\\'m used to in California. Fortunately, the service is very nice. I do enjoy the chips, just wish their salsa was spicier and more flavorful.\\n\\nMy girl loves the food and she\\'s from California as well, I guess she must have been away for too long. Her favorite is the carnitas tacos.\\n\\nWe just had brunch there today and it was so-so. I had the chilaquiles... My friend loved his torta.\\nI thought this place was great, friendly service & reasonable prices. lunch special $10!  I had a quesadilla.  It was good , I don\\'t understand these reviewers who say differently. Enough of you bratty California clowns  - no good mexican in NYC - GO back there.\\nAmigos is so much fun! I went for the quesadillas and margarita Tuesday night special. The quesadillas were okay but the margaritas are definitely worth it! Very strong! We had Matt as our waiter and he was awesome! The manager is so sweet!\\nNah, terrible service.\\n\\nAsked for a drink and she said and I quote \"cry about it, cry about it. Shut up.\"\\n\\nAll I asked for was another drink, I was not saying anything else.  Not cool at all. Solid deal, but mean people. \\nOne Of The Worst Restaurant I\\'ve Ever Been To In My Life! The Waiter Was So Rude. After My Friend And I Sit Down. He Came Over Unfriendly! Asking Are You Ready? Seemed As If He Had Something Better To Do? The Way He Was Acting. We Just Gotten Up In Left Before Ordering. Unbelievable! I Thought Your Going To Be Nice To Make Tips? No???? Never Again\\nThe food was ok the Guac was really tasty the drinks are ok the strawberry margarita was good and the bulldog was so so. The chicken chicharrón burrito I enjoyed a bit. Waiters were attentive and very nice.\\nOne of the worst Mexican restaurants! I love Mexican food and this is very inferior. We live across the street so we keep coming hoping it improves only to be repeatedly disappointed.\\nThey were good for a while when they first opened. It\\'s popular with the students I suppose, which is why they still have a lease with Columbia. Today the chips were burnt. The Queso fundido with chorizo was mostly chorizo. The guacamole didn\\'t taste like anything. The salsa is chopped tomatoes and not much else.\\nPlantains-only a few were ripe... it\\'s hopeless!\\nDo NOT go here if you\\'re looking for good Mexican food, or good food period. Went here with a friend and ate one of the worst meals I\\'ve had in a really long time. The fish bowl we ordered tasted like diluted tequila with a splash of juice -- drank about 1/5 of it. The fajitas I ordered were bland, and what flavor the chicken did have tasted like it came straight from a can. Rice was overlooked and dry, beans were mushy and tasteless. Ate about 1/4 of my food, and my friend, who ordered fish tacos, ate about the same because her dish was so bad. Service was also mediocre...\\n\\nTo top that off, i got sick from what little I ate! Had a stomach bug for about 36 hours :(\\nI was around the area and heard about the good drink and food specials so I decided to check this place out. There was no wait, which is always a plus.\\n\\nMy friend and I both had a frozen Mango Coronarita, which was inexpensive and strong as well. The service was a little slow, but I can make the exception because our waitress told us she just got employed the day before.\\n\\nWe had the guacamole chips and dip for an appetizer, which was pretty good. The best part about this place is that it has soooo many great food and drink specials-DAILY! Recommended for those who love unlimited drinks and sliders!\\nMy friend and I were starving and looking for a place with decently priced margaritas to celebrate the day before Cinco de Mayo. After stopping at a few places, we decided to take advantage of Amigos outdoor seating while we still could (we got to the restaurant at around 5pm). The outdoor tables get good sunlight in the afternoon and evening so we were very comfortable in the 60-something degree weather.\\nOur first happy surprise was our free 6 ounce margaritas we got for checking in on Foursquare. I am usually not a huge fan of frozen margs, but these were excellent and very strong, and the (optional) mango flavoring was a nice addition. Yeah, they\\'re small but they are only $5 (all day, except 11-1pm when they are $3!). I got the larger version later for $10 which is more than double the size of the small version. Before we even had a chance to order drinks, we were brought a basket of chips and chunky slsa, which was excellent and very flavorful.\\nMy friend and I were starving but were planning on drinking and dining for a few hours, so after we started off with the nachos topped with chorizo ($15). The nachos were HUGE and were almost too much for the both of us, but we manned (and womaned) up and finished the plate. There was no way we were going to eat anything else, so we just hung out outside for a while. \\nI ended up calling a couple other friends to join us, and we moved inside after it got chilly. My friend and I moved onto Bull Dogs (margaritas with an upside down coronita stuck inside), which ended up being a great decision. They were tasty and definitely not a bad deal at $10. My other friend split a fish bowl for $19 and while it was good, the jury is still out as to whether or not there was actually alcohol in it.\\nAll in all the drinks and food were good and it was a fun atmosphere. I could definitely see myself coming back for drinks at the bar with a girl friend, and I am already trying to wrangle up friends for brunch.\\nI  would have ordered another drink (we were there for about 6 hours) but the waitress never came back and by that time we were ready to go. Despite the slow service, the manager was very nice and friendly and checked up on up multiple times. Additionally, the manager ended up comping 2 small and 2 large margaritas at our table, instead of the 4 small margaritas we got from the Foursquare deal which was really nice and saved us $10.\\nAsk for Angela! She is awesome!\\nI will definitely be going back!\\n'"
      ]
     },
     "execution_count": 7,
     "metadata": {},
     "output_type": "execute_result"
    }
   ],
   "source": [
    "amigos_data.raw()"
   ]
  },
  {
   "cell_type": "markdown",
   "metadata": {},
   "source": [
    "<h4>We need to modify comparitive_emotion_analyzer to tell it where the restaurant name and the text is in the tuple</h4>"
   ]
  },
  {
   "cell_type": "code",
   "execution_count": 8,
   "metadata": {},
   "outputs": [
    {
     "ename": "NameError",
     "evalue": "name 'all_snippets' is not defined",
     "output_type": "error",
     "traceback": [
      "\u001b[0;31m---------------------------------------------------------------------------\u001b[0m",
      "\u001b[0;31mNameError\u001b[0m                                 Traceback (most recent call last)",
      "\u001b[0;32m<ipython-input-8-229854106595>\u001b[0m in \u001b[0;36m<module>\u001b[0;34m\u001b[0m\n\u001b[1;32m     13\u001b[0m \u001b[0;34m\u001b[0m\u001b[0m\n\u001b[1;32m     14\u001b[0m \u001b[0;31m#And test it\u001b[0m\u001b[0;34m\u001b[0m\u001b[0;34m\u001b[0m\u001b[0;34m\u001b[0m\u001b[0m\n\u001b[0;32m---> 15\u001b[0;31m \u001b[0mcomparative_emotion_analyzer\u001b[0m\u001b[0;34m(\u001b[0m\u001b[0mall_snippets\u001b[0m\u001b[0;34m)\u001b[0m\u001b[0;34m\u001b[0m\u001b[0;34m\u001b[0m\u001b[0m\n\u001b[0m",
      "\u001b[0;31mNameError\u001b[0m: name 'all_snippets' is not defined"
     ]
    }
   ],
   "source": [
    "def comparative_emotion_analyzer(text_tuples,name_location=1,text_location=2):\n",
    "    print(\"%-20s %1s\\t%1s %1s %1s %1s   %1s %1s %1s %1s\"%(\n",
    "            \"restaurant\",\"fear\",\"trust\",\"negative\",\"positive\",\"joy\",\"disgust\",\"anticip\",\n",
    "            \"sadness\",\"surprise\"))\n",
    "        \n",
    "    for text_tuple in text_tuples:\n",
    "        text = text_tuple[text_location] \n",
    "        result = emotion_analyzer(text)\n",
    "        print(\"%-20s %1.2f\\t%1.2f\\t%1.2f\\t%1.2f\\t%1.2f\\t%1.2f\\t%1.2f\\t%1.2f\\t%1.2f\"%(\n",
    "            text_tuple[name_location][0:20],result['fear'],result['trust'],\n",
    "              result['negative'],result['positive'],result['joy'],result['disgust'],\n",
    "              result['anticipation'],result['sadness'],result['surprise']))\n",
    "        \n",
    "#And test it        \n",
    "comparative_emotion_analyzer(all_snippets)"
   ]
  },
  {
   "cell_type": "code",
   "execution_count": null,
   "metadata": {},
   "outputs": [],
   "source": [
    "restaurant_data = [('community',community_data.raw()),('le monde',le_monde_data.raw())\n",
    "                  ,('heights',heights_data.raw()), ('amigos',amigos_data.raw())]\n",
    "comparative_emotion_analyzer(restaurant_data,0,1)"
   ]
  },
  {
   "cell_type": "markdown",
   "metadata": {},
   "source": [
    "<h2>Simple Analysis: Complexity</h2>\n",
    "<h4>We'll look at four complexity factors</h4>\n",
    "<li>average word length: longer words adds to complexity\n",
    "<li>average sentence length: longer sentences are more complex (unless the text is rambling!)\n",
    "<li>vocabulary: the ratio of unique words used to the total number of words (more variety, more complexity)"
   ]
  },
  {
   "cell_type": "markdown",
   "metadata": {},
   "source": [
    "<b>token:</b> A sequence (or group) of characters of interest. For e.g., in the below analysis, a token = a word\n",
    "<li>Generally: A token is the base unit of analysis</li>\n",
    "<li>So, the first step is to convert text into tokens and nltk text object</li>"
   ]
  },
  {
   "cell_type": "code",
   "execution_count": null,
   "metadata": {},
   "outputs": [],
   "source": [
    "#Construct tokens (words/sentences) from the text\n",
    "text = le_monde_data.raw()\n",
    "import nltk\n",
    "from nltk import sent_tokenize,word_tokenize \n",
    "sentences = nltk.Text(sent_tokenize(text))\n",
    "print(len(sentences))\n",
    "words = nltk.Text(word_tokenize(text))\n",
    "print(len(words))"
   ]
  },
  {
   "cell_type": "code",
   "execution_count": null,
   "metadata": {},
   "outputs": [],
   "source": [
    "num_chars=len(text)\n",
    "num_words=len(word_tokenize(text))\n",
    "num_sentences=len(sent_tokenize(text))\n",
    "vocab = {x.lower() for x in word_tokenize(text)}\n",
    "print(num_chars,int(num_chars/num_words),int(num_words/num_sentences),(len(vocab)/num_words))\n"
   ]
  },
  {
   "cell_type": "markdown",
   "metadata": {},
   "source": [
    "<h4>Functionalize this</h4>"
   ]
  },
  {
   "cell_type": "code",
   "execution_count": 20,
   "metadata": {},
   "outputs": [],
   "source": [
    "def get_complexity(text):\n",
    "    num_chars=len(text)\n",
    "    num_words=len(word_tokenize(text))\n",
    "    num_sentences=len(sent_tokenize(text))\n",
    "    vocab = {x.lower() for x in word_tokenize(text)}\n",
    "    return len(vocab),int(num_chars/num_words),int(num_words/num_sentences),len(vocab)/num_words"
   ]
  },
  {
   "cell_type": "code",
   "execution_count": 21,
   "metadata": {},
   "outputs": [
    {
     "data": {
      "text/plain": [
       "(756, 4, 13, 0.29110512129380056)"
      ]
     },
     "execution_count": 21,
     "metadata": {},
     "output_type": "execute_result"
    }
   ],
   "source": [
    "get_complexity(le_monde_data.raw())"
   ]
  },
  {
   "cell_type": "code",
   "execution_count": 22,
   "metadata": {},
   "outputs": [
    {
     "ename": "NameError",
     "evalue": "name 'restaurant_data' is not defined",
     "output_type": "error",
     "traceback": [
      "\u001b[0;31m---------------------------------------------------------------------------\u001b[0m",
      "\u001b[0;31mNameError\u001b[0m                                 Traceback (most recent call last)",
      "\u001b[0;32m<ipython-input-22-492d15e9da77>\u001b[0m in \u001b[0;36m<module>\u001b[0;34m\u001b[0m\n\u001b[0;32m----> 1\u001b[0;31m \u001b[0;32mfor\u001b[0m \u001b[0mtext\u001b[0m \u001b[0;32min\u001b[0m \u001b[0mrestaurant_data\u001b[0m\u001b[0;34m:\u001b[0m\u001b[0;34m\u001b[0m\u001b[0;34m\u001b[0m\u001b[0m\n\u001b[0m\u001b[1;32m      2\u001b[0m     \u001b[0;34m(\u001b[0m\u001b[0mvocab\u001b[0m\u001b[0;34m,\u001b[0m\u001b[0mword_size\u001b[0m\u001b[0;34m,\u001b[0m\u001b[0msent_size\u001b[0m\u001b[0;34m,\u001b[0m\u001b[0mvocab_to_text\u001b[0m\u001b[0;34m)\u001b[0m \u001b[0;34m=\u001b[0m \u001b[0mget_complexity\u001b[0m\u001b[0;34m(\u001b[0m\u001b[0mtext\u001b[0m\u001b[0;34m[\u001b[0m\u001b[0;36m1\u001b[0m\u001b[0;34m]\u001b[0m\u001b[0;34m)\u001b[0m\u001b[0;34m\u001b[0m\u001b[0;34m\u001b[0m\u001b[0m\n\u001b[1;32m      3\u001b[0m     \u001b[0mprint\u001b[0m\u001b[0;34m(\u001b[0m\u001b[0;34m\"{0:15s}\\t{1:1.2f}\\t{2:1.2f}\\t{3:1.2f}\\t{4:1.2f}\"\u001b[0m\u001b[0;34m.\u001b[0m\u001b[0mformat\u001b[0m\u001b[0;34m(\u001b[0m\u001b[0mtext\u001b[0m\u001b[0;34m[\u001b[0m\u001b[0;36m0\u001b[0m\u001b[0;34m]\u001b[0m\u001b[0;34m,\u001b[0m\u001b[0mvocab\u001b[0m\u001b[0;34m,\u001b[0m\u001b[0mword_size\u001b[0m\u001b[0;34m,\u001b[0m\u001b[0msent_size\u001b[0m\u001b[0;34m,\u001b[0m\u001b[0mvocab_to_text\u001b[0m\u001b[0;34m)\u001b[0m\u001b[0;34m)\u001b[0m\u001b[0;34m\u001b[0m\u001b[0;34m\u001b[0m\u001b[0m\n",
      "\u001b[0;31mNameError\u001b[0m: name 'restaurant_data' is not defined"
     ]
    }
   ],
   "source": [
    "for text in restaurant_data:\n",
    "    (vocab,word_size,sent_size,vocab_to_text) = get_complexity(text[1])\n",
    "    print(\"{0:15s}\\t{1:1.2f}\\t{2:1.2f}\\t{3:1.2f}\\t{4:1.2f}\".format(text[0],vocab,word_size,sent_size,vocab_to_text))"
   ]
  },
  {
   "cell_type": "markdown",
   "metadata": {},
   "source": [
    "<h4>We could do a word cloud comparison</h4>\n",
    "We'll remove short words and look only at words longer than 6 letters"
   ]
  },
  {
   "cell_type": "code",
   "execution_count": null,
   "metadata": {},
   "outputs": [],
   "source": [
    "texts = restaurant_data\n",
    "from wordcloud import WordCloud, STOPWORDS\n",
    "import matplotlib.pyplot as plt\n",
    "%matplotlib inline\n",
    "#Remove unwanted words\n",
    "#As we look at the cloud, we can get rid of words that don't make sense by adding them to this variable\n",
    "DELETE_WORDS = []\n",
    "def remove_words(text_string,DELETE_WORDS=DELETE_WORDS):\n",
    "    for word in DELETE_WORDS:\n",
    "        text_string = text_string.replace(word,' ')\n",
    "    return text_string\n",
    "\n",
    "#Remove short words\n",
    "MIN_LENGTH = 0\n",
    "def remove_short_words(text_string,min_length = MIN_LENGTH):\n",
    "    word_list = text_string.split()\n",
    "    for word in word_list:\n",
    "        if len(word) < min_length:\n",
    "            text_string = text_string.replace(' '+word+' ',' ',1)\n",
    "    return text_string\n",
    "\n",
    "\n",
    "#Set up side by side clouds\n",
    "COL_NUM = 2\n",
    "ROW_NUM = 2\n",
    "fig, axes = plt.subplots(ROW_NUM, COL_NUM, figsize=(12,12))\n",
    "\n",
    "for i in range(0,len(texts)):\n",
    "    text_string = remove_words(texts[i][1])\n",
    "    text_string = remove_short_words(text_string)\n",
    "    ax = axes[i%2]\n",
    "    ax = axes[i//2, i%2] #Use this if ROW_NUM >=2\n",
    "    ax.set_title(texts[i][0])\n",
    "    wordcloud = WordCloud(stopwords=STOPWORDS,background_color='white',width=1200,height=1000,max_words=20).generate(text_string)\n",
    "    ax.imshow(wordcloud)\n",
    "    ax.axis('off')\n",
    "plt.show()"
   ]
  },
  {
   "cell_type": "markdown",
   "metadata": {},
   "source": [
    "<h3>Comparing complexity of restaurant reviews won't get us anything useful</h3>\n",
    "<h3>Let's look at something more useful</h3>"
   ]
  },
  {
   "cell_type": "markdown",
   "metadata": {},
   "source": [
    "<h2>nltk: Python's natural language toolkit</h2>\n"
   ]
  },
  {
   "cell_type": "markdown",
   "metadata": {},
   "source": [
    "<h3>ntlk documentation link:</h3> http://www.nltk.org/api/nltk.html\n",
    "<h3>Commands cheat sheet</h3> https://blogs.princeton.edu/etc/files/2014/03/Text-Analysis-with-NLTK-Cheatsheet.pdf\n",
    "<h3>nltk book</h3>http://www.nltk.org/book/"
   ]
  },
  {
   "cell_type": "markdown",
   "metadata": {},
   "source": [
    "<h2>nltk contains a large corpora of pre-tokenized text</h2>\n",
    "Load it using the command:<p>\n",
    "nltk.download()\n",
    "\n",
    "    "
   ]
  },
  {
   "cell_type": "markdown",
   "metadata": {},
   "source": [
    "<h4>Import the corpora</h4>"
   ]
  },
  {
   "cell_type": "code",
   "execution_count": null,
   "metadata": {},
   "outputs": [],
   "source": [
    "from nltk.book import *"
   ]
  },
  {
   "cell_type": "markdown",
   "metadata": {},
   "source": [
    "<h1>Often, a comparitive analysis helps us understand text better</h1>\n",
    "<h2>Let's look at US Presidentinaugural speeches</h2>\n",
    "<h4>Copy the files 2013-Obama.txt and 2017-Trump.txt to the nltk_data/corpora/inaugural directory. nltk_data should be under your home directory</h4>"
   ]
  },
  {
   "cell_type": "code",
   "execution_count": null,
   "metadata": {},
   "outputs": [],
   "source": [
    "inaugural.fileids()"
   ]
  },
  {
   "cell_type": "code",
   "execution_count": null,
   "metadata": {},
   "outputs": [],
   "source": [
    "inaugural.raw('1861-Lincoln.txt')"
   ]
  },
  {
   "cell_type": "markdown",
   "metadata": {},
   "source": [
    "<h4>Let's look at the complexity of the speeches by four presidents</h4>"
   ]
  },
  {
   "cell_type": "code",
   "execution_count": null,
   "metadata": {},
   "outputs": [],
   "source": [
    "texts = [('trump',inaugural.raw('2017-Trump.txt')),\n",
    "         ('obama',inaugural.raw('2009-Obama.txt')+inaugural.raw('2013-Obama.txt')),\n",
    "         ('jackson',inaugural.raw('1829-Jackson.txt')+inaugural.raw('1833-Jackson.txt')),\n",
    "         ('washington',inaugural.raw('1789-Washington.txt')+inaugural.raw('1793-Washington.txt'))]\n",
    "for text in texts:\n",
    "    (vocab,word_size,sent_size,vocab_to_text) = get_complexity(text[1])\n",
    "    print(\"{0:15s}\\t{1:1.2f}\\t{2:1.2f}\\t{3:1.2f}\\t{4:1.2f}\".format(text[0],vocab,word_size,sent_size,vocab_to_text))"
   ]
  },
  {
   "cell_type": "markdown",
   "metadata": {},
   "source": [
    "<h2>Analysis over time</h2>\n"
   ]
  },
  {
   "cell_type": "markdown",
   "metadata": {},
   "source": [
    "<h3>The files are arranged over time so we can analyze how complexity has changed between Washington and Trump</h3>"
   ]
  },
  {
   "cell_type": "code",
   "execution_count": 19,
   "metadata": {},
   "outputs": [
    {
     "ename": "NameError",
     "evalue": "name 'get_complexity' is not defined",
     "output_type": "error",
     "traceback": [
      "\u001b[0;31m---------------------------------------------------------------------------\u001b[0m",
      "\u001b[0;31mNameError\u001b[0m                                 Traceback (most recent call last)",
      "\u001b[0;32m<ipython-input-19-f32dc9b39c84>\u001b[0m in \u001b[0;36m<module>\u001b[0;34m\u001b[0m\n\u001b[1;32m      2\u001b[0m \u001b[0msentence_lengths\u001b[0m \u001b[0;34m=\u001b[0m \u001b[0mlist\u001b[0m\u001b[0;34m(\u001b[0m\u001b[0;34m)\u001b[0m\u001b[0;34m\u001b[0m\u001b[0;34m\u001b[0m\u001b[0m\n\u001b[1;32m      3\u001b[0m \u001b[0;32mfor\u001b[0m \u001b[0mfileid\u001b[0m \u001b[0;32min\u001b[0m \u001b[0minaugural\u001b[0m\u001b[0;34m.\u001b[0m\u001b[0mfileids\u001b[0m\u001b[0;34m(\u001b[0m\u001b[0;34m)\u001b[0m\u001b[0;34m:\u001b[0m\u001b[0;34m\u001b[0m\u001b[0;34m\u001b[0m\u001b[0m\n\u001b[0;32m----> 4\u001b[0;31m     \u001b[0msentence_lengths\u001b[0m\u001b[0;34m.\u001b[0m\u001b[0mappend\u001b[0m\u001b[0;34m(\u001b[0m\u001b[0mget_complexity\u001b[0m\u001b[0;34m(\u001b[0m\u001b[0;34m' '\u001b[0m\u001b[0;34m.\u001b[0m\u001b[0mjoin\u001b[0m\u001b[0;34m(\u001b[0m\u001b[0minaugural\u001b[0m\u001b[0;34m.\u001b[0m\u001b[0mwords\u001b[0m\u001b[0;34m(\u001b[0m\u001b[0mfileid\u001b[0m\u001b[0;34m)\u001b[0m\u001b[0;34m)\u001b[0m\u001b[0;34m)\u001b[0m\u001b[0;34m[\u001b[0m\u001b[0;36m2\u001b[0m\u001b[0;34m]\u001b[0m\u001b[0;34m)\u001b[0m\u001b[0;34m\u001b[0m\u001b[0;34m\u001b[0m\u001b[0m\n\u001b[0m\u001b[1;32m      5\u001b[0m \u001b[0mplt\u001b[0m\u001b[0;34m.\u001b[0m\u001b[0mplot\u001b[0m\u001b[0;34m(\u001b[0m\u001b[0msentence_lengths\u001b[0m\u001b[0;34m)\u001b[0m\u001b[0;34m\u001b[0m\u001b[0;34m\u001b[0m\u001b[0m\n",
      "\u001b[0;31mNameError\u001b[0m: name 'get_complexity' is not defined"
     ]
    }
   ],
   "source": [
    "from nltk.corpus import inaugural\n",
    "sentence_lengths = list()\n",
    "for fileid in inaugural.fileids():\n",
    "    sentence_lengths.append(get_complexity(' '.join(inaugural.words(fileid)))[2])\n",
    "plt.plot(sentence_lengths)"
   ]
  },
  {
   "cell_type": "markdown",
   "metadata": {},
   "source": [
    "<h1>dispersion plots</h1>\n",
    "<h2>Dispersion plots show the relative frequency of words over the text</h2>\n",
    "<h3>Let's see how the frequency of some words has changed over the course of the republic</h3>\n",
    "<h3>That should give us some idea of how the focus of the nation has changed</h3>"
   ]
  },
  {
   "cell_type": "code",
   "execution_count": null,
   "metadata": {},
   "outputs": [],
   "source": [
    "text4.dispersion_plot([\"government\", \"citizen\", \"freedom\", \"duties\", \"America\",'independence','God','patriotism'])"
   ]
  },
  {
   "cell_type": "markdown",
   "metadata": {},
   "source": [
    "<h4>We may want to use word stems rather than the part of speect form</h4>\n",
    "<li>For example: patriot, patriotic, patriotism all express roughly the same idea\n",
    "<li>nltk has a stemmer that implements the \"Porter Stemming Algorithm\" (https://tartarus.org/martin/PorterStemmer/)\n",
    "<li>We'll push everything to lowercase as well"
   ]
  },
  {
   "cell_type": "code",
   "execution_count": 17,
   "metadata": {},
   "outputs": [
    {
     "ename": "NameError",
     "evalue": "name 'inaugural' is not defined",
     "output_type": "error",
     "traceback": [
      "\u001b[0;31m---------------------------------------------------------------------------\u001b[0m",
      "\u001b[0;31mNameError\u001b[0m                                 Traceback (most recent call last)",
      "\u001b[0;32m<ipython-input-17-b1c96390db84>\u001b[0m in \u001b[0;36m<module>\u001b[0;34m\u001b[0m\n\u001b[1;32m      1\u001b[0m \u001b[0;32mfrom\u001b[0m \u001b[0mnltk\u001b[0m\u001b[0;34m.\u001b[0m\u001b[0mstem\u001b[0m\u001b[0;34m.\u001b[0m\u001b[0mporter\u001b[0m \u001b[0;32mimport\u001b[0m \u001b[0mPorterStemmer\u001b[0m\u001b[0;34m\u001b[0m\u001b[0;34m\u001b[0m\u001b[0m\n\u001b[1;32m      2\u001b[0m \u001b[0mp_stemmer\u001b[0m \u001b[0;34m=\u001b[0m \u001b[0mPorterStemmer\u001b[0m\u001b[0;34m(\u001b[0m\u001b[0;34m)\u001b[0m\u001b[0;34m\u001b[0m\u001b[0;34m\u001b[0m\u001b[0m\n\u001b[0;32m----> 3\u001b[0;31m \u001b[0mtext\u001b[0m \u001b[0;34m=\u001b[0m \u001b[0minaugural\u001b[0m\u001b[0;34m.\u001b[0m\u001b[0mraw\u001b[0m\u001b[0;34m(\u001b[0m\u001b[0;34m)\u001b[0m\u001b[0;34m\u001b[0m\u001b[0;34m\u001b[0m\u001b[0m\n\u001b[0m\u001b[1;32m      4\u001b[0m \u001b[0mstriptext\u001b[0m \u001b[0;34m=\u001b[0m \u001b[0mtext\u001b[0m\u001b[0;34m.\u001b[0m\u001b[0mreplace\u001b[0m\u001b[0;34m(\u001b[0m\u001b[0;34m'\\n\\n'\u001b[0m\u001b[0;34m,\u001b[0m \u001b[0;34m' '\u001b[0m\u001b[0;34m)\u001b[0m\u001b[0;34m\u001b[0m\u001b[0;34m\u001b[0m\u001b[0m\n\u001b[1;32m      5\u001b[0m \u001b[0mstriptext\u001b[0m \u001b[0;34m=\u001b[0m \u001b[0mstriptext\u001b[0m\u001b[0;34m.\u001b[0m\u001b[0mreplace\u001b[0m\u001b[0;34m(\u001b[0m\u001b[0;34m'\\n'\u001b[0m\u001b[0;34m,\u001b[0m \u001b[0;34m' '\u001b[0m\u001b[0;34m)\u001b[0m\u001b[0;34m\u001b[0m\u001b[0;34m\u001b[0m\u001b[0m\n",
      "\u001b[0;31mNameError\u001b[0m: name 'inaugural' is not defined"
     ]
    }
   ],
   "source": [
    "from nltk.stem.porter import PorterStemmer\n",
    "p_stemmer = PorterStemmer()\n",
    "text = inaugural.raw()\n",
    "striptext = text.replace('\\n\\n', ' ')\n",
    "striptext = striptext.replace('\\n', ' ')\n",
    "sentences = sent_tokenize(striptext)\n",
    "words = word_tokenize(striptext)\n",
    "text = nltk.Text([p_stemmer.stem(i).lower() for i in words])\n",
    "text.dispersion_plot([\"govern\", \"citizen\", \"free\", \"america\",'independ','god','patriot'])"
   ]
  },
  {
   "cell_type": "markdown",
   "metadata": {},
   "source": [
    "<h2>Weighted word analysis using Vader</h2>\n",
    "<h4>Vader contains a list of 7500 features weighted by how positive or negative they are</h4>\n",
    "<h4>It uses these features to calculate stats on how positive, negative and neutral a passage is</h4>\n",
    "<h4>And combines these results to give a compound sentiment (higher = more positive) for the passage</h4>\n",
    "<h4>Human trained on twitter data and generally considered good for informal communication</h4>\n",
    "<h4>10 humans rated each feature in each tweet in context from -4 to +4</h4>\n",
    "<h4>Calculates the sentiment in a sentence using word order analysis</h4>\n",
    "<li>\"marginally good\" will get a lower positive score than \"extremely good\"\n",
    "<h4>Computes a \"compound\" score based on heuristics (between -1 and +1)</h4>\n",
    "<h4>Includes sentiment of emoticons, punctuation, and other 'social media' lexicon elements</h4>\n"
   ]
  },
  {
   "cell_type": "code",
   "execution_count": 66,
   "metadata": {},
   "outputs": [
    {
     "name": "stdout",
     "output_type": "stream",
     "text": [
      "Collecting vaderSentiment\n",
      "  Downloading vaderSentiment-3.3.2-py2.py3-none-any.whl (125 kB)\n",
      "\u001b[K     |████████████████████████████████| 125 kB 2.5 MB/s eta 0:00:01\n",
      "\u001b[?25hRequirement already satisfied: requests in /home/alexei/ds/eme/pro/my_project_env/lib/python3.6/site-packages (from vaderSentiment) (2.23.0)\n",
      "Requirement already satisfied: urllib3!=1.25.0,!=1.25.1,<1.26,>=1.21.1 in /home/alexei/ds/eme/pro/my_project_env/lib/python3.6/site-packages (from requests->vaderSentiment) (1.24.3)\n",
      "Requirement already satisfied: chardet<4,>=3.0.2 in /home/alexei/ds/eme/pro/my_project_env/lib/python3.6/site-packages (from requests->vaderSentiment) (3.0.4)\n",
      "Requirement already satisfied: certifi>=2017.4.17 in /home/alexei/ds/eme/pro/my_project_env/lib/python3.6/site-packages (from requests->vaderSentiment) (2020.4.5.2)\n",
      "Requirement already satisfied: idna<3,>=2.5 in /home/alexei/ds/eme/pro/my_project_env/lib/python3.6/site-packages (from requests->vaderSentiment) (2.9)\n",
      "Installing collected packages: vaderSentiment\n",
      "Successfully installed vaderSentiment-3.3.2\n"
     ]
    }
   ],
   "source": [
    "!pip install vaderSentiment"
   ]
  },
  {
   "cell_type": "code",
   "execution_count": 67,
   "metadata": {},
   "outputs": [],
   "source": [
    "from vaderSentiment.vaderSentiment import SentimentIntensityAnalyzer"
   ]
  },
  {
   "cell_type": "code",
   "execution_count": 68,
   "metadata": {},
   "outputs": [
    {
     "ename": "NameError",
     "evalue": "name 'restaurant_data' is not defined",
     "output_type": "error",
     "traceback": [
      "\u001b[0;31m---------------------------------------------------------------------------\u001b[0m",
      "\u001b[0;31mNameError\u001b[0m                                 Traceback (most recent call last)",
      "\u001b[0;32m<ipython-input-68-9e2f369bb9e8>\u001b[0m in \u001b[0;36m<module>\u001b[0;34m\u001b[0m\n\u001b[1;32m      1\u001b[0m \u001b[0mheaders\u001b[0m \u001b[0;34m=\u001b[0m \u001b[0;34m[\u001b[0m\u001b[0;34m'pos'\u001b[0m\u001b[0;34m,\u001b[0m\u001b[0;34m'neg'\u001b[0m\u001b[0;34m,\u001b[0m\u001b[0;34m'neu'\u001b[0m\u001b[0;34m,\u001b[0m\u001b[0;34m'compound'\u001b[0m\u001b[0;34m]\u001b[0m\u001b[0;34m\u001b[0m\u001b[0;34m\u001b[0m\u001b[0m\n\u001b[0;32m----> 2\u001b[0;31m \u001b[0mtexts\u001b[0m \u001b[0;34m=\u001b[0m \u001b[0mrestaurant_data\u001b[0m\u001b[0;34m\u001b[0m\u001b[0;34m\u001b[0m\u001b[0m\n\u001b[0m\u001b[1;32m      3\u001b[0m \u001b[0manalyzer\u001b[0m \u001b[0;34m=\u001b[0m \u001b[0mSentimentIntensityAnalyzer\u001b[0m\u001b[0;34m(\u001b[0m\u001b[0;34m)\u001b[0m\u001b[0;34m\u001b[0m\u001b[0;34m\u001b[0m\u001b[0m\n\u001b[1;32m      4\u001b[0m \u001b[0;32mfor\u001b[0m \u001b[0mi\u001b[0m \u001b[0;32min\u001b[0m \u001b[0mrange\u001b[0m\u001b[0;34m(\u001b[0m\u001b[0mlen\u001b[0m\u001b[0;34m(\u001b[0m\u001b[0mtexts\u001b[0m\u001b[0;34m)\u001b[0m\u001b[0;34m)\u001b[0m\u001b[0;34m:\u001b[0m\u001b[0;34m\u001b[0m\u001b[0;34m\u001b[0m\u001b[0m\n\u001b[1;32m      5\u001b[0m     \u001b[0mname\u001b[0m \u001b[0;34m=\u001b[0m \u001b[0mtexts\u001b[0m\u001b[0;34m[\u001b[0m\u001b[0mi\u001b[0m\u001b[0;34m]\u001b[0m\u001b[0;34m[\u001b[0m\u001b[0;36m0\u001b[0m\u001b[0;34m]\u001b[0m\u001b[0;34m\u001b[0m\u001b[0;34m\u001b[0m\u001b[0m\n",
      "\u001b[0;31mNameError\u001b[0m: name 'restaurant_data' is not defined"
     ]
    }
   ],
   "source": [
    "headers = ['pos','neg','neu','compound']\n",
    "texts = restaurant_data\n",
    "analyzer = SentimentIntensityAnalyzer()\n",
    "for i in range(len(texts)):\n",
    "    name = texts[i][0]\n",
    "    sentences = sent_tokenize(texts[i][1])\n",
    "    pos=compound=neu=neg=0\n",
    "    for sentence in sentences:\n",
    "        vs = analyzer.polarity_scores(sentence)\n",
    "        pos+=vs['pos']/(len(sentences))\n",
    "        compound+=vs['compound']/(len(sentences))\n",
    "        neu+=vs['neu']/(len(sentences))\n",
    "        neg+=vs['neg']/(len(sentences))\n",
    "    print(name,pos,neg,neu,compound)"
   ]
  },
  {
   "cell_type": "markdown",
   "metadata": {},
   "source": [
    "<h4>And functionalize this as well</h4>"
   ]
  },
  {
   "cell_type": "code",
   "execution_count": 64,
   "metadata": {},
   "outputs": [],
   "source": [
    "def vader_comparison(texts):\n",
    "    from vaderSentiment.vaderSentiment import SentimentIntensityAnalyzer\n",
    "    headers = ['pos','neg','neu','compound']\n",
    "    print(\"Name\\t\",'  pos\\t','neg\\t','neu\\t','compound')\n",
    "    analyzer = SentimentIntensityAnalyzer()\n",
    "    for i in range(len(texts)):\n",
    "        name = texts[i][0]\n",
    "        sentences = sent_tokenize(texts[i][1])\n",
    "        pos=compound=neu=neg=0\n",
    "        for sentence in sentences:\n",
    "            vs = analyzer.polarity_scores(sentence)\n",
    "            pos+=vs['pos']/(len(sentences))\n",
    "            compound+=vs['compound']/(len(sentences))\n",
    "            neu+=vs['neu']/(len(sentences))\n",
    "            neg+=vs['neg']/(len(sentences))\n",
    "        print('%-10s'%name,'%1.2f\\t'%pos,'%1.2f\\t'%neg,'%1.2f\\t'%neu,'%1.2f\\t'%compound)"
   ]
  },
  {
   "cell_type": "code",
   "execution_count": 65,
   "metadata": {},
   "outputs": [
    {
     "ename": "NameError",
     "evalue": "name 'restaurant_data' is not defined",
     "output_type": "error",
     "traceback": [
      "\u001b[0;31m---------------------------------------------------------------------------\u001b[0m",
      "\u001b[0;31mNameError\u001b[0m                                 Traceback (most recent call last)",
      "\u001b[0;32m<ipython-input-65-ebcd8987803a>\u001b[0m in \u001b[0;36m<module>\u001b[0;34m\u001b[0m\n\u001b[0;32m----> 1\u001b[0;31m \u001b[0mvader_comparison\u001b[0m\u001b[0;34m(\u001b[0m\u001b[0mrestaurant_data\u001b[0m\u001b[0;34m)\u001b[0m\u001b[0;34m\u001b[0m\u001b[0;34m\u001b[0m\u001b[0m\n\u001b[0m",
      "\u001b[0;31mNameError\u001b[0m: name 'restaurant_data' is not defined"
     ]
    }
   ],
   "source": [
    "vader_comparison(restaurant_data)"
   ]
  },
  {
   "cell_type": "markdown",
   "metadata": {
    "collapsed": true
   },
   "source": [
    "<h2>Named Entities</h2>\n",
    "<h4>People, places, organizations</h4>\n",
    "Named entities are often the subject of sentiments so identifying them can be very useful"
   ]
  },
  {
   "cell_type": "markdown",
   "metadata": {},
   "source": [
    "<h4>Named entity detection is based on Part-of-speech tagging of words and chunks (groups of words)</h4>\n",
    "<li>Start with sentences (using a sentence tokenizer)\n",
    "<li>tokenize words in each sentence\n",
    "<li>chunk them. ne_chunk identifies likely chunked candidates (ne = named entity)\n",
    "<li>Finally build chunks using nltk's guess on what members of chunk represent (people, place, organization)\n"
   ]
  },
  {
   "cell_type": "code",
   "execution_count": 61,
   "metadata": {},
   "outputs": [
    {
     "name": "stdout",
     "output_type": "stream",
     "text": [
      "{   'America': ['GPE', 'NNP'],\n",
      "    'Awesome': ['GPE', 'NNP'],\n",
      "    'BEST': ['ORGANIZATION', 'NNP'],\n",
      "    'Bill': ['PERSON', 'NN'],\n",
      "    'Boston': ['GPE', 'NNP'],\n",
      "    'Bottomless': ['GPE', 'NNP'],\n",
      "    'Broadway': ['GPE', 'NNP'],\n",
      "    'Brooklyn': ['GPE', 'NNP'],\n",
      "    'Brunch': ['PERSON', 'NNP'],\n",
      "    'CU': ['ORGANIZATION', 'NNP'],\n",
      "    'Came': ['GPE', 'NN'],\n",
      "    'Cana': ['PERSON', 'NNP'],\n",
      "    'Cheaper': ['GPE', 'NNP'],\n",
      "    'Colombia': ['GPE', 'NNP'],\n",
      "    'Columbia': ['GPE', 'NNP'],\n",
      "    'Columbia University': ['ORGANIZATION', 'NNP NNP'],\n",
      "    'Columbian': ['GPE', 'JJ'],\n",
      "    'Community': ['ORGANIZATION', 'NNP'],\n",
      "    'Community Food': ['ORGANIZATION', 'NNP NNP'],\n",
      "    'Company': ['ORGANIZATION', 'NNP'],\n",
      "    'Country Breakfast': ['ORGANIZATION', 'NNP NNP'],\n",
      "    'Delish': ['GPE', 'NNP'],\n",
      "    'Dinner': ['GPE', 'NN'],\n",
      "    'Disclaimer': ['GPE', 'NN'],\n",
      "    'Everyone': ['GPE', 'NN'],\n",
      "    'FRESH': ['ORGANIZATION', 'NNP'],\n",
      "    'Fire Island Beer': ['ORGANIZATION', 'NNP NNP NNP'],\n",
      "    'Flor': ['GPE', 'NNP'],\n",
      "    'French': ['GPE', 'JJ'],\n",
      "    'GF': ['ORGANIZATION', 'NNP'],\n",
      "    'GLUTEN': ['ORGANIZATION', 'NNP'],\n",
      "    'GOOD': ['ORGANIZATION', 'JJ'],\n",
      "    'GREAT FOR': ['ORGANIZATION', 'NNP NNP'],\n",
      "    'Greendale Community College': ['PERSON', 'NNP NNP NNP'],\n",
      "    'HOURS': ['ORGANIZATION', 'NNP'],\n",
      "    'Huevos Rancheros': ['ORGANIZATION', 'NNP NNP'],\n",
      "    'Jeff Winger': ['PERSON', 'NNP NNP'],\n",
      "    'LA': ['GPE', 'NNP'],\n",
      "    'Lighthouse': ['ORGANIZATION', 'NNP'],\n",
      "    'Midtown': ['GPE', 'NNP'],\n",
      "    'Morningside': ['GPE', 'NNP'],\n",
      "    'NBC': ['ORGANIZATION', 'NNP'],\n",
      "    'NOT': ['ORGANIZATION', 'NNP'],\n",
      "    'NYC': ['ORGANIZATION', 'NNP'],\n",
      "    'New York': ['GPE', 'NNP NNP'],\n",
      "    'Newbury': ['ORGANIZATION', 'NNP'],\n",
      "    'Nom': ['GPE', 'NNP'],\n",
      "    'Overall': ['GPE', 'JJ'],\n",
      "    'Overpriced': ['GPE', 'NNP'],\n",
      "    'POTATO': ['ORGANIZATION', 'NNP'],\n",
      "    'REAL': ['ORGANIZATION', 'JJ'],\n",
      "    'Sam D.': ['PERSON', 'NNP NNP'],\n",
      "    'Screen': ['GPE', 'NN'],\n",
      "    'Service': ['GPE', 'NNP'],\n",
      "    'Sigh': ['GPE', 'NNP'],\n",
      "    'Solid': ['GPE', 'NNP'],\n",
      "    'Stephanie': ['PERSON', 'NNP'],\n",
      "    'THE': ['ORGANIZATION', 'NNP'],\n",
      "    'Thanks': ['GPE', 'NNS'],\n",
      "    'Troy Barnes': ['ORGANIZATION', 'NN NNPS'],\n",
      "    'VERY': ['ORGANIZATION', 'NNP'],\n",
      "    'Vast': ['GPE', 'JJ'],\n",
      "    'Veggie': ['GPE', 'NNP'],\n",
      "    'Yahoo': ['ORGANIZATION', 'NN']}\n"
     ]
    }
   ],
   "source": [
    "en={}\n",
    "try:\n",
    "    sent_detector = nltk.data.load('tokenizers/punkt/english.pickle')\n",
    "    sentences = sent_detector.tokenize(community_data.raw().strip())\n",
    "    for sentence in sentences:\n",
    "            tokenized = nltk.word_tokenize(sentence)\n",
    "            tagged = nltk.pos_tag(tokenized)\n",
    "            chunked = nltk.ne_chunk(tagged)\n",
    "            for tree in chunked:\n",
    "                if hasattr(tree, 'label'):\n",
    "                    ne = ' '.join(c[0] for c in tree.leaves())\n",
    "                    en[ne] = [tree.label(), ' '.join(c[1] for c in tree.leaves())]\n",
    "except Exception as e:\n",
    "    print(str(e))\n",
    "import pprint\n",
    "pp = pprint.PrettyPrinter(indent=4)\n",
    "pp.pprint(en)"
   ]
  },
  {
   "cell_type": "markdown",
   "metadata": {},
   "source": [
    "<h4>Assuming we've done a good job of identifying named entities, we can get an affect score on entities</h4>"
   ]
  },
  {
   "cell_type": "code",
   "execution_count": 63,
   "metadata": {},
   "outputs": [
    {
     "ename": "NameError",
     "evalue": "name 'vader_comparison' is not defined",
     "output_type": "error",
     "traceback": [
      "\u001b[0;31m---------------------------------------------------------------------------\u001b[0m",
      "\u001b[0;31mNameError\u001b[0m                                 Traceback (most recent call last)",
      "\u001b[0;32m<ipython-input-63-d7dbb5c4d08a>\u001b[0m in \u001b[0;36m<module>\u001b[0;34m\u001b[0m\n\u001b[1;32m      6\u001b[0m         \u001b[0mmeaningful_sents\u001b[0m\u001b[0;34m.\u001b[0m\u001b[0mappend\u001b[0m\u001b[0;34m(\u001b[0m\u001b[0;34m(\u001b[0m\u001b[0mi\u001b[0m\u001b[0;34m,\u001b[0m\u001b[0msentence\u001b[0m\u001b[0;34m)\u001b[0m\u001b[0;34m)\u001b[0m\u001b[0;34m\u001b[0m\u001b[0;34m\u001b[0m\u001b[0m\n\u001b[1;32m      7\u001b[0m \u001b[0;34m\u001b[0m\u001b[0m\n\u001b[0;32m----> 8\u001b[0;31m \u001b[0mvader_comparison\u001b[0m\u001b[0;34m(\u001b[0m\u001b[0mmeaningful_sents\u001b[0m\u001b[0;34m)\u001b[0m\u001b[0;34m\u001b[0m\u001b[0;34m\u001b[0m\u001b[0m\n\u001b[0m",
      "\u001b[0;31mNameError\u001b[0m: name 'vader_comparison' is not defined"
     ]
    }
   ],
   "source": [
    "meaningful_sents = list()\n",
    "i=0\n",
    "for sentence in sentences:\n",
    "    if 'service' in sentence:\n",
    "        i+=1\n",
    "        meaningful_sents.append((i,sentence))\n",
    "\n",
    "vader_comparison(meaningful_sents)       "
   ]
  },
  {
   "cell_type": "markdown",
   "metadata": {},
   "source": [
    "<h4>We could also develop a affect calculator for common terms in our domain (e.g., food items)</h4>"
   ]
  },
  {
   "cell_type": "code",
   "execution_count": null,
   "metadata": {},
   "outputs": [],
   "source": [
    "def get_affect(text,word,lower=False):\n",
    "    import nltk\n",
    "    from vaderSentiment.vaderSentiment import SentimentIntensityAnalyzer\n",
    "    analyzer = SentimentIntensityAnalyzer()\n",
    "    sent_detector = nltk.data.load('tokenizers/punkt/english.pickle')\n",
    "    sentences = sent_detector.tokenize(text.strip())\n",
    "    sentence_count = 0\n",
    "    running_total = 0\n",
    "    for sentence in sentences:\n",
    "        if lower: sentence = sentence.lower()\n",
    "        if word in sentence:\n",
    "            vs = analyzer.polarity_scores(sentence) \n",
    "            running_total += vs['compound']\n",
    "            sentence_count += 1\n",
    "    if sentence_count == 0: return 0\n",
    "    return running_total/sentence_count"
   ]
  },
  {
   "cell_type": "code",
   "execution_count": null,
   "metadata": {},
   "outputs": [],
   "source": [
    "get_affect(community_data.raw(),'service',True)"
   ]
  },
  {
   "cell_type": "markdown",
   "metadata": {},
   "source": [
    "<h4>The nltk function concordance returns text fragments around a word</h4>"
   ]
  },
  {
   "cell_type": "code",
   "execution_count": null,
   "metadata": {},
   "outputs": [],
   "source": [
    "nltk.Text(community_data.words()).concordance('service',100)"
   ]
  },
  {
   "cell_type": "markdown",
   "metadata": {},
   "source": [
    "<h2>Text summarization</h2>\n",
    "<h4>Text summarization is useful because you can generate a short summary of a large piece of text automatically</h4>\n",
    "<h4>Then, these summaries can serve as an input into a topic analyzer to figure out what the main topic of the text is</h4>"
   ]
  },
  {
   "cell_type": "markdown",
   "metadata": {},
   "source": [
    "A naive form of summarization is to identify the most frequent words in a piece of text and use the occurrence of these words in sentences to rate the importance of a sentence. "
   ]
  },
  {
   "cell_type": "markdown",
   "metadata": {},
   "source": [
    "<h4>First the imports</h4>"
   ]
  },
  {
   "cell_type": "code",
   "execution_count": 3,
   "metadata": {},
   "outputs": [],
   "source": [
    "from nltk.tokenize import word_tokenize\n",
    "from nltk.tokenize import sent_tokenize\n",
    "from nltk.probability import FreqDist\n",
    "from nltk.corpus import stopwords\n",
    "from collections import OrderedDict\n",
    "import pprint"
   ]
  },
  {
   "cell_type": "markdown",
   "metadata": {},
   "source": [
    "<h4>Then prep the text. Get did of end of line chars</h4>"
   ]
  },
  {
   "cell_type": "code",
   "execution_count": 4,
   "metadata": {},
   "outputs": [
    {
     "ename": "NameError",
     "evalue": "name 'community_data' is not defined",
     "output_type": "error",
     "traceback": [
      "\u001b[0;31m---------------------------------------------------------------------------\u001b[0m",
      "\u001b[0;31mNameError\u001b[0m                                 Traceback (most recent call last)",
      "\u001b[0;32m<ipython-input-4-84cfc124b12a>\u001b[0m in \u001b[0;36m<module>\u001b[0;34m\u001b[0m\n\u001b[0;32m----> 1\u001b[0;31m \u001b[0mtext\u001b[0m \u001b[0;34m=\u001b[0m \u001b[0mcommunity_data\u001b[0m\u001b[0;34m.\u001b[0m\u001b[0mraw\u001b[0m\u001b[0;34m(\u001b[0m\u001b[0;34m)\u001b[0m\u001b[0;34m\u001b[0m\u001b[0;34m\u001b[0m\u001b[0m\n\u001b[0m\u001b[1;32m      2\u001b[0m \u001b[0msummary_sentences\u001b[0m \u001b[0;34m=\u001b[0m \u001b[0;34m[\u001b[0m\u001b[0;34m]\u001b[0m\u001b[0;34m\u001b[0m\u001b[0;34m\u001b[0m\u001b[0m\n\u001b[1;32m      3\u001b[0m \u001b[0mcandidate_sentences\u001b[0m \u001b[0;34m=\u001b[0m \u001b[0;34m{\u001b[0m\u001b[0;34m}\u001b[0m\u001b[0;34m\u001b[0m\u001b[0;34m\u001b[0m\u001b[0m\n\u001b[1;32m      4\u001b[0m \u001b[0mcandidate_sentence_counts\u001b[0m \u001b[0;34m=\u001b[0m \u001b[0;34m{\u001b[0m\u001b[0;34m}\u001b[0m\u001b[0;34m\u001b[0m\u001b[0;34m\u001b[0m\u001b[0m\n\u001b[1;32m      5\u001b[0m \u001b[0mstriptext\u001b[0m \u001b[0;34m=\u001b[0m \u001b[0mtext\u001b[0m\u001b[0;34m.\u001b[0m\u001b[0mreplace\u001b[0m\u001b[0;34m(\u001b[0m\u001b[0;34m'\\n\\n'\u001b[0m\u001b[0;34m,\u001b[0m \u001b[0;34m' '\u001b[0m\u001b[0;34m)\u001b[0m\u001b[0;34m\u001b[0m\u001b[0;34m\u001b[0m\u001b[0m\n",
      "\u001b[0;31mNameError\u001b[0m: name 'community_data' is not defined"
     ]
    }
   ],
   "source": [
    "text = community_data.raw()\n",
    "summary_sentences = []\n",
    "candidate_sentences = {}\n",
    "candidate_sentence_counts = {}\n",
    "striptext = text.replace('\\n\\n', ' ')\n",
    "striptext = striptext.replace('\\n', ' ')"
   ]
  },
  {
   "cell_type": "markdown",
   "metadata": {},
   "source": [
    "<h4>Construct a list of words after getting rid of unimportant ones and numbers</h4>"
   ]
  },
  {
   "cell_type": "code",
   "execution_count": null,
   "metadata": {},
   "outputs": [],
   "source": [
    "words = word_tokenize(striptext)\n",
    "lowercase_words = [word.lower() for word in words\n",
    "                  if word not in stopwords.words() and word.isalpha()]\n"
   ]
  },
  {
   "cell_type": "markdown",
   "metadata": {},
   "source": [
    "<h4>Construct word frequencies and choose the most common n (20)</h4>"
   ]
  },
  {
   "cell_type": "code",
   "execution_count": null,
   "metadata": {},
   "outputs": [],
   "source": [
    "word_frequencies = FreqDist(lowercase_words)\n",
    "most_frequent_words = FreqDist(lowercase_words).most_common(20)\n",
    "pp = pprint.PrettyPrinter(indent=4)\n",
    "pp.pprint(most_frequent_words)"
   ]
  },
  {
   "cell_type": "markdown",
   "metadata": {},
   "source": [
    "<h4>lowercase the sentences</h4>\n",
    "candidate_sentences is a dictionary with the original sentence as the key, and its lowercase version as the value"
   ]
  },
  {
   "cell_type": "code",
   "execution_count": null,
   "metadata": {},
   "outputs": [],
   "source": [
    "sentences = sent_tokenize(striptext)\n",
    "for sentence in sentences:\n",
    "    candidate_sentences[sentence] = sentence.lower()\n",
    "candidate_sentences"
   ]
  },
  {
   "cell_type": "code",
   "execution_count": null,
   "metadata": {},
   "outputs": [],
   "source": [
    "for long, short in candidate_sentences.items():\n",
    "    count = 0\n",
    "    for freq_word, frequency_score in most_frequent_words:\n",
    "        if freq_word in short:\n",
    "            count += frequency_score\n",
    "            candidate_sentence_counts[long] = count"
   ]
  },
  {
   "cell_type": "code",
   "execution_count": 2,
   "metadata": {},
   "outputs": [
    {
     "ename": "NameError",
     "evalue": "name 'OrderedDict' is not defined",
     "output_type": "error",
     "traceback": [
      "\u001b[0;31m---------------------------------------------------------------------------\u001b[0m",
      "\u001b[0;31mNameError\u001b[0m                                 Traceback (most recent call last)",
      "\u001b[0;32m<ipython-input-2-7337dc068114>\u001b[0m in \u001b[0;36m<module>\u001b[0;34m()\u001b[0m\n\u001b[0;32m----> 1\u001b[0;31m sorted_sentences = OrderedDict(sorted(\n\u001b[0m\u001b[1;32m      2\u001b[0m                     \u001b[0mcandidate_sentence_counts\u001b[0m\u001b[0;34m.\u001b[0m\u001b[0mitems\u001b[0m\u001b[0;34m(\u001b[0m\u001b[0;34m)\u001b[0m\u001b[0;34m,\u001b[0m\u001b[0;34m\u001b[0m\u001b[0m\n\u001b[1;32m      3\u001b[0m                     \u001b[0mkey\u001b[0m \u001b[0;34m=\u001b[0m \u001b[0;32mlambda\u001b[0m \u001b[0mx\u001b[0m\u001b[0;34m:\u001b[0m \u001b[0mx\u001b[0m\u001b[0;34m[\u001b[0m\u001b[0;36m0\u001b[0m\u001b[0;34m]\u001b[0m\u001b[0;34m,\u001b[0m\u001b[0;34m\u001b[0m\u001b[0m\n\u001b[1;32m      4\u001b[0m                     reverse = True)[:4])\n\u001b[1;32m      5\u001b[0m \u001b[0mpp\u001b[0m\u001b[0;34m.\u001b[0m\u001b[0mpprint\u001b[0m\u001b[0;34m(\u001b[0m\u001b[0msorted_sentences\u001b[0m\u001b[0;34m)\u001b[0m\u001b[0;34m\u001b[0m\u001b[0m\n",
      "\u001b[0;31mNameError\u001b[0m: name 'OrderedDict' is not defined"
     ]
    }
   ],
   "source": [
    "sorted_sentences = OrderedDict(sorted(\n",
    "                    candidate_sentence_counts.items(),\n",
    "                    key = lambda x: x[0],\n",
    "                    reverse = True)[:4])\n",
    "pp.pprint(sorted_sentences)"
   ]
  },
  {
   "cell_type": "markdown",
   "metadata": {},
   "source": [
    "<h4>Packaging all this into a function</h4>\n"
   ]
  },
  {
   "cell_type": "code",
   "execution_count": 12,
   "metadata": {},
   "outputs": [],
   "source": [
    "def build_naive_summary(text):\n",
    "    from nltk.tokenize import word_tokenize\n",
    "    from nltk.tokenize import sent_tokenize\n",
    "    from nltk.probability import FreqDist\n",
    "    from nltk.corpus import stopwords\n",
    "    from collections import OrderedDict\n",
    "    summary_sentences = []\n",
    "    candidate_sentences = {}\n",
    "    candidate_sentence_counts = {}\n",
    "    striptext = text.replace('\\n\\n', ' ')\n",
    "    striptext = striptext.replace('\\n', ' ')\n",
    "    words = word_tokenize(striptext)\n",
    "    lowercase_words = [word.lower() for word in words\n",
    "                      if word not in stopwords.words() and word.isalpha()]\n",
    "    word_frequencies = FreqDist(lowercase_words)\n",
    "    most_frequent_words = FreqDist(lowercase_words).most_common(20)\n",
    "    sentences = sent_tokenize(striptext)\n",
    "    for sentence in sentences:\n",
    "        candidate_sentences[sentence] = sentence.lower()\n",
    "    for long, short in candidate_sentences.items():\n",
    "        count = 0\n",
    "        for freq_word, frequency_score in most_frequent_words:\n",
    "            if freq_word in short:\n",
    "                count += frequency_score\n",
    "                candidate_sentence_counts[long] = count   \n",
    "    sorted_sentences = OrderedDict(sorted(\n",
    "                        candidate_sentence_counts.items(),\n",
    "                        key = lambda x: x[1],\n",
    "                        reverse = True)[:4])\n",
    "    return sorted_sentences   "
   ]
  },
  {
   "cell_type": "code",
   "execution_count": 13,
   "metadata": {},
   "outputs": [
    {
     "name": "stdout",
     "output_type": "stream",
     "text": [
      "I've come here several times with a friend for brunch and once for dinner -- we've both really enjoyed a lot of the breakfast foods available; my favorite is the brioche French toast with blackberry and lemon curd & she loves heir waffles.\n",
      "There are a lot of nice places in the city where you can get a very good breakfast for 1/3rd to 1/2 less than Community.\n",
      "Came here for brunch with my wife after she found the good review, and it did not disappoint!\n",
      "My friend n me went there early to enjoy pancake with fresh juice n on site coffee.\n"
     ]
    }
   ],
   "source": [
    "summary = '\\n'.join(build_naive_summary(community_data.raw()))\n",
    "print(summary)"
   ]
  },
  {
   "cell_type": "code",
   "execution_count": 14,
   "metadata": {},
   "outputs": [
    {
     "name": "stdout",
     "output_type": "stream",
     "text": [
      "i would recommend going for brunch over any other meal, as everything i've ordered for brunch has been quite good the shakshuka is great, and you can't anything else like it in the area.\n",
      "I would love to try them out for dinner, as I said, the service was great and we were checked on regularly.\n",
      "I would give them a better review because the food was good but the waiting really was long.\n",
      "The food was really good and they are known for their brunch menu.\n"
     ]
    }
   ],
   "source": [
    "summary = '\\n'.join(build_naive_summary(le_monde_data.raw()))\n",
    "print(summary)"
   ]
  },
  {
   "cell_type": "markdown",
   "metadata": {},
   "source": [
    "<h4>We can summarize George Washington's first inaugural speech<h4>"
   ]
  },
  {
   "cell_type": "code",
   "execution_count": null,
   "metadata": {},
   "outputs": [],
   "source": [
    "# Alexei\n",
    "build_naive_summary(inaugural.raw('1789-Washington.txt'))"
   ]
  },
  {
   "cell_type": "markdown",
   "metadata": {},
   "source": [
    "<h3>gensim: another text summarizer</h3>\n",
    "Gensim uses a network with sentences as nodes and 'lexical similarity' as weights on the arcs between nodes<p>\n"
   ]
  },
  {
   "cell_type": "code",
   "execution_count": 33,
   "metadata": {},
   "outputs": [
    {
     "name": "stdout",
     "output_type": "stream",
     "text": [
      "*** Introductory Examples for the NLTK Book ***\n",
      "Loading text1, ..., text9 and sent1, ..., sent9\n",
      "Type the name of the text or sentence to view it.\n",
      "Type: 'texts()' or 'sents()' to list the materials.\n",
      "text1: Moby Dick by Herman Melville 1851\n",
      "text2: Sense and Sensibility by Jane Austen 1811\n"
     ]
    },
    {
     "ename": "LookupError",
     "evalue": "\n**********************************************************************\n  Resource \u001b[93mgenesis\u001b[0m not found.\n  Please use the NLTK Downloader to obtain the resource:\n\n  \u001b[31m>>> import nltk\n  >>> nltk.download('genesis')\n  \u001b[0m\n  For more information see: https://www.nltk.org/data.html\n\n  Attempted to load \u001b[93mcorpora/genesis\u001b[0m\n\n  Searched in:\n    - '/home/alexei/nltk_data'\n    - '/home/alexei/ds/eme/pro/my_project_env/nltk_data'\n    - '/home/alexei/ds/eme/pro/my_project_env/share/nltk_data'\n    - '/home/alexei/ds/eme/pro/my_project_env/lib/nltk_data'\n    - '/usr/share/nltk_data'\n    - '/usr/local/share/nltk_data'\n    - '/usr/lib/nltk_data'\n    - '/usr/local/lib/nltk_data'\n**********************************************************************\n",
     "output_type": "error",
     "traceback": [
      "\u001b[0;31m---------------------------------------------------------------------------\u001b[0m",
      "\u001b[0;31mLookupError\u001b[0m                               Traceback (most recent call last)",
      "\u001b[0;32m~/ds/eme/pro/my_project_env/lib/python3.6/site-packages/nltk/corpus/util.py\u001b[0m in \u001b[0;36m__load\u001b[0;34m(self)\u001b[0m\n\u001b[1;32m     82\u001b[0m                 \u001b[0;32mtry\u001b[0m\u001b[0;34m:\u001b[0m\u001b[0;34m\u001b[0m\u001b[0;34m\u001b[0m\u001b[0m\n\u001b[0;32m---> 83\u001b[0;31m                     \u001b[0mroot\u001b[0m \u001b[0;34m=\u001b[0m \u001b[0mnltk\u001b[0m\u001b[0;34m.\u001b[0m\u001b[0mdata\u001b[0m\u001b[0;34m.\u001b[0m\u001b[0mfind\u001b[0m\u001b[0;34m(\u001b[0m\u001b[0;34m\"{}/{}\"\u001b[0m\u001b[0;34m.\u001b[0m\u001b[0mformat\u001b[0m\u001b[0;34m(\u001b[0m\u001b[0mself\u001b[0m\u001b[0;34m.\u001b[0m\u001b[0msubdir\u001b[0m\u001b[0;34m,\u001b[0m \u001b[0mzip_name\u001b[0m\u001b[0;34m)\u001b[0m\u001b[0;34m)\u001b[0m\u001b[0;34m\u001b[0m\u001b[0;34m\u001b[0m\u001b[0m\n\u001b[0m\u001b[1;32m     84\u001b[0m                 \u001b[0;32mexcept\u001b[0m \u001b[0mLookupError\u001b[0m\u001b[0;34m:\u001b[0m\u001b[0;34m\u001b[0m\u001b[0;34m\u001b[0m\u001b[0m\n",
      "\u001b[0;32m~/ds/eme/pro/my_project_env/lib/python3.6/site-packages/nltk/data.py\u001b[0m in \u001b[0;36mfind\u001b[0;34m(resource_name, paths)\u001b[0m\n\u001b[1;32m    584\u001b[0m     \u001b[0mresource_not_found\u001b[0m \u001b[0;34m=\u001b[0m \u001b[0;34m\"\\n%s\\n%s\\n%s\\n\"\u001b[0m \u001b[0;34m%\u001b[0m \u001b[0;34m(\u001b[0m\u001b[0msep\u001b[0m\u001b[0;34m,\u001b[0m \u001b[0mmsg\u001b[0m\u001b[0;34m,\u001b[0m \u001b[0msep\u001b[0m\u001b[0;34m)\u001b[0m\u001b[0;34m\u001b[0m\u001b[0;34m\u001b[0m\u001b[0m\n\u001b[0;32m--> 585\u001b[0;31m     \u001b[0;32mraise\u001b[0m \u001b[0mLookupError\u001b[0m\u001b[0;34m(\u001b[0m\u001b[0mresource_not_found\u001b[0m\u001b[0;34m)\u001b[0m\u001b[0;34m\u001b[0m\u001b[0;34m\u001b[0m\u001b[0m\n\u001b[0m\u001b[1;32m    586\u001b[0m \u001b[0;34m\u001b[0m\u001b[0m\n",
      "\u001b[0;31mLookupError\u001b[0m: \n**********************************************************************\n  Resource \u001b[93mgenesis\u001b[0m not found.\n  Please use the NLTK Downloader to obtain the resource:\n\n  \u001b[31m>>> import nltk\n  >>> nltk.download('genesis')\n  \u001b[0m\n  For more information see: https://www.nltk.org/data.html\n\n  Attempted to load \u001b[93mcorpora/genesis.zip/genesis/\u001b[0m\n\n  Searched in:\n    - '/home/alexei/nltk_data'\n    - '/home/alexei/ds/eme/pro/my_project_env/nltk_data'\n    - '/home/alexei/ds/eme/pro/my_project_env/share/nltk_data'\n    - '/home/alexei/ds/eme/pro/my_project_env/lib/nltk_data'\n    - '/usr/share/nltk_data'\n    - '/usr/local/share/nltk_data'\n    - '/usr/lib/nltk_data'\n    - '/usr/local/lib/nltk_data'\n**********************************************************************\n",
      "\nDuring handling of the above exception, another exception occurred:\n",
      "\u001b[0;31mLookupError\u001b[0m                               Traceback (most recent call last)",
      "\u001b[0;32m<ipython-input-33-d6f1454023ad>\u001b[0m in \u001b[0;36m<module>\u001b[0;34m\u001b[0m\n\u001b[1;32m      5\u001b[0m \u001b[0;32mfrom\u001b[0m \u001b[0mnltk\u001b[0m\u001b[0;34m.\u001b[0m\u001b[0mcorpus\u001b[0m \u001b[0;32mimport\u001b[0m \u001b[0mPlaintextCorpusReader\u001b[0m\u001b[0;34m\u001b[0m\u001b[0;34m\u001b[0m\u001b[0m\n\u001b[1;32m      6\u001b[0m \u001b[0;32mfrom\u001b[0m \u001b[0mnltk\u001b[0m \u001b[0;32mimport\u001b[0m \u001b[0msent_tokenize\u001b[0m\u001b[0;34m,\u001b[0m\u001b[0mword_tokenize\u001b[0m\u001b[0;34m\u001b[0m\u001b[0;34m\u001b[0m\u001b[0m\n\u001b[0;32m----> 7\u001b[0;31m \u001b[0;32mfrom\u001b[0m \u001b[0mnltk\u001b[0m\u001b[0;34m.\u001b[0m\u001b[0mbook\u001b[0m \u001b[0;32mimport\u001b[0m \u001b[0;34m*\u001b[0m\u001b[0;34m\u001b[0m\u001b[0;34m\u001b[0m\u001b[0m\n\u001b[0m",
      "\u001b[0;32m~/ds/eme/pro/my_project_env/lib/python3.6/site-packages/nltk/book.py\u001b[0m in \u001b[0;36m<module>\u001b[0;34m\u001b[0m\n\u001b[1;32m     31\u001b[0m \u001b[0mprint\u001b[0m\u001b[0;34m(\u001b[0m\u001b[0;34m\"text2:\"\u001b[0m\u001b[0;34m,\u001b[0m \u001b[0mtext2\u001b[0m\u001b[0;34m.\u001b[0m\u001b[0mname\u001b[0m\u001b[0;34m)\u001b[0m\u001b[0;34m\u001b[0m\u001b[0;34m\u001b[0m\u001b[0m\n\u001b[1;32m     32\u001b[0m \u001b[0;34m\u001b[0m\u001b[0m\n\u001b[0;32m---> 33\u001b[0;31m \u001b[0mtext3\u001b[0m \u001b[0;34m=\u001b[0m \u001b[0mText\u001b[0m\u001b[0;34m(\u001b[0m\u001b[0mgenesis\u001b[0m\u001b[0;34m.\u001b[0m\u001b[0mwords\u001b[0m\u001b[0;34m(\u001b[0m\u001b[0;34m\"english-kjv.txt\"\u001b[0m\u001b[0;34m)\u001b[0m\u001b[0;34m,\u001b[0m \u001b[0mname\u001b[0m\u001b[0;34m=\u001b[0m\u001b[0;34m\"The Book of Genesis\"\u001b[0m\u001b[0;34m)\u001b[0m\u001b[0;34m\u001b[0m\u001b[0;34m\u001b[0m\u001b[0m\n\u001b[0m\u001b[1;32m     34\u001b[0m \u001b[0mprint\u001b[0m\u001b[0;34m(\u001b[0m\u001b[0;34m\"text3:\"\u001b[0m\u001b[0;34m,\u001b[0m \u001b[0mtext3\u001b[0m\u001b[0;34m.\u001b[0m\u001b[0mname\u001b[0m\u001b[0;34m)\u001b[0m\u001b[0;34m\u001b[0m\u001b[0;34m\u001b[0m\u001b[0m\n\u001b[1;32m     35\u001b[0m \u001b[0;34m\u001b[0m\u001b[0m\n",
      "\u001b[0;32m~/ds/eme/pro/my_project_env/lib/python3.6/site-packages/nltk/corpus/util.py\u001b[0m in \u001b[0;36m__getattr__\u001b[0;34m(self, attr)\u001b[0m\n\u001b[1;32m    118\u001b[0m             \u001b[0;32mraise\u001b[0m \u001b[0mAttributeError\u001b[0m\u001b[0;34m(\u001b[0m\u001b[0;34m\"LazyCorpusLoader object has no attribute '__bases__'\"\u001b[0m\u001b[0;34m)\u001b[0m\u001b[0;34m\u001b[0m\u001b[0;34m\u001b[0m\u001b[0m\n\u001b[1;32m    119\u001b[0m \u001b[0;34m\u001b[0m\u001b[0m\n\u001b[0;32m--> 120\u001b[0;31m         \u001b[0mself\u001b[0m\u001b[0;34m.\u001b[0m\u001b[0m__load\u001b[0m\u001b[0;34m(\u001b[0m\u001b[0;34m)\u001b[0m\u001b[0;34m\u001b[0m\u001b[0;34m\u001b[0m\u001b[0m\n\u001b[0m\u001b[1;32m    121\u001b[0m         \u001b[0;31m# This looks circular, but its not, since __load() changes our\u001b[0m\u001b[0;34m\u001b[0m\u001b[0;34m\u001b[0m\u001b[0;34m\u001b[0m\u001b[0m\n\u001b[1;32m    122\u001b[0m         \u001b[0;31m# __class__ to something new:\u001b[0m\u001b[0;34m\u001b[0m\u001b[0;34m\u001b[0m\u001b[0;34m\u001b[0m\u001b[0m\n",
      "\u001b[0;32m~/ds/eme/pro/my_project_env/lib/python3.6/site-packages/nltk/corpus/util.py\u001b[0m in \u001b[0;36m__load\u001b[0;34m(self)\u001b[0m\n\u001b[1;32m     83\u001b[0m                     \u001b[0mroot\u001b[0m \u001b[0;34m=\u001b[0m \u001b[0mnltk\u001b[0m\u001b[0;34m.\u001b[0m\u001b[0mdata\u001b[0m\u001b[0;34m.\u001b[0m\u001b[0mfind\u001b[0m\u001b[0;34m(\u001b[0m\u001b[0;34m\"{}/{}\"\u001b[0m\u001b[0;34m.\u001b[0m\u001b[0mformat\u001b[0m\u001b[0;34m(\u001b[0m\u001b[0mself\u001b[0m\u001b[0;34m.\u001b[0m\u001b[0msubdir\u001b[0m\u001b[0;34m,\u001b[0m \u001b[0mzip_name\u001b[0m\u001b[0;34m)\u001b[0m\u001b[0;34m)\u001b[0m\u001b[0;34m\u001b[0m\u001b[0;34m\u001b[0m\u001b[0m\n\u001b[1;32m     84\u001b[0m                 \u001b[0;32mexcept\u001b[0m \u001b[0mLookupError\u001b[0m\u001b[0;34m:\u001b[0m\u001b[0;34m\u001b[0m\u001b[0;34m\u001b[0m\u001b[0m\n\u001b[0;32m---> 85\u001b[0;31m                     \u001b[0;32mraise\u001b[0m \u001b[0me\u001b[0m\u001b[0;34m\u001b[0m\u001b[0;34m\u001b[0m\u001b[0m\n\u001b[0m\u001b[1;32m     86\u001b[0m \u001b[0;34m\u001b[0m\u001b[0m\n\u001b[1;32m     87\u001b[0m         \u001b[0;31m# Load the corpus.\u001b[0m\u001b[0;34m\u001b[0m\u001b[0;34m\u001b[0m\u001b[0;34m\u001b[0m\u001b[0m\n",
      "\u001b[0;32m~/ds/eme/pro/my_project_env/lib/python3.6/site-packages/nltk/corpus/util.py\u001b[0m in \u001b[0;36m__load\u001b[0;34m(self)\u001b[0m\n\u001b[1;32m     78\u001b[0m         \u001b[0;32melse\u001b[0m\u001b[0;34m:\u001b[0m\u001b[0;34m\u001b[0m\u001b[0;34m\u001b[0m\u001b[0m\n\u001b[1;32m     79\u001b[0m             \u001b[0;32mtry\u001b[0m\u001b[0;34m:\u001b[0m\u001b[0;34m\u001b[0m\u001b[0;34m\u001b[0m\u001b[0m\n\u001b[0;32m---> 80\u001b[0;31m                 \u001b[0mroot\u001b[0m \u001b[0;34m=\u001b[0m \u001b[0mnltk\u001b[0m\u001b[0;34m.\u001b[0m\u001b[0mdata\u001b[0m\u001b[0;34m.\u001b[0m\u001b[0mfind\u001b[0m\u001b[0;34m(\u001b[0m\u001b[0;34m\"{}/{}\"\u001b[0m\u001b[0;34m.\u001b[0m\u001b[0mformat\u001b[0m\u001b[0;34m(\u001b[0m\u001b[0mself\u001b[0m\u001b[0;34m.\u001b[0m\u001b[0msubdir\u001b[0m\u001b[0;34m,\u001b[0m \u001b[0mself\u001b[0m\u001b[0;34m.\u001b[0m\u001b[0m__name\u001b[0m\u001b[0;34m)\u001b[0m\u001b[0;34m)\u001b[0m\u001b[0;34m\u001b[0m\u001b[0;34m\u001b[0m\u001b[0m\n\u001b[0m\u001b[1;32m     81\u001b[0m             \u001b[0;32mexcept\u001b[0m \u001b[0mLookupError\u001b[0m \u001b[0;32mas\u001b[0m \u001b[0me\u001b[0m\u001b[0;34m:\u001b[0m\u001b[0;34m\u001b[0m\u001b[0;34m\u001b[0m\u001b[0m\n\u001b[1;32m     82\u001b[0m                 \u001b[0;32mtry\u001b[0m\u001b[0;34m:\u001b[0m\u001b[0;34m\u001b[0m\u001b[0;34m\u001b[0m\u001b[0m\n",
      "\u001b[0;32m~/ds/eme/pro/my_project_env/lib/python3.6/site-packages/nltk/data.py\u001b[0m in \u001b[0;36mfind\u001b[0;34m(resource_name, paths)\u001b[0m\n\u001b[1;32m    583\u001b[0m     \u001b[0msep\u001b[0m \u001b[0;34m=\u001b[0m \u001b[0;34m\"*\"\u001b[0m \u001b[0;34m*\u001b[0m \u001b[0;36m70\u001b[0m\u001b[0;34m\u001b[0m\u001b[0;34m\u001b[0m\u001b[0m\n\u001b[1;32m    584\u001b[0m     \u001b[0mresource_not_found\u001b[0m \u001b[0;34m=\u001b[0m \u001b[0;34m\"\\n%s\\n%s\\n%s\\n\"\u001b[0m \u001b[0;34m%\u001b[0m \u001b[0;34m(\u001b[0m\u001b[0msep\u001b[0m\u001b[0;34m,\u001b[0m \u001b[0mmsg\u001b[0m\u001b[0;34m,\u001b[0m \u001b[0msep\u001b[0m\u001b[0;34m)\u001b[0m\u001b[0;34m\u001b[0m\u001b[0;34m\u001b[0m\u001b[0m\n\u001b[0;32m--> 585\u001b[0;31m     \u001b[0;32mraise\u001b[0m \u001b[0mLookupError\u001b[0m\u001b[0;34m(\u001b[0m\u001b[0mresource_not_found\u001b[0m\u001b[0;34m)\u001b[0m\u001b[0;34m\u001b[0m\u001b[0;34m\u001b[0m\u001b[0m\n\u001b[0m\u001b[1;32m    586\u001b[0m \u001b[0;34m\u001b[0m\u001b[0m\n\u001b[1;32m    587\u001b[0m \u001b[0;34m\u001b[0m\u001b[0m\n",
      "\u001b[0;31mLookupError\u001b[0m: \n**********************************************************************\n  Resource \u001b[93mgenesis\u001b[0m not found.\n  Please use the NLTK Downloader to obtain the resource:\n\n  \u001b[31m>>> import nltk\n  >>> nltk.download('genesis')\n  \u001b[0m\n  For more information see: https://www.nltk.org/data.html\n\n  Attempted to load \u001b[93mcorpora/genesis\u001b[0m\n\n  Searched in:\n    - '/home/alexei/nltk_data'\n    - '/home/alexei/ds/eme/pro/my_project_env/nltk_data'\n    - '/home/alexei/ds/eme/pro/my_project_env/share/nltk_data'\n    - '/home/alexei/ds/eme/pro/my_project_env/lib/nltk_data'\n    - '/usr/share/nltk_data'\n    - '/usr/local/share/nltk_data'\n    - '/usr/lib/nltk_data'\n    - '/usr/local/lib/nltk_data'\n**********************************************************************\n"
     ]
    }
   ],
   "source": [
    "from wordcloud import WordCloud, STOPWORDS\n",
    "import matplotlib.pyplot as plt\n",
    "%matplotlib inline\n",
    "import nltk\n",
    "from nltk.corpus import PlaintextCorpusReader\n",
    "from nltk import sent_tokenize,word_tokenize \n",
    "from nltk.book import *"
   ]
  },
  {
   "cell_type": "code",
   "execution_count": 38,
   "metadata": {},
   "outputs": [],
   "source": [
    "import nltk\n",
    "from nltk.corpus import PlaintextCorpusReader\n",
    "community_root = \"data/community\"\n",
    "le_monde_root = \"data/le_monde\"\n",
    "community_files = \"community.*\"\n",
    "le_monde_files = \"le_monde.*\"\n",
    "heights_root = \"data/heights\"\n",
    "heights_files = \"heights.*\"\n",
    "amigos_root = \"data/amigos\"\n",
    "amigos_files = \"amigos.*\"\n",
    "community_data = PlaintextCorpusReader(community_root,community_files)\n",
    "le_monde_data = PlaintextCorpusReader(le_monde_root,le_monde_files)\n",
    "heights_data = PlaintextCorpusReader(heights_root,heights_files)\n",
    "amigos_data = PlaintextCorpusReader(amigos_root,amigos_files)"
   ]
  },
  {
   "cell_type": "code",
   "execution_count": 39,
   "metadata": {},
   "outputs": [
    {
     "data": {
      "text/plain": [
       "nltk.corpus.reader.plaintext.PlaintextCorpusReader"
      ]
     },
     "execution_count": 39,
     "metadata": {},
     "output_type": "execute_result"
    }
   ],
   "source": [
    "type(community_data)"
   ]
  },
  {
   "cell_type": "code",
   "execution_count": 40,
   "metadata": {},
   "outputs": [],
   "source": [
    "text = community_data.raw()\n",
    "summary_sentences = []\n",
    "candidate_sentences = {}\n",
    "candidate_sentence_counts = {}\n",
    "striptext = text.replace('\\n\\n', ' ')\n",
    "striptext = striptext.replace('\\n', ' ')"
   ]
  },
  {
   "cell_type": "code",
   "execution_count": 41,
   "metadata": {},
   "outputs": [],
   "source": [
    "import gensim.summarization"
   ]
  },
  {
   "cell_type": "code",
   "execution_count": null,
   "metadata": {},
   "outputs": [],
   "source": []
  },
  {
   "cell_type": "code",
   "execution_count": 42,
   "metadata": {},
   "outputs": [],
   "source": [
    "#!pip install gensim"
   ]
  },
  {
   "cell_type": "code",
   "execution_count": 43,
   "metadata": {},
   "outputs": [],
   "source": [
    "import gensim.summarization"
   ]
  },
  {
   "cell_type": "code",
   "execution_count": 44,
   "metadata": {},
   "outputs": [
    {
     "name": "stdout",
     "output_type": "stream",
     "text": [
      "We each ordered blueberry pancakes and a cup of coffee--no fresh fruit, no juice, no bacon.\n",
      "I started with a raspberry iced tea & ordered the community custom egg white omelette with sautéed spinach & mushrooms and a side of smoked salmon.\n",
      "I've come here several times with a friend for brunch and once for dinner -- we've both really enjoyed a lot of the breakfast foods available; my favorite is the brioche French toast with blackberry and lemon curd & she loves heir waffles.\n",
      "This place is really good for breakfast and has great pancakes, sausages, eggs.\n"
     ]
    }
   ],
   "source": [
    "summary = gensim.summarization.summarize(striptext, word_count=100) \n",
    "print(summary)"
   ]
  },
  {
   "cell_type": "code",
   "execution_count": 45,
   "metadata": {},
   "outputs": [
    {
     "name": "stdout",
     "output_type": "stream",
     "text": [
      "brunch\n",
      "nice\n",
      "food\n",
      "foods\n",
      "egg\n",
      "eggs\n",
      "good\n",
      "sauced\n",
      "sauce\n",
      "sauces\n",
      "fresh\n",
      "communal\n",
      "community\n",
      "pancakes\n",
      "pancake\n",
      "service\n"
     ]
    }
   ],
   "source": [
    "print(gensim.summarization.keywords(striptext,words=10))"
   ]
  },
  {
   "cell_type": "code",
   "execution_count": 46,
   "metadata": {},
   "outputs": [
    {
     "name": "stdout",
     "output_type": "stream",
     "text": [
      "I've come here several times with a friend for brunch and once for dinner -- we've both really enjoyed a lot of the breakfast foods available; my favorite is the brioche French toast with blackberry and lemon curd & she loves heir waffles.\n",
      "There are a lot of nice places in the city where you can get a very good breakfast for 1/3rd to 1/2 less than Community.\n",
      "Came here for brunch with my wife after she found the good review, and it did not disappoint!\n",
      "My friend n me went there early to enjoy pancake with fresh juice n on site coffee.\n"
     ]
    }
   ],
   "source": [
    "summary = '\\n'.join(build_naive_summary(community_data.raw()))\n",
    "print(summary)"
   ]
  },
  {
   "cell_type": "code",
   "execution_count": 47,
   "metadata": {},
   "outputs": [
    {
     "name": "stdout",
     "output_type": "stream",
     "text": [
      "I think they take forever to take your order, and deliver the food because they want you to sit in here as long as possible to make their business look busy.\n",
      "Food was good, my girl got fettuccine alfredo and I had the stuffed French toast.\n",
      "i would recommend going for brunch over any other meal, as everything i've ordered for brunch has been quite good the shakshuka is great, and you can't anything else like it in the area.\n",
      "I would love to try them out for dinner, as I said, the service was great and we were checked on regularly.\n",
      "The food was really good and they are known for their brunch menu.\n"
     ]
    }
   ],
   "source": [
    "text = le_monde_data.raw()\n",
    "summary_sentences = []\n",
    "candidate_sentences = {}\n",
    "candidate_sentence_counts = {}\n",
    "striptext = text.replace('\\n\\n', ' ')\n",
    "striptext = striptext.replace('\\n', ' ')\n",
    "summary = gensim.summarization.summarize(striptext, word_count=100) \n",
    "print(summary)\n",
    "#print(gensim.summarization.keywords(striptext,words=10))"
   ]
  },
  {
   "cell_type": "markdown",
   "metadata": {},
   "source": [
    "<h1>Topic modeling</h1>\n",
    "<h4>The goal of topic modeling is to identify the major concepts underlying a piece of text</h4>\n",
    "<h4>Topic modeling uses \"Unsupervised Learning\". No apriori knowledge is necessary\n",
    "<li>Though it is helpful in cleaning up results!"
   ]
  },
  {
   "cell_type": "markdown",
   "metadata": {},
   "source": [
    "<h3>LDA: Latent Dirichlet Allocation Model</h3>\n",
    "<li>Identifies potential topics using pruning techniques like 'upward closure'\n",
    "<li>Computes conditional probabilities for topic word sets\n",
    "<li>Identifies the most likely topics\n",
    "<li>Does this over multiple passes probabilistically picking topics in each pass\n",
    "<li>Good intuitive explanation: http://blog.echen.me/2011/08/22/introduction-to-latent-dirichlet-allocation/"
   ]
  },
  {
   "cell_type": "code",
   "execution_count": 48,
   "metadata": {},
   "outputs": [],
   "source": [
    "from gensim import corpora\n",
    "from gensim.models.ldamodel import LdaModel\n",
    "from gensim.parsing.preprocessing import STOPWORDS\n",
    "import pprint"
   ]
  },
  {
   "cell_type": "markdown",
   "metadata": {},
   "source": [
    "<h4>Prepare the text</h4>"
   ]
  },
  {
   "cell_type": "code",
   "execution_count": 49,
   "metadata": {},
   "outputs": [
    {
     "data": {
      "text/plain": [
       "360"
      ]
     },
     "execution_count": 49,
     "metadata": {},
     "output_type": "execute_result"
    }
   ],
   "source": [
    "text = PlaintextCorpusReader(\"data/\",\"Nikon_coolpix_4300.txt\").raw()\n",
    "striptext = text.replace('\\n\\n', ' ')\n",
    "striptext = striptext.replace('\\n', ' ')\n",
    "sentences = sent_tokenize(striptext)\n",
    "#words = word_tokenize(striptext)\n",
    "#tokenize each sentence into word tokens\n",
    "texts = [[word for word in sentence.lower().split()\n",
    "        if word not in STOPWORDS and word.isalnum()]\n",
    "        for sentence in sentences]\n",
    "len(texts)"
   ]
  },
  {
   "cell_type": "markdown",
   "metadata": {},
   "source": [
    "<h4>Create a (word,frequency) dictionary for each word in the text</h4>"
   ]
  },
  {
   "cell_type": "code",
   "execution_count": 50,
   "metadata": {},
   "outputs": [
    {
     "name": "stdout",
     "output_type": "stream",
     "text": [
      "*****************************************************************************\n",
      "* Annotated by: Minqing Hu and Bing Liu, 2004.              \n",
      "*\t\tDepartment of Computer Sicence\n",
      "*               University of Illinois at Chicago              \n",
      "*\n",
      "* Product name: Nikon coolpix 4300\n",
      "* Review Source: amazon.com\n",
      "*\n",
      "* See Readme.txt to find the meaning of each symbol. \n",
      "*****************************************************************************\n",
      "\n",
      "[t]the best 4mp compact digital available  \n",
      "camera[+2]##this camera is perfect for an enthusiastic amateur photographer . \n",
      "picture[+3], macro[+3]##the pictures are razor-sharp , even in macro . \n",
      "size[+2][u]##it is small enough to fit easily in a coat pocket or purse . \n",
      "weight[+1][u]##it is light enough to carry around all day without bother . \n",
      "feature[+2][u]##operating its many features is easy and often obvious - i 'm no annie lebovitz , but i was able to figure out most of its abilities just messing around with it at a camera store . \n",
      "manual[+2]##the manual does a fine job filling in any blanks that remain . \n",
      "auto focus[+2],scene mode[+2]##the auto-focus performs well , but i love having the 12 optional scene modes - they are dummy-proof , and correspond to many situations in which i would actually seek to use the camera . \n",
      "rechargable battery[+2]##comes with a 16 mb compact flash and one rechargable battery the charging unit , included , is fast and small . \n",
      "##i bought a 256 mb cf and a second battery , so it 's good to go on a long vacation . \n",
      "camera[+2]##i enthusiastically recommend this camera . \n",
      "[t]perfect to grow into \n",
      "##i got my camera three days back , and although i had some experience with digital cameras prior to purchasing this one , i still rate myself as a beginner . \n",
      "##i bought this camera because it fit my budget and the pre-production and production model reviews were positive . \n",
      "camera[+2][p], use[+1][u], feature[+2]##it 's easy to use , and yet very feature rich . \n",
      "auto mode[+1],scene mode[+2]##in the auto mode it functions basically as a point and click , the scene modes are very easy to use and produce good results . \n",
      "manual mode[+2]##the manual mode is feature rich and i can 't wait to get the hang of it . \n",
      "macro mode[+3],picture[+3]##the macro mode is exceptional , the pictures are very clear and you can take the pictures with the lens unbelievably close the subject . \n",
      "battery life[+3]##the battery life is very good , i got about 90 minutes with the lcd turned on all the time , the first time around , and i have been using it with the lcd off every now and then , and have yet needed to recharge it . \n",
      "##the camera comes with a lexar 16mb starter card , which stores about 10 images in fine mode at the highest resolution , i intend to buy a bigger card soon . \n",
      "[t]near perfection \n",
      "##i love photography . \n",
      "##i had an older camera that was simply a point and shoot camera . \n",
      "##i needed something with more power , so i bought a nikon coolpix 4300 . \n",
      "camera[+3], use[+1]##i fell in love with this camera , it combines ease of use , with an immense amount of options and power . \n",
      "##you can use the scene modes , or fine tune the options , i. you can change the iso level , shutter speed , etc. \n",
      "camera[+2]##this camera is ideal for people who want more power , but do n't want to spend 1000s dollars on a camera . \n",
      "[t]not too excited \n",
      "##i bought coolpix 4300 two months after i had bought canon powershot s400 . \n",
      "##reason for two ? \n",
      "##it was not easy sharing one with my teen age kid . \n",
      "##the two cameras are very similar in functionality and pricing . \n",
      "##i 've had no problem with canon whatsoever . \n",
      "picture quality[+1]##with nikon , although picture qualities are as good as any other 4 mp cameras , i 've had the following headaches ; \n",
      "transfer[-2]##1 . pictures wo n't transfer to pc directly from the camera using the included transfer cable . \n",
      "##i did everything i could , and it took many days of frustration before concluding that the only way to transfer to pc is with the card reader . \n",
      "##card reader is included . \n",
      "##2 . the speed is noticeably slower than canon , especially so with flashes on . \n",
      "##3 . with low battery , it twice wiped out the entire pictures in the memory chip . \n",
      "##i used lexar 256 mb and i still use it which means nothing is wrong with lexar . \n",
      "##be very careful when the battery is low and make sure to carry extra batteries . \n",
      "[t]only \" cons \" here\n",
      "##the other reviewers have clearly pointed all the good things about this camera , which i do agree . \n",
      "##but there are certain issues might be they are to me here - all of them are minor; not major ones though , \n",
      "auto mode[-2]##. this camera keeps on autofocussing in auto mode with a buzzing sound which can 't be stopped . \n",
      "##would be really good if they have given an option to stop this autofocussing . \n",
      "##. if you want to have the date ; time on the image , its only through their software \" nikon view \" which reads the images date ; time from the images meta-data . \n",
      "##so if you use your card reader ; copy images - you got to onceagain open them through their software to put the date ; time . \n",
      "##in that too , there is n't a direct way to add date ; time - you got to say ' print images ' to a different directory in which there is an option to specify the date ; time . \n",
      "image[-2]##. even the slightest of the shakes totally distorts your image \n",
      "indoor image[-2]##. images taken indoor were n't so clear . \n",
      "##you got to have flash ' on ' to get it eventhough your room is well lit \n",
      "lens cap[-3]##. lens cap is a really annoying \n",
      "##. go ; get a high speed like lexar 12x or higher cf card . \n",
      "##else with simpler viking cf cards , it takes couple of seconds to write a picture with approximately \" fine **\" picture quality  \" image size : 1600 . \n",
      "movie[-2]##. the movie clips taken will always have some ' noise ' in it - you can 't avoid that . \n",
      "camera[+2], picture[+2], close-up shooting[+3]##but overall this is a good camera with a ' really good ' picture clarity ; an exceptional close-up shooting capability . \n",
      "##i would rate this is 4.5 stars picture quality ; image size defined above are specific to nikon coolpix . \n",
      "[t]bad service \n",
      "menu dial knob[-2]##within a year , there are problems with my menu dial knob . \n",
      "##it became stucked which makes it almost impossible to switch between modes . \n",
      "servicing[-2]##i send my camera to nikon for servicing , took them a whole 6 weeks to diagnose the problem . \n",
      "##worse of all , they claim that it 's some kind of internal damage and refuse to cover the cost via warranty ! \n",
      "##they would n't repair my camera unless if i pay $ 100 for parts ? and labor ! \n",
      "camera[+2],customer service[-2]##it is a good camera in terms of the function and quality , but take your chance with it because nikon absolutely sucks when it comes to customer service . \n",
      "[t]system error \n",
      "system error[-2]##got a \" system error \" problem 30 days after purchase . \n",
      "camera[-2]##made the camera totally inoperable . \n",
      "lens cap[-2]##also , the lens cap design is flawed . \n",
      "##you have to manually take the cap off in order to use it . \n",
      "audio[-2]##audio on video also lacking . \n",
      "picture[+3],delay[+1]##otherwise , it takes very good pictures ; shutter delay is n't so bad either . \n",
      "##still , had to send it back to nikon for repair . \n",
      "[t]amazing camera \n",
      "##i am an amateur photographer and here is a piece of advise to all the folks who are thinking about making a move the digital world . \n",
      "camera[+3]##nikon 4300 , i feel , is the best camera out there for the features and price . \n",
      "##here were my requirements in a digital camera : \n",
      "##1 . i had initially thought of buying a 2 or 3 megapixel camera but these are good for 4x6 \" or 5x7 \" prints and i wanted some really great 8x10 \" photos once in a while . \n",
      "##2 . i did not want a very small camera as it seems to get lost in my hands and i was n't comfortable with that . \n",
      "##i wanted a decent sized camera with a contour for my fingers to hold it steadily . \n",
      "##3 . i wanted a camera that had a lot of built-in settings for different types of suroundings while giving me an option to use my photography skills although , i am an amateur with an interest in photography by turning on the manual settings . \n",
      "##4 . and , of course , i wanted a respected brand and had to stay within my budget because i had bought an expensive camcorder before but had n't used it much . \n",
      "##depending on all the above requirements , i had narrowed down my search to nikon 4300 and canon powershot s400 models . \n",
      "##nikon got the final nod for its settings auto and manual along with movie modes , medium; compact size , price , brand name , good software that is included and previous reviews . \n",
      "##i should say i have been very happy with my decision ever since . \n",
      "picture[+3]##the pictures are absolutely amazing - the camera captures the minutest of details . \n",
      "##a few things that might make it even better : \n",
      "indoor picture[-1]##1 . pictures taken in an indoor setting are a little dull and rarely hazy if you tend to take photographs from a distance . \n",
      "delay[-2][u]##2 . it takes a while for the camera to actually capture the photograph from the time you click the button and i have seen people becoming a little impatient waiting for the flash to glow . \n",
      "picture[-2]##3 . the pictures come out hazy if your hands shake even for a moment during the entire process of taking a picture . \n",
      "##all the above , i think , are problems with all the digital cameras out there and so i have no major complaints . \n",
      "##try to buy a tripod and that should solve some of those problems . \n",
      "##whichever camera you buy , add upto about 200 dollars for an additional memory card i bought a 256 mb card , usb card reader , camera bag and the warranty . \n",
      "##and finally , get your pictures developed at a kodak picture maker machine even though it costs you a little extra - no one can beat kodak processing in terms of clarity and brightness . \n",
      "##hope this review has helped you in making up your mind . \n",
      "##i have taken about 150 photographs so far and have absolutely loved the experience . \n",
      "##i am looking forward to my vegas trip for some great photographs now . \n",
      "[t]super camera \n",
      "##with our compact 35mm broken , and a vacation in europe at hand , i finally decided to enter the digital age . \n",
      "##i first intended to buy the 3100 , but am really happy to invest the extra money for the 4300 . \n",
      "##the lense is a lot better , and the 4mb produce fantastic pictures . \n",
      "auto mode[+2], manual mode[+2], scene mode[+2]##the possibilities with auto , manual , and the very helpful \" scene \" mode , which offers 11 optimized situational settings like portrait , landscape , beach / snow , sunset etc. , are endless . \n",
      "movie mode[+2]##the movie mode is also working great . \n",
      "software[+3]##the 4300 comes with excellent easy to install software i use it on xp and win98 without problem , battery charger , usb and video cable . \n",
      "##a 64mb flash card camera comes with a 16mb holds 52 pictures on \" normal \" resolution . \n",
      "print[+2]##i experimented with online print ordering with the two major us brick and mortar retailers , and they both delivered great results . \n",
      "print[+3]##even at the \" normal \" setting , a 8x10 print ! shows not a single sign of visible rendering or pixels - you could never tell that the picture has been taken by a \" digital \" . \n",
      "battery life[+1]##the battery life is ok , but can be somewhat short when working a lot with the monitor on . \n",
      "##i therefore bought a second battery as a backup , and due to the lightingfast charging with the included charger , which by the way works on 110v as well as 220v in europe , we ran never out of \" juice \" . \n",
      "##i highly recommend the accessory kit , which provides you with everything else you need : \n",
      "##a nice camera bag , which holds camera plus all the cables and the charger . \n",
      "##furher it contains a card reader , a flash card folder for up to 8 cards , a lense cleaning rag , and an ac adapter , which is very helpful when working in an \" outlet environment \" . \n",
      "camera[+3]##over all a fantastic very compact camera , which made us experience photography on a totally new level ! \n",
      "[t]camera shake \n",
      "##after reading all the glowing review on this camera , i went to my local camera shop to try one . \n",
      "##i currently own an olympus d-550 which takes wonderful outdoor pictures . \n",
      "##however , indoor pictures of subjects more than a few feet away can be blurry or grainy . \n",
      "##anyway , in the store , i tried coolpix 4300 along with two other 4mp models minolta dimage s414 , and panasonic lumix . \n",
      "picture[-2]##focusing on a display rack about 20 feet away in a brightly lit room during day time , pictures produced by this camera were blurry and in a shade of orange . \n",
      "##pictures produced by the minolta were orange but not blurry . \n",
      "##pictures produced by the panasonic were excellent . \n",
      "##the store clerk concluded that the blurriness may be caused by shaking the camera slightly when i press the button , which is understandable since this camera is lighter than the other two models . \n",
      "##anyway , i ended up purchasing the lumix . \n",
      "##i 'm sure that this camera has all the wonderful features that others talk about . \n",
      "##however , as an average person with unsteady hands , i doubt it 'll perform well in lower light settings . \n",
      "[t]great camera \n",
      "##i purchased the nikon 4300 after several weeks of searching . \n",
      "##the value , name , and resolution signed the lease . \n",
      "picture[+3]##after nearly 800 pictures i have found that this nikon takes incredible pictures . \n",
      "digital zoom[+2],optical zoom[+2]##the digital zoom takes as good of pictures , as the optical zoom does ! \n",
      "picture[-2]##the inside pics , can be a bit challenging , but when you can instantly delete pics you dont like , that are not focused perfectly , or need lighting adjustments , make this camera very simple and effective . \n",
      "feature[+3]##i love all of the features , and presets as well . \n",
      "sunset feature[+3]##sunset feature takes incredible pics in the morning , and the evening ! \n",
      "software[+3]##the software you get with this camera is perfect . \n",
      "touchup[+2], redeye[+2]##touchups , redeye , and so on are very easy to alter , and correct . \n",
      "##i definately recommend a large memory card . \n",
      "##i use a 128mb card , and usually get around 70 to 100 pics 1024-1280 res. , with good resolution . \n",
      "##very large pics take 8mb each ! \n",
      "battery life[+2]##battery life is good , although i recommend two rechargebles , or a alkaline backup , for those emergency pics you have to have . \n",
      "camera[+3]##all and all , i am extremely pleased with this camera . \n",
      "##making the step from film to digital has been a great move . \n",
      "##i find myself emailing pics to everyone i know . \n",
      "camera[+3]##great camera , great investment ! \n",
      "[t]excellent camera \n",
      "##this is my second digital camera , though i also use one at work and have some experience with several nikon and canon models . \n",
      "use[+1][u],quality[+2],size[+1]##the nikon coolpix 4300 is wonderful -- easy to use , high quality , and compact in size . \n",
      "##with an extra battery and a couple of good sized memory cards you are all set for a day of picture taking while on vacation . \n",
      "auto setting[+2]##the auto setting does a great job most of the time but there are manual settings for those who want them . \n",
      "##if something were to happen to my nikon coolpix 4300 , i would order another just like it . \n",
      "[t]the ricksters review \n",
      "##after much research i decided on the nikon coolpix 4300 . \n",
      "camera[+2][p]##it has many great features and very few bad ones . \n",
      "picture[+2],ease of use[+2]##it takes excellent pics and is very easy to use , if you read the manual . \n",
      "##if you cant get great pics from this camera its because you havent read the manual . \n",
      "lcd[-1]##the only things i have found that i havent liked is that the lcd is hard to read in daylight but everyone elses is too . \n",
      "download[+2]##downloads are a snap and quick . \n",
      "control[+2]##controls easy yo use and easy to get to . \n",
      "camera[+3]##i 'm extremely glad i bought this camera . \n",
      "[t]super little camera \n",
      "camera[+3]##really happy with this little camera . \n",
      "size[+2][u]##it is n't big and offensive , though you would n't know it by looking at the pics it takes . \n",
      "##got it for christmas , still learning a few of the settings , but i do n't take pictures every single day . \n",
      "picture[+2],print[+2]##settings for just about everything , beautiful pics and beautiful prints . \n",
      "zoomed image[+2]##i expected the 12x digital zoom to be grainy , but onfull size high to fine quality , the zoomed images are quite impressive . \n",
      "##did buy a 256mb compact flash , it holds a lot of pics at any resolution . \n",
      "##i only wish you could get high quality tiff images at all resolutions , but does n't seem any of the buget cameras do . \n",
      "camera[+2]##still , at least from my perspective , a great camera for the money , and i 'm a happy camper ! \n",
      "[t]beginner looks experienced with coolpix \n",
      "camera[+2]##this is a wonderful camera . \n",
      "##my wife and i read and read and read reviews on different cameras for months . \n",
      "##in the end this is the one that we decided upon and since have never had buyer 's remorse . \n",
      "4mp[+2],optical zoom[+2]##4 mp gives you room for the future gaining experience ; cost offsets over time from wanting more in a camera , 3x optical and the fact that it carries nikon 's quality reputation behind it make the whole package prove itself worthwile at the price . \n",
      "picture[+2]##one neat thing - i have taken some pictures in what i thought would be impossible lighting conditions pitch black rooms - no problem for the camera - rooms looked like they had ample lighting . \n",
      "[t]can i have a few more stars please \n",
      "camera[+3]##this little camera has created a marriage between myself and nikon. never knew i could love a digital camera so much . \n",
      "software[+3], online service[+2]##the software that comes with it is amazing and the online service that comes free is really very neat. clean clear and well focused on over 95 % of all photos taken by a beginner . \n",
      "##100 % perfect if you put some thought and time into reading the manual before you take the photos . \n",
      "##i took the camera and just gave it to someone . \n",
      "##no instructions . \n",
      "photo[+2]##just point and shoot and the photos were great . \n",
      "##just imagine if you place a bit of knowledge when you take your photos . \n",
      "memory card[+2]##the memory card fit nicely since i also have a pocket pc and it automatically installed a picture software on my pda wolla . \n",
      "##my pda becames a digital album . \n",
      "##i have a 128mb card in it and can shoot over 150 hi res photos . \n",
      "camera[+2]##if you have to buy a camera on a buget, this has got to be the one . \n",
      "##go get it . \n",
      "##before they are sold out ! \n",
      "[t]great camera \n",
      "camera[+2]##great camera , i have been using this for several months and got excellent results , simple friendly usage , in many scenes indoor , outdoor , snow , close up macro etc. \n",
      "[t]great camera for a great price \n",
      "##i bought my nikon coolpix4300 about a week ago . \n",
      "camera[+3], feature[+2]##this is my first digital camera and i can say that i am quite impressed with the features that it has . \n",
      "use[+2][u]##it is easy enough to use for a beginner like me but it has plenty of features for me to grow into . \n",
      "macro[+2]##i particularly like the way it aids me in taking my macro shots . \n",
      "picture quality[+2]##my friends were impressed with the quality of the pictures i took ! \n",
      "autofocus[-2]##one downside though is that autofocus does not work well when battery is low . \n",
      "##i assume this is the case for most cameras since it does not have enough power to do autofocus . \n",
      "battery life[+1]##battery life is ok . \n",
      "##i plan on buying a second battery and a larger cf for it . \n",
      "[t]not disappointed \n",
      "camera[+2]##great camera , and for the price you can 't beat it . \n",
      "##i 've been using it for about 3 months now . \n",
      "control[+3]##i found the controls very intuitive and learned how to manuver through the menus quickly . \n",
      "quality[+3]##the quality is superb . \n",
      "size[+2]##the small size is perfect for my little hands , but may perhaps be uncomfortable or awkward for a bigger person . \n",
      "[t]field tested \n",
      "##we use older versions 880 , 885 of this model in the office and i find them to produce excellent quality photos . \n",
      "nikon 4300[+3]##the 4300 is a very durable , compact package , and i find nikon to be a brand that i can trust . \n",
      "##it comes with a 16mb flash card that you will need to upgrade ! \n",
      "##we got a 256mb card , and have been hard-pressed to fill it over a weekend . \n",
      "##the only drawbacks that i have noticed : \n",
      "battery[-2]##it comes with a rechargable battery that does not seem to last all that long , especially if you use the flash a lot . \n",
      "##so , it 's a good idea to purchase an extra battery to insure that you are not left hanging . \n",
      "auto-focus assist light[-1]##it does not have an auto-focus assist light which is nice for taking shots in low-light situations it allows the camera to focus in low light . \n",
      "##i would say that this is not a major issue , but it can be slightly annoying if you care about these things . \n",
      "optical zoom[-1]##it has a 3x optical zoom , which is average for these cameras . \n",
      "##for more , you sacrifice weight and size : more optical zoom requires more glass and focal length . \n",
      "##it does have a digital zoom on top of the optical zoom , but you sacrifice quality . \n",
      "##i set the camera to the \" manual \" mode for one main reason : \n",
      "##in any other mode it autofocuses continuously and burns batteries . \n",
      "##in manual , you can set it to \" single af \" where it will focus by depressing the shudder button prior to taking the pic ; this is not really a hinderance , you just have to be familiar with its menus and features . \n",
      "##in reality , these are the only drawbacks this camera has , much less than many other models ! \n",
      "##it is easy to \" focus \" in on the drawbacks , so do n't think i hate this camera . \n",
      "camera[+3]##it really is an awesome camera that is hard to beat for general-to moderate snapping . \n",
      "##for work , we use them in the field often , and they hold up really well . \n",
      "macro[+2]##they take excellent macro shots as well . \n",
      "menu[+2]##the menus and features are easy to manipulate and access , and it takes silent movies . \n",
      "[t]it do n't get better \n",
      "camera[+2]##i compared this to a lot of other cameras , believe me , it 's value for money . \n",
      "picture[+3]##the picturers are amazing . \n",
      "##do n't waste time looking at anything else , just buy this one . \n",
      "##it do n't get any better then the nikon 4300 . \n",
      "[t]excellent compact digital camera \n",
      "##i am a nikon fan , and owned and used slr nikon fe , n50 and n90s for many many years . \n",
      "picture quality[+2],function[+2]##recently bought this coolpix 4300 along with a 256mb ultra flash card . as expected , i happily found that qualities of the picture are excellent with 3m-4m pixel / fine combos and many of the user-friendly functions are very similar to slr models , and with added convenience of a digital camera that you can see pictures immediately . \n",
      "txt file[+2]##i particularly like the \" txt \" file which records all the control information for all the pictures you take. \n",
      "size[+2][u]##the compact digital camera is especially useful if you have little children around and you can always take the camera with you and take many pictures of them . \n",
      "##try to buy a high capacity ultra card , as it 's 2x as faster as the regular cf card . \n",
      "##consider the time you save during picture taking especially not missing a good moment and during download , it 's well worth the little extra money . \n",
      "##an extra rechargeable en-el 1 battery is also handy , so you will seldom run into \" out of battery \" situation . \n",
      "##use the rechargeable because that saves you money and helps the environment in a long run . \n",
      "##one thing puzzles me is that for \" fine and 2200 + \" quality pictures , one ultra 256mb cf card can only hold 130-140 pics , but the size of the pictures are only around 1.2 mb , the math does not add up . \n",
      "##i would expecct the card to hold over 200 pictures for size of 1.2 mb/per . \n",
      "##anybody can explain that ? \n",
      "nikon[+3]##a nikon will make you happier and leave you lots of good memories , as always . \n",
      "[t]you will not be sorry \n",
      "camera[+3],picture[+2]##i highly recommend this camera to anyone looking for a good digital camera that takes great pictures yet does n't take weeks to figure out how to operate . \n",
      "picture quality[+2]##we take this camera with us everywhere and are constantly amazed at the quality of the pictures that we get and the number of different ways the camera allows for pictures to be taken . \n",
      "camera[+3]##i am a picture fanatic so i consider myself picky and if your the same way this camera will not let you down.now buy it ! \n",
      "[t]absolutely great point and shoot camera \n",
      "##first of all , let 's start with my needs : 1 $ 500 budget 2 4mp resolution , 3 optical clarity and color , 4 fast - very little shutter lag and quick sep-up for next picture , 5 compact size , and 6 good camera grip to minimize camera shake . \n",
      "##for three months , i 've researched the internet and magazines , queried various sales personnel , and took hands-on in-store test drives . \n",
      "##and i finally settled on the nikon coolpix 4300 . \n",
      "camera[+3]##i have it for a week now , and this camera has exceeded my expectations . \n",
      "picture[+2],indoor shot[+1]##the daylight pictures are brilliant and the indoor shots are very good provided that your subject is no more than about 8 feet away . \n",
      "##the shutter lag is on par with what i 've experienced with point and shoot 35mm and aps film cameras and the next frame advance is about a couple seconds using a high speed 12x 128mb compact flash card a salesperson recommended the high speed card since next frame advance speed was important to me - and it was only a few dollars more . \n",
      "image download[+2][u]##uploading the images to my windows-based pc is very fast and simple . \n",
      "indoor shot[-1]##the only drawbacks i 've encountered are : 1 indoor shots from a distance > 8ft lack contrast and color , but i 've found this to be a problem with all cameras with built-in flashes that i 've used even on a nikon slr . \n",
      "##right now , i 'm researching for an inexpensive slave flash unit that 's designed for digital cameras . \n",
      "battery life[-1]##2 the battery life seems to be on the short side but adequate for most situations . \n",
      "##i got 45 outdoor and 15 indoor shots with the monitor on turning the camera off and on over a 4 hour period before the battery died . \n",
      "##an extra for a back-up battery would be a good investment . \n",
      "software[-1]##3 the picture editing software it came with is adequate , but not very robust . \n",
      "##i 'll still use my photosuite for editing . \n",
      "##one more thing about indoor shots - many of the reviews knocked this camera for low light focusing . \n",
      "##just for the heck of it , i took it into my dark kitchen with only indirect light coming in though the door , and the focusing was just fine . \n",
      "camera[+3]##in summary , i love this camera and would whole-heartedly recommend this to anyone wanting a high quality point and shoot camera in the medium price range . \n",
      "##- since i wrote the review above in january 2003 , i still love this camera . \n",
      "##i 've picked up a few accessories that i found to be useful . \n",
      "##i bought a digi-slave dsf-1s flash unit . \n",
      "##i do n't use a bracket , i just hold it above my head and aim the flash with my left hand . \n",
      "##i also got a ur-e 4 step down ring adapter , lc-e 900 lens cap , and the nikon 28mm filter set . \n",
      "##this provides added protection for the camera lens and allows the use of filters . \n",
      "##i leave the adapter and uv filter on all the time . \n",
      "##this also allows you to turn on the camera on without having to remove the lens cap . \n",
      "##the downside is that you might accidentally take pictures with the lens cap on , the camera wo n't fit in the small cases , and 28mm filters are expensive and hard to find . \n",
      "[t]great camera \n",
      "camera[+2]##great camera . \n",
      "use[+2]##i am impressed with how easy this camera is to use . \n",
      "picture[+2]##it takes great pictures . \n",
      "manual[+2]##the manual is easy to understand , and it is mostly idiot proof . \n",
      "size[+2][u]##it is small , unlike my canon slr , so it easily fits in my pocket . \n",
      "##i have not yet figured out how to make it snap quick pictures for action shots . \n",
      "##now where did i put that manual ? \n",
      "[t]best 4-mp camera of its size and price range \n",
      "##do n't let my five star rating fool you . \n",
      "##the nikon coolpix 4300 deserves six . \n",
      "camera[+3]##i got this camera about a month ago and i can 't put it down . \n",
      "##i was considering buying the minolta f-100 and the sony dsc-p 9 , but at the camera shop , realized this one went above and beyond . \n",
      "picture quality[+2]##i selected the 4300 right away and have gotten high quality pictures every time . \n",
      "autofocus[+1],scene mode[+1],manual mode[+1]##autofocus feels exactly like my film camera while scene and manual mode add a little fun challenge to it all . \n",
      "##i would also recommend buying an extra battery and at least a 128 mb compact flash type i memory card . \n",
      "##buy this camera and savour it . \n",
      "[t]great camera \n",
      "##i reviewed several digital cameras before settling on this one . \n",
      "##this one was rated very high by several people check out this site and epinions.com . \n",
      "camera[+2][p]##i have not been disappointed with my purchase . \n",
      "picture quality[+2]##picture quality in outdoor settings is indistinguishable from 35mm . \n",
      "indoor shot[-2]##on average , indoor shots with a flash are not quite as good as 35mm . \n",
      "##however , the convenience of using digital far outweighs the slightly less accurate indoor pictures . \n",
      "camera[+3]##i am extremely satisfied with this camera . \n",
      "##i purchased it from amazon on a since discontinued promotion . \n",
      "##buy an extra battery - life is good but still somewhat short . \n",
      "##do n't buy this camera if you are not going to purchase a 128 megabyte card . \n",
      "##you need the storage to hold a decent amount of shots at 4 megapixel resolution . \n",
      "##i have one thing to say to the numbskulls who complain that this camera 's controls are confusing and hard to remember : \n",
      "##read the directions ! \n",
      "##the regular mode in this camera works for 80 % of settings . \n",
      "scene mode[+2]##the \" scene \" mode works well for the remainder of shots that are not going to be in a \" regular \" setting . \n",
      "##i wish the camera had a higher optical zoom so that i could take better wildlife photos . \n",
      "optical setting[+1]##however , its 3x optical setting is acceptable for 70 % of the shots that i take . \n",
      "##buy this camera , you wo n't regret it . \n",
      "[t]digital nirvana \n",
      "camera[+2]##if you 're looking for a small , compact , super resolution digital camera , you can end your search with the nikon 4300 ! \n",
      "picture quality[+3]##after a lengthy and extensive journey for a feature-loaded , high performance , travel size camera , i initially gravitated to this little gem because of the superior picture quality 4 mega pixel . \n",
      "nikon[+3]##after using it for about a month , i can state unequivocably that this nikon definitely delivers a huge bang for the buck . \n",
      "use[+1], accessory[+2]##its easy to use and the sheer fun of being able to use an array of nikon accessories like the telephoto and wide-angle lenses is the proverbial icing on the cake . \n",
      "picture quality[+3],feature[+3]##yes , the picture quality and features which are too numerous to mention are unmatched for any camera in this price range . \n",
      "design[+2],construction[+2],optic[+2]##the design and construction are excellent -- as is the legendary quality of the nikon optics . \n",
      "##i own a 35mm slr camera and this is my second digital . \n",
      "##if you 're seeking that elusive state of photographic euphoria that is free of buyer 's remorse and filled with cool , then travel to the world of the coolpix 4300 ! \n",
      "[t]i love this baby\n",
      "##had it for a week . \n",
      "camera[+2]##there are so many functions in this little , yet powerful camera ! \n",
      "[t]it 's so cool \n",
      "camera[+3][p]##seriously ! i love it ! \n",
      "##my room is so dark and when i tried taking pics of it with my old camera , they came out black , but with this , they look the same in the picture as in real life . \n",
      "##better actually cause my carpet looks clean , lol . \n",
      "camera[+2]##but this camera is great ! \n",
      "picture quality[+3],movie[+1]##the picture quality is amazing and you can connect it to your tv and could make silent movies that way if you wanted to . \n",
      "##i can 't connect it to my computer though , but that 's a problem with windows me , not the camera . \n",
      "##if you have windows me you should upgrade to xp anyway , lol . \n",
      "##but it works perfectly fine on my parent 's computer . \n",
      "lense cap[+1]##it does have a lense cap , but it wo n't let you take pics with it on which is real good . \n",
      "battery[+2]##the battery recharges ral fast and the recharger thingy that comes with is real nice . \n",
      "camera[+2]##ooh , and i dropped it and it still works fine : this little camera has so many features i have n't even gotten to all of them yet . \n",
      "[t]excellent little camera \n",
      "##i did quite a bit of research before buying this camera , and this one had everything i was looking for . \n",
      "use[+1],feature[+2], camera[+2]##it 's easy for beginners to use , but has features that more serious photographers will love , so it 's an excellent camera to grow into . \n",
      "weight[+2], picture[+2][u]##it 's light weight enough to take with you everywhere , but powerful enough to get outstanding pix . \n",
      "continuous shot mode[+3]##i love the continuous shot mode , which allows you to take up to 16 pix in rapid succession -- great for action shots . \n",
      "photo quality[+3],print[+2]##i 'm amazed at the photo quality -- prints are indistinguishable from 35mm prints . \n",
      "8mb card[-2]##i only have one complaint , and that is the 8mb card included . \n",
      "8mb[-2]##8mb for a camera like this is a joke . \n",
      "##a card with more memory is a must . \n",
      "##a minor quibble , since most cameras on the market still only include the 8mb cards . \n",
      "[t]perfect consumer digital camera \n",
      "##if you do any research into digital cameras , you 'll quickly find that this camera is just about the best value out there . \n",
      "##these are the reasons i think it 's great : \n",
      "feature[+2]##1 it has all the features an amatuer photo-enthusiast would want . \n",
      "use[+2]##2 it is easy enough for my grandmother to use . \n",
      "size[+2][u],control[+2]##3 it is very compact but the controls are so well designed that they 're still easy to use . \n",
      "##4 it has optional lenses like wide angles and extra zooms . \n",
      "##5 for \" digital film \" it uses compact flash cards , which are easy to find , cheap , reliable and supported by many other devices you may have at hoome . \n",
      "nikon support[+1]##6 the nikon coolpix line is a well-established line so you know support and parts are going to be available even when nikon releases a newer model . \n",
      "picture quality[+2]##7 picture quality is excellent . \n",
      "battery life[+2]##8 battery life is excellent . \n",
      "optical zoom[+2]##9 3x built-in optical zoom is a lot for this price range . \n",
      "price[+2]##10 great price for all the features . \n",
      "##here 's what you may miss or be annoyed by with this camera : \n",
      "firewire[-1]##1 no direct firewire to the camera . \n",
      "##there is usb , though . \n",
      "viewfinder[-1]##2 the camera is so small that when you attach some lenses i have the 19mm wide-angle -- wc-e 68 , the optical viewfinder is partially obscured . \n",
      "##this does n't affect the picture , of course . \n",
      "##you just have to use the lcd viewfinder to see the whole picture . \n",
      "##it 's no problem for me personally . \n",
      "##3 battery has to be removed to recharge . \n",
      "##4 an ac adapter for powering the camera while the battery 's out is not included , although one can be purchased separately . \n",
      "##5 two different adapters -- ur-e 4 and ur-e 7 -- are required for some attachment lenses . \n",
      "##most of these \" annoyances \" , though , are comparable to what you 'll find on other cameras in this price range . \n",
      "[t]small camera \n",
      "##i am new to the whole digital camera thing ; well , new to the whole camera thing period , really . \n",
      "price[+2][u],learn[+2],image[+3]##this camera was affordable , very easy to learn , and produces spectacular images . \n",
      "auto mode[+2],scene mode[+2],manual mode[+2]##the auto-mode is good enough for most shots but the 4300 also boasts 12 versatile scene modes as well as a manual mode though i admit i have n't played with it too much on manual . \n",
      "size[+2]##it 's size also makes it ideal for travel . \n",
      "camera[+3]##overall the nikon 4300 is a very dependable , robust , and useful little camera . \n",
      "[t]nikon does it again \n",
      "camera[+3], print quality[+3]##awesome camera with huge print quality in a tiny package . \n",
      "closeup mode[+2], battery[+2]##the same 4mp chip from the 4500 camera , plus a 3x zoom with the ability to expand upon that with extenders , great closeup mode , long lasting rechargable battery , etc etc. \n",
      "camera[+3]##in my opinion it 's the best camera for the money if you 're looking for something that 's easy to use , small good for travel , and provides excellent , sharp images . \n",
      "\n"
     ]
    }
   ],
   "source": [
    "print(text)"
   ]
  },
  {
   "cell_type": "code",
   "execution_count": 51,
   "metadata": {},
   "outputs": [
    {
     "data": {
      "text/plain": [
       "'*****************************************************************************\\n* Annotated by: Minqing Hu and Bing Liu, 2004.              \\n*\\t\\tDepartment of Computer Sicence\\n*               University of Illinois at Chicago              \\n*\\n* Product name: Nikon coolpix 4300\\n* Review Source: amazon.com\\n*\\n* See Readme.txt to find the meaning of each symbol. \\n*****************************************************************************\\n\\n[t]the best 4mp compact digital available  \\ncamera[+2]##this camera is perfect for an enthusiastic amateur photographer . \\npicture[+3], macro[+3]##the pictures are razor-sharp , even in macro . \\nsize[+2][u]##it is small enough to fit easily in a coat pocket or purse . \\nweight[+1][u]##it is light enough to carry around all day without bother . \\nfeature[+2][u]##operating its many features is easy and often obvious - i \\'m no annie lebovitz , but i was able to figure out most of its abilities just messing around with it at a camera store . \\nmanual[+2]##the manual does a fine job filling in any blanks that remain . \\nauto focus[+2],scene mode[+2]##the auto-focus performs well , but i love having the 12 optional scene modes - they are dummy-proof , and correspond to many situations in which i would actually seek to use the camera . \\nrechargable battery[+2]##comes with a 16 mb compact flash and one rechargable battery the charging unit , included , is fast and small . \\n##i bought a 256 mb cf and a second battery , so it \\'s good to go on a long vacation . \\ncamera[+2]##i enthusiastically recommend this camera . \\n[t]perfect to grow into \\n##i got my camera three days back , and although i had some experience with digital cameras prior to purchasing this one , i still rate myself as a beginner . \\n##i bought this camera because it fit my budget and the pre-production and production model reviews were positive . \\ncamera[+2][p], use[+1][u], feature[+2]##it \\'s easy to use , and yet very feature rich . \\nauto mode[+1],scene mode[+2]##in the auto mode it functions basically as a point and click , the scene modes are very easy to use and produce good results . \\nmanual mode[+2]##the manual mode is feature rich and i can \\'t wait to get the hang of it . \\nmacro mode[+3],picture[+3]##the macro mode is exceptional , the pictures are very clear and you can take the pictures with the lens unbelievably close the subject . \\nbattery life[+3]##the battery life is very good , i got about 90 minutes with the lcd turned on all the time , the first time around , and i have been using it with the lcd off every now and then , and have yet needed to recharge it . \\n##the camera comes with a lexar 16mb starter card , which stores about 10 images in fine mode at the highest resolution , i intend to buy a bigger card soon . \\n[t]near perfection \\n##i love photography . \\n##i had an older camera that was simply a point and shoot camera . \\n##i needed something with more power , so i bought a nikon coolpix 4300 . \\ncamera[+3], use[+1]##i fell in love with this camera , it combines ease of use , with an immense amount of options and power . \\n##you can use the scene modes , or fine tune the options , i. you can change the iso level , shutter speed , etc. \\ncamera[+2]##this camera is ideal for people who want more power , but do n\\'t want to spend 1000s dollars on a camera . \\n[t]not too excited \\n##i bought coolpix 4300 two months after i had bought canon powershot s400 . \\n##reason for two ? \\n##it was not easy sharing one with my teen age kid . \\n##the two cameras are very similar in functionality and pricing . \\n##i \\'ve had no problem with canon whatsoever . \\npicture quality[+1]##with nikon , although picture qualities are as good as any other 4 mp cameras , i \\'ve had the following headaches ; \\ntransfer[-2]##1 . pictures wo n\\'t transfer to pc directly from the camera using the included transfer cable . \\n##i did everything i could , and it took many days of frustration before concluding that the only way to transfer to pc is with the card reader . \\n##card reader is included . \\n##2 . the speed is noticeably slower than canon , especially so with flashes on . \\n##3 . with low battery , it twice wiped out the entire pictures in the memory chip . \\n##i used lexar 256 mb and i still use it which means nothing is wrong with lexar . \\n##be very careful when the battery is low and make sure to carry extra batteries . \\n[t]only \" cons \" here\\n##the other reviewers have clearly pointed all the good things about this camera , which i do agree . \\n##but there are certain issues might be they are to me here - all of them are minor; not major ones though , \\nauto mode[-2]##. this camera keeps on autofocussing in auto mode with a buzzing sound which can \\'t be stopped . \\n##would be really good if they have given an option to stop this autofocussing . \\n##. if you want to have the date ; time on the image , its only through their software \" nikon view \" which reads the images date ; time from the images meta-data . \\n##so if you use your card reader ; copy images - you got to onceagain open them through their software to put the date ; time . \\n##in that too , there is n\\'t a direct way to add date ; time - you got to say \\' print images \\' to a different directory in which there is an option to specify the date ; time . \\nimage[-2]##. even the slightest of the shakes totally distorts your image \\nindoor image[-2]##. images taken indoor were n\\'t so clear . \\n##you got to have flash \\' on \\' to get it eventhough your room is well lit \\nlens cap[-3]##. lens cap is a really annoying \\n##. go ; get a high speed like lexar 12x or higher cf card . \\n##else with simpler viking cf cards , it takes couple of seconds to write a picture with approximately \" fine **\" picture quality  \" image size : 1600 . \\nmovie[-2]##. the movie clips taken will always have some \\' noise \\' in it - you can \\'t avoid that . \\ncamera[+2], picture[+2], close-up shooting[+3]##but overall this is a good camera with a \\' really good \\' picture clarity ; an exceptional close-up shooting capability . \\n##i would rate this is 4.5 stars picture quality ; image size defined above are specific to nikon coolpix . \\n[t]bad service \\nmenu dial knob[-2]##within a year , there are problems with my menu dial knob . \\n##it became stucked which makes it almost impossible to switch between modes . \\nservicing[-2]##i send my camera to nikon for servicing , took them a whole 6 weeks to diagnose the problem . \\n##worse of all , they claim that it \\'s some kind of internal damage and refuse to cover the cost via warranty ! \\n##they would n\\'t repair my camera unless if i pay $ 100 for parts ? and labor ! \\ncamera[+2],customer service[-2]##it is a good camera in terms of the function and quality , but take your chance with it because nikon absolutely sucks when it comes to customer service . \\n[t]system error \\nsystem error[-2]##got a \" system error \" problem 30 days after purchase . \\ncamera[-2]##made the camera totally inoperable . \\nlens cap[-2]##also , the lens cap design is flawed . \\n##you have to manually take the cap off in order to use it . \\naudio[-2]##audio on video also lacking . \\npicture[+3],delay[+1]##otherwise , it takes very good pictures ; shutter delay is n\\'t so bad either . \\n##still , had to send it back to nikon for repair . \\n[t]amazing camera \\n##i am an amateur photographer and here is a piece of advise to all the folks who are thinking about making a move the digital world . \\ncamera[+3]##nikon 4300 , i feel , is the best camera out there for the features and price . \\n##here were my requirements in a digital camera : \\n##1 . i had initially thought of buying a 2 or 3 megapixel camera but these are good for 4x6 \" or 5x7 \" prints and i wanted some really great 8x10 \" photos once in a while . \\n##2 . i did not want a very small camera as it seems to get lost in my hands and i was n\\'t comfortable with that . \\n##i wanted a decent sized camera with a contour for my fingers to hold it steadily . \\n##3 . i wanted a camera that had a lot of built-in settings for different types of suroundings while giving me an option to use my photography skills although , i am an amateur with an interest in photography by turning on the manual settings . \\n##4 . and , of course , i wanted a respected brand and had to stay within my budget because i had bought an expensive camcorder before but had n\\'t used it much . \\n##depending on all the above requirements , i had narrowed down my search to nikon 4300 and canon powershot s400 models . \\n##nikon got the final nod for its settings auto and manual along with movie modes , medium; compact size , price , brand name , good software that is included and previous reviews . \\n##i should say i have been very happy with my decision ever since . \\npicture[+3]##the pictures are absolutely amazing - the camera captures the minutest of details . \\n##a few things that might make it even better : \\nindoor picture[-1]##1 . pictures taken in an indoor setting are a little dull and rarely hazy if you tend to take photographs from a distance . \\ndelay[-2][u]##2 . it takes a while for the camera to actually capture the photograph from the time you click the button and i have seen people becoming a little impatient waiting for the flash to glow . \\npicture[-2]##3 . the pictures come out hazy if your hands shake even for a moment during the entire process of taking a picture . \\n##all the above , i think , are problems with all the digital cameras out there and so i have no major complaints . \\n##try to buy a tripod and that should solve some of those problems . \\n##whichever camera you buy , add upto about 200 dollars for an additional memory card i bought a 256 mb card , usb card reader , camera bag and the warranty . \\n##and finally , get your pictures developed at a kodak picture maker machine even though it costs you a little extra - no one can beat kodak processing in terms of clarity and brightness . \\n##hope this review has helped you in making up your mind . \\n##i have taken about 150 photographs so far and have absolutely loved the experience . \\n##i am looking forward to my vegas trip for some great photographs now . \\n[t]super camera \\n##with our compact 35mm broken , and a vacation in europe at hand , i finally decided to enter the digital age . \\n##i first intended to buy the 3100 , but am really happy to invest the extra money for the 4300 . \\n##the lense is a lot better , and the 4mb produce fantastic pictures . \\nauto mode[+2], manual mode[+2], scene mode[+2]##the possibilities with auto , manual , and the very helpful \" scene \" mode , which offers 11 optimized situational settings like portrait , landscape , beach / snow , sunset etc. , are endless . \\nmovie mode[+2]##the movie mode is also working great . \\nsoftware[+3]##the 4300 comes with excellent easy to install software i use it on xp and win98 without problem , battery charger , usb and video cable . \\n##a 64mb flash card camera comes with a 16mb holds 52 pictures on \" normal \" resolution . \\nprint[+2]##i experimented with online print ordering with the two major us brick and mortar retailers , and they both delivered great results . \\nprint[+3]##even at the \" normal \" setting , a 8x10 print ! shows not a single sign of visible rendering or pixels - you could never tell that the picture has been taken by a \" digital \" . \\nbattery life[+1]##the battery life is ok , but can be somewhat short when working a lot with the monitor on . \\n##i therefore bought a second battery as a backup , and due to the lightingfast charging with the included charger , which by the way works on 110v as well as 220v in europe , we ran never out of \" juice \" . \\n##i highly recommend the accessory kit , which provides you with everything else you need : \\n##a nice camera bag , which holds camera plus all the cables and the charger . \\n##furher it contains a card reader , a flash card folder for up to 8 cards , a lense cleaning rag , and an ac adapter , which is very helpful when working in an \" outlet environment \" . \\ncamera[+3]##over all a fantastic very compact camera , which made us experience photography on a totally new level ! \\n[t]camera shake \\n##after reading all the glowing review on this camera , i went to my local camera shop to try one . \\n##i currently own an olympus d-550 which takes wonderful outdoor pictures . \\n##however , indoor pictures of subjects more than a few feet away can be blurry or grainy . \\n##anyway , in the store , i tried coolpix 4300 along with two other 4mp models minolta dimage s414 , and panasonic lumix . \\npicture[-2]##focusing on a display rack about 20 feet away in a brightly lit room during day time , pictures produced by this camera were blurry and in a shade of orange . \\n##pictures produced by the minolta were orange but not blurry . \\n##pictures produced by the panasonic were excellent . \\n##the store clerk concluded that the blurriness may be caused by shaking the camera slightly when i press the button , which is understandable since this camera is lighter than the other two models . \\n##anyway , i ended up purchasing the lumix . \\n##i \\'m sure that this camera has all the wonderful features that others talk about . \\n##however , as an average person with unsteady hands , i doubt it \\'ll perform well in lower light settings . \\n[t]great camera \\n##i purchased the nikon 4300 after several weeks of searching . \\n##the value , name , and resolution signed the lease . \\npicture[+3]##after nearly 800 pictures i have found that this nikon takes incredible pictures . \\ndigital zoom[+2],optical zoom[+2]##the digital zoom takes as good of pictures , as the optical zoom does ! \\npicture[-2]##the inside pics , can be a bit challenging , but when you can instantly delete pics you dont like , that are not focused perfectly , or need lighting adjustments , make this camera very simple and effective . \\nfeature[+3]##i love all of the features , and presets as well . \\nsunset feature[+3]##sunset feature takes incredible pics in the morning , and the evening ! \\nsoftware[+3]##the software you get with this camera is perfect . \\ntouchup[+2], redeye[+2]##touchups , redeye , and so on are very easy to alter , and correct . \\n##i definately recommend a large memory card . \\n##i use a 128mb card , and usually get around 70 to 100 pics 1024-1280 res. , with good resolution . \\n##very large pics take 8mb each ! \\nbattery life[+2]##battery life is good , although i recommend two rechargebles , or a alkaline backup , for those emergency pics you have to have . \\ncamera[+3]##all and all , i am extremely pleased with this camera . \\n##making the step from film to digital has been a great move . \\n##i find myself emailing pics to everyone i know . \\ncamera[+3]##great camera , great investment ! \\n[t]excellent camera \\n##this is my second digital camera , though i also use one at work and have some experience with several nikon and canon models . \\nuse[+1][u],quality[+2],size[+1]##the nikon coolpix 4300 is wonderful -- easy to use , high quality , and compact in size . \\n##with an extra battery and a couple of good sized memory cards you are all set for a day of picture taking while on vacation . \\nauto setting[+2]##the auto setting does a great job most of the time but there are manual settings for those who want them . \\n##if something were to happen to my nikon coolpix 4300 , i would order another just like it . \\n[t]the ricksters review \\n##after much research i decided on the nikon coolpix 4300 . \\ncamera[+2][p]##it has many great features and very few bad ones . \\npicture[+2],ease of use[+2]##it takes excellent pics and is very easy to use , if you read the manual . \\n##if you cant get great pics from this camera its because you havent read the manual . \\nlcd[-1]##the only things i have found that i havent liked is that the lcd is hard to read in daylight but everyone elses is too . \\ndownload[+2]##downloads are a snap and quick . \\ncontrol[+2]##controls easy yo use and easy to get to . \\ncamera[+3]##i \\'m extremely glad i bought this camera . \\n[t]super little camera \\ncamera[+3]##really happy with this little camera . \\nsize[+2][u]##it is n\\'t big and offensive , though you would n\\'t know it by looking at the pics it takes . \\n##got it for christmas , still learning a few of the settings , but i do n\\'t take pictures every single day . \\npicture[+2],print[+2]##settings for just about everything , beautiful pics and beautiful prints . \\nzoomed image[+2]##i expected the 12x digital zoom to be grainy , but onfull size high to fine quality , the zoomed images are quite impressive . \\n##did buy a 256mb compact flash , it holds a lot of pics at any resolution . \\n##i only wish you could get high quality tiff images at all resolutions , but does n\\'t seem any of the buget cameras do . \\ncamera[+2]##still , at least from my perspective , a great camera for the money , and i \\'m a happy camper ! \\n[t]beginner looks experienced with coolpix \\ncamera[+2]##this is a wonderful camera . \\n##my wife and i read and read and read reviews on different cameras for months . \\n##in the end this is the one that we decided upon and since have never had buyer \\'s remorse . \\n4mp[+2],optical zoom[+2]##4 mp gives you room for the future gaining experience ; cost offsets over time from wanting more in a camera , 3x optical and the fact that it carries nikon \\'s quality reputation behind it make the whole package prove itself worthwile at the price . \\npicture[+2]##one neat thing - i have taken some pictures in what i thought would be impossible lighting conditions pitch black rooms - no problem for the camera - rooms looked like they had ample lighting . \\n[t]can i have a few more stars please \\ncamera[+3]##this little camera has created a marriage between myself and nikon. never knew i could love a digital camera so much . \\nsoftware[+3], online service[+2]##the software that comes with it is amazing and the online service that comes free is really very neat. clean clear and well focused on over 95 % of all photos taken by a beginner . \\n##100 % perfect if you put some thought and time into reading the manual before you take the photos . \\n##i took the camera and just gave it to someone . \\n##no instructions . \\nphoto[+2]##just point and shoot and the photos were great . \\n##just imagine if you place a bit of knowledge when you take your photos . \\nmemory card[+2]##the memory card fit nicely since i also have a pocket pc and it automatically installed a picture software on my pda wolla . \\n##my pda becames a digital album . \\n##i have a 128mb card in it and can shoot over 150 hi res photos . \\ncamera[+2]##if you have to buy a camera on a buget, this has got to be the one . \\n##go get it . \\n##before they are sold out ! \\n[t]great camera \\ncamera[+2]##great camera , i have been using this for several months and got excellent results , simple friendly usage , in many scenes indoor , outdoor , snow , close up macro etc. \\n[t]great camera for a great price \\n##i bought my nikon coolpix4300 about a week ago . \\ncamera[+3], feature[+2]##this is my first digital camera and i can say that i am quite impressed with the features that it has . \\nuse[+2][u]##it is easy enough to use for a beginner like me but it has plenty of features for me to grow into . \\nmacro[+2]##i particularly like the way it aids me in taking my macro shots . \\npicture quality[+2]##my friends were impressed with the quality of the pictures i took ! \\nautofocus[-2]##one downside though is that autofocus does not work well when battery is low . \\n##i assume this is the case for most cameras since it does not have enough power to do autofocus . \\nbattery life[+1]##battery life is ok . \\n##i plan on buying a second battery and a larger cf for it . \\n[t]not disappointed \\ncamera[+2]##great camera , and for the price you can \\'t beat it . \\n##i \\'ve been using it for about 3 months now . \\ncontrol[+3]##i found the controls very intuitive and learned how to manuver through the menus quickly . \\nquality[+3]##the quality is superb . \\nsize[+2]##the small size is perfect for my little hands , but may perhaps be uncomfortable or awkward for a bigger person . \\n[t]field tested \\n##we use older versions 880 , 885 of this model in the office and i find them to produce excellent quality photos . \\nnikon 4300[+3]##the 4300 is a very durable , compact package , and i find nikon to be a brand that i can trust . \\n##it comes with a 16mb flash card that you will need to upgrade ! \\n##we got a 256mb card , and have been hard-pressed to fill it over a weekend . \\n##the only drawbacks that i have noticed : \\nbattery[-2]##it comes with a rechargable battery that does not seem to last all that long , especially if you use the flash a lot . \\n##so , it \\'s a good idea to purchase an extra battery to insure that you are not left hanging . \\nauto-focus assist light[-1]##it does not have an auto-focus assist light which is nice for taking shots in low-light situations it allows the camera to focus in low light . \\n##i would say that this is not a major issue , but it can be slightly annoying if you care about these things . \\noptical zoom[-1]##it has a 3x optical zoom , which is average for these cameras . \\n##for more , you sacrifice weight and size : more optical zoom requires more glass and focal length . \\n##it does have a digital zoom on top of the optical zoom , but you sacrifice quality . \\n##i set the camera to the \" manual \" mode for one main reason : \\n##in any other mode it autofocuses continuously and burns batteries . \\n##in manual , you can set it to \" single af \" where it will focus by depressing the shudder button prior to taking the pic ; this is not really a hinderance , you just have to be familiar with its menus and features . \\n##in reality , these are the only drawbacks this camera has , much less than many other models ! \\n##it is easy to \" focus \" in on the drawbacks , so do n\\'t think i hate this camera . \\ncamera[+3]##it really is an awesome camera that is hard to beat for general-to moderate snapping . \\n##for work , we use them in the field often , and they hold up really well . \\nmacro[+2]##they take excellent macro shots as well . \\nmenu[+2]##the menus and features are easy to manipulate and access , and it takes silent movies . \\n[t]it do n\\'t get better \\ncamera[+2]##i compared this to a lot of other cameras , believe me , it \\'s value for money . \\npicture[+3]##the picturers are amazing . \\n##do n\\'t waste time looking at anything else , just buy this one . \\n##it do n\\'t get any better then the nikon 4300 . \\n[t]excellent compact digital camera \\n##i am a nikon fan , and owned and used slr nikon fe , n50 and n90s for many many years . \\npicture quality[+2],function[+2]##recently bought this coolpix 4300 along with a 256mb ultra flash card . as expected , i happily found that qualities of the picture are excellent with 3m-4m pixel / fine combos and many of the user-friendly functions are very similar to slr models , and with added convenience of a digital camera that you can see pictures immediately . \\ntxt file[+2]##i particularly like the \" txt \" file which records all the control information for all the pictures you take. \\nsize[+2][u]##the compact digital camera is especially useful if you have little children around and you can always take the camera with you and take many pictures of them . \\n##try to buy a high capacity ultra card , as it \\'s 2x as faster as the regular cf card . \\n##consider the time you save during picture taking especially not missing a good moment and during download , it \\'s well worth the little extra money . \\n##an extra rechargeable en-el 1 battery is also handy , so you will seldom run into \" out of battery \" situation . \\n##use the rechargeable because that saves you money and helps the environment in a long run . \\n##one thing puzzles me is that for \" fine and 2200 + \" quality pictures , one ultra 256mb cf card can only hold 130-140 pics , but the size of the pictures are only around 1.2 mb , the math does not add up . \\n##i would expecct the card to hold over 200 pictures for size of 1.2 mb/per . \\n##anybody can explain that ? \\nnikon[+3]##a nikon will make you happier and leave you lots of good memories , as always . \\n[t]you will not be sorry \\ncamera[+3],picture[+2]##i highly recommend this camera to anyone looking for a good digital camera that takes great pictures yet does n\\'t take weeks to figure out how to operate . \\npicture quality[+2]##we take this camera with us everywhere and are constantly amazed at the quality of the pictures that we get and the number of different ways the camera allows for pictures to be taken . \\ncamera[+3]##i am a picture fanatic so i consider myself picky and if your the same way this camera will not let you down.now buy it ! \\n[t]absolutely great point and shoot camera \\n##first of all , let \\'s start with my needs : 1 $ 500 budget 2 4mp resolution , 3 optical clarity and color , 4 fast - very little shutter lag and quick sep-up for next picture , 5 compact size , and 6 good camera grip to minimize camera shake . \\n##for three months , i \\'ve researched the internet and magazines , queried various sales personnel , and took hands-on in-store test drives . \\n##and i finally settled on the nikon coolpix 4300 . \\ncamera[+3]##i have it for a week now , and this camera has exceeded my expectations . \\npicture[+2],indoor shot[+1]##the daylight pictures are brilliant and the indoor shots are very good provided that your subject is no more than about 8 feet away . \\n##the shutter lag is on par with what i \\'ve experienced with point and shoot 35mm and aps film cameras and the next frame advance is about a couple seconds using a high speed 12x 128mb compact flash card a salesperson recommended the high speed card since next frame advance speed was important to me - and it was only a few dollars more . \\nimage download[+2][u]##uploading the images to my windows-based pc is very fast and simple . \\nindoor shot[-1]##the only drawbacks i \\'ve encountered are : 1 indoor shots from a distance > 8ft lack contrast and color , but i \\'ve found this to be a problem with all cameras with built-in flashes that i \\'ve used even on a nikon slr . \\n##right now , i \\'m researching for an inexpensive slave flash unit that \\'s designed for digital cameras . \\nbattery life[-1]##2 the battery life seems to be on the short side but adequate for most situations . \\n##i got 45 outdoor and 15 indoor shots with the monitor on turning the camera off and on over a 4 hour period before the battery died . \\n##an extra for a back-up battery would be a good investment . \\nsoftware[-1]##3 the picture editing software it came with is adequate , but not very robust . \\n##i \\'ll still use my photosuite for editing . \\n##one more thing about indoor shots - many of the reviews knocked this camera for low light focusing . \\n##just for the heck of it , i took it into my dark kitchen with only indirect light coming in though the door , and the focusing was just fine . \\ncamera[+3]##in summary , i love this camera and would whole-heartedly recommend this to anyone wanting a high quality point and shoot camera in the medium price range . \\n##- since i wrote the review above in january 2003 , i still love this camera . \\n##i \\'ve picked up a few accessories that i found to be useful . \\n##i bought a digi-slave dsf-1s flash unit . \\n##i do n\\'t use a bracket , i just hold it above my head and aim the flash with my left hand . \\n##i also got a ur-e 4 step down ring adapter , lc-e 900 lens cap , and the nikon 28mm filter set . \\n##this provides added protection for the camera lens and allows the use of filters . \\n##i leave the adapter and uv filter on all the time . \\n##this also allows you to turn on the camera on without having to remove the lens cap . \\n##the downside is that you might accidentally take pictures with the lens cap on , the camera wo n\\'t fit in the small cases , and 28mm filters are expensive and hard to find . \\n[t]great camera \\ncamera[+2]##great camera . \\nuse[+2]##i am impressed with how easy this camera is to use . \\npicture[+2]##it takes great pictures . \\nmanual[+2]##the manual is easy to understand , and it is mostly idiot proof . \\nsize[+2][u]##it is small , unlike my canon slr , so it easily fits in my pocket . \\n##i have not yet figured out how to make it snap quick pictures for action shots . \\n##now where did i put that manual ? \\n[t]best 4-mp camera of its size and price range \\n##do n\\'t let my five star rating fool you . \\n##the nikon coolpix 4300 deserves six . \\ncamera[+3]##i got this camera about a month ago and i can \\'t put it down . \\n##i was considering buying the minolta f-100 and the sony dsc-p 9 , but at the camera shop , realized this one went above and beyond . \\npicture quality[+2]##i selected the 4300 right away and have gotten high quality pictures every time . \\nautofocus[+1],scene mode[+1],manual mode[+1]##autofocus feels exactly like my film camera while scene and manual mode add a little fun challenge to it all . \\n##i would also recommend buying an extra battery and at least a 128 mb compact flash type i memory card . \\n##buy this camera and savour it . \\n[t]great camera \\n##i reviewed several digital cameras before settling on this one . \\n##this one was rated very high by several people check out this site and epinions.com . \\ncamera[+2][p]##i have not been disappointed with my purchase . \\npicture quality[+2]##picture quality in outdoor settings is indistinguishable from 35mm . \\nindoor shot[-2]##on average , indoor shots with a flash are not quite as good as 35mm . \\n##however , the convenience of using digital far outweighs the slightly less accurate indoor pictures . \\ncamera[+3]##i am extremely satisfied with this camera . \\n##i purchased it from amazon on a since discontinued promotion . \\n##buy an extra battery - life is good but still somewhat short . \\n##do n\\'t buy this camera if you are not going to purchase a 128 megabyte card . \\n##you need the storage to hold a decent amount of shots at 4 megapixel resolution . \\n##i have one thing to say to the numbskulls who complain that this camera \\'s controls are confusing and hard to remember : \\n##read the directions ! \\n##the regular mode in this camera works for 80 % of settings . \\nscene mode[+2]##the \" scene \" mode works well for the remainder of shots that are not going to be in a \" regular \" setting . \\n##i wish the camera had a higher optical zoom so that i could take better wildlife photos . \\noptical setting[+1]##however , its 3x optical setting is acceptable for 70 % of the shots that i take . \\n##buy this camera , you wo n\\'t regret it . \\n[t]digital nirvana \\ncamera[+2]##if you \\'re looking for a small , compact , super resolution digital camera , you can end your search with the nikon 4300 ! \\npicture quality[+3]##after a lengthy and extensive journey for a feature-loaded , high performance , travel size camera , i initially gravitated to this little gem because of the superior picture quality 4 mega pixel . \\nnikon[+3]##after using it for about a month , i can state unequivocably that this nikon definitely delivers a huge bang for the buck . \\nuse[+1], accessory[+2]##its easy to use and the sheer fun of being able to use an array of nikon accessories like the telephoto and wide-angle lenses is the proverbial icing on the cake . \\npicture quality[+3],feature[+3]##yes , the picture quality and features which are too numerous to mention are unmatched for any camera in this price range . \\ndesign[+2],construction[+2],optic[+2]##the design and construction are excellent -- as is the legendary quality of the nikon optics . \\n##i own a 35mm slr camera and this is my second digital . \\n##if you \\'re seeking that elusive state of photographic euphoria that is free of buyer \\'s remorse and filled with cool , then travel to the world of the coolpix 4300 ! \\n[t]i love this baby\\n##had it for a week . \\ncamera[+2]##there are so many functions in this little , yet powerful camera ! \\n[t]it \\'s so cool \\ncamera[+3][p]##seriously ! i love it ! \\n##my room is so dark and when i tried taking pics of it with my old camera , they came out black , but with this , they look the same in the picture as in real life . \\n##better actually cause my carpet looks clean , lol . \\ncamera[+2]##but this camera is great ! \\npicture quality[+3],movie[+1]##the picture quality is amazing and you can connect it to your tv and could make silent movies that way if you wanted to . \\n##i can \\'t connect it to my computer though , but that \\'s a problem with windows me , not the camera . \\n##if you have windows me you should upgrade to xp anyway , lol . \\n##but it works perfectly fine on my parent \\'s computer . \\nlense cap[+1]##it does have a lense cap , but it wo n\\'t let you take pics with it on which is real good . \\nbattery[+2]##the battery recharges ral fast and the recharger thingy that comes with is real nice . \\ncamera[+2]##ooh , and i dropped it and it still works fine : this little camera has so many features i have n\\'t even gotten to all of them yet . \\n[t]excellent little camera \\n##i did quite a bit of research before buying this camera , and this one had everything i was looking for . \\nuse[+1],feature[+2], camera[+2]##it \\'s easy for beginners to use , but has features that more serious photographers will love , so it \\'s an excellent camera to grow into . \\nweight[+2], picture[+2][u]##it \\'s light weight enough to take with you everywhere , but powerful enough to get outstanding pix . \\ncontinuous shot mode[+3]##i love the continuous shot mode , which allows you to take up to 16 pix in rapid succession -- great for action shots . \\nphoto quality[+3],print[+2]##i \\'m amazed at the photo quality -- prints are indistinguishable from 35mm prints . \\n8mb card[-2]##i only have one complaint , and that is the 8mb card included . \\n8mb[-2]##8mb for a camera like this is a joke . \\n##a card with more memory is a must . \\n##a minor quibble , since most cameras on the market still only include the 8mb cards . \\n[t]perfect consumer digital camera \\n##if you do any research into digital cameras , you \\'ll quickly find that this camera is just about the best value out there . \\n##these are the reasons i think it \\'s great : \\nfeature[+2]##1 it has all the features an amatuer photo-enthusiast would want . \\nuse[+2]##2 it is easy enough for my grandmother to use . \\nsize[+2][u],control[+2]##3 it is very compact but the controls are so well designed that they \\'re still easy to use . \\n##4 it has optional lenses like wide angles and extra zooms . \\n##5 for \" digital film \" it uses compact flash cards , which are easy to find , cheap , reliable and supported by many other devices you may have at hoome . \\nnikon support[+1]##6 the nikon coolpix line is a well-established line so you know support and parts are going to be available even when nikon releases a newer model . \\npicture quality[+2]##7 picture quality is excellent . \\nbattery life[+2]##8 battery life is excellent . \\noptical zoom[+2]##9 3x built-in optical zoom is a lot for this price range . \\nprice[+2]##10 great price for all the features . \\n##here \\'s what you may miss or be annoyed by with this camera : \\nfirewire[-1]##1 no direct firewire to the camera . \\n##there is usb , though . \\nviewfinder[-1]##2 the camera is so small that when you attach some lenses i have the 19mm wide-angle -- wc-e 68 , the optical viewfinder is partially obscured . \\n##this does n\\'t affect the picture , of course . \\n##you just have to use the lcd viewfinder to see the whole picture . \\n##it \\'s no problem for me personally . \\n##3 battery has to be removed to recharge . \\n##4 an ac adapter for powering the camera while the battery \\'s out is not included , although one can be purchased separately . \\n##5 two different adapters -- ur-e 4 and ur-e 7 -- are required for some attachment lenses . \\n##most of these \" annoyances \" , though , are comparable to what you \\'ll find on other cameras in this price range . \\n[t]small camera \\n##i am new to the whole digital camera thing ; well , new to the whole camera thing period , really . \\nprice[+2][u],learn[+2],image[+3]##this camera was affordable , very easy to learn , and produces spectacular images . \\nauto mode[+2],scene mode[+2],manual mode[+2]##the auto-mode is good enough for most shots but the 4300 also boasts 12 versatile scene modes as well as a manual mode though i admit i have n\\'t played with it too much on manual . \\nsize[+2]##it \\'s size also makes it ideal for travel . \\ncamera[+3]##overall the nikon 4300 is a very dependable , robust , and useful little camera . \\n[t]nikon does it again \\ncamera[+3], print quality[+3]##awesome camera with huge print quality in a tiny package . \\ncloseup mode[+2], battery[+2]##the same 4mp chip from the 4500 camera , plus a 3x zoom with the ability to expand upon that with extenders , great closeup mode , long lasting rechargable battery , etc etc. \\ncamera[+3]##in my opinion it \\'s the best camera for the money if you \\'re looking for something that \\'s easy to use , small good for travel , and provides excellent , sharp images . \\n'"
      ]
     },
     "execution_count": 51,
     "metadata": {},
     "output_type": "execute_result"
    }
   ],
   "source": [
    "text"
   ]
  },
  {
   "cell_type": "code",
   "execution_count": 52,
   "metadata": {},
   "outputs": [],
   "source": [
    "dictionary = corpora.Dictionary(texts) #(word_id,frequency) pairs\n",
    "corpus = [dictionary.doc2bow(text) for text in texts] #(word_id,freq) pairs by sentence\n",
    "#print(dictionary.token2id)\n",
    "#print(dictionary.keys())\n",
    "#print(corpus[9])\n",
    "#print(texts[9])\n",
    "#print(dictionary[73])\n",
    "#dictionary[4]"
   ]
  },
  {
   "cell_type": "markdown",
   "metadata": {},
   "source": [
    "<h4>Do the LDA</h4>"
   ]
  },
  {
   "cell_type": "markdown",
   "metadata": {},
   "source": [
    "<h4>Parameters:</h4>\n",
    "<li>Number of topics: The number of topics you want generated. The larger the document, the more the desirable topics\n",
    "<li>Passes: The LDA model makes through the document. More passes, slower analysis"
   ]
  },
  {
   "cell_type": "code",
   "execution_count": 53,
   "metadata": {},
   "outputs": [],
   "source": [
    "#Set parameters\n",
    "num_topics = 5 #The number of topics that should be generated\n",
    "passes = 10 "
   ]
  },
  {
   "cell_type": "code",
   "execution_count": 54,
   "metadata": {},
   "outputs": [],
   "source": [
    "lda = LdaModel(corpus,\n",
    "              id2word=dictionary,\n",
    "              num_topics=num_topics,\n",
    "              passes=10)"
   ]
  },
  {
   "cell_type": "code",
   "execution_count": null,
   "metadata": {},
   "outputs": [],
   "source": []
  },
  {
   "cell_type": "markdown",
   "metadata": {},
   "source": [
    "<h4>See results</h4>"
   ]
  },
  {
   "cell_type": "code",
   "execution_count": 55,
   "metadata": {},
   "outputs": [
    {
     "name": "stdout",
     "output_type": "stream",
     "text": [
      "[   (0, '0.062*\"camera\" + 0.019*\"nikon\" + 0.013*\"digital\"'),\n",
      "    (1, '0.038*\"battery\" + 0.028*\"camera\" + 0.013*\"little\"'),\n",
      "    (2, '0.028*\"pictures\" + 0.022*\"quality\" + 0.017*\"optical\"'),\n",
      "    (3, '0.024*\"camera\" + 0.022*\"use\" + 0.021*\"4300\"'),\n",
      "    (4, '0.042*\"camera\" + 0.015*\"great\" + 0.014*\"manual\"')]\n"
     ]
    }
   ],
   "source": [
    "pp = pprint.PrettyPrinter(indent=4)\n",
    "pp.pprint(lda.print_topics(num_words=3))"
   ]
  },
  {
   "cell_type": "markdown",
   "metadata": {},
   "source": [
    "<h2>Matching topics to documents</h2>\n",
    "<h3>Sort topics by probability</h3>"
   ]
  },
  {
   "cell_type": "markdown",
   "metadata": {},
   "source": [
    "<h4>We're using sentences as documents here, so this is less than ideal</h4>"
   ]
  },
  {
   "cell_type": "code",
   "execution_count": 56,
   "metadata": {},
   "outputs": [
    {
     "data": {
      "text/plain": [
       "[(4, 0.83995146),\n",
       " (3, 0.04001312),\n",
       " (2, 0.040013053),\n",
       " (1, 0.04001222),\n",
       " (0, 0.04001013)]"
      ]
     },
     "execution_count": 56,
     "metadata": {},
     "output_type": "execute_result"
    }
   ],
   "source": [
    "from operator import itemgetter\n",
    "lda.get_document_topics(corpus[0],minimum_probability=0.05,per_word_topics=False)\n",
    "sorted(lda.get_document_topics(corpus[0],minimum_probability=0,per_word_topics=False),key=itemgetter(1),reverse=True)"
   ]
  },
  {
   "cell_type": "markdown",
   "metadata": {},
   "source": [
    "<h3>Making sense of the topics</h3>\n"
   ]
  },
  {
   "cell_type": "markdown",
   "metadata": {},
   "source": [
    "<h4>Draw wordclouds</h4>"
   ]
  },
  {
   "cell_type": "code",
   "execution_count": 57,
   "metadata": {},
   "outputs": [],
   "source": [
    "def draw_wordcloud(lda,topicnum,min_size=0,STOPWORDS=[]):\n",
    "    word_list=[]\n",
    "    prob_total = 0\n",
    "    for word,prob in lda.show_topic(topicnum,topn=50):\n",
    "        prob_total +=prob\n",
    "    for word,prob in lda.show_topic(topicnum,topn=50):\n",
    "        if word in STOPWORDS or  len(word) < min_size:\n",
    "            continue\n",
    "        freq = int(prob/prob_total*1000)\n",
    "        alist=[word]\n",
    "        word_list.extend(alist*freq)\n",
    "\n",
    "    from wordcloud import WordCloud, STOPWORDS\n",
    "    import matplotlib.pyplot as plt\n",
    "    %matplotlib inline\n",
    "    text = ' '.join(word_list)\n",
    "    wordcloud = WordCloud(stopwords=STOPWORDS,background_color='white',width=3000,height=3000).generate(' '.join(word_list))\n",
    "\n",
    "\n",
    "    plt.imshow(wordcloud)\n",
    "    plt.axis('off')\n",
    "    plt.show()"
   ]
  },
  {
   "cell_type": "code",
   "execution_count": 58,
   "metadata": {},
   "outputs": [
    {
     "data": {
      "image/png": "[encoded data removed]",
      "text/plain": [
       "<Figure size 432x288 with 1 Axes>"
      ]
     },
     "metadata": {
      "needs_background": "light"
     },
     "output_type": "display_data"
    }
   ],
   "source": [
    "draw_wordcloud(lda,2)"
   ]
  },
  {
   "cell_type": "markdown",
   "metadata": {},
   "source": [
    "<h4>Roughly,</h4>\n",
    "<li>lda looks for candidate topics assuming that there are many such candidates\n",
    "<li>looks for words related to the candidate topics\n",
    "<li>assign probablilites to those words"
   ]
  },
  {
   "cell_type": "markdown",
   "metadata": {},
   "source": [
    "<h3>Let's look at Presidential addresses to see what sorts of topics emerge from there</h3>\n",
    "<li>Each document will be analyzed for topic</li>\n",
    "<li>The corpus will consist of 58 documents, one per presidential address"
   ]
  },
  {
   "cell_type": "code",
   "execution_count": null,
   "metadata": {
    "collapsed": true
   },
   "outputs": [],
   "source": [
    "REMOVE_WORDS = {'shall','generally','spirit','country','people','nation','nations','great','better'}\n",
    "#Create a word dictionary (id, word)\n",
    "texts = [[word for word in sentence.lower().split()\n",
    "        if word not in STOPWORDS and word not in REMOVE_WORDS and word.isalnum()]\n",
    "        for sentence in sentences]\n",
    "dictionary = corpora.Dictionary(texts)\n",
    "\n",
    "#Create a corpus of documents\n",
    "text_list = list()\n",
    "for fileid in inaugural.fileids():\n",
    "    text = inaugural.words(fileid)\n",
    "    doc=list()\n",
    "    for word in text:\n",
    "        if word in STOPWORDS or word in REMOVE_WORDS or not word.isalpha() or len(word) <5:\n",
    "            continue\n",
    "        doc.append(word)\n",
    "    text_list.append(doc)\n",
    "by_address_corpus = [dictionary.doc2bow(text) for text in text_list]"
   ]
  },
  {
   "cell_type": "markdown",
   "metadata": {},
   "source": [
    "<h2>Create the model</h2>"
   ]
  },
  {
   "cell_type": "code",
   "execution_count": null,
   "metadata": {},
   "outputs": [],
   "source": [
    "lda = LdaModel(by_address_corpus,\n",
    "              id2word=dictionary,\n",
    "              num_topics=20,\n",
    "              passes=10)"
   ]
  },
  {
   "cell_type": "code",
   "execution_count": null,
   "metadata": {},
   "outputs": [],
   "source": [
    "pp = pprint.PrettyPrinter(indent=4)\n",
    "pp.pprint(lda.print_topics(num_words=10))"
   ]
  },
  {
   "cell_type": "markdown",
   "metadata": {},
   "source": [
    "<h2>We can now compare presidential addresses by topic</h2>"
   ]
  },
  {
   "cell_type": "code",
   "execution_count": null,
   "metadata": {},
   "outputs": [],
   "source": [
    "len(by_address_corpus)"
   ]
  },
  {
   "cell_type": "code",
   "execution_count": null,
   "metadata": {},
   "outputs": [],
   "source": [
    "from operator import itemgetter\n",
    "sorted(lda.get_document_topics(by_address_corpus[0],minimum_probability=0,per_word_topics=False),key=itemgetter(1),reverse=True)"
   ]
  },
  {
   "cell_type": "code",
   "execution_count": null,
   "metadata": {},
   "outputs": [],
   "source": [
    "draw_wordcloud(lda,18)"
   ]
  },
  {
   "cell_type": "code",
   "execution_count": null,
   "metadata": {},
   "outputs": [],
   "source": [
    "print(lda.show_topic(12,topn=5))\n",
    "print(lda.show_topic(18,topn=5))"
   ]
  },
  {
   "cell_type": "markdown",
   "metadata": {
    "collapsed": true
   },
   "source": [
    "<h1>Similarity</h1>\n",
    "<h2>Given a corpus of documents, when a new document arrives, find the document that is the most similar</h2>"
   ]
  },
  {
   "cell_type": "code",
   "execution_count": null,
   "metadata": {},
   "outputs": [],
   "source": [
    "doc_list = [community_data,le_monde_data,amigos_data,heights_data]\n",
    "all_text = community_data.raw() + le_monde_data.raw() + amigos_data.raw() + heights_data.raw()\n",
    "\n",
    "documents = [doc.raw() for doc in doc_list]\n",
    "texts = [[word for word in document.lower().split()\n",
    "        if word not in STOPWORDS and word.isalnum()]\n",
    "        for document in documents]\n",
    "dictionary = corpora.Dictionary(texts)\n",
    "corpus = [dictionary.doc2bow(text) for text in texts]\n"
   ]
  },
  {
   "cell_type": "code",
   "execution_count": null,
   "metadata": {},
   "outputs": [],
   "source": [
    "from gensim.similarities.docsim import Similarity\n",
    "from gensim import corpora, models, similarities\n",
    "lsi = models.LsiModel(corpus, id2word=dictionary, num_topics=2)\n",
    "doc = \"\"\"\n",
    "Many, many years ago, I used to frequent this place for their amazing french toast. \n",
    "It's been a while since then and I've been hesitant to review a place I haven't been to in 7-8 years... \n",
    "but I passed by French Roast and, feeling nostalgic, decided to go back.\n",
    "\n",
    "It was a great decision.\n",
    "\n",
    "Their Bloody Mary is fantastic and includes bacon (which was perfectly cooked!!), olives, \n",
    "cucumber, and celery. The Irish coffee is also excellent, even without the cream which is what I ordered.\n",
    "\n",
    "Great food, great drinks, a great ambiance that is casual yet familiar like a tiny little French cafe. \n",
    "I highly recommend coming here, and will be back whenever I'm in the area next.\n",
    "\n",
    "Juan, the bartender, is great!! One of the best in any brunch spot in the city, by far.\n",
    "\"\"\"\n",
    "vec_bow = dictionary.doc2bow(doc.lower().split())\n",
    "vec_lsi = lsi[vec_bow]\n",
    "index = similarities.MatrixSimilarity(lsi[corpus])\n",
    "sims = index[vec_lsi]\n",
    "sims = sorted(enumerate(sims), key=lambda item: -item[1])\n"
   ]
  },
  {
   "cell_type": "code",
   "execution_count": null,
   "metadata": {},
   "outputs": [],
   "source": [
    "sims"
   ]
  },
  {
   "cell_type": "code",
   "execution_count": null,
   "metadata": {},
   "outputs": [],
   "source": [
    "doc=\"\"\"\n",
    "I went to Mexican Festival Restaurant for Cinco De Mayo because I had been there years \n",
    "prior and had such a good experience. This time wasn't so good. The food was just \n",
    "mediocre and it wasn't hot when it was brought to our table. They brought my friends food out \n",
    "10 minutes before everyone else and it took forever to get drinks. We let it slide because the place was \n",
    "packed with people and it was Cinco De Mayo. Also, the margaritas we had were slamming! Pure tequila. \n",
    "\n",
    "But then things took a turn for the worst. As I went to get something out of my purse which was on \n",
    "the back of my chair, I looked down and saw a huge water bug. I had to warn the lady next to me because \n",
    "it was so close to her chair. We called the waitress over and someone came with a broom and a dustpan and \n",
    "swept it away like it was an everyday experience. No one seemed phased.\n",
    "\n",
    "Even though our waitress was very nice, I do not think we will be returning to Mexican Festival again. \n",
    "It seems the restaurant is a shadow of its former self.\n",
    "\"\"\"\n",
    "vec_bow = dictionary.doc2bow(doc.lower().split())\n",
    "vec_lsi = lsi[vec_bow]\n",
    "index = similarities.MatrixSimilarity(lsi[corpus])\n",
    "sims = index[vec_lsi]\n",
    "sims = sorted(enumerate(sims), key=lambda item: -item[1])\n",
    "sims"
   ]
  },
  {
   "cell_type": "code",
   "execution_count": null,
   "metadata": {
    "collapsed": true
   },
   "outputs": [],
   "source": []
  }
 ],
 "metadata": {
  "anaconda-cloud": {},
  "kernelspec": {
   "display_name": "Python 3",
   "language": "python",
   "name": "python3"
  },
  "language_info": {
   "codemirror_mode": {
    "name": "ipython",
    "version": 3
   },
   "file_extension": ".py",
   "mimetype": "text/x-python",
   "name": "python",
   "nbconvert_exporter": "python",
   "pygments_lexer": "ipython3",
   "version": "3.6.9"
  }
 },
 "nbformat": 4,
 "nbformat_minor": 1
}
