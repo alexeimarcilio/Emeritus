{
 "cells": [
  {
   "cell_type": "markdown",
   "metadata": {
    "deletable": false,
    "editable": false,
    "nbgrader": {
     "grade": false,
     "locked": true,
     "solution": false
    }
   },
   "source": [
    "# Module 14 - Hypothesis Testing: Answering Questions about Data  \n",
    "\n",
    "**_Author: Carleton Smith, Jessica Cervi_**\n",
    "\n",
    "**_Revised: Jessica Cervi_**\n",
    "\n",
    "**Expected time = 3 hours**\n",
    "\n",
    "**Total points = 75 points**\n",
    "\n",
    "\n",
    "## Assignment Overview\n",
    "\n",
    "In this assignment, you will work on **Hypothesis testing**. Hypothesis testing is a framework for evaluating research questions in data science. Developing a clear foundation in this framework is _central_ to furthering your career goals in research, academia, and as a data scientist. \n",
    "\n",
    "Many of the steps we cover in this lesson will seem reminiscent of the scientific method you likely learned early in your education. Hypothesis testing is primarily a more sophisticated approach to the steps of the scientific method allowing you to determine appropriate methodological approaches, collect data, and clearly draw conclusions from the results of statistical tests.\n",
    "\n",
    "This assignment is divided into two parts. \n",
    "\n",
    "In the first part, we will guide through the steps to compute a **Confidence Interval**.\n",
    "We will generate a normal distribution of people having a certain weight and we will extract a random sample of a population. We will see how many of those people have a weight consistent with the average body mass of people that go to the gym.\n",
    "\n",
    "In the second part, you will learn the key steps of hypothesis testing by walking through a case study of an **A/B test** with a web analytics data set.\n",
    "\n",
    "\n",
    "This assignment is designed to build your familiarity and comfort coding in Python while also helping you review key topics from each module. As you progress through the assignment, answers will get increasingly complex. It is important that you adopt a data scientist's mindset when completing this assignment. **Remember to run your code from each cell before submitting your assignment.** Running your code beforehand will notify you of errors and give you a chance to fix your errors before submitting. You should view your Vocareum submission as if you are delivering a final project to your manager or client. \n",
    "\n",
    "***Vocareum Tips***\n",
    "- Do not add arguments or options to functions unless you are specifically asked to. This will cause an error in Vocareum.\n",
    "- Do not use a library unless you are expicitly asked to in the question. \n",
    "- You can download the Grading Report after submitting the assignment. This will include feedback and hints on incorrect questions. \n",
    "\n",
    "\n",
    "### Learning Objectives\n",
    "\n",
    "- Use and interpret confidence intervals (CIs)\n",
    "- Identify the appropriate confidence level for your data and research question\n",
    "- Develop and test a hypothesis using t-tables and t-multipliers\n",
    "- Interpet statistical significance and the P-value of your model\n",
    "- Apply hypothesis testing to an A/B testing example\n",
    "\n",
    "## Index: \n",
    "\n",
    "#### Module 14 - Hypothesis Testing: Answering Questions about Data  \n",
    "\n",
    "- [Question 1](#q1)\n",
    "- [Question 2](#q2)\n",
    "- [Question 3](#q3)\n",
    "- [Question 4](#q4)\n",
    "- [Question 5](#q5)\n",
    "- [Question 6](#q6)\n",
    "- [Question 7](#q7)\n",
    "- [Question 8](#q8)\n",
    "- [Question 9](#q9)\n",
    "- [Question 10](#q10)\n",
    "- [Question 11](#q11)\n",
    "- [Question 12](#q12)\n",
    "\n",
    "\n"
   ]
  },
  {
   "cell_type": "markdown",
   "metadata": {
    "deletable": false,
    "editable": false,
    "nbgrader": {
     "grade": false,
     "locked": true,
     "solution": false
    }
   },
   "source": [
    "## Module 14 - Hypothesis Testing: Answering Questions about Data  \n",
    "\n",
    "## Part 1: Confidence Intervals\n",
    "\n",
    "\n",
    "A confidence interval (CI) is a range of values in which there's a specified probability that the expected true population parameter lies within it.\n",
    "\n",
    "Below we import the necessary libraries and  generate a normal distributions using the `NumPy` random module's `normal()` method of mass values for men. This gives us a randomized data set of body weight values for men. "
   ]
  },
  {
   "cell_type": "code",
   "execution_count": 1,
   "metadata": {
    "deletable": false,
    "editable": false,
    "nbgrader": {
     "grade": false,
     "locked": true,
     "solution": false
    }
   },
   "outputs": [],
   "source": [
    "#importing the libraries\n",
    "import pandas as pd\n",
    "import seaborn as sns\n",
    "import scipy.stats as stats\n",
    "import numpy as np\n",
    "import random\n",
    "import warnings\n",
    "import matplotlib.pyplot as plt"
   ]
  },
  {
   "cell_type": "code",
   "execution_count": 2,
   "metadata": {
    "deletable": false,
    "editable": false,
    "nbgrader": {
     "grade": false,
     "locked": true,
     "solution": false
    }
   },
   "outputs": [],
   "source": [
    "#setting random seed\n",
    "np.random.seed(42)\n",
    "\n",
    "mass_male = np.random.normal(loc=181, scale=24, size=6000)"
   ]
  },
  {
   "cell_type": "code",
   "execution_count": 6,
   "metadata": {},
   "outputs": [
    {
     "data": {
      "text/plain": [
       "array([192.92113967, 177.68165677, 196.54452491, ..., 151.78230896,\n",
       "       192.23081013, 152.91326305])"
      ]
     },
     "execution_count": 6,
     "metadata": {},
     "output_type": "execute_result"
    }
   ],
   "source": [
    "mass_male"
   ]
  },
  {
   "cell_type": "markdown",
   "metadata": {
    "deletable": false,
    "editable": false,
    "nbgrader": {
     "grade": false,
     "locked": true,
     "solution": false
    }
   },
   "source": [
    "[Back to top](#Index:) \n",
    "<a id='q1'></a>\n",
    "\n",
    "### Question 1:\n",
    "\n",
    "*5 points*\n",
    "\n",
    "Use the NumPy function `random.seed()` to set a random seed equal to 0.\n",
    "Following the example above, create a normal distribution using the `NumPy` random module's `normal()` method of body mass values for females. Assign this array to the variable `mass_femal`. Set the following paramenters:\n",
    "- loc = 132\n",
    "- scale = 22\n",
    "- size = 6500\n",
    "\n",
    "Finally, concatenate these two arrays and assign them to the column `ans1` and convert this array to a dataframe `df_ppl_mass`. Rename the first column of the dataframe `people_mass`.\n",
    "\n"
   ]
  },
  {
   "cell_type": "code",
   "execution_count": 36,
   "metadata": {},
   "outputs": [],
   "source": [
    "### GRADED\n",
    "\n",
    "np.random.seed(0)\n",
    "\n",
    "mass_male = np.random.normal(loc=181, scale=24, size=6000)\n",
    "\n",
    "### YOUR SOLUTION HERE\n",
    "mass_female = np.random.normal(loc=132, scale=22, size=6500)\n",
    "\n",
    "ans1 = np.concatenate((mass_male, mass_female), axis=0)\n",
    "df_ppl_mass = pd.DataFrame(ans1, columns = ['people_mass'])\n",
    "\n",
    "###\n",
    "### YOUR CODE HERE\n",
    "###\n"
   ]
  },
  {
   "cell_type": "code",
   "execution_count": 37,
   "metadata": {},
   "outputs": [
    {
     "data": {
      "text/html": [
       "<div>\n",
       "<style scoped>\n",
       "    .dataframe tbody tr th:only-of-type {\n",
       "        vertical-align: middle;\n",
       "    }\n",
       "\n",
       "    .dataframe tbody tr th {\n",
       "        vertical-align: top;\n",
       "    }\n",
       "\n",
       "    .dataframe thead th {\n",
       "        text-align: right;\n",
       "    }\n",
       "</style>\n",
       "<table border=\"1\" class=\"dataframe\">\n",
       "  <thead>\n",
       "    <tr style=\"text-align: right;\">\n",
       "      <th></th>\n",
       "      <th>people_mass</th>\n",
       "    </tr>\n",
       "  </thead>\n",
       "  <tbody>\n",
       "    <tr>\n",
       "      <th>0</th>\n",
       "      <td>223.337256</td>\n",
       "    </tr>\n",
       "    <tr>\n",
       "      <th>1</th>\n",
       "      <td>190.603773</td>\n",
       "    </tr>\n",
       "    <tr>\n",
       "      <th>2</th>\n",
       "      <td>204.489712</td>\n",
       "    </tr>\n",
       "    <tr>\n",
       "      <th>3</th>\n",
       "      <td>234.781437</td>\n",
       "    </tr>\n",
       "    <tr>\n",
       "      <th>4</th>\n",
       "      <td>225.821392</td>\n",
       "    </tr>\n",
       "    <tr>\n",
       "      <th>...</th>\n",
       "      <td>...</td>\n",
       "    </tr>\n",
       "    <tr>\n",
       "      <th>12495</th>\n",
       "      <td>141.319786</td>\n",
       "    </tr>\n",
       "    <tr>\n",
       "      <th>12496</th>\n",
       "      <td>157.228908</td>\n",
       "    </tr>\n",
       "    <tr>\n",
       "      <th>12497</th>\n",
       "      <td>123.118164</td>\n",
       "    </tr>\n",
       "    <tr>\n",
       "      <th>12498</th>\n",
       "      <td>130.421018</td>\n",
       "    </tr>\n",
       "    <tr>\n",
       "      <th>12499</th>\n",
       "      <td>113.316967</td>\n",
       "    </tr>\n",
       "  </tbody>\n",
       "</table>\n",
       "<p>12500 rows × 1 columns</p>\n",
       "</div>"
      ],
      "text/plain": [
       "       people_mass\n",
       "0       223.337256\n",
       "1       190.603773\n",
       "2       204.489712\n",
       "3       234.781437\n",
       "4       225.821392\n",
       "...            ...\n",
       "12495   141.319786\n",
       "12496   157.228908\n",
       "12497   123.118164\n",
       "12498   130.421018\n",
       "12499   113.316967\n",
       "\n",
       "[12500 rows x 1 columns]"
      ]
     },
     "execution_count": 37,
     "metadata": {},
     "output_type": "execute_result"
    }
   ],
   "source": [
    "df_ppl_mass"
   ]
  },
  {
   "cell_type": "code",
   "execution_count": 27,
   "metadata": {},
   "outputs": [
    {
     "data": {
      "text/plain": [
       "(12500,)"
      ]
     },
     "execution_count": 27,
     "metadata": {},
     "output_type": "execute_result"
    }
   ],
   "source": [
    "array1.shape"
   ]
  },
  {
   "cell_type": "code",
   "execution_count": 22,
   "metadata": {},
   "outputs": [
    {
     "data": {
      "text/plain": [
       "(6500,)"
      ]
     },
     "execution_count": 22,
     "metadata": {},
     "output_type": "execute_result"
    }
   ],
   "source": [
    "mass_female.shape"
   ]
  },
  {
   "cell_type": "code",
   "execution_count": 23,
   "metadata": {},
   "outputs": [
    {
     "data": {
      "text/plain": [
       "(6000,)"
      ]
     },
     "execution_count": 23,
     "metadata": {},
     "output_type": "execute_result"
    }
   ],
   "source": [
    "mass_male.shape"
   ]
  },
  {
   "cell_type": "code",
   "execution_count": null,
   "metadata": {
    "collapsed": true,
    "deletable": false,
    "editable": false,
    "nbgrader": {
     "grade": true,
     "grade_id": "Question 01",
     "locked": true,
     "points": "5",
     "solution": false
    }
   },
   "outputs": [],
   "source": [
    "###\n",
    "### AUTOGRADER TEST - DO NOT REMOVE\n",
    "###\n"
   ]
  },
  {
   "cell_type": "markdown",
   "metadata": {
    "deletable": false,
    "editable": false,
    "nbgrader": {
     "grade": false,
     "locked": true,
     "solution": false
    }
   },
   "source": [
    "[Back to top](#Index:) \n",
    "<a id='q2'></a>\n",
    "\n",
    "### Question 2:\n",
    "\n",
    "*5 points*\n",
    "\n",
    "Use the `.distplot` command from the `seaborn` library (already imported above) to visualize the distribution of `people_mass` generated in Question 1. Set the title equal to \"Body Mass Distribution of People in the U.S.\". Do not specify any other parameter.\n",
    "\n",
    "Save the plot in the `/results` folder as `plot2`.\n"
   ]
  },
  {
   "cell_type": "code",
   "execution_count": 42,
   "metadata": {},
   "outputs": [
    {
     "data": {
      "image/png": "[encoded data removed]",
      "text/plain": [
       "<Figure size 432x288 with 1 Axes>"
      ]
     },
     "metadata": {
      "needs_background": "light"
     },
     "output_type": "display_data"
    }
   ],
   "source": [
    "### GRADED\n",
    "\n",
    "### YOUR SOLUTION HERE\n",
    "ans2 = sns.distplot(df_ppl_mass['people_mass'])\n",
    "plt.title(\"Body Mass Distribution of People in the U.S.\")\n",
    "plt.savefig('results/plot2.png')\n",
    "\n",
    "###\n",
    "### YOUR CODE HERE\n",
    "###\n"
   ]
  },
  {
   "cell_type": "code",
   "execution_count": null,
   "metadata": {
    "collapsed": true,
    "deletable": false,
    "editable": false,
    "nbgrader": {
     "grade": true,
     "grade_id": "Question 02",
     "locked": true,
     "points": "5",
     "solution": false
    }
   },
   "outputs": [],
   "source": [
    "###\n",
    "### AUTOGRADER TEST - DO NOT REMOVE\n",
    "###\n"
   ]
  },
  {
   "cell_type": "markdown",
   "metadata": {
    "deletable": false,
    "editable": false,
    "nbgrader": {
     "grade": false,
     "locked": true,
     "solution": false
    }
   },
   "source": [
    "Next, we want to study the weight of people that go to the gym regularly.\n",
    "\n",
    "Suppose that mean body mass of 40 randomly selected people who go the gym at least three times per week is 160 pounds. \n",
    "\n",
    "We are curious to see how this compares to our current population of people's body mass. In order to compare this new sample of people from the gym, I need to compare it to an equivalent distribution of sample means from our population.\n",
    "\n",
    "I need to calculate where this sample mean of 160 pounds would fall on the distribution of sample means from the body masses of the U.S. population."
   ]
  },
  {
   "cell_type": "markdown",
   "metadata": {
    "deletable": false,
    "editable": false,
    "nbgrader": {
     "grade": false,
     "locked": true,
     "solution": false
    }
   },
   "source": [
    "[Back to top](#Index:) \n",
    "<a id='q3'></a>\n",
    "\n",
    "### Question 3:\n",
    "\n",
    "*10 points*\n",
    "\n",
    "Use the NumPy function `random.seed()` to set a random seed equal to 0.\n",
    "\n",
    "Create an empty list `sample_means` of sample means from our original data.\n",
    "\n",
    "Given our population mass values, take 300 samples each of 25 random values with replacement. \n",
    "Next, for each sample, calculate the mean of the sample and store all those sample means in the list `sample_means`.\n",
    "\n",
    "**HINT:** Random sampling with replacement can be computed using the following line:\n",
    "\n",
    "```python\n",
    "sample_values = np.random.choice(a=df_ppl_mass['people_mass'], size=n) \n",
    "```"
   ]
  },
  {
   "cell_type": "code",
   "execution_count": 75,
   "metadata": {},
   "outputs": [],
   "source": [
    "### GRADED\n",
    "np.random.seed(0)\n",
    "\n",
    "# 300 samples of the means of 25 random values with replacement\n",
    "sample_means = []\n",
    "\n",
    "for i in range(0,300):\n",
    "    sample_means.append(np.mean(np.random.choice(a=df_ppl_mass['people_mass'], size=n)))\n",
    "\n",
    "n =25\n",
    "### YOUR SOLUTION HERE\n",
    "#sample_means = None\n",
    "\n",
    "###\n",
    "### YOUR CODE HERE\n",
    "###\n"
   ]
  },
  {
   "cell_type": "code",
   "execution_count": 76,
   "metadata": {},
   "outputs": [
    {
     "data": {
      "text/plain": [
       "300"
      ]
     },
     "execution_count": 76,
     "metadata": {},
     "output_type": "execute_result"
    }
   ],
   "source": [
    "len(sample_means)"
   ]
  },
  {
   "cell_type": "code",
   "execution_count": 77,
   "metadata": {
    "deletable": false,
    "editable": false,
    "nbgrader": {
     "grade": true,
     "grade_id": "Question 03",
     "locked": true,
     "points": "10",
     "solution": false
    }
   },
   "outputs": [],
   "source": [
    "###\n",
    "### AUTOGRADER TEST - DO NOT REMOVE\n",
    "###\n"
   ]
  },
  {
   "cell_type": "markdown",
   "metadata": {
    "deletable": false,
    "editable": false,
    "nbgrader": {
     "grade": false,
     "locked": true,
     "solution": false
    }
   },
   "source": [
    "Next, we can visualize Gym Sample Mean (160 pounds) compared to the sampling distribution selected in Question 3."
   ]
  },
  {
   "cell_type": "code",
   "execution_count": 78,
   "metadata": {
    "deletable": false,
    "editable": false,
    "nbgrader": {
     "grade": false,
     "locked": true,
     "solution": false
    }
   },
   "outputs": [
    {
     "data": {
      "image/png": "[encoded data removed]",
      "text/plain": [
       "<Figure size 432x288 with 1 Axes>"
      ]
     },
     "metadata": {
      "needs_background": "light"
     },
     "output_type": "display_data"
    }
   ],
   "source": [
    "gym_sample_mean = 160\n",
    "#plotting sample_means\n",
    "sns.distplot(sample_means)\n",
    "plt.title(\"Distribution of Sample Means ($n=25$) of People's Body Mass in Pounds\")\n",
    "#plotting the sample mean of people that work out\n",
    "plt.axvline(x=gym_sample_mean, linestyle='--', linewidth=2.5, label=\"sample mean of ppl at gym\", c='orange')\n",
    "plt.xlabel(\"sample mean mass [pounds]\", labelpad=14)\n",
    "plt.ylabel(\"frequency of occurence\", labelpad=14)\n",
    "plt.legend();"
   ]
  },
  {
   "cell_type": "markdown",
   "metadata": {
    "deletable": false,
    "editable": false,
    "nbgrader": {
     "grade": false,
     "locked": true,
     "solution": false
    }
   },
   "source": [
    "What's the probability of seeing a sample mean with a value less than 160?\n",
    "\n",
    "Given this new sample mean of people at the gym, I can calculate the number of standard errors this value is from the mean of the sampling distribution. We can do so by computing the z-score defined by:\n",
    "\n",
    "$$\\bar{z} = \\frac{\\bar{x} - \\mu}{SE},$$\n",
    "where:\n",
    "- $\\bar{x}$ is the sample mean\n",
    "- $\\mu$ is the population mean\n",
    "- SE is the standard error calculated as $$SE = \\frac{\\sigma}{\\sqrt{n}},$$\n",
    "where:\n",
    "    - $\\sigma$ is population standard deviation\n",
    "    - n is sample size"
   ]
  },
  {
   "cell_type": "markdown",
   "metadata": {
    "deletable": false,
    "editable": false,
    "nbgrader": {
     "grade": false,
     "locked": true,
     "solution": false
    }
   },
   "source": [
    "[Back to top](#Index:) \n",
    "<a id='q4'></a>\n",
    "\n",
    "### Question 4:\n",
    "\n",
    "*5 points*\n",
    "\n",
    "Compute the standard deviation of `people_mass`. Assign the result as a float to `ans4`.\n",
    "Next, compute the standard error using the formula given above. Assign the result to `SE`."
   ]
  },
  {
   "cell_type": "code",
   "execution_count": 105,
   "metadata": {},
   "outputs": [],
   "source": [
    "### GRADED\n",
    "### YOUR SOLUTION HERE\n",
    "# n is the sample size, in this case we took 300 samples of size 25 so it's 25\n",
    "n = 25\n",
    "\n",
    "ans4 = np.std(df_ppl_mass['people_mass'])\n",
    "\n",
    "SE = ans4/(np.sqrt(n))\n",
    "\n",
    "###\n",
    "### YOUR CODE HERE\n",
    "###"
   ]
  },
  {
   "cell_type": "code",
   "execution_count": 106,
   "metadata": {
    "deletable": false,
    "editable": false,
    "nbgrader": {
     "grade": true,
     "grade_id": "Question 04",
     "locked": true,
     "points": "4",
     "solution": false
    }
   },
   "outputs": [],
   "source": [
    "###\n",
    "### AUTOGRADER TEST - DO NOT REMOVE\n",
    "###\n"
   ]
  },
  {
   "cell_type": "markdown",
   "metadata": {
    "deletable": false,
    "editable": false,
    "nbgrader": {
     "grade": false,
     "locked": true,
     "solution": false
    }
   },
   "source": [
    "[Back to top](#Index:) \n",
    "<a id='q5'></a>\n",
    "\n",
    "### Question 5:\n",
    "\n",
    "*5 points*\n",
    "\n",
    "Compute the mean of the `sample_means` and assign the result as a float to `ans5`.\n",
    "Finally, compute the z-score using the formula given above. Assign the result to `z_score`."
   ]
  },
  {
   "cell_type": "code",
   "execution_count": 107,
   "metadata": {},
   "outputs": [],
   "source": [
    "### YOUR SOLUTION HERE\n",
    "ans5 = np.mean(sample_means)\n",
    "z_score = (160 - ans5)/SE \n"
   ]
  },
  {
   "cell_type": "code",
   "execution_count": 108,
   "metadata": {
    "deletable": false,
    "editable": false,
    "nbgrader": {
     "grade": true,
     "grade_id": "Question 05",
     "locked": true,
     "points": "5",
     "solution": false
    }
   },
   "outputs": [],
   "source": [
    "###\n",
    "### AUTOGRADER TEST - DO NOT REMOVE\n",
    "###\n"
   ]
  },
  {
   "cell_type": "code",
   "execution_count": 116,
   "metadata": {},
   "outputs": [
    {
     "name": "stdout",
     "output_type": "stream",
     "text": [
      "0.6113882888883885\n"
     ]
    }
   ],
   "source": [
    "print(z_score)"
   ]
  },
  {
   "cell_type": "markdown",
   "metadata": {
    "deletable": false,
    "editable": false,
    "nbgrader": {
     "grade": false,
     "locked": true,
     "solution": false
    }
   },
   "source": [
    "The `cdf()` method from the `scipy` package and accompanying stats module returns the proportion of values smaller than the observation input for a standard normal distribution."
   ]
  },
  {
   "cell_type": "code",
   "execution_count": 117,
   "metadata": {},
   "outputs": [
    {
     "data": {
      "text/plain": [
       "0.73"
      ]
     },
     "execution_count": 117,
     "metadata": {},
     "output_type": "execute_result"
    }
   ],
   "source": [
    "prop_values_less_than_gym_mean =  round(stats.norm.cdf(z_score), 3)\n",
    "prop_values_less_than_gym_mean"
   ]
  },
  {
   "cell_type": "code",
   "execution_count": 118,
   "metadata": {
    "deletable": false,
    "editable": false,
    "nbgrader": {
     "grade": false,
     "locked": true,
     "solution": false
    }
   },
   "outputs": [
    {
     "data": {
      "text/plain": [
       "0.73"
      ]
     },
     "execution_count": 118,
     "metadata": {},
     "output_type": "execute_result"
    }
   ],
   "source": [
    "prop_values_less_than_gym_mean =  round(stats.norm.cdf(z_score), 3)\n",
    "prop_values_less_than_gym_mean"
   ]
  },
  {
   "cell_type": "markdown",
   "metadata": {
    "deletable": false,
    "editable": false,
    "nbgrader": {
     "grade": false,
     "locked": true,
     "solution": false
    }
   },
   "source": [
    "So the probability of getting a sample mean less than the gym sample mean is 0.759.\n",
    "\n",
    "Below we visualize a graph of it."
   ]
  },
  {
   "cell_type": "code",
   "execution_count": 119,
   "metadata": {
    "deletable": false,
    "editable": false,
    "nbgrader": {
     "grade": false,
     "locked": true,
     "solution": false
    }
   },
   "outputs": [
    {
     "data": {
      "image/png": "[encoded data removed]",
      "text/plain": [
       "<Figure size 432x288 with 1 Axes>"
      ]
     },
     "metadata": {
      "needs_background": "light"
     },
     "output_type": "display_data"
    }
   ],
   "source": [
    "#plotting the distribution of sample_means\n",
    "kde = stats.gaussian_kde(sample_means)\n",
    "pos = np.linspace(np.min(sample_means), np.max(sample_means), 10000)\n",
    "plt.plot(pos, kde(pos))\n",
    "#fill the portion we are interested\n",
    "shade = np.linspace(135, gym_sample_mean, 300)\n",
    "plt.fill_between(shade, kde(shade))\n",
    "#legend and axis labels\n",
    "plt.text(x=150, y=.01, horizontalalignment='center', fontsize=10, \n",
    "         s=\"Sample mean of people at gym\\ngreater than {0}% of sample means\\nfrom the general population\".format(round(prop_values_less_than_gym_mean*100, 2)), \n",
    "         bbox=dict(facecolor='whitesmoke', boxstyle=\"round, pad=0.1\"))\n",
    "plt.title(\"Distribution of Sample Means ($n=25$) of People's Body Mass in Pounds\", fontsize=10)\n",
    "plt.xlabel(\"sample mean mass [pounds]\")\n",
    "plt.ylabel(\"frequency of occurence\");"
   ]
  },
  {
   "cell_type": "markdown",
   "metadata": {
    "deletable": false,
    "editable": false,
    "nbgrader": {
     "grade": false,
     "locked": true,
     "solution": false
    }
   },
   "source": [
    "### Critical Z-Scores\n",
    "\n",
    "\n",
    "Next, let's calculate the exact z-score values that bound 95% of the data. We know that the tails on each end should be 2.5% or 0.025 of the the total area under the curve of the sampling distribution.\n",
    "\n",
    "Below, we use a z-score of 1.96 to calculate a tail of 0.025."
   ]
  },
  {
   "cell_type": "code",
   "execution_count": 120,
   "metadata": {
    "deletable": false,
    "editable": false,
    "nbgrader": {
     "grade": false,
     "locked": true,
     "solution": false
    }
   },
   "outputs": [],
   "source": [
    "tail = 1 - stats.norm.cdf(1.96)"
   ]
  },
  {
   "cell_type": "markdown",
   "metadata": {
    "deletable": false,
    "editable": false,
    "nbgrader": {
     "grade": false,
     "locked": true,
     "solution": false
    }
   },
   "source": [
    "[Back to top](#Index:) \n",
    "<a id='q6'></a>\n",
    "\n",
    "### Question 6:\n",
    "\n",
    "*5 points*\n",
    "    \n",
    "    \n",
    "The exact bounds for the area in which 95% of sample means lie from the population mean can be calculated via \n",
    "    $$\\text{lower_bound}  = \\text{mean_of_sample} - \\text{z-score}*\\text{SE}  ,$$ and \n",
    "    $$\\text{upper_bound}  = \\text{mean_of_sample} + \\text{z-score}*\\text{SE}  .$$\n",
    "    \n",
    "    \n",
    "Given the formulas above, calculate the lower and upper bounds. Assign the results to `lower_bound` and `upper_bound` respectively."
   ]
  },
  {
   "cell_type": "code",
   "execution_count": 121,
   "metadata": {},
   "outputs": [],
   "source": [
    "### GRADED\n",
    "### YOUR SOLUTION HERE\n",
    "lower_bound= None\n",
    "upper_bound = None\n",
    "\n",
    "###\n",
    "### YOUR CODE HERE\n",
    "###\n"
   ]
  },
  {
   "cell_type": "code",
   "execution_count": null,
   "metadata": {
    "collapsed": true,
    "deletable": false,
    "editable": false,
    "nbgrader": {
     "grade": true,
     "grade_id": "Question 06",
     "locked": true,
     "points": "5",
     "solution": false
    }
   },
   "outputs": [],
   "source": [
    "###\n",
    "### AUTOGRADER TEST - DO NOT REMOVE\n",
    "###\n"
   ]
  },
  {
   "cell_type": "markdown",
   "metadata": {
    "deletable": false,
    "editable": false,
    "nbgrader": {
     "grade": false,
     "locked": true,
     "solution": false
    }
   },
   "source": [
    "#### Confidence Interval for Gym Members' Body Mass \n",
    "\n",
    "If we sampled everyone who frequented the gym, we know there'd likely be a new population of values of people's body mass, but we don't know where it would be. There's a 95% chance we'd see the `gym_sample_mean` in this new distribution of body masses for people that frequent the gym.\n",
    "\n",
    "\n",
    "We can calculate where we'd expect 95% of the values to lie in this new distribution. 95% of new sample means of people from the gym would fall within 1.96 standard errors from the expected population mean.\n",
    "\n",
    "\n",
    "For our case, we can express a generic formula for a 95% confidence interval for the expected population body mass of gym-goers as:\n",
    "\n",
    "$$[160−1.96*\\text{SE}, 160+1.96∗\\text{SE}]$$\n"
   ]
  },
  {
   "cell_type": "markdown",
   "metadata": {
    "deletable": false,
    "editable": false,
    "nbgrader": {
     "grade": false,
     "locked": true,
     "solution": false
    }
   },
   "source": [
    "[Back to top](#Index:) \n",
    "<a id='q7'></a>\n",
    "\n",
    "### Question 7:\n",
    "\n",
    "*5 points*\n",
    "    \n",
    "Given the definition of confidence interval above, calculate the lower and upper bounds for our 95% confidence interval. Assign your results to `lower_interval` and `upper_interval`, respectively. "
   ]
  },
  {
   "cell_type": "code",
   "execution_count": null,
   "metadata": {
    "collapsed": true
   },
   "outputs": [],
   "source": [
    "### GRADED\n",
    "### YOUR SOLUTION HERE\n",
    "lower_interval= None\n",
    "upper_interval = None\n",
    "\n",
    "###\n",
    "### YOUR CODE HERE\n",
    "###\n"
   ]
  },
  {
   "cell_type": "code",
   "execution_count": null,
   "metadata": {
    "collapsed": true,
    "deletable": false,
    "editable": false,
    "nbgrader": {
     "grade": true,
     "grade_id": "Question 07",
     "locked": true,
     "points": "5",
     "solution": false
    }
   },
   "outputs": [],
   "source": [
    "###\n",
    "### AUTOGRADER TEST - DO NOT REMOVE\n",
    "###\n"
   ]
  },
  {
   "cell_type": "markdown",
   "metadata": {
    "deletable": false,
    "editable": false,
    "nbgrader": {
     "grade": false,
     "locked": true,
     "solution": false
    }
   },
   "source": [
    "We conclude this section of the assignment by visualizing the 95% confidence interval."
   ]
  },
  {
   "cell_type": "code",
   "execution_count": null,
   "metadata": {
    "collapsed": true,
    "deletable": false,
    "editable": false,
    "nbgrader": {
     "grade": false,
     "locked": true,
     "solution": false
    }
   },
   "outputs": [],
   "source": [
    "#plot of the distribution\n",
    "sns.distplot(sample_means, hist=False)\n",
    "#tile\n",
    "plt.title(\"Distribution of Sample Means ($n=25$) of People's Body Mass in Pounds\", fontsize=10)\n",
    "#plotting the mean line and the lower and upper bounds\n",
    "plt.axvline(x=gym_sample_mean, linestyle='--', linewidth=2.5, label=\"sample mean gym ppl (point estimate)\", c='orange')\n",
    "plt.axvline(x=lower_interval, linestyle='--', linewidth=2.5, label=\"lower bound 95% CI \", c='g')\n",
    "plt.axvline(x=upper_interval, linestyle='--', linewidth=2.5, label=\"upper bound 95% CI\", c='purple')\n",
    "#axis labels and legend\n",
    "plt.xlabel(\"sample mean mass [pounds]\")\n",
    "plt.ylabel(\"frequency of occurence\")\n",
    "plt.legend(bbox_to_anchor=(1.01, 1), loc=\"upper left\");"
   ]
  },
  {
   "cell_type": "markdown",
   "metadata": {
    "deletable": false,
    "editable": false,
    "nbgrader": {
     "grade": false,
     "locked": true,
     "solution": false
    }
   },
   "source": [
    "## Part 2: A/B testing\n",
    "\n",
    "### Loading the dataset\n",
    "\n",
    "For this part of the assignment, we will be using an extension of the [Web Analytics data set](http://scholarworks.montana.edu/xmlui/handle/1/3507) provided by the University of Montana. This data set has been analyzed for research papers and educational purposes in A/B testing. \n",
    "\n",
    "The data set has 3 columns of interest -- the date, A/B, representing two versions of a company's website (`A`, the original version, and `B`, the new version), and the number of users who subscribed to the site each day. Each day, 50% of site visitors were directed to version `A` of the website at random, and 50% were directed to version `B`.\n",
    "\n",
    "Let's import the necessary libraries and load this data set using the pandas `pd.read_csv()` function. Finally, we will explore the dataset using `df.head()`."
   ]
  },
  {
   "cell_type": "code",
   "execution_count": null,
   "metadata": {
    "collapsed": true,
    "deletable": false,
    "editable": false,
    "nbgrader": {
     "grade": false,
     "locked": true,
     "solution": false
    }
   },
   "outputs": [],
   "source": [
    "# Import libraries\n",
    "import numpy as np\n",
    "import pandas as pd\n",
    "import matplotlib.pyplot as plt\n",
    "%matplotlib inline\n",
    "\n",
    "# Import the data set\n",
    "analytics = pd.read_csv('./data/google_analytics.csv')\n",
    "\n",
    "# Examine the first few rows\n",
    "analytics.head()"
   ]
  },
  {
   "cell_type": "markdown",
   "metadata": {
    "deletable": false,
    "editable": false,
    "nbgrader": {
     "grade": false,
     "locked": true,
     "solution": false
    }
   },
   "source": [
    "You'll notice that there are two empty, unnamed columns in the data set. Let's go ahead and drop them, as we won't be needing them for our analysis. Afterward, we re-examine the first few rows of the data set to ensure the columns were properly dropped."
   ]
  },
  {
   "cell_type": "code",
   "execution_count": null,
   "metadata": {
    "collapsed": true,
    "deletable": false,
    "editable": false,
    "nbgrader": {
     "grade": false,
     "locked": true,
     "solution": false
    }
   },
   "outputs": [],
   "source": [
    "# Drop 2 empty columns\n",
    "analytics.drop(['Unnamed: 3', 'Unnamed: 4'], axis = 'columns', inplace = True)\n",
    "\n",
    "analytics.head()\n"
   ]
  },
  {
   "cell_type": "markdown",
   "metadata": {
    "deletable": false,
    "editable": false,
    "nbgrader": {
     "grade": false,
     "locked": true,
     "solution": false
    }
   },
   "source": [
    "#### Identifying a Research Question\n",
    "Hypothesis testing begins with identifying a research question of interest. Data scientists draw inspiration for these questions from a wide variety of sources such as the needs of a population of interest (i.e., _Will the closing of a factory impact asthma rates in Queens?_ ), the needs of a business (i.e., _Will this new website design impact traffic and subscription rates?_ ), and many others. Research questions are often simply inspired by curiosity and data that happens to be available (as evidenced by the wide variety of data sets and analyses available on [Kaggle](http://kaggle.com)).\n",
    "\n",
    "A research question should be a clear, concise representation of your topic that ultimately informs the structure of your hypothesis. There are 3 main types of research questions:\n",
    "- **Causal question:** a research question investigating the nature of a _causal_ relationship between two or more variables. For example, a researcher can ask _Does the new test design impact student performance in Engineering 101?_\n",
    "- **Descriptive question:** a research question investigating descriptive information about a phenomenon, i.e., _How well do students perform in Engineering 101?_\n",
    "- **Comparative questions:** a research question investigating trends, group differences, or variability in two or more variables, or in one variable between two groups, i.e., _Do sophomores tend to have higher grades in Engineering 101 than freshmen?_ , or _Is there a relationship between student age and performance in Engineering 101?_\n",
    "\n",
    "These 3 types of research questions offer a framework for structuring the majority of inquiries you will make as a data scientist."
   ]
  },
  {
   "cell_type": "markdown",
   "metadata": {
    "deletable": false,
    "editable": false,
    "nbgrader": {
     "grade": false,
     "locked": true,
     "solution": false
    }
   },
   "source": [
    "[Back to top](#Index:) \n",
    "<a id='q8'></a>\n",
    "\n",
    "### Question 8:\n",
    "\n",
    "*5 points*\n",
    "\n",
    "\n",
    "Let's identify our research question based on the `analytics` data set. We know that we have two groups - `A` and `B` - that represent the number of clicks for users who were randomly directed to the old and new versions of the website. We're interested in whether version `A` or `B` of the website leads to a greater number of daily subscriptions.\n",
    "\n",
    "Which of the following research question(s) is the most appropriate for our inquiry? \n",
    "- a) How many people subscribed to the website each day?\n",
    "- b) Does the new version of the website impact the daily subscription rate?\n",
    "- c) What is the correlation between subscription rates for version `A` and version `B` of the website?\n",
    "\n",
    "Assign the character(s) corresponding to the correct answer to `ans1` below."
   ]
  },
  {
   "cell_type": "code",
   "execution_count": null,
   "metadata": {
    "collapsed": true
   },
   "outputs": [],
   "source": [
    "### GRADED\n",
    "\n",
    "### YOUR SOLUTION HERE\n",
    "ans1 = None\n",
    "\n",
    "###\n",
    "### YOUR CODE HERE\n",
    "###\n"
   ]
  },
  {
   "cell_type": "code",
   "execution_count": null,
   "metadata": {
    "collapsed": true,
    "deletable": false,
    "editable": false,
    "nbgrader": {
     "grade": true,
     "grade_id": "Question 08",
     "locked": true,
     "points": "5",
     "solution": false
    }
   },
   "outputs": [],
   "source": [
    "###\n",
    "### AUTOGRADER TEST - DO NOT REMOVE\n",
    "###\n"
   ]
  },
  {
   "cell_type": "markdown",
   "metadata": {
    "deletable": false,
    "editable": false,
    "nbgrader": {
     "grade": false,
     "locked": true,
     "solution": false
    }
   },
   "source": [
    "####  Stating a Hypothesis\n",
    "With a clear and actionable research question, ( _Does the new version of the website impact the daily subscription rate?_ ) you can move on to the next step of stating your hypothesis. \n",
    "\n",
    "A **hypothesis** is a clear and *testable* prediction that serves as a starting point for an investigation and analysis. Your research question serves as the basis for the predictions stated in your hypothesis. Hypotheses are stated in two formats -- the **null hypothesis** and **alternative hypothesis**.\n",
    "\n",
    "The null hypothesis is a formal statement predicting the lack of change, difference, or other statistical relationship that you're interested in. It's stated using the symbolic notation, $H_0$. Here's an example:\n",
    "\n",
    "$H_0$: There is no significant relationship between age and income.\n",
    "\n",
    "The alternative hypothesis states the specific outcome that you are interested in. It uses the notation, $H_1$, and where relevant, includes the specific _direction_ of the relationship. Here's another example:\n",
    "\n",
    "$H_1$: Income significantly increases with age.\n",
    "\n",
    "The more _specific_ and _testable_ your null and alternative hypotheses, the more clearly you can identify the appropriate statistical test(s) for analyzing your data.\n",
    "\n",
    "---\n",
    "\n",
    "What do you _hypothesize_ will be the impact of the new version of the website on daily subscriptions?\n",
    "\n",
    "We likely expect our new website design, `B`, to lead to an increase in subscriptions. Thus, we have a specific direction of interest for our alternative hypothesis."
   ]
  },
  {
   "cell_type": "markdown",
   "metadata": {
    "deletable": false,
    "editable": false,
    "nbgrader": {
     "grade": false,
     "locked": true,
     "solution": false
    }
   },
   "source": [
    "[Back to top](#Index:) \n",
    "<a id='q9'></a>\n",
    "\n",
    "### Question 9:\n",
    "\n",
    "*5 points*\n",
    "\n",
    "Which of the following null and alternative hypotheses are the best set of predictions for our research questions?\n",
    "\n",
    "- a) $H_0$: There is no significant difference in daily subscriptions between version `A` and `B` of the website.\n",
    "- b) $H_0$: There is no significant relationship between daily subscriptions for version `A` and `B` of the website.\n",
    "- c) $H_1$: There is a significant difference in daily subscriptions between version `A` and `B` of the website.\n",
    "- d) $H_1$: Version `B` of the website has significantly more daily subscriptions than version `A`.\n",
    "\n",
    "Assign the letter(s) corresponding to your answer as a `list` in `ans2` below."
   ]
  },
  {
   "cell_type": "code",
   "execution_count": null,
   "metadata": {
    "collapsed": true
   },
   "outputs": [],
   "source": [
    "### GRADED\n",
    "\n",
    "### YOUR SOLUTION HERE\n",
    "ans2 = None\n",
    "\n",
    "###\n",
    "### YOUR CODE HERE\n",
    "###\n"
   ]
  },
  {
   "cell_type": "code",
   "execution_count": null,
   "metadata": {
    "collapsed": true,
    "deletable": false,
    "editable": false,
    "nbgrader": {
     "grade": true,
     "grade_id": "Question 09",
     "locked": true,
     "points": "5",
     "solution": false
    }
   },
   "outputs": [],
   "source": [
    "###\n",
    "### AUTOGRADER TEST - DO NOT REMOVE\n",
    "###\n"
   ]
  },
  {
   "cell_type": "markdown",
   "metadata": {
    "deletable": false,
    "editable": false,
    "nbgrader": {
     "grade": false,
     "locked": true,
     "solution": false
    }
   },
   "source": [
    "#### Choose the Appropriate Statistical Test\n",
    "\n",
    "The most commonly used statistical test in A/B testing is the **t-test**. A t-test is a type of _inferential statistics_ that uses statistics from a two groups in a sample to _infer_ whether or not a difference between those groups exists in the broader population.\n",
    "\n",
    "A t-test is an example of a _parametric_ statistical test. Parametric statistical tests assume that the sample and its population follow a normal distribution. While this is often the case, a t-test may not be appropriate for every distribution. In many cases, you may want to use more than one statistical test to validate your results. You can consider including a _non-parametric test_ , which do not require that your data is normally distributed. An appropriate non-parametric test for comparing the means of two groups is the Wilcoxon signed-rank test.\n",
    "\n",
    "For this analysis, we will start by using a t-test, which is available in Python as part of the `scipy.stats` library. Let's import the necessary function, `ttest_ind`, to be used later on."
   ]
  },
  {
   "cell_type": "code",
   "execution_count": null,
   "metadata": {
    "collapsed": true,
    "deletable": false,
    "editable": false,
    "nbgrader": {
     "grade": false,
     "locked": true,
     "solution": false
    }
   },
   "outputs": [],
   "source": [
    "# Import library\n",
    "from scipy.stats import ttest_ind"
   ]
  },
  {
   "cell_type": "markdown",
   "metadata": {
    "deletable": false,
    "editable": false,
    "nbgrader": {
     "grade": false,
     "locked": true,
     "solution": false
    }
   },
   "source": [
    "#### Determining the Necessary Sample Size\n",
    "\n",
    "In previous weeks, we covered a formula for determining the minimum sample size necessary for a statistical test. Testing for a minimum necessary sample size is a key step in hypothesis testing to ensure that the results of your statistical tests are accurate. This is often referred to as a _power analysis_ -- which is an analysis of whether or not you have a  sample size necessary to ensure sufficient statistical power. \n",
    "\n",
    "In this case study, we have our data set already loaded. When conducting an A/B test in a real-world setting such as a business, you will often need to conduct an _a priori power analysis_ to determine how many data points are necessary to detect a real, statistically significant effect in your sample. We can do this using the `statsmodels` library in Python.\n",
    "\n",
    "Let's import the `TTestIndPower` class, which is used to calculate the necessary sample size given your desired threshold for three parameters -- the _alpha level_ , the _statistical power_ , and the desired _effect size_ for the t-test.\n",
    "- _Alpha level:_ an upper threshold that you set in all parametric statistical tests to evaluate the _p-value_ generated by the majority of statistical tests. A common threshold for alpha is **.05**, which indicates we will only accept our results as _statistically significant_ if the resulting p-value is below .05 (indicating a 5% likelihood of your statistical relationship being present by random chance).\n",
    "- _Statistical power:_ the probability that you will detect a true difference in your population. This is commonly set to 0.8.\n",
    "- _Effect size:_ the magnitude of a result present in the population. The most common effect size measure used for a t-test is _Cohen's d._ We'll set the value to 0.50, commonly used to represent a _medium_ effect size. You can read more about effect sizes [here](http://staff.bath.ac.uk/pssiw/stats2/page2/page14/page14.html).\n"
   ]
  },
  {
   "cell_type": "markdown",
   "metadata": {
    "deletable": false,
    "editable": false,
    "nbgrader": {
     "grade": false,
     "locked": true,
     "solution": false
    }
   },
   "source": [
    "[Back to top](#Index:) \n",
    "<a id='q10'></a>\n",
    "\n",
    "### Question 10:\n",
    "\n",
    "*10 points*\n",
    "\n",
    "Use the function`TTestIndPower` to calculate the t-test power. Assign this result to the variable `ttest_pwr`.\n",
    "\n",
    "Next, use the `solve_power()` function on `ttest_pwr` to calculate the necessary sample size.\n",
    "\n",
    "**NOTE:**  `solve_power()` is part of the module  and takes 5 arguments -- the effect size, power, number of observations (leave this as None if you are looking to predict the necessary sample size), the ratio of data points between groups, and the alpha.\n",
    "\n",
    "Set:\n",
    "\n",
    "- effect = 0.50\n",
    "- power = 0.80\n",
    "- nobs1 =  None\n",
    "- ratio=1.0\n",
    "- alpha = 0.05\n",
    "\n",
    "Assign the result to `ans10`."
   ]
  },
  {
   "cell_type": "code",
   "execution_count": null,
   "metadata": {
    "collapsed": true
   },
   "outputs": [],
   "source": [
    "from statsmodels.stats.power import TTestIndPower\n",
    "### GRADED\n",
    "\n",
    "### YOUR SOLUTION HERE\n",
    "ttest_pwr = None\n",
    "ans10 = None\n",
    "\n",
    "###\n",
    "### YOUR CODE HERE\n",
    "###\n"
   ]
  },
  {
   "cell_type": "code",
   "execution_count": null,
   "metadata": {
    "collapsed": true,
    "deletable": false,
    "editable": false,
    "nbgrader": {
     "grade": true,
     "grade_id": "Question 10",
     "locked": true,
     "points": "10",
     "solution": false
    }
   },
   "outputs": [],
   "source": [
    "###\n",
    "### AUTOGRADER TEST - DO NOT REMOVE\n",
    "###\n"
   ]
  },
  {
   "cell_type": "markdown",
   "metadata": {
    "deletable": false,
    "editable": false,
    "nbgrader": {
     "grade": false,
     "locked": true,
     "solution": false
    }
   },
   "source": [
    "#### Conducting the Statistical Test\n",
    "Our `analytics` data set has enough data points to conduct a statistical test with 80% power, an alpha of .05, and a medium effect size. \n",
    "\n",
    "The t-test is a formula that compares the two groups' means and standard deviations to determine if the difference between the two groups is large enough that it likely doesn't occur by chance. Below is an example of two overlapping distributions:\n",
    "\n",
    "![ttest](./images/ttest.png)\n"
   ]
  },
  {
   "cell_type": "markdown",
   "metadata": {
    "deletable": false,
    "editable": false,
    "nbgrader": {
     "grade": false,
     "locked": true,
     "solution": false
    }
   },
   "source": [
    "The two groups being compared in a t-test need to meet one key assumption, _normality_ , before running our test. We can test this using the `skew` function in `scipy.stats`. A higher skew (positive or negative), indicates that your distribution is skewed."
   ]
  },
  {
   "cell_type": "markdown",
   "metadata": {
    "deletable": false,
    "editable": false,
    "nbgrader": {
     "grade": false,
     "locked": true,
     "solution": false
    }
   },
   "source": [
    "[Back to top](#Index:) \n",
    "<a id='q11'></a>\n",
    "\n",
    "### Question 11:\n",
    "\n",
    "*10 points*\n",
    "    \n",
    "Use the `scipy` function `skewtest` to compute the skewness of the data in the `A` and `B` columns. Assign the results to `ans11_a` and `ans12_b`, respectively."
   ]
  },
  {
   "cell_type": "code",
   "execution_count": null,
   "metadata": {
    "collapsed": true
   },
   "outputs": [],
   "source": [
    "from scipy.stats import skewtest\n",
    "### GRADED\n",
    "\n",
    "### YOUR SOLUTION HERE\n",
    "ans11_a = None\n",
    "ans11_b = None\n",
    "\n",
    "###\n",
    "### YOUR CODE HERE\n",
    "###\n"
   ]
  },
  {
   "cell_type": "code",
   "execution_count": null,
   "metadata": {
    "collapsed": true,
    "deletable": false,
    "editable": false,
    "nbgrader": {
     "grade": true,
     "grade_id": "Question 11",
     "locked": true,
     "points": "10",
     "solution": false
    }
   },
   "outputs": [],
   "source": [
    "###\n",
    "### AUTOGRADER TEST - DO NOT REMOVE\n",
    "###\n"
   ]
  },
  {
   "cell_type": "markdown",
   "metadata": {
    "deletable": false,
    "editable": false,
    "nbgrader": {
     "grade": false,
     "locked": true,
     "solution": false
    }
   },
   "source": [
    "We can see that the skew is fairly close to 0, with a p-value close to 1. Thus, we will conclude that the data is approximately normally distributed. We can proceed with our t-test."
   ]
  },
  {
   "cell_type": "code",
   "execution_count": null,
   "metadata": {
    "collapsed": true,
    "deletable": false,
    "editable": false,
    "nbgrader": {
     "grade": false,
     "locked": true,
     "solution": false
    }
   },
   "outputs": [],
   "source": [
    "# Conduct t-test\n",
    "t_stat, p_val = ttest_ind(analytics['A'], analytics['B'], equal_var=False)\n",
    "print('T-statistic:',t_stat)\n",
    "print('P-value:',p_val)"
   ]
  },
  {
   "cell_type": "markdown",
   "metadata": {
    "deletable": false,
    "editable": false,
    "nbgrader": {
     "grade": false,
     "locked": true,
     "solution": false
    }
   },
   "source": [
    "#### Interpreting the Statistical Tests\n",
    "Let's interpret the two values we just generated.\n",
    "\n",
    "##### t-statistic\n",
    "The t-statistic is a coefficient indicating the magnitude of the difference between the two distributions of groups A and B. A larger value (positive or negative) indicates a larger difference between the two groups. Using the alpha level and degrees of freedom (sample size - 1) your t-statistic serves as a threshold value to determine whether or not your results meet the criteria for statistical significance. You can access a t-table for comprehensive comparisons [here](http://www.sjsu.edu/faculty/gerstman/StatPrimer/t-table.pdf). \n",
    "\n",
    "Based on an alpha level of .05 (column 7 in the t-table), and degrees of freedom of 84 (we'll use 80 in the table), we can say our t-statistic of -2.6 is greater than the threshold of +/- 1.990.\n",
    "\n",
    "##### p-value\n",
    "The majority of statistical tests allow you to calculate a _p-value_ or _significance value_. A p-value is the probability that, if you were to survey the entire population, your sample mean differences would be the same or greater than what you found. We set an alpha level of .05, indicating that we need our p-value to be below this threshold for statistical significance.\n",
    "\n",
    "Based on our p-value of .01, we can conclude that there is a _statistically significant difference between version A an B of the website_. In other words, _visitors who saw version B of the website were significantly more likely to subscribe than those who saw version A._\n",
    "\n"
   ]
  },
  {
   "cell_type": "markdown",
   "metadata": {
    "deletable": false,
    "editable": false,
    "nbgrader": {
     "grade": false,
     "locked": true,
     "solution": false
    }
   },
   "source": [
    "### 5. Drawing Conclusions\n",
    "\n",
    "[Back to top](#Index:) \n",
    "<a id='q12'></a>\n",
    "\n",
    "### Question 12:\n",
    "\n",
    "*5 points*\n",
    "\n",
    "We now know that the difference between version A and B of the website is statistically significant. Our next step is to return to the null and alternative hypothesis and decide on the following:\n",
    "\n",
    "- a. Do we accept the alternative hypothesis, and reject the null hypothesis?\n",
    "- b.  Do we lack statistical evidence, failing to reject the null hypothesis?\n",
    "\n",
    "Assign the character corresponding to your answer to `ans12`."
   ]
  },
  {
   "cell_type": "code",
   "execution_count": null,
   "metadata": {
    "collapsed": true
   },
   "outputs": [],
   "source": [
    "from scipy.stats import skewtest\n",
    "### GRADED\n",
    "\n",
    "### YOUR SOLUTION HERE\n",
    "ans12 = None\n",
    "\n",
    "###\n",
    "### YOUR CODE HERE\n",
    "###\n"
   ]
  },
  {
   "cell_type": "code",
   "execution_count": null,
   "metadata": {
    "collapsed": true,
    "deletable": false,
    "editable": false,
    "nbgrader": {
     "grade": true,
     "grade_id": "Question 12",
     "locked": true,
     "points": "5",
     "solution": false
    }
   },
   "outputs": [],
   "source": [
    "###\n",
    "### AUTOGRADER TEST - DO NOT REMOVE\n",
    "###\n"
   ]
  },
  {
   "cell_type": "markdown",
   "metadata": {},
   "source": [
    "Thus, we can conclude that the new version of the website, version B, leads to higher subscription rates!"
   ]
  }
 ],
 "metadata": {
  "kernelspec": {
   "display_name": "Python 3",
   "language": "python",
   "name": "python3"
  },
  "language_info": {
   "codemirror_mode": {
    "name": "ipython",
    "version": 3
   },
   "file_extension": ".py",
   "mimetype": "text/x-python",
   "name": "python",
   "nbconvert_exporter": "python",
   "pygments_lexer": "ipython3",
   "version": "3.6.9"
  }
 },
 "nbformat": 4,
 "nbformat_minor": 2
}
