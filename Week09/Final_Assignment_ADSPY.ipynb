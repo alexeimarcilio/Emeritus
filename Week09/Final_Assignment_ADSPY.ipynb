{
 "cells": [
  {
   "cell_type": "markdown",
   "metadata": {
    "deletable": false,
    "editable": false,
    "nbgrader": {
     "grade": false,
     "locked": true,
     "solution": false
    }
   },
   "source": [
    "# Final Assignment\n",
    "\n",
    "**_Author: Favio Vázquez_**\n",
    "\n",
    "**Expected time = 3.5 hours**\n",
    "\n",
    "**Total points = 185 points**"
   ]
  },
  {
   "cell_type": "markdown",
   "metadata": {
    "deletable": false,
    "editable": false,
    "nbgrader": {
     "grade": false,
     "locked": true,
     "solution": false
    }
   },
   "source": [
    "## Assignment Overview\n",
    "\n",
    "In this final assignment you will be having more practice on all the topics covered in the course, with a specific attention to the modules about Pandas (M6), Data Visualization (M7) and Statistics (M8,M9). Make sure to go back to those videos and assignments to review the most important things. \n",
    "\n",
    "This assignment is designed to build your familiarity and comfort coding in Python while also helping you review key topics from each module. As you progress through the assignment, answers will get increasingly complex. It is important that you adopt a data scientist's mindset when completing this assignment. **Remember to run your code from each cell before submitting your assignment.** Running your code beforehand will notify you of errors and give you a chance to fix your errors before submitting. You should view your Vocareum submission as if you are delivering a final project to your manager or client. \n",
    "\n",
    "***Vocareum Tips***\n",
    "\n",
    "- Do not add arguments or options to functions unless you are specifically asked to. This will cause an error in Vocareum.\n",
    "- Do not use a library unless you are expicitly asked to in the question.\n",
    "\n",
    "\n",
    "### Learning Objectives\n",
    "\n",
    "- Explain the benefits of functions in performing specified tasks in Python. \n",
    "- Explain the operations that can be performed on a given data type. \n",
    "- Use Pandas to build, extract, filter, and transform DataFrames.\n",
    "- Use matplotlib to visualize data including basic plots and advanced plots.\n",
    "- Use fundamental concepts of probability theory to examine random variables and quantify the probability of a given outcome.  \n",
    "- Explain common statistical distributions such as the normal distribution, t-distribution, and bernoulli distribution. \n",
    "- Conduct basic hypothesis testing to determine the reliability of your conclusions. "
   ]
  },
  {
   "cell_type": "markdown",
   "metadata": {
    "deletable": false,
    "editable": false,
    "nbgrader": {
     "grade": false,
     "locked": true,
     "solution": false
    }
   },
   "source": [
    "## Index:\n",
    "\n",
    "#### Final Assignment Topics:\n",
    "\n",
    "##### Working with Data Types and Operators in Python:\n",
    "\n",
    "- [Question 1](#Question-1)\n",
    "- [Question 2](#Question-2)\n",
    "\n",
    "##### Writing Functions in Python:\n",
    "\n",
    "- [Question 3](#Question-3)\n",
    "- [Question 4](#Question-4)\n",
    "\n",
    "##### Data Manipulation and Analysis with Pandas:\n",
    "\n",
    "- [Question 5](#Question-5)\n",
    "- [Question 6](#Question-6)\n",
    "- [Question 7](#Question-7)\n",
    "\n",
    "##### Data Visualization:\n",
    "\n",
    "- [Question 8](#Question-8)\n",
    "- [Question 9](#Question-9)\n",
    "\n",
    "##### Random Variables and Statistical Inferences:\n",
    "\n",
    "- [Question 10](#Question-10)\n",
    "- [Question 11](#Question-11)\n",
    "- [Question 12](#Question-12)\n",
    "\n",
    "##### Statistical Distributions and Hypothesis Testing:\n",
    "\n",
    "- [Question 13](#Question-13)\n",
    "- [Question 14](#Question-14)\n",
    "- [Question 15](#Question-15)"
   ]
  },
  {
   "cell_type": "code",
   "execution_count": 2,
   "metadata": {
    "deletable": false,
    "editable": false,
    "nbgrader": {
     "grade": false,
     "locked": true,
     "solution": false
    }
   },
   "outputs": [],
   "source": [
    "# Let's start by importing the libraries we will be using\n",
    "import pandas as pd\n",
    "import numpy as np\n",
    "import matplotlib.pyplot as plt\n",
    "from dateutil.parser import parse\n",
    "from sklearn import datasets\n",
    "import scipy.stats as sp\n",
    "import math\n",
    "import seaborn as sns\n",
    "\n",
    "# Avoid warnings\n",
    "import warnings\n",
    "warnings.filterwarnings(\"ignore\")"
   ]
  },
  {
   "cell_type": "markdown",
   "metadata": {
    "deletable": false,
    "editable": false,
    "nbgrader": {
     "grade": false,
     "locked": true,
     "solution": false
    }
   },
   "source": [
    "## Working with Data Types and Operators in Python:"
   ]
  },
  {
   "cell_type": "markdown",
   "metadata": {
    "deletable": false,
    "editable": false,
    "nbgrader": {
     "grade": false,
     "locked": true,
     "solution": false
    }
   },
   "source": [
    "[Back to top](#Index:) \n",
    "\n",
    "### Question 1\n",
    "*15 points*\n",
    "\n",
    "\n",
    "Perform the following operations on the list below, which is stored in the variable `my_list`.\n",
    "\n",
    "- Reverse the list and store your result in a variable called `my_reversed_list`, **without using the `.reverse()` method.**\n",
    "- Sort the list (in descending order) and store your result in a variable called `my_sorted_list`. **To do this, create a function called `my_sort` and implement a sorting algorithm. You must do this without using the `.sort()` method.** \n",
    "    - To create the sorting algorithm you need to use a `for` loop with the argument arr with a range of `len(arr)` and a minimum of `i`. \n",
    "    - In this loop will be a nested `for` loop with a range of i+1 to `len(arr)`.\n",
    "    - Check if `j` is below the minimum. If it is, then assign `j` to the minimum. Place the appropriate variables in the array after checking this.\n",
    "- With a list comprehension, multiply every element of the list by the number 3 and store your result in a variable called `my_other_list`.\n",
    "\n",
    "\n"
   ]
  },
  {
   "cell_type": "code",
   "execution_count": 3,
   "metadata": {},
   "outputs": [
    {
     "name": "stdout",
     "output_type": "stream",
     "text": [
      "Original:  [0, 1, 2, 3, 4, 5, 6, 7, 8, 9, 10, 11, 12, 13, 14]\n",
      "Reversed:  [14, 13, 12, 11, 10, 9, 8, 7, 6, 5, 4, 3, 2, 1, 0]\n",
      "Sorted:  [14, 13, 12, 11, 10, 9, 8, 7, 6, 5, 4, 3, 2, 1, 0]\n",
      "Mult by 3 [0, 3, 6, 9, 12, 15, 18, 21, 24, 27, 30, 33, 36, 39, 42]\n"
     ]
    }
   ],
   "source": [
    "### GRADED \n",
    "my_list = list(range(0,15)) # Don't change this line\n",
    "\n",
    "### YOUR SOLUTION HERE\n",
    "\n",
    "def my_sort(arr):\n",
    "    #print(arr)\n",
    "    for i in range(len(arr)):\n",
    "        minimum = arr[i]\n",
    "        maximum = arr[i]\n",
    "        for j in range(i+1,len(arr)):\n",
    "            #print(f'i:{arr[i]},j:{arr[j]}')\n",
    "            if arr[j] < minimum:\n",
    "                minimum = arr[j]\n",
    "                maximum = arr[i]\n",
    "                arr[i]=minimum\n",
    "                arr[j]=maximum\n",
    "    return arr[::-1]\n",
    "\n",
    "\n",
    "            \n",
    "my_reversed_list = my_list[::-1]\n",
    "my_sorted_list = my_sort(my_list)\n",
    "my_other_list = [x*3 for x in my_list]\n",
    "\n",
    "###\n",
    "### YOUR CODE HERE\n",
    "###\n",
    "\n",
    "# Checking results\n",
    "print(\"Original: \", my_list)\n",
    "print(\"Reversed: \", my_reversed_list)\n",
    "print(\"Sorted: \", my_sorted_list)\n",
    "print(\"Mult by 3\", my_other_list)"
   ]
  },
  {
   "cell_type": "code",
   "execution_count": 4,
   "metadata": {},
   "outputs": [
    {
     "data": {
      "text/plain": [
       "[9, 8, 7, 6, 4, 2]"
      ]
     },
     "execution_count": 4,
     "metadata": {},
     "output_type": "execute_result"
    }
   ],
   "source": [
    "my_sort([7,6,4,8,9,2])"
   ]
  },
  {
   "cell_type": "code",
   "execution_count": 5,
   "metadata": {},
   "outputs": [
    {
     "data": {
      "text/plain": [
       "[0, 1, 2, 3, 4, 5, 6, 7, 8, 9, 10, 11, 12, 13, 14]"
      ]
     },
     "execution_count": 5,
     "metadata": {},
     "output_type": "execute_result"
    }
   ],
   "source": [
    "my_list"
   ]
  },
  {
   "cell_type": "code",
   "execution_count": 6,
   "metadata": {
    "deletable": false,
    "editable": false,
    "nbgrader": {
     "grade": true,
     "grade_id": "Question 01",
     "locked": true,
     "points": "15",
     "solution": false
    }
   },
   "outputs": [],
   "source": [
    "###\n",
    "### AUTOGRADER TEST - DO NOT REMOVE\n",
    "###\n"
   ]
  },
  {
   "cell_type": "markdown",
   "metadata": {
    "deletable": false,
    "editable": false,
    "nbgrader": {
     "grade": false,
     "locked": true,
     "solution": false
    }
   },
   "source": [
    "[Back to top](#Index:) \n",
    "\n",
    "### Question 2\n",
    "*5 points*\n",
    "    \n",
    "For the dictionary defined and stored in the variable, `my_dict`, add a new key, \"name\", with same the same values as the ones corresponsind to the key \"nme\". Remember you can get the name d,  the first entry in the dictionary by using `my_dict[1][\"name\"]`.\n",
    "Finally, delete the key \"nme\".\n",
    "\n",
    "\n",
    "**Hint: Consider using a for loop.**."
   ]
  },
  {
   "cell_type": "code",
   "execution_count": 7,
   "metadata": {},
   "outputs": [],
   "source": [
    "### GRADED\n",
    "my_dict = {1: {'nme': 'John', 'age': '27', 'sex': 'Male'},\n",
    "          2: {'nme': 'Marie', 'age': '22', 'sex': 'Female'}}\n",
    "\n",
    "### YOUR SOLUTION HERE\n",
    "\n",
    "#print(my_dict[1][\"nme\"])\n",
    "\n",
    "for key in my_dict:\n",
    "    my_dict[key][\"name\"]=my_dict[key][\"nme\"]\n",
    "    del my_dict[key][\"nme\"]\n",
    "\n",
    "\n",
    "###\n",
    "### YOUR CODE HERE\n",
    "###\n"
   ]
  },
  {
   "cell_type": "code",
   "execution_count": 8,
   "metadata": {},
   "outputs": [
    {
     "data": {
      "text/plain": [
       "{1: {'age': '27', 'sex': 'Male', 'name': 'John'},\n",
       " 2: {'age': '22', 'sex': 'Female', 'name': 'Marie'}}"
      ]
     },
     "execution_count": 8,
     "metadata": {},
     "output_type": "execute_result"
    }
   ],
   "source": [
    "my_dict"
   ]
  },
  {
   "cell_type": "code",
   "execution_count": 9,
   "metadata": {
    "deletable": false,
    "editable": false,
    "nbgrader": {
     "grade": true,
     "grade_id": "Question 02",
     "locked": true,
     "points": "5",
     "solution": false
    }
   },
   "outputs": [],
   "source": [
    "###\n",
    "### AUTOGRADER TEST - DO NOT REMOVE\n",
    "###\n"
   ]
  },
  {
   "cell_type": "markdown",
   "metadata": {
    "deletable": false,
    "editable": false,
    "nbgrader": {
     "grade": false,
     "locked": true,
     "solution": false
    }
   },
   "source": [
    "## Writing Functions in Python:"
   ]
  },
  {
   "cell_type": "markdown",
   "metadata": {
    "deletable": false,
    "editable": false,
    "nbgrader": {
     "grade": false,
     "locked": true,
     "solution": false
    }
   },
   "source": [
    "[Back to top](#Index:) \n",
    "\n",
    "### Question 3\n",
    "*10 points*\n",
    "\n",
    "Create a function that determines the all the factors of a number and call it `factors`. The factors of a number are any numbers that divide into it exactly, including 1 and the number itself. "
   ]
  },
  {
   "cell_type": "code",
   "execution_count": 10,
   "metadata": {},
   "outputs": [],
   "source": [
    "### GRADED\n",
    "\n",
    "### YOUR SOLUTION HERE\n",
    "def factors(x):\n",
    "    factors = []\n",
    "    for i in range(1, x+1):\n",
    "        if x % i == 0:\n",
    "            factors.append(i)\n",
    "    return factors\n",
    "\n",
    "\n",
    "###\n",
    "### YOUR CODE HERE\n",
    "###\n"
   ]
  },
  {
   "cell_type": "code",
   "execution_count": 11,
   "metadata": {},
   "outputs": [
    {
     "data": {
      "text/plain": [
       "[1, 2, 4, 5, 8, 10, 16, 20, 32, 40, 64, 80, 160, 320]"
      ]
     },
     "execution_count": 11,
     "metadata": {},
     "output_type": "execute_result"
    }
   ],
   "source": [
    "factors(320)"
   ]
  },
  {
   "cell_type": "code",
   "execution_count": 12,
   "metadata": {
    "deletable": false,
    "editable": false,
    "nbgrader": {
     "grade": true,
     "grade_id": "Question 03",
     "locked": true,
     "points": "10",
     "solution": false
    }
   },
   "outputs": [],
   "source": [
    "###\n",
    "### AUTOGRADER TEST - DO NOT REMOVE\n",
    "###\n"
   ]
  },
  {
   "cell_type": "markdown",
   "metadata": {
    "deletable": false,
    "editable": false,
    "nbgrader": {
     "grade": false,
     "locked": true,
     "solution": false
    }
   },
   "source": [
    "[Back to top](#Index:) \n",
    "\n",
    "### Question 4\n",
    "*15 points*\n",
    "\n",
    "Create a function that checks if a number is prime or not and name the function `check_prime`. If the number is prime it should return the boolean `True`  or should return `False` if it is not prime. \n",
    "\n",
    "Remember that a number is prime if it can only be divided by 1 and itself. Also remember that negative numbers, 0, and 1 are not considered prime. We can create a range of odd numbers by using `range(3, int(math.sqrt(number)), 2)`.\n",
    "\n",
    "**Hint: Except 2, all prime numbers are odd. Use functions the math library imported in the code cell below.**"
   ]
  },
  {
   "cell_type": "code",
   "execution_count": 13,
   "metadata": {},
   "outputs": [],
   "source": [
    "### GRADED\n",
    "import math\n",
    "\n",
    "\n",
    "### YOUR SOLUTION HERE\n",
    "def check_prime(num):\n",
    "    if num < 2:\n",
    "        return False\n",
    "    for i in range(2, int(math.sqrt(num))+1):\n",
    "        if num % i == 0:\n",
    "            return False\n",
    "    return True\n",
    "\n",
    "###\n",
    "### YOUR CODE HERE\n",
    "###\n"
   ]
  },
  {
   "cell_type": "code",
   "execution_count": 14,
   "metadata": {},
   "outputs": [
    {
     "data": {
      "text/plain": [
       "True"
      ]
     },
     "execution_count": 14,
     "metadata": {},
     "output_type": "execute_result"
    }
   ],
   "source": [
    "check_prime(2)"
   ]
  },
  {
   "cell_type": "code",
   "execution_count": 15,
   "metadata": {
    "deletable": false,
    "editable": false,
    "nbgrader": {
     "grade": true,
     "grade_id": "Question 04",
     "locked": true,
     "points": "15",
     "solution": false
    }
   },
   "outputs": [],
   "source": [
    "###\n",
    "### AUTOGRADER TEST - DO NOT REMOVE\n",
    "###\n"
   ]
  },
  {
   "cell_type": "markdown",
   "metadata": {
    "collapsed": true
   },
   "source": [
    "## Data Manipulation and Analysis with Pandas\n",
    "\n",
    "For the next three questions we will be using a dataset coming from a liist of video games with sales greater than 100,000 copies. The columns are:\n",
    "\n",
    "- Rank - Ranking of overall sales\n",
    "- Name - The games name\n",
    "- Platform - Platform of the games release (i.e. PC,PS4, etc.)\n",
    "- Year - Year of the game's release\n",
    "- Genre - Genre of the game\n",
    "- Publisher - Publisher of the game\n",
    "- NA_Sales - Sales in North America (in millions)\n",
    "- EU_Sales - Sales in Europe (in millions)\n",
    "- JP_Sales - Sales in Japan (in millions)\n",
    "- Other_Sales - Sales in the rest of the world (in millions)\n",
    "- Global_Sales - Total worldwide sales.\n",
    "\n",
    "There are 16,598 records in total"
   ]
  },
  {
   "cell_type": "code",
   "execution_count": 16,
   "metadata": {
    "deletable": false,
    "editable": false,
    "nbgrader": {
     "grade": false,
     "locked": true,
     "solution": false
    }
   },
   "outputs": [],
   "source": [
    "## Read the dataset\n",
    "df = pd.read_csv(\"data/vgsales.csv\")"
   ]
  },
  {
   "cell_type": "code",
   "execution_count": 17,
   "metadata": {
    "deletable": false,
    "editable": false,
    "nbgrader": {
     "grade": false,
     "locked": true,
     "solution": false
    }
   },
   "outputs": [
    {
     "data": {
      "text/html": [
       "<div>\n",
       "<style scoped>\n",
       "    .dataframe tbody tr th:only-of-type {\n",
       "        vertical-align: middle;\n",
       "    }\n",
       "\n",
       "    .dataframe tbody tr th {\n",
       "        vertical-align: top;\n",
       "    }\n",
       "\n",
       "    .dataframe thead th {\n",
       "        text-align: right;\n",
       "    }\n",
       "</style>\n",
       "<table border=\"1\" class=\"dataframe\">\n",
       "  <thead>\n",
       "    <tr style=\"text-align: right;\">\n",
       "      <th></th>\n",
       "      <th>Rank</th>\n",
       "      <th>Name</th>\n",
       "      <th>Platform</th>\n",
       "      <th>Year</th>\n",
       "      <th>Genre</th>\n",
       "      <th>Publisher</th>\n",
       "      <th>NA_Sales</th>\n",
       "      <th>EU_Sales</th>\n",
       "      <th>JP_Sales</th>\n",
       "      <th>Other_Sales</th>\n",
       "      <th>Global_Sales</th>\n",
       "    </tr>\n",
       "  </thead>\n",
       "  <tbody>\n",
       "    <tr>\n",
       "      <th>0</th>\n",
       "      <td>1</td>\n",
       "      <td>Wii Sports</td>\n",
       "      <td>Wii</td>\n",
       "      <td>2006.0</td>\n",
       "      <td>Sports</td>\n",
       "      <td>Nintendo</td>\n",
       "      <td>41.49</td>\n",
       "      <td>29.02</td>\n",
       "      <td>3.77</td>\n",
       "      <td>8.46</td>\n",
       "      <td>82.74</td>\n",
       "    </tr>\n",
       "    <tr>\n",
       "      <th>1</th>\n",
       "      <td>2</td>\n",
       "      <td>Super Mario Bros.</td>\n",
       "      <td>NES</td>\n",
       "      <td>1985.0</td>\n",
       "      <td>Platform</td>\n",
       "      <td>Nintendo</td>\n",
       "      <td>29.08</td>\n",
       "      <td>3.58</td>\n",
       "      <td>6.81</td>\n",
       "      <td>0.77</td>\n",
       "      <td>40.24</td>\n",
       "    </tr>\n",
       "    <tr>\n",
       "      <th>2</th>\n",
       "      <td>3</td>\n",
       "      <td>Mario Kart Wii</td>\n",
       "      <td>Wii</td>\n",
       "      <td>2008.0</td>\n",
       "      <td>Racing</td>\n",
       "      <td>Nintendo</td>\n",
       "      <td>15.85</td>\n",
       "      <td>12.88</td>\n",
       "      <td>3.79</td>\n",
       "      <td>3.31</td>\n",
       "      <td>35.82</td>\n",
       "    </tr>\n",
       "    <tr>\n",
       "      <th>3</th>\n",
       "      <td>4</td>\n",
       "      <td>Wii Sports Resort</td>\n",
       "      <td>Wii</td>\n",
       "      <td>2009.0</td>\n",
       "      <td>Sports</td>\n",
       "      <td>Nintendo</td>\n",
       "      <td>15.75</td>\n",
       "      <td>11.01</td>\n",
       "      <td>3.28</td>\n",
       "      <td>2.96</td>\n",
       "      <td>33.00</td>\n",
       "    </tr>\n",
       "    <tr>\n",
       "      <th>4</th>\n",
       "      <td>5</td>\n",
       "      <td>Pokemon Red/Pokemon Blue</td>\n",
       "      <td>GB</td>\n",
       "      <td>1996.0</td>\n",
       "      <td>Role-Playing</td>\n",
       "      <td>Nintendo</td>\n",
       "      <td>11.27</td>\n",
       "      <td>8.89</td>\n",
       "      <td>10.22</td>\n",
       "      <td>1.00</td>\n",
       "      <td>31.37</td>\n",
       "    </tr>\n",
       "  </tbody>\n",
       "</table>\n",
       "</div>"
      ],
      "text/plain": [
       "   Rank                      Name Platform    Year         Genre Publisher  \\\n",
       "0     1                Wii Sports      Wii  2006.0        Sports  Nintendo   \n",
       "1     2         Super Mario Bros.      NES  1985.0      Platform  Nintendo   \n",
       "2     3            Mario Kart Wii      Wii  2008.0        Racing  Nintendo   \n",
       "3     4         Wii Sports Resort      Wii  2009.0        Sports  Nintendo   \n",
       "4     5  Pokemon Red/Pokemon Blue       GB  1996.0  Role-Playing  Nintendo   \n",
       "\n",
       "   NA_Sales  EU_Sales  JP_Sales  Other_Sales  Global_Sales  \n",
       "0     41.49     29.02      3.77         8.46         82.74  \n",
       "1     29.08      3.58      6.81         0.77         40.24  \n",
       "2     15.85     12.88      3.79         3.31         35.82  \n",
       "3     15.75     11.01      3.28         2.96         33.00  \n",
       "4     11.27      8.89     10.22         1.00         31.37  "
      ]
     },
     "execution_count": 17,
     "metadata": {},
     "output_type": "execute_result"
    }
   ],
   "source": [
    "## See the data\n",
    "df.head()"
   ]
  },
  {
   "cell_type": "markdown",
   "metadata": {
    "deletable": false,
    "editable": false,
    "nbgrader": {
     "grade": false,
     "locked": true,
     "solution": false
    }
   },
   "source": [
    "[Back to top](#Index:) \n",
    "\n",
    "### Question 5\n",
    "*5 points*\n",
    "\n",
    "How many videogames were released after 2001? Store final result in a variable called `count_2001`. The final result will have to be an integer."
   ]
  },
  {
   "cell_type": "code",
   "execution_count": 18,
   "metadata": {},
   "outputs": [
    {
     "data": {
      "text/plain": [
       "13522"
      ]
     },
     "execution_count": 18,
     "metadata": {},
     "output_type": "execute_result"
    }
   ],
   "source": [
    "df[df['Year']>2001]['Year'].count()"
   ]
  },
  {
   "cell_type": "code",
   "execution_count": 19,
   "metadata": {},
   "outputs": [],
   "source": [
    "### GRADED\n",
    "\n",
    "### YOUR SOLUTION HERE\n",
    "\n",
    "\n",
    "\n",
    "count_2001 = df[df['Year']>2001]['Year'].count()\n",
    "\n",
    "###\n",
    "### YOUR CODE HERE\n",
    "###\n"
   ]
  },
  {
   "cell_type": "code",
   "execution_count": 20,
   "metadata": {},
   "outputs": [
    {
     "data": {
      "text/plain": [
       "13522"
      ]
     },
     "execution_count": 20,
     "metadata": {},
     "output_type": "execute_result"
    }
   ],
   "source": [
    "count_2001"
   ]
  },
  {
   "cell_type": "code",
   "execution_count": 21,
   "metadata": {
    "deletable": false,
    "editable": false,
    "nbgrader": {
     "grade": true,
     "grade_id": "Question 05",
     "locked": true,
     "points": "5",
     "solution": false
    }
   },
   "outputs": [],
   "source": [
    "###\n",
    "### AUTOGRADER TEST - DO NOT REMOVE\n",
    "###\n"
   ]
  },
  {
   "cell_type": "markdown",
   "metadata": {
    "deletable": false,
    "editable": false,
    "nbgrader": {
     "grade": false,
     "locked": true,
     "solution": false
    }
   },
   "source": [
    "[Back to top](#Index:) \n",
    "\n",
    "### Question 6\n",
    "*10 points*\n",
    "\n",
    "In a new dataframe called `df_nintendo_years`, include the best selling years from the `Publisher` Nintendo. \n",
    "\n",
    "We define a good year as a year when the \"Global_Sales\" exceeded 30 million video games sold. We can accomplish this by grouping the sum of Global_Sales by year. Only include the years and Global_Sales in the new dataframe.\n",
    "\n",
    "**HINT: you can sum the Global_Sales with the command `.agg({\"Global_Sales\": \"sum\"}`**"
   ]
  },
  {
   "cell_type": "code",
   "execution_count": 22,
   "metadata": {},
   "outputs": [],
   "source": [
    "df_nintendo_years = df[df['Publisher']=='Nintendo'].groupby(by='Year').agg({\"Global_Sales\": \"sum\"})\n",
    "df_nintendo_years = df_nintendo_years[df_nintendo_years['Global_Sales']> 30]\n"
   ]
  },
  {
   "cell_type": "code",
   "execution_count": 23,
   "metadata": {},
   "outputs": [],
   "source": [
    "### GRADED\n",
    "\n",
    "\n",
    "### YOUR SOLUTION HERE\n",
    "\n",
    "df_nintendo_years = df[df['Publisher']=='Nintendo'].groupby(by='Year').agg({\"Global_Sales\": \"sum\"})\n",
    "df_nintendo_years = df_nintendo_years[df_nintendo_years['Global_Sales']> 30]\n",
    "\n",
    "\n",
    "###\n",
    "### YOUR CODE HERE\n",
    "###\n"
   ]
  },
  {
   "cell_type": "code",
   "execution_count": 24,
   "metadata": {},
   "outputs": [
    {
     "data": {
      "text/html": [
       "<div>\n",
       "<style scoped>\n",
       "    .dataframe tbody tr th:only-of-type {\n",
       "        vertical-align: middle;\n",
       "    }\n",
       "\n",
       "    .dataframe tbody tr th {\n",
       "        vertical-align: top;\n",
       "    }\n",
       "\n",
       "    .dataframe thead th {\n",
       "        text-align: right;\n",
       "    }\n",
       "</style>\n",
       "<table border=\"1\" class=\"dataframe\">\n",
       "  <thead>\n",
       "    <tr style=\"text-align: right;\">\n",
       "      <th></th>\n",
       "      <th>Global_Sales</th>\n",
       "    </tr>\n",
       "    <tr>\n",
       "      <th>Year</th>\n",
       "      <th></th>\n",
       "    </tr>\n",
       "  </thead>\n",
       "  <tbody>\n",
       "    <tr>\n",
       "      <th>1984.0</th>\n",
       "      <td>45.56</td>\n",
       "    </tr>\n",
       "    <tr>\n",
       "      <th>1985.0</th>\n",
       "      <td>49.95</td>\n",
       "    </tr>\n",
       "    <tr>\n",
       "      <th>1988.0</th>\n",
       "      <td>36.44</td>\n",
       "    </tr>\n",
       "    <tr>\n",
       "      <th>1989.0</th>\n",
       "      <td>63.88</td>\n",
       "    </tr>\n",
       "    <tr>\n",
       "      <th>1990.0</th>\n",
       "      <td>35.49</td>\n",
       "    </tr>\n",
       "    <tr>\n",
       "      <th>1992.0</th>\n",
       "      <td>38.11</td>\n",
       "    </tr>\n",
       "    <tr>\n",
       "      <th>1996.0</th>\n",
       "      <td>73.70</td>\n",
       "    </tr>\n",
       "    <tr>\n",
       "      <th>1998.0</th>\n",
       "      <td>48.41</td>\n",
       "    </tr>\n",
       "    <tr>\n",
       "      <th>1999.0</th>\n",
       "      <td>65.33</td>\n",
       "    </tr>\n",
       "    <tr>\n",
       "      <th>2000.0</th>\n",
       "      <td>34.05</td>\n",
       "    </tr>\n",
       "    <tr>\n",
       "      <th>2001.0</th>\n",
       "      <td>45.37</td>\n",
       "    </tr>\n",
       "    <tr>\n",
       "      <th>2002.0</th>\n",
       "      <td>48.31</td>\n",
       "    </tr>\n",
       "    <tr>\n",
       "      <th>2003.0</th>\n",
       "      <td>38.14</td>\n",
       "    </tr>\n",
       "    <tr>\n",
       "      <th>2004.0</th>\n",
       "      <td>60.65</td>\n",
       "    </tr>\n",
       "    <tr>\n",
       "      <th>2005.0</th>\n",
       "      <td>127.47</td>\n",
       "    </tr>\n",
       "    <tr>\n",
       "      <th>2006.0</th>\n",
       "      <td>205.61</td>\n",
       "    </tr>\n",
       "    <tr>\n",
       "      <th>2007.0</th>\n",
       "      <td>104.18</td>\n",
       "    </tr>\n",
       "    <tr>\n",
       "      <th>2008.0</th>\n",
       "      <td>91.22</td>\n",
       "    </tr>\n",
       "    <tr>\n",
       "      <th>2009.0</th>\n",
       "      <td>128.89</td>\n",
       "    </tr>\n",
       "    <tr>\n",
       "      <th>2010.0</th>\n",
       "      <td>61.07</td>\n",
       "    </tr>\n",
       "    <tr>\n",
       "      <th>2011.0</th>\n",
       "      <td>51.53</td>\n",
       "    </tr>\n",
       "    <tr>\n",
       "      <th>2012.0</th>\n",
       "      <td>56.47</td>\n",
       "    </tr>\n",
       "    <tr>\n",
       "      <th>2013.0</th>\n",
       "      <td>52.79</td>\n",
       "    </tr>\n",
       "    <tr>\n",
       "      <th>2014.0</th>\n",
       "      <td>48.65</td>\n",
       "    </tr>\n",
       "  </tbody>\n",
       "</table>\n",
       "</div>"
      ],
      "text/plain": [
       "        Global_Sales\n",
       "Year                \n",
       "1984.0         45.56\n",
       "1985.0         49.95\n",
       "1988.0         36.44\n",
       "1989.0         63.88\n",
       "1990.0         35.49\n",
       "1992.0         38.11\n",
       "1996.0         73.70\n",
       "1998.0         48.41\n",
       "1999.0         65.33\n",
       "2000.0         34.05\n",
       "2001.0         45.37\n",
       "2002.0         48.31\n",
       "2003.0         38.14\n",
       "2004.0         60.65\n",
       "2005.0        127.47\n",
       "2006.0        205.61\n",
       "2007.0        104.18\n",
       "2008.0         91.22\n",
       "2009.0        128.89\n",
       "2010.0         61.07\n",
       "2011.0         51.53\n",
       "2012.0         56.47\n",
       "2013.0         52.79\n",
       "2014.0         48.65"
      ]
     },
     "execution_count": 24,
     "metadata": {},
     "output_type": "execute_result"
    }
   ],
   "source": [
    "df_nintendo_years"
   ]
  },
  {
   "cell_type": "code",
   "execution_count": 25,
   "metadata": {
    "deletable": false,
    "editable": false,
    "nbgrader": {
     "grade": true,
     "grade_id": "Question 06",
     "locked": true,
     "points": "10",
     "solution": false
    }
   },
   "outputs": [],
   "source": [
    "###\n",
    "### AUTOGRADER TEST - DO NOT REMOVE\n",
    "###\n"
   ]
  },
  {
   "cell_type": "markdown",
   "metadata": {
    "deletable": false,
    "editable": false,
    "nbgrader": {
     "grade": false,
     "locked": true,
     "solution": false
    }
   },
   "source": [
    "[Back to top](#Index:) \n",
    "\n",
    "### Question 7\n",
    "*15 points*\n",
    "\n",
    "\n",
    "The column \"Global_Sales\" is supposed to come from summing the \"NA_Sales\", \"EU_Sales\", \"JP_Sales\" and \"Other_Sales\" columns. In this question you will confirm that. Create a new column called \"My_Global_Sales\" by applying a lambda function that is the result of summing all of the other individual sales columns for every row. \n",
    "\n",
    "Then compare \"Global_Sales\" with \"My_Global_Sales\" using the `np.isclose()` function to check if the two columns are equal (or close) with an absolute tolerance of 0.001. For Example:\n",
    "\n",
    "35.82 is close to 35.821 in our criteria but 35.82 and 35.83 are not.\n",
    "\n",
    "Store the comparison as a boolean column (True or False), and name that column \"Close\".\n",
    "\n",
    "**Hint: See the numpy documentation for [np.isclose()](https://docs.scipy.org/doc/numpy/reference/generated/numpy.isclose.html) function**."
   ]
  },
  {
   "cell_type": "code",
   "execution_count": 26,
   "metadata": {},
   "outputs": [],
   "source": [
    "df[\"My_Global_Sales\"]=df['NA_Sales']+df['EU_Sales']+df['JP_Sales']+df['Other_Sales']"
   ]
  },
  {
   "cell_type": "code",
   "execution_count": 27,
   "metadata": {},
   "outputs": [
    {
     "data": {
      "text/plain": [
       "array([ True,  True, False, ..., False,  True,  True])"
      ]
     },
     "execution_count": 27,
     "metadata": {},
     "output_type": "execute_result"
    }
   ],
   "source": [
    "\n",
    "\n",
    "np.isclose(df['Global_Sales'],df['My_Global_Sales'],atol= 0.001)"
   ]
  },
  {
   "cell_type": "code",
   "execution_count": 28,
   "metadata": {},
   "outputs": [],
   "source": [
    "### GRADED\n",
    "\n",
    "\n",
    "### YOUR SOLUTION HERE\n",
    "df[\"My_Global_Sales\"] = df['NA_Sales']+df['EU_Sales']+df['JP_Sales']+df['Other_Sales']\n",
    "df[\"Close\"] = np.isclose(df['Global_Sales'],df['My_Global_Sales'],atol= 0.001)\n",
    "\n",
    "###\n",
    "### YOUR CODE HERE\n",
    "###\n"
   ]
  },
  {
   "cell_type": "code",
   "execution_count": 29,
   "metadata": {},
   "outputs": [
    {
     "data": {
      "text/html": [
       "<div>\n",
       "<style scoped>\n",
       "    .dataframe tbody tr th:only-of-type {\n",
       "        vertical-align: middle;\n",
       "    }\n",
       "\n",
       "    .dataframe tbody tr th {\n",
       "        vertical-align: top;\n",
       "    }\n",
       "\n",
       "    .dataframe thead th {\n",
       "        text-align: right;\n",
       "    }\n",
       "</style>\n",
       "<table border=\"1\" class=\"dataframe\">\n",
       "  <thead>\n",
       "    <tr style=\"text-align: right;\">\n",
       "      <th></th>\n",
       "      <th>Rank</th>\n",
       "      <th>Name</th>\n",
       "      <th>Platform</th>\n",
       "      <th>Year</th>\n",
       "      <th>Genre</th>\n",
       "      <th>Publisher</th>\n",
       "      <th>NA_Sales</th>\n",
       "      <th>EU_Sales</th>\n",
       "      <th>JP_Sales</th>\n",
       "      <th>Other_Sales</th>\n",
       "      <th>Global_Sales</th>\n",
       "      <th>My_Global_Sales</th>\n",
       "      <th>Close</th>\n",
       "    </tr>\n",
       "  </thead>\n",
       "  <tbody>\n",
       "    <tr>\n",
       "      <th>0</th>\n",
       "      <td>1</td>\n",
       "      <td>Wii Sports</td>\n",
       "      <td>Wii</td>\n",
       "      <td>2006.0</td>\n",
       "      <td>Sports</td>\n",
       "      <td>Nintendo</td>\n",
       "      <td>41.49</td>\n",
       "      <td>29.02</td>\n",
       "      <td>3.77</td>\n",
       "      <td>8.46</td>\n",
       "      <td>82.74</td>\n",
       "      <td>82.74</td>\n",
       "      <td>True</td>\n",
       "    </tr>\n",
       "    <tr>\n",
       "      <th>1</th>\n",
       "      <td>2</td>\n",
       "      <td>Super Mario Bros.</td>\n",
       "      <td>NES</td>\n",
       "      <td>1985.0</td>\n",
       "      <td>Platform</td>\n",
       "      <td>Nintendo</td>\n",
       "      <td>29.08</td>\n",
       "      <td>3.58</td>\n",
       "      <td>6.81</td>\n",
       "      <td>0.77</td>\n",
       "      <td>40.24</td>\n",
       "      <td>40.24</td>\n",
       "      <td>True</td>\n",
       "    </tr>\n",
       "    <tr>\n",
       "      <th>2</th>\n",
       "      <td>3</td>\n",
       "      <td>Mario Kart Wii</td>\n",
       "      <td>Wii</td>\n",
       "      <td>2008.0</td>\n",
       "      <td>Racing</td>\n",
       "      <td>Nintendo</td>\n",
       "      <td>15.85</td>\n",
       "      <td>12.88</td>\n",
       "      <td>3.79</td>\n",
       "      <td>3.31</td>\n",
       "      <td>35.82</td>\n",
       "      <td>35.83</td>\n",
       "      <td>False</td>\n",
       "    </tr>\n",
       "    <tr>\n",
       "      <th>3</th>\n",
       "      <td>4</td>\n",
       "      <td>Wii Sports Resort</td>\n",
       "      <td>Wii</td>\n",
       "      <td>2009.0</td>\n",
       "      <td>Sports</td>\n",
       "      <td>Nintendo</td>\n",
       "      <td>15.75</td>\n",
       "      <td>11.01</td>\n",
       "      <td>3.28</td>\n",
       "      <td>2.96</td>\n",
       "      <td>33.00</td>\n",
       "      <td>33.00</td>\n",
       "      <td>True</td>\n",
       "    </tr>\n",
       "    <tr>\n",
       "      <th>4</th>\n",
       "      <td>5</td>\n",
       "      <td>Pokemon Red/Pokemon Blue</td>\n",
       "      <td>GB</td>\n",
       "      <td>1996.0</td>\n",
       "      <td>Role-Playing</td>\n",
       "      <td>Nintendo</td>\n",
       "      <td>11.27</td>\n",
       "      <td>8.89</td>\n",
       "      <td>10.22</td>\n",
       "      <td>1.00</td>\n",
       "      <td>31.37</td>\n",
       "      <td>31.38</td>\n",
       "      <td>False</td>\n",
       "    </tr>\n",
       "    <tr>\n",
       "      <th>...</th>\n",
       "      <td>...</td>\n",
       "      <td>...</td>\n",
       "      <td>...</td>\n",
       "      <td>...</td>\n",
       "      <td>...</td>\n",
       "      <td>...</td>\n",
       "      <td>...</td>\n",
       "      <td>...</td>\n",
       "      <td>...</td>\n",
       "      <td>...</td>\n",
       "      <td>...</td>\n",
       "      <td>...</td>\n",
       "      <td>...</td>\n",
       "    </tr>\n",
       "    <tr>\n",
       "      <th>16593</th>\n",
       "      <td>16596</td>\n",
       "      <td>Woody Woodpecker in Crazy Castle 5</td>\n",
       "      <td>GBA</td>\n",
       "      <td>2002.0</td>\n",
       "      <td>Platform</td>\n",
       "      <td>Kemco</td>\n",
       "      <td>0.01</td>\n",
       "      <td>0.00</td>\n",
       "      <td>0.00</td>\n",
       "      <td>0.00</td>\n",
       "      <td>0.01</td>\n",
       "      <td>0.01</td>\n",
       "      <td>True</td>\n",
       "    </tr>\n",
       "    <tr>\n",
       "      <th>16594</th>\n",
       "      <td>16597</td>\n",
       "      <td>Men in Black II: Alien Escape</td>\n",
       "      <td>GC</td>\n",
       "      <td>2003.0</td>\n",
       "      <td>Shooter</td>\n",
       "      <td>Infogrames</td>\n",
       "      <td>0.01</td>\n",
       "      <td>0.00</td>\n",
       "      <td>0.00</td>\n",
       "      <td>0.00</td>\n",
       "      <td>0.01</td>\n",
       "      <td>0.01</td>\n",
       "      <td>True</td>\n",
       "    </tr>\n",
       "    <tr>\n",
       "      <th>16595</th>\n",
       "      <td>16598</td>\n",
       "      <td>SCORE International Baja 1000: The Official Game</td>\n",
       "      <td>PS2</td>\n",
       "      <td>2008.0</td>\n",
       "      <td>Racing</td>\n",
       "      <td>Activision</td>\n",
       "      <td>0.00</td>\n",
       "      <td>0.00</td>\n",
       "      <td>0.00</td>\n",
       "      <td>0.00</td>\n",
       "      <td>0.01</td>\n",
       "      <td>0.00</td>\n",
       "      <td>False</td>\n",
       "    </tr>\n",
       "    <tr>\n",
       "      <th>16596</th>\n",
       "      <td>16599</td>\n",
       "      <td>Know How 2</td>\n",
       "      <td>DS</td>\n",
       "      <td>2010.0</td>\n",
       "      <td>Puzzle</td>\n",
       "      <td>7G//AMES</td>\n",
       "      <td>0.00</td>\n",
       "      <td>0.01</td>\n",
       "      <td>0.00</td>\n",
       "      <td>0.00</td>\n",
       "      <td>0.01</td>\n",
       "      <td>0.01</td>\n",
       "      <td>True</td>\n",
       "    </tr>\n",
       "    <tr>\n",
       "      <th>16597</th>\n",
       "      <td>16600</td>\n",
       "      <td>Spirits &amp; Spells</td>\n",
       "      <td>GBA</td>\n",
       "      <td>2003.0</td>\n",
       "      <td>Platform</td>\n",
       "      <td>Wanadoo</td>\n",
       "      <td>0.01</td>\n",
       "      <td>0.00</td>\n",
       "      <td>0.00</td>\n",
       "      <td>0.00</td>\n",
       "      <td>0.01</td>\n",
       "      <td>0.01</td>\n",
       "      <td>True</td>\n",
       "    </tr>\n",
       "  </tbody>\n",
       "</table>\n",
       "<p>16598 rows × 13 columns</p>\n",
       "</div>"
      ],
      "text/plain": [
       "        Rank                                              Name Platform  \\\n",
       "0          1                                        Wii Sports      Wii   \n",
       "1          2                                 Super Mario Bros.      NES   \n",
       "2          3                                    Mario Kart Wii      Wii   \n",
       "3          4                                 Wii Sports Resort      Wii   \n",
       "4          5                          Pokemon Red/Pokemon Blue       GB   \n",
       "...      ...                                               ...      ...   \n",
       "16593  16596                Woody Woodpecker in Crazy Castle 5      GBA   \n",
       "16594  16597                     Men in Black II: Alien Escape       GC   \n",
       "16595  16598  SCORE International Baja 1000: The Official Game      PS2   \n",
       "16596  16599                                        Know How 2       DS   \n",
       "16597  16600                                  Spirits & Spells      GBA   \n",
       "\n",
       "         Year         Genre   Publisher  NA_Sales  EU_Sales  JP_Sales  \\\n",
       "0      2006.0        Sports    Nintendo     41.49     29.02      3.77   \n",
       "1      1985.0      Platform    Nintendo     29.08      3.58      6.81   \n",
       "2      2008.0        Racing    Nintendo     15.85     12.88      3.79   \n",
       "3      2009.0        Sports    Nintendo     15.75     11.01      3.28   \n",
       "4      1996.0  Role-Playing    Nintendo     11.27      8.89     10.22   \n",
       "...       ...           ...         ...       ...       ...       ...   \n",
       "16593  2002.0      Platform       Kemco      0.01      0.00      0.00   \n",
       "16594  2003.0       Shooter  Infogrames      0.01      0.00      0.00   \n",
       "16595  2008.0        Racing  Activision      0.00      0.00      0.00   \n",
       "16596  2010.0        Puzzle    7G//AMES      0.00      0.01      0.00   \n",
       "16597  2003.0      Platform     Wanadoo      0.01      0.00      0.00   \n",
       "\n",
       "       Other_Sales  Global_Sales  My_Global_Sales  Close  \n",
       "0             8.46         82.74            82.74   True  \n",
       "1             0.77         40.24            40.24   True  \n",
       "2             3.31         35.82            35.83  False  \n",
       "3             2.96         33.00            33.00   True  \n",
       "4             1.00         31.37            31.38  False  \n",
       "...            ...           ...              ...    ...  \n",
       "16593         0.00          0.01             0.01   True  \n",
       "16594         0.00          0.01             0.01   True  \n",
       "16595         0.00          0.01             0.00  False  \n",
       "16596         0.00          0.01             0.01   True  \n",
       "16597         0.00          0.01             0.01   True  \n",
       "\n",
       "[16598 rows x 13 columns]"
      ]
     },
     "execution_count": 29,
     "metadata": {},
     "output_type": "execute_result"
    }
   ],
   "source": [
    "df"
   ]
  },
  {
   "cell_type": "code",
   "execution_count": 30,
   "metadata": {
    "deletable": false,
    "editable": false,
    "nbgrader": {
     "grade": true,
     "grade_id": "Question 07",
     "locked": true,
     "points": "15",
     "solution": false
    }
   },
   "outputs": [],
   "source": [
    "###\n",
    "### AUTOGRADER TEST - DO NOT REMOVE\n",
    "###\n"
   ]
  },
  {
   "cell_type": "markdown",
   "metadata": {
    "deletable": false,
    "editable": false,
    "nbgrader": {
     "grade": false,
     "locked": true,
     "solution": false
    }
   },
   "source": [
    "## Data Visualization\n",
    "\n",
    "IMPORTANT INSTRUCTIONS:\n",
    "\n",
    "- To be able to test for this part of the assignment, you will be asked to save your figures as PNG into a folder called \"results\". Please don't change the name we ask you to give to the plots so you are able to get all the points in every question. The code you will use to save the PNG files is (for example): plt.savefig(\"results/plot.png\")\n",
    "- Don't add any customization you're not asked to in the plots."
   ]
  },
  {
   "cell_type": "markdown",
   "metadata": {
    "deletable": false,
    "editable": false,
    "nbgrader": {
     "grade": false,
     "locked": true,
     "solution": false
    }
   },
   "source": [
    "[Back to top](#Index:) \n",
    "\n",
    "### Question 8\n",
    "*20 points*\n",
    "    \n",
    "Given the iris dataset create a scatter plot of the sepal length (cm) vs the petal width (cm) by using a `for` loop with a range of 0 to 3. Define `species_df = iris_df[iris_df['species'] == i]`. In the scatter plot for sepal length (cm) and the petal width (cm) have color equal `colours`, alpha equal 0.5, and label equal `species`. Plot this with these customizations:\n",
    "\n",
    "- The colors of the species should follow the colours and species lists from below.\n",
    "- X-label: 'sepal length (cm)'\n",
    "- Y-label: 'petal width (cm)'\n",
    "- Title: 'Iris dataset: sepal length vs petal width'\n",
    "- Legend = Should be displayed with the argument loc=\"lower right\".\n",
    "\n",
    "Save your plot as a png with the name \"plot1.png\" in the folder \"results\"."
   ]
  },
  {
   "cell_type": "code",
   "execution_count": 31,
   "metadata": {
    "nbgrader": {
     "grade": false,
     "grade_id": "Question 08",
     "locked": false,
     "points": "20",
     "solution": false
    }
   },
   "outputs": [
    {
     "data": {
      "image/png": "[encoded data removed]",
      "text/plain": [
       "<Figure size 432x288 with 1 Axes>"
      ]
     },
     "metadata": {
      "needs_background": "light"
     },
     "output_type": "display_data"
    }
   ],
   "source": [
    "### GRADED \n",
    "\n",
    "# Data\n",
    "iris = datasets.load_iris()\n",
    "iris_df = pd.DataFrame(iris['data'], columns=iris['feature_names'])\n",
    "iris_df['species'] = iris['target']\n",
    "\n",
    "# Set color and names for legend\n",
    "colours = ['red', 'orange', 'blue']\n",
    "species = ['I. setosa', 'I. versicolor', 'I. virginica']\n",
    "\n",
    "### YOUR SOLUTION HERE\n",
    "\n",
    "for i in range(0,3):\n",
    "    species_df = iris_df[iris_df['species'] == i]\n",
    "    x = species_df['sepal length (cm)']\n",
    "    y = species_df['petal width (cm)']\n",
    "    plt.scatter(x, y, color=colours[i], alpha=0.5)\n",
    "\n",
    "plt.xlabel('sepal length (cm)')\n",
    "plt.ylabel('petal width (cm)')\n",
    "plt.title('Iris dataset: sepal length vs petal width')\n",
    "plt.legend(species,loc=\"lower right\")\n",
    "\n",
    "plt.savefig('results/plot1.png')\n",
    "\n",
    "###\n",
    "### YOUR CODE HERE\n",
    "###\n"
   ]
  },
  {
   "cell_type": "code",
   "execution_count": 32,
   "metadata": {},
   "outputs": [
    {
     "data": {
      "text/plain": [
       "0      0\n",
       "1      0\n",
       "2      0\n",
       "3      0\n",
       "4      0\n",
       "      ..\n",
       "145    2\n",
       "146    2\n",
       "147    2\n",
       "148    2\n",
       "149    2\n",
       "Name: species, Length: 150, dtype: int64"
      ]
     },
     "execution_count": 32,
     "metadata": {},
     "output_type": "execute_result"
    }
   ],
   "source": [
    "iris_df['species']"
   ]
  },
  {
   "cell_type": "code",
   "execution_count": 33,
   "metadata": {
    "deletable": false,
    "editable": false,
    "nbgrader": {
     "grade": true,
     "grade_id": "Question 08",
     "locked": true,
     "points": "20",
     "solution": false
    }
   },
   "outputs": [],
   "source": [
    "###\n",
    "### AUTOGRADER TEST - DO NOT REMOVE\n",
    "###\n"
   ]
  },
  {
   "cell_type": "markdown",
   "metadata": {
    "deletable": false,
    "editable": false,
    "nbgrader": {
     "grade": false,
     "locked": true,
     "solution": false
    }
   },
   "source": [
    "[Back to top](#Index:) \n",
    "\n",
    "### Question 9\n",
    "*20 points*\n",
    "    \n",
    "Given the Boston dataset, create a heatmap (using seaborn) for the correlation matrix. First you have to create the correlation matrix from the pandas dataframe (save it in a dataframe called `corr`) and then plot it using seaborn with these customizations:\n",
    "\n",
    "- Set the seaborn style to white.\n",
    "- Generate a mask using `np.triu(np.ones_like())` with the dtype as boolean to only show the lower triangle of the correlation matrix. Save it in a variable called `mask`.\n",
    "- Set up the figure with matplotlib with `figsize=(11,9)`. Use `fig, ax = ...`\n",
    "- Generate a custom diverging colormap for the heatmap with the arguments `(220, 10, as_cmap=True)`. Save it in a variable called `cmap`.\n",
    "- Draw the heatmap with the mask and correct aspect ratio,  using the arguments `corr, mask=mask, cmap=cmap, vmax=.3, center=0, square=True, linewidths=.5, cbar_kws={\"shrink\": .5})`.\n",
    "\n",
    "You can find more information about how to create a heatmap using seaborn [here](https://seaborn.pydata.org/generated/seaborn.heatmap.html).\n",
    "\n",
    "The final plot should look like this:\n",
    "\n",
    "![](images/1.png)\n",
    "\n",
    "**Save your plot as a png with the name \"plot2.png\" in the folder \"results\".**"
   ]
  },
  {
   "cell_type": "code",
   "execution_count": 34,
   "metadata": {},
   "outputs": [
    {
     "data": {
      "image/png": "[encoded data removed]",
      "text/plain": [
       "<Figure size 792x648 with 2 Axes>"
      ]
     },
     "metadata": {},
     "output_type": "display_data"
    }
   ],
   "source": [
    "### GRADED \n",
    "\n",
    "# Data\n",
    "boston = datasets.load_boston()\n",
    "boston_df = pd.DataFrame(boston['data'], columns=boston['feature_names'])\n",
    "boston_df['PRICE'] = boston.target\n",
    "\n",
    "### YOUR SOLUTION HERE\n",
    "\n",
    "sns.set(style=\"white\")\n",
    "\n",
    "corr = boston_df.corr()\n",
    "\n",
    "mask = np.triu(np.ones_like(corr, dtype=np.bool))\n",
    "\n",
    "fig, ax = plt.subplots(figsize=(11, 9))\n",
    "\n",
    "cmap = sns.diverging_palette(220, 10, as_cmap=True)\n",
    "\n",
    "sns.heatmap(corr, mask=mask, cmap=cmap, vmax=.3, center=0, square=True, linewidths=.5, cbar_kws={\"shrink\": .5})\n",
    "    \n",
    "plt.savefig('results/plot2.png')\n",
    "\n",
    "###\n",
    "### YOUR CODE HERE\n",
    "###\n"
   ]
  },
  {
   "cell_type": "code",
   "execution_count": 35,
   "metadata": {},
   "outputs": [
    {
     "data": {
      "text/html": [
       "<div>\n",
       "<style scoped>\n",
       "    .dataframe tbody tr th:only-of-type {\n",
       "        vertical-align: middle;\n",
       "    }\n",
       "\n",
       "    .dataframe tbody tr th {\n",
       "        vertical-align: top;\n",
       "    }\n",
       "\n",
       "    .dataframe thead th {\n",
       "        text-align: right;\n",
       "    }\n",
       "</style>\n",
       "<table border=\"1\" class=\"dataframe\">\n",
       "  <thead>\n",
       "    <tr style=\"text-align: right;\">\n",
       "      <th></th>\n",
       "      <th>CRIM</th>\n",
       "      <th>ZN</th>\n",
       "      <th>INDUS</th>\n",
       "      <th>CHAS</th>\n",
       "      <th>NOX</th>\n",
       "      <th>RM</th>\n",
       "      <th>AGE</th>\n",
       "      <th>DIS</th>\n",
       "      <th>RAD</th>\n",
       "      <th>TAX</th>\n",
       "      <th>PTRATIO</th>\n",
       "      <th>B</th>\n",
       "      <th>LSTAT</th>\n",
       "      <th>PRICE</th>\n",
       "    </tr>\n",
       "  </thead>\n",
       "  <tbody>\n",
       "    <tr>\n",
       "      <th>CRIM</th>\n",
       "      <td>1.000000</td>\n",
       "      <td>-0.200469</td>\n",
       "      <td>0.406583</td>\n",
       "      <td>-0.055892</td>\n",
       "      <td>0.420972</td>\n",
       "      <td>-0.219247</td>\n",
       "      <td>0.352734</td>\n",
       "      <td>-0.379670</td>\n",
       "      <td>0.625505</td>\n",
       "      <td>0.582764</td>\n",
       "      <td>0.289946</td>\n",
       "      <td>-0.385064</td>\n",
       "      <td>0.455621</td>\n",
       "      <td>-0.388305</td>\n",
       "    </tr>\n",
       "    <tr>\n",
       "      <th>ZN</th>\n",
       "      <td>-0.200469</td>\n",
       "      <td>1.000000</td>\n",
       "      <td>-0.533828</td>\n",
       "      <td>-0.042697</td>\n",
       "      <td>-0.516604</td>\n",
       "      <td>0.311991</td>\n",
       "      <td>-0.569537</td>\n",
       "      <td>0.664408</td>\n",
       "      <td>-0.311948</td>\n",
       "      <td>-0.314563</td>\n",
       "      <td>-0.391679</td>\n",
       "      <td>0.175520</td>\n",
       "      <td>-0.412995</td>\n",
       "      <td>0.360445</td>\n",
       "    </tr>\n",
       "    <tr>\n",
       "      <th>INDUS</th>\n",
       "      <td>0.406583</td>\n",
       "      <td>-0.533828</td>\n",
       "      <td>1.000000</td>\n",
       "      <td>0.062938</td>\n",
       "      <td>0.763651</td>\n",
       "      <td>-0.391676</td>\n",
       "      <td>0.644779</td>\n",
       "      <td>-0.708027</td>\n",
       "      <td>0.595129</td>\n",
       "      <td>0.720760</td>\n",
       "      <td>0.383248</td>\n",
       "      <td>-0.356977</td>\n",
       "      <td>0.603800</td>\n",
       "      <td>-0.483725</td>\n",
       "    </tr>\n",
       "    <tr>\n",
       "      <th>CHAS</th>\n",
       "      <td>-0.055892</td>\n",
       "      <td>-0.042697</td>\n",
       "      <td>0.062938</td>\n",
       "      <td>1.000000</td>\n",
       "      <td>0.091203</td>\n",
       "      <td>0.091251</td>\n",
       "      <td>0.086518</td>\n",
       "      <td>-0.099176</td>\n",
       "      <td>-0.007368</td>\n",
       "      <td>-0.035587</td>\n",
       "      <td>-0.121515</td>\n",
       "      <td>0.048788</td>\n",
       "      <td>-0.053929</td>\n",
       "      <td>0.175260</td>\n",
       "    </tr>\n",
       "    <tr>\n",
       "      <th>NOX</th>\n",
       "      <td>0.420972</td>\n",
       "      <td>-0.516604</td>\n",
       "      <td>0.763651</td>\n",
       "      <td>0.091203</td>\n",
       "      <td>1.000000</td>\n",
       "      <td>-0.302188</td>\n",
       "      <td>0.731470</td>\n",
       "      <td>-0.769230</td>\n",
       "      <td>0.611441</td>\n",
       "      <td>0.668023</td>\n",
       "      <td>0.188933</td>\n",
       "      <td>-0.380051</td>\n",
       "      <td>0.590879</td>\n",
       "      <td>-0.427321</td>\n",
       "    </tr>\n",
       "    <tr>\n",
       "      <th>RM</th>\n",
       "      <td>-0.219247</td>\n",
       "      <td>0.311991</td>\n",
       "      <td>-0.391676</td>\n",
       "      <td>0.091251</td>\n",
       "      <td>-0.302188</td>\n",
       "      <td>1.000000</td>\n",
       "      <td>-0.240265</td>\n",
       "      <td>0.205246</td>\n",
       "      <td>-0.209847</td>\n",
       "      <td>-0.292048</td>\n",
       "      <td>-0.355501</td>\n",
       "      <td>0.128069</td>\n",
       "      <td>-0.613808</td>\n",
       "      <td>0.695360</td>\n",
       "    </tr>\n",
       "    <tr>\n",
       "      <th>AGE</th>\n",
       "      <td>0.352734</td>\n",
       "      <td>-0.569537</td>\n",
       "      <td>0.644779</td>\n",
       "      <td>0.086518</td>\n",
       "      <td>0.731470</td>\n",
       "      <td>-0.240265</td>\n",
       "      <td>1.000000</td>\n",
       "      <td>-0.747881</td>\n",
       "      <td>0.456022</td>\n",
       "      <td>0.506456</td>\n",
       "      <td>0.261515</td>\n",
       "      <td>-0.273534</td>\n",
       "      <td>0.602339</td>\n",
       "      <td>-0.376955</td>\n",
       "    </tr>\n",
       "    <tr>\n",
       "      <th>DIS</th>\n",
       "      <td>-0.379670</td>\n",
       "      <td>0.664408</td>\n",
       "      <td>-0.708027</td>\n",
       "      <td>-0.099176</td>\n",
       "      <td>-0.769230</td>\n",
       "      <td>0.205246</td>\n",
       "      <td>-0.747881</td>\n",
       "      <td>1.000000</td>\n",
       "      <td>-0.494588</td>\n",
       "      <td>-0.534432</td>\n",
       "      <td>-0.232471</td>\n",
       "      <td>0.291512</td>\n",
       "      <td>-0.496996</td>\n",
       "      <td>0.249929</td>\n",
       "    </tr>\n",
       "    <tr>\n",
       "      <th>RAD</th>\n",
       "      <td>0.625505</td>\n",
       "      <td>-0.311948</td>\n",
       "      <td>0.595129</td>\n",
       "      <td>-0.007368</td>\n",
       "      <td>0.611441</td>\n",
       "      <td>-0.209847</td>\n",
       "      <td>0.456022</td>\n",
       "      <td>-0.494588</td>\n",
       "      <td>1.000000</td>\n",
       "      <td>0.910228</td>\n",
       "      <td>0.464741</td>\n",
       "      <td>-0.444413</td>\n",
       "      <td>0.488676</td>\n",
       "      <td>-0.381626</td>\n",
       "    </tr>\n",
       "    <tr>\n",
       "      <th>TAX</th>\n",
       "      <td>0.582764</td>\n",
       "      <td>-0.314563</td>\n",
       "      <td>0.720760</td>\n",
       "      <td>-0.035587</td>\n",
       "      <td>0.668023</td>\n",
       "      <td>-0.292048</td>\n",
       "      <td>0.506456</td>\n",
       "      <td>-0.534432</td>\n",
       "      <td>0.910228</td>\n",
       "      <td>1.000000</td>\n",
       "      <td>0.460853</td>\n",
       "      <td>-0.441808</td>\n",
       "      <td>0.543993</td>\n",
       "      <td>-0.468536</td>\n",
       "    </tr>\n",
       "    <tr>\n",
       "      <th>PTRATIO</th>\n",
       "      <td>0.289946</td>\n",
       "      <td>-0.391679</td>\n",
       "      <td>0.383248</td>\n",
       "      <td>-0.121515</td>\n",
       "      <td>0.188933</td>\n",
       "      <td>-0.355501</td>\n",
       "      <td>0.261515</td>\n",
       "      <td>-0.232471</td>\n",
       "      <td>0.464741</td>\n",
       "      <td>0.460853</td>\n",
       "      <td>1.000000</td>\n",
       "      <td>-0.177383</td>\n",
       "      <td>0.374044</td>\n",
       "      <td>-0.507787</td>\n",
       "    </tr>\n",
       "    <tr>\n",
       "      <th>B</th>\n",
       "      <td>-0.385064</td>\n",
       "      <td>0.175520</td>\n",
       "      <td>-0.356977</td>\n",
       "      <td>0.048788</td>\n",
       "      <td>-0.380051</td>\n",
       "      <td>0.128069</td>\n",
       "      <td>-0.273534</td>\n",
       "      <td>0.291512</td>\n",
       "      <td>-0.444413</td>\n",
       "      <td>-0.441808</td>\n",
       "      <td>-0.177383</td>\n",
       "      <td>1.000000</td>\n",
       "      <td>-0.366087</td>\n",
       "      <td>0.333461</td>\n",
       "    </tr>\n",
       "    <tr>\n",
       "      <th>LSTAT</th>\n",
       "      <td>0.455621</td>\n",
       "      <td>-0.412995</td>\n",
       "      <td>0.603800</td>\n",
       "      <td>-0.053929</td>\n",
       "      <td>0.590879</td>\n",
       "      <td>-0.613808</td>\n",
       "      <td>0.602339</td>\n",
       "      <td>-0.496996</td>\n",
       "      <td>0.488676</td>\n",
       "      <td>0.543993</td>\n",
       "      <td>0.374044</td>\n",
       "      <td>-0.366087</td>\n",
       "      <td>1.000000</td>\n",
       "      <td>-0.737663</td>\n",
       "    </tr>\n",
       "    <tr>\n",
       "      <th>PRICE</th>\n",
       "      <td>-0.388305</td>\n",
       "      <td>0.360445</td>\n",
       "      <td>-0.483725</td>\n",
       "      <td>0.175260</td>\n",
       "      <td>-0.427321</td>\n",
       "      <td>0.695360</td>\n",
       "      <td>-0.376955</td>\n",
       "      <td>0.249929</td>\n",
       "      <td>-0.381626</td>\n",
       "      <td>-0.468536</td>\n",
       "      <td>-0.507787</td>\n",
       "      <td>0.333461</td>\n",
       "      <td>-0.737663</td>\n",
       "      <td>1.000000</td>\n",
       "    </tr>\n",
       "  </tbody>\n",
       "</table>\n",
       "</div>"
      ],
      "text/plain": [
       "             CRIM        ZN     INDUS      CHAS       NOX        RM       AGE  \\\n",
       "CRIM     1.000000 -0.200469  0.406583 -0.055892  0.420972 -0.219247  0.352734   \n",
       "ZN      -0.200469  1.000000 -0.533828 -0.042697 -0.516604  0.311991 -0.569537   \n",
       "INDUS    0.406583 -0.533828  1.000000  0.062938  0.763651 -0.391676  0.644779   \n",
       "CHAS    -0.055892 -0.042697  0.062938  1.000000  0.091203  0.091251  0.086518   \n",
       "NOX      0.420972 -0.516604  0.763651  0.091203  1.000000 -0.302188  0.731470   \n",
       "RM      -0.219247  0.311991 -0.391676  0.091251 -0.302188  1.000000 -0.240265   \n",
       "AGE      0.352734 -0.569537  0.644779  0.086518  0.731470 -0.240265  1.000000   \n",
       "DIS     -0.379670  0.664408 -0.708027 -0.099176 -0.769230  0.205246 -0.747881   \n",
       "RAD      0.625505 -0.311948  0.595129 -0.007368  0.611441 -0.209847  0.456022   \n",
       "TAX      0.582764 -0.314563  0.720760 -0.035587  0.668023 -0.292048  0.506456   \n",
       "PTRATIO  0.289946 -0.391679  0.383248 -0.121515  0.188933 -0.355501  0.261515   \n",
       "B       -0.385064  0.175520 -0.356977  0.048788 -0.380051  0.128069 -0.273534   \n",
       "LSTAT    0.455621 -0.412995  0.603800 -0.053929  0.590879 -0.613808  0.602339   \n",
       "PRICE   -0.388305  0.360445 -0.483725  0.175260 -0.427321  0.695360 -0.376955   \n",
       "\n",
       "              DIS       RAD       TAX   PTRATIO         B     LSTAT     PRICE  \n",
       "CRIM    -0.379670  0.625505  0.582764  0.289946 -0.385064  0.455621 -0.388305  \n",
       "ZN       0.664408 -0.311948 -0.314563 -0.391679  0.175520 -0.412995  0.360445  \n",
       "INDUS   -0.708027  0.595129  0.720760  0.383248 -0.356977  0.603800 -0.483725  \n",
       "CHAS    -0.099176 -0.007368 -0.035587 -0.121515  0.048788 -0.053929  0.175260  \n",
       "NOX     -0.769230  0.611441  0.668023  0.188933 -0.380051  0.590879 -0.427321  \n",
       "RM       0.205246 -0.209847 -0.292048 -0.355501  0.128069 -0.613808  0.695360  \n",
       "AGE     -0.747881  0.456022  0.506456  0.261515 -0.273534  0.602339 -0.376955  \n",
       "DIS      1.000000 -0.494588 -0.534432 -0.232471  0.291512 -0.496996  0.249929  \n",
       "RAD     -0.494588  1.000000  0.910228  0.464741 -0.444413  0.488676 -0.381626  \n",
       "TAX     -0.534432  0.910228  1.000000  0.460853 -0.441808  0.543993 -0.468536  \n",
       "PTRATIO -0.232471  0.464741  0.460853  1.000000 -0.177383  0.374044 -0.507787  \n",
       "B        0.291512 -0.444413 -0.441808 -0.177383  1.000000 -0.366087  0.333461  \n",
       "LSTAT   -0.496996  0.488676  0.543993  0.374044 -0.366087  1.000000 -0.737663  \n",
       "PRICE    0.249929 -0.381626 -0.468536 -0.507787  0.333461 -0.737663  1.000000  "
      ]
     },
     "execution_count": 35,
     "metadata": {},
     "output_type": "execute_result"
    }
   ],
   "source": [
    "corr"
   ]
  },
  {
   "cell_type": "code",
   "execution_count": 36,
   "metadata": {
    "deletable": false,
    "editable": false,
    "nbgrader": {
     "grade": true,
     "grade_id": "Question 09",
     "locked": true,
     "points": "20",
     "solution": false
    }
   },
   "outputs": [],
   "source": [
    "###\n",
    "### AUTOGRADER TEST - DO NOT REMOVE\n",
    "###\n"
   ]
  },
  {
   "cell_type": "markdown",
   "metadata": {
    "deletable": false,
    "editable": false,
    "nbgrader": {
     "grade": false,
     "locked": true,
     "solution": false
    }
   },
   "source": [
    "## Random Variables and Statistical Inferences"
   ]
  },
  {
   "cell_type": "markdown",
   "metadata": {
    "deletable": false,
    "editable": false,
    "nbgrader": {
     "grade": false,
     "locked": true,
     "solution": false
    }
   },
   "source": [
    "[Back to top](#Index:) \n",
    "\n",
    "### Question 10\n",
    "*10 points*\n",
    "\n",
    "Imagine that we have a t statistic with 15 degrees of freedom. For the first part of the question get the PDF for a $t$ statistic with 15 degrees of freedom and save it in a variable called `t_dist`. And then then get the CDF for the same distribution and save it in a variable called `t_cdf`. "
   ]
  },
  {
   "cell_type": "code",
   "execution_count": 168,
   "metadata": {},
   "outputs": [],
   "source": [
    "### GRADED\n",
    "\n",
    "# Calculate all below with this values\n",
    "t_values = np.linspace(-4, 4, 1000)\n",
    "\n",
    "### YOUR SOLUTION HERE\n",
    "from scipy.stats import t\n",
    "t_dist = t(15)\n",
    "#t_dist = t.pdf(t_values,15)\n",
    "t_cdf = t.cdf(t_values, df=15)\n",
    "\n",
    "###\n",
    "### YOUR CODE HERE\n",
    "###\n"
   ]
  },
  {
   "cell_type": "code",
   "execution_count": 165,
   "metadata": {},
   "outputs": [
    {
     "data": {
      "text/plain": [
       "<scipy.stats._distn_infrastructure.rv_frozen at 0x7f99acf0d358>"
      ]
     },
     "execution_count": 165,
     "metadata": {},
     "output_type": "execute_result"
    }
   ],
   "source": [
    "t_dist"
   ]
  },
  {
   "cell_type": "code",
   "execution_count": 161,
   "metadata": {
    "deletable": false,
    "editable": false,
    "nbgrader": {
     "grade": true,
     "grade_id": "Question 10",
     "locked": true,
     "points": "10",
     "solution": false
    }
   },
   "outputs": [],
   "source": [
    "###\n",
    "### AUTOGRADER TEST - DO NOT REMOVE\n",
    "###\n"
   ]
  },
  {
   "cell_type": "markdown",
   "metadata": {
    "deletable": false,
    "editable": false,
    "nbgrader": {
     "grade": false,
     "locked": true,
     "solution": false
    }
   },
   "source": [
    "Let's plot our distribution and CDF:"
   ]
  },
  {
   "cell_type": "code",
   "execution_count": 162,
   "metadata": {
    "deletable": false,
    "editable": false,
    "nbgrader": {
     "grade": false,
     "locked": true,
     "solution": false
    }
   },
   "outputs": [
    {
     "ename": "AttributeError",
     "evalue": "'numpy.ndarray' object has no attribute 'pdf'",
     "output_type": "error",
     "traceback": [
      "\u001b[0;31m---------------------------------------------------------------------------\u001b[0m",
      "\u001b[0;31mAttributeError\u001b[0m                            Traceback (most recent call last)",
      "\u001b[0;32m<ipython-input-162-d2219393ed00>\u001b[0m in \u001b[0;36m<module>\u001b[0;34m\u001b[0m\n\u001b[1;32m      3\u001b[0m \u001b[0;32mimport\u001b[0m \u001b[0mmatplotlib\u001b[0m\u001b[0;34m.\u001b[0m\u001b[0mpyplot\u001b[0m \u001b[0;32mas\u001b[0m \u001b[0mplt\u001b[0m\u001b[0;34m\u001b[0m\u001b[0;34m\u001b[0m\u001b[0m\n\u001b[1;32m      4\u001b[0m \u001b[0;31m# Plot the PDF\u001b[0m\u001b[0;34m\u001b[0m\u001b[0;34m\u001b[0m\u001b[0;34m\u001b[0m\u001b[0m\n\u001b[0;32m----> 5\u001b[0;31m \u001b[0mplt\u001b[0m\u001b[0;34m.\u001b[0m\u001b[0mplot\u001b[0m\u001b[0;34m(\u001b[0m\u001b[0mt_values\u001b[0m\u001b[0;34m,\u001b[0m \u001b[0mt_dist\u001b[0m\u001b[0;34m.\u001b[0m\u001b[0mpdf\u001b[0m\u001b[0;34m(\u001b[0m\u001b[0mt_values\u001b[0m\u001b[0;34m)\u001b[0m\u001b[0;34m)\u001b[0m\u001b[0;34m\u001b[0m\u001b[0;34m\u001b[0m\u001b[0m\n\u001b[0m\u001b[1;32m      6\u001b[0m \u001b[0mplt\u001b[0m\u001b[0;34m.\u001b[0m\u001b[0mxlabel\u001b[0m\u001b[0;34m(\u001b[0m\u001b[0;34m't value'\u001b[0m\u001b[0;34m)\u001b[0m\u001b[0;34m\u001b[0m\u001b[0;34m\u001b[0m\u001b[0m\n\u001b[1;32m      7\u001b[0m \u001b[0mplt\u001b[0m\u001b[0;34m.\u001b[0m\u001b[0mylabel\u001b[0m\u001b[0;34m(\u001b[0m\u001b[0;34m'probability for t value'\u001b[0m\u001b[0;34m)\u001b[0m\u001b[0;34m\u001b[0m\u001b[0;34m\u001b[0m\u001b[0m\n",
      "\u001b[0;31mAttributeError\u001b[0m: 'numpy.ndarray' object has no attribute 'pdf'"
     ]
    }
   ],
   "source": [
    "import scipy.stats\n",
    "import numpy as np\n",
    "import matplotlib.pyplot as plt\n",
    "# Plot the PDF\n",
    "plt.plot(t_values, t_dist.pdf(t_values))\n",
    "plt.xlabel('t value')\n",
    "plt.ylabel('probability for t value')\n",
    "plt.title('PDF for t distribution with df=15')\n",
    "plt.show()"
   ]
  },
  {
   "cell_type": "code",
   "execution_count": 40,
   "metadata": {
    "deletable": false,
    "editable": false,
    "nbgrader": {
     "grade": false,
     "locked": true,
     "solution": false
    }
   },
   "outputs": [
    {
     "data": {
      "image/png": "[encoded data removed]",
      "text/plain": [
       "<Figure size 432x288 with 1 Axes>"
      ]
     },
     "metadata": {},
     "output_type": "display_data"
    }
   ],
   "source": [
    "# Plot the CDF\n",
    "plt.plot(t_values, t_cdf)\n",
    "plt.xlabel('t value')\n",
    "plt.ylabel('probability for t value <= t')\n",
    "plt.title('CDF for t distribution with df=15')\n",
    "plt.show()"
   ]
  },
  {
   "cell_type": "markdown",
   "metadata": {
    "deletable": false,
    "editable": false,
    "nbgrader": {
     "grade": false,
     "locked": true,
     "solution": false
    }
   },
   "source": [
    "[Back to top](#Index:) \n",
    "\n",
    "### Question 11\n",
    "*10 points*\n",
    "\n",
    "Create a function that uses a `for` loop to simulate $n$ trials of coin flips and call it `simulate`. \n",
    "\n",
    "- The function `simulate` must use the function `trial()` (define for you below) inside of its definition. The function `trial` represents a simulation of coin tosses. \n",
    "- The function `simulate()` must contain the instruction `random.seed(123)` so your results are reproducible.\n",
    "- The function `simulate` should return the average number of heads across all of the trials depending on the number $n$ chosen by the user. For this, defining an empty list `trials` inside the function `simulate` might be useful.\n",
    "\n",
    "**Hint: The function `simulate` should receive $n$ as an argument.**"
   ]
  },
  {
   "cell_type": "code",
   "execution_count": 41,
   "metadata": {},
   "outputs": [
    {
     "data": {
      "text/plain": [
       "0.61"
      ]
     },
     "execution_count": 41,
     "metadata": {},
     "output_type": "execute_result"
    }
   ],
   "source": [
    "### GRADED\n",
    "\n",
    "import random \n",
    "\n",
    "def trial():\n",
    "\n",
    "    heads = 0\n",
    "    for i in range(100):\n",
    "        if random.random() <= 0.5:\n",
    "            heads +=1\n",
    "        return heads\n",
    "\n",
    "\n",
    "### YOUR SOLUTION HERE\n",
    "def simulate(n):\n",
    "    random.seed(123)\n",
    "    trials = []\n",
    "    for i in range(n):\n",
    "        trials.append(trial())\n",
    "    return sum(trials)/n\n",
    "\n",
    "simulate(100)\n",
    "\n",
    "###\n",
    "### YOUR CODE HERE\n",
    "###\n"
   ]
  },
  {
   "cell_type": "code",
   "execution_count": 42,
   "metadata": {
    "deletable": false,
    "editable": false,
    "nbgrader": {
     "grade": false,
     "locked": true,
     "solution": false
    }
   },
   "outputs": [
    {
     "name": "stdout",
     "output_type": "stream",
     "text": [
      "1.0\n",
      "0.8\n",
      "0.7\n",
      "0.61\n",
      "0.524\n",
      "0.49993\n"
     ]
    }
   ],
   "source": [
    "# Let's use now our function to simulate different experiments\n",
    "print(simulate(1))\n",
    "print(simulate(5))\n",
    "print(simulate(10))\n",
    "print(simulate(100))\n",
    "print(simulate(1000))\n",
    "print(simulate(100000))"
   ]
  },
  {
   "cell_type": "code",
   "execution_count": 43,
   "metadata": {
    "deletable": false,
    "editable": false,
    "nbgrader": {
     "grade": true,
     "grade_id": "Question 11",
     "locked": true,
     "points": "10",
     "solution": false
    }
   },
   "outputs": [],
   "source": [
    "###\n",
    "### AUTOGRADER TEST - DO NOT REMOVE\n",
    "###\n"
   ]
  },
  {
   "cell_type": "markdown",
   "metadata": {
    "deletable": false,
    "editable": false,
    "nbgrader": {
     "grade": false,
     "locked": true,
     "solution": false
    }
   },
   "source": [
    "[Back to top](#Index:) \n",
    "\n",
    "### Question 12\n",
    "*5 points*\n",
    "\n",
    "We know that for a fair coin the number of heads and tails in $n$ trials should be something like 50% and 50%.\n",
    "\n",
    "From the above function, would you say that for a bigger $n$ value we are further or closer from that theoretical value?\n",
    "\n",
    "Answer above with the words \"further\" or \"closer\" and assign that String to the variable `ans1`."
   ]
  },
  {
   "cell_type": "code",
   "execution_count": 44,
   "metadata": {},
   "outputs": [],
   "source": [
    "### GRADED\n",
    "\n",
    "### YOUR SOLUTION HERE\n",
    "ans1 = \"closer\"\n",
    "\n",
    "###\n",
    "### YOUR CODE HERE\n",
    "###\n"
   ]
  },
  {
   "cell_type": "code",
   "execution_count": 45,
   "metadata": {
    "deletable": false,
    "editable": false,
    "nbgrader": {
     "grade": true,
     "grade_id": "Question 12",
     "locked": true,
     "points": "5",
     "solution": false
    }
   },
   "outputs": [],
   "source": [
    "###\n",
    "### AUTOGRADER TEST - DO NOT REMOVE\n",
    "###\n"
   ]
  },
  {
   "cell_type": "markdown",
   "metadata": {
    "deletable": false,
    "editable": false,
    "nbgrader": {
     "grade": false,
     "locked": true,
     "solution": false
    }
   },
   "source": [
    "## Statistical Distributions and Hypothesis Testing"
   ]
  },
  {
   "cell_type": "markdown",
   "metadata": {
    "deletable": false,
    "editable": false,
    "nbgrader": {
     "grade": false,
     "locked": true,
     "solution": false
    }
   },
   "source": [
    "[Back to top](#Index:) \n",
    "\n",
    "### Question 13\n",
    "*20 points*\n",
    "\n",
    "This question is about the Binomial distribution. Remember that the binomial distribution is the distribution found from repeating a Bernoulli trial with a $p$ chance of success  $n$ times. Let's setup an experiment. You are a data scientist and you are asked to improve the ROI (Return on Investment) of a company’s call center, where employees attempt to cold call potential customers and get them to purchase our product.\n",
    "\n",
    "You look at some historical data and find the following:\n",
    "\n",
    "- The typical call center employee completes on average 50 calls per day.\n",
    "- The probability of a conversion (purchase) for each call is 4%.\n",
    "- The average revenue to your company for each conversion is \\$20.\n",
    "- The call center you are analyzing has 100 employees.\n",
    "- Each employee is paid $200 per day of work.\n",
    "\n",
    "We can think of each employee as a binomially distributed random variable with the following parameters:\n",
    "\n",
    "- $n $= 50\n",
    "- $p$ = 4%\n",
    "\n",
    "Simulate the call center with the given data below and calculate the following (the name of the variable storing your solution is between parenthesis):\n",
    "\n",
    "- Average Conversions per Employee (`avg_conv_emp`) (Mean of conversions)\n",
    "- Standard Deviation of Conversions per Employee (`std_conv_emp`) (Standard deviation of conversions)\n",
    "- Total Conversions (`tot_conv`) (The sum of all conversions)\n",
    "- Total Revenues (`tot_revenue`) (The sum of all the conversions times the revenue per conversion)\n",
    "- Total Expenses (`tot_expenses`) (The number of employees times their wage)\n",
    "- Total Profits (`total_profit`) (This is the total revenue minus the total expenses)\n",
    "\n",
    "**Don't change the seed.**\n",
    "\n",
    "**Hint: The conversions should be calculated with the binomial distribution. You can use `np.random.binomial()` for this. Remember using the size as the number of employees.**"
   ]
  },
  {
   "cell_type": "code",
   "execution_count": 46,
   "metadata": {},
   "outputs": [],
   "source": [
    "### GRADED \n",
    "\n",
    "# Number of employees to simulate\n",
    "employees = 100\n",
    "# Cost per employee\n",
    "wage = 200\n",
    "# Number of independent calls per employee\n",
    "n = 50\n",
    "# Probability of success for each call\n",
    "p = 0.04\n",
    "# Revenue per call\n",
    "revenue = 100\n",
    "\n",
    "### YOUR SOLUTION HERE\n",
    "\n",
    "# Calculate the conversions with the binomial distriburion\n",
    "np.random.seed(123)\n",
    "conversions = np.random.binomial(n, p, size=employees)\n",
    "\n",
    "\n",
    "# Calculate all of the following using the data from above\n",
    "avg_conv_emp = conversions.mean()\n",
    "std_conv_emp = conversions.std()\n",
    "tot_conv = conversions.sum()\n",
    "tot_revenue = conversions.sum() * revenue\n",
    "tot_expenses = employees * wage\n",
    "total_profit = tot_revenue - tot_expenses\n",
    "\n",
    "###\n",
    "### YOUR CODE HERE\n",
    "###\n"
   ]
  },
  {
   "cell_type": "code",
   "execution_count": 47,
   "metadata": {},
   "outputs": [
    {
     "name": "stdout",
     "output_type": "stream",
     "text": [
      "1.95\n",
      "1.1779218989389746\n",
      "195\n",
      "19500\n",
      "20000\n",
      "-500\n"
     ]
    }
   ],
   "source": [
    "#print(conversions)\n",
    "print(avg_conv_emp)\n",
    "print(std_conv_emp)\n",
    "print(tot_conv)\n",
    "print(tot_revenue)\n",
    "print(tot_expenses)\n",
    "print(total_profit)\n"
   ]
  },
  {
   "cell_type": "code",
   "execution_count": 48,
   "metadata": {},
   "outputs": [],
   "source": [
    "mu, sigma = 0, 0.1 # mean and standard deviation\n",
    "s = np.random.normal(mu, sigma, 1000)"
   ]
  },
  {
   "cell_type": "code",
   "execution_count": 49,
   "metadata": {},
   "outputs": [
    {
     "data": {
      "text/plain": [
       "array([ 2.08711336e-01,  1.64441230e-02,  1.15020554e-01, -1.26735205e-01,\n",
       "        1.81035130e-02,  1.17786194e-01, -3.35010762e-02,  1.03111446e-01,\n",
       "       -1.08456791e-01, -1.36347154e-01,  3.79400612e-02, -3.79176435e-02,\n",
       "        6.42054689e-02, -1.97788793e-01,  7.12264635e-02,  2.59830393e-01,\n",
       "       -2.46259814e-03,  3.41421289e-03,  1.79549485e-02, -1.86197571e-01,\n",
       "        4.26146640e-02, -1.60540974e-01, -4.27679598e-02,  1.24286955e-01,\n",
       "       -7.35216956e-02,  5.01248990e-02,  1.01273905e-01,  2.78740856e-02,\n",
       "       -1.37094847e-01, -3.32475275e-02,  1.95941134e-01, -2.02504576e-01,\n",
       "       -2.75786014e-02, -5.52108071e-02,  1.20747363e-02,  7.48215617e-02,\n",
       "        1.60869097e-01, -2.70232392e-02,  8.12341330e-02,  4.99740145e-02,\n",
       "        4.74347298e-02, -5.63923932e-02, -9.97321469e-02, -1.10004311e-01,\n",
       "       -7.56437209e-02,  3.21686576e-02,  7.60949393e-02,  3.23468848e-02,\n",
       "       -5.48955096e-02,  1.80597011e-01,  1.51886562e-01, -3.54000113e-02,\n",
       "       -8.23431406e-02,  1.30214954e-02,  1.26729865e-01,  3.32764977e-02,\n",
       "        5.56548705e-02, -2.12080122e-02,  4.56270895e-02,  1.54454445e-01,\n",
       "       -2.39668781e-02,  1.43307733e-02,  2.53816477e-02,  2.83725356e-02,\n",
       "       -1.41188888e-01, -1.87686866e-01, -1.01965507e-01,  1.67942295e-02,\n",
       "        5.53856166e-02, -5.30674560e-02,  1.37725748e-01, -1.43175974e-02,\n",
       "        2.03159982e-03, -1.93963871e-02,  1.34026793e-02,  7.04474074e-02,\n",
       "        6.65653438e-02, -8.98422941e-02,  1.52366378e-01, -1.09502646e-01,\n",
       "        7.92270141e-03, -2.74396574e-02, -1.04899168e-01, -7.51205880e-03,\n",
       "       -7.40813773e-02,  7.29072433e-03,  4.03085961e-02,  1.47192937e-01,\n",
       "        3.07384219e-02, -6.11225340e-02, -3.91619811e-02,  1.39978106e-02,\n",
       "        9.34608295e-03,  1.45958927e-01,  1.39535293e-01, -3.58935926e-02,\n",
       "       -5.48642128e-02, -2.55705460e-01, -5.48920413e-02, -9.78057706e-02,\n",
       "       -3.54824458e-02,  3.91584242e-02,  1.77192329e-02, -2.99680070e-03,\n",
       "        1.99582111e-02, -1.26117773e-02,  1.97018933e-02, -3.23105501e-01,\n",
       "       -2.69293490e-02, -1.10850721e-02, -3.41261716e-02, -2.17946262e-02,\n",
       "        7.03310118e-02, -5.98105331e-02,  2.20070210e-01,  6.88296930e-02,\n",
       "       -6.30725091e-04, -2.06662303e-02, -8.65222864e-03, -9.15307070e-02,\n",
       "       -9.52025393e-03,  2.78683517e-02,  5.79541616e-02,  5.79689779e-02,\n",
       "       -2.74877547e-02, -1.41608225e-01, -6.69102626e-02,  1.61219304e-01,\n",
       "        8.96058313e-02,  3.69619586e-02, -7.61294245e-02,  3.64515497e-04,\n",
       "       -1.25566869e-01, -5.51936876e-02, -2.45203342e-02, -3.61639932e-02,\n",
       "        9.56601931e-02, -1.41872591e-01, -8.65432272e-02, -1.37468797e-01,\n",
       "       -1.23735321e-01,  1.24055896e-02, -1.60044053e-01,  7.53868779e-02,\n",
       "       -2.46815777e-02,  6.87883325e-03,  3.22576738e-02, -4.34166520e-02,\n",
       "        1.03247972e-01, -1.94342727e-02,  5.94070255e-02, -1.99112383e-02,\n",
       "        2.90874387e-02,  2.79662670e-02,  2.49969939e-02, -9.74307850e-02,\n",
       "        4.35875771e-02, -3.18956989e-02,  6.30488030e-02, -2.15249344e-01,\n",
       "       -1.46511622e-01,  3.63445562e-02,  1.86292759e-01,  8.35058747e-02,\n",
       "       -6.82450934e-02, -1.69205242e-01,  7.42686221e-02, -8.05832220e-03,\n",
       "        5.90704218e-02,  1.15298722e-02,  2.96429251e-03,  2.95862545e-01,\n",
       "       -6.12996105e-04, -1.59245209e-02, -1.21448675e-02, -5.83536717e-02,\n",
       "        9.90132895e-02, -3.53754334e-02,  6.35942706e-02,  2.84603030e-02,\n",
       "        1.21898586e-01,  4.20179597e-02, -1.21338478e-01, -1.32648779e-01,\n",
       "        1.40836915e-01, -6.08710803e-02, -1.32060258e-01, -6.69618600e-02,\n",
       "        1.26462529e-01, -1.42021300e-01, -8.66495204e-02, -6.66807509e-02,\n",
       "       -1.25118987e-01, -1.18432734e-01, -1.51810798e-01, -4.61187413e-02,\n",
       "       -3.54908832e-02, -6.82538154e-02, -1.65369784e-01,  1.25333595e-01,\n",
       "       -1.32907883e-01,  2.78033712e-02, -1.07476659e-01,  6.68316867e-02,\n",
       "        9.55832355e-02, -8.77613587e-02, -1.92371573e-01,  6.95787319e-02,\n",
       "        1.87580055e-01,  4.15694540e-02,  1.60544421e-02,  8.19760610e-02,\n",
       "        7.65054846e-02, -8.28988834e-02, -6.59151311e-02,  6.11123550e-02,\n",
       "       -1.44013347e-02,  1.31660560e-01, -7.04342147e-02,  7.50609917e-02,\n",
       "        3.42637981e-02, -1.26437564e-02,  1.17591077e-01,  6.80071533e-02,\n",
       "       -1.00496715e-01,  6.40218680e-02,  1.37499063e-01, -1.30444689e-02,\n",
       "       -2.48655850e-02, -6.69647148e-02, -1.36038857e-03,  6.86200686e-02,\n",
       "       -8.17668300e-02, -1.34635756e-01, -3.75749911e-02, -1.37972498e-01,\n",
       "        5.23218441e-02, -4.26689770e-02, -1.75540184e-01, -3.48607515e-02,\n",
       "       -1.92614986e-02,  4.49135613e-02, -1.45363543e-02,  1.86872646e-01,\n",
       "       -5.18703852e-02, -6.23985486e-03, -1.02910614e-02, -2.82628384e-02,\n",
       "        1.42425585e-02,  5.41231297e-02,  1.34009870e-01, -1.56925613e-01,\n",
       "       -5.10342874e-02, -4.47771425e-02,  9.37850297e-02, -3.56663061e-02,\n",
       "       -1.89517559e-01,  8.77304639e-03, -3.36892315e-03,  1.79751566e-02,\n",
       "       -1.04016288e-01,  1.71903468e-01, -3.23859784e-02, -1.88296858e-02,\n",
       "       -9.00008570e-02, -9.31002004e-02, -1.22273696e-01, -3.93310852e-02,\n",
       "       -9.57581839e-02,  2.05646734e-01, -1.88849238e-01, -1.12833055e-01,\n",
       "       -4.01414428e-02,  6.73491278e-02, -4.13756881e-02,  6.75963393e-02,\n",
       "       -9.86803889e-02,  5.92911339e-03,  1.74404109e-01, -9.67744396e-02,\n",
       "        4.19567676e-02,  2.06927519e-02, -2.25153499e-01, -5.88970546e-02,\n",
       "        1.13115191e-01,  1.35077672e-02, -1.21226896e-01,  6.90777273e-02,\n",
       "       -4.79122945e-02,  3.60050728e-02,  3.76920114e-02, -1.11869560e-01,\n",
       "        7.89828035e-02, -1.00750880e-01, -1.30578587e-01, -8.82828988e-02,\n",
       "       -3.46090034e-02,  1.09403156e-02, -7.72583732e-02,  7.44819312e-02,\n",
       "        2.51464184e-02, -6.94798215e-02,  8.88992918e-02,  1.16106836e-01,\n",
       "       -9.86846968e-03, -2.14983045e-02, -1.77377135e-01, -4.07512592e-02,\n",
       "       -2.91506713e-02,  2.45379407e-02, -1.68426432e-02,  2.44026938e-02,\n",
       "        1.53409029e-01, -5.29914099e-02, -4.90972283e-02, -1.30916531e-01,\n",
       "       -8.66046674e-04,  9.76812982e-02, -1.75107035e-01, -6.65856967e-02,\n",
       "        3.59405025e-03,  8.50102884e-02,  3.82870239e-02,  3.25463628e-02,\n",
       "       -2.24312786e-02,  4.81874257e-02,  1.01430388e-01, -1.70899178e-01,\n",
       "        7.28535401e-02, -9.87598059e-03, -5.29988864e-02, -2.44307579e-01,\n",
       "       -1.38035132e-01,  1.69805899e-01, -6.88548532e-02, -1.08476877e-01,\n",
       "       -4.56425956e-02, -7.45147222e-02,  1.24358633e-02,  1.51697368e-01,\n",
       "       -5.86615951e-02,  1.54290051e-02, -1.14723714e-01,  1.52016644e-01,\n",
       "        1.89043442e-02, -1.08181912e-01,  9.04306220e-02,  1.19998765e-01,\n",
       "        1.61456363e-02, -1.63939697e-01,  1.78516881e-01,  3.10122521e-02,\n",
       "        1.17045430e-01, -5.50893205e-02, -3.98623925e-02,  1.10453109e-02,\n",
       "        1.11340168e-01,  1.42990028e-02, -1.25683381e-01,  2.61989197e-02,\n",
       "        1.62953419e-01,  6.58062825e-03,  1.29385524e-02, -1.26254374e-01,\n",
       "       -1.40298909e-01, -6.37692139e-02, -3.26517647e-02,  1.04060735e-02,\n",
       "        1.65956974e-02,  1.60190765e-01,  5.86874384e-03,  1.06442269e-01,\n",
       "       -3.93293346e-03,  1.44890361e-01, -1.87039748e-01, -5.98731767e-02,\n",
       "        9.83033396e-02, -1.71596005e-02,  9.31529613e-02,  3.85066103e-02,\n",
       "        9.45876984e-02,  6.13067728e-02,  6.73648934e-02,  1.49245539e-01,\n",
       "        9.86474019e-02,  9.93806707e-02,  2.04187588e-03, -5.81850210e-02,\n",
       "       -6.59560088e-02,  7.50944597e-02, -2.43846056e-01, -1.30717819e-01,\n",
       "       -9.63253686e-02, -2.47621379e-02, -2.63143804e-01,  1.25872130e-01,\n",
       "        6.00175236e-02,  1.98458240e-01,  1.06221447e-01,  1.03037933e-01,\n",
       "        2.25067603e-01, -5.70958087e-02, -1.50345840e-01, -2.32357396e-02,\n",
       "       -8.24992054e-02, -2.56845361e-02, -1.05021899e-01,  5.67880067e-02,\n",
       "        5.12982850e-02, -2.69225906e-03,  3.11581503e-02, -1.42050727e-02,\n",
       "        7.52033668e-02,  6.96407495e-03, -2.65445625e-02,  9.29584470e-02,\n",
       "        1.26082127e-01,  1.33745383e-01, -9.90274689e-02, -5.34447208e-02,\n",
       "       -1.70149609e-01, -2.38565018e-02,  4.16123814e-02, -1.32801175e-02,\n",
       "        1.93085087e-01, -4.05843375e-02, -1.08850856e-01,  5.68504207e-02,\n",
       "        1.49933828e-02,  5.49642596e-02,  3.03787931e-02,  2.43765761e-02,\n",
       "       -2.12229888e-01, -7.26114028e-02, -5.90324918e-02, -3.47964338e-02,\n",
       "       -4.48391638e-02,  4.12818762e-02,  6.00882509e-02, -1.13164093e-01,\n",
       "        6.86804407e-02,  5.85768139e-02,  4.65770066e-02, -1.41789449e-01,\n",
       "        4.40582300e-02,  8.25954195e-03,  9.60880075e-02,  1.78435680e-01,\n",
       "        1.58806789e-01,  1.12644172e-02, -1.87469173e-04,  6.31948284e-02,\n",
       "       -1.11503995e-01, -1.45068314e-01, -4.72530592e-02,  1.22056891e-01,\n",
       "       -3.31128298e-02,  1.50258091e-01, -2.78811288e-01, -1.58720643e-01,\n",
       "       -1.23688733e-02,  8.88194541e-02, -6.96230987e-03, -9.56527445e-03,\n",
       "       -1.21741495e-02, -1.76289773e-01,  1.15806887e-01, -6.82764720e-02,\n",
       "        1.08953266e-01, -7.05234180e-03,  1.06816039e-01,  3.43257981e-02,\n",
       "       -1.06674491e-02,  2.26261647e-02, -1.47297761e-01,  6.02932717e-04,\n",
       "        1.71604032e-01,  1.30819356e-01, -9.85023583e-02,  5.05685851e-02,\n",
       "        2.47979885e-02,  8.17188280e-02,  9.41528855e-03, -2.33503993e-02,\n",
       "        1.33063078e-01,  2.16396568e-02,  1.25546432e-01,  9.74386203e-02,\n",
       "       -3.24487242e-02, -1.67000274e-02,  1.92983243e-01,  1.91482325e-02,\n",
       "       -7.58628423e-02, -1.20004328e-01,  9.74132435e-02,  1.60293721e-02,\n",
       "       -7.92091951e-02,  6.74584831e-02,  1.59748695e-02, -1.66047507e-01,\n",
       "        5.88685555e-02,  1.33319070e-01,  2.55985023e-01,  3.49025641e-03,\n",
       "        2.32649658e-02,  1.60659681e-01,  1.68722267e-02,  2.75341863e-02,\n",
       "       -6.30618391e-02, -1.39437511e-01,  9.12687936e-02, -1.27357024e-01,\n",
       "        1.14065624e-01, -7.88165559e-02,  2.65233958e-02, -3.72271731e-02,\n",
       "        1.17460024e-01,  3.00846402e-02,  1.95909535e-01, -1.08367768e-01,\n",
       "        4.13863082e-02,  4.73418809e-03,  2.79943571e-02,  1.59592117e-01,\n",
       "        5.85318030e-02, -1.14752541e-01,  5.33510818e-02, -4.15619376e-02,\n",
       "       -4.73354970e-02,  1.04585733e-01, -6.02339983e-02, -3.79730328e-02,\n",
       "        3.24072544e-03,  9.46185897e-02,  5.81589803e-02, -2.34414912e-02,\n",
       "       -2.72176466e-02, -1.16012966e-01, -7.59835089e-02, -6.54381086e-02,\n",
       "       -1.49290942e-02,  1.98676304e-01, -6.75469434e-02, -2.95829068e-02,\n",
       "       -2.05239840e-01,  6.00571094e-02, -1.57744879e-01, -9.06589522e-02,\n",
       "        1.04233537e-01, -2.10492843e-01,  9.59204124e-03,  8.00929647e-02,\n",
       "        1.52544424e-01, -9.20093108e-02, -6.24024850e-02,  1.80443632e-01,\n",
       "       -2.50601446e-03, -7.36263934e-02, -7.17485837e-02, -9.72556324e-02,\n",
       "       -4.39672205e-02,  1.08822048e-01,  8.87766069e-02, -1.17427030e-01,\n",
       "        2.14586075e-02, -4.02159735e-02,  7.82440404e-02, -1.56359727e-02,\n",
       "        3.71524682e-02, -1.58605207e-02, -2.18708593e-01,  4.70024454e-03,\n",
       "       -1.27174695e-01,  7.47128412e-02, -6.79827892e-02, -6.05012656e-02,\n",
       "       -8.90282501e-04,  5.77793954e-02, -1.69743818e-02,  1.64218277e-01,\n",
       "        1.64881786e-01,  1.71546859e-01, -2.34318725e-02, -1.48195846e-01,\n",
       "        1.22007851e-01, -4.16345285e-02,  3.81663120e-03,  6.28320103e-02,\n",
       "       -1.60443640e-01,  1.62912121e-01,  8.74962329e-02,  3.52271582e-02,\n",
       "        8.90916750e-02,  5.56952539e-02,  1.16828116e-02, -3.07774322e-02,\n",
       "       -7.39142274e-02,  2.87214281e-02,  3.61203060e-02,  1.08319880e-01,\n",
       "        2.00660009e-02, -8.53201516e-02, -1.57623285e-01, -1.27562162e-02,\n",
       "       -2.74583767e-03, -9.80915828e-03, -1.53051290e-01,  1.07446514e-01,\n",
       "        1.07262975e-01, -8.23285165e-02,  8.05982112e-02,  9.52830862e-02,\n",
       "        3.84470766e-03, -9.48498626e-02,  1.61338154e-01,  3.80921434e-02,\n",
       "       -2.51037455e-02,  7.72845396e-02,  1.62220849e-01, -4.97160147e-02,\n",
       "        6.91422545e-02,  1.94316017e-01, -1.11656483e-01, -5.49253589e-02,\n",
       "       -5.97855081e-02, -1.58327137e-02, -2.09973736e-02,  3.00795439e-02,\n",
       "       -8.20375520e-02, -6.22663489e-02,  3.01290484e-02,  1.54911860e-02,\n",
       "        8.74079809e-02,  4.09355025e-02,  7.71846636e-02, -1.14295204e-01,\n",
       "       -3.83416311e-02,  1.84837995e-01,  3.92078047e-02,  7.47392962e-02,\n",
       "        2.72734737e-02,  4.25335857e-02, -2.30904052e-02,  3.57157922e-01,\n",
       "       -3.96155922e-02, -3.83212177e-03, -2.42483633e-01,  1.10626666e-01,\n",
       "       -5.52252950e-02, -6.07941060e-03, -5.28040551e-02, -1.38682945e-02,\n",
       "       -2.84247098e-02, -4.30417758e-03, -5.28014827e-03, -1.54205311e-02,\n",
       "       -1.67877227e-02,  1.30851845e-01,  8.81416920e-02,  8.87442318e-02,\n",
       "       -7.32448881e-02,  1.25682083e-01,  1.13164451e-01, -5.53404329e-02,\n",
       "        1.52385202e-01, -6.83225943e-02, -1.84203184e-01,  1.10152599e-01,\n",
       "       -1.19518780e-02,  9.76921565e-02, -7.54202163e-02, -1.26177001e-01,\n",
       "        1.23187179e-01, -1.40726856e-01, -1.56103051e-01, -1.92558689e-01,\n",
       "       -2.79447230e-01, -1.03910438e-01, -2.16940796e-01, -3.56054846e-03,\n",
       "       -2.23641735e-01, -1.09427342e-01,  2.33206200e-01,  3.45124241e-02,\n",
       "        5.28056754e-03, -1.62075198e-01, -2.45597666e-02,  4.81085631e-03,\n",
       "       -1.60518080e-01,  1.26180681e-02,  1.19123246e-01, -3.48258119e-02,\n",
       "       -1.97236368e-02, -2.04209642e-01, -1.39923387e-01,  1.05769510e-01,\n",
       "       -6.61550647e-02, -9.29711634e-02, -6.92583116e-02, -5.74661270e-03,\n",
       "       -1.15841591e-01,  1.26516506e-02, -1.36000768e-01,  7.74000002e-02,\n",
       "       -1.05705578e-01,  1.32026832e-01, -1.00326528e-03, -8.45644428e-02,\n",
       "        9.11460610e-02, -1.37449688e-01, -5.47065645e-02, -7.55266106e-06,\n",
       "       -1.21166803e-02, -2.00858547e-01, -9.20646543e-02,  1.68234342e-02,\n",
       "       -1.31989156e-01,  1.26642930e-01,  4.95180889e-02, -5.14240391e-02,\n",
       "       -2.20292465e-02,  1.86156412e-01,  9.35988451e-02,  3.80219145e-02,\n",
       "       -1.41551877e-01,  1.62961132e-01,  1.05240107e-01, -1.48405388e-02,\n",
       "       -5.49698069e-02, -1.87903939e-02, -1.20193668e-01, -4.70785558e-02,\n",
       "        7.63160514e-02, -1.80762128e-01, -3.14074374e-02,  1.13755973e-02,\n",
       "        1.03568037e-02, -1.17893695e-01, -1.18215289e-01,  1.08916538e-01,\n",
       "       -1.22452909e-01,  1.00865096e-01, -4.82365315e-02,  1.07979635e-01,\n",
       "       -4.21078505e-02, -1.16647132e-01,  8.56554856e-02, -1.73912222e-03,\n",
       "        1.44857659e-01,  8.92200085e-02, -2.29426629e-02, -4.49667602e-02,\n",
       "        2.33723433e-03,  1.90210018e-02, -8.81748527e-02,  8.41939573e-02,\n",
       "       -3.97363492e-02, -4.23027745e-02, -5.40688337e-02,  2.31017267e-02,\n",
       "       -6.92052602e-02,  1.34970110e-02,  2.76660307e-01, -5.36094601e-03,\n",
       "       -4.34004738e-02, -1.66768923e-01,  5.02219248e-03, -1.10923094e-01,\n",
       "       -3.75558119e-02,  1.51607594e-02, -1.73098945e-01,  1.57462752e-02,\n",
       "        3.04515175e-02, -1.29710002e-01, -3.92309192e-02, -1.83066636e-01,\n",
       "        1.57550094e-01,  3.30563277e-02, -1.79588501e-02, -1.63435831e-02,\n",
       "        1.13144361e-01, -9.41655519e-03,  3.30816771e-02,  1.51862956e-01,\n",
       "       -3.46167148e-02, -1.09263532e-01, -8.24500575e-02,  1.42866383e-01,\n",
       "        9.14283085e-03, -5.02331288e-02,  9.73644380e-02,  9.97957386e-02,\n",
       "       -4.75647768e-02, -9.71936837e-02, -1.57052860e-01, -1.79388892e-01,\n",
       "       -2.64986452e-02, -8.93195947e-02,  1.85847441e-01,  5.85377547e-03,\n",
       "       -1.94214954e-01,  1.41872928e-01,  1.61710309e-02,  7.04979480e-02,\n",
       "        6.82034777e-02,  2.96556567e-02,  5.23342630e-02,  2.38760672e-02,\n",
       "       -1.10638591e-01,  3.66732198e-02,  1.02390550e-01, -2.10056413e-02,\n",
       "        5.51302218e-02,  4.19589145e-02,  1.81565206e-01, -2.52750301e-02,\n",
       "       -2.92004163e-02, -1.16931740e-02, -1.02391075e-02, -2.27261771e-01,\n",
       "       -6.42609841e-02,  2.99885067e-02, -8.25651467e-04, -7.99339154e-02,\n",
       "       -6.64779252e-02, -3.55613128e-02, -8.01571781e-02, -5.13050610e-02,\n",
       "       -5.39390119e-02,  8.95370847e-02,  1.01639127e-01,  9.33585094e-02,\n",
       "        4.26701799e-02, -7.08322484e-02,  9.59830450e-02, -3.14250587e-02,\n",
       "        2.30522083e-03,  1.33822053e-01,  8.39928561e-03,  2.47284030e-02,\n",
       "       -1.41277949e-01,  4.87009294e-02, -9.80006647e-02,  1.01193966e-01,\n",
       "       -1.84599177e-02, -2.23616884e-01, -3.58020103e-02, -2.28034538e-02,\n",
       "        4.85475226e-02,  6.70512391e-02, -3.27764245e-02,  1.01286819e-01,\n",
       "       -3.16705533e-01, -7.13988998e-02, -1.11236427e-01, -1.25418351e-01,\n",
       "        9.59706371e-02,  8.29170399e-02, -7.75770020e-02,  1.17805700e-01,\n",
       "        1.01466892e-02, -4.21684101e-02, -6.92922796e-02, -7.78271726e-02,\n",
       "        4.72774857e-02,  6.50154901e-02,  2.38501212e-02, -2.05021768e-01,\n",
       "        2.96358656e-02,  5.65396564e-02, -6.69205605e-02,  4.32505429e-03,\n",
       "       -1.86388430e-01, -1.22996906e-01, -3.24235348e-02, -3.09751144e-02,\n",
       "        3.51679372e-02, -1.18692539e-01, -3.41206065e-02, -4.89779780e-02,\n",
       "        5.28010474e-02,  1.42104277e-01,  1.72092032e-01, -1.56844005e-01,\n",
       "       -4.80141918e-03, -1.11252931e-01, -6.47449515e-03,  4.22919280e-02,\n",
       "        8.14908987e-03, -4.90116988e-03,  1.48303917e-01,  7.20989392e-02,\n",
       "       -2.72654462e-02,  2.42113609e-03,  8.70897807e-02,  6.09790506e-02,\n",
       "       -4.25076104e-02, -1.77524284e-01, -1.18465749e-01,  1.45979225e-02,\n",
       "       -1.78652685e-01, -1.52394498e-02, -4.53569176e-02,  9.99252803e-02,\n",
       "       -1.31804382e-01, -1.93176898e-01, -4.19640742e-02,  6.34763132e-02,\n",
       "        1.06991860e-01, -9.09327017e-02,  4.70263748e-02, -1.11143045e-01,\n",
       "       -7.48827466e-02,  5.67594726e-02,  7.18150543e-02, -9.99380749e-02,\n",
       "        4.74898323e-02, -1.86849981e-01, -2.02658907e-02, -1.13424803e-01,\n",
       "       -8.07699340e-02, -1.27607735e-01,  5.53626395e-02,  5.53874470e-02,\n",
       "       -6.91200445e-02,  3.75582306e-02,  2.61272553e-02, -1.28451754e-02,\n",
       "        2.15817020e-01, -8.40878617e-02,  1.43050907e-03, -3.82387029e-02,\n",
       "       -3.71780015e-02,  1.59412004e-02, -2.94395700e-02, -8.60426760e-02,\n",
       "        1.24227498e-02,  1.18233165e-01,  9.42766380e-02,  2.03044488e-02,\n",
       "       -7.35396814e-02,  1.86429600e-02,  1.08464302e-01,  1.19118926e-01,\n",
       "        3.59687060e-02, -3.64357200e-02, -2.02752749e-02,  7.72045927e-02,\n",
       "        6.86346215e-02, -1.75769961e-01,  6.58617565e-02,  7.11288340e-02,\n",
       "       -8.87191425e-02, -7.64981116e-02, -7.57164098e-02, -6.80262803e-02,\n",
       "       -1.41674959e-01,  3.13091930e-02, -7.85719399e-02, -7.03838361e-03,\n",
       "       -4.97568783e-02,  2.55177521e-02, -1.01061704e-01,  2.45265375e-02,\n",
       "        3.89781016e-02,  8.27594585e-02,  1.96776909e-01, -2.09210177e-01,\n",
       "        3.20314334e-02, -7.09162842e-02, -1.92505867e-01,  8.41630623e-02,\n",
       "        1.33219988e-01, -3.91627710e-02,  2.10916296e-02, -6.40767402e-03,\n",
       "        4.34197668e-02,  8.80535749e-02,  3.44937336e-02,  3.45769929e-02,\n",
       "        1.25973654e-01, -1.64662222e-02,  9.23064571e-02, -8.22000422e-02,\n",
       "        1.60708495e-01,  7.37825392e-02, -4.03759534e-02, -2.11454815e-01,\n",
       "       -3.10717131e-05, -1.18180941e-01,  2.99634603e-02,  1.45116882e-01,\n",
       "        1.60059793e-02, -1.78012614e-02,  3.42205404e-02,  2.85650196e-02,\n",
       "       -2.36286411e-01,  2.40936864e-02,  6.20277356e-02, -2.59341634e-02])"
      ]
     },
     "execution_count": 49,
     "metadata": {},
     "output_type": "execute_result"
    }
   ],
   "source": [
    "s"
   ]
  },
  {
   "cell_type": "code",
   "execution_count": 50,
   "metadata": {
    "deletable": false,
    "editable": false,
    "nbgrader": {
     "grade": true,
     "grade_id": "Question 13",
     "locked": true,
     "points": "20",
     "solution": false
    }
   },
   "outputs": [],
   "source": [
    "###\n",
    "### AUTOGRADER TEST - DO NOT REMOVE\n",
    "###\n"
   ]
  },
  {
   "cell_type": "markdown",
   "metadata": {
    "deletable": false,
    "editable": false,
    "nbgrader": {
     "grade": false,
     "locked": true,
     "solution": false
    }
   },
   "source": [
    "[Back to top](#Index:) \n",
    "\n",
    "### Question 14\n",
    "*10 points*\n",
    "\n",
    "This question is about the T-test. Generate two random sets (using the `numpy.random` module) of data called data_1 and data_2 with 1000 data points from N(5, 100) and N(5, 101), respectively. Compute the calculated t-statistic and two-tailed p-value and assign them to `t_stat` and `p_val`, respectively. "
   ]
  },
  {
   "cell_type": "code",
   "execution_count": 60,
   "metadata": {},
   "outputs": [
    {
     "name": "stdout",
     "output_type": "stream",
     "text": [
      "-5.689937309043103\n",
      "1.4584627135941141e-08\n"
     ]
    }
   ],
   "source": [
    "### GRADED \n",
    "\n",
    "from numpy.random import seed\n",
    "from numpy.random import randn\n",
    "from scipy.stats import ttest_ind\n",
    "\n",
    "\n",
    "seed(42)\n",
    "\n",
    "### YOUR SOLUTION HERE\n",
    "mu1, mu2 = 100,101\n",
    "sigma = 5\n",
    "\n",
    "### YOUR SOLUTION HERE\n",
    "data_1 = np.random.normal(mu1, sigma, 1000)\n",
    "data_2 = np.random.normal(mu2, sigma, 1000)\n",
    "\n",
    "\n",
    "#n = 1000\n",
    "#data_1 = stats.norm.rvs(5, 100, size=n)\n",
    "#data_2 = stats.norm.rvs(5, 101, size=n)b\n",
    "\n",
    "\n",
    "t_stat = ttest_ind(data_1, data_2)[0]\n",
    "p_val = ttest_ind(data_1, data_2)[1]\n",
    "\n",
    "print(t_stat)\n",
    "print(p_val)\n",
    "###\n",
    "### YOUR CODE HERE\n",
    "###\n"
   ]
  },
  {
   "cell_type": "code",
   "execution_count": 61,
   "metadata": {},
   "outputs": [],
   "source": [
    "data_1 = np.random.normal(loc = 5, scale=100, size = 1000) \n",
    "data_2 = np.random.normal(loc = 5, scale=101, size = 1000) "
   ]
  },
  {
   "cell_type": "code",
   "execution_count": 53,
   "metadata": {},
   "outputs": [
    {
     "data": {
      "text/plain": [
       "5.583421455602408"
      ]
     },
     "execution_count": 53,
     "metadata": {},
     "output_type": "execute_result"
    }
   ],
   "source": [
    "data_1.mean()"
   ]
  },
  {
   "cell_type": "code",
   "execution_count": 54,
   "metadata": {},
   "outputs": [
    {
     "data": {
      "text/plain": [
       "array([28, 55, 14, 76, 25, 74, 89, 61, 43, 92, 37, 63, 22, 60, 96, 61, 80,\n",
       "       52, 46, 31, 78, 56, 46, 36, 30, 29, 79, 27, 61, 56, 91, 97, 35, 68,\n",
       "       75, 37, 89,  6, 22, 51, 37, 88, 39, 55, 22, 92, 76, 34, 48, 57, 14,\n",
       "       91, 56, 53, 15, 70, 62, 94, 40, 37, 51, 17, 44, 93, 72, 46, 23, 86,\n",
       "       98, 23, 62, 27, 58, 84, 69, 16, 28, 38, 57, 12, 22, 61,  9, 30, 34,\n",
       "       58, 17, 87, 33,  7, 94, 62, 80,  6, 79, 32, 86, 81, 90, 80,  6, 11,\n",
       "       30, 94, 92, 80, 20, 27, 44, 64, 77, 36, 19, 17,  9, 79, 78, 56, 81,\n",
       "       45, 57, 54, 19, 11, 44, 32, 36, 19, 89, 74, 69,  8, 15, 30, 65, 41,\n",
       "       27, 97, 89, 95, 44, 81, 27, 20, 98, 65, 72, 84, 35, 57, 29, 48, 16,\n",
       "       94, 96, 13, 16, 73, 58, 58, 32, 60, 73, 81, 62, 82, 79, 46, 42, 72,\n",
       "       57, 37, 75, 60, 76, 55, 78, 47, 19, 42, 19,  9, 97, 87, 58, 55, 14,\n",
       "       16,  8, 99, 22, 84, 40, 29, 91, 80, 40, 71, 13, 65, 57, 22, 47, 39,\n",
       "       67, 82,  8, 97, 45, 49, 54, 83, 32, 46, 84, 80, 73,  5, 43, 94, 21,\n",
       "       95, 92, 39, 50, 46, 43, 94, 53, 66, 42, 27, 26,  8, 53, 63, 77, 72,\n",
       "       75, 91,  6, 53, 92, 99, 35, 44, 52, 55, 47, 59, 92, 53, 94, 84, 61,\n",
       "       81, 19, 31, 72, 84, 68, 98, 34, 40, 71, 90, 90, 53, 80, 59, 89, 60,\n",
       "       72, 99, 48, 35, 62, 91, 57, 88, 83, 27, 32, 20, 41, 25, 83, 21, 41,\n",
       "       81, 23, 34, 49, 22, 82, 66, 40, 88, 56, 23, 48, 11, 48, 72, 38, 70,\n",
       "       73, 59, 14, 46, 45, 81, 73, 14, 14, 95, 64, 55, 25, 12, 69, 96, 82,\n",
       "       89, 34, 89, 53, 13, 21, 73, 62, 61, 66, 99, 56, 65, 44, 42, 47, 67,\n",
       "       23, 54, 37, 17, 82, 66, 97, 47, 53, 40, 14, 99, 10, 61,  5, 75, 62,\n",
       "       95, 25, 96, 84, 60, 91, 24, 58, 29, 32,  9, 25, 22, 51, 74, 61, 97,\n",
       "       23, 69,  7, 46, 25, 44, 71, 29, 59, 88, 56, 48, 89, 60, 59, 91, 74,\n",
       "       81, 91, 77, 85, 70, 23, 87, 11, 67, 46, 46, 63, 24, 77, 21, 31, 51,\n",
       "        6, 67, 66, 23, 21, 73, 43, 86, 75, 85, 43, 40, 44, 49,  8, 29, 73,\n",
       "       34, 80, 72, 92, 33, 77, 72, 55, 28, 18, 73, 22, 46, 61, 87, 16, 86,\n",
       "       21, 34, 92, 79, 27, 85,  5, 83, 36, 13, 19, 32, 28, 64, 39, 90, 31,\n",
       "       87, 80, 24, 69, 89, 53,  5, 14, 51, 63, 66, 90, 22, 50, 36, 31, 96,\n",
       "       22, 43, 53, 97, 86, 48, 76, 58, 99, 38, 75, 40, 22, 42, 63, 13, 77,\n",
       "       76, 55, 39, 86,  9, 18, 96, 34,  8, 43, 88, 68, 29, 32, 80, 70, 82,\n",
       "       26, 35, 27, 52, 24, 42, 59, 72, 83, 92, 93,  5, 11, 61, 99, 16,  9,\n",
       "       54, 46, 16, 22, 70, 78, 83, 98, 21, 72, 75, 66, 45, 99, 38, 74, 49,\n",
       "       62, 55, 38, 48, 19, 82, 74, 54, 36, 71,  7, 90, 90, 78, 55, 71, 80,\n",
       "       97, 52, 21, 11, 17, 70,  8, 14, 92, 21, 56, 10, 87, 73, 78, 13, 95,\n",
       "       81, 87, 25, 28,  8, 28, 63,  7, 72, 44, 52, 58, 39, 99, 60, 93, 44,\n",
       "       81, 72, 50, 82, 17, 31, 10, 21, 40, 85,  6, 81, 56, 70, 56, 96, 47,\n",
       "       94, 26, 59, 71, 64, 62, 16, 92, 73, 88, 43, 17, 45, 61, 57, 16, 17,\n",
       "       78, 61, 44, 84, 49, 39,  7,  9, 94, 15, 75, 60, 14, 38, 71, 76, 35,\n",
       "       79, 75, 70, 74, 45, 67, 36, 24, 61, 54, 84, 29, 16, 75, 43, 21, 49,\n",
       "       15, 74, 27, 95, 74, 42,  6, 90, 88, 93, 83, 97, 76, 41, 53, 56, 37,\n",
       "       26,  9, 22, 42, 41, 98, 99, 68, 14, 83, 46, 52, 48, 86, 91, 20, 58,\n",
       "       39, 32,  6, 98, 17, 45, 84, 63, 73, 96, 57, 49, 24, 28, 65, 95, 98,\n",
       "       62, 31, 30, 11, 46, 51, 57, 63, 42, 73, 91, 96, 57, 19, 30, 52, 99,\n",
       "       23, 13, 68, 97, 58, 55, 43,  8,  7, 68, 33, 15, 62, 79, 31, 25, 43,\n",
       "       99, 50, 70, 95, 40, 79, 86, 69, 67, 39, 35, 32,  5, 29, 47, 88, 71,\n",
       "       67, 55,  6, 86, 68, 78, 73, 13,  6, 38, 64, 65, 35, 14, 80, 40, 89,\n",
       "       53, 74, 53,  7, 78,  9, 94, 65, 89, 94, 30, 76,  9, 19, 20,  5, 20,\n",
       "       41,  7, 56, 51, 99, 17, 84, 59, 25, 70, 58, 31, 42, 94, 62, 66, 50,\n",
       "       93, 15, 76, 12, 75, 68, 25, 76, 67, 89, 68, 24, 12, 62, 50, 35, 97,\n",
       "       13, 19, 98, 30, 14, 33, 84, 40, 88, 41, 90, 75, 27, 45, 97, 84, 32,\n",
       "       52, 42, 35, 18, 77, 95, 92, 81, 94, 33, 55, 53, 47, 96, 96, 76, 91,\n",
       "       97,  9, 46, 11, 46, 40, 31, 62, 50, 70, 29, 77, 31,  5, 91, 78, 46,\n",
       "       56, 29, 58, 71, 10, 62, 74, 57, 70, 62, 86, 91,  6, 80, 26, 41, 24,\n",
       "       28, 88, 69, 69, 85,  5, 98,  7, 50, 59, 79, 92, 90, 68, 49, 30, 81,\n",
       "       69, 28, 78, 39, 28, 32, 84, 20, 63, 85, 58, 83, 20, 19, 15, 69, 83,\n",
       "       94, 72, 47, 73, 17, 14, 79, 86, 45, 54, 91, 75, 63, 43,  7, 80, 11,\n",
       "       53, 30, 37, 52, 83,  6, 75, 36,  8, 24, 40, 36, 32, 81,  5, 64, 60,\n",
       "       39, 34, 58, 40, 59, 93, 84, 62, 87, 69, 73, 55, 26, 92, 57, 40, 72,\n",
       "       40, 56, 57, 86, 54, 84, 45, 22, 26, 70, 25, 48, 51, 43])"
      ]
     },
     "execution_count": 54,
     "metadata": {},
     "output_type": "execute_result"
    }
   ],
   "source": [
    "np.random.randint(5, 100, 1000)   "
   ]
  },
  {
   "cell_type": "code",
   "execution_count": null,
   "metadata": {},
   "outputs": [],
   "source": []
  },
  {
   "cell_type": "code",
   "execution_count": 55,
   "metadata": {},
   "outputs": [
    {
     "data": {
      "image/png": "[encoded data removed]",
      "text/plain": [
       "<Figure size 432x288 with 1 Axes>"
      ]
     },
     "metadata": {},
     "output_type": "display_data"
    }
   ],
   "source": [
    "plt.boxplot([data_1, data_2], labels=['Sample 1', 'Sample 2'], showmeans=True, meanline=True)\n",
    "\n",
    "plt.show()"
   ]
  },
  {
   "cell_type": "code",
   "execution_count": null,
   "metadata": {},
   "outputs": [],
   "source": []
  },
  {
   "cell_type": "code",
   "execution_count": 56,
   "metadata": {
    "deletable": false,
    "editable": false,
    "nbgrader": {
     "grade": true,
     "grade_id": "Question 14",
     "locked": true,
     "points": "10",
     "solution": false
    }
   },
   "outputs": [],
   "source": [
    "###\n",
    "### AUTOGRADER TEST - DO NOT REMOVE\n",
    "###\n"
   ]
  },
  {
   "cell_type": "markdown",
   "metadata": {
    "deletable": false,
    "editable": false,
    "nbgrader": {
     "grade": false,
     "locked": true,
     "solution": false
    }
   },
   "source": [
    "[Back to top](#Index:) \n",
    "\n",
    "### Question 15\n",
    "*15 points*\n",
    "    \n",
    "You are given the data taken from a sample of 10 different students, and also the information that the mean age of the students is 23 years old. Build a one-sided t-test to check that hypothesis. You should build a function named `test` that takes the column \"age\" from the dataframe df given below, and return the boolean `True` if you are accepting the null hypothesis or the boolean `False` if you are rejecting it. \n",
    "\n",
    "Call the function and save your result to the variable `age_test`.\n",
    "\n",
    "Use a p_val of 0.05 to test the hypothesis.\n",
    "\n",
    "**Hint: Use age=df[\"age\"] as argument for the function `test`**."
   ]
  },
  {
   "cell_type": "code",
   "execution_count": 57,
   "metadata": {},
   "outputs": [],
   "source": [
    "### GRADED \n",
    "from scipy.stats import ttest_1samp\n",
    "\n",
    "df = pd.DataFrame({\"name\":[\"marc\",\"james\",\"favio\",\"alexandra\",\"nelly\",\"freddy\", \"charles\", \"bob\", \"maria\", \"peter\"], \n",
    "                   \"age\":[20, 22, 23, 22, 30, 22, 25, 22, 21, 23]})\n",
    "\n",
    "### YOUR SOLUTION HERE\n",
    "\n",
    "def test(age):\n",
    "    if ttest_1samp(age, 23)[1] > 0.05:\n",
    "        return True\n",
    "    else:\n",
    "        return False\n",
    "\n",
    "age_test = test(age=df[\"age\"])\n",
    "\n",
    "###\n",
    "### YOUR CODE HERE\n",
    "###\n"
   ]
  },
  {
   "cell_type": "code",
   "execution_count": 58,
   "metadata": {},
   "outputs": [
    {
     "data": {
      "text/plain": [
       "True"
      ]
     },
     "execution_count": 58,
     "metadata": {},
     "output_type": "execute_result"
    }
   ],
   "source": [
    "age_test"
   ]
  },
  {
   "cell_type": "code",
   "execution_count": 59,
   "metadata": {
    "deletable": false,
    "editable": false,
    "nbgrader": {
     "grade": true,
     "grade_id": "Question 15",
     "locked": true,
     "points": "15",
     "solution": false
    }
   },
   "outputs": [],
   "source": [
    "###\n",
    "### AUTOGRADER TEST - DO NOT REMOVE\n",
    "###\n"
   ]
  },
  {
   "cell_type": "markdown",
   "metadata": {},
   "source": [
    "# Discussion"
   ]
  },
  {
   "cell_type": "markdown",
   "metadata": {},
   "source": [
    "Crime in the USA\n",
    "\n",
    "The t-test hypothesis for the difference in mean is as follow:\n",
    "\n",
    "$$\n",
    "H_0: \\mu_1 - \\mu_2 = 0 \\\\\n",
    "H_1: \\mu_1 - \\mu_2 \\neq 0\n",
    "$$"
   ]
  },
  {
   "cell_type": "code",
   "execution_count": 114,
   "metadata": {},
   "outputs": [],
   "source": [
    "import pandas as pd\n",
    "import seaborn as sns\n",
    "import scipy as sp"
   ]
  },
  {
   "cell_type": "code",
   "execution_count": 115,
   "metadata": {},
   "outputs": [],
   "source": [
    "# Read the file\n",
    "crime = pd.read_csv('data/CrimeUSA.csv') "
   ]
  },
  {
   "cell_type": "code",
   "execution_count": 116,
   "metadata": {},
   "outputs": [
    {
     "data": {
      "text/html": [
       "<div>\n",
       "<style scoped>\n",
       "    .dataframe tbody tr th:only-of-type {\n",
       "        vertical-align: middle;\n",
       "    }\n",
       "\n",
       "    .dataframe tbody tr th {\n",
       "        vertical-align: top;\n",
       "    }\n",
       "\n",
       "    .dataframe thead th {\n",
       "        text-align: right;\n",
       "    }\n",
       "</style>\n",
       "<table border=\"1\" class=\"dataframe\">\n",
       "  <thead>\n",
       "    <tr style=\"text-align: right;\">\n",
       "      <th></th>\n",
       "      <th>Year</th>\n",
       "      <th>Population</th>\n",
       "      <th>Total</th>\n",
       "      <th>Violent</th>\n",
       "      <th>Property</th>\n",
       "      <th>Murder</th>\n",
       "      <th>Rape</th>\n",
       "      <th>Robbery</th>\n",
       "      <th>assault</th>\n",
       "      <th>Burglary</th>\n",
       "      <th>Theft</th>\n",
       "    </tr>\n",
       "  </thead>\n",
       "  <tbody>\n",
       "    <tr>\n",
       "      <th>0</th>\n",
       "      <td>2000</td>\n",
       "      <td>281421906</td>\n",
       "      <td>11608072</td>\n",
       "      <td>1425486</td>\n",
       "      <td>10182586</td>\n",
       "      <td>15586</td>\n",
       "      <td>90178</td>\n",
       "      <td>408016</td>\n",
       "      <td>911706</td>\n",
       "      <td>2050992</td>\n",
       "      <td>6971590</td>\n",
       "    </tr>\n",
       "    <tr>\n",
       "      <th>1</th>\n",
       "      <td>2001</td>\n",
       "      <td>285317559</td>\n",
       "      <td>11876669</td>\n",
       "      <td>1439480</td>\n",
       "      <td>10437480</td>\n",
       "      <td>16037</td>\n",
       "      <td>90863</td>\n",
       "      <td>423557</td>\n",
       "      <td>909023</td>\n",
       "      <td>2116531</td>\n",
       "      <td>7092267</td>\n",
       "    </tr>\n",
       "    <tr>\n",
       "      <th>2</th>\n",
       "      <td>2002</td>\n",
       "      <td>287973924</td>\n",
       "      <td>11878954</td>\n",
       "      <td>1423677</td>\n",
       "      <td>10455277</td>\n",
       "      <td>16229</td>\n",
       "      <td>95235</td>\n",
       "      <td>420806</td>\n",
       "      <td>891407</td>\n",
       "      <td>2151252</td>\n",
       "      <td>7057370</td>\n",
       "    </tr>\n",
       "    <tr>\n",
       "      <th>3</th>\n",
       "      <td>2003</td>\n",
       "      <td>290690788</td>\n",
       "      <td>11826538</td>\n",
       "      <td>1383676</td>\n",
       "      <td>10442862</td>\n",
       "      <td>16528</td>\n",
       "      <td>93883</td>\n",
       "      <td>414235</td>\n",
       "      <td>859030</td>\n",
       "      <td>2154834</td>\n",
       "      <td>7026802</td>\n",
       "    </tr>\n",
       "    <tr>\n",
       "      <th>4</th>\n",
       "      <td>2004</td>\n",
       "      <td>293656842</td>\n",
       "      <td>11679474</td>\n",
       "      <td>1360088</td>\n",
       "      <td>10319386</td>\n",
       "      <td>16148</td>\n",
       "      <td>95089</td>\n",
       "      <td>401470</td>\n",
       "      <td>847381</td>\n",
       "      <td>2144446</td>\n",
       "      <td>6937089</td>\n",
       "    </tr>\n",
       "  </tbody>\n",
       "</table>\n",
       "</div>"
      ],
      "text/plain": [
       "   Year  Population     Total  Violent  Property  Murder   Rape  Robbery  \\\n",
       "0  2000   281421906  11608072  1425486  10182586   15586  90178   408016   \n",
       "1  2001   285317559  11876669  1439480  10437480   16037  90863   423557   \n",
       "2  2002   287973924  11878954  1423677  10455277   16229  95235   420806   \n",
       "3  2003   290690788  11826538  1383676  10442862   16528  93883   414235   \n",
       "4  2004   293656842  11679474  1360088  10319386   16148  95089   401470   \n",
       "\n",
       "   assault  Burglary    Theft  \n",
       "0   911706   2050992  6971590  \n",
       "1   909023   2116531  7092267  \n",
       "2   891407   2151252  7057370  \n",
       "3   859030   2154834  7026802  \n",
       "4   847381   2144446  6937089  "
      ]
     },
     "execution_count": 116,
     "metadata": {},
     "output_type": "execute_result"
    }
   ],
   "source": [
    "crime.head()"
   ]
  },
  {
   "cell_type": "code",
   "execution_count": 117,
   "metadata": {},
   "outputs": [
    {
     "data": {
      "text/plain": [
       "Text(0.5, 1.0, 'USA Crime by Year')"
      ]
     },
     "execution_count": 117,
     "metadata": {},
     "output_type": "execute_result"
    },
    {
     "data": {
      "image/png": "[encoded data removed]",
      "text/plain": [
       "<Figure size 432x288 with 1 Axes>"
      ]
     },
     "metadata": {},
     "output_type": "display_data"
    }
   ],
   "source": [
    "plt.plot(\"Year\", \"Total\", data=crime)\n",
    "plt.title(\"USA Crime by Year\")"
   ]
  },
  {
   "cell_type": "markdown",
   "metadata": {},
   "source": [
    "\n",
    "The t-test hypothesis for the difference in mean is as follow:\n",
    "\n",
    "$\n",
    "H_0: \\mu_1 - \\mu_2 = 0 \\\\\n",
    "H_1: \\mu_1 - \\mu_2 \\neq 0\n",
    "$\n",
    "\n",
    "Where the 𝜇𝑖\n",
    "are the means for each population."
   ]
  },
  {
   "cell_type": "code",
   "execution_count": 134,
   "metadata": {},
   "outputs": [],
   "source": [
    "dec1 = crime[crime['Year']<2009]['Total']"
   ]
  },
  {
   "cell_type": "code",
   "execution_count": 139,
   "metadata": {},
   "outputs": [],
   "source": [
    "dec2 = crime[(crime['Year']<2019)&(crime['Year']>2010)]['Total']"
   ]
  },
  {
   "cell_type": "code",
   "execution_count": 152,
   "metadata": {},
   "outputs": [
    {
     "data": {
      "image/png": "[encoded data removed]",
      "text/plain": [
       "<Figure size 432x288 with 1 Axes>"
      ]
     },
     "metadata": {},
     "output_type": "display_data"
    }
   ],
   "source": [
    "plt.boxplot([dec1, dec2], labels=['2001-2008', '2011-2018']);"
   ]
  },
  {
   "cell_type": "code",
   "execution_count": 141,
   "metadata": {},
   "outputs": [
    {
     "data": {
      "text/plain": [
       "Ttest_indResult(statistic=9.333629898102405, pvalue=1.228328453098799e-07)"
      ]
     },
     "execution_count": 141,
     "metadata": {},
     "output_type": "execute_result"
    }
   ],
   "source": [
    "scipy.stats.ttest_ind(dec1,dec2 )"
   ]
  },
  {
   "cell_type": "markdown",
   "metadata": {},
   "source": [
    "The p-value is very small we can reject $H_0$, there's evidence that the two population means are different."
   ]
  },
  {
   "cell_type": "code",
   "execution_count": 3,
   "metadata": {},
   "outputs": [
    {
     "ename": "ValueError",
     "evalue": "No tables found",
     "output_type": "error",
     "traceback": [
      "\u001b[0;31m---------------------------------------------------------------------------\u001b[0m",
      "\u001b[0;31mValueError\u001b[0m                                Traceback (most recent call last)",
      "\u001b[0;32m<ipython-input-3-b61ebe16abd7>\u001b[0m in \u001b[0;36m<module>\u001b[0;34m\u001b[0m\n\u001b[0;32m----> 1\u001b[0;31m \u001b[0mcrime\u001b[0m \u001b[0;34m=\u001b[0m \u001b[0mpd\u001b[0m\u001b[0;34m.\u001b[0m\u001b[0mread_html\u001b[0m\u001b[0;34m(\u001b[0m\u001b[0;34m\"https://console.cloud.google.com/bigquery?p=bigquery-public-data&d=chicago_crime\"\u001b[0m\u001b[0;34m)\u001b[0m\u001b[0;34m\u001b[0m\u001b[0;34m\u001b[0m\u001b[0m\n\u001b[0m",
      "\u001b[0;32m~/ds/eme/pro/my_project_env/lib/python3.6/site-packages/pandas/io/html.py\u001b[0m in \u001b[0;36mread_html\u001b[0;34m(io, match, flavor, header, index_col, skiprows, attrs, parse_dates, thousands, encoding, decimal, converters, na_values, keep_default_na, displayed_only)\u001b[0m\n\u001b[1;32m   1098\u001b[0m         \u001b[0mna_values\u001b[0m\u001b[0;34m=\u001b[0m\u001b[0mna_values\u001b[0m\u001b[0;34m,\u001b[0m\u001b[0;34m\u001b[0m\u001b[0;34m\u001b[0m\u001b[0m\n\u001b[1;32m   1099\u001b[0m         \u001b[0mkeep_default_na\u001b[0m\u001b[0;34m=\u001b[0m\u001b[0mkeep_default_na\u001b[0m\u001b[0;34m,\u001b[0m\u001b[0;34m\u001b[0m\u001b[0;34m\u001b[0m\u001b[0m\n\u001b[0;32m-> 1100\u001b[0;31m         \u001b[0mdisplayed_only\u001b[0m\u001b[0;34m=\u001b[0m\u001b[0mdisplayed_only\u001b[0m\u001b[0;34m,\u001b[0m\u001b[0;34m\u001b[0m\u001b[0;34m\u001b[0m\u001b[0m\n\u001b[0m\u001b[1;32m   1101\u001b[0m     )\n",
      "\u001b[0;32m~/ds/eme/pro/my_project_env/lib/python3.6/site-packages/pandas/io/html.py\u001b[0m in \u001b[0;36m_parse\u001b[0;34m(flavor, io, match, attrs, encoding, displayed_only, **kwargs)\u001b[0m\n\u001b[1;32m    913\u001b[0m             \u001b[0;32mbreak\u001b[0m\u001b[0;34m\u001b[0m\u001b[0;34m\u001b[0m\u001b[0m\n\u001b[1;32m    914\u001b[0m     \u001b[0;32melse\u001b[0m\u001b[0;34m:\u001b[0m\u001b[0;34m\u001b[0m\u001b[0;34m\u001b[0m\u001b[0m\n\u001b[0;32m--> 915\u001b[0;31m         \u001b[0;32mraise\u001b[0m \u001b[0mretained\u001b[0m\u001b[0;34m\u001b[0m\u001b[0;34m\u001b[0m\u001b[0m\n\u001b[0m\u001b[1;32m    916\u001b[0m \u001b[0;34m\u001b[0m\u001b[0m\n\u001b[1;32m    917\u001b[0m     \u001b[0mret\u001b[0m \u001b[0;34m=\u001b[0m \u001b[0;34m[\u001b[0m\u001b[0;34m]\u001b[0m\u001b[0;34m\u001b[0m\u001b[0;34m\u001b[0m\u001b[0m\n",
      "\u001b[0;32m~/ds/eme/pro/my_project_env/lib/python3.6/site-packages/pandas/io/html.py\u001b[0m in \u001b[0;36m_parse\u001b[0;34m(flavor, io, match, attrs, encoding, displayed_only, **kwargs)\u001b[0m\n\u001b[1;32m    893\u001b[0m \u001b[0;34m\u001b[0m\u001b[0m\n\u001b[1;32m    894\u001b[0m         \u001b[0;32mtry\u001b[0m\u001b[0;34m:\u001b[0m\u001b[0;34m\u001b[0m\u001b[0;34m\u001b[0m\u001b[0m\n\u001b[0;32m--> 895\u001b[0;31m             \u001b[0mtables\u001b[0m \u001b[0;34m=\u001b[0m \u001b[0mp\u001b[0m\u001b[0;34m.\u001b[0m\u001b[0mparse_tables\u001b[0m\u001b[0;34m(\u001b[0m\u001b[0;34m)\u001b[0m\u001b[0;34m\u001b[0m\u001b[0;34m\u001b[0m\u001b[0m\n\u001b[0m\u001b[1;32m    896\u001b[0m         \u001b[0;32mexcept\u001b[0m \u001b[0mValueError\u001b[0m \u001b[0;32mas\u001b[0m \u001b[0mcaught\u001b[0m\u001b[0;34m:\u001b[0m\u001b[0;34m\u001b[0m\u001b[0;34m\u001b[0m\u001b[0m\n\u001b[1;32m    897\u001b[0m             \u001b[0;31m# if `io` is an io-like object, check if it's seekable\u001b[0m\u001b[0;34m\u001b[0m\u001b[0;34m\u001b[0m\u001b[0;34m\u001b[0m\u001b[0m\n",
      "\u001b[0;32m~/ds/eme/pro/my_project_env/lib/python3.6/site-packages/pandas/io/html.py\u001b[0m in \u001b[0;36mparse_tables\u001b[0;34m(self)\u001b[0m\n\u001b[1;32m    211\u001b[0m         \u001b[0mlist\u001b[0m \u001b[0mof\u001b[0m \u001b[0mparsed\u001b[0m \u001b[0;34m(\u001b[0m\u001b[0mheader\u001b[0m\u001b[0;34m,\u001b[0m \u001b[0mbody\u001b[0m\u001b[0;34m,\u001b[0m \u001b[0mfooter\u001b[0m\u001b[0;34m)\u001b[0m \u001b[0mtuples\u001b[0m \u001b[0;32mfrom\u001b[0m \u001b[0mtables\u001b[0m\u001b[0;34m.\u001b[0m\u001b[0;34m\u001b[0m\u001b[0;34m\u001b[0m\u001b[0m\n\u001b[1;32m    212\u001b[0m         \"\"\"\n\u001b[0;32m--> 213\u001b[0;31m         \u001b[0mtables\u001b[0m \u001b[0;34m=\u001b[0m \u001b[0mself\u001b[0m\u001b[0;34m.\u001b[0m\u001b[0m_parse_tables\u001b[0m\u001b[0;34m(\u001b[0m\u001b[0mself\u001b[0m\u001b[0;34m.\u001b[0m\u001b[0m_build_doc\u001b[0m\u001b[0;34m(\u001b[0m\u001b[0;34m)\u001b[0m\u001b[0;34m,\u001b[0m \u001b[0mself\u001b[0m\u001b[0;34m.\u001b[0m\u001b[0mmatch\u001b[0m\u001b[0;34m,\u001b[0m \u001b[0mself\u001b[0m\u001b[0;34m.\u001b[0m\u001b[0mattrs\u001b[0m\u001b[0;34m)\u001b[0m\u001b[0;34m\u001b[0m\u001b[0;34m\u001b[0m\u001b[0m\n\u001b[0m\u001b[1;32m    214\u001b[0m         \u001b[0;32mreturn\u001b[0m \u001b[0;34m(\u001b[0m\u001b[0mself\u001b[0m\u001b[0;34m.\u001b[0m\u001b[0m_parse_thead_tbody_tfoot\u001b[0m\u001b[0;34m(\u001b[0m\u001b[0mtable\u001b[0m\u001b[0;34m)\u001b[0m \u001b[0;32mfor\u001b[0m \u001b[0mtable\u001b[0m \u001b[0;32min\u001b[0m \u001b[0mtables\u001b[0m\u001b[0;34m)\u001b[0m\u001b[0;34m\u001b[0m\u001b[0;34m\u001b[0m\u001b[0m\n\u001b[1;32m    215\u001b[0m \u001b[0;34m\u001b[0m\u001b[0m\n",
      "\u001b[0;32m~/ds/eme/pro/my_project_env/lib/python3.6/site-packages/pandas/io/html.py\u001b[0m in \u001b[0;36m_parse_tables\u001b[0;34m(self, doc, match, attrs)\u001b[0m\n\u001b[1;32m    543\u001b[0m \u001b[0;34m\u001b[0m\u001b[0m\n\u001b[1;32m    544\u001b[0m         \u001b[0;32mif\u001b[0m \u001b[0;32mnot\u001b[0m \u001b[0mtables\u001b[0m\u001b[0;34m:\u001b[0m\u001b[0;34m\u001b[0m\u001b[0;34m\u001b[0m\u001b[0m\n\u001b[0;32m--> 545\u001b[0;31m             \u001b[0;32mraise\u001b[0m \u001b[0mValueError\u001b[0m\u001b[0;34m(\u001b[0m\u001b[0;34m\"No tables found\"\u001b[0m\u001b[0;34m)\u001b[0m\u001b[0;34m\u001b[0m\u001b[0;34m\u001b[0m\u001b[0m\n\u001b[0m\u001b[1;32m    546\u001b[0m \u001b[0;34m\u001b[0m\u001b[0m\n\u001b[1;32m    547\u001b[0m         \u001b[0mresult\u001b[0m \u001b[0;34m=\u001b[0m \u001b[0;34m[\u001b[0m\u001b[0;34m]\u001b[0m\u001b[0;34m\u001b[0m\u001b[0;34m\u001b[0m\u001b[0m\n",
      "\u001b[0;31mValueError\u001b[0m: No tables found"
     ]
    }
   ],
   "source": [
    "crime = pd.read_html(\"https://console.cloud.google.com/bigquery?p=bigquery-public-data&d=chicago_crime\")"
   ]
  },
  {
   "cell_type": "code",
   "execution_count": 15,
   "metadata": {},
   "outputs": [],
   "source": [
    "import kaggle"
   ]
  },
  {
   "cell_type": "code",
   "execution_count": 16,
   "metadata": {},
   "outputs": [],
   "source": [
    "kaggle.api.authenticate()"
   ]
  },
  {
   "cell_type": "code",
   "execution_count": 18,
   "metadata": {},
   "outputs": [
    {
     "ename": "ApiException",
     "evalue": "(401)\nReason: Unauthorized\nHTTP response headers: HTTPHeaderDict({'Date': 'Thu, 11 Jun 2020 01:21:14 GMT', 'Content-Length': '0', 'Set-Cookie': 'ka_sessionid=c9758c7384fb388e379d02ad33d50dcc; max-age=15759359; path=/, GCLB=CJ3E94Hc0oioeQ; path=/; HttpOnly', 'Access-Control-Allow-Credentials': 'true', 'Turbolinks-Location': 'https://www.kaggle.com/api/v1/datasets/download/USERNAME/COVID-19%20Open%20Research%20Dataset%20Challenge%20(CORD-19)', 'Strict-Transport-Security': 'max-age=63072000; includeSubDomains; preload', 'Content-Security-Policy': \"object-src 'none'; script-src 'nonce-EmLNcf5QEqxl1IXnVdCeEw==' 'report-sample' 'unsafe-inline' 'unsafe-eval' 'strict-dynamic' https: http:; frame-src 'self' https://www.kaggleusercontent.com https://www.youtube.com/embed/ https://polygraph-cool.github.io https://js.stripe.com https://www.google.com/recaptcha/ https://form.jotform.com https://submit.jotform.us https://submit.jotformpro.com https://submit.jotform.com https://www.docdroid.com https://www.docdroid.net https://kaggle-static.storage.googleapis.com https://kaggle-static-staging.storage.googleapis.com https://kkb-dev.jupyter-proxy.kaggle.net https://kkb-staging.jupyter-proxy.kaggle.net https://kkb-production.jupyter-proxy.kaggle.net https://kkb-production.firebaseapp.com https://apis.google.com https://content-sheets.googleapis.com/ https://accounts.google.com/ https://storage.googleapis.com; base-uri 'none'; report-uri /csp/report\", 'X-Content-Type-Options': 'nosniff', 'Referrer-Policy': 'strict-origin-when-cross-origin', 'Via': '1.1 google', 'Alt-Svc': 'clear'})\n",
     "output_type": "error",
     "traceback": [
      "\u001b[0;31m---------------------------------------------------------------------------\u001b[0m",
      "\u001b[0;31mApiException\u001b[0m                              Traceback (most recent call last)",
      "\u001b[0;32m<ipython-input-18-353427644917>\u001b[0m in \u001b[0;36m<module>\u001b[0;34m\u001b[0m\n\u001b[0;32m----> 1\u001b[0;31m \u001b[0mkaggle\u001b[0m\u001b[0;34m.\u001b[0m\u001b[0mapi\u001b[0m\u001b[0;34m.\u001b[0m\u001b[0mdataset_download_files\u001b[0m\u001b[0;34m(\u001b[0m\u001b[0;34m'COVID-19 Open Research Dataset Challenge (CORD-19)'\u001b[0m\u001b[0;34m,\u001b[0m \u001b[0mpath\u001b[0m\u001b[0;34m=\u001b[0m\u001b[0;34m'data'\u001b[0m\u001b[0;34m,\u001b[0m \u001b[0munzip\u001b[0m\u001b[0;34m=\u001b[0m\u001b[0;32mTrue\u001b[0m\u001b[0;34m)\u001b[0m\u001b[0;34m\u001b[0m\u001b[0;34m\u001b[0m\u001b[0m\n\u001b[0m",
      "\u001b[0;32m~/ds/eme/pro/my_project_env/lib/python3.6/site-packages/kaggle/api/kaggle_api_extended.py\u001b[0m in \u001b[0;36mdataset_download_files\u001b[0;34m(self, dataset, path, force, quiet, unzip)\u001b[0m\n\u001b[1;32m   1213\u001b[0m             self.datasets_download_with_http_info(owner_slug=owner_slug,\n\u001b[1;32m   1214\u001b[0m                                                   \u001b[0mdataset_slug\u001b[0m\u001b[0;34m=\u001b[0m\u001b[0mdataset_slug\u001b[0m\u001b[0;34m,\u001b[0m\u001b[0;34m\u001b[0m\u001b[0;34m\u001b[0m\u001b[0m\n\u001b[0;32m-> 1215\u001b[0;31m                                                   _preload_content=False))\n\u001b[0m\u001b[1;32m   1216\u001b[0m \u001b[0;34m\u001b[0m\u001b[0m\n\u001b[1;32m   1217\u001b[0m         \u001b[0moutfile\u001b[0m \u001b[0;34m=\u001b[0m \u001b[0mos\u001b[0m\u001b[0;34m.\u001b[0m\u001b[0mpath\u001b[0m\u001b[0;34m.\u001b[0m\u001b[0mjoin\u001b[0m\u001b[0;34m(\u001b[0m\u001b[0meffective_path\u001b[0m\u001b[0;34m,\u001b[0m \u001b[0mdataset_slug\u001b[0m \u001b[0;34m+\u001b[0m \u001b[0;34m'.zip'\u001b[0m\u001b[0;34m)\u001b[0m\u001b[0;34m\u001b[0m\u001b[0;34m\u001b[0m\u001b[0m\n",
      "\u001b[0;32m~/ds/eme/pro/my_project_env/lib/python3.6/site-packages/kaggle/api/kaggle_api.py\u001b[0m in \u001b[0;36mdatasets_download_with_http_info\u001b[0;34m(self, owner_slug, dataset_slug, **kwargs)\u001b[0m\n\u001b[1;32m   1478\u001b[0m             \u001b[0m_preload_content\u001b[0m\u001b[0;34m=\u001b[0m\u001b[0mparams\u001b[0m\u001b[0;34m.\u001b[0m\u001b[0mget\u001b[0m\u001b[0;34m(\u001b[0m\u001b[0;34m'_preload_content'\u001b[0m\u001b[0;34m,\u001b[0m \u001b[0;32mTrue\u001b[0m\u001b[0;34m)\u001b[0m\u001b[0;34m,\u001b[0m\u001b[0;34m\u001b[0m\u001b[0;34m\u001b[0m\u001b[0m\n\u001b[1;32m   1479\u001b[0m             \u001b[0m_request_timeout\u001b[0m\u001b[0;34m=\u001b[0m\u001b[0mparams\u001b[0m\u001b[0;34m.\u001b[0m\u001b[0mget\u001b[0m\u001b[0;34m(\u001b[0m\u001b[0;34m'_request_timeout'\u001b[0m\u001b[0;34m)\u001b[0m\u001b[0;34m,\u001b[0m\u001b[0;34m\u001b[0m\u001b[0;34m\u001b[0m\u001b[0m\n\u001b[0;32m-> 1480\u001b[0;31m             collection_formats=collection_formats)\n\u001b[0m\u001b[1;32m   1481\u001b[0m \u001b[0;34m\u001b[0m\u001b[0m\n\u001b[1;32m   1482\u001b[0m     \u001b[0;32mdef\u001b[0m \u001b[0mdatasets_download_file\u001b[0m\u001b[0;34m(\u001b[0m\u001b[0mself\u001b[0m\u001b[0;34m,\u001b[0m \u001b[0mowner_slug\u001b[0m\u001b[0;34m,\u001b[0m \u001b[0mdataset_slug\u001b[0m\u001b[0;34m,\u001b[0m \u001b[0mfile_name\u001b[0m\u001b[0;34m,\u001b[0m \u001b[0;34m**\u001b[0m\u001b[0mkwargs\u001b[0m\u001b[0;34m)\u001b[0m\u001b[0;34m:\u001b[0m  \u001b[0;31m# noqa: E501\u001b[0m\u001b[0;34m\u001b[0m\u001b[0;34m\u001b[0m\u001b[0m\n",
      "\u001b[0;32m~/ds/eme/pro/my_project_env/lib/python3.6/site-packages/kaggle/api_client.py\u001b[0m in \u001b[0;36mcall_api\u001b[0;34m(self, resource_path, method, path_params, query_params, header_params, body, post_params, files, response_type, auth_settings, async_req, _return_http_data_only, collection_formats, _preload_content, _request_timeout)\u001b[0m\n\u001b[1;32m    332\u001b[0m                                    \u001b[0mresponse_type\u001b[0m\u001b[0;34m,\u001b[0m \u001b[0mauth_settings\u001b[0m\u001b[0;34m,\u001b[0m\u001b[0;34m\u001b[0m\u001b[0;34m\u001b[0m\u001b[0m\n\u001b[1;32m    333\u001b[0m                                    \u001b[0m_return_http_data_only\u001b[0m\u001b[0;34m,\u001b[0m \u001b[0mcollection_formats\u001b[0m\u001b[0;34m,\u001b[0m\u001b[0;34m\u001b[0m\u001b[0;34m\u001b[0m\u001b[0m\n\u001b[0;32m--> 334\u001b[0;31m                                    _preload_content, _request_timeout)\n\u001b[0m\u001b[1;32m    335\u001b[0m         \u001b[0;32melse\u001b[0m\u001b[0;34m:\u001b[0m\u001b[0;34m\u001b[0m\u001b[0;34m\u001b[0m\u001b[0m\n\u001b[1;32m    336\u001b[0m             thread = self.pool.apply_async(self.__call_api, (resource_path,\n",
      "\u001b[0;32m~/ds/eme/pro/my_project_env/lib/python3.6/site-packages/kaggle/api_client.py\u001b[0m in \u001b[0;36m__call_api\u001b[0;34m(self, resource_path, method, path_params, query_params, header_params, body, post_params, files, response_type, auth_settings, _return_http_data_only, collection_formats, _preload_content, _request_timeout)\u001b[0m\n\u001b[1;32m    163\u001b[0m             \u001b[0mpost_params\u001b[0m\u001b[0;34m=\u001b[0m\u001b[0mpost_params\u001b[0m\u001b[0;34m,\u001b[0m \u001b[0mbody\u001b[0m\u001b[0;34m=\u001b[0m\u001b[0mbody\u001b[0m\u001b[0;34m,\u001b[0m\u001b[0;34m\u001b[0m\u001b[0;34m\u001b[0m\u001b[0m\n\u001b[1;32m    164\u001b[0m             \u001b[0m_preload_content\u001b[0m\u001b[0;34m=\u001b[0m\u001b[0m_preload_content\u001b[0m\u001b[0;34m,\u001b[0m\u001b[0;34m\u001b[0m\u001b[0;34m\u001b[0m\u001b[0m\n\u001b[0;32m--> 165\u001b[0;31m             _request_timeout=_request_timeout)\n\u001b[0m\u001b[1;32m    166\u001b[0m \u001b[0;34m\u001b[0m\u001b[0m\n\u001b[1;32m    167\u001b[0m         \u001b[0mself\u001b[0m\u001b[0;34m.\u001b[0m\u001b[0mlast_response\u001b[0m \u001b[0;34m=\u001b[0m \u001b[0mresponse_data\u001b[0m\u001b[0;34m\u001b[0m\u001b[0;34m\u001b[0m\u001b[0m\n",
      "\u001b[0;32m~/ds/eme/pro/my_project_env/lib/python3.6/site-packages/kaggle/api_client.py\u001b[0m in \u001b[0;36mrequest\u001b[0;34m(self, method, url, query_params, headers, post_params, body, _preload_content, _request_timeout)\u001b[0m\n\u001b[1;32m    353\u001b[0m                                         \u001b[0m_preload_content\u001b[0m\u001b[0;34m=\u001b[0m\u001b[0m_preload_content\u001b[0m\u001b[0;34m,\u001b[0m\u001b[0;34m\u001b[0m\u001b[0;34m\u001b[0m\u001b[0m\n\u001b[1;32m    354\u001b[0m                                         \u001b[0m_request_timeout\u001b[0m\u001b[0;34m=\u001b[0m\u001b[0m_request_timeout\u001b[0m\u001b[0;34m,\u001b[0m\u001b[0;34m\u001b[0m\u001b[0;34m\u001b[0m\u001b[0m\n\u001b[0;32m--> 355\u001b[0;31m                                         headers=headers)\n\u001b[0m\u001b[1;32m    356\u001b[0m         \u001b[0;32melif\u001b[0m \u001b[0mmethod\u001b[0m \u001b[0;34m==\u001b[0m \u001b[0;34m\"HEAD\"\u001b[0m\u001b[0;34m:\u001b[0m\u001b[0;34m\u001b[0m\u001b[0;34m\u001b[0m\u001b[0m\n\u001b[1;32m    357\u001b[0m             return self.rest_client.HEAD(url,\n",
      "\u001b[0;32m~/ds/eme/pro/my_project_env/lib/python3.6/site-packages/kaggle/rest.py\u001b[0m in \u001b[0;36mGET\u001b[0;34m(self, url, headers, query_params, _preload_content, _request_timeout)\u001b[0m\n\u001b[1;32m    249\u001b[0m                             \u001b[0m_preload_content\u001b[0m\u001b[0;34m=\u001b[0m\u001b[0m_preload_content\u001b[0m\u001b[0;34m,\u001b[0m\u001b[0;34m\u001b[0m\u001b[0;34m\u001b[0m\u001b[0m\n\u001b[1;32m    250\u001b[0m                             \u001b[0m_request_timeout\u001b[0m\u001b[0;34m=\u001b[0m\u001b[0m_request_timeout\u001b[0m\u001b[0;34m,\u001b[0m\u001b[0;34m\u001b[0m\u001b[0;34m\u001b[0m\u001b[0m\n\u001b[0;32m--> 251\u001b[0;31m                             query_params=query_params)\n\u001b[0m\u001b[1;32m    252\u001b[0m \u001b[0;34m\u001b[0m\u001b[0m\n\u001b[1;32m    253\u001b[0m     def HEAD(self, url, headers=None, query_params=None, _preload_content=True,\n",
      "\u001b[0;32m~/ds/eme/pro/my_project_env/lib/python3.6/site-packages/kaggle/rest.py\u001b[0m in \u001b[0;36mrequest\u001b[0;34m(self, method, url, query_params, headers, body, post_params, _preload_content, _request_timeout)\u001b[0m\n\u001b[1;32m    239\u001b[0m \u001b[0;34m\u001b[0m\u001b[0m\n\u001b[1;32m    240\u001b[0m         \u001b[0;32mif\u001b[0m \u001b[0;32mnot\u001b[0m \u001b[0;36m200\u001b[0m \u001b[0;34m<=\u001b[0m \u001b[0mr\u001b[0m\u001b[0;34m.\u001b[0m\u001b[0mstatus\u001b[0m \u001b[0;34m<=\u001b[0m \u001b[0;36m299\u001b[0m\u001b[0;34m:\u001b[0m\u001b[0;34m\u001b[0m\u001b[0;34m\u001b[0m\u001b[0m\n\u001b[0;32m--> 241\u001b[0;31m             \u001b[0;32mraise\u001b[0m \u001b[0mApiException\u001b[0m\u001b[0;34m(\u001b[0m\u001b[0mhttp_resp\u001b[0m\u001b[0;34m=\u001b[0m\u001b[0mr\u001b[0m\u001b[0;34m)\u001b[0m\u001b[0;34m\u001b[0m\u001b[0;34m\u001b[0m\u001b[0m\n\u001b[0m\u001b[1;32m    242\u001b[0m \u001b[0;34m\u001b[0m\u001b[0m\n\u001b[1;32m    243\u001b[0m         \u001b[0;32mreturn\u001b[0m \u001b[0mr\u001b[0m\u001b[0;34m\u001b[0m\u001b[0;34m\u001b[0m\u001b[0m\n",
      "\u001b[0;31mApiException\u001b[0m: (401)\nReason: Unauthorized\nHTTP response headers: HTTPHeaderDict({'Date': 'Thu, 11 Jun 2020 01:21:14 GMT', 'Content-Length': '0', 'Set-Cookie': 'ka_sessionid=c9758c7384fb388e379d02ad33d50dcc; max-age=15759359; path=/, GCLB=CJ3E94Hc0oioeQ; path=/; HttpOnly', 'Access-Control-Allow-Credentials': 'true', 'Turbolinks-Location': 'https://www.kaggle.com/api/v1/datasets/download/USERNAME/COVID-19%20Open%20Research%20Dataset%20Challenge%20(CORD-19)', 'Strict-Transport-Security': 'max-age=63072000; includeSubDomains; preload', 'Content-Security-Policy': \"object-src 'none'; script-src 'nonce-EmLNcf5QEqxl1IXnVdCeEw==' 'report-sample' 'unsafe-inline' 'unsafe-eval' 'strict-dynamic' https: http:; frame-src 'self' https://www.kaggleusercontent.com https://www.youtube.com/embed/ https://polygraph-cool.github.io https://js.stripe.com https://www.google.com/recaptcha/ https://form.jotform.com https://submit.jotform.us https://submit.jotformpro.com https://submit.jotform.com https://www.docdroid.com https://www.docdroid.net https://kaggle-static.storage.googleapis.com https://kaggle-static-staging.storage.googleapis.com https://kkb-dev.jupyter-proxy.kaggle.net https://kkb-staging.jupyter-proxy.kaggle.net https://kkb-production.jupyter-proxy.kaggle.net https://kkb-production.firebaseapp.com https://apis.google.com https://content-sheets.googleapis.com/ https://accounts.google.com/ https://storage.googleapis.com; base-uri 'none'; report-uri /csp/report\", 'X-Content-Type-Options': 'nosniff', 'Referrer-Policy': 'strict-origin-when-cross-origin', 'Via': '1.1 google', 'Alt-Svc': 'clear'})\n"
     ]
    }
   ],
   "source": [
    "kaggle.api.dataset_download_files('The_name_of_the_dataset', path='data', unzip=True)"
   ]
  },
  {
   "cell_type": "code",
   "execution_count": null,
   "metadata": {},
   "outputs": [],
   "source": []
  }
 ],
 "metadata": {
  "kernelspec": {
   "display_name": "Python 3",
   "language": "python",
   "name": "python3"
  },
  "language_info": {
   "codemirror_mode": {
    "name": "ipython",
    "version": 3
   },
   "file_extension": ".py",
   "mimetype": "text/x-python",
   "name": "python",
   "nbconvert_exporter": "python",
   "pygments_lexer": "ipython3",
   "version": "3.6.9"
  }
 },
 "nbformat": 4,
 "nbformat_minor": 4
}
