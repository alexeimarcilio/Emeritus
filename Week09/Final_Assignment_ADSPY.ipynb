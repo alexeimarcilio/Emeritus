{
 "cells": [
  {
   "cell_type": "markdown",
   "metadata": {
    "deletable": false,
    "editable": false,
    "nbgrader": {
     "grade": false,
     "locked": true,
     "solution": false
    }
   },
   "source": [
    "# Final Assignment\n",
    "\n",
    "**_Author: Favio Vázquez_**\n",
    "\n",
    "**Expected time = 3.5 hours**\n",
    "\n",
    "**Total points = 185 points**"
   ]
  },
  {
   "cell_type": "markdown",
   "metadata": {
    "deletable": false,
    "editable": false,
    "nbgrader": {
     "grade": false,
     "locked": true,
     "solution": false
    }
   },
   "source": [
    "## Assignment Overview\n",
    "\n",
    "In this final assignment you will be having more practice on all the topics covered in the course, with a specific attention to the modules about Pandas (M6), Data Visualization (M7) and Statistics (M8,M9). Make sure to go back to those videos and assignments to review the most important things. \n",
    "\n",
    "This assignment is designed to build your familiarity and comfort coding in Python while also helping you review key topics from each module. As you progress through the assignment, answers will get increasingly complex. It is important that you adopt a data scientist's mindset when completing this assignment. **Remember to run your code from each cell before submitting your assignment.** Running your code beforehand will notify you of errors and give you a chance to fix your errors before submitting. You should view your Vocareum submission as if you are delivering a final project to your manager or client. \n",
    "\n",
    "***Vocareum Tips***\n",
    "\n",
    "- Do not add arguments or options to functions unless you are specifically asked to. This will cause an error in Vocareum.\n",
    "- Do not use a library unless you are expicitly asked to in the question.\n",
    "\n",
    "\n",
    "### Learning Objectives\n",
    "\n",
    "- Explain the benefits of functions in performing specified tasks in Python. \n",
    "- Explain the operations that can be performed on a given data type. \n",
    "- Use Pandas to build, extract, filter, and transform DataFrames.\n",
    "- Use matplotlib to visualize data including basic plots and advanced plots.\n",
    "- Use fundamental concepts of probability theory to examine random variables and quantify the probability of a given outcome.  \n",
    "- Explain common statistical distributions such as the normal distribution, t-distribution, and bernoulli distribution. \n",
    "- Conduct basic hypothesis testing to determine the reliability of your conclusions. "
   ]
  },
  {
   "cell_type": "markdown",
   "metadata": {
    "deletable": false,
    "editable": false,
    "nbgrader": {
     "grade": false,
     "locked": true,
     "solution": false
    }
   },
   "source": [
    "## Index:\n",
    "\n",
    "#### Final Assignment Topics:\n",
    "\n",
    "##### Working with Data Types and Operators in Python:\n",
    "\n",
    "- [Question 1](#Question-1)\n",
    "- [Question 2](#Question-2)\n",
    "\n",
    "##### Writing Functions in Python:\n",
    "\n",
    "- [Question 3](#Question-3)\n",
    "- [Question 4](#Question-4)\n",
    "\n",
    "##### Data Manipulation and Analysis with Pandas:\n",
    "\n",
    "- [Question 5](#Question-5)\n",
    "- [Question 6](#Question-6)\n",
    "- [Question 7](#Question-7)\n",
    "\n",
    "##### Data Visualization:\n",
    "\n",
    "- [Question 8](#Question-8)\n",
    "- [Question 9](#Question-9)\n",
    "\n",
    "##### Random Variables and Statistical Inferences:\n",
    "\n",
    "- [Question 10](#Question-10)\n",
    "- [Question 11](#Question-11)\n",
    "- [Question 12](#Question-12)\n",
    "\n",
    "##### Statistical Distributions and Hypothesis Testing:\n",
    "\n",
    "- [Question 13](#Question-13)\n",
    "- [Question 14](#Question-14)\n",
    "- [Question 15](#Question-15)"
   ]
  },
  {
   "cell_type": "code",
   "execution_count": 1,
   "metadata": {
    "deletable": false,
    "editable": false,
    "nbgrader": {
     "grade": false,
     "locked": true,
     "solution": false
    }
   },
   "outputs": [],
   "source": [
    "# Let's start by importing the libraries we will be using\n",
    "import pandas as pd\n",
    "import numpy as np\n",
    "import matplotlib.pyplot as plt\n",
    "from dateutil.parser import parse\n",
    "from sklearn import datasets\n",
    "import scipy.stats as sp\n",
    "import math\n",
    "import seaborn as sns\n",
    "\n",
    "# Avoid warnings\n",
    "import warnings\n",
    "warnings.filterwarnings(\"ignore\")"
   ]
  },
  {
   "cell_type": "markdown",
   "metadata": {
    "deletable": false,
    "editable": false,
    "nbgrader": {
     "grade": false,
     "locked": true,
     "solution": false
    }
   },
   "source": [
    "## Working with Data Types and Operators in Python:"
   ]
  },
  {
   "cell_type": "markdown",
   "metadata": {
    "deletable": false,
    "editable": false,
    "nbgrader": {
     "grade": false,
     "locked": true,
     "solution": false
    }
   },
   "source": [
    "[Back to top](#Index:) \n",
    "\n",
    "### Question 1\n",
    "*15 points*\n",
    "\n",
    "\n",
    "Perform the following operations on the list below, which is stored in the variable `my_list`.\n",
    "\n",
    "- Reverse the list and store your result in a variable called `my_reversed_list`, **without using the `.reverse()` method.**\n",
    "- Sort the list (in descending order) and store your result in a variable called `my_sorted_list`. **To do this, create a function called `my_sort` and implement a sorting algorithm. You must do this without using the `.sort()` method.** \n",
    "    - To create the sorting algorithm you need to use a `for` loop with the argument arr with a range of `len(arr)` and a minimum of `i`. \n",
    "    - In this loop will be a nested `for` loop with a range of i+1 to `len(arr)`.\n",
    "    - Check if `j` is below the minimum. If it is, then assign `j` to the minimum. Place the appropriate variables in the array after checking this.\n",
    "- With a list comprehension, multiply every element of the list by the number 3 and store your result in a variable called `my_other_list`.\n",
    "\n",
    "\n"
   ]
  },
  {
   "cell_type": "code",
   "execution_count": 2,
   "metadata": {},
   "outputs": [
    {
     "name": "stdout",
     "output_type": "stream",
     "text": [
      "Original:  [0, 1, 2, 3, 4, 5, 6, 7, 8, 9, 10, 11, 12, 13, 14]\n",
      "Reversed:  [14, 13, 12, 11, 10, 9, 8, 7, 6, 5, 4, 3, 2, 1, 0]\n",
      "Sorted:  [14, 13, 12, 11, 10, 9, 8, 7, 6, 5, 4, 3, 2, 1, 0]\n",
      "Mult by 3 [0, 3, 6, 9, 12, 15, 18, 21, 24, 27, 30, 33, 36, 39, 42]\n"
     ]
    }
   ],
   "source": [
    "### GRADED \n",
    "my_list = list(range(0,15)) # Don't change this line\n",
    "\n",
    "### YOUR SOLUTION HERE\n",
    "\n",
    "def my_sort(arr):\n",
    "    #print(arr)\n",
    "    for i in range(len(arr)):\n",
    "        minimum = arr[i]\n",
    "        maximum = arr[i]\n",
    "        for j in range(i+1,len(arr)):\n",
    "            #print(f'i:{arr[i]},j:{arr[j]}')\n",
    "            if arr[j] < minimum:\n",
    "                minimum = arr[j]\n",
    "                maximum = arr[i]\n",
    "                arr[i]=minimum\n",
    "                arr[j]=maximum\n",
    "    return arr[::-1]\n",
    "\n",
    "\n",
    "            \n",
    "my_reversed_list = my_list[::-1]\n",
    "my_sorted_list = my_sort(my_list)\n",
    "my_other_list = [x*3 for x in my_list]\n",
    "\n",
    "###\n",
    "### YOUR CODE HERE\n",
    "###\n",
    "\n",
    "# Checking results\n",
    "print(\"Original: \", my_list)\n",
    "print(\"Reversed: \", my_reversed_list)\n",
    "print(\"Sorted: \", my_sorted_list)\n",
    "print(\"Mult by 3\", my_other_list)"
   ]
  },
  {
   "cell_type": "code",
   "execution_count": 3,
   "metadata": {},
   "outputs": [
    {
     "data": {
      "text/plain": [
       "[9, 8, 7, 6, 4, 2]"
      ]
     },
     "execution_count": 3,
     "metadata": {},
     "output_type": "execute_result"
    }
   ],
   "source": [
    "my_sort([7,6,4,8,9,2])"
   ]
  },
  {
   "cell_type": "code",
   "execution_count": 4,
   "metadata": {},
   "outputs": [
    {
     "data": {
      "text/plain": [
       "[0, 1, 2, 3, 4, 5, 6, 7, 8, 9, 10, 11, 12, 13, 14]"
      ]
     },
     "execution_count": 4,
     "metadata": {},
     "output_type": "execute_result"
    }
   ],
   "source": [
    "my_list"
   ]
  },
  {
   "cell_type": "code",
   "execution_count": 5,
   "metadata": {
    "deletable": false,
    "editable": false,
    "nbgrader": {
     "grade": true,
     "grade_id": "Question 01",
     "locked": true,
     "points": "15",
     "solution": false
    }
   },
   "outputs": [],
   "source": [
    "###\n",
    "### AUTOGRADER TEST - DO NOT REMOVE\n",
    "###\n"
   ]
  },
  {
   "cell_type": "markdown",
   "metadata": {
    "deletable": false,
    "editable": false,
    "nbgrader": {
     "grade": false,
     "locked": true,
     "solution": false
    }
   },
   "source": [
    "[Back to top](#Index:) \n",
    "\n",
    "### Question 2\n",
    "*5 points*\n",
    "    \n",
    "For the dictionary defined and stored in the variable, `my_dict`, add a new key, \"name\", with same the same values as the ones corresponsind to the key \"nme\". Remember you can get the name d,  the first entry in the dictionary by using `my_dict[1][\"name\"]`.\n",
    "Finally, delete the key \"nme\".\n",
    "\n",
    "\n",
    "**Hint: Consider using a for loop.**."
   ]
  },
  {
   "cell_type": "code",
   "execution_count": 6,
   "metadata": {},
   "outputs": [],
   "source": [
    "### GRADED\n",
    "my_dict = {1: {'nme': 'John', 'age': '27', 'sex': 'Male'},\n",
    "          2: {'nme': 'Marie', 'age': '22', 'sex': 'Female'}}\n",
    "\n",
    "### YOUR SOLUTION HERE\n",
    "\n",
    "#print(my_dict[1][\"nme\"])\n",
    "\n",
    "for key in my_dict:\n",
    "    my_dict[key][\"name\"]=my_dict[key][\"nme\"]\n",
    "    del my_dict[key][\"nme\"]\n",
    "\n",
    "\n",
    "###\n",
    "### YOUR CODE HERE\n",
    "###\n"
   ]
  },
  {
   "cell_type": "code",
   "execution_count": 7,
   "metadata": {},
   "outputs": [
    {
     "data": {
      "text/plain": [
       "{1: {'age': '27', 'sex': 'Male', 'name': 'John'},\n",
       " 2: {'age': '22', 'sex': 'Female', 'name': 'Marie'}}"
      ]
     },
     "execution_count": 7,
     "metadata": {},
     "output_type": "execute_result"
    }
   ],
   "source": [
    "my_dict"
   ]
  },
  {
   "cell_type": "code",
   "execution_count": 8,
   "metadata": {
    "deletable": false,
    "editable": false,
    "nbgrader": {
     "grade": true,
     "grade_id": "Question 02",
     "locked": true,
     "points": "5",
     "solution": false
    }
   },
   "outputs": [],
   "source": [
    "###\n",
    "### AUTOGRADER TEST - DO NOT REMOVE\n",
    "###\n"
   ]
  },
  {
   "cell_type": "markdown",
   "metadata": {
    "deletable": false,
    "editable": false,
    "nbgrader": {
     "grade": false,
     "locked": true,
     "solution": false
    }
   },
   "source": [
    "## Writing Functions in Python:"
   ]
  },
  {
   "cell_type": "markdown",
   "metadata": {
    "deletable": false,
    "editable": false,
    "nbgrader": {
     "grade": false,
     "locked": true,
     "solution": false
    }
   },
   "source": [
    "[Back to top](#Index:) \n",
    "\n",
    "### Question 3\n",
    "*10 points*\n",
    "\n",
    "Create a function that determines the all the factors of a number and call it `factors`. The factors of a number are any numbers that divide into it exactly, including 1 and the number itself. "
   ]
  },
  {
   "cell_type": "code",
   "execution_count": 9,
   "metadata": {},
   "outputs": [],
   "source": [
    "### GRADED\n",
    "\n",
    "### YOUR SOLUTION HERE\n",
    "def factors(x):\n",
    "    factors = []\n",
    "    for i in range(1, x+1):\n",
    "        if x % i == 0:\n",
    "            factors.append(i)\n",
    "    return factors\n",
    "\n",
    "\n",
    "###\n",
    "### YOUR CODE HERE\n",
    "###\n"
   ]
  },
  {
   "cell_type": "code",
   "execution_count": 10,
   "metadata": {},
   "outputs": [
    {
     "data": {
      "text/plain": [
       "[1, 2, 4, 5, 8, 10, 16, 20, 32, 40, 64, 80, 160, 320]"
      ]
     },
     "execution_count": 10,
     "metadata": {},
     "output_type": "execute_result"
    }
   ],
   "source": [
    "factors(320)"
   ]
  },
  {
   "cell_type": "code",
   "execution_count": 11,
   "metadata": {
    "deletable": false,
    "editable": false,
    "nbgrader": {
     "grade": true,
     "grade_id": "Question 03",
     "locked": true,
     "points": "10",
     "solution": false
    }
   },
   "outputs": [],
   "source": [
    "###\n",
    "### AUTOGRADER TEST - DO NOT REMOVE\n",
    "###\n"
   ]
  },
  {
   "cell_type": "markdown",
   "metadata": {
    "deletable": false,
    "editable": false,
    "nbgrader": {
     "grade": false,
     "locked": true,
     "solution": false
    }
   },
   "source": [
    "[Back to top](#Index:) \n",
    "\n",
    "### Question 4\n",
    "*15 points*\n",
    "\n",
    "Create a function that checks if a number is prime or not and name the function `check_prime`. If the number is prime it should return the boolean `True`  or should return `False` if it is not prime. \n",
    "\n",
    "Remember that a number is prime if it can only be divided by 1 and itself. Also remember that negative numbers, 0, and 1 are not considered prime. We can create a range of odd numbers by using `range(3, int(math.sqrt(number)), 2)`.\n",
    "\n",
    "**Hint: Except 2, all prime numbers are odd. Use functions the math library imported in the code cell below.**"
   ]
  },
  {
   "cell_type": "code",
   "execution_count": 12,
   "metadata": {},
   "outputs": [],
   "source": [
    "### GRADED\n",
    "import math\n",
    "\n",
    "\n",
    "### YOUR SOLUTION HERE\n",
    "def check_prime(num):\n",
    "    if num < 2:\n",
    "        return False\n",
    "    for i in range(2, int(math.sqrt(num))+1):\n",
    "        if num % i == 0:\n",
    "            return False\n",
    "    return True\n",
    "\n",
    "###\n",
    "### YOUR CODE HERE\n",
    "###\n"
   ]
  },
  {
   "cell_type": "code",
   "execution_count": 13,
   "metadata": {},
   "outputs": [
    {
     "data": {
      "text/plain": [
       "True"
      ]
     },
     "execution_count": 13,
     "metadata": {},
     "output_type": "execute_result"
    }
   ],
   "source": [
    "check_prime(2)"
   ]
  },
  {
   "cell_type": "code",
   "execution_count": 14,
   "metadata": {
    "deletable": false,
    "editable": false,
    "nbgrader": {
     "grade": true,
     "grade_id": "Question 04",
     "locked": true,
     "points": "15",
     "solution": false
    }
   },
   "outputs": [],
   "source": [
    "###\n",
    "### AUTOGRADER TEST - DO NOT REMOVE\n",
    "###\n"
   ]
  },
  {
   "cell_type": "markdown",
   "metadata": {
    "collapsed": true
   },
   "source": [
    "## Data Manipulation and Analysis with Pandas\n",
    "\n",
    "For the next three questions we will be using a dataset coming from a liist of video games with sales greater than 100,000 copies. The columns are:\n",
    "\n",
    "- Rank - Ranking of overall sales\n",
    "- Name - The games name\n",
    "- Platform - Platform of the games release (i.e. PC,PS4, etc.)\n",
    "- Year - Year of the game's release\n",
    "- Genre - Genre of the game\n",
    "- Publisher - Publisher of the game\n",
    "- NA_Sales - Sales in North America (in millions)\n",
    "- EU_Sales - Sales in Europe (in millions)\n",
    "- JP_Sales - Sales in Japan (in millions)\n",
    "- Other_Sales - Sales in the rest of the world (in millions)\n",
    "- Global_Sales - Total worldwide sales.\n",
    "\n",
    "There are 16,598 records in total"
   ]
  },
  {
   "cell_type": "code",
   "execution_count": 15,
   "metadata": {
    "deletable": false,
    "editable": false,
    "nbgrader": {
     "grade": false,
     "locked": true,
     "solution": false
    }
   },
   "outputs": [],
   "source": [
    "## Read the dataset\n",
    "df = pd.read_csv(\"data/vgsales.csv\")"
   ]
  },
  {
   "cell_type": "code",
   "execution_count": 16,
   "metadata": {
    "deletable": false,
    "editable": false,
    "nbgrader": {
     "grade": false,
     "locked": true,
     "solution": false
    }
   },
   "outputs": [
    {
     "data": {
      "text/html": [
       "<div>\n",
       "<style scoped>\n",
       "    .dataframe tbody tr th:only-of-type {\n",
       "        vertical-align: middle;\n",
       "    }\n",
       "\n",
       "    .dataframe tbody tr th {\n",
       "        vertical-align: top;\n",
       "    }\n",
       "\n",
       "    .dataframe thead th {\n",
       "        text-align: right;\n",
       "    }\n",
       "</style>\n",
       "<table border=\"1\" class=\"dataframe\">\n",
       "  <thead>\n",
       "    <tr style=\"text-align: right;\">\n",
       "      <th></th>\n",
       "      <th>Rank</th>\n",
       "      <th>Name</th>\n",
       "      <th>Platform</th>\n",
       "      <th>Year</th>\n",
       "      <th>Genre</th>\n",
       "      <th>Publisher</th>\n",
       "      <th>NA_Sales</th>\n",
       "      <th>EU_Sales</th>\n",
       "      <th>JP_Sales</th>\n",
       "      <th>Other_Sales</th>\n",
       "      <th>Global_Sales</th>\n",
       "    </tr>\n",
       "  </thead>\n",
       "  <tbody>\n",
       "    <tr>\n",
       "      <th>0</th>\n",
       "      <td>1</td>\n",
       "      <td>Wii Sports</td>\n",
       "      <td>Wii</td>\n",
       "      <td>2006.0</td>\n",
       "      <td>Sports</td>\n",
       "      <td>Nintendo</td>\n",
       "      <td>41.49</td>\n",
       "      <td>29.02</td>\n",
       "      <td>3.77</td>\n",
       "      <td>8.46</td>\n",
       "      <td>82.74</td>\n",
       "    </tr>\n",
       "    <tr>\n",
       "      <th>1</th>\n",
       "      <td>2</td>\n",
       "      <td>Super Mario Bros.</td>\n",
       "      <td>NES</td>\n",
       "      <td>1985.0</td>\n",
       "      <td>Platform</td>\n",
       "      <td>Nintendo</td>\n",
       "      <td>29.08</td>\n",
       "      <td>3.58</td>\n",
       "      <td>6.81</td>\n",
       "      <td>0.77</td>\n",
       "      <td>40.24</td>\n",
       "    </tr>\n",
       "    <tr>\n",
       "      <th>2</th>\n",
       "      <td>3</td>\n",
       "      <td>Mario Kart Wii</td>\n",
       "      <td>Wii</td>\n",
       "      <td>2008.0</td>\n",
       "      <td>Racing</td>\n",
       "      <td>Nintendo</td>\n",
       "      <td>15.85</td>\n",
       "      <td>12.88</td>\n",
       "      <td>3.79</td>\n",
       "      <td>3.31</td>\n",
       "      <td>35.82</td>\n",
       "    </tr>\n",
       "    <tr>\n",
       "      <th>3</th>\n",
       "      <td>4</td>\n",
       "      <td>Wii Sports Resort</td>\n",
       "      <td>Wii</td>\n",
       "      <td>2009.0</td>\n",
       "      <td>Sports</td>\n",
       "      <td>Nintendo</td>\n",
       "      <td>15.75</td>\n",
       "      <td>11.01</td>\n",
       "      <td>3.28</td>\n",
       "      <td>2.96</td>\n",
       "      <td>33.00</td>\n",
       "    </tr>\n",
       "    <tr>\n",
       "      <th>4</th>\n",
       "      <td>5</td>\n",
       "      <td>Pokemon Red/Pokemon Blue</td>\n",
       "      <td>GB</td>\n",
       "      <td>1996.0</td>\n",
       "      <td>Role-Playing</td>\n",
       "      <td>Nintendo</td>\n",
       "      <td>11.27</td>\n",
       "      <td>8.89</td>\n",
       "      <td>10.22</td>\n",
       "      <td>1.00</td>\n",
       "      <td>31.37</td>\n",
       "    </tr>\n",
       "  </tbody>\n",
       "</table>\n",
       "</div>"
      ],
      "text/plain": [
       "   Rank                      Name Platform    Year         Genre Publisher  \\\n",
       "0     1                Wii Sports      Wii  2006.0        Sports  Nintendo   \n",
       "1     2         Super Mario Bros.      NES  1985.0      Platform  Nintendo   \n",
       "2     3            Mario Kart Wii      Wii  2008.0        Racing  Nintendo   \n",
       "3     4         Wii Sports Resort      Wii  2009.0        Sports  Nintendo   \n",
       "4     5  Pokemon Red/Pokemon Blue       GB  1996.0  Role-Playing  Nintendo   \n",
       "\n",
       "   NA_Sales  EU_Sales  JP_Sales  Other_Sales  Global_Sales  \n",
       "0     41.49     29.02      3.77         8.46         82.74  \n",
       "1     29.08      3.58      6.81         0.77         40.24  \n",
       "2     15.85     12.88      3.79         3.31         35.82  \n",
       "3     15.75     11.01      3.28         2.96         33.00  \n",
       "4     11.27      8.89     10.22         1.00         31.37  "
      ]
     },
     "execution_count": 16,
     "metadata": {},
     "output_type": "execute_result"
    }
   ],
   "source": [
    "## See the data\n",
    "df.head()"
   ]
  },
  {
   "cell_type": "markdown",
   "metadata": {
    "deletable": false,
    "editable": false,
    "nbgrader": {
     "grade": false,
     "locked": true,
     "solution": false
    }
   },
   "source": [
    "[Back to top](#Index:) \n",
    "\n",
    "### Question 5\n",
    "*5 points*\n",
    "\n",
    "How many videogames were released after 2001? Store final result in a variable called `count_2001`. The final result will have to be an integer."
   ]
  },
  {
   "cell_type": "code",
   "execution_count": 17,
   "metadata": {},
   "outputs": [
    {
     "data": {
      "text/plain": [
       "13522"
      ]
     },
     "execution_count": 17,
     "metadata": {},
     "output_type": "execute_result"
    }
   ],
   "source": [
    "df[df['Year']>2001]['Year'].count()"
   ]
  },
  {
   "cell_type": "code",
   "execution_count": 18,
   "metadata": {},
   "outputs": [],
   "source": [
    "### GRADED\n",
    "\n",
    "### YOUR SOLUTION HERE\n",
    "\n",
    "\n",
    "\n",
    "count_2001 = df[df['Year']>2001]['Year'].count()\n",
    "\n",
    "###\n",
    "### YOUR CODE HERE\n",
    "###\n"
   ]
  },
  {
   "cell_type": "code",
   "execution_count": 19,
   "metadata": {},
   "outputs": [
    {
     "data": {
      "text/plain": [
       "13522"
      ]
     },
     "execution_count": 19,
     "metadata": {},
     "output_type": "execute_result"
    }
   ],
   "source": [
    "count_2001"
   ]
  },
  {
   "cell_type": "code",
   "execution_count": 20,
   "metadata": {
    "deletable": false,
    "editable": false,
    "nbgrader": {
     "grade": true,
     "grade_id": "Question 05",
     "locked": true,
     "points": "5",
     "solution": false
    }
   },
   "outputs": [],
   "source": [
    "###\n",
    "### AUTOGRADER TEST - DO NOT REMOVE\n",
    "###\n"
   ]
  },
  {
   "cell_type": "markdown",
   "metadata": {
    "deletable": false,
    "editable": false,
    "nbgrader": {
     "grade": false,
     "locked": true,
     "solution": false
    }
   },
   "source": [
    "[Back to top](#Index:) \n",
    "\n",
    "### Question 6\n",
    "*10 points*\n",
    "\n",
    "In a new dataframe called `df_nintendo_years`, include the best selling years from the `Publisher` Nintendo. \n",
    "\n",
    "We define a good year as a year when the \"Global_Sales\" exceeded 30 million video games sold. We can accomplish this by grouping the sum of Global_Sales by year. Only include the years and Global_Sales in the new dataframe.\n",
    "\n",
    "**HINT: you can sum the Global_Sales with the command `.agg({\"Global_Sales\": \"sum\"}`**"
   ]
  },
  {
   "cell_type": "code",
   "execution_count": 21,
   "metadata": {},
   "outputs": [],
   "source": [
    "df_nintendo_years = df[df['Publisher']=='Nintendo'].groupby(by='Year').agg({\"Global_Sales\": \"sum\"})\n",
    "df_nintendo_years = df_nintendo_years[df_nintendo_years['Global_Sales']> 30]\n"
   ]
  },
  {
   "cell_type": "code",
   "execution_count": 22,
   "metadata": {},
   "outputs": [],
   "source": [
    "### GRADED\n",
    "\n",
    "\n",
    "### YOUR SOLUTION HERE\n",
    "\n",
    "df_nintendo_years = df[df['Publisher']=='Nintendo'].groupby(by='Year').agg({\"Global_Sales\": \"sum\"})\n",
    "df_nintendo_years = df_nintendo_years[df_nintendo_years['Global_Sales']> 30]\n",
    "\n",
    "\n",
    "###\n",
    "### YOUR CODE HERE\n",
    "###\n"
   ]
  },
  {
   "cell_type": "code",
   "execution_count": 23,
   "metadata": {},
   "outputs": [
    {
     "data": {
      "text/html": [
       "<div>\n",
       "<style scoped>\n",
       "    .dataframe tbody tr th:only-of-type {\n",
       "        vertical-align: middle;\n",
       "    }\n",
       "\n",
       "    .dataframe tbody tr th {\n",
       "        vertical-align: top;\n",
       "    }\n",
       "\n",
       "    .dataframe thead th {\n",
       "        text-align: right;\n",
       "    }\n",
       "</style>\n",
       "<table border=\"1\" class=\"dataframe\">\n",
       "  <thead>\n",
       "    <tr style=\"text-align: right;\">\n",
       "      <th></th>\n",
       "      <th>Global_Sales</th>\n",
       "    </tr>\n",
       "    <tr>\n",
       "      <th>Year</th>\n",
       "      <th></th>\n",
       "    </tr>\n",
       "  </thead>\n",
       "  <tbody>\n",
       "    <tr>\n",
       "      <th>1984.0</th>\n",
       "      <td>45.56</td>\n",
       "    </tr>\n",
       "    <tr>\n",
       "      <th>1985.0</th>\n",
       "      <td>49.95</td>\n",
       "    </tr>\n",
       "    <tr>\n",
       "      <th>1988.0</th>\n",
       "      <td>36.44</td>\n",
       "    </tr>\n",
       "    <tr>\n",
       "      <th>1989.0</th>\n",
       "      <td>63.88</td>\n",
       "    </tr>\n",
       "    <tr>\n",
       "      <th>1990.0</th>\n",
       "      <td>35.49</td>\n",
       "    </tr>\n",
       "    <tr>\n",
       "      <th>1992.0</th>\n",
       "      <td>38.11</td>\n",
       "    </tr>\n",
       "    <tr>\n",
       "      <th>1996.0</th>\n",
       "      <td>73.70</td>\n",
       "    </tr>\n",
       "    <tr>\n",
       "      <th>1998.0</th>\n",
       "      <td>48.41</td>\n",
       "    </tr>\n",
       "    <tr>\n",
       "      <th>1999.0</th>\n",
       "      <td>65.33</td>\n",
       "    </tr>\n",
       "    <tr>\n",
       "      <th>2000.0</th>\n",
       "      <td>34.05</td>\n",
       "    </tr>\n",
       "    <tr>\n",
       "      <th>2001.0</th>\n",
       "      <td>45.37</td>\n",
       "    </tr>\n",
       "    <tr>\n",
       "      <th>2002.0</th>\n",
       "      <td>48.31</td>\n",
       "    </tr>\n",
       "    <tr>\n",
       "      <th>2003.0</th>\n",
       "      <td>38.14</td>\n",
       "    </tr>\n",
       "    <tr>\n",
       "      <th>2004.0</th>\n",
       "      <td>60.65</td>\n",
       "    </tr>\n",
       "    <tr>\n",
       "      <th>2005.0</th>\n",
       "      <td>127.47</td>\n",
       "    </tr>\n",
       "    <tr>\n",
       "      <th>2006.0</th>\n",
       "      <td>205.61</td>\n",
       "    </tr>\n",
       "    <tr>\n",
       "      <th>2007.0</th>\n",
       "      <td>104.18</td>\n",
       "    </tr>\n",
       "    <tr>\n",
       "      <th>2008.0</th>\n",
       "      <td>91.22</td>\n",
       "    </tr>\n",
       "    <tr>\n",
       "      <th>2009.0</th>\n",
       "      <td>128.89</td>\n",
       "    </tr>\n",
       "    <tr>\n",
       "      <th>2010.0</th>\n",
       "      <td>61.07</td>\n",
       "    </tr>\n",
       "    <tr>\n",
       "      <th>2011.0</th>\n",
       "      <td>51.53</td>\n",
       "    </tr>\n",
       "    <tr>\n",
       "      <th>2012.0</th>\n",
       "      <td>56.47</td>\n",
       "    </tr>\n",
       "    <tr>\n",
       "      <th>2013.0</th>\n",
       "      <td>52.79</td>\n",
       "    </tr>\n",
       "    <tr>\n",
       "      <th>2014.0</th>\n",
       "      <td>48.65</td>\n",
       "    </tr>\n",
       "  </tbody>\n",
       "</table>\n",
       "</div>"
      ],
      "text/plain": [
       "        Global_Sales\n",
       "Year                \n",
       "1984.0         45.56\n",
       "1985.0         49.95\n",
       "1988.0         36.44\n",
       "1989.0         63.88\n",
       "1990.0         35.49\n",
       "1992.0         38.11\n",
       "1996.0         73.70\n",
       "1998.0         48.41\n",
       "1999.0         65.33\n",
       "2000.0         34.05\n",
       "2001.0         45.37\n",
       "2002.0         48.31\n",
       "2003.0         38.14\n",
       "2004.0         60.65\n",
       "2005.0        127.47\n",
       "2006.0        205.61\n",
       "2007.0        104.18\n",
       "2008.0         91.22\n",
       "2009.0        128.89\n",
       "2010.0         61.07\n",
       "2011.0         51.53\n",
       "2012.0         56.47\n",
       "2013.0         52.79\n",
       "2014.0         48.65"
      ]
     },
     "execution_count": 23,
     "metadata": {},
     "output_type": "execute_result"
    }
   ],
   "source": [
    "df_nintendo_years"
   ]
  },
  {
   "cell_type": "code",
   "execution_count": 24,
   "metadata": {
    "deletable": false,
    "editable": false,
    "nbgrader": {
     "grade": true,
     "grade_id": "Question 06",
     "locked": true,
     "points": "10",
     "solution": false
    }
   },
   "outputs": [],
   "source": [
    "###\n",
    "### AUTOGRADER TEST - DO NOT REMOVE\n",
    "###\n"
   ]
  },
  {
   "cell_type": "markdown",
   "metadata": {
    "deletable": false,
    "editable": false,
    "nbgrader": {
     "grade": false,
     "locked": true,
     "solution": false
    }
   },
   "source": [
    "[Back to top](#Index:) \n",
    "\n",
    "### Question 7\n",
    "*15 points*\n",
    "\n",
    "\n",
    "The column \"Global_Sales\" is supposed to come from summing the \"NA_Sales\", \"EU_Sales\", \"JP_Sales\" and \"Other_Sales\" columns. In this question you will confirm that. Create a new column called \"My_Global_Sales\" by applying a lambda function that is the result of summing all of the other individual sales columns for every row. \n",
    "\n",
    "Then compare \"Global_Sales\" with \"My_Global_Sales\" using the `np.isclose()` function to check if the two columns are equal (or close) with an absolute tolerance of 0.001. For Example:\n",
    "\n",
    "35.82 is close to 35.821 in our criteria but 35.82 and 35.83 are not.\n",
    "\n",
    "Store the comparison as a boolean column (True or False), and name that column \"Close\".\n",
    "\n",
    "**Hint: See the numpy documentation for [np.isclose()](https://docs.scipy.org/doc/numpy/reference/generated/numpy.isclose.html) function**."
   ]
  },
  {
   "cell_type": "code",
   "execution_count": 25,
   "metadata": {},
   "outputs": [],
   "source": [
    "df[\"My_Global_Sales\"]=df['NA_Sales']+df['EU_Sales']+df['JP_Sales']+df['Other_Sales']"
   ]
  },
  {
   "cell_type": "code",
   "execution_count": 26,
   "metadata": {},
   "outputs": [
    {
     "data": {
      "text/plain": [
       "array([ True,  True, False, ..., False,  True,  True])"
      ]
     },
     "execution_count": 26,
     "metadata": {},
     "output_type": "execute_result"
    }
   ],
   "source": [
    "\n",
    "\n",
    "np.isclose(df['Global_Sales'],df['My_Global_Sales'],atol= 0.001)"
   ]
  },
  {
   "cell_type": "code",
   "execution_count": 27,
   "metadata": {},
   "outputs": [],
   "source": [
    "### GRADED\n",
    "\n",
    "\n",
    "### YOUR SOLUTION HERE\n",
    "df[\"My_Global_Sales\"] = df['NA_Sales']+df['EU_Sales']+df['JP_Sales']+df['Other_Sales']\n",
    "df[\"Close\"] = np.isclose(df['Global_Sales'],df['My_Global_Sales'],atol= 0.001)\n",
    "\n",
    "###\n",
    "### YOUR CODE HERE\n",
    "###\n"
   ]
  },
  {
   "cell_type": "code",
   "execution_count": 28,
   "metadata": {},
   "outputs": [
    {
     "data": {
      "text/html": [
       "<div>\n",
       "<style scoped>\n",
       "    .dataframe tbody tr th:only-of-type {\n",
       "        vertical-align: middle;\n",
       "    }\n",
       "\n",
       "    .dataframe tbody tr th {\n",
       "        vertical-align: top;\n",
       "    }\n",
       "\n",
       "    .dataframe thead th {\n",
       "        text-align: right;\n",
       "    }\n",
       "</style>\n",
       "<table border=\"1\" class=\"dataframe\">\n",
       "  <thead>\n",
       "    <tr style=\"text-align: right;\">\n",
       "      <th></th>\n",
       "      <th>Rank</th>\n",
       "      <th>Name</th>\n",
       "      <th>Platform</th>\n",
       "      <th>Year</th>\n",
       "      <th>Genre</th>\n",
       "      <th>Publisher</th>\n",
       "      <th>NA_Sales</th>\n",
       "      <th>EU_Sales</th>\n",
       "      <th>JP_Sales</th>\n",
       "      <th>Other_Sales</th>\n",
       "      <th>Global_Sales</th>\n",
       "      <th>My_Global_Sales</th>\n",
       "      <th>Close</th>\n",
       "    </tr>\n",
       "  </thead>\n",
       "  <tbody>\n",
       "    <tr>\n",
       "      <th>0</th>\n",
       "      <td>1</td>\n",
       "      <td>Wii Sports</td>\n",
       "      <td>Wii</td>\n",
       "      <td>2006.0</td>\n",
       "      <td>Sports</td>\n",
       "      <td>Nintendo</td>\n",
       "      <td>41.49</td>\n",
       "      <td>29.02</td>\n",
       "      <td>3.77</td>\n",
       "      <td>8.46</td>\n",
       "      <td>82.74</td>\n",
       "      <td>82.74</td>\n",
       "      <td>True</td>\n",
       "    </tr>\n",
       "    <tr>\n",
       "      <th>1</th>\n",
       "      <td>2</td>\n",
       "      <td>Super Mario Bros.</td>\n",
       "      <td>NES</td>\n",
       "      <td>1985.0</td>\n",
       "      <td>Platform</td>\n",
       "      <td>Nintendo</td>\n",
       "      <td>29.08</td>\n",
       "      <td>3.58</td>\n",
       "      <td>6.81</td>\n",
       "      <td>0.77</td>\n",
       "      <td>40.24</td>\n",
       "      <td>40.24</td>\n",
       "      <td>True</td>\n",
       "    </tr>\n",
       "    <tr>\n",
       "      <th>2</th>\n",
       "      <td>3</td>\n",
       "      <td>Mario Kart Wii</td>\n",
       "      <td>Wii</td>\n",
       "      <td>2008.0</td>\n",
       "      <td>Racing</td>\n",
       "      <td>Nintendo</td>\n",
       "      <td>15.85</td>\n",
       "      <td>12.88</td>\n",
       "      <td>3.79</td>\n",
       "      <td>3.31</td>\n",
       "      <td>35.82</td>\n",
       "      <td>35.83</td>\n",
       "      <td>False</td>\n",
       "    </tr>\n",
       "    <tr>\n",
       "      <th>3</th>\n",
       "      <td>4</td>\n",
       "      <td>Wii Sports Resort</td>\n",
       "      <td>Wii</td>\n",
       "      <td>2009.0</td>\n",
       "      <td>Sports</td>\n",
       "      <td>Nintendo</td>\n",
       "      <td>15.75</td>\n",
       "      <td>11.01</td>\n",
       "      <td>3.28</td>\n",
       "      <td>2.96</td>\n",
       "      <td>33.00</td>\n",
       "      <td>33.00</td>\n",
       "      <td>True</td>\n",
       "    </tr>\n",
       "    <tr>\n",
       "      <th>4</th>\n",
       "      <td>5</td>\n",
       "      <td>Pokemon Red/Pokemon Blue</td>\n",
       "      <td>GB</td>\n",
       "      <td>1996.0</td>\n",
       "      <td>Role-Playing</td>\n",
       "      <td>Nintendo</td>\n",
       "      <td>11.27</td>\n",
       "      <td>8.89</td>\n",
       "      <td>10.22</td>\n",
       "      <td>1.00</td>\n",
       "      <td>31.37</td>\n",
       "      <td>31.38</td>\n",
       "      <td>False</td>\n",
       "    </tr>\n",
       "    <tr>\n",
       "      <th>...</th>\n",
       "      <td>...</td>\n",
       "      <td>...</td>\n",
       "      <td>...</td>\n",
       "      <td>...</td>\n",
       "      <td>...</td>\n",
       "      <td>...</td>\n",
       "      <td>...</td>\n",
       "      <td>...</td>\n",
       "      <td>...</td>\n",
       "      <td>...</td>\n",
       "      <td>...</td>\n",
       "      <td>...</td>\n",
       "      <td>...</td>\n",
       "    </tr>\n",
       "    <tr>\n",
       "      <th>16593</th>\n",
       "      <td>16596</td>\n",
       "      <td>Woody Woodpecker in Crazy Castle 5</td>\n",
       "      <td>GBA</td>\n",
       "      <td>2002.0</td>\n",
       "      <td>Platform</td>\n",
       "      <td>Kemco</td>\n",
       "      <td>0.01</td>\n",
       "      <td>0.00</td>\n",
       "      <td>0.00</td>\n",
       "      <td>0.00</td>\n",
       "      <td>0.01</td>\n",
       "      <td>0.01</td>\n",
       "      <td>True</td>\n",
       "    </tr>\n",
       "    <tr>\n",
       "      <th>16594</th>\n",
       "      <td>16597</td>\n",
       "      <td>Men in Black II: Alien Escape</td>\n",
       "      <td>GC</td>\n",
       "      <td>2003.0</td>\n",
       "      <td>Shooter</td>\n",
       "      <td>Infogrames</td>\n",
       "      <td>0.01</td>\n",
       "      <td>0.00</td>\n",
       "      <td>0.00</td>\n",
       "      <td>0.00</td>\n",
       "      <td>0.01</td>\n",
       "      <td>0.01</td>\n",
       "      <td>True</td>\n",
       "    </tr>\n",
       "    <tr>\n",
       "      <th>16595</th>\n",
       "      <td>16598</td>\n",
       "      <td>SCORE International Baja 1000: The Official Game</td>\n",
       "      <td>PS2</td>\n",
       "      <td>2008.0</td>\n",
       "      <td>Racing</td>\n",
       "      <td>Activision</td>\n",
       "      <td>0.00</td>\n",
       "      <td>0.00</td>\n",
       "      <td>0.00</td>\n",
       "      <td>0.00</td>\n",
       "      <td>0.01</td>\n",
       "      <td>0.00</td>\n",
       "      <td>False</td>\n",
       "    </tr>\n",
       "    <tr>\n",
       "      <th>16596</th>\n",
       "      <td>16599</td>\n",
       "      <td>Know How 2</td>\n",
       "      <td>DS</td>\n",
       "      <td>2010.0</td>\n",
       "      <td>Puzzle</td>\n",
       "      <td>7G//AMES</td>\n",
       "      <td>0.00</td>\n",
       "      <td>0.01</td>\n",
       "      <td>0.00</td>\n",
       "      <td>0.00</td>\n",
       "      <td>0.01</td>\n",
       "      <td>0.01</td>\n",
       "      <td>True</td>\n",
       "    </tr>\n",
       "    <tr>\n",
       "      <th>16597</th>\n",
       "      <td>16600</td>\n",
       "      <td>Spirits &amp; Spells</td>\n",
       "      <td>GBA</td>\n",
       "      <td>2003.0</td>\n",
       "      <td>Platform</td>\n",
       "      <td>Wanadoo</td>\n",
       "      <td>0.01</td>\n",
       "      <td>0.00</td>\n",
       "      <td>0.00</td>\n",
       "      <td>0.00</td>\n",
       "      <td>0.01</td>\n",
       "      <td>0.01</td>\n",
       "      <td>True</td>\n",
       "    </tr>\n",
       "  </tbody>\n",
       "</table>\n",
       "<p>16598 rows × 13 columns</p>\n",
       "</div>"
      ],
      "text/plain": [
       "        Rank                                              Name Platform  \\\n",
       "0          1                                        Wii Sports      Wii   \n",
       "1          2                                 Super Mario Bros.      NES   \n",
       "2          3                                    Mario Kart Wii      Wii   \n",
       "3          4                                 Wii Sports Resort      Wii   \n",
       "4          5                          Pokemon Red/Pokemon Blue       GB   \n",
       "...      ...                                               ...      ...   \n",
       "16593  16596                Woody Woodpecker in Crazy Castle 5      GBA   \n",
       "16594  16597                     Men in Black II: Alien Escape       GC   \n",
       "16595  16598  SCORE International Baja 1000: The Official Game      PS2   \n",
       "16596  16599                                        Know How 2       DS   \n",
       "16597  16600                                  Spirits & Spells      GBA   \n",
       "\n",
       "         Year         Genre   Publisher  NA_Sales  EU_Sales  JP_Sales  \\\n",
       "0      2006.0        Sports    Nintendo     41.49     29.02      3.77   \n",
       "1      1985.0      Platform    Nintendo     29.08      3.58      6.81   \n",
       "2      2008.0        Racing    Nintendo     15.85     12.88      3.79   \n",
       "3      2009.0        Sports    Nintendo     15.75     11.01      3.28   \n",
       "4      1996.0  Role-Playing    Nintendo     11.27      8.89     10.22   \n",
       "...       ...           ...         ...       ...       ...       ...   \n",
       "16593  2002.0      Platform       Kemco      0.01      0.00      0.00   \n",
       "16594  2003.0       Shooter  Infogrames      0.01      0.00      0.00   \n",
       "16595  2008.0        Racing  Activision      0.00      0.00      0.00   \n",
       "16596  2010.0        Puzzle    7G//AMES      0.00      0.01      0.00   \n",
       "16597  2003.0      Platform     Wanadoo      0.01      0.00      0.00   \n",
       "\n",
       "       Other_Sales  Global_Sales  My_Global_Sales  Close  \n",
       "0             8.46         82.74            82.74   True  \n",
       "1             0.77         40.24            40.24   True  \n",
       "2             3.31         35.82            35.83  False  \n",
       "3             2.96         33.00            33.00   True  \n",
       "4             1.00         31.37            31.38  False  \n",
       "...            ...           ...              ...    ...  \n",
       "16593         0.00          0.01             0.01   True  \n",
       "16594         0.00          0.01             0.01   True  \n",
       "16595         0.00          0.01             0.00  False  \n",
       "16596         0.00          0.01             0.01   True  \n",
       "16597         0.00          0.01             0.01   True  \n",
       "\n",
       "[16598 rows x 13 columns]"
      ]
     },
     "execution_count": 28,
     "metadata": {},
     "output_type": "execute_result"
    }
   ],
   "source": [
    "df"
   ]
  },
  {
   "cell_type": "code",
   "execution_count": 29,
   "metadata": {
    "deletable": false,
    "editable": false,
    "nbgrader": {
     "grade": true,
     "grade_id": "Question 07",
     "locked": true,
     "points": "15",
     "solution": false
    }
   },
   "outputs": [],
   "source": [
    "###\n",
    "### AUTOGRADER TEST - DO NOT REMOVE\n",
    "###\n"
   ]
  },
  {
   "cell_type": "markdown",
   "metadata": {
    "deletable": false,
    "editable": false,
    "nbgrader": {
     "grade": false,
     "locked": true,
     "solution": false
    }
   },
   "source": [
    "## Data Visualization\n",
    "\n",
    "IMPORTANT INSTRUCTIONS:\n",
    "\n",
    "- To be able to test for this part of the assignment, you will be asked to save your figures as PNG into a folder called \"results\". Please don't change the name we ask you to give to the plots so you are able to get all the points in every question. The code you will use to save the PNG files is (for example): plt.savefig(\"results/plot.png\")\n",
    "- Don't add any customization you're not asked to in the plots."
   ]
  },
  {
   "cell_type": "markdown",
   "metadata": {
    "deletable": false,
    "editable": false,
    "nbgrader": {
     "grade": false,
     "locked": true,
     "solution": false
    }
   },
   "source": [
    "[Back to top](#Index:) \n",
    "\n",
    "### Question 8\n",
    "*20 points*\n",
    "    \n",
    "Given the iris dataset create a scatter plot of the sepal length (cm) vs the petal width (cm) by using a `for` loop with a range of 0 to 3. Define `species_df = iris_df[iris_df['species'] == i]`. In the scatter plot for sepal length (cm) and the petal width (cm) have color equal `colours`, alpha equal 0.5, and label equal `species`. Plot this with these customizations:\n",
    "\n",
    "- The colors of the species should follow the colours and species lists from below.\n",
    "- X-label: 'sepal length (cm)'\n",
    "- Y-label: 'petal width (cm)'\n",
    "- Title: 'Iris dataset: sepal length vs petal width'\n",
    "- Legend = Should be displayed with the argument loc=\"lower right\".\n",
    "\n",
    "Save your plot as a png with the name \"plot1.png\" in the folder \"results\"."
   ]
  },
  {
   "cell_type": "code",
   "execution_count": 30,
   "metadata": {
    "nbgrader": {
     "grade": false,
     "grade_id": "Question 08",
     "locked": false,
     "points": "20",
     "solution": false
    }
   },
   "outputs": [
    {
     "data": {
      "image/png": "[encoded data removed]",
      "text/plain": [
       "<Figure size 432x288 with 1 Axes>"
      ]
     },
     "metadata": {
      "needs_background": "light"
     },
     "output_type": "display_data"
    }
   ],
   "source": [
    "### GRADED \n",
    "\n",
    "# Data\n",
    "iris = datasets.load_iris()\n",
    "iris_df = pd.DataFrame(iris['data'], columns=iris['feature_names'])\n",
    "iris_df['species'] = iris['target']\n",
    "\n",
    "# Set color and names for legend\n",
    "colours = ['red', 'orange', 'blue']\n",
    "species = ['I. setosa', 'I. versicolor', 'I. virginica']\n",
    "\n",
    "### YOUR SOLUTION HERE\n",
    "\n",
    "for i in range(0,3):\n",
    "    species_df = iris_df[iris_df['species'] == i]\n",
    "    x = species_df['sepal length (cm)']\n",
    "    y = species_df['petal width (cm)']\n",
    "    plt.scatter(x, y, color=colours[i], alpha=0.5)\n",
    "\n",
    "plt.xlabel('sepal length (cm)')\n",
    "plt.ylabel('petal width (cm)')\n",
    "plt.title('Iris dataset: sepal length vs petal width')\n",
    "plt.legend(species,loc=\"lower right\")\n",
    "\n",
    "plt.savefig('results/plot1.png')\n",
    "\n",
    "###\n",
    "### YOUR CODE HERE\n",
    "###\n"
   ]
  },
  {
   "cell_type": "code",
   "execution_count": 31,
   "metadata": {},
   "outputs": [
    {
     "data": {
      "text/plain": [
       "0      0\n",
       "1      0\n",
       "2      0\n",
       "3      0\n",
       "4      0\n",
       "      ..\n",
       "145    2\n",
       "146    2\n",
       "147    2\n",
       "148    2\n",
       "149    2\n",
       "Name: species, Length: 150, dtype: int64"
      ]
     },
     "execution_count": 31,
     "metadata": {},
     "output_type": "execute_result"
    }
   ],
   "source": [
    "iris_df['species']"
   ]
  },
  {
   "cell_type": "code",
   "execution_count": 32,
   "metadata": {
    "deletable": false,
    "editable": false,
    "nbgrader": {
     "grade": true,
     "grade_id": "Question 08",
     "locked": true,
     "points": "20",
     "solution": false
    }
   },
   "outputs": [],
   "source": [
    "###\n",
    "### AUTOGRADER TEST - DO NOT REMOVE\n",
    "###\n"
   ]
  },
  {
   "cell_type": "markdown",
   "metadata": {
    "deletable": false,
    "editable": false,
    "nbgrader": {
     "grade": false,
     "locked": true,
     "solution": false
    }
   },
   "source": [
    "[Back to top](#Index:) \n",
    "\n",
    "### Question 9\n",
    "*20 points*\n",
    "    \n",
    "Given the Boston dataset, create a heatmap (using seaborn) for the correlation matrix. First you have to create the correlation matrix from the pandas dataframe (save it in a dataframe called `corr`) and then plot it using seaborn with these customizations:\n",
    "\n",
    "- Set the seaborn style to white.\n",
    "- Generate a mask using `np.triu(np.ones_like())` with the dtype as boolean to only show the lower triangle of the correlation matrix. Save it in a variable called `mask`.\n",
    "- Set up the figure with matplotlib with `figsize=(11,9)`. Use `fig, ax = ...`\n",
    "- Generate a custom diverging colormap for the heatmap with the arguments `(220, 10, as_cmap=True)`. Save it in a variable called `cmap`.\n",
    "- Draw the heatmap with the mask and correct aspect ratio,  using the arguments `corr, mask=mask, cmap=cmap, vmax=.3, center=0, square=True, linewidths=.5, cbar_kws={\"shrink\": .5})`.\n",
    "\n",
    "You can find more information about how to create a heatmap using seaborn [here](https://seaborn.pydata.org/generated/seaborn.heatmap.html).\n",
    "\n",
    "The final plot should look like this:\n",
    "\n",
    "![](images/1.png)\n",
    "\n",
    "**Save your plot as a png with the name \"plot2.png\" in the folder \"results\".**"
   ]
  },
  {
   "cell_type": "code",
   "execution_count": 33,
   "metadata": {},
   "outputs": [
    {
     "data": {
      "image/png": "[encoded data removed]",
      "text/plain": [
       "<Figure size 792x648 with 2 Axes>"
      ]
     },
     "metadata": {},
     "output_type": "display_data"
    }
   ],
   "source": [
    "### GRADED \n",
    "\n",
    "# Data\n",
    "boston = datasets.load_boston()\n",
    "boston_df = pd.DataFrame(boston['data'], columns=boston['feature_names'])\n",
    "boston_df['PRICE'] = boston.target\n",
    "\n",
    "### YOUR SOLUTION HERE\n",
    "\n",
    "sns.set_style(\"white\")\n",
    "corr = boston_df.corr()\n",
    "\n",
    "mask = np.zeros_like(corr)\n",
    "\n",
    "mask[np.triu_indices_from(mask)] = True\n",
    "\n",
    "cmap = sns.diverging_palette(220, 20, sep=20, as_cmap=True)\n",
    "\n",
    "\n",
    "\n",
    "with sns.axes_style(\"white\"):\n",
    "\n",
    "    f, ax = plt.subplots(figsize=(11, 9))\n",
    "\n",
    "    ax = sns.heatmap(corr, mask=mask, cmap=cmap, vmax=.3, center=0, square=True, \\\n",
    "                     linewidths=.5, cbar_kws={\"shrink\": .5})\n",
    "plt.savefig('results/plot2.png')\n",
    "###\n",
    "### YOUR CODE HERE\n",
    "###\n"
   ]
  },
  {
   "cell_type": "code",
   "execution_count": 34,
   "metadata": {},
   "outputs": [
    {
     "data": {
      "text/html": [
       "<div>\n",
       "<style scoped>\n",
       "    .dataframe tbody tr th:only-of-type {\n",
       "        vertical-align: middle;\n",
       "    }\n",
       "\n",
       "    .dataframe tbody tr th {\n",
       "        vertical-align: top;\n",
       "    }\n",
       "\n",
       "    .dataframe thead th {\n",
       "        text-align: right;\n",
       "    }\n",
       "</style>\n",
       "<table border=\"1\" class=\"dataframe\">\n",
       "  <thead>\n",
       "    <tr style=\"text-align: right;\">\n",
       "      <th></th>\n",
       "      <th>CRIM</th>\n",
       "      <th>ZN</th>\n",
       "      <th>INDUS</th>\n",
       "      <th>CHAS</th>\n",
       "      <th>NOX</th>\n",
       "      <th>RM</th>\n",
       "      <th>AGE</th>\n",
       "      <th>DIS</th>\n",
       "      <th>RAD</th>\n",
       "      <th>TAX</th>\n",
       "      <th>PTRATIO</th>\n",
       "      <th>B</th>\n",
       "      <th>LSTAT</th>\n",
       "      <th>PRICE</th>\n",
       "    </tr>\n",
       "  </thead>\n",
       "  <tbody>\n",
       "    <tr>\n",
       "      <th>CRIM</th>\n",
       "      <td>1.000000</td>\n",
       "      <td>-0.200469</td>\n",
       "      <td>0.406583</td>\n",
       "      <td>-0.055892</td>\n",
       "      <td>0.420972</td>\n",
       "      <td>-0.219247</td>\n",
       "      <td>0.352734</td>\n",
       "      <td>-0.379670</td>\n",
       "      <td>0.625505</td>\n",
       "      <td>0.582764</td>\n",
       "      <td>0.289946</td>\n",
       "      <td>-0.385064</td>\n",
       "      <td>0.455621</td>\n",
       "      <td>-0.388305</td>\n",
       "    </tr>\n",
       "    <tr>\n",
       "      <th>ZN</th>\n",
       "      <td>-0.200469</td>\n",
       "      <td>1.000000</td>\n",
       "      <td>-0.533828</td>\n",
       "      <td>-0.042697</td>\n",
       "      <td>-0.516604</td>\n",
       "      <td>0.311991</td>\n",
       "      <td>-0.569537</td>\n",
       "      <td>0.664408</td>\n",
       "      <td>-0.311948</td>\n",
       "      <td>-0.314563</td>\n",
       "      <td>-0.391679</td>\n",
       "      <td>0.175520</td>\n",
       "      <td>-0.412995</td>\n",
       "      <td>0.360445</td>\n",
       "    </tr>\n",
       "    <tr>\n",
       "      <th>INDUS</th>\n",
       "      <td>0.406583</td>\n",
       "      <td>-0.533828</td>\n",
       "      <td>1.000000</td>\n",
       "      <td>0.062938</td>\n",
       "      <td>0.763651</td>\n",
       "      <td>-0.391676</td>\n",
       "      <td>0.644779</td>\n",
       "      <td>-0.708027</td>\n",
       "      <td>0.595129</td>\n",
       "      <td>0.720760</td>\n",
       "      <td>0.383248</td>\n",
       "      <td>-0.356977</td>\n",
       "      <td>0.603800</td>\n",
       "      <td>-0.483725</td>\n",
       "    </tr>\n",
       "    <tr>\n",
       "      <th>CHAS</th>\n",
       "      <td>-0.055892</td>\n",
       "      <td>-0.042697</td>\n",
       "      <td>0.062938</td>\n",
       "      <td>1.000000</td>\n",
       "      <td>0.091203</td>\n",
       "      <td>0.091251</td>\n",
       "      <td>0.086518</td>\n",
       "      <td>-0.099176</td>\n",
       "      <td>-0.007368</td>\n",
       "      <td>-0.035587</td>\n",
       "      <td>-0.121515</td>\n",
       "      <td>0.048788</td>\n",
       "      <td>-0.053929</td>\n",
       "      <td>0.175260</td>\n",
       "    </tr>\n",
       "    <tr>\n",
       "      <th>NOX</th>\n",
       "      <td>0.420972</td>\n",
       "      <td>-0.516604</td>\n",
       "      <td>0.763651</td>\n",
       "      <td>0.091203</td>\n",
       "      <td>1.000000</td>\n",
       "      <td>-0.302188</td>\n",
       "      <td>0.731470</td>\n",
       "      <td>-0.769230</td>\n",
       "      <td>0.611441</td>\n",
       "      <td>0.668023</td>\n",
       "      <td>0.188933</td>\n",
       "      <td>-0.380051</td>\n",
       "      <td>0.590879</td>\n",
       "      <td>-0.427321</td>\n",
       "    </tr>\n",
       "    <tr>\n",
       "      <th>RM</th>\n",
       "      <td>-0.219247</td>\n",
       "      <td>0.311991</td>\n",
       "      <td>-0.391676</td>\n",
       "      <td>0.091251</td>\n",
       "      <td>-0.302188</td>\n",
       "      <td>1.000000</td>\n",
       "      <td>-0.240265</td>\n",
       "      <td>0.205246</td>\n",
       "      <td>-0.209847</td>\n",
       "      <td>-0.292048</td>\n",
       "      <td>-0.355501</td>\n",
       "      <td>0.128069</td>\n",
       "      <td>-0.613808</td>\n",
       "      <td>0.695360</td>\n",
       "    </tr>\n",
       "    <tr>\n",
       "      <th>AGE</th>\n",
       "      <td>0.352734</td>\n",
       "      <td>-0.569537</td>\n",
       "      <td>0.644779</td>\n",
       "      <td>0.086518</td>\n",
       "      <td>0.731470</td>\n",
       "      <td>-0.240265</td>\n",
       "      <td>1.000000</td>\n",
       "      <td>-0.747881</td>\n",
       "      <td>0.456022</td>\n",
       "      <td>0.506456</td>\n",
       "      <td>0.261515</td>\n",
       "      <td>-0.273534</td>\n",
       "      <td>0.602339</td>\n",
       "      <td>-0.376955</td>\n",
       "    </tr>\n",
       "    <tr>\n",
       "      <th>DIS</th>\n",
       "      <td>-0.379670</td>\n",
       "      <td>0.664408</td>\n",
       "      <td>-0.708027</td>\n",
       "      <td>-0.099176</td>\n",
       "      <td>-0.769230</td>\n",
       "      <td>0.205246</td>\n",
       "      <td>-0.747881</td>\n",
       "      <td>1.000000</td>\n",
       "      <td>-0.494588</td>\n",
       "      <td>-0.534432</td>\n",
       "      <td>-0.232471</td>\n",
       "      <td>0.291512</td>\n",
       "      <td>-0.496996</td>\n",
       "      <td>0.249929</td>\n",
       "    </tr>\n",
       "    <tr>\n",
       "      <th>RAD</th>\n",
       "      <td>0.625505</td>\n",
       "      <td>-0.311948</td>\n",
       "      <td>0.595129</td>\n",
       "      <td>-0.007368</td>\n",
       "      <td>0.611441</td>\n",
       "      <td>-0.209847</td>\n",
       "      <td>0.456022</td>\n",
       "      <td>-0.494588</td>\n",
       "      <td>1.000000</td>\n",
       "      <td>0.910228</td>\n",
       "      <td>0.464741</td>\n",
       "      <td>-0.444413</td>\n",
       "      <td>0.488676</td>\n",
       "      <td>-0.381626</td>\n",
       "    </tr>\n",
       "    <tr>\n",
       "      <th>TAX</th>\n",
       "      <td>0.582764</td>\n",
       "      <td>-0.314563</td>\n",
       "      <td>0.720760</td>\n",
       "      <td>-0.035587</td>\n",
       "      <td>0.668023</td>\n",
       "      <td>-0.292048</td>\n",
       "      <td>0.506456</td>\n",
       "      <td>-0.534432</td>\n",
       "      <td>0.910228</td>\n",
       "      <td>1.000000</td>\n",
       "      <td>0.460853</td>\n",
       "      <td>-0.441808</td>\n",
       "      <td>0.543993</td>\n",
       "      <td>-0.468536</td>\n",
       "    </tr>\n",
       "    <tr>\n",
       "      <th>PTRATIO</th>\n",
       "      <td>0.289946</td>\n",
       "      <td>-0.391679</td>\n",
       "      <td>0.383248</td>\n",
       "      <td>-0.121515</td>\n",
       "      <td>0.188933</td>\n",
       "      <td>-0.355501</td>\n",
       "      <td>0.261515</td>\n",
       "      <td>-0.232471</td>\n",
       "      <td>0.464741</td>\n",
       "      <td>0.460853</td>\n",
       "      <td>1.000000</td>\n",
       "      <td>-0.177383</td>\n",
       "      <td>0.374044</td>\n",
       "      <td>-0.507787</td>\n",
       "    </tr>\n",
       "    <tr>\n",
       "      <th>B</th>\n",
       "      <td>-0.385064</td>\n",
       "      <td>0.175520</td>\n",
       "      <td>-0.356977</td>\n",
       "      <td>0.048788</td>\n",
       "      <td>-0.380051</td>\n",
       "      <td>0.128069</td>\n",
       "      <td>-0.273534</td>\n",
       "      <td>0.291512</td>\n",
       "      <td>-0.444413</td>\n",
       "      <td>-0.441808</td>\n",
       "      <td>-0.177383</td>\n",
       "      <td>1.000000</td>\n",
       "      <td>-0.366087</td>\n",
       "      <td>0.333461</td>\n",
       "    </tr>\n",
       "    <tr>\n",
       "      <th>LSTAT</th>\n",
       "      <td>0.455621</td>\n",
       "      <td>-0.412995</td>\n",
       "      <td>0.603800</td>\n",
       "      <td>-0.053929</td>\n",
       "      <td>0.590879</td>\n",
       "      <td>-0.613808</td>\n",
       "      <td>0.602339</td>\n",
       "      <td>-0.496996</td>\n",
       "      <td>0.488676</td>\n",
       "      <td>0.543993</td>\n",
       "      <td>0.374044</td>\n",
       "      <td>-0.366087</td>\n",
       "      <td>1.000000</td>\n",
       "      <td>-0.737663</td>\n",
       "    </tr>\n",
       "    <tr>\n",
       "      <th>PRICE</th>\n",
       "      <td>-0.388305</td>\n",
       "      <td>0.360445</td>\n",
       "      <td>-0.483725</td>\n",
       "      <td>0.175260</td>\n",
       "      <td>-0.427321</td>\n",
       "      <td>0.695360</td>\n",
       "      <td>-0.376955</td>\n",
       "      <td>0.249929</td>\n",
       "      <td>-0.381626</td>\n",
       "      <td>-0.468536</td>\n",
       "      <td>-0.507787</td>\n",
       "      <td>0.333461</td>\n",
       "      <td>-0.737663</td>\n",
       "      <td>1.000000</td>\n",
       "    </tr>\n",
       "  </tbody>\n",
       "</table>\n",
       "</div>"
      ],
      "text/plain": [
       "             CRIM        ZN     INDUS      CHAS       NOX        RM       AGE  \\\n",
       "CRIM     1.000000 -0.200469  0.406583 -0.055892  0.420972 -0.219247  0.352734   \n",
       "ZN      -0.200469  1.000000 -0.533828 -0.042697 -0.516604  0.311991 -0.569537   \n",
       "INDUS    0.406583 -0.533828  1.000000  0.062938  0.763651 -0.391676  0.644779   \n",
       "CHAS    -0.055892 -0.042697  0.062938  1.000000  0.091203  0.091251  0.086518   \n",
       "NOX      0.420972 -0.516604  0.763651  0.091203  1.000000 -0.302188  0.731470   \n",
       "RM      -0.219247  0.311991 -0.391676  0.091251 -0.302188  1.000000 -0.240265   \n",
       "AGE      0.352734 -0.569537  0.644779  0.086518  0.731470 -0.240265  1.000000   \n",
       "DIS     -0.379670  0.664408 -0.708027 -0.099176 -0.769230  0.205246 -0.747881   \n",
       "RAD      0.625505 -0.311948  0.595129 -0.007368  0.611441 -0.209847  0.456022   \n",
       "TAX      0.582764 -0.314563  0.720760 -0.035587  0.668023 -0.292048  0.506456   \n",
       "PTRATIO  0.289946 -0.391679  0.383248 -0.121515  0.188933 -0.355501  0.261515   \n",
       "B       -0.385064  0.175520 -0.356977  0.048788 -0.380051  0.128069 -0.273534   \n",
       "LSTAT    0.455621 -0.412995  0.603800 -0.053929  0.590879 -0.613808  0.602339   \n",
       "PRICE   -0.388305  0.360445 -0.483725  0.175260 -0.427321  0.695360 -0.376955   \n",
       "\n",
       "              DIS       RAD       TAX   PTRATIO         B     LSTAT     PRICE  \n",
       "CRIM    -0.379670  0.625505  0.582764  0.289946 -0.385064  0.455621 -0.388305  \n",
       "ZN       0.664408 -0.311948 -0.314563 -0.391679  0.175520 -0.412995  0.360445  \n",
       "INDUS   -0.708027  0.595129  0.720760  0.383248 -0.356977  0.603800 -0.483725  \n",
       "CHAS    -0.099176 -0.007368 -0.035587 -0.121515  0.048788 -0.053929  0.175260  \n",
       "NOX     -0.769230  0.611441  0.668023  0.188933 -0.380051  0.590879 -0.427321  \n",
       "RM       0.205246 -0.209847 -0.292048 -0.355501  0.128069 -0.613808  0.695360  \n",
       "AGE     -0.747881  0.456022  0.506456  0.261515 -0.273534  0.602339 -0.376955  \n",
       "DIS      1.000000 -0.494588 -0.534432 -0.232471  0.291512 -0.496996  0.249929  \n",
       "RAD     -0.494588  1.000000  0.910228  0.464741 -0.444413  0.488676 -0.381626  \n",
       "TAX     -0.534432  0.910228  1.000000  0.460853 -0.441808  0.543993 -0.468536  \n",
       "PTRATIO -0.232471  0.464741  0.460853  1.000000 -0.177383  0.374044 -0.507787  \n",
       "B        0.291512 -0.444413 -0.441808 -0.177383  1.000000 -0.366087  0.333461  \n",
       "LSTAT   -0.496996  0.488676  0.543993  0.374044 -0.366087  1.000000 -0.737663  \n",
       "PRICE    0.249929 -0.381626 -0.468536 -0.507787  0.333461 -0.737663  1.000000  "
      ]
     },
     "execution_count": 34,
     "metadata": {},
     "output_type": "execute_result"
    }
   ],
   "source": [
    "corr"
   ]
  },
  {
   "cell_type": "code",
   "execution_count": 35,
   "metadata": {
    "deletable": false,
    "editable": false,
    "nbgrader": {
     "grade": true,
     "grade_id": "Question 09",
     "locked": true,
     "points": "20",
     "solution": false
    }
   },
   "outputs": [],
   "source": [
    "###\n",
    "### AUTOGRADER TEST - DO NOT REMOVE\n",
    "###\n"
   ]
  },
  {
   "cell_type": "markdown",
   "metadata": {
    "deletable": false,
    "editable": false,
    "nbgrader": {
     "grade": false,
     "locked": true,
     "solution": false
    }
   },
   "source": [
    "## Random Variables and Statistical Inferences"
   ]
  },
  {
   "cell_type": "markdown",
   "metadata": {
    "deletable": false,
    "editable": false,
    "nbgrader": {
     "grade": false,
     "locked": true,
     "solution": false
    }
   },
   "source": [
    "[Back to top](#Index:) \n",
    "\n",
    "### Question 10\n",
    "*10 points*\n",
    "\n",
    "Imagine that we have a t statistic with 15 degrees of freedom. For the first part of the question get the PDF for a $t$ statistic with 15 degrees of freedom and save it in a variable called `t_dist`. And then then get the CDF for the same distribution and save it in a variable called `t_cdf`. "
   ]
  },
  {
   "cell_type": "code",
   "execution_count": 36,
   "metadata": {},
   "outputs": [],
   "source": [
    "### GRADED\n",
    "\n",
    "# Calculate all below with this values\n",
    "t_values = np.linspace(-4, 4, 1000)\n",
    "\n",
    "### YOUR SOLUTION HERE\n",
    "from scipy.stats import t\n",
    "t_dist = t(15)\n",
    "t_cdf = t.cdf(t_values, df=15)\n",
    "\n",
    "###\n",
    "### YOUR CODE HERE\n",
    "###\n"
   ]
  },
  {
   "cell_type": "code",
   "execution_count": 37,
   "metadata": {
    "deletable": false,
    "editable": false,
    "nbgrader": {
     "grade": true,
     "grade_id": "Question 10",
     "locked": true,
     "points": "10",
     "solution": false
    }
   },
   "outputs": [],
   "source": [
    "###\n",
    "### AUTOGRADER TEST - DO NOT REMOVE\n",
    "###\n"
   ]
  },
  {
   "cell_type": "markdown",
   "metadata": {
    "deletable": false,
    "editable": false,
    "nbgrader": {
     "grade": false,
     "locked": true,
     "solution": false
    }
   },
   "source": [
    "Let's plot our distribution and CDF:"
   ]
  },
  {
   "cell_type": "code",
   "execution_count": 38,
   "metadata": {
    "deletable": false,
    "editable": false,
    "nbgrader": {
     "grade": false,
     "locked": true,
     "solution": false
    }
   },
   "outputs": [
    {
     "data": {
      "image/png": "[encoded data removed]",
      "text/plain": [
       "<Figure size 432x288 with 1 Axes>"
      ]
     },
     "metadata": {},
     "output_type": "display_data"
    }
   ],
   "source": [
    "import scipy.stats\n",
    "import numpy as np\n",
    "import matplotlib.pyplot as plt\n",
    "# Plot the PDF\n",
    "plt.plot(t_values, t_dist.pdf(t_values))\n",
    "plt.xlabel('t value')\n",
    "plt.ylabel('probability for t value')\n",
    "plt.title('PDF for t distribution with df=15')\n",
    "plt.show()"
   ]
  },
  {
   "cell_type": "code",
   "execution_count": 39,
   "metadata": {
    "deletable": false,
    "editable": false,
    "nbgrader": {
     "grade": false,
     "locked": true,
     "solution": false
    }
   },
   "outputs": [
    {
     "data": {
      "image/png": "[encoded data removed]",
      "text/plain": [
       "<Figure size 432x288 with 1 Axes>"
      ]
     },
     "metadata": {},
     "output_type": "display_data"
    }
   ],
   "source": [
    "# Plot the CDF\n",
    "plt.plot(t_values, t_cdf)\n",
    "plt.xlabel('t value')\n",
    "plt.ylabel('probability for t value <= t')\n",
    "plt.title('CDF for t distribution with df=15')\n",
    "plt.show()"
   ]
  },
  {
   "cell_type": "markdown",
   "metadata": {
    "deletable": false,
    "editable": false,
    "nbgrader": {
     "grade": false,
     "locked": true,
     "solution": false
    }
   },
   "source": [
    "[Back to top](#Index:) \n",
    "\n",
    "### Question 11\n",
    "*10 points*\n",
    "\n",
    "Create a function that uses a `for` loop to simulate $n$ trials of coin flips and call it `simulate`. \n",
    "\n",
    "- The function `simulate` must use the function `trial()` (define for you below) inside of its definition. The function `trial` represents a simulation of coin tosses. \n",
    "- The function `simulate()` must contain the instruction `random.seed(123)` so your results are reproducible.\n",
    "- The function `simulate` should return the average number of heads across all of the trials depending on the number $n$ chosen by the user. For this, defining an empty list `trials` inside the function `simulate` might be useful.\n",
    "\n",
    "**Hint: The function `simulate` should receive $n$ as an argument.**"
   ]
  },
  {
   "cell_type": "code",
   "execution_count": 40,
   "metadata": {},
   "outputs": [
    {
     "data": {
      "text/plain": [
       "0.61"
      ]
     },
     "execution_count": 40,
     "metadata": {},
     "output_type": "execute_result"
    }
   ],
   "source": [
    "### GRADED\n",
    "\n",
    "import random \n",
    "\n",
    "def trial():\n",
    "\n",
    "    heads = 0\n",
    "    for i in range(100):\n",
    "        if random.random() <= 0.5:\n",
    "            heads +=1\n",
    "        return heads\n",
    "\n",
    "\n",
    "### YOUR SOLUTION HERE\n",
    "def simulate(n):\n",
    "    random.seed(123)\n",
    "    trials = []\n",
    "    for i in range(n):\n",
    "        trials.append(trial())\n",
    "    return sum(trials)/n\n",
    "\n",
    "simulate(100)\n",
    "\n",
    "###\n",
    "### YOUR CODE HERE\n",
    "###\n"
   ]
  },
  {
   "cell_type": "code",
   "execution_count": 41,
   "metadata": {
    "deletable": false,
    "editable": false,
    "nbgrader": {
     "grade": false,
     "locked": true,
     "solution": false
    }
   },
   "outputs": [
    {
     "name": "stdout",
     "output_type": "stream",
     "text": [
      "1.0\n",
      "0.8\n",
      "0.7\n",
      "0.61\n",
      "0.524\n",
      "0.49993\n"
     ]
    }
   ],
   "source": [
    "# Let's use now our function to simulate different experiments\n",
    "print(simulate(1))\n",
    "print(simulate(5))\n",
    "print(simulate(10))\n",
    "print(simulate(100))\n",
    "print(simulate(1000))\n",
    "print(simulate(100000))"
   ]
  },
  {
   "cell_type": "code",
   "execution_count": 42,
   "metadata": {
    "deletable": false,
    "editable": false,
    "nbgrader": {
     "grade": true,
     "grade_id": "Question 11",
     "locked": true,
     "points": "10",
     "solution": false
    }
   },
   "outputs": [],
   "source": [
    "###\n",
    "### AUTOGRADER TEST - DO NOT REMOVE\n",
    "###\n"
   ]
  },
  {
   "cell_type": "markdown",
   "metadata": {
    "deletable": false,
    "editable": false,
    "nbgrader": {
     "grade": false,
     "locked": true,
     "solution": false
    }
   },
   "source": [
    "[Back to top](#Index:) \n",
    "\n",
    "### Question 12\n",
    "*5 points*\n",
    "\n",
    "We know that for a fair coin the number of heads and tails in $n$ trials should be something like 50% and 50%.\n",
    "\n",
    "From the above function, would you say that for a bigger $n$ value we are further or closer from that theoretical value?\n",
    "\n",
    "Answer above with the words \"further\" or \"closer\" and assign that String to the variable `ans1`."
   ]
  },
  {
   "cell_type": "code",
   "execution_count": 43,
   "metadata": {},
   "outputs": [],
   "source": [
    "### GRADED\n",
    "\n",
    "### YOUR SOLUTION HERE\n",
    "ans1 = \"closer\"\n",
    "\n",
    "###\n",
    "### YOUR CODE HERE\n",
    "###\n"
   ]
  },
  {
   "cell_type": "code",
   "execution_count": 44,
   "metadata": {
    "deletable": false,
    "editable": false,
    "nbgrader": {
     "grade": true,
     "grade_id": "Question 12",
     "locked": true,
     "points": "5",
     "solution": false
    }
   },
   "outputs": [],
   "source": [
    "###\n",
    "### AUTOGRADER TEST - DO NOT REMOVE\n",
    "###\n"
   ]
  },
  {
   "cell_type": "markdown",
   "metadata": {
    "deletable": false,
    "editable": false,
    "nbgrader": {
     "grade": false,
     "locked": true,
     "solution": false
    }
   },
   "source": [
    "## Statistical Distributions and Hypothesis Testing"
   ]
  },
  {
   "cell_type": "markdown",
   "metadata": {
    "deletable": false,
    "editable": false,
    "nbgrader": {
     "grade": false,
     "locked": true,
     "solution": false
    }
   },
   "source": [
    "[Back to top](#Index:) \n",
    "\n",
    "### Question 13\n",
    "*20 points*\n",
    "\n",
    "This question is about the Binomial distribution. Remember that the binomial distribution is the distribution found from repeating a Bernoulli trial with a $p$ chance of success  $n$ times. Let's setup an experiment. You are a data scientist and you are asked to improve the ROI (Return on Investment) of a company’s call center, where employees attempt to cold call potential customers and get them to purchase our product.\n",
    "\n",
    "You look at some historical data and find the following:\n",
    "\n",
    "- The typical call center employee completes on average 50 calls per day.\n",
    "- The probability of a conversion (purchase) for each call is 4%.\n",
    "- The average revenue to your company for each conversion is \\$20.\n",
    "- The call center you are analyzing has 100 employees.\n",
    "- Each employee is paid $200 per day of work.\n",
    "\n",
    "We can think of each employee as a binomially distributed random variable with the following parameters:\n",
    "\n",
    "- $n $= 50\n",
    "- $p$ = 4%\n",
    "\n",
    "Simulate the call center with the given data below and calculate the following (the name of the variable storing your solution is between parenthesis):\n",
    "\n",
    "- Average Conversions per Employee (`avg_conv_emp`) (Mean of conversions)\n",
    "- Standard Deviation of Conversions per Employee (`std_conv_emp`) (Standard deviation of conversions)\n",
    "- Total Conversions (`tot_conv`) (The sum of all conversions)\n",
    "- Total Revenues (`tot_revenue`) (The sum of all the conversions times the revenue per conversion)\n",
    "- Total Expenses (`tot_expenses`) (The number of employees times their wage)\n",
    "- Total Profits (`total_profit`) (This is the total revenue minus the total expenses)\n",
    "\n",
    "**Don't change the seed.**\n",
    "\n",
    "**Hint: The conversions should be calculated with the binomial distribution. You can use `np.random.binomial()` for this. Remember using the size as the number of employees.**"
   ]
  },
  {
   "cell_type": "code",
   "execution_count": 81,
   "metadata": {},
   "outputs": [],
   "source": [
    "### GRADED \n",
    "\n",
    "# Number of employees to simulate\n",
    "employees = 100\n",
    "# Cost per employee\n",
    "wage = 200\n",
    "# Number of independent calls per employee\n",
    "n = 50\n",
    "# Probability of success for each call\n",
    "p = 0.04\n",
    "# Revenue per call\n",
    "revenue = 100\n",
    "\n",
    "### YOUR SOLUTION HERE\n",
    "\n",
    "# Calculate the conversions with the binomial distriburion\n",
    "np.random.seed(123)\n",
    "conversions = np.random.binomial(n, p, size=employees)\n",
    "\n",
    "\n",
    "# Calculate all of the following using the data from above\n",
    "avg_conv_emp = conversions.mean()\n",
    "std_conv_emp = conversions.std()\n",
    "tot_conv = conversions.sum()\n",
    "tot_revenue = conversions.sum() * revenue\n",
    "tot_expenses = employees * wage\n",
    "total_profit = tot_revenue - tot_expenses\n",
    "\n",
    "###\n",
    "### YOUR CODE HERE\n",
    "###\n"
   ]
  },
  {
   "cell_type": "code",
   "execution_count": 82,
   "metadata": {},
   "outputs": [
    {
     "name": "stdout",
     "output_type": "stream",
     "text": [
      "1.95\n",
      "1.1779218989389746\n",
      "195\n",
      "19500\n",
      "20000\n",
      "-500\n"
     ]
    }
   ],
   "source": [
    "#print(conversions)\n",
    "print(avg_conv_emp)\n",
    "print(std_conv_emp)\n",
    "print(tot_conv)\n",
    "print(tot_revenue)\n",
    "print(tot_expenses)\n",
    "print(total_profit)\n"
   ]
  },
  {
   "cell_type": "code",
   "execution_count": 176,
   "metadata": {},
   "outputs": [],
   "source": [
    "mu, sigma = 0, 0.1 # mean and standard deviation\n",
    "s = np.random.normal(mu, sigma, 1000)"
   ]
  },
  {
   "cell_type": "code",
   "execution_count": 177,
   "metadata": {},
   "outputs": [
    {
     "data": {
      "text/plain": [
       "array([-2.04732020e-03, -1.25756693e-01,  9.20419303e-02, -2.08308157e-02,\n",
       "       -1.03481489e-01,  3.69728741e-02,  5.15531822e-03, -6.13188814e-02,\n",
       "       -7.69612763e-02, -1.02613958e-01,  7.35552135e-02, -1.24835648e-01,\n",
       "       -7.97506580e-02,  1.01154295e-02,  1.45888329e-01,  1.32899987e-02,\n",
       "        5.88173247e-02,  1.02209000e-02,  9.06436868e-02,  1.93756272e-01,\n",
       "       -4.37725575e-02,  1.40408180e-03,  1.73528026e-02,  5.29810066e-02,\n",
       "        1.32414977e-02, -5.43741110e-02, -7.09585957e-04,  2.43167234e-01,\n",
       "        3.13883772e-02, -1.91077044e-01, -3.94893979e-02,  1.33951297e-03,\n",
       "       -1.40574441e-02, -6.84383688e-03,  2.86267015e-02,  5.08611569e-02,\n",
       "        2.58836406e-02,  9.50624545e-02, -1.49534963e-01, -2.52657216e-02,\n",
       "        4.34267269e-02,  2.56163020e-02, -6.52299404e-02, -5.31894743e-02,\n",
       "       -8.41722268e-02,  9.76666495e-02, -1.85210325e-01, -1.28153345e-01,\n",
       "        4.18642317e-02,  5.43175190e-02, -1.58442113e-01,  6.26439750e-02,\n",
       "        1.80504634e-02,  5.15662805e-02,  7.24531298e-03,  4.25471392e-02,\n",
       "        4.60028085e-02,  4.71910415e-02,  2.44065710e-02, -8.55618417e-03,\n",
       "       -7.96419782e-03,  2.30166204e-02,  8.25414118e-02,  1.96474100e-01,\n",
       "        5.28468305e-02,  3.77407584e-02,  1.21542981e-01,  3.96459713e-02,\n",
       "       -1.06030978e-01, -7.33330693e-02,  1.82891968e-01, -7.13433401e-02,\n",
       "        5.70147325e-02, -9.88706116e-02,  1.28429374e-01, -4.60169969e-02,\n",
       "        8.27795367e-03, -2.28240948e-02,  5.04866632e-02,  1.71545051e-02,\n",
       "        9.09964137e-02,  6.55266889e-02,  2.81831502e-02,  6.51386712e-02,\n",
       "        7.00369470e-02, -3.97459170e-02, -4.73709138e-02,  1.55209501e-01,\n",
       "        7.06283143e-02,  4.04399521e-02, -8.01679037e-02, -1.78824749e-01,\n",
       "       -2.92668612e-02, -4.52659117e-02, -3.10325457e-02,  8.52856439e-02,\n",
       "        1.52740921e-01,  1.10946618e-01, -6.05716917e-02,  5.38173947e-02,\n",
       "       -4.87320536e-02, -1.84111173e-01, -7.64595508e-03,  1.26072535e-01,\n",
       "       -3.34694969e-02,  8.33224528e-02, -6.65605578e-02,  6.88498466e-02,\n",
       "       -2.43599508e-02,  1.52336855e-01, -3.13322592e-02, -5.42386264e-02,\n",
       "        1.47148767e-01, -5.76838244e-02,  2.12832607e-02, -5.69632804e-02,\n",
       "        9.24096713e-02,  1.29687967e-01, -6.74528078e-02,  5.46338856e-02,\n",
       "        6.39156957e-02,  1.26200506e-02,  1.52559115e-01,  1.51802629e-01,\n",
       "       -8.52644910e-02,  1.20865811e-01,  5.06615660e-02,  2.44007630e-02,\n",
       "       -2.32191995e-02, -1.48229182e-01,  2.83021619e-02,  3.07867587e-02,\n",
       "        1.99473395e-01, -6.74118979e-02, -1.60727120e-01, -1.17917322e-01,\n",
       "        1.59122320e-01, -4.47789618e-02,  1.36382517e-01,  6.25654097e-04,\n",
       "       -9.74686319e-02,  2.00131796e-01,  1.31777670e-01, -1.79516786e-02,\n",
       "        9.96797766e-02,  1.23062367e-02,  4.37587615e-02,  1.76232165e-01,\n",
       "       -1.51963419e-01, -3.58638891e-02,  2.92110157e-03,  3.34493208e-02,\n",
       "       -1.24868639e-01,  9.16929454e-02, -1.15396619e-01, -1.24980391e-01,\n",
       "       -2.50785066e-02,  1.89550242e-01,  2.54164106e-01,  4.88522179e-02,\n",
       "       -2.38198040e-02,  1.56312698e-02,  3.34909936e-02,  1.46639872e-01,\n",
       "       -1.21814841e-01,  1.19446481e-01, -1.42673756e-01, -4.80895709e-02,\n",
       "       -2.57086369e-04,  4.11145698e-02, -3.60451811e-04,  1.75065047e-02,\n",
       "        4.04398395e-03, -1.52074752e-01,  5.75135104e-02,  8.11305506e-02,\n",
       "        1.34265325e-01,  1.84706722e-01,  4.10833808e-02,  1.41151179e-01,\n",
       "        1.80999643e-03, -1.45041824e-01,  9.61085968e-02,  7.39523484e-02,\n",
       "        6.26831836e-05, -6.22818239e-03,  4.77999387e-02, -3.37566589e-02,\n",
       "        4.42257340e-02, -9.22194963e-02, -8.09825957e-02, -1.32058930e-01,\n",
       "        2.24405851e-01,  7.30821309e-03,  1.20825673e-01, -1.09678283e-01,\n",
       "       -1.81686478e-02,  5.51498530e-02,  1.47126213e-01, -6.02493869e-02,\n",
       "       -4.02526999e-02, -7.91952760e-02, -1.20613170e-02, -1.01984849e-01,\n",
       "       -1.43674224e-01,  2.58679085e-02,  6.70596626e-02, -1.13904289e-01,\n",
       "       -6.74492229e-02, -9.99474019e-03,  1.70675235e-01, -2.83257149e-01,\n",
       "        4.44971293e-02,  6.79253186e-02, -7.12137012e-02, -3.49229475e-02,\n",
       "        3.32990080e-02, -2.96343371e-03,  1.69906075e-01,  1.02645103e-02,\n",
       "        8.61223415e-02,  4.50257691e-02,  6.94118854e-02, -7.77388768e-02,\n",
       "        2.01189059e-02, -6.55639260e-03, -7.16225009e-02,  9.25017468e-02,\n",
       "       -2.01540141e-01,  1.34695422e-01, -2.21875525e-01, -1.53726661e-02,\n",
       "        9.41161866e-02, -1.18838187e-01,  4.23739677e-02,  3.15622331e-02,\n",
       "        3.26631962e-02, -3.48701635e-02, -4.65299163e-02, -1.57012528e-01,\n",
       "       -1.03983299e-02,  9.17510827e-02, -4.56101008e-02, -4.06224329e-02,\n",
       "        1.58966157e-01, -1.63498959e-02,  3.52159763e-02,  5.35718748e-02,\n",
       "       -1.64151585e-02,  6.81256232e-02,  9.89401064e-02,  9.03571392e-02,\n",
       "        1.01538152e-01, -2.08271626e-01, -1.17192093e-01, -5.14478097e-02,\n",
       "       -7.95954780e-02, -7.20102016e-02,  8.89563675e-02,  1.06914213e-02,\n",
       "       -1.36851929e-02, -2.25562478e-02, -4.00137638e-02, -2.41933629e-02,\n",
       "        1.38758968e-01, -1.76422256e-01,  1.27444805e-01,  2.29367708e-01,\n",
       "        1.26684306e-01, -9.89933277e-02, -4.86531271e-02,  1.03329900e-01,\n",
       "       -2.48655684e-02, -5.06010289e-02, -1.00980346e-02, -1.12185083e-01,\n",
       "       -1.30258107e-02, -1.20621568e-01,  7.22473911e-02, -8.44331245e-02,\n",
       "        5.15027200e-03, -4.44441339e-02,  3.82050678e-02,  8.22334070e-02,\n",
       "        2.86498609e-02, -7.00314900e-02, -5.63162222e-02,  2.35990021e-01,\n",
       "        9.48514080e-02, -1.97857952e-02, -5.74160804e-02, -1.43894286e-01,\n",
       "        1.12823343e-01, -7.10903288e-02,  1.05373532e-01,  8.27464801e-02,\n",
       "        1.35280215e-01,  7.58839056e-02, -2.09842110e-02,  1.59076198e-03,\n",
       "        2.45355868e-03, -2.68745991e-02, -1.62321769e-01, -2.15500692e-01,\n",
       "        7.58829268e-02, -1.80922028e-02,  9.60039181e-02, -3.79538897e-02,\n",
       "       -1.14956480e-04,  9.29528906e-02,  1.55533824e-01, -3.16179253e-02,\n",
       "       -1.00008074e-01,  1.21300814e-01, -2.87085866e-02, -4.85239125e-02,\n",
       "       -3.99793354e-02, -7.18633930e-02,  7.73745417e-02, -1.33822937e-01,\n",
       "        1.02051157e-02,  2.49708806e-02, -5.98545317e-02,  1.58713245e-01,\n",
       "        8.98334247e-02, -4.54528972e-02, -1.06146395e-02,  8.94290528e-02,\n",
       "        8.00270883e-03,  1.40157814e-01,  5.66209699e-02,  2.52883277e-02,\n",
       "        2.44276629e-02,  3.14889665e-01, -1.01846303e-01, -1.09443605e-01,\n",
       "       -2.41443060e-02,  1.40468833e-01, -2.46388669e-01, -1.90388953e-01,\n",
       "       -3.99727982e-02,  2.12015971e-01,  2.54406821e-03, -1.16241896e-01,\n",
       "        8.22048440e-02,  1.66192977e-01, -6.38689841e-02,  4.54405559e-02,\n",
       "        1.56757385e-02,  5.72265373e-02, -4.58957334e-02,  6.28631002e-02,\n",
       "        8.38468052e-02,  7.14299384e-02, -1.62234064e-01, -1.43386365e-01,\n",
       "       -6.89232572e-02,  2.67487409e-02,  5.59199603e-02, -1.05408688e-01,\n",
       "        3.24237301e-02,  9.45729113e-02,  6.68000874e-02, -4.59831562e-02,\n",
       "       -3.68420793e-02, -1.29756813e-01,  1.74032396e-01,  4.74029528e-02,\n",
       "       -1.61223380e-01,  1.22664613e-01,  6.58548554e-02,  1.19429457e-01,\n",
       "       -5.58605529e-02, -4.19025585e-02, -8.12647056e-02,  2.11718154e-01,\n",
       "       -5.00990597e-02, -9.55211810e-02, -6.46953054e-02, -3.25159234e-02,\n",
       "        1.55595372e-01,  2.76839148e-02,  1.23355070e-01,  2.85304005e-02,\n",
       "       -1.80235705e-02, -1.04251254e-01,  1.59402847e-01,  9.90961612e-02,\n",
       "        1.08194818e-01,  9.25164293e-02, -7.10114505e-02,  2.65007269e-02,\n",
       "        1.08686317e-01,  9.44336855e-02,  1.56591505e-02,  1.97498682e-01,\n",
       "        5.32977366e-02,  1.32199200e-01,  2.00145033e-02, -3.71661034e-02,\n",
       "        9.69182987e-02,  7.33518462e-02,  3.46464228e-02, -8.46132909e-02,\n",
       "        1.01096119e-01, -7.93461470e-02,  7.77356430e-02, -1.09698569e-01,\n",
       "       -8.47046819e-02,  2.92090418e-02,  5.78965593e-02,  2.16687581e-02,\n",
       "       -5.27160235e-02,  1.11321033e-01,  1.38824757e-02,  1.93375211e-02,\n",
       "       -1.57513988e-02, -7.22712868e-02,  1.12667668e-01, -6.42715322e-02,\n",
       "        1.69741223e-01, -8.24982142e-02,  3.22932215e-02,  6.95478367e-03,\n",
       "       -1.12620051e-02,  6.81923003e-02,  7.89785746e-02,  5.35964409e-02,\n",
       "       -1.06388491e-01, -1.17130460e-01, -1.23146817e-01, -2.44085639e-02,\n",
       "        2.11534322e-01, -4.91737843e-03,  2.10091614e-01, -3.34041810e-03,\n",
       "        1.59988318e-02,  5.95771997e-02, -2.91019317e-02,  2.27288883e-02,\n",
       "       -1.70285056e-01, -8.89110716e-02, -1.68181445e-01,  7.25239850e-02,\n",
       "       -1.36334361e-01,  1.41167206e-01,  3.56022504e-02,  9.59409997e-02,\n",
       "       -6.46655634e-02, -1.12347172e-01, -3.47723562e-02,  1.06418395e-01,\n",
       "        2.11505168e-01,  5.08365044e-02, -1.31566699e-01, -9.71898310e-02,\n",
       "       -1.48832541e-01, -1.29169763e-02, -2.77236699e-02, -1.36610653e-02,\n",
       "       -1.07342094e-01, -1.17360410e-01,  9.41154135e-03,  4.84410881e-02,\n",
       "       -1.18484006e-01,  4.73715027e-02,  9.46769546e-02, -2.33077278e-01,\n",
       "        1.57568190e-01,  7.02204314e-02,  9.56129041e-02, -1.02088170e-01,\n",
       "        7.87149050e-02,  9.02076244e-02, -6.51546577e-02,  7.79874528e-02,\n",
       "       -1.38159623e-02, -6.17507795e-02, -1.96447491e-02,  1.68272981e-02,\n",
       "       -3.02603023e-02, -7.91786136e-02,  3.92954063e-02,  5.59778495e-02,\n",
       "        1.46021117e-02, -1.61755453e-01, -5.84591446e-02, -8.44090061e-02,\n",
       "        1.73109836e-01,  1.17894073e-02, -2.80228182e-02, -5.58718254e-02,\n",
       "       -1.24855907e-02,  7.51533421e-02, -1.82990386e-01,  2.30165322e-02,\n",
       "       -5.04595559e-02,  4.30670119e-02,  7.99101464e-02, -6.95520150e-02,\n",
       "       -1.36920200e-01, -3.04400940e-02,  1.28706818e-01,  8.35657251e-02,\n",
       "       -3.77622822e-02, -6.34839124e-02, -5.59349480e-02, -1.29762554e-01,\n",
       "        7.84774031e-02,  9.67416351e-02, -3.87137577e-02, -5.00681400e-02,\n",
       "       -6.98273796e-02, -4.50365414e-02, -7.35173562e-02, -1.55203913e-02,\n",
       "        7.86396353e-02,  6.83358823e-02, -8.38690745e-02,  1.51809714e-02,\n",
       "        6.46151089e-02, -9.39788308e-02,  1.41416973e-02,  1.21364585e-01,\n",
       "       -2.44890065e-02, -2.01790228e-01, -2.51723038e-01,  3.10812736e-02,\n",
       "        1.06516576e-02,  1.87734815e-02,  4.89287474e-02, -1.47945333e-01,\n",
       "       -8.06811954e-02,  4.23063441e-02,  7.35863744e-02, -2.56885229e-02,\n",
       "       -1.43227749e-01,  3.39963791e-02,  5.11341666e-03, -1.05824863e-01,\n",
       "       -1.98363409e-01,  5.71251699e-02, -6.17452411e-02,  1.86697965e-02,\n",
       "        1.49559598e-02, -1.14692851e-01,  4.17864026e-02, -8.59787642e-02,\n",
       "       -1.49538218e-01, -1.62347847e-01, -3.23687073e-04,  1.59410232e-01,\n",
       "        4.10217562e-03,  1.78315845e-01,  1.44882182e-01,  5.16285897e-02,\n",
       "        1.57449130e-01,  1.46137199e-01,  1.17869598e-01, -1.88433002e-01,\n",
       "       -2.36743848e-02, -6.93696717e-02,  1.17113045e-01, -3.07250488e-02,\n",
       "        1.75230997e-01,  1.01562332e-02, -2.79521302e-03, -3.78647667e-02,\n",
       "       -1.84614802e-02,  2.68744719e-02, -6.60784331e-03, -4.64869970e-02,\n",
       "       -4.05625965e-02,  1.82101977e-01,  1.99751170e-01, -4.70797490e-02,\n",
       "        8.48970296e-02, -8.27808879e-02, -3.26829346e-02, -1.08751401e-01,\n",
       "        1.01983381e-01,  4.84523023e-02,  6.75447296e-02,  8.88257399e-02,\n",
       "       -8.69610337e-02, -3.24417902e-02,  4.45232363e-02, -3.45567119e-02,\n",
       "        6.94251341e-03, -7.99722255e-02,  1.32973079e-01,  9.38530735e-02,\n",
       "        1.23707795e-01,  6.59120474e-02, -1.09387589e-01, -4.79527040e-02,\n",
       "       -7.01732484e-02, -2.57274890e-02,  1.05776370e-01, -1.47276083e-01,\n",
       "       -5.83639426e-02, -3.94486010e-02, -1.31401666e-01,  2.04758255e-02,\n",
       "       -3.41979319e-02,  1.11181683e-01, -2.75123400e-02,  4.58942158e-02,\n",
       "        1.14985368e-02, -2.48151254e-01, -1.43514559e-01,  3.83540469e-02,\n",
       "        3.37961817e-02, -6.86698545e-03,  1.33013331e-01,  5.09974741e-02,\n",
       "        1.57029551e-01, -2.45966715e-01,  1.73414802e-01, -6.07152966e-02,\n",
       "        2.48636328e-03,  1.18677190e-01, -2.11476490e-01, -2.53333741e-02,\n",
       "        1.00881536e-01, -6.17049788e-02,  9.13740741e-02,  6.76381720e-02,\n",
       "        1.69166875e-02,  5.98899610e-02,  1.29463330e-01,  6.02500970e-02,\n",
       "        9.29128863e-02, -8.81293734e-02,  5.81993804e-02,  4.89364985e-02,\n",
       "        1.12389329e-01, -1.15799564e-01,  1.07361030e-01, -8.79163945e-02,\n",
       "        2.34064329e-01, -8.88471967e-02, -1.16677379e-01, -2.90505161e-02,\n",
       "        1.04836489e-01,  3.55047671e-02,  1.67950184e-01, -3.00496566e-02,\n",
       "       -4.89966952e-02, -7.34455491e-02, -5.26307236e-02, -1.39721425e-01,\n",
       "       -6.48821364e-02, -1.21048259e-01,  7.18970039e-02,  1.48019452e-01,\n",
       "        2.21639655e-02, -6.73899548e-02,  7.44275827e-02, -3.92596839e-03,\n",
       "        1.01484773e-01, -9.45427864e-02, -8.76002890e-02,  7.26159122e-02,\n",
       "       -2.02668831e-03,  9.26876699e-02, -8.58524093e-02,  4.33652664e-02,\n",
       "        5.46487279e-02, -1.53712122e-01, -3.42115113e-04, -2.01619182e-01,\n",
       "        1.46985339e-01, -1.31760144e-01, -1.88892376e-02, -4.90147693e-04,\n",
       "       -9.62135056e-02,  1.84920468e-01, -6.91694823e-02, -2.69793180e-02,\n",
       "       -6.89498310e-02, -6.97991621e-02, -1.08981231e-02,  7.03055202e-02,\n",
       "        1.60131153e-02, -7.58528699e-02, -6.29179505e-04, -1.36700528e-01,\n",
       "        1.18326132e-01, -5.05964091e-02, -4.52461811e-02, -1.94614886e-01,\n",
       "       -5.06697097e-02,  1.68232221e-01,  6.11521094e-02,  1.10899712e-01,\n",
       "        1.16610796e-02, -2.62015719e-01,  6.96020736e-03,  2.01212971e-02,\n",
       "        8.95639141e-02, -3.67403056e-03, -7.71791009e-02, -9.92004992e-03,\n",
       "       -3.42260265e-02,  5.23644570e-02, -9.69705177e-03, -9.90138892e-02,\n",
       "        5.66899819e-02, -7.38857501e-02, -3.15996645e-02, -4.63918040e-02,\n",
       "        2.37222964e-02, -1.37128289e-01,  3.21082458e-03,  1.08043906e-01,\n",
       "        9.57714157e-03, -6.67429621e-02, -3.65651469e-02,  2.95747786e-02,\n",
       "        5.60297502e-02,  1.50393675e-01, -1.62574258e-01,  2.63437769e-02,\n",
       "        1.85392641e-02, -6.67591782e-03,  3.55439572e-02, -2.29535937e-02,\n",
       "       -9.98813711e-02,  2.13525926e-02,  6.49254500e-02, -4.73138920e-03,\n",
       "        1.05934254e-01, -2.37397127e-02,  4.60565879e-02, -1.58174321e-01,\n",
       "        2.24243116e-01, -2.27579319e-02, -4.88186378e-02, -2.65751241e-02,\n",
       "       -9.48784086e-02, -1.16851655e-01,  4.10443281e-03,  1.14115750e-02,\n",
       "        2.23875678e-02, -3.39422429e-03, -8.30880031e-03, -1.20307601e-01,\n",
       "       -4.87368945e-02,  1.61274594e-02, -5.38741158e-02,  2.92168652e-02,\n",
       "       -1.35209513e-02, -1.42920232e-02,  2.07268753e-02,  4.85143096e-02,\n",
       "        7.08021196e-02,  1.98304256e-01,  8.63781903e-02, -1.48044393e-01,\n",
       "       -1.08386214e-01, -2.74646792e-02, -7.62917024e-02,  3.90496860e-02,\n",
       "        4.96592351e-02, -4.83512589e-02,  1.18967520e-01,  1.45420001e-01,\n",
       "       -1.81182794e-01, -1.42887795e-01,  1.09724015e-01,  8.69828985e-02,\n",
       "        5.02651818e-02,  1.09397426e-03, -1.03116813e-02,  5.36599433e-02,\n",
       "        1.76476642e-02,  1.30772271e-01, -6.81243948e-02,  1.79954619e-03,\n",
       "        8.90335315e-02,  1.64418187e-02,  6.73159335e-02,  6.58621809e-02,\n",
       "       -4.24840983e-02, -1.02066773e-01, -7.47783040e-02, -1.08376644e-01,\n",
       "       -1.85598475e-01,  1.09176136e-01, -1.88602301e-01,  1.86146022e-01,\n",
       "       -5.27787332e-02, -2.78355316e-02, -1.51489350e-01,  3.84566854e-02,\n",
       "       -2.60892269e-02,  6.10976353e-03, -7.87123550e-02,  4.80815773e-02,\n",
       "       -8.23917407e-02,  7.87662296e-03,  4.61981711e-02,  1.45130905e-01,\n",
       "        8.05900943e-02,  8.98791204e-03, -7.96802486e-04,  3.13412053e-02,\n",
       "        7.66712116e-02, -7.44311788e-02,  9.03209334e-02, -9.36994229e-02,\n",
       "        4.56313058e-02,  5.41427131e-02, -6.71565088e-02, -1.54238061e-01,\n",
       "       -2.64569033e-02, -2.62987084e-01, -1.78364311e-02, -1.24824058e-01,\n",
       "        3.11325168e-01,  1.05869523e-01,  7.21995282e-03,  1.33241006e-01,\n",
       "        7.05035107e-02, -1.16353984e-01, -6.25435802e-02,  1.02946701e-01,\n",
       "       -9.60537434e-02,  3.95318053e-02,  6.74757998e-02, -2.60643336e-02,\n",
       "        1.52329889e-02,  8.31793925e-02,  7.84089632e-02,  4.48177327e-02,\n",
       "       -1.29543483e-03,  5.87355772e-02, -2.02153628e-01,  1.47557963e-01,\n",
       "       -1.32557320e-02, -7.34967349e-02,  5.99463919e-02,  5.71429618e-02,\n",
       "       -9.76426592e-02,  6.75397791e-03,  3.73350771e-03, -2.79169240e-03,\n",
       "        1.62401980e-01, -2.01553363e-03, -1.29904731e-02, -6.80367766e-02,\n",
       "       -8.24839521e-02,  3.92042582e-02, -4.69820090e-02, -1.87929377e-02,\n",
       "        1.98168483e-02,  6.36894526e-03,  1.34961057e-02,  1.31316833e-02,\n",
       "        6.24600518e-02,  2.64103078e-01,  1.22931069e-01, -3.62290104e-02,\n",
       "        1.21550681e-01, -1.05379080e-01, -5.66257569e-02,  7.06882921e-02,\n",
       "        6.75866408e-02,  6.01536019e-02, -5.90297885e-02, -5.83443776e-02,\n",
       "        1.31151443e-02, -2.52289728e-02,  8.88175747e-02, -2.77334020e-02,\n",
       "       -3.06812796e-02, -1.62584127e-01,  8.75330234e-02,  3.22377372e-02,\n",
       "       -2.28600253e-01,  4.45018660e-02, -4.01176905e-02,  7.75943079e-02,\n",
       "       -1.05109873e-02, -8.04374396e-02,  1.72904726e-01,  1.57196799e-01,\n",
       "       -1.85679592e-02,  3.72638639e-02, -4.59226111e-02, -1.70648913e-01,\n",
       "        1.31769768e-01, -7.97741498e-02,  1.27354073e-01,  6.97228179e-02,\n",
       "        2.87159509e-02, -4.09166104e-03,  7.01441384e-02, -9.30408984e-02,\n",
       "        1.33441690e-01,  1.43207708e-02,  1.49502452e-01, -1.22310376e-02,\n",
       "        1.42503899e-02,  2.63892518e-02,  5.76003450e-02,  1.81087323e-01,\n",
       "       -4.38068919e-02, -1.27901908e-02, -1.92350891e-03, -2.31544534e-01,\n",
       "       -5.54906870e-02, -4.89847423e-02,  2.63810268e-01,  2.58470685e-02,\n",
       "        4.93482319e-02, -1.46866553e-01, -6.27278790e-03,  9.36098645e-02,\n",
       "        2.51664656e-01, -6.84297979e-02, -1.81557929e-01, -7.75367585e-02,\n",
       "       -7.71326142e-02, -7.61977232e-02,  9.07507063e-02,  3.42784044e-02,\n",
       "       -1.12841876e-01,  1.41620332e-01,  1.89303615e-01, -1.70500877e-01,\n",
       "        1.17764798e-01, -1.70118075e-02, -9.42013330e-02, -1.45519500e-01,\n",
       "       -4.52784952e-02, -5.21855458e-02,  1.47493628e-02,  2.14604268e-01,\n",
       "       -5.07921326e-02, -1.40656424e-01, -3.30178575e-02,  1.04200699e-01,\n",
       "       -2.47681458e-02,  6.51477247e-02,  1.69996041e-02,  6.11648832e-03,\n",
       "        1.58722575e-01, -9.68131009e-02, -1.04065958e-01, -9.08793467e-02,\n",
       "        3.45322257e-02,  5.34317527e-03,  7.10130029e-02, -7.60471890e-03,\n",
       "       -1.95602762e-02,  3.29156551e-02,  1.69645822e-01, -1.16229165e-01,\n",
       "       -9.20156314e-02,  4.10973519e-03,  2.03247366e-01, -1.07164915e-01,\n",
       "       -9.99531238e-04, -8.77402016e-02,  3.98178788e-02, -2.06426227e-01,\n",
       "       -1.03617172e-01,  1.27834420e-01,  9.32133780e-04, -7.45344295e-02,\n",
       "       -4.58110443e-03, -6.32952589e-03,  5.60808065e-02, -2.07578477e-01,\n",
       "       -1.03666732e-01, -9.54874231e-02,  6.29421247e-02, -6.31036366e-04,\n",
       "        1.44059989e-01,  8.29141481e-02, -3.45904722e-02, -4.95460178e-03,\n",
       "        1.29388464e-01,  1.43321485e-01, -9.56794958e-03, -9.85037136e-02,\n",
       "       -2.10086354e-01, -2.10110284e-01,  4.72082595e-02,  4.51990101e-02,\n",
       "       -6.75396487e-02,  1.30148694e-01, -2.06942660e-02, -5.88397347e-02,\n",
       "        1.17116185e-01,  1.03856056e-01, -5.15958867e-03,  5.17530963e-02])"
      ]
     },
     "execution_count": 177,
     "metadata": {},
     "output_type": "execute_result"
    }
   ],
   "source": [
    "s"
   ]
  },
  {
   "cell_type": "code",
   "execution_count": 46,
   "metadata": {
    "deletable": false,
    "editable": false,
    "nbgrader": {
     "grade": true,
     "grade_id": "Question 13",
     "locked": true,
     "points": "20",
     "solution": false
    }
   },
   "outputs": [],
   "source": [
    "###\n",
    "### AUTOGRADER TEST - DO NOT REMOVE\n",
    "###\n"
   ]
  },
  {
   "cell_type": "markdown",
   "metadata": {
    "deletable": false,
    "editable": false,
    "nbgrader": {
     "grade": false,
     "locked": true,
     "solution": false
    }
   },
   "source": [
    "[Back to top](#Index:) \n",
    "\n",
    "### Question 14\n",
    "*10 points*\n",
    "\n",
    "This question is about the T-test. Generate two random sets (using the `numpy.random` module) of data called data_1 and data_2 with 1000 data points from N(5, 100) and N(5, 101), respectively. Compute the calculated t-statistic and two-tailed p-value and assign them to `t_stat` and `p_val`, respectively. "
   ]
  },
  {
   "cell_type": "code",
   "execution_count": 156,
   "metadata": {},
   "outputs": [
    {
     "name": "stdout",
     "output_type": "stream",
     "text": [
      "-1.175237994328016\n",
      "0.24003954473533257\n"
     ]
    }
   ],
   "source": [
    "### GRADED \n",
    "\n",
    "from numpy.random import seed\n",
    "from numpy.random import randn\n",
    "from scipy.stats import ttest_ind\n",
    "\n",
    "\n",
    "seed(42)\n",
    "\n",
    "### YOUR SOLUTION HERE\n",
    "#data_1 = np.sqrt(100) * np.random.randn(1000) + 5\n",
    "#data_2 = np.sqrt(101) * np.random.randn(1000) + 5\n",
    "\n",
    "n = 1000\n",
    "#data_1 = stats.norm.rvs(5, 100, size=n)\n",
    "#data_2 = stats.norm.rvs(5, 101, size=n)\n",
    "\n",
    "data_1 = np.random.normal(5,100,1000)\n",
    "data_2 = np.random.normal(5,101,1000)\n",
    "\n",
    "t_stat = ttest_ind(data_1, data_2)[0]\n",
    "p_val = ttest_ind(data_1, data_2)[1]\n",
    "\n",
    "print(t_stat)\n",
    "print(p_val)\n",
    "###\n",
    "### YOUR CODE HERE\n",
    "###\n"
   ]
  },
  {
   "cell_type": "code",
   "execution_count": 174,
   "metadata": {},
   "outputs": [],
   "source": [
    "data_1 = np.random.normal(loc = 5, scale=100, size = 1000) \n",
    "data_2 = np.random.normal(loc = 5, scale=101, size = 1000) "
   ]
  },
  {
   "cell_type": "code",
   "execution_count": 173,
   "metadata": {},
   "outputs": [
    {
     "data": {
      "text/plain": [
       "12.189878623209973"
      ]
     },
     "execution_count": 173,
     "metadata": {},
     "output_type": "execute_result"
    }
   ],
   "source": [
    "data_1.mean()"
   ]
  },
  {
   "cell_type": "code",
   "execution_count": 158,
   "metadata": {},
   "outputs": [
    {
     "data": {
      "text/plain": [
       "array([34, 99, 79, 76,  7, 18, 64, 81, 49, 38, 49, 65, 87, 20, 70, 44, 21,\n",
       "       38, 20, 64, 70, 70, 94, 17, 60, 35, 38, 43, 71, 12, 91, 82, 59, 31,\n",
       "       97, 57, 43, 69, 21, 34, 57, 17, 25, 23, 57, 23, 61, 29, 90, 35, 85,\n",
       "       59, 27, 36, 66, 78, 14, 76, 58, 56, 24, 36, 18, 54, 32, 57, 28, 83,\n",
       "       26, 34, 67,  8, 81, 63, 91, 12, 86, 16, 35, 82, 38, 86, 79, 80, 53,\n",
       "       83, 61, 99, 97, 30, 22, 90, 42, 85, 91, 92, 54, 12, 45, 10, 73, 48,\n",
       "       68, 33, 32, 15, 69, 23, 13, 31, 38, 48, 72, 86, 19, 55, 17, 87, 53,\n",
       "       74, 60, 80, 55, 41, 21, 62, 91, 94, 33, 37, 64, 95, 93, 59, 14, 51,\n",
       "       27, 89, 25, 17, 37, 28, 15, 21, 72, 51, 29, 98, 77, 25, 88, 87, 87,\n",
       "       16, 41, 46, 21, 52, 32, 45, 51, 22, 82, 75, 17, 86, 17, 35,  6, 20,\n",
       "       13, 77, 42, 79, 58, 60, 90, 91, 49, 38, 13, 92, 12, 11, 40, 22,  7,\n",
       "       32, 74, 48, 25, 32, 58, 58, 69, 25, 17, 61, 53, 58, 14, 57, 48, 51,\n",
       "       57, 78, 50, 17, 41, 28,  6, 90, 85, 18, 14, 39, 29,  7, 21, 16, 58,\n",
       "       28, 33, 47, 29, 64, 94, 69, 88, 32, 20, 51, 85, 96, 62, 80, 31, 57,\n",
       "       46, 63, 51, 98, 38, 41, 10, 11, 29, 37, 59, 62, 11, 61, 16, 20, 84,\n",
       "       47, 81, 11, 55, 77, 36, 79, 12, 91, 93, 76, 49, 90, 63,  8, 71, 33,\n",
       "       33, 32, 81, 83, 91, 48, 94,  8, 94, 13,  9, 60, 88, 54, 79, 19, 36,\n",
       "       32, 26, 21, 63, 94, 75, 61, 30, 29, 14, 49, 87, 15, 81, 57, 76, 72,\n",
       "       99, 32, 79, 69, 53, 51, 56, 92, 58, 64, 61, 51, 35, 50, 30,  9, 88,\n",
       "       56, 79, 58, 37, 54, 42, 31, 19, 65, 25, 50, 73, 10, 42, 66, 90, 66,\n",
       "       86, 82, 78, 50, 17, 99, 98,  7, 98, 10, 97, 12, 48, 37, 85, 79, 81,\n",
       "       54, 15, 99, 32, 74, 45, 20, 72, 52, 60, 68, 63, 94, 66, 80, 15, 93,\n",
       "       22, 23, 91, 59, 86, 30, 10,  8, 33, 63, 21, 47, 84, 70, 38, 12, 17,\n",
       "       12, 98, 98, 69, 47, 43, 85, 63, 88, 92, 90, 97, 90, 48, 13, 41, 78,\n",
       "       40, 96, 32, 46, 47, 89, 92, 46, 70, 59, 76, 52, 95, 26, 31, 97, 71,\n",
       "       17, 49, 14, 13, 58, 31, 38,  5, 36, 93, 97, 75, 71, 88, 24, 98, 39,\n",
       "       95, 94, 82, 21, 22, 49, 97, 88, 57, 95, 86, 72, 69,  5, 62, 30, 24,\n",
       "       91, 14, 63, 79, 45,  9, 69, 21, 26, 45, 97, 72, 73, 15, 60, 55, 25,\n",
       "       80, 30, 23, 64, 75, 51, 75, 30, 44,  9, 25, 82,  8, 27, 88, 19, 97,\n",
       "       12, 45, 23, 50, 32, 95, 72, 19, 41,  5, 71, 28, 31, 44, 67, 65, 40,\n",
       "       97, 28, 28,  8, 71, 38, 61, 53, 91, 57, 27, 73, 99, 57, 66, 45, 61,\n",
       "       64, 58, 74, 61, 14, 44, 11, 42, 89, 65, 88,  7, 55, 90, 51, 72, 96,\n",
       "       80, 42, 40, 45, 73, 17, 91, 62, 54, 34, 66, 29, 31, 55, 82, 61, 51,\n",
       "       43, 20, 26, 89, 58, 25, 76, 20, 63, 35, 46, 78, 36, 63, 38, 13, 85,\n",
       "       15, 14, 90, 21, 72, 52, 56, 29, 25, 69, 67, 93, 55, 40, 85, 92, 70,\n",
       "       19, 43, 74,  5, 27, 43, 61, 85, 38, 45, 97, 77, 17, 74, 10, 88, 56,\n",
       "        7, 85, 67, 53, 80, 51, 59, 68, 69, 85, 71, 94, 19, 36, 72, 22, 87,\n",
       "       47, 39, 82, 62, 37, 18, 38, 65,  8, 92, 63, 33, 87, 10, 53, 44, 87,\n",
       "       69, 73, 31, 84, 10, 17, 68, 66, 23, 80, 84, 47, 78, 93, 24, 99, 72,\n",
       "       48, 27,  6, 26, 61, 76, 11, 82, 60, 71, 20, 87, 55, 86, 84, 76, 16,\n",
       "       57, 79,  9, 31, 16, 21, 10,  9, 61, 32, 82, 73, 63, 37, 66, 54, 23,\n",
       "       90, 73, 70, 98, 51, 43, 72, 37, 17, 88, 58, 11, 83, 91, 18, 91, 23,\n",
       "       58, 97, 24, 33, 28, 86, 67, 78, 61, 12, 94, 66, 33, 78, 21, 70, 10,\n",
       "       62, 73, 32, 66, 45, 73, 86, 94, 88, 45, 53, 95, 53, 80, 75,  7, 14,\n",
       "       93, 39, 84,  6, 28, 78, 42, 26, 30, 47, 59, 43, 95, 33, 24, 95, 45,\n",
       "       58, 24, 23, 88, 70, 34, 57, 38, 26, 71, 10, 83, 31, 14, 77, 52, 74,\n",
       "       63, 63,  6, 33, 72, 69, 87, 30, 93, 14, 57, 83, 63, 26, 55, 52, 25,\n",
       "       26, 34, 29, 32, 69, 49, 72, 11, 53, 13, 40, 87,  5, 14, 40, 77, 50,\n",
       "       36, 36, 10, 52, 42, 21, 78, 31, 58, 54, 39, 89, 29, 32, 19,  8, 97,\n",
       "       77, 31, 30, 23, 96, 21, 47, 45, 46, 54, 88, 44, 43, 27, 56, 51, 67,\n",
       "       73, 47, 52, 38, 44, 79, 65, 54, 71, 66, 62, 37, 79, 20, 86, 98, 52,\n",
       "       14, 86, 42, 23, 40, 63, 67, 81, 50,  7, 78, 69, 95, 12, 55, 85, 77,\n",
       "       10, 93, 43, 64, 32, 58, 41, 13, 86, 60, 63, 89,  6, 65, 62, 64, 44,\n",
       "       40, 41, 83, 96, 22, 67, 26, 15, 62, 61, 81,  8, 90, 11, 65, 58, 92,\n",
       "       72, 96, 83,  5, 59,  7, 82, 42,  5, 42, 89, 33,  9, 78, 96, 25, 75,\n",
       "       71, 51, 88, 87, 39, 72, 73,  5, 72, 16, 64, 31, 60, 27, 29, 25, 65,\n",
       "       67, 56, 92, 29, 59, 50, 36, 59,  9, 40, 53, 62, 43, 84, 89, 65, 13,\n",
       "       10, 39, 43, 26, 45,  9, 46, 91, 85, 80, 91, 84, 71, 34, 61, 90, 77,\n",
       "       33, 41, 91, 17, 36, 50, 27, 49, 21, 89, 70, 10, 22, 98])"
      ]
     },
     "execution_count": 158,
     "metadata": {},
     "output_type": "execute_result"
    }
   ],
   "source": [
    "np.random.randint(5, 100, 1000)   "
   ]
  },
  {
   "cell_type": "code",
   "execution_count": null,
   "metadata": {},
   "outputs": [],
   "source": []
  },
  {
   "cell_type": "code",
   "execution_count": 159,
   "metadata": {},
   "outputs": [
    {
     "data": {
      "image/png": "[encoded data removed]",
      "text/plain": [
       "<Figure size 432x288 with 1 Axes>"
      ]
     },
     "metadata": {},
     "output_type": "display_data"
    }
   ],
   "source": [
    "plt.boxplot([data_1, data_2], labels=['Sample 1', 'Sample 2'], showmeans=True, meanline=True)\n",
    "\n",
    "plt.show()"
   ]
  },
  {
   "cell_type": "code",
   "execution_count": null,
   "metadata": {},
   "outputs": [],
   "source": []
  },
  {
   "cell_type": "code",
   "execution_count": 48,
   "metadata": {
    "deletable": false,
    "editable": false,
    "nbgrader": {
     "grade": true,
     "grade_id": "Question 14",
     "locked": true,
     "points": "10",
     "solution": false
    }
   },
   "outputs": [],
   "source": [
    "###\n",
    "### AUTOGRADER TEST - DO NOT REMOVE\n",
    "###\n"
   ]
  },
  {
   "cell_type": "markdown",
   "metadata": {
    "deletable": false,
    "editable": false,
    "nbgrader": {
     "grade": false,
     "locked": true,
     "solution": false
    }
   },
   "source": [
    "[Back to top](#Index:) \n",
    "\n",
    "### Question 15\n",
    "*15 points*\n",
    "    \n",
    "You are given the data taken from a sample of 10 different students, and also the information that the mean age of the students is 23 years old. Build a one-sided t-test to check that hypothesis. You should build a function named `test` that takes the column \"age\" from the dataframe df given below, and return the boolean `True` if you are accepting the null hypothesis or the boolean `False` if you are rejecting it. \n",
    "\n",
    "Call the function and save your result to the variable `age_test`.\n",
    "\n",
    "Use a p_val of 0.05 to test the hypothesis.\n",
    "\n",
    "**Hint: Use age=df[\"age\"] as argument for the function `test`**."
   ]
  },
  {
   "cell_type": "code",
   "execution_count": 130,
   "metadata": {},
   "outputs": [],
   "source": [
    "### GRADED \n",
    "from scipy.stats import ttest_1samp\n",
    "\n",
    "df = pd.DataFrame({\"name\":[\"marc\",\"james\",\"favio\",\"alexandra\",\"nelly\",\"freddy\", \"charles\", \"bob\", \"maria\", \"peter\"], \n",
    "                   \"age\":[20, 22, 23, 22, 30, 22, 25, 22, 21, 23]})\n",
    "\n",
    "### YOUR SOLUTION HERE\n",
    "\n",
    "def test(age):\n",
    "    if ttest_1samp(age, 23)[1] > 0.05:\n",
    "        return True\n",
    "    else:\n",
    "        return False\n",
    "\n",
    "age_test = test(age=df[\"age\"])\n",
    "\n",
    "###\n",
    "### YOUR CODE HERE\n",
    "###\n"
   ]
  },
  {
   "cell_type": "code",
   "execution_count": 131,
   "metadata": {},
   "outputs": [
    {
     "data": {
      "text/plain": [
       "True"
      ]
     },
     "execution_count": 131,
     "metadata": {},
     "output_type": "execute_result"
    }
   ],
   "source": [
    "age_test"
   ]
  },
  {
   "cell_type": "code",
   "execution_count": 50,
   "metadata": {
    "deletable": false,
    "editable": false,
    "nbgrader": {
     "grade": true,
     "grade_id": "Question 15",
     "locked": true,
     "points": "15",
     "solution": false
    }
   },
   "outputs": [],
   "source": [
    "###\n",
    "### AUTOGRADER TEST - DO NOT REMOVE\n",
    "###\n"
   ]
  }
 ],
 "metadata": {
  "kernelspec": {
   "display_name": "Python 3",
   "language": "python",
   "name": "python3"
  },
  "language_info": {
   "codemirror_mode": {
    "name": "ipython",
    "version": 3
   },
   "file_extension": ".py",
   "mimetype": "text/x-python",
   "name": "python",
   "nbconvert_exporter": "python",
   "pygments_lexer": "ipython3",
   "version": "3.6.9"
  }
 },
 "nbformat": 4,
 "nbformat_minor": 4
}
