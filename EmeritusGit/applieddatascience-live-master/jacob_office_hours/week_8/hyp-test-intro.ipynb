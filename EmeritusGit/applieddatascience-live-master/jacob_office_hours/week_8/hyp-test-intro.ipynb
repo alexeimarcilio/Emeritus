{
 "cells": [
  {
   "cell_type": "markdown",
   "metadata": {},
   "source": [
    "### Hypothesis Tests "
   ]
  },
  {
   "cell_type": "code",
   "execution_count": 24,
   "metadata": {},
   "outputs": [],
   "source": [
    "%matplotlib inline\n",
    "import matplotlib.pyplot as plt\n",
    "import numpy as np\n",
    "import pandas as pd\n",
    "from scipy import stats"
   ]
  },
  {
   "cell_type": "markdown",
   "metadata": {},
   "source": [
    "##### Normal Distribution"
   ]
  },
  {
   "cell_type": "code",
   "execution_count": 25,
   "metadata": {},
   "outputs": [],
   "source": [
    "x = np.linspace(stats.norm.ppf(0.01), stats.norm.ppf(0.99), 1000)\n",
    "distribution = stats.norm.pdf(x)"
   ]
  },
  {
   "cell_type": "code",
   "execution_count": 26,
   "metadata": {},
   "outputs": [
    {
     "data": {
      "text/plain": [
       "Text(0.5, 1.0, 'A Normal Distribution')"
      ]
     },
     "execution_count": 26,
     "metadata": {},
     "output_type": "execute_result"
    },
    {
     "data": {
      "image/png": "[encoded data removed]",
      "text/plain": [
       "<Figure size 432x288 with 1 Axes>"
      ]
     },
     "metadata": {
      "needs_background": "light"
     },
     "output_type": "display_data"
    }
   ],
   "source": [
    "plt.plot(x, distribution)\n",
    "plt.title('A Normal Distribution')"
   ]
  },
  {
   "cell_type": "code",
   "execution_count": 4,
   "metadata": {},
   "outputs": [],
   "source": [
    "df = pd.DataFrame({'heights': distribution}, index=x)"
   ]
  },
  {
   "cell_type": "code",
   "execution_count": 5,
   "metadata": {},
   "outputs": [
    {
     "data": {
      "text/plain": [
       "0"
      ]
     },
     "execution_count": 5,
     "metadata": {},
     "output_type": "execute_result"
    }
   ],
   "source": [
    "#coin example\n",
    "##one coin flip\n",
    "np.random.binomial(1, 0.5)"
   ]
  },
  {
   "cell_type": "code",
   "execution_count": 6,
   "metadata": {},
   "outputs": [
    {
     "data": {
      "text/plain": [
       "0.524"
      ]
     },
     "execution_count": 6,
     "metadata": {},
     "output_type": "execute_result"
    }
   ],
   "source": [
    "np.random.binomial(1000, 0.5)/1000"
   ]
  },
  {
   "cell_type": "code",
   "execution_count": 7,
   "metadata": {},
   "outputs": [],
   "source": [
    "distribution_of_flips = np.random.binomial(100, 0.5, 1000)"
   ]
  },
  {
   "cell_type": "code",
   "execution_count": 8,
   "metadata": {},
   "outputs": [
    {
     "ename": "NameError",
     "evalue": "name 'sns' is not defined",
     "output_type": "error",
     "traceback": [
      "\u001b[0;31m---------------------------------------------------------------------------\u001b[0m",
      "\u001b[0;31mNameError\u001b[0m                                 Traceback (most recent call last)",
      "\u001b[0;32m<ipython-input-8-f655cfe36fe3>\u001b[0m in \u001b[0;36m<module>\u001b[0;34m\u001b[0m\n\u001b[0;32m----> 1\u001b[0;31m \u001b[0msns\u001b[0m\u001b[0;34m.\u001b[0m\u001b[0mdistplot\u001b[0m\u001b[0;34m(\u001b[0m\u001b[0mdistribution_of_flips\u001b[0m\u001b[0;34m,\u001b[0m \u001b[0mhist\u001b[0m\u001b[0;34m=\u001b[0m\u001b[0;32mFalse\u001b[0m\u001b[0;34m)\u001b[0m\u001b[0;34m\u001b[0m\u001b[0;34m\u001b[0m\u001b[0m\n\u001b[0m",
      "\u001b[0;31mNameError\u001b[0m: name 'sns' is not defined"
     ]
    }
   ],
   "source": [
    "sns.distplot(distribution_of_flips, hist=False)"
   ]
  },
  {
   "cell_type": "code",
   "execution_count": null,
   "metadata": {},
   "outputs": [],
   "source": [
    "#gaussian\n",
    "sns.distplot(np.random.normal(size = 1000), hist = False, label = 'Group 1')\n",
    "sns.distplot(np.random.normal(loc = 0.75, size = 1000), hist = False, label = 'Group 2')"
   ]
  },
  {
   "cell_type": "markdown",
   "metadata": {},
   "source": [
    "#### Hypothesis Tests\n",
    "\n",
    "- What's the distribution that I'm imagining -- here it's a normal with mean 0.  \n",
    "- p-value: 0.001"
   ]
  },
  {
   "cell_type": "code",
   "execution_count": null,
   "metadata": {},
   "outputs": [],
   "source": [
    "#1-sample t-test\n",
    "#test if mean is likely equal to some value\n",
    "stats.ttest_1samp(df['heights'], 0)"
   ]
  },
  {
   "cell_type": "code",
   "execution_count": null,
   "metadata": {},
   "outputs": [],
   "source": [
    "g1 = np.random.normal(size = 1000)\n",
    "g2 = np.random.normal(loc = 0.75, size = 1000)"
   ]
  },
  {
   "cell_type": "code",
   "execution_count": 16,
   "metadata": {},
   "outputs": [
    {
     "data": {
      "text/plain": [
       "array([ -48.14136761,   48.83329042,  -55.79734865,  -19.05464578,\n",
       "         65.4309395 ,  166.63665363,   98.69789888,  -83.92197007,\n",
       "        -50.8976484 ,  -33.64005187,  218.77673486,  108.94069934,\n",
       "        -18.54972049, -184.42581422,   37.5523563 ,   90.47820592,\n",
       "        132.67432789,    6.8138083 ,    5.00409739,   66.53371757,\n",
       "       -113.11353749,   79.23138778,  -68.57314867,  -66.74967482,\n",
       "        -26.06072773,    7.71234231,   78.29651735,   54.36353747,\n",
       "         -7.0911379 , -281.09309625,  124.54616039,  -27.55827793,\n",
       "        -31.08609079,  -62.24624565,  110.68502483,  231.8343287 ,\n",
       "        132.90910192,  148.53232584,   91.40694618,   13.72558931,\n",
       "       -224.89051569, -180.55696278,  102.8526137 ,  -23.43173334,\n",
       "        -81.9196986 ,   62.90915024,   45.20673528,  -46.68897678,\n",
       "          5.16940206, -259.76541534,  -62.57347236,    7.64941373,\n",
       "        105.66502215,   34.31977006,   91.91395783,  105.36063948,\n",
       "        -96.64277003,   78.75679604,  -62.95668163,   43.52071136,\n",
       "        116.00452843,  -38.14607752,   -9.19408935,  -71.94130403,\n",
       "       -161.67517911,  -33.02125749,   14.44522552,  -19.28888979,\n",
       "        -62.40970708,   71.49444529,  181.19103957,  -99.63969632,\n",
       "        147.22987068,   65.39455631,   -5.95853839,  -46.3049934 ,\n",
       "         59.94286169,  -58.67608129,  -92.75211287,  -83.41850971,\n",
       "         30.6880117 ,   78.47298899,  148.52176353,   75.2762179 ,\n",
       "        -65.0882008 ,  -55.89773455,   45.72327651,  -93.16355624,\n",
       "         24.64760759,  -50.54839787, -170.08140529,  -18.67174832,\n",
       "         24.76881517,  156.39622157,   58.66102636, -130.46189195,\n",
       "         95.48083022, -120.25859284,   32.37029333,   71.04108515,\n",
       "        101.05475395,   73.84870134,   94.69790918,  -72.14620947,\n",
       "        121.49085264, -121.33006893, -196.58509972,   23.56302979,\n",
       "          8.60280036,   17.59498518,  224.55798733,  134.02569517,\n",
       "         86.41494923,   80.59327726,   87.73535964,  125.42048339,\n",
       "        158.55699045, -210.37925247,   94.70705612,   80.51009256,\n",
       "         63.31085682, -242.57385944,  -81.94837621,   44.38129692,\n",
       "        173.93979427,  -49.38553983,   94.82725584,  -76.47253455,\n",
       "         56.76578102,   64.76308352,  -61.09551886,   39.43528521,\n",
       "        -46.73622624,   76.73030788,  -44.10465711,  103.32450963,\n",
       "        207.38665285,   94.45792546,  -34.54572177,  221.76497011,\n",
       "        -60.68292861,   29.29906461,  -55.48823134, -107.3995195 ,\n",
       "         12.9496652 , -155.00556467,   81.16248622,  183.0325937 ,\n",
       "        150.34447747,  -50.93521654,   14.92889352,   73.15778596,\n",
       "       -110.24578825,  116.52470706,  -10.14320153,   49.92407734,\n",
       "        184.34059132,  -27.90944765,    4.81444602,  162.53739365,\n",
       "         72.26739445, -126.6095833 , -103.98413769,  -87.93003683,\n",
       "        -87.30363151,  -65.95466412,  -18.1874575 ,  176.78954876,\n",
       "          4.38460137,  147.95035969,  -31.79364083,   90.49136169,\n",
       "        -20.91642057,  -74.95980228,  100.22906162,   36.93999979,\n",
       "       -161.19999195,  -30.03891393,   44.3217067 , -136.03308519,\n",
       "          2.21080946,  100.26750476, -186.56650581,  -37.44761695,\n",
       "        204.59516927,  -40.05059184,  -53.65977937,  186.74992015,\n",
       "          2.52721482, -184.4024334 ,   68.98828417,   57.67731549,\n",
       "       -166.25290452,   76.11764881,   63.4405565 ,   16.18937344,\n",
       "       -153.31864753,   60.80637955, -173.39949632,  140.34553215,\n",
       "        109.59530385,   87.73090885,  124.3943217 ,   39.72763301,\n",
       "         81.20550013,   82.74232081,  -80.07575603,   43.74031267,\n",
       "         53.44475517,   24.96782582,  -92.2311072 ,  113.27133508,\n",
       "        121.3391588 , -168.28828278,   13.96644601,  114.19303188,\n",
       "        -48.18923775,   -2.11387443,   -4.9051928 ,  -16.87880777,\n",
       "       -132.71759791,  -19.51447597,  -45.53576379,  -86.43641879,\n",
       "          7.90455735,  133.42694307,  -25.83966928,   11.85845128,\n",
       "        156.87667372,  -84.27537134,  -36.98256149,   -6.78426652,\n",
       "       -113.20441057,  -86.72147776,  123.8368343 ,  146.94773731,\n",
       "         -7.19938109,  118.36319546, -176.78925558,  105.91870855,\n",
       "       -174.76457682,  118.94641951,  188.50253236, -152.79391065,\n",
       "        -88.2973159 , -257.25018917, -136.12215773,    4.75955882,\n",
       "       -100.52514254,  -18.25902087,  185.03728083,   39.25542589,\n",
       "         53.17689949,   61.36508785,  153.26157239,  -11.99761222,\n",
       "         68.2782321 ,  -82.44998227,   72.59911002,  -58.23211855,\n",
       "       -154.45286929,   32.93727876,    3.35011445,  -21.20794636,\n",
       "        125.49064055,   49.82173815, -166.95360952,   16.34777243,\n",
       "        -20.65911665,  201.51182894,  -69.85924748,  136.12947031,\n",
       "         22.20123451,   87.37675296,   38.40593399,  171.49401339,\n",
       "       -131.6435821 ,  -64.59151266,   17.89772757, -197.87268147,\n",
       "        210.30164465,  191.70447936, -222.60820515,  112.74996806,\n",
       "        -26.39856017,  -95.30959892,   16.33395079,  -26.36880616,\n",
       "       -135.19563254,   45.91778245,   69.06709946,   91.10323282,\n",
       "       -115.01452535,  -54.192184  ,   -2.6499188 ,  -15.9600025 ,\n",
       "         -3.70311824,  -97.39896047,  166.7772341 ,   94.9891089 ,\n",
       "        223.38637142,  151.39465243,  -86.76287721,   94.38380495,\n",
       "         53.20744497,   45.33430403,  -93.61033722,   65.19394109,\n",
       "         20.42300571,  -66.189485  ,   91.61887063,   25.08620076,\n",
       "         55.5657474 ,  121.89094206,   16.67002468,  160.37210104,\n",
       "         41.81259911,    3.00142179,  111.39505277,  -68.47577355,\n",
       "          6.77896906,   84.30391887,  118.78924723,  -47.58388962,\n",
       "         -9.60859352,  187.22796019,  146.53389671,  122.8705919 ,\n",
       "        -63.91063676,  -48.0485494 ,  187.76112266,   -1.84309422,\n",
       "         84.48587114,   -9.68551686,   87.93529995,  139.95856379,\n",
       "       -240.1076705 ,   91.95164003,   42.51360256,  -29.87685172,\n",
       "       -172.59348015,    0.43173065,   17.89696581,  213.10822087,\n",
       "        115.3648205 ,  -31.03147491,  -29.78341164,   19.1815971 ,\n",
       "        237.7176762 , -167.44440927,  -15.50731287,  161.35489658,\n",
       "        -13.13830185,  -62.70726756,  291.12673234,  -27.78522482,\n",
       "       -136.04675954,   15.70778136,  -81.64871196,  -15.51270707,\n",
       "         72.45345315,  -85.2263915 ,  -72.69967331,  -67.55654838,\n",
       "        163.60617399, -176.48552884,  -76.59994338,  -97.79225208,\n",
       "        -57.7682747 ,  -52.3474716 ,  186.52109614,   30.40802165,\n",
       "        181.90975638, -172.94910684,  -71.39981514,  205.95579587,\n",
       "         32.84715757,   35.86650543,  -63.74804527,  -53.34768606,\n",
       "         62.29579898,  -17.52163373, -188.51644312,   31.9130503 ,\n",
       "       -128.56958049,    9.40945299,   28.09713893,  120.78994303,\n",
       "         72.26550576,  -94.84358599,   94.30730533,   36.79404869,\n",
       "       -138.47011514,  -55.61489282,   90.05405897,  113.32166731,\n",
       "         37.63937695,  -12.83576606, -264.42957481,  -72.52533338,\n",
       "       -134.21995839,  -58.56931586, -273.80823547, -129.85718595,\n",
       "        -46.62301721, -167.60939353,   31.01040912,  -71.42527109,\n",
       "         50.87957776,  -26.61227402,  121.30060054, -133.60045842,\n",
       "         11.41957352,   35.76689748,   51.35098944,   17.49746497,\n",
       "       -181.46342756,   81.36133717, -145.36371632,   68.4113658 ,\n",
       "        166.91622905,  104.53268319,  -12.97573794,  -57.19862783,\n",
       "        256.95964198,   42.21997551,  -11.94640704,  109.96126364,\n",
       "         44.51406216,  107.75130588,  -76.11565198,   37.61449124,\n",
       "        -63.83781251,  264.80571747,  141.48182461,   69.02113516,\n",
       "         81.66039686,   48.90559134, -156.48294809,  111.4190584 ,\n",
       "        -82.21054982,  210.80137001,  190.02316424,  120.26448895,\n",
       "        159.0350734 ,  110.05272255,   34.66263215,  -87.13070462,\n",
       "        107.18930353,  196.66735728,   94.03367575,  167.12587064,\n",
       "         40.78256128,   68.07094672,   26.76726734,   28.89053877,\n",
       "        -11.90091805,  -44.43751947, -164.81309071,   33.1570564 ,\n",
       "         30.6030796 ,   55.21716937,  293.41555976,   50.38294692,\n",
       "          0.4198704 ,  -24.07812844,   21.96532518,  -34.44516295,\n",
       "        111.93930121,   40.40442804,  128.12698334, -116.86178474,\n",
       "        -88.22280261,  -77.81668111,   97.99671908,  -60.05426091,\n",
       "        -58.37516857,   82.8010417 , -140.68073766,   73.68527883,\n",
       "         97.92526239, -116.57244756, -115.81076843,  143.83015218,\n",
       "        130.28213688,   59.15965922, -253.86912007,   21.55075378,\n",
       "        -96.9549428 ,  118.41521628,  -35.9904146 , -158.3600768 ,\n",
       "       -188.06635631, -105.00068839,   90.59851687,   55.24385888,\n",
       "        -26.0242832 ,  -88.69515469,   97.47729905,  -76.88758259,\n",
       "        -21.36806752,   25.13130051, -121.49727903, -100.12801492,\n",
       "        183.50242233,   76.15312614,   15.22363168,  -47.61133533,\n",
       "         84.72737274, -154.01142061,   -4.60157299,   16.6862248 ,\n",
       "        -54.6179818 ,  -84.49023982,   60.9248086 ,  -90.73899547,\n",
       "       -220.55499524,  -17.12897101,   -7.11385786,   87.07560988,\n",
       "        -40.9929783 ,  -82.94635719,  -97.10331211,  109.96351307,\n",
       "        -29.25220248,   -3.39171983,   52.66323723,  -47.76340988,\n",
       "         77.87082596, -151.79709833,  -45.16938216,  207.25078163,\n",
       "        151.94846938,  -13.61527506,  -75.30098607,  -19.2258861 ,\n",
       "       -160.98037122, -122.86397971,  -44.15644653,    9.28925621,\n",
       "         -3.89196892,   36.95119951, -153.30013444,  -48.99043185,\n",
       "       -126.57865811, -121.51342285,  -58.75685951,   18.96749582,\n",
       "         27.22057488, -114.43551613,   37.00139934,   73.75677022,\n",
       "         92.46937824,   89.03488317,   90.86970293,    6.1290826 ,\n",
       "        -95.7566576 ,  103.46253543, -126.66289927,  106.01633326,\n",
       "         79.06846805, -114.01077447,  -48.85466252, -115.39059196,\n",
       "        115.30649672,   50.90006116,  124.19730704,   32.74151476,\n",
       "         66.19007279,  -16.81078706, -128.68977726, -119.2813339 ,\n",
       "        108.27620153,   55.45436901,    6.25570389,   44.53226664,\n",
       "        133.16578583,  -90.65349494,   88.07719723,   23.5414801 ,\n",
       "        130.74177998,   25.9491994 ,   -4.82599535, -120.24904572,\n",
       "         -5.85233482,   89.03493835, -109.70743957,  101.28351994,\n",
       "        -10.43210584,  105.87576724,  -83.99216867,  -50.9291949 ,\n",
       "        -18.04324704,    7.38173369,   69.4984276 ,   41.13771475,\n",
       "         45.72833309, -201.25124854,  127.24229109,  -82.0395847 ,\n",
       "         -5.84437288,  148.72060875, -105.851046  ,    6.32497256,\n",
       "         13.54855672,   29.16743107,  -44.58404218,  137.49920455,\n",
       "       -121.32900532,  -55.90381652,  131.57142712, -101.4437618 ,\n",
       "        145.90699339,   22.41702395,  -37.54056918,  100.17255687,\n",
       "        -30.44047634,   85.53302652,  -13.90618126,   -7.35856254,\n",
       "        -66.61419144,  -29.49194504, -123.49375186,   34.09779318,\n",
       "        -43.70260899,  -76.74780286,   34.78790875,  132.77546356,\n",
       "       -145.72527738,  104.71455351, -191.23021635,   23.45450138,\n",
       "        -41.20369577, -224.33783553,  107.93298634,  112.30356538,\n",
       "        -73.14552713,   77.76368445,  -34.73665817, -113.33554116,\n",
       "        106.10628004,   66.19751503,  -43.92522822,   49.05318291,\n",
       "        -72.48470571,  112.68773664,   27.9810904 ,   17.36958047,\n",
       "        269.61881787,    7.80729067,  -63.39551911,   -9.35431412,\n",
       "         73.31520232,   27.92467008,  216.72869751,  -74.20696285,\n",
       "        -30.27404198,   57.42753676,   77.87346443,  132.22303764,\n",
       "         56.15665223, -119.33185942, -127.94084665,  -57.67374548,\n",
       "         10.53860268,  -32.29606941,   86.23849489, -134.05692175,\n",
       "         28.24562231,   88.33193093,   33.34788681, -316.56189193,\n",
       "         33.04838004,  -72.30115992,   67.76769227,  -16.70674288,\n",
       "        128.57472438,  -49.84981195,  -59.92415629, -176.21061034,\n",
       "       -129.20545355,  -62.13988618,   59.63938334,   16.54822003,\n",
       "         36.32630955,   54.36840736,  -57.22723145,  -25.93542097,\n",
       "        -50.99691271,  145.84899327,  -28.42672908,  -67.97603441,\n",
       "         -1.8318994 ,  101.44057983,  -77.23059352,   26.25870238,\n",
       "       -133.19431518,  -81.31875157,   46.10417521,   59.01638656,\n",
       "        116.96464931,  -60.73559531,   11.78637808, -134.98624959,\n",
       "        136.68607441,    4.07483218,  147.35611543,   33.93517752,\n",
       "        -31.83253589,  -25.20358278,   13.08000629,   14.08950994,\n",
       "          9.98461777,   46.95507153,  -16.82593859,  -24.84244664,\n",
       "       -167.7454407 , -152.41012233, -101.34340598,  174.83131206,\n",
       "         21.86013413, -181.25560474,   29.98773524,  -70.05266107,\n",
       "        131.68293591,   65.02231352, -106.55917467,  -27.17861105,\n",
       "        -45.3532992 , -186.06506973,   59.52221498,    1.95923901,\n",
       "         59.4788215 ,  -35.13601529, -180.53349732,  -24.40578423,\n",
       "        151.49682507,   12.89196943,  -86.08846409,  116.33716085,\n",
       "       -138.10908857,  -95.57651267,   58.06630605,  143.13098029,\n",
       "        -74.47824452,  -19.66509574,  -87.88294421,  -95.28927941,\n",
       "        -10.14008711,   43.15494177,   60.40435127,   26.20541298,\n",
       "       -127.66419656,   67.15185837,   93.85255332,  -68.44985391,\n",
       "         38.50019998,  -46.58610957,  146.81939753,   23.72904197,\n",
       "         94.7561079 ,  165.24279569,   31.24474747,   -5.76901086,\n",
       "         45.85365316,  -24.63769015,   -6.76776547,  229.2099827 ,\n",
       "       -128.50565456,  145.30691365,  -26.60597261,   55.80457675,\n",
       "         76.69498726,  138.88180761,   68.43103414,   94.1733198 ,\n",
       "        140.73209288, -127.94079732,  197.54701326,  -98.71118086,\n",
       "        -36.05858731,  -79.66418028,  123.14405052,  -54.34720713,\n",
       "       -123.59551602,   10.8929217 ,  -26.65636855,  226.05633416,\n",
       "        -41.89347147,   13.62028272,   20.3416935 ,  171.83461173,\n",
       "         12.40587797,  220.32590963,  100.68423794,  -11.02979076,\n",
       "         72.89344545,  128.69446128,  109.7767239 ,  -72.35225984,\n",
       "         61.53060529,  103.18547154,   38.40779704,   22.76119699,\n",
       "       -160.99479836,  -14.5076664 ,  -19.90465155,  131.59978611,\n",
       "        211.50447201,   22.69930547,  151.92605185,    3.35722742,\n",
       "        -48.68657004, -315.26171905,  103.11405913,  238.14605226,\n",
       "       -148.54985248,  178.46043994,   89.89471914,  -43.06441735,\n",
       "         37.38793168,   19.90075091,  -85.81119774,  -12.00929553,\n",
       "        181.67499984,   70.30289809,  139.51384844,   80.01057067,\n",
       "       -158.7832585 ,  116.8721594 ,   88.02402781,  133.7881672 ,\n",
       "        -65.41498557, -170.3639267 ,   38.47012419,  -38.9602882 ,\n",
       "        -12.16863698,   96.97197025, -252.62700056,   63.67640359,\n",
       "       -118.06156281,   42.48204301, -231.18696292,   98.11862786,\n",
       "       -118.39874166,  -66.73178907,  156.08661401,   27.3396201 ,\n",
       "         11.3554266 , -111.14198361,  119.30533149,  158.66032344,\n",
       "        -26.05793289,  -93.06946636,  -80.06548818,  -43.13472506,\n",
       "        -87.48497911,  -36.2515769 ,   29.85328157, -153.8020448 ,\n",
       "       -108.13572915,  -49.28671562,  -32.76081341,   35.9590445 ,\n",
       "         74.74968972,  141.06843297,  198.09198291,  149.87978474,\n",
       "         32.62113937, -297.82392752,  -22.18022883,   15.54695988,\n",
       "         65.41374901,   86.68856295,  155.78187411,   -6.20528323,\n",
       "        -41.90080674,   48.05736704,   45.67223453,   41.67727518,\n",
       "        197.20329509,   68.78320244, -205.28872201,   31.70543259,\n",
       "       -194.17596655, -155.28330387,  -37.38946964,  100.27037597,\n",
       "       -118.9197418 , -147.37208301,  -68.61618347,  -59.93169005,\n",
       "        -24.6124944 ,   60.59492811,  167.00893419,  -66.03066726,\n",
       "         -8.08093376,   85.84493382,  118.82701226,   11.66465963,\n",
       "         -1.2628116 ,  136.27657309,  134.16004395,   52.98994658,\n",
       "         23.08196546,   13.93956689,  -10.71483526,   27.04233139,\n",
       "        116.4648628 ,  134.74927081,  -14.56763503,   28.10739993,\n",
       "       -144.56517076,   49.70430846, -170.78582308,   66.26598412,\n",
       "         -5.95973871,  138.4135288 ,   92.35559933,  -83.78417213,\n",
       "        -53.43006067,   18.43814002,   14.77794858,   33.41584008,\n",
       "        -27.0468437 ,  130.47640103,   70.48404335,   82.70067846,\n",
       "        116.46058902,   33.55324211,  -31.17176534,   38.72687268,\n",
       "          5.78676868,    8.51410735, -106.32824355,  -49.14476018,\n",
       "         37.95580344,  124.83022134,  -54.84486928,   73.76268418,\n",
       "        -45.16229007,  -54.48095662,  -64.19019949,  -36.35556284,\n",
       "        171.31501296,  -60.69942246,  -30.35409677,   -7.55042124,\n",
       "         28.14914758,   47.47655714,  -43.6515559 , -108.82607133,\n",
       "        258.14553888,   12.63609053,  -13.40373179, -124.24779219,\n",
       "        -76.3129381 ,  -72.86501575,  -46.4208922 ,   27.11290412,\n",
       "        -87.20763675,    4.65254796,  126.98042684,  -87.99309876,\n",
       "        -29.49208038, -130.18255077,  -86.11042603, -143.11718807,\n",
       "        -62.86808963,  -31.99324004,   46.04726926,  -35.96205119,\n",
       "       -149.37090842,   94.74668565,  162.50611566,  -96.63395329,\n",
       "         28.71530662,   56.21453754,   26.25377531,   23.37585025,\n",
       "        190.69983946, -107.94318229, -145.87752941,   54.08312239,\n",
       "       -145.29028033,  176.15000485,   21.15220177,  110.57458287,\n",
       "        -38.17743397,   91.89379322,   79.67022103,  -25.78411666,\n",
       "        -27.46058279,   87.0622466 ,  -77.63293394,  135.65115123,\n",
       "          5.65761052,   82.90831412,   53.97553962,    0.7524484 ])"
      ]
     },
     "execution_count": 16,
     "metadata": {},
     "output_type": "execute_result"
    }
   ],
   "source": [
    "np.random.normal(loc = 5, scale=100, size = 1000)"
   ]
  },
  {
   "cell_type": "code",
   "execution_count": null,
   "metadata": {},
   "outputs": [],
   "source": [
    "stats.ttest_ind(g1, g2)"
   ]
  },
  {
   "cell_type": "code",
   "execution_count": 20,
   "metadata": {},
   "outputs": [],
   "source": [
    "def p_value_experiment(location):\n",
    "    np.random.seed(24)\n",
    "    g1 = np.random.normal(size = 1000)\n",
    "    g2 = np.random.normal(loc = location, size = 1000)\n",
    "    tstat, pval = stats.ttest_ind(g1, g2)\n",
    "    sns.distplot(g1, hist = False, label = 'Group 1')\n",
    "    sns.distplot(g2, hist = False, label = 'Group 2')\n",
    "    plt.title(f'The p-value is {pval: .6f}')"
   ]
  },
  {
   "cell_type": "code",
   "execution_count": 21,
   "metadata": {},
   "outputs": [],
   "source": [
    "from ipywidgets import interact\n",
    "import ipywidgets as widgets"
   ]
  },
  {
   "cell_type": "code",
   "execution_count": 22,
   "metadata": {},
   "outputs": [
    {
     "data": {
      "application/vnd.jupyter.widget-view+json": {
       "model_id": "d8167a0f75a24685986f66b8fd05eece",
       "version_major": 2,
       "version_minor": 0
      },
      "text/plain": [
       "interactive(children=(FloatSlider(value=0.0, description='location', max=2.0, min=-2.0, step=0.05), Output()),…"
      ]
     },
     "metadata": {},
     "output_type": "display_data"
    },
    {
     "data": {
      "text/plain": [
       "<function __main__.p_value_experiment(location)>"
      ]
     },
     "execution_count": 22,
     "metadata": {},
     "output_type": "execute_result"
    }
   ],
   "source": [
    "interact(p_value_experiment, location = widgets.FloatSlider(min = -2, max = 2, step = 0.05))"
   ]
  },
  {
   "cell_type": "code",
   "execution_count": 23,
   "metadata": {},
   "outputs": [
    {
     "ename": "NameError",
     "evalue": "name 'g1' is not defined",
     "output_type": "error",
     "traceback": [
      "\u001b[0;31m---------------------------------------------------------------------------\u001b[0m",
      "\u001b[0;31mNameError\u001b[0m                                 Traceback (most recent call last)",
      "\u001b[0;32m<ipython-input-23-aaf458efa677>\u001b[0m in \u001b[0;36m<module>\u001b[0;34m\u001b[0m\n\u001b[1;32m      1\u001b[0m \u001b[0;31m#if not independent?\u001b[0m\u001b[0;34m\u001b[0m\u001b[0;34m\u001b[0m\u001b[0;34m\u001b[0m\u001b[0m\n\u001b[0;32m----> 2\u001b[0;31m \u001b[0mstats\u001b[0m\u001b[0;34m.\u001b[0m\u001b[0mttest_rel\u001b[0m\u001b[0;34m(\u001b[0m\u001b[0mg1\u001b[0m\u001b[0;34m,\u001b[0m \u001b[0mg2\u001b[0m\u001b[0;34m)\u001b[0m\u001b[0;34m\u001b[0m\u001b[0;34m\u001b[0m\u001b[0m\n\u001b[0m",
      "\u001b[0;31mNameError\u001b[0m: name 'g1' is not defined"
     ]
    }
   ],
   "source": [
    "#if not independent?\n",
    "stats.ttest_rel(g1, g2)"
   ]
  },
  {
   "cell_type": "code",
   "execution_count": null,
   "metadata": {},
   "outputs": [],
   "source": [
    "stats.ttest_1samp(g1 - g2, 0)"
   ]
  },
  {
   "cell_type": "code",
   "execution_count": null,
   "metadata": {},
   "outputs": [],
   "source": [
    "df1 = pd.DataFrame({'height': g1, 'label': ['g1' for g in g1]})\n",
    "df2 = pd.DataFrame({'height': g2, 'label': ['g2' for g in g2]})"
   ]
  },
  {
   "cell_type": "code",
   "execution_count": null,
   "metadata": {},
   "outputs": [],
   "source": [
    "df = df1.append(df2)"
   ]
  },
  {
   "cell_type": "code",
   "execution_count": null,
   "metadata": {},
   "outputs": [],
   "source": [
    "df.head()"
   ]
  },
  {
   "cell_type": "code",
   "execution_count": null,
   "metadata": {},
   "outputs": [],
   "source": [
    "from statsmodels.formula.api import ols"
   ]
  },
  {
   "cell_type": "code",
   "execution_count": null,
   "metadata": {},
   "outputs": [],
   "source": [
    "model = ols('height ~ label', df).fit()"
   ]
  },
  {
   "cell_type": "code",
   "execution_count": null,
   "metadata": {},
   "outputs": [],
   "source": [
    "print(model.summary())"
   ]
  },
  {
   "cell_type": "code",
   "execution_count": null,
   "metadata": {},
   "outputs": [],
   "source": [
    "stats.ttest_ind(g1, g2)"
   ]
  }
 ],
 "metadata": {
  "kernelspec": {
   "display_name": "Python 3",
   "language": "python",
   "name": "python3"
  },
  "language_info": {
   "codemirror_mode": {
    "name": "ipython",
    "version": 3
   },
   "file_extension": ".py",
   "mimetype": "text/x-python",
   "name": "python",
   "nbconvert_exporter": "python",
   "pygments_lexer": "ipython3",
   "version": "3.6.9"
  },
  "widgets": {
   "application/vnd.jupyter.widget-state+json": {
    "state": {},
    "version_major": 2,
    "version_minor": 0
   }
  }
 },
 "nbformat": 4,
 "nbformat_minor": 4
}
