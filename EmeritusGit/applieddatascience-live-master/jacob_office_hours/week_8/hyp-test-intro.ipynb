{
 "cells": [
  {
   "cell_type": "markdown",
   "metadata": {},
   "source": [
    "### Hypothesis Tests "
   ]
  },
  {
   "cell_type": "code",
   "execution_count": 1,
   "metadata": {},
   "outputs": [],
   "source": [
    "%matplotlib inline\n",
    "import matplotlib.pyplot as plt\n",
    "import numpy as np\n",
    "import pandas as pd\n",
    "from scipy import stats"
   ]
  },
  {
   "cell_type": "markdown",
   "metadata": {},
   "source": [
    "##### Normal Distribution"
   ]
  },
  {
   "cell_type": "code",
   "execution_count": 2,
   "metadata": {},
   "outputs": [],
   "source": [
    "x = np.linspace(stats.norm.ppf(0.01), stats.norm.ppf(0.99), 1000)\n",
    "distribution = stats.norm.pdf(x)"
   ]
  },
  {
   "cell_type": "code",
   "execution_count": 3,
   "metadata": {},
   "outputs": [
    {
     "data": {
      "text/plain": [
       "Text(0.5, 1.0, 'A Normal Distribution')"
      ]
     },
     "execution_count": 3,
     "metadata": {},
     "output_type": "execute_result"
    },
    {
     "data": {
      "image/png": "[encoded data removed]",
      "text/plain": [
       "<Figure size 432x288 with 1 Axes>"
      ]
     },
     "metadata": {
      "needs_background": "light"
     },
     "output_type": "display_data"
    }
   ],
   "source": [
    "plt.plot(x, distribution)\n",
    "plt.title('A Normal Distribution')"
   ]
  },
  {
   "cell_type": "code",
   "execution_count": 4,
   "metadata": {},
   "outputs": [],
   "source": [
    "df = pd.DataFrame({'heights': distribution}, index=x)"
   ]
  },
  {
   "cell_type": "code",
   "execution_count": 5,
   "metadata": {},
   "outputs": [
    {
     "data": {
      "text/html": [
       "<div>\n",
       "<style scoped>\n",
       "    .dataframe tbody tr th:only-of-type {\n",
       "        vertical-align: middle;\n",
       "    }\n",
       "\n",
       "    .dataframe tbody tr th {\n",
       "        vertical-align: top;\n",
       "    }\n",
       "\n",
       "    .dataframe thead th {\n",
       "        text-align: right;\n",
       "    }\n",
       "</style>\n",
       "<table border=\"1\" class=\"dataframe\">\n",
       "  <thead>\n",
       "    <tr style=\"text-align: right;\">\n",
       "      <th></th>\n",
       "      <th>heights</th>\n",
       "    </tr>\n",
       "  </thead>\n",
       "  <tbody>\n",
       "    <tr>\n",
       "      <td>-2.326348</td>\n",
       "      <td>0.026652</td>\n",
       "    </tr>\n",
       "    <tr>\n",
       "      <td>-2.321691</td>\n",
       "      <td>0.026942</td>\n",
       "    </tr>\n",
       "    <tr>\n",
       "      <td>-2.317033</td>\n",
       "      <td>0.027235</td>\n",
       "    </tr>\n",
       "    <tr>\n",
       "      <td>-2.312376</td>\n",
       "      <td>0.027530</td>\n",
       "    </tr>\n",
       "    <tr>\n",
       "      <td>-2.307718</td>\n",
       "      <td>0.027828</td>\n",
       "    </tr>\n",
       "    <tr>\n",
       "      <td>...</td>\n",
       "      <td>...</td>\n",
       "    </tr>\n",
       "    <tr>\n",
       "      <td>2.307718</td>\n",
       "      <td>0.027828</td>\n",
       "    </tr>\n",
       "    <tr>\n",
       "      <td>2.312376</td>\n",
       "      <td>0.027530</td>\n",
       "    </tr>\n",
       "    <tr>\n",
       "      <td>2.317033</td>\n",
       "      <td>0.027235</td>\n",
       "    </tr>\n",
       "    <tr>\n",
       "      <td>2.321691</td>\n",
       "      <td>0.026942</td>\n",
       "    </tr>\n",
       "    <tr>\n",
       "      <td>2.326348</td>\n",
       "      <td>0.026652</td>\n",
       "    </tr>\n",
       "  </tbody>\n",
       "</table>\n",
       "<p>1000 rows × 1 columns</p>\n",
       "</div>"
      ],
      "text/plain": [
       "            heights\n",
       "-2.326348  0.026652\n",
       "-2.321691  0.026942\n",
       "-2.317033  0.027235\n",
       "-2.312376  0.027530\n",
       "-2.307718  0.027828\n",
       "...             ...\n",
       " 2.307718  0.027828\n",
       " 2.312376  0.027530\n",
       " 2.317033  0.027235\n",
       " 2.321691  0.026942\n",
       " 2.326348  0.026652\n",
       "\n",
       "[1000 rows x 1 columns]"
      ]
     },
     "execution_count": 5,
     "metadata": {},
     "output_type": "execute_result"
    }
   ],
   "source": [
    "df"
   ]
  },
  {
   "cell_type": "code",
   "execution_count": 6,
   "metadata": {},
   "outputs": [
    {
     "data": {
      "text/plain": [
       "0"
      ]
     },
     "execution_count": 6,
     "metadata": {},
     "output_type": "execute_result"
    }
   ],
   "source": [
    "#coin example\n",
    "##one coin flip\n",
    "np.random.binomial(1, 0.5)"
   ]
  },
  {
   "cell_type": "code",
   "execution_count": 11,
   "metadata": {},
   "outputs": [
    {
     "data": {
      "text/plain": [
       "0.499"
      ]
     },
     "execution_count": 11,
     "metadata": {},
     "output_type": "execute_result"
    }
   ],
   "source": [
    "np.random.binomial(1000, 0.5)/1000"
   ]
  },
  {
   "cell_type": "code",
   "execution_count": 12,
   "metadata": {},
   "outputs": [],
   "source": [
    "distribution_of_flips = np.random.binomial(100, 0.5, 1000)"
   ]
  },
  {
   "cell_type": "code",
   "execution_count": 14,
   "metadata": {},
   "outputs": [],
   "source": [
    "import seaborn as sns"
   ]
  },
  {
   "cell_type": "code",
   "execution_count": 15,
   "metadata": {},
   "outputs": [
    {
     "data": {
      "text/plain": [
       "<matplotlib.axes._subplots.AxesSubplot at 0x7ff558e67450>"
      ]
     },
     "execution_count": 15,
     "metadata": {},
     "output_type": "execute_result"
    },
    {
     "data": {
      "image/png": "[encoded data removed]",
      "text/plain": [
       "<Figure size 432x288 with 1 Axes>"
      ]
     },
     "metadata": {
      "needs_background": "light"
     },
     "output_type": "display_data"
    }
   ],
   "source": [
    "sns.distplot(distribution_of_flips, hist=False)"
   ]
  },
  {
   "cell_type": "code",
   "execution_count": 16,
   "metadata": {},
   "outputs": [
    {
     "data": {
      "text/plain": [
       "<matplotlib.axes._subplots.AxesSubplot at 0x7ff57057b510>"
      ]
     },
     "execution_count": 16,
     "metadata": {},
     "output_type": "execute_result"
    },
    {
     "data": {
      "image/png": "[encoded data removed]",
      "text/plain": [
       "<Figure size 432x288 with 1 Axes>"
      ]
     },
     "metadata": {
      "needs_background": "light"
     },
     "output_type": "display_data"
    }
   ],
   "source": [
    "#gaussian\n",
    "sns.distplot(np.random.normal(size = 1000), hist = False, label = 'Group 1')\n",
    "sns.distplot(np.random.normal(loc = 0.75, size = 1000), hist = False, label = 'Group 2')"
   ]
  },
  {
   "cell_type": "markdown",
   "metadata": {},
   "source": [
    "#### Hypothesis Tests\n",
    "\n",
    "- What's the distribution that I'm imagining -- here it's a normal with mean 0.  \n",
    "- p-value: 0.001"
   ]
  },
  {
   "cell_type": "code",
   "execution_count": 18,
   "metadata": {},
   "outputs": [
    {
     "data": {
      "text/plain": [
       "0.21044655257960368"
      ]
     },
     "execution_count": 18,
     "metadata": {},
     "output_type": "execute_result"
    }
   ],
   "source": [
    "df['heights'].mean()"
   ]
  },
  {
   "cell_type": "code",
   "execution_count": 17,
   "metadata": {},
   "outputs": [
    {
     "data": {
      "text/plain": [
       "Ttest_1sampResult(statistic=52.22422013642443, pvalue=7.858255959734121e-288)"
      ]
     },
     "execution_count": 17,
     "metadata": {},
     "output_type": "execute_result"
    }
   ],
   "source": [
    "#1-sample t-test\n",
    "#test if mean is likely equal to some value\n",
    "stats.ttest_1samp(df['heights'], 0)"
   ]
  },
  {
   "cell_type": "code",
   "execution_count": 20,
   "metadata": {},
   "outputs": [],
   "source": [
    "g1 = np.random.normal(size = 1000)\n",
    "g2 = np.random.normal(loc = 0.75, size = 1000)"
   ]
  },
  {
   "cell_type": "code",
   "execution_count": 21,
   "metadata": {},
   "outputs": [
    {
     "data": {
      "text/plain": [
       "Ttest_indResult(statistic=-15.76242030251274, pvalue=7.5311472115746715e-53)"
      ]
     },
     "execution_count": 21,
     "metadata": {},
     "output_type": "execute_result"
    }
   ],
   "source": [
    "stats.ttest_ind(g1, g2)"
   ]
  },
  {
   "cell_type": "code",
   "execution_count": 28,
   "metadata": {},
   "outputs": [],
   "source": [
    "def p_value_experiment(location, sample):\n",
    "    np.random.seed(24)\n",
    "    g1 = np.random.normal(size = sample)\n",
    "    g2 = np.random.normal(loc = location, size = sample)\n",
    "    tstat, pval = stats.ttest_ind(g1, g2)\n",
    "    sns.distplot(g1, hist = False, label = 'Group 1')\n",
    "    sns.distplot(g2, hist = False, label = 'Group 2')\n",
    "    plt.title(f'The p-value is {pval: .10f}')"
   ]
  },
  {
   "cell_type": "code",
   "execution_count": 29,
   "metadata": {},
   "outputs": [],
   "source": [
    "from ipywidgets import interact\n",
    "import ipywidgets as widgets"
   ]
  },
  {
   "cell_type": "code",
   "execution_count": 31,
   "metadata": {},
   "outputs": [
    {
     "data": {
      "application/vnd.jupyter.widget-view+json": {
       "model_id": "a1f83e3b69c94516b3643b9bc1b058ea",
       "version_major": 2,
       "version_minor": 0
      },
      "text/plain": [
       "interactive(children=(FloatSlider(value=0.0, description='location', max=2.0, min=-2.0, step=0.05), IntSlider(…"
      ]
     },
     "metadata": {},
     "output_type": "display_data"
    },
    {
     "data": {
      "text/plain": [
       "<function __main__.p_value_experiment(location, sample)>"
      ]
     },
     "execution_count": 31,
     "metadata": {},
     "output_type": "execute_result"
    }
   ],
   "source": [
    "interact(p_value_experiment, location = widgets.FloatSlider(min = -2, max = 2, step = 0.05),\n",
    "        sample = widgets.IntSlider(min = 10, max = 100_000, step = 10))"
   ]
  },
  {
   "cell_type": "code",
   "execution_count": 32,
   "metadata": {},
   "outputs": [
    {
     "data": {
      "text/plain": [
       "Ttest_relResult(statistic=-15.639051023370609, pvalue=1.7655049930810358e-49)"
      ]
     },
     "execution_count": 32,
     "metadata": {},
     "output_type": "execute_result"
    }
   ],
   "source": [
    "#if not independent?\n",
    "stats.ttest_rel(g1, g2)"
   ]
  },
  {
   "cell_type": "code",
   "execution_count": 33,
   "metadata": {},
   "outputs": [
    {
     "data": {
      "text/plain": [
       "Ttest_1sampResult(statistic=-15.639051023370609, pvalue=1.7655049930810358e-49)"
      ]
     },
     "execution_count": 33,
     "metadata": {},
     "output_type": "execute_result"
    }
   ],
   "source": [
    "stats.ttest_1samp(g1 - g2, 0)"
   ]
  },
  {
   "cell_type": "code",
   "execution_count": 34,
   "metadata": {},
   "outputs": [],
   "source": [
    "titanic = sns.load_dataset('titanic')"
   ]
  },
  {
   "cell_type": "code",
   "execution_count": 35,
   "metadata": {},
   "outputs": [],
   "source": [
    "tips = sns.load_dataset('tips')"
   ]
  },
  {
   "cell_type": "code",
   "execution_count": 36,
   "metadata": {},
   "outputs": [
    {
     "data": {
      "text/html": [
       "<div>\n",
       "<style scoped>\n",
       "    .dataframe tbody tr th:only-of-type {\n",
       "        vertical-align: middle;\n",
       "    }\n",
       "\n",
       "    .dataframe tbody tr th {\n",
       "        vertical-align: top;\n",
       "    }\n",
       "\n",
       "    .dataframe thead th {\n",
       "        text-align: right;\n",
       "    }\n",
       "</style>\n",
       "<table border=\"1\" class=\"dataframe\">\n",
       "  <thead>\n",
       "    <tr style=\"text-align: right;\">\n",
       "      <th></th>\n",
       "      <th>survived</th>\n",
       "      <th>pclass</th>\n",
       "      <th>sex</th>\n",
       "      <th>age</th>\n",
       "      <th>sibsp</th>\n",
       "      <th>parch</th>\n",
       "      <th>fare</th>\n",
       "      <th>embarked</th>\n",
       "      <th>class</th>\n",
       "      <th>who</th>\n",
       "      <th>adult_male</th>\n",
       "      <th>deck</th>\n",
       "      <th>embark_town</th>\n",
       "      <th>alive</th>\n",
       "      <th>alone</th>\n",
       "    </tr>\n",
       "  </thead>\n",
       "  <tbody>\n",
       "    <tr>\n",
       "      <td>0</td>\n",
       "      <td>0</td>\n",
       "      <td>3</td>\n",
       "      <td>male</td>\n",
       "      <td>22.0</td>\n",
       "      <td>1</td>\n",
       "      <td>0</td>\n",
       "      <td>7.2500</td>\n",
       "      <td>S</td>\n",
       "      <td>Third</td>\n",
       "      <td>man</td>\n",
       "      <td>True</td>\n",
       "      <td>NaN</td>\n",
       "      <td>Southampton</td>\n",
       "      <td>no</td>\n",
       "      <td>False</td>\n",
       "    </tr>\n",
       "    <tr>\n",
       "      <td>1</td>\n",
       "      <td>1</td>\n",
       "      <td>1</td>\n",
       "      <td>female</td>\n",
       "      <td>38.0</td>\n",
       "      <td>1</td>\n",
       "      <td>0</td>\n",
       "      <td>71.2833</td>\n",
       "      <td>C</td>\n",
       "      <td>First</td>\n",
       "      <td>woman</td>\n",
       "      <td>False</td>\n",
       "      <td>C</td>\n",
       "      <td>Cherbourg</td>\n",
       "      <td>yes</td>\n",
       "      <td>False</td>\n",
       "    </tr>\n",
       "    <tr>\n",
       "      <td>2</td>\n",
       "      <td>1</td>\n",
       "      <td>3</td>\n",
       "      <td>female</td>\n",
       "      <td>26.0</td>\n",
       "      <td>0</td>\n",
       "      <td>0</td>\n",
       "      <td>7.9250</td>\n",
       "      <td>S</td>\n",
       "      <td>Third</td>\n",
       "      <td>woman</td>\n",
       "      <td>False</td>\n",
       "      <td>NaN</td>\n",
       "      <td>Southampton</td>\n",
       "      <td>yes</td>\n",
       "      <td>True</td>\n",
       "    </tr>\n",
       "    <tr>\n",
       "      <td>3</td>\n",
       "      <td>1</td>\n",
       "      <td>1</td>\n",
       "      <td>female</td>\n",
       "      <td>35.0</td>\n",
       "      <td>1</td>\n",
       "      <td>0</td>\n",
       "      <td>53.1000</td>\n",
       "      <td>S</td>\n",
       "      <td>First</td>\n",
       "      <td>woman</td>\n",
       "      <td>False</td>\n",
       "      <td>C</td>\n",
       "      <td>Southampton</td>\n",
       "      <td>yes</td>\n",
       "      <td>False</td>\n",
       "    </tr>\n",
       "    <tr>\n",
       "      <td>4</td>\n",
       "      <td>0</td>\n",
       "      <td>3</td>\n",
       "      <td>male</td>\n",
       "      <td>35.0</td>\n",
       "      <td>0</td>\n",
       "      <td>0</td>\n",
       "      <td>8.0500</td>\n",
       "      <td>S</td>\n",
       "      <td>Third</td>\n",
       "      <td>man</td>\n",
       "      <td>True</td>\n",
       "      <td>NaN</td>\n",
       "      <td>Southampton</td>\n",
       "      <td>no</td>\n",
       "      <td>True</td>\n",
       "    </tr>\n",
       "  </tbody>\n",
       "</table>\n",
       "</div>"
      ],
      "text/plain": [
       "   survived  pclass     sex   age  sibsp  parch     fare embarked  class  \\\n",
       "0         0       3    male  22.0      1      0   7.2500        S  Third   \n",
       "1         1       1  female  38.0      1      0  71.2833        C  First   \n",
       "2         1       3  female  26.0      0      0   7.9250        S  Third   \n",
       "3         1       1  female  35.0      1      0  53.1000        S  First   \n",
       "4         0       3    male  35.0      0      0   8.0500        S  Third   \n",
       "\n",
       "     who  adult_male deck  embark_town alive  alone  \n",
       "0    man        True  NaN  Southampton    no  False  \n",
       "1  woman       False    C    Cherbourg   yes  False  \n",
       "2  woman       False  NaN  Southampton   yes   True  \n",
       "3  woman       False    C  Southampton   yes  False  \n",
       "4    man        True  NaN  Southampton    no   True  "
      ]
     },
     "execution_count": 36,
     "metadata": {},
     "output_type": "execute_result"
    }
   ],
   "source": [
    "titanic.head()"
   ]
  },
  {
   "cell_type": "code",
   "execution_count": 46,
   "metadata": {},
   "outputs": [],
   "source": [
    "survived = titanic.loc[titanic['survived'] == 1]['fare'].dropna()\n",
    "died = titanic.loc[titanic['survived'] == 0]['fare'].dropna()"
   ]
  },
  {
   "cell_type": "code",
   "execution_count": 47,
   "metadata": {},
   "outputs": [
    {
     "data": {
      "text/plain": [
       "<matplotlib.axes._subplots.AxesSubplot at 0x7ff5988f6890>"
      ]
     },
     "execution_count": 47,
     "metadata": {},
     "output_type": "execute_result"
    },
    {
     "data": {
      "image/png": "[encoded data removed]",
      "text/plain": [
       "<Figure size 432x288 with 1 Axes>"
      ]
     },
     "metadata": {
      "needs_background": "light"
     },
     "output_type": "display_data"
    }
   ],
   "source": [
    "sns.distplot(survived, hist = False)\n",
    "sns.distplot(died, hist = False)"
   ]
  },
  {
   "cell_type": "code",
   "execution_count": 48,
   "metadata": {},
   "outputs": [
    {
     "data": {
      "text/plain": [
       "48.39540760233917"
      ]
     },
     "execution_count": 48,
     "metadata": {},
     "output_type": "execute_result"
    }
   ],
   "source": [
    "survived.mean()"
   ]
  },
  {
   "cell_type": "code",
   "execution_count": 49,
   "metadata": {},
   "outputs": [
    {
     "data": {
      "text/plain": [
       "22.117886885245877"
      ]
     },
     "execution_count": 49,
     "metadata": {},
     "output_type": "execute_result"
    }
   ],
   "source": [
    "died.mean()"
   ]
  },
  {
   "cell_type": "code",
   "execution_count": 50,
   "metadata": {},
   "outputs": [
    {
     "data": {
      "text/plain": [
       "Ttest_indResult(statistic=7.939191660871055, pvalue=6.120189341924198e-15)"
      ]
     },
     "execution_count": 50,
     "metadata": {},
     "output_type": "execute_result"
    }
   ],
   "source": [
    "stats.ttest_ind(survived, died)"
   ]
  },
  {
   "cell_type": "code",
   "execution_count": 51,
   "metadata": {},
   "outputs": [
    {
     "data": {
      "text/html": [
       "<div>\n",
       "<style scoped>\n",
       "    .dataframe tbody tr th:only-of-type {\n",
       "        vertical-align: middle;\n",
       "    }\n",
       "\n",
       "    .dataframe tbody tr th {\n",
       "        vertical-align: top;\n",
       "    }\n",
       "\n",
       "    .dataframe thead th {\n",
       "        text-align: right;\n",
       "    }\n",
       "</style>\n",
       "<table border=\"1\" class=\"dataframe\">\n",
       "  <thead>\n",
       "    <tr style=\"text-align: right;\">\n",
       "      <th></th>\n",
       "      <th>total_bill</th>\n",
       "      <th>tip</th>\n",
       "      <th>sex</th>\n",
       "      <th>smoker</th>\n",
       "      <th>day</th>\n",
       "      <th>time</th>\n",
       "      <th>size</th>\n",
       "    </tr>\n",
       "  </thead>\n",
       "  <tbody>\n",
       "    <tr>\n",
       "      <td>0</td>\n",
       "      <td>16.99</td>\n",
       "      <td>1.01</td>\n",
       "      <td>Female</td>\n",
       "      <td>No</td>\n",
       "      <td>Sun</td>\n",
       "      <td>Dinner</td>\n",
       "      <td>2</td>\n",
       "    </tr>\n",
       "    <tr>\n",
       "      <td>1</td>\n",
       "      <td>10.34</td>\n",
       "      <td>1.66</td>\n",
       "      <td>Male</td>\n",
       "      <td>No</td>\n",
       "      <td>Sun</td>\n",
       "      <td>Dinner</td>\n",
       "      <td>3</td>\n",
       "    </tr>\n",
       "    <tr>\n",
       "      <td>2</td>\n",
       "      <td>21.01</td>\n",
       "      <td>3.50</td>\n",
       "      <td>Male</td>\n",
       "      <td>No</td>\n",
       "      <td>Sun</td>\n",
       "      <td>Dinner</td>\n",
       "      <td>3</td>\n",
       "    </tr>\n",
       "    <tr>\n",
       "      <td>3</td>\n",
       "      <td>23.68</td>\n",
       "      <td>3.31</td>\n",
       "      <td>Male</td>\n",
       "      <td>No</td>\n",
       "      <td>Sun</td>\n",
       "      <td>Dinner</td>\n",
       "      <td>2</td>\n",
       "    </tr>\n",
       "    <tr>\n",
       "      <td>4</td>\n",
       "      <td>24.59</td>\n",
       "      <td>3.61</td>\n",
       "      <td>Female</td>\n",
       "      <td>No</td>\n",
       "      <td>Sun</td>\n",
       "      <td>Dinner</td>\n",
       "      <td>4</td>\n",
       "    </tr>\n",
       "  </tbody>\n",
       "</table>\n",
       "</div>"
      ],
      "text/plain": [
       "   total_bill   tip     sex smoker  day    time  size\n",
       "0       16.99  1.01  Female     No  Sun  Dinner     2\n",
       "1       10.34  1.66    Male     No  Sun  Dinner     3\n",
       "2       21.01  3.50    Male     No  Sun  Dinner     3\n",
       "3       23.68  3.31    Male     No  Sun  Dinner     2\n",
       "4       24.59  3.61  Female     No  Sun  Dinner     4"
      ]
     },
     "execution_count": 51,
     "metadata": {},
     "output_type": "execute_result"
    }
   ],
   "source": [
    "tips.head()"
   ]
  },
  {
   "cell_type": "code",
   "execution_count": 57,
   "metadata": {},
   "outputs": [],
   "source": [
    "smoker = tips.loc[tips['time'] == 'Dinner']['tip']\n",
    "nonsmoker = tips.loc[tips['time'] != 'Dinner']['tip']"
   ]
  },
  {
   "cell_type": "code",
   "execution_count": 58,
   "metadata": {},
   "outputs": [
    {
     "data": {
      "text/plain": [
       "<matplotlib.axes._subplots.AxesSubplot at 0x7ff5888b4250>"
      ]
     },
     "execution_count": 58,
     "metadata": {},
     "output_type": "execute_result"
    },
    {
     "data": {
      "image/png": "[encoded data removed]",
      "text/plain": [
       "<Figure size 432x288 with 1 Axes>"
      ]
     },
     "metadata": {
      "needs_background": "light"
     },
     "output_type": "display_data"
    }
   ],
   "source": [
    "sns.distplot(smoker, hist = False)\n",
    "sns.distplot(nonsmoker, hist = False)"
   ]
  },
  {
   "cell_type": "code",
   "execution_count": 59,
   "metadata": {},
   "outputs": [
    {
     "data": {
      "text/plain": [
       "Ttest_indResult(statistic=1.9062569301202392, pvalue=0.05780153475171558)"
      ]
     },
     "execution_count": 59,
     "metadata": {},
     "output_type": "execute_result"
    }
   ],
   "source": [
    "stats.ttest_ind(smoker, nonsmoker)"
   ]
  },
  {
   "cell_type": "code",
   "execution_count": null,
   "metadata": {},
   "outputs": [],
   "source": []
  },
  {
   "cell_type": "code",
   "execution_count": null,
   "metadata": {},
   "outputs": [],
   "source": []
  },
  {
   "cell_type": "code",
   "execution_count": null,
   "metadata": {},
   "outputs": [],
   "source": [
    "df1 = pd.DataFrame({'height': g1, 'label': ['g1' for g in g1]})\n",
    "df2 = pd.DataFrame({'height': g2, 'label': ['g2' for g in g2]})"
   ]
  },
  {
   "cell_type": "code",
   "execution_count": null,
   "metadata": {},
   "outputs": [],
   "source": [
    "df = df1.append(df2)"
   ]
  },
  {
   "cell_type": "code",
   "execution_count": null,
   "metadata": {},
   "outputs": [],
   "source": [
    "df.head()"
   ]
  },
  {
   "cell_type": "code",
   "execution_count": null,
   "metadata": {},
   "outputs": [],
   "source": [
    "from statsmodels.formula.api import ols"
   ]
  },
  {
   "cell_type": "code",
   "execution_count": null,
   "metadata": {},
   "outputs": [],
   "source": [
    "model = ols('height ~ label', df).fit()"
   ]
  },
  {
   "cell_type": "code",
   "execution_count": null,
   "metadata": {},
   "outputs": [],
   "source": [
    "print(model.summary())"
   ]
  },
  {
   "cell_type": "code",
   "execution_count": null,
   "metadata": {},
   "outputs": [],
   "source": [
    "stats.ttest_ind(g1, g2)"
   ]
  }
 ],
 "metadata": {
  "kernelspec": {
   "display_name": "Python 3",
   "language": "python",
   "name": "python3"
  },
  "language_info": {
   "codemirror_mode": {
    "name": "ipython",
    "version": 3
   },
   "file_extension": ".py",
   "mimetype": "text/x-python",
   "name": "python",
   "nbconvert_exporter": "python",
   "pygments_lexer": "ipython3",
   "version": "3.7.4"
  },
  "widgets": {
   "application/vnd.jupyter.widget-state+json": {
    "state": {
     "02b8212474d64be4814d013c01376089": {
      "model_module": "@jupyter-widgets/controls",
      "model_module_version": "1.5.0",
      "model_name": "FloatSliderModel",
      "state": {
       "description": "location",
       "layout": "IPY_MODEL_74c4f4e5e6054d109893268c1a8cb1be",
       "max": 2,
       "min": -2,
       "step": 0.05,
       "style": "IPY_MODEL_124cfc522d6f40f68c066f876bd67ee0",
       "value": 1.95
      }
     },
     "0866c4c3c13e4134899534dffdf2d430": {
      "model_module": "@jupyter-widgets/controls",
      "model_module_version": "1.5.0",
      "model_name": "SliderStyleModel",
      "state": {
       "description_width": ""
      }
     },
     "0c46260e31eb47588156aa8003bb80d5": {
      "model_module": "@jupyter-widgets/base",
      "model_module_version": "1.2.0",
      "model_name": "LayoutModel",
      "state": {}
     },
     "0c4b7312ef6b468da31e30aac2d7b5ad": {
      "model_module": "@jupyter-widgets/base",
      "model_module_version": "1.2.0",
      "model_name": "LayoutModel",
      "state": {}
     },
     "124cfc522d6f40f68c066f876bd67ee0": {
      "model_module": "@jupyter-widgets/controls",
      "model_module_version": "1.5.0",
      "model_name": "SliderStyleModel",
      "state": {
       "description_width": ""
      }
     },
     "14b04b4e44ea42c4b51d35f208721c9c": {
      "model_module": "@jupyter-widgets/base",
      "model_module_version": "1.2.0",
      "model_name": "LayoutModel",
      "state": {}
     },
     "1b57b750b9ff42a4b8f591ba8f91e064": {
      "model_module": "@jupyter-widgets/controls",
      "model_module_version": "1.5.0",
      "model_name": "SliderStyleModel",
      "state": {
       "description_width": ""
      }
     },
     "334a1b58f7484326b6bd4732e094acdf": {
      "model_module": "@jupyter-widgets/output",
      "model_module_version": "1.0.0",
      "model_name": "OutputModel",
      "state": {
       "layout": "IPY_MODEL_8ed94c26308545c581139f07e9526033",
       "outputs": [
        {
         "data": {
          "image/png": "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\n",
          "text/plain": "<Figure size 432x288 with 1 Axes>"
         },
         "metadata": {
          "needs_background": "light"
         },
         "output_type": "display_data"
        }
       ]
      }
     },
     "44bb801fb49b417b8a1a51815de59f79": {
      "model_module": "@jupyter-widgets/base",
      "model_module_version": "1.2.0",
      "model_name": "LayoutModel",
      "state": {}
     },
     "513a3f469e8b4bd5b052ef04e63ba700": {
      "model_module": "@jupyter-widgets/controls",
      "model_module_version": "1.5.0",
      "model_name": "FloatSliderModel",
      "state": {
       "description": "location",
       "layout": "IPY_MODEL_5722a181e8e542549f6019d3838432eb",
       "max": 2,
       "min": -2,
       "step": 0.05,
       "style": "IPY_MODEL_1b57b750b9ff42a4b8f591ba8f91e064",
       "value": 1.45
      }
     },
     "55524c2a87dc49ee877d794e042a5482": {
      "model_module": "@jupyter-widgets/output",
      "model_module_version": "1.0.0",
      "model_name": "OutputModel",
      "state": {
       "layout": "IPY_MODEL_db2b0cbe9532430986eb5ed743ebb18a",
       "outputs": [
        {
         "data": {
          "image/png": "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\n",
          "text/plain": "<Figure size 432x288 with 1 Axes>"
         },
         "metadata": {
          "needs_background": "light"
         },
         "output_type": "display_data"
        }
       ]
      }
     },
     "5722a181e8e542549f6019d3838432eb": {
      "model_module": "@jupyter-widgets/base",
      "model_module_version": "1.2.0",
      "model_name": "LayoutModel",
      "state": {}
     },
     "5aecd6a2669d40aa84ef20665c75e7ae": {
      "model_module": "@jupyter-widgets/base",
      "model_module_version": "1.2.0",
      "model_name": "LayoutModel",
      "state": {}
     },
     "5e6a3a1106f647ec8c12e7fc8dd93aae": {
      "model_module": "@jupyter-widgets/base",
      "model_module_version": "1.2.0",
      "model_name": "LayoutModel",
      "state": {}
     },
     "61e53f84450e44e88dc34da8e0306293": {
      "model_module": "@jupyter-widgets/output",
      "model_module_version": "1.0.0",
      "model_name": "OutputModel",
      "state": {
       "layout": "IPY_MODEL_44bb801fb49b417b8a1a51815de59f79",
       "outputs": [
        {
         "data": {
          "image/png": "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\n",
          "text/plain": "<Figure size 432x288 with 1 Axes>"
         },
         "metadata": {
          "needs_background": "light"
         },
         "output_type": "display_data"
        }
       ]
      }
     },
     "63ded94b2430432f9e454392f358859c": {
      "model_module": "@jupyter-widgets/base",
      "model_module_version": "1.2.0",
      "model_name": "LayoutModel",
      "state": {}
     },
     "73af595a877e4e0f8da86ccda1ca0678": {
      "model_module": "@jupyter-widgets/controls",
      "model_module_version": "1.5.0",
      "model_name": "VBoxModel",
      "state": {
       "_dom_classes": [
        "widget-interact"
       ],
       "children": [
        "IPY_MODEL_f41a730e31404054b8535e65f6616b28",
        "IPY_MODEL_61e53f84450e44e88dc34da8e0306293"
       ],
       "layout": "IPY_MODEL_0c46260e31eb47588156aa8003bb80d5"
      }
     },
     "74c4f4e5e6054d109893268c1a8cb1be": {
      "model_module": "@jupyter-widgets/base",
      "model_module_version": "1.2.0",
      "model_name": "LayoutModel",
      "state": {}
     },
     "7a63792d4ffa42fbad5a214954ed3300": {
      "model_module": "@jupyter-widgets/controls",
      "model_module_version": "1.5.0",
      "model_name": "VBoxModel",
      "state": {
       "_dom_classes": [
        "widget-interact"
       ],
       "children": [
        "IPY_MODEL_513a3f469e8b4bd5b052ef04e63ba700",
        "IPY_MODEL_55524c2a87dc49ee877d794e042a5482"
       ],
       "layout": "IPY_MODEL_14b04b4e44ea42c4b51d35f208721c9c"
      }
     },
     "7de859f15b8b41af9f01da095af72fff": {
      "model_module": "@jupyter-widgets/output",
      "model_module_version": "1.0.0",
      "model_name": "OutputModel",
      "state": {
       "layout": "IPY_MODEL_5e6a3a1106f647ec8c12e7fc8dd93aae",
       "outputs": [
        {
         "data": {
          "image/png": "iVBORw0KGgoAAAANSUhEUgAAAXoAAAEICAYAAABRSj9aAAAABHNCSVQICAgIfAhkiAAAAAlwSFlzAAALEgAACxIB0t1+/AAAADh0RVh0U29mdHdhcmUAbWF0cGxvdGxpYiB2ZXJzaW9uMy4yLjEsIGh0dHA6Ly9tYXRwbG90bGliLm9yZy+j8jraAAAgAElEQVR4nO3deXxU5dn/8c+VnYSwJAQQAiTsBAhbiCiIioBQFdTa1qUuta1aly726VP7tL/W2t0uT9un1mqrtYuWuouKLC6gIFtAZF9C2MIaEraQhGRmrt8fc7BjzDIJk5xZrvfrNS/nnHOfM98ZyZWT+5y5b1FVjDHGRK84twMYY4xpW1bojTEmylmhN8aYKGeF3hhjopwVemOMiXJW6I0xJspZoY8RIvKgiPzT7RwtISK3icjSNjhuXxGpFJH4UB/bmHBkhT5KOIXr7MMnItUByze5nS+cqOpeVe2oqt5zOY74/UJEyp3HL0REGml7hYgsFZHjInJIRP4iIukB2zNE5N/OcY6KyNMi0ilg+49EZIOIeETkwRYe+7Mi8r6IVInI4ibezy0ioiLypYB1XUTkbyJyxHnUf+1zybWp3r9bj4i82vgnblrLCn2UcApXR1XtCOwFrgpY97Tb+aLUHcDVwCggH7gKuLORtp2BHwO9gGFAb+CXAdt/DHQFcoEBQA/gwYDtxcB/A6+34tgVwG+Bnzf2RkSkK/A/wKZ6m/4XSAVygELgZhH5QihyqerwgH+z6cA+4LnGMprWs0IfW5JE5O8icso5myo4u0FEeonICyJSJiK7ROSrjR1ERJ4SkT+JyCLnWEtEpF8jbR8VkV/VW/eKiNzvPH9ARHY6x9ksItc0cpwc52wzIWDd4npnn7eLyBYROSYiC5rI9LFjOV1EJU6GXS34C+hW4NeqWqqq+4FfA7c11FBVn1HV+apaparHgD8DEwOa5AIvq+pJVT0BvAQMD9j/b6r6BnCqpcdW1TdV9VngQBPv5WfA74Gj9dZfBTzsHHs38ARweyhy1TMZ6Aa80ERG00pW6GPLLGAO0AWYC/wBQETigFeBD/GfdV0GfF1ELm/iWDcBP8L/w7kOaOyvhn8BnzvbpeGcOU53cgDsBC7Cf/b3Q+CfInJeS9+YiMzGf0Z6LZAFvOe8dnP7peEvcDNVNR240Hk/wRiO/zM760MCinMzJvPxs+dHgCtFpKvzGX0aeCPIYzV37CaJSCFQAPypsSb1no9og1y3Ai+o6ulWHts0wQp9bFmqqvOcvul/4O9yABgPZKnqQ6paq6ol+M++rm/iWK+r6ruqegb4LnCBiPRpoN17gOIv5gDXActV9QCAqj6nqgdU1aeq/wZ24O8iaKm7gJ+p6hZV9QA/BUY3dlZfjw8YISIdVPWgqgZbJDsCJwKWTwAdG+unP0tEpuEvbN8PWL0WSALKnYcX+GOQOZo7dlPt453XuVdVfQ00mQ88ICLpIjIQ/9l8aihziUgq/n8XT7X0uCY4Vuhjy6GA51VAitN90Q/o5Vw0Oy4ix/GfHfdo4lj7zj5R1Ur8/cC9ROR/Ai6u/Un9o+bNAW5wmt9IwNm/cwFwXcDrjsD/V0JL9QN+F3CcCvxnn72b2sk5g/wc/l8UB0XkdREZGuRrVgKdApY7AZXaxEiBIjIBeAa4TlW3B2x6FtiOv6+6E/6/dFp0l1QTx27K3cB6VV3RyPavAtX4fwG/gv+vpNIQ57oW//+vJS05rgmeFXoD/qK9S1W7BDzSVfVTTezz0dm7iHQEMoADqvrTgIvAdzlN/gVc55xdn4/TD+ss/xm4F8hU1S7ARj7eVXDW2T/pA88me9Z7D3fWew8dVPX95t68qi5Q1WnAecBWJ1MwNvGfv4pwnjf614CIjMHfZXa7qr5Vb/No4DFVPe384vwT0NTn35JjN+Uy4BrnrphD+Luufi0ifwBQ1QpVvUlVe6rqcPw1Y1WIc90K/L2pX5Dm3FihN+D/wT0lIt8WkQ4iEi8iI0RkfBP7fEpEJolIEv6++hWquq+hhqr6Af6LfH8BFqjqcWdTGv5unTIA526OBvt/VbUM2A983sl3O/67U876E/AdERnuHKuziHymuTcuIj1EZLbTV38G/1l6Q10YDfk7cL+I9BaRXsA3aaT7QURG4O8GuU9VG7qFcDXwJefz74D/jp71AfsnikgK/p/ZBBFJcbpdmj2283mlAAlAnLNvorP5Nvx3xIx2HkX4r5V819l3gIhkOseY6eT6cShyOW2ygUuBvzW03YSIqtojyh7AbmBqvXUPAv8MWM7BX2QTnOVe+M+8DwHHgBX1jxGw71P4C+si/IXxXSC3mUz/z3m9z9Rb/xP8f7YfBX6D/8/3LznbbsN/XeFs25nALuA4/jtcPmrrbL8Z2ACcxH+G/2QjWT567/jP4pfg718/DiwG8oL8nAV42Mlf4TyXgO2VwEXO87/i/wVSGfDYFNA2F/8F8XLnWPOBQfU+c633uC3IY9/WwL5PNfKeFtf7TD+L/26dKvwXqS9v4N9Cq3I5bb4DvOf2z0y0P8T5sI0Jmog8BZSq6vfczmKMaZ513RhjTJSzQm+MMVHOum6MMSbK2Rm9McZEuYTmm7Svbt26aU5OjtsxjDEmoqxZs+aoqmY1tC3sCn1OTg5FRUVuxzDGmIgiInsa22ZdN8YYE+Ws0BtjTJSzQm+MMVEu7ProjTGxqa6ujtLSUmpqatyOEtZSUlLIzs4mMTGx+cYOK/TGmLBQWlpKeno6OTk5NDOkf8xSVcrLyyktLSU3Nzfo/YLquhGRGSKyTUSKReSBJtp92pmiLXCKuu84+21rZsYiY0wMq6mpITMz04p8E0SEzMzMFv/V0+wZvTPk6CPANPwTDqwWkbmqurleu3Tga8DKgHV5+GcpGo5/dMQ3RWSw+mc4MsaYj7Ei37zWfEbBnNEXAsWqWqKqtfhnC5rdQLsfAb8AAn/VzAbmqOoZVd2Ff8b41kwTZ0y7U1V8PhsixES+YAp9bwKmjcN/Vv+x6dlEZCzQR1Vfb+m+zv53iEiRiBSVlZUFFdyYtuL1KS99UMolv1rMkP/3BpMffocv/HUV8zcewmuFP2odPnyYG2+8kf79+zNu3DguuOACXnrppXbN8NxzzzF8+HDi4uJC+sXRc769UkTi8E8Y8c3WHkNVH1fVAlUtyMpq8Bu8xrSLitO1zPrDUr7x7w9JS0rg9om5jO7The2HK7nrn2u4+Jfv8MKaUjvTjzKqytVXX83kyZMpKSlhzZo1zJkzh9LST06P6/F42izHiBEjePHFF5k8eXJIjxvMXTf7CZgfFMh21p2Vjn/6t8VO31FPYK6IzApiX2PChs+nfOPf69hxuJLfXT+aq/J7ERfn7w/1eH28ueUwjy7eyTef+5B/rtzDT64eSV6vTs0c1USCt99+m6SkJO66666P1vXr14/77rsPgKeeeooXX3yRyspKvF4vL730ErfffjslJSWkpqby+OOPk5+fz4MPPkjHjh35r//6L8BfuF977TUAZsyYwbhx41i7di3Dhw/n73//O6mpqR/LMWzYsDZ5f8EU+tXAIBHJxV+krwduPLtRVU8A3c4ui8hi4L9UtUhEqoFnROQ3+C/GDqIFEwsb054eXbKTJdvL+PHVI5g9+uM9jAnxccwYcR7T83rywtpSfjF/K9f96X3+fEsBEwd2a+SIprV++OomNh84GdJj5vXqxA+uGt7gtk2bNjF27Ngm91+7di3r168nIyOD++67jzFjxvDyyy/z9ttvc8stt7Bu3bom99+2bRtPPPEEEydO5Pbbb+ePf/zjR78Q2lqzXTeq6gHuBRYAW4BnVXWTiDzknLU3te8m4FlgM/45MO+xO25MOFq9u4JfL9zGrFG9uOn8vo22ixP4zLBU5t03iT5dU/nCX1czf+Ohdkxq2sM999zDqFGjGD9+/Efrpk2bRkZGBgBLly7l5ptvBmDKlCmUl5dz8mTTv5j69OnDxIkTAfj85z/P0qVL2yj9JwX1hSlVnQfMq7fu+420vaTe8k/wTwBtTFhSVX7y+hZ6dErhp9eO/OTta1UVsOYp2PgilBeDp5ru3Ybw0vjb+OK6wdz7zFrm3jvJunFCqLEz77YyfPhwXnjhhY+WH3nkEY4ePUpBwUdfCSItLa3Z4yQkJODz+T5aDrzfvf6/q/a8ldTGujEx7+2tR1i37zhfvWwQHZMDzn2qj8H8/4Hf5MFbP4SUTlBwO1z2A0hKJfXN7/CPuB/Qq4OHB15cb3fkRLApU6ZQU1PDo48++tG6qqqqRttfdNFFPP300wAsXryYbt260alTJ3Jycli7di3g7+rZtWvXR/vs3buX5cuXA/DMM88wadKktngrDbJCb2Kaz6f8euF2+mWmct247LMrYfVf4PdjYMUfYcS18JXl8IV5MOOncNH9cMdiuP4ZEsq28Fy3x9lUWsFfl+1q6qVMGBMRXn75ZZYsWUJubi6FhYXceuut/OIXv2iw/YMPPsiaNWvIz8/ngQce4G9/+xsAn/70p6moqGD48OH84Q9/YPDgwR/tM2TIEB555BGGDRvGsWPH+MpXvvKJ47700ktkZ2ezfPlyrrjiCi6/PDSDCYTdnLEFBQVqE4+Y9jJvw0Hufnot//u5UVwzJhuO74NX7oZd70LORTDjZ9BzZOMHKPorvPZ13kqfzT3Hb2DRNy6mT0Zq4+1No7Zs2dJmd524bffu3Vx55ZVs3LgxJMdr6LMSkTWqWtBQezujNzFLVfn9WzsY2L0js0b1hp3vwKMTYf9auOp3cOurTRd5gIIvwIS7uezUK4zUHTy6ZGf7hDemBazQm5j17o6jbD10irsuHkD8hmfh6eugczbctRTG3QbBXiy79LuQ1p2HOz/PC2v2cbTyTJvmNpEnJycnZGfzrWGF3sSsv7xXQvf0ZK7Wt+GlO6DvBXD7G5AR/PCvACR3hEseIPf0h0zyFfGP5Y1O3WmMK6zQm5i05eBJ3ttxlG8PP07CvPuh/6Xw+RcgpXPrDjj2FsgcyENpz/PM8hJq6uzrIiZ8WKE3Mekv7+0iN+k41+x4ALr0gc/8FRKSW3/A+ES47Pv0rtvD+TVLeWHtJ8dIMcYtVuhNzDl8soa5H5byZKe/EFdXA9f/Czp0PfcDD70K7ZrLPamL+Pv7ewi3O9pM7LJCb2LOU+/vZjorya1cC9N+CN2HhubAcXHI+XcxzLOVlCMfsGH/idAc17SLcBim+Fvf+hZDhw4lPz+fa665huPHj4fkuFboTUw5fcbDCyu281CHf0GPkf67a0JpzE1oUjpfSlzAc0XWfRMpwmWY4mnTprFx40bWr1/P4MGD+dnPfhaS41qhNzHluaJ93FD3MpmeIzDzFxAXH9oXSE5Hxt7Mp+JWsHzdBrsoGyGCGaZ41qxZTJkyhcsuu4yKigquvvpq8vPzmTBhAuvXrwf835j91a9+9dExRowYwe7du9m9ezdDhw7lpptuYtiwYVx33XUNDrEwffp0EhL8w3BMmDChwV80rRHUoGbGRAOvT/n30g28mPQ6DLsacia2zQsV3kHcikeZ7ZnPws0XM2tUr7Z5nWj2xgNwaENoj9lzJMz8eYObwnGY4ieffJLPfe5zzb+vINgZvYkZCzYd4qKT8+igNTD5W233Qhm5MGQmNye8xcuritvudUybcXuY4p/85CckJCRw0003netbAeyM3sSQJ97dwR+TFqH9LkJ6jmjT15IJd9Nl2zy6757LoROF9Oyc0qavF3UaOfNuK+E0TPFTTz3Fa6+9xltvvRWyoYztjN7EhDV7KuixfxE99Cgy4e62f8GcSZzJHMZt8fN5dZ3NnhnuwmWY4vnz5/Pwww8zd+7cT0wzeC6s0JuY8Od3d/HlpAX4uuTA4NAM/dokEZIn3cvQuH3sXjOv+fbGVeEyTPG9997LqVOnmDZtGqNHj/7YxeFzen/BfKlDRGYAvwPigb+o6s/rbb8LuAfwApXAHaq6WURy8E8/uM1pukJVm0xuwxSbUNt99DT3/OYpXk/6H7j8Z3BBO5zRA9TVUP3wUJbW5JJ736sM7N6xfV43QtkwxcEL+TDFIhIPPALMBPKAG0Qkr16zZ1R1pKqOBh4GfhOwbaeqjnYeofn1ZEwLPLlsF5+OX4bGJcKo69vvhRNT8I29lcviPmDxitXt97rG1BNM100hUKyqJapaC8wBZgc2UNXAy81pgH3324SF41W1vFC0l08nr0AGTYfUjHZ9/bQLvgQipKz/hw2JEMMiYZji3sC+gOVSZ93HiMg9IrIT/xn9VwM25YrIByKyREQuaugFROQOESkSkaKysrIWxDemaU+v3Mto73o6e8oh/zPtH6BLHw72uISZdQtZt/tw+79+hLFfhs1rzWcUsouxqvqIqg4Avg18z1l9EOirqmOA+4FnRKRTA/s+rqoFqlqQlZUVqkgmxp3xeHnq/d3c2XUNJKXD4Bmu5Ohyyd1kyil2LfmXK68fKVJSUigvL7di3wRVpby8nJSUlt2uG8x99PuBPgHL2c66xswBHnVCnQHOOM/XOGf8gwG72mra3CvrDnDy1Cku7LgMRlwDiR1cyZE25DIOJWYzaM+/8Pm+TlxcaO6NjjbZ2dmUlpZif9U3LSUlhezs7BbtE0yhXw0MEpFc/AX+euDGwAYiMkhVdziLVwA7nPVZQIWqekWkPzAIKGlRQmNaQVV54r1d3JKxhYSq0+5025wVF8eRITeSv/FhNq1fyfDRE9zLEsYSExPJzW3h7F4mKM123aiqB7gXWID/VslnVXWTiDwkIrOcZveKyCYRWYe/i+ZWZ/1kYL2z/nngLlWtCPm7MKaeFSUVbDt8ils6r4O0LMhp8PJQu+k/5YvUajyn3n/S1RwmNgU1BIKqzgPm1Vv3/YDnX2tkvxeAFxraZkxbenrlHrqlQHb5Mhjx6dCPUtlCHTN6srrjJIYemYevtoa4JBsSwbQf+2asiTpHK8+wYNMh7h94EKmthGFXuR0JgNqRN9CFU+x6/zm3o5gYY4XeRJ3n15RS51WuSHLutsmd7HYkAPInX8MBzUTX/sPtKCbGWKE3UcXnU55ZuZfzczrTec8iGDTt3Cb9DqH01BSKusyk/8lV6PG9bscxMcQKvYkq7+8sZ29FFfcOOgany2DoFW5H+hgZcyNxKEeWz3E7iokhVuhNVJn74X7SkxO4oHY5xCXCoOluR/qY88eNY52vP2x60e0oJoZYoTdRo87rY+Hmw0wd1p2E7fOg/8WQ8okvYruqe3oKH6RPoUflFijf6XYcEyOs0JuosaKknONVdXym70k4tguGXul2pAbFjbgGgFNr7e4b0z6s0JuoMW/DIVKT4hlfsxwQGPIptyM1aMKYURT5BuNZb18xMe3DCr2JCl6fsnDTIaYM7U7i9tehTyGk93A7VoMG9+jIsuTJdD21Hcq2ux3HxAAr9CYqrNpVQfnpWq7t74ND68O22wb809Z5h87Cp0KtndWbdmCF3kSFNzYeJCUxjkmelf4VYXZbZX0FI/NYpwOo2WTzyZq2Z4XeRIV3th1h0sAsknbMg+55kDnA7UhNKszNYImOo1PFejhlE5KYtmWF3kS8veVV7KuoZlpOPOx9P+zP5gFSEuM52usS/0LxIlezmOhnhd5EvKXFRwG4VNaC+sK6fz5Q7vDzOagZVFv3jWljVuhNxFtWfJSenVLI2r8IOveB80a5HSkok4d05x3vaBJ2LwZPrdtxTBSzQm8ims+nLNt5lEv7pyE73/F320hkTNU3qHtHPkgpJNFz2t/lZEwbsUJvItrmgyc5XlXH1elbwFMTEf3zZ4kIiYMu5QyJ+LYtcDuOiWJBFXoRmSEi20SkWEQeaGD7XSKyQUTWichSEckL2PYdZ79tInJ5KMMbc7Z/flTlUujQFfpe6HKilrlgaF+We/Oo3WqF3rSdZgu9iMQDjwAzgTzghsBC7nhGVUeq6mjgYeA3zr55+CcTHw7MAP7oHM+YkFhWfJRh3VNI2bUIBs+E+KBmxwwbEwd2Y6lvBCkndsLJA27HMVEqmDP6QqBYVUtUtRaYA8wObKCqJwMW0wB1ns8G5qjqGVXdBRQ7xzPmnJ3xeFm9u4IbeuyDmhMwLDLutgmUkZbEwa7j/Qu73nU3jIlawRT63sC+gOVSZ93HiMg9IrIT/xn9V1u47x0iUiQiRWVlZcFmNzFuQ+kJaup8XOxbBQkdoP+lbkdqle6DCzim6Xh3LnY7iolSIbsYq6qPqOoA4NvA91q47+OqWqCqBVlZWaGKZKLc6t3HEHxkH34bBl4GSaluR2qVCwZk8b5vGJ7ixaDabHtjWiqYQr8f6BOwnO2sa8wc4OpW7mtM0NbsqWBG10PEVx6EYVe5HafVzs/N5H3fCJKrDkJFidtxTBQKptCvBgaJSK6IJOG/uDo3sIGIDApYvALY4TyfC1wvIskikgsMAlade2wT63w+pWjPMT6Ttg4kPuymDGyJzqmJlGWd718oWexqFhOdmi30quoB7gUWAFuAZ1V1k4g8JCKznGb3isgmEVkH3A/c6uy7CXgW2AzMB+5RVW8bvA8TY0qOVnK8qo5xNe9DziRIzXA70jnpN3AkBzUDb8kSt6OYKBTUvWiqOg+YV2/d9wOef62JfX8C/KS1AY1pyOrdx+gvB+hcWQIXfcXtOOfsgoHdWLZyBLNL3iXe54M4+y6jCR3712Qi0urdFVyd8oF/YWh4ThnYEuNzMlihw0k8cwzKtrgdx0QZK/QmIq3Zc4yZyR9Cz3zonO12nHOWnpLIie7OV0z22Lg3JrSs0JuIc+RUDSfKDzOgZjMMmel2nJDJ6T+EA5qJd/cyt6OYKGOF3kScNbuPcXHch8Thg8HRM3xSYf9urPINwbtrmd1Pb0LKCr2JOKt3H2Nawjo0rTucN8btOCFT0K8rq3zDSKo+YvfTm5CyQm8izrrdR7gkfj0yaHpU3Z3SNS2JI13H+Resn96EUPT8lJiYUF3rJeVQER21Mqq6bc7qOWAkFZqOz/rpTQhZoTcRZd2+40yWD/DFJcKAyBzErCmF/bux0jeUul1W6E3oWKE3EWXt3mNcFvcB3r4TITnd7TghV5iTwWrfUJJP7YUTNiyUCQ0r9Cai7NmxkUFx+0kcGj23VQbq2TmFPenO5OZ7l7sbxkQNK/QmYvh8SsaBd/wLgyN3ELPmdM0dRyUdUOunNyFihd5EjOKySi70ruFkx1zI6O92nDYzvn83VnsHU1uy1O0oJkpYoTcRY11xKefHbcE3KPrutglUmJvJKt8wko9th9PlbscxUcAKvYkYp7csIlk8dM6PvLlhWyInM5XtKSP9C9ZPb0LACr2JGN0PLeZ0XEek7wS3o7QpEaFjTgFnSLIvTpmQsEJvIkLZyWoK64o42G0ixCe6HafNjenfg7XegdSWvOd2FBMFrNCbiLBj3XtkyQnih85wO0q7GJ+bwSodSuKRjVBz0u04JsIFVehFZIaIbBORYhF5oIHt94vIZhFZLyJviUi/gG1eEVnnPObW39eYYHi2zMerQq+C6O6fP2toz05sTMhD8EGpTbNszk2zhV5E4oFHgJlAHnCDiOTVa/YBUKCq+cDzwMMB26pVdbTzmIUxrdCrbAk7koaR3Km721HaRXycENenEA/x1k9vzlkwZ/SFQLGqlqhqLTAHmB3YQFXfUdUqZ3EFEPlT/piwUVOxn4GeYg71uNjtKO1q9IBsNvhyqbP76c05CqbQ9wb2BSyXOusa80XgjYDlFBEpEpEVInJ1QzuIyB1Om6KysrIgIplYcmD1KwCk5EXnsAeNKcztykrfUOIProW6arfjmAgW0ouxIvJ5oAD4ZcDqfqpaANwI/FZEBtTfT1UfV9UCVS3IysoKZSQTBXTHQvZrJkPyo/u2yvpG9u7CBzKMOF8d7F/jdhwTwYIp9PuBPgHL2c66jxGRqcB3gVmqeubselXd7/y3BFgMRM+UQKbtec7Qu3w5a5LG07Vjsttp2lVSQhye3oX4ENhjX5wyrRdMoV8NDBKRXBFJAq4HPnb3jIiMAR7DX+SPBKzvKiLJzvNuwERgc6jCm+jn27WMFK2hvFf0jT0fjOH9+7HN1wfPLuunN63XbKFXVQ9wL7AA2AI8q6qbROQhETl7F80vgY7Ac/VuoxwGFInIh8A7wM9V1Qq9CdrxD1+lRhPpnDfF7SiuKMzNZKVvKFK6Crx1bscxESohmEaqOg+YV2/d9wOeT21kv/eBkecS0MQwVRJ2LmSZbwSFg2PzRq4xfbswR4dxm2chHFwP2ePcjmQikH0z1oSvozvoVF3KupRCsrumup3GFWnJCZzqOd6/sMfGpzetY4XehC3f9vkA1Paf5nISdw3uP4Bd2hPvbvvilGkdK/QmbFVtnMcWXx/yhtX/InZsKczNZKV3KLrnffD53I5jIpAVehOeqo+Temg1b/vGcEH/TLfTuKqgX1dW+YaSUHsCyra4HcdEICv0JjztfJs49bC104V075TidhpXdU1LoizTuQhr496YVrBCb8KSb/sCjmk6XQZd4HaUsNCv/1AOaiY+mzDctIIVehN+fF682xbyjm8UFwzs4XaasDA+N5OVviF4dy8DVbfjmAhjhd6En/1rSTxTwTu+0UyI8f75swpzM1jlG0Zi1RGoKHE7jokwVuhN+Nk+Hy9xlPeYREZakttpwsJ5nTuwN32Uf8H66U0LWaE3Yce7bQFFvsEUDO3vdpSw0iN3FMfohNoXp0wLWaE34eXEfuKPbOAt7xgmD7YhqwMV9s9ghXcInl12Rm9axgq9CS87FgKwMnE8o/t0cTlMeCnMzWS1byiJJ/fAiVK345gIYoXehBXdPp/99KD3wFEkxNs/z0A5malsThntX9j1rrthTESxnyQTPuqq0ZIlLPKM4uIhsTEJeEuICJm5o6igM5QsdjuOiSBW6E342L2UOE81b/usf74x5w/IYqk3D2/xO3Y/vQmaFXoTPrYvoEaSKe82nvM6d3A7TVi6cEA3lvpGEF91BMq2uR3HRAgr9CY8qOLbNp/3vCOZnNen+fYxakBWGjtSnXFvrPvGBCmoQi8iM0Rkm4gUi8gDDWy/X0Q2i8h6EXlLRPoFbLtVRHY4j1tDGd5EkbKtxJ3cx1ve0UwdZsMeNFgKhJ0AABqxSURBVEZE6D8oj730QEvecTuOiRDNFnoRiQceAWYCecANIlJ/gPAPgAJVzQeeBx529s0AfgCcDxQCPxCRrqGLb6KGM8nIhynjGWO3VTZp0qBM3vOMwLdrKXg9bscxESCYM/pCoFhVS1S1FpgDzA5soKrvqGqVs7gCODvB5+XAIlWtUNVjwCJgRmiim2ji27aAzeSSPyyPuDhxO05Yu3BAN5b5hhNfVwkH1rodx0SAYAp9b2BfwHKps64xXwTeaMm+InKHiBSJSFFZWVkQkUxUqapASleyyDOaqXnWbdOcHp1SOJxRiA+xfnoTlJBejBWRzwMFwC9bsp+qPq6qBapakJVlt9XFnB0LEfXxHgVMGtjN7TQRYeTg/mzRHHw7F7sdxUSAYAr9fiDwNohsZ93HiMhU4LvALFU905J9TWzTra9xhEy6DCykQ1K823EiwqSB3XjPOxxKV0HtabfjmDAXTKFfDQwSkVwRSQKuB+YGNhCRMcBj+Iv8kYBNC4DpItLVuQg73VlnjF9dNbrjTd7wjGXa8J5up4kYEwZkspKRxPnqYM9yt+OYMNdsoVdVD3Av/gK9BXhWVTeJyEMiMstp9kugI/CciKwTkbnOvhXAj/D/slgNPOSsM8avZDFxnmre9BUwLc8KfbA6Jifgy55ALQlgt1maZiQE00hV5wHz6q37fsDzqU3s+yTwZGsDmii39TUqSUP72SQjLTUxrw9r9g+moHgxiZe7ncaEM/tmrHGPz4t3yzwWeUczPT+7+fbmYy4d0p2lvhEklm2E00fdjmPCmBV64559K4mvqWCht4Dp1m3TYgO7d2RH2lj/wq4l7oYxYc0KvXHP1tepJZETvS6iZ+cUt9NEHBGhx9AJnNIOeIsXux3HhDEr9MYdqtRtepX3vCO4NH+A22ki1uShvVjmG4Fn+yIbttg0ygq9cceRzSSe3MNCXwEzRli3TWtdOCCTZTqK5KqDNmyxaZQVeuOOra/jQyjNmkyfjFS300SstOQEKvteCoA68+0aU58VeuOKuk2vssY3iAkjh7kdJeKNyx/Jdl9vqrZYoTcNs0Jv2t/xfSQeWc9CbwEzR1q3zbmanteDJb5RpOxfYcMhmAZZoTftb5v/u3fbu0xmYPd0l8NEvu6dUijtNpF4rYPdS92OY8KQFXrT7uo2vco2XzYj88e6HSVq9B45hSpN5vSmN5pvbGKOFXrTvqoqiN/3vt1tE2JT8/uy3JeH126zNA2wQm/a146FxKmXdWkTGd6rk9tpokb/rI5sTDufTtWlcHS723FMmLFCb9qVZ/OrHNIM+g2fiIhNGRhKyXmfAqBqw2suJzHhxgq9aT911VD8Fgu842zs+TZwwZhRbPL1o2qjFXrzcVboTfspWUyCt5plCRMYn9PV7TRRZ2TvzqxIKCSjYh1U2bQP5j+s0Jt249vyGqdIJX3oJSTE2z+9UIuLE+oGXk4cPmq3zHc7jgkj9tNm2ocz9vyb3jFcNry322mi1oiCizmiXaj44BW3o5gwElShF5EZIrJNRIpF5IEGtk8WkbUi4hGR6+pt8zrTC340xaCJQftWknimgrd1PJMHZ7mdJmqdP6Ab78lYOh94Dzy1bscxYaLZQi8i8cAjwEwgD7hBRPLqNdsL3AY808AhqlV1tPOY1cB2EwN0y2ucIZG63EvpmBzUDJamFRLj4ziWPZUOvtN4S951O44JE8Gc0RcCxapaoqq1wBxgdmADVd2tqusBXxtkNJFOlbrNr7HUO4JJw3PdThP1+o6/gtOaTNnq592OYsJEMIW+N7AvYLnUWResFBEpEpEVInJ1Qw1E5A6nTVFZWVkLDm0iwpHNJDljz0/L6+F2mqg3aVg27+pY0nYtAJ/X7TgmDLTHxdh+qloA3Aj8VkQ+MZ2Qqj6uqgWqWpCVZf23UccZe/5gj4vp0cmmDGxrqUkJHOg1lXRPBd49K9yOY8JAMIV+P9AnYDnbWRcUVd3v/LcEWAyMaUE+EwXOjj0/fvhQt6PEjN7jZ3NGEzm88jm3o5gwEEyhXw0MEpFcEUkCrgeCuntGRLqKSLLzvBswEdjc2rAmAgWMPT9tuHXbtJfJI3NZRj6pO+fZIGem+UKvqh7gXmABsAV4VlU3ichDIjILQETGi0gp8BngMRHZ5Ow+DCgSkQ+Bd4Cfq6oV+liyYwEAm9MvYEgPG3u+vaQmJVDacypd6g7jLV3rdhzjsqDuc1PVecC8euu+H/B8Nf4unfr7vQ+MPMeMJoJ5ti7ggHZnSN44G8SsnfUcfw11r/6KI8v/Re8+49yOY1xk34w1baeuGtn9Lm95xzDVum3a3aT8QSwjn7Qdr4DP7nyOZVboTdvZvZR4bw0rE8YxPifD7TQxJzUpgV09P0WXuiN49yx3O45xkRV602Z82xdQTTKpgy4m0QYxc8V5519LtSZRtvyfbkcxLrKfPtM2VKnb8gZLvcO5ZERft9PErMkjcnhbC0jf+Tp469yOY1xihd60jaPbSa4sZYmO4WIbxMw1qUkJ7O19BWneE3iL33Y7jnGJFXrTNrb7b6s81vsSOndIdDlMbOt3/lUc1zQqVjztdhTjEiv0pk3UbH6DLb4+jBkxwu0oMe+SvN4s1Al02rMQaqvcjmNcYIXehF7NCZIOrOId3xgbxCwMpCYlcKDPlST7qvFundf8DibqWKE3obfzbeLUw/ZOF9IvM83tNAYYOuFyDmlXKlY2NGWEiXZW6E3I1W5dwHFNo+eISW5HMY5Lh/VkoUyk6/4lNnF4DLJCb0LL50O3L+RdXz6X5dncsOEiOSGeysFXk4CHmvUvuR3HtDMr9Ca0Dn5A8plyViYUMLZvV7fTmADnX3gZJb6enFg9x+0opp1ZoTch5du2AB9C3KCpxMfZIGbhZGy/rixJvoSs8tVwfK/bcUw7skJvQqpq0xt84BvIBSOHuB3F1CMi6KgbQeHk8qfcjmPakRV6EzqVR+hYvp53dTQXDermdhrTgGkXjmepbwSse9rmk40hVuhN6OxYBEB5r0tJT7Fvw4ajPhmprO9+FZ3OHMK7c7HbcUw7sUJvQubUhtc5pF0ZlH+h21FMEwZNvp5j2pGj7/7Z7SimnQRV6EVkhohsE5FiEXmgge2TRWStiHhE5Lp6224VkR3O49ZQBTdhxltH0p7FLPaNZubI89xOY5owZUQf5sdfTOa+RXC63O04ph00W+hFJB54BJgJ5AE3iEhevWZ7gduAZ+rtmwH8ADgfKAR+ICJ2z1002ruCZO9pSrtNonunFLfTmCYkxsdRM+JGEvBwYqWNUx8LgjmjLwSKVbVEVWuBOcDswAaqultV1wP15yu7HFikqhWqegxYBMwIQW4TZirWvUqtxtN77Ey3o5ggTL1kCut8A6gr+huouh3HtLFgCn1vYF/AcqmzLhhB7Ssid4hIkYgUlZWVBXloE050+0JW6TAuGz3A7SgmCH0yUvmg21V0q9qJZ99qt+OYNhYWF2NV9XFVLVDVgqwsm6Qi0mjZdjKrd7GzyyS6p1u3TaToM/lmqjSZQ4vtomy0C6bQ7wf6BCxnO+uCcS77mghxdPXzAHQce63LSUxLXDKyP2/FXUjmrteg9rTbcUwbCqbQrwYGiUiuiCQB1wNzgzz+AmC6iHR1LsJOd9aZKOLZ+DJrfYOYPG6021FMCyTEx3F6+A100CoqVv3b7TimDTVb6FXVA9yLv0BvAZ5V1U0i8pCIzAIQkfEiUgp8BnhMRDY5+1YAP8L/y2I18JCzzkQJz9ESzqvaRnG3KWSlJ7sdx7TQpClXssPXm9rlj9tF2SiWEEwjVZ0HzKu37vsBz1fj75ZpaN8ngSfPIaMJY7vem8MgoOeEz7gdxbRCdkYaf+92LbdU/B91e1eT2K/Q7UimDYTFxVgTueK3zmUz/blg3Di3o5hWyrn0dk5pBw4t+r3bUUwbsUJvWu3YgRL6n9nCod6Xkxhv/5Qi1aThuSxKmkLP0jeg8ojbcUwbsJ9O02o73/wLADkXf97lJOZcxMUJjP8yiXg4+Paf3I5j2oAVetMqPq+XXrue58PEUfQfPMLtOOYcTZs8iaU6itQP/wqeM27HMSFmhd60yvqlr9JLD1OXf5PbUUwIpKckUjL4djp7Kzi58h9uxzEhZoXetEr1yr9ygo7kT7vZ7SgmRCZPv44Nvhw87/3OJiWJMlboTYuV7N3L2NNL2dXrCpJSUt2OY0IkJ6sjy3rcREbNXuo2v+p2HBNCVuhNi22d/zjJ4qHf1DvdjmJCbMTUW9jj686pN39lX6CKIlboTYscO1nJmP3PUJKaT9f+du98tJk4uAcvp36ajOMbUGdqSBP5rNCbFln9yh85T8pJuvRbbkcxbUBE6H7xl9jry6J6/g/AV3+KCROJrNCboJ2qqmHIzifYkzSI7IKr3I5j2sjscTk8Fvc5Uis2w+aX3Y5jQsAKvQna8lefoB+H4KJvgojbcUwbSU1KIGPCTWzzZVP75o/A63E7kjlHVuhNUKqraxi45Y8cSOhDv4mfczuOaWO3TRrAb/V6ko6XQJGNSRjprNCboHzw0q/pTymnJ/8/iLN/NtEus2MyPQquYalvJL63HoJTh92OZM6B/cSaZlVWHGLE9kfYkDyWQRd91u04pp18+eIBPOj5Ar66Glj4PbfjmHNghd40a+dz3yVVq0m68hfWNx9DenfpwOgxBTzmvQo2PAslS9yOZFrJCr1p0okdyxlx4AXe6zyLISNtUopY89Upg/ijZzblSb1h7r1Qc9LtSKYVgir0IjJDRLaJSLGIPNDA9mQR+bezfaWI5Djrc0SkWkTWOQ8bAzWS1NVQ98KdHCaDvtf91O00xgV9M1O5tnAgd52+Az1RCvM/8eNvIkCzhV5E4oFHgJlAHnCDiOTVa/ZF4JiqDgT+F/hFwLadqjraedwVotymHRx7/UG61exhXu53GdC3t9txjEvumzKQDXFDWJhxI6x7GjbPdTuSaaFgzugLgWJVLVHVWmAOMLtem9nA35znzwOXiVhnbiTTvSvovO5PPKdTufo6m1gklnXvlMLtE3O598B0qruNhFe/ZnfhRJhgCn1vYF/AcqmzrsE2quoBTgCZzrZcEflARJaIyEUNvYCI3CEiRSJSVFZW1qI3YNpAbRVVz97JAc2k+tIf0q1jstuJjMvuvHgAndNS+Zb3HrSuCl65xwY9iyBtfTH2INBXVccA9wPPiEin+o1U9XFVLVDVgqysrDaOZJpT9+ZDpFXu5vdpX+OGi+r30plY1LlDIt+7Io/XDnaiaPA3oHiRfZEqggRT6PcDfQKWs511DbYRkQSgM1CuqmdUtRxAVdcAO4HB5xratKE9y4lf9Sf+4ZnKtdfdZJN+m4/MHt2LCwdk8qXNo6jtd4n/3vqjO9yOZYIQzE/xamCQiOSKSBJwPVD/asxc4Fbn+XXA26qqIpLlXMxFRPoDg4CS0EQ3IVd9nJpnv0iprxulBd9hQv/M5vcxMUNE+NHVI6iug+/L3WhCCjx/u80xGwGaLfROn/u9wAJgC/Csqm4SkYdEZJbT7AkgU0SK8XfRnL0HazKwXkTW4b9Ie5eqVoT6TZgQUKX25a+ScPoQv+j4Lb5xxRi3E5kwNCCrI9+cPpg5Wz0sGfYDOLQe3v6R27FMM0TD7IJKQUGBFhUVuR0j5viKniLuta/xsOcGpt/5c0b36eJ2JBOmfD7ltqdWs6KknBX588jY/He4+SUYMMXtaDFNRNaoakFD26wD1sCRrXjn/TfveUdw3hXftiJvmhQXJ/zms6Po0iGRG/dciTdzCLx0F5w+6nY00wgr9LGurpoT/7yZE95klo78MTdfkOt2IhMBunVM5pGbxlJy3Me39Gto9XG75TKMWaGPcfvm3E/nk9t5POO/+ea1F7sdx0SQ8TkZ/O/nRvPSwS7M6fJl2D4fVj7mdizTgAS3Axj3bF/wGIN3PsPLKddw3513kZRgv/dNy1yRfx5HTuXxnVeV4ZlrGbnwu0iP4ZDb4HcjjUvsJztGrV06j5z3v8MHCflccs8jpKckuh3JRKgvTMzlfz41jBvLb+dgfC/02Vvg2G63Y5kAVuhj0KJly8lZdAdl8T3oe+dzdElPczuSiXB3TB7At68u5MbKr3G6phbPPz9rF2fDiBX6GKKq/Gv+YoYvvJGEOKHzF18gM6un27FMlLh5Qj/uv/5T3OX5Bp7yXZx54gor9mHCCn2MqKnz8rN/vs7Fy79Ap3gPyV98jY69bRwbE1qzRvXi/i9/kW/EPYCW7+TkYzPhRP0RU0x7s0IfA4qPVPKT3/0fdxffQddEL2lffp3k7FFuxzJRamzfrnzvq3fz0y4/RE7so/L/JlG7a5nbsWKaFfoo5vMpz7xfzBt/+Bo/rHyQ+C7ZdLh7MXJevtvRTJTr3aUD37vvK/xj+BOU1SYif5vFsTd/Az6f29FikhX6KLVx/wl+8PtHKZx/FffFPc+ZodeSfs87kNHf7WgmRiQlxHH3Z69g59VzWaqj6br0h5Q/ejkc2+N2tJhjhT7KbDl4kl8/8XcqHruCHx3/Dud1jENv+Dcdrn8SkuzuGtP+po4dSv/7XuG3aV8n6cgGzvy+kOp3fg3eOrejxQwb1CwK1Hl9vLVxHyVLnqHw6IsUxG3ndEJX4i/6KikXfgUSO7gd0RjqvD7+9sZS+q76IdPjijjZsT/pV/4YGfIpsJlHz1lTg5pZoY9QHq+PlbsqWLpmHRlbn+Fq35tkyQmOp/Qh+cI76TDhdjuDN2FpQ+kJXvn3X7jhxJ8ZEHeQE1kFdJr6LWTQdIizTobWskIfJbw+ZeXOMlYVreDM9sVc4l3GeNkGAuW9LiXjknuIHzjFflhM2PP5lOdXl1C84DG+4H2O86SCE2k5xI+7hY5jPwNd+rodMeJYoY9g3tpqNq9ZwoH179Dh0GryfVvpIqcBOJU+kJTR15E49gbomuNuUGNaoabOy9y1uyle/DQzTr/C2LhiAA6nDcXTbxJZI6eR1H8iJKe7nDT8WaGPJFUVnC5exsGN7xC/byW9q7eShAeAQ4l9qOt9Pj2GX+z/x585wOWwxoSGqrL9cCXLVq8mYesrDD61kjGyg2Tx4CWOsvQ8pE8hmUMuICF7nP/uMevX/5hzLvQiMgP4HRAP/EVVf15vezLwd2AcUA58TlV3O9u+A3wR8AJfVdUFTb1WzBR6VTh5AD28icq966nc9yFJRzaQWb0LgFqNZ7MMoKzrGLoOmUze+VNJ7WrDFZjYcLKmjjU7DlC6YTGJe5fRv2odI2UXHaQWgJqEzniyhpF63hDiMvr7C39GLqR2gw5dYvIGhHMq9M7k3tuBaUAp/snCb1DVzQFt7gbyVfUuEbkeuEZVPyciecC/gEKgF/AmMFhVvY29XrsUelVnggQF9YEqqj58qni9Xnw+H6qKz+fD5/Oinlp8nlq8nlq8dWfw1fmf+zxn8Hlq8Xnq8HlqUc8ZfN468NSidVVIbRVaV4XvTCXUnCCx+ijJZ8pJOVNOR08FHbT6o0gHNIMtvn7sT88nuf+FDBozmfycniTEW3+7McdO17Jq52GKNxVxZs9qzqvczOC4UnLiDpPJyU+098YlUZfYGW9iGr6EFHzxyWhCChqfjCZ0gAT/MgkpkJgCCR2QhGQksQOSmPLRf+OT/P+NS+wACf71JCQ7+/ynncQlICII//lDQ9r5L46mCn0w49EXAsWqWuIcbA4wG9gc0GY28KDz/HngD+J/l7OBOap6BtjlTB5eCCxvzRtp0umj8NuRAQXcKeL8p6irKkLDv9gE/58r8SEPBnUaTyUdOKqdOUBnTiXkcialgNPpuZzJHEpCz+EM7JfNhPM6kZZsUwQYU1/XtCQuz+/D5fl9gGs4cqqG5TvLeb6kggOHDuOrKCG9ah9dpZLOnKaTnKZz7WnSpZpk6kimlmQ5QTK1pDjLKVL30XIKtcRJ67ux6zSeGhIpPPNHqkj52DYRnF8A/l8E/1nn3yABy6P6dGbOHRe0OkdjgqkqvYF9AculwPmNtVFVj4icADKd9Svq7du7/guIyB3AHc5ipYhsCyp9++kGnOMwfMeAA6HI4oYQvP+IF+ufQay/fwjqM7junF5gK/DvO1u9e7/GNoTF6aOqPg487naOxohIUWN/EsWCWH//YJ9BrL9/iOzPIJgO4P1An4DlbGddg21EJAHojP+ibDD7GmOMaUPBFPrVwCARyRWRJOB6YG69NnOBW53n1wFvq/8q71zgehFJFpFcYBCwKjTRjTHGBKPZrhunz/1eYAH+a5VPquomEXkIKFLVucATwD+ci60V+H8Z4LR7Fv+FWw9wT1N33ISxsO1Waiex/v7BPoNYf/8QwZ9B2H1hyhhjTGjZTdrGGBPlrNAbY0yUs0LfAiLyTRFREenmdpb2JiK/FJGtIrJeRF4SkS5uZ2oPIjJDRLaJSLGIPOB2nvYmIn1E5B0R2Swim0Tka25ncoOIxIvIByLymttZWsMKfZBEpA8wHdjrdhaXLAJGqGo+/iExvuNynjbnDP/xCDATyANucIb1iCUe4JuqmgdMAO6Jwc8A4GvAFrdDtJYV+uD9L/Df0MgYClFOVReqqsdZXIH/OxHR7qPhP1S1Fjg7/EfMUNWDqrrWeX4Kf7H7xLfbo5mIZANXAH9xO0trWaEPgojMBvar6oduZwkTtwNvuB2iHTQ0/EdMFblAIpIDjAFWupuk3f0W/0mez+0grRUWQyCEAxF5E2hoHODvAv+Dv9smqjX1GajqK06b7+L/c/7p9sxm3CUiHYEXgK+r6ieHi4xSInIlcERV14jIJW7naS0r9A5VndrQehEZCeQCHzrDjmYDa0WkUFUPtWPENtfYZ3CWiNwGXAlcprHxBQwbwgMQkUT8Rf5pVX3R7TztbCIwS0Q+BaQAnUTkn6r6eZdztYh9YaqFRGQ3UKCqMTWSnzP5zG+Ai1W1zO087cEZt2k7cBn+Ar8auFFVN7karB05w43/DahQ1a+7ncdNzhn9f6nqlW5naSnrozfB+gOQDiwSkXUi8ie3A7U15+Lz2eE/tgDPxlKRd0wEbgamOP/f1zlntyaC2Bm9McZEOTujN8aYKGeF3hhjopwVemOMiXJW6I0xJspZoTfGmChnhd4YY6KcFXpjjIly/x+NOi8MvvEqLAAAAABJRU5ErkJggg==\n",
          "text/plain": "<Figure size 432x288 with 1 Axes>"
         },
         "metadata": {
          "needs_background": "light"
         },
         "output_type": "display_data"
        }
       ]
      }
     },
     "8da16ac1379f40a099ce7012c051f6be": {
      "model_module": "@jupyter-widgets/controls",
      "model_module_version": "1.5.0",
      "model_name": "IntSliderModel",
      "state": {
       "description": "sample",
       "layout": "IPY_MODEL_b045e5c9795e4b50971f6c8f4bb06e26",
       "max": 100000,
       "min": 1,
       "step": 10,
       "style": "IPY_MODEL_ff3ca7cf035e47eba4b892c1640ecd8a",
       "value": 17261
      }
     },
     "8ed94c26308545c581139f07e9526033": {
      "model_module": "@jupyter-widgets/base",
      "model_module_version": "1.2.0",
      "model_name": "LayoutModel",
      "state": {}
     },
     "a1f83e3b69c94516b3643b9bc1b058ea": {
      "model_module": "@jupyter-widgets/controls",
      "model_module_version": "1.5.0",
      "model_name": "VBoxModel",
      "state": {
       "_dom_classes": [
        "widget-interact"
       ],
       "children": [
        "IPY_MODEL_02b8212474d64be4814d013c01376089",
        "IPY_MODEL_f7f862ff47cd42b9840494a5ce4a7a5b",
        "IPY_MODEL_334a1b58f7484326b6bd4732e094acdf"
       ],
       "layout": "IPY_MODEL_63ded94b2430432f9e454392f358859c"
      }
     },
     "a4c801ae87684e5bbe30858c8a7d92e0": {
      "model_module": "@jupyter-widgets/base",
      "model_module_version": "1.2.0",
      "model_name": "LayoutModel",
      "state": {}
     },
     "a64b9c4f3af34fbb936a145b1a4477fd": {
      "model_module": "@jupyter-widgets/base",
      "model_module_version": "1.2.0",
      "model_name": "LayoutModel",
      "state": {}
     },
     "b045e5c9795e4b50971f6c8f4bb06e26": {
      "model_module": "@jupyter-widgets/base",
      "model_module_version": "1.2.0",
      "model_name": "LayoutModel",
      "state": {}
     },
     "c49aef0173ec4a1a84d1c449db2cb86c": {
      "model_module": "@jupyter-widgets/controls",
      "model_module_version": "1.5.0",
      "model_name": "FloatSliderModel",
      "state": {
       "description": "location",
       "layout": "IPY_MODEL_a4c801ae87684e5bbe30858c8a7d92e0",
       "max": 2,
       "min": -2,
       "step": 0.05,
       "style": "IPY_MODEL_0866c4c3c13e4134899534dffdf2d430"
      }
     },
     "db2b0cbe9532430986eb5ed743ebb18a": {
      "model_module": "@jupyter-widgets/base",
      "model_module_version": "1.2.0",
      "model_name": "LayoutModel",
      "state": {}
     },
     "e51000f8be244435bd8ab128e5ee464c": {
      "model_module": "@jupyter-widgets/controls",
      "model_module_version": "1.5.0",
      "model_name": "SliderStyleModel",
      "state": {
       "description_width": ""
      }
     },
     "e71e05d9fd8d46f98c22af75da717f35": {
      "model_module": "@jupyter-widgets/controls",
      "model_module_version": "1.5.0",
      "model_name": "SliderStyleModel",
      "state": {
       "description_width": ""
      }
     },
     "e9916b45b0a6412b81c3e2cabcedcb93": {
      "model_module": "@jupyter-widgets/controls",
      "model_module_version": "1.5.0",
      "model_name": "VBoxModel",
      "state": {
       "_dom_classes": [
        "widget-interact"
       ],
       "children": [
        "IPY_MODEL_c49aef0173ec4a1a84d1c449db2cb86c",
        "IPY_MODEL_8da16ac1379f40a099ce7012c051f6be",
        "IPY_MODEL_7de859f15b8b41af9f01da095af72fff"
       ],
       "layout": "IPY_MODEL_a64b9c4f3af34fbb936a145b1a4477fd"
      }
     },
     "f41a730e31404054b8535e65f6616b28": {
      "model_module": "@jupyter-widgets/controls",
      "model_module_version": "1.5.0",
      "model_name": "FloatSliderModel",
      "state": {
       "description": "location",
       "layout": "IPY_MODEL_0c4b7312ef6b468da31e30aac2d7b5ad",
       "max": 2,
       "min": -2,
       "step": 0.05,
       "style": "IPY_MODEL_e71e05d9fd8d46f98c22af75da717f35",
       "value": 0.3
      }
     },
     "f7f862ff47cd42b9840494a5ce4a7a5b": {
      "model_module": "@jupyter-widgets/controls",
      "model_module_version": "1.5.0",
      "model_name": "IntSliderModel",
      "state": {
       "description": "sample",
       "layout": "IPY_MODEL_5aecd6a2669d40aa84ef20665c75e7ae",
       "max": 100000,
       "min": 10,
       "step": 10,
       "style": "IPY_MODEL_e51000f8be244435bd8ab128e5ee464c",
       "value": 10
      }
     },
     "ff3ca7cf035e47eba4b892c1640ecd8a": {
      "model_module": "@jupyter-widgets/controls",
      "model_module_version": "1.5.0",
      "model_name": "SliderStyleModel",
      "state": {
       "description_width": ""
      }
     }
    },
    "version_major": 2,
    "version_minor": 0
   }
  }
 },
 "nbformat": 4,
 "nbformat_minor": 4
}
