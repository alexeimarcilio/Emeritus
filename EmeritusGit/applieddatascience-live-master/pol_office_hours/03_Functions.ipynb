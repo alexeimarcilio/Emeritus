{
 "cells": [
  {
   "cell_type": "markdown",
   "metadata": {},
   "source": [
    "# Functions\n",
    "A convenient wrapping for a piece of code.\n",
    "\n",
    "All built-in functions appear in the Python [documentation](https://docs.python.org/3/library/functions.html)."
   ]
  },
  {
   "cell_type": "code",
   "execution_count": null,
   "metadata": {},
   "outputs": [],
   "source": [
    "print()\n",
    "type()\n",
    "str()\n",
    "#del()\n",
    "min()\n",
    "max()\n",
    "sum()\n",
    "abs()\n",
    "round()\n",
    "#int()\n",
    "map()\n",
    "zip()"
   ]
  },
  {
   "cell_type": "code",
   "execution_count": null,
   "metadata": {},
   "outputs": [],
   "source": [
    "x = 42\n",
    "del x\n",
    "print(x)"
   ]
  },
  {
   "cell_type": "code",
   "execution_count": null,
   "metadata": {},
   "outputs": [],
   "source": [
    "print(round(3.7))\n",
    "print(int(3.7))"
   ]
  },
  {
   "cell_type": "markdown",
   "metadata": {},
   "source": [
    "# Methods\n",
    "Just the name for a function stored inside an object (same as attribute vs variable).\n",
    "\n",
    "| Outside  | Inside    |\n",
    "|----------|-----------|\n",
    "| Variable | Attribute |\n",
    "| Function | Method    |"
   ]
  },
  {
   "cell_type": "markdown",
   "metadata": {},
   "source": [
    "## String"
   ]
  },
  {
   "cell_type": "code",
   "execution_count": null,
   "metadata": {},
   "outputs": [],
   "source": [
    "word = 'monty python'\n",
    "print(word)\n",
    "print(word.upper())\n",
    "print(word.lower())\n",
    "print(word.capitalize())\n",
    "print(word.replace('python', 'anaconda'))\n",
    "print(word.find('p'))"
   ]
  },
  {
   "cell_type": "code",
   "execution_count": null,
   "metadata": {},
   "outputs": [],
   "source": [
    "word = word.replace('python', 'anaconda')"
   ]
  },
  {
   "cell_type": "code",
   "execution_count": null,
   "metadata": {},
   "outputs": [],
   "source": [
    "print(word)"
   ]
  },
  {
   "cell_type": "markdown",
   "metadata": {},
   "source": [
    "## Float"
   ]
  },
  {
   "cell_type": "code",
   "execution_count": null,
   "metadata": {},
   "outputs": [],
   "source": [
    "number = 42.0\n",
    "number.is_integer()"
   ]
  },
  {
   "cell_type": "markdown",
   "metadata": {},
   "source": [
    "## List"
   ]
  },
  {
   "cell_type": "code",
   "execution_count": null,
   "metadata": {},
   "outputs": [],
   "source": [
    "names = ['Alice', 'Bob']\n",
    "names.append('Carol')\n",
    "names = names + ['David']\n",
    "print(names)"
   ]
  },
  {
   "cell_type": "markdown",
   "metadata": {},
   "source": [
    "# Defining functions\n",
    "We _define_ a custom function first and we _call_ it later."
   ]
  },
  {
   "cell_type": "code",
   "execution_count": null,
   "metadata": {},
   "outputs": [],
   "source": [
    "def function_name(parameter):\n",
    "    '''The optional docstring explains what the function does.\n",
    "    In this case, it prints the argument.'''\n",
    "    \n",
    "    if parameter.startswith('m'):\n",
    "        parameter = parameter.capitalize()\n",
    "    \n",
    "        parameter = parameter.replace('python', 'anaconda')\n",
    "    print(parameter)\n",
    "\n",
    "argument = 'bounty python'\n",
    "function_name(argument)"
   ]
  },
  {
   "cell_type": "markdown",
   "metadata": {},
   "source": [
    "## A couple notes\n",
    "### Indentation\n",
    "Python knows what lines of code belong together because they are in the same *indentation level*.\n",
    "\n",
    "Any number of spaces *or* tabs will work, but it's better to follow the **4-spaces convention** ([PEP8](https://www.python.org/dev/peps/pep-0008/)). However, [some people](https://www.youtube.com/watch?v=SsoOG6ZeyUI) disagree...\n",
    "### Parameter vs Argument\n",
    "A parameter is the parking space, the argument is the car."
   ]
  },
  {
   "cell_type": "code",
   "execution_count": null,
   "metadata": {},
   "outputs": [],
   "source": [
    "# Specifying default values of some parameters.\n",
    "def breakfast(menu, which=0, how_many=1):\n",
    "    for i in range(how_many):\n",
    "        print(menu[which])\n",
    "\n",
    "breakfast(['spam', 'eggs'], which=1, how_many=3)"
   ]
  },
  {
   "cell_type": "markdown",
   "metadata": {},
   "source": [
    "# Conditionals"
   ]
  },
  {
   "cell_type": "code",
   "execution_count": null,
   "metadata": {},
   "outputs": [],
   "source": [
    "ratios = [0.9, .4, .2, .8, .4, .5]\n",
    "\n",
    "def categorize(ratio):\n",
    "    if ratio <= 0.1:\n",
    "        print('Low')\n",
    "    elif ratio >= 0.9:\n",
    "        print('High')\n",
    "    elif ratio > 0.1 and ratio < 0.9:\n",
    "        print('Normal')\n",
    "\n",
    "for ratio in ratios:\n",
    "    categorize(ratio)\n",
    "\n",
    "# What happens when ratio is exactly 0.1 or 0.9?\n",
    "# elif as a shorthand of else + if?\n",
    "# Can we put this in a function 'categorize'?\n",
    "# What happens if ratio is a negative number, or bigger than 1, or something else? Test code."
   ]
  },
  {
   "cell_type": "markdown",
   "metadata": {},
   "source": [
    "# Loops\n",
    "## While\n",
    "Keep executing the code while the condition remains true."
   ]
  },
  {
   "cell_type": "code",
   "execution_count": null,
   "metadata": {},
   "outputs": [],
   "source": [
    "#condition = True\n",
    "count = 0\n",
    "\n",
    "while not count > 2:\n",
    "    #count = count + 1\n",
    "        \n",
    "    print(count, not count > 2)"
   ]
  },
  {
   "cell_type": "markdown",
   "metadata": {},
   "source": [
    "## For\n",
    "Execute the code a given number of times.\n",
    "\n",
    "You can loop over any *iterable*: strings, lists, tuples, dictionaries, sets, etc."
   ]
  },
  {
   "cell_type": "code",
   "execution_count": null,
   "metadata": {},
   "outputs": [],
   "source": [
    "menu = ['spam', 'eggs', 'cheese', 'ham', 'bacon']\n",
    "\n",
    "for dish in menu:\n",
    "    print(dish)\n",
    "\n",
    "#for i in range(len(menu)):\n",
    "#    print(menu[i])\n",
    "\n",
    "for _ in range(5):\n",
    "    print()\n",
    "print('Done!')"
   ]
  },
  {
   "cell_type": "code",
   "execution_count": null,
   "metadata": {},
   "outputs": [],
   "source": [
    "len(menu)"
   ]
  },
  {
   "cell_type": "markdown",
   "metadata": {},
   "source": [
    "## Else?"
   ]
  },
  {
   "cell_type": "code",
   "execution_count": null,
   "metadata": {},
   "outputs": [],
   "source": [
    "count = 5\n",
    "while count < 3:\n",
    "    count = count + 1\n",
    "    print('This is iteration number', count)\n",
    "else:\n",
    "    print('Done!')\n",
    "\n",
    "for i in range(3):\n",
    "    print('This is iteration number', i + 1)\n",
    "else:\n",
    "    print('Done!')"
   ]
  },
  {
   "cell_type": "markdown",
   "metadata": {},
   "source": [
    "## Loops on dictionaries"
   ]
  },
  {
   "cell_type": "code",
   "execution_count": null,
   "metadata": {},
   "outputs": [],
   "source": [
    "breakfast_choice = {\n",
    "    'Alice': 'spam',\n",
    "    'Bob': 'eggs',\n",
    "    'Carol': 'cheese'\n",
    "}\n",
    "\n",
    "for key, value in breakfast_choice.items():\n",
    "    print(key, 'ordered', value)\n",
    "    \n",
    "#for key in breakfast_choice:\n",
    "#    value = breakfast_choice[key]\n",
    "#    print(key, 'ordered', breakfast_choice[key])"
   ]
  },
  {
   "cell_type": "markdown",
   "metadata": {},
   "source": [
    "# Refactoring demonstration\n",
    "For this example, we will compute the **arithmetic mean** of the values stored in a list."
   ]
  },
  {
   "cell_type": "code",
   "execution_count": null,
   "metadata": {},
   "outputs": [],
   "source": [
    "numbers = [4, 6, 3, 2, 9, 2, 5, 6]\n",
    "\n",
    "# Didn't have time to do this, but you can try at home!\n",
    "# How would you compute the mean of any list of numbers.\n",
    "# Note that it can be any list, of any lenght."
   ]
  }
 ],
 "metadata": {
  "kernelspec": {
   "display_name": "Python 3",
   "language": "python",
   "name": "python3"
  },
  "language_info": {
   "codemirror_mode": {
    "name": "ipython",
    "version": 3
   },
   "file_extension": ".py",
   "mimetype": "text/x-python",
   "name": "python",
   "nbconvert_exporter": "python",
   "pygments_lexer": "ipython3",
   "version": "3.6.10"
  }
 },
 "nbformat": 4,
 "nbformat_minor": 4
}
