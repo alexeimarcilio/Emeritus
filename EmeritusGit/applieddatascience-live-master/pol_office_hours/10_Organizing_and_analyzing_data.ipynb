{
 "cells": [
  {
   "cell_type": "code",
   "execution_count": 8,
   "metadata": {},
   "outputs": [],
   "source": [
    "import numpy as np\n",
    "import pandas as pd\n",
    "import matplotlib.pyplot as plt"
   ]
  },
  {
   "cell_type": "markdown",
   "metadata": {},
   "source": [
    "# NumPy recap\n",
    "**NumPy array:** efficient data structure that contains **only one** data type."
   ]
  },
  {
   "cell_type": "code",
   "execution_count": 9,
   "metadata": {},
   "outputs": [
    {
     "name": "stdout",
     "output_type": "stream",
     "text": [
      "[1 2 3]\n",
      "[1. 2. 3.]\n",
      "['1' '2' '3']\n"
     ]
    }
   ],
   "source": [
    "x = [1, 2, 3]\n",
    "\n",
    "print(np.array(x, dtype='int'))\n",
    "print(np.array(x, dtype='float'))\n",
    "print(np.array(x, dtype='str'))"
   ]
  },
  {
   "cell_type": "markdown",
   "metadata": {},
   "source": [
    "Useful to represent vector- or matrix-like objects. Very rarely used to store non-numeric data."
   ]
  },
  {
   "cell_type": "code",
   "execution_count": 10,
   "metadata": {},
   "outputs": [
    {
     "name": "stdout",
     "output_type": "stream",
     "text": [
      "[1 2 3]\n",
      "[1. 2. 3.]\n"
     ]
    }
   ],
   "source": [
    "print(np.array(x, dtype=np.int32)) # Default integer.\n",
    "print(np.array(x, dtype=np.float64)) # Deafault float."
   ]
  },
  {
   "cell_type": "code",
   "execution_count": 11,
   "metadata": {},
   "outputs": [
    {
     "name": "stdout",
     "output_type": "stream",
     "text": [
      "[[1 2 3]\n",
      " [4 5 6]\n",
      " [7 8 9]]\n"
     ]
    }
   ],
   "source": [
    "x = [1, 2, 3]\n",
    "y = [4, 5, 6]\n",
    "z = [7, 8, 9]\n",
    "\n",
    "print(np.array([x, y, z]))"
   ]
  },
  {
   "cell_type": "code",
   "execution_count": 12,
   "metadata": {},
   "outputs": [
    {
     "name": "stdout",
     "output_type": "stream",
     "text": [
      "1\n",
      "[1 2]\n",
      "8\n",
      "[[4 5 6]\n",
      " [7 8 9]]\n"
     ]
    }
   ],
   "source": [
    "# Indexing and slicing.\n",
    "one_d = np.array(x)\n",
    "two_d = np.array([x, y, z])\n",
    "\n",
    "print(one_d[0])\n",
    "print(one_d[:2])\n",
    "print(two_d[2, 1])\n",
    "print(two_d[1:, :])"
   ]
  },
  {
   "cell_type": "code",
   "execution_count": 13,
   "metadata": {},
   "outputs": [
    {
     "name": "stdout",
     "output_type": "stream",
     "text": [
      "[[ 1  2  3]\n",
      " [ 4  5  6]\n",
      " [ 7  8  9]\n",
      " [10 11 12]]\n",
      "[[ 1  2  3  4]\n",
      " [ 5  6  7  8]\n",
      " [ 9 10 11 12]]\n",
      "[[ 1  2]\n",
      " [ 3  4]\n",
      " [ 5  6]\n",
      " [ 7  8]\n",
      " [ 9 10]\n",
      " [11 12]]\n",
      "[[ 1  2  3  4  5  6  7  8  9 10 11 12]]\n"
     ]
    }
   ],
   "source": [
    "# Reshape.\n",
    "# Resulting array must have the same size.\n",
    "four_x_tree = np.array([[1, 2, 3],\n",
    "                        [4, 5, 6],\n",
    "                        [7, 8, 9],\n",
    "                        [10,11,12]])\n",
    "print(four_x_tree)\n",
    "\n",
    "print(four_x_tree.reshape((3, 4)))\n",
    "print(four_x_tree.reshape((6, 2)))\n",
    "print(four_x_tree.reshape((1, 12)))"
   ]
  },
  {
   "cell_type": "markdown",
   "metadata": {},
   "source": [
    "# Pandas recap\n",
    "**Pandas DataFrame:** matrix-like object made of **Pandas Series** as columns."
   ]
  },
  {
   "cell_type": "code",
   "execution_count": 14,
   "metadata": {},
   "outputs": [
    {
     "data": {
      "text/html": [
       "<div>\n",
       "<style scoped>\n",
       "    .dataframe tbody tr th:only-of-type {\n",
       "        vertical-align: middle;\n",
       "    }\n",
       "\n",
       "    .dataframe tbody tr th {\n",
       "        vertical-align: top;\n",
       "    }\n",
       "\n",
       "    .dataframe thead th {\n",
       "        text-align: right;\n",
       "    }\n",
       "</style>\n",
       "<table border=\"1\" class=\"dataframe\">\n",
       "  <thead>\n",
       "    <tr style=\"text-align: right;\">\n",
       "      <th></th>\n",
       "      <th>first</th>\n",
       "      <th>second</th>\n",
       "      <th>third</th>\n",
       "    </tr>\n",
       "  </thead>\n",
       "  <tbody>\n",
       "    <tr>\n",
       "      <th>0</th>\n",
       "      <td>1</td>\n",
       "      <td>2</td>\n",
       "      <td>3</td>\n",
       "    </tr>\n",
       "    <tr>\n",
       "      <th>1</th>\n",
       "      <td>4</td>\n",
       "      <td>5</td>\n",
       "      <td>6</td>\n",
       "    </tr>\n",
       "    <tr>\n",
       "      <th>2</th>\n",
       "      <td>7</td>\n",
       "      <td>8</td>\n",
       "      <td>9</td>\n",
       "    </tr>\n",
       "    <tr>\n",
       "      <th>3</th>\n",
       "      <td>10</td>\n",
       "      <td>11</td>\n",
       "      <td>12</td>\n",
       "    </tr>\n",
       "  </tbody>\n",
       "</table>\n",
       "</div>"
      ],
      "text/plain": [
       "   first  second  third\n",
       "0      1       2      3\n",
       "1      4       5      6\n",
       "2      7       8      9\n",
       "3     10      11     12"
      ]
     },
     "execution_count": 14,
     "metadata": {},
     "output_type": "execute_result"
    }
   ],
   "source": [
    "df = pd.DataFrame(four_x_tree, columns=['first', 'second', 'third'])\n",
    "df"
   ]
  },
  {
   "cell_type": "markdown",
   "metadata": {},
   "source": [
    "A one-column DataFrame is not a Series!"
   ]
  },
  {
   "cell_type": "code",
   "execution_count": 15,
   "metadata": {},
   "outputs": [
    {
     "name": "stdout",
     "output_type": "stream",
     "text": [
      "<class 'pandas.core.series.Series'>\n",
      "<class 'pandas.core.frame.DataFrame'>\n"
     ]
    }
   ],
   "source": [
    "print(type(df['first']))\n",
    "print(type(df[['first']]))"
   ]
  },
  {
   "cell_type": "code",
   "execution_count": 16,
   "metadata": {},
   "outputs": [
    {
     "name": "stdout",
     "output_type": "stream",
     "text": [
      "<class 'pandas.core.series.Series'>\n",
      "0     1\n",
      "1     4\n",
      "2     7\n",
      "3    10\n",
      "Name: first, dtype: int64\n",
      "<class 'pandas.core.frame.DataFrame'>\n",
      "   first  second\n",
      "0      1       2\n",
      "1      4       5\n",
      "2      7       8\n",
      "3     10      11\n",
      "<class 'pandas.core.frame.DataFrame'>\n",
      "   first\n",
      "0      1\n",
      "1      4\n",
      "2      7\n",
      "3     10\n"
     ]
    }
   ],
   "source": [
    "# Column selection returns a Series.\n",
    "s = df['first'] # We select with a column ID.\n",
    "print(type(s))\n",
    "print(s)\n",
    "\n",
    "# Column slicing returns a DataFrame.\n",
    "d2 = df[['first', 'second']] # We slice with a list of column IDs.\n",
    "print(type(d2))\n",
    "print(d2)\n",
    "\n",
    "# Even if we slice a single column.\n",
    "d1 = df[['first']] # Note the list\n",
    "print(type(d1))\n",
    "print(d1)"
   ]
  },
  {
   "cell_type": "code",
   "execution_count": 17,
   "metadata": {},
   "outputs": [
    {
     "name": "stdout",
     "output_type": "stream",
     "text": [
      "<class 'pandas.core.series.Series'>\n",
      "<class 'pandas.core.frame.DataFrame'>\n",
      "<class 'pandas.core.series.Series'>\n",
      "<class 'pandas.core.frame.DataFrame'>\n"
     ]
    }
   ],
   "source": [
    "# Same with loc.\n",
    "print(type(df.loc[:, 'first']))\n",
    "print(type(df.loc[:, ['first']]))\n",
    "\n",
    "# And iloc.\n",
    "print(type(df.iloc[:, 0]))\n",
    "print(type(df.iloc[:, [0]]))"
   ]
  },
  {
   "cell_type": "markdown",
   "metadata": {},
   "source": [
    "# Loading remote datasets\n",
    "Similar to _pd.read_csv_."
   ]
  },
  {
   "cell_type": "code",
   "execution_count": 18,
   "metadata": {},
   "outputs": [
    {
     "data": {
      "text/html": [
       "<div>\n",
       "<style scoped>\n",
       "    .dataframe tbody tr th:only-of-type {\n",
       "        vertical-align: middle;\n",
       "    }\n",
       "\n",
       "    .dataframe tbody tr th {\n",
       "        vertical-align: top;\n",
       "    }\n",
       "\n",
       "    .dataframe thead th {\n",
       "        text-align: right;\n",
       "    }\n",
       "</style>\n",
       "<table border=\"1\" class=\"dataframe\">\n",
       "  <thead>\n",
       "    <tr style=\"text-align: right;\">\n",
       "      <th></th>\n",
       "      <th>Symbol</th>\n",
       "      <th>Name</th>\n",
       "      <th>Last Price</th>\n",
       "      <th>Change</th>\n",
       "      <th>% Change</th>\n",
       "      <th>52 Week Range</th>\n",
       "      <th>Day Chart</th>\n",
       "    </tr>\n",
       "  </thead>\n",
       "  <tbody>\n",
       "    <tr>\n",
       "      <th>0</th>\n",
       "      <td>BTCUSD=X</td>\n",
       "      <td>BTC/USD</td>\n",
       "      <td>9433.3779</td>\n",
       "      <td>-104.6465</td>\n",
       "      <td>-1.10%</td>\n",
       "      <td>NaN</td>\n",
       "      <td>NaN</td>\n",
       "    </tr>\n",
       "    <tr>\n",
       "      <th>1</th>\n",
       "      <td>ETHUSD=X</td>\n",
       "      <td>ETH/USD</td>\n",
       "      <td>232.3698</td>\n",
       "      <td>-2.0464</td>\n",
       "      <td>-0.87%</td>\n",
       "      <td>NaN</td>\n",
       "      <td>NaN</td>\n",
       "    </tr>\n",
       "    <tr>\n",
       "      <th>2</th>\n",
       "      <td>EURUSD=X</td>\n",
       "      <td>EUR/USD</td>\n",
       "      <td>1.1238</td>\n",
       "      <td>-0.0025</td>\n",
       "      <td>-0.22%</td>\n",
       "      <td>NaN</td>\n",
       "      <td>NaN</td>\n",
       "    </tr>\n",
       "    <tr>\n",
       "      <th>3</th>\n",
       "      <td>JPY=X</td>\n",
       "      <td>USD/JPY</td>\n",
       "      <td>107.1540</td>\n",
       "      <td>-0.1210</td>\n",
       "      <td>-0.11%</td>\n",
       "      <td>NaN</td>\n",
       "      <td>NaN</td>\n",
       "    </tr>\n",
       "    <tr>\n",
       "      <th>4</th>\n",
       "      <td>GBPUSD=X</td>\n",
       "      <td>GBP/USD</td>\n",
       "      <td>1.2551</td>\n",
       "      <td>-0.0019</td>\n",
       "      <td>-0.15%</td>\n",
       "      <td>NaN</td>\n",
       "      <td>NaN</td>\n",
       "    </tr>\n",
       "    <tr>\n",
       "      <th>5</th>\n",
       "      <td>AUDUSD=X</td>\n",
       "      <td>AUD/USD</td>\n",
       "      <td>0.6902</td>\n",
       "      <td>0.0022</td>\n",
       "      <td>+0.32%</td>\n",
       "      <td>NaN</td>\n",
       "      <td>NaN</td>\n",
       "    </tr>\n",
       "    <tr>\n",
       "      <th>6</th>\n",
       "      <td>NZDUSD=X</td>\n",
       "      <td>NZD/USD</td>\n",
       "      <td>0.6472</td>\n",
       "      <td>0.0028</td>\n",
       "      <td>+0.43%</td>\n",
       "      <td>NaN</td>\n",
       "      <td>NaN</td>\n",
       "    </tr>\n",
       "    <tr>\n",
       "      <th>7</th>\n",
       "      <td>EURJPY=X</td>\n",
       "      <td>EUR/JPY</td>\n",
       "      <td>120.3900</td>\n",
       "      <td>-0.3690</td>\n",
       "      <td>-0.31%</td>\n",
       "      <td>NaN</td>\n",
       "      <td>NaN</td>\n",
       "    </tr>\n",
       "    <tr>\n",
       "      <th>8</th>\n",
       "      <td>GBPJPY=X</td>\n",
       "      <td>GBP/JPY</td>\n",
       "      <td>134.4730</td>\n",
       "      <td>-0.3930</td>\n",
       "      <td>-0.29%</td>\n",
       "      <td>NaN</td>\n",
       "      <td>NaN</td>\n",
       "    </tr>\n",
       "    <tr>\n",
       "      <th>9</th>\n",
       "      <td>EURGBP=X</td>\n",
       "      <td>EUR/GBP</td>\n",
       "      <td>0.8952</td>\n",
       "      <td>-0.0000</td>\n",
       "      <td>-0.00%</td>\n",
       "      <td>NaN</td>\n",
       "      <td>NaN</td>\n",
       "    </tr>\n",
       "    <tr>\n",
       "      <th>10</th>\n",
       "      <td>EURCAD=X</td>\n",
       "      <td>EUR/CAD</td>\n",
       "      <td>1.5230</td>\n",
       "      <td>-0.0023</td>\n",
       "      <td>-0.15%</td>\n",
       "      <td>NaN</td>\n",
       "      <td>NaN</td>\n",
       "    </tr>\n",
       "    <tr>\n",
       "      <th>11</th>\n",
       "      <td>EURSEK=X</td>\n",
       "      <td>EUR/SEK</td>\n",
       "      <td>10.4722</td>\n",
       "      <td>-0.0757</td>\n",
       "      <td>-0.72%</td>\n",
       "      <td>NaN</td>\n",
       "      <td>NaN</td>\n",
       "    </tr>\n",
       "    <tr>\n",
       "      <th>12</th>\n",
       "      <td>EURCHF=X</td>\n",
       "      <td>EUR/CHF</td>\n",
       "      <td>1.0665</td>\n",
       "      <td>-0.0048</td>\n",
       "      <td>-0.44%</td>\n",
       "      <td>NaN</td>\n",
       "      <td>NaN</td>\n",
       "    </tr>\n",
       "    <tr>\n",
       "      <th>13</th>\n",
       "      <td>EURHUF=X</td>\n",
       "      <td>EUR/HUF</td>\n",
       "      <td>344.2100</td>\n",
       "      <td>-0.9800</td>\n",
       "      <td>-0.28%</td>\n",
       "      <td>NaN</td>\n",
       "      <td>NaN</td>\n",
       "    </tr>\n",
       "    <tr>\n",
       "      <th>14</th>\n",
       "      <td>EURJPY=X</td>\n",
       "      <td>EUR/JPY</td>\n",
       "      <td>120.3900</td>\n",
       "      <td>-0.3690</td>\n",
       "      <td>-0.31%</td>\n",
       "      <td>NaN</td>\n",
       "      <td>NaN</td>\n",
       "    </tr>\n",
       "    <tr>\n",
       "      <th>15</th>\n",
       "      <td>CNY=X</td>\n",
       "      <td>USD/CNY</td>\n",
       "      <td>7.0839</td>\n",
       "      <td>-0.0016</td>\n",
       "      <td>-0.02%</td>\n",
       "      <td>NaN</td>\n",
       "      <td>NaN</td>\n",
       "    </tr>\n",
       "    <tr>\n",
       "      <th>16</th>\n",
       "      <td>HKD=X</td>\n",
       "      <td>USD/HKD</td>\n",
       "      <td>7.7498</td>\n",
       "      <td>0.0001</td>\n",
       "      <td>+0.00%</td>\n",
       "      <td>NaN</td>\n",
       "      <td>NaN</td>\n",
       "    </tr>\n",
       "    <tr>\n",
       "      <th>17</th>\n",
       "      <td>SGD=X</td>\n",
       "      <td>USD/SGD</td>\n",
       "      <td>1.3924</td>\n",
       "      <td>-0.0017</td>\n",
       "      <td>-0.12%</td>\n",
       "      <td>NaN</td>\n",
       "      <td>NaN</td>\n",
       "    </tr>\n",
       "    <tr>\n",
       "      <th>18</th>\n",
       "      <td>INR=X</td>\n",
       "      <td>USD/INR</td>\n",
       "      <td>76.1480</td>\n",
       "      <td>-0.2720</td>\n",
       "      <td>-0.36%</td>\n",
       "      <td>NaN</td>\n",
       "      <td>NaN</td>\n",
       "    </tr>\n",
       "    <tr>\n",
       "      <th>19</th>\n",
       "      <td>MXN=X</td>\n",
       "      <td>USD/MXN</td>\n",
       "      <td>22.2688</td>\n",
       "      <td>-0.0325</td>\n",
       "      <td>-0.15%</td>\n",
       "      <td>NaN</td>\n",
       "      <td>NaN</td>\n",
       "    </tr>\n",
       "    <tr>\n",
       "      <th>20</th>\n",
       "      <td>PHP=X</td>\n",
       "      <td>USD/PHP</td>\n",
       "      <td>50.0700</td>\n",
       "      <td>-0.0800</td>\n",
       "      <td>-0.16%</td>\n",
       "      <td>NaN</td>\n",
       "      <td>NaN</td>\n",
       "    </tr>\n",
       "    <tr>\n",
       "      <th>21</th>\n",
       "      <td>IDR=X</td>\n",
       "      <td>USD/IDR</td>\n",
       "      <td>14231.0000</td>\n",
       "      <td>76.0000</td>\n",
       "      <td>+0.54%</td>\n",
       "      <td>NaN</td>\n",
       "      <td>NaN</td>\n",
       "    </tr>\n",
       "    <tr>\n",
       "      <th>22</th>\n",
       "      <td>THB=X</td>\n",
       "      <td>USD/THB</td>\n",
       "      <td>31.1230</td>\n",
       "      <td>-0.0040</td>\n",
       "      <td>-0.01%</td>\n",
       "      <td>NaN</td>\n",
       "      <td>NaN</td>\n",
       "    </tr>\n",
       "    <tr>\n",
       "      <th>23</th>\n",
       "      <td>MYR=X</td>\n",
       "      <td>USD/MYR</td>\n",
       "      <td>4.2780</td>\n",
       "      <td>0.0030</td>\n",
       "      <td>+0.07%</td>\n",
       "      <td>NaN</td>\n",
       "      <td>NaN</td>\n",
       "    </tr>\n",
       "    <tr>\n",
       "      <th>24</th>\n",
       "      <td>ZAR=X</td>\n",
       "      <td>USD/ZAR</td>\n",
       "      <td>17.1849</td>\n",
       "      <td>-0.0563</td>\n",
       "      <td>-0.33%</td>\n",
       "      <td>NaN</td>\n",
       "      <td>NaN</td>\n",
       "    </tr>\n",
       "    <tr>\n",
       "      <th>25</th>\n",
       "      <td>RUB=X</td>\n",
       "      <td>USD/RUB</td>\n",
       "      <td>69.6980</td>\n",
       "      <td>0.2632</td>\n",
       "      <td>+0.38%</td>\n",
       "      <td>NaN</td>\n",
       "      <td>NaN</td>\n",
       "    </tr>\n",
       "  </tbody>\n",
       "</table>\n",
       "</div>"
      ],
      "text/plain": [
       "      Symbol     Name  Last Price    Change % Change  52 Week Range  Day Chart\n",
       "0   BTCUSD=X  BTC/USD   9433.3779 -104.6465   -1.10%            NaN        NaN\n",
       "1   ETHUSD=X  ETH/USD    232.3698   -2.0464   -0.87%            NaN        NaN\n",
       "2   EURUSD=X  EUR/USD      1.1238   -0.0025   -0.22%            NaN        NaN\n",
       "3      JPY=X  USD/JPY    107.1540   -0.1210   -0.11%            NaN        NaN\n",
       "4   GBPUSD=X  GBP/USD      1.2551   -0.0019   -0.15%            NaN        NaN\n",
       "5   AUDUSD=X  AUD/USD      0.6902    0.0022   +0.32%            NaN        NaN\n",
       "6   NZDUSD=X  NZD/USD      0.6472    0.0028   +0.43%            NaN        NaN\n",
       "7   EURJPY=X  EUR/JPY    120.3900   -0.3690   -0.31%            NaN        NaN\n",
       "8   GBPJPY=X  GBP/JPY    134.4730   -0.3930   -0.29%            NaN        NaN\n",
       "9   EURGBP=X  EUR/GBP      0.8952   -0.0000   -0.00%            NaN        NaN\n",
       "10  EURCAD=X  EUR/CAD      1.5230   -0.0023   -0.15%            NaN        NaN\n",
       "11  EURSEK=X  EUR/SEK     10.4722   -0.0757   -0.72%            NaN        NaN\n",
       "12  EURCHF=X  EUR/CHF      1.0665   -0.0048   -0.44%            NaN        NaN\n",
       "13  EURHUF=X  EUR/HUF    344.2100   -0.9800   -0.28%            NaN        NaN\n",
       "14  EURJPY=X  EUR/JPY    120.3900   -0.3690   -0.31%            NaN        NaN\n",
       "15     CNY=X  USD/CNY      7.0839   -0.0016   -0.02%            NaN        NaN\n",
       "16     HKD=X  USD/HKD      7.7498    0.0001   +0.00%            NaN        NaN\n",
       "17     SGD=X  USD/SGD      1.3924   -0.0017   -0.12%            NaN        NaN\n",
       "18     INR=X  USD/INR     76.1480   -0.2720   -0.36%            NaN        NaN\n",
       "19     MXN=X  USD/MXN     22.2688   -0.0325   -0.15%            NaN        NaN\n",
       "20     PHP=X  USD/PHP     50.0700   -0.0800   -0.16%            NaN        NaN\n",
       "21     IDR=X  USD/IDR  14231.0000   76.0000   +0.54%            NaN        NaN\n",
       "22     THB=X  USD/THB     31.1230   -0.0040   -0.01%            NaN        NaN\n",
       "23     MYR=X  USD/MYR      4.2780    0.0030   +0.07%            NaN        NaN\n",
       "24     ZAR=X  USD/ZAR     17.1849   -0.0563   -0.33%            NaN        NaN\n",
       "25     RUB=X  USD/RUB     69.6980    0.2632   +0.38%            NaN        NaN"
      ]
     },
     "execution_count": 18,
     "metadata": {},
     "output_type": "execute_result"
    }
   ],
   "source": [
    "url = 'https://www.finance.yahoo.com/currencies' # Kudos to Alexei.\n",
    "fx = pd.read_html(url)[0] # It is a list in case we pass a list of URLs.\n",
    "\n",
    "fx"
   ]
  },
  {
   "cell_type": "markdown",
   "metadata": {},
   "source": [
    "### About the multi-axis _vs_ chain indexing thing.\n",
    "The code looks similar, but there are essentially two different things."
   ]
  },
  {
   "cell_type": "code",
   "execution_count": 19,
   "metadata": {},
   "outputs": [
    {
     "name": "stdout",
     "output_type": "stream",
     "text": [
      "BTCUSD=X\n",
      "BTCUSD=X\n"
     ]
    }
   ],
   "source": [
    "print(fx.loc[0, 'Symbol']) # View. 2 \"arguments\" are passed to loc.\n",
    "print(fx.loc[0]['Symbol']) # Copy. 1 \"argument\" is passed to loc. Then a new selection is made on the result."
   ]
  },
  {
   "cell_type": "markdown",
   "metadata": {},
   "source": [
    "In general, **explicit is better than implicit**. If you want to select rows and columns, use *.loc[]* or *.iloc[]*, if you want to create a copy, use the _.copy()_ method."
   ]
  },
  {
   "cell_type": "markdown",
   "metadata": {},
   "source": [
    "# Financial data examples\n",
    "## Getting and exploring data"
   ]
  },
  {
   "cell_type": "code",
   "execution_count": 20,
   "metadata": {},
   "outputs": [
    {
     "name": "stderr",
     "output_type": "stream",
     "text": [
      "/home/alexei/ds/eme/pro/my_project_env/lib/python3.6/site-packages/pandas_datareader/compat/__init__.py:7: FutureWarning: pandas.util.testing is deprecated. Use the functions in the public API at pandas.testing instead.\n",
      "  from pandas.util.testing import assert_frame_equal\n"
     ]
    },
    {
     "data": {
      "text/html": [
       "<div>\n",
       "<style scoped>\n",
       "    .dataframe tbody tr th:only-of-type {\n",
       "        vertical-align: middle;\n",
       "    }\n",
       "\n",
       "    .dataframe tbody tr th {\n",
       "        vertical-align: top;\n",
       "    }\n",
       "\n",
       "    .dataframe thead th {\n",
       "        text-align: right;\n",
       "    }\n",
       "</style>\n",
       "<table border=\"1\" class=\"dataframe\">\n",
       "  <thead>\n",
       "    <tr style=\"text-align: right;\">\n",
       "      <th></th>\n",
       "      <th>High</th>\n",
       "      <th>Low</th>\n",
       "      <th>Open</th>\n",
       "      <th>Close</th>\n",
       "      <th>Volume</th>\n",
       "      <th>Adj Close</th>\n",
       "    </tr>\n",
       "    <tr>\n",
       "      <th>Date</th>\n",
       "      <th></th>\n",
       "      <th></th>\n",
       "      <th></th>\n",
       "      <th></th>\n",
       "      <th></th>\n",
       "      <th></th>\n",
       "    </tr>\n",
       "  </thead>\n",
       "  <tbody>\n",
       "    <tr>\n",
       "      <th>2020-01-02</th>\n",
       "      <td>135.919998</td>\n",
       "      <td>134.770004</td>\n",
       "      <td>135.000000</td>\n",
       "      <td>135.419998</td>\n",
       "      <td>3148600.0</td>\n",
       "      <td>132.246933</td>\n",
       "    </tr>\n",
       "    <tr>\n",
       "      <th>2020-01-03</th>\n",
       "      <td>134.860001</td>\n",
       "      <td>133.559998</td>\n",
       "      <td>133.570007</td>\n",
       "      <td>134.339996</td>\n",
       "      <td>2373700.0</td>\n",
       "      <td>131.192245</td>\n",
       "    </tr>\n",
       "    <tr>\n",
       "      <th>2020-01-06</th>\n",
       "      <td>134.240005</td>\n",
       "      <td>133.199997</td>\n",
       "      <td>133.419998</td>\n",
       "      <td>134.100006</td>\n",
       "      <td>2425500.0</td>\n",
       "      <td>130.957886</td>\n",
       "    </tr>\n",
       "    <tr>\n",
       "      <th>2020-01-07</th>\n",
       "      <td>134.960007</td>\n",
       "      <td>133.399994</td>\n",
       "      <td>133.690002</td>\n",
       "      <td>134.190002</td>\n",
       "      <td>3090800.0</td>\n",
       "      <td>131.045761</td>\n",
       "    </tr>\n",
       "    <tr>\n",
       "      <th>2020-01-08</th>\n",
       "      <td>135.860001</td>\n",
       "      <td>133.919998</td>\n",
       "      <td>134.509995</td>\n",
       "      <td>135.309998</td>\n",
       "      <td>4346000.0</td>\n",
       "      <td>132.139526</td>\n",
       "    </tr>\n",
       "    <tr>\n",
       "      <th>...</th>\n",
       "      <td>...</td>\n",
       "      <td>...</td>\n",
       "      <td>...</td>\n",
       "      <td>...</td>\n",
       "      <td>...</td>\n",
       "      <td>...</td>\n",
       "    </tr>\n",
       "    <tr>\n",
       "      <th>2020-06-11</th>\n",
       "      <td>126.099998</td>\n",
       "      <td>117.839996</td>\n",
       "      <td>126.029999</td>\n",
       "      <td>118.010002</td>\n",
       "      <td>11763600.0</td>\n",
       "      <td>118.010002</td>\n",
       "    </tr>\n",
       "    <tr>\n",
       "      <th>2020-06-12</th>\n",
       "      <td>123.120003</td>\n",
       "      <td>119.279999</td>\n",
       "      <td>121.250000</td>\n",
       "      <td>121.910004</td>\n",
       "      <td>6218100.0</td>\n",
       "      <td>121.910004</td>\n",
       "    </tr>\n",
       "    <tr>\n",
       "      <th>2020-06-15</th>\n",
       "      <td>122.370003</td>\n",
       "      <td>118.290001</td>\n",
       "      <td>119.190002</td>\n",
       "      <td>121.650002</td>\n",
       "      <td>5149100.0</td>\n",
       "      <td>121.650002</td>\n",
       "    </tr>\n",
       "    <tr>\n",
       "      <th>2020-06-16</th>\n",
       "      <td>127.500000</td>\n",
       "      <td>123.160004</td>\n",
       "      <td>125.000000</td>\n",
       "      <td>125.150002</td>\n",
       "      <td>5606700.0</td>\n",
       "      <td>125.150002</td>\n",
       "    </tr>\n",
       "    <tr>\n",
       "      <th>2020-06-17</th>\n",
       "      <td>126.250000</td>\n",
       "      <td>123.400002</td>\n",
       "      <td>125.830002</td>\n",
       "      <td>125.110001</td>\n",
       "      <td>1914955.0</td>\n",
       "      <td>125.110001</td>\n",
       "    </tr>\n",
       "  </tbody>\n",
       "</table>\n",
       "<p>116 rows × 6 columns</p>\n",
       "</div>"
      ],
      "text/plain": [
       "                  High         Low        Open       Close      Volume  \\\n",
       "Date                                                                     \n",
       "2020-01-02  135.919998  134.770004  135.000000  135.419998   3148600.0   \n",
       "2020-01-03  134.860001  133.559998  133.570007  134.339996   2373700.0   \n",
       "2020-01-06  134.240005  133.199997  133.419998  134.100006   2425500.0   \n",
       "2020-01-07  134.960007  133.399994  133.690002  134.190002   3090800.0   \n",
       "2020-01-08  135.860001  133.919998  134.509995  135.309998   4346000.0   \n",
       "...                ...         ...         ...         ...         ...   \n",
       "2020-06-11  126.099998  117.839996  126.029999  118.010002  11763600.0   \n",
       "2020-06-12  123.120003  119.279999  121.250000  121.910004   6218100.0   \n",
       "2020-06-15  122.370003  118.290001  119.190002  121.650002   5149100.0   \n",
       "2020-06-16  127.500000  123.160004  125.000000  125.150002   5606700.0   \n",
       "2020-06-17  126.250000  123.400002  125.830002  125.110001   1914955.0   \n",
       "\n",
       "             Adj Close  \n",
       "Date                    \n",
       "2020-01-02  132.246933  \n",
       "2020-01-03  131.192245  \n",
       "2020-01-06  130.957886  \n",
       "2020-01-07  131.045761  \n",
       "2020-01-08  132.139526  \n",
       "...                ...  \n",
       "2020-06-11  118.010002  \n",
       "2020-06-12  121.910004  \n",
       "2020-06-15  121.650002  \n",
       "2020-06-16  125.150002  \n",
       "2020-06-17  125.110001  \n",
       "\n",
       "[116 rows x 6 columns]"
      ]
     },
     "execution_count": 20,
     "metadata": {},
     "output_type": "execute_result"
    }
   ],
   "source": [
    "from pandas_datareader import data\n",
    "import datetime as dt\n",
    "\n",
    "start = '2020-01-01' # Also works with a specially formatted string.\n",
    "end = dt.datetime.today()\n",
    "\n",
    "ibm = data.DataReader('IBM', 'yahoo', start, end) # Thanks, Alexei!\n",
    "ibm"
   ]
  },
  {
   "cell_type": "code",
   "execution_count": 21,
   "metadata": {},
   "outputs": [
    {
     "data": {
      "image/png": "[encoded data removed]",
      "text/plain": [
       "<Figure size 432x288 with 1 Axes>"
      ]
     },
     "metadata": {
      "needs_background": "light"
     },
     "output_type": "display_data"
    }
   ],
   "source": [
    "plt.plot(ibm['Close'])\n",
    "\n",
    "plt.title('IBM')\n",
    "plt.xlabel('Date')\n",
    "plt.ylabel('Price (USD)')\n",
    "\n",
    "plt.show()"
   ]
  },
  {
   "cell_type": "code",
   "execution_count": 30,
   "metadata": {},
   "outputs": [
    {
     "data": {
      "image/png": "[encoded data removed]",
      "text/plain": [
       "<Figure size 800x575 with 2 Axes>"
      ]
     },
     "metadata": {},
     "output_type": "display_data"
    }
   ],
   "source": [
    "import mplfinance as mpf\n",
    "\n",
    "mpf.plot(ibm, type='candle',\n",
    "         title='IBM', ylabel='Price (USD)')\n",
    "\n",
    "plt.show()\n",
    "\n",
    "plt.style.use('default') # mplfinanced changed the default matplotlib style. =("
   ]
  },
  {
   "cell_type": "code",
   "execution_count": 33,
   "metadata": {},
   "outputs": [
    {
     "data": {
      "text/plain": [
       "<matplotlib.axes._subplots.AxesSubplot at 0x7fc116fab4a8>"
      ]
     },
     "execution_count": 33,
     "metadata": {},
     "output_type": "execute_result"
    },
    {
     "data": {
      "image/png": "[encoded data removed]",
      "text/plain": [
       "<Figure size 640x480 with 1 Axes>"
      ]
     },
     "metadata": {},
     "output_type": "display_data"
    }
   ],
   "source": [
    "ibm[\"Close\"].pct_change().rolling(20).mean().plot()"
   ]
  },
  {
   "cell_type": "code",
   "execution_count": 31,
   "metadata": {},
   "outputs": [],
   "source": [
    "ibm_rdp = ibm.pct_change() * 100 # How much did the price move, as a percentage of last day's price.\n",
    "\n",
    "# Equivalent to:\n",
    "# (price_today - price_yesterday) / price_yesterday * 100"
   ]
  },
  {
   "cell_type": "code",
   "execution_count": null,
   "metadata": {},
   "outputs": [],
   "source": [
    "plt.plot(ibm_rdp['Close'])\n",
    "plt.axhline(0, c='red', alpha=0.5)\n",
    "\n",
    "ma5 = ibm_rdp['Close'].rolling(window=5).mean()\n",
    "ma20 = ibm_rdp['Close'].rolling(window=20).mean()\n",
    "\n",
    "plt.plot(ma5)\n",
    "plt.plot(ma20)\n",
    "\n",
    "plt.title('IBM')\n",
    "plt.xlabel('Date')\n",
    "plt.ylabel('Relative price difference (%)')\n",
    "\n",
    "plt.show()"
   ]
  },
  {
   "cell_type": "markdown",
   "metadata": {},
   "source": [
    "### Have a look at all Matplotlib styles in the [Style sheets reference](https://matplotlib.org/3.2.1/gallery/style_sheets/style_sheets_reference.html)."
   ]
  },
  {
   "cell_type": "markdown",
   "metadata": {},
   "source": [
    "## Risk return analysis"
   ]
  },
  {
   "cell_type": "code",
   "execution_count": 23,
   "metadata": {},
   "outputs": [
    {
     "data": {
      "text/html": [
       "<div>\n",
       "<style scoped>\n",
       "    .dataframe tbody tr th:only-of-type {\n",
       "        vertical-align: middle;\n",
       "    }\n",
       "\n",
       "    .dataframe tbody tr th {\n",
       "        vertical-align: top;\n",
       "    }\n",
       "\n",
       "    .dataframe thead th {\n",
       "        text-align: right;\n",
       "    }\n",
       "</style>\n",
       "<table border=\"1\" class=\"dataframe\">\n",
       "  <thead>\n",
       "    <tr style=\"text-align: right;\">\n",
       "      <th>Symbols</th>\n",
       "      <th>FSLR</th>\n",
       "      <th>TAN</th>\n",
       "      <th>GOGL</th>\n",
       "    </tr>\n",
       "    <tr>\n",
       "      <th>Date</th>\n",
       "      <th></th>\n",
       "      <th></th>\n",
       "      <th></th>\n",
       "    </tr>\n",
       "  </thead>\n",
       "  <tbody>\n",
       "    <tr>\n",
       "      <th>2015-07-01</th>\n",
       "      <td>46.040001</td>\n",
       "      <td>38.840000</td>\n",
       "      <td>18.950001</td>\n",
       "    </tr>\n",
       "    <tr>\n",
       "      <th>2015-07-02</th>\n",
       "      <td>45.169998</td>\n",
       "      <td>38.549999</td>\n",
       "      <td>19.750000</td>\n",
       "    </tr>\n",
       "    <tr>\n",
       "      <th>2015-07-06</th>\n",
       "      <td>44.189999</td>\n",
       "      <td>36.369999</td>\n",
       "      <td>19.450001</td>\n",
       "    </tr>\n",
       "    <tr>\n",
       "      <th>2015-07-07</th>\n",
       "      <td>45.119999</td>\n",
       "      <td>36.099998</td>\n",
       "      <td>18.549999</td>\n",
       "    </tr>\n",
       "    <tr>\n",
       "      <th>2015-07-08</th>\n",
       "      <td>43.270000</td>\n",
       "      <td>33.669998</td>\n",
       "      <td>17.700001</td>\n",
       "    </tr>\n",
       "    <tr>\n",
       "      <th>...</th>\n",
       "      <td>...</td>\n",
       "      <td>...</td>\n",
       "      <td>...</td>\n",
       "    </tr>\n",
       "    <tr>\n",
       "      <th>2016-05-25</th>\n",
       "      <td>50.560001</td>\n",
       "      <td>22.090000</td>\n",
       "      <td>3.350000</td>\n",
       "    </tr>\n",
       "    <tr>\n",
       "      <th>2016-05-26</th>\n",
       "      <td>49.730000</td>\n",
       "      <td>21.969999</td>\n",
       "      <td>3.400000</td>\n",
       "    </tr>\n",
       "    <tr>\n",
       "      <th>2016-05-27</th>\n",
       "      <td>49.900002</td>\n",
       "      <td>21.959999</td>\n",
       "      <td>3.850000</td>\n",
       "    </tr>\n",
       "    <tr>\n",
       "      <th>2016-05-31</th>\n",
       "      <td>49.650002</td>\n",
       "      <td>22.010000</td>\n",
       "      <td>4.000000</td>\n",
       "    </tr>\n",
       "    <tr>\n",
       "      <th>2016-06-01</th>\n",
       "      <td>50.070000</td>\n",
       "      <td>22.100000</td>\n",
       "      <td>3.900000</td>\n",
       "    </tr>\n",
       "  </tbody>\n",
       "</table>\n",
       "<p>232 rows × 3 columns</p>\n",
       "</div>"
      ],
      "text/plain": [
       "Symbols          FSLR        TAN       GOGL\n",
       "Date                                       \n",
       "2015-07-01  46.040001  38.840000  18.950001\n",
       "2015-07-02  45.169998  38.549999  19.750000\n",
       "2015-07-06  44.189999  36.369999  19.450001\n",
       "2015-07-07  45.119999  36.099998  18.549999\n",
       "2015-07-08  43.270000  33.669998  17.700001\n",
       "...               ...        ...        ...\n",
       "2016-05-25  50.560001  22.090000   3.350000\n",
       "2016-05-26  49.730000  21.969999   3.400000\n",
       "2016-05-27  49.900002  21.959999   3.850000\n",
       "2016-05-31  49.650002  22.010000   4.000000\n",
       "2016-06-01  50.070000  22.100000   3.900000\n",
       "\n",
       "[232 rows x 3 columns]"
      ]
     },
     "execution_count": 23,
     "metadata": {},
     "output_type": "execute_result"
    }
   ],
   "source": [
    "start = '2015-07-01'\n",
    "end = '2016-06-01'\n",
    "solar = data.DataReader(['FSLR', 'TAN', 'GOGL'], 'yahoo', start, end)['Close']\n",
    "solar"
   ]
  },
  {
   "cell_type": "code",
   "execution_count": 24,
   "metadata": {},
   "outputs": [],
   "source": [
    "def abline(intercept, slope):\n",
    "    \"\"\"Plot a line from slope and intercept\"\"\"\n",
    "    axes = plt.gca()\n",
    "    x_vals = np.array(axes.get_xlim())\n",
    "    y_vals = intercept + slope * x_vals\n",
    "    plt.plot(x_vals, y_vals, '--', color='tab:orange')"
   ]
  },
  {
   "cell_type": "code",
   "execution_count": 25,
   "metadata": {},
   "outputs": [
    {
     "data": {
      "image/png": "[encoded data removed]",
      "text/plain": [
       "<Figure size 432x288 with 1 Axes>"
      ]
     },
     "metadata": {
      "needs_background": "light"
     },
     "output_type": "display_data"
    }
   ],
   "source": [
    "solar_rdp = solar.pct_change() # This is equivalent to the relative daily returns (relative to the previous day, that is).\n",
    "\n",
    "plt.scatter(solar_rdp['FSLR'], solar_rdp['TAN'])\n",
    "\n",
    "import statsmodels.api as sm\n",
    "model = sm.OLS(solar_rdp['TAN'], sm.add_constant(solar_rdp['FSLR']), missing='drop').fit()\n",
    "abline(model.params['const'], model.params['FSLR'])\n",
    "\n",
    "plt.xlabel('FSLT relative daily return')\n",
    "plt.ylabel('TAN relative daily return')\n",
    "\n",
    "plt.show()"
   ]
  },
  {
   "cell_type": "code",
   "execution_count": 27,
   "metadata": {},
   "outputs": [
    {
     "data": {
      "image/png": "[encoded data removed]",
      "text/plain": [
       "<Figure size 432x288 with 1 Axes>"
      ]
     },
     "metadata": {
      "needs_background": "light"
     },
     "output_type": "display_data"
    }
   ],
   "source": [
    "plt.scatter(solar_rdp['GOGL'], solar_rdp['TAN'])\n",
    "\n",
    "plt.xlabel('GOGL relative daily return')\n",
    "plt.ylabel('TAN relative daily return')\n",
    "\n",
    "plt.show()"
   ]
  },
  {
   "cell_type": "code",
   "execution_count": 28,
   "metadata": {},
   "outputs": [
    {
     "data": {
      "image/png": "[encoded data removed]",
      "text/plain": [
       "<Figure size 432x288 with 1 Axes>"
      ]
     },
     "metadata": {
      "needs_background": "light"
     },
     "output_type": "display_data"
    }
   ],
   "source": [
    "plt.scatter(solar_rdp.mean(), solar_rdp.std()) # Sort of a Sharpe ratio.\n",
    "\n",
    "for symbol in ['FSLR', 'TAN', 'GOGL']:\n",
    "    plt.annotate(symbol,\n",
    "                 (solar_rdp.mean()[symbol],\n",
    "                  solar_rdp.std()[symbol]))\n",
    "\n",
    "plt.xlim((-0.006, 0.002))\n",
    "plt.ylim((0.02, 0.06))\n",
    "plt.xlabel('Mean return')\n",
    "plt.ylabel('Standard deviation of return')\n",
    "\n",
    "plt.show()"
   ]
  },
  {
   "cell_type": "code",
   "execution_count": null,
   "metadata": {},
   "outputs": [],
   "source": []
  }
 ],
 "metadata": {
  "kernelspec": {
   "display_name": "Python 3",
   "language": "python",
   "name": "python3"
  },
  "language_info": {
   "codemirror_mode": {
    "name": "ipython",
    "version": 3
   },
   "file_extension": ".py",
   "mimetype": "text/x-python",
   "name": "python",
   "nbconvert_exporter": "python",
   "pygments_lexer": "ipython3",
   "version": "3.6.9"
  }
 },
 "nbformat": 4,
 "nbformat_minor": 4
}
