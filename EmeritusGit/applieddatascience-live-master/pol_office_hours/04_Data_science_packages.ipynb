{
 "cells": [
  {
   "cell_type": "markdown",
   "metadata": {},
   "source": [
    "# Importing modules"
   ]
  },
  {
   "cell_type": "code",
   "execution_count": null,
   "metadata": {},
   "outputs": [],
   "source": [
    "# In general, we will import whole modules, with an optional alias.\n",
    "import numpy as np\n",
    "import pandas as pd\n",
    "\n",
    "# Then use functions by referencing the module.\n",
    "print(np.sign(0))\n",
    "\n",
    "# Although we can import specific functions.\n",
    "#from numpy import sign\n",
    "\n",
    "#print(sign(42)) # Useful when we use the same function many times (less typing)."
   ]
  },
  {
   "cell_type": "markdown",
   "metadata": {},
   "source": [
    "### `import x` is preferred over `from x import y`"
   ]
  },
  {
   "cell_type": "code",
   "execution_count": null,
   "metadata": {},
   "outputs": [],
   "source": [
    "# What happens if someone defines a function with the same name?\n",
    "def sign(number):\n",
    "    zodiac = ['a', 'b', 'c']\n",
    "    return zodiac[number]\n",
    "\n",
    "print(sign(-2))"
   ]
  },
  {
   "cell_type": "markdown",
   "metadata": {},
   "source": [
    "# NumPy arrays\n",
    "Efficient matrix-like structures. Contain a single data type."
   ]
  },
  {
   "cell_type": "code",
   "execution_count": null,
   "metadata": {},
   "outputs": [],
   "source": [
    "n = 5\n",
    "mean_weight = 70 # kg\n",
    "mean_height = 1.70 # m\n",
    "sd_weight = 10\n",
    "sd_height = 0.15\n",
    "\n",
    "weights = np.random.randn(n) * sd_weight + mean_weight\n",
    "heights = np.random.randn(n) * sd_height + mean_height\n",
    "\n",
    "bmis = weights / heights**2\n",
    "\n",
    "print('Weights:', np.round(weights))\n",
    "print('Heights:', np.round(heights, 2))\n",
    "print('BMIs:', np.round(bmis, 1))"
   ]
  },
  {
   "cell_type": "markdown",
   "metadata": {},
   "source": [
    "## 2D arrays"
   ]
  },
  {
   "cell_type": "code",
   "execution_count": null,
   "metadata": {},
   "outputs": [],
   "source": [
    "data = np.array([weights, heights, bmis])\n",
    "print(data)"
   ]
  },
  {
   "cell_type": "code",
   "execution_count": null,
   "metadata": {},
   "outputs": [],
   "source": [
    "data.shape # That's an attribute, just the name for a variable inside an object."
   ]
  },
  {
   "cell_type": "code",
   "execution_count": null,
   "metadata": {},
   "outputs": [],
   "source": [
    "# Selecting values.\n",
    "\n",
    "# data[row, column]\n",
    "print(data[0, 3]) # Weight of the fourth patient.\n",
    "print(data[1, 0]) # Height of the fisrt patient.\n",
    "print(data[2, 1]) # BMI of the second patient.\n",
    "print(data[:, :3]) # All data from the first three patients.\n",
    "\n",
    "print(data[0, :]) # First row.\n",
    "print(data[:, 0]) # First column.\n",
    "\n",
    "data[0, :] == data[0] # Rows can be selected with simplified notation."
   ]
  },
  {
   "cell_type": "code",
   "execution_count": null,
   "metadata": {},
   "outputs": [],
   "source": [
    "# Slicing as views, not as copies.\n",
    "sub = data[:, :3]\n",
    "data[0, 0] = 1\n",
    "print(sub)\n",
    "\n",
    "# But doesn't happen with single entrie.\n",
    "sub = data[0, 0]\n",
    "data[0, 0] = 2\n",
    "print(sub)"
   ]
  },
  {
   "cell_type": "code",
   "execution_count": null,
   "metadata": {},
   "outputs": [],
   "source": [
    "# Looping over values, by row.\n",
    "for value in np.nditer(data[:, :3]):\n",
    "    print(value)"
   ]
  },
  {
   "cell_type": "markdown",
   "metadata": {},
   "source": [
    "# Pandas DataFrames\n",
    "Data is usually organized with **variables in columns** and **observations in rows**. A pandas **DataFrame** can store different data types."
   ]
  },
  {
   "cell_type": "code",
   "execution_count": null,
   "metadata": {},
   "outputs": [],
   "source": [
    "# We can create a DataFrame from a dict.\n",
    "people_dict = {\n",
    "    'name': ['Alice', 'Bob', 'Carol'],\n",
    "    'fav_breakfast': ['spam', 'eggs', 'ice cream'],\n",
    "    'age': [24, 35, 46],\n",
    "    'knows_python': [True, True, False]\n",
    "}\n",
    "\n",
    "people_df = pd.DataFrame(people_dict)\n",
    "people_df"
   ]
  },
  {
   "cell_type": "code",
   "execution_count": null,
   "metadata": {},
   "outputs": [],
   "source": [
    "# From a nested list.\n",
    "people_list = [\n",
    "    ['Alice', 'spam', 24, True],\n",
    "    ['Bob', 'eggs', 35, True],\n",
    "    ['Carol', 'ice cream', 46, False]\n",
    "]\n",
    "\n",
    "people_df = pd.DataFrame(people_list, columns = ['name', 'fav_breakfast', 'age', 'knows_python'])\n",
    "people_df"
   ]
  },
  {
   "cell_type": "code",
   "execution_count": null,
   "metadata": {},
   "outputs": [],
   "source": [
    "# And from a NumPy array, with a single data type.\n",
    "people_np = np.array(people_list)\n",
    "print(people_np)\n",
    "pd.DataFrame(people_np, columns = ['name', 'fav_breakfast', 'age', 'knows_python'])"
   ]
  },
  {
   "cell_type": "code",
   "execution_count": null,
   "metadata": {},
   "outputs": [],
   "source": [
    "# And from a csv (comma-separated values) file.\n",
    "social = pd.read_csv('\"January 3-10, 2018 - Core Trends Survey - CSV.csv\"')"
   ]
  },
  {
   "cell_type": "markdown",
   "metadata": {},
   "source": [
    "### Interlude: Solving the _print_ vs _return_ confusion, or\n",
    "## _To print or not to print?_"
   ]
  },
  {
   "cell_type": "code",
   "execution_count": null,
   "metadata": {},
   "outputs": [],
   "source": [
    "print(social)\n",
    "social"
   ]
  },
  {
   "cell_type": "markdown",
   "metadata": {},
   "source": [
    "## Slicing DataFrames\n",
    "- [ ]\n",
    "- .loc\n",
    "- .iloc"
   ]
  },
  {
   "cell_type": "code",
   "execution_count": null,
   "metadata": {},
   "outputs": [],
   "source": [
    "print(social.pial11)\n",
    "print(social['pial11'])\n",
    "type(social['pial11'])"
   ]
  },
  {
   "cell_type": "code",
   "execution_count": null,
   "metadata": {},
   "outputs": [],
   "source": [
    "#print(social.pial11ao@)\n",
    "print(social['pial11ao@'])\n",
    "\n",
    "column = 'pial11ao@'\n",
    "social[column]"
   ]
  },
  {
   "cell_type": "code",
   "execution_count": null,
   "metadata": {},
   "outputs": [],
   "source": [
    "print(social[['pial11', 'pial11ao@']])\n",
    "print(type(social[['pial11', 'pial11ao@']]))\n",
    "\n",
    "#print(social[['pial11']])\n",
    "#print(type(social[['pial11']]))"
   ]
  },
  {
   "cell_type": "code",
   "execution_count": null,
   "metadata": {},
   "outputs": [],
   "source": [
    "social[0:5]"
   ]
  },
  {
   "cell_type": "markdown",
   "metadata": {},
   "source": [
    "## Filtering DataFrames"
   ]
  },
  {
   "cell_type": "code",
   "execution_count": null,
   "metadata": {},
   "outputs": [],
   "source": [
    "social[social.age < 35]"
   ]
  },
  {
   "cell_type": "code",
   "execution_count": null,
   "metadata": {},
   "outputs": [],
   "source": [
    "pd.DataFrame({'age': social.age,\n",
    "              'bool_age': social.age < 35})"
   ]
  },
  {
   "cell_type": "markdown",
   "metadata": {},
   "source": [
    "# NumPy functions"
   ]
  },
  {
   "cell_type": "code",
   "execution_count": null,
   "metadata": {},
   "outputs": [],
   "source": [
    "print(np.mean(social.age))\n",
    "print(np.median(social.age))\n",
    "print(np.corrcoef(social.age, social.books1)) # Age vs number of books read."
   ]
  }
 ],
 "metadata": {
  "kernelspec": {
   "display_name": "Python 3",
   "language": "python",
   "name": "python3"
  },
  "language_info": {
   "codemirror_mode": {
    "name": "ipython",
    "version": 3
   },
   "file_extension": ".py",
   "mimetype": "text/x-python",
   "name": "python",
   "nbconvert_exporter": "python",
   "pygments_lexer": "ipython3",
   "version": "3.6.10"
  }
 },
 "nbformat": 4,
 "nbformat_minor": 4
}
