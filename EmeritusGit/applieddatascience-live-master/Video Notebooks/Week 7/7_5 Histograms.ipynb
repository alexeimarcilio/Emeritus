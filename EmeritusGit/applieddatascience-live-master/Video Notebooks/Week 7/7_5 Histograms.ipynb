{
 "cells": [
  {
   "cell_type": "markdown",
   "metadata": {},
   "source": [
    "# Histograms\n",
    "\n",
    "## Outine\n",
    "- What is a Histogram \n",
    "- Data set for a Histogram \n",
    "- Creating the Histogram using Matplotlib\n",
    "- Creating a Histogram with a line of best fit\n",
    "- Wrapping up"
   ]
  },
  {
   "cell_type": "markdown",
   "metadata": {},
   "source": [
    "  \n",
    " ### Definition of a Histogram  \n",
    "   \n",
    "A histogram is a display of statistical information that uses rectangles to show the frequency of data items in successive numerical intervals of equal size. \n",
    "\n",
    "In the most common form of histogram, the **independent** variable is plotted along the horizontal axis and the **dependent** variable is plotted along the vertical axis.\n",
    "\n",
    "<img src=\"images/histogram_example1.jpg\" width=\"500\">\n",
    "\n",
    "Matplotlib provides the **pyplot.hist()** function for creating histograms plots. \n",
    "\n",
    "The **pyplot.hist()** function parameters to be used with axes object are as follows −\n",
    "\n",
    "``pyplot.hist(x_values, bins, color, transparency)``"
   ]
  },
  {
   "cell_type": "markdown",
   "metadata": {
    "slideshow": {
     "slide_type": "-"
    }
   },
   "source": [
    "## Data set for a Histogram \n",
    "\n",
    "For our first data set:\n",
    "- we will define a sequence of points (list)\n",
    "- separate the data into 5 bins (the number of intervals to divide the data into)\n",
    "\n",
    "For our second data set:\n",
    "- define x as a distribution with mean 100 and sd of 15\n",
    "- separate the data into 20 bins"
   ]
  },
  {
   "cell_type": "code",
   "execution_count": 2,
   "metadata": {},
   "outputs": [],
   "source": [
    "import numpy as np\n",
    "\n",
    "# for the first data set define x and the number of bins\n",
    "x = [21,22,23,4,5,6,77,8,9,10,31,32,33,34,35,36,37,18,49,50,100]\n",
    "num_bins = 5\n",
    "\n",
    "# for the second data set define x as a distribution with mean 100 and sd of 15\n",
    "mu = 100 # mean of distribution\n",
    "sigma = 15 # standard deviation of distribution\n",
    "x_2 = mu + sigma * np.random.randn(10000)\n",
    "num_bins_2 = 20"
   ]
  },
  {
   "cell_type": "markdown",
   "metadata": {},
   "source": [
    "## Creating the Histogram \n",
    "\n",
    "For the histogram, we will use the ``hist`` function in the **pyplot** library.\n",
    "\n",
    "This simple example includes:\n",
    "- A call to the hist() function to create the histogram\n",
    "- The addition of the graphical labels"
   ]
  },
  {
   "cell_type": "code",
   "execution_count": 3,
   "metadata": {},
   "outputs": [
    {
     "data": {
      "image/png": "[encoded data removed]",
      "text/plain": [
       "<Figure size 432x288 with 1 Axes>"
      ]
     },
     "metadata": {
      "needs_background": "light"
     },
     "output_type": "display_data"
    }
   ],
   "source": [
    "import matplotlib.pyplot as plt\n",
    "\n",
    "# use the \"hist\" function to create the histogram in the default Figure and Axes\n",
    "plt.hist(x, num_bins, facecolor='blue', alpha=0.5)\n",
    "# Add in the title\n",
    "plt.title('Simple Histogram using MatplotLib')\n",
    "# Add in the labels\n",
    "plt.xlabel('x-axis')\n",
    "plt.ylabel('y-axis')\n",
    "# display the graph\n",
    "plt.show()"
   ]
  },
  {
   "cell_type": "markdown",
   "metadata": {},
   "source": [
    "## Histogram with a fit line\n",
    "\n",
    "In this example, we use the second data set and create a histogram representing a normal distribution. In addition, we will add a fit line (the data spread across our data range).\n",
    "\n",
    "Here we see:\n",
    "- return values from the hist() function\n",
    "- the plotting of the normally distributed data set\n",
    "- the addition of a fit line\n",
    "- the addition of a legend\n",
    "- our normal labels"
   ]
  },
  {
   "cell_type": "code",
   "execution_count": 4,
   "metadata": {},
   "outputs": [
    {
     "data": {
      "image/png": "[encoded data removed]",
      "text/plain": [
       "<Figure size 432x288 with 1 Axes>"
      ]
     },
     "metadata": {
      "needs_background": "light"
     },
     "output_type": "display_data"
    }
   ],
   "source": [
    "import scipy.stats as sp\n",
    "import matplotlib.lines as mlines\n",
    "\n",
    "# the histogram of the data - we will use the return values assigned later\n",
    "n, bins, patches = plt.hist(x_2, num_bins_2, density=1, facecolor='blue', alpha=0.5)\n",
    "\n",
    "# add a 'best fit' line\n",
    "y = sp.norm.pdf(bins, mu, sigma)\n",
    "plt.plot(bins, y, 'r--')\n",
    "\n",
    "# add in our labels and title\n",
    "plt.xlabel('x-axis')\n",
    "plt.ylabel('y-axis')\n",
    "plt.title(r'Histogram of IQ: $\\mu=100$, $\\sigma=15$')\n",
    "\n",
    "# create a legend\n",
    "red_line = mlines.Line2D([], [], color='red', marker=\"_\",\n",
    "                          markersize=15, label='fit line')\n",
    "plt.legend(handles=[red_line])\n",
    "\n",
    "# Tweak spacing to prevent clipping of ylabel\n",
    "plt.subplots_adjust(left=0.15)\n",
    "# display the plot\n",
    "plt.show()"
   ]
  },
  {
   "cell_type": "markdown",
   "metadata": {},
   "source": [
    "## Wrapping up\n",
    "We discussed:\n",
    "- What is a Histogram \n",
    "- Creating the Histogram using Matplotlib\n",
    "- Creating a Histogram with a line of best fit\n",
    "\n",
    "For more examples of histogram plots, see the Matplotlib gallery:\n",
    "\n",
    "https://matplotlib.org/3.1.1/gallery/index.html"
   ]
  },
  {
   "cell_type": "code",
   "execution_count": null,
   "metadata": {},
   "outputs": [],
   "source": []
  }
 ],
 "metadata": {
  "kernelspec": {
   "display_name": "Python 3",
   "language": "python",
   "name": "python3"
  },
  "language_info": {
   "codemirror_mode": {
    "name": "ipython",
    "version": 3
   },
   "file_extension": ".py",
   "mimetype": "text/x-python",
   "name": "python",
   "nbconvert_exporter": "python",
   "pygments_lexer": "ipython3",
   "version": "3.7.4"
  },
  "latex_envs": {
   "LaTeX_envs_menu_present": true,
   "autoclose": false,
   "autocomplete": true,
   "bibliofile": "biblio.bib",
   "cite_by": "apalike",
   "current_citInitial": 1,
   "eqLabelWithNumbers": true,
   "eqNumInitial": 1,
   "hotkeys": {
    "equation": "Ctrl-E",
    "itemize": "Ctrl-I"
   },
   "labels_anchors": false,
   "latex_user_defs": false,
   "report_style_numbering": false,
   "user_envs_cfg": false
  }
 },
 "nbformat": 4,
 "nbformat_minor": 1
}
