{
 "cells": [
  {
   "cell_type": "markdown",
   "metadata": {},
   "source": [
    "# Bar Plots\n",
    "\n",
    "\n",
    "## Outine\n",
    "- Bar plot and **bar()** function\n",
    "- Data set for a bar plot\n",
    "- The standard bar plot\n",
    "- The multi-series bar plot\n",
    "- Wrapping up"
   ]
  },
  {
   "cell_type": "markdown",
   "metadata": {},
   "source": [
    "  \n",
    " ### Bar Plots \n",
    " \n",
    "A barplot (or barchart) is one of the most common types of graphic. It shows the relationship between a numeric and a categoric variable. Each entity of the categoric variable is represented as a bar. The size of the bar represents its numeric value.   \n",
    "- Bar graphs are used to compare data between different groups or to track changes over time (similar to a line chart). \n",
    "- Bar graphs can display multiple groups in the same bar in a stacked visual showing the composition of the bar chart along the Y-axis.\n",
    "\n",
    "<img src=\"images/bar_plot_example1.jpg\" width=\"500\">"
   ]
  },
  {
   "cell_type": "markdown",
   "metadata": {},
   "source": [
    "Matplotlib provides the **bar()** function for creating bar plots. \n",
    "\n",
    "The **bar()** function parameters to be used with axes object is as follows −\n",
    "\n",
    "``bar(x, height, width, bottom, align)``"
   ]
  },
  {
   "cell_type": "markdown",
   "metadata": {
    "slideshow": {
     "slide_type": "-"
    }
   },
   "source": [
    "\n",
    "## Data set for a bar plot\n",
    "In this example we will keep the data simple. We will use an example of number of students enrolled for various courses at a college. \n"
   ]
  },
  {
   "cell_type": "code",
   "execution_count": 33,
   "metadata": {},
   "outputs": [],
   "source": [
    "# define the data set\n",
    "courses = ['Data Science', 'Python', 'R', 'Statistics', 'Machine Learning']\n",
    "students = [30, 45, 8, 25, 38]"
   ]
  },
  {
   "cell_type": "markdown",
   "metadata": {},
   "source": [
    "## The standard bar plot\n",
    "Recall what you have learned:\n",
    "- Figures\n",
    "- Axes\n",
    "- Plots\n",
    "\n",
    "The following code will create a bar chart using student enrollment data.\n"
   ]
  },
  {
   "cell_type": "code",
   "execution_count": 34,
   "metadata": {},
   "outputs": [
    {
     "data": {
      "image/png": "[encoded data removed]",
      "text/plain": [
       "<Figure size 432x288 with 1 Axes>"
      ]
     },
     "metadata": {
      "needs_background": "light"
     },
     "output_type": "display_data"
    }
   ],
   "source": [
    "# use pyplot for our plotting constructs\n",
    "import matplotlib.pyplot as plt\n",
    "# create a figure to \"draw\" on\n",
    "fig = plt.figure()\n",
    "# add our subplot using rectangle coordinates [left, bottom, width, height] \n",
    "ax = fig.add_axes([0,0,1,1])\n",
    "# add the bar chart to the subplot\n",
    "ax.bar(courses, students)\n",
    "# add our labels and a title\n",
    "plt.xlabel(\"Courses\")\n",
    "plt.ylabel(\"Student Enrollment\")\n",
    "plt.title('Student Enrollment by Course')\n",
    "# display the plot\n",
    "plt.show()"
   ]
  },
  {
   "cell_type": "markdown",
   "metadata": {},
   "source": [
    "## The multi-series bar plot\n",
    "In this example, we will keep the X axis data the same (i.e, the courses). We will add in a new enrollment facet of \"campus\" which will give us three total data sets (or series), those being: \"Main campus\", \"North campus\", and \"Virtual campus\".\n",
    "\n",
    "To augment the plot, we will:\n",
    "- Add color to distinguish the data sets (bar colors)\n",
    "- The labels will remain the same"
   ]
  },
  {
   "cell_type": "code",
   "execution_count": 36,
   "metadata": {},
   "outputs": [
    {
     "data": {
      "image/png": "[encoded data removed]",
      "text/plain": [
       "<Figure size 432x288 with 1 Axes>"
      ]
     },
     "metadata": {
      "needs_background": "light"
     },
     "output_type": "display_data"
    }
   ],
   "source": [
    "# import numpy so we have access to the arrange() function\n",
    "import numpy as np\n",
    "#creat our data - Main, North, Virtual campus (array 1, 2, 3 respectively)\n",
    "students_by_campus = [[30, 45, 8, 25, 38],[15, 20, 19, 23, 10],[45, 35, 40, 33, 39]]\n",
    "# create a figure to \"draw\" on\n",
    "fig = plt.figure()\n",
    "# add our subplot using rectangle coordinates [left, bottom, width, height] \n",
    "ax = fig.add_axes([0,0,1,1.5])\n",
    "# arrange the position of the bar charts by category by using an offset\n",
    "X = np.arange(5)\n",
    "# create the bars\n",
    "ax.bar(X + 0.00, students_by_campus[0], color = 'b', width = 0.25)\n",
    "ax.bar(X + 0.25, students_by_campus[1], color = 'g', width = 0.25)\n",
    "ax.bar(X + 0.50, students_by_campus[2], color = 'r', width = 0.25)\n",
    "# add our labels and a title\n",
    "plt.xlabel(\"Courses\")\n",
    "plt.ylabel(\"Student Enrollment\")\n",
    "plt.title('Student Enrollment by Course by Campus')\n",
    "# set the x ticks and labels\n",
    "ax.set_xticks(X+.25)\n",
    "ax.set_xticklabels(courses)\n",
    "# create the legend\n",
    "ax.legend(labels=['Main', 'North', 'Virtual'])\n",
    "# display the plot\n",
    "plt.show()"
   ]
  },
  {
   "cell_type": "markdown",
   "metadata": {},
   "source": [
    "## Wrapping up\n",
    "For more examples of bar plots, see the Matplotlib gallery:\n",
    "\n",
    "https://matplotlib.org/3.1.1/gallery/index.html"
   ]
  },
  {
   "cell_type": "code",
   "execution_count": null,
   "metadata": {},
   "outputs": [],
   "source": []
  }
 ],
 "metadata": {
  "kernelspec": {
   "display_name": "Python 3",
   "language": "python",
   "name": "python3"
  },
  "language_info": {
   "codemirror_mode": {
    "name": "ipython",
    "version": 3
   },
   "file_extension": ".py",
   "mimetype": "text/x-python",
   "name": "python",
   "nbconvert_exporter": "python",
   "pygments_lexer": "ipython3",
   "version": "3.7.4"
  },
  "latex_envs": {
   "LaTeX_envs_menu_present": true,
   "autoclose": false,
   "autocomplete": true,
   "bibliofile": "biblio.bib",
   "cite_by": "apalike",
   "current_citInitial": 1,
   "eqLabelWithNumbers": true,
   "eqNumInitial": 1,
   "hotkeys": {
    "equation": "Ctrl-E",
    "itemize": "Ctrl-I"
   },
   "labels_anchors": false,
   "latex_user_defs": false,
   "report_style_numbering": false,
   "user_envs_cfg": false
  }
 },
 "nbformat": 4,
 "nbformat_minor": 1
}
