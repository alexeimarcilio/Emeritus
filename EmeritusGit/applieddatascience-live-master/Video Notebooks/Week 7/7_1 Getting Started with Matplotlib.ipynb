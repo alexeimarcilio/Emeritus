{
 "cells": [
  {
   "cell_type": "markdown",
   "metadata": {},
   "source": [
    "# Getting Started with Matplotlib\n",
    "\n",
    "## Outine\n",
    "- Importance of Data Visualization\n",
    "- Introduction to Matplotlib\n",
    "- Where to Go For Help with Matplotlib\n",
    "- Matplotlib Data Visualization Concepts\n",
    "    - Figures\n",
    "    - Axes\n",
    "- Pyplot\n",
    "- Additional Packages for Visualization"
   ]
  },
  {
   "cell_type": "markdown",
   "metadata": {},
   "source": [
    "  \n",
    " ## Importance of Data Visualization for Data Science\n",
    "- Visualizing data helps us view patterns, trends, and correlations we might not have detected \n",
    "- Common Tools include graphing libraries and **matplotlib**\n",
    "\n",
    "\n"
   ]
  },
  {
   "cell_type": "markdown",
   "metadata": {
    "slideshow": {
     "slide_type": "-"
    }
   },
   "source": [
    "## Introduction to Matplotlib\n",
    "\n",
    "Matplotlib is a library for producing publication-quality figures. **\"mpl\"** (for short) was designed from the beginning to serve two purposes: \n",
    "\n",
    " 1. allow for interactive, cross-platform control of figures and plots\n",
    " 2. make it easy to produce static raster or vector graphics files without the need for any GUIs. \n",
    " \n",
    "Furthermore, **\"mpl\"** -- much like Python itself -- gives the developer complete control over the appearance of their plots, while still being very usable through a powerful defaults system."
   ]
  },
  {
   "cell_type": "markdown",
   "metadata": {},
   "source": [
    "## Where to Go for Help with Matplotlib\n",
    "-  Online Documentation at [matplotlib.org](http://matplotlib.org) which includes [example galleries](https://matplotlib.org/gallery/index.html), [FAQs](http://matplotlib.org/faq/index.html), [API documentation](http://matplotlib.org/api/index.html), and [tutorials](https://matplotlib.org/tutorials/index.html).\n",
    "- [Gallery](https://matplotlib.org/gallery/index.html) to view a variety of figures\n",
    "- Matplotlib Mailing List: Ask for help from the Matplotlib community at the matplotlib-users [mailing list](https://mail.python.org/mailman/listinfo/matplotlib-users). \n",
    "- [StackOverflow](http://stackoverflow.com/questions/tagged/matplotlib): to ask questions and view replies\n",
    "- GitHub repository for [Matplotlib](https://github.com/matplotlib) \n",
    "\n"
   ]
  },
  {
   "cell_type": "markdown",
   "metadata": {},
   "source": [
    "\n",
    "## Matplotlib Data Visualization Concepts\n",
    "\n",
    "People use \"plot\" to mean many different things.  Here, we'll be using a consistent terminology (mirrored by the names of the underlying classes, etc):\n",
    "\n",
    "\n",
    "<img src=\"images/figure_axes_axis_labeled.png\">\n",
    "\n",
    "### Figures\n",
    "- Overall window/page that everything is drawn on. \n",
    "- May have multiple independent ``Figures``\n",
    "- ``Figures`` may contain multiple ``Axes``\n",
    "\n",
    "\n",
    "### Axes\n",
    "- The area where we plot data and any labels associated with it\n",
    "- Set up ``Axes`` with a call to ``subplot`` (which places Axes on a regular grid)\n",
    "- ``Axes`` and ``Subplot`` are synonymous in most cases\n",
    "- Each ``Axes`` has an ``XAxis`` and a ``YAxis``\n",
    "- ``Artist`` functions allow us to work with Text objects, Line2D objects, collection objects to create a figure. \n"
   ]
  },
  {
   "cell_type": "markdown",
   "metadata": {},
   "source": [
    "## Pyplot\n",
    "\n",
    "- Frequently used module in Matplotlib\n",
    "- Stateful module (it will persist while your kernel is running) and tracks changes to a Figure\n",
    "- Important for creating and manipulating the state of a Figure\n",
    "- ``matplotlib.pyplot``\n",
    "\n",
    "Let's take a look at how **pyplot** can be used in the following simple example:\n",
    "- create a plot (x-coords, y-coords)\n",
    "- create a y-axis label\n",
    "- display the plot"
   ]
  },
  {
   "cell_type": "code",
   "execution_count": 6,
   "metadata": {},
   "outputs": [
    {
     "data": {
      "image/png": "[encoded data removed]",
      "text/plain": [
       "<Figure size 432x288 with 1 Axes>"
      ]
     },
     "metadata": {
      "needs_background": "light"
     },
     "output_type": "display_data"
    }
   ],
   "source": [
    "import matplotlib.pyplot as plt\n",
    "plt.plot([1,2,3,4], [1,2,3,4])\n",
    "plt.ylabel('some significant numbers')\n",
    "plt.show() "
   ]
  },
  {
   "cell_type": "markdown",
   "metadata": {},
   "source": [
    "### Common usage of plot: \n",
    "\n",
    "``plt.plot(x_values, y_values, format_string [, x, y, format, ]) ``\n",
    "\n",
    "- Color and line type indicated by `` format_string [, x, y, format, ]) `` argument\n",
    "- x_values and y_values as NumPy arrays\n",
    "- arrange() Numpy function\n",
    "- Line properties include label, linewidth, animated, color\n",
    "\n"
   ]
  },
  {
   "cell_type": "code",
   "execution_count": 7,
   "metadata": {},
   "outputs": [
    {
     "data": {
      "image/png": "[encoded data removed]",
      "text/plain": [
       "<Figure size 432x288 with 1 Axes>"
      ]
     },
     "metadata": {
      "needs_background": "light"
     },
     "output_type": "display_data"
    }
   ],
   "source": [
    "import numpy as np\n",
    "import matplotlib.pyplot as plt\n",
    "\n",
    "# evenly sampled time at .2 intervals\n",
    "t = np.arange(0., 5., 0.2) \n",
    "# red dashes, blue squares and green triangles \n",
    "plt.plot(t, t, 'ro', t, t**2, 'bs', t, t**3, 'g^')\n",
    "plt.axis([0, 6, 0, 150]) # x and y range of axis\n",
    "plt.show() \n"
   ]
  },
  {
   "cell_type": "markdown",
   "metadata": {},
   "source": [
    "\n",
    "### Useful methods in PyPlot:\n",
    "\n",
    "The ``text()`` command can be used to add text in an arbitrary location\n",
    "\n",
    " ``xlabel()`` adds text to x-axis.\n",
    " \n",
    " ``ylabel()`` adds text to y-axis.\n",
    " \n",
    " ``title()`` adds title to plot.\n",
    " \n",
    " ``clear()`` removes all plots from the axes. \n",
    " \n",
    " \n",
    "All methods are available on pyplot and on the axes instance generally. "
   ]
  },
  {
   "cell_type": "markdown",
   "metadata": {},
   "source": [
    "## Wrapping up\n",
    "There are tons of specialized functions – check out the API here. \n",
    "\n",
    "http://matplotlib.org/api/index.html\n",
    "\n",
    "Also check out the examples list to get a feel for what matplotlib is capable of (it’s a lot!). \n",
    "\n",
    "http://matplotlib.org/examples/index.html\n",
    "\n",
    "\n",
    "You can also embed plots into GUI applications."
   ]
  },
  {
   "cell_type": "markdown",
   "metadata": {},
   "source": [
    "## One final note - additional visualization packages in Python\n",
    "\n",
    "While matplotlib is one grandfather of data visualization packages in Python, there are several others worth checking out based on your use case and your level of coding skills.\n",
    "\n",
    "Pandas: http://pandas.pydata.org/\n",
    "\n",
    "Seaborn: http://stanford.edu/~mwaskom/software/seaborn/\n",
    "\n",
    "Ggplot: http://ggplot.yhathq.com/\n",
    "\n",
    "Bokeh: http://bokeh.pydata.org/\n",
    "\n",
    "Bqplot: https://bqplot.readthedocs.io/en/latest/introduction.html\n",
    "\n",
    "Pygal: http://pygal.org/\n",
    "\n",
    "Plotly: https://plot.ly/\n",
    "\n",
    "Holoviews: http://holoviews.org/\n",
    "\n",
    "Altair: https://altair-viz.github.io/"
   ]
  },
  {
   "cell_type": "code",
   "execution_count": null,
   "metadata": {},
   "outputs": [],
   "source": []
  }
 ],
 "metadata": {
  "kernelspec": {
   "display_name": "Python 3",
   "language": "python",
   "name": "python3"
  },
  "language_info": {
   "codemirror_mode": {
    "name": "ipython",
    "version": 3
   },
   "file_extension": ".py",
   "mimetype": "text/x-python",
   "name": "python",
   "nbconvert_exporter": "python",
   "pygments_lexer": "ipython3",
   "version": "3.7.4"
  },
  "latex_envs": {
   "LaTeX_envs_menu_present": true,
   "autoclose": false,
   "autocomplete": true,
   "bibliofile": "biblio.bib",
   "cite_by": "apalike",
   "current_citInitial": 1,
   "eqLabelWithNumbers": true,
   "eqNumInitial": 1,
   "hotkeys": {
    "equation": "Ctrl-E",
    "itemize": "Ctrl-I"
   },
   "labels_anchors": false,
   "latex_user_defs": false,
   "report_style_numbering": false,
   "user_envs_cfg": false
  }
 },
 "nbformat": 4,
 "nbformat_minor": 1
}
