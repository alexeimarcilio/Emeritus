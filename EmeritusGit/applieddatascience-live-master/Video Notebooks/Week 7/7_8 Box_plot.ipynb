{
 "cells": [
  {
   "cell_type": "markdown",
   "metadata": {},
   "source": [
    "# Box Plots\n",
    "\n",
    "## Outine\n",
    "- What is a Box plot\n",
    "- Data set for a Box plot\n",
    "- Creating the Box plot\n",
    "- Customizing the Box plot\n",
    "- Wrapping up"
   ]
  },
  {
   "cell_type": "markdown",
   "metadata": {},
   "source": [
    "  \n",
    " ### Definition of a Box Plot \n",
    "   \n",
    "A **box plot** which is also known as a whisker plot displays a summary of a set of data containing the minimum, first quartile, median, third quartile, and maximum. In a box plot, we draw a box from the first quartile to the third quartile. A vertical line goes through the box at the median. The whiskers go from each quartile to the minimum or maximum.\n",
    "\n",
    "<img src=\"images/box_plot.jpg\" width=\"300\">\n"
   ]
  },
  {
   "cell_type": "markdown",
   "metadata": {
    "slideshow": {
     "slide_type": "-"
    }
   },
   "source": [
    "## Data for a Box plot\n",
    "\n",
    "We will use randomly generated data for the data set. As you recall, **numpy** can provide these types of functions. In this case we will use the ``random.normal()`` function to randomly generate the data from a normal (Gaussian) distribution. \n",
    "\n",
    "We will be using 200 samples in our data set (per set).\n"
   ]
  },
  {
   "cell_type": "code",
   "execution_count": 30,
   "metadata": {},
   "outputs": [],
   "source": [
    "# import numpy \n",
    "import numpy as np\n",
    "# set the seed for the random function\n",
    "np.random.seed(10)\n",
    "# generate the sample sets: numpy.random.normal(loc=0.0, scale=1.0, size=None)\n",
    "set_1 = np.random.normal(100, 10, 200)\n",
    "set_2 = np.random.normal(80, 30, 200)\n",
    "set_3 = np.random.normal(90, 20, 200)\n",
    "set_4 = np.random.normal(70, 25, 200)\n",
    "# create a collection of data to plot (list of ndarray)\n",
    "data_to_plot = [set_1, set_2, set_3, set_4]"
   ]
  },
  {
   "cell_type": "markdown",
   "metadata": {},
   "source": [
    "## Creating the Box plot\n",
    "We will use the ``boxplot`` function with the data that we created to create our box plot. \n",
    "\n",
    "Notice a few things:\n",
    "- first, we define a figure and add an axes\n",
    "- second, we call the boxplot function with the data\n",
    "- third, we display the figure\n"
   ]
  },
  {
   "cell_type": "code",
   "execution_count": 31,
   "metadata": {},
   "outputs": [
    {
     "data": {
      "image/png": "[encoded data removed]",
      "text/plain": [
       "<Figure size 432x288 with 1 Axes>"
      ]
     },
     "metadata": {
      "needs_background": "light"
     },
     "output_type": "display_data"
    }
   ],
   "source": [
    "# include pyplot\n",
    "import matplotlib.pyplot as plt\n",
    "# create a figure\n",
    "fig = plt.figure()\n",
    "# Create an axes instance\n",
    "ax = fig.add_axes([0,0,1,1])\n",
    "# Create the boxplot\n",
    "bp = ax.boxplot(data_to_plot)\n",
    "# Display\n",
    "plt.show()\n"
   ]
  },
  {
   "cell_type": "markdown",
   "metadata": {},
   "source": [
    "## Customizing the Box Plot and displaying it horizontally\n",
    "\n",
    "Here we will customize the box plot and draw it horiziontally. \n",
    "\n",
    "Notice the parameters in the boxplot() function:\n",
    "- vert = 0 means vertical display is false, or horizontal\n",
    "- patch_atrist = True changes the renderer for the boxes, in this case to set color, it muse be True \n",
    "- labels allow us to label the data series\n",
    "- also notice, patch.set_facecolor() sets the color of the boxplot boxes"
   ]
  },
  {
   "cell_type": "code",
   "execution_count": 32,
   "metadata": {},
   "outputs": [
    {
     "data": {
      "image/png": "[encoded data removed]",
      "text/plain": [
       "<Figure size 432x288 with 1 Axes>"
      ]
     },
     "metadata": {
      "needs_background": "light"
     },
     "output_type": "display_data"
    }
   ],
   "source": [
    "# create a boxplot from the same data \n",
    "box=plt.boxplot(data_to_plot,vert=0,patch_artist=True,labels=['series1','series2','series3','series4'])\n",
    "# select the colors for the boxes \n",
    "colors = ['cyan', 'blue', 'green', 'tan']\n",
    "# assign the box colors\n",
    "for patch, color in zip(box['boxes'], colors):\n",
    "    patch.set_facecolor(color)\n",
    "# display the box plot \n",
    "plt.show()"
   ]
  },
  {
   "cell_type": "markdown",
   "metadata": {},
   "source": [
    "## Wrapping up\n",
    "We covered:\n",
    "- What is a Box plot\n",
    "- Creating the Box plot\n",
    "- Customizing the Box plot\n",
    "\n",
    "For more examples of box plots, see the Matplotlib gallery:\n",
    "\n",
    "https://matplotlib.org/3.1.1/gallery/index.html"
   ]
  }
 ],
 "metadata": {
  "kernelspec": {
   "display_name": "Python 3",
   "language": "python",
   "name": "python3"
  },
  "language_info": {
   "codemirror_mode": {
    "name": "ipython",
    "version": 3
   },
   "file_extension": ".py",
   "mimetype": "text/x-python",
   "name": "python",
   "nbconvert_exporter": "python",
   "pygments_lexer": "ipython3",
   "version": "3.7.4"
  },
  "latex_envs": {
   "LaTeX_envs_menu_present": true,
   "autoclose": false,
   "autocomplete": true,
   "bibliofile": "biblio.bib",
   "cite_by": "apalike",
   "current_citInitial": 1,
   "eqLabelWithNumbers": true,
   "eqNumInitial": 1,
   "hotkeys": {
    "equation": "Ctrl-E",
    "itemize": "Ctrl-I"
   },
   "labels_anchors": false,
   "latex_user_defs": false,
   "report_style_numbering": false,
   "user_envs_cfg": false
  }
 },
 "nbformat": 4,
 "nbformat_minor": 1
}
