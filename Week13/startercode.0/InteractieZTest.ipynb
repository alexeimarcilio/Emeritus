{
 "cells": [
  {
   "cell_type": "markdown",
   "metadata": {},
   "source": [
    "### Interactive Two Proportion z-test"
   ]
  },
  {
   "cell_type": "code",
   "execution_count": 22,
   "metadata": {},
   "outputs": [],
   "source": [
    "from ipywidgets import interact\n",
    "import ipywidgets as widgets"
   ]
  },
  {
   "cell_type": "code",
   "execution_count": 23,
   "metadata": {},
   "outputs": [],
   "source": [
    "import statsmodels.api as sm\n",
    "import numpy as np\n",
    "import matplotlib.pyplot as plt"
   ]
  },
  {
   "cell_type": "code",
   "execution_count": 24,
   "metadata": {},
   "outputs": [],
   "source": [
    "def two_tester(n1, n2, p1, p2):\n",
    "\n",
    "    population1 = np.random.binomial(1, p1, n1)\n",
    "    population2 = np.random.binomial(1, p2, n2)\n",
    "\n",
    "    mean = 0; std = 1; variance = np.square(std)\n",
    "    x = np.arange(-3.5,3.5,.01)\n",
    "    f = np.exp(-np.square(x-mean)/2*variance)/(np.sqrt(2*np.pi*variance))\n",
    "    plt.plot(x,f)\n",
    "    plt.ylabel('gaussian distribution')\n",
    "    plt.axvline(1.96, color='red')\n",
    "    plt.axvline(-1.96, color='red')\n",
    "    \n",
    "    z_line = sm.stats.ztest(population1, population2)[0]\n",
    "    if abs(z_line) > 1.96:\n",
    "        color = 'green'\n",
    "    else:\n",
    "        color = 'orange'\n",
    "    \n",
    "    plt.axvline(z_line, color=color)\n",
    "    plt.show()\n",
    "    \n",
    "    return sm.stats.ztest(population1, population2)"
   ]
  },
  {
   "cell_type": "code",
   "execution_count": 25,
   "metadata": {},
   "outputs": [
    {
     "data": {
      "application/vnd.jupyter.widget-view+json": {
       "model_id": "84f3c092eb8b4bd78c8b7bb1e170006c",
       "version_major": 2,
       "version_minor": 0
      },
      "text/plain": [
       "interactive(children=(IntSlider(value=1, description='n1', max=2000, min=1), IntSlider(value=1, description='n…"
      ]
     },
     "metadata": {},
     "output_type": "display_data"
    },
    {
     "data": {
      "text/plain": [
       "<function __main__.two_tester(n1, n2, p1, p2)>"
      ]
     },
     "execution_count": 25,
     "metadata": {},
     "output_type": "execute_result"
    }
   ],
   "source": [
    "interact(two_tester, n1 = widgets.IntSlider(min = 1, max = 2000, step = 1),\n",
    "        n2 = widgets.IntSlider(min = 1, max = 2000, step = 1),\n",
    "        p1 = widgets.FloatSlider(min = 0, max = 1, step = 0.01),\n",
    "        p2 = widgets.FloatSlider(min = 0, max = 1, step = 0.01))"
   ]
  },
  {
   "cell_type": "code",
   "execution_count": null,
   "metadata": {},
   "outputs": [],
   "source": []
  },
  {
   "cell_type": "code",
   "execution_count": null,
   "metadata": {},
   "outputs": [],
   "source": []
  },
  {
   "cell_type": "code",
   "execution_count": null,
   "metadata": {},
   "outputs": [],
   "source": []
  }
 ],
 "metadata": {
  "kernelspec": {
   "display_name": "Python 3",
   "language": "python",
   "name": "python3"
  },
  "language_info": {
   "codemirror_mode": {
    "name": "ipython",
    "version": 3
   },
   "file_extension": ".py",
   "mimetype": "text/x-python",
   "name": "python",
   "nbconvert_exporter": "python",
   "pygments_lexer": "ipython3",
   "version": "3.6.9"
  }
 },
 "nbformat": 4,
 "nbformat_minor": 4
}
