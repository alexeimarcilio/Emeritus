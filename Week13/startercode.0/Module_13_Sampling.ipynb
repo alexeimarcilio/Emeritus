{
 "cells": [
  {
   "cell_type": "markdown",
   "metadata": {
    "deletable": false,
    "editable": false,
    "nbgrader": {
     "grade": false,
     "locked": true,
     "solution": false
    }
   },
   "source": [
    "# Module 13 -  Sampling\n",
    "\n",
    "**_Author: Jessica Cervi_**\n",
    "\n",
    "**Expected time = 2 hours**\n",
    "\n",
    "**Total points = 55 points**\n",
    "\n",
    "\n",
    "   \n",
    "## Assignment Overview\n",
    "\n",
    "\n",
    "Accurate predictions in data science require a large amount of data about the population of interest. However, data scientists are usually only able to access data from _samples_ within a population. In order to draw robust and reproducible conclusions, it's important to understand how information about a sample of data can differ from the population, how to assess the robustness of a sample, and how to evaluate individual data points within the sample. \n",
    "\n",
    "To ensure a sample of data is representative of the poulation, you must be able to determine how many data points are necessary to draw accurate conclusions and develop strategies for collecting robust samples.\n",
    "\n",
    "\n",
    "\n",
    "This assignment is designed to build your familiarity and comfort coding in Python while also helping you review key topics from each module. As you progress through the assignment, answers will get increasingly complex. It is important that you adopt a data scientist's mindset when completing this assignment. **Remember to run your code from each cell before submitting your assignment.** Running your code beforehand will notify you of errors and give you a chance to fix your errors before submitting. You should view your Vocareum submission as if you are delivering a final project to your manager or client. \n",
    "\n",
    "***Vocareum Tips***\n",
    "- Do not add arguments or options to functions unless you are specifically asked to. This will cause an error in Vocareum.\n",
    "- Do not use a library unless you are expicitly asked to in the question. \n",
    "- You can download the Grading Report after submitting the assignment. This will include feedback and hints on incorrect questions. \n",
    "\n",
    "\n",
    "### Learning Objectives\n",
    "\n",
    "- Define the Central Limit Theorem (CLT)\n",
    "- Estimate the mean of the broader population based on a sample of data\n",
    "- Calculate _confidence intervals_ indicating the confidence that a population mean falls within a specific range\n",
    "- Calculate the minimum number of data points (or _sample_ ) necessary to confidently draw conclusions\n",
    "\n",
    " \n",
    "\n",
    "## Index:\n",
    "\n",
    "#### Module 13: Sampling\n",
    "\n",
    "- [Question 1](#q1)\n",
    "- [Question 2](#q2)\n",
    "- [Question 3](#q3)\n",
    "- [Question 4](#q4)\n",
    "- [Question 5](#q5)\n",
    "- [Question 6](#q6)\n",
    "- [Question 7](#q7)\n",
    "- [Question 8](#q8)\n",
    "- [Question 9](#q9)"
   ]
  },
  {
   "cell_type": "markdown",
   "metadata": {
    "deletable": false,
    "editable": false,
    "nbgrader": {
     "grade": false,
     "locked": true,
     "solution": false
    }
   },
   "source": [
    "## Module 13: Sampling\n",
    "\n",
    "\n",
    "In this assignment, you will use two data sets. The first is a data set called `polls`, which includes results from 5 political polls assessing citizen support for new zoning laws in a major U.S. city. There are 5 columns, each representing a poll administered to 150 people on separate days and locations throughout the city. \n",
    "\n",
    "The second is a data set called `jobs`, which includes a sample of 200 job listings posted on the New York City government jobs website. Let's import the first data set and take a glimpse of its contents below."
   ]
  },
  {
   "cell_type": "code",
   "execution_count": 3,
   "metadata": {
    "deletable": false,
    "editable": false,
    "nbgrader": {
     "grade": false,
     "locked": true,
     "solution": false
    }
   },
   "outputs": [
    {
     "data": {
      "text/html": [
       "<div>\n",
       "<style scoped>\n",
       "    .dataframe tbody tr th:only-of-type {\n",
       "        vertical-align: middle;\n",
       "    }\n",
       "\n",
       "    .dataframe tbody tr th {\n",
       "        vertical-align: top;\n",
       "    }\n",
       "\n",
       "    .dataframe thead th {\n",
       "        text-align: right;\n",
       "    }\n",
       "</style>\n",
       "<table border=\"1\" class=\"dataframe\">\n",
       "  <thead>\n",
       "    <tr style=\"text-align: right;\">\n",
       "      <th></th>\n",
       "      <th>p1</th>\n",
       "      <th>p2</th>\n",
       "      <th>p3</th>\n",
       "      <th>p4</th>\n",
       "      <th>p5</th>\n",
       "    </tr>\n",
       "  </thead>\n",
       "  <tbody>\n",
       "    <tr>\n",
       "      <th>0</th>\n",
       "      <td>5</td>\n",
       "      <td>1</td>\n",
       "      <td>3</td>\n",
       "      <td>5</td>\n",
       "      <td>2</td>\n",
       "    </tr>\n",
       "    <tr>\n",
       "      <th>1</th>\n",
       "      <td>1</td>\n",
       "      <td>3</td>\n",
       "      <td>5</td>\n",
       "      <td>5</td>\n",
       "      <td>5</td>\n",
       "    </tr>\n",
       "    <tr>\n",
       "      <th>2</th>\n",
       "      <td>2</td>\n",
       "      <td>3</td>\n",
       "      <td>5</td>\n",
       "      <td>3</td>\n",
       "      <td>5</td>\n",
       "    </tr>\n",
       "    <tr>\n",
       "      <th>3</th>\n",
       "      <td>4</td>\n",
       "      <td>3</td>\n",
       "      <td>3</td>\n",
       "      <td>3</td>\n",
       "      <td>5</td>\n",
       "    </tr>\n",
       "    <tr>\n",
       "      <th>4</th>\n",
       "      <td>5</td>\n",
       "      <td>4</td>\n",
       "      <td>3</td>\n",
       "      <td>2</td>\n",
       "      <td>2</td>\n",
       "    </tr>\n",
       "  </tbody>\n",
       "</table>\n",
       "</div>"
      ],
      "text/plain": [
       "   p1  p2  p3  p4  p5\n",
       "0   5   1   3   5   2\n",
       "1   1   3   5   5   5\n",
       "2   2   3   5   3   5\n",
       "3   4   3   3   3   5\n",
       "4   5   4   3   2   2"
      ]
     },
     "execution_count": 3,
     "metadata": {},
     "output_type": "execute_result"
    }
   ],
   "source": [
    "import numpy as np\n",
    "import pandas as pd\n",
    "import matplotlib.pyplot as plt\n",
    "\n",
    "%matplotlib inline\n",
    "\n",
    "import warnings\n",
    "warnings.filterwarnings('ignore')\n",
    "\n",
    "polls = pd.read_csv(\"data/polls.csv\")\n",
    "\n",
    "polls.head()"
   ]
  },
  {
   "cell_type": "code",
   "execution_count": 4,
   "metadata": {},
   "outputs": [
    {
     "data": {
      "text/html": [
       "<div>\n",
       "<style scoped>\n",
       "    .dataframe tbody tr th:only-of-type {\n",
       "        vertical-align: middle;\n",
       "    }\n",
       "\n",
       "    .dataframe tbody tr th {\n",
       "        vertical-align: top;\n",
       "    }\n",
       "\n",
       "    .dataframe thead th {\n",
       "        text-align: right;\n",
       "    }\n",
       "</style>\n",
       "<table border=\"1\" class=\"dataframe\">\n",
       "  <thead>\n",
       "    <tr style=\"text-align: right;\">\n",
       "      <th></th>\n",
       "      <th>p1</th>\n",
       "      <th>p2</th>\n",
       "      <th>p3</th>\n",
       "      <th>p4</th>\n",
       "      <th>p5</th>\n",
       "    </tr>\n",
       "  </thead>\n",
       "  <tbody>\n",
       "    <tr>\n",
       "      <th>0</th>\n",
       "      <td>5</td>\n",
       "      <td>1</td>\n",
       "      <td>3</td>\n",
       "      <td>5</td>\n",
       "      <td>2</td>\n",
       "    </tr>\n",
       "    <tr>\n",
       "      <th>1</th>\n",
       "      <td>1</td>\n",
       "      <td>3</td>\n",
       "      <td>5</td>\n",
       "      <td>5</td>\n",
       "      <td>5</td>\n",
       "    </tr>\n",
       "    <tr>\n",
       "      <th>2</th>\n",
       "      <td>2</td>\n",
       "      <td>3</td>\n",
       "      <td>5</td>\n",
       "      <td>3</td>\n",
       "      <td>5</td>\n",
       "    </tr>\n",
       "    <tr>\n",
       "      <th>3</th>\n",
       "      <td>4</td>\n",
       "      <td>3</td>\n",
       "      <td>3</td>\n",
       "      <td>3</td>\n",
       "      <td>5</td>\n",
       "    </tr>\n",
       "    <tr>\n",
       "      <th>4</th>\n",
       "      <td>5</td>\n",
       "      <td>4</td>\n",
       "      <td>3</td>\n",
       "      <td>2</td>\n",
       "      <td>2</td>\n",
       "    </tr>\n",
       "    <tr>\n",
       "      <th>...</th>\n",
       "      <td>...</td>\n",
       "      <td>...</td>\n",
       "      <td>...</td>\n",
       "      <td>...</td>\n",
       "      <td>...</td>\n",
       "    </tr>\n",
       "    <tr>\n",
       "      <th>145</th>\n",
       "      <td>5</td>\n",
       "      <td>2</td>\n",
       "      <td>4</td>\n",
       "      <td>5</td>\n",
       "      <td>3</td>\n",
       "    </tr>\n",
       "    <tr>\n",
       "      <th>146</th>\n",
       "      <td>2</td>\n",
       "      <td>4</td>\n",
       "      <td>5</td>\n",
       "      <td>5</td>\n",
       "      <td>3</td>\n",
       "    </tr>\n",
       "    <tr>\n",
       "      <th>147</th>\n",
       "      <td>4</td>\n",
       "      <td>5</td>\n",
       "      <td>3</td>\n",
       "      <td>5</td>\n",
       "      <td>2</td>\n",
       "    </tr>\n",
       "    <tr>\n",
       "      <th>148</th>\n",
       "      <td>5</td>\n",
       "      <td>5</td>\n",
       "      <td>4</td>\n",
       "      <td>4</td>\n",
       "      <td>2</td>\n",
       "    </tr>\n",
       "    <tr>\n",
       "      <th>149</th>\n",
       "      <td>3</td>\n",
       "      <td>3</td>\n",
       "      <td>5</td>\n",
       "      <td>5</td>\n",
       "      <td>4</td>\n",
       "    </tr>\n",
       "  </tbody>\n",
       "</table>\n",
       "<p>150 rows × 5 columns</p>\n",
       "</div>"
      ],
      "text/plain": [
       "     p1  p2  p3  p4  p5\n",
       "0     5   1   3   5   2\n",
       "1     1   3   5   5   5\n",
       "2     2   3   5   3   5\n",
       "3     4   3   3   3   5\n",
       "4     5   4   3   2   2\n",
       "..   ..  ..  ..  ..  ..\n",
       "145   5   2   4   5   3\n",
       "146   2   4   5   5   3\n",
       "147   4   5   3   5   2\n",
       "148   5   5   4   4   2\n",
       "149   3   3   5   5   4\n",
       "\n",
       "[150 rows x 5 columns]"
      ]
     },
     "execution_count": 4,
     "metadata": {},
     "output_type": "execute_result"
    }
   ],
   "source": [
    "polls"
   ]
  },
  {
   "cell_type": "markdown",
   "metadata": {
    "deletable": false,
    "editable": false,
    "nbgrader": {
     "grade": false,
     "locked": true,
     "solution": false
    }
   },
   "source": [
    "### A Few Useful Functions\n",
    "\n",
    "With the data loaded and ready to explore, let's take a moment to review a few key functions that will become useful for this assignment. These functions are part of the `NumPy` package and their documentation can be found [here](https://www.tutorialspoint.com/numpy/numpy_statistical_functions.htm).\n",
    "\n",
    "The functions are:  \n",
    "\n",
    "- `np.mean` - calculate a mean\n",
    "- `np.std` - calculate a standard deviation\n",
    "- `np.var` - calculate the variance\n",
    "- `np.ptp` - calculate the range (ptp stands for \"point to point\")\n",
    "- `np.sqrt` - calculate the square root\n",
    "- `np.min` - find the minimum value of a collection\n",
    "- `np.max` - find the maximum value of a collection \n",
    "\n",
    "These numpy functions are designed to work with lists, tuples, arrays, and columns in a dataframe, but _not_ with dictionaries. There are also many comparable functions in the `pandas` package, which may generate slightly different results due to different assumptions about the data. We recommend you read the documentation for each package's calculation functions to learn more about those differences. Do\n",
    "\n",
    "## The Central Limit Theorem\n",
    "\n",
    "The **Central Limit Theorem** (CLT) states that the distribution of the sample approximates a normal distribution as the sample gets larger, regardless of the shape of the population distribution. Simply put, the more data that you collect and analyze: \n",
    "\n",
    "- the more your sample mean will be normally distributed, and\n",
    "- the closer your sampling distribution's mean will reflect the mean of your population of interest.\n",
    "\n",
    "Let's break this down into several key steps in Python, starting with our `polls` poll results data. \n",
    "\n",
    "Take a look at the mean (average score) and standard deviation (average _distance_ from the mean) of the first poll, `p1`, indicating whether or not respondents _support_ the new proposed zoning laws _(1 = Strongly Oppose, 3 = Neutral, 5 = Strongly Support)_. You'll note that the `mean()` and `std()` functions are wrapped around the `p1` column from polls to calculate these values."
   ]
  },
  {
   "cell_type": "code",
   "execution_count": 5,
   "metadata": {
    "deletable": false,
    "editable": false,
    "nbgrader": {
     "grade": false,
     "locked": true,
     "solution": false
    }
   },
   "outputs": [
    {
     "name": "stdout",
     "output_type": "stream",
     "text": [
      "Mean =  4.033333333333333\n",
      "SD =  1.1279282877125754\n"
     ]
    }
   ],
   "source": [
    "# Calculate the mean & standard deviation\n",
    "print(\"Mean = \", np.mean(polls['p1']))\n",
    "print(\"SD = \", np.std(polls['p1']))"
   ]
  },
  {
   "cell_type": "markdown",
   "metadata": {
    "deletable": false,
    "editable": false,
    "nbgrader": {
     "grade": false,
     "locked": true,
     "solution": false
    }
   },
   "source": [
    "The first poll had an average score of 4.03 and a standard deviation of 1.13, indicating relative support for the new proposal. But how much can you trust an individual poll's results? Let's take a look at the next poll in the data set."
   ]
  },
  {
   "cell_type": "code",
   "execution_count": 6,
   "metadata": {
    "deletable": false,
    "editable": false,
    "nbgrader": {
     "grade": false,
     "locked": true,
     "solution": false
    }
   },
   "outputs": [
    {
     "name": "stdout",
     "output_type": "stream",
     "text": [
      "Mean =  3.4066666666666667\n",
      "SD =  3.4066666666666667\n"
     ]
    }
   ],
   "source": [
    "# Calculate the mean & standard deviation (fill in the second line)\n",
    "print(\"Mean = \", np.mean(polls['p2']))\n",
    "print(\"SD = \", np.mean(polls['p2']))"
   ]
  },
  {
   "cell_type": "markdown",
   "metadata": {
    "deletable": false,
    "editable": false,
    "nbgrader": {
     "grade": false,
     "locked": true,
     "solution": false
    }
   },
   "source": [
    "#### What a difference!\n",
    "This second poll has a much lower average and slightly higher deviation from the average. In fact, the results from this second poll alone suggest that public opinion about the new zoning laws are pretty neutral. \n",
    "\n",
    "This stark difference in results across samples is a common occurrence when conducting polls. In fact, this is a common phenomenon to keep an eye out for in all areas of data science. You will regularly examine _samples_ of data  where it's difficult or impossible to collect information about every single member from the broader population. A sample taken from a large population (for example, 150 poll respondents in a city of several million inhabitants) is not likely to accurately represent the population. \n",
    "\n",
    "#### But what happens if you take _multiple_ samples?\n",
    "This is where the central limit theorem in application can help you assess the mean of the population. If you take _more_ samples from the population, you will be able to better estimate the true population mean. You can plot the distribution of _each sample's mean_ in a _histogram_ , which will more closely fit a normal curve as you continue to take more sample means. \n",
    "\n",
    "Let's examine the first five rows of `poll_means`, which is a data set of mean scores from 500 samples collected across the city."
   ]
  },
  {
   "cell_type": "code",
   "execution_count": 7,
   "metadata": {
    "deletable": false,
    "editable": false,
    "nbgrader": {
     "grade": false,
     "locked": true,
     "solution": false
    }
   },
   "outputs": [
    {
     "data": {
      "text/html": [
       "<div>\n",
       "<style scoped>\n",
       "    .dataframe tbody tr th:only-of-type {\n",
       "        vertical-align: middle;\n",
       "    }\n",
       "\n",
       "    .dataframe tbody tr th {\n",
       "        vertical-align: top;\n",
       "    }\n",
       "\n",
       "    .dataframe thead th {\n",
       "        text-align: right;\n",
       "    }\n",
       "</style>\n",
       "<table border=\"1\" class=\"dataframe\">\n",
       "  <thead>\n",
       "    <tr style=\"text-align: right;\">\n",
       "      <th></th>\n",
       "      <th>means</th>\n",
       "    </tr>\n",
       "  </thead>\n",
       "  <tbody>\n",
       "    <tr>\n",
       "      <th>0</th>\n",
       "      <td>4.153296</td>\n",
       "    </tr>\n",
       "    <tr>\n",
       "      <th>1</th>\n",
       "      <td>3.763818</td>\n",
       "    </tr>\n",
       "    <tr>\n",
       "      <th>2</th>\n",
       "      <td>3.917485</td>\n",
       "    </tr>\n",
       "    <tr>\n",
       "      <th>3</th>\n",
       "      <td>4.116012</td>\n",
       "    </tr>\n",
       "    <tr>\n",
       "      <th>4</th>\n",
       "      <td>3.199986</td>\n",
       "    </tr>\n",
       "  </tbody>\n",
       "</table>\n",
       "</div>"
      ],
      "text/plain": [
       "      means\n",
       "0  4.153296\n",
       "1  3.763818\n",
       "2  3.917485\n",
       "3  4.116012\n",
       "4  3.199986"
      ]
     },
     "execution_count": 7,
     "metadata": {},
     "output_type": "execute_result"
    }
   ],
   "source": [
    "# Load the poll_means CSV file\n",
    "poll_means = pd.read_csv(\"data/poll_means.csv\")\n",
    "\n",
    "# Examine the first 5 rows (fill in next line)\n",
    "poll_means.head()"
   ]
  },
  {
   "cell_type": "code",
   "execution_count": 8,
   "metadata": {},
   "outputs": [
    {
     "data": {
      "text/html": [
       "<div>\n",
       "<style scoped>\n",
       "    .dataframe tbody tr th:only-of-type {\n",
       "        vertical-align: middle;\n",
       "    }\n",
       "\n",
       "    .dataframe tbody tr th {\n",
       "        vertical-align: top;\n",
       "    }\n",
       "\n",
       "    .dataframe thead th {\n",
       "        text-align: right;\n",
       "    }\n",
       "</style>\n",
       "<table border=\"1\" class=\"dataframe\">\n",
       "  <thead>\n",
       "    <tr style=\"text-align: right;\">\n",
       "      <th></th>\n",
       "      <th>means</th>\n",
       "    </tr>\n",
       "  </thead>\n",
       "  <tbody>\n",
       "    <tr>\n",
       "      <th>0</th>\n",
       "      <td>4.153296</td>\n",
       "    </tr>\n",
       "    <tr>\n",
       "      <th>1</th>\n",
       "      <td>3.763818</td>\n",
       "    </tr>\n",
       "    <tr>\n",
       "      <th>2</th>\n",
       "      <td>3.917485</td>\n",
       "    </tr>\n",
       "    <tr>\n",
       "      <th>3</th>\n",
       "      <td>4.116012</td>\n",
       "    </tr>\n",
       "    <tr>\n",
       "      <th>4</th>\n",
       "      <td>3.199986</td>\n",
       "    </tr>\n",
       "    <tr>\n",
       "      <th>...</th>\n",
       "      <td>...</td>\n",
       "    </tr>\n",
       "    <tr>\n",
       "      <th>495</th>\n",
       "      <td>3.589076</td>\n",
       "    </tr>\n",
       "    <tr>\n",
       "      <th>496</th>\n",
       "      <td>3.748973</td>\n",
       "    </tr>\n",
       "    <tr>\n",
       "      <th>497</th>\n",
       "      <td>4.084788</td>\n",
       "    </tr>\n",
       "    <tr>\n",
       "      <th>498</th>\n",
       "      <td>4.662663</td>\n",
       "    </tr>\n",
       "    <tr>\n",
       "      <th>499</th>\n",
       "      <td>4.092783</td>\n",
       "    </tr>\n",
       "  </tbody>\n",
       "</table>\n",
       "<p>500 rows × 1 columns</p>\n",
       "</div>"
      ],
      "text/plain": [
       "        means\n",
       "0    4.153296\n",
       "1    3.763818\n",
       "2    3.917485\n",
       "3    4.116012\n",
       "4    3.199986\n",
       "..        ...\n",
       "495  3.589076\n",
       "496  3.748973\n",
       "497  4.084788\n",
       "498  4.662663\n",
       "499  4.092783\n",
       "\n",
       "[500 rows x 1 columns]"
      ]
     },
     "execution_count": 8,
     "metadata": {},
     "output_type": "execute_result"
    }
   ],
   "source": [
    "poll_means"
   ]
  },
  {
   "cell_type": "markdown",
   "metadata": {
    "deletable": false,
    "editable": false,
    "nbgrader": {
     "grade": false,
     "locked": true,
     "solution": false
    }
   },
   "source": [
    "The first few polls in this data set have averages that seem to range between 3.2 (approximately neutral) and 4.2 (somewhat agree). Let's take a look at this more thoroughly using a histogram to construct our _**distribution of sample means**_."
   ]
  },
  {
   "cell_type": "code",
   "execution_count": 9,
   "metadata": {},
   "outputs": [
    {
     "data": {
      "text/html": [
       "<div>\n",
       "<style scoped>\n",
       "    .dataframe tbody tr th:only-of-type {\n",
       "        vertical-align: middle;\n",
       "    }\n",
       "\n",
       "    .dataframe tbody tr th {\n",
       "        vertical-align: top;\n",
       "    }\n",
       "\n",
       "    .dataframe thead th {\n",
       "        text-align: right;\n",
       "    }\n",
       "</style>\n",
       "<table border=\"1\" class=\"dataframe\">\n",
       "  <thead>\n",
       "    <tr style=\"text-align: right;\">\n",
       "      <th></th>\n",
       "      <th>means</th>\n",
       "    </tr>\n",
       "  </thead>\n",
       "  <tbody>\n",
       "    <tr>\n",
       "      <th>0</th>\n",
       "      <td>4.153296</td>\n",
       "    </tr>\n",
       "    <tr>\n",
       "      <th>1</th>\n",
       "      <td>3.763818</td>\n",
       "    </tr>\n",
       "    <tr>\n",
       "      <th>2</th>\n",
       "      <td>3.917485</td>\n",
       "    </tr>\n",
       "    <tr>\n",
       "      <th>3</th>\n",
       "      <td>4.116012</td>\n",
       "    </tr>\n",
       "    <tr>\n",
       "      <th>4</th>\n",
       "      <td>3.199986</td>\n",
       "    </tr>\n",
       "    <tr>\n",
       "      <th>...</th>\n",
       "      <td>...</td>\n",
       "    </tr>\n",
       "    <tr>\n",
       "      <th>495</th>\n",
       "      <td>3.589076</td>\n",
       "    </tr>\n",
       "    <tr>\n",
       "      <th>496</th>\n",
       "      <td>3.748973</td>\n",
       "    </tr>\n",
       "    <tr>\n",
       "      <th>497</th>\n",
       "      <td>4.084788</td>\n",
       "    </tr>\n",
       "    <tr>\n",
       "      <th>498</th>\n",
       "      <td>4.662663</td>\n",
       "    </tr>\n",
       "    <tr>\n",
       "      <th>499</th>\n",
       "      <td>4.092783</td>\n",
       "    </tr>\n",
       "  </tbody>\n",
       "</table>\n",
       "<p>500 rows × 1 columns</p>\n",
       "</div>"
      ],
      "text/plain": [
       "        means\n",
       "0    4.153296\n",
       "1    3.763818\n",
       "2    3.917485\n",
       "3    4.116012\n",
       "4    3.199986\n",
       "..        ...\n",
       "495  3.589076\n",
       "496  3.748973\n",
       "497  4.084788\n",
       "498  4.662663\n",
       "499  4.092783\n",
       "\n",
       "[500 rows x 1 columns]"
      ]
     },
     "execution_count": 9,
     "metadata": {},
     "output_type": "execute_result"
    }
   ],
   "source": [
    "poll_means"
   ]
  },
  {
   "cell_type": "code",
   "execution_count": 10,
   "metadata": {
    "deletable": false,
    "editable": false,
    "nbgrader": {
     "grade": false,
     "locked": true,
     "solution": false
    }
   },
   "outputs": [
    {
     "data": {
      "image/png": "[encoded data removed]",
      "text/plain": [
       "<Figure size 432x288 with 1 Axes>"
      ]
     },
     "metadata": {
      "needs_background": "light"
     },
     "output_type": "display_data"
    }
   ],
   "source": [
    "# Create a histogram of sample means\n",
    "poll_means['means'].hist(bins = 50);"
   ]
  },
  {
   "cell_type": "markdown",
   "metadata": {
    "deletable": false,
    "editable": false,
    "nbgrader": {
     "grade": false,
     "locked": true,
     "solution": false
    }
   },
   "source": [
    "This is fairly normally distributed. If we were to collect even more samples (let's say around 50,000), our histogram would more closely approach the shape of a bell curve. Further, the mean of this _**distribution of sample means**_ will closely reflect the actual population mean. \n",
    "\n",
    "[Back to top](#Index:) \n",
    "<a id='q1'></a>\n",
    "\n",
    "### Question 1\n",
    "*5 points*\n",
    "\n",
    "Calculate the mean and standard deviation of the `poll_means` sampling distribution below using `NumPy`'s mean and standard deviation functions.  Assign the result of the mean as a float to `ans1_a` and the result of the standard deviation as a float to `ans1_b`."
   ]
  },
  {
   "cell_type": "code",
   "execution_count": 11,
   "metadata": {},
   "outputs": [],
   "source": [
    "### GRADED\n",
    "\n",
    "### YOUR SOLUTION HERE\n",
    "ans1_a = poll_means.mean()\n",
    "ans1_b = poll_means.std()\n",
    "\n",
    "###\n",
    "### YOUR CODE HERE\n",
    "###\n"
   ]
  },
  {
   "cell_type": "code",
   "execution_count": 12,
   "metadata": {},
   "outputs": [
    {
     "data": {
      "text/plain": [
       "means    0.544634\n",
       "dtype: float64"
      ]
     },
     "execution_count": 12,
     "metadata": {},
     "output_type": "execute_result"
    }
   ],
   "source": [
    "ans1_b"
   ]
  },
  {
   "cell_type": "code",
   "execution_count": null,
   "metadata": {},
   "outputs": [],
   "source": []
  },
  {
   "cell_type": "code",
   "execution_count": 13,
   "metadata": {
    "deletable": false,
    "editable": false,
    "nbgrader": {
     "grade": true,
     "grade_id": "Question 01",
     "locked": true,
     "points": "5",
     "solution": false
    }
   },
   "outputs": [],
   "source": [
    "###\n",
    "### AUTOGRADER TEST - DO NOT REMOVE\n",
    "###\n"
   ]
  },
  {
   "cell_type": "markdown",
   "metadata": {
    "deletable": false,
    "editable": false,
    "nbgrader": {
     "grade": false,
     "locked": true,
     "solution": false
    }
   },
   "source": [
    "#### Why is this important?\n",
    "As a data scientist, the central limit theorem is an important motivator for the strategies you will use to collect samples of data. You will rarely have the opportunity to interact with data about an entire population. You do; however, have the ability to choose your sampling methodology and assess the quality of your sample data.\n",
    "\n",
    "In the polling example, this is done in two key ways:\n",
    "- **Collecting a wide variety of data points representing the variation in the population.** If a researcher only surveys people near the mall on a Saturday, they will likely not capture the variety of opinion present in the population.\n",
    "- **Ensuring each sample size is sufficiently large**\n",
    "The quality and size of each sample collected is just as important as the number of samples collected. Take a look at the following set of graphs, which simulates the difference between the accuracy of sampling distributions with random samples of n=5 and n=25 taken from the population.\n",
    "\n",
    "![CLTexample](https://cpb-us-e1.wpmucdn.com/you.stonybrook.edu/dist/8/663/files/2017/03/CLTexample-2j66f7h.gif \"segment\")\n",
    "\n",
    "The sampling distribution with samples of n=25 are much closer to the actual population mean. A sampling distribution with n>25 would further increase this accuracy."
   ]
  },
  {
   "cell_type": "markdown",
   "metadata": {
    "deletable": false,
    "editable": false,
    "nbgrader": {
     "grade": false,
     "locked": true,
     "solution": false
    }
   },
   "source": [
    "## Estimating the Population Mean\n",
    "\n",
    "In your work as a data scientist, collecting hundreds or thousands of samples can be prohibitive in terms of time and cost. Most often, you will want to _estimate_ the population mean given data from a number of data points in a single sample, or a small number of samples.\n",
    "\n",
    "Let's examine a sample of recent job postings with New York City government. Each of the rows in this data set represents details about an individual job post, with one row per posting. "
   ]
  },
  {
   "cell_type": "code",
   "execution_count": 14,
   "metadata": {
    "deletable": false,
    "editable": false,
    "nbgrader": {
     "grade": false,
     "locked": true,
     "solution": false
    }
   },
   "outputs": [
    {
     "data": {
      "text/html": [
       "<div>\n",
       "<style scoped>\n",
       "    .dataframe tbody tr th:only-of-type {\n",
       "        vertical-align: middle;\n",
       "    }\n",
       "\n",
       "    .dataframe tbody tr th {\n",
       "        vertical-align: top;\n",
       "    }\n",
       "\n",
       "    .dataframe thead th {\n",
       "        text-align: right;\n",
       "    }\n",
       "</style>\n",
       "<table border=\"1\" class=\"dataframe\">\n",
       "  <thead>\n",
       "    <tr style=\"text-align: right;\">\n",
       "      <th></th>\n",
       "      <th>job_id</th>\n",
       "      <th>title</th>\n",
       "      <th>agency</th>\n",
       "      <th>posting_date</th>\n",
       "      <th>salary_from</th>\n",
       "      <th>salary_to</th>\n",
       "    </tr>\n",
       "  </thead>\n",
       "  <tbody>\n",
       "    <tr>\n",
       "      <th>0</th>\n",
       "      <td>378085</td>\n",
       "      <td>HVAC Service Technic</td>\n",
       "      <td>DEPT OF HEALTH/MENTAL HYGIENE</td>\n",
       "      <td>2018-12-21</td>\n",
       "      <td>385.0</td>\n",
       "      <td>385.0</td>\n",
       "    </tr>\n",
       "    <tr>\n",
       "      <th>1</th>\n",
       "      <td>377919</td>\n",
       "      <td>Psychologist, Level</td>\n",
       "      <td>POLICE DEPARTMENT</td>\n",
       "      <td>2018-12-31</td>\n",
       "      <td>62458.0</td>\n",
       "      <td>81131.0</td>\n",
       "    </tr>\n",
       "    <tr>\n",
       "      <th>2</th>\n",
       "      <td>379321</td>\n",
       "      <td>Asset Manager</td>\n",
       "      <td>HOUSING PRESERVATION &amp; DVLPMNT</td>\n",
       "      <td>2019-01-07</td>\n",
       "      <td>52524.0</td>\n",
       "      <td>60000.0</td>\n",
       "    </tr>\n",
       "    <tr>\n",
       "      <th>3</th>\n",
       "      <td>378658</td>\n",
       "      <td>Public Health Adviso</td>\n",
       "      <td>DEPT OF HEALTH/MENTAL HYGIENE</td>\n",
       "      <td>2019-01-02</td>\n",
       "      <td>37957.0</td>\n",
       "      <td>47142.0</td>\n",
       "    </tr>\n",
       "    <tr>\n",
       "      <th>4</th>\n",
       "      <td>321570</td>\n",
       "      <td>Deputy Commissioner,</td>\n",
       "      <td>DEPT OF ENVIRONMENT PROTECTION</td>\n",
       "      <td>2018-01-26</td>\n",
       "      <td>209585.0</td>\n",
       "      <td>209585.0</td>\n",
       "    </tr>\n",
       "  </tbody>\n",
       "</table>\n",
       "</div>"
      ],
      "text/plain": [
       "   job_id                 title                          agency posting_date  \\\n",
       "0  378085  HVAC Service Technic   DEPT OF HEALTH/MENTAL HYGIENE   2018-12-21   \n",
       "1  377919  Psychologist, Level                POLICE DEPARTMENT   2018-12-31   \n",
       "2  379321         Asset Manager  HOUSING PRESERVATION & DVLPMNT   2019-01-07   \n",
       "3  378658  Public Health Adviso   DEPT OF HEALTH/MENTAL HYGIENE   2019-01-02   \n",
       "4  321570  Deputy Commissioner,  DEPT OF ENVIRONMENT PROTECTION   2018-01-26   \n",
       "\n",
       "   salary_from  salary_to  \n",
       "0        385.0      385.0  \n",
       "1      62458.0    81131.0  \n",
       "2      52524.0    60000.0  \n",
       "3      37957.0    47142.0  \n",
       "4     209585.0   209585.0  "
      ]
     },
     "execution_count": 14,
     "metadata": {},
     "output_type": "execute_result"
    }
   ],
   "source": [
    "# Load the jobs data set\n",
    "jobs = pd.read_csv(\"data/jobs.csv\")\n",
    "\n",
    "# Examine the first few rows \n",
    "jobs.head()"
   ]
  },
  {
   "cell_type": "markdown",
   "metadata": {
    "deletable": false,
    "editable": false,
    "nbgrader": {
     "grade": false,
     "locked": true,
     "solution": false
    }
   },
   "source": [
    "The `salary_from` and `salary_to` columns depict the lower and upper bounds of the pay range for the job position. Let's take a look at the mean, standard deviation, and sample size of `salary_to`."
   ]
  },
  {
   "cell_type": "code",
   "execution_count": 15,
   "metadata": {
    "deletable": false,
    "editable": false,
    "nbgrader": {
     "grade": false,
     "locked": true,
     "solution": false
    }
   },
   "outputs": [
    {
     "name": "stdout",
     "output_type": "stream",
     "text": [
      "Mean =  81819.9124\n",
      "SD =  36274.58658027882\n",
      "Number of records =  200\n"
     ]
    }
   ],
   "source": [
    "# Calculate the mean, standard deviation, and sample size\n",
    "print(\"Mean = \",np.mean(jobs['salary_to']))\n",
    "print(\"SD = \",np.std(jobs['salary_to']))\n",
    "print(\"Number of records = \", jobs['salary_to'].count())"
   ]
  },
  {
   "cell_type": "markdown",
   "metadata": {
    "deletable": false,
    "editable": false,
    "nbgrader": {
     "grade": false,
     "locked": true,
     "solution": false
    }
   },
   "source": [
    "We know that there are 200 data points in this sample, and that the upper bound of the salary range for these 200 data points has a mean of $81,820. \n",
    "\n",
    "Does this mean that we can conclude all city government jobs to have an average salary of $81,820? _No_ , we cannot responsibly say this based on a fraction of the population of New York City government job positions and their salaries. We don't know how **representative** this sample is compared to the population.\n",
    "\n",
    "However, we do have some tools that we can use and compare to _estimate_ the population mean. We will review some of these useful concepts below."
   ]
  },
  {
   "cell_type": "markdown",
   "metadata": {
    "deletable": false,
    "editable": false,
    "nbgrader": {
     "grade": false,
     "locked": true,
     "solution": false
    }
   },
   "source": [
    "##### Z-scores\n",
    "- A Z-score is a _standardized_ score representing the position of an individual value compared to the rest of the values in the distribution. \n",
    "\n",
    "- A Z-score's value indicates the number of standard deviations _above_ or _below_ the mean that an individual score lies. If you take a standardized test such as the GRE, you can calculate a Z-score that tells you how far above or below the mean your score is in relation to others who took the test. A test result with a Z-score of 1 is 1 standard deviation above the mean.\n",
    "\n",
    "- Z-scores are used to calculate the _percentile_ value of a score. If you take the GRE, you will receive both a raw score and a percentile rank as part of your result. A result that places you in the _68th percentile_ is calculated using a Z-score.\n",
    "\n",
    "- Z-scores are an important part of calculating a confidence interval, because they allow us to calculate how _confident_ we are that the real population mean lies between two values."
   ]
  },
  {
   "cell_type": "markdown",
   "metadata": {
    "deletable": false,
    "editable": false,
    "nbgrader": {
     "grade": false,
     "locked": true,
     "solution": false
    }
   },
   "source": [
    "#### The 95% Confidence Interval for the Population Mean\n",
    "\n",
    "In essence, a 95% confidence interval for estimating the population mean allows us to say, _\"Based on the sample data's mean and variation, we are 95% confident that the real population mean is between these two values.\"_\n",
    "\n",
    "Using three key pieces of information about our sample, we can estimate the _interval_ in which the population mean lies to a degree of _confidence_ (thus, the term _Confidence Interval_ ). Take a look at the following equation used to calculate the confidence interval for the population mean:\n",
    "\n",
    "$$CI = \\bar{x} \\pm Z_{\\alpha/2} * \\frac{\\sigma}{\\sqrt{n}}$$\n",
    "\n",
    "\n",
    "Let's break this down. The _confidence interval_ is a set of two values calculated by taking the **sample mean** $\\bar{x}$, plus or minus the **Z-score** $Z_{\\alpha/2}$ for the % confidence interval, multiplied by the sample's **standard error** $\\frac{\\sigma}{\\sqrt{n}}$. \n",
    "\n",
    "In order to calculate the z-scores associated with percentile values, you can use a standard normal table like [this one](http://www.z-table.com/). Each z-score provides you with the percentage of scores _below_ that value. When identifying the appropriate z-score for a confidence interval, keep in mind that you need to divide the alpha level (1 - confidence interval) by 2. A 90% confidence interval includes a 10% range of values _in total_ -- 5% above, and 5% below the mean. Thus, you are looking for the z-score associated with the 95th percentile for this interval.\n",
    "\n",
    "The table below depicts the z-scores necessary for calculating the most commonly used confidence intervals (90%, 95%, and 99%). \n",
    "\n",
    "| CI  | Z-Score |\n",
    "|-----|---------|\n",
    "| 90% | 1.645   |\n",
    "| 95% | 1.96    |\n",
    "| 99% | 2.575   |\n",
    "\n",
    "\n",
    "All of these values can be easily calculated using `stats` from the `scipy` package in Python. Let's import this module below."
   ]
  },
  {
   "cell_type": "code",
   "execution_count": 16,
   "metadata": {
    "deletable": false,
    "editable": false,
    "nbgrader": {
     "grade": false,
     "locked": true,
     "solution": false
    }
   },
   "outputs": [],
   "source": [
    "# Import stats\n",
    "import scipy.stats as stats"
   ]
  },
  {
   "cell_type": "markdown",
   "metadata": {
    "deletable": false,
    "editable": false,
    "nbgrader": {
     "grade": false,
     "locked": true,
     "solution": false
    }
   },
   "source": [
    "You can use the `stats.norm.interval()` function to calculate z-scores associated with your selected confidence interval. Let's calculate the z-scores associated with the 95% confidence interval below."
   ]
  },
  {
   "cell_type": "code",
   "execution_count": 17,
   "metadata": {
    "deletable": false,
    "editable": false,
    "nbgrader": {
     "grade": false,
     "locked": true,
     "solution": false
    }
   },
   "outputs": [
    {
     "name": "stdout",
     "output_type": "stream",
     "text": [
      "(-1.959963984540054, 1.959963984540054)\n"
     ]
    }
   ],
   "source": [
    "# Calculate z-scores for a 95% CI\n",
    "print(stats.norm.interval(0.95))"
   ]
  },
  {
   "cell_type": "markdown",
   "metadata": {
    "deletable": false,
    "editable": false,
    "nbgrader": {
     "grade": false,
     "locked": true,
     "solution": false
    }
   },
   "source": [
    "#### Computing our Confidence Interval\n",
    "Let's start filling in our equation to estimate the population mean for the `salary_to` column in the `jobs` data set. We determined earlier that the sample mean is $81,819.91 (rounded to 81,820). Let's add this to our equation.\n",
    "\n",
    "$$CI = 81820 \\pm Z_{\\alpha/2} * \\frac{\\sigma}{\\sqrt{n}}$$\n",
    "\n",
    "Next, let's choose our confidence interval and add it to the equation. We'll start with 95%, giving us a z-score of _1.96_. Later on we'll adjust the confidence interval to see how the range of values changes. \n",
    "\n",
    "$$CI = 81820 \\pm 1.96 * \\frac{\\sigma}{\\sqrt{n}}$$\n",
    "\n",
    "Finally, let's calculate the standard error of the mean. We can do this using the `sem` function from `scipy.stats`."
   ]
  },
  {
   "cell_type": "code",
   "execution_count": 18,
   "metadata": {
    "deletable": false,
    "editable": false,
    "nbgrader": {
     "grade": false,
     "locked": true,
     "solution": false
    }
   },
   "outputs": [
    {
     "data": {
      "text/plain": [
       "2571.437264620726"
      ]
     },
     "execution_count": 18,
     "metadata": {},
     "output_type": "execute_result"
    }
   ],
   "source": [
    "# Calculate the standard error\n",
    "stats.sem(jobs['salary_to'])"
   ]
  },
  {
   "cell_type": "markdown",
   "metadata": {
    "deletable": false,
    "editable": false,
    "nbgrader": {
     "grade": false,
     "locked": true,
     "solution": false
    }
   },
   "source": [
    "Great! The standard error for this sample is 2,571.44. Let's round this to 2,571 and add it to our equation.\n",
    "\n",
    "$$CI = 81820 \\pm 1.96 * 2571$$\n",
    "\n",
    "Finally, let's use Python to calculate the _lower_ and _upper bound_ of the confidence interval."
   ]
  },
  {
   "cell_type": "code",
   "execution_count": 19,
   "metadata": {
    "deletable": false,
    "editable": false,
    "nbgrader": {
     "grade": false,
     "locked": true,
     "solution": false
    }
   },
   "outputs": [
    {
     "name": "stdout",
     "output_type": "stream",
     "text": [
      "Lower bound =  76780.84\n",
      "Upper bound =  86859.16\n"
     ]
    }
   ],
   "source": [
    "# Calculate the lower and upper bound of the confidence interval\n",
    "print(\"Lower bound = \", 81820 - (1.96 * 2571))\n",
    "print(\"Upper bound = \", 81820 + (1.96 * 2571))"
   ]
  },
  {
   "cell_type": "markdown",
   "metadata": {
    "deletable": false,
    "editable": false,
    "nbgrader": {
     "grade": false,
     "locked": true,
     "solution": false
    }
   },
   "source": [
    "Fantastic! We are 95% confident that the population mean for the upper salary range is between 76,780.84 and 86,859.16.\n",
    "\n",
    "In general, the smaller the interval, the more accurately we are able to identify the real population mean. There are several parts of this equation that we can adjust in order to adjust the range of values.\n",
    "\n",
    "First, let's take a look at what happens when we change the confidence interval from 95% to 90% (representing a Z-score of 1.645). We can use `stats.norm.interval()` to calculate the confidence interval in a single step.\n",
    "\n",
    "When calculating non-standard intervals with `stats.norm.interval()`, you will need to input information for 3 arguments -- the confidence interval, the `loc` (location of the mean), and `scale` (the standard error of the mean). Let's input these below for our 95% CI."
   ]
  },
  {
   "cell_type": "code",
   "execution_count": 20,
   "metadata": {
    "deletable": false,
    "editable": false,
    "nbgrader": {
     "grade": false,
     "locked": true,
     "solution": false
    }
   },
   "outputs": [
    {
     "data": {
      "text/plain": [
       "(76779.98797283918, 86859.83682716082)"
      ]
     },
     "execution_count": 20,
     "metadata": {},
     "output_type": "execute_result"
    }
   ],
   "source": [
    "# Calculate the confidence interval\n",
    "stats.norm.interval(0.95, loc=np.mean(jobs['salary_to']), scale=stats.sem(jobs['salary_to']))"
   ]
  },
  {
   "cell_type": "markdown",
   "metadata": {
    "deletable": false,
    "editable": false,
    "nbgrader": {
     "grade": false,
     "locked": true,
     "solution": false
    }
   },
   "source": [
    "You'll notice that the values are close, but not identical. This is because we rounded our mean and standard error to the nearest whole number when calculating it in multiple steps.\n",
    "\n",
    "Now let's change the first argument to 0.90, representing our 90% confidence interval."
   ]
  },
  {
   "cell_type": "code",
   "execution_count": 21,
   "metadata": {
    "deletable": false,
    "editable": false,
    "nbgrader": {
     "grade": false,
     "locked": true,
     "solution": false
    }
   },
   "outputs": [
    {
     "data": {
      "text/plain": [
       "(77590.27448881042, 86049.55031118958)"
      ]
     },
     "execution_count": 21,
     "metadata": {},
     "output_type": "execute_result"
    }
   ],
   "source": [
    "# Calculate the confidence interval\n",
    "stats.norm.interval(0.90, loc=np.mean(jobs['salary_to']), scale=stats.sem(jobs['salary_to']))"
   ]
  },
  {
   "cell_type": "markdown",
   "metadata": {
    "deletable": false,
    "editable": false,
    "nbgrader": {
     "grade": false,
     "locked": true,
     "solution": false
    }
   },
   "source": [
    "The range of values is smaller than the 95% confidence interval. With this result, we can say that we are 90% confident that the true population mean for the upper salary range lies between 77,590 and 86,049.\n",
    "\n",
    "There are two key components of the equation that you can impact as a data scientist that will lead to a smaller, more accurate range of values. First, you can impact the equation by simply collecting more data. You'll recall that the original data set has 200 data points. If you were to collect data about another 300 job postings (bringing your total sample size to 500), the denominator of the standard error would greatly increase, thus reducing the size of your standard error overall.\n",
    "\n",
    "$$CI = \\bar{x} \\pm Z_{\\alpha/2} * \\frac{\\sigma}{\\sqrt{n}}$$\n",
    "\n",
    "The second choice you can make as a data scientist is in the appropriate confidence interval to choose. Depending on your question of interest (i.e., are you estimating job salaries or the effectiveness of a new life-saving drug?), you may want to adjust the percentage of your confidence interval in order to narrow your range. "
   ]
  },
  {
   "cell_type": "markdown",
   "metadata": {
    "deletable": false,
    "editable": false,
    "nbgrader": {
     "grade": false,
     "locked": true,
     "solution": false
    }
   },
   "source": [
    "[Back to top](#Index:) \n",
    "<a id='q2'></a>\n",
    "\n",
    "### Question 2\n",
    "*5 points*\n",
    "\n",
    "\n",
    "The `jobs` data set also has a column indicating the _lower_ bound of the salary range for a specific job, called `salary_from`.Calculate the mean and standard deviation of this column using appropriate `numpy` functions to make your calculations. Assign the values of the mean as a float to `ans2_a` and the value of the standard deviation to `ans2_b`."
   ]
  },
  {
   "cell_type": "code",
   "execution_count": 22,
   "metadata": {},
   "outputs": [],
   "source": [
    "### GRADED\n",
    "\n",
    "### YOUR SOLUTION HERE\n",
    "ans2_a = None\n",
    "ans2_b = None\n",
    "\n",
    "###\n",
    "### YOUR CODE HERE\n",
    "###\n"
   ]
  },
  {
   "cell_type": "code",
   "execution_count": 23,
   "metadata": {
    "deletable": false,
    "editable": false,
    "nbgrader": {
     "grade": true,
     "grade_id": "Question 02",
     "locked": true,
     "points": "5",
     "solution": false
    }
   },
   "outputs": [],
   "source": [
    "###\n",
    "### AUTOGRADER TEST - DO NOT REMOVE\n",
    "###\n"
   ]
  },
  {
   "cell_type": "markdown",
   "metadata": {
    "deletable": false,
    "editable": false,
    "nbgrader": {
     "grade": false,
     "locked": true,
     "solution": false
    }
   },
   "source": [
    "[Back to top](#Index:) \n",
    "<a id='q3'></a>\n",
    "\n",
    "### Question 3\n",
    "*5 points*\n",
    "\n",
    "If you are calculating a 90% confidence interval to estimate the population mean, what z-score value do you need to use? Assign you asnwer, accurate to 3 decimal places, to `ans3`."
   ]
  },
  {
   "cell_type": "code",
   "execution_count": 24,
   "metadata": {},
   "outputs": [],
   "source": [
    "### GRADED\n",
    "\n",
    "### YOUR SOLUTION HERE\n",
    "ans3 = None\n",
    "\n",
    "\n",
    "###\n",
    "### YOUR CODE HERE\n",
    "###\n"
   ]
  },
  {
   "cell_type": "code",
   "execution_count": 25,
   "metadata": {
    "deletable": false,
    "editable": false,
    "nbgrader": {
     "grade": true,
     "grade_id": "Question 03",
     "locked": true,
     "points": "5",
     "solution": false
    }
   },
   "outputs": [],
   "source": [
    "###\n",
    "### AUTOGRADER TEST - DO NOT REMOVE\n",
    "###\n"
   ]
  },
  {
   "cell_type": "markdown",
   "metadata": {
    "deletable": false,
    "editable": false,
    "nbgrader": {
     "grade": false,
     "locked": true,
     "solution": false
    }
   },
   "source": [
    "[Back to top](#Index:) \n",
    "<a id='q4'></a>\n",
    "\n",
    "### Question 4\n",
    "*5 points*\n",
    "    \n",
    "Calculate the 99% confidence interval to estimate the population mean of `salary_from`. Assign your result as a tuple to `ans4`."
   ]
  },
  {
   "cell_type": "code",
   "execution_count": 26,
   "metadata": {},
   "outputs": [],
   "source": [
    "### GRADED\n",
    "\n",
    "### YOUR SOLUTION HERE\n",
    "ans4 = None\n",
    "\n",
    "\n",
    "###\n",
    "### YOUR CODE HERE\n",
    "###\n"
   ]
  },
  {
   "cell_type": "code",
   "execution_count": 27,
   "metadata": {
    "deletable": false,
    "editable": false,
    "nbgrader": {
     "grade": true,
     "grade_id": "Question 04",
     "locked": true,
     "points": "5",
     "solution": false
    }
   },
   "outputs": [],
   "source": [
    "###\n",
    "### AUTOGRADER TEST - DO NOT REMOVE\n",
    "###\n"
   ]
  },
  {
   "cell_type": "markdown",
   "metadata": {
    "deletable": false,
    "editable": false,
    "nbgrader": {
     "grade": false,
     "locked": true,
     "solution": false
    }
   },
   "source": [
    "[Back to top](#Index:) \n",
    "<a id='q5'></a>\n",
    "\n",
    "### Question 5\n",
    "*5 points*\n",
    "    \n",
    "Calculate the error term **_E_**, for the `salary_from` column using a 90% confidence interval. Recall the formula to calculate the error term:\n",
    "\n",
    "$$E = Z_{\\alpha/2} * \\frac{\\sigma}{\\sqrt{n}}$$\n",
    "\n",
    "Assign the result as a float to `ans5`.\n",
    "\n",
    "Note: *If* you choose to calculate standard error using standard deviation, you will need to set an additional parameter in your code: `ddof=1` "
   ]
  },
  {
   "cell_type": "code",
   "execution_count": 28,
   "metadata": {},
   "outputs": [
    {
     "data": {
      "text/html": [
       "<div>\n",
       "<style scoped>\n",
       "    .dataframe tbody tr th:only-of-type {\n",
       "        vertical-align: middle;\n",
       "    }\n",
       "\n",
       "    .dataframe tbody tr th {\n",
       "        vertical-align: top;\n",
       "    }\n",
       "\n",
       "    .dataframe thead th {\n",
       "        text-align: right;\n",
       "    }\n",
       "</style>\n",
       "<table border=\"1\" class=\"dataframe\">\n",
       "  <thead>\n",
       "    <tr style=\"text-align: right;\">\n",
       "      <th></th>\n",
       "      <th>job_id</th>\n",
       "      <th>title</th>\n",
       "      <th>agency</th>\n",
       "      <th>posting_date</th>\n",
       "      <th>salary_from</th>\n",
       "      <th>salary_to</th>\n",
       "    </tr>\n",
       "  </thead>\n",
       "  <tbody>\n",
       "    <tr>\n",
       "      <th>0</th>\n",
       "      <td>378085</td>\n",
       "      <td>HVAC Service Technic</td>\n",
       "      <td>DEPT OF HEALTH/MENTAL HYGIENE</td>\n",
       "      <td>2018-12-21</td>\n",
       "      <td>385.00</td>\n",
       "      <td>385.00</td>\n",
       "    </tr>\n",
       "    <tr>\n",
       "      <th>1</th>\n",
       "      <td>377919</td>\n",
       "      <td>Psychologist, Level</td>\n",
       "      <td>POLICE DEPARTMENT</td>\n",
       "      <td>2018-12-31</td>\n",
       "      <td>62458.00</td>\n",
       "      <td>81131.00</td>\n",
       "    </tr>\n",
       "    <tr>\n",
       "      <th>2</th>\n",
       "      <td>379321</td>\n",
       "      <td>Asset Manager</td>\n",
       "      <td>HOUSING PRESERVATION &amp; DVLPMNT</td>\n",
       "      <td>2019-01-07</td>\n",
       "      <td>52524.00</td>\n",
       "      <td>60000.00</td>\n",
       "    </tr>\n",
       "    <tr>\n",
       "      <th>3</th>\n",
       "      <td>378658</td>\n",
       "      <td>Public Health Adviso</td>\n",
       "      <td>DEPT OF HEALTH/MENTAL HYGIENE</td>\n",
       "      <td>2019-01-02</td>\n",
       "      <td>37957.00</td>\n",
       "      <td>47142.00</td>\n",
       "    </tr>\n",
       "    <tr>\n",
       "      <th>4</th>\n",
       "      <td>321570</td>\n",
       "      <td>Deputy Commissioner,</td>\n",
       "      <td>DEPT OF ENVIRONMENT PROTECTION</td>\n",
       "      <td>2018-01-26</td>\n",
       "      <td>209585.00</td>\n",
       "      <td>209585.00</td>\n",
       "    </tr>\n",
       "    <tr>\n",
       "      <th>...</th>\n",
       "      <td>...</td>\n",
       "      <td>...</td>\n",
       "      <td>...</td>\n",
       "      <td>...</td>\n",
       "      <td>...</td>\n",
       "      <td>...</td>\n",
       "    </tr>\n",
       "    <tr>\n",
       "      <th>195</th>\n",
       "      <td>374978</td>\n",
       "      <td>Construction Project</td>\n",
       "      <td>DEPARTMENT OF TRANSPORTATION</td>\n",
       "      <td>2018-12-13</td>\n",
       "      <td>55416.00</td>\n",
       "      <td>83151.00</td>\n",
       "    </tr>\n",
       "    <tr>\n",
       "      <th>196</th>\n",
       "      <td>367738</td>\n",
       "      <td>ELECTRICIAN</td>\n",
       "      <td>DEPARTMENT OF SANITATION</td>\n",
       "      <td>2018-11-13</td>\n",
       "      <td>389.97</td>\n",
       "      <td>389.97</td>\n",
       "    </tr>\n",
       "    <tr>\n",
       "      <th>197</th>\n",
       "      <td>382741</td>\n",
       "      <td>EHS Program Manager</td>\n",
       "      <td>DEPT OF ENVIRONMENT PROTECTION</td>\n",
       "      <td>2019-02-04</td>\n",
       "      <td>52137.00</td>\n",
       "      <td>144413.00</td>\n",
       "    </tr>\n",
       "    <tr>\n",
       "      <th>198</th>\n",
       "      <td>230974</td>\n",
       "      <td>Best Practices Coach</td>\n",
       "      <td>ADMIN FOR CHILDREN'S SVCS</td>\n",
       "      <td>2016-08-04</td>\n",
       "      <td>66000.00</td>\n",
       "      <td>89008.00</td>\n",
       "    </tr>\n",
       "    <tr>\n",
       "      <th>199</th>\n",
       "      <td>373189</td>\n",
       "      <td>Senior Investment An</td>\n",
       "      <td>OFFICE OF THE COMPTROLLER</td>\n",
       "      <td>2018-11-01</td>\n",
       "      <td>80000.00</td>\n",
       "      <td>95000.00</td>\n",
       "    </tr>\n",
       "  </tbody>\n",
       "</table>\n",
       "<p>200 rows × 6 columns</p>\n",
       "</div>"
      ],
      "text/plain": [
       "     job_id                 title                          agency  \\\n",
       "0    378085  HVAC Service Technic   DEPT OF HEALTH/MENTAL HYGIENE   \n",
       "1    377919  Psychologist, Level                POLICE DEPARTMENT   \n",
       "2    379321         Asset Manager  HOUSING PRESERVATION & DVLPMNT   \n",
       "3    378658  Public Health Adviso   DEPT OF HEALTH/MENTAL HYGIENE   \n",
       "4    321570  Deputy Commissioner,  DEPT OF ENVIRONMENT PROTECTION   \n",
       "..      ...                   ...                             ...   \n",
       "195  374978  Construction Project    DEPARTMENT OF TRANSPORTATION   \n",
       "196  367738           ELECTRICIAN        DEPARTMENT OF SANITATION   \n",
       "197  382741   EHS Program Manager  DEPT OF ENVIRONMENT PROTECTION   \n",
       "198  230974  Best Practices Coach       ADMIN FOR CHILDREN'S SVCS   \n",
       "199  373189  Senior Investment An       OFFICE OF THE COMPTROLLER   \n",
       "\n",
       "    posting_date  salary_from  salary_to  \n",
       "0     2018-12-21       385.00     385.00  \n",
       "1     2018-12-31     62458.00   81131.00  \n",
       "2     2019-01-07     52524.00   60000.00  \n",
       "3     2019-01-02     37957.00   47142.00  \n",
       "4     2018-01-26    209585.00  209585.00  \n",
       "..           ...          ...        ...  \n",
       "195   2018-12-13     55416.00   83151.00  \n",
       "196   2018-11-13       389.97     389.97  \n",
       "197   2019-02-04     52137.00  144413.00  \n",
       "198   2016-08-04     66000.00   89008.00  \n",
       "199   2018-11-01     80000.00   95000.00  \n",
       "\n",
       "[200 rows x 6 columns]"
      ]
     },
     "execution_count": 28,
     "metadata": {},
     "output_type": "execute_result"
    }
   ],
   "source": [
    "### GRADED\n",
    "\n",
    "### YOUR SOLUTION HERE\n",
    "ans5 = None\n",
    "\n",
    "jobs\n",
    "###\n",
    "### YOUR CODE HERE\n",
    "###\n"
   ]
  },
  {
   "cell_type": "code",
   "execution_count": 29,
   "metadata": {
    "deletable": false,
    "editable": false,
    "nbgrader": {
     "grade": true,
     "grade_id": "Question 05",
     "locked": true,
     "points": "5",
     "solution": false
    }
   },
   "outputs": [],
   "source": [
    "###\n",
    "### AUTOGRADER TEST - DO NOT REMOVE\n",
    "###\n"
   ]
  },
  {
   "cell_type": "markdown",
   "metadata": {
    "deletable": false,
    "editable": false,
    "nbgrader": {
     "grade": false,
     "locked": true,
     "solution": false
    }
   },
   "source": [
    "## Calculating the Minimum Sample Size\n",
    "\n",
    "Exactly how many data points do you need to confidently estimate the population mean within a given confidence interval? This is a crucial decision that you will face on a regular basis in your data science journey. To determine the minimum sample size, _**n**_ for estimating the population mean, we can use the following formula:\n",
    "\n",
    "$$n = (\\frac{Z_{\\alpha/2} * {\\sigma}}{E})^2$$\n",
    "\n",
    "Let's break this down. The _numerator_ of this equation is very similar to the CI formula. The Z-score for the confidence interval is multiplied by the sample's standard deviation. The _denominator_ of the equation, **_E_**, represents your _desired_ degree of error to estimate the mean. Let's say we want to estimate the average upper salary range within ± $5,000.\n",
    "\n",
    "$$E = 5000$$\n",
    "\n",
    "Thus, we can combine several of the pieces of information we calculated earlier into this new equation. Let's start by selecting the Z-score for a 95% confidence interval.\n",
    "\n",
    "$$n = (\\frac{1.96 * {\\sigma}}{5000})^2$$\n",
    "\n",
    "Let's now incorporate the standard error calculated earlier, which was 2,571.\n",
    "\n",
    "$$n = (\\frac{1.96 * {\\sigma}}{5000})^2$$\n",
    "\n",
    "Finally, let's use `numpy` for calculating the standard deviation to incorporate into the numerator of this equation. "
   ]
  },
  {
   "cell_type": "code",
   "execution_count": 30,
   "metadata": {
    "deletable": false,
    "editable": false,
    "nbgrader": {
     "grade": false,
     "locked": true,
     "solution": false
    }
   },
   "outputs": [
    {
     "name": "stdout",
     "output_type": "stream",
     "text": [
      "36274.58658027882\n"
     ]
    }
   ],
   "source": [
    "# Calculate the standard deviation\n",
    "print(np.std(jobs['salary_to']))"
   ]
  },
  {
   "cell_type": "markdown",
   "metadata": {
    "deletable": false,
    "editable": false,
    "nbgrader": {
     "grade": false,
     "locked": true,
     "solution": false
    }
   },
   "source": [
    "Our final equation with all values included looks like this:\n",
    "\n",
    "$$n = (\\frac{1.96 * {36365}}{5000})^2$$\n",
    "\n",
    "Let's plug this equation into Python, separating the numerator and denominator into separate objects called `a` and `E`."
   ]
  },
  {
   "cell_type": "code",
   "execution_count": 31,
   "metadata": {
    "deletable": false,
    "editable": false,
    "nbgrader": {
     "grade": false,
     "locked": true,
     "solution": false
    }
   },
   "outputs": [
    {
     "name": "stdout",
     "output_type": "stream",
     "text": [
      "203.20730580639997\n"
     ]
    }
   ],
   "source": [
    "# Numerator\n",
    "a = 1.96 * 36365\n",
    "\n",
    "# Denominator\n",
    "E = 5000\n",
    "\n",
    "# Calculate the recommended minimum sample size\n",
    "n = (a / E)**2\n",
    "\n",
    "# Print the recommended minimum sample size\n",
    "print(n)"
   ]
  },
  {
   "cell_type": "markdown",
   "metadata": {
    "deletable": false,
    "editable": false,
    "nbgrader": {
     "grade": false,
     "locked": true,
     "solution": false
    }
   },
   "source": [
    "Interesting! Based on the 95% confidence interval, it seems our actual sample size of 200 is just below the recommended minimum necessary to accurately estimate the population mean within ± $5,000. \n",
    "\n",
    "What if we want to estimate the mean of the upper salary range within $500?"
   ]
  },
  {
   "cell_type": "code",
   "execution_count": 32,
   "metadata": {
    "deletable": false,
    "editable": false,
    "nbgrader": {
     "grade": false,
     "locked": true,
     "solution": false
    }
   },
   "outputs": [
    {
     "name": "stdout",
     "output_type": "stream",
     "text": [
      "20320.730580639996\n"
     ]
    }
   ],
   "source": [
    "# Numerator\n",
    "a = 1.96 * 36365\n",
    "\n",
    "# Denominator\n",
    "E = 500\n",
    "\n",
    "# Calculate the recommended minimum sample size\n",
    "n = (a / E)**2\n",
    "\n",
    "# Print the recommended minimum sample size\n",
    "print(n)"
   ]
  },
  {
   "cell_type": "markdown",
   "metadata": {
    "deletable": false,
    "editable": false,
    "nbgrader": {
     "grade": false,
     "locked": true,
     "solution": false
    }
   },
   "source": [
    "In order to narrow the scope of our estimate, we would need to collect a lot more data!"
   ]
  },
  {
   "cell_type": "markdown",
   "metadata": {
    "deletable": false,
    "editable": false,
    "nbgrader": {
     "grade": false,
     "locked": true,
     "solution": false
    }
   },
   "source": [
    "#### How is this determined?\n",
    "The minimum sample size is determined based on three key pieces of information -- the mean, the standard deviation, and the _desired standard error of the mean_. Thus, the relationship between the data's average and its variation determine how many data points are necessary to fully capture the variation. Take a look at the distribution of `salary_to`."
   ]
  },
  {
   "cell_type": "code",
   "execution_count": 33,
   "metadata": {
    "deletable": false,
    "editable": false,
    "nbgrader": {
     "grade": false,
     "locked": true,
     "solution": false
    }
   },
   "outputs": [
    {
     "data": {
      "image/png": "[encoded data removed]",
      "text/plain": [
       "<Figure size 432x288 with 1 Axes>"
      ]
     },
     "metadata": {
      "needs_background": "light"
     },
     "output_type": "display_data"
    }
   ],
   "source": [
    "# Create a histogram of salary data\n",
    "jobs['salary_to'].hist(bins = 50);"
   ]
  },
  {
   "cell_type": "markdown",
   "metadata": {
    "deletable": false,
    "editable": false,
    "nbgrader": {
     "grade": false,
     "locked": true,
     "solution": false
    }
   },
   "source": [
    "The distribution is fairly skewed, and it seems like there are several key outliers present in the data set. A sample that more closely reflects a normal distribution is assumed to more accurately reflect the broader population as a whole."
   ]
  },
  {
   "cell_type": "markdown",
   "metadata": {
    "deletable": false,
    "editable": false,
    "nbgrader": {
     "grade": false,
     "locked": true,
     "solution": false
    }
   },
   "source": [
    "[Back to top](#Index:) \n",
    "<a id='q6'></a>\n",
    "\n",
    "### Question 6\n",
    "*5 points*\n",
    "\n",
    "Calculate the minimum sample size necessary to accurately estimate the 90% confidence interval of the population mean of `salary_from` to within ± $2,500. Recall the formula below:\n",
    "\n",
    "$$n = (\\frac{Z_{\\alpha/2} * {\\sigma}}{E})^2$$\n",
    "\n",
    "Assign your result as a float to `ans6`."
   ]
  },
  {
   "cell_type": "code",
   "execution_count": 34,
   "metadata": {},
   "outputs": [],
   "source": [
    "### GRADED\n",
    "\n",
    "### YOUR SOLUTION HERE\n",
    "ans6 = None\n",
    "\n",
    "\n",
    "###\n",
    "### YOUR CODE HERE\n",
    "###\n"
   ]
  },
  {
   "cell_type": "code",
   "execution_count": 35,
   "metadata": {
    "deletable": false,
    "editable": false,
    "nbgrader": {
     "grade": true,
     "grade_id": "Question 06",
     "locked": true,
     "points": "5",
     "solution": false
    }
   },
   "outputs": [],
   "source": [
    "###\n",
    "### AUTOGRADER TEST - DO NOT REMOVE\n",
    "###\n"
   ]
  },
  {
   "cell_type": "markdown",
   "metadata": {
    "deletable": false,
    "editable": false,
    "nbgrader": {
     "grade": false,
     "locked": true,
     "solution": false
    }
   },
   "source": [
    "[Back to top](#Index:) \n",
    "<a id='q7'></a>\n",
    "\n",
    "### Question 7\n",
    "*5 points*\n",
    "\n",
    "Decide whether the following statement is `True` or `False`.\n",
    "\n",
    " The recommended minimum sample size to estimate the population mean will increase as you increase your confidence interval. \n",
    " \n",
    " Assign boolean to `ans7`below."
   ]
  },
  {
   "cell_type": "code",
   "execution_count": 36,
   "metadata": {},
   "outputs": [],
   "source": [
    "### GRADED\n",
    "\n",
    "### YOUR SOLUTION HERE\n",
    "ans7 = None\n",
    "\n",
    "\n",
    "###\n",
    "### YOUR CODE HERE\n",
    "###\n"
   ]
  },
  {
   "cell_type": "code",
   "execution_count": 37,
   "metadata": {
    "deletable": false,
    "editable": false,
    "nbgrader": {
     "grade": true,
     "grade_id": "Question 07",
     "locked": true,
     "points": "5",
     "solution": false
    }
   },
   "outputs": [],
   "source": [
    "###\n",
    "### AUTOGRADER TEST - DO NOT REMOVE\n",
    "###\n"
   ]
  },
  {
   "cell_type": "markdown",
   "metadata": {
    "deletable": false,
    "editable": false,
    "nbgrader": {
     "grade": false,
     "locked": true,
     "solution": false
    }
   },
   "source": [
    "## Sampling Strategies\n",
    "The methods you use to collect sample(s) of data impact the quality of your results as significantly as the size of your sample. Sampling methods are broadly categorized as _probability sampling_ and _non-probability sampling_. We'll outline several key methods of sampling here along with key Python functions to explore & assess data in accordance with each technique.\n",
    "\n",
    "### Simple random sampling\n",
    "\n",
    "**Simple random sampling** involves selecting data points from a population based on pure random chance. This is rarely possible when you are actively collecting data about a large general population (i.e., all American adults), but it may be an effective means of drawing conclusions about big data when you don't have the bandwidth for population-level analyses (i.e., you can draw random samples of data from a credit card company's list of transactions). \n",
    "\n",
    "In Python, you can draw a random sample of a data frame using `sample`, specifying the size of the sample and whether you want to sample with or without replacement. Let's select a sample of 8 job postings without replacement."
   ]
  },
  {
   "cell_type": "code",
   "execution_count": 38,
   "metadata": {
    "deletable": false,
    "editable": false,
    "nbgrader": {
     "grade": false,
     "locked": true,
     "solution": false
    }
   },
   "outputs": [
    {
     "data": {
      "text/html": [
       "<div>\n",
       "<style scoped>\n",
       "    .dataframe tbody tr th:only-of-type {\n",
       "        vertical-align: middle;\n",
       "    }\n",
       "\n",
       "    .dataframe tbody tr th {\n",
       "        vertical-align: top;\n",
       "    }\n",
       "\n",
       "    .dataframe thead th {\n",
       "        text-align: right;\n",
       "    }\n",
       "</style>\n",
       "<table border=\"1\" class=\"dataframe\">\n",
       "  <thead>\n",
       "    <tr style=\"text-align: right;\">\n",
       "      <th></th>\n",
       "      <th>job_id</th>\n",
       "      <th>title</th>\n",
       "      <th>agency</th>\n",
       "      <th>posting_date</th>\n",
       "      <th>salary_from</th>\n",
       "      <th>salary_to</th>\n",
       "    </tr>\n",
       "  </thead>\n",
       "  <tbody>\n",
       "    <tr>\n",
       "      <th>90</th>\n",
       "      <td>277372</td>\n",
       "      <td>Project Manager</td>\n",
       "      <td>DEPT OF ENVIRONMENT PROTECTION</td>\n",
       "      <td>2017-01-09</td>\n",
       "      <td>47974.0</td>\n",
       "      <td>55170.0</td>\n",
       "    </tr>\n",
       "    <tr>\n",
       "      <th>86</th>\n",
       "      <td>363983</td>\n",
       "      <td>IT Helpdesk Manager</td>\n",
       "      <td>DEPARTMENT OF CORRECTION</td>\n",
       "      <td>2018-09-05</td>\n",
       "      <td>75000.0</td>\n",
       "      <td>95000.0</td>\n",
       "    </tr>\n",
       "    <tr>\n",
       "      <th>56</th>\n",
       "      <td>377502</td>\n",
       "      <td>Senior Data Manager,</td>\n",
       "      <td>DEPT OF HEALTH/MENTAL HYGIENE</td>\n",
       "      <td>2018-12-17</td>\n",
       "      <td>73305.0</td>\n",
       "      <td>84301.0</td>\n",
       "    </tr>\n",
       "    <tr>\n",
       "      <th>197</th>\n",
       "      <td>382741</td>\n",
       "      <td>EHS Program Manager</td>\n",
       "      <td>DEPT OF ENVIRONMENT PROTECTION</td>\n",
       "      <td>2019-02-04</td>\n",
       "      <td>52137.0</td>\n",
       "      <td>144413.0</td>\n",
       "    </tr>\n",
       "    <tr>\n",
       "      <th>192</th>\n",
       "      <td>352087</td>\n",
       "      <td>ASSOCIATE STAFF ANAL</td>\n",
       "      <td>NYC EMPLOYEES RETIREMENT SYS</td>\n",
       "      <td>2018-07-13</td>\n",
       "      <td>65731.0</td>\n",
       "      <td>80000.0</td>\n",
       "    </tr>\n",
       "    <tr>\n",
       "      <th>96</th>\n",
       "      <td>382885</td>\n",
       "      <td>Deputy Director, Tim</td>\n",
       "      <td>DEPT OF DESIGN &amp; CONSTRUCTION</td>\n",
       "      <td>2019-02-04</td>\n",
       "      <td>62862.0</td>\n",
       "      <td>97873.0</td>\n",
       "    </tr>\n",
       "    <tr>\n",
       "      <th>2</th>\n",
       "      <td>379321</td>\n",
       "      <td>Asset Manager</td>\n",
       "      <td>HOUSING PRESERVATION &amp; DVLPMNT</td>\n",
       "      <td>2019-01-07</td>\n",
       "      <td>52524.0</td>\n",
       "      <td>60000.0</td>\n",
       "    </tr>\n",
       "    <tr>\n",
       "      <th>105</th>\n",
       "      <td>356713</td>\n",
       "      <td>Civil Engineer 2</td>\n",
       "      <td>DEPARTMENT OF TRANSPORTATION</td>\n",
       "      <td>2018-08-15</td>\n",
       "      <td>74990.0</td>\n",
       "      <td>104182.0</td>\n",
       "    </tr>\n",
       "  </tbody>\n",
       "</table>\n",
       "</div>"
      ],
      "text/plain": [
       "     job_id                 title                          agency  \\\n",
       "90   277372       Project Manager  DEPT OF ENVIRONMENT PROTECTION   \n",
       "86   363983   IT Helpdesk Manager        DEPARTMENT OF CORRECTION   \n",
       "56   377502  Senior Data Manager,   DEPT OF HEALTH/MENTAL HYGIENE   \n",
       "197  382741   EHS Program Manager  DEPT OF ENVIRONMENT PROTECTION   \n",
       "192  352087  ASSOCIATE STAFF ANAL    NYC EMPLOYEES RETIREMENT SYS   \n",
       "96   382885  Deputy Director, Tim   DEPT OF DESIGN & CONSTRUCTION   \n",
       "2    379321         Asset Manager  HOUSING PRESERVATION & DVLPMNT   \n",
       "105  356713      Civil Engineer 2    DEPARTMENT OF TRANSPORTATION   \n",
       "\n",
       "    posting_date  salary_from  salary_to  \n",
       "90    2017-01-09      47974.0    55170.0  \n",
       "86    2018-09-05      75000.0    95000.0  \n",
       "56    2018-12-17      73305.0    84301.0  \n",
       "197   2019-02-04      52137.0   144413.0  \n",
       "192   2018-07-13      65731.0    80000.0  \n",
       "96    2019-02-04      62862.0    97873.0  \n",
       "2     2019-01-07      52524.0    60000.0  \n",
       "105   2018-08-15      74990.0   104182.0  "
      ]
     },
     "execution_count": 38,
     "metadata": {},
     "output_type": "execute_result"
    }
   ],
   "source": [
    "# Draw a sample of 8 job postings\n",
    "jobs.sample(n=8, replace = False)"
   ]
  },
  {
   "cell_type": "markdown",
   "metadata": {
    "deletable": false,
    "editable": false,
    "nbgrader": {
     "grade": false,
     "locked": true,
     "solution": false
    }
   },
   "source": [
    "### Stratified random sampling\n",
    "**Stratified random sampling** involves collecting a sample of data in accordance with the proportions present in a group. This is an important strategy to use when surveying groups that represent a smaller proportion of the population (i.e., racial/ethnic minority groups). You are more likely to encounter members of a predominant group by pure random chance, leading to an underrepresentation of smaller proportions of the population.\n",
    "\n",
    "In Python, you can examine the total number of rows per group using the pandas `groupby` method and `count`."
   ]
  },
  {
   "cell_type": "code",
   "execution_count": 39,
   "metadata": {},
   "outputs": [
    {
     "data": {
      "text/html": [
       "<div>\n",
       "<style scoped>\n",
       "    .dataframe tbody tr th:only-of-type {\n",
       "        vertical-align: middle;\n",
       "    }\n",
       "\n",
       "    .dataframe tbody tr th {\n",
       "        vertical-align: top;\n",
       "    }\n",
       "\n",
       "    .dataframe thead th {\n",
       "        text-align: right;\n",
       "    }\n",
       "</style>\n",
       "<table border=\"1\" class=\"dataframe\">\n",
       "  <thead>\n",
       "    <tr style=\"text-align: right;\">\n",
       "      <th></th>\n",
       "      <th>job_id</th>\n",
       "      <th>title</th>\n",
       "      <th>posting_date</th>\n",
       "      <th>salary_from</th>\n",
       "      <th>salary_to</th>\n",
       "    </tr>\n",
       "    <tr>\n",
       "      <th>agency</th>\n",
       "      <th></th>\n",
       "      <th></th>\n",
       "      <th></th>\n",
       "      <th></th>\n",
       "      <th></th>\n",
       "    </tr>\n",
       "  </thead>\n",
       "  <tbody>\n",
       "    <tr>\n",
       "      <th>ADMIN FOR CHILDREN'S SVCS</th>\n",
       "      <td>4</td>\n",
       "      <td>4</td>\n",
       "      <td>4</td>\n",
       "      <td>4</td>\n",
       "      <td>4</td>\n",
       "    </tr>\n",
       "    <tr>\n",
       "      <th>ADMIN TRIALS AND HEARINGS</th>\n",
       "      <td>3</td>\n",
       "      <td>3</td>\n",
       "      <td>3</td>\n",
       "      <td>3</td>\n",
       "      <td>3</td>\n",
       "    </tr>\n",
       "    <tr>\n",
       "      <th>BUSINESS INTEGRITY COMMISSION</th>\n",
       "      <td>1</td>\n",
       "      <td>1</td>\n",
       "      <td>1</td>\n",
       "      <td>1</td>\n",
       "      <td>1</td>\n",
       "    </tr>\n",
       "    <tr>\n",
       "      <th>CONSUMER AFFAIRS</th>\n",
       "      <td>2</td>\n",
       "      <td>2</td>\n",
       "      <td>2</td>\n",
       "      <td>2</td>\n",
       "      <td>2</td>\n",
       "    </tr>\n",
       "    <tr>\n",
       "      <th>DEPARTMENT OF BUILDINGS</th>\n",
       "      <td>2</td>\n",
       "      <td>2</td>\n",
       "      <td>2</td>\n",
       "      <td>2</td>\n",
       "      <td>2</td>\n",
       "    </tr>\n",
       "    <tr>\n",
       "      <th>DEPARTMENT OF BUSINESS SERV.</th>\n",
       "      <td>8</td>\n",
       "      <td>8</td>\n",
       "      <td>8</td>\n",
       "      <td>8</td>\n",
       "      <td>8</td>\n",
       "    </tr>\n",
       "    <tr>\n",
       "      <th>DEPARTMENT OF CITY PLANNING</th>\n",
       "      <td>3</td>\n",
       "      <td>3</td>\n",
       "      <td>3</td>\n",
       "      <td>3</td>\n",
       "      <td>3</td>\n",
       "    </tr>\n",
       "    <tr>\n",
       "      <th>DEPARTMENT OF CORRECTION</th>\n",
       "      <td>3</td>\n",
       "      <td>3</td>\n",
       "      <td>3</td>\n",
       "      <td>3</td>\n",
       "      <td>3</td>\n",
       "    </tr>\n",
       "    <tr>\n",
       "      <th>DEPARTMENT OF INVESTIGATION</th>\n",
       "      <td>6</td>\n",
       "      <td>6</td>\n",
       "      <td>6</td>\n",
       "      <td>6</td>\n",
       "      <td>6</td>\n",
       "    </tr>\n",
       "    <tr>\n",
       "      <th>DEPARTMENT OF SANITATION</th>\n",
       "      <td>1</td>\n",
       "      <td>1</td>\n",
       "      <td>1</td>\n",
       "      <td>1</td>\n",
       "      <td>1</td>\n",
       "    </tr>\n",
       "    <tr>\n",
       "      <th>DEPARTMENT OF TRANSPORTATION</th>\n",
       "      <td>11</td>\n",
       "      <td>11</td>\n",
       "      <td>11</td>\n",
       "      <td>11</td>\n",
       "      <td>11</td>\n",
       "    </tr>\n",
       "    <tr>\n",
       "      <th>DEPT OF CITYWIDE ADMIN SVCS</th>\n",
       "      <td>4</td>\n",
       "      <td>4</td>\n",
       "      <td>4</td>\n",
       "      <td>4</td>\n",
       "      <td>4</td>\n",
       "    </tr>\n",
       "    <tr>\n",
       "      <th>DEPT OF DESIGN &amp; CONSTRUCTION</th>\n",
       "      <td>13</td>\n",
       "      <td>13</td>\n",
       "      <td>13</td>\n",
       "      <td>13</td>\n",
       "      <td>13</td>\n",
       "    </tr>\n",
       "    <tr>\n",
       "      <th>DEPT OF ENVIRONMENT PROTECTION</th>\n",
       "      <td>46</td>\n",
       "      <td>46</td>\n",
       "      <td>46</td>\n",
       "      <td>46</td>\n",
       "      <td>46</td>\n",
       "    </tr>\n",
       "    <tr>\n",
       "      <th>DEPT OF HEALTH/MENTAL HYGIENE</th>\n",
       "      <td>32</td>\n",
       "      <td>32</td>\n",
       "      <td>32</td>\n",
       "      <td>32</td>\n",
       "      <td>32</td>\n",
       "    </tr>\n",
       "    <tr>\n",
       "      <th>DEPT OF INFO TECH &amp; TELECOMM</th>\n",
       "      <td>2</td>\n",
       "      <td>2</td>\n",
       "      <td>2</td>\n",
       "      <td>2</td>\n",
       "      <td>2</td>\n",
       "    </tr>\n",
       "    <tr>\n",
       "      <th>DEPT OF PARKS &amp; RECREATION</th>\n",
       "      <td>1</td>\n",
       "      <td>1</td>\n",
       "      <td>1</td>\n",
       "      <td>1</td>\n",
       "      <td>1</td>\n",
       "    </tr>\n",
       "    <tr>\n",
       "      <th>DEPT OF YOUTH &amp; COMM DEV SRVS</th>\n",
       "      <td>2</td>\n",
       "      <td>2</td>\n",
       "      <td>2</td>\n",
       "      <td>2</td>\n",
       "      <td>2</td>\n",
       "    </tr>\n",
       "    <tr>\n",
       "      <th>DISTRICT ATTORNEY KINGS COUNTY</th>\n",
       "      <td>2</td>\n",
       "      <td>2</td>\n",
       "      <td>2</td>\n",
       "      <td>2</td>\n",
       "      <td>2</td>\n",
       "    </tr>\n",
       "    <tr>\n",
       "      <th>FINANCIAL INFO SVCS AGENCY</th>\n",
       "      <td>4</td>\n",
       "      <td>4</td>\n",
       "      <td>4</td>\n",
       "      <td>4</td>\n",
       "      <td>4</td>\n",
       "    </tr>\n",
       "    <tr>\n",
       "      <th>FIRE DEPARTMENT</th>\n",
       "      <td>1</td>\n",
       "      <td>1</td>\n",
       "      <td>1</td>\n",
       "      <td>1</td>\n",
       "      <td>1</td>\n",
       "    </tr>\n",
       "    <tr>\n",
       "      <th>HOUSING PRESERVATION &amp; DVLPMNT</th>\n",
       "      <td>18</td>\n",
       "      <td>18</td>\n",
       "      <td>18</td>\n",
       "      <td>18</td>\n",
       "      <td>18</td>\n",
       "    </tr>\n",
       "    <tr>\n",
       "      <th>HRA/DEPT OF SOCIAL SERVICES</th>\n",
       "      <td>1</td>\n",
       "      <td>1</td>\n",
       "      <td>1</td>\n",
       "      <td>1</td>\n",
       "      <td>1</td>\n",
       "    </tr>\n",
       "    <tr>\n",
       "      <th>LAW DEPARTMENT</th>\n",
       "      <td>3</td>\n",
       "      <td>3</td>\n",
       "      <td>3</td>\n",
       "      <td>3</td>\n",
       "      <td>3</td>\n",
       "    </tr>\n",
       "    <tr>\n",
       "      <th>MAYORS OFFICE OF CONTRACT SVCS</th>\n",
       "      <td>1</td>\n",
       "      <td>1</td>\n",
       "      <td>1</td>\n",
       "      <td>1</td>\n",
       "      <td>1</td>\n",
       "    </tr>\n",
       "    <tr>\n",
       "      <th>NYC EMPLOYEES RETIREMENT SYS</th>\n",
       "      <td>3</td>\n",
       "      <td>3</td>\n",
       "      <td>3</td>\n",
       "      <td>3</td>\n",
       "      <td>3</td>\n",
       "    </tr>\n",
       "    <tr>\n",
       "      <th>NYC HOUSING AUTHORITY</th>\n",
       "      <td>7</td>\n",
       "      <td>7</td>\n",
       "      <td>7</td>\n",
       "      <td>7</td>\n",
       "      <td>7</td>\n",
       "    </tr>\n",
       "    <tr>\n",
       "      <th>OFF OF PAYROLL ADMINISTRATION</th>\n",
       "      <td>1</td>\n",
       "      <td>1</td>\n",
       "      <td>1</td>\n",
       "      <td>1</td>\n",
       "      <td>1</td>\n",
       "    </tr>\n",
       "    <tr>\n",
       "      <th>OFFICE OF EMERGENCY MANAGEMENT</th>\n",
       "      <td>2</td>\n",
       "      <td>2</td>\n",
       "      <td>2</td>\n",
       "      <td>2</td>\n",
       "      <td>2</td>\n",
       "    </tr>\n",
       "    <tr>\n",
       "      <th>OFFICE OF MANAGEMENT &amp; BUDGET</th>\n",
       "      <td>2</td>\n",
       "      <td>2</td>\n",
       "      <td>2</td>\n",
       "      <td>2</td>\n",
       "      <td>2</td>\n",
       "    </tr>\n",
       "    <tr>\n",
       "      <th>OFFICE OF THE COMPTROLLER</th>\n",
       "      <td>8</td>\n",
       "      <td>8</td>\n",
       "      <td>8</td>\n",
       "      <td>8</td>\n",
       "      <td>8</td>\n",
       "    </tr>\n",
       "    <tr>\n",
       "      <th>POLICE DEPARTMENT</th>\n",
       "      <td>1</td>\n",
       "      <td>1</td>\n",
       "      <td>1</td>\n",
       "      <td>1</td>\n",
       "      <td>1</td>\n",
       "    </tr>\n",
       "    <tr>\n",
       "      <th>TAXI &amp; LIMOUSINE COMMISSION</th>\n",
       "      <td>2</td>\n",
       "      <td>2</td>\n",
       "      <td>2</td>\n",
       "      <td>2</td>\n",
       "      <td>2</td>\n",
       "    </tr>\n",
       "  </tbody>\n",
       "</table>\n",
       "</div>"
      ],
      "text/plain": [
       "                                job_id  title  posting_date  salary_from  \\\n",
       "agency                                                                     \n",
       "ADMIN FOR CHILDREN'S SVCS            4      4             4            4   \n",
       "ADMIN TRIALS AND HEARINGS            3      3             3            3   \n",
       "BUSINESS INTEGRITY COMMISSION        1      1             1            1   \n",
       "CONSUMER AFFAIRS                     2      2             2            2   \n",
       "DEPARTMENT OF BUILDINGS              2      2             2            2   \n",
       "DEPARTMENT OF BUSINESS SERV.         8      8             8            8   \n",
       "DEPARTMENT OF CITY PLANNING          3      3             3            3   \n",
       "DEPARTMENT OF CORRECTION             3      3             3            3   \n",
       "DEPARTMENT OF INVESTIGATION          6      6             6            6   \n",
       "DEPARTMENT OF SANITATION             1      1             1            1   \n",
       "DEPARTMENT OF TRANSPORTATION        11     11            11           11   \n",
       "DEPT OF CITYWIDE ADMIN SVCS          4      4             4            4   \n",
       "DEPT OF DESIGN & CONSTRUCTION       13     13            13           13   \n",
       "DEPT OF ENVIRONMENT PROTECTION      46     46            46           46   \n",
       "DEPT OF HEALTH/MENTAL HYGIENE       32     32            32           32   \n",
       "DEPT OF INFO TECH & TELECOMM         2      2             2            2   \n",
       "DEPT OF PARKS & RECREATION           1      1             1            1   \n",
       "DEPT OF YOUTH & COMM DEV SRVS        2      2             2            2   \n",
       "DISTRICT ATTORNEY KINGS COUNTY       2      2             2            2   \n",
       "FINANCIAL INFO SVCS AGENCY           4      4             4            4   \n",
       "FIRE DEPARTMENT                      1      1             1            1   \n",
       "HOUSING PRESERVATION & DVLPMNT      18     18            18           18   \n",
       "HRA/DEPT OF SOCIAL SERVICES          1      1             1            1   \n",
       "LAW DEPARTMENT                       3      3             3            3   \n",
       "MAYORS OFFICE OF CONTRACT SVCS       1      1             1            1   \n",
       "NYC EMPLOYEES RETIREMENT SYS         3      3             3            3   \n",
       "NYC HOUSING AUTHORITY                7      7             7            7   \n",
       "OFF OF PAYROLL ADMINISTRATION        1      1             1            1   \n",
       "OFFICE OF EMERGENCY MANAGEMENT       2      2             2            2   \n",
       "OFFICE OF MANAGEMENT & BUDGET        2      2             2            2   \n",
       "OFFICE OF THE COMPTROLLER            8      8             8            8   \n",
       "POLICE DEPARTMENT                    1      1             1            1   \n",
       "TAXI & LIMOUSINE COMMISSION          2      2             2            2   \n",
       "\n",
       "                                salary_to  \n",
       "agency                                     \n",
       "ADMIN FOR CHILDREN'S SVCS               4  \n",
       "ADMIN TRIALS AND HEARINGS               3  \n",
       "BUSINESS INTEGRITY COMMISSION           1  \n",
       "CONSUMER AFFAIRS                        2  \n",
       "DEPARTMENT OF BUILDINGS                 2  \n",
       "DEPARTMENT OF BUSINESS SERV.            8  \n",
       "DEPARTMENT OF CITY PLANNING             3  \n",
       "DEPARTMENT OF CORRECTION                3  \n",
       "DEPARTMENT OF INVESTIGATION             6  \n",
       "DEPARTMENT OF SANITATION                1  \n",
       "DEPARTMENT OF TRANSPORTATION           11  \n",
       "DEPT OF CITYWIDE ADMIN SVCS             4  \n",
       "DEPT OF DESIGN & CONSTRUCTION          13  \n",
       "DEPT OF ENVIRONMENT PROTECTION         46  \n",
       "DEPT OF HEALTH/MENTAL HYGIENE          32  \n",
       "DEPT OF INFO TECH & TELECOMM            2  \n",
       "DEPT OF PARKS & RECREATION              1  \n",
       "DEPT OF YOUTH & COMM DEV SRVS           2  \n",
       "DISTRICT ATTORNEY KINGS COUNTY          2  \n",
       "FINANCIAL INFO SVCS AGENCY              4  \n",
       "FIRE DEPARTMENT                         1  \n",
       "HOUSING PRESERVATION & DVLPMNT         18  \n",
       "HRA/DEPT OF SOCIAL SERVICES             1  \n",
       "LAW DEPARTMENT                          3  \n",
       "MAYORS OFFICE OF CONTRACT SVCS          1  \n",
       "NYC EMPLOYEES RETIREMENT SYS            3  \n",
       "NYC HOUSING AUTHORITY                   7  \n",
       "OFF OF PAYROLL ADMINISTRATION           1  \n",
       "OFFICE OF EMERGENCY MANAGEMENT          2  \n",
       "OFFICE OF MANAGEMENT & BUDGET           2  \n",
       "OFFICE OF THE COMPTROLLER               8  \n",
       "POLICE DEPARTMENT                       1  \n",
       "TAXI & LIMOUSINE COMMISSION             2  "
      ]
     },
     "execution_count": 39,
     "metadata": {},
     "output_type": "execute_result"
    }
   ],
   "source": [
    "# Count number of records by agency\n",
    "jobs.groupby('agency').count()"
   ]
  },
  {
   "cell_type": "markdown",
   "metadata": {
    "deletable": false,
    "editable": false,
    "nbgrader": {
     "grade": false,
     "locked": true,
     "solution": false
    }
   },
   "source": [
    "After grouping your data, you can choose the appropriate number of records to sample from each group. Since several of the city agencies listed only have 1 or 2 job postings, let's select 1 job post from each agency at random to display."
   ]
  },
  {
   "cell_type": "code",
   "execution_count": 40,
   "metadata": {
    "deletable": false,
    "editable": false,
    "nbgrader": {
     "grade": false,
     "locked": true,
     "solution": false
    }
   },
   "outputs": [
    {
     "data": {
      "text/html": [
       "<div>\n",
       "<style scoped>\n",
       "    .dataframe tbody tr th:only-of-type {\n",
       "        vertical-align: middle;\n",
       "    }\n",
       "\n",
       "    .dataframe tbody tr th {\n",
       "        vertical-align: top;\n",
       "    }\n",
       "\n",
       "    .dataframe thead th {\n",
       "        text-align: right;\n",
       "    }\n",
       "</style>\n",
       "<table border=\"1\" class=\"dataframe\">\n",
       "  <thead>\n",
       "    <tr style=\"text-align: right;\">\n",
       "      <th></th>\n",
       "      <th>job_id</th>\n",
       "      <th>title</th>\n",
       "      <th>posting_date</th>\n",
       "      <th>salary_from</th>\n",
       "      <th>salary_to</th>\n",
       "    </tr>\n",
       "    <tr>\n",
       "      <th>agency</th>\n",
       "      <th></th>\n",
       "      <th></th>\n",
       "      <th></th>\n",
       "      <th></th>\n",
       "      <th></th>\n",
       "    </tr>\n",
       "  </thead>\n",
       "  <tbody>\n",
       "    <tr>\n",
       "      <th>ADMIN FOR CHILDREN'S SVCS</th>\n",
       "      <td>311540</td>\n",
       "      <td>Senior Buyer</td>\n",
       "      <td>2019-02-04</td>\n",
       "      <td>47450.00</td>\n",
       "      <td>89008.00</td>\n",
       "    </tr>\n",
       "    <tr>\n",
       "      <th>ADMIN TRIALS AND HEARINGS</th>\n",
       "      <td>375711</td>\n",
       "      <td>Deputy Branch Manage</td>\n",
       "      <td>2018-12-11</td>\n",
       "      <td>37217.00</td>\n",
       "      <td>53616.00</td>\n",
       "    </tr>\n",
       "    <tr>\n",
       "      <th>BUSINESS INTEGRITY COMMISSION</th>\n",
       "      <td>357984</td>\n",
       "      <td>Computer Systems Man</td>\n",
       "      <td>2018-08-08</td>\n",
       "      <td>80000.00</td>\n",
       "      <td>85000.00</td>\n",
       "    </tr>\n",
       "    <tr>\n",
       "      <th>CONSUMER AFFAIRS</th>\n",
       "      <td>382439</td>\n",
       "      <td>Senior Community Imp</td>\n",
       "      <td>2018-12-10</td>\n",
       "      <td>52524.00</td>\n",
       "      <td>80000.00</td>\n",
       "    </tr>\n",
       "    <tr>\n",
       "      <th>DEPARTMENT OF BUILDINGS</th>\n",
       "      <td>381078</td>\n",
       "      <td>Senior Background In</td>\n",
       "      <td>2019-01-28</td>\n",
       "      <td>49123.00</td>\n",
       "      <td>95000.00</td>\n",
       "    </tr>\n",
       "    <tr>\n",
       "      <th>DEPARTMENT OF BUSINESS SERV.</th>\n",
       "      <td>375332</td>\n",
       "      <td>EXECUTIVE DIRECTOR,</td>\n",
       "      <td>2018-10-16</td>\n",
       "      <td>52524.00</td>\n",
       "      <td>67000.00</td>\n",
       "    </tr>\n",
       "    <tr>\n",
       "      <th>DEPARTMENT OF CITY PLANNING</th>\n",
       "      <td>359133</td>\n",
       "      <td>Regional Planner</td>\n",
       "      <td>2018-08-27</td>\n",
       "      <td>55000.00</td>\n",
       "      <td>65000.00</td>\n",
       "    </tr>\n",
       "    <tr>\n",
       "      <th>DEPARTMENT OF CORRECTION</th>\n",
       "      <td>374422</td>\n",
       "      <td>Manager, Application</td>\n",
       "      <td>2018-06-08</td>\n",
       "      <td>100000.00</td>\n",
       "      <td>95000.00</td>\n",
       "    </tr>\n",
       "    <tr>\n",
       "      <th>DEPARTMENT OF INVESTIGATION</th>\n",
       "      <td>374494</td>\n",
       "      <td>Confidential Investi</td>\n",
       "      <td>2018-12-22</td>\n",
       "      <td>41996.00</td>\n",
       "      <td>50000.00</td>\n",
       "    </tr>\n",
       "    <tr>\n",
       "      <th>DEPARTMENT OF SANITATION</th>\n",
       "      <td>367738</td>\n",
       "      <td>ELECTRICIAN</td>\n",
       "      <td>2018-11-13</td>\n",
       "      <td>389.97</td>\n",
       "      <td>389.97</td>\n",
       "    </tr>\n",
       "    <tr>\n",
       "      <th>DEPARTMENT OF TRANSPORTATION</th>\n",
       "      <td>374978</td>\n",
       "      <td>TRAFFIC DEVICE MAINT</td>\n",
       "      <td>2017-04-01</td>\n",
       "      <td>83887.00</td>\n",
       "      <td>90056.00</td>\n",
       "    </tr>\n",
       "    <tr>\n",
       "      <th>DEPT OF CITYWIDE ADMIN SVCS</th>\n",
       "      <td>371624</td>\n",
       "      <td>Tests &amp; Measurement</td>\n",
       "      <td>2019-01-08</td>\n",
       "      <td>70000.00</td>\n",
       "      <td>110000.00</td>\n",
       "    </tr>\n",
       "    <tr>\n",
       "      <th>DEPT OF DESIGN &amp; CONSTRUCTION</th>\n",
       "      <td>379041</td>\n",
       "      <td>Infrastructure Summe</td>\n",
       "      <td>2019-01-24</td>\n",
       "      <td>13.00</td>\n",
       "      <td>106222.00</td>\n",
       "    </tr>\n",
       "    <tr>\n",
       "      <th>DEPT OF ENVIRONMENT PROTECTION</th>\n",
       "      <td>368412</td>\n",
       "      <td>Gardener</td>\n",
       "      <td>2018-05-02</td>\n",
       "      <td>53134.00</td>\n",
       "      <td>121363.00</td>\n",
       "    </tr>\n",
       "    <tr>\n",
       "      <th>DEPT OF HEALTH/MENTAL HYGIENE</th>\n",
       "      <td>362165</td>\n",
       "      <td>Identification Inves</td>\n",
       "      <td>2018-01-22</td>\n",
       "      <td>385.00</td>\n",
       "      <td>64014.00</td>\n",
       "    </tr>\n",
       "    <tr>\n",
       "      <th>DEPT OF INFO TECH &amp; TELECOMM</th>\n",
       "      <td>378034</td>\n",
       "      <td>Senior Exchange Engi</td>\n",
       "      <td>2019-01-18</td>\n",
       "      <td>70548.00</td>\n",
       "      <td>106000.00</td>\n",
       "    </tr>\n",
       "    <tr>\n",
       "      <th>DEPT OF PARKS &amp; RECREATION</th>\n",
       "      <td>374638</td>\n",
       "      <td>Climber &amp; Pruner</td>\n",
       "      <td>2018-11-16</td>\n",
       "      <td>62308.00</td>\n",
       "      <td>62308.00</td>\n",
       "    </tr>\n",
       "    <tr>\n",
       "      <th>DEPT OF YOUTH &amp; COMM DEV SRVS</th>\n",
       "      <td>355402</td>\n",
       "      <td>Program Manager</td>\n",
       "      <td>2018-09-07</td>\n",
       "      <td>56033.00</td>\n",
       "      <td>84435.00</td>\n",
       "    </tr>\n",
       "    <tr>\n",
       "      <th>DISTRICT ATTORNEY KINGS COUNTY</th>\n",
       "      <td>382688</td>\n",
       "      <td>Reporter/Stenographe</td>\n",
       "      <td>2019-02-01</td>\n",
       "      <td>58880.00</td>\n",
       "      <td>45424.00</td>\n",
       "    </tr>\n",
       "    <tr>\n",
       "      <th>FINANCIAL INFO SVCS AGENCY</th>\n",
       "      <td>368341</td>\n",
       "      <td>TECH SUPPORT ANALYST</td>\n",
       "      <td>2018-10-03</td>\n",
       "      <td>75000.00</td>\n",
       "      <td>105000.00</td>\n",
       "    </tr>\n",
       "    <tr>\n",
       "      <th>FIRE DEPARTMENT</th>\n",
       "      <td>380537</td>\n",
       "      <td>Case Management Nurs</td>\n",
       "      <td>2019-01-29</td>\n",
       "      <td>76399.00</td>\n",
       "      <td>76399.00</td>\n",
       "    </tr>\n",
       "    <tr>\n",
       "      <th>HOUSING PRESERVATION &amp; DVLPMNT</th>\n",
       "      <td>379321</td>\n",
       "      <td>Director, Strategic</td>\n",
       "      <td>2019-01-16</td>\n",
       "      <td>52524.00</td>\n",
       "      <td>60403.00</td>\n",
       "    </tr>\n",
       "    <tr>\n",
       "      <th>HRA/DEPT OF SOCIAL SERVICES</th>\n",
       "      <td>347604</td>\n",
       "      <td>AGENCY ATTORNEY INTE</td>\n",
       "      <td>2018-05-30</td>\n",
       "      <td>57944.00</td>\n",
       "      <td>66636.00</td>\n",
       "    </tr>\n",
       "    <tr>\n",
       "      <th>LAW DEPARTMENT</th>\n",
       "      <td>347946</td>\n",
       "      <td>Discovery Management</td>\n",
       "      <td>2019-01-11</td>\n",
       "      <td>50362.00</td>\n",
       "      <td>78177.00</td>\n",
       "    </tr>\n",
       "    <tr>\n",
       "      <th>MAYORS OFFICE OF CONTRACT SVCS</th>\n",
       "      <td>377724</td>\n",
       "      <td>Associate Director,</td>\n",
       "      <td>2019-01-10</td>\n",
       "      <td>115000.00</td>\n",
       "      <td>118000.00</td>\n",
       "    </tr>\n",
       "    <tr>\n",
       "      <th>NYC EMPLOYEES RETIREMENT SYS</th>\n",
       "      <td>167179</td>\n",
       "      <td>CERTIFIED IT ADMINIS</td>\n",
       "      <td>2019-01-07</td>\n",
       "      <td>82884.00</td>\n",
       "      <td>80000.00</td>\n",
       "    </tr>\n",
       "    <tr>\n",
       "      <th>NYC HOUSING AUTHORITY</th>\n",
       "      <td>293033</td>\n",
       "      <td>Data Support Analyst</td>\n",
       "      <td>2018-02-08</td>\n",
       "      <td>80000.00</td>\n",
       "      <td>45632.00</td>\n",
       "    </tr>\n",
       "    <tr>\n",
       "      <th>OFF OF PAYROLL ADMINISTRATION</th>\n",
       "      <td>376196</td>\n",
       "      <td>Learning and Trainin</td>\n",
       "      <td>2018-12-04</td>\n",
       "      <td>71222.00</td>\n",
       "      <td>100000.00</td>\n",
       "    </tr>\n",
       "    <tr>\n",
       "      <th>OFFICE OF EMERGENCY MANAGEMENT</th>\n",
       "      <td>369811</td>\n",
       "      <td>NOTIFY NYC/PUBLIC WA</td>\n",
       "      <td>2018-10-31</td>\n",
       "      <td>80000.00</td>\n",
       "      <td>80000.00</td>\n",
       "    </tr>\n",
       "    <tr>\n",
       "      <th>OFFICE OF MANAGEMENT &amp; BUDGET</th>\n",
       "      <td>373619</td>\n",
       "      <td>Analyst</td>\n",
       "      <td>2018-11-05</td>\n",
       "      <td>45491.00</td>\n",
       "      <td>68244.00</td>\n",
       "    </tr>\n",
       "    <tr>\n",
       "      <th>OFFICE OF THE COMPTROLLER</th>\n",
       "      <td>366759</td>\n",
       "      <td>Senior Staff Enginee</td>\n",
       "      <td>2018-10-05</td>\n",
       "      <td>80000.00</td>\n",
       "      <td>95000.00</td>\n",
       "    </tr>\n",
       "    <tr>\n",
       "      <th>POLICE DEPARTMENT</th>\n",
       "      <td>377919</td>\n",
       "      <td>Psychologist, Level</td>\n",
       "      <td>2018-12-31</td>\n",
       "      <td>62458.00</td>\n",
       "      <td>81131.00</td>\n",
       "    </tr>\n",
       "    <tr>\n",
       "      <th>TAXI &amp; LIMOUSINE COMMISSION</th>\n",
       "      <td>370128</td>\n",
       "      <td>Deputy Director of F</td>\n",
       "      <td>2018-12-03</td>\n",
       "      <td>95000.00</td>\n",
       "      <td>88000.00</td>\n",
       "    </tr>\n",
       "  </tbody>\n",
       "</table>\n",
       "</div>"
      ],
      "text/plain": [
       "                                job_id                 title posting_date  \\\n",
       "agency                                                                      \n",
       "ADMIN FOR CHILDREN'S SVCS       311540          Senior Buyer   2019-02-04   \n",
       "ADMIN TRIALS AND HEARINGS       375711  Deputy Branch Manage   2018-12-11   \n",
       "BUSINESS INTEGRITY COMMISSION   357984  Computer Systems Man   2018-08-08   \n",
       "CONSUMER AFFAIRS                382439  Senior Community Imp   2018-12-10   \n",
       "DEPARTMENT OF BUILDINGS         381078  Senior Background In   2019-01-28   \n",
       "DEPARTMENT OF BUSINESS SERV.    375332  EXECUTIVE DIRECTOR,    2018-10-16   \n",
       "DEPARTMENT OF CITY PLANNING     359133      Regional Planner   2018-08-27   \n",
       "DEPARTMENT OF CORRECTION        374422  Manager, Application   2018-06-08   \n",
       "DEPARTMENT OF INVESTIGATION     374494  Confidential Investi   2018-12-22   \n",
       "DEPARTMENT OF SANITATION        367738           ELECTRICIAN   2018-11-13   \n",
       "DEPARTMENT OF TRANSPORTATION    374978  TRAFFIC DEVICE MAINT   2017-04-01   \n",
       "DEPT OF CITYWIDE ADMIN SVCS     371624  Tests & Measurement    2019-01-08   \n",
       "DEPT OF DESIGN & CONSTRUCTION   379041  Infrastructure Summe   2019-01-24   \n",
       "DEPT OF ENVIRONMENT PROTECTION  368412              Gardener   2018-05-02   \n",
       "DEPT OF HEALTH/MENTAL HYGIENE   362165  Identification Inves   2018-01-22   \n",
       "DEPT OF INFO TECH & TELECOMM    378034  Senior Exchange Engi   2019-01-18   \n",
       "DEPT OF PARKS & RECREATION      374638      Climber & Pruner   2018-11-16   \n",
       "DEPT OF YOUTH & COMM DEV SRVS   355402       Program Manager   2018-09-07   \n",
       "DISTRICT ATTORNEY KINGS COUNTY  382688  Reporter/Stenographe   2019-02-01   \n",
       "FINANCIAL INFO SVCS AGENCY      368341  TECH SUPPORT ANALYST   2018-10-03   \n",
       "FIRE DEPARTMENT                 380537  Case Management Nurs   2019-01-29   \n",
       "HOUSING PRESERVATION & DVLPMNT  379321  Director, Strategic    2019-01-16   \n",
       "HRA/DEPT OF SOCIAL SERVICES     347604  AGENCY ATTORNEY INTE   2018-05-30   \n",
       "LAW DEPARTMENT                  347946  Discovery Management   2019-01-11   \n",
       "MAYORS OFFICE OF CONTRACT SVCS  377724  Associate Director,    2019-01-10   \n",
       "NYC EMPLOYEES RETIREMENT SYS    167179  CERTIFIED IT ADMINIS   2019-01-07   \n",
       "NYC HOUSING AUTHORITY           293033  Data Support Analyst   2018-02-08   \n",
       "OFF OF PAYROLL ADMINISTRATION   376196  Learning and Trainin   2018-12-04   \n",
       "OFFICE OF EMERGENCY MANAGEMENT  369811  NOTIFY NYC/PUBLIC WA   2018-10-31   \n",
       "OFFICE OF MANAGEMENT & BUDGET   373619               Analyst   2018-11-05   \n",
       "OFFICE OF THE COMPTROLLER       366759  Senior Staff Enginee   2018-10-05   \n",
       "POLICE DEPARTMENT               377919  Psychologist, Level    2018-12-31   \n",
       "TAXI & LIMOUSINE COMMISSION     370128  Deputy Director of F   2018-12-03   \n",
       "\n",
       "                                salary_from  salary_to  \n",
       "agency                                                  \n",
       "ADMIN FOR CHILDREN'S SVCS          47450.00   89008.00  \n",
       "ADMIN TRIALS AND HEARINGS          37217.00   53616.00  \n",
       "BUSINESS INTEGRITY COMMISSION      80000.00   85000.00  \n",
       "CONSUMER AFFAIRS                   52524.00   80000.00  \n",
       "DEPARTMENT OF BUILDINGS            49123.00   95000.00  \n",
       "DEPARTMENT OF BUSINESS SERV.       52524.00   67000.00  \n",
       "DEPARTMENT OF CITY PLANNING        55000.00   65000.00  \n",
       "DEPARTMENT OF CORRECTION          100000.00   95000.00  \n",
       "DEPARTMENT OF INVESTIGATION        41996.00   50000.00  \n",
       "DEPARTMENT OF SANITATION             389.97     389.97  \n",
       "DEPARTMENT OF TRANSPORTATION       83887.00   90056.00  \n",
       "DEPT OF CITYWIDE ADMIN SVCS        70000.00  110000.00  \n",
       "DEPT OF DESIGN & CONSTRUCTION         13.00  106222.00  \n",
       "DEPT OF ENVIRONMENT PROTECTION     53134.00  121363.00  \n",
       "DEPT OF HEALTH/MENTAL HYGIENE        385.00   64014.00  \n",
       "DEPT OF INFO TECH & TELECOMM       70548.00  106000.00  \n",
       "DEPT OF PARKS & RECREATION         62308.00   62308.00  \n",
       "DEPT OF YOUTH & COMM DEV SRVS      56033.00   84435.00  \n",
       "DISTRICT ATTORNEY KINGS COUNTY     58880.00   45424.00  \n",
       "FINANCIAL INFO SVCS AGENCY         75000.00  105000.00  \n",
       "FIRE DEPARTMENT                    76399.00   76399.00  \n",
       "HOUSING PRESERVATION & DVLPMNT     52524.00   60403.00  \n",
       "HRA/DEPT OF SOCIAL SERVICES        57944.00   66636.00  \n",
       "LAW DEPARTMENT                     50362.00   78177.00  \n",
       "MAYORS OFFICE OF CONTRACT SVCS    115000.00  118000.00  \n",
       "NYC EMPLOYEES RETIREMENT SYS       82884.00   80000.00  \n",
       "NYC HOUSING AUTHORITY              80000.00   45632.00  \n",
       "OFF OF PAYROLL ADMINISTRATION      71222.00  100000.00  \n",
       "OFFICE OF EMERGENCY MANAGEMENT     80000.00   80000.00  \n",
       "OFFICE OF MANAGEMENT & BUDGET      45491.00   68244.00  \n",
       "OFFICE OF THE COMPTROLLER          80000.00   95000.00  \n",
       "POLICE DEPARTMENT                  62458.00   81131.00  \n",
       "TAXI & LIMOUSINE COMMISSION        95000.00   88000.00  "
      ]
     },
     "execution_count": 40,
     "metadata": {},
     "output_type": "execute_result"
    }
   ],
   "source": [
    "# Select 1 random job post from each agency\n",
    "jobs.groupby('agency').agg(pd.DataFrame.sample)"
   ]
  },
  {
   "cell_type": "markdown",
   "metadata": {
    "deletable": false,
    "editable": false,
    "nbgrader": {
     "grade": false,
     "locked": true,
     "solution": false
    }
   },
   "source": [
    "### Snowball sampling\n",
    "**Snowball sampling** is a _non-probabilistic method_ of data collection primarily used when you are interested in information about a specific subset of the population that shares 1 or more characteristic. If you are a data scientist predicting rates of cancer reoccurrence among adults over 60 in Los Angeles, randomly sampling the population to find these individuals will be cost and time prohibitive. \n",
    "\n",
    "If your population of interest is difficult to access and not randomly present in the general population, you will likely have more success in creating an impact on your population by recruiting a few individuals from that population (i.e., through advertisement) and then requesting your study participants refer others within the same population."
   ]
  },
  {
   "cell_type": "markdown",
   "metadata": {
    "deletable": false,
    "editable": false,
    "nbgrader": {
     "grade": false,
     "locked": true,
     "solution": false
    }
   },
   "source": [
    "### Convenience Sampling\n",
    "**Convenience sampling** is a method often used when a research or data science team is seeking research participants with the greatest availability and willingness to participate in a study. Findings from this type of method should be interpreted with caution, because they likely do not represent the broader population.\n",
    "\n",
    "Let's take a look at our `jobs` data set. We could more easily survey city agency employees with the title _Analyst_ because they work in central offices, but their salary likely does not represent the mean for all city employees."
   ]
  },
  {
   "cell_type": "code",
   "execution_count": 41,
   "metadata": {
    "deletable": false,
    "editable": false,
    "nbgrader": {
     "grade": false,
     "locked": true,
     "solution": false
    }
   },
   "outputs": [
    {
     "name": "stdout",
     "output_type": "stream",
     "text": [
      "Overall salary mean = 81819.9124\n",
      "Analyst salary mean = 78276.875\n"
     ]
    }
   ],
   "source": [
    "# Filter for only Analyst job titles\n",
    "analysts = jobs[jobs['title'].str.contains(\"Analyst\")]\n",
    "\n",
    "# Print and compare analyst to overall salary means\n",
    "print(\"Overall salary mean =\",np.mean(jobs['salary_to']))\n",
    "print(\"Analyst salary mean =\",np.mean(analysts['salary_to']))"
   ]
  },
  {
   "cell_type": "markdown",
   "metadata": {
    "deletable": false,
    "editable": false,
    "nbgrader": {
     "grade": false,
     "locked": true,
     "solution": false
    }
   },
   "source": [
    "[Back to top](#Index:) \n",
    "<a id='q8'></a>\n",
    "\n",
    "### Question 8\n",
    "*10 points*\n",
    "\n",
    "Take a look at the following code, which draws a simple random sample of job posts from the `jobs` dataframe. \n",
    "\n",
    "The loop takes a random sample of 10 job posts, calculates the percentage of jobs that were listed by the Department of Health & Mental Hygiene (DOHMH), and appends it to a list called `doh`. This process is then repeated 10 times.\n",
    "\n",
    "Based on the code below, calculate the mean percentage in each list. What percentage of job posts would you estimate are posted by DOHMH? Would this change if you changed the number of samples to 100 and the sample size to 25? How about if you changed it to 500 samples with a sample size of 100?\n",
    "\n",
    "- a) The mean percentage of job posts across samples stays the same with each sample size increase\n",
    "- b) The mean percentage of job posts across samples gets larger with each sample size increase\n",
    "- c) The mean percentage of job posts varies more greatly at `n = 10`, and is relatively similar at `n = 25` and `n = 100`.\n",
    "- d) The mean percentage of job posts varies more with each sample size increase\n",
    "\n",
    "Assign the letter associated with your answer choice as a string the `ans8` below."
   ]
  },
  {
   "cell_type": "code",
   "execution_count": 42,
   "metadata": {
    "deletable": false,
    "editable": false,
    "nbgrader": {
     "grade": false,
     "locked": true,
     "solution": false
    }
   },
   "outputs": [
    {
     "ename": "AttributeError",
     "evalue": "'Index' object has no attribute 'contains'",
     "output_type": "error",
     "traceback": [
      "\u001b[0;31m---------------------------------------------------------------------------\u001b[0m",
      "\u001b[0;31mAttributeError\u001b[0m                            Traceback (most recent call last)",
      "\u001b[0;32m<ipython-input-42-345e82dbecfd>\u001b[0m in \u001b[0;36m<module>\u001b[0;34m\u001b[0m\n\u001b[1;32m     11\u001b[0m     \u001b[0ms\u001b[0m\u001b[0;34m[\u001b[0m\u001b[0;34m'pct'\u001b[0m\u001b[0;34m]\u001b[0m \u001b[0;34m=\u001b[0m \u001b[0ms\u001b[0m\u001b[0;34m[\u001b[0m\u001b[0;34m'job_id'\u001b[0m\u001b[0;34m]\u001b[0m \u001b[0;34m/\u001b[0m \u001b[0ms\u001b[0m\u001b[0;34m[\u001b[0m\u001b[0;34m'job_id'\u001b[0m\u001b[0;34m]\u001b[0m\u001b[0;34m.\u001b[0m\u001b[0msum\u001b[0m\u001b[0;34m(\u001b[0m\u001b[0;34m)\u001b[0m\u001b[0;34m\u001b[0m\u001b[0;34m\u001b[0m\u001b[0m\n\u001b[1;32m     12\u001b[0m     \u001b[0;31m# Append the percent in the Dept. of Health to list\u001b[0m\u001b[0;34m\u001b[0m\u001b[0;34m\u001b[0m\u001b[0;34m\u001b[0m\u001b[0m\n\u001b[0;32m---> 13\u001b[0;31m     \u001b[0;32mif\u001b[0m \u001b[0ms\u001b[0m\u001b[0;34m.\u001b[0m\u001b[0mindex\u001b[0m\u001b[0;34m.\u001b[0m\u001b[0mcontains\u001b[0m\u001b[0;34m(\u001b[0m\u001b[0;34m'DEPT OF HEALTH/MENTAL HYGIENE'\u001b[0m\u001b[0;34m)\u001b[0m\u001b[0;34m:\u001b[0m\u001b[0;34m\u001b[0m\u001b[0;34m\u001b[0m\u001b[0m\n\u001b[0m\u001b[1;32m     14\u001b[0m         \u001b[0mdohmh\u001b[0m\u001b[0;34m.\u001b[0m\u001b[0mappend\u001b[0m\u001b[0;34m(\u001b[0m\u001b[0ms\u001b[0m\u001b[0;34m.\u001b[0m\u001b[0mloc\u001b[0m\u001b[0;34m[\u001b[0m\u001b[0;34m'DEPT OF HEALTH/MENTAL HYGIENE'\u001b[0m\u001b[0;34m,\u001b[0m\u001b[0;34m'pct'\u001b[0m\u001b[0;34m]\u001b[0m\u001b[0;34m)\u001b[0m\u001b[0;34m\u001b[0m\u001b[0;34m\u001b[0m\u001b[0m\n\u001b[1;32m     15\u001b[0m     \u001b[0;32melse\u001b[0m\u001b[0;34m:\u001b[0m\u001b[0;34m\u001b[0m\u001b[0;34m\u001b[0m\u001b[0m\n",
      "\u001b[0;31mAttributeError\u001b[0m: 'Index' object has no attribute 'contains'"
     ]
    }
   ],
   "source": [
    "# Create empty list\n",
    "dohmh = []\n",
    "\n",
    "# Repeat each step x amount of times\n",
    "for i in range(0,10):\n",
    "    # Draw a sample of n job postings\n",
    "    s = jobs.sample(n=10, replace = True)\n",
    "    # Group and count by agency\n",
    "    s = s.groupby('agency').count()\n",
    "    # Calculate the percentage of posts by agency\n",
    "    s['pct'] = s['job_id'] / s['job_id'].sum()\n",
    "    # Append the percent in the Dept. of Health to list\n",
    "    if s.index.contains('DEPT OF HEALTH/MENTAL HYGIENE'):\n",
    "        dohmh.append(s.loc['DEPT OF HEALTH/MENTAL HYGIENE','pct'])\n",
    "    else:\n",
    "        dohmh.append(0)\n",
    "        \n",
    "print(np.mean(dohmh))"
   ]
  },
  {
   "cell_type": "code",
   "execution_count": 43,
   "metadata": {},
   "outputs": [],
   "source": [
    "from ipywidgets import interact\n",
    "import ipywidgets as widgets"
   ]
  },
  {
   "cell_type": "code",
   "execution_count": 44,
   "metadata": {},
   "outputs": [],
   "source": [
    "jobs['high_salary'] = np.where(jobs['salary_to']>=100_000, 1, 0)"
   ]
  },
  {
   "cell_type": "code",
   "execution_count": 48,
   "metadata": {},
   "outputs": [],
   "source": [
    "def sample_taker(num_samples, sample_size, bins ):\n",
    "    mean_list = []\n",
    "\n",
    "    for i in range(0,num_samples):\n",
    "        s = jobs['high_salary'].sample(n = sample_size, replace=True)\n",
    "        mean_list.append(s.mean())\n",
    "\n",
    "    #print(mean_list)\n",
    "    plt.hist(mean_list, bins=bins)"
   ]
  },
  {
   "cell_type": "code",
   "execution_count": 49,
   "metadata": {},
   "outputs": [],
   "source": [
    "from ipywidgets import interact\n",
    "import ipywidgets as widgets"
   ]
  },
  {
   "cell_type": "code",
   "execution_count": 50,
   "metadata": {},
   "outputs": [
    {
     "data": {
      "application/vnd.jupyter.widget-view+json": {
       "model_id": "c9bc0d746471472194408a0e9d802e10",
       "version_major": 2,
       "version_minor": 0
      },
      "text/plain": [
       "interactive(children=(IntSlider(value=0, description='num_samples', max=1000), IntSlider(value=1, description=…"
      ]
     },
     "metadata": {},
     "output_type": "display_data"
    },
    {
     "data": {
      "text/plain": [
       "<function __main__.sample_taker(num_samples, sample_size, bins)>"
      ]
     },
     "execution_count": 50,
     "metadata": {},
     "output_type": "execute_result"
    }
   ],
   "source": [
    "interact(sample_taker, num_samples = widgets.IntSlider(min = 0, max = 1000, step = 1),\n",
    "        sample_size = widgets.IntSlider(min = 1, max = 1000, step = 1),\n",
    "        bins = widgets.IntSlider(min = 1, max = 200, step = 1))"
   ]
  },
  {
   "cell_type": "code",
   "execution_count": 44,
   "metadata": {},
   "outputs": [],
   "source": [
    "### GRADED\n",
    "\n",
    "### YOUR SOLUTION HERE\n",
    "ans8 = None\n",
    "\n",
    "###\n",
    "### YOUR CODE HERE\n",
    "###\n"
   ]
  },
  {
   "cell_type": "code",
   "execution_count": null,
   "metadata": {},
   "outputs": [],
   "source": []
  },
  {
   "cell_type": "code",
   "execution_count": 45,
   "metadata": {
    "deletable": false,
    "editable": false,
    "nbgrader": {
     "grade": true,
     "grade_id": "Question 08",
     "locked": true,
     "points": "5",
     "solution": false
    }
   },
   "outputs": [
    {
     "name": "stdout",
     "output_type": "stream",
     "text": [
      "Great job!\n"
     ]
    }
   ],
   "source": [
    "###\n",
    "### AUTOGRADER TEST - DO NOT REMOVE\n",
    "###\n"
   ]
  },
  {
   "cell_type": "markdown",
   "metadata": {
    "deletable": false,
    "editable": false,
    "nbgrader": {
     "grade": false,
     "locked": true,
     "solution": false
    }
   },
   "source": [
    "[Back to top](#Index:) \n",
    "<a id='q9'></a>\n",
    "\n",
    "### Question 9\n",
    "*10 points*\n",
    "\n",
    "Modify the code in Question 8 to draw a series of random samples from the `jobs` data set in order to estimate the number of job postings with an upper salary range of $100,000 or more.\n",
    "\n",
    "Complete the following steps inside your `for` loop to calculate the percentage of high salary job postings per sample:\n",
    "- Create a new column with a binary indicator of high salary or not\n",
    "- Take the mean of the new column to determine the percentage of high salary jobs per sample\n",
    "- Append the mean to the list, `sal`.\n",
    "- Increase the range and `n` as you see fit to create a large enough list & sample size.\n",
    "\n",
    "Based on this method, what would you estimate is the average number of job postings with an upper salary of $100k or more?\n",
    "- a) 28%\n",
    "- b) 32%\n",
    "- c) 24%\n",
    "- d) 22%\n",
    "- e) 30%\n",
    "\n",
    "Assign the letter associated with your answer choice to the `ans9` object in the second cell below."
   ]
  },
  {
   "cell_type": "code",
   "execution_count": 46,
   "metadata": {
    "collapsed": true,
    "nbgrader": {
     "grade": false,
     "grade_id": "Question9",
     "locked": false,
     "points": "1",
     "solution": false
    }
   },
   "outputs": [],
   "source": [
    "### GRADED\n",
    "\n",
    "### YOUR SOLUTION HERE\n",
    "ans9 = None\n",
    "\n",
    "###\n",
    "### YOUR CODE HERE\n",
    "###\n"
   ]
  },
  {
   "cell_type": "code",
   "execution_count": null,
   "metadata": {
    "collapsed": true,
    "deletable": false,
    "editable": false,
    "nbgrader": {
     "grade": true,
     "grade_id": "Question 09",
     "locked": true,
     "points": "5",
     "solution": false
    }
   },
   "outputs": [],
   "source": [
    "###\n",
    "### AUTOGRADER TEST - DO NOT REMOVE\n",
    "###\n"
   ]
  },
  {
   "cell_type": "markdown",
   "metadata": {},
   "source": [
    "### Interactive Two Proportion z-test"
   ]
  },
  {
   "cell_type": "code",
   "execution_count": 112,
   "metadata": {},
   "outputs": [],
   "source": [
    "from ipywidgets import interact\n",
    "import ipywidgets as widgets"
   ]
  },
  {
   "cell_type": "code",
   "execution_count": 113,
   "metadata": {},
   "outputs": [],
   "source": [
    "import statsmodels.api as sm\n",
    "import numpy as np\n",
    "import matplotlib.pyplot as plt"
   ]
  },
  {
   "cell_type": "code",
   "execution_count": 114,
   "metadata": {
    "scrolled": true
   },
   "outputs": [],
   "source": [
    "def two_tester(n1, n2, p1, p2):\n",
    "\n",
    "    population1 = np.random.binomial(1, p1, n1)\n",
    "    population2 = np.random.binomial(1, p2, n2)\n",
    "\n",
    "    mean = 0; std = 1; variance = np.square(std)\n",
    "    x = np.arange(-3.5,3.5,.01)\n",
    "    f = np.exp(-np.square(x-mean)/2*variance)/(np.sqrt(2*np.pi*variance))\n",
    "    plt.plot(x,f)\n",
    "    plt.ylabel('gaussian distribution')\n",
    "    plt.axvline(1.96, color='red')\n",
    "    plt.axvline(-1.96, color='red')\n",
    "    \n",
    "    z_line = sm.stats.ztest(population1, population2)[0]\n",
    "    if abs(z_line) > 1.96:\n",
    "        color = 'green'\n",
    "    else:\n",
    "        color = 'orange'\n",
    "    \n",
    "    plt.axvline(z_line, color=color)\n",
    "    plt.show()\n",
    "    \n",
    "    return sm.stats.ztest(population1, population2)"
   ]
  },
  {
   "cell_type": "code",
   "execution_count": 117,
   "metadata": {},
   "outputs": [
    {
     "data": {
      "application/vnd.jupyter.widget-view+json": {
       "model_id": "4d4404057f204a6fbdbb55b97969a9e3",
       "version_major": 2,
       "version_minor": 0
      },
      "text/plain": [
       "interactive(children=(IntSlider(value=1, description='n1', max=1000, min=1), IntSlider(value=1, description='n…"
      ]
     },
     "metadata": {},
     "output_type": "display_data"
    },
    {
     "data": {
      "text/plain": [
       "<function __main__.two_tester(n1, n2, p1, p2)>"
      ]
     },
     "execution_count": 117,
     "metadata": {},
     "output_type": "execute_result"
    }
   ],
   "source": [
    "interact(two_tester, n1 = widgets.IntSlider(min = 1, max = 1000, step = 1),\n",
    "        n2 = widgets.IntSlider(min = 1, max = 1000, step = 1),\n",
    "        p1 = widgets.FloatSlider(min = 0, max = 1, step = 0.01),\n",
    "        p2 = widgets.FloatSlider(min = 0, max = 1, step = 0.01))"
   ]
  },
  {
   "cell_type": "code",
   "execution_count": null,
   "metadata": {
    "scrolled": true
   },
   "outputs": [],
   "source": []
  },
  {
   "cell_type": "code",
   "execution_count": null,
   "metadata": {},
   "outputs": [],
   "source": []
  },
  {
   "cell_type": "code",
   "execution_count": null,
   "metadata": {},
   "outputs": [],
   "source": []
  },
  {
   "cell_type": "code",
   "execution_count": null,
   "metadata": {},
   "outputs": [],
   "source": []
  },
  {
   "cell_type": "code",
   "execution_count": null,
   "metadata": {},
   "outputs": [],
   "source": []
  },
  {
   "cell_type": "code",
   "execution_count": null,
   "metadata": {},
   "outputs": [],
   "source": []
  },
  {
   "cell_type": "code",
   "execution_count": null,
   "metadata": {},
   "outputs": [],
   "source": []
  },
  {
   "cell_type": "code",
   "execution_count": null,
   "metadata": {},
   "outputs": [],
   "source": []
  },
  {
   "cell_type": "code",
   "execution_count": null,
   "metadata": {},
   "outputs": [],
   "source": []
  },
  {
   "cell_type": "code",
   "execution_count": 91,
   "metadata": {},
   "outputs": [
    {
     "data": {
      "image/png": "[encoded data removed]",
      "text/plain": [
       "<Figure size 432x288 with 1 Axes>"
      ]
     },
     "metadata": {
      "needs_background": "light"
     },
     "output_type": "display_data"
    }
   ],
   "source": [
    "mean = 0; std = 1; variance = np.square(std)\n",
    "x = np.arange(-3.5,3.5,.01)\n",
    "f = np.exp(-np.square(x-mean)/2*variance)/(np.sqrt(2*np.pi*variance))\n",
    "plt.plot(x,f)\n",
    "plt.ylabel('gaussian distribution')\n",
    "plt.axvline(1.96, color='red')\n",
    "plt.axvline(-1.96, color='red')\n",
    "plt.show()\n"
   ]
  },
  {
   "cell_type": "code",
   "execution_count": null,
   "metadata": {},
   "outputs": [],
   "source": []
  }
 ],
 "metadata": {
  "kernelspec": {
   "display_name": "Python 3",
   "language": "python",
   "name": "python3"
  },
  "language_info": {
   "codemirror_mode": {
    "name": "ipython",
    "version": 3
   },
   "file_extension": ".py",
   "mimetype": "text/x-python",
   "name": "python",
   "nbconvert_exporter": "python",
   "pygments_lexer": "ipython3",
   "version": "3.6.9"
  }
 },
 "nbformat": 4,
 "nbformat_minor": 2
}
