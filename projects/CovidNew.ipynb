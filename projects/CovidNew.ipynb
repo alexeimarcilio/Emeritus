{
 "cells": [
  {
   "cell_type": "markdown",
   "metadata": {},
   "source": [
    "\\setcounter{secnumdepth}{0} "
   ]
  },
  {
   "cell_type": "markdown",
   "metadata": {},
   "source": []
  },
  {
   "cell_type": "markdown",
   "metadata": {},
   "source": [
    "**Alexei Marcilio**"
   ]
  },
  {
   "cell_type": "markdown",
   "metadata": {},
   "source": [
    "*May 27, 2020*"
   ]
  },
  {
   "cell_type": "markdown",
   "metadata": {},
   "source": [
    "# Introduction"
   ]
  },
  {
   "cell_type": "markdown",
   "metadata": {},
   "source": [
    "In this analysis we look at a weekly comparison of Covid-19 cases by province. To visualize this we will use the heatmap in the seaborn library. In order to somewhat simplify the heatmap we first summarize the data by week. In addition to facilitate a comparison of each province, we scale each province's data from 0 to 1 so that the numbers from larger provinces do no obscure the overall trends of cases.\n",
    "\n",
    "We will create a heatmap for the Canadian provinces and one for the US States."
   ]
  },
  {
   "cell_type": "markdown",
   "metadata": {},
   "source": [
    "## Methods"
   ]
  },
  {
   "cell_type": "markdown",
   "metadata": {},
   "source": [
    "For "
   ]
  },
  {
   "cell_type": "code",
   "execution_count": 1,
   "metadata": {},
   "outputs": [],
   "source": [
    "# Import the necessary libraries\n",
    "import seaborn as sns\n",
    "import pandas as pd\n",
    "import matplotlib.pyplot as plt\n",
    "import matplotlib.dates as mdates\n",
    "\n",
    "import numpy as np\n",
    "from sklearn import preprocessing\n",
    "\n",
    "%matplotlib inline"
   ]
  },
  {
   "cell_type": "markdown",
   "metadata": {},
   "source": [
    "# Canada"
   ]
  },
  {
   "cell_type": "code",
   "execution_count": 2,
   "metadata": {},
   "outputs": [],
   "source": [
    "# Read in the data file\n",
    "covid_prov = pd.read_csv('/home/alexei/ds/eme/pro/Emeritus/projects/covid19/timeseries_prov')"
   ]
  },
  {
   "cell_type": "code",
   "execution_count": 3,
   "metadata": {},
   "outputs": [],
   "source": [
    "# Convert the column to datetime\n",
    "covid_prov['date_report'] =  pd.to_datetime(covid_prov['date_report'],format='%d-%m-%Y')"
   ]
  },
  {
   "cell_type": "code",
   "execution_count": 4,
   "metadata": {},
   "outputs": [],
   "source": [
    "# Convert the province column to string\n",
    "covid_prov['Prov'] = covid_prov['province'].astype('str')"
   ]
  },
  {
   "cell_type": "code",
   "execution_count": 5,
   "metadata": {},
   "outputs": [],
   "source": [
    "# Drop the old column\n",
    "covid_prov.drop(columns=['province'],inplace=True)"
   ]
  },
  {
   "cell_type": "code",
   "execution_count": 6,
   "metadata": {},
   "outputs": [],
   "source": [
    "# We use groupby so summarize the data by week and label each week by the first monday\n",
    "covid_prov['date_report'] = pd.to_datetime(covid_prov['date_report']) - pd.to_timedelta(7, unit='d')\n",
    "\n",
    "covid_prov = covid_prov.groupby(['Prov', pd.Grouper(key='date_report', freq='W-MON')])['cases']\\\n",
    ".sum().reset_index()\\\n",
    ".sort_values('date_report')"
   ]
  },
  {
   "cell_type": "code",
   "execution_count": 7,
   "metadata": {},
   "outputs": [],
   "source": [
    "# Let's pivot the data, which is required for a heatmap, provinces on the left\n",
    "# and each column is a week\n",
    "covid_prov_piv = covid_prov.pivot_table(values='cases',index='Prov',columns='date_report')"
   ]
  },
  {
   "cell_type": "code",
   "execution_count": 8,
   "metadata": {},
   "outputs": [],
   "source": [
    "# Update the column labels so the display is neater in seaborn\n",
    "covid_prov_piv.columns = ['2020-01-20', '2020-01-27', '2020-02-03', '2020-02-10',\n",
    "               '2020-02-17', '2020-02-24', '2020-03-02', '2020-03-09',\n",
    "               '2020-03-16', '2020-03-23', '2020-03-30', '2020-04-06',\n",
    "               '2020-04-13', '2020-04-20', '2020-04-27', '2020-05-04',\n",
    "               '2020-05-11', '2020-05-18']"
   ]
  },
  {
   "cell_type": "code",
   "execution_count": 9,
   "metadata": {},
   "outputs": [],
   "source": [
    "# Here we divide each value of each row (provinces) by the sum of the row. \n",
    "# This will normalize each row so that a comparison of each provice is easier.\n",
    "covid_prov_piv = covid_prov_piv.div(covid_prov_piv.sum(axis=1), axis=0)"
   ]
  },
  {
   "cell_type": "code",
   "execution_count": 10,
   "metadata": {},
   "outputs": [],
   "source": [
    "# We remove a couple provinces, for example, the one case on NWT.\n",
    "covid_prov_piv = covid_prov_piv.loc[['Alberta', 'BC', 'Manitoba', 'NL', 'New Brunswick',\n",
    "       'Nova Scotia', 'Ontario', 'PEI', 'Quebec',\n",
    "       'Saskatchewan', 'Yukon'], :]\n"
   ]
  },
  {
   "cell_type": "code",
   "execution_count": 11,
   "metadata": {},
   "outputs": [
    {
     "data": {
      "text/plain": [
       "Index(['Alberta', 'BC', 'Manitoba', 'NL', 'New Brunswick', 'Nova Scotia',\n",
       "       'Ontario', 'PEI', 'Quebec', 'Saskatchewan', 'Yukon'],\n",
       "      dtype='object', name='Prov')"
      ]
     },
     "execution_count": 11,
     "metadata": {},
     "output_type": "execute_result"
    }
   ],
   "source": [
    "covid_prov_piv.index"
   ]
  },
  {
   "cell_type": "code",
   "execution_count": 12,
   "metadata": {},
   "outputs": [],
   "source": [
    "# remove the early columns - there are several weeks of very little data\n",
    "covid_prov_piv = covid_prov_piv.iloc[:,6:]"
   ]
  },
  {
   "cell_type": "markdown",
   "metadata": {},
   "source": [
    "## Results"
   ]
  },
  {
   "cell_type": "code",
   "execution_count": 13,
   "metadata": {},
   "outputs": [
    {
     "data": {
      "image/png": "[encoded data removed]",
      "text/plain": [
       "<Figure size 936x504 with 1 Axes>"
      ]
     },
     "metadata": {
      "needs_background": "light"
     },
     "output_type": "display_data"
    }
   ],
   "source": [
    "# Let's create the seaborn heatmap\n",
    "fig, ax = plt.subplots(figsize=(13,7))\n",
    "sns.heatmap(covid_prov_piv, cmap='rocket_r', linewidths=1, linecolor='white', cbar=False)\n",
    "ax.set_title('Heatmap of Covid-19 Cases by Province by Week')\n",
    "plt.xticks(rotation=90);\n"
   ]
  },
  {
   "cell_type": "code",
   "execution_count": 14,
   "metadata": {},
   "outputs": [],
   "source": [
    "# We can save the heatmap to a png file to use elsewhere\n",
    "fig.savefig('/home/alexei/ds/eme/pro/Emeritus/projects/covid19/CovidProvWeek.png', bbox_inches='tight')"
   ]
  },
  {
   "cell_type": "markdown",
   "metadata": {},
   "source": [
    "# USA"
   ]
  },
  {
   "cell_type": "code",
   "execution_count": 15,
   "metadata": {},
   "outputs": [],
   "source": [
    "# Load the data from csv file\n",
    "covid_state = pd.read_csv('/home/alexei/ds/eme/pro/Emeritus/projects/covid19/usa.csv')"
   ]
  },
  {
   "cell_type": "code",
   "execution_count": 16,
   "metadata": {},
   "outputs": [
    {
     "data": {
      "text/html": [
       "<div>\n",
       "<style scoped>\n",
       "    .dataframe tbody tr th:only-of-type {\n",
       "        vertical-align: middle;\n",
       "    }\n",
       "\n",
       "    .dataframe tbody tr th {\n",
       "        vertical-align: top;\n",
       "    }\n",
       "\n",
       "    .dataframe thead th {\n",
       "        text-align: right;\n",
       "    }\n",
       "</style>\n",
       "<table border=\"1\" class=\"dataframe\">\n",
       "  <thead>\n",
       "    <tr style=\"text-align: right;\">\n",
       "      <th></th>\n",
       "      <th>date</th>\n",
       "      <th>state</th>\n",
       "      <th>positive</th>\n",
       "    </tr>\n",
       "  </thead>\n",
       "  <tbody>\n",
       "    <tr>\n",
       "      <th>0</th>\n",
       "      <td>20200525</td>\n",
       "      <td>AK</td>\n",
       "      <td>1.0</td>\n",
       "    </tr>\n",
       "    <tr>\n",
       "      <th>1</th>\n",
       "      <td>20200525</td>\n",
       "      <td>AL</td>\n",
       "      <td>403.0</td>\n",
       "    </tr>\n",
       "    <tr>\n",
       "      <th>2</th>\n",
       "      <td>20200525</td>\n",
       "      <td>AR</td>\n",
       "      <td>107.0</td>\n",
       "    </tr>\n",
       "    <tr>\n",
       "      <th>3</th>\n",
       "      <td>20200525</td>\n",
       "      <td>AS</td>\n",
       "      <td>0.0</td>\n",
       "    </tr>\n",
       "    <tr>\n",
       "      <th>4</th>\n",
       "      <td>20200525</td>\n",
       "      <td>AZ</td>\n",
       "      <td>222.0</td>\n",
       "    </tr>\n",
       "  </tbody>\n",
       "</table>\n",
       "</div>"
      ],
      "text/plain": [
       "       date state  positive\n",
       "0  20200525    AK       1.0\n",
       "1  20200525    AL     403.0\n",
       "2  20200525    AR     107.0\n",
       "3  20200525    AS       0.0\n",
       "4  20200525    AZ     222.0"
      ]
     },
     "execution_count": 16,
     "metadata": {},
     "output_type": "execute_result"
    }
   ],
   "source": [
    "# Let's take a look at the first 5 rows\n",
    "covid_state.head()"
   ]
  },
  {
   "cell_type": "code",
   "execution_count": 17,
   "metadata": {},
   "outputs": [],
   "source": [
    "# Convert the date fields to datetime format\n",
    "covid_state['date'] =  pd.to_datetime(covid_state['date'],format='%Y%m%d')"
   ]
  },
  {
   "cell_type": "code",
   "execution_count": 18,
   "metadata": {},
   "outputs": [],
   "source": [
    "# Change the state to a string field\n",
    "covid_state['State'] = covid_state['state'].astype('str')"
   ]
  },
  {
   "cell_type": "code",
   "execution_count": 19,
   "metadata": {},
   "outputs": [],
   "source": [
    "# Drop the old column\n",
    "covid_state.drop(columns=['state'],inplace=True)"
   ]
  },
  {
   "cell_type": "code",
   "execution_count": 20,
   "metadata": {},
   "outputs": [
    {
     "data": {
      "text/html": [
       "<div>\n",
       "<style scoped>\n",
       "    .dataframe tbody tr th:only-of-type {\n",
       "        vertical-align: middle;\n",
       "    }\n",
       "\n",
       "    .dataframe tbody tr th {\n",
       "        vertical-align: top;\n",
       "    }\n",
       "\n",
       "    .dataframe thead th {\n",
       "        text-align: right;\n",
       "    }\n",
       "</style>\n",
       "<table border=\"1\" class=\"dataframe\">\n",
       "  <thead>\n",
       "    <tr style=\"text-align: right;\">\n",
       "      <th></th>\n",
       "      <th>date</th>\n",
       "      <th>positive</th>\n",
       "      <th>State</th>\n",
       "    </tr>\n",
       "  </thead>\n",
       "  <tbody>\n",
       "    <tr>\n",
       "      <th>0</th>\n",
       "      <td>2020-05-25</td>\n",
       "      <td>1.0</td>\n",
       "      <td>AK</td>\n",
       "    </tr>\n",
       "    <tr>\n",
       "      <th>1</th>\n",
       "      <td>2020-05-25</td>\n",
       "      <td>403.0</td>\n",
       "      <td>AL</td>\n",
       "    </tr>\n",
       "    <tr>\n",
       "      <th>2</th>\n",
       "      <td>2020-05-25</td>\n",
       "      <td>107.0</td>\n",
       "      <td>AR</td>\n",
       "    </tr>\n",
       "    <tr>\n",
       "      <th>3</th>\n",
       "      <td>2020-05-25</td>\n",
       "      <td>0.0</td>\n",
       "      <td>AS</td>\n",
       "    </tr>\n",
       "    <tr>\n",
       "      <th>4</th>\n",
       "      <td>2020-05-25</td>\n",
       "      <td>222.0</td>\n",
       "      <td>AZ</td>\n",
       "    </tr>\n",
       "    <tr>\n",
       "      <th>...</th>\n",
       "      <td>...</td>\n",
       "      <td>...</td>\n",
       "      <td>...</td>\n",
       "    </tr>\n",
       "    <tr>\n",
       "      <th>4548</th>\n",
       "      <td>2020-01-26</td>\n",
       "      <td>0.0</td>\n",
       "      <td>WA</td>\n",
       "    </tr>\n",
       "    <tr>\n",
       "      <th>4549</th>\n",
       "      <td>2020-01-25</td>\n",
       "      <td>0.0</td>\n",
       "      <td>WA</td>\n",
       "    </tr>\n",
       "    <tr>\n",
       "      <th>4550</th>\n",
       "      <td>2020-01-24</td>\n",
       "      <td>0.0</td>\n",
       "      <td>WA</td>\n",
       "    </tr>\n",
       "    <tr>\n",
       "      <th>4551</th>\n",
       "      <td>2020-01-23</td>\n",
       "      <td>0.0</td>\n",
       "      <td>WA</td>\n",
       "    </tr>\n",
       "    <tr>\n",
       "      <th>4552</th>\n",
       "      <td>2020-01-22</td>\n",
       "      <td>NaN</td>\n",
       "      <td>WA</td>\n",
       "    </tr>\n",
       "  </tbody>\n",
       "</table>\n",
       "<p>4553 rows × 3 columns</p>\n",
       "</div>"
      ],
      "text/plain": [
       "           date  positive State\n",
       "0    2020-05-25       1.0    AK\n",
       "1    2020-05-25     403.0    AL\n",
       "2    2020-05-25     107.0    AR\n",
       "3    2020-05-25       0.0    AS\n",
       "4    2020-05-25     222.0    AZ\n",
       "...         ...       ...   ...\n",
       "4548 2020-01-26       0.0    WA\n",
       "4549 2020-01-25       0.0    WA\n",
       "4550 2020-01-24       0.0    WA\n",
       "4551 2020-01-23       0.0    WA\n",
       "4552 2020-01-22       NaN    WA\n",
       "\n",
       "[4553 rows x 3 columns]"
      ]
     },
     "execution_count": 20,
     "metadata": {},
     "output_type": "execute_result"
    }
   ],
   "source": [
    "covid_state"
   ]
  },
  {
   "cell_type": "code",
   "execution_count": 21,
   "metadata": {},
   "outputs": [],
   "source": [
    "# We use groupby so summarize the data by week and label each week by the first monday\n",
    "\n",
    "covid_state['date'] = pd.to_datetime(covid_state['date']) - pd.to_timedelta(7, unit='d')\n",
    "\n",
    "covid_state = covid_state.groupby(['State', pd.Grouper(key='date', freq='W-MON')])['positive']\\\n",
    ".sum().reset_index()\\\n",
    ".sort_values('date')"
   ]
  },
  {
   "cell_type": "code",
   "execution_count": 22,
   "metadata": {},
   "outputs": [
    {
     "data": {
      "text/html": [
       "<div>\n",
       "<style scoped>\n",
       "    .dataframe tbody tr th:only-of-type {\n",
       "        vertical-align: middle;\n",
       "    }\n",
       "\n",
       "    .dataframe tbody tr th {\n",
       "        vertical-align: top;\n",
       "    }\n",
       "\n",
       "    .dataframe thead th {\n",
       "        text-align: right;\n",
       "    }\n",
       "</style>\n",
       "<table border=\"1\" class=\"dataframe\">\n",
       "  <thead>\n",
       "    <tr style=\"text-align: right;\">\n",
       "      <th></th>\n",
       "      <th>State</th>\n",
       "      <th>date</th>\n",
       "      <th>positive</th>\n",
       "    </tr>\n",
       "  </thead>\n",
       "  <tbody>\n",
       "    <tr>\n",
       "      <th>620</th>\n",
       "      <td>WA</td>\n",
       "      <td>2020-01-20</td>\n",
       "      <td>0.0</td>\n",
       "    </tr>\n",
       "    <tr>\n",
       "      <th>621</th>\n",
       "      <td>WA</td>\n",
       "      <td>2020-01-27</td>\n",
       "      <td>0.0</td>\n",
       "    </tr>\n",
       "    <tr>\n",
       "      <th>622</th>\n",
       "      <td>WA</td>\n",
       "      <td>2020-02-03</td>\n",
       "      <td>1.0</td>\n",
       "    </tr>\n",
       "    <tr>\n",
       "      <th>623</th>\n",
       "      <td>WA</td>\n",
       "      <td>2020-02-10</td>\n",
       "      <td>0.0</td>\n",
       "    </tr>\n",
       "    <tr>\n",
       "      <th>624</th>\n",
       "      <td>WA</td>\n",
       "      <td>2020-02-17</td>\n",
       "      <td>0.0</td>\n",
       "    </tr>\n",
       "    <tr>\n",
       "      <th>...</th>\n",
       "      <td>...</td>\n",
       "      <td>...</td>\n",
       "      <td>...</td>\n",
       "    </tr>\n",
       "    <tr>\n",
       "      <th>106</th>\n",
       "      <td>DC</td>\n",
       "      <td>2020-05-18</td>\n",
       "      <td>955.0</td>\n",
       "    </tr>\n",
       "    <tr>\n",
       "      <th>428</th>\n",
       "      <td>NM</td>\n",
       "      <td>2020-05-18</td>\n",
       "      <td>1005.0</td>\n",
       "    </tr>\n",
       "    <tr>\n",
       "      <th>416</th>\n",
       "      <td>NJ</td>\n",
       "      <td>2020-05-18</td>\n",
       "      <td>7053.0</td>\n",
       "    </tr>\n",
       "    <tr>\n",
       "      <th>511</th>\n",
       "      <td>PR</td>\n",
       "      <td>2020-05-18</td>\n",
       "      <td>550.0</td>\n",
       "    </tr>\n",
       "    <tr>\n",
       "      <th>673</th>\n",
       "      <td>WY</td>\n",
       "      <td>2020-05-18</td>\n",
       "      <td>84.0</td>\n",
       "    </tr>\n",
       "  </tbody>\n",
       "</table>\n",
       "<p>674 rows × 3 columns</p>\n",
       "</div>"
      ],
      "text/plain": [
       "    State       date  positive\n",
       "620    WA 2020-01-20       0.0\n",
       "621    WA 2020-01-27       0.0\n",
       "622    WA 2020-02-03       1.0\n",
       "623    WA 2020-02-10       0.0\n",
       "624    WA 2020-02-17       0.0\n",
       "..    ...        ...       ...\n",
       "106    DC 2020-05-18     955.0\n",
       "428    NM 2020-05-18    1005.0\n",
       "416    NJ 2020-05-18    7053.0\n",
       "511    PR 2020-05-18     550.0\n",
       "673    WY 2020-05-18      84.0\n",
       "\n",
       "[674 rows x 3 columns]"
      ]
     },
     "execution_count": 22,
     "metadata": {},
     "output_type": "execute_result"
    }
   ],
   "source": [
    "covid_state"
   ]
  },
  {
   "cell_type": "code",
   "execution_count": 23,
   "metadata": {},
   "outputs": [],
   "source": [
    "# Let's pivot the data, which is required for a heatmap, provinces on the left\n",
    "# and each column is a week\n",
    "covid_state = covid_state.pivot_table(values='positive',index='State',columns='date')"
   ]
  },
  {
   "cell_type": "code",
   "execution_count": 24,
   "metadata": {},
   "outputs": [],
   "source": [
    "# Let's convert all Na to O\n",
    "covid_state.fillna(0, inplace=True)"
   ]
  },
  {
   "cell_type": "code",
   "execution_count": 25,
   "metadata": {},
   "outputs": [
    {
     "data": {
      "text/plain": [
       "DatetimeIndex(['2020-01-20', '2020-01-27', '2020-02-03', '2020-02-10',\n",
       "               '2020-02-17', '2020-02-24', '2020-03-02', '2020-03-09',\n",
       "               '2020-03-16', '2020-03-23', '2020-03-30', '2020-04-06',\n",
       "               '2020-04-13', '2020-04-20', '2020-04-27', '2020-05-04',\n",
       "               '2020-05-11', '2020-05-18'],\n",
       "              dtype='datetime64[ns]', name='date', freq=None)"
      ]
     },
     "execution_count": 25,
     "metadata": {},
     "output_type": "execute_result"
    }
   ],
   "source": [
    "covid_state.columns"
   ]
  },
  {
   "cell_type": "code",
   "execution_count": 26,
   "metadata": {},
   "outputs": [],
   "source": [
    "# Update the column labels so the display is neater in seaborn\n",
    "\n",
    "covid_state.columns = ['2020-01-20', '2020-01-27', '2020-02-03', '2020-02-10',\n",
    "               '2020-02-17', '2020-02-24', '2020-03-02', '2020-03-09',\n",
    "               '2020-03-16', '2020-03-23', '2020-03-30', '2020-04-06',\n",
    "               '2020-04-13', '2020-04-20', '2020-04-27', '2020-05-04',\n",
    "               '2020-05-11', '2020-05-18']"
   ]
  },
  {
   "cell_type": "code",
   "execution_count": 27,
   "metadata": {},
   "outputs": [],
   "source": [
    "# Here we divide each value of each row (provinces) by the sum of the row. \n",
    "# This will normalize each row so that a comparison of each provice is easier.\n",
    "covid_state = covid_state.div(covid_state.sum(axis=1), axis=0)"
   ]
  },
  {
   "cell_type": "code",
   "execution_count": 28,
   "metadata": {},
   "outputs": [],
   "source": [
    "covid_state.fillna(0, inplace=True)"
   ]
  },
  {
   "cell_type": "code",
   "execution_count": 29,
   "metadata": {},
   "outputs": [],
   "source": [
    "# remove the early columns - there are several weeks of very little data\n",
    "# remove the early columns - there are several weeks of very little data\n",
    "covid_state = covid_state.iloc[:,6:]"
   ]
  },
  {
   "cell_type": "code",
   "execution_count": 30,
   "metadata": {},
   "outputs": [],
   "source": [
    "states_dict = {\n",
    "        'AK': 'Alaska',\n",
    "        'AL': 'Alabama',\n",
    "        'AR': 'Arkansas',\n",
    "        'AS': 'American Samoa',\n",
    "        'AZ': 'Arizona',\n",
    "        'CA': 'California',\n",
    "        'CO': 'Colorado',\n",
    "        'CT': 'Connecticut',\n",
    "        'DC': 'District of Columbia',\n",
    "        'DE': 'Delaware',\n",
    "        'FL': 'Florida',\n",
    "        'GA': 'Georgia',\n",
    "        'GU': 'Guam',\n",
    "        'HI': 'Hawaii',\n",
    "        'IA': 'Iowa',\n",
    "        'ID': 'Idaho',\n",
    "        'IL': 'Illinois',\n",
    "        'IN': 'Indiana',\n",
    "        'KS': 'Kansas',\n",
    "        'KY': 'Kentucky',\n",
    "        'LA': 'Louisiana',\n",
    "        'MA': 'Massachusetts',\n",
    "        'MD': 'Maryland',\n",
    "        'ME': 'Maine',\n",
    "        'MI': 'Michigan',\n",
    "        'MN': 'Minnesota',\n",
    "        'MO': 'Missouri',\n",
    "        'MP': 'Northern Mariana Islands',\n",
    "        'MS': 'Mississippi',\n",
    "        'MT': 'Montana',\n",
    "        'NA': 'National',\n",
    "        'NC': 'North Carolina',\n",
    "        'ND': 'North Dakota',\n",
    "        'NE': 'Nebraska',\n",
    "        'NH': 'New Hampshire',\n",
    "        'NJ': 'New Jersey',\n",
    "        'NM': 'New Mexico',\n",
    "        'NV': 'Nevada',\n",
    "        'NY': 'New York',\n",
    "        'OH': 'Ohio',\n",
    "        'OK': 'Oklahoma',\n",
    "        'OR': 'Oregon',\n",
    "        'PA': 'Pennsylvania',\n",
    "        'PR': 'Puerto Rico',\n",
    "        'RI': 'Rhode Island',\n",
    "        'SC': 'South Carolina',\n",
    "        'SD': 'South Dakota',\n",
    "        'TN': 'Tennessee',\n",
    "        'TX': 'Texas',\n",
    "        'UT': 'Utah',\n",
    "        'VA': 'Virginia',\n",
    "        'VI': 'Virgin Islands',\n",
    "        'VT': 'Vermont',\n",
    "        'WA': 'Washington',\n",
    "        'WI': 'Wisconsin',\n",
    "        'WV': 'West Virginia',\n",
    "        'WY': 'Wyoming'\n",
    "}\n",
    "\n",
    "  \n",
    "# Remap the values of the dataframe \n",
    "# Let's replace the index with the state names using the dictionary\n",
    "covid_state.index = covid_state.index.map(states_dict)"
   ]
  },
  {
   "cell_type": "markdown",
   "metadata": {},
   "source": [
    "## Results"
   ]
  },
  {
   "cell_type": "code",
   "execution_count": 31,
   "metadata": {},
   "outputs": [
    {
     "data": {
      "image/png": "[encoded data removed]",
      "text/plain": [
       "<Figure size 936x1440 with 1 Axes>"
      ]
     },
     "metadata": {
      "needs_background": "light"
     },
     "output_type": "display_data"
    }
   ],
   "source": [
    "# Let's create the seaborn heatmap\n",
    "fig, ax = plt.subplots(figsize=(13,20))\n",
    "sns.heatmap(covid_state, cmap='rocket_r', linewidths=1, linecolor='white', cbar=False)\n",
    "ax.set_title('Heatmap of Covid-19 Cases by State by Week')\n",
    "plt.xticks(rotation=90);"
   ]
  },
  {
   "cell_type": "code",
   "execution_count": 32,
   "metadata": {},
   "outputs": [],
   "source": [
    "# We can save the heatmap to a png file to use elsewhere\n",
    "fig.savefig('/home/alexei/ds/eme/pro/Emeritus/projects/covid19/CovidStateWeek.png', bbox_inches='tight')"
   ]
  },
  {
   "cell_type": "markdown",
   "metadata": {},
   "source": [
    "## Conclusions"
   ]
  },
  {
   "cell_type": "markdown",
   "metadata": {},
   "source": [
    "The heatmaps of each country offer some interesting insights. Most provinces are over the hump in that the daily new cases is in decline. However this is not true for Ontatio and especially Quebec where new cases stubbornly have not declined.\n",
    "\n",
    "In the USA most states have declining weekly new cases, especially the two hardest hit states, New York and New Jersey, which have shown a significant drop off in new cases. For some states however the worst seems ahead of them. For example Minnesota, North Carolina and Alabama have shown a steady increase in new cases in recent weeks."
   ]
  },
  {
   "cell_type": "code",
   "execution_count": null,
   "metadata": {},
   "outputs": [],
   "source": []
  }
 ],
 "metadata": {
  "kernelspec": {
   "display_name": "Python 3",
   "language": "python",
   "name": "python3"
  },
  "language_info": {
   "codemirror_mode": {
    "name": "ipython",
    "version": 3
   },
   "file_extension": ".py",
   "mimetype": "text/x-python",
   "name": "python",
   "nbconvert_exporter": "python",
   "pygments_lexer": "ipython3",
   "version": "3.6.9"
  },
  "title": "Weekly Comparison of Canadian Provincial & American State Covid-19 Cases"
 },
 "nbformat": 4,
 "nbformat_minor": 1
}
