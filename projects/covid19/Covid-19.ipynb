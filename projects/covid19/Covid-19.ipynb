{
 "cells": [
  {
   "cell_type": "markdown",
   "metadata": {},
   "source": [
    "# An Visual Analysis of Covid-19 Cases Ontario\n",
    "**Alexei Marcilio**<br>\n",
    "April9,2020\n",
    "<br>\n",
    "<br>\n",
    "The government of Ontario provides compiled data from public health units on confirmed positive cases of COVID-19.\n",
    "I am using that data to produce a quick visualization of the number of cases and fatalities in Ontario. There's only a few columns available, including an age range, the outcome, and the reporting city so there's no value in \n",
    "doing any machine learning analysis. \n",
    "\n",
    "The data can be found here:\n",
    "\n",
    "https://data.ontario.ca/dataset/confirmed-positive-cases-of-covid-19-in-ontario/resource/455fd63b-603d-4608-8216-7d8647f43350"
   ]
  },
  {
   "cell_type": "code",
   "execution_count": null,
   "metadata": {},
   "outputs": [],
   "source": [
    "# Libraries\n",
    "import pandas as pd\n",
    "import matplotlib.pyplot as plt\n",
    "import matplotlib.dates as mdates\n",
    "import matplotlib.ticker as ticker\n",
    "import numpy as np\n",
    "# required python3 -m pip install seaborn\n",
    "import seaborn as sns"
   ]
  },
  {
   "cell_type": "code",
   "execution_count": null,
   "metadata": {},
   "outputs": [],
   "source": [
    "# Import data\n",
    "data = pd.read_csv(\"covid.csv\")"
   ]
  },
  {
   "cell_type": "markdown",
   "metadata": {},
   "source": [
    "## Cases by age"
   ]
  },
  {
   "cell_type": "code",
   "execution_count": null,
   "metadata": {},
   "outputs": [],
   "source": [
    "# pandas dataframe\n",
    "df = pd.DataFrame(data)\n",
    "isknown = df['Age_Group'] != 'Unknown'\n",
    "# Sort Age Groups ~ categorical\n",
    "df['Age_Group'] = pd.Categorical(\n",
    "    df['Age_Group'],\n",
    "    ['<20', '20s', '30s', '40s', '50s', '60s', '70s', '80s', '90s'])\n",
    "df = df[isknown].sort_values(['Age_Group'])\n",
    "df['Age_Group'] = df['Age_Group'].astype('category')\n",
    "fig = sns.countplot(df['Age_Group'], color='green')\n",
    "plt.xlabel(\"Age Group\")\n",
    "plt.ylabel(\"Count\")\n",
    "plt.title(\"Frequency of Covid-19 cases by Age\");"
   ]
  },
  {
   "cell_type": "markdown",
   "metadata": {},
   "source": [
    "If we look at cases by age we can see that the distribution roughly follows the age distribution of Ontario residents. The median age in Ontario is about 40, and it looks like that's approximately the median age of people with covid-19. This might indicate it does discriminate about who gets infected."
   ]
  },
  {
   "cell_type": "markdown",
   "metadata": {},
   "source": [
    "## Cases by Gender "
   ]
  },
  {
   "cell_type": "code",
   "execution_count": null,
   "metadata": {},
   "outputs": [],
   "source": [
    "fig = sns.countplot(df['CLIENT_GENDER'], color='pink', \\\n",
    "                    order = df['CLIENT_GENDER'].value_counts().index)\n",
    "plt.xlabel(\"Gender\")\n",
    "plt.ylabel(\"Count\")\n",
    "plt.title(\"Frequency of Covid-19 cases by Gender\",  fontsize=13)\n",
    "plt.xticks(rotation=90);"
   ]
  },
  {
   "cell_type": "markdown",
   "metadata": {},
   "source": [
    "The number of cases are pretty evenly distributed between males and females."
   ]
  },
  {
   "cell_type": "markdown",
   "metadata": {},
   "source": [
    "## Cases by City"
   ]
  },
  {
   "cell_type": "code",
   "execution_count": null,
   "metadata": {},
   "outputs": [],
   "source": [
    "fig = sns.countplot(df['Reporting_PHU_City'], color='blue', \\\n",
    "                    order = df['Reporting_PHU_City'].value_counts().index)\n",
    "plt.xlabel(\"City\")\n",
    "plt.ylabel(\"Count\")\n",
    "plt.title(\"Frequency of Covid-19 cases by City\")\n",
    "plt.xticks(rotation=90);"
   ]
  },
  {
   "cell_type": "markdown",
   "metadata": {},
   "source": [
    "It's no surprise that Toronto has the most Covid-19 cases, but it does not nearly have the most cases per capita. Newmarket has the third most number of cases, more than Ottawa, a city that is ten times its size."
   ]
  },
  {
   "cell_type": "markdown",
   "metadata": {},
   "source": [
    "## Fatalities by Age"
   ]
  },
  {
   "cell_type": "code",
   "execution_count": null,
   "metadata": {},
   "outputs": [],
   "source": [
    "is_fatal = df['OUTCOME1'] == 'Fatal'\n",
    "dfFatal = df[is_fatal]\n",
    "fig = sns.countplot(dfFatal['Age_Group'], color='green')\n",
    "plt.xlabel(\"Age Group\")\n",
    "plt.ylabel(\"Count\")\n",
    "plt.title(\"Frequency of Fatalities of Covid-19 by Age\", fontsize=13);"
   ]
  },
  {
   "cell_type": "markdown",
   "metadata": {},
   "source": [
    "The vast majority of deaths are of people over 70. There have been no fatalities in Ontario for those under 40."
   ]
  },
  {
   "cell_type": "markdown",
   "metadata": {},
   "source": [
    "## Fatalities by Gender"
   ]
  },
  {
   "cell_type": "code",
   "execution_count": null,
   "metadata": {},
   "outputs": [],
   "source": [
    "fig = sns.countplot(dfFatal['CLIENT_GENDER'], color='purple', \\\n",
    "                    order = dfFatal['CLIENT_GENDER'].value_counts().index)\n",
    "plt.xlabel(\"Gender\")\n",
    "plt.ylabel(\"Count\")\n",
    "plt.title(\"Fatalities of Covid-19 cases by Gender\",  fontsize=13)\n",
    "plt.xticks(rotation=90);"
   ]
  },
  {
   "cell_type": "markdown",
   "metadata": {},
   "source": [
    "We can see that slightly more males died from Covid-19 than females despite there being more female cases."
   ]
  },
  {
   "cell_type": "markdown",
   "metadata": {},
   "source": [
    "## Fatalities by City\n"
   ]
  },
  {
   "cell_type": "code",
   "execution_count": null,
   "metadata": {},
   "outputs": [],
   "source": [
    "fig = sns.countplot(dfFatal['Reporting_PHU_City'], color='blue', \\\n",
    "                    order = dfFatal['Reporting_PHU_City'].value_counts().index)\n",
    "plt.xlabel(\"City\")\n",
    "plt.ylabel(\"Count\")\n",
    "plt.title(\"Frequency of Covid-19 Fatalities by City\", fontsize=13)\n",
    "plt.xticks(rotation=90);"
   ]
  },
  {
   "cell_type": "markdown",
   "metadata": {},
   "source": [
    "Toronto has the most fatalities, but certainly not the most per capita. Newmarket is a hotspot with the second highest number of fatalities in Ontario despite having less than 100,000 people."
   ]
  },
  {
   "cell_type": "markdown",
   "metadata": {},
   "source": [
    "## Cases over Time"
   ]
  },
  {
   "cell_type": "code",
   "execution_count": null,
   "metadata": {},
   "outputs": [],
   "source": [
    "# Convert string to date\n",
    "df['ACCURATE_EPISODE_DATE'] = pd.to_datetime(df['ACCURATE_EPISODE_DATE'])"
   ]
  },
  {
   "cell_type": "markdown",
   "metadata": {},
   "source": [
    "### Cases by Date"
   ]
  },
  {
   "cell_type": "code",
   "execution_count": null,
   "metadata": {},
   "outputs": [],
   "source": [
    "fig = sns.countplot(df['ACCURATE_EPISODE_DATE'], color='orange')\n",
    "plt.xlabel(\"Date\")\n",
    "plt.ylabel(\"Count\")\n",
    "plt.title(\"Frequency of Covid-19 cases by Date\", fontsize=14)\n",
    "plt.xticks(rotation=90)\n",
    "x_dates = df['ACCURATE_EPISODE_DATE'].dt.strftime(\n",
    "    '%Y-%m-%d').sort_values().unique()\n",
    "fig.set_xticklabels(labels=x_dates, rotation=90, ha='right')\n",
    "new_ticks = [i.get_text() for i in fig.get_xticklabels()]\n",
    "plt.xticks(range(0, len(new_ticks), 5), new_ticks[::5]);"
   ]
  },
  {
   "cell_type": "markdown",
   "metadata": {},
   "source": [
    "It's hard to say if the number of cases are leveling off. The steep decline in numbers is probably due to a backlog in updated the government data website."
   ]
  },
  {
   "cell_type": "markdown",
   "metadata": {},
   "source": [
    "### Fatalities by Date"
   ]
  },
  {
   "cell_type": "code",
   "execution_count": null,
   "metadata": {},
   "outputs": [],
   "source": [
    "# Add column for fatal: 1,0\n",
    "df['Fatal'] = df['OUTCOME1'].apply(lambda x: 1 if x == 'Fatal' else 0)\n",
    "\n",
    "df['ACCURATE_EPISODE_DATE'] = pd.to_datetime(df['ACCURATE_EPISODE_DATE']).dt.date"
   ]
  },
  {
   "cell_type": "code",
   "execution_count": null,
   "metadata": {},
   "outputs": [],
   "source": [
    "g = df.groupby(['ACCURATE_EPISODE_DATE'])['Fatal'].sum().plot()\n",
    "plt.xlabel(\"Date\")\n",
    "plt.ylabel(\"Count\")\n",
    "plt.title(\"Frequency of Covid-19 Fatalities by Date\", fontsize=14)\n",
    "plt.xticks(rotation=90);"
   ]
  },
  {
   "cell_type": "markdown",
   "metadata": {},
   "source": [
    "The spike in fatalities levels off, which is probably due to latency in the government data. There has also been news about a backlog of tests, and this could be reason for this apparent decline."
   ]
  },
  {
   "cell_type": "markdown",
   "metadata": {},
   "source": [
    "### Heatmap of Cases by City over Time"
   ]
  },
  {
   "cell_type": "code",
   "execution_count": null,
   "metadata": {},
   "outputs": [],
   "source": [
    "grouped_cases = df.groupby(['Reporting_PHU_City', 'ACCURATE_EPISODE_DATE'\n",
    "                               ]).agg({'ROW_ID': ['count']})\n",
    "\n",
    "grouped_cases.columns = ['TotalCases']\n",
    "grouped_cases = grouped_cases.reset_index()"
   ]
  },
  {
   "cell_type": "code",
   "execution_count": null,
   "metadata": {},
   "outputs": [],
   "source": [
    "# Build Heatmap\n",
    "grouped_cases.columns = ['City', 'Date', 'TotalCases']\n",
    "\n",
    "#Pivot table for heatmap\n",
    "heatmap1_data = pd.pivot_table(grouped_cases,\n",
    "                               values='TotalCases',\n",
    "                               index=['City'],\n",
    "                               columns='Date',\n",
    "                               fill_value=0)\n",
    "\n",
    "#heatmap1_data['Date'] = pd.heatmap1_data(df['Date']).dt.date\n",
    "\n",
    "#heatmap1_data['Date'] = heatmap1_data.Date.astype('string')\n",
    "plt.subplots(figsize=(10, 12))\n",
    "ax = sns.heatmap(heatmap1_data,\n",
    "                 annot=False,\n",
    "                 fmt=\"d\",\n",
    "                 linewidths=0,\n",
    "                 cmap=\"OrRd\")\n",
    "\n",
    "ax.set_title('Heatmap of Covid-19 Cases by City', fontsize=14);"
   ]
  },
  {
   "cell_type": "markdown",
   "metadata": {},
   "source": [
    "There's a clear increase in cases over time, with some cities such as Toronto and Mississauga showing large increases more recently. \n",
    "\n",
    "It's likely that the decrease in cases in the most recent days are due to a delay by the government in posting the data."
   ]
  },
  {
   "cell_type": "markdown",
   "metadata": {},
   "source": [
    "### Heatmap of Fatalities by City over Time"
   ]
  },
  {
   "cell_type": "code",
   "execution_count": null,
   "metadata": {},
   "outputs": [],
   "source": [
    "#g = df.groupby(['Reporting_PHU_City','ACCURATE_EPISODE_DATE'])['Fatal'].sum()"
   ]
  },
  {
   "cell_type": "code",
   "execution_count": null,
   "metadata": {},
   "outputs": [],
   "source": [
    "# Aggregate columns\n",
    "grouped_multiple = df.groupby(['Reporting_PHU_City', 'ACCURATE_EPISODE_DATE'\n",
    "                               ]).agg({'Fatal': ['sum']})\n",
    "grouped_multiple.columns = ['totalFatal']\n",
    "grouped_multiple = grouped_multiple.reset_index()"
   ]
  },
  {
   "cell_type": "code",
   "execution_count": null,
   "metadata": {},
   "outputs": [],
   "source": [
    "# Rename columns\n",
    "grouped_multiple.columns = ['City', 'Date', 'Fatalities']\n",
    "#Pivot table for heatmap\n",
    "heatmap1_data = pd.pivot_table(grouped_multiple,\n",
    "                               values='Fatalities',\n",
    "                               index=['City'],\n",
    "                               columns='Date',\n",
    "                               fill_value=0)\n",
    "plt.subplots(figsize=(10, 12))\n",
    "#ax.set_xticklabels(heatmap1_data['Date'].dt.strftime('%Y-%m-%d'))\n",
    "\n",
    "ax = sns.heatmap(heatmap1_data,\n",
    "                 annot=False,\n",
    "                 fmt=\"d\",\n",
    "                 linewidths=0,\n",
    "                 cmap=\"OrRd\")\n",
    "ax.set_title('Heatmap of Covid-19 Fatalities by City', fontsize=14);"
   ]
  },
  {
   "cell_type": "markdown",
   "metadata": {},
   "source": [
    "The heatmap above shows the progression of fatalities over time. \n",
    "\n",
    "We can see that some cities had a fatality, and then no more followed, such as Stratford, and other cities such as Newmarket show an increase in fatalities."
   ]
  }
 ],
 "metadata": {
  "kernelspec": {
   "display_name": "Python 3",
   "language": "python",
   "name": "python3"
  },
  "language_info": {
   "codemirror_mode": {
    "name": "ipython",
    "version": 3
   },
   "file_extension": ".py",
   "mimetype": "text/x-python",
   "name": "python",
   "nbconvert_exporter": "python",
   "pygments_lexer": "ipython3",
   "version": "3.8.0"
  },
  "latex_envs": {
   "LaTeX_envs_menu_present": true,
   "autoclose": false,
   "autocomplete": true,
   "bibliofile": "biblio.bib",
   "cite_by": "apalike",
   "current_citInitial": 1,
   "eqLabelWithNumbers": true,
   "eqNumInitial": 1,
   "hotkeys": {
    "equation": "Ctrl-E",
    "itemize": "Ctrl-I"
   },
   "labels_anchors": false,
   "latex_user_defs": false,
   "report_style_numbering": false,
   "user_envs_cfg": false
  },
  "toc": {
   "base_numbering": 1,
   "nav_menu": {},
   "number_sections": false,
   "sideBar": true,
   "skip_h1_title": false,
   "title_cell": "Table of Contents",
   "title_sidebar": "Contents",
   "toc_cell": false,
   "toc_position": {},
   "toc_section_display": true,
   "toc_window_display": false
  }
 },
 "nbformat": 4,
 "nbformat_minor": 4
}
