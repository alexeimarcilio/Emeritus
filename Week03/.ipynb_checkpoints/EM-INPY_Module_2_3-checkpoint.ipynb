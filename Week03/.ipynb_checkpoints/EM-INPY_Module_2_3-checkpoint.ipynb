{
 "cells": [
  {
   "cell_type": "markdown",
   "metadata": {
    "deletable": false,
    "editable": false,
    "nbgrader": {
     "grade": false,
     "locked": true,
     "solution": false
    }
   },
   "source": [
    "# Modules 2 and 3 - Working with Data Types and Operators in Python and Writing Functions in Python\n",
    "\n",
    "**_Author: Jessica Cervi_**\n",
    "\n",
    "**Expected time = 1.5 hours**\n",
    "\n",
    "**Total points = 135 points**"
   ]
  },
  {
   "cell_type": "markdown",
   "metadata": {
    "deletable": false,
    "editable": false,
    "nbgrader": {
     "grade": false,
     "locked": true,
     "solution": false
    }
   },
   "source": [
    "## Assignment Overview\n",
    "\n",
    "\n",
    "In this assignment, you will work with the Python data types you learned in Module 2, such as integers, floats, booleans, lists, tuples, and dictionaries. You will also practice using comparison and logical operators. In the second half of the assignment, you will apply what you have learned in Module 3 to use built-in and user-defined functions. You will also work with loops and conditional statements. Before you begin the assignment, review the instructions below and complete Question 0 to practice using Vocareum.\n",
    "\n",
    "\n",
    "This assignment is designed to build your familiarity and comfort coding in Python while also helping you review key topics from each module. As you progress through the assignment, answers will get increasingly complex. It is important that you adopt a data scientist's mindset when completing this assignment. **Remember to run your code from each cell before submitting your assignment.** Running your code beforehand will notify you of errors and give you a chance to fix them before submitting. You should view your Vocareum submission as if you are delivering a final project to your manager or client. \n",
    "\n",
    "\n",
    "**Vocareum Tips**\n",
    "\n",
    "- Do not add arguments or options to functions unless you are specifically asked to. This will cause an error in Vocareum.\n",
    "- Do not use a library unless you are expicitly asked to in the question.\n",
    "- You can download the Grading Report after submitting the assignment. This will include feedback and hints on incorrect questions.\n",
    "\n",
    "### Learning Objectives\n",
    "\n",
    "\n",
    "- Use Jupyter Notebooks to begin programming in Python.  \n",
    "- Identify Python data types, including strings, integers, floats, booleans, lists, and tuples. \n",
    "- Explain the operations that can be performed on a given data type.  \n",
    "- Examine the benefits and limitations of using lists, tuples, and dictionaries to store and organize your data. \n",
    "- Explain the benefits of functions in performing specified tasks in Python.  \n",
    "- Use built-in functions to perform common tasks in Python.  \n",
    "- Use methods to perform analyses on specific data types.  \n",
    "- Create custom functions to perform custom analyses relevant to the dataset or research question. "
   ]
  },
  {
   "cell_type": "markdown",
   "metadata": {
    "deletable": false,
    "editable": false,
    "nbgrader": {
     "grade": false,
     "locked": true,
     "solution": false
    }
   },
   "source": [
    "\n",
    "\n",
    "## Index:\n",
    "\n",
    "#### Module 2: Working with data types and operators in Python\n",
    "\n",
    "- [Question 1](#Question-1)\n",
    "- [Question 2](#Question-2)\n",
    "- [Question 3](#Question-3)\n",
    "- [Question 4](#Question-4)\n",
    "- [Question 5](#Question-5)\n",
    "- [Question 6](#Question-6)\n",
    "- [Question 7](#Question-7)\n",
    "- [Question 8](#Question-8)\n",
    "- [Question 9](#Question-9)\n",
    "- [Question 10](#Question-10)\n",
    "- [Question 11](#Question-11)\n",
    "- [Question 12](#Question-12)\n",
    "\n",
    "\n",
    "#### Module 3: Writing functions in Python\n",
    "- [Question 13](#Question-13)\n",
    "- [Question 14](#Question-14)\n",
    "- [Question 15](#Question-15)\n",
    "- [Question 16](#Question-16)\n",
    "- [Question 16](#Question-16)\n",
    "- [Question 17](#Question-17)\n",
    "- [Question 18](#Question-18)\n",
    "- [Question 19](#Question-19)\n",
    "- [Question 20](#Question-20)"
   ]
  },
  {
   "cell_type": "markdown",
   "metadata": {
    "deletable": false,
    "editable": false,
    "nbgrader": {
     "grade": false,
     "locked": true,
     "solution": false
    }
   },
   "source": [
    "## Instructions:\n",
    "\n",
    "All the questions in the assigments will be graded automatically and you will have the chance to fix your solutions many times in order to get the expected output. Make sure to follow the steps carefully (and don't delete or change anything unless you're asked to).\n",
    "\n",
    "Question 0 is designed and solved for you to understand how to complete this and the next assignments.\n",
    "\n",
    "Below you can see the structure of the questions. In the markdown cell just before the question, you will see the question number and the description of what has been asked. \n",
    "\n",
    "Next, there is a code cell starting with the comment: `### GRADED`. This means that the cell will  be autograded.\n",
    "\n",
    "The line `###BEGIN SOLUTION` tells you where to write your solution. You can use as many auxiliary variables and additional codes as you need. Note that we have already initialized the answer variables that you will need for you final answer. These variables and assigned them to `None`. This is to avoid errors when typing the variable names that contain the results. You can replace the value `None` with the actual answer or redefine it below.\n",
    "\n",
    "Finally, you will see a second code cell with the autograded solution. **DO NOT CHANGE ANYTHING IN THAT CELL**\n",
    "\n",
    "\n",
    "### Question 0:\n",
    "Assign the String `\"hello\"` to the variable `var`:\n",
    "\n",
    "\n"
   ]
  },
  {
   "cell_type": "code",
   "execution_count": null,
   "metadata": {
    "collapsed": true,
    "deletable": false,
    "editable": false,
    "nbgrader": {
     "grade": false,
     "locked": true,
     "solution": false
    }
   },
   "outputs": [],
   "source": [
    "### GRADED\n",
    "\n",
    "### YOUR SOLUTION HERE\n",
    "var = None ## edit code here, i.e., set var = \"hello\"\n",
    "\n",
    "###\n",
    "### YOUR CODE HERE\n",
    "###\n"
   ]
  },
  {
   "cell_type": "code",
   "execution_count": null,
   "metadata": {
    "collapsed": true,
    "deletable": false,
    "editable": false,
    "nbgrader": {
     "grade": false,
     "locked": true,
     "solution": false
    }
   },
   "outputs": [],
   "source": [
    "###\n",
    "### AUTOGRADER TEST - DO NOT REMOVE\n",
    "###\n"
   ]
  },
  {
   "cell_type": "markdown",
   "metadata": {
    "deletable": false,
    "editable": false,
    "nbgrader": {
     "grade": false,
     "locked": true,
     "solution": false
    }
   },
   "source": [
    "\n",
    "## Module 2: Data types\n",
    "\n",
    "In the first part of this assignment, we will be testing your knowledge of the topics covered in Module 2, such as basic data types (`int`, `floats`, and `str`) as well as lists, tuples, and dictonaries."
   ]
  },
  {
   "cell_type": "markdown",
   "metadata": {
    "deletable": false,
    "editable": false,
    "nbgrader": {
     "grade": false,
     "locked": true,
     "solution": false
    }
   },
   "source": [
    "## Floats\n",
    "\n",
    "As you have learned, float are data types designed to store decimal numbers.\n",
    "\n",
    "[Back to top](#Index:) \n",
    "\n",
    "### Question 1\n",
    "\n",
    "5 points\n",
    "\n",
    "Assign the value of 175 multiplied by 16.28 to the variable `ans1` and make sure it's stored as a float."
   ]
  },
  {
   "cell_type": "code",
   "execution_count": null,
   "metadata": {
    "collapsed": true,
    "nbgrader": {
     "grade": false,
     "locked": false,
     "solution": false
    }
   },
   "outputs": [],
   "source": [
    "### GRADED\n",
    "\n",
    "### YOUR SOLUTION HERE\n",
    "ans1 = None\n",
    "\n",
    "###\n",
    "### YOUR CODE HERE\n",
    "###\n"
   ]
  },
  {
   "cell_type": "code",
   "execution_count": null,
   "metadata": {
    "collapsed": true,
    "deletable": false,
    "editable": false,
    "nbgrader": {
     "grade": true,
     "grade_id": "Question 01",
     "locked": true,
     "points": "5",
     "solution": false
    }
   },
   "outputs": [],
   "source": [
    "###\n",
    "### AUTOGRADER TEST - DO NOT REMOVE\n",
    "###\n"
   ]
  },
  {
   "cell_type": "markdown",
   "metadata": {
    "deletable": false,
    "editable": false,
    "nbgrader": {
     "grade": false,
     "locked": true,
     "solution": false
    }
   },
   "source": [
    "[Back to top](#Index:) \n",
    "\n",
    "### Question 2\n",
    "5 points\n",
    "\n",
    "Assign the value of 572 divided by 8.73 to the variable `ans2` and make sure it's stored as a float."
   ]
  },
  {
   "cell_type": "code",
   "execution_count": null,
   "metadata": {
    "collapsed": true,
    "nbgrader": {
     "grade": false,
     "locked": false,
     "solution": false
    }
   },
   "outputs": [],
   "source": [
    "### GRADED\n",
    "\n",
    "### YOUR SOLUTION HERE\n",
    "ans2 = None\n",
    "\n",
    "###\n",
    "### YOUR CODE HERE\n",
    "###\n"
   ]
  },
  {
   "cell_type": "code",
   "execution_count": null,
   "metadata": {
    "collapsed": true,
    "deletable": false,
    "editable": false,
    "nbgrader": {
     "grade": true,
     "grade_id": "Question 02",
     "locked": true,
     "points": "5",
     "solution": false
    }
   },
   "outputs": [],
   "source": [
    "###\n",
    "### AUTOGRADER TEST - DO NOT REMOVE\n",
    "###\n"
   ]
  },
  {
   "cell_type": "markdown",
   "metadata": {
    "deletable": false,
    "editable": false,
    "nbgrader": {
     "grade": false,
     "locked": true,
     "solution": false
    }
   },
   "source": [
    "## Strings\n",
    "\n",
    "Strings are data types designed to contain single characters or a series of them, such as words or sentences.\n",
    "\n",
    "[Back to top](#Index:)  \n",
    "\n",
    "### Question 3\n",
    "5 points\n",
    "\n",
    "Assign the sentence \"I am a student\" as a string to the variable `ans3`."
   ]
  },
  {
   "cell_type": "code",
   "execution_count": null,
   "metadata": {
    "collapsed": true
   },
   "outputs": [],
   "source": [
    "### GRADED\n",
    "\n",
    "### YOUR SOLUTION HERE\n",
    "ans3 = None\n",
    "\n",
    "###\n",
    "### YOUR CODE HERE\n",
    "###\n"
   ]
  },
  {
   "cell_type": "code",
   "execution_count": null,
   "metadata": {
    "collapsed": true,
    "deletable": false,
    "editable": false,
    "nbgrader": {
     "grade": true,
     "grade_id": "Question 03",
     "locked": true,
     "points": "5",
     "solution": false
    }
   },
   "outputs": [],
   "source": [
    "###\n",
    "### AUTOGRADER TEST - DO NOT REMOVE\n",
    "###\n"
   ]
  },
  {
   "cell_type": "markdown",
   "metadata": {
    "deletable": false,
    "editable": false,
    "nbgrader": {
     "grade": false,
     "locked": true,
     "solution": false
    }
   },
   "source": [
    "## Converting Data Types\n",
    "\n",
    "As you have learned, int are data types designed to store integer numbers.\n",
    "\n",
    "[Back to top](#Index:) \n",
    "\n",
    "### Question 4\n",
    "\n",
    "5 points\n",
    "\n",
    "Assign the value of 25.927 to the variable `ans4` and convert it to an integer."
   ]
  },
  {
   "cell_type": "code",
   "execution_count": null,
   "metadata": {
    "collapsed": true
   },
   "outputs": [],
   "source": [
    "### GRADED\n",
    "\n",
    "### YOUR SOLUTION HERE\n",
    "ans4 = None\n",
    "\n",
    "###\n",
    "### YOUR CODE HERE\n",
    "###\n"
   ]
  },
  {
   "cell_type": "code",
   "execution_count": null,
   "metadata": {
    "collapsed": true,
    "deletable": false,
    "editable": false,
    "nbgrader": {
     "grade": true,
     "grade_id": " Question 04",
     "locked": true,
     "points": "5",
     "solution": false
    }
   },
   "outputs": [],
   "source": [
    "###\n",
    "### AUTOGRADER TEST - DO NOT REMOVE\n",
    "###\n"
   ]
  },
  {
   "cell_type": "markdown",
   "metadata": {
    "deletable": false,
    "editable": false,
    "nbgrader": {
     "grade": false,
     "locked": true,
     "solution": false
    }
   },
   "source": [
    "## Lists\n",
    "\n",
    "In Python, a list is a collection of elements which is ordered and **changeable**. Lists can contain integers, floats, strings, other lists, and so on.\n",
    "\n",
    "[Back to top](#Index:) \n",
    "\n",
    "### Question 5\n",
    "\n",
    "5 points\n",
    "\n",
    "Create a list with the numbers `1,4,9,16,25` and assign it to a variable called `list_1`."
   ]
  },
  {
   "cell_type": "code",
   "execution_count": null,
   "metadata": {
    "collapsed": true,
    "nbgrader": {
     "grade": false,
     "locked": false,
     "solution": false
    }
   },
   "outputs": [],
   "source": [
    "### GRADED\n",
    "\n",
    "### YOUR SOLUTION HERE\n",
    "list_1 = None\n",
    "\n",
    "###\n",
    "### YOUR CODE HERE\n",
    "###\n"
   ]
  },
  {
   "cell_type": "code",
   "execution_count": null,
   "metadata": {
    "collapsed": true,
    "deletable": false,
    "editable": false,
    "nbgrader": {
     "grade": true,
     "grade_id": " Question 05",
     "locked": true,
     "points": "5",
     "solution": false
    }
   },
   "outputs": [],
   "source": [
    "###\n",
    "### AUTOGRADER TEST - DO NOT REMOVE\n",
    "###\n"
   ]
  },
  {
   "cell_type": "markdown",
   "metadata": {
    "deletable": false,
    "editable": false,
    "nbgrader": {
     "grade": false,
     "locked": true,
     "solution": false
    }
   },
   "source": [
    "[Back to top](#Index:) \n",
    "\n",
    "### Question 6\n",
    "\n",
    "5 points\n",
    "\n",
    "Create a list with the elements: `1, \"Hello\", 14, 5.6` and assign it to a variable called `list_2`. "
   ]
  },
  {
   "cell_type": "code",
   "execution_count": null,
   "metadata": {
    "collapsed": true
   },
   "outputs": [],
   "source": [
    "### GRADED\n",
    "\n",
    "### YOUR SOLUTION HERE\n",
    "list_2 = None\n",
    "\n",
    "###\n",
    "### YOUR CODE HERE\n",
    "###\n"
   ]
  },
  {
   "cell_type": "code",
   "execution_count": null,
   "metadata": {
    "collapsed": true,
    "deletable": false,
    "editable": false,
    "nbgrader": {
     "grade": true,
     "grade_id": " Question 06",
     "locked": true,
     "points": "5",
     "solution": false
    }
   },
   "outputs": [],
   "source": [
    "###\n",
    "### AUTOGRADER TEST - DO NOT REMOVE\n",
    "###\n"
   ]
  },
  {
   "cell_type": "markdown",
   "metadata": {
    "deletable": false,
    "editable": false,
    "nbgrader": {
     "grade": false,
     "locked": true,
     "solution": false
    }
   },
   "source": [
    "It is also possible to define nested lists (i.e., a list inside another list). Additionally, lists can have repeated elements.\n",
    "\n",
    "[Back to top](#Index:) \n",
    "\n",
    "### Question 7\n",
    "\n",
    "5 points \n",
    "\n",
    "Given `list_3 = [3,4,5]`, create a nested list that includes the elements `\"Columbia\", 11, 24.5, 3, list_3` and assign it to a variable called `list_4`."
   ]
  },
  {
   "cell_type": "code",
   "execution_count": null,
   "metadata": {
    "collapsed": true
   },
   "outputs": [],
   "source": [
    "### GRADED\n",
    "list_3 = [3,4,5]\n",
    "\n",
    "### YOUR SOLUTION HERE\n",
    "list_4 = None\n",
    "\n",
    "###\n",
    "### YOUR CODE HERE\n",
    "###\n"
   ]
  },
  {
   "cell_type": "code",
   "execution_count": null,
   "metadata": {
    "collapsed": true,
    "deletable": false,
    "editable": false,
    "nbgrader": {
     "grade": true,
     "grade_id": " Question 07",
     "locked": true,
     "points": "5",
     "solution": false
    }
   },
   "outputs": [],
   "source": [
    "###\n",
    "### AUTOGRADER TEST - DO NOT REMOVE\n",
    "###\n"
   ]
  },
  {
   "cell_type": "markdown",
   "metadata": {
    "deletable": false,
    "editable": false,
    "nbgrader": {
     "grade": false,
     "locked": true,
     "solution": false
    }
   },
   "source": [
    "You can access the list items by referring to the index number. Remember, Python starts counting from 0, **not 1**. Additionally, negative indexing means beginning from the end: -1 refers to the last item, -2 refers to the second last item, etc.\n",
    "\n",
    "[Back to top](#Index:) \n",
    "\n",
    "### Question 8\n",
    "5 points\n",
    "\n",
    "Given `list_5 = [3,4,5,6,7,8,9]`, access the last element of the list and assign it to the variable `list_5_elem`."
   ]
  },
  {
   "cell_type": "code",
   "execution_count": null,
   "metadata": {
    "collapsed": true
   },
   "outputs": [],
   "source": [
    "### GRADED\n",
    "list_5 = [3,4,5,6,7,8,9]\n",
    "\n",
    "### YOUR SOLUTION HERE\n",
    "list_5_elem = None\n",
    "\n",
    "###\n",
    "### YOUR CODE HERE\n",
    "###\n"
   ]
  },
  {
   "cell_type": "code",
   "execution_count": null,
   "metadata": {
    "collapsed": true,
    "deletable": false,
    "editable": false,
    "nbgrader": {
     "grade": true,
     "grade_id": " Question 08",
     "locked": true,
     "points": "5",
     "solution": false
    }
   },
   "outputs": [],
   "source": [
    "###\n",
    "### AUTOGRADER TEST - DO NOT REMOVE\n",
    "###\n"
   ]
  },
  {
   "cell_type": "markdown",
   "metadata": {
    "deletable": false,
    "editable": false,
    "nbgrader": {
     "grade": false,
     "locked": true,
     "solution": false
    }
   },
   "source": [
    "[Back to top](#Index:)  \n",
    "\n",
    "### Question 9\n",
    "5 points\n",
    "\n",
    "\n",
    "Define `list_6 = [10,20,30,\"Hello\", 5.82,1,\"student\", \"Python\"]` and delete the third last element on the list."
   ]
  },
  {
   "cell_type": "code",
   "execution_count": null,
   "metadata": {
    "collapsed": true
   },
   "outputs": [],
   "source": [
    "# GRADED\n",
    "\n",
    "\n",
    "### YOUR SOLUTION HERE\n",
    "list_6 = None\n",
    "\n",
    "###\n",
    "### YOUR CODE HERE\n",
    "###\n"
   ]
  },
  {
   "cell_type": "code",
   "execution_count": null,
   "metadata": {
    "collapsed": true,
    "deletable": false,
    "editable": false,
    "nbgrader": {
     "grade": true,
     "grade_id": " Question 09",
     "locked": true,
     "points": "5",
     "solution": false
    }
   },
   "outputs": [],
   "source": [
    "###\n",
    "### AUTOGRADER TEST - DO NOT REMOVE\n",
    "###\n"
   ]
  },
  {
   "cell_type": "markdown",
   "metadata": {
    "deletable": false,
    "editable": false,
    "nbgrader": {
     "grade": false,
     "locked": true,
     "solution": false
    }
   },
   "source": [
    "## Tuples\n",
    "\n",
    "A tuple is a collection which is ordered and **unchangeable**. In the same way as lists, tuples allow duplicate members.\n",
    "\n",
    "[Back to top](#Index:) \n",
    "\n",
    "### Question 10\n",
    "\n",
    "10 points\n",
    "\n",
    "Create a tuple with elements from 10 to 20 and assign it to the variable 'tuple_1'. Get the first 3 values and assign them to a variable called `sliced_tuple_1`."
   ]
  },
  {
   "cell_type": "code",
   "execution_count": null,
   "metadata": {
    "collapsed": true
   },
   "outputs": [],
   "source": [
    "### GRADED\n",
    "\n",
    "### YOUR SOLUTION HERE\n",
    "tuple_1 = None\n",
    "sliced_tuple_1 =None\n",
    "\n",
    "###\n",
    "### YOUR CODE HERE\n",
    "###\n"
   ]
  },
  {
   "cell_type": "code",
   "execution_count": null,
   "metadata": {
    "collapsed": true,
    "deletable": false,
    "editable": false,
    "nbgrader": {
     "grade": true,
     "grade_id": " Question 10",
     "locked": true,
     "points": "10",
     "solution": false
    }
   },
   "outputs": [],
   "source": [
    "###\n",
    "### AUTOGRADER TEST - DO NOT REMOVE\n",
    "###\n"
   ]
  },
  {
   "cell_type": "markdown",
   "metadata": {
    "deletable": false,
    "editable": false,
    "nbgrader": {
     "grade": false,
     "locked": true,
     "solution": false
    }
   },
   "source": [
    "## Dictionaries\n",
    "\n",
    "A very important data type in Python is dictonary. A dictionary is a collection which is unordered, changeable, and indexed. \n",
    "\n",
    "A dictionary holds a `key:value` pair. Each key-value pair in a dictionary is separated by  a `:`, whereas each key is separated by a `,`. Keys in a dictonary must be unique, but values can repeat themselves.\n",
    "\n",
    "[Back to top](#Index:) \n",
    "\n",
    "### Question 11\n",
    "\n",
    "10 points\n",
    "\n",
    "\n",
    "Create a dictionary with a key \"name\" with value \"Andrew\" and a key \"age\" with value 25. Assign it to a variable called `dict_1`."
   ]
  },
  {
   "cell_type": "code",
   "execution_count": null,
   "metadata": {
    "collapsed": true
   },
   "outputs": [],
   "source": [
    "### GRADED\n",
    "\n",
    "### YOUR SOLUTION HERE\n",
    "dict_1 = None\n",
    "\n",
    "###\n",
    "### YOUR CODE HERE\n",
    "###\n"
   ]
  },
  {
   "cell_type": "code",
   "execution_count": null,
   "metadata": {
    "collapsed": true,
    "deletable": false,
    "editable": false,
    "nbgrader": {
     "grade": true,
     "grade_id": " Question 11",
     "locked": true,
     "points": "10",
     "solution": false
    }
   },
   "outputs": [],
   "source": [
    "###\n",
    "### AUTOGRADER TEST - DO NOT REMOVE\n",
    "###\n"
   ]
  },
  {
   "cell_type": "markdown",
   "metadata": {
    "deletable": false,
    "editable": false,
    "nbgrader": {
     "grade": false,
     "locked": true,
     "solution": false
    }
   },
   "source": [
    "[Back to top](#Index:) \n",
    "\n",
    "### Question 12\n",
    "\n",
    "5 points\n",
    "\n",
    "Create a new key `\"city\"` in `dict_1` and assign the value `\"Seattle\"` to it."
   ]
  },
  {
   "cell_type": "code",
   "execution_count": null,
   "metadata": {
    "collapsed": true,
    "nbgrader": {
     "grade": false,
     "locked": false,
     "solution": false
    }
   },
   "outputs": [],
   "source": [
    "### GRADED\n",
    "\n",
    "### YOUR SOLUTION HERE\n",
    "\n",
    "###\n",
    "### YOUR CODE HERE\n",
    "###\n"
   ]
  },
  {
   "cell_type": "code",
   "execution_count": null,
   "metadata": {
    "collapsed": true,
    "deletable": false,
    "editable": false,
    "nbgrader": {
     "grade": true,
     "grade_id": " Question 12",
     "locked": true,
     "points": "5",
     "solution": false
    }
   },
   "outputs": [],
   "source": [
    "###\n",
    "### AUTOGRADER TEST - DO NOT REMOVE\n",
    "###\n"
   ]
  },
  {
   "cell_type": "markdown",
   "metadata": {
    "deletable": false,
    "editable": false,
    "nbgrader": {
     "grade": false,
     "locked": true,
     "solution": false
    }
   },
   "source": [
    "[Back to top](#Index:) \n",
    "\n",
    "### Question 13\n",
    "5 points\n",
    "\n",
    "Change the value of `\"city\"` to `\"New York\"` in `dict_1`. "
   ]
  },
  {
   "cell_type": "code",
   "execution_count": null,
   "metadata": {
    "collapsed": true
   },
   "outputs": [],
   "source": [
    "### GRADED\n",
    "\n",
    "### YOUR SOLUTION HERE\n",
    "\n",
    "###\n",
    "### YOUR CODE HERE\n",
    "###\n"
   ]
  },
  {
   "cell_type": "code",
   "execution_count": null,
   "metadata": {
    "collapsed": true,
    "deletable": false,
    "editable": false,
    "nbgrader": {
     "grade": true,
     "grade_id": " Question 13",
     "locked": true,
     "points": "5",
     "solution": false
    }
   },
   "outputs": [],
   "source": [
    "###\n",
    "### AUTOGRADER TEST - DO NOT REMOVE\n",
    "###\n"
   ]
  },
  {
   "cell_type": "markdown",
   "metadata": {
    "deletable": false,
    "editable": false,
    "nbgrader": {
     "grade": false,
     "locked": true,
     "solution": false
    }
   },
   "source": [
    "## Module 3: Writing functions in Python\n",
    "\n",
    "In the second part of this assignment, we will be testing your knowledge of the topics covered in Module 3, such as Python built-in functions, user-defined functions loops, and conditional statements.\n",
    "\n",
    "\n",
    "## Methods Scripts\n",
    "\n",
    "A function is a bundle of code which only runs when it is called. Python comes with many built-in functions. You can find a list of the functions that come with Python [here]( https://docs.python.org/3/library/stdtypes.html)."
   ]
  },
  {
   "cell_type": "markdown",
   "metadata": {
    "deletable": false,
    "editable": false,
    "nbgrader": {
     "grade": false,
     "locked": true,
     "solution": false
    }
   },
   "source": [
    "[Back to top](#Index:) \n",
    "\n",
    "### Question 14\n",
    "5 points\n",
    "\n",
    "Assign -25.82 to the variable ans14 and take the absolute value."
   ]
  },
  {
   "cell_type": "code",
   "execution_count": null,
   "metadata": {
    "collapsed": true
   },
   "outputs": [],
   "source": [
    "### GRADED\n",
    "\n",
    "ans14 = None\n",
    "### YOUR SOLUTION HERE\n",
    "\n",
    "###\n",
    "### YOUR CODE HERE\n",
    "###\n"
   ]
  },
  {
   "cell_type": "code",
   "execution_count": null,
   "metadata": {
    "collapsed": true,
    "deletable": false,
    "editable": false,
    "nbgrader": {
     "grade": true,
     "grade_id": " Question 14",
     "locked": true,
     "points": "5",
     "solution": false
    }
   },
   "outputs": [],
   "source": [
    "###\n",
    "### AUTOGRADER TEST - DO NOT REMOVE\n",
    "###\n"
   ]
  },
  {
   "cell_type": "markdown",
   "metadata": {
    "deletable": false,
    "editable": false,
    "nbgrader": {
     "grade": false,
     "locked": true,
     "solution": false
    }
   },
   "source": [
    "[Back to top](#Index:) \n",
    "\n",
    "### Question 15\n",
    "5 points\n",
    "\n",
    "Assign the string \"I live in the US\" to the variable `ans15`. Next using a string method, change all the characters to lower-case letters."
   ]
  },
  {
   "cell_type": "code",
   "execution_count": null,
   "metadata": {
    "collapsed": true
   },
   "outputs": [],
   "source": [
    "### GRADED\n",
    "\n",
    "ans15 = None\n",
    "### YOUR SOLUTION HERE\n",
    "\n",
    "###\n",
    "### YOUR CODE HERE\n",
    "###\n"
   ]
  },
  {
   "cell_type": "code",
   "execution_count": null,
   "metadata": {
    "collapsed": true,
    "deletable": false,
    "editable": false,
    "nbgrader": {
     "grade": true,
     "grade_id": " Question 15",
     "locked": true,
     "points": "5",
     "solution": false
    }
   },
   "outputs": [],
   "source": [
    "###\n",
    "### AUTOGRADER TEST - DO NOT REMOVE\n",
    "###\n"
   ]
  },
  {
   "cell_type": "markdown",
   "metadata": {
    "deletable": false,
    "editable": false,
    "nbgrader": {
     "grade": false,
     "locked": true,
     "solution": false
    }
   },
   "source": [
    "## Conditional if statements\n",
    "\n",
    "\n",
    "Sometimes you want your function to do one thing under one condition and another thing under another condition. We can specify this in the function body using the keywords if, else, and elif. "
   ]
  },
  {
   "cell_type": "markdown",
   "metadata": {
    "deletable": false,
    "editable": false,
    "nbgrader": {
     "grade": false,
     "locked": true,
     "solution": false
    }
   },
   "source": [
    "[Back to top](#Index:) \n",
    "\n",
    "### Question 16\n",
    "10 points\n",
    "Given `num_1`, `num_2` and the list `values`, write a program that appends a string `\"True\"` to `values` if `num_1` is less than 0 and appends \"False\" to values if `num_2` is greater than 0."
   ]
  },
  {
   "cell_type": "code",
   "execution_count": null,
   "metadata": {
    "collapsed": true
   },
   "outputs": [],
   "source": [
    "### GRADED\n",
    "\n",
    "num_1 = -738.9\n",
    "num_2 = 11\n",
    "values =[]\n",
    "\n",
    "### YOUR SOLUTION HERE\n",
    "\n",
    "###\n",
    "### YOUR CODE HERE\n",
    "###\n"
   ]
  },
  {
   "cell_type": "code",
   "execution_count": null,
   "metadata": {
    "collapsed": true,
    "deletable": false,
    "editable": false,
    "nbgrader": {
     "grade": true,
     "grade_id": " Question 16",
     "locked": true,
     "points": "10",
     "solution": false
    }
   },
   "outputs": [],
   "source": [
    "###\n",
    "### AUTOGRADER TEST - DO NOT REMOVE\n",
    "###\n"
   ]
  },
  {
   "cell_type": "markdown",
   "metadata": {
    "deletable": false,
    "editable": false,
    "nbgrader": {
     "grade": false,
     "locked": true,
     "solution": false
    }
   },
   "source": [
    "## Foor loops\n",
    "\n",
    "For loops work on iterable objects.  An iterable object is an object that returns its members one at a time. \n",
    "\n",
    "\n",
    "[Back to top](#Index:) \n",
    "\n",
    "Another basic operator in Python is the remainder function. The corresponding symbol is `%`. This function returns the remainder when first operand is divided by the second\n",
    "\n",
    "### Question 17\n",
    "10 points\n",
    "\n",
    "Create a program that iterates using a **for loop** over all values of `list_mod`. The program must check each value and append the string `\"True\"` to the list `result` if the value is even or append the string \"False\" to the list result otherwise."
   ]
  },
  {
   "cell_type": "code",
   "execution_count": null,
   "metadata": {
    "collapsed": true
   },
   "outputs": [],
   "source": [
    "### GRADED\n",
    "\n",
    "list_mod = list(range(1,15))\n",
    "result = []\n",
    "\n",
    "### YOUR SOLUTION HERE\n",
    "\n",
    "###\n",
    "### YOUR CODE HERE\n",
    "###\n"
   ]
  },
  {
   "cell_type": "code",
   "execution_count": null,
   "metadata": {
    "collapsed": true,
    "deletable": false,
    "editable": false,
    "nbgrader": {
     "grade": true,
     "grade_id": " Question 17",
     "locked": true,
     "points": "10",
     "solution": false
    }
   },
   "outputs": [],
   "source": [
    "###\n",
    "### AUTOGRADER TEST - DO NOT REMOVE\n",
    "###\n"
   ]
  },
  {
   "cell_type": "markdown",
   "metadata": {
    "deletable": false,
    "editable": false,
    "nbgrader": {
     "grade": false,
     "locked": true,
     "solution": false
    }
   },
   "source": [
    "[Back to top](#Index:) \n",
    "\n",
    "### Question 18\n",
    "\n",
    "10 points\n",
    "\n",
    "Given the list called `time` with elements from 7 to 24 use a **for loop** to create a program that appends `\"Good morning\"` to `result_time` if an element in the list `time` is less than or equal to 12, appends `\"Good afternoon\"` if an element is _less than 20_, and otherwise appends `\"Good night\"` to `result_time`."
   ]
  },
  {
   "cell_type": "code",
   "execution_count": null,
   "metadata": {
    "collapsed": true
   },
   "outputs": [],
   "source": [
    "### GRADED\n",
    "\n",
    "time = list(range(7,25))\n",
    "result_time = []\n",
    "\n",
    "### YOUR SOLUTION HERE\n",
    "\n",
    "###\n",
    "### YOUR CODE HERE\n",
    "###\n"
   ]
  },
  {
   "cell_type": "code",
   "execution_count": null,
   "metadata": {
    "collapsed": true,
    "deletable": false,
    "editable": false,
    "nbgrader": {
     "grade": true,
     "grade_id": " Question 18",
     "locked": true,
     "points": "10",
     "solution": false
    }
   },
   "outputs": [],
   "source": [
    "###\n",
    "### AUTOGRADER TEST - DO NOT REMOVE\n",
    "###\n"
   ]
  },
  {
   "cell_type": "markdown",
   "metadata": {
    "deletable": false,
    "editable": false,
    "nbgrader": {
     "grade": false,
     "locked": true,
     "solution": false
    }
   },
   "source": [
    "## User-defined Functions\n",
    "\n",
    "As you write more complicated code, built-in Python functions won't be enough. For this reason, Python allows you to create user-defined function. Function are defined using the `def` keyword followed by the name of the function and the arguments you need to pass.\n",
    "\n",
    "\n",
    "Arguments are specified after the function name, inside parentheses and a colon is needed after the arguments. You can add as many arguments as you want, just separate them with a comma. Finally, after you wrote the block of instructions you want your function to perform, return a value using the `return` keyword. Note that the bundle of instructions and the return statement need to be **indented**."
   ]
  },
  {
   "cell_type": "markdown",
   "metadata": {
    "deletable": false,
    "editable": false,
    "nbgrader": {
     "grade": false,
     "locked": true,
     "solution": false
    }
   },
   "source": [
    "[Back to top](#Index:) \n",
    "\n",
    "### Question 19\n",
    "10 points \n",
    "\n",
    "Create a function called `validate` that checks whether the variable `x` is even. If it's even, return the string `\"even\"`; if it's odd, return the string `\"odd\"`."
   ]
  },
  {
   "cell_type": "code",
   "execution_count": null,
   "metadata": {
    "collapsed": true,
    "nbgrader": {
     "grade": false,
     "locked": false,
     "solution": false
    }
   },
   "outputs": [],
   "source": [
    "### GRADED\n",
    "\n",
    "### YOUR SOLUTION HERE\n",
    "def validate(x):\n",
    "    return\n",
    "\n",
    "###\n",
    "### YOUR CODE HERE\n",
    "###\n"
   ]
  },
  {
   "cell_type": "code",
   "execution_count": null,
   "metadata": {
    "collapsed": true,
    "deletable": false,
    "editable": false,
    "nbgrader": {
     "grade": true,
     "grade_id": " Question 19",
     "locked": true,
     "points": "10",
     "solution": false
    }
   },
   "outputs": [],
   "source": [
    "###\n",
    "### AUTOGRADER TEST - DO NOT REMOVE\n",
    "###\n"
   ]
  },
  {
   "cell_type": "markdown",
   "metadata": {
    "deletable": false,
    "editable": false,
    "nbgrader": {
     "grade": false,
     "locked": true,
     "solution": false
    }
   },
   "source": [
    "[Back to top](#Index:) \n",
    "\n",
    "### Question 20\n",
    "10 points \n",
    "Create a function called `abs_value` that takes a number and returns the absolute value of it."
   ]
  },
  {
   "cell_type": "code",
   "execution_count": null,
   "metadata": {
    "collapsed": true
   },
   "outputs": [],
   "source": [
    "### GRADED\n",
    "\n",
    "### YOUR SOLUTION HERE\n",
    "def abs_value(x):\n",
    "    return\n",
    "\n",
    "###\n",
    "### YOUR CODE HERE\n",
    "###\n"
   ]
  },
  {
   "cell_type": "code",
   "execution_count": null,
   "metadata": {
    "collapsed": true,
    "deletable": false,
    "editable": false,
    "nbgrader": {
     "grade": true,
     "grade_id": " Question 20",
     "locked": true,
     "points": "10",
     "solution": false
    }
   },
   "outputs": [],
   "source": [
    "###\n",
    "### AUTOGRADER TEST - DO NOT REMOVE\n",
    "###\n"
   ]
  }
 ],
 "metadata": {
  "kernelspec": {
   "display_name": "Python 3",
   "language": "python",
   "name": "python3"
  },
  "language_info": {
   "codemirror_mode": {
    "name": "ipython",
    "version": 3
   },
   "file_extension": ".py",
   "mimetype": "text/x-python",
   "name": "python",
   "nbconvert_exporter": "python",
   "pygments_lexer": "ipython3",
   "version": "3.6.9"
  }
 },
 "nbformat": 4,
 "nbformat_minor": 4
}
