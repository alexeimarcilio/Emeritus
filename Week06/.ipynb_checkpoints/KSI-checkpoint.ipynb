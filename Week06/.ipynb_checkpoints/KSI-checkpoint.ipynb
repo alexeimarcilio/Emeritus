{
 "cells": [
  {
   "cell_type": "code",
   "execution_count": null,
   "metadata": {},
   "outputs": [],
   "source": [
    "import pandas as pd\n",
    "import numpy as np\n",
    "from pathlib import Path\n",
    "import seaborn as sns"
   ]
  },
  {
   "cell_type": "code",
   "execution_count": 46,
   "metadata": {},
   "outputs": [],
   "source": [
    "file_path = Path('/Users/Alexei/Emeritus/Emeritus/Week06/data/kaggle/') / 'KSI.csv'"
   ]
  },
  {
   "cell_type": "code",
   "execution_count": 47,
   "metadata": {},
   "outputs": [],
   "source": [
    "df = pd.read_csv(file_path)"
   ]
  },
  {
   "cell_type": "code",
   "execution_count": 8,
   "metadata": {},
   "outputs": [],
   "source": [
    "gb=df.groupby('YEAR')"
   ]
  },
  {
   "cell_type": "code",
   "execution_count": 9,
   "metadata": {},
   "outputs": [],
   "source": [
    "gb = df[df['ALCOHOL']=='Yes'].groupby(\"YEAR\")"
   ]
  },
  {
   "cell_type": "code",
   "execution_count": 61,
   "metadata": {},
   "outputs": [],
   "source": [
    "newdf = df[['YEAR','SPEEDING','AG_DRIV','REDLIGHT','ALCOHOL','DISABILITY']]"
   ]
  },
  {
   "cell_type": "code",
   "execution_count": 65,
   "metadata": {},
   "outputs": [],
   "source": [
    "a = df['SPEEDING'].map(lambda g: 1 if g == \"Yes\" else 0)\n",
    "b = df['AG_DRIV'].map(lambda g: 1 if g == \"Yes\" else 0)\n",
    "c = df['REDLIGHT'].map(lambda g: 1 if g == \"Yes\" else 0)\n",
    "d = df['ALCOHOL'].map(lambda g: 1 if g == \"Yes\" else 0)\n",
    "e = df['DISABILITY'].map(lambda g: 1 if g == \"Yes\" else 0)"
   ]
  },
  {
   "cell_type": "code",
   "execution_count": 85,
   "metadata": {},
   "outputs": [],
   "source": [
    "dfy = df[['YEAR']]\n",
    "dfa = pd.DataFrame(a)\n",
    "dfb = pd.DataFrame(b)\n",
    "dfc = pd.DataFrame(c)\n",
    "dfd = pd.DataFrame(d)\n",
    "dfe = pd.DataFrame(e)"
   ]
  },
  {
   "cell_type": "code",
   "execution_count": 87,
   "metadata": {},
   "outputs": [],
   "source": [
    "dfnew = pd.concat([dfy, dfa, dfb, dfc, dfd, dfe], axis='columns')"
   ]
  },
  {
   "cell_type": "code",
   "execution_count": 89,
   "metadata": {},
   "outputs": [],
   "source": [
    "gb = dfnew.groupby('YEAR')"
   ]
  },
  {
   "cell_type": "code",
   "execution_count": 91,
   "metadata": {},
   "outputs": [],
   "source": [
    "TO_Crash = gb.sum()"
   ]
  },
  {
   "cell_type": "code",
   "execution_count": 92,
   "metadata": {},
   "outputs": [],
   "source": [
    "import seaborn as sns\n",
    "import matplotlib.pyplot as plt\n",
    "import pandas as pd\n",
    "%matplotlib inline"
   ]
  },
  {
   "cell_type": "code",
   "execution_count": 100,
   "metadata": {},
   "outputs": [],
   "source": [
    "import seaborn as sns\n",
    "sns.set()"
   ]
  },
  {
   "cell_type": "code",
   "execution_count": 108,
   "metadata": {},
   "outputs": [],
   "source": [
    "TO_Crash['Year'] = TO_Crash.index"
   ]
  },
  {
   "cell_type": "code",
   "execution_count": 115,
   "metadata": {},
   "outputs": [
    {
     "data": {
      "text/html": [
       "<div>\n",
       "<style scoped>\n",
       "    .dataframe tbody tr th:only-of-type {\n",
       "        vertical-align: middle;\n",
       "    }\n",
       "\n",
       "    .dataframe tbody tr th {\n",
       "        vertical-align: top;\n",
       "    }\n",
       "\n",
       "    .dataframe thead th {\n",
       "        text-align: right;\n",
       "    }\n",
       "</style>\n",
       "<table border=\"1\" class=\"dataframe\">\n",
       "  <thead>\n",
       "    <tr style=\"text-align: right;\">\n",
       "      <th></th>\n",
       "      <th>SPEEDING</th>\n",
       "      <th>AG_DRIV</th>\n",
       "      <th>REDLIGHT</th>\n",
       "      <th>ALCOHOL</th>\n",
       "      <th>DISABILITY</th>\n",
       "      <th>Year</th>\n",
       "    </tr>\n",
       "    <tr>\n",
       "      <th>YEAR</th>\n",
       "      <th></th>\n",
       "      <th></th>\n",
       "      <th></th>\n",
       "      <th></th>\n",
       "      <th></th>\n",
       "      <th></th>\n",
       "    </tr>\n",
       "  </thead>\n",
       "  <tbody>\n",
       "    <tr>\n",
       "      <th>2007</th>\n",
       "      <td>311</td>\n",
       "      <td>771</td>\n",
       "      <td>190</td>\n",
       "      <td>85</td>\n",
       "      <td>31</td>\n",
       "      <td>2007</td>\n",
       "    </tr>\n",
       "    <tr>\n",
       "      <th>2008</th>\n",
       "      <td>228</td>\n",
       "      <td>627</td>\n",
       "      <td>122</td>\n",
       "      <td>77</td>\n",
       "      <td>67</td>\n",
       "      <td>2008</td>\n",
       "    </tr>\n",
       "    <tr>\n",
       "      <th>2009</th>\n",
       "      <td>157</td>\n",
       "      <td>581</td>\n",
       "      <td>97</td>\n",
       "      <td>55</td>\n",
       "      <td>43</td>\n",
       "      <td>2009</td>\n",
       "    </tr>\n",
       "    <tr>\n",
       "      <th>2010</th>\n",
       "      <td>171</td>\n",
       "      <td>600</td>\n",
       "      <td>78</td>\n",
       "      <td>74</td>\n",
       "      <td>31</td>\n",
       "      <td>2010</td>\n",
       "    </tr>\n",
       "    <tr>\n",
       "      <th>2011</th>\n",
       "      <td>234</td>\n",
       "      <td>601</td>\n",
       "      <td>60</td>\n",
       "      <td>44</td>\n",
       "      <td>46</td>\n",
       "      <td>2011</td>\n",
       "    </tr>\n",
       "    <tr>\n",
       "      <th>2012</th>\n",
       "      <td>203</td>\n",
       "      <td>708</td>\n",
       "      <td>113</td>\n",
       "      <td>44</td>\n",
       "      <td>24</td>\n",
       "      <td>2012</td>\n",
       "    </tr>\n",
       "    <tr>\n",
       "      <th>2013</th>\n",
       "      <td>174</td>\n",
       "      <td>597</td>\n",
       "      <td>91</td>\n",
       "      <td>40</td>\n",
       "      <td>24</td>\n",
       "      <td>2013</td>\n",
       "    </tr>\n",
       "    <tr>\n",
       "      <th>2014</th>\n",
       "      <td>145</td>\n",
       "      <td>516</td>\n",
       "      <td>105</td>\n",
       "      <td>33</td>\n",
       "      <td>22</td>\n",
       "      <td>2014</td>\n",
       "    </tr>\n",
       "    <tr>\n",
       "      <th>2015</th>\n",
       "      <td>164</td>\n",
       "      <td>470</td>\n",
       "      <td>68</td>\n",
       "      <td>32</td>\n",
       "      <td>30</td>\n",
       "      <td>2015</td>\n",
       "    </tr>\n",
       "    <tr>\n",
       "      <th>2016</th>\n",
       "      <td>254</td>\n",
       "      <td>562</td>\n",
       "      <td>71</td>\n",
       "      <td>29</td>\n",
       "      <td>14</td>\n",
       "      <td>2016</td>\n",
       "    </tr>\n",
       "    <tr>\n",
       "      <th>2017</th>\n",
       "      <td>149</td>\n",
       "      <td>386</td>\n",
       "      <td>64</td>\n",
       "      <td>29</td>\n",
       "      <td>24</td>\n",
       "      <td>2017</td>\n",
       "    </tr>\n",
       "  </tbody>\n",
       "</table>\n",
       "</div>"
      ],
      "text/plain": [
       "      SPEEDING  AG_DRIV  REDLIGHT  ALCOHOL  DISABILITY  Year\n",
       "YEAR                                                        \n",
       "2007       311      771       190       85          31  2007\n",
       "2008       228      627       122       77          67  2008\n",
       "2009       157      581        97       55          43  2009\n",
       "2010       171      600        78       74          31  2010\n",
       "2011       234      601        60       44          46  2011\n",
       "2012       203      708       113       44          24  2012\n",
       "2013       174      597        91       40          24  2013\n",
       "2014       145      516       105       33          22  2014\n",
       "2015       164      470        68       32          30  2015\n",
       "2016       254      562        71       29          14  2016\n",
       "2017       149      386        64       29          24  2017"
      ]
     },
     "execution_count": 115,
     "metadata": {},
     "output_type": "execute_result"
    }
   ],
   "source": [
    "TO_Crash"
   ]
  },
  {
   "cell_type": "code",
   "execution_count": 128,
   "metadata": {},
   "outputs": [
    {
     "data": {
      "image/png": "[encoded data removed]",
      "text/plain": [
       "<Figure size 432x288 with 1 Axes>"
      ]
     },
     "metadata": {},
     "output_type": "display_data"
    }
   ],
   "source": [
    "#TO_Crash.loc[:,\"SPEEDING\":\"DISABILITY\"]\n",
    "plt.plot(TO_Crash['Year'],TO_Crash.loc[:,\"SPEEDING\":\"DISABILITY\"])\n",
    "plt.legend(['Speed','Agressive','Red Light','Alcohol','Disability'], ncol=2, loc='upper right');"
   ]
  },
  {
   "cell_type": "code",
   "execution_count": 113,
   "metadata": {},
   "outputs": [
    {
     "data": {
      "text/plain": [
       "[<matplotlib.lines.Line2D at 0xeeba050>]"
      ]
     },
     "execution_count": 113,
     "metadata": {},
     "output_type": "execute_result"
    },
    {
     "data": {
      "image/png": "[encoded data removed]",
      "text/plain": [
       "<Figure size 432x288 with 1 Axes>"
      ]
     },
     "metadata": {},
     "output_type": "display_data"
    }
   ],
   "source": [
    "plt.plot(TO_Crash['Year'],TO_Crash['SPEEDING'])"
   ]
  },
  {
   "cell_type": "code",
   "execution_count": null,
   "metadata": {},
   "outputs": [],
   "source": []
  }
 ],
 "metadata": {
  "kernelspec": {
   "display_name": "Python 3",
   "language": "python",
   "name": "python3"
  },
  "language_info": {
   "codemirror_mode": {
    "name": "ipython",
    "version": 3
   },
   "file_extension": ".py",
   "mimetype": "text/x-python",
   "name": "python",
   "nbconvert_exporter": "python",
   "pygments_lexer": "ipython3",
   "version": "3.6.2"
  }
 },
 "nbformat": 4,
 "nbformat_minor": 4
}
