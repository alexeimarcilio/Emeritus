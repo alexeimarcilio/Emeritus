{
 "cells": [
  {
   "cell_type": "markdown",
   "metadata": {
    "deletable": false,
    "editable": false,
    "nbgrader": {
     "grade": false,
     "locked": true,
     "solution": false
    }
   },
   "source": [
    "# Module 12, Linear Algebra for Machine Learning\n",
    "\n",
    "**_Author: Carleton Smith_**\n",
    "\n",
    "**Expected time = 2.5 hours**\n",
    "\n",
    "**Total points = 120 points**\n"
   ]
  },
  {
   "cell_type": "markdown",
   "metadata": {
    "deletable": false,
    "editable": false,
    "nbgrader": {
     "grade": false,
     "locked": true,
     "solution": false
    }
   },
   "source": [
    "\n",
    "    \n",
    "## Assignment Overview\n",
    "\n",
    "This assignment will both test your understand of linear algebra and your ability to translate procedures into code. Some questions will ask you to create your own implementations of linear algebra operations, while others will allow you to take advantage of existing implementations available in libraries, such as `numpy` and `scipy`.\n",
    "In this assignment you will implement basic and intermediate linear algebra operations in Python.You will begin by performing matrix addition, substraction, and multplication. You will also use dot product and cross product to perform calculations. You will then move on to more advanced operations such as transpotion, matrix determinant, and inverse. \n",
    "\n",
    "This assignment is designed to build your familiarity and comfort coding in Python while also helping you review key topics from each module. As you progress through the assignment, answers will get increasingly complex. It is important that you adopt a data scientist's mindset when completing this assignment. **Remember to run your code from each cell before submitting your assignment.** Running your code beforehand will notify you of errors and give you a chance to fix your errors before submitting. You should view your Vocareum submission as if you are delivering a final project to your manager or client. \n",
    "\n",
    "***Vocareum Tips***\n",
    "- Do not add arguments or options to functions unless you are specifically asked to. This will cause an error in Vocareum.\n",
    "- Do not use a library unless you are expicitly asked to in the question. \n",
    "- You can download the Grading Report after submitting the assignment. This will include feedback and hints on incorrect questions. \n",
    "\n",
    "### Learning Objectives\n",
    "\n",
    "- Apply foundational linear algebra concepts in python to build basic algorithims.\n",
    "- Use matrix operations to solve equations. \n",
    "- Perform advanced linear algebra procedures, such as PCA and Singular Value Decompositon (SVD)\n",
    "- Apply linear algebra to solve least squares linear regression\n"
   ]
  },
  {
   "cell_type": "markdown",
   "metadata": {
    "deletable": false,
    "editable": false,
    "nbgrader": {
     "grade": false,
     "locked": true,
     "solution": false
    }
   },
   "source": [
    "\n",
    "\n",
    "## Index:\n",
    "\n",
    "#### Module 12: Linear Algebra\n",
    "\n",
    "##### Basic Matrix Operations\n",
    "- [Question 1](#Question-1)\n",
    "- [Question 2](#Question-2)\n",
    "- [Question 3](#Question-3)\n",
    "- [Question 4](#Question-4)\n",
    "- [Question 5](#Question-5)\n",
    "\n",
    "##### Intermediate Linear Algebra\n",
    "- [Question 6](#Question-6)\n",
    "- [Question 7](#Question-7)\n",
    "- [Question 8](#Question-8)\n",
    "- [Question 9](#Question-9)\n",
    "\n",
    "##### Applied Linear Algebra\n",
    "- [Question 10](#Question-10)\n",
    "- [Question 11](#Question-11)\n",
    "- [Question 12](#Question-12)\n"
   ]
  },
  {
   "cell_type": "markdown",
   "metadata": {
    "deletable": false,
    "editable": false,
    "nbgrader": {
     "grade": false,
     "locked": true,
     "solution": false
    }
   },
   "source": [
    "\n",
    "## Module 12: Linear Algebra\n",
    "\n",
    "**Implement fundamental linear algebra procedures with Python**\n",
    "\n",
    "This assignment will test your ability to demonstrate your understanding of fundamental linear algebra procedures and your ability to translate these procedures into code. Many (if not all) of the linear algebra procedures discussed in this assignment have existing implementations in Python. In practice, you will leverage these prebuilt implementations, but for the purpose of understanding the concepts and practicing Python, you will be asked to produce your own implementations.\n",
    "\n",
    "The below functions are helper functions to assist with various tasks throughout the assignment. You can ignore them."
   ]
  },
  {
   "cell_type": "code",
   "execution_count": 1,
   "metadata": {
    "deletable": false,
    "editable": false,
    "nbgrader": {
     "grade": false,
     "locked": true,
     "solution": false
    }
   },
   "outputs": [],
   "source": [
    "import numpy as np\n",
    "import random\n",
    "import inspect\n",
    "import statsmodels.api as sm\n",
    "from scipy.linalg import svd\n",
    "from sklearn.datasets import make_regression\n",
    "import matplotlib.pyplot as plt"
   ]
  },
  {
   "cell_type": "code",
   "execution_count": 2,
   "metadata": {
    "deletable": false,
    "editable": false,
    "nbgrader": {
     "grade": false,
     "locked": true,
     "solution": false
    }
   },
   "outputs": [],
   "source": [
    "def test_for_banned_funcs_and_oper(func, banned_funcs, banned_oper=[]):\n",
    "    '''This function will test if your code uses a forbidden function'''\n",
    "    unbound_closures = inspect.getclosurevars(func).unbound\n",
    "    \n",
    "    # check for banned operators\n",
    "    student_code = inspect.getsourcelines(func)[0]\n",
    "    if banned_oper:\n",
    "        for line in student_code:\n",
    "            for op in banned_oper:\n",
    "                assert op not in line, \"Cannot use operator(s) like '{}' in solution.\".format(op)\n",
    "    \n",
    "    funcs_in_violation = []\n",
    "    for uc in unbound_closures:\n",
    "        if uc in banned_funcs:\n",
    "            if uc == 'T':\n",
    "                uc = '.T'\n",
    "            funcs_in_violation.append(uc)\n",
    "    assert len(funcs_in_violation) == 0,\"Cannot use function(s) '{}' in solution.\".format(\"' or '\".join(funcs_in_violation))\n"
   ]
  },
  {
   "cell_type": "code",
   "execution_count": 3,
   "metadata": {
    "deletable": false,
    "editable": false,
    "nbgrader": {
     "grade": false,
     "locked": true,
     "solution": false
    }
   },
   "outputs": [],
   "source": [
    "def matrix_maker(*args, disp=True):\n",
    "    '''This function will create an arbitrary number of matrices of specific shapes'''\n",
    "    all_mats = []\n",
    "    if not len(args) % 2:\n",
    "        num_mats = int(len(args)/2)\n",
    "        for _ in np.arange(num_mats): \n",
    "            n, m, *args = args\n",
    "            if not m:\n",
    "                M = np.random.randint(10, size=(n,))\n",
    "            else:\n",
    "                M = np.random.randint(10, size=(n,m))\n",
    "            all_mats.append(M)\n",
    "        if disp:\n",
    "            for mat in all_mats:\n",
    "                display(mat)\n",
    "        if len(all_mats) == 1:\n",
    "            return all_mats[0]\n",
    "        return tuple(all_mats)\n",
    "    else:\n",
    "        raise ValueError(\"Must give even number of dimensions for each matrix.\")"
   ]
  },
  {
   "cell_type": "markdown",
   "metadata": {
    "deletable": false,
    "editable": false,
    "nbgrader": {
     "grade": false,
     "locked": true,
     "solution": false
    }
   },
   "source": [
    "\n",
    "\n",
    "## Basic Matrix Operations\n",
    "The following questions will ask you to create simple functions that perform basic matrix operations.\n",
    "\n",
    "[Back to top](#Index:) \n",
    "\n",
    "### Question 1\n",
    "\n",
    "*4 Points*\n",
    "\n",
    "Your first task is to create a function called `matrix_adder` that will accept two matrices of the same shape as parameters and return another numpy array that is the result of matrix addition.\n",
    "\n",
    "    Parameters:\n",
    "    A -- numpy array of shape (n,m)\n",
    "    B -- numpy array of shape (n,m)\n",
    "    \n",
    "    Returns: a numpy array of shape (n,m) that is the sum of A + B.\n",
    "    \n",
    "    *If input matrices are of invalid shape, return 'Invalid dimensions'.*\n",
    "\n",
    "Use the matrices `A` and `B` below as test cases."
   ]
  },
  {
   "cell_type": "code",
   "execution_count": 4,
   "metadata": {
    "deletable": false,
    "editable": false,
    "nbgrader": {
     "grade": false,
     "locked": true,
     "solution": false
    }
   },
   "outputs": [],
   "source": [
    "A = np.array([\n",
    "    [7, 2, 0, 0],\n",
    "    [8, 8, 1, 9],\n",
    "    [8, 6, 6, 8]\n",
    "])\n",
    "\n",
    "B = np.array([\n",
    "    [7, 7, 8, 5],\n",
    "    [5, 2, 5, 0],\n",
    "    [0, 5, 5, 2]\n",
    "])"
   ]
  },
  {
   "cell_type": "code",
   "execution_count": 5,
   "metadata": {
    "nbgrader": {
     "grade": false,
     "grade_id": "Question 01",
     "locked": false,
     "points": "4",
     "solution": false
    }
   },
   "outputs": [
    {
     "name": "stdout",
     "output_type": "stream",
     "text": [
      "-------------------------\n",
      "Input Matrices:\n"
     ]
    },
    {
     "data": {
      "text/plain": [
       "array([[7, 2, 0, 0],\n",
       "       [8, 8, 1, 9],\n",
       "       [8, 6, 6, 8]])"
      ]
     },
     "metadata": {},
     "output_type": "display_data"
    },
    {
     "data": {
      "text/plain": [
       "array([[7, 7, 8, 5],\n",
       "       [5, 2, 5, 0],\n",
       "       [0, 5, 5, 2]])"
      ]
     },
     "metadata": {},
     "output_type": "display_data"
    },
    {
     "name": "stdout",
     "output_type": "stream",
     "text": [
      "-------------------------\n",
      "Your Solution:\n"
     ]
    },
    {
     "data": {
      "text/plain": [
       "array([[14,  9,  8,  5],\n",
       "       [13, 10,  6,  9],\n",
       "       [ 8, 11, 11, 10]])"
      ]
     },
     "metadata": {},
     "output_type": "display_data"
    },
    {
     "name": "stdout",
     "output_type": "stream",
     "text": [
      "-------------------------\n",
      "Invalid dimension case:\tInvalid dimensions\n"
     ]
    }
   ],
   "source": [
    "### GRADED\n",
    "\n",
    "### YOUR SOLUTION HERE\n",
    "def matrix_adder(matrix1, matrix2):\n",
    "    \"\"\"Perform matrix addition with two input matrices.\n",
    "    \n",
    "    Parameters:\n",
    "    matrix1 -- numpy array of shape (n,m)\n",
    "    matrix2 -- numpy array of shape (n,m)\n",
    "    \n",
    "    Returns: a numpy array of shape (n,m); the result of matrix addition.\n",
    "    \n",
    "    If input matrices are of invalid shape, return 'Invalid dimensions'.\n",
    "    \"\"\"\n",
    "    pass\n",
    "\n",
    "###\n",
    "### YOUR CODE HERE\n",
    "###\n",
    "\n",
    "### For verifying answer:\n",
    "print('-'*25)\n",
    "print(\"Input Matrices:\")\n",
    "display(A, B)\n",
    "print('-'*25)\n",
    "print(\"Your Solution:\")\n",
    "display(matrix_adder(A, B))\n",
    "\n",
    "# wrong dimensions\n",
    "A2, B2 = matrix_maker(3,5,3,4, disp=False)\n",
    "print('-'*25)\n",
    "print(\"Invalid dimension case:\\t{}\".format(matrix_adder(A2, B2)))"
   ]
  },
  {
   "cell_type": "code",
   "execution_count": 6,
   "metadata": {
    "collapsed": true,
    "deletable": false,
    "editable": false,
    "nbgrader": {
     "grade": true,
     "grade_id": "Question 01",
     "locked": true,
     "points": "4",
     "solution": false
    }
   },
   "outputs": [],
   "source": [
    "###\n",
    "### AUTOGRADER TEST - DO NOT REMOVE\n",
    "###\n"
   ]
  },
  {
   "cell_type": "markdown",
   "metadata": {},
   "source": [
    "[Back to top](#Index:) \n",
    "\n",
    "### Question 2\n",
    "\n",
    "*4 Points*\n",
    "\n",
    "Similarly to Q1, create a function called `matrix_subtraction` that will accept two matrices of the same shape as parameters and return another numpy array that is the result of matrix subtraction.\n",
    "\n",
    "    Parameters:\n",
    "    A -- numpy array of shape (n,m)\n",
    "    B -- numpy array of shape (n,m)\n",
    "    \n",
    "    Returns: a numpy array of shape (n,m) that is the difference of A and B.\n",
    "\n",
    "Use the matrices `A` and `B` below as test cases."
   ]
  },
  {
   "cell_type": "code",
   "execution_count": 7,
   "metadata": {
    "collapsed": true,
    "deletable": false,
    "editable": false,
    "nbgrader": {
     "grade": false,
     "locked": true,
     "solution": false
    }
   },
   "outputs": [],
   "source": [
    "A = np.array([\n",
    "    [0, 8, 6, 4],\n",
    "    [2, 9, 0, 9],\n",
    "    [1, 2, 1, 9]\n",
    "])\n",
    "\n",
    "B = np.array([\n",
    "    [3, 4, 4, 3],\n",
    "    [2, 9, 2, 9],\n",
    "    [0, 2, 6, 5]\n",
    "])"
   ]
  },
  {
   "cell_type": "code",
   "execution_count": 8,
   "metadata": {},
   "outputs": [
    {
     "name": "stdout",
     "output_type": "stream",
     "text": [
      "-------------------------\n",
      "Input Matrices:\n"
     ]
    },
    {
     "data": {
      "text/plain": [
       "array([[0, 8, 6, 4],\n",
       "       [2, 9, 0, 9],\n",
       "       [1, 2, 1, 9]])"
      ]
     },
     "metadata": {},
     "output_type": "display_data"
    },
    {
     "data": {
      "text/plain": [
       "array([[3, 4, 4, 3],\n",
       "       [2, 9, 2, 9],\n",
       "       [0, 2, 6, 5]])"
      ]
     },
     "metadata": {},
     "output_type": "display_data"
    },
    {
     "name": "stdout",
     "output_type": "stream",
     "text": [
      "-------------------------\n",
      "Your Solution:\n"
     ]
    },
    {
     "data": {
      "text/plain": [
       "array([[-3,  4,  2,  1],\n",
       "       [ 0,  0, -2,  0],\n",
       "       [ 1,  0, -5,  4]])"
      ]
     },
     "metadata": {},
     "output_type": "display_data"
    },
    {
     "name": "stdout",
     "output_type": "stream",
     "text": [
      "-------------------------\n",
      "Invalid dimension case:\tInvalid dimensions\n"
     ]
    }
   ],
   "source": [
    "def matrix_subtraction(matrix1, matrix2):\n",
    "    \"\"\"Perform matrix subtraction with two input matrices.\n",
    "    \n",
    "    Parameters:\n",
    "    matrix1 -- numpy array of shape (n,m)\n",
    "    matrix2 -- numpy array of shape (n,m)\n",
    "    \n",
    "    Returns: a numpy array of shape (n,m); the result of matrix subtraction.\n",
    "    \n",
    "    If input matrices are of invalid shape, return 'Invalid dimensions'.\n",
    "    \"\"\"\n",
    "    pass\n",
    "\n",
    "###\n",
    "### YOUR CODE HERE\n",
    "###\n",
    "\n",
    "### For verifying answer:\n",
    "print('-'*25)\n",
    "print(\"Input Matrices:\")\n",
    "display(A, B)\n",
    "print('-'*25)\n",
    "print(\"Your Solution:\")\n",
    "display(matrix_subtraction(A, B))\n",
    "\n",
    "# wrong dimensions\n",
    "A2, B2 = matrix_maker(3,5,3,4, disp=False)\n",
    "print('-'*25)\n",
    "print(\"Invalid dimension case:\\t{}\".format(matrix_subtraction(A2, B2)))"
   ]
  },
  {
   "cell_type": "code",
   "execution_count": 9,
   "metadata": {
    "collapsed": true,
    "deletable": false,
    "editable": false,
    "nbgrader": {
     "grade": true,
     "grade_id": "Question 02",
     "locked": true,
     "points": "4",
     "solution": false
    }
   },
   "outputs": [],
   "source": [
    "###\n",
    "### AUTOGRADER TEST - DO NOT REMOVE\n",
    "###\n"
   ]
  },
  {
   "cell_type": "markdown",
   "metadata": {
    "deletable": false,
    "editable": false,
    "nbgrader": {
     "grade": false,
     "locked": true,
     "solution": false
    }
   },
   "source": [
    "[Back to top](#Index:) \n",
    "\n",
    "### Question 3\n",
    "\n",
    "*8 Points*\n",
    "\n",
    "Your next task will be to implement another routine task in linear algebra - transpose a matrix. **For this exercise, you are not allowed to use any existing function or method to produce the transpose**. The reason for this limitation is to provide opportunities to practice manipulating `numpy` arrays natively.\n",
    "\n",
    "Examples of fobidden functions:\n",
    "    - numpy.transpose\n",
    "    - numpy.matrix.transpose\n",
    "    - numpy.ndarray.T\n",
    "    - pandas.DataFrame.T\n",
    "    - pandas.DataFrame.transpose\n",
    "\n",
    "Create a function called `transpose` that will accept a single matrix (all numeric - int or float) of shape (n,m) as a parameter and return the transpose of that matrix as a numpy array of shape (m,n).\n",
    "\n",
    "    Parameters:\n",
    "    A -- numpy array of shape (n,m)\n",
    "    \n",
    "    Returns: a numpy array of shape (m,n) that is the transpose of A.\n",
    "\n",
    "Use the matrices `A` below as a test case."
   ]
  },
  {
   "cell_type": "code",
   "execution_count": 10,
   "metadata": {
    "collapsed": true,
    "deletable": false,
    "editable": false,
    "nbgrader": {
     "grade": false,
     "locked": true,
     "solution": false
    }
   },
   "outputs": [],
   "source": [
    "A = np.array([\n",
    "    [6, 6, 0, 8],\n",
    "    [7, 8, 3, 2],\n",
    "    [7, 4, 8, 6]\n",
    "])"
   ]
  },
  {
   "cell_type": "code",
   "execution_count": 11,
   "metadata": {},
   "outputs": [
    {
     "name": "stdout",
     "output_type": "stream",
     "text": [
      "-------------------------\n",
      "Input Matrix:\n"
     ]
    },
    {
     "data": {
      "text/plain": [
       "array([[6, 6, 0, 8],\n",
       "       [7, 8, 3, 2],\n",
       "       [7, 4, 8, 6]])"
      ]
     },
     "metadata": {},
     "output_type": "display_data"
    },
    {
     "name": "stdout",
     "output_type": "stream",
     "text": [
      "-------------------------\n",
      "Your Solution:\n"
     ]
    },
    {
     "data": {
      "text/plain": [
       "array([[6., 7., 7.],\n",
       "       [6., 8., 4.],\n",
       "       [0., 3., 8.],\n",
       "       [8., 2., 6.]])"
      ]
     },
     "metadata": {},
     "output_type": "display_data"
    },
    {
     "name": "stdout",
     "output_type": "stream",
     "text": [
      "-------------------------\n",
      "Input array:\t\t[8 1 8]\n",
      "One dimesional case:\t[8 1 8]\n"
     ]
    }
   ],
   "source": [
    "def transpose(X):\n",
    "    \"\"\"Perform matrix transpose.\n",
    "    \n",
    "    Parameters:\n",
    "    X -- numpy array of shape (n,m)\n",
    "    \n",
    "    Returns: a numpy array of shape (m,n); the transpose of matrix X.\n",
    "    \n",
    "    If X is 1 dimensional, return the original array.\n",
    "    \"\"\"\n",
    "    pass\n",
    "\n",
    "###\n",
    "### YOUR CODE HERE\n",
    "###\n",
    "\n",
    "### For verifying answer:\n",
    "print('-'*25)\n",
    "print(\"Input Matrix:\")\n",
    "display(A)\n",
    "print('-'*25)\n",
    "print(\"Your Solution:\")\n",
    "display(transpose(A))\n",
    "\n",
    "# one dimension array validation\n",
    "A2 = matrix_maker(3,None,disp=False)\n",
    "print('-'*25)\n",
    "print(\"Input array:\\t\\t{}\".format(A2))\n",
    "print(\"One dimesional case:\\t{}\".format(transpose(A2)))"
   ]
  },
  {
   "cell_type": "code",
   "execution_count": 12,
   "metadata": {
    "collapsed": true,
    "deletable": false,
    "editable": false,
    "nbgrader": {
     "grade": true,
     "grade_id": "Question 03",
     "locked": true,
     "points": "8",
     "solution": false
    }
   },
   "outputs": [],
   "source": [
    "###\n",
    "### AUTOGRADER TEST - DO NOT REMOVE\n",
    "###\n"
   ]
  },
  {
   "cell_type": "markdown",
   "metadata": {
    "deletable": false,
    "editable": false,
    "nbgrader": {
     "grade": false,
     "locked": true,
     "solution": false
    }
   },
   "source": [
    "[Back to top](#Index:) \n",
    "\n",
    "### Question 4\n",
    "\n",
    "*9 Points*\n",
    "\n",
    "Create a function called `dot_prod` that computes the dot product between two 1 dimensional vectors and return the result as an integer.\n",
    "\n",
    "To compute the dot product, consider the two vectors below:\n",
    "\n",
    "$$a = \\begin{bmatrix} a_1 \\\\ \\vdots \\\\ a_n \\end{bmatrix}     b = \\begin{bmatrix} b_1 \\\\ \\vdots \\\\ b_n \\end{bmatrix}$$\n",
    "\n",
    "The dot product calculation is as follows:\n",
    "\n",
    "$$a \\cdot b = a_1b_1 + ... + a_nb_n$$\n",
    "\n",
    "**For this exercise, you are not allowed to use any existing function or method to produce the dot product**. For the same reason mentioned in the earlier, this limitation is in place to enable coding practice, as well as reinforcing the mechanics of the linear algebra calculation.\n",
    "\n",
    "Examples of fobidden functions:\n",
    "    - numpy.dot()\n",
    "    - numpy.inner()\n",
    "    - numpy.matmul()\n",
    "    - pandas.DataFrame.dot()\n",
    "    - pandas.Series.dot()\n",
    "    - the `@` operator\n",
    "\n",
    "    Parameters:\n",
    "    vecA -- a 1 dimensional numpy array of shape (n,)\n",
    "    vecB -- a 1 dimensional numpy array of shape (n,)\n",
    "    \n",
    "    Returns: int; the dot product of the vectors vecA and vecB\n",
    "\n",
    "Use the matrices `A` below as a test case."
   ]
  },
  {
   "cell_type": "code",
   "execution_count": 13,
   "metadata": {
    "collapsed": true,
    "deletable": false,
    "editable": false,
    "nbgrader": {
     "grade": false,
     "locked": true,
     "solution": false
    }
   },
   "outputs": [],
   "source": [
    "a = np.array([3, 4, 2])\n",
    "b = np.array([5, 5, 0])"
   ]
  },
  {
   "cell_type": "code",
   "execution_count": 14,
   "metadata": {},
   "outputs": [
    {
     "name": "stdout",
     "output_type": "stream",
     "text": [
      "-------------------------\n",
      "Vector A:\n"
     ]
    },
    {
     "data": {
      "text/plain": [
       "array([3, 4, 2])"
      ]
     },
     "metadata": {},
     "output_type": "display_data"
    },
    {
     "name": "stdout",
     "output_type": "stream",
     "text": [
      "-------------------------\n",
      "Vector B:\n"
     ]
    },
    {
     "data": {
      "text/plain": [
       "array([5, 5, 0])"
      ]
     },
     "metadata": {},
     "output_type": "display_data"
    },
    {
     "name": "stdout",
     "output_type": "stream",
     "text": [
      "-------------------------\n",
      "Your Solution: 35\n",
      "True Solution: 35\n"
     ]
    }
   ],
   "source": [
    "### GRADED\n",
    "\n",
    "### YOUR SOLUTION HERE\n",
    "def dot_prod(vecA, vecB):\n",
    "    \"\"\"Calculate the dot product between two 1D vectors.\n",
    "    \n",
    "    Parameters:\n",
    "    vecA -- a 1 dimensional numpy array of shape (n,)\n",
    "    vecB -- a 1 dimensional numpy array of shape (n,)\n",
    "    \n",
    "    Returns: int or float; the dot product of the vectors vecA and vecB\n",
    "    \"\"\"\n",
    "    pass\n",
    "\n",
    "###\n",
    "### YOUR CODE HERE\n",
    "###\n",
    "\n",
    "### For verifying answer:\n",
    "print('-'*25)\n",
    "print(\"Vector A:\")\n",
    "display(a)\n",
    "print('-'*25)\n",
    "print(\"Vector B:\")\n",
    "display(b)\n",
    "print('-'*25)\n",
    "print(\"Your Solution: {}\".format(dot_prod(a,b)))\n",
    "print(\"True Solution: {}\".format(np.dot(a,b)))"
   ]
  },
  {
   "cell_type": "code",
   "execution_count": 15,
   "metadata": {
    "collapsed": true,
    "deletable": false,
    "editable": false,
    "nbgrader": {
     "grade": true,
     "grade_id": "Question 04",
     "locked": true,
     "points": "9",
     "solution": false
    }
   },
   "outputs": [],
   "source": [
    "###\n",
    "### AUTOGRADER TEST - DO NOT REMOVE\n",
    "###\n"
   ]
  },
  {
   "cell_type": "markdown",
   "metadata": {
    "deletable": false,
    "editable": false,
    "nbgrader": {
     "grade": false,
     "locked": true,
     "solution": false
    }
   },
   "source": [
    "[Back to top](#Index:) \n",
    "\n",
    "### Question 5\n",
    "\n",
    "*10 Points*\n",
    "\n",
    "Create a function that performs matrix multiplication between two 2 dimensional matrices. Your function should accept two matrices of appropriate dimensions and return a numpy array that is the result of matrix multiplication. See [this resource](https://www.mathsisfun.com/algebra/matrix-multiplying.html) for a simple tutorial.\n",
    "\n",
    "    Parameters:\n",
    "    A -- numpy array of shape (n,m)\n",
    "    B -- numpy array of shape (m,p)\n",
    "    \n",
    "    Returns: a numpy array of shape (n,p) that is the solution of AB matrix multiplication\n",
    "\n",
    "**Your function should:**\n",
    "\n",
    "1. Require `A` and `B` to have the acceptable dimensions for matrix multiplication.\n",
    "\n",
    "    - If A or B have incompatible dimensions, your function should **return** the string `\"Incorrect Dimensions\"`\n",
    "\n",
    "    \n",
    "2. Avoid using the following functions:\n",
    "\n",
    "\n",
    "    - numpy.dot()\n",
    "    - numpy.inner()\n",
    "    - numpy.matmul()\n",
    "    - pandas.DataFrame.dot()\n",
    "    - pandas.Series.dot()\n",
    "    - the `@` operator\n",
    "\n",
    "\n",
    "Use the example matrices below for testing."
   ]
  },
  {
   "cell_type": "code",
   "execution_count": 16,
   "metadata": {
    "collapsed": true,
    "deletable": false,
    "editable": false,
    "nbgrader": {
     "grade": false,
     "locked": true,
     "solution": false
    }
   },
   "outputs": [],
   "source": [
    "A = np.array([\n",
    "    [2,1],\n",
    "    [1,2],\n",
    "    [3,2]\n",
    "])\n",
    "\n",
    "B = np.array([\n",
    "    [-1, 4],\n",
    "    [1, -3]\n",
    "])"
   ]
  },
  {
   "cell_type": "code",
   "execution_count": 17,
   "metadata": {
    "collapsed": true
   },
   "outputs": [],
   "source": [
    "### GRADED\n",
    "\n",
    "### YOUR SOLUTION HERE\n",
    "def matrix_mult(A, B):\n",
    "    \"\"\"Perform matrix multiplication with matrices A and B.\n",
    "    \n",
    "    Parameters:\n",
    "    A -- numpy array of shape (n,m)\n",
    "    B -- numpy array of shape (m,p)\n",
    "    \n",
    "    Returns:\n",
    "    a numpy array of shape (n,p); the result of AB matrix multiplication\n",
    "    \"\"\"\n",
    "    pass\n",
    "\n",
    "###\n",
    "### YOUR CODE HERE\n",
    "###\n"
   ]
  },
  {
   "cell_type": "code",
   "execution_count": 18,
   "metadata": {
    "collapsed": true,
    "deletable": false,
    "editable": false,
    "nbgrader": {
     "grade": true,
     "grade_id": "Question 05",
     "locked": true,
     "points": "10",
     "solution": false
    }
   },
   "outputs": [],
   "source": [
    "###\n",
    "### AUTOGRADER TEST - DO NOT REMOVE\n",
    "###\n"
   ]
  },
  {
   "cell_type": "markdown",
   "metadata": {
    "deletable": false,
    "editable": false,
    "nbgrader": {
     "grade": false,
     "locked": true,
     "solution": false
    }
   },
   "source": [
    "[Back to top](#Index:) \n",
    "\n",
    "## Intermediate Linear Algebra\n",
    "\n",
    "### Question 6\n",
    "\n",
    "*10 Points*\n",
    "\n",
    "Create a function called `determinant2x2` that will calculate the determinant of any 2x2 matrix. You may use the 2x2 matrix, `A2`, below as a test case. See [this resource](https://www.mathsisfun.com/algebra/matrix-determinant.html) for a simple tutorial.\n",
    "\n",
    "    \n",
    "    Parameters:\n",
    "    M -- numpy array of shape (n,n)\n",
    "    \n",
    "    Returns: float; the determinant of M.\n",
    "    \n",
    "For this exercise, avoid using the `numpy.linalg.det()` numpy function."
   ]
  },
  {
   "cell_type": "code",
   "execution_count": 19,
   "metadata": {
    "collapsed": true,
    "deletable": false,
    "editable": false,
    "nbgrader": {
     "grade": false,
     "locked": true,
     "solution": false
    }
   },
   "outputs": [],
   "source": [
    "A2 = np.array([\n",
    "    [5.5, 7],\n",
    "    [2, 1]\n",
    "])"
   ]
  },
  {
   "cell_type": "code",
   "execution_count": 20,
   "metadata": {},
   "outputs": [
    {
     "name": "stdout",
     "output_type": "stream",
     "text": [
      "--------------------\n",
      "Sample Matrix:\n"
     ]
    },
    {
     "data": {
      "text/plain": [
       "array([[5, 2],\n",
       "       [0, 9]])"
      ]
     },
     "metadata": {},
     "output_type": "display_data"
    },
    {
     "name": "stdout",
     "output_type": "stream",
     "text": [
      "--------------------\n",
      "Numpy Solution:\t44.99999999999999\n",
      "Your Solution:\t45.0\n",
      "\n",
      "(Rounding errors are not an issue with the grader)\n"
     ]
    }
   ],
   "source": [
    "### GRADED\n",
    "\n",
    "### YOUR SOLUTION HERE\n",
    "def determinant2x2(M):\n",
    "    \"\"\"Calculate the determinant of the 2x2 matrix, M.\n",
    "    \n",
    "    Parameters:\n",
    "    M -- numpy array of shape (n,n)\n",
    "    \n",
    "    Returns: float; the determinant of M.\n",
    "    \"\"\"\n",
    "    pass\n",
    "\n",
    "###\n",
    "### YOUR CODE HERE\n",
    "###\n",
    "\n",
    "### For verifying answer:\n",
    "print('-'*20)\n",
    "print(\"Sample Matrix:\")\n",
    "A2 = matrix_maker(2,2)\n",
    "print('-'*20)\n",
    "print(\"Numpy Solution:\\t{}\".format(np.linalg.det(A2)))\n",
    "print(\"Your Solution:\\t{}\".format(determinant2x2(A2)))\n",
    "print()\n",
    "print('(Rounding errors are not an issue with the grader)')"
   ]
  },
  {
   "cell_type": "code",
   "execution_count": 21,
   "metadata": {
    "collapsed": true,
    "deletable": false,
    "editable": false,
    "nbgrader": {
     "grade": true,
     "grade_id": "Question 06",
     "locked": true,
     "points": "10",
     "solution": false
    }
   },
   "outputs": [],
   "source": [
    "###\n",
    "### AUTOGRADER TEST - DO NOT REMOVE\n",
    "###\n"
   ]
  },
  {
   "cell_type": "markdown",
   "metadata": {
    "deletable": false,
    "editable": false,
    "nbgrader": {
     "grade": false,
     "locked": true,
     "solution": false
    }
   },
   "source": [
    "[Back to top](#Index:) \n",
    "\n",
    "### Question 7\n",
    "\n",
    "*15 Points*\n",
    "\n",
    "With the 3x3 matrix, `A2`, create a function called `determinant3x3` that will calculate the determinant of any 3x3 matrix. See [this resource](https://www.mathsisfun.com/algebra/matrix-determinant.html) for a simple tutorial.\n",
    "\n",
    "For this exercise, avoid using the `numpy.linalg.det()` numpy function. You may, however, use the functions created from Question 6 as part of your solution."
   ]
  },
  {
   "cell_type": "code",
   "execution_count": 22,
   "metadata": {
    "collapsed": true,
    "deletable": false,
    "editable": false,
    "nbgrader": {
     "grade": false,
     "locked": true,
     "solution": false
    }
   },
   "outputs": [],
   "source": [
    "A3 = np.array([\n",
    "    [7, 8, 1],\n",
    "    [5, 5, 5],\n",
    "    [7, 0, 3]\n",
    "])"
   ]
  },
  {
   "cell_type": "code",
   "execution_count": 23,
   "metadata": {},
   "outputs": [
    {
     "name": "stdout",
     "output_type": "stream",
     "text": [
      "--------------------\n",
      "Sample Matrix:\n"
     ]
    },
    {
     "data": {
      "text/plain": [
       "array([[0, 1, 6],\n",
       "       [2, 1, 8],\n",
       "       [1, 7, 5]])"
      ]
     },
     "metadata": {},
     "output_type": "display_data"
    },
    {
     "name": "stdout",
     "output_type": "stream",
     "text": [
      "--------------------\n",
      "Numpy Solution:\t76.0\n",
      "Your Solution:\t76.0\n",
      "\n",
      "(Rounding errors are not an issue with the grader)\n"
     ]
    }
   ],
   "source": [
    "### GRADED\n",
    "\n",
    "### YOUR SOLUTION HERE\n",
    "def determinant3x3(M):\n",
    "    pass\n",
    "\n",
    "###\n",
    "### YOUR CODE HERE\n",
    "###\n",
    "\n",
    "### For verifying answer:\n",
    "print('-'*20)\n",
    "print(\"Sample Matrix:\")\n",
    "A3 = matrix_maker(3,3)\n",
    "print('-'*20)\n",
    "print(\"Numpy Solution:\\t{}\".format(np.linalg.det(A3)))\n",
    "print(\"Your Solution:\\t{}\".format(determinant3x3(A3)))\n",
    "print()\n",
    "print('(Rounding errors are not an issue with the grader)')"
   ]
  },
  {
   "cell_type": "code",
   "execution_count": 24,
   "metadata": {
    "collapsed": true,
    "deletable": false,
    "editable": false,
    "nbgrader": {
     "grade": true,
     "grade_id": "Question 07",
     "locked": true,
     "points": "15",
     "solution": false
    }
   },
   "outputs": [],
   "source": [
    "###\n",
    "### AUTOGRADER TEST - DO NOT REMOVE\n",
    "###\n"
   ]
  },
  {
   "cell_type": "markdown",
   "metadata": {
    "deletable": false,
    "editable": false,
    "nbgrader": {
     "grade": false,
     "locked": true,
     "solution": false
    }
   },
   "source": [
    "[Back to top](#Index:) \n",
    "\n",
    "## Linear Independence\n",
    "\n",
    "### Question 8\n",
    "\n",
    "*10 Points*\n",
    "\n",
    "For this question, refer to the lecture section on Linear Independence and the supplemental reading. Recall the definitions of dependence and independence:\n",
    "\n",
    "**Dependence** means that at least one equation can be algebraically derived from the others (i.e., can be written as a linear combination of other equations). There are an **infinite** number of solutions that will satisfy the conditions of the equations! To know which solution you want, you have to feed in an x value. This makes the y value dependent on the x value. Attempting to solve a dependent system of linear equations via `numpy` will throw an error, because the solution depends on your inputs.\n",
    "\n",
    "**Independence** means that no equation in the system can be algebraically derived from the others. In systems of linear equations with 2 equations, this means that the lines only intersect at one point, or the equations reflect parallel lines. There is either **no solution** or a **single solution**.\n",
    "\n",
    "**Supplemental Reading**\n",
    "* [Systems of Linear Equations](https://www.impan.pl/~pmh/teach/algebra/additional/lineareq.pdf)\n",
    "\n",
    "<img src=\"images/linear_independence.png\" width=\"500\">\n",
    "\n",
    "Consider the following sets of systems of equations\n",
    "\n",
    "**System 1**\n",
    "\n",
    "$$A1 = \\begin{bmatrix}7 & 0 & 0 \\\\ 4 & 6 & 3 \\\\ 0 & 4 & 2\\\\ \\end{bmatrix} ;   b1 = \\begin{bmatrix}7 \\\\ 0 \\\\ 0 \\end{bmatrix}$$\n",
    "\n",
    "\n",
    "**System 2**\n",
    "\n",
    "$$A2 = \\begin{bmatrix}7 & 2 & 9 \\\\ 8 & 5 & 1 \\\\ 1 & 2 & 8\\\\ \\end{bmatrix};    b2 = \\begin{bmatrix}6 \\\\ 8 \\\\ 4 \\end{bmatrix}$$\n",
    "\n",
    "\n",
    "Your task for this question is as follows:\n",
    " - Determine which system of equations above is linearly independent. Indicate which system is linearly independent by assigning the string `\"system 1\"` or `\"system 2\"` to the variable `ans8a`.\n",
    " - For the system that is linearly independent, solve the system of equations and assign the solution to the variable `ans8b`. Round all values to 3 decimal places.\n",
    " \n",
    "Note: There are no restrictions on using functions from Python libraries for this question."
   ]
  },
  {
   "cell_type": "code",
   "execution_count": 25,
   "metadata": {
    "collapsed": true,
    "deletable": false,
    "editable": false,
    "nbgrader": {
     "grade": false,
     "locked": true,
     "solution": false
    }
   },
   "outputs": [],
   "source": [
    "# system of equations 1\n",
    "A1 = np.array([\n",
    "    [7, 0, 0],\n",
    "    [4, 6, 3],\n",
    "    [0, 4, 2]])\n",
    "b1 = np.array([4, 8, 5])\n",
    "\n",
    "# system of equations 2\n",
    "A2 = np.array([\n",
    "    [7, 2, 9],\n",
    "    [8, 5, 1],\n",
    "    [1, 2, 8]])\n",
    "b2 = np.array([6, 8, 4])"
   ]
  },
  {
   "cell_type": "code",
   "execution_count": 26,
   "metadata": {},
   "outputs": [
    {
     "name": "stdout",
     "output_type": "stream",
     "text": [
      "Linear Independent System:\t'system 2'\n",
      "Solution for 'system 2':\t[0.30125523 1.07949791 0.19246862]\n"
     ]
    }
   ],
   "source": [
    "### GRADED\n",
    "\n",
    "### YOUR SOLUTION HERE\n",
    "ans8a = ...\n",
    "ans8b = ...\n",
    "\n",
    "\n",
    "###\n",
    "### YOUR CODE HERE\n",
    "###\n",
    "\n",
    "### For verifying answer:\n",
    "print(\"Linear Independent System:\\t'{}'\".format(ans8a))\n",
    "print(\"Solution for '{}':\\t{}\".format(ans8a, ans8b))"
   ]
  },
  {
   "cell_type": "code",
   "execution_count": 27,
   "metadata": {
    "collapsed": true,
    "deletable": false,
    "editable": false,
    "nbgrader": {
     "grade": true,
     "grade_id": "Question 08",
     "locked": true,
     "points": "10",
     "solution": false
    }
   },
   "outputs": [],
   "source": [
    "###\n",
    "### AUTOGRADER TEST - DO NOT REMOVE\n",
    "###\n"
   ]
  },
  {
   "cell_type": "markdown",
   "metadata": {
    "deletable": false,
    "editable": false,
    "nbgrader": {
     "grade": false,
     "locked": true,
     "solution": false
    }
   },
   "source": [
    "[Back to top](#Index:) \n",
    "\n",
    "## Applied Linear Algebra\n",
    "\n",
    "Eigendecomposition is a well defined linear algebra procedure that is useful for dimensionality reduction.\n",
    "\n",
    "<img src=\"images/eigenvalue.svg\" width=\"400\">\n",
    "\n",
    "For example, Principal Component Analysis (PCA) leverages eigendecomposition to reduce dimensionality by extracting new features (called components) that maximize the variance in the data.\n",
    "\n",
    "The process for performing PCA is as follows:\n",
    "1. Center the data around the origin by subtracting each value from its column mean\n",
    "2. Compute the covariance matrix (square matrix)\n",
    "3. Perform eigendecomposition on covariance matrix found in step 2.\n",
    "4. Project data into subspace by taking the dot product of the transposed eigenvectors with the transposed mean centered data from step 1.\n",
    "\n",
    "This process is demonstrated in the PCA lesson material."
   ]
  },
  {
   "cell_type": "markdown",
   "metadata": {
    "deletable": false,
    "editable": false,
    "nbgrader": {
     "grade": false,
     "locked": true,
     "solution": false
    }
   },
   "source": [
    "[Back to top](#Index:) \n",
    "\n",
    "### Question 9\n",
    "\n",
    "*15 Points*\n",
    "\n",
    "For the following question, you will use the matrix `A` defined in the cell below. Do not round any values or answers.\n",
    "\n",
    "Your task is as follows:\n",
    "- Center the data around the origin by subtracting each value from it's column mean (computed below and bound to `col_means`). Assign this matrix to `ans9a`.\n",
    "- Compute the covariance matrix (square matrix) from step 1. Assign this result to the variable `ans9b`.\n",
    "- Perform eigendecomposition on covariance matrix found in step 2. Assign the vectors and values to the vaariables `ans9c` and `ans9d`, respectively.\n",
    "- Project data into subspace by taking the dot product of the transposed eigenvectors with the transposed mean centered data from step 1. Assign the resulting matrix to the variable `ans9e`."
   ]
  },
  {
   "cell_type": "code",
   "execution_count": 28,
   "metadata": {
    "deletable": false,
    "editable": false,
    "nbgrader": {
     "grade": false,
     "locked": true,
     "solution": false
    }
   },
   "outputs": [
    {
     "data": {
      "text/plain": [
       "array([[ 0.33971681, -0.7452978 ,  0.71999357, -0.10898928, -0.80510445],\n",
       "       [-1.59009262,  0.34321702, -1.89241933,  1.7576691 ,  1.15028127],\n",
       "       [ 0.26459075, -1.24608616,  0.74371496, -0.66519186, -0.97569435],\n",
       "       [ 1.14975178,  0.92126388,  0.88806273, -0.24656481,  0.49593947],\n",
       "       [-0.96989669,  0.85091215, -0.56442506, -0.6248215 , -0.88181707]])"
      ]
     },
     "metadata": {},
     "output_type": "display_data"
    }
   ],
   "source": [
    "A, _ = make_regression(n_samples=1000, n_features = 5, noise=5, random_state=24)\n",
    "display(A[:5])"
   ]
  },
  {
   "cell_type": "code",
   "execution_count": 29,
   "metadata": {
    "collapsed": true
   },
   "outputs": [],
   "source": [
    "### GRADED\n",
    "\n",
    "### YOUR SOLUTION HERE\n",
    "col_means = np.round(np.mean(A, axis=0), 3) # mean of each column\n",
    "ans9a = ...\n",
    "ans9b = ...\n",
    "ans9c, ans9d = ..., ... # hint: np.linalg.eig()\n",
    "ans9e = ...\n",
    "\n",
    "###\n",
    "### YOUR CODE HERE\n",
    "###\n"
   ]
  },
  {
   "cell_type": "code",
   "execution_count": 30,
   "metadata": {
    "collapsed": true,
    "deletable": false,
    "editable": false,
    "nbgrader": {
     "grade": true,
     "grade_id": "Question 09",
     "locked": true,
     "points": "15",
     "solution": false
    }
   },
   "outputs": [],
   "source": [
    "###\n",
    "### AUTOGRADER TEST - DO NOT REMOVE\n",
    "###\n"
   ]
  },
  {
   "cell_type": "markdown",
   "metadata": {
    "deletable": false,
    "editable": false,
    "nbgrader": {
     "grade": false,
     "locked": true,
     "solution": false
    }
   },
   "source": [
    "[Back to top](#Index:) \n",
    "\n",
    "### Question 10\n",
    "\n",
    "*10 Points*\n",
    "\n",
    "Now that you have implemented PCA from scratch, this question tasks you with implementing PCA using `scikit-learn`.\n",
    "\n",
    "- Instantiate an instance of the class `PCA` with the default parameters. Bind this object to the variable `ans10a`.\n",
    "- With the instantiated PCA object, fit and transform the matrix `A` (defined below). Bind the transformed data to the variable `ans10b`.\n",
    "- What is the cumulative ratio of explained variance of the **first two components**? Assign the cumulative ratio of explained variance to the variable `ans10c` as a float. Round to 2 decimal places.\n",
    "\n",
    "Hint: the `.explained_variance_ratio_` attribute may be helpful. See [docs](https://scikit-learn.org/stable/modules/generated/sklearn.decomposition.PCA.html#sklearn-decomposition-pca) for more."
   ]
  },
  {
   "cell_type": "code",
   "execution_count": 31,
   "metadata": {
    "deletable": false,
    "editable": false,
    "nbgrader": {
     "grade": false,
     "locked": true,
     "solution": false
    }
   },
   "outputs": [
    {
     "data": {
      "text/plain": [
       "array([[ 0.33971681, -0.7452978 ,  0.71999357, -0.10898928, -0.80510445],\n",
       "       [-1.59009262,  0.34321702, -1.89241933,  1.7576691 ,  1.15028127],\n",
       "       [ 0.26459075, -1.24608616,  0.74371496, -0.66519186, -0.97569435],\n",
       "       [ 1.14975178,  0.92126388,  0.88806273, -0.24656481,  0.49593947],\n",
       "       [-0.96989669,  0.85091215, -0.56442506, -0.6248215 , -0.88181707]])"
      ]
     },
     "metadata": {},
     "output_type": "display_data"
    }
   ],
   "source": [
    "from sklearn.decomposition import PCA\n",
    "A, _ = make_regression(n_samples=1000, n_features = 5, noise=5, random_state=24)\n",
    "display(A[:5])"
   ]
  },
  {
   "cell_type": "code",
   "execution_count": 32,
   "metadata": {},
   "outputs": [
    {
     "name": "stdout",
     "output_type": "stream",
     "text": [
      "PCA Instance:\n",
      "\n",
      "PCA(copy=True, iterated_power='auto', n_components=None, random_state=None,\n",
      "    svd_solver='auto', tol=0.0, whiten=False)\n",
      "---------------------------------------------\n",
      "Original Matrix:\n"
     ]
    },
    {
     "data": {
      "text/plain": [
       "array([[ 0.33971681, -0.7452978 ,  0.71999357, -0.10898928, -0.80510445],\n",
       "       [-1.59009262,  0.34321702, -1.89241933,  1.7576691 ,  1.15028127],\n",
       "       [ 0.26459075, -1.24608616,  0.74371496, -0.66519186, -0.97569435],\n",
       "       [ 1.14975178,  0.92126388,  0.88806273, -0.24656481,  0.49593947],\n",
       "       [-0.96989669,  0.85091215, -0.56442506, -0.6248215 , -0.88181707]])"
      ]
     },
     "metadata": {},
     "output_type": "display_data"
    },
    {
     "name": "stdout",
     "output_type": "stream",
     "text": [
      "---------------------------------------------\n",
      "PCA Transformed Matrix:\n"
     ]
    },
    {
     "data": {
      "text/plain": [
       "array([[ 0.64076549,  0.75184713,  0.54150641, -0.66347072,  0.35965772],\n",
       "       [-1.89895284, -1.22622239,  0.85221523,  1.88415338, -1.0866549 ],\n",
       "       [ 0.52870039,  0.94079611,  0.59117183, -0.97437884,  1.0290358 ],\n",
       "       [ 0.78541905,  0.1556773 , -1.29146843, -0.61474522, -0.83824043],\n",
       "       [ 0.542303  , -0.53253399, -0.1541736 ,  1.24274883,  0.99817106]])"
      ]
     },
     "metadata": {},
     "output_type": "display_data"
    },
    {
     "name": "stdout",
     "output_type": "stream",
     "text": [
      "---------------------------------------------\n",
      "Ratio of Explained Variance for Components 1 & 2: 0.44\n"
     ]
    }
   ],
   "source": [
    "### GRADED\n",
    "\n",
    "### YOUR SOLUTION HERE\n",
    "ans10a = ...\n",
    "ans10b = ...\n",
    "ans10c = ...\n",
    "\n",
    "###\n",
    "### YOUR CODE HERE\n",
    "###\n",
    "\n",
    "### For verifying answer:\n",
    "print(\"PCA Instance:\")\n",
    "print()\n",
    "print(ans10a)\n",
    "print('-'*45)\n",
    "print(\"Original Matrix:\")\n",
    "display(A[:5])\n",
    "print('-'*45)\n",
    "print(\"PCA Transformed Matrix:\")\n",
    "display(ans10b[:5])\n",
    "print('-'*45)\n",
    "print(\"Ratio of Explained Variance for Components 1 & 2: {}\".format(ans10c))"
   ]
  },
  {
   "cell_type": "code",
   "execution_count": 33,
   "metadata": {
    "collapsed": true,
    "deletable": false,
    "editable": false,
    "nbgrader": {
     "grade": true,
     "grade_id": "Question 10",
     "locked": true,
     "points": "10",
     "solution": false
    }
   },
   "outputs": [],
   "source": [
    "###\n",
    "### AUTOGRADER TEST - DO NOT REMOVE\n",
    "###\n"
   ]
  },
  {
   "cell_type": "markdown",
   "metadata": {
    "deletable": false,
    "editable": false,
    "nbgrader": {
     "grade": false,
     "locked": true,
     "solution": false
    }
   },
   "source": [
    "[Back to top](#Index:) \n",
    "\n",
    "### Question 11\n",
    "\n",
    "*10 Points*\n",
    "\n",
    "Another linear algebra technique for reducing dimensionality is Singular Value Decomposition (SVD).\n",
    "\n",
    "Compute the $U$, $D$, and $V^T$ elements from performing SVD on the matrix $A$ below. Do not round any values.\n",
    "- Assign the $U$ matrix to `ans11a`\n",
    "- Assign the $D$ matrix to `ans11b`\n",
    "- Assign the $V^T$ matrix to `ans11c`\n",
    "- Using the 2 largest singular values from the diagonal ($D$), assign the reduced matrix (shape: 5x2) to the variable `ans11d`. This matrix can be computed by taking the dot product of $U$ and $D$ after $D$ has been cast into a diagonal matrix with the same number of rows and columns as A.\n",
    "\n",
    "Hints:\n",
    "- You may use `svd` function from `scipy.linalg` package\n",
    "- The array, $D$, returned from the bullet above can be cast to the correct shape by running:\n",
    "```\n",
    "diagonal = np.empty((A.shape[0], A.shape[1]))\n",
    "diagonal[:A.shape[0], :A.shape[0]] = diag(D)\n",
    "```"
   ]
  },
  {
   "cell_type": "code",
   "execution_count": 34,
   "metadata": {
    "collapsed": true,
    "deletable": false,
    "editable": false,
    "nbgrader": {
     "grade": false,
     "locked": true,
     "solution": false
    }
   },
   "outputs": [],
   "source": [
    "A = np.array([\n",
    "    [8, 7, 3, 1, 1, 9, 9, 5, 7, 6],\n",
    "    [9, 8, 1, 4, 4, 8, 9, 5, 9, 3],\n",
    "    [0, 4, 1, 8, 4, 9, 3, 4, 2, 7]\n",
    "])"
   ]
  },
  {
   "cell_type": "code",
   "execution_count": 35,
   "metadata": {},
   "outputs": [
    {
     "name": "stdout",
     "output_type": "stream",
     "text": [
      "----------------------------------------\n",
      "Original matrix\n"
     ]
    },
    {
     "data": {
      "text/plain": [
       "array([[8, 7, 3, 1, 1, 9, 9, 5, 7, 6],\n",
       "       [9, 8, 1, 4, 4, 8, 9, 5, 9, 3],\n",
       "       [0, 4, 1, 8, 4, 9, 3, 4, 2, 7]])"
      ]
     },
     "metadata": {},
     "output_type": "display_data"
    },
    {
     "name": "stdout",
     "output_type": "stream",
     "text": [
      "----------------------------------------\n",
      "The 'U' matrix after decomposition\n"
     ]
    },
    {
     "data": {
      "text/plain": [
       "array([[-0.62462913,  0.28752816,  0.72606198],\n",
       "       [-0.65832617,  0.30622969, -0.68762637],\n",
       "       [-0.42005368, -0.90749707, -0.00199267]])"
      ]
     },
     "metadata": {},
     "output_type": "display_data"
    },
    {
     "name": "stdout",
     "output_type": "stream",
     "text": [
      "----------------------------------------\n",
      "The 'D' matrix after decomposition\n"
     ]
    },
    {
     "data": {
      "text/plain": [
       "array([[ 3.11147087e+01,  0.00000000e+00,  0.00000000e+00,\n",
       "        -3.63790263e-01,  8.18629498e-02, -9.93154989e-02,\n",
       "        -9.48833327e-02,  2.56948922e-02,  3.46591328e-01,\n",
       "        -2.12708509e-01],\n",
       "       [ 0.00000000e+00,  1.01700020e+01,  0.00000000e+00,\n",
       "        -2.08214448e-01, -4.73218323e-01, -4.71441172e-01,\n",
       "        -3.07756345e-01,  2.36470794e-01, -4.11598223e-01,\n",
       "         2.57751123e-01],\n",
       "       [ 0.00000000e+00,  0.00000000e+00,  4.29487636e+00,\n",
       "         4.28900277e-02, -3.57947972e-01,  2.90439489e-01,\n",
       "        -2.58491451e-01, -2.78425525e-01, -3.64662803e-01,\n",
       "         5.30758954e-01]])"
      ]
     },
     "metadata": {},
     "output_type": "display_data"
    },
    {
     "name": "stdout",
     "output_type": "stream",
     "text": [
      "----------------------------------------\n",
      "The 'VT' matrix after decomposition\n"
     ]
    },
    {
     "data": {
      "text/plain": [
       "array([[-0.35102269, -0.36379026, -0.09488333, -0.21270851, -0.15870785,\n",
       "        -0.47144117, -0.41159822, -0.26016606, -0.35794797, -0.27842552],\n",
       "       [ 0.49717714,  0.08186295,  0.02569489, -0.56514538, -0.20821445,\n",
       "        -0.30775635,  0.25775112, -0.06501464,  0.29043949, -0.3646628 ],\n",
       "       [-0.08851046, -0.0993155 ,  0.34659133, -0.47507418, -0.47321832,\n",
       "         0.23647079,  0.0791507 ,  0.04289003, -0.25849145,  0.53075895],\n",
       "       [ 0.3849956 , -0.61479651, -0.31244319,  0.39866133, -0.40632157,\n",
       "        -0.02304054,  0.18671767, -0.01002794, -0.00405859,  0.12900938],\n",
       "       [ 0.16374338, -0.5246444 , -0.02003731, -0.35163879,  0.72043745,\n",
       "         0.05797699,  0.09153687,  0.00880935, -0.07190725,  0.19459271],\n",
       "       [-0.16501812, -0.03607256, -0.55100088, -0.29081245, -0.10976548,\n",
       "         0.67910319, -0.02950227, -0.12200088,  0.03178922, -0.30544916],\n",
       "       [-0.49170874, -0.04645868, -0.02866331,  0.04129228,  0.02499184,\n",
       "        -0.14974344,  0.83525739, -0.08201508, -0.11058851, -0.11780735],\n",
       "       [-0.14410773, -0.07839911, -0.18649416, -0.12271811, -0.06005841,\n",
       "        -0.13045103, -0.03600154,  0.94344765, -0.02185968, -0.10370547],\n",
       "       [-0.39050239, -0.31985044,  0.16953096, -0.03196563, -0.08076108,\n",
       "        -0.01046151, -0.12100317, -0.03875997,  0.82712317,  0.09237098],\n",
       "       [-0.06680369,  0.29318028, -0.63580246, -0.1572614 ,  0.02435609,\n",
       "        -0.3499821 , -0.01344496, -0.11341296,  0.13289938,  0.57168215]])"
      ]
     },
     "metadata": {},
     "output_type": "display_data"
    },
    {
     "name": "stdout",
     "output_type": "stream",
     "text": [
      "----------------------------------------\n",
      "The reduced dimensionality matrix (U dot product with diagonal)\n"
     ]
    },
    {
     "data": {
      "text/plain": [
       "array([[-1.94351535e+01,  2.92416200e+00,  3.11834644e+00,\n",
       "         1.98507297e-01, -4.47089992e-01,  1.37359811e-01,\n",
       "        -2.16902538e-01, -1.50211954e-01, -5.99604919e-01,\n",
       "         5.92338536e-01],\n",
       "       [-2.04836271e+01,  3.11435656e+00, -2.95327025e+00,\n",
       "         1.46238892e-01,  4.73284429e-02, -2.78701143e-01,\n",
       "         1.45965590e-01,  2.46951491e-01, -1.03461978e-01,\n",
       "        -1.46001229e-01],\n",
       "       [-1.30698479e+01, -9.22924706e+00, -8.55827171e-03,\n",
       "         3.41679976e-01,  3.95770681e-01,  4.68970574e-01,\n",
       "         3.19659163e-01, -2.24834977e-01,  2.28663871e-01,\n",
       "        -1.45617025e-01]])"
      ]
     },
     "metadata": {},
     "output_type": "display_data"
    }
   ],
   "source": [
    "### GRADED\n",
    "\n",
    "### YOUR SOLUTION HERE\n",
    "ans11a = ...\n",
    "ans11b = ...\n",
    "ans11c = ...\n",
    "ans11d = ...\n",
    "\n",
    "###\n",
    "### YOUR CODE HERE\n",
    "###\n",
    "\n",
    "### For verifying answer:\n",
    "print('-'*40)\n",
    "print(\"Original matrix\")\n",
    "display(A)\n",
    "print('-'*40)\n",
    "print(\"The 'U' matrix after decomposition\")\n",
    "display(ans11a)\n",
    "print('-'*40)\n",
    "print(\"The 'D' matrix after decomposition\")\n",
    "display(ans11b)\n",
    "print('-'*40)\n",
    "print(\"The 'VT' matrix after decomposition\")\n",
    "display(ans11c)\n",
    "print('-'*40)\n",
    "print(\"The reduced dimensionality matrix (U dot product with diagonal)\")\n",
    "display(ans11d)"
   ]
  },
  {
   "cell_type": "code",
   "execution_count": 36,
   "metadata": {
    "collapsed": true,
    "deletable": false,
    "editable": false,
    "nbgrader": {
     "grade": true,
     "grade_id": "Question 11",
     "locked": true,
     "points": "10",
     "solution": false
    }
   },
   "outputs": [],
   "source": [
    "###\n",
    "### AUTOGRADER TEST - DO NOT REMOVE\n",
    "###\n"
   ]
  },
  {
   "cell_type": "markdown",
   "metadata": {
    "deletable": false,
    "editable": false,
    "nbgrader": {
     "grade": false,
     "locked": true,
     "solution": false
    }
   },
   "source": [
    "[Back to top](#Index:) \n",
    "\n",
    "## Normal Equations\n",
    "One ubiquitous use of linear algebra is to the solve least squares regression problem. This approach involves using a system of linear equations to solve for the beta coefficents directly. For an intuitive understanding, the below walks you through arriving at the normal equation from a regression model purely from an algebraic standpoint. See [this post](https://math.stackexchange.com/questions/644834/least-squares-in-a-matrix-form) for a complete derivation of the normal equations.\n",
    "\n",
    "Let's review the least squares regression line equation: \n",
    "\n",
    "<br>\n",
    "\n",
    "$\\hat y = \\hat \\beta_0 + \\hat \\beta_1x_1 + ... + \\hat \\beta_nx_n$\n",
    "\n",
    "<br>\n",
    "\n",
    "...which can be rewritten in matrix notation as:\n",
    "\n",
    "<br>\n",
    "\n",
    "$\\hat y = X \\hat \\beta$\n",
    "\n",
    "<br>\n",
    "\n",
    "where:\n",
    "\n",
    "- $\\hat \\beta$ are the least squares beta coeffients\n",
    "- $X$ is a matrix of data\n",
    "- $\\hat y$ is a vector of least squares predictions\n",
    "<br>\n",
    "\n",
    "\n",
    "where $\\hat y$ are our model's predictions.\n",
    "\n",
    "<br>\n",
    "\n",
    "Using this notation, we can apply the following linear algebra operations\n",
    "\n",
    "\n",
    "**Start**\n",
    "\n",
    "<br>\n",
    "\n",
    "$\\hat y = X\\hat\\beta$\n",
    "\n",
    "<br>\n",
    "\n",
    "**Multiply both sides by $X^T$**\n",
    "\n",
    "<br>\n",
    "\n",
    "$X^T\\hat y = X^TX\\hat\\beta$\n",
    "\n",
    "\n",
    "<br>\n",
    "\n",
    "**Multiply both sides by $(X^TX)^{-1}$**\n",
    "\n",
    "<br>\n",
    "\n",
    "$(X^TX)^{-1}X^T\\hat y = (X^TX)^{-1}(X^TX)\\hat\\beta$\n",
    "\n",
    "<br>\n",
    "\n",
    "**Since $(X^TX)^{-1}(X^TX)$ is equal to the identity matrix, the right side of the equation simplifies down to:**\n",
    "\n",
    "<br>\n",
    "\n",
    "$(X^TX)^{-1}X^T\\hat y = \\hat\\beta$\n",
    "\n",
    "<br>\n",
    "\n",
    "This final equation is known as the Normal Equation. Let's demonstrate this calculation with sample data\n",
    "\n",
    "\n",
    "Consider the sample dataset below.\n",
    "\n",
    "\n",
    "| Obs | x1 | x2 | y |\n",
    "|:-:|:-:|:-:|:-:|\n",
    "|**1**|   0.96    |    0.10   |  61.5  |\n",
    "|**2**|   1.45    |    1.05   | 113.4  |\n",
    "|**3**|   0.16    |    0.51   |  21.9  |\n",
    "|**4**|  -0.31    |   -0.99   | -42.0  |\n",
    "|**5**|   1.32    |   -0.77   |  64.5  |\n",
    "|**6**|  -1.07    |   -1.43   | -98.6  |\n",
    "|**7**|   0.56    |    0.29   |  41.4  |\n",
    "|**8**|  -1.62    |    0.21   | -94.9  |\n",
    "|**9**|   0.67    |    1.88   |  84.7  |\n",
    "|**10**|  -0.48    |    0.85   | -10.2  |\n"
   ]
  },
  {
   "cell_type": "markdown",
   "metadata": {
    "deletable": false,
    "editable": false,
    "nbgrader": {
     "grade": false,
     "locked": true,
     "solution": false
    }
   },
   "source": [
    "[Back to top](#Index:) \n",
    "\n",
    "### Question 12\n",
    "\n",
    "*15 Points*\n",
    "\n",
    "For this question, you will be asked to use the Normal Equation above to solve for the vector `b`.\n",
    "\n",
    "Using the array `A` and vector `b`, compute the parameter vector `x` and assign the result to the variable `ans12`. Round all values to 3 decimal places."
   ]
  },
  {
   "cell_type": "code",
   "execution_count": 37,
   "metadata": {
    "collapsed": true,
    "deletable": false,
    "editable": false,
    "nbgrader": {
     "grade": false,
     "locked": true,
     "solution": false
    }
   },
   "outputs": [],
   "source": [
    "# independent variables\n",
    "A = np.array([\n",
    "    [ 0.96,  0.1 ],\n",
    "    [ 1.45,  1.06],\n",
    "    [ 0.17,  0.52],\n",
    "    [-0.32, -0.99],\n",
    "    [ 1.33, -0.77],\n",
    "    [-1.07, -1.44],\n",
    "    [ 0.56,  0.3 ],\n",
    "    [-1.63,  0.22],\n",
    "    [ 0.68,  1.89],\n",
    "    [-0.48,  0.85]\n",
    "])\n",
    "\n",
    "# dependent (target) variable\n",
    "y = np.array([\n",
    "    61.5,\n",
    "    113.4,\n",
    "    21.9,\n",
    "    -42. ,\n",
    "    64.2,\n",
    "    -98.6,\n",
    "    41.4,\n",
    "    -95. ,  \n",
    "    84.7, \n",
    "    -10.2\n",
    "])"
   ]
  },
  {
   "cell_type": "code",
   "execution_count": 38,
   "metadata": {
    "collapsed": true
   },
   "outputs": [],
   "source": [
    "### GRADED\n",
    "\n",
    "### YOUR SOLUTION HERE\n",
    "ans12 = ...\n",
    "\n",
    "###\n",
    "### YOUR CODE HERE\n",
    "###\n"
   ]
  },
  {
   "cell_type": "code",
   "execution_count": 39,
   "metadata": {
    "collapsed": true,
    "deletable": false,
    "editable": false,
    "nbgrader": {
     "grade": true,
     "grade_id": "Question 12",
     "locked": true,
     "points": "15",
     "solution": false
    }
   },
   "outputs": [],
   "source": [
    "###\n",
    "### AUTOGRADER TEST - DO NOT REMOVE\n",
    "###\n"
   ]
  },
  {
   "cell_type": "code",
   "execution_count": null,
   "metadata": {
    "collapsed": true,
    "deletable": false,
    "editable": false,
    "nbgrader": {
     "grade": false,
     "locked": true,
     "solution": false
    }
   },
   "outputs": [],
   "source": []
  }
 ],
 "metadata": {
  "kernelspec": {
   "display_name": "Python 3",
   "language": "python",
   "name": "python3"
  },
  "language_info": {
   "codemirror_mode": {
    "name": "ipython",
    "version": 3
   },
   "file_extension": ".py",
   "mimetype": "text/x-python",
   "name": "python",
   "nbconvert_exporter": "python",
   "pygments_lexer": "ipython3",
   "version": "3.6.9"
  }
 },
 "nbformat": 4,
 "nbformat_minor": 4
}
