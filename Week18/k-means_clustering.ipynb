{
 "cells": [
  {
   "cell_type": "markdown",
   "metadata": {},
   "source": [
    "<h1>Clustering Algorithms</h1>\n",
    "<h3>Unsupervised learning</h3>\n",
    "<ul>\n",
    "<li>The algorithm tries to group similar data together (clusters)\n",
    "<li>Using the values of the feature space\n",
    "</ul>\n",
    "<h3>K-Means Clusterng</h3>\n",
    "<ul>\n",
    "<li>partitions the dataspace into clusters\n",
    "<li>minimizes distance between the mean of a cluster and the data points\n",
    "<li>the desired number of clusters must be known in advance\n",
    "</ul>"
   ]
  },
  {
   "cell_type": "markdown",
   "metadata": {},
   "source": [
    "<h2>Image recognition dataset</h2>\n",
    "<ul>\n",
    "<li>Digits 0-9 pixelated into 64 quadrants\n",
    "<li>Each value represents the area that is shaded\n"
   ]
  },
  {
   "cell_type": "markdown",
   "metadata": {},
   "source": [
    "<h2>Do imports</h2>"
   ]
  },
  {
   "cell_type": "code",
   "execution_count": null,
   "metadata": {
    "collapsed": true
   },
   "outputs": [],
   "source": [
    "import numpy as np\n",
    "import matplotlib.pyplot as plt\n",
    "%matplotlib inline\n",
    "from sklearn.datasets import load_digits\n",
    "from sklearn.preprocessing import scale"
   ]
  },
  {
   "cell_type": "markdown",
   "metadata": {},
   "source": [
    "<h2>Load data</h2>"
   ]
  },
  {
   "cell_type": "code",
   "execution_count": null,
   "metadata": {
    "collapsed": false
   },
   "outputs": [],
   "source": [
    "digits = load_digits()\n",
    "digits"
   ]
  },
  {
   "cell_type": "code",
   "execution_count": null,
   "metadata": {
    "collapsed": false
   },
   "outputs": [],
   "source": [
    "print(digits['DESCR'])\n"
   ]
  },
  {
   "cell_type": "markdown",
   "metadata": {},
   "source": [
    "<h2>scale the data to normal distribution</h2>"
   ]
  },
  {
   "cell_type": "code",
   "execution_count": null,
   "metadata": {
    "collapsed": false
   },
   "outputs": [],
   "source": [
    "data = scale(digits.data)"
   ]
  },
  {
   "cell_type": "code",
   "execution_count": null,
   "metadata": {
    "collapsed": false
   },
   "outputs": [],
   "source": [
    "data"
   ]
  },
  {
   "cell_type": "markdown",
   "metadata": {},
   "source": [
    "<h2>Render the digit images and their associated values</h2>"
   ]
  },
  {
   "cell_type": "code",
   "execution_count": null,
   "metadata": {
    "collapsed": false
   },
   "outputs": [],
   "source": [
    "def print_digits(images,y,max_n=10):\n",
    "    # set up the figure size in inches\n",
    "    fig = plt.figure(figsize=(12, 12))\n",
    "    fig.subplots_adjust(left=0, right=1, bottom=0, top=1,\n",
    "           hspace=.05, wspace=.5)\n",
    "    i = 0\n",
    "    while i <max_n and i <images.shape[0]:\n",
    "        # plot the images in a matrix of 20x20\n",
    "        p = fig.add_subplot(20, 20, i + 1, xticks=[],\n",
    "              yticks=[])\n",
    "        p.imshow(images[i], cmap=plt.cm.bone)\n",
    "        # label the image with the target value\n",
    "        p.text(0, 14, str(y[i]))\n",
    "        i = i + 1\n",
    "print_digits(digits.images, digits.target, max_n=10)"
   ]
  },
  {
   "cell_type": "markdown",
   "metadata": {},
   "source": [
    "<h2>Training and testing samples</h2>"
   ]
  },
  {
   "cell_type": "code",
   "execution_count": null,
   "metadata": {
    "collapsed": false
   },
   "outputs": [],
   "source": [
    "from sklearn.model_selection import train_test_split\n",
    "X_train, X_test, y_train, y_test, images_train,images_test = train_test_split(\n",
    "        data, digits.target, digits.images,  test_size=0.25, \n",
    "          random_state=42)\n",
    "\n",
    "n_samples, n_features = X_train.shape\n",
    "n_digits = len(np.unique(y_train))\n",
    "labels = y_train"
   ]
  },
  {
   "cell_type": "code",
   "execution_count": null,
   "metadata": {
    "collapsed": false
   },
   "outputs": [],
   "source": [
    "len(np.unique(y_train))"
   ]
  },
  {
   "cell_type": "markdown",
   "metadata": {},
   "source": [
    "<h2>Create the model and fit the data</h2>"
   ]
  },
  {
   "cell_type": "code",
   "execution_count": null,
   "metadata": {
    "collapsed": false
   },
   "outputs": [],
   "source": [
    "from sklearn import cluster\n",
    "clf = cluster.KMeans(init='k-means++',n_clusters=10, random_state=42)\n",
    "clf.fit(X_train)"
   ]
  },
  {
   "cell_type": "markdown",
   "metadata": {},
   "source": [
    "k-means++ runs an initializer before using the k-means algorithm"
   ]
  },
  {
   "cell_type": "code",
   "execution_count": null,
   "metadata": {
    "collapsed": false
   },
   "outputs": [],
   "source": [
    "images_train"
   ]
  },
  {
   "cell_type": "markdown",
   "metadata": {},
   "source": [
    "<h2>Call print_digits with training images, and computed labels</h2>\n",
    "<h2>Returned labels are cluster numbers</h2>"
   ]
  },
  {
   "cell_type": "code",
   "execution_count": null,
   "metadata": {
    "collapsed": false
   },
   "outputs": [],
   "source": [
    "print_digits(images_train, clf.labels_, max_n=20)"
   ]
  },
  {
   "cell_type": "markdown",
   "metadata": {},
   "source": [
    "<h2>Use test sample to generate predictions</h2>"
   ]
  },
  {
   "cell_type": "code",
   "execution_count": null,
   "metadata": {
    "collapsed": false
   },
   "outputs": [],
   "source": [
    "y_pred=clf.predict(X_test)\n",
    "y_pred"
   ]
  },
  {
   "cell_type": "code",
   "execution_count": null,
   "metadata": {
    "collapsed": false
   },
   "outputs": [],
   "source": [
    "def print_cluster(images, y_pred, cluster_number):\n",
    "    images = images[y_pred==cluster_number]\n",
    "    y_pred = y_pred[y_pred==cluster_number]\n",
    "    print_digits(images, y_pred,max_n=15)\n",
    "for i in range(10):\n",
    "      print_cluster(images_test, y_pred, i)\n"
   ]
  },
  {
   "cell_type": "markdown",
   "metadata": {},
   "source": [
    "<h1>Evaluating the model</h1>\n",
    "<li>Adjusted rand index: A measure of the similarity between two groups</li>\n",
    "<li>We'll use it to see how similar the y_test actuals and predicted groupings are</li>\n",
    "<li>http://scikit-learn.org/stable/modules/generated/sklearn.metrics.adjusted_rand_score.html</li>\n",
    "<li>0.0 indicates that there is no similarity and any overlap is explainable as totally random</li>\n",
    "<li>1.0 indicates that the two groups are identical</li>\n"
   ]
  },
  {
   "cell_type": "code",
   "execution_count": null,
   "metadata": {
    "collapsed": false
   },
   "outputs": [],
   "source": [
    "from sklearn import metrics\n",
    "print(\"Adjusted rand score: {0:2}\".format(metrics.adjusted_rand_score(y_test, y_pred)))"
   ]
  },
  {
   "cell_type": "markdown",
   "metadata": {},
   "source": [
    "<h2>Confusion matrix</h2>\n",
    "<li>Each row corresponds to a number (y_test)\n",
    "<li>Each column to y_pred (the cluster number)\n",
    "<li>Data is the number of times y_test was assigned to the corresponding y_pred\n",
    "<li>For example, 0 is fully assigned to cluster 2 (Row 0, Column 2)\n",
    "<li>8 is assigned to cluster 0  21 times (Row 8, Column 0)\n",
    "<li>7, which is cluster 6 is assigned to cluster 6 34 times (Row 7, Column 6)\n"
   ]
  },
  {
   "cell_type": "code",
   "execution_count": null,
   "metadata": {
    "collapsed": false
   },
   "outputs": [],
   "source": [
    "print(metrics.confusion_matrix(y_test, y_pred))"
   ]
  },
  {
   "cell_type": "markdown",
   "metadata": {},
   "source": [
    "<h2>Graphical view of the clusters</h2>"
   ]
  },
  {
   "cell_type": "markdown",
   "metadata": {},
   "source": [
    "<li>First reduce the x dimensions to 2 using principle component analysis</li>\n",
    "<li>https://en.wikipedia.org/wiki/Principal_component_analysis</li>\n",
    "<li>Then figure out the range of values and define the grid</li>\n",
    "<li>Run k-means on the reduced (2 component) data set</li>\n",
    "<li>Draw a color map and plot the pca points on this map</li>\n",
    "<li>Find the cluster centroids and plot them on the color map</li>\n",
    "\n"
   ]
  },
  {
   "cell_type": "code",
   "execution_count": null,
   "metadata": {
    "collapsed": false
   },
   "outputs": [],
   "source": [
    "from sklearn import decomposition\n",
    "pca = decomposition.PCA(n_components=2).fit(X_train)\n",
    "reduced_X_train = pca.transform(X_train)\n",
    "# Step size of the mesh. \n",
    "h = .01     \n",
    "# point in the mesh [x_min, m_max]x[y_min, y_max].\n",
    "x_min, x_max = reduced_X_train[:, 0].min() + 1, reduced_X_train[:, 0].max() - 1\n",
    "y_min, y_max = reduced_X_train[:, 1].min() + 1, reduced_X_train[:, 1].max() - 1\n",
    "xx, yy = np.meshgrid(np.arange(x_min, x_max, h), \n",
    "    np.arange(y_min, y_max, h))\n",
    "kmeans = cluster.KMeans(init='k-means++', n_clusters=n_digits, \n",
    "    n_init=10)\n",
    "kmeans.fit(reduced_X_train)\n",
    "Z = kmeans.predict(np.c_[xx.ravel(), yy.ravel()])\n",
    "# Put the result into a color plot\n",
    "Z = Z.reshape(xx.shape)\n",
    "plt.figure(1)\n",
    "plt.clf()\n",
    "plt.imshow(Z, interpolation='nearest', extent=(xx.min(), xx.max(), yy.min(), yy.max()), cmap=plt.cm.Paired, aspect='auto', origin='lower')\n",
    "plt.plot(reduced_X_train[:, 0], reduced_X_train[:, 1], 'k.', \n",
    "    markersize=2)\n",
    "# Plot the centroids as a white X\n",
    "centroids = kmeans.cluster_centers_\n",
    "plt.scatter(centroids[:, 0], centroids[:, 1],marker='.', \n",
    "    s=169, linewidths=3, color='w', zorder=10)\n",
    "plt.title('K-means clustering on the digits dataset (PCA reduced data)\\nCentroids are marked with white dots')\n",
    "plt.xlim(x_min, x_max)\n",
    "plt.ylim(y_min, y_max)\n",
    "plt.xticks(())\n",
    "plt.yticks(())\n",
    "plt.show()"
   ]
  },
  {
   "cell_type": "code",
   "execution_count": null,
   "metadata": {
    "collapsed": true
   },
   "outputs": [],
   "source": []
  }
 ],
 "metadata": {
  "anaconda-cloud": {},
  "kernelspec": {
   "display_name": "Python [Root]",
   "language": "python",
   "name": "Python [Root]"
  },
  "language_info": {
   "codemirror_mode": {
    "name": "ipython",
    "version": 3
   },
   "file_extension": ".py",
   "mimetype": "text/x-python",
   "name": "python",
   "nbconvert_exporter": "python",
   "pygments_lexer": "ipython3",
   "version": "3.5.2"
  }
 },
 "nbformat": 4,
 "nbformat_minor": 0
}
