{
 "cells": [
  {
   "cell_type": "markdown",
   "metadata": {},
   "source": [
    "## Code Wars"
   ]
  },
  {
   "cell_type": "code",
   "execution_count": 37,
   "metadata": {},
   "outputs": [],
   "source": [
    "#!jt -t grade3 -tf firacode -tfs 10 -mathfs 110 -fs 10 -N -T -nfs 10\n",
    "#jupyter nbextensions_configurator enable --user"
   ]
  },
  {
   "cell_type": "markdown",
   "metadata": {},
   "source": [
    "### The Hashtag Generator\n",
    "\n",
    "The marketing team is spending way too much time typing in hashtags.\n",
    "Let's help them with our own Hashtag Generator!\n",
    "\n",
    "Here's the deal:\n",
    "\n",
    "    It must start with a hashtag (#).\n",
    "    All words must have their first letter capitalized.\n",
    "    If the final result is longer than 140 chars it must return false.\n",
    "    If the input or the result is an empty string it must return false.\n",
    "\n",
    "Examples\n",
    "\n",
    "\" Hello there thanks for trying my Kata\"  =>  \"#HelloThereThanksForTryingMyKata\"\n",
    "\"    Hello     World   \"                  =>  \"#HelloWorld\"\n",
    "\"\"                                        =>  false"
   ]
  },
  {
   "cell_type": "markdown",
   "metadata": {},
   "source": [
    "#### Solution"
   ]
  },
  {
   "cell_type": "code",
   "execution_count": 38,
   "metadata": {},
   "outputs": [],
   "source": [
    "def generate_hashtag(s):\n",
    "    import string\n",
    "    cap_s = \"#\" + string.capwords(s).replace(\" \",\"\")\n",
    "    if len(cap_s) > 140 or len(cap_s) == 1:\n",
    "        return False\n",
    "    else:\n",
    "        return cap_s"
   ]
  },
  {
   "cell_type": "markdown",
   "metadata": {},
   "source": [
    "#### Test"
   ]
  },
  {
   "cell_type": "code",
   "execution_count": 39,
   "metadata": {},
   "outputs": [],
   "source": [
    "a = \"This is a String\"\n",
    "b = \"\"\n",
    "c = \"c i a is the one\"\n",
    "d = \"\"\n",
    "e = \"111111111111111111199999999999999999999999999999999999999999999999999999\\\n",
    "11111111111111111111111111111111111111111111111111111111111111111111111111111\""
   ]
  },
  {
   "cell_type": "code",
   "execution_count": 40,
   "metadata": {},
   "outputs": [
    {
     "data": {
      "text/plain": [
       "'#ThisIsAString'"
      ]
     },
     "execution_count": 40,
     "metadata": {},
     "output_type": "execute_result"
    }
   ],
   "source": [
    "generate_hashtag(a)"
   ]
  },
  {
   "cell_type": "code",
   "execution_count": 41,
   "metadata": {},
   "outputs": [
    {
     "data": {
      "text/plain": [
       "False"
      ]
     },
     "execution_count": 41,
     "metadata": {},
     "output_type": "execute_result"
    }
   ],
   "source": [
    "generate_hashtag(b)"
   ]
  },
  {
   "cell_type": "code",
   "execution_count": 42,
   "metadata": {},
   "outputs": [
    {
     "data": {
      "text/plain": [
       "'#CIAIsTheOne'"
      ]
     },
     "execution_count": 42,
     "metadata": {},
     "output_type": "execute_result"
    }
   ],
   "source": [
    "generate_hashtag(c)"
   ]
  },
  {
   "cell_type": "code",
   "execution_count": 43,
   "metadata": {},
   "outputs": [
    {
     "data": {
      "text/plain": [
       "False"
      ]
     },
     "execution_count": 43,
     "metadata": {},
     "output_type": "execute_result"
    }
   ],
   "source": [
    "generate_hashtag(d)"
   ]
  },
  {
   "cell_type": "code",
   "execution_count": 44,
   "metadata": {},
   "outputs": [
    {
     "data": {
      "text/plain": [
       "False"
      ]
     },
     "execution_count": 44,
     "metadata": {},
     "output_type": "execute_result"
    }
   ],
   "source": [
    "generate_hashtag(e)"
   ]
  },
  {
   "cell_type": "markdown",
   "metadata": {},
   "source": [
    "### Next bigger number with the same digits\n",
    "\n",
    "Create a function that takes a positive integer and returns the next bigger number that can be formed by rearranging its digits. For example:\n",
    "\n",
    "12 ==> 21\n",
    "513 ==> 531\n",
    "2017 ==> 2071\n",
    "\n",
    "If the digits can't be rearranged to form a bigger number, return -1 (or nil in Swift):\n",
    "\n",
    "9 ==> -1\n",
    "111 ==> -1\n",
    "531 ==> -1"
   ]
  },
  {
   "cell_type": "markdown",
   "metadata": {},
   "source": [
    "#### Solution"
   ]
  },
  {
   "cell_type": "code",
   "execution_count": 2,
   "metadata": {},
   "outputs": [],
   "source": [
    "# take every numeric combination and arrange them in order. \n",
    "# return the first one after the one entered\n",
    "def next_bigger(a):\n",
    "    from itertools import permutations\n",
    "    s = str(a)\n",
    "    perm = permutations(s) \n",
    "    x = list(perm)\n",
    "    nl = [int(\"\".join(x)) for x in x]\n",
    "    nl = [i for i in nl if i > a]\n",
    "    nl = sorted(nl)\n",
    "    if nl: \n",
    "        return nl[0]\n",
    "    else:\n",
    "        return -1"
   ]
  },
  {
   "cell_type": "markdown",
   "metadata": {},
   "source": [
    "#### Test"
   ]
  },
  {
   "cell_type": "code",
   "execution_count": 3,
   "metadata": {},
   "outputs": [],
   "source": [
    "# string of all combinations\n",
    "a = 245\n",
    "b = 111\n",
    "c = 5678"
   ]
  },
  {
   "cell_type": "code",
   "execution_count": 4,
   "metadata": {},
   "outputs": [
    {
     "data": {
      "text/plain": [
       "3547"
      ]
     },
     "execution_count": 4,
     "metadata": {},
     "output_type": "execute_result"
    }
   ],
   "source": [
    "next_bigger(3475)"
   ]
  },
  {
   "cell_type": "markdown",
   "metadata": {},
   "source": [
    "#### Better Solution"
   ]
  },
  {
   "cell_type": "code",
   "execution_count": null,
   "metadata": {},
   "outputs": [],
   "source": [
    "def next_bigger(n):\n",
    "    d = list(str(n))\n",
    "\n",
    "    nd = len(d)\n",
    "    try:\n",
    "        pivot = next(i for i in reversed(range(nd-1)) if d[i] < d[i+1])\n",
    "        swap  = next(i for i in reversed(range(nd)) if d[pivot] < d[i])\n",
    "    except:\n",
    "        return -1\n",
    "    d[pivot], d[swap] = d[swap], d[pivot]\n",
    "    d[pivot+1:] = reversed(d[pivot+1:])\n",
    "\n",
    "    n = int(''.join(d for d in d))\n",
    "    return n"
   ]
  },
  {
   "cell_type": "markdown",
   "metadata": {},
   "source": [
    "### My Languages\n",
    "\n",
    "Your task\n",
    "\n",
    "You are given a dictionary/hash/object containing some languages and your test results in the given languages. Return the list of languages where your test score is at least 60, in descending order of the results.\n",
    "\n",
    "Note: the scores will always be unique (so no duplicate values)\n",
    "Examples\n",
    "\n",
    "{\"Java\": 10, \"Ruby\": 80, \"Python\": 65}    -->  [\"Ruby\", \"Python\"]\n",
    "{\"Hindi\": 60, \"Dutch\" : 93, \"Greek\": 71}  -->  [\"Dutch\", \"Greek\", \"Hindi\"]\n",
    "{\"C++\": 50, \"ASM\": 10, \"Haskell\": 20}     -->  []\n",
    "\n"
   ]
  },
  {
   "cell_type": "code",
   "execution_count": 72,
   "metadata": {},
   "outputs": [],
   "source": [
    "l = {\"Java\": 10, \"Ruby\": 80, \"Python\": 65, \"Dutch\": 90}"
   ]
  },
  {
   "cell_type": "markdown",
   "metadata": {},
   "source": [
    "#### Solution"
   ]
  },
  {
   "cell_type": "code",
   "execution_count": 73,
   "metadata": {},
   "outputs": [],
   "source": [
    "def my_languages(l):\n",
    "    l = sorted(l.items(), key=lambda x: x[1], reverse = True)\n",
    "    return [x[0] for x in l if x[1] >= 60]"
   ]
  },
  {
   "cell_type": "code",
   "execution_count": 74,
   "metadata": {},
   "outputs": [
    {
     "data": {
      "text/plain": [
       "['Dutch', 'Ruby', 'Python']"
      ]
     },
     "execution_count": 74,
     "metadata": {},
     "output_type": "execute_result"
    }
   ],
   "source": [
    "my_languages(l)"
   ]
  },
  {
   "cell_type": "markdown",
   "metadata": {},
   "source": [
    "### Happy Birthday Darling!\n",
    "\n",
    "As you may know, once women pass their teens, they should only be celebrated for their 20th or 21st birthday, forever. With some maths skills, that's totally possible - you only need to select the correct number base!\n",
    "\n",
    "For example, if she turns 32, that's exactly 20 - in base 16... Already 39? That's just 21, in base 19!\n",
    "\n",
    "Your task is to translate the given age to the much desired 20 (or 21) years, and indicate the number base, in the format specified below.\n",
    "\n",
    "Note: input will be always > 21\n",
    "Examples:\n",
    "\n",
    "32  -->  \"32? That's just 20, in base 16!\"\n",
    "39  -->  \"39? That's just 21, in base 19!\""
   ]
  },
  {
   "cell_type": "code",
   "execution_count": null,
   "metadata": {},
   "outputs": [],
   "source": [
    "a = 34\n",
    "b = 40\n",
    "c 53"
   ]
  },
  {
   "cell_type": "code",
   "execution_count": 11,
   "metadata": {},
   "outputs": [],
   "source": [
    "i = hex(36)"
   ]
  },
  {
   "cell_type": "code",
   "execution_count": 12,
   "metadata": {},
   "outputs": [
    {
     "name": "stdout",
     "output_type": "stream",
     "text": [
      "0x24\n"
     ]
    }
   ],
   "source": [
    "print(i)"
   ]
  },
  {
   "cell_type": "code",
   "execution_count": 20,
   "metadata": {},
   "outputs": [
    {
     "data": {
      "text/plain": [
       "632"
      ]
     },
     "execution_count": 20,
     "metadata": {},
     "output_type": "execute_result"
    }
   ],
   "source": [
    "3 * 13**2 + 9 * 13**1 + 8 * 13**0"
   ]
  },
  {
   "cell_type": "code",
   "execution_count": 21,
   "metadata": {},
   "outputs": [
    {
     "data": {
      "text/plain": [
       "52"
      ]
     },
     "execution_count": 21,
     "metadata": {},
     "output_type": "execute_result"
    }
   ],
   "source": [
    "52"
   ]
  },
  {
   "cell_type": "code",
   "execution_count": 22,
   "metadata": {},
   "outputs": [
    {
     "data": {
      "text/plain": [
       "52"
      ]
     },
     "execution_count": 22,
     "metadata": {},
     "output_type": "execute_result"
    }
   ],
   "source": [
    "5 * 10**1 + 2 * 10**0"
   ]
  },
  {
   "cell_type": "code",
   "execution_count": 23,
   "metadata": {},
   "outputs": [
    {
     "data": {
      "text/plain": [
       "320"
      ]
     },
     "execution_count": 23,
     "metadata": {},
     "output_type": "execute_result"
    }
   ],
   "source": [
    "20 * 16**1 + 0 * 16**0"
   ]
  },
  {
   "cell_type": "code",
   "execution_count": 51,
   "metadata": {},
   "outputs": [
    {
     "data": {
      "text/plain": [
       "24"
      ]
     },
     "execution_count": 51,
     "metadata": {},
     "output_type": "execute_result"
    }
   ],
   "source": [
    "int(\"20\", 12) "
   ]
  },
  {
   "cell_type": "code",
   "execution_count": 109,
   "metadata": {},
   "outputs": [],
   "source": [
    "age = 32\n",
    "age_b = age/2"
   ]
  },
  {
   "cell_type": "code",
   "execution_count": 116,
   "metadata": {},
   "outputs": [],
   "source": [
    "def womens_age(age):\n",
    "    if age % 2 == 0:\n",
    "        return (str(age)+\"? That's just 20, in base \" + str(int(age/2))+\"!\" )\n",
    "    else:\n",
    "        return (str(age)+\"? That's just 21, in base \" + str(int(age/2))+\"!\" )"
   ]
  },
  {
   "cell_type": "code",
   "execution_count": 117,
   "metadata": {},
   "outputs": [
    {
     "data": {
      "text/plain": [
       "\"32? That's just 20, in base 16!\""
      ]
     },
     "execution_count": 117,
     "metadata": {},
     "output_type": "execute_result"
    }
   ],
   "source": [
    "womens_age(32)"
   ]
  },
  {
   "cell_type": "markdown",
   "metadata": {},
   "source": [
    "#### Better Solution"
   ]
  },
  {
   "cell_type": "code",
   "execution_count": 118,
   "metadata": {},
   "outputs": [],
   "source": [
    "def womens_age(n):\n",
    "    return f\"{n}? That's just {20+n%2}, in base {n//2}!\""
   ]
  },
  {
   "cell_type": "code",
   "execution_count": 119,
   "metadata": {},
   "outputs": [
    {
     "data": {
      "text/plain": [
       "\"33? That's just 21, in base 16!\""
      ]
     },
     "execution_count": 119,
     "metadata": {},
     "output_type": "execute_result"
    }
   ],
   "source": [
    "womens_age(33)"
   ]
  },
  {
   "cell_type": "code",
   "execution_count": null,
   "metadata": {},
   "outputs": [],
   "source": []
  }
 ],
 "metadata": {
  "kernelspec": {
   "display_name": "Python 3",
   "language": "python",
   "name": "python3"
  },
  "language_info": {
   "codemirror_mode": {
    "name": "ipython",
    "version": 3
   },
   "file_extension": ".py",
   "mimetype": "text/x-python",
   "name": "python",
   "nbconvert_exporter": "python",
   "pygments_lexer": "ipython3",
   "version": "3.6.9"
  }
 },
 "nbformat": 4,
 "nbformat_minor": 4
}
