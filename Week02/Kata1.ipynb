{
 "cells": [
  {
   "cell_type": "markdown",
   "metadata": {},
   "source": [
    "## Code Wars"
   ]
  },
  {
   "cell_type": "code",
   "execution_count": 37,
   "metadata": {},
   "outputs": [],
   "source": [
    "#!jt -t grade3 -tf firacode -tfs 10 -mathfs 110 -fs 10 -N -T -nfs 10\n",
    "#jupyter nbextensions_configurator enable --user"
   ]
  },
  {
   "cell_type": "markdown",
   "metadata": {},
   "source": [
    "### The Hashtag Generator\n",
    "\n",
    "The marketing team is spending way too much time typing in hashtags.\n",
    "Let's help them with our own Hashtag Generator!\n",
    "\n",
    "Here's the deal:\n",
    "\n",
    "    It must start with a hashtag (#).\n",
    "    All words must have their first letter capitalized.\n",
    "    If the final result is longer than 140 chars it must return false.\n",
    "    If the input or the result is an empty string it must return false.\n",
    "\n",
    "Examples\n",
    "\n",
    "\" Hello there thanks for trying my Kata\"  =>  \"#HelloThereThanksForTryingMyKata\"\n",
    "\"    Hello     World   \"                  =>  \"#HelloWorld\"\n",
    "\"\"                                        =>  false"
   ]
  },
  {
   "cell_type": "markdown",
   "metadata": {},
   "source": [
    "#### Solution"
   ]
  },
  {
   "cell_type": "code",
   "execution_count": 38,
   "metadata": {},
   "outputs": [],
   "source": [
    "def generate_hashtag(s):\n",
    "    import string\n",
    "    cap_s = \"#\" + string.capwords(s).replace(\" \",\"\")\n",
    "    if len(cap_s) > 140 or len(cap_s) == 1:\n",
    "        return False\n",
    "    else:\n",
    "        return cap_s"
   ]
  },
  {
   "cell_type": "markdown",
   "metadata": {},
   "source": [
    "#### Test"
   ]
  },
  {
   "cell_type": "code",
   "execution_count": 39,
   "metadata": {},
   "outputs": [],
   "source": [
    "a = \"This is a String\"\n",
    "b = \"\"\n",
    "c = \"c i a is the one\"\n",
    "d = \"\"\n",
    "e = \"111111111111111111199999999999999999999999999999999999999999999999999999\\\n",
    "11111111111111111111111111111111111111111111111111111111111111111111111111111\""
   ]
  },
  {
   "cell_type": "code",
   "execution_count": 40,
   "metadata": {},
   "outputs": [
    {
     "data": {
      "text/plain": [
       "'#ThisIsAString'"
      ]
     },
     "execution_count": 40,
     "metadata": {},
     "output_type": "execute_result"
    }
   ],
   "source": [
    "generate_hashtag(a)"
   ]
  },
  {
   "cell_type": "code",
   "execution_count": 41,
   "metadata": {},
   "outputs": [
    {
     "data": {
      "text/plain": [
       "False"
      ]
     },
     "execution_count": 41,
     "metadata": {},
     "output_type": "execute_result"
    }
   ],
   "source": [
    "generate_hashtag(b)"
   ]
  },
  {
   "cell_type": "code",
   "execution_count": 42,
   "metadata": {},
   "outputs": [
    {
     "data": {
      "text/plain": [
       "'#CIAIsTheOne'"
      ]
     },
     "execution_count": 42,
     "metadata": {},
     "output_type": "execute_result"
    }
   ],
   "source": [
    "generate_hashtag(c)"
   ]
  },
  {
   "cell_type": "code",
   "execution_count": 43,
   "metadata": {},
   "outputs": [
    {
     "data": {
      "text/plain": [
       "False"
      ]
     },
     "execution_count": 43,
     "metadata": {},
     "output_type": "execute_result"
    }
   ],
   "source": [
    "generate_hashtag(d)"
   ]
  },
  {
   "cell_type": "code",
   "execution_count": 44,
   "metadata": {},
   "outputs": [
    {
     "data": {
      "text/plain": [
       "False"
      ]
     },
     "execution_count": 44,
     "metadata": {},
     "output_type": "execute_result"
    }
   ],
   "source": [
    "generate_hashtag(e)"
   ]
  },
  {
   "cell_type": "markdown",
   "metadata": {},
   "source": [
    "### Next bigger number with the same digits\n",
    "\n",
    "Create a function that takes a positive integer and returns the next bigger number that can be formed by rearranging its digits. For example:\n",
    "\n",
    "12 ==> 21\n",
    "513 ==> 531\n",
    "2017 ==> 2071\n",
    "\n",
    "If the digits can't be rearranged to form a bigger number, return -1 (or nil in Swift):\n",
    "\n",
    "9 ==> -1\n",
    "111 ==> -1\n",
    "531 ==> -1"
   ]
  },
  {
   "cell_type": "markdown",
   "metadata": {},
   "source": [
    "#### Solution"
   ]
  },
  {
   "cell_type": "code",
   "execution_count": 2,
   "metadata": {},
   "outputs": [],
   "source": [
    "# take every numeric combination and arrange them in order. \n",
    "# return the first one after the one entered\n",
    "def next_bigger(a):\n",
    "    from itertools import permutations\n",
    "    s = str(a)\n",
    "    perm = permutations(s) \n",
    "    x = list(perm)\n",
    "    nl = [int(\"\".join(x)) for x in x]\n",
    "    nl = [i for i in nl if i > a]\n",
    "    nl = sorted(nl)\n",
    "    if nl: \n",
    "        return nl[0]\n",
    "    else:\n",
    "        return -1"
   ]
  },
  {
   "cell_type": "markdown",
   "metadata": {},
   "source": [
    "#### Test"
   ]
  },
  {
   "cell_type": "code",
   "execution_count": 3,
   "metadata": {},
   "outputs": [],
   "source": [
    "# string of all combinations\n",
    "a = 245\n",
    "b = 111\n",
    "c = 5678"
   ]
  },
  {
   "cell_type": "code",
   "execution_count": 4,
   "metadata": {},
   "outputs": [
    {
     "data": {
      "text/plain": [
       "3547"
      ]
     },
     "execution_count": 4,
     "metadata": {},
     "output_type": "execute_result"
    }
   ],
   "source": [
    "next_bigger(3475)"
   ]
  },
  {
   "cell_type": "markdown",
   "metadata": {},
   "source": [
    "#### Better Solution"
   ]
  },
  {
   "cell_type": "code",
   "execution_count": null,
   "metadata": {},
   "outputs": [],
   "source": [
    "def next_bigger(n):\n",
    "    d = list(str(n))\n",
    "\n",
    "    nd = len(d)\n",
    "    try:\n",
    "        pivot = next(i for i in reversed(range(nd-1)) if d[i] < d[i+1])\n",
    "        swap  = next(i for i in reversed(range(nd)) if d[pivot] < d[i])\n",
    "    except:\n",
    "        return -1\n",
    "    d[pivot], d[swap] = d[swap], d[pivot]\n",
    "    d[pivot+1:] = reversed(d[pivot+1:])\n",
    "\n",
    "    n = int(''.join(d for d in d))\n",
    "    return n"
   ]
  },
  {
   "cell_type": "markdown",
   "metadata": {},
   "source": [
    "### My Languages\n",
    "\n",
    "Your task\n",
    "\n",
    "You are given a dictionary/hash/object containing some languages and your test results in the given languages. Return the list of languages where your test score is at least 60, in descending order of the results.\n",
    "\n",
    "Note: the scores will always be unique (so no duplicate values)\n",
    "Examples\n",
    "\n",
    "{\"Java\": 10, \"Ruby\": 80, \"Python\": 65}    -->  [\"Ruby\", \"Python\"]\n",
    "{\"Hindi\": 60, \"Dutch\" : 93, \"Greek\": 71}  -->  [\"Dutch\", \"Greek\", \"Hindi\"]\n",
    "{\"C++\": 50, \"ASM\": 10, \"Haskell\": 20}     -->  []\n",
    "\n"
   ]
  },
  {
   "cell_type": "code",
   "execution_count": 72,
   "metadata": {},
   "outputs": [],
   "source": [
    "l = {\"Java\": 10, \"Ruby\": 80, \"Python\": 65, \"Dutch\": 90}"
   ]
  },
  {
   "cell_type": "markdown",
   "metadata": {},
   "source": [
    "#### Solution"
   ]
  },
  {
   "cell_type": "code",
   "execution_count": 73,
   "metadata": {},
   "outputs": [],
   "source": [
    "def my_languages(l):\n",
    "    l = sorted(l.items(), key=lambda x: x[1], reverse = True)\n",
    "    return [x[0] for x in l if x[1] >= 60]"
   ]
  },
  {
   "cell_type": "code",
   "execution_count": 74,
   "metadata": {},
   "outputs": [
    {
     "data": {
      "text/plain": [
       "['Dutch', 'Ruby', 'Python']"
      ]
     },
     "execution_count": 74,
     "metadata": {},
     "output_type": "execute_result"
    }
   ],
   "source": [
    "my_languages(l)"
   ]
  },
  {
   "cell_type": "markdown",
   "metadata": {},
   "source": [
    "### Happy Birthday Darling!\n",
    "\n",
    "As you may know, once women pass their teens, they should only be celebrated for their 20th or 21st birthday, forever. With some maths skills, that's totally possible - you only need to select the correct number base!\n",
    "\n",
    "For example, if she turns 32, that's exactly 20 - in base 16... Already 39? That's just 21, in base 19!\n",
    "\n",
    "Your task is to translate the given age to the much desired 20 (or 21) years, and indicate the number base, in the format specified below.\n",
    "\n",
    "Note: input will be always > 21\n",
    "Examples:\n",
    "\n",
    "32  -->  \"32? That's just 20, in base 16!\"\n",
    "39  -->  \"39? That's just 21, in base 19!\""
   ]
  },
  {
   "cell_type": "code",
   "execution_count": null,
   "metadata": {},
   "outputs": [],
   "source": [
    "a = 34\n",
    "b = 40\n",
    "c 53"
   ]
  },
  {
   "cell_type": "code",
   "execution_count": 11,
   "metadata": {},
   "outputs": [],
   "source": [
    "i = hex(36)"
   ]
  },
  {
   "cell_type": "code",
   "execution_count": 12,
   "metadata": {},
   "outputs": [
    {
     "name": "stdout",
     "output_type": "stream",
     "text": [
      "0x24\n"
     ]
    }
   ],
   "source": [
    "print(i)"
   ]
  },
  {
   "cell_type": "code",
   "execution_count": 20,
   "metadata": {},
   "outputs": [
    {
     "data": {
      "text/plain": [
       "632"
      ]
     },
     "execution_count": 20,
     "metadata": {},
     "output_type": "execute_result"
    }
   ],
   "source": [
    "3 * 13**2 + 9 * 13**1 + 8 * 13**0"
   ]
  },
  {
   "cell_type": "code",
   "execution_count": 21,
   "metadata": {},
   "outputs": [
    {
     "data": {
      "text/plain": [
       "52"
      ]
     },
     "execution_count": 21,
     "metadata": {},
     "output_type": "execute_result"
    }
   ],
   "source": [
    "52"
   ]
  },
  {
   "cell_type": "code",
   "execution_count": 22,
   "metadata": {},
   "outputs": [
    {
     "data": {
      "text/plain": [
       "52"
      ]
     },
     "execution_count": 22,
     "metadata": {},
     "output_type": "execute_result"
    }
   ],
   "source": [
    "5 * 10**1 + 2 * 10**0"
   ]
  },
  {
   "cell_type": "code",
   "execution_count": 23,
   "metadata": {},
   "outputs": [
    {
     "data": {
      "text/plain": [
       "320"
      ]
     },
     "execution_count": 23,
     "metadata": {},
     "output_type": "execute_result"
    }
   ],
   "source": [
    "20 * 16**1 + 0 * 16**0"
   ]
  },
  {
   "cell_type": "code",
   "execution_count": 51,
   "metadata": {},
   "outputs": [
    {
     "data": {
      "text/plain": [
       "24"
      ]
     },
     "execution_count": 51,
     "metadata": {},
     "output_type": "execute_result"
    }
   ],
   "source": [
    "int(\"20\", 12) "
   ]
  },
  {
   "cell_type": "code",
   "execution_count": 109,
   "metadata": {},
   "outputs": [],
   "source": [
    "age = 32\n",
    "age_b = age/2"
   ]
  },
  {
   "cell_type": "code",
   "execution_count": 116,
   "metadata": {},
   "outputs": [],
   "source": [
    "def womens_age(age):\n",
    "    if age % 2 == 0:\n",
    "        return (str(age)+\"? That's just 20, in base \" + str(int(age/2))+\"!\" )\n",
    "    else:\n",
    "        return (str(age)+\"? That's just 21, in base \" + str(int(age/2))+\"!\" )"
   ]
  },
  {
   "cell_type": "code",
   "execution_count": 117,
   "metadata": {},
   "outputs": [
    {
     "data": {
      "text/plain": [
       "\"32? That's just 20, in base 16!\""
      ]
     },
     "execution_count": 117,
     "metadata": {},
     "output_type": "execute_result"
    }
   ],
   "source": [
    "womens_age(32)"
   ]
  },
  {
   "cell_type": "markdown",
   "metadata": {},
   "source": [
    "#### Better Solution"
   ]
  },
  {
   "cell_type": "code",
   "execution_count": 118,
   "metadata": {},
   "outputs": [],
   "source": [
    "def womens_age(n):\n",
    "    return f\"{n}? That's just {20+n%2}, in base {n//2}!\""
   ]
  },
  {
   "cell_type": "code",
   "execution_count": 119,
   "metadata": {},
   "outputs": [
    {
     "data": {
      "text/plain": [
       "\"33? That's just 21, in base 16!\""
      ]
     },
     "execution_count": 119,
     "metadata": {},
     "output_type": "execute_result"
    }
   ],
   "source": [
    "womens_age(33)"
   ]
  },
  {
   "cell_type": "markdown",
   "metadata": {},
   "source": [
    "### Number of trailing zeros of N!"
   ]
  },
  {
   "cell_type": "markdown",
   "metadata": {},
   "source": [
    "m\n",
    "Write a program that will calculate the number of trailing zeros in a factorial of a given number.\n",
    "\n",
    "N! = 1 * 2 * 3 * ... * N\n",
    "\n",
    "Be careful 1000! has 2568 digits...\n",
    "\n",
    "For more info, see: http://mathworld.wolfram.com/Factorial.html\n",
    "Examples\n",
    "\n",
    "zeros(6) = 1\n",
    "6! = 1 * 2 * 3 * 4 * 5 * 6 = 720 --> 1 trailing zero\n",
    "\n",
    "zeros(12) = 2\n",
    "12! = 479001600 --> 2 trailing zeros\n",
    "\n",
    "Hint: You're not meant to calculate the factorial. Find another way to find the number of zeros.\n"
   ]
  },
  {
   "cell_type": "code",
   "execution_count": 121,
   "metadata": {},
   "outputs": [],
   "source": [
    "n = 1000"
   ]
  },
  {
   "cell_type": "markdown",
   "metadata": {},
   "source": [
    "Okay, there are 1000 ÷ 5 = 200 multiples of 5 between 1 and 1000. The next power of 5, namely 25, has 1000 ÷ 25 = 40 multiples between 1 and 1000. The next power of 5, namely 125, will also fit in the expansion, and has 1000 ÷ 125 = 8 multiples between 1 and 1000. The next power of 5, namely 625, also fits in the expansion, and has 1000 ÷ 625 = 1.6... um, okay, 625 has 1 multiple between 1 and 1000. (I don't care about the 0.6 \"multiples\", only the one full multiple, so I truncate my division down to a whole number.)\n",
    "\n",
    "In total, I have 200 + 40 + 8 + 1 = 249 copies of the factor 5 in the expansion, and thus:\n",
    "\n",
    "249 trailing zeroes in the expansion of 1000!\n"
   ]
  },
  {
   "cell_type": "markdown",
   "metadata": {},
   "source": [
    "#### Solution"
   ]
  },
  {
   "cell_type": "code",
   "execution_count": 156,
   "metadata": {},
   "outputs": [],
   "source": [
    "def zeros(n):\n",
    "    import math\n",
    "    s = 0\n",
    "    for i in range(1,16):\n",
    "        f = 5**i\n",
    "        s += (math.trunc(n / f))\n",
    "    return(s)"
   ]
  },
  {
   "cell_type": "code",
   "execution_count": 157,
   "metadata": {},
   "outputs": [
    {
     "name": "stdout",
     "output_type": "stream",
     "text": [
      "200.0\n"
     ]
    }
   ],
   "source": [
    "print(1000 / 5)"
   ]
  },
  {
   "cell_type": "code",
   "execution_count": 158,
   "metadata": {},
   "outputs": [
    {
     "data": {
      "text/plain": [
       "249999998"
      ]
     },
     "execution_count": 158,
     "metadata": {},
     "output_type": "execute_result"
    }
   ],
   "source": [
    "zeros(1000000000)"
   ]
  },
  {
   "cell_type": "markdown",
   "metadata": {},
   "source": [
    "### Best Stock Profit in Single Sale"
   ]
  },
  {
   "cell_type": "markdown",
   "metadata": {},
   "source": [
    "You're a buyer/seller and your buisness is at stake... You need to make profit... Or at least, you need to lose the least amount of money! Knowing a list of prices for buy/sell operations, you need to pick two of them. Buy/sell market is evolving across time and the list represent this evolution. First, you need to buy one item, then sell it later. Find the best profit you can do.\n",
    "Example:\n",
    "\n",
    "Given an array of prices [3, 10, 8, 4], the best profit you could make would be 7 because you buy at 3 first, then sell at 10.\n",
    "Input:\n",
    "\n",
    "A list of prices (integers), of length 2 or more.\n",
    "Output:\n",
    "\n",
    "The result of the best buy/sell operation, as an integer.\n",
    "\n",
    "Note:\n",
    "\n",
    "Be aware you'll face lists with several thousands of elements, so think about performance.\n"
   ]
  },
  {
   "cell_type": "code",
   "execution_count": 186,
   "metadata": {},
   "outputs": [],
   "source": [
    " l = [10, 11, 5, 8, 6, 9]"
   ]
  },
  {
   "cell_type": "code",
   "execution_count": 187,
   "metadata": {},
   "outputs": [
    {
     "data": {
      "text/plain": [
       "6"
      ]
     },
     "execution_count": 187,
     "metadata": {},
     "output_type": "execute_result"
    }
   ],
   "source": [
    "max(l) - min(l)"
   ]
  },
  {
   "cell_type": "code",
   "execution_count": 190,
   "metadata": {},
   "outputs": [],
   "source": [
    "def max_profit(l):\n",
    "    max_p = l[1] - l[0]\n",
    "    for x in range(0, len(l)-1):\n",
    "        #print( f\"{l[x]} max of rest: {max(l[x+1:])}\" ) \n",
    "        prof = max(l[x+1:]) - l[x]\n",
    "        max_p = max(prof, max_p)\n",
    "        #print(f\"The current profit is {prof}\")\n",
    "    return max_p"
   ]
  },
  {
   "cell_type": "code",
   "execution_count": 192,
   "metadata": {},
   "outputs": [
    {
     "data": {
      "text/plain": [
       "4"
      ]
     },
     "execution_count": 192,
     "metadata": {},
     "output_type": "execute_result"
    }
   ],
   "source": [
    "max_profit(l)"
   ]
  },
  {
   "cell_type": "markdown",
   "metadata": {},
   "source": [
    "The above solution is too slow."
   ]
  },
  {
   "cell_type": "markdown",
   "metadata": {},
   "source": [
    "### Find min and max"
   ]
  },
  {
   "cell_type": "markdown",
   "metadata": {},
   "source": [
    "Implement a function that returns the minimal and the maximal value of a list (in this order)."
   ]
  },
  {
   "cell_type": "markdown",
   "metadata": {},
   "source": [
    "### Solution"
   ]
  },
  {
   "cell_type": "code",
   "execution_count": 6,
   "metadata": {},
   "outputs": [],
   "source": [
    "def get_min_max(seq): \n",
    "    # your code here\n",
    "    return (min(seq), max(seq))"
   ]
  },
  {
   "cell_type": "code",
   "execution_count": 7,
   "metadata": {},
   "outputs": [
    {
     "data": {
      "text/plain": [
       "(1, 6)"
      ]
     },
     "execution_count": 7,
     "metadata": {},
     "output_type": "execute_result"
    }
   ],
   "source": [
    "get_min_max([1,2,3,4,5,6,6])"
   ]
  },
  {
   "cell_type": "markdown",
   "metadata": {},
   "source": [
    "### Weight for weight"
   ]
  },
  {
   "cell_type": "markdown",
   "metadata": {},
   "source": [
    "My friend John and I are members of the \"Fat to Fit Club (FFC)\". John is worried because each month a list with the weights of members is published and each month he is the last on the list which means he is the heaviest.\n",
    "\n",
    "I am the one who establishes the list so I told him: \"Don't worry any more, I will modify the order of the list\". It was decided to attribute a \"weight\" to numbers. The weight of a number will be from now on the sum of its digits.\n",
    "\n",
    "For example 99 will have \"weight\" 18, 100 will have \"weight\" 1 so in the list 100 will come before 99. Given a string with the weights of FFC members in normal order can you give this string ordered by \"weights\" of these numbers?\n",
    "Example:\n",
    "\n",
    "\"56 65 74 100 99 68 86 180 90\" ordered by numbers weights becomes: \"100 180 90 56 65 74 68 86 99\"\n",
    "\n",
    "When two numbers have the same \"weight\", let us class them as if they were strings (alphabetical ordering) and not numbers: 100 is before 180 because its \"weight\" (1) is less than the one of 180 (9) and 180 is before 90 since, having the same \"weight\" (9), it comes before as a string.\n",
    "\n",
    "All numbers in the list are positive numbers and the list can be empty.\n",
    "Notes\n",
    "\n",
    " * it may happen that the input string have leading, trailing whitespaces and more than a unique whitespace between two consecutive numbers\n",
    " * Don't modify the input\n",
    " *   For C: The result is freed.\n",
    "\n"
   ]
  },
  {
   "cell_type": "markdown",
   "metadata": {},
   "source": [
    "#### Solution"
   ]
  },
  {
   "cell_type": "code",
   "execution_count": 53,
   "metadata": {},
   "outputs": [],
   "source": [
    "def order_weight(l):\n",
    "    import operator\n",
    "    l = l.split()\n",
    "    b = []\n",
    "    c = []\n",
    "    for x in l:\n",
    "        a = sum(map(int, x))\n",
    "        #print(f\"The sum of digits for {x} is {a}.\")\n",
    "        b.append((x, a))\n",
    "    b.sort(key = operator.itemgetter(0))\n",
    "    b.sort(key = operator.itemgetter(1))\n",
    "    v = \"\"\n",
    "    for i in b:\n",
    "        v += \"\".join(i[0]) + \" \"\n",
    "    return v.rstrip(\" \")"
   ]
  },
  {
   "cell_type": "markdown",
   "metadata": {},
   "source": [
    "#### Test"
   ]
  },
  {
   "cell_type": "code",
   "execution_count": 54,
   "metadata": {},
   "outputs": [
    {
     "data": {
      "text/plain": [
       "'2000 103 123 4444 99'"
      ]
     },
     "execution_count": 54,
     "metadata": {},
     "output_type": "execute_result"
    }
   ],
   "source": [
    "order_weight(\"103 123 4444 99 2000\")"
   ]
  },
  {
   "cell_type": "code",
   "execution_count": 55,
   "metadata": {},
   "outputs": [],
   "source": [
    "l = \"2000 10003 1234000 44444444 9999 11 11 22 123\""
   ]
  },
  {
   "cell_type": "code",
   "execution_count": 56,
   "metadata": {},
   "outputs": [
    {
     "data": {
      "text/plain": [
       "'11 11 2000 10003 22 123 1234000 44444444 9999'"
      ]
     },
     "execution_count": 56,
     "metadata": {},
     "output_type": "execute_result"
    }
   ],
   "source": [
    "order_weight(l)"
   ]
  },
  {
   "cell_type": "markdown",
   "metadata": {},
   "source": [
    "#### Better solution"
   ]
  },
  {
   "cell_type": "code",
   "execution_count": 57,
   "metadata": {},
   "outputs": [],
   "source": [
    "def order_weight(_str):\n",
    "    return ' '.join(sorted(sorted(_str.split(' ')), key=lambda x: sum(int(c) for c in x)))"
   ]
  },
  {
   "cell_type": "markdown",
   "metadata": {},
   "source": [
    "### The observed PIN"
   ]
  },
  {
   "cell_type": "markdown",
   "metadata": {},
   "source": [
    "Alright, detective, one of our colleagues successfully observed our target person, Robby the robber. We followed him to a secret warehouse, where we assume to find all the stolen stuff. The door to this warehouse is secured by an electronic combination lock. Unfortunately our spy isn't sure about the PIN he saw, when Robby entered it.\n",
    "\n",
    "The keypad has the following layout:\n",
    "\n",
    "┌───┬───┬───┐\n",
    "│ 1 │ 2 │ 3 │\n",
    "├───┼───┼───┤\n",
    "│ 4 │ 5 │ 6 │\n",
    "├───┼───┼───┤\n",
    "│ 7 │ 8 │ 9 │\n",
    "└───┼───┼───┘\n",
    "    │ 0 │\n",
    "    └───┘\n",
    "\n",
    "He noted the PIN 1357, but he also said, it is possible that each of the digits he saw could actually be another adjacent digit (horizontally or vertically, but not diagonally). E.g. instead of the 1 it could also be the 2 or 4. And instead of the 5 it could also be the 2, 4, 6 or 8.\n",
    "<br>\n",
    "He also mentioned, he knows this kind of locks. You can enter an unlimited amount of wrong PINs, they never finally lock the system or sound the alarm. That's why we can try out all possible (*) variations.\n",
    "<br>\n",
    "* possible in sense of: the observed PIN itself and all variations considering the adjacent digits\n",
    "<br>\n",
    "\n",
    "Can you help us to find all those variations? It would be nice to have a function, that returns an array (or a list in Java and C#) of all variations for an observed PIN with a length of 1 to 8 digits. We could name the function getPINs (get_pins in python, GetPINs in C#). But please note that all PINs, the observed one and also the results, must be strings, because of potentially leading '0's. We already prepared some test cases for you.\n",
    "<br>\n",
    "Detective, we count on you!\n",
    "<br>\n",
    "For C# user: Do not use Mono. Mono is too slower when run your code.\n"
   ]
  },
  {
   "cell_type": "markdown",
   "metadata": {},
   "source": [
    "#### Solution"
   ]
  },
  {
   "cell_type": "code",
   "execution_count": 114,
   "metadata": {},
   "outputs": [],
   "source": [
    "import itertools\n",
    "\n",
    "def get_pins(observed):\n",
    "\n",
    "    nb = \\\n",
    "        {\"1\":[\"1\",\"2\",\"4\"], \n",
    "         \"2\":[\"1\",\"2\",\"3\",\"5\"], \n",
    "         \"3\":[\"2\",\"3\",\"6\"], \n",
    "         \"4\":[\"1\",\"4\",\"5\",\"7\"], \n",
    "         \"5\":[\"2\",\"4\",\"5\",\"6\",\"8\"], \n",
    "         \"6\":[\"3\",\"5\",\"6\",\"9\"],\n",
    "         \"7\":[\"4\",\"7\",\"8\"],\n",
    "         \"8\":[\"5\",\"7\",\"8\",\"9\",\"0\"],\n",
    "         \"9\":[\"6\",\"8\",\"9\"],\n",
    "         \"0\":[\"0\",\"8\"]}\n",
    "    \n",
    "    x = [nb [n] for n in observed]\n",
    "    print(x)\n",
    "    xx = list(itertools.product(*x))\n",
    "    a = [''.join(n) for n in xx]\n",
    "    return a"
   ]
  },
  {
   "cell_type": "markdown",
   "metadata": {},
   "source": [
    "#### Test"
   ]
  },
  {
   "cell_type": "code",
   "execution_count": 115,
   "metadata": {},
   "outputs": [
    {
     "name": "stdout",
     "output_type": "stream",
     "text": [
      "[['1', '2', '4'], ['0', '8'], ['6', '8', '9']]\n"
     ]
    },
    {
     "data": {
      "text/plain": [
       "['106',\n",
       " '108',\n",
       " '109',\n",
       " '186',\n",
       " '188',\n",
       " '189',\n",
       " '206',\n",
       " '208',\n",
       " '209',\n",
       " '286',\n",
       " '288',\n",
       " '289',\n",
       " '406',\n",
       " '408',\n",
       " '409',\n",
       " '486',\n",
       " '488',\n",
       " '489']"
      ]
     },
     "execution_count": 115,
     "metadata": {},
     "output_type": "execute_result"
    }
   ],
   "source": [
    "get_pins('109')"
   ]
  },
  {
   "cell_type": "markdown",
   "metadata": {},
   "source": [
    "### Beeramid"
   ]
  },
  {
   "cell_type": "markdown",
   "metadata": {},
   "source": [
    "Let's pretend your company just hired your friend from college and paid you a referral bonus. Awesome! To celebrate, you're taking your team out to the terrible dive bar next door and using the referral bonus to buy, and build, the largest three-dimensional beer can pyramid you can. And then probably drink those beers, because let's pretend it's Friday too.\n",
    "\n",
    "A beer can pyramid will square the number of cans in each level - 1 can in the top level, 4 in the second, 9 in the next, 16, 25...\n",
    "\n",
    "Complete the beeramid function to return the number of complete levels of a beer can pyramid you can make, given the parameters of:\n",
    "\n",
    "1) your referral bonus, and\n",
    "\n",
    "2) the price of a beer can\n",
    "\n",
    "For example:\n",
    "\n",
    "beeramid(1500, 2); // should === 12\n",
    "beeramid(5000, 3); // should === 16"
   ]
  },
  {
   "cell_type": "markdown",
   "metadata": {},
   "source": [
    "#### Solution"
   ]
  },
  {
   "cell_type": "code",
   "execution_count": 138,
   "metadata": {},
   "outputs": [],
   "source": [
    "def beeramid(bonus, price):\n",
    "    beers = int(bonus/price)\n",
    "    print(f\"num bonus:{bonus},price:{price}, beers{beers}\")\n",
    "    import numpy as np\n",
    "    l = [(x**2) for x in [0,1,2,3,4,5,6,7,8,9,10,11,12,13,14,15,16,17,18,19,20]]\n",
    "    a = np.cumsum(l)\n",
    "    a = list(a)\n",
    "    print(a)\n",
    "    min_val = min(i for i in a if i > beers)\n",
    "    print(f\"num beers{beers}, cum beers:{min_val}\")\n",
    "    return max(0,a.index(min_val)-1)"
   ]
  },
  {
   "cell_type": "markdown",
   "metadata": {},
   "source": [
    "#### Better solution"
   ]
  },
  {
   "cell_type": "code",
   "execution_count": 149,
   "metadata": {},
   "outputs": [],
   "source": [
    "def beeramid(bonus, price):\n",
    "    beers  = bonus // price\n",
    "    levels = 0\n",
    "    \n",
    "    while beers >= (levels + 1) ** 2:\n",
    "        levels += 1\n",
    "        beers  -= levels ** 2\n",
    "    \n",
    "    return levels"
   ]
  },
  {
   "cell_type": "code",
   "execution_count": 150,
   "metadata": {},
   "outputs": [
    {
     "name": "stdout",
     "output_type": "stream",
     "text": [
      "Levels:0,Beers:450\n",
      "Levels:1,Beers:449\n",
      "Levels:2,Beers:445\n",
      "Levels:3,Beers:436\n",
      "Levels:4,Beers:420\n",
      "Levels:5,Beers:395\n",
      "Levels:6,Beers:359\n",
      "Levels:7,Beers:310\n",
      "Levels:8,Beers:246\n",
      "Levels:9,Beers:165\n"
     ]
    },
    {
     "data": {
      "text/plain": [
       "10"
      ]
     },
     "execution_count": 150,
     "metadata": {},
     "output_type": "execute_result"
    }
   ],
   "source": [
    "beeramid(900,2)"
   ]
  },
  {
   "cell_type": "markdown",
   "metadata": {},
   "source": [
    "### Shortest Knight Path"
   ]
  },
  {
   "cell_type": "markdown",
   "metadata": {},
   "source": [
    "Given two different positions on a chess board, find the least number of moves it would take a knight to get from one to the other. The positions will be passed as two arguments in algebraic notation. For example, knight(\"a3\", \"b5\") should return 1.\n",
    "\n",
    "The knight is not allowed to move off the board. The board is 8x8.\n",
    "\n",
    "For information on knight moves, see https://en.wikipedia.org/wiki/Knight_%28chess%29\n",
    "\n",
    "For information on algebraic notation, see https://en.wikipedia.org/wiki/Algebraic_notation_%28chess%29\n",
    "\n",
    "(Warning: many of the tests were generated randomly. If any do not work, the test cases will return the input, output, and expected output; please post them.)\n"
   ]
  },
  {
   "cell_type": "markdown",
   "metadata": {},
   "source": [
    "#### Solution"
   ]
  },
  {
   "cell_type": "code",
   "execution_count": 152,
   "metadata": {},
   "outputs": [],
   "source": [
    "def knight(p1, p2):\n",
    "    # start here!\n",
    "    pass"
   ]
  },
  {
   "cell_type": "markdown",
   "metadata": {},
   "source": [
    "### Complete the triangle pattern"
   ]
  },
  {
   "cell_type": "markdown",
   "metadata": {},
   "source": [
    "\n",
    "\n",
    "    When no more interesting kata can be resolved, I just choose to create the new kata, to solve their own, to enjoy the process --myjinxin2015 said\n",
    "\n",
    "Description:\n",
    "\n",
    "Give you two number m and n(two positive integer, m < n), make a triangle pattern with number sequence m to n. The order is clockwise, starting from the top corner, like this:\n",
    "\n",
    " When m=1 n=10  triangle is:\n",
    "    1\n",
    "   9 2\n",
    "  8 0 3\n",
    " 7 6 5 4\n",
    "\n",
    "Note: The pattern only uses the last digit of each number; Each row separated by \"\\n\"; Each digit separated by a space; Left side may need pad some spaces, but don't pad the right side; If m to n can not make the triangle, return \"\".\n",
    "Some examples:\n",
    "\n",
    "makeTriangle(1,3) should return:\n",
    " 1\n",
    "3 2\n",
    "\n",
    "makeTriangle(6,20) should return: \n",
    "\n",
    "    6\n",
    "   7 7\n",
    "  6 8 8\n",
    " 5 0 9 9\n",
    "4 3 2 1 0\n",
    "\n",
    "makeTriangle(1,12) should return \"\"\n"
   ]
  },
  {
   "cell_type": "code",
   "execution_count": 498,
   "metadata": {},
   "outputs": [],
   "source": [
    "def make_triangle(m,n):\n",
    "    l = [str(x)[-1] for x in range(m,n+1)]\n",
    "    v = [int(x*(x+1)/2) for x in range(0,10)]\n",
    "    print(f\"v:{v}\")\n",
    "    print(f\"l:{l}\")\n",
    "    if len(l) in v:\n",
    "        for i in range(0,len(l)):\n",
    "            if i in v:\n",
    "                print(\"\\n\",end=\"\")\n",
    "                print(\" \"*(len(l)-i),l[i],end=\"\")\n",
    "            else:\n",
    "                print(\" \",l[i],end=\"\")\n",
    "    else:\n",
    "        return \"\""
   ]
  },
  {
   "cell_type": "code",
   "execution_count": 499,
   "metadata": {},
   "outputs": [
    {
     "name": "stdout",
     "output_type": "stream",
     "text": [
      "v:[0, 1, 3, 6, 10, 15, 21, 28, 36, 45]\n",
      "l:['1', '2', '3', '4', '5', '6', '7', '8', '9', '0']\n",
      "\n",
      "           1\n",
      "          2  3\n",
      "        4  5  6\n",
      "     7  8  9  0"
     ]
    }
   ],
   "source": [
    "make_triangle(1,10)"
   ]
  },
  {
   "cell_type": "code",
   "execution_count": 485,
   "metadata": {},
   "outputs": [],
   "source": [
    "l = [6, 7, 8, 9, 10, 11, 12, 13, 14, 15, 16, 17, 18, 19, 20]"
   ]
  },
  {
   "cell_type": "code",
   "execution_count": 265,
   "metadata": {},
   "outputs": [
    {
     "data": {
      "text/plain": [
       "15"
      ]
     },
     "execution_count": 265,
     "metadata": {},
     "output_type": "execute_result"
    }
   ],
   "source": [
    "len(l)"
   ]
  },
  {
   "cell_type": "code",
   "execution_count": 229,
   "metadata": {},
   "outputs": [
    {
     "name": "stdout",
     "output_type": "stream",
     "text": [
      "67891011121314151617181920"
     ]
    }
   ],
   "source": [
    "for a in l:\n",
    "    print(a, end = \"\")"
   ]
  },
  {
   "cell_type": "code",
   "execution_count": 230,
   "metadata": {},
   "outputs": [
    {
     "data": {
      "text/plain": [
       "True"
      ]
     },
     "execution_count": 230,
     "metadata": {},
     "output_type": "execute_result"
    }
   ],
   "source": [
    "if len(l) in [int(x*(x+1)/2) for x in range(1000)]"
   ]
  },
  {
   "cell_type": "code",
   "execution_count": 210,
   "metadata": {},
   "outputs": [
    {
     "data": {
      "text/plain": [
       "(1, 3, 6, 10, 15, 21)"
      ]
     },
     "execution_count": 210,
     "metadata": {},
     "output_type": "execute_result"
    }
   ],
   "source": [
    "1,3,6,10,15,21"
   ]
  },
  {
   "cell_type": "code",
   "execution_count": 220,
   "metadata": {},
   "outputs": [
    {
     "data": {
      "text/plain": [
       "6.0"
      ]
     },
     "execution_count": 220,
     "metadata": {},
     "output_type": "execute_result"
    }
   ],
   "source": [
    "3*(3+1)/2"
   ]
  },
  {
   "cell_type": "code",
   "execution_count": 367,
   "metadata": {},
   "outputs": [
    {
     "data": {
      "text/plain": [
       "(1, 9, 2, 8, 0, 3, 7, 6, 5, 4)"
      ]
     },
     "execution_count": 367,
     "metadata": {},
     "output_type": "execute_result"
    }
   ],
   "source": [
    "1,9,2,8,0,3,7,6,5,4"
   ]
  },
  {
   "cell_type": "code",
   "execution_count": 28,
   "metadata": {},
   "outputs": [
    {
     "name": "stdout",
     "output_type": "stream",
     "text": [
      "   1\n",
      "  9 2\n",
      " 8 0 3\n",
      "7 6 5 4\n"
     ]
    }
   ],
   "source": [
    "print('   1\\n  9 2\\n 8 0 3\\n7 6 5 4')"
   ]
  },
  {
   "cell_type": "code",
   "execution_count": 1,
   "metadata": {},
   "outputs": [],
   "source": [
    "def make_triangle(m,n):\n",
    "    l = [x for x in range(m,n+1)]\n",
    "    # these are all the possible number of\n",
    "    # elements\n",
    "    v = [int(x*(x+1)/2) for x in range(0,400)]\n",
    "    #print(f\"l:{l},\\nv:{v}\")\n",
    "    if len(l) in v:\n",
    "        s = \"\"\n",
    "        t = \"\"\n",
    "        for c in l:\n",
    "            s = s+str(c)[-1]+\" \"\n",
    "            if l.index(c)+1 in v:\n",
    "                #print(f\"c:{c}\")\n",
    "                s = s + \"\\n\"\n",
    "        #reverse string to add spaces \n",
    "        # last line gets 0 space, second last one\n",
    "        # space etc.\n",
    "        s = s[::-1]\n",
    "        z = 0\n",
    "        for i in s:\n",
    "            if i == \"\\n\":\n",
    "                t += \" \"*z+i\n",
    "                z += 1\n",
    "            else:\n",
    "                t += i\n",
    "        t = (z * \" \") + t[::-1]\n",
    "        return print(t)\n",
    "    else:\n",
    "        return \"\""
   ]
  },
  {
   "cell_type": "code",
   "execution_count": 3,
   "metadata": {},
   "outputs": [
    {
     "name": "stdout",
     "output_type": "stream",
     "text": [
      "     1 \n",
      "    2 3 \n",
      "   4 5 6 \n",
      "  7 8 9 0 \n",
      " 1 2 3 4 5 \n",
      "\n"
     ]
    }
   ],
   "source": [
    "make_triangle(1,15)"
   ]
  },
  {
   "cell_type": "markdown",
   "metadata": {},
   "source": [
    "#### Best Solution"
   ]
  },
  {
   "cell_type": "markdown",
   "metadata": {},
   "source": [
    "This solution actually works. I could not determine the answer, needed cycle function from itertools."
   ]
  },
  {
   "cell_type": "code",
   "execution_count": 6,
   "metadata": {},
   "outputs": [],
   "source": [
    "from itertools import cycle\n",
    "from math import sqrt\n",
    "\n",
    "def make_triangle(start, end):\n",
    "    rows = sqrt(8 * (end - start) + 9) / 2 - .5\n",
    "\n",
    "    if not rows.is_integer():\n",
    "        return ''\n",
    "\n",
    "    rows = int(rows)\n",
    "    row, col, value = -1, -1, start\n",
    "\n",
    "    directions = cycle([(1, 0), (0, -1), (-1, 1)])\n",
    "    triangle = [[''] * n for n in range(1, rows + 1)]\n",
    "\n",
    "    for times in range(rows, 0, -1):\n",
    "        cur_dir = next(directions)\n",
    "\n",
    "        for _ in range(times):\n",
    "            row += cur_dir[0]\n",
    "            col += cur_dir[1]\n",
    "\n",
    "            triangle[row][col] = str(value % 10)\n",
    "            value += 1\n",
    "\n",
    "    return \"\\n\".join(' ' * (rows - i - 1) + ' '.join(r) for i, r in enumerate(triangle))"
   ]
  },
  {
   "cell_type": "code",
   "execution_count": 11,
   "metadata": {},
   "outputs": [
    {
     "name": "stdout",
     "output_type": "stream",
     "text": [
      "    1\n",
      "   2 2\n",
      "  1 3 3\n",
      " 0 5 4 4\n",
      "9 8 7 6 5\n"
     ]
    }
   ],
   "source": [
    "print(make_triangle(1,15))"
   ]
  },
  {
   "cell_type": "markdown",
   "metadata": {},
   "source": [
    "### Largest 5 digit number in a series"
   ]
  },
  {
   "cell_type": "markdown",
   "metadata": {},
   "source": [
    "In the following 6 digit number:\n",
    "\n",
    "283910\n",
    "\n",
    "91 is the greatest sequence of 2 consecutive digits.\n",
    "\n",
    "In the following 10 digit number:\n",
    "\n",
    "1234567890\n",
    "\n",
    "67890 is the greatest sequence of 5 consecutive digits.\n",
    "\n",
    "Complete the solution so that it returns the greatest sequence of five consecutive digits found within the number given. The number will be passed in as a string of only digits. It should return a five digit integer. The number passed may be as large as 1000 digits. "
   ]
  },
  {
   "cell_type": "markdown",
   "metadata": {},
   "source": [
    "#### Solution"
   ]
  },
  {
   "cell_type": "code",
   "execution_count": 14,
   "metadata": {},
   "outputs": [],
   "source": [
    "number = \"731671765313306249192251196744265747423553491949349698352\""
   ]
  },
  {
   "cell_type": "code",
   "execution_count": 31,
   "metadata": {},
   "outputs": [],
   "source": [
    "def solution(digits):\n",
    "    l = len(digits)\n",
    "    num_list = []\n",
    "    for n in range(0,l-4):\n",
    "        a = digits[n:n+5]\n",
    "        num_list.append(int(a))\n",
    "    return max(num_list)"
   ]
  },
  {
   "cell_type": "code",
   "execution_count": 32,
   "metadata": {},
   "outputs": [
    {
     "data": {
      "text/plain": [
       "98765"
      ]
     },
     "execution_count": 32,
     "metadata": {},
     "output_type": "execute_result"
    }
   ],
   "source": [
    "solution(\"1234567898765\")"
   ]
  },
  {
   "cell_type": "code",
   "execution_count": 33,
   "metadata": {},
   "outputs": [
    {
     "data": {
      "text/plain": [
       "98352"
      ]
     },
     "execution_count": 33,
     "metadata": {},
     "output_type": "execute_result"
    }
   ],
   "source": [
    "solution(number)"
   ]
  },
  {
   "cell_type": "markdown",
   "metadata": {},
   "source": [
    "#### Other Solution"
   ]
  },
  {
   "cell_type": "code",
   "execution_count": 34,
   "metadata": {},
   "outputs": [],
   "source": [
    "def solution(digits):\n",
    "    numlist = [int(digits[i:i+5]) for i in range(0,len(digits)-4)]\n",
    "    return max(numlist)\n"
   ]
  },
  {
   "cell_type": "code",
   "execution_count": 35,
   "metadata": {},
   "outputs": [
    {
     "data": {
      "text/plain": [
       "81738"
      ]
     },
     "execution_count": 35,
     "metadata": {},
     "output_type": "execute_result"
    }
   ],
   "source": [
    "solution('1238173813671476141841')"
   ]
  },
  {
   "cell_type": "markdown",
   "metadata": {},
   "source": [
    "### Permutations"
   ]
  },
  {
   "cell_type": "markdown",
   "metadata": {},
   "source": [
    "In this kata you have to create all permutations of an input string and remove duplicates, if present. This means, you have to shuffle all letters from the input in all possible orders.\n",
    "\n",
    "Examples:\n",
    "\n",
    "permutations('a'); # ['a']\n",
    "permutations('ab'); # ['ab', 'ba']\n",
    "permutations('aabb'); # ['aabb', 'abab', 'abba', 'baab', 'baba', 'bbaa']\n",
    "\n",
    "The order of the permutations doesn't matter.\n"
   ]
  },
  {
   "cell_type": "markdown",
   "metadata": {},
   "source": [
    "#### Solution"
   ]
  },
  {
   "cell_type": "code",
   "execution_count": 48,
   "metadata": {},
   "outputs": [],
   "source": [
    "import itertools\n",
    "from collections import OrderedDict\n",
    "\n",
    "def permutations(string):\n",
    "    character_sequences = itertools.permutations(string)\n",
    "    permutations_list = [\"\".join(sequence) for sequence in character_sequences]    \n",
    "    return list(OrderedDict.fromkeys(permutations_list))"
   ]
  },
  {
   "cell_type": "code",
   "execution_count": 49,
   "metadata": {},
   "outputs": [
    {
     "data": {
      "text/plain": [
       "['aabb', 'abab', 'abba', 'baab', 'baba', 'bbaa']"
      ]
     },
     "execution_count": 49,
     "metadata": {},
     "output_type": "execute_result"
    }
   ],
   "source": [
    "permutations('aabb')"
   ]
  },
  {
   "cell_type": "markdown",
   "metadata": {},
   "source": [
    "#### Another Solution"
   ]
  },
  {
   "cell_type": "markdown",
   "metadata": {},
   "source": [
    "This one uses *Set* in order to get a unique list of permutations "
   ]
  },
  {
   "cell_type": "code",
   "execution_count": 51,
   "metadata": {},
   "outputs": [],
   "source": [
    "import itertools\n",
    "\n",
    "def permutations(string):\n",
    "    return list(\"\".join(p) for p in set(itertools.permutations(string)))"
   ]
  },
  {
   "cell_type": "markdown",
   "metadata": {},
   "source": [
    "### Series of integers from m to n"
   ]
  },
  {
   "cell_type": "markdown",
   "metadata": {},
   "source": [
    "#### Solution"
   ]
  },
  {
   "cell_type": "code",
   "execution_count": 81,
   "metadata": {},
   "outputs": [],
   "source": [
    "def generate_integers(m, n): \n",
    "    return [x for x in range(m,n+1)]"
   ]
  },
  {
   "cell_type": "code",
   "execution_count": 82,
   "metadata": {},
   "outputs": [
    {
     "data": {
      "text/plain": [
       "[1, 2, 3, 4, 5, 6, 7, 8, 9, 10]"
      ]
     },
     "execution_count": 82,
     "metadata": {},
     "output_type": "execute_result"
    }
   ],
   "source": [
    "generate_integers(1,10)"
   ]
  },
  {
   "cell_type": "markdown",
   "metadata": {},
   "source": [
    "### Number Zoo Patrol"
   ]
  },
  {
   "cell_type": "markdown",
   "metadata": {},
   "source": [
    "Background:\n",
    "\n",
    "You're working in a number zoo, and it seems that one of the numbers has gone missing!\n",
    "\n",
    "Zoo workers have no idea what number is missing, and are too incompetent to figure it out, so they're hiring you to do it for them.\n",
    "\n",
    "In case the zoo loses another number, they want your program to work regardless of how many numbers there are in total.\n",
    "Task:\n",
    "\n",
    "Write a function that takes a shuffled list of unique numbers from 1 to n with one element missing (which can be any number including n). Return this missing number.\n",
    "\n",
    "Note: huge lists will be tested.\n",
    "Examples:\n",
    "\n",
    "[1, 3, 4]  =>  2<br>\n",
    "[1, 2, 3]  =>  4<br>\n",
    "[4, 2, 3]  =>  1<br>"
   ]
  },
  {
   "cell_type": "markdown",
   "metadata": {},
   "source": [
    "#### Solution"
   ]
  },
  {
   "cell_type": "code",
   "execution_count": 26,
   "metadata": {},
   "outputs": [],
   "source": [
    "def find_missing_number(a):\n",
    "    n = len(a)\n",
    "    i, t = 0, 1\n",
    "    \n",
    "    for i in range(2, n + 2):\n",
    "        t += i\n",
    "        t -= a[i - 2]\n",
    "    return t"
   ]
  },
  {
   "cell_type": "code",
   "execution_count": 29,
   "metadata": {},
   "outputs": [],
   "source": [
    "n = [1,2,3,4,5,7,8,9]"
   ]
  },
  {
   "cell_type": "code",
   "execution_count": 30,
   "metadata": {},
   "outputs": [
    {
     "data": {
      "text/plain": [
       "6"
      ]
     },
     "execution_count": 30,
     "metadata": {},
     "output_type": "execute_result"
    }
   ],
   "source": [
    "find_missing_number(n)"
   ]
  },
  {
   "cell_type": "code",
   "execution_count": 3,
   "metadata": {},
   "outputs": [
    {
     "data": {
      "text/plain": [
       "9"
      ]
     },
     "execution_count": 3,
     "metadata": {},
     "output_type": "execute_result"
    }
   ],
   "source": [
    "len(n)"
   ]
  },
  {
   "cell_type": "code",
   "execution_count": 6,
   "metadata": {},
   "outputs": [
    {
     "name": "stdout",
     "output_type": "stream",
     "text": [
      "1\n"
     ]
    }
   ],
   "source": [
    "def find_missing_number(a, n):  \n",
    "    i, total = 0, 1\n",
    "  \n",
    "    for i in range(2, n + 2): \n",
    "        total += i \n",
    "        total -= a[i - 2] \n",
    "    return total \n",
    "  \n",
    "# Driver Code \n",
    "arr = [4,2,3] \n",
    "print(find_missing_number(arr, len(arr))) "
   ]
  },
  {
   "cell_type": "markdown",
   "metadata": {},
   "source": [
    "### Consecutive Ducks"
   ]
  },
  {
   "cell_type": "markdown",
   "metadata": {},
   "source": [
    "Positive integers have so many gorgeous features. Some of them could be expressed as a sum of two or more consecutive positive numbers.\n",
    "Consider an Example :\n",
    "\n",
    "    10 , could be expressed as a sum of 1 + 2 + 3 + 4.\n",
    "\n",
    "Task\n",
    "\n",
    "Given Positive integer, N , Return true if it could be expressed as a sum of two or more consecutive positive numbers , OtherWise return false .\n",
    "Notes\n",
    "\n",
    "    Guaranteed constraint : 2 ≤ N ≤ (2^32) -1 .\n",
    "\n",
    "Input >> Output Examples:\n",
    "\n",
    "\n",
    "* consecutiveDucks(9)  ==>  return (true)  //  9 , could be expressed as a sum of ( 2 + 3 + 4 ) or ( 4 + 5 ) . \n",
    "\n",
    "* consecutiveDucks(64)  ==>  return (false)\n",
    "\n",
    "* consecutiveDucks(42)  ==>  return (true) //  42 , could be expressed as a sum of ( 9 + 10 + 11 + 12 )  . \n"
   ]
  },
  {
   "cell_type": "markdown",
   "metadata": {},
   "source": [
    "#### Solution"
   ]
  },
  {
   "cell_type": "markdown",
   "metadata": {},
   "source": [
    " If a number is power of 2, then it cannot be expressed as sum of some consecutive numbers"
   ]
  },
  {
   "cell_type": "code",
   "execution_count": 31,
   "metadata": {},
   "outputs": [
    {
     "ename": "TypeError",
     "evalue": "must be real number, not list",
     "output_type": "error",
     "traceback": [
      "\u001b[0;31m---------------------------------------------------------------------------\u001b[0m",
      "\u001b[0;31mTypeError\u001b[0m                                 Traceback (most recent call last)",
      "\u001b[0;32m<ipython-input-31-7ff83b419512>\u001b[0m in \u001b[0;36m<module>\u001b[0;34m\u001b[0m\n\u001b[1;32m      1\u001b[0m \u001b[0;32mimport\u001b[0m \u001b[0mmath\u001b[0m\u001b[0;34m\u001b[0m\u001b[0;34m\u001b[0m\u001b[0m\n\u001b[1;32m      2\u001b[0m \u001b[0;34m\u001b[0m\u001b[0m\n\u001b[0;32m----> 3\u001b[0;31m \u001b[0mmath\u001b[0m\u001b[0;34m.\u001b[0m\u001b[0mlog\u001b[0m\u001b[0;34m(\u001b[0m\u001b[0mn\u001b[0m\u001b[0;34m,\u001b[0m \u001b[0;36m2\u001b[0m\u001b[0;34m)\u001b[0m\u001b[0;34m.\u001b[0m\u001b[0mis_integer\u001b[0m\u001b[0;34m(\u001b[0m\u001b[0;34m)\u001b[0m\u001b[0;34m\u001b[0m\u001b[0;34m\u001b[0m\u001b[0m\n\u001b[0m",
      "\u001b[0;31mTypeError\u001b[0m: must be real number, not list"
     ]
    }
   ],
   "source": [
    "import math\n",
    "\n",
    "math.log(n, 2).is_integer()"
   ]
  },
  {
   "cell_type": "code",
   "execution_count": 34,
   "metadata": {},
   "outputs": [],
   "source": [
    "import math\n",
    "def consecutive_ducks(n):\n",
    "# If a number is power of 2, then it cannot be \n",
    "# expressed as sum of some consecutive numbers\n",
    "    return not math.log(n, 2).is_integer()"
   ]
  },
  {
   "cell_type": "code",
   "execution_count": 36,
   "metadata": {},
   "outputs": [
    {
     "data": {
      "text/plain": [
       "False"
      ]
     },
     "execution_count": 36,
     "metadata": {},
     "output_type": "execute_result"
    }
   ],
   "source": [
    "consecutive_ducks(8)"
   ]
  },
  {
   "cell_type": "markdown",
   "metadata": {},
   "source": [
    "### Counting Valleys"
   ]
  },
  {
   "cell_type": "markdown",
   "metadata": {},
   "source": [
    "You need count how many valleys you will pass.\n",
    "\n",
    "Start is always from zero level.\n",
    "\n",
    "Every time you go down below 0 level counts as an entry of a valley, and as you go up to 0 level from valley counts as an exit of a valley.\n",
    "\n",
    "One passed valley is equal one entry and one exit of a valley.\n",
    "\n",
    "s='FUFFDDFDUDFUFUF'\n",
    "U=UP\n",
    "F=FORWARD\n",
    "D=DOWN\n",
    "\n",
    "To represent string above\n",
    "\n",
    "(level 1)  __\n",
    "(level 0)_/  \\         _(exit we are again on level 0)\n",
    "(entry-1)     \\_     _/\n",
    "(level-2)       \\/\\_/\n",
    "\n",
    "So here we passed one valley\n"
   ]
  },
  {
   "cell_type": "markdown",
   "metadata": {},
   "source": [
    "#### Solution"
   ]
  },
  {
   "cell_type": "code",
   "execution_count": 179,
   "metadata": {},
   "outputs": [],
   "source": [
    "p = 'UFFDDFDUDFUFUUFFDDFDUDFUFU'"
   ]
  },
  {
   "cell_type": "code",
   "execution_count": 191,
   "metadata": {},
   "outputs": [],
   "source": [
    "def counting_valleys(s):\n",
    "    v = 0\n",
    "    c_l = 0\n",
    "    for c in s:\n",
    "        if c == \"U\":\n",
    "            c_l += 1\n",
    "            if c_l == 0:\n",
    "                v += 1\n",
    "        elif c == \"D\":\n",
    "            c_l -= 1\n",
    "    return v\n",
    "    "
   ]
  },
  {
   "cell_type": "markdown",
   "metadata": {},
   "source": [
    "### rotate the letters of each element"
   ]
  },
  {
   "cell_type": "markdown",
   "metadata": {},
   "source": [
    "Task\n",
    "\n",
    "Create a function that given a sequence of strings, groups the elements that can be obtained by rotating others, ignoring upper or lower cases.\n",
    "\n",
    "In the event that an element appears more than once in the input sequence, only one of them will be taken into account for the result, discarding the rest.\n",
    "Input\n",
    "\n",
    "Sequence of strings. Valid characters for those strings are uppercase and lowercase characters from the alphabet and whitespaces.\n",
    "Output\n",
    "\n",
    "Sequence of elements. Each element is the group of inputs that can be obtained by rotating the strings.\n",
    "\n",
    "Sort the elements of each group alphabetically.\n",
    "\n",
    "Sort the groups descendingly by size and in the case of a tie, by the first element of the group alphabetically.\n",
    "Examples\n",
    "\n",
    "['Tokyo', 'London', 'Rome', 'Donlon', 'Kyoto', 'Paris', 'Okyot'] --> [['Kyoto', 'Okyot', 'Tokyo'], ['Donlon', 'London'], ['Paris'], ['Rome']]\n",
    "\n",
    "['Rome', 'Rome', 'Rome', 'Donlon', 'London'] --> [['Donlon', 'London'], ['Rome']]\n",
    "\n",
    "[] --> []\n",
    "\n"
   ]
  },
  {
   "cell_type": "markdown",
   "metadata": {},
   "source": [
    "#### Solution (not the best, long)"
   ]
  },
  {
   "cell_type": "code",
   "execution_count": 66,
   "metadata": {},
   "outputs": [],
   "source": [
    "l = ['Tokyo', 'London', 'Rome', 'Donlon', 'Kyoto', 'Paris', 'Okyot']"
   ]
  },
  {
   "cell_type": "code",
   "execution_count": 63,
   "metadata": {},
   "outputs": [],
   "source": [
    "from collections import OrderedDict\n",
    "\n",
    "def group_cities(l): \n",
    "    print(f\"l:{l}\")\n",
    "    z = []\n",
    "    for c in l:\n",
    "        a = rotate(c)\n",
    "        z.append(a)\n",
    "    print(f\"z:{z}\")\n",
    "        \n",
    "    f = []\n",
    "    for n in z:\n",
    "        f.append(set(n).intersection(l))\n",
    "    print(\"f\",f)\n",
    "        \n",
    "    w = []\n",
    "    for i in range(0, len(z)):\n",
    "        g = [x for x in z[i] if x in l]\n",
    "        g.sort()\n",
    "        w.append(g)\n",
    "    \n",
    "    ss = []\n",
    "    for df in w:\n",
    "        if df not in ss:\n",
    "            ss.append(df)   \n",
    "    \n",
    "    ss_new = sorted(ss, key=lambda x: (-len(x), x[0]))\n",
    "    \n",
    "    #f = []\n",
    "    #for n in ss_new:\n",
    "    #    f.append(list(set(n)))\n",
    "        \n",
    "    ds = []\n",
    "    for li in ss:\n",
    "        ds.append(list(OrderedDict.fromkeys(li)))\n",
    "    \n",
    "    #print(f\"ds:{ds}\")\n",
    "    \n",
    "    ss_new = sorted(ds, key=lambda x: (-len(x), x[0]))\n",
    "    return ss_new\n",
    "\n",
    "def rotate(s):\n",
    "    a = []\n",
    "    for r in range(len(s)):\n",
    "        a.append(s[r:] + s[:r])\n",
    "    a = [x.title() for x in a]\n",
    "    return a"
   ]
  },
  {
   "cell_type": "code",
   "execution_count": 64,
   "metadata": {},
   "outputs": [],
   "source": [
    "jj = ['M El Sheikhshar', 'Ngton Dcwashi', 'Khsharm El Shei', 'Sharm El Sheikh', 'Resbuenos Ai', 'Lkattako', 'Budapest', 'Zurich']"
   ]
  },
  {
   "cell_type": "code",
   "execution_count": 70,
   "metadata": {},
   "outputs": [
    {
     "data": {
      "text/plain": [
       "[['Khsharm El Shei', 'M El Sheikhshar', 'Sharm El Sheikh'],\n",
       " ['Budapest'],\n",
       " ['Lkattako'],\n",
       " ['Ngton Dcwashi'],\n",
       " ['Resbuenos Ai'],\n",
       " ['Zurich']]"
      ]
     },
     "execution_count": 70,
     "metadata": {},
     "output_type": "execute_result"
    }
   ],
   "source": [
    "group_cities(jj)"
   ]
  },
  {
   "cell_type": "code",
   "execution_count": 71,
   "metadata": {},
   "outputs": [
    {
     "data": {
      "text/plain": [
       "[['Kyoto', 'Okyot', 'Tokyo'], ['Donlon', 'London'], ['Paris'], ['Rome']]"
      ]
     },
     "execution_count": 71,
     "metadata": {},
     "output_type": "execute_result"
    }
   ],
   "source": [
    "group_cities(l)"
   ]
  },
  {
   "cell_type": "markdown",
   "metadata": {},
   "source": [
    "#### Better Solution "
   ]
  },
  {
   "cell_type": "code",
   "execution_count": 78,
   "metadata": {},
   "outputs": [],
   "source": [
    "def group_cities(seq):\n",
    "    result = []\n",
    "    sort_result =[]\n",
    "    seq = list(dict.fromkeys(seq)) #removing  duplicates\n",
    "    print(f\"seq:{seq}\")\n",
    "    for e, i in enumerate(seq):\n",
    "        print(f\"e:{e},i{i}\")\n",
    "        sort_result = [j for j in seq if len(j)==len(i) and j.lower() in 2*(i.lower())]\n",
    "        if not sorted(sort_result) in result :\n",
    "            result.append(sorted(sort_result))\n",
    "    return(sorted(sorted(result),key=len,reverse=True))"
   ]
  },
  {
   "cell_type": "code",
   "execution_count": 79,
   "metadata": {},
   "outputs": [],
   "source": [
    "l = ['Tokyo', 'London', 'Rome', 'Donlon', 'Kyoto', 'Paris', 'Okyot']"
   ]
  },
  {
   "cell_type": "code",
   "execution_count": 80,
   "metadata": {},
   "outputs": [
    {
     "name": "stdout",
     "output_type": "stream",
     "text": [
      "seq:['Tokyo', 'London', 'Rome', 'Donlon', 'Kyoto', 'Paris', 'Okyot']\n",
      "e:0,iTokyo\n",
      "e:1,iLondon\n",
      "e:2,iRome\n",
      "e:3,iDonlon\n",
      "e:4,iKyoto\n",
      "e:5,iParis\n",
      "e:6,iOkyot\n"
     ]
    },
    {
     "data": {
      "text/plain": [
       "[['Kyoto', 'Okyot', 'Tokyo'], ['Donlon', 'London'], ['Paris'], ['Rome']]"
      ]
     },
     "execution_count": 80,
     "metadata": {},
     "output_type": "execute_result"
    }
   ],
   "source": [
    "group_cities(l)"
   ]
  },
  {
   "cell_type": "markdown",
   "metadata": {},
   "source": [
    "### Sort rectangles and circles by area II"
   ]
  },
  {
   "cell_type": "markdown",
   "metadata": {},
   "source": [
    "In this kata you will be given a sequence of the dimensions of rectangles ( sequence with width and length ) and circles ( radius - just a number ).\n",
    "Your task is to return a new sequence of dimensions, sorted ascending by area.\n",
    "\n",
    "For example,\n",
    "\n",
    "seq = [ (4.23, 6.43), 1.23, 3.444, (1.342, 3.212) ] # [ rectangle, circle, circle, rectangle ]<br>\n",
    "sort_by_area(seq) => [ ( 1.342, 3.212 ), 1.23, ( 4.23, 6.43 ), 3.444 ]"
   ]
  },
  {
   "cell_type": "markdown",
   "metadata": {},
   "source": [
    "\n",
    "#### Solution"
   ]
  },
  {
   "cell_type": "code",
   "execution_count": 81,
   "metadata": {},
   "outputs": [],
   "source": [
    "def sort_by_area(seq): \n",
    "    # your code here\n",
    "    pass"
   ]
  },
  {
   "cell_type": "code",
   "execution_count": 82,
   "metadata": {},
   "outputs": [],
   "source": [
    "seq = [ (4.23, 6.43), 1.23, 3.444, (1.342, 3.212) ] "
   ]
  },
  {
   "cell_type": "code",
   "execution_count": 89,
   "metadata": {},
   "outputs": [
    {
     "data": {
      "text/plain": [
       "2"
      ]
     },
     "execution_count": 89,
     "metadata": {},
     "output_type": "execute_result"
    }
   ],
   "source": [
    "len(seq[0])"
   ]
  },
  {
   "cell_type": "code",
   "execution_count": 115,
   "metadata": {},
   "outputs": [],
   "source": [
    "def sort_by_area(seq): \n",
    "    from math import pi\n",
    "    d = {}\n",
    "    for i in seq:\n",
    "        if type(i) == tuple:\n",
    "            d.update({i[0] * i[1]:i})\n",
    "        else:\n",
    "            d.update({pi * i**2: i})\n",
    "    return [d[key] for key in sorted(d.keys())]\n"
   ]
  },
  {
   "cell_type": "code",
   "execution_count": 116,
   "metadata": {},
   "outputs": [
    {
     "data": {
      "text/plain": [
       "[(1.342, 3.212), 1.23, (4.23, 6.43), 3.444]"
      ]
     },
     "execution_count": 116,
     "metadata": {},
     "output_type": "execute_result"
    }
   ],
   "source": [
    "sort_by_area(seq)"
   ]
  },
  {
   "cell_type": "code",
   "execution_count": 109,
   "metadata": {},
   "outputs": [
    {
     "data": {
      "text/plain": [
       "{27.198900000000002: (4.23, 6.43),\n",
       " 4.752915525615998: 1.23,\n",
       " 37.26285772082942: 3.444,\n",
       " 4.310504000000001: (1.342, 3.212)}"
      ]
     },
     "execution_count": 109,
     "metadata": {},
     "output_type": "execute_result"
    }
   ],
   "source": [
    "d"
   ]
  },
  {
   "cell_type": "code",
   "execution_count": 113,
   "metadata": {},
   "outputs": [],
   "source": [
    "result = [d[key] for key in sorted(d.keys())]"
   ]
  },
  {
   "cell_type": "code",
   "execution_count": 114,
   "metadata": {},
   "outputs": [
    {
     "data": {
      "text/plain": [
       "[(1.342, 3.212), 1.23, (4.23, 6.43), 3.444]"
      ]
     },
     "execution_count": 114,
     "metadata": {},
     "output_type": "execute_result"
    }
   ],
   "source": [
    "result"
   ]
  },
  {
   "cell_type": "markdown",
   "metadata": {},
   "source": [
    "#### Better Solution"
   ]
  },
  {
   "cell_type": "code",
   "execution_count": 117,
   "metadata": {},
   "outputs": [],
   "source": [
    "def sort_by_area(arr): \n",
    "    return sorted(arr, key=lambda x: (x[0]*x[1] if isinstance(x,tuple) else x*x*3.14))"
   ]
  },
  {
   "cell_type": "markdown",
   "metadata": {},
   "source": [
    "### Pandas Series 101: Rename Columns"
   ]
  },
  {
   "cell_type": "markdown",
   "metadata": {},
   "source": [
    "Rename Columns\n",
    "Input parameters\n",
    "\n",
    "    pandas.DataFrame object\n",
    "    sequence\n",
    "\n",
    "Task\n",
    "\n",
    "Your function must return a new pandas.DataFrame object with same data than the original input but now its column names are the elements of the sequence. You must not modify the original input.\n",
    "\n",
    "The number of columns of the input will always be equal to the size of the sequence.\n",
    "Examples\n",
    "\n",
    "0  1  2<br>\n",
    "0  1  2  3<br>\n",
    "1  4  5  6<br>\n",
    "<br>\n",
    "names = ['A', 'B', 'C']\n",
    "<br>\n",
    "   A  B  C<br>\n",
    "0  1  2  3<br>\n",
    "1  4  5  6<br>"
   ]
  },
  {
   "cell_type": "markdown",
   "metadata": {},
   "source": [
    "#### Solution"
   ]
  },
  {
   "cell_type": "code",
   "execution_count": 43,
   "metadata": {},
   "outputs": [],
   "source": [
    "import pandas as pd\n",
    "\n",
    "def rename_columns(df, names):\n",
    "    df2 = df.copy()\n",
    "    df2.columns = list(names)\n",
    "    return df2"
   ]
  },
  {
   "cell_type": "code",
   "execution_count": 39,
   "metadata": {},
   "outputs": [],
   "source": [
    "names = 'ABC'"
   ]
  },
  {
   "cell_type": "code",
   "execution_count": 40,
   "metadata": {},
   "outputs": [],
   "source": [
    "c = list(names)"
   ]
  },
  {
   "cell_type": "code",
   "execution_count": 41,
   "metadata": {},
   "outputs": [
    {
     "data": {
      "text/plain": [
       "['A', 'B', 'C']"
      ]
     },
     "execution_count": 41,
     "metadata": {},
     "output_type": "execute_result"
    }
   ],
   "source": [
    "c"
   ]
  },
  {
   "cell_type": "code",
   "execution_count": null,
   "metadata": {},
   "outputs": [],
   "source": []
  },
  {
   "cell_type": "code",
   "execution_count": 26,
   "metadata": {},
   "outputs": [],
   "source": [
    "df = pd.DataFrame([[1,2,3],[1,2,3]])"
   ]
  },
  {
   "cell_type": "code",
   "execution_count": 27,
   "metadata": {},
   "outputs": [
    {
     "data": {
      "text/html": [
       "<div>\n",
       "<style scoped>\n",
       "    .dataframe tbody tr th:only-of-type {\n",
       "        vertical-align: middle;\n",
       "    }\n",
       "\n",
       "    .dataframe tbody tr th {\n",
       "        vertical-align: top;\n",
       "    }\n",
       "\n",
       "    .dataframe thead th {\n",
       "        text-align: right;\n",
       "    }\n",
       "</style>\n",
       "<table border=\"1\" class=\"dataframe\">\n",
       "  <thead>\n",
       "    <tr style=\"text-align: right;\">\n",
       "      <th></th>\n",
       "      <th>0</th>\n",
       "      <th>1</th>\n",
       "      <th>2</th>\n",
       "    </tr>\n",
       "  </thead>\n",
       "  <tbody>\n",
       "    <tr>\n",
       "      <th>0</th>\n",
       "      <td>1</td>\n",
       "      <td>2</td>\n",
       "      <td>3</td>\n",
       "    </tr>\n",
       "    <tr>\n",
       "      <th>1</th>\n",
       "      <td>1</td>\n",
       "      <td>2</td>\n",
       "      <td>3</td>\n",
       "    </tr>\n",
       "  </tbody>\n",
       "</table>\n",
       "</div>"
      ],
      "text/plain": [
       "   0  1  2\n",
       "0  1  2  3\n",
       "1  1  2  3"
      ]
     },
     "execution_count": 27,
     "metadata": {},
     "output_type": "execute_result"
    }
   ],
   "source": [
    "df"
   ]
  },
  {
   "cell_type": "code",
   "execution_count": 36,
   "metadata": {},
   "outputs": [],
   "source": [
    "df.columns = ['A', 'B', 'C']"
   ]
  },
  {
   "cell_type": "code",
   "execution_count": 37,
   "metadata": {},
   "outputs": [
    {
     "data": {
      "text/plain": [
       "pandas.core.frame.DataFrame"
      ]
     },
     "execution_count": 37,
     "metadata": {},
     "output_type": "execute_result"
    }
   ],
   "source": [
    "type(df)"
   ]
  },
  {
   "cell_type": "code",
   "execution_count": 38,
   "metadata": {},
   "outputs": [
    {
     "data": {
      "text/html": [
       "<div>\n",
       "<style scoped>\n",
       "    .dataframe tbody tr th:only-of-type {\n",
       "        vertical-align: middle;\n",
       "    }\n",
       "\n",
       "    .dataframe tbody tr th {\n",
       "        vertical-align: top;\n",
       "    }\n",
       "\n",
       "    .dataframe thead th {\n",
       "        text-align: right;\n",
       "    }\n",
       "</style>\n",
       "<table border=\"1\" class=\"dataframe\">\n",
       "  <thead>\n",
       "    <tr style=\"text-align: right;\">\n",
       "      <th></th>\n",
       "      <th>A</th>\n",
       "      <th>B</th>\n",
       "      <th>C</th>\n",
       "    </tr>\n",
       "  </thead>\n",
       "  <tbody>\n",
       "    <tr>\n",
       "      <th>0</th>\n",
       "      <td>1</td>\n",
       "      <td>2</td>\n",
       "      <td>3</td>\n",
       "    </tr>\n",
       "    <tr>\n",
       "      <th>1</th>\n",
       "      <td>1</td>\n",
       "      <td>2</td>\n",
       "      <td>3</td>\n",
       "    </tr>\n",
       "  </tbody>\n",
       "</table>\n",
       "</div>"
      ],
      "text/plain": [
       "   A  B  C\n",
       "0  1  2  3\n",
       "1  1  2  3"
      ]
     },
     "execution_count": 38,
     "metadata": {},
     "output_type": "execute_result"
    }
   ],
   "source": [
    "df"
   ]
  },
  {
   "cell_type": "code",
   "execution_count": 31,
   "metadata": {},
   "outputs": [],
   "source": [
    "data_url = 'http://bit.ly/2cLzoxH'\n",
    "# read data from url as pandas dataframe\n",
    "gapminder = pd.read_csv(data_url)"
   ]
  },
  {
   "cell_type": "code",
   "execution_count": 32,
   "metadata": {},
   "outputs": [
    {
     "name": "stdout",
     "output_type": "stream",
     "text": [
      "       country  year         pop continent  lifeExp   gdpPercap\n",
      "0  Afghanistan  1952   8425333.0      Asia   28.801  779.445314\n",
      "1  Afghanistan  1957   9240934.0      Asia   30.332  820.853030\n",
      "2  Afghanistan  1962  10267083.0      Asia   31.997  853.100710\n"
     ]
    }
   ],
   "source": [
    "print(gapminder.head(3))"
   ]
  },
  {
   "cell_type": "code",
   "execution_count": 33,
   "metadata": {},
   "outputs": [
    {
     "data": {
      "text/plain": [
       "Index(['country', 'year', 'pop', 'continent', 'lifeExp', 'gdpPercap'], dtype='object')"
      ]
     },
     "execution_count": 33,
     "metadata": {},
     "output_type": "execute_result"
    }
   ],
   "source": [
    "gapminder.columns"
   ]
  },
  {
   "cell_type": "code",
   "execution_count": 34,
   "metadata": {},
   "outputs": [],
   "source": [
    "gapminder.columns = ['country','year','population',\n",
    "                     'continent','life_exp','gdp_per_cap']"
   ]
  },
  {
   "cell_type": "code",
   "execution_count": 35,
   "metadata": {},
   "outputs": [
    {
     "data": {
      "text/plain": [
       "Index(['country', 'year', 'population', 'continent', 'life_exp',\n",
       "       'gdp_per_cap'],\n",
       "      dtype='object')"
      ]
     },
     "execution_count": 35,
     "metadata": {},
     "output_type": "execute_result"
    }
   ],
   "source": [
    "gapminder.columns"
   ]
  },
  {
   "cell_type": "code",
   "execution_count": null,
   "metadata": {},
   "outputs": [],
   "source": []
  }
 ],
 "metadata": {
  "kernelspec": {
   "display_name": "Python 3",
   "language": "python",
   "name": "python3"
  },
  "language_info": {
   "codemirror_mode": {
    "name": "ipython",
    "version": 3
   },
   "file_extension": ".py",
   "mimetype": "text/x-python",
   "name": "python",
   "nbconvert_exporter": "python",
   "pygments_lexer": "ipython3",
   "version": "3.6.9"
  }
 },
 "nbformat": 4,
 "nbformat_minor": 4
}
