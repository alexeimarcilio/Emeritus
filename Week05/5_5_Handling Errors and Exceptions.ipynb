{
 "cells": [
  {
   "cell_type": "markdown",
   "metadata": {},
   "source": [
    "# Outline\n",
    "- Standard error messages\n",
    "- Writing custom error messages with try-except\n",
    "- Specifying a type of error\n",
    "- Adding restrictions to arguments with conditionals"
   ]
  },
  {
   "cell_type": "markdown",
   "metadata": {},
   "source": [
    "## Standard error messages"
   ]
  },
  {
   "cell_type": "code",
   "execution_count": 3,
   "metadata": {},
   "outputs": [],
   "source": [
    "def hello_name(name):\n",
    "    \"\"\"\"Concatenates 'Hello, ' to the argument\"\"\"\n",
    "    x = \"Hello, \" + name\n",
    "    print(x)"
   ]
  },
  {
   "cell_type": "code",
   "execution_count": 4,
   "metadata": {},
   "outputs": [
    {
     "name": "stdout",
     "output_type": "stream",
     "text": [
      "Hello, Sa\n"
     ]
    }
   ],
   "source": [
    "hello_name(\"Sa\")"
   ]
  },
  {
   "cell_type": "markdown",
   "metadata": {},
   "source": [
    "## Writing custom error messages with try-except"
   ]
  },
  {
   "cell_type": "code",
   "execution_count": 5,
   "metadata": {},
   "outputs": [],
   "source": [
    "def hello_name(name):\n",
    "    \"\"\"\"Concatenates 'Hello, ' to the argument\"\"\"\n",
    "    try:\n",
    "        x = \"Hello, \" + name\n",
    "        print(x)\n",
    "    except:\n",
    "        print(\"Make sure name is a string. Put quotation marks around it.\")"
   ]
  },
  {
   "cell_type": "code",
   "execution_count": 6,
   "metadata": {},
   "outputs": [
    {
     "name": "stdout",
     "output_type": "stream",
     "text": [
      "Make sure name is a string. Put quotation marks around it.\n"
     ]
    }
   ],
   "source": [
    "hello_name(11)"
   ]
  },
  {
   "cell_type": "code",
   "execution_count": 7,
   "metadata": {},
   "outputs": [
    {
     "name": "stdout",
     "output_type": "stream",
     "text": [
      "Hello, 11\n"
     ]
    }
   ],
   "source": [
    "hello_name(\"11\")"
   ]
  },
  {
   "cell_type": "markdown",
   "metadata": {},
   "source": [
    "## Specifying a type of error"
   ]
  },
  {
   "cell_type": "code",
   "execution_count": 25,
   "metadata": {},
   "outputs": [],
   "source": [
    "def hello_name(name):\n",
    "    \"\"\"\"Concatenates 'Hello, ' to the argument\"\"\"\n",
    "    try:\n",
    "        x = \"Hello, \" + name\n",
    "        print(x)\n",
    "    except TypeError:\n",
    "        print(\"Make sure name is a string. Put quotation marks around it.\")"
   ]
  },
  {
   "cell_type": "code",
   "execution_count": 26,
   "metadata": {},
   "outputs": [
    {
     "name": "stdout",
     "output_type": "stream",
     "text": [
      "Make sure name is a string. Put quotation marks around it.\n"
     ]
    }
   ],
   "source": [
    "hello_name(5)"
   ]
  },
  {
   "cell_type": "code",
   "execution_count": 27,
   "metadata": {},
   "outputs": [
    {
     "ename": "NameError",
     "evalue": "name 'a' is not defined",
     "output_type": "error",
     "traceback": [
      "\u001b[0;31m---------------------------------------------------------------------------\u001b[0m",
      "\u001b[0;31mNameError\u001b[0m                                 Traceback (most recent call last)",
      "\u001b[0;32m<ipython-input-27-f08e03ca6a2b>\u001b[0m in \u001b[0;36m<module>\u001b[0;34m\u001b[0m\n\u001b[0;32m----> 1\u001b[0;31m \u001b[0mhello_name\u001b[0m\u001b[0;34m(\u001b[0m\u001b[0ma\u001b[0m\u001b[0;34m)\u001b[0m\u001b[0;34m\u001b[0m\u001b[0;34m\u001b[0m\u001b[0m\n\u001b[0m",
      "\u001b[0;31mNameError\u001b[0m: name 'a' is not defined"
     ]
    }
   ],
   "source": [
    "hello_name(a)"
   ]
  },
  {
   "cell_type": "markdown",
   "metadata": {},
   "source": [
    "## Adding restrictions to arguments with conditionals"
   ]
  },
  {
   "cell_type": "code",
   "execution_count": 85,
   "metadata": {},
   "outputs": [],
   "source": [
    "def hello_name(name):\n",
    "    \"\"\"\"Concatenates 'Hello, ' to the argument\"\"\"\n",
    "    if len(name)<=1:\n",
    "        raise ValueError('name must be longer than 1 character.')\n",
    "    try:\n",
    "        x = \"Hello, \" + name\n",
    "        print(x)\n",
    "    except TypeError:\n",
    "        print(\"Make sure name is a string. Put quotation marks around it.\")"
   ]
  }
 ],
 "metadata": {
  "kernelspec": {
   "display_name": "Python 3",
   "language": "python",
   "name": "python3"
  },
  "language_info": {
   "codemirror_mode": {
    "name": "ipython",
    "version": 3
   },
   "file_extension": ".py",
   "mimetype": "text/x-python",
   "name": "python",
   "nbconvert_exporter": "python",
   "pygments_lexer": "ipython3",
   "version": "3.6.9"
  }
 },
 "nbformat": 4,
 "nbformat_minor": 2
}
