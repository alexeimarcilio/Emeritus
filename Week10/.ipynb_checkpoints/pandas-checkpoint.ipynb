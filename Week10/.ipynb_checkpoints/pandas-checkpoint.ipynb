{
 "cells": [
  {
   "cell_type": "markdown",
   "metadata": {},
   "source": [
    "<h1>Pandas</h1>"
   ]
  },
  {
   "cell_type": "code",
   "execution_count": 23,
   "metadata": {},
   "outputs": [],
   "source": [
    "#installing pandas libraries\n",
    "#!pip install pandas-datareader\n",
    "#!pip install --upgrade html5lib==1.0b8\n",
    "\n",
    "#There is a bug in the latest version of html5lib so install an earlier version\n",
    "#Restart kernel after installing html5lib"
   ]
  },
  {
   "cell_type": "markdown",
   "metadata": {},
   "source": [
    "<h2>Imports</h2>"
   ]
  },
  {
   "cell_type": "code",
   "execution_count": 24,
   "metadata": {},
   "outputs": [],
   "source": [
    "import pandas as pd #pandas library\n",
    "from pandas_datareader import data #data readers (google, html, etc.)\n",
    "#The following line ensures that graphs are rendered in the notebook\n",
    "# % sign is a jupyter command - any graphs that we draw using matplotlib should\n",
    "# show up on our browser itself\n",
    "%matplotlib inline \n",
    "import numpy as np\n",
    "import matplotlib.pyplot as plt #Plotting library\n",
    "import datetime as dt #datetime for timeseries support"
   ]
  },
  {
   "cell_type": "markdown",
   "metadata": {},
   "source": [
    "<h2>The structure of a dataframe</h2>"
   ]
  },
  {
   "cell_type": "code",
   "execution_count": 27,
   "metadata": {},
   "outputs": [
    {
     "data": {
      "text/html": [
       "<div>\n",
       "<style scoped>\n",
       "    .dataframe tbody tr th:only-of-type {\n",
       "        vertical-align: middle;\n",
       "    }\n",
       "\n",
       "    .dataframe tbody tr th {\n",
       "        vertical-align: top;\n",
       "    }\n",
       "\n",
       "    .dataframe thead th {\n",
       "        text-align: right;\n",
       "    }\n",
       "</style>\n",
       "<table border=\"1\" class=\"dataframe\">\n",
       "  <thead>\n",
       "    <tr style=\"text-align: right;\">\n",
       "      <th></th>\n",
       "      <th>A</th>\n",
       "      <th>B</th>\n",
       "      <th>C</th>\n",
       "    </tr>\n",
       "  </thead>\n",
       "  <tbody>\n",
       "    <tr>\n",
       "      <th>a</th>\n",
       "      <td>1</td>\n",
       "      <td>2</td>\n",
       "      <td>3</td>\n",
       "    </tr>\n",
       "    <tr>\n",
       "      <th>b</th>\n",
       "      <td>1</td>\n",
       "      <td>2</td>\n",
       "      <td>3</td>\n",
       "    </tr>\n",
       "  </tbody>\n",
       "</table>\n",
       "</div>"
      ],
      "text/plain": [
       "   A  B  C\n",
       "a  1  2  3\n",
       "b  1  2  3"
      ]
     },
     "execution_count": 27,
     "metadata": {},
     "output_type": "execute_result"
    }
   ],
   "source": [
    "pd.DataFrame([[1,2,3],[1,2,3]],columns=['A','B','C'], index=['a','b'])"
   ]
  },
  {
   "cell_type": "markdown",
   "metadata": {},
   "source": [
    "<h3>Accessing columns and rows</h3>"
   ]
  },
  {
   "cell_type": "code",
   "execution_count": 36,
   "metadata": {},
   "outputs": [
    {
     "data": {
      "text/html": [
       "<div>\n",
       "<style scoped>\n",
       "    .dataframe tbody tr th:only-of-type {\n",
       "        vertical-align: middle;\n",
       "    }\n",
       "\n",
       "    .dataframe tbody tr th {\n",
       "        vertical-align: top;\n",
       "    }\n",
       "\n",
       "    .dataframe thead th {\n",
       "        text-align: right;\n",
       "    }\n",
       "</style>\n",
       "<table border=\"1\" class=\"dataframe\">\n",
       "  <thead>\n",
       "    <tr style=\"text-align: right;\">\n",
       "      <th></th>\n",
       "      <th>row_label</th>\n",
       "      <th>A</th>\n",
       "      <th>B</th>\n",
       "      <th>C</th>\n",
       "    </tr>\n",
       "  </thead>\n",
       "  <tbody>\n",
       "    <tr>\n",
       "      <th>0</th>\n",
       "      <td>r1</td>\n",
       "      <td>00</td>\n",
       "      <td>01</td>\n",
       "      <td>02</td>\n",
       "    </tr>\n",
       "    <tr>\n",
       "      <th>1</th>\n",
       "      <td>r2</td>\n",
       "      <td>10</td>\n",
       "      <td>11</td>\n",
       "      <td>12</td>\n",
       "    </tr>\n",
       "    <tr>\n",
       "      <th>2</th>\n",
       "      <td>r3</td>\n",
       "      <td>20</td>\n",
       "      <td>21</td>\n",
       "      <td>22</td>\n",
       "    </tr>\n",
       "  </tbody>\n",
       "</table>\n",
       "</div>"
      ],
      "text/plain": [
       "  row_label   A   B   C\n",
       "0        r1  00  01  02\n",
       "1        r2  10  11  12\n",
       "2        r3  20  21  22"
      ]
     },
     "execution_count": 36,
     "metadata": {},
     "output_type": "execute_result"
    }
   ],
   "source": [
    "df = pd.DataFrame([['r1','00','01','02'],['r2','10','11','12'],['r3','20','21','22']],columns=['row_label','A','B','C'])\n",
    "df"
   ]
  },
  {
   "cell_type": "code",
   "execution_count": 37,
   "metadata": {},
   "outputs": [
    {
     "name": "stdout",
     "output_type": "stream",
     "text": [
      "140647759199424\n"
     ]
    },
    {
     "data": {
      "text/html": [
       "<div>\n",
       "<style scoped>\n",
       "    .dataframe tbody tr th:only-of-type {\n",
       "        vertical-align: middle;\n",
       "    }\n",
       "\n",
       "    .dataframe tbody tr th {\n",
       "        vertical-align: top;\n",
       "    }\n",
       "\n",
       "    .dataframe thead th {\n",
       "        text-align: right;\n",
       "    }\n",
       "</style>\n",
       "<table border=\"1\" class=\"dataframe\">\n",
       "  <thead>\n",
       "    <tr style=\"text-align: right;\">\n",
       "      <th></th>\n",
       "      <th>A</th>\n",
       "      <th>B</th>\n",
       "      <th>C</th>\n",
       "    </tr>\n",
       "    <tr>\n",
       "      <th>row_label</th>\n",
       "      <th></th>\n",
       "      <th></th>\n",
       "      <th></th>\n",
       "    </tr>\n",
       "  </thead>\n",
       "  <tbody>\n",
       "    <tr>\n",
       "      <th>r1</th>\n",
       "      <td>00</td>\n",
       "      <td>01</td>\n",
       "      <td>02</td>\n",
       "    </tr>\n",
       "    <tr>\n",
       "      <th>r2</th>\n",
       "      <td>10</td>\n",
       "      <td>11</td>\n",
       "      <td>12</td>\n",
       "    </tr>\n",
       "    <tr>\n",
       "      <th>r3</th>\n",
       "      <td>20</td>\n",
       "      <td>21</td>\n",
       "      <td>22</td>\n",
       "    </tr>\n",
       "  </tbody>\n",
       "</table>\n",
       "</div>"
      ],
      "text/plain": [
       "            A   B   C\n",
       "row_label            \n",
       "r1         00  01  02\n",
       "r2         10  11  12\n",
       "r3         20  21  22"
      ]
     },
     "execution_count": 37,
     "metadata": {},
     "output_type": "execute_result"
    }
   ],
   "source": [
    "# tell it that the index corresponds to the column called row_label\n",
    "# you need inplace to do it here\n",
    "df.set_index('row_label',inplace=True)\n",
    "print(id(df))\n",
    "df"
   ]
  },
  {
   "cell_type": "markdown",
   "metadata": {},
   "source": [
    "<h3>Getting column data</h3>"
   ]
  },
  {
   "cell_type": "code",
   "execution_count": 38,
   "metadata": {},
   "outputs": [
    {
     "data": {
      "text/plain": [
       "row_label\n",
       "r1    01\n",
       "r2    11\n",
       "r3    21\n",
       "Name: B, dtype: object"
      ]
     },
     "execution_count": 38,
     "metadata": {},
     "output_type": "execute_result"
    }
   ],
   "source": [
    "df['B']"
   ]
  },
  {
   "cell_type": "markdown",
   "metadata": {},
   "source": [
    "<h3>Getting row data</h3>"
   ]
  },
  {
   "cell_type": "code",
   "execution_count": 51,
   "metadata": {},
   "outputs": [
    {
     "data": {
      "text/plain": [
       "A    00\n",
       "B    01\n",
       "C    02\n",
       "Name: r1, dtype: object"
      ]
     },
     "execution_count": 51,
     "metadata": {},
     "output_type": "execute_result"
    }
   ],
   "source": [
    "df.loc['r1']"
   ]
  },
  {
   "cell_type": "markdown",
   "metadata": {},
   "source": [
    "<h3>Getting a row by row number</h3>"
   ]
  },
  {
   "cell_type": "code",
   "execution_count": 56,
   "metadata": {},
   "outputs": [
    {
     "data": {
      "text/plain": [
       "A    00\n",
       "B    01\n",
       "C    02\n",
       "Name: r1, dtype: object"
      ]
     },
     "execution_count": 56,
     "metadata": {},
     "output_type": "execute_result"
    }
   ],
   "source": [
    "df.iloc[0]"
   ]
  },
  {
   "cell_type": "markdown",
   "metadata": {},
   "source": [
    "<h3>Getting multiple columns<h3>"
   ]
  },
  {
   "cell_type": "code",
   "execution_count": 57,
   "metadata": {},
   "outputs": [
    {
     "data": {
      "text/html": [
       "<div>\n",
       "<style scoped>\n",
       "    .dataframe tbody tr th:only-of-type {\n",
       "        vertical-align: middle;\n",
       "    }\n",
       "\n",
       "    .dataframe tbody tr th {\n",
       "        vertical-align: top;\n",
       "    }\n",
       "\n",
       "    .dataframe thead th {\n",
       "        text-align: right;\n",
       "    }\n",
       "</style>\n",
       "<table border=\"1\" class=\"dataframe\">\n",
       "  <thead>\n",
       "    <tr style=\"text-align: right;\">\n",
       "      <th></th>\n",
       "      <th>B</th>\n",
       "      <th>A</th>\n",
       "    </tr>\n",
       "    <tr>\n",
       "      <th>row_label</th>\n",
       "      <th></th>\n",
       "      <th></th>\n",
       "    </tr>\n",
       "  </thead>\n",
       "  <tbody>\n",
       "    <tr>\n",
       "      <th>r1</th>\n",
       "      <td>01</td>\n",
       "      <td>00</td>\n",
       "    </tr>\n",
       "    <tr>\n",
       "      <th>r2</th>\n",
       "      <td>11</td>\n",
       "      <td>10</td>\n",
       "    </tr>\n",
       "    <tr>\n",
       "      <th>r3</th>\n",
       "      <td>21</td>\n",
       "      <td>20</td>\n",
       "    </tr>\n",
       "  </tbody>\n",
       "</table>\n",
       "</div>"
      ],
      "text/plain": [
       "            B   A\n",
       "row_label        \n",
       "r1         01  00\n",
       "r2         11  10\n",
       "r3         21  20"
      ]
     },
     "execution_count": 57,
     "metadata": {},
     "output_type": "execute_result"
    }
   ],
   "source": [
    "df[['B','A']] #Note that the column identifiers are in a list"
   ]
  },
  {
   "cell_type": "markdown",
   "metadata": {},
   "source": [
    "<h3>Getting a specific cell</h3>"
   ]
  },
  {
   "cell_type": "code",
   "execution_count": 58,
   "metadata": {},
   "outputs": [
    {
     "data": {
      "text/plain": [
       "'11'"
      ]
     },
     "execution_count": 58,
     "metadata": {},
     "output_type": "execute_result"
    }
   ],
   "source": [
    "df.loc['r2','B']"
   ]
  },
  {
   "cell_type": "code",
   "execution_count": 59,
   "metadata": {},
   "outputs": [
    {
     "data": {
      "text/plain": [
       "'10'"
      ]
     },
     "execution_count": 59,
     "metadata": {},
     "output_type": "execute_result"
    }
   ],
   "source": [
    "df.loc['r2']['A']"
   ]
  },
  {
   "cell_type": "markdown",
   "metadata": {},
   "source": [
    "<h3>Slicing</h3>"
   ]
  },
  {
   "cell_type": "code",
   "execution_count": 60,
   "metadata": {},
   "outputs": [
    {
     "data": {
      "text/html": [
       "<div>\n",
       "<style scoped>\n",
       "    .dataframe tbody tr th:only-of-type {\n",
       "        vertical-align: middle;\n",
       "    }\n",
       "\n",
       "    .dataframe tbody tr th {\n",
       "        vertical-align: top;\n",
       "    }\n",
       "\n",
       "    .dataframe thead th {\n",
       "        text-align: right;\n",
       "    }\n",
       "</style>\n",
       "<table border=\"1\" class=\"dataframe\">\n",
       "  <thead>\n",
       "    <tr style=\"text-align: right;\">\n",
       "      <th></th>\n",
       "      <th>A</th>\n",
       "      <th>B</th>\n",
       "      <th>C</th>\n",
       "    </tr>\n",
       "    <tr>\n",
       "      <th>row_label</th>\n",
       "      <th></th>\n",
       "      <th></th>\n",
       "      <th></th>\n",
       "    </tr>\n",
       "  </thead>\n",
       "  <tbody>\n",
       "    <tr>\n",
       "      <th>r1</th>\n",
       "      <td>00</td>\n",
       "      <td>01</td>\n",
       "      <td>02</td>\n",
       "    </tr>\n",
       "    <tr>\n",
       "      <th>r2</th>\n",
       "      <td>10</td>\n",
       "      <td>11</td>\n",
       "      <td>12</td>\n",
       "    </tr>\n",
       "  </tbody>\n",
       "</table>\n",
       "</div>"
      ],
      "text/plain": [
       "            A   B   C\n",
       "row_label            \n",
       "r1         00  01  02\n",
       "r2         10  11  12"
      ]
     },
     "execution_count": 60,
     "metadata": {},
     "output_type": "execute_result"
    }
   ],
   "source": [
    "df.loc['r1':'r2']"
   ]
  },
  {
   "cell_type": "code",
   "execution_count": 61,
   "metadata": {},
   "outputs": [
    {
     "data": {
      "text/html": [
       "<div>\n",
       "<style scoped>\n",
       "    .dataframe tbody tr th:only-of-type {\n",
       "        vertical-align: middle;\n",
       "    }\n",
       "\n",
       "    .dataframe tbody tr th {\n",
       "        vertical-align: top;\n",
       "    }\n",
       "\n",
       "    .dataframe thead th {\n",
       "        text-align: right;\n",
       "    }\n",
       "</style>\n",
       "<table border=\"1\" class=\"dataframe\">\n",
       "  <thead>\n",
       "    <tr style=\"text-align: right;\">\n",
       "      <th></th>\n",
       "      <th>B</th>\n",
       "      <th>C</th>\n",
       "    </tr>\n",
       "    <tr>\n",
       "      <th>row_label</th>\n",
       "      <th></th>\n",
       "      <th></th>\n",
       "    </tr>\n",
       "  </thead>\n",
       "  <tbody>\n",
       "    <tr>\n",
       "      <th>r1</th>\n",
       "      <td>01</td>\n",
       "      <td>02</td>\n",
       "    </tr>\n",
       "    <tr>\n",
       "      <th>r2</th>\n",
       "      <td>11</td>\n",
       "      <td>12</td>\n",
       "    </tr>\n",
       "  </tbody>\n",
       "</table>\n",
       "</div>"
      ],
      "text/plain": [
       "            B   C\n",
       "row_label        \n",
       "r1         01  02\n",
       "r2         11  12"
      ]
     },
     "execution_count": 61,
     "metadata": {},
     "output_type": "execute_result"
    }
   ],
   "source": [
    "df.loc['r1':'r2','B':'C']"
   ]
  },
  {
   "cell_type": "markdown",
   "metadata": {},
   "source": [
    "<h2>Pandas datareader</h2>\n",
    "<li>Access data from html tables on any web page</li>\n",
    "<li>Get data from google finance</li>\n",
    "<li>Get data from the federal reserve</li>"
   ]
  },
  {
   "cell_type": "markdown",
   "metadata": {},
   "source": [
    "<h3>HTML Tables</h3>\n",
    "<li>Pandas datareader can read a table in an html page into a dataframe\n",
    "<li>the read_html function returns a list of all dataframes with one dataframe for each html table on the page"
   ]
  },
  {
   "cell_type": "markdown",
   "metadata": {},
   "source": [
    "<h4>Example: Read the tables on the google finance page</h4>"
   ]
  },
  {
   "cell_type": "code",
   "execution_count": 64,
   "metadata": {},
   "outputs": [
    {
     "data": {
      "text/plain": [
       "[              Date     Yield Value\n",
       " 0     Jun 15, 2020  1.96% estimate\n",
       " 1     Jun 30, 2020  1.91% estimate\n",
       " 2     May 31, 2020  2.03% estimate\n",
       " 3     Apr 30, 2020  2.16% estimate\n",
       " 4     Mar 31, 2020           2.25%\n",
       " ...            ...             ...\n",
       " 1790  May 31, 1871           5.35%\n",
       " 1791  Apr 30, 1871           5.49%\n",
       " 1792  Mar 31, 1871           5.64%\n",
       " 1793  Feb 28, 1871           5.78%\n",
       " 1794  Jan 31, 1871           5.86%\n",
       " \n",
       " [1795 rows x 2 columns]]"
      ]
     },
     "execution_count": 64,
     "metadata": {},
     "output_type": "execute_result"
    }
   ],
   "source": [
    "df_list"
   ]
  },
  {
   "cell_type": "code",
   "execution_count": 71,
   "metadata": {
    "scrolled": true
   },
   "outputs": [
    {
     "name": "stdout",
     "output_type": "stream",
     "text": [
      "1\n"
     ]
    }
   ],
   "source": [
    "#url = 'http://www.multpl.com/s-p-500-dividend-yield/table?f=m'\n",
    "url = 'https://ca.finance.yahoo.com/currencies'\n",
    "df_list = pd.read_html(url)\n",
    "# It will pull out all the tables in this case there's only 1\n",
    "print(len(df_list))"
   ]
  },
  {
   "cell_type": "code",
   "execution_count": 72,
   "metadata": {},
   "outputs": [
    {
     "data": {
      "text/plain": [
       "pandas.core.frame.DataFrame"
      ]
     },
     "execution_count": 72,
     "metadata": {},
     "output_type": "execute_result"
    }
   ],
   "source": [
    "type(df)"
   ]
  },
  {
   "cell_type": "code",
   "execution_count": 81,
   "metadata": {},
   "outputs": [
    {
     "data": {
      "text/html": [
       "<div>\n",
       "<style scoped>\n",
       "    .dataframe tbody tr th:only-of-type {\n",
       "        vertical-align: middle;\n",
       "    }\n",
       "\n",
       "    .dataframe tbody tr th {\n",
       "        vertical-align: top;\n",
       "    }\n",
       "\n",
       "    .dataframe thead th {\n",
       "        text-align: right;\n",
       "    }\n",
       "</style>\n",
       "<table border=\"1\" class=\"dataframe\">\n",
       "  <thead>\n",
       "    <tr style=\"text-align: right;\">\n",
       "      <th></th>\n",
       "      <th>Name</th>\n",
       "      <th>Last Price</th>\n",
       "      <th>Change</th>\n",
       "      <th>% Change</th>\n",
       "      <th>52 Week Range</th>\n",
       "      <th>Day Chart</th>\n",
       "    </tr>\n",
       "    <tr>\n",
       "      <th>Symbol</th>\n",
       "      <th></th>\n",
       "      <th></th>\n",
       "      <th></th>\n",
       "      <th></th>\n",
       "      <th></th>\n",
       "      <th></th>\n",
       "    </tr>\n",
       "  </thead>\n",
       "  <tbody>\n",
       "    <tr>\n",
       "      <th>CADUSD=X</th>\n",
       "      <td>CAD/USD</td>\n",
       "      <td>0.7377</td>\n",
       "      <td>0.0015</td>\n",
       "      <td>+0.21%</td>\n",
       "      <td>NaN</td>\n",
       "      <td>NaN</td>\n",
       "    </tr>\n",
       "    <tr>\n",
       "      <th>CADEUR=X</th>\n",
       "      <td>CAD/EUR</td>\n",
       "      <td>0.6509</td>\n",
       "      <td>-0.0026</td>\n",
       "      <td>-0.40%</td>\n",
       "      <td>NaN</td>\n",
       "      <td>NaN</td>\n",
       "    </tr>\n",
       "    <tr>\n",
       "      <th>CADGBP=X</th>\n",
       "      <td>CAD/GBP</td>\n",
       "      <td>0.5851</td>\n",
       "      <td>-0.0012</td>\n",
       "      <td>-0.20%</td>\n",
       "      <td>NaN</td>\n",
       "      <td>NaN</td>\n",
       "    </tr>\n",
       "    <tr>\n",
       "      <th>CADCNY=X</th>\n",
       "      <td>CAD/CNY</td>\n",
       "      <td>5.2269</td>\n",
       "      <td>0.0148</td>\n",
       "      <td>+0.28%</td>\n",
       "      <td>NaN</td>\n",
       "      <td>NaN</td>\n",
       "    </tr>\n",
       "    <tr>\n",
       "      <th>EURUSD=X</th>\n",
       "      <td>EUR/USD</td>\n",
       "      <td>1.1333</td>\n",
       "      <td>0.0073</td>\n",
       "      <td>+0.65%</td>\n",
       "      <td>NaN</td>\n",
       "      <td>NaN</td>\n",
       "    </tr>\n",
       "    <tr>\n",
       "      <th>JPY=X</th>\n",
       "      <td>USD/JPY</td>\n",
       "      <td>107.3090</td>\n",
       "      <td>-0.0330</td>\n",
       "      <td>-0.03%</td>\n",
       "      <td>NaN</td>\n",
       "      <td>NaN</td>\n",
       "    </tr>\n",
       "    <tr>\n",
       "      <th>GBPUSD=X</th>\n",
       "      <td>GBP/USD</td>\n",
       "      <td>1.2597</td>\n",
       "      <td>0.0047</td>\n",
       "      <td>+0.38%</td>\n",
       "      <td>NaN</td>\n",
       "      <td>NaN</td>\n",
       "    </tr>\n",
       "    <tr>\n",
       "      <th>CHF=X</th>\n",
       "      <td>USD/CHF</td>\n",
       "      <td>0.9480</td>\n",
       "      <td>-0.0038</td>\n",
       "      <td>-0.40%</td>\n",
       "      <td>NaN</td>\n",
       "      <td>NaN</td>\n",
       "    </tr>\n",
       "    <tr>\n",
       "      <th>AUDUSD=X</th>\n",
       "      <td>AUD/USD</td>\n",
       "      <td>0.6915</td>\n",
       "      <td>0.0042</td>\n",
       "      <td>+0.62%</td>\n",
       "      <td>NaN</td>\n",
       "      <td>NaN</td>\n",
       "    </tr>\n",
       "    <tr>\n",
       "      <th>AUDJPY=X</th>\n",
       "      <td>AUD/JPY</td>\n",
       "      <td>74.2150</td>\n",
       "      <td>0.4730</td>\n",
       "      <td>+0.64%</td>\n",
       "      <td>NaN</td>\n",
       "      <td>NaN</td>\n",
       "    </tr>\n",
       "  </tbody>\n",
       "</table>\n",
       "</div>"
      ],
      "text/plain": [
       "             Name  Last Price  Change % Change  52 Week Range  Day Chart\n",
       "Symbol                                                                  \n",
       "CADUSD=X  CAD/USD      0.7377  0.0015   +0.21%            NaN        NaN\n",
       "CADEUR=X  CAD/EUR      0.6509 -0.0026   -0.40%            NaN        NaN\n",
       "CADGBP=X  CAD/GBP      0.5851 -0.0012   -0.20%            NaN        NaN\n",
       "CADCNY=X  CAD/CNY      5.2269  0.0148   +0.28%            NaN        NaN\n",
       "EURUSD=X  EUR/USD      1.1333  0.0073   +0.65%            NaN        NaN\n",
       "JPY=X     USD/JPY    107.3090 -0.0330   -0.03%            NaN        NaN\n",
       "GBPUSD=X  GBP/USD      1.2597  0.0047   +0.38%            NaN        NaN\n",
       "CHF=X     USD/CHF      0.9480 -0.0038   -0.40%            NaN        NaN\n",
       "AUDUSD=X  AUD/USD      0.6915  0.0042   +0.62%            NaN        NaN\n",
       "AUDJPY=X  AUD/JPY     74.2150  0.4730   +0.64%            NaN        NaN"
      ]
     },
     "execution_count": 81,
     "metadata": {},
     "output_type": "execute_result"
    }
   ],
   "source": [
    "df_list[0].head(10)\n",
    "# It's already in a useable structure"
   ]
  },
  {
   "cell_type": "markdown",
   "metadata": {},
   "source": [
    "<h4>The page contains only one table so the read_html function returns a list of one element</h4>"
   ]
  },
  {
   "cell_type": "code",
   "execution_count": 75,
   "metadata": {},
   "outputs": [
    {
     "name": "stdout",
     "output_type": "stream",
     "text": [
      "      Symbol     Name  Last Price  Change % Change  52 Week Range  Day Chart\n",
      "0   CADUSD=X  CAD/USD      0.7377  0.0015   +0.21%            NaN        NaN\n",
      "1   CADEUR=X  CAD/EUR      0.6509 -0.0026   -0.40%            NaN        NaN\n",
      "2   CADGBP=X  CAD/GBP      0.5851 -0.0012   -0.20%            NaN        NaN\n",
      "3   CADCNY=X  CAD/CNY      5.2269  0.0148   +0.28%            NaN        NaN\n",
      "4   EURUSD=X  EUR/USD      1.1333  0.0073   +0.65%            NaN        NaN\n",
      "5      JPY=X  USD/JPY    107.3090 -0.0330   -0.03%            NaN        NaN\n",
      "6   GBPUSD=X  GBP/USD      1.2597  0.0047   +0.38%            NaN        NaN\n",
      "7      CHF=X  USD/CHF      0.9480 -0.0038   -0.40%            NaN        NaN\n",
      "8   AUDUSD=X  AUD/USD      0.6915  0.0042   +0.62%            NaN        NaN\n",
      "9   AUDJPY=X  AUD/JPY     74.2150  0.4730   +0.64%            NaN        NaN\n",
      "10  NZDUSD=X  NZD/USD      0.6482  0.0029   +0.45%            NaN        NaN\n",
      "11  EURJPY=X  EUR/JPY    121.5860  0.7120   +0.59%            NaN        NaN\n",
      "12  GBPJPY=X  GBP/JPY    135.1860  0.4860   +0.36%            NaN        NaN\n",
      "13  EURGBP=X  EUR/GBP      0.8994  0.0021   +0.24%            NaN        NaN\n",
      "14  EURSEK=X  EUR/SEK     10.5048 -0.0013   -0.01%            NaN        NaN\n",
      "15  EURCHF=X  EUR/CHF      1.0741  0.0022   +0.21%            NaN        NaN\n",
      "16  EURHUF=X  EUR/HUF    346.7400  0.2900   +0.08%            NaN        NaN\n",
      "17  EURJPY=X  EUR/JPY    121.5860  0.7120   +0.59%            NaN        NaN\n",
      "18     CNY=X  USD/CNY      7.0886  0.0081   +0.11%            NaN        NaN\n",
      "19  USDHKD=X  USD/HKD      7.7498  0.0001   +0.00%            NaN        NaN\n",
      "20  USDSGD=X  USD/SGD      1.3904 -0.0021   -0.15%            NaN        NaN\n",
      "21  USDINR=X  USD/INR     75.7790  0.0000    0.00%            NaN        NaN\n",
      "22  USDMXN=X  USD/MXN     22.1414 -0.0666   -0.30%            NaN        NaN\n",
      "23  USDPHP=X  USD/PHP     50.2400 -0.0100   -0.02%            NaN        NaN\n",
      "24  USDIDR=X  USD/IDR  14009.0000  0.0000    0.00%            NaN        NaN\n",
      "25  USDTHB=X  USD/THB     30.9800 -0.0700   -0.23%            NaN        NaN\n",
      "26  USDMYR=X  USD/MYR      4.2765  0.0085   +0.20%            NaN        NaN\n",
      "27  USDZAR=X  USD/ZAR     17.1019  0.0721   +0.42%            NaN        NaN\n",
      "28  USDRUB=X  USD/RUB     69.6030 -0.0536   -0.08%            NaN        NaN\n"
     ]
    }
   ],
   "source": [
    "df = df_list[0]\n",
    "print(df)"
   ]
  },
  {
   "cell_type": "markdown",
   "metadata": {},
   "source": [
    "<h4>Note that the read_html function has automatically detected the header columns</h4>\n",
    "<h4>If an index is necessary, we need to explicitly specify it</h4>"
   ]
  },
  {
   "cell_type": "code",
   "execution_count": 80,
   "metadata": {},
   "outputs": [
    {
     "ename": "KeyError",
     "evalue": "\"None of ['Symbol'] are in the columns\"",
     "output_type": "error",
     "traceback": [
      "\u001b[0;31m---------------------------------------------------------------------------\u001b[0m",
      "\u001b[0;31mKeyError\u001b[0m                                  Traceback (most recent call last)",
      "\u001b[0;32m<ipython-input-80-ac0589f3c007>\u001b[0m in \u001b[0;36m<module>\u001b[0;34m\u001b[0m\n\u001b[0;32m----> 1\u001b[0;31m \u001b[0mdf\u001b[0m\u001b[0;34m.\u001b[0m\u001b[0mset_index\u001b[0m\u001b[0;34m(\u001b[0m\u001b[0;34m'Symbol'\u001b[0m\u001b[0;34m,\u001b[0m\u001b[0minplace\u001b[0m\u001b[0;34m=\u001b[0m\u001b[0;32mTrue\u001b[0m\u001b[0;34m)\u001b[0m\u001b[0;34m\u001b[0m\u001b[0;34m\u001b[0m\u001b[0m\n\u001b[0m\u001b[1;32m      2\u001b[0m \u001b[0mprint\u001b[0m\u001b[0;34m(\u001b[0m\u001b[0mdf\u001b[0m\u001b[0;34m)\u001b[0m\u001b[0;34m\u001b[0m\u001b[0;34m\u001b[0m\u001b[0m\n",
      "\u001b[0;32m~/ds/eme/pro/my_project_env/lib/python3.6/site-packages/pandas/core/frame.py\u001b[0m in \u001b[0;36mset_index\u001b[0;34m(self, keys, drop, append, inplace, verify_integrity)\u001b[0m\n\u001b[1;32m   4301\u001b[0m \u001b[0;34m\u001b[0m\u001b[0m\n\u001b[1;32m   4302\u001b[0m         \u001b[0;32mif\u001b[0m \u001b[0mmissing\u001b[0m\u001b[0;34m:\u001b[0m\u001b[0;34m\u001b[0m\u001b[0;34m\u001b[0m\u001b[0m\n\u001b[0;32m-> 4303\u001b[0;31m             \u001b[0;32mraise\u001b[0m \u001b[0mKeyError\u001b[0m\u001b[0;34m(\u001b[0m\u001b[0;34mf\"None of {missing} are in the columns\"\u001b[0m\u001b[0;34m)\u001b[0m\u001b[0;34m\u001b[0m\u001b[0;34m\u001b[0m\u001b[0m\n\u001b[0m\u001b[1;32m   4304\u001b[0m \u001b[0;34m\u001b[0m\u001b[0m\n\u001b[1;32m   4305\u001b[0m         \u001b[0;32mif\u001b[0m \u001b[0minplace\u001b[0m\u001b[0;34m:\u001b[0m\u001b[0;34m\u001b[0m\u001b[0;34m\u001b[0m\u001b[0m\n",
      "\u001b[0;31mKeyError\u001b[0m: \"None of ['Symbol'] are in the columns\""
     ]
    }
   ],
   "source": [
    "df.set_index('Symbol',inplace=True)\n",
    "print(df)"
   ]
  },
  {
   "cell_type": "markdown",
   "metadata": {},
   "source": [
    "<h4>Now we can use .loc to extract specific currency rates</h4>"
   ]
  },
  {
   "cell_type": "code",
   "execution_count": 83,
   "metadata": {},
   "outputs": [
    {
     "data": {
      "text/plain": [
       "0.7377"
      ]
     },
     "execution_count": 83,
     "metadata": {},
     "output_type": "execute_result"
    }
   ],
   "source": [
    "df.loc['CADUSD=X','Last Price']\n",
    "# The Canadian to US Dollar is now 07377"
   ]
  },
  {
   "cell_type": "markdown",
   "metadata": {},
   "source": [
    "<h3>Working with views and copies</h3>"
   ]
  },
  {
   "cell_type": "markdown",
   "metadata": {},
   "source": [
    "<h4>Chained indexing creates a copy and changes to the copy won't be reflected in the original dataframe</h4>"
   ]
  },
  {
   "cell_type": "code",
   "execution_count": 87,
   "metadata": {},
   "outputs": [
    {
     "name": "stderr",
     "output_type": "stream",
     "text": [
      "/home/alexei/ds/eme/pro/my_project_env/lib/python3.6/site-packages/ipykernel_launcher.py:2: SettingWithCopyWarning: \n",
      "A value is trying to be set on a copy of a slice from a DataFrame\n",
      "\n",
      "See the caveats in the documentation: https://pandas.pydata.org/pandas-docs/stable/user_guide/indexing.html#returning-a-view-versus-a-copy\n",
      "  \n"
     ]
    }
   ],
   "source": [
    "eur_usd = df.loc['CADUSD=X']['Change'] #This is chained indexing\n",
    "df.loc['CADUSD=X']['Change'] = 1.0 #Here we are changing a value in a copy of the dataframe\n",
    "#print(eur_usd)\n",
    "#print(df.loc['EUR-USD']['Change']) #Neither eur_usd, nor the dataframe are changed"
   ]
  },
  {
   "cell_type": "code",
   "execution_count": 93,
   "metadata": {},
   "outputs": [
    {
     "name": "stdout",
     "output_type": "stream",
     "text": [
      "1.0\n",
      "1.0\n"
     ]
    }
   ],
   "source": [
    "cad_usd = df.loc['CADUSD=X','Change'] #eur_usd points to the value inside the dataframe\n",
    "df.loc['CADUSD=X','Change'] = 1.0 #Change the value in the view \n",
    "print(cad_usd) #eur_usd is changed (because it points to the view)\n",
    "print(df.loc['CADUSD=X']['Change']) #The dataframe has been correctly updated\n",
    "# To work with a copy use this mechanism"
   ]
  },
  {
   "cell_type": "markdown",
   "metadata": {},
   "source": [
    "<h2>Getting historical stock prices from Google financs</h2>\n",
    "Usage: DataReader(ticker,source,startdate,enddate)<br>\n",
    "Unfortunately, the Yahoo finance datareader has stopped working because of a change to Yahoo's website\n"
   ]
  },
  {
   "cell_type": "code",
   "execution_count": 97,
   "metadata": {},
   "outputs": [
    {
     "name": "stdout",
     "output_type": "stream",
     "text": [
      "2017-01-01 00:00:00 2020-06-15 14:34:59.555350\n"
     ]
    }
   ],
   "source": [
    "from pandas_datareader import data\n",
    "import datetime as dt\n",
    "start=dt.datetime(2017, 1, 1)\n",
    "end=dt.datetime.today()\n",
    "\n",
    "\n",
    "print(start,end)\n",
    "\n",
    "\n",
    "df = data.DataReader('IBM', 'yahoo', start, end)\n"
   ]
  },
  {
   "cell_type": "code",
   "execution_count": 99,
   "metadata": {},
   "outputs": [
    {
     "data": {
      "text/html": [
       "<div>\n",
       "<style scoped>\n",
       "    .dataframe tbody tr th:only-of-type {\n",
       "        vertical-align: middle;\n",
       "    }\n",
       "\n",
       "    .dataframe tbody tr th {\n",
       "        vertical-align: top;\n",
       "    }\n",
       "\n",
       "    .dataframe thead th {\n",
       "        text-align: right;\n",
       "    }\n",
       "</style>\n",
       "<table border=\"1\" class=\"dataframe\">\n",
       "  <thead>\n",
       "    <tr style=\"text-align: right;\">\n",
       "      <th></th>\n",
       "      <th>High</th>\n",
       "      <th>Low</th>\n",
       "      <th>Open</th>\n",
       "      <th>Close</th>\n",
       "      <th>Volume</th>\n",
       "      <th>Adj Close</th>\n",
       "    </tr>\n",
       "    <tr>\n",
       "      <th>Date</th>\n",
       "      <th></th>\n",
       "      <th></th>\n",
       "      <th></th>\n",
       "      <th></th>\n",
       "      <th></th>\n",
       "      <th></th>\n",
       "    </tr>\n",
       "  </thead>\n",
       "  <tbody>\n",
       "    <tr>\n",
       "      <th>2017-01-03</th>\n",
       "      <td>167.869995</td>\n",
       "      <td>166.009995</td>\n",
       "      <td>167.000000</td>\n",
       "      <td>167.190002</td>\n",
       "      <td>2934300.0</td>\n",
       "      <td>143.492233</td>\n",
       "    </tr>\n",
       "    <tr>\n",
       "      <th>2017-01-04</th>\n",
       "      <td>169.869995</td>\n",
       "      <td>167.360001</td>\n",
       "      <td>167.770004</td>\n",
       "      <td>169.259995</td>\n",
       "      <td>3381400.0</td>\n",
       "      <td>145.268768</td>\n",
       "    </tr>\n",
       "    <tr>\n",
       "      <th>2017-01-05</th>\n",
       "      <td>169.389999</td>\n",
       "      <td>167.259995</td>\n",
       "      <td>169.250000</td>\n",
       "      <td>168.699997</td>\n",
       "      <td>2682300.0</td>\n",
       "      <td>144.788177</td>\n",
       "    </tr>\n",
       "    <tr>\n",
       "      <th>2017-01-06</th>\n",
       "      <td>169.919998</td>\n",
       "      <td>167.520004</td>\n",
       "      <td>168.690002</td>\n",
       "      <td>169.529999</td>\n",
       "      <td>2945500.0</td>\n",
       "      <td>145.500534</td>\n",
       "    </tr>\n",
       "    <tr>\n",
       "      <th>2017-01-09</th>\n",
       "      <td>169.800003</td>\n",
       "      <td>167.619995</td>\n",
       "      <td>169.470001</td>\n",
       "      <td>167.649994</td>\n",
       "      <td>3189900.0</td>\n",
       "      <td>143.886993</td>\n",
       "    </tr>\n",
       "    <tr>\n",
       "      <th>...</th>\n",
       "      <td>...</td>\n",
       "      <td>...</td>\n",
       "      <td>...</td>\n",
       "      <td>...</td>\n",
       "      <td>...</td>\n",
       "      <td>...</td>\n",
       "    </tr>\n",
       "    <tr>\n",
       "      <th>2020-06-09</th>\n",
       "      <td>133.600006</td>\n",
       "      <td>131.020004</td>\n",
       "      <td>133.520004</td>\n",
       "      <td>131.869995</td>\n",
       "      <td>5393600.0</td>\n",
       "      <td>131.869995</td>\n",
       "    </tr>\n",
       "    <tr>\n",
       "      <th>2020-06-10</th>\n",
       "      <td>132.229996</td>\n",
       "      <td>129.800003</td>\n",
       "      <td>132.149994</td>\n",
       "      <td>129.869995</td>\n",
       "      <td>4734800.0</td>\n",
       "      <td>129.869995</td>\n",
       "    </tr>\n",
       "    <tr>\n",
       "      <th>2020-06-11</th>\n",
       "      <td>126.099998</td>\n",
       "      <td>117.839996</td>\n",
       "      <td>126.029999</td>\n",
       "      <td>118.010002</td>\n",
       "      <td>11763600.0</td>\n",
       "      <td>118.010002</td>\n",
       "    </tr>\n",
       "    <tr>\n",
       "      <th>2020-06-12</th>\n",
       "      <td>123.120003</td>\n",
       "      <td>119.279999</td>\n",
       "      <td>121.250000</td>\n",
       "      <td>121.910004</td>\n",
       "      <td>6218100.0</td>\n",
       "      <td>121.910004</td>\n",
       "    </tr>\n",
       "    <tr>\n",
       "      <th>2020-06-15</th>\n",
       "      <td>122.345001</td>\n",
       "      <td>118.300003</td>\n",
       "      <td>119.190002</td>\n",
       "      <td>121.620003</td>\n",
       "      <td>3235987.0</td>\n",
       "      <td>121.620003</td>\n",
       "    </tr>\n",
       "  </tbody>\n",
       "</table>\n",
       "<p>868 rows × 6 columns</p>\n",
       "</div>"
      ],
      "text/plain": [
       "                  High         Low        Open       Close      Volume  \\\n",
       "Date                                                                     \n",
       "2017-01-03  167.869995  166.009995  167.000000  167.190002   2934300.0   \n",
       "2017-01-04  169.869995  167.360001  167.770004  169.259995   3381400.0   \n",
       "2017-01-05  169.389999  167.259995  169.250000  168.699997   2682300.0   \n",
       "2017-01-06  169.919998  167.520004  168.690002  169.529999   2945500.0   \n",
       "2017-01-09  169.800003  167.619995  169.470001  167.649994   3189900.0   \n",
       "...                ...         ...         ...         ...         ...   \n",
       "2020-06-09  133.600006  131.020004  133.520004  131.869995   5393600.0   \n",
       "2020-06-10  132.229996  129.800003  132.149994  129.869995   4734800.0   \n",
       "2020-06-11  126.099998  117.839996  126.029999  118.010002  11763600.0   \n",
       "2020-06-12  123.120003  119.279999  121.250000  121.910004   6218100.0   \n",
       "2020-06-15  122.345001  118.300003  119.190002  121.620003   3235987.0   \n",
       "\n",
       "             Adj Close  \n",
       "Date                    \n",
       "2017-01-03  143.492233  \n",
       "2017-01-04  145.268768  \n",
       "2017-01-05  144.788177  \n",
       "2017-01-06  145.500534  \n",
       "2017-01-09  143.886993  \n",
       "...                ...  \n",
       "2020-06-09  131.869995  \n",
       "2020-06-10  129.869995  \n",
       "2020-06-11  118.010002  \n",
       "2020-06-12  121.910004  \n",
       "2020-06-15  121.620003  \n",
       "\n",
       "[868 rows x 6 columns]"
      ]
     },
     "execution_count": 99,
     "metadata": {},
     "output_type": "execute_result"
    }
   ],
   "source": [
    "df"
   ]
  },
  {
   "cell_type": "markdown",
   "metadata": {},
   "source": [
    "<h2>Datareader documentation</h2>\n",
    "http://pandas-datareader.readthedocs.io/en/latest/</h2>"
   ]
  },
  {
   "cell_type": "markdown",
   "metadata": {},
   "source": [
    "<h3>Working with a timeseries data frame</h3>\n",
    "<li>The data is organized by time with the index serving as the timeline\n"
   ]
  },
  {
   "cell_type": "markdown",
   "metadata": {},
   "source": [
    "<h4>Creating new columns</h4>\n",
    "<li>Add a column to a dataframe\n",
    "<li>Base the elements of the column on some combination of data in the existing columns\n",
    "<h4>Example: Number of Days that the stock closed higher than it opened\n",
    "<li>We'll create a new column with the header \"UP\"\n",
    "<li>And use np.where to decide what to put in the column"
   ]
  },
  {
   "cell_type": "code",
   "execution_count": 100,
   "metadata": {},
   "outputs": [
    {
     "data": {
      "text/html": [
       "<div>\n",
       "<style scoped>\n",
       "    .dataframe tbody tr th:only-of-type {\n",
       "        vertical-align: middle;\n",
       "    }\n",
       "\n",
       "    .dataframe tbody tr th {\n",
       "        vertical-align: top;\n",
       "    }\n",
       "\n",
       "    .dataframe thead th {\n",
       "        text-align: right;\n",
       "    }\n",
       "</style>\n",
       "<table border=\"1\" class=\"dataframe\">\n",
       "  <thead>\n",
       "    <tr style=\"text-align: right;\">\n",
       "      <th></th>\n",
       "      <th>High</th>\n",
       "      <th>Low</th>\n",
       "      <th>Open</th>\n",
       "      <th>Close</th>\n",
       "      <th>Volume</th>\n",
       "      <th>Adj Close</th>\n",
       "      <th>UP</th>\n",
       "    </tr>\n",
       "    <tr>\n",
       "      <th>Date</th>\n",
       "      <th></th>\n",
       "      <th></th>\n",
       "      <th></th>\n",
       "      <th></th>\n",
       "      <th></th>\n",
       "      <th></th>\n",
       "      <th></th>\n",
       "    </tr>\n",
       "  </thead>\n",
       "  <tbody>\n",
       "    <tr>\n",
       "      <th>2017-01-03</th>\n",
       "      <td>167.869995</td>\n",
       "      <td>166.009995</td>\n",
       "      <td>167.000000</td>\n",
       "      <td>167.190002</td>\n",
       "      <td>2934300.0</td>\n",
       "      <td>143.492233</td>\n",
       "      <td>1</td>\n",
       "    </tr>\n",
       "    <tr>\n",
       "      <th>2017-01-04</th>\n",
       "      <td>169.869995</td>\n",
       "      <td>167.360001</td>\n",
       "      <td>167.770004</td>\n",
       "      <td>169.259995</td>\n",
       "      <td>3381400.0</td>\n",
       "      <td>145.268768</td>\n",
       "      <td>1</td>\n",
       "    </tr>\n",
       "    <tr>\n",
       "      <th>2017-01-05</th>\n",
       "      <td>169.389999</td>\n",
       "      <td>167.259995</td>\n",
       "      <td>169.250000</td>\n",
       "      <td>168.699997</td>\n",
       "      <td>2682300.0</td>\n",
       "      <td>144.788177</td>\n",
       "      <td>0</td>\n",
       "    </tr>\n",
       "    <tr>\n",
       "      <th>2017-01-06</th>\n",
       "      <td>169.919998</td>\n",
       "      <td>167.520004</td>\n",
       "      <td>168.690002</td>\n",
       "      <td>169.529999</td>\n",
       "      <td>2945500.0</td>\n",
       "      <td>145.500534</td>\n",
       "      <td>1</td>\n",
       "    </tr>\n",
       "    <tr>\n",
       "      <th>2017-01-09</th>\n",
       "      <td>169.800003</td>\n",
       "      <td>167.619995</td>\n",
       "      <td>169.470001</td>\n",
       "      <td>167.649994</td>\n",
       "      <td>3189900.0</td>\n",
       "      <td>143.886993</td>\n",
       "      <td>0</td>\n",
       "    </tr>\n",
       "    <tr>\n",
       "      <th>...</th>\n",
       "      <td>...</td>\n",
       "      <td>...</td>\n",
       "      <td>...</td>\n",
       "      <td>...</td>\n",
       "      <td>...</td>\n",
       "      <td>...</td>\n",
       "      <td>...</td>\n",
       "    </tr>\n",
       "    <tr>\n",
       "      <th>2020-06-09</th>\n",
       "      <td>133.600006</td>\n",
       "      <td>131.020004</td>\n",
       "      <td>133.520004</td>\n",
       "      <td>131.869995</td>\n",
       "      <td>5393600.0</td>\n",
       "      <td>131.869995</td>\n",
       "      <td>0</td>\n",
       "    </tr>\n",
       "    <tr>\n",
       "      <th>2020-06-10</th>\n",
       "      <td>132.229996</td>\n",
       "      <td>129.800003</td>\n",
       "      <td>132.149994</td>\n",
       "      <td>129.869995</td>\n",
       "      <td>4734800.0</td>\n",
       "      <td>129.869995</td>\n",
       "      <td>0</td>\n",
       "    </tr>\n",
       "    <tr>\n",
       "      <th>2020-06-11</th>\n",
       "      <td>126.099998</td>\n",
       "      <td>117.839996</td>\n",
       "      <td>126.029999</td>\n",
       "      <td>118.010002</td>\n",
       "      <td>11763600.0</td>\n",
       "      <td>118.010002</td>\n",
       "      <td>0</td>\n",
       "    </tr>\n",
       "    <tr>\n",
       "      <th>2020-06-12</th>\n",
       "      <td>123.120003</td>\n",
       "      <td>119.279999</td>\n",
       "      <td>121.250000</td>\n",
       "      <td>121.910004</td>\n",
       "      <td>6218100.0</td>\n",
       "      <td>121.910004</td>\n",
       "      <td>1</td>\n",
       "    </tr>\n",
       "    <tr>\n",
       "      <th>2020-06-15</th>\n",
       "      <td>122.345001</td>\n",
       "      <td>118.300003</td>\n",
       "      <td>119.190002</td>\n",
       "      <td>121.620003</td>\n",
       "      <td>3235987.0</td>\n",
       "      <td>121.620003</td>\n",
       "      <td>1</td>\n",
       "    </tr>\n",
       "  </tbody>\n",
       "</table>\n",
       "<p>868 rows × 7 columns</p>\n",
       "</div>"
      ],
      "text/plain": [
       "                  High         Low        Open       Close      Volume  \\\n",
       "Date                                                                     \n",
       "2017-01-03  167.869995  166.009995  167.000000  167.190002   2934300.0   \n",
       "2017-01-04  169.869995  167.360001  167.770004  169.259995   3381400.0   \n",
       "2017-01-05  169.389999  167.259995  169.250000  168.699997   2682300.0   \n",
       "2017-01-06  169.919998  167.520004  168.690002  169.529999   2945500.0   \n",
       "2017-01-09  169.800003  167.619995  169.470001  167.649994   3189900.0   \n",
       "...                ...         ...         ...         ...         ...   \n",
       "2020-06-09  133.600006  131.020004  133.520004  131.869995   5393600.0   \n",
       "2020-06-10  132.229996  129.800003  132.149994  129.869995   4734800.0   \n",
       "2020-06-11  126.099998  117.839996  126.029999  118.010002  11763600.0   \n",
       "2020-06-12  123.120003  119.279999  121.250000  121.910004   6218100.0   \n",
       "2020-06-15  122.345001  118.300003  119.190002  121.620003   3235987.0   \n",
       "\n",
       "             Adj Close  UP  \n",
       "Date                        \n",
       "2017-01-03  143.492233   1  \n",
       "2017-01-04  145.268768   1  \n",
       "2017-01-05  144.788177   0  \n",
       "2017-01-06  145.500534   1  \n",
       "2017-01-09  143.886993   0  \n",
       "...                ...  ..  \n",
       "2020-06-09  131.869995   0  \n",
       "2020-06-10  129.869995   0  \n",
       "2020-06-11  118.010002   0  \n",
       "2020-06-12  121.910004   1  \n",
       "2020-06-15  121.620003   1  \n",
       "\n",
       "[868 rows x 7 columns]"
      ]
     },
     "execution_count": 100,
     "metadata": {},
     "output_type": "execute_result"
    }
   ],
   "source": [
    "df['UP']=np.where(df['Close']>df['Open'],1,0)\n",
    "df"
   ]
  },
  {
   "cell_type": "markdown",
   "metadata": {},
   "source": [
    "<h3>Get summary statistics</h3>\n",
    "<li>The \"describe\" function returns a dataframe containing summary stats for all numerical columns\n",
    "<li>Columns containing non-numerical data are ignored"
   ]
  },
  {
   "cell_type": "code",
   "execution_count": 176,
   "metadata": {},
   "outputs": [
    {
     "data": {
      "text/html": [
       "<div>\n",
       "<style scoped>\n",
       "    .dataframe tbody tr th:only-of-type {\n",
       "        vertical-align: middle;\n",
       "    }\n",
       "\n",
       "    .dataframe tbody tr th {\n",
       "        vertical-align: top;\n",
       "    }\n",
       "\n",
       "    .dataframe thead th {\n",
       "        text-align: right;\n",
       "    }\n",
       "</style>\n",
       "<table border=\"1\" class=\"dataframe\">\n",
       "  <thead>\n",
       "    <tr style=\"text-align: right;\">\n",
       "      <th></th>\n",
       "      <th>High</th>\n",
       "      <th>Low</th>\n",
       "      <th>Open</th>\n",
       "      <th>Close</th>\n",
       "      <th>Volume</th>\n",
       "      <th>Adj Close</th>\n",
       "      <th>UP</th>\n",
       "    </tr>\n",
       "  </thead>\n",
       "  <tbody>\n",
       "    <tr>\n",
       "      <th>count</th>\n",
       "      <td>868.000000</td>\n",
       "      <td>868.000000</td>\n",
       "      <td>868.000000</td>\n",
       "      <td>868.000000</td>\n",
       "      <td>8.680000e+02</td>\n",
       "      <td>868.000000</td>\n",
       "      <td>868.000000</td>\n",
       "    </tr>\n",
       "    <tr>\n",
       "      <th>mean</th>\n",
       "      <td>144.809026</td>\n",
       "      <td>142.590461</td>\n",
       "      <td>143.743825</td>\n",
       "      <td>143.694321</td>\n",
       "      <td>4.709340e+06</td>\n",
       "      <td>132.244389</td>\n",
       "      <td>0.476959</td>\n",
       "    </tr>\n",
       "    <tr>\n",
       "      <th>std</th>\n",
       "      <td>15.250041</td>\n",
       "      <td>15.698024</td>\n",
       "      <td>15.488988</td>\n",
       "      <td>15.447428</td>\n",
       "      <td>2.881411e+06</td>\n",
       "      <td>10.646707</td>\n",
       "      <td>0.499757</td>\n",
       "    </tr>\n",
       "    <tr>\n",
       "      <th>min</th>\n",
       "      <td>97.739998</td>\n",
       "      <td>90.559998</td>\n",
       "      <td>94.599998</td>\n",
       "      <td>94.769997</td>\n",
       "      <td>1.193000e+06</td>\n",
       "      <td>93.515839</td>\n",
       "      <td>0.000000</td>\n",
       "    </tr>\n",
       "    <tr>\n",
       "      <th>25%</th>\n",
       "      <td>135.687500</td>\n",
       "      <td>133.910004</td>\n",
       "      <td>134.927502</td>\n",
       "      <td>134.902504</td>\n",
       "      <td>3.118050e+06</td>\n",
       "      <td>128.190037</td>\n",
       "      <td>0.000000</td>\n",
       "    </tr>\n",
       "    <tr>\n",
       "      <th>50%</th>\n",
       "      <td>144.520004</td>\n",
       "      <td>142.809998</td>\n",
       "      <td>143.714996</td>\n",
       "      <td>143.665001</td>\n",
       "      <td>3.885700e+06</td>\n",
       "      <td>132.412964</td>\n",
       "      <td>0.000000</td>\n",
       "    </tr>\n",
       "    <tr>\n",
       "      <th>75%</th>\n",
       "      <td>153.832500</td>\n",
       "      <td>151.702499</td>\n",
       "      <td>152.802502</td>\n",
       "      <td>152.674999</td>\n",
       "      <td>5.208550e+06</td>\n",
       "      <td>137.267742</td>\n",
       "      <td>1.000000</td>\n",
       "    </tr>\n",
       "    <tr>\n",
       "      <th>max</th>\n",
       "      <td>182.789993</td>\n",
       "      <td>180.919998</td>\n",
       "      <td>182.000000</td>\n",
       "      <td>181.949997</td>\n",
       "      <td>3.049020e+07</td>\n",
       "      <td>157.394867</td>\n",
       "      <td>1.000000</td>\n",
       "    </tr>\n",
       "  </tbody>\n",
       "</table>\n",
       "</div>"
      ],
      "text/plain": [
       "             High         Low        Open       Close        Volume  \\\n",
       "count  868.000000  868.000000  868.000000  868.000000  8.680000e+02   \n",
       "mean   144.809026  142.590461  143.743825  143.694321  4.709340e+06   \n",
       "std     15.250041   15.698024   15.488988   15.447428  2.881411e+06   \n",
       "min     97.739998   90.559998   94.599998   94.769997  1.193000e+06   \n",
       "25%    135.687500  133.910004  134.927502  134.902504  3.118050e+06   \n",
       "50%    144.520004  142.809998  143.714996  143.665001  3.885700e+06   \n",
       "75%    153.832500  151.702499  152.802502  152.674999  5.208550e+06   \n",
       "max    182.789993  180.919998  182.000000  181.949997  3.049020e+07   \n",
       "\n",
       "        Adj Close          UP  \n",
       "count  868.000000  868.000000  \n",
       "mean   132.244389    0.476959  \n",
       "std     10.646707    0.499757  \n",
       "min     93.515839    0.000000  \n",
       "25%    128.190037    0.000000  \n",
       "50%    132.412964    0.000000  \n",
       "75%    137.267742    1.000000  \n",
       "max    157.394867    1.000000  "
      ]
     },
     "execution_count": 176,
     "metadata": {},
     "output_type": "execute_result"
    }
   ],
   "source": [
    "df.describe()"
   ]
  },
  {
   "cell_type": "markdown",
   "metadata": {},
   "source": [
    "<h4>Calculate the percentage of days that the stock has closed higher than its open</h4>"
   ]
  },
  {
   "cell_type": "code",
   "execution_count": 180,
   "metadata": {},
   "outputs": [
    {
     "data": {
      "text/plain": [
       "47.69585253456221"
      ]
     },
     "execution_count": 180,
     "metadata": {},
     "output_type": "execute_result"
    }
   ],
   "source": [
    "# Add up the 1s and divide by todal number\n",
    "df['UP'].sum()/df['UP'].count()*100"
   ]
  },
  {
   "cell_type": "code",
   "execution_count": 181,
   "metadata": {},
   "outputs": [],
   "source": [
    "# Check the weekday and make a column\n",
    "df['Weekday'] = df.index.strftime(\"%A\")"
   ]
  },
  {
   "cell_type": "code",
   "execution_count": 182,
   "metadata": {},
   "outputs": [
    {
     "data": {
      "text/html": [
       "<div>\n",
       "<style scoped>\n",
       "    .dataframe tbody tr th:only-of-type {\n",
       "        vertical-align: middle;\n",
       "    }\n",
       "\n",
       "    .dataframe tbody tr th {\n",
       "        vertical-align: top;\n",
       "    }\n",
       "\n",
       "    .dataframe thead th {\n",
       "        text-align: right;\n",
       "    }\n",
       "</style>\n",
       "<table border=\"1\" class=\"dataframe\">\n",
       "  <thead>\n",
       "    <tr style=\"text-align: right;\">\n",
       "      <th></th>\n",
       "      <th>High</th>\n",
       "      <th>Low</th>\n",
       "      <th>Open</th>\n",
       "      <th>Close</th>\n",
       "      <th>Volume</th>\n",
       "      <th>Adj Close</th>\n",
       "      <th>UP</th>\n",
       "    </tr>\n",
       "    <tr>\n",
       "      <th>Weekday</th>\n",
       "      <th></th>\n",
       "      <th></th>\n",
       "      <th></th>\n",
       "      <th></th>\n",
       "      <th></th>\n",
       "      <th></th>\n",
       "      <th></th>\n",
       "    </tr>\n",
       "  </thead>\n",
       "  <tbody>\n",
       "    <tr>\n",
       "      <th>Friday</th>\n",
       "      <td>144.487841</td>\n",
       "      <td>142.351307</td>\n",
       "      <td>143.595682</td>\n",
       "      <td>143.405909</td>\n",
       "      <td>4.874157e+06</td>\n",
       "      <td>132.031065</td>\n",
       "      <td>0.454545</td>\n",
       "    </tr>\n",
       "    <tr>\n",
       "      <th>Monday</th>\n",
       "      <td>144.160705</td>\n",
       "      <td>141.944785</td>\n",
       "      <td>142.961595</td>\n",
       "      <td>143.103743</td>\n",
       "      <td>4.374093e+06</td>\n",
       "      <td>131.812212</td>\n",
       "      <td>0.558282</td>\n",
       "    </tr>\n",
       "    <tr>\n",
       "      <th>Thursday</th>\n",
       "      <td>144.860966</td>\n",
       "      <td>142.638238</td>\n",
       "      <td>143.830512</td>\n",
       "      <td>143.733296</td>\n",
       "      <td>4.742848e+06</td>\n",
       "      <td>132.262394</td>\n",
       "      <td>0.460227</td>\n",
       "    </tr>\n",
       "    <tr>\n",
       "      <th>Tuesday</th>\n",
       "      <td>145.216497</td>\n",
       "      <td>143.056045</td>\n",
       "      <td>144.207910</td>\n",
       "      <td>144.135085</td>\n",
       "      <td>4.509151e+06</td>\n",
       "      <td>132.628395</td>\n",
       "      <td>0.446328</td>\n",
       "    </tr>\n",
       "    <tr>\n",
       "      <th>Wednesday</th>\n",
       "      <td>145.268920</td>\n",
       "      <td>142.911591</td>\n",
       "      <td>144.063011</td>\n",
       "      <td>144.047444</td>\n",
       "      <td>5.022826e+06</td>\n",
       "      <td>132.453774</td>\n",
       "      <td>0.471591</td>\n",
       "    </tr>\n",
       "  </tbody>\n",
       "</table>\n",
       "</div>"
      ],
      "text/plain": [
       "                 High         Low        Open       Close        Volume  \\\n",
       "Weekday                                                                   \n",
       "Friday     144.487841  142.351307  143.595682  143.405909  4.874157e+06   \n",
       "Monday     144.160705  141.944785  142.961595  143.103743  4.374093e+06   \n",
       "Thursday   144.860966  142.638238  143.830512  143.733296  4.742848e+06   \n",
       "Tuesday    145.216497  143.056045  144.207910  144.135085  4.509151e+06   \n",
       "Wednesday  145.268920  142.911591  144.063011  144.047444  5.022826e+06   \n",
       "\n",
       "            Adj Close        UP  \n",
       "Weekday                          \n",
       "Friday     132.031065  0.454545  \n",
       "Monday     131.812212  0.558282  \n",
       "Thursday   132.262394  0.460227  \n",
       "Tuesday    132.628395  0.446328  \n",
       "Wednesday  132.453774  0.471591  "
      ]
     },
     "execution_count": 182,
     "metadata": {},
     "output_type": "execute_result"
    }
   ],
   "source": [
    "# We can see here that on Monday we are most often up\n",
    "# Let's check for the S&P 500\n",
    "df.groupby(df['Weekday']).mean()"
   ]
  },
  {
   "cell_type": "code",
   "execution_count": 183,
   "metadata": {},
   "outputs": [],
   "source": [
    "df_SP = data.DataReader('^GSPC', 'yahoo', start, end)"
   ]
  },
  {
   "cell_type": "code",
   "execution_count": 184,
   "metadata": {},
   "outputs": [],
   "source": [
    "df_SP['UP']=np.where(df_SP['Close']>df_SP['Open'],1,0)"
   ]
  },
  {
   "cell_type": "code",
   "execution_count": 185,
   "metadata": {},
   "outputs": [],
   "source": [
    "df_SP['Weekday'] = df_SP.index.strftime(\"%A\")"
   ]
  },
  {
   "cell_type": "code",
   "execution_count": 186,
   "metadata": {},
   "outputs": [
    {
     "data": {
      "text/html": [
       "<div>\n",
       "<style scoped>\n",
       "    .dataframe tbody tr th:only-of-type {\n",
       "        vertical-align: middle;\n",
       "    }\n",
       "\n",
       "    .dataframe tbody tr th {\n",
       "        vertical-align: top;\n",
       "    }\n",
       "\n",
       "    .dataframe thead th {\n",
       "        text-align: right;\n",
       "    }\n",
       "</style>\n",
       "<table border=\"1\" class=\"dataframe\">\n",
       "  <thead>\n",
       "    <tr style=\"text-align: right;\">\n",
       "      <th></th>\n",
       "      <th>High</th>\n",
       "      <th>Low</th>\n",
       "      <th>Open</th>\n",
       "      <th>Close</th>\n",
       "      <th>Volume</th>\n",
       "      <th>Adj Close</th>\n",
       "      <th>UP</th>\n",
       "    </tr>\n",
       "    <tr>\n",
       "      <th>Weekday</th>\n",
       "      <th></th>\n",
       "      <th></th>\n",
       "      <th></th>\n",
       "      <th></th>\n",
       "      <th></th>\n",
       "      <th></th>\n",
       "      <th></th>\n",
       "    </tr>\n",
       "  </thead>\n",
       "  <tbody>\n",
       "    <tr>\n",
       "      <th>Friday</th>\n",
       "      <td>2756.149703</td>\n",
       "      <td>2728.070297</td>\n",
       "      <td>2742.942954</td>\n",
       "      <td>2743.890059</td>\n",
       "      <td>3.842540e+09</td>\n",
       "      <td>2743.890059</td>\n",
       "      <td>0.585227</td>\n",
       "    </tr>\n",
       "    <tr>\n",
       "      <th>Monday</th>\n",
       "      <td>2752.289266</td>\n",
       "      <td>2724.752143</td>\n",
       "      <td>2739.414295</td>\n",
       "      <td>2739.151217</td>\n",
       "      <td>3.587321e+09</td>\n",
       "      <td>2739.151217</td>\n",
       "      <td>0.521472</td>\n",
       "    </tr>\n",
       "    <tr>\n",
       "      <th>Thursday</th>\n",
       "      <td>2750.810741</td>\n",
       "      <td>2721.441756</td>\n",
       "      <td>2737.409933</td>\n",
       "      <td>2737.401025</td>\n",
       "      <td>3.857889e+09</td>\n",
       "      <td>2737.401025</td>\n",
       "      <td>0.551136</td>\n",
       "    </tr>\n",
       "    <tr>\n",
       "      <th>Tuesday</th>\n",
       "      <td>2757.667169</td>\n",
       "      <td>2729.969327</td>\n",
       "      <td>2744.627288</td>\n",
       "      <td>2743.909542</td>\n",
       "      <td>3.757236e+09</td>\n",
       "      <td>2743.909542</td>\n",
       "      <td>0.508475</td>\n",
       "    </tr>\n",
       "    <tr>\n",
       "      <th>Wednesday</th>\n",
       "      <td>2748.904492</td>\n",
       "      <td>2720.539308</td>\n",
       "      <td>2734.856085</td>\n",
       "      <td>2735.609089</td>\n",
       "      <td>3.813959e+09</td>\n",
       "      <td>2735.609089</td>\n",
       "      <td>0.556818</td>\n",
       "    </tr>\n",
       "  </tbody>\n",
       "</table>\n",
       "</div>"
      ],
      "text/plain": [
       "                  High          Low         Open        Close        Volume  \\\n",
       "Weekday                                                                       \n",
       "Friday     2756.149703  2728.070297  2742.942954  2743.890059  3.842540e+09   \n",
       "Monday     2752.289266  2724.752143  2739.414295  2739.151217  3.587321e+09   \n",
       "Thursday   2750.810741  2721.441756  2737.409933  2737.401025  3.857889e+09   \n",
       "Tuesday    2757.667169  2729.969327  2744.627288  2743.909542  3.757236e+09   \n",
       "Wednesday  2748.904492  2720.539308  2734.856085  2735.609089  3.813959e+09   \n",
       "\n",
       "             Adj Close        UP  \n",
       "Weekday                           \n",
       "Friday     2743.890059  0.585227  \n",
       "Monday     2739.151217  0.521472  \n",
       "Thursday   2737.401025  0.551136  \n",
       "Tuesday    2743.909542  0.508475  \n",
       "Wednesday  2735.609089  0.556818  "
      ]
     },
     "execution_count": 186,
     "metadata": {},
     "output_type": "execute_result"
    }
   ],
   "source": [
    "SPWd = df_SP.groupby(df['Weekday']).mean()\n",
    "# so most of the days are up days, but especially Fridays\n",
    "SPWd"
   ]
  },
  {
   "cell_type": "code",
   "execution_count": 187,
   "metadata": {},
   "outputs": [
    {
     "data": {
      "text/plain": [
       "<matplotlib.axes._subplots.AxesSubplot at 0x7feb1bc104e0>"
      ]
     },
     "execution_count": 187,
     "metadata": {},
     "output_type": "execute_result"
    },
    {
     "data": {
      "image/png": "[encoded data removed]",
      "text/plain": [
       "<Figure size 432x288 with 1 Axes>"
      ]
     },
     "metadata": {
      "needs_background": "light"
     },
     "output_type": "display_data"
    }
   ],
   "source": [
    "import seaborn as sns\n",
    "sns.barplot(data=SPWd, x=SPWd.index, y=SPWd.UP)"
   ]
  },
  {
   "cell_type": "code",
   "execution_count": 128,
   "metadata": {},
   "outputs": [
    {
     "data": {
      "text/plain": [
       "Timestamp('2020-06-15 00:00:00')"
      ]
     },
     "execution_count": 128,
     "metadata": {},
     "output_type": "execute_result"
    }
   ],
   "source": [
    "df_SP.index.max()"
   ]
  },
  {
   "cell_type": "markdown",
   "metadata": {},
   "source": [
    "<h4>Calculate percent changes</h4>\n",
    "<li>The function pct_change computes a percent change between successive rows (times in  timeseries data)\n",
    "<li>Defaults to a single time delta\n",
    "<li>With an argument, the time delta can be changed"
   ]
  },
  {
   "cell_type": "code",
   "execution_count": 188,
   "metadata": {},
   "outputs": [
    {
     "data": {
      "text/plain": [
       "Date\n",
       "2017-01-03         NaN\n",
       "2017-01-04    0.012381\n",
       "2017-01-05   -0.003309\n",
       "2017-01-06    0.004920\n",
       "2017-01-09   -0.011090\n",
       "                ...   \n",
       "2020-06-09   -0.028582\n",
       "2020-06-10   -0.015166\n",
       "2020-06-11   -0.091322\n",
       "2020-06-12    0.033048\n",
       "2020-06-15   -0.002379\n",
       "Name: Close, Length: 868, dtype: float64"
      ]
     },
     "execution_count": 188,
     "metadata": {},
     "output_type": "execute_result"
    }
   ],
   "source": [
    "df['Close'].pct_change() #One timeperiod percent change"
   ]
  },
  {
   "cell_type": "code",
   "execution_count": 189,
   "metadata": {},
   "outputs": [
    {
     "data": {
      "text/plain": [
       "Date\n",
       "2017-01-03         NaN\n",
       "2017-01-04         NaN\n",
       "2017-01-05         NaN\n",
       "2017-01-06         NaN\n",
       "2017-01-09         NaN\n",
       "                ...   \n",
       "2020-06-09    0.086423\n",
       "2020-06-10    0.090245\n",
       "2020-06-11   -0.003210\n",
       "2020-06-12    0.001232\n",
       "2020-06-15   -0.031225\n",
       "Name: Close, Length: 868, dtype: float64"
      ]
     },
     "execution_count": 189,
     "metadata": {},
     "output_type": "execute_result"
    }
   ],
   "source": [
    "n=13\n",
    "df['Close'].pct_change(n) #n timeperiods percent change"
   ]
  },
  {
   "cell_type": "markdown",
   "metadata": {},
   "source": [
    "<h3>NaN support</h3>\n",
    "Pandas functions can ignore NaNs"
   ]
  },
  {
   "cell_type": "code",
   "execution_count": 190,
   "metadata": {},
   "outputs": [
    {
     "data": {
      "text/plain": [
       "-0.002299645718231135"
      ]
     },
     "execution_count": 190,
     "metadata": {},
     "output_type": "execute_result"
    }
   ],
   "source": [
    "n=13\n",
    "df['Close'].pct_change(n).mean()"
   ]
  },
  {
   "cell_type": "markdown",
   "metadata": {},
   "source": [
    "<h3>Rolling windows</h3>\n",
    "<li>\"rolling\" function extracts rolling windows\n",
    "<li>For example, the 21 period rolling window of the 13 period percent change "
   ]
  },
  {
   "cell_type": "code",
   "execution_count": 191,
   "metadata": {},
   "outputs": [
    {
     "data": {
      "text/plain": [
       "Rolling [window=21,center=False,axis=0]"
      ]
     },
     "execution_count": 191,
     "metadata": {},
     "output_type": "execute_result"
    }
   ],
   "source": [
    "df['Close'].pct_change(n).rolling(21)"
   ]
  },
  {
   "cell_type": "markdown",
   "metadata": {},
   "source": [
    "<h4>Calculate something on the rolling windows</h4>"
   ]
  },
  {
   "cell_type": "markdown",
   "metadata": {},
   "source": [
    "<h4>Example: mean (the 21 day moving average of the 13 day percent change)"
   ]
  },
  {
   "cell_type": "code",
   "execution_count": 192,
   "metadata": {},
   "outputs": [
    {
     "data": {
      "text/plain": [
       "Date\n",
       "2017-01-03         NaN\n",
       "2017-01-04         NaN\n",
       "2017-01-05         NaN\n",
       "2017-01-06         NaN\n",
       "2017-01-09         NaN\n",
       "                ...   \n",
       "2020-06-09    0.015920\n",
       "2020-06-10    0.018908\n",
       "2020-06-11    0.019183\n",
       "2020-06-12    0.022674\n",
       "2020-06-15    0.024579\n",
       "Name: Close, Length: 868, dtype: float64"
      ]
     },
     "execution_count": 192,
     "metadata": {},
     "output_type": "execute_result"
    }
   ],
   "source": [
    "n=13\n",
    "df['Close'].pct_change(n).rolling(21).mean()"
   ]
  },
  {
   "cell_type": "markdown",
   "metadata": {},
   "source": [
    "<h4>Calculate several moving averages and graph them</h4>"
   ]
  },
  {
   "cell_type": "code",
   "execution_count": 193,
   "metadata": {},
   "outputs": [],
   "source": [
    "ma_8 = df['Close'].pct_change(n).rolling(window=8).mean()\n",
    "ma_13= df['Close'].pct_change(n).rolling(window=13).mean()\n",
    "ma_21= df['Close'].pct_change(n).rolling(window=21).mean()\n",
    "ma_34= df['Close'].pct_change(n).rolling(window=34).mean()\n",
    "ma_55= df['Close'].pct_change(n).rolling(window=55).mean()"
   ]
  },
  {
   "cell_type": "code",
   "execution_count": 200,
   "metadata": {},
   "outputs": [
    {
     "data": {
      "text/plain": [
       "<matplotlib.legend.Legend at 0x7feb0b9c94a8>"
      ]
     },
     "execution_count": 200,
     "metadata": {},
     "output_type": "execute_result"
    },
    {
     "data": {
      "image/png": "[encoded data removed]",
      "text/plain": [
       "<Figure size 432x288 with 1 Axes>"
      ]
     },
     "metadata": {
      "needs_background": "light"
     },
     "output_type": "display_data"
    }
   ],
   "source": [
    "# This is useful - rolling windows\n",
    "ma_8.plot()\n",
    "ma_34.plot()\n",
    "ma_55.plot()\n",
    "plt.legend(['8 day','34 day','55 day'])"
   ]
  },
  {
   "cell_type": "markdown",
   "metadata": {},
   "source": [
    "<h2>Linear regression with pandas</h2>\n",
    "<h4>Example: TAN is the ticker for a solar ETF. FSLR, RGSE, and SCTY are tickers of companies that build or lease solar panels. Each has a different business model. We'll use pandas to study the risk reward tradeoff between the 4 investments and also see how correlated they are</h4>"
   ]
  },
  {
   "cell_type": "code",
   "execution_count": 222,
   "metadata": {},
   "outputs": [],
   "source": [
    "import datetime\n",
    "import pandas_datareader as data\n",
    "start = datetime.datetime(2015,7,1)\n",
    "end = datetime.datetime(2016,6,1)\n",
    "solar_df = data.DataReader(['FSLR', 'TAN','TSLA','SEDG'],'yahoo', start=start,end=end)['Close']"
   ]
  },
  {
   "cell_type": "code",
   "execution_count": 223,
   "metadata": {},
   "outputs": [
    {
     "data": {
      "text/html": [
       "<div>\n",
       "<style scoped>\n",
       "    .dataframe tbody tr th:only-of-type {\n",
       "        vertical-align: middle;\n",
       "    }\n",
       "\n",
       "    .dataframe tbody tr th {\n",
       "        vertical-align: top;\n",
       "    }\n",
       "\n",
       "    .dataframe thead th {\n",
       "        text-align: right;\n",
       "    }\n",
       "</style>\n",
       "<table border=\"1\" class=\"dataframe\">\n",
       "  <thead>\n",
       "    <tr style=\"text-align: right;\">\n",
       "      <th>Symbols</th>\n",
       "      <th>FSLR</th>\n",
       "      <th>TAN</th>\n",
       "      <th>TSLA</th>\n",
       "      <th>SEDG</th>\n",
       "    </tr>\n",
       "    <tr>\n",
       "      <th>Date</th>\n",
       "      <th></th>\n",
       "      <th></th>\n",
       "      <th></th>\n",
       "      <th></th>\n",
       "    </tr>\n",
       "  </thead>\n",
       "  <tbody>\n",
       "    <tr>\n",
       "      <th>2015-07-01</th>\n",
       "      <td>46.040001</td>\n",
       "      <td>38.840000</td>\n",
       "      <td>269.149994</td>\n",
       "      <td>36.680000</td>\n",
       "    </tr>\n",
       "    <tr>\n",
       "      <th>2015-07-02</th>\n",
       "      <td>45.169998</td>\n",
       "      <td>38.549999</td>\n",
       "      <td>280.019989</td>\n",
       "      <td>36.090000</td>\n",
       "    </tr>\n",
       "    <tr>\n",
       "      <th>2015-07-06</th>\n",
       "      <td>44.189999</td>\n",
       "      <td>36.369999</td>\n",
       "      <td>279.720001</td>\n",
       "      <td>32.790001</td>\n",
       "    </tr>\n",
       "    <tr>\n",
       "      <th>2015-07-07</th>\n",
       "      <td>45.119999</td>\n",
       "      <td>36.099998</td>\n",
       "      <td>267.880005</td>\n",
       "      <td>30.719999</td>\n",
       "    </tr>\n",
       "    <tr>\n",
       "      <th>2015-07-08</th>\n",
       "      <td>43.270000</td>\n",
       "      <td>33.669998</td>\n",
       "      <td>254.960007</td>\n",
       "      <td>27.480000</td>\n",
       "    </tr>\n",
       "    <tr>\n",
       "      <th>...</th>\n",
       "      <td>...</td>\n",
       "      <td>...</td>\n",
       "      <td>...</td>\n",
       "      <td>...</td>\n",
       "    </tr>\n",
       "    <tr>\n",
       "      <th>2016-05-25</th>\n",
       "      <td>50.560001</td>\n",
       "      <td>22.090000</td>\n",
       "      <td>219.580002</td>\n",
       "      <td>21.160000</td>\n",
       "    </tr>\n",
       "    <tr>\n",
       "      <th>2016-05-26</th>\n",
       "      <td>49.730000</td>\n",
       "      <td>21.969999</td>\n",
       "      <td>225.119995</td>\n",
       "      <td>21.420000</td>\n",
       "    </tr>\n",
       "    <tr>\n",
       "      <th>2016-05-27</th>\n",
       "      <td>49.900002</td>\n",
       "      <td>21.959999</td>\n",
       "      <td>223.039993</td>\n",
       "      <td>21.600000</td>\n",
       "    </tr>\n",
       "    <tr>\n",
       "      <th>2016-05-31</th>\n",
       "      <td>49.650002</td>\n",
       "      <td>22.010000</td>\n",
       "      <td>223.229996</td>\n",
       "      <td>21.850000</td>\n",
       "    </tr>\n",
       "    <tr>\n",
       "      <th>2016-06-01</th>\n",
       "      <td>50.070000</td>\n",
       "      <td>22.100000</td>\n",
       "      <td>219.559998</td>\n",
       "      <td>20.959999</td>\n",
       "    </tr>\n",
       "  </tbody>\n",
       "</table>\n",
       "<p>232 rows × 4 columns</p>\n",
       "</div>"
      ],
      "text/plain": [
       "Symbols          FSLR        TAN        TSLA       SEDG\n",
       "Date                                                   \n",
       "2015-07-01  46.040001  38.840000  269.149994  36.680000\n",
       "2015-07-02  45.169998  38.549999  280.019989  36.090000\n",
       "2015-07-06  44.189999  36.369999  279.720001  32.790001\n",
       "2015-07-07  45.119999  36.099998  267.880005  30.719999\n",
       "2015-07-08  43.270000  33.669998  254.960007  27.480000\n",
       "...               ...        ...         ...        ...\n",
       "2016-05-25  50.560001  22.090000  219.580002  21.160000\n",
       "2016-05-26  49.730000  21.969999  225.119995  21.420000\n",
       "2016-05-27  49.900002  21.959999  223.039993  21.600000\n",
       "2016-05-31  49.650002  22.010000  223.229996  21.850000\n",
       "2016-06-01  50.070000  22.100000  219.559998  20.959999\n",
       "\n",
       "[232 rows x 4 columns]"
      ]
     },
     "execution_count": 223,
     "metadata": {},
     "output_type": "execute_result"
    }
   ],
   "source": [
    "solar_df"
   ]
  },
  {
   "cell_type": "markdown",
   "metadata": {},
   "source": [
    "<h4>Let's calculate returns (the 1 day percent change)</h4>"
   ]
  },
  {
   "cell_type": "code",
   "execution_count": 224,
   "metadata": {},
   "outputs": [
    {
     "name": "stdout",
     "output_type": "stream",
     "text": [
      "Symbols         FSLR       TAN      TSLA      SEDG\n",
      "Date                                              \n",
      "2015-07-01       NaN       NaN       NaN       NaN\n",
      "2015-07-02 -0.018897 -0.007467  0.040386 -0.016085\n",
      "2015-07-06 -0.021696 -0.056550 -0.001071 -0.091438\n",
      "2015-07-07  0.021045 -0.007424 -0.042328 -0.063129\n",
      "2015-07-08 -0.041002 -0.067313 -0.048231 -0.105469\n",
      "...              ...       ...       ...       ...\n",
      "2016-05-25  0.001982  0.001360  0.007664  0.016819\n",
      "2016-05-26 -0.016416 -0.005432  0.025230  0.012287\n",
      "2016-05-27  0.003418 -0.000455 -0.009240  0.008403\n",
      "2016-05-31 -0.005010  0.002277  0.000852  0.011574\n",
      "2016-06-01  0.008459  0.004089 -0.016440 -0.040732\n",
      "\n",
      "[232 rows x 4 columns]\n"
     ]
    }
   ],
   "source": [
    "rets = solar_df.pct_change()\n",
    "print(rets)"
   ]
  },
  {
   "cell_type": "markdown",
   "metadata": {},
   "source": [
    "<h4>Let's visualize the relationship between each stock and the ETF</h4>"
   ]
  },
  {
   "cell_type": "code",
   "execution_count": 225,
   "metadata": {},
   "outputs": [
    {
     "data": {
      "text/plain": [
       "<matplotlib.collections.PathCollection at 0x7feb0b7af4a8>"
      ]
     },
     "execution_count": 225,
     "metadata": {},
     "output_type": "execute_result"
    },
    {
     "data": {
      "image/png": "[encoded data removed]",
      "text/plain": [
       "<Figure size 432x288 with 1 Axes>"
      ]
     },
     "metadata": {
      "needs_background": "light"
     },
     "output_type": "display_data"
    }
   ],
   "source": [
    "import matplotlib.pyplot as plt\n",
    "plt.scatter(rets.FSLR,rets.TAN)"
   ]
  },
  {
   "cell_type": "code",
   "execution_count": 227,
   "metadata": {},
   "outputs": [
    {
     "data": {
      "text/plain": [
       "<matplotlib.collections.PathCollection at 0x7feb0bb2aac8>"
      ]
     },
     "execution_count": 227,
     "metadata": {},
     "output_type": "execute_result"
    },
    {
     "data": {
      "image/png": "[encoded data removed]",
      "text/plain": [
       "<Figure size 432x288 with 1 Axes>"
      ]
     },
     "metadata": {
      "needs_background": "light"
     },
     "output_type": "display_data"
    }
   ],
   "source": [
    "plt.scatter(rets.TSLA,rets.TAN)"
   ]
  },
  {
   "cell_type": "code",
   "execution_count": 228,
   "metadata": {},
   "outputs": [
    {
     "data": {
      "text/plain": [
       "<matplotlib.collections.PathCollection at 0x7feb0ba63c50>"
      ]
     },
     "execution_count": 228,
     "metadata": {},
     "output_type": "execute_result"
    },
    {
     "data": {
      "image/png": "[encoded data removed]",
      "text/plain": [
       "<Figure size 432x288 with 1 Axes>"
      ]
     },
     "metadata": {
      "needs_background": "light"
     },
     "output_type": "display_data"
    }
   ],
   "source": [
    "plt.scatter(rets.SEDG,rets.TAN)"
   ]
  },
  {
   "cell_type": "markdown",
   "metadata": {},
   "source": [
    "<h4>The correlation matrix</h4>"
   ]
  },
  {
   "cell_type": "code",
   "execution_count": 229,
   "metadata": {},
   "outputs": [
    {
     "name": "stdout",
     "output_type": "stream",
     "text": [
      "Symbols      FSLR       TAN      TSLA      SEDG\n",
      "Symbols                                        \n",
      "FSLR     1.000000  0.670287  0.292105  0.340645\n",
      "TAN      0.670287  1.000000  0.455966  0.504528\n",
      "TSLA     0.292105  0.455966  1.000000  0.252021\n",
      "SEDG     0.340645  0.504528  0.252021  1.000000\n"
     ]
    }
   ],
   "source": [
    "solar_corr = rets.corr()\n",
    "print(solar_corr)"
   ]
  },
  {
   "cell_type": "markdown",
   "metadata": {},
   "source": [
    "<h3>Basic risk analysis</h3>\n",
    "<h4>We'll plot the mean and std or returns for each ticker to get a sense of the risk return profile</h4>"
   ]
  },
  {
   "cell_type": "code",
   "execution_count": 240,
   "metadata": {},
   "outputs": [
    {
     "data": {
      "image/png": "[encoded data removed]",
      "text/plain": [
       "<Figure size 432x288 with 1 Axes>"
      ]
     },
     "metadata": {
      "needs_background": "light"
     },
     "output_type": "display_data"
    }
   ],
   "source": [
    "plt.scatter(rets.mean(), rets.std())\n",
    "plt.xlabel('Expected returns')\n",
    "plt.ylabel('Standard deviations')\n",
    "for label, x, y in zip(rets.columns, rets.mean(), rets.std()):\n",
    "    plt.annotate(\n",
    "        label, \n",
    "        xy = (x, y), xytext = (20, -20),\n",
    "        textcoords = 'offset points', ha = 'right', va = 'bottom',\n",
    "        bbox = dict(boxstyle = 'round,pad=1.5', fc = 'yellow', alpha = 0.4),\n",
    "        arrowprops = dict(arrowstyle = '->', connectionstyle = 'arc3,rad=0'))\n",
    "plt.show()"
   ]
  },
  {
   "cell_type": "markdown",
   "metadata": {},
   "source": [
    "<h2>Regressions</h2>\n",
    "http://statsmodels.sourceforge.net/"
   ]
  },
  {
   "cell_type": "markdown",
   "metadata": {},
   "source": [
    "<h3>Steps for regression</h3>\n",
    "<li>Construct y (dependent variable series)\n",
    "<li>Construct matrix (dataframe) of X (independent variable series)\n",
    "<li>Add intercept\n",
    "<li>Model the regression\n",
    "<li>Get the results\n",
    "<h3>The statsmodels library contains various regression packages. We'll use the OLS (Ordinary Least Squares) model"
   ]
  },
  {
   "cell_type": "code",
   "execution_count": 241,
   "metadata": {},
   "outputs": [
    {
     "ename": "KeyError",
     "evalue": "\"['SCTY', 'RGSE'] not in index\"",
     "output_type": "error",
     "traceback": [
      "\u001b[0;31m---------------------------------------------------------------------------\u001b[0m",
      "\u001b[0;31mKeyError\u001b[0m                                  Traceback (most recent call last)",
      "\u001b[0;32m<ipython-input-241-e61c2dce14d5>\u001b[0m in \u001b[0;36m<module>\u001b[0;34m\u001b[0m\n\u001b[1;32m      1\u001b[0m \u001b[0;32mimport\u001b[0m \u001b[0mnumpy\u001b[0m \u001b[0;32mas\u001b[0m \u001b[0mnp\u001b[0m\u001b[0;34m\u001b[0m\u001b[0;34m\u001b[0m\u001b[0m\n\u001b[1;32m      2\u001b[0m \u001b[0;32mimport\u001b[0m \u001b[0mstatsmodels\u001b[0m\u001b[0;34m.\u001b[0m\u001b[0mapi\u001b[0m \u001b[0;32mas\u001b[0m \u001b[0msm\u001b[0m\u001b[0;34m\u001b[0m\u001b[0;34m\u001b[0m\u001b[0m\n\u001b[0;32m----> 3\u001b[0;31m \u001b[0mX\u001b[0m\u001b[0;34m=\u001b[0m\u001b[0msolar_df\u001b[0m\u001b[0;34m[\u001b[0m\u001b[0;34m[\u001b[0m\u001b[0;34m'FSLR'\u001b[0m\u001b[0;34m,\u001b[0m\u001b[0;34m'RGSE'\u001b[0m\u001b[0;34m,\u001b[0m\u001b[0;34m'SCTY'\u001b[0m\u001b[0;34m]\u001b[0m\u001b[0;34m]\u001b[0m\u001b[0;34m\u001b[0m\u001b[0;34m\u001b[0m\u001b[0m\n\u001b[0m\u001b[1;32m      4\u001b[0m \u001b[0mX\u001b[0m \u001b[0;34m=\u001b[0m \u001b[0msm\u001b[0m\u001b[0;34m.\u001b[0m\u001b[0madd_constant\u001b[0m\u001b[0;34m(\u001b[0m\u001b[0mX\u001b[0m\u001b[0;34m)\u001b[0m\u001b[0;34m\u001b[0m\u001b[0;34m\u001b[0m\u001b[0m\n\u001b[1;32m      5\u001b[0m \u001b[0my\u001b[0m\u001b[0;34m=\u001b[0m\u001b[0msolar_df\u001b[0m\u001b[0;34m[\u001b[0m\u001b[0;34m'TAN'\u001b[0m\u001b[0;34m]\u001b[0m\u001b[0;34m\u001b[0m\u001b[0;34m\u001b[0m\u001b[0m\n",
      "\u001b[0;32m~/ds/eme/pro/my_project_env/lib/python3.6/site-packages/pandas/core/frame.py\u001b[0m in \u001b[0;36m__getitem__\u001b[0;34m(self, key)\u001b[0m\n\u001b[1;32m   2804\u001b[0m             \u001b[0;32mif\u001b[0m \u001b[0mis_iterator\u001b[0m\u001b[0;34m(\u001b[0m\u001b[0mkey\u001b[0m\u001b[0;34m)\u001b[0m\u001b[0;34m:\u001b[0m\u001b[0;34m\u001b[0m\u001b[0;34m\u001b[0m\u001b[0m\n\u001b[1;32m   2805\u001b[0m                 \u001b[0mkey\u001b[0m \u001b[0;34m=\u001b[0m \u001b[0mlist\u001b[0m\u001b[0;34m(\u001b[0m\u001b[0mkey\u001b[0m\u001b[0;34m)\u001b[0m\u001b[0;34m\u001b[0m\u001b[0;34m\u001b[0m\u001b[0m\n\u001b[0;32m-> 2806\u001b[0;31m             \u001b[0mindexer\u001b[0m \u001b[0;34m=\u001b[0m \u001b[0mself\u001b[0m\u001b[0;34m.\u001b[0m\u001b[0mloc\u001b[0m\u001b[0;34m.\u001b[0m\u001b[0m_get_listlike_indexer\u001b[0m\u001b[0;34m(\u001b[0m\u001b[0mkey\u001b[0m\u001b[0;34m,\u001b[0m \u001b[0maxis\u001b[0m\u001b[0;34m=\u001b[0m\u001b[0;36m1\u001b[0m\u001b[0;34m,\u001b[0m \u001b[0mraise_missing\u001b[0m\u001b[0;34m=\u001b[0m\u001b[0;32mTrue\u001b[0m\u001b[0;34m)\u001b[0m\u001b[0;34m[\u001b[0m\u001b[0;36m1\u001b[0m\u001b[0;34m]\u001b[0m\u001b[0;34m\u001b[0m\u001b[0;34m\u001b[0m\u001b[0m\n\u001b[0m\u001b[1;32m   2807\u001b[0m \u001b[0;34m\u001b[0m\u001b[0m\n\u001b[1;32m   2808\u001b[0m         \u001b[0;31m# take() does not accept boolean indexers\u001b[0m\u001b[0;34m\u001b[0m\u001b[0;34m\u001b[0m\u001b[0;34m\u001b[0m\u001b[0m\n",
      "\u001b[0;32m~/ds/eme/pro/my_project_env/lib/python3.6/site-packages/pandas/core/indexing.py\u001b[0m in \u001b[0;36m_get_listlike_indexer\u001b[0;34m(self, key, axis, raise_missing)\u001b[0m\n\u001b[1;32m   1551\u001b[0m \u001b[0;34m\u001b[0m\u001b[0m\n\u001b[1;32m   1552\u001b[0m         self._validate_read_indexer(\n\u001b[0;32m-> 1553\u001b[0;31m             \u001b[0mkeyarr\u001b[0m\u001b[0;34m,\u001b[0m \u001b[0mindexer\u001b[0m\u001b[0;34m,\u001b[0m \u001b[0mo\u001b[0m\u001b[0;34m.\u001b[0m\u001b[0m_get_axis_number\u001b[0m\u001b[0;34m(\u001b[0m\u001b[0maxis\u001b[0m\u001b[0;34m)\u001b[0m\u001b[0;34m,\u001b[0m \u001b[0mraise_missing\u001b[0m\u001b[0;34m=\u001b[0m\u001b[0mraise_missing\u001b[0m\u001b[0;34m\u001b[0m\u001b[0;34m\u001b[0m\u001b[0m\n\u001b[0m\u001b[1;32m   1554\u001b[0m         )\n\u001b[1;32m   1555\u001b[0m         \u001b[0;32mreturn\u001b[0m \u001b[0mkeyarr\u001b[0m\u001b[0;34m,\u001b[0m \u001b[0mindexer\u001b[0m\u001b[0;34m\u001b[0m\u001b[0;34m\u001b[0m\u001b[0m\n",
      "\u001b[0;32m~/ds/eme/pro/my_project_env/lib/python3.6/site-packages/pandas/core/indexing.py\u001b[0m in \u001b[0;36m_validate_read_indexer\u001b[0;34m(self, key, indexer, axis, raise_missing)\u001b[0m\n\u001b[1;32m   1644\u001b[0m             \u001b[0;32mif\u001b[0m \u001b[0;32mnot\u001b[0m \u001b[0;34m(\u001b[0m\u001b[0mself\u001b[0m\u001b[0;34m.\u001b[0m\u001b[0mname\u001b[0m \u001b[0;34m==\u001b[0m \u001b[0;34m\"loc\"\u001b[0m \u001b[0;32mand\u001b[0m \u001b[0;32mnot\u001b[0m \u001b[0mraise_missing\u001b[0m\u001b[0;34m)\u001b[0m\u001b[0;34m:\u001b[0m\u001b[0;34m\u001b[0m\u001b[0;34m\u001b[0m\u001b[0m\n\u001b[1;32m   1645\u001b[0m                 \u001b[0mnot_found\u001b[0m \u001b[0;34m=\u001b[0m \u001b[0mlist\u001b[0m\u001b[0;34m(\u001b[0m\u001b[0mset\u001b[0m\u001b[0;34m(\u001b[0m\u001b[0mkey\u001b[0m\u001b[0;34m)\u001b[0m \u001b[0;34m-\u001b[0m \u001b[0mset\u001b[0m\u001b[0;34m(\u001b[0m\u001b[0max\u001b[0m\u001b[0;34m)\u001b[0m\u001b[0;34m)\u001b[0m\u001b[0;34m\u001b[0m\u001b[0;34m\u001b[0m\u001b[0m\n\u001b[0;32m-> 1646\u001b[0;31m                 \u001b[0;32mraise\u001b[0m \u001b[0mKeyError\u001b[0m\u001b[0;34m(\u001b[0m\u001b[0;34mf\"{not_found} not in index\"\u001b[0m\u001b[0;34m)\u001b[0m\u001b[0;34m\u001b[0m\u001b[0;34m\u001b[0m\u001b[0m\n\u001b[0m\u001b[1;32m   1647\u001b[0m \u001b[0;34m\u001b[0m\u001b[0m\n\u001b[1;32m   1648\u001b[0m             \u001b[0;31m# we skip the warning on Categorical/Interval\u001b[0m\u001b[0;34m\u001b[0m\u001b[0;34m\u001b[0m\u001b[0;34m\u001b[0m\u001b[0m\n",
      "\u001b[0;31mKeyError\u001b[0m: \"['SCTY', 'RGSE'] not in index\""
     ]
    }
   ],
   "source": [
    "import numpy as np\n",
    "import statsmodels.api as sm\n",
    "X=solar_df[['FSLR','RGSE','SCTY']]\n",
    "X = sm.add_constant(X)\n",
    "y=solar_df['TAN']\n",
    "model = sm.OLS(y,X,missing='drop')\n",
    "result = model.fit()\n",
    "print(result.summary())"
   ]
  },
  {
   "cell_type": "markdown",
   "metadata": {},
   "source": [
    "<h4>Finally plot the fitted line with the actual y values"
   ]
  },
  {
   "cell_type": "code",
   "execution_count": null,
   "metadata": {},
   "outputs": [],
   "source": [
    "fig, ax = plt.subplots(figsize=(8,6))\n",
    "ax.plot(y)\n",
    "ax.plot(result.fittedvalues)"
   ]
  },
  {
   "cell_type": "markdown",
   "metadata": {},
   "source": [
    "# Knowledge Check"
   ]
  },
  {
   "cell_type": "code",
   "execution_count": 158,
   "metadata": {},
   "outputs": [],
   "source": [
    "dfUS = pd.DataFrame({'nationality':['US','US','US','US','CA','US','US']})"
   ]
  },
  {
   "cell_type": "code",
   "execution_count": 164,
   "metadata": {},
   "outputs": [
    {
     "ename": "SyntaxError",
     "evalue": "invalid syntax (<ipython-input-164-00b24e549767>, line 1)",
     "output_type": "error",
     "traceback": [
      "\u001b[0;36m  File \u001b[0;32m\"<ipython-input-164-00b24e549767>\"\u001b[0;36m, line \u001b[0;32m1\u001b[0m\n\u001b[0;31m    dfUS['nationality'] = dfUS['nationality'].replace('US','United States')?\u001b[0m\n\u001b[0m                                                                           ^\u001b[0m\n\u001b[0;31mSyntaxError\u001b[0m\u001b[0;31m:\u001b[0m invalid syntax\n"
     ]
    }
   ],
   "source": [
    "dfUS['nationality'] = dfUS['nationality'].replace('US','United States')"
   ]
  },
  {
   "cell_type": "code",
   "execution_count": 165,
   "metadata": {},
   "outputs": [],
   "source": [
    "dfUS.replace?"
   ]
  },
  {
   "cell_type": "code",
   "execution_count": null,
   "metadata": {},
   "outputs": [],
   "source": [
    "dfUS['nationality'].replace"
   ]
  },
  {
   "cell_type": "code",
   "execution_count": 173,
   "metadata": {},
   "outputs": [],
   "source": [
    "a = pd.Series([1,2,3,'a','b',[1,2,3]])"
   ]
  },
  {
   "cell_type": "code",
   "execution_count": 175,
   "metadata": {},
   "outputs": [
    {
     "data": {
      "text/plain": [
       "0            1\n",
       "1            2\n",
       "2            3\n",
       "3            a\n",
       "4            b\n",
       "5    [1, 2, 3]\n",
       "dtype: object"
      ]
     },
     "execution_count": 175,
     "metadata": {},
     "output_type": "execute_result"
    }
   ],
   "source": [
    "a"
   ]
  },
  {
   "cell_type": "code",
   "execution_count": 172,
   "metadata": {},
   "outputs": [
    {
     "data": {
      "text/plain": [
       "0    1\n",
       "1    2\n",
       "2    3\n",
       "3    a\n",
       "dtype: object"
      ]
     },
     "execution_count": 172,
     "metadata": {},
     "output_type": "execute_result"
    }
   ],
   "source": [
    "a"
   ]
  },
  {
   "cell_type": "code",
   "execution_count": null,
   "metadata": {},
   "outputs": [],
   "source": []
  }
 ],
 "metadata": {
  "kernelspec": {
   "display_name": "Python 3",
   "language": "python",
   "name": "python3"
  },
  "language_info": {
   "codemirror_mode": {
    "name": "ipython",
    "version": 3
   },
   "file_extension": ".py",
   "mimetype": "text/x-python",
   "name": "python",
   "nbconvert_exporter": "python",
   "pygments_lexer": "ipython3",
   "version": "3.6.9"
  }
 },
 "nbformat": 4,
 "nbformat_minor": 2
}
