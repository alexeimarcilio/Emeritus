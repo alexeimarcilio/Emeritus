{
 "cells": [
  {
   "cell_type": "markdown",
   "metadata": {},
   "source": [
    "# Inspecting Your Data"
   ]
  },
  {
   "cell_type": "markdown",
   "metadata": {},
   "source": [
    "# Outline\n",
    "- .head() and .tail()\n",
    "- .columns\n",
    "- .shape\n",
    "- .info()"
   ]
  },
  {
   "cell_type": "code",
   "execution_count": 1,
   "metadata": {},
   "outputs": [],
   "source": [
    "import pandas as pd"
   ]
  },
  {
   "cell_type": "code",
   "execution_count": 2,
   "metadata": {},
   "outputs": [],
   "source": [
    "social = pd.read_csv('social.csv')"
   ]
  },
  {
   "cell_type": "markdown",
   "metadata": {},
   "source": [
    "## .head() and .tail()"
   ]
  },
  {
   "cell_type": "code",
   "execution_count": 3,
   "metadata": {},
   "outputs": [
    {
     "data": {
      "text/html": [
       "<div>\n",
       "<style scoped>\n",
       "    .dataframe tbody tr th:only-of-type {\n",
       "        vertical-align: middle;\n",
       "    }\n",
       "\n",
       "    .dataframe tbody tr th {\n",
       "        vertical-align: top;\n",
       "    }\n",
       "\n",
       "    .dataframe thead th {\n",
       "        text-align: right;\n",
       "    }\n",
       "</style>\n",
       "<table border=\"1\" class=\"dataframe\">\n",
       "  <thead>\n",
       "    <tr style=\"text-align: right;\">\n",
       "      <th></th>\n",
       "      <th>respid</th>\n",
       "      <th>sex</th>\n",
       "      <th>eminuse</th>\n",
       "      <th>intmob</th>\n",
       "      <th>intfreq</th>\n",
       "      <th>home4nw</th>\n",
       "      <th>bbhome1</th>\n",
       "      <th>bbhome2</th>\n",
       "      <th>device1a</th>\n",
       "      <th>smart2</th>\n",
       "      <th>...</th>\n",
       "      <th>hisp</th>\n",
       "      <th>racem1</th>\n",
       "      <th>racem2</th>\n",
       "      <th>racem3</th>\n",
       "      <th>racem4</th>\n",
       "      <th>racecmb</th>\n",
       "      <th>birth_hisp</th>\n",
       "      <th>inc</th>\n",
       "      <th>party</th>\n",
       "      <th>partyln</th>\n",
       "    </tr>\n",
       "  </thead>\n",
       "  <tbody>\n",
       "    <tr>\n",
       "      <th>0</th>\n",
       "      <td>1</td>\n",
       "      <td>2</td>\n",
       "      <td>1</td>\n",
       "      <td>1</td>\n",
       "      <td>1</td>\n",
       "      <td>1</td>\n",
       "      <td>2</td>\n",
       "      <td></td>\n",
       "      <td>1</td>\n",
       "      <td>1</td>\n",
       "      <td>...</td>\n",
       "      <td>2</td>\n",
       "      <td>1</td>\n",
       "      <td></td>\n",
       "      <td></td>\n",
       "      <td></td>\n",
       "      <td>1</td>\n",
       "      <td></td>\n",
       "      <td>6</td>\n",
       "      <td>2</td>\n",
       "      <td></td>\n",
       "    </tr>\n",
       "    <tr>\n",
       "      <th>1</th>\n",
       "      <td>2</td>\n",
       "      <td>2</td>\n",
       "      <td>2</td>\n",
       "      <td>2</td>\n",
       "      <td></td>\n",
       "      <td></td>\n",
       "      <td></td>\n",
       "      <td></td>\n",
       "      <td>1</td>\n",
       "      <td>2</td>\n",
       "      <td>...</td>\n",
       "      <td>2</td>\n",
       "      <td>1</td>\n",
       "      <td></td>\n",
       "      <td></td>\n",
       "      <td></td>\n",
       "      <td>1</td>\n",
       "      <td></td>\n",
       "      <td>4</td>\n",
       "      <td>3</td>\n",
       "      <td>8</td>\n",
       "    </tr>\n",
       "    <tr>\n",
       "      <th>2</th>\n",
       "      <td>3</td>\n",
       "      <td>2</td>\n",
       "      <td>1</td>\n",
       "      <td>2</td>\n",
       "      <td>3</td>\n",
       "      <td>1</td>\n",
       "      <td>2</td>\n",
       "      <td></td>\n",
       "      <td>1</td>\n",
       "      <td>1</td>\n",
       "      <td>...</td>\n",
       "      <td>2</td>\n",
       "      <td>1</td>\n",
       "      <td></td>\n",
       "      <td></td>\n",
       "      <td></td>\n",
       "      <td>1</td>\n",
       "      <td></td>\n",
       "      <td>4</td>\n",
       "      <td>1</td>\n",
       "      <td></td>\n",
       "    </tr>\n",
       "    <tr>\n",
       "      <th>3</th>\n",
       "      <td>4</td>\n",
       "      <td>2</td>\n",
       "      <td>1</td>\n",
       "      <td>1</td>\n",
       "      <td>4</td>\n",
       "      <td>1</td>\n",
       "      <td>2</td>\n",
       "      <td></td>\n",
       "      <td>1</td>\n",
       "      <td>1</td>\n",
       "      <td>...</td>\n",
       "      <td>2</td>\n",
       "      <td>1</td>\n",
       "      <td></td>\n",
       "      <td></td>\n",
       "      <td></td>\n",
       "      <td>1</td>\n",
       "      <td></td>\n",
       "      <td>2</td>\n",
       "      <td>2</td>\n",
       "      <td></td>\n",
       "    </tr>\n",
       "    <tr>\n",
       "      <th>4</th>\n",
       "      <td>4</td>\n",
       "      <td>2</td>\n",
       "      <td>1</td>\n",
       "      <td>1</td>\n",
       "      <td>4</td>\n",
       "      <td>1</td>\n",
       "      <td>2</td>\n",
       "      <td></td>\n",
       "      <td>1</td>\n",
       "      <td>1</td>\n",
       "      <td>...</td>\n",
       "      <td>2</td>\n",
       "      <td>1</td>\n",
       "      <td></td>\n",
       "      <td></td>\n",
       "      <td></td>\n",
       "      <td>1</td>\n",
       "      <td></td>\n",
       "      <td>2</td>\n",
       "      <td>2</td>\n",
       "      <td></td>\n",
       "    </tr>\n",
       "  </tbody>\n",
       "</table>\n",
       "<p>5 rows × 54 columns</p>\n",
       "</div>"
      ],
      "text/plain": [
       "   respid  sex  eminuse  intmob intfreq home4nw bbhome1 bbhome2 device1a  \\\n",
       "0       1    2        1       1       1       1       2                1   \n",
       "1       2    2        2       2                                        1   \n",
       "2       3    2        1       2       3       1       2                1   \n",
       "3       4    2        1       1       4       1       2                1   \n",
       "4       4    2        1       1       4       1       2                1   \n",
       "\n",
       "  smart2  ...  hisp  racem1  racem2  racem3 racem4 racecmb birth_hisp inc  \\\n",
       "0      1  ...     2       1                              1              6   \n",
       "1      2  ...     2       1                              1              4   \n",
       "2      1  ...     2       1                              1              4   \n",
       "3      1  ...     2       1                              1              2   \n",
       "4      1  ...     2       1                              1              2   \n",
       "\n",
       "  party partyln  \n",
       "0     2          \n",
       "1     3       8  \n",
       "2     1          \n",
       "3     2          \n",
       "4     2          \n",
       "\n",
       "[5 rows x 54 columns]"
      ]
     },
     "execution_count": 3,
     "metadata": {},
     "output_type": "execute_result"
    }
   ],
   "source": [
    "social.head()"
   ]
  },
  {
   "cell_type": "markdown",
   "metadata": {},
   "source": [
    "## .columns"
   ]
  },
  {
   "cell_type": "code",
   "execution_count": 4,
   "metadata": {},
   "outputs": [
    {
     "data": {
      "text/plain": [
       "Index(['respid', 'sex', 'eminuse', 'intmob', 'intfreq', 'home4nw', 'bbhome1',\n",
       "       'bbhome2', 'device1a', 'smart2', 'snsint2', 'device1b', 'device1c',\n",
       "       'device1d', 'web1a', 'web1b', 'web1c', 'web1d', 'web1e', 'web1f',\n",
       "       'web1g', 'web1h', 'sns2a', 'sns2b', 'sns2c', 'sns2d', 'sns2e', 'pial5a',\n",
       "       'pial5b', 'pial5c', 'pial5d', 'pial11', 'pial11a', 'pial11ao@',\n",
       "       'pial11_igbm', 'pial12', 'books1', 'books2a', 'books2b', 'books2c',\n",
       "       'age', 'marital', 'educ2', 'emplnw', 'hisp', 'racem1', 'racem2',\n",
       "       'racem3', 'racem4', 'racecmb', 'birth_hisp', 'inc', 'party', 'partyln'],\n",
       "      dtype='object')"
      ]
     },
     "execution_count": 4,
     "metadata": {},
     "output_type": "execute_result"
    }
   ],
   "source": [
    "social.columns"
   ]
  },
  {
   "cell_type": "markdown",
   "metadata": {},
   "source": [
    "## .shape"
   ]
  },
  {
   "cell_type": "code",
   "execution_count": 5,
   "metadata": {},
   "outputs": [
    {
     "data": {
      "text/plain": [
       "(2003, 54)"
      ]
     },
     "execution_count": 5,
     "metadata": {},
     "output_type": "execute_result"
    }
   ],
   "source": [
    "social.shape"
   ]
  },
  {
   "cell_type": "markdown",
   "metadata": {},
   "source": [
    "## .info()"
   ]
  },
  {
   "cell_type": "code",
   "execution_count": 6,
   "metadata": {},
   "outputs": [
    {
     "name": "stdout",
     "output_type": "stream",
     "text": [
      "<class 'pandas.core.frame.DataFrame'>\n",
      "RangeIndex: 2003 entries, 0 to 2002\n",
      "Data columns (total 54 columns):\n",
      " #   Column       Non-Null Count  Dtype \n",
      "---  ------       --------------  ----- \n",
      " 0   respid       2003 non-null   int64 \n",
      " 1   sex          2003 non-null   int64 \n",
      " 2   eminuse      2003 non-null   int64 \n",
      " 3   intmob       2003 non-null   int64 \n",
      " 4   intfreq      2003 non-null   object\n",
      " 5   home4nw      2003 non-null   object\n",
      " 6   bbhome1      2003 non-null   object\n",
      " 7   bbhome2      2003 non-null   object\n",
      " 8   device1a     2003 non-null   object\n",
      " 9   smart2       2003 non-null   object\n",
      " 10  snsint2      2003 non-null   int64 \n",
      " 11  device1b     2003 non-null   int64 \n",
      " 12  device1c     2003 non-null   int64 \n",
      " 13  device1d     2003 non-null   int64 \n",
      " 14  web1a        2003 non-null   object\n",
      " 15  web1b        2003 non-null   object\n",
      " 16  web1c        2003 non-null   object\n",
      " 17  web1d        2003 non-null   object\n",
      " 18  web1e        2003 non-null   object\n",
      " 19  web1f        2003 non-null   object\n",
      " 20  web1g        2003 non-null   object\n",
      " 21  web1h        2003 non-null   object\n",
      " 22  sns2a        2003 non-null   object\n",
      " 23  sns2b        2003 non-null   object\n",
      " 24  sns2c        2003 non-null   object\n",
      " 25  sns2d        2003 non-null   object\n",
      " 26  sns2e        2003 non-null   object\n",
      " 27  pial5a       2003 non-null   int64 \n",
      " 28  pial5b       2003 non-null   object\n",
      " 29  pial5c       2003 non-null   object\n",
      " 30  pial5d       2003 non-null   object\n",
      " 31  pial11       2003 non-null   int64 \n",
      " 32  pial11a      2003 non-null   object\n",
      " 33  pial11ao@    2003 non-null   object\n",
      " 34  pial11_igbm  2003 non-null   int64 \n",
      " 35  pial12       2003 non-null   object\n",
      " 36  books1       2003 non-null   int64 \n",
      " 37  books2a      2003 non-null   object\n",
      " 38  books2b      2003 non-null   object\n",
      " 39  books2c      2003 non-null   object\n",
      " 40  age          2003 non-null   int64 \n",
      " 41  marital      2003 non-null   int64 \n",
      " 42  educ2        2003 non-null   int64 \n",
      " 43  emplnw       2003 non-null   int64 \n",
      " 44  hisp         2003 non-null   int64 \n",
      " 45  racem1       2003 non-null   int64 \n",
      " 46  racem2       2003 non-null   object\n",
      " 47  racem3       2003 non-null   object\n",
      " 48  racem4       2003 non-null   object\n",
      " 49  racecmb      2003 non-null   int64 \n",
      " 50  birth_hisp   2003 non-null   object\n",
      " 51  inc          2003 non-null   int64 \n",
      " 52  party        2003 non-null   int64 \n",
      " 53  partyln      2003 non-null   object\n",
      "dtypes: int64(21), object(33)\n",
      "memory usage: 845.1+ KB\n"
     ]
    }
   ],
   "source": [
    "social.info()"
   ]
  },
  {
   "cell_type": "code",
   "execution_count": 1,
   "metadata": {},
   "outputs": [],
   "source": [
    "import pandas as pd\n",
    "\n",
    "d = {'col1': [1,2,3.0], 'col2':[1,4,5]}\n",
    "df1 = pd.DataFrame(d)"
   ]
  },
  {
   "cell_type": "code",
   "execution_count": 2,
   "metadata": {},
   "outputs": [
    {
     "data": {
      "text/html": [
       "<div>\n",
       "<style scoped>\n",
       "    .dataframe tbody tr th:only-of-type {\n",
       "        vertical-align: middle;\n",
       "    }\n",
       "\n",
       "    .dataframe tbody tr th {\n",
       "        vertical-align: top;\n",
       "    }\n",
       "\n",
       "    .dataframe thead th {\n",
       "        text-align: right;\n",
       "    }\n",
       "</style>\n",
       "<table border=\"1\" class=\"dataframe\">\n",
       "  <thead>\n",
       "    <tr style=\"text-align: right;\">\n",
       "      <th></th>\n",
       "      <th>col1</th>\n",
       "      <th>col2</th>\n",
       "    </tr>\n",
       "  </thead>\n",
       "  <tbody>\n",
       "    <tr>\n",
       "      <th>0</th>\n",
       "      <td>1.0</td>\n",
       "      <td>1</td>\n",
       "    </tr>\n",
       "    <tr>\n",
       "      <th>1</th>\n",
       "      <td>2.0</td>\n",
       "      <td>4</td>\n",
       "    </tr>\n",
       "    <tr>\n",
       "      <th>2</th>\n",
       "      <td>3.0</td>\n",
       "      <td>5</td>\n",
       "    </tr>\n",
       "  </tbody>\n",
       "</table>\n",
       "</div>"
      ],
      "text/plain": [
       "   col1  col2\n",
       "0   1.0     1\n",
       "1   2.0     4\n",
       "2   3.0     5"
      ]
     },
     "execution_count": 2,
     "metadata": {},
     "output_type": "execute_result"
    }
   ],
   "source": [
    "df1"
   ]
  },
  {
   "cell_type": "code",
   "execution_count": 3,
   "metadata": {},
   "outputs": [
    {
     "name": "stdout",
     "output_type": "stream",
     "text": [
      "<class 'pandas.core.frame.DataFrame'>\n",
      "RangeIndex: 3 entries, 0 to 2\n",
      "Data columns (total 2 columns):\n",
      " #   Column  Non-Null Count  Dtype  \n",
      "---  ------  --------------  -----  \n",
      " 0   col1    3 non-null      float64\n",
      " 1   col2    3 non-null      int64  \n",
      "dtypes: float64(1), int64(1)\n",
      "memory usage: 176.0 bytes\n"
     ]
    }
   ],
   "source": [
    "df1.info()"
   ]
  },
  {
   "cell_type": "code",
   "execution_count": null,
   "metadata": {},
   "outputs": [],
   "source": []
  }
 ],
 "metadata": {
  "kernelspec": {
   "display_name": "Python 3",
   "language": "python",
   "name": "python3"
  },
  "language_info": {
   "codemirror_mode": {
    "name": "ipython",
    "version": 3
   },
   "file_extension": ".py",
   "mimetype": "text/x-python",
   "name": "python",
   "nbconvert_exporter": "python",
   "pygments_lexer": "ipython3",
   "version": "3.6.9"
  }
 },
 "nbformat": 4,
 "nbformat_minor": 2
}
