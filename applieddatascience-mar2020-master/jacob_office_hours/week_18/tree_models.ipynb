{
 "cells": [
  {
   "cell_type": "markdown",
   "metadata": {},
   "source": [
    "### Tree Models"
   ]
  },
  {
   "cell_type": "code",
   "execution_count": 3,
   "metadata": {},
   "outputs": [],
   "source": [
    "%matplotlib inline\n",
    "import matplotlib.pyplot as plt\n",
    "import numpy as np\n",
    "import pandas as pd\n",
    "from sklearn.datasets import make_regression, make_classification"
   ]
  },
  {
   "cell_type": "code",
   "execution_count": 4,
   "metadata": {},
   "outputs": [],
   "source": [
    "X, y = make_regression(n_samples = 5, n_features = 1)"
   ]
  },
  {
   "cell_type": "code",
   "execution_count": 5,
   "metadata": {},
   "outputs": [
    {
     "data": {
      "text/plain": [
       "array([[ 1.04742539],\n",
       "       [ 1.5037919 ],\n",
       "       [-1.06518626],\n",
       "       [-0.70775811],\n",
       "       [-0.66776176]])"
      ]
     },
     "execution_count": 5,
     "metadata": {},
     "output_type": "execute_result"
    }
   ],
   "source": [
    "X"
   ]
  },
  {
   "cell_type": "code",
   "execution_count": 6,
   "metadata": {},
   "outputs": [
    {
     "data": {
      "text/html": [
       "<div>\n",
       "<style scoped>\n",
       "    .dataframe tbody tr th:only-of-type {\n",
       "        vertical-align: middle;\n",
       "    }\n",
       "\n",
       "    .dataframe tbody tr th {\n",
       "        vertical-align: top;\n",
       "    }\n",
       "\n",
       "    .dataframe thead th {\n",
       "        text-align: right;\n",
       "    }\n",
       "</style>\n",
       "<table border=\"1\" class=\"dataframe\">\n",
       "  <thead>\n",
       "    <tr style=\"text-align: right;\">\n",
       "      <th></th>\n",
       "      <th>X</th>\n",
       "      <th>y</th>\n",
       "    </tr>\n",
       "  </thead>\n",
       "  <tbody>\n",
       "    <tr>\n",
       "      <td>0</td>\n",
       "      <td>1.047425</td>\n",
       "      <td>96.405907</td>\n",
       "    </tr>\n",
       "    <tr>\n",
       "      <td>1</td>\n",
       "      <td>1.503792</td>\n",
       "      <td>138.410262</td>\n",
       "    </tr>\n",
       "    <tr>\n",
       "      <td>2</td>\n",
       "      <td>-1.065186</td>\n",
       "      <td>-98.040633</td>\n",
       "    </tr>\n",
       "    <tr>\n",
       "      <td>3</td>\n",
       "      <td>-0.707758</td>\n",
       "      <td>-65.142647</td>\n",
       "    </tr>\n",
       "    <tr>\n",
       "      <td>4</td>\n",
       "      <td>-0.667762</td>\n",
       "      <td>-61.461350</td>\n",
       "    </tr>\n",
       "  </tbody>\n",
       "</table>\n",
       "</div>"
      ],
      "text/plain": [
       "          X           y\n",
       "0  1.047425   96.405907\n",
       "1  1.503792  138.410262\n",
       "2 -1.065186  -98.040633\n",
       "3 -0.707758  -65.142647\n",
       "4 -0.667762  -61.461350"
      ]
     },
     "execution_count": 6,
     "metadata": {},
     "output_type": "execute_result"
    }
   ],
   "source": [
    "pd.DataFrame({'X': X[:, 0], 'y': y})"
   ]
  },
  {
   "cell_type": "code",
   "execution_count": 18,
   "metadata": {},
   "outputs": [],
   "source": [
    "import seaborn as sns"
   ]
  },
  {
   "cell_type": "code",
   "execution_count": 19,
   "metadata": {},
   "outputs": [],
   "source": [
    "titanic = sns.load_dataset('titanic')"
   ]
  },
  {
   "cell_type": "code",
   "execution_count": 20,
   "metadata": {},
   "outputs": [
    {
     "data": {
      "text/html": [
       "<div>\n",
       "<style scoped>\n",
       "    .dataframe tbody tr th:only-of-type {\n",
       "        vertical-align: middle;\n",
       "    }\n",
       "\n",
       "    .dataframe tbody tr th {\n",
       "        vertical-align: top;\n",
       "    }\n",
       "\n",
       "    .dataframe thead th {\n",
       "        text-align: right;\n",
       "    }\n",
       "</style>\n",
       "<table border=\"1\" class=\"dataframe\">\n",
       "  <thead>\n",
       "    <tr style=\"text-align: right;\">\n",
       "      <th></th>\n",
       "      <th>survived</th>\n",
       "      <th>pclass</th>\n",
       "      <th>sex</th>\n",
       "      <th>age</th>\n",
       "      <th>sibsp</th>\n",
       "      <th>parch</th>\n",
       "      <th>fare</th>\n",
       "      <th>embarked</th>\n",
       "      <th>class</th>\n",
       "      <th>who</th>\n",
       "      <th>adult_male</th>\n",
       "      <th>deck</th>\n",
       "      <th>embark_town</th>\n",
       "      <th>alive</th>\n",
       "      <th>alone</th>\n",
       "    </tr>\n",
       "  </thead>\n",
       "  <tbody>\n",
       "    <tr>\n",
       "      <td>0</td>\n",
       "      <td>0</td>\n",
       "      <td>3</td>\n",
       "      <td>male</td>\n",
       "      <td>22.0</td>\n",
       "      <td>1</td>\n",
       "      <td>0</td>\n",
       "      <td>7.2500</td>\n",
       "      <td>S</td>\n",
       "      <td>Third</td>\n",
       "      <td>man</td>\n",
       "      <td>True</td>\n",
       "      <td>NaN</td>\n",
       "      <td>Southampton</td>\n",
       "      <td>no</td>\n",
       "      <td>False</td>\n",
       "    </tr>\n",
       "    <tr>\n",
       "      <td>1</td>\n",
       "      <td>1</td>\n",
       "      <td>1</td>\n",
       "      <td>female</td>\n",
       "      <td>38.0</td>\n",
       "      <td>1</td>\n",
       "      <td>0</td>\n",
       "      <td>71.2833</td>\n",
       "      <td>C</td>\n",
       "      <td>First</td>\n",
       "      <td>woman</td>\n",
       "      <td>False</td>\n",
       "      <td>C</td>\n",
       "      <td>Cherbourg</td>\n",
       "      <td>yes</td>\n",
       "      <td>False</td>\n",
       "    </tr>\n",
       "    <tr>\n",
       "      <td>2</td>\n",
       "      <td>1</td>\n",
       "      <td>3</td>\n",
       "      <td>female</td>\n",
       "      <td>26.0</td>\n",
       "      <td>0</td>\n",
       "      <td>0</td>\n",
       "      <td>7.9250</td>\n",
       "      <td>S</td>\n",
       "      <td>Third</td>\n",
       "      <td>woman</td>\n",
       "      <td>False</td>\n",
       "      <td>NaN</td>\n",
       "      <td>Southampton</td>\n",
       "      <td>yes</td>\n",
       "      <td>True</td>\n",
       "    </tr>\n",
       "    <tr>\n",
       "      <td>3</td>\n",
       "      <td>1</td>\n",
       "      <td>1</td>\n",
       "      <td>female</td>\n",
       "      <td>35.0</td>\n",
       "      <td>1</td>\n",
       "      <td>0</td>\n",
       "      <td>53.1000</td>\n",
       "      <td>S</td>\n",
       "      <td>First</td>\n",
       "      <td>woman</td>\n",
       "      <td>False</td>\n",
       "      <td>C</td>\n",
       "      <td>Southampton</td>\n",
       "      <td>yes</td>\n",
       "      <td>False</td>\n",
       "    </tr>\n",
       "    <tr>\n",
       "      <td>4</td>\n",
       "      <td>0</td>\n",
       "      <td>3</td>\n",
       "      <td>male</td>\n",
       "      <td>35.0</td>\n",
       "      <td>0</td>\n",
       "      <td>0</td>\n",
       "      <td>8.0500</td>\n",
       "      <td>S</td>\n",
       "      <td>Third</td>\n",
       "      <td>man</td>\n",
       "      <td>True</td>\n",
       "      <td>NaN</td>\n",
       "      <td>Southampton</td>\n",
       "      <td>no</td>\n",
       "      <td>True</td>\n",
       "    </tr>\n",
       "  </tbody>\n",
       "</table>\n",
       "</div>"
      ],
      "text/plain": [
       "   survived  pclass     sex   age  sibsp  parch     fare embarked  class  \\\n",
       "0         0       3    male  22.0      1      0   7.2500        S  Third   \n",
       "1         1       1  female  38.0      1      0  71.2833        C  First   \n",
       "2         1       3  female  26.0      0      0   7.9250        S  Third   \n",
       "3         1       1  female  35.0      1      0  53.1000        S  First   \n",
       "4         0       3    male  35.0      0      0   8.0500        S  Third   \n",
       "\n",
       "     who  adult_male deck  embark_town alive  alone  \n",
       "0    man        True  NaN  Southampton    no  False  \n",
       "1  woman       False    C    Cherbourg   yes  False  \n",
       "2  woman       False  NaN  Southampton   yes   True  \n",
       "3  woman       False    C  Southampton   yes  False  \n",
       "4    man        True  NaN  Southampton    no   True  "
      ]
     },
     "execution_count": 20,
     "metadata": {},
     "output_type": "execute_result"
    }
   ],
   "source": [
    "titanic.head()"
   ]
  },
  {
   "cell_type": "code",
   "execution_count": 21,
   "metadata": {},
   "outputs": [],
   "source": [
    "from sklearn.tree import DecisionTreeClassifier"
   ]
  },
  {
   "cell_type": "code",
   "execution_count": 22,
   "metadata": {},
   "outputs": [],
   "source": [
    "from sklearn.pipeline import Pipeline\n",
    "from sklearn.model_selection import train_test_split, GridSearchCV"
   ]
  },
  {
   "cell_type": "code",
   "execution_count": 24,
   "metadata": {},
   "outputs": [],
   "source": [
    "X = titanic.drop('survived', axis = 1)\n",
    "y = titanic.survived"
   ]
  },
  {
   "cell_type": "code",
   "execution_count": 26,
   "metadata": {},
   "outputs": [
    {
     "name": "stdout",
     "output_type": "stream",
     "text": [
      "<class 'pandas.core.frame.DataFrame'>\n",
      "RangeIndex: 891 entries, 0 to 890\n",
      "Data columns (total 14 columns):\n",
      "pclass         891 non-null int64\n",
      "sex            891 non-null object\n",
      "age            714 non-null float64\n",
      "sibsp          891 non-null int64\n",
      "parch          891 non-null int64\n",
      "fare           891 non-null float64\n",
      "embarked       889 non-null object\n",
      "class          891 non-null category\n",
      "who            891 non-null object\n",
      "adult_male     891 non-null bool\n",
      "deck           203 non-null category\n",
      "embark_town    889 non-null object\n",
      "alive          891 non-null object\n",
      "alone          891 non-null bool\n",
      "dtypes: bool(2), category(2), float64(2), int64(3), object(5)\n",
      "memory usage: 73.7+ KB\n"
     ]
    }
   ],
   "source": [
    "X.info()"
   ]
  },
  {
   "cell_type": "code",
   "execution_count": 28,
   "metadata": {},
   "outputs": [],
   "source": [
    "X.drop(['alive', 'embark_town', 'who'], axis = 1, inplace = True)"
   ]
  },
  {
   "cell_type": "code",
   "execution_count": 30,
   "metadata": {},
   "outputs": [],
   "source": [
    "X = pd.get_dummies(X, drop_first=True)"
   ]
  },
  {
   "cell_type": "code",
   "execution_count": 32,
   "metadata": {},
   "outputs": [
    {
     "name": "stdout",
     "output_type": "stream",
     "text": [
      "<class 'pandas.core.frame.DataFrame'>\n",
      "RangeIndex: 891 entries, 0 to 890\n",
      "Data columns (total 18 columns):\n",
      "pclass          891 non-null int64\n",
      "age             714 non-null float64\n",
      "sibsp           891 non-null int64\n",
      "parch           891 non-null int64\n",
      "fare            891 non-null float64\n",
      "adult_male      891 non-null bool\n",
      "alone           891 non-null bool\n",
      "sex_male        891 non-null uint8\n",
      "embarked_Q      891 non-null uint8\n",
      "embarked_S      891 non-null uint8\n",
      "class_Second    891 non-null uint8\n",
      "class_Third     891 non-null uint8\n",
      "deck_B          891 non-null uint8\n",
      "deck_C          891 non-null uint8\n",
      "deck_D          891 non-null uint8\n",
      "deck_E          891 non-null uint8\n",
      "deck_F          891 non-null uint8\n",
      "deck_G          891 non-null uint8\n",
      "dtypes: bool(2), float64(2), int64(3), uint8(11)\n",
      "memory usage: 46.2 KB\n"
     ]
    }
   ],
   "source": [
    "X.info()"
   ]
  },
  {
   "cell_type": "code",
   "execution_count": 33,
   "metadata": {},
   "outputs": [],
   "source": [
    "X_train, X_test, y_train, y_test = train_test_split(X, y)"
   ]
  },
  {
   "cell_type": "code",
   "execution_count": 34,
   "metadata": {},
   "outputs": [],
   "source": [
    "dtree = DecisionTreeClassifier()"
   ]
  },
  {
   "cell_type": "code",
   "execution_count": 35,
   "metadata": {},
   "outputs": [],
   "source": [
    "from sklearn.impute import KNNImputer"
   ]
  },
  {
   "cell_type": "code",
   "execution_count": 37,
   "metadata": {},
   "outputs": [],
   "source": [
    "# dtree.fit(X_train, y_train)\n",
    "pipe = Pipeline([('impute', KNNImputer()), ('dtree', DecisionTreeClassifier())])"
   ]
  },
  {
   "cell_type": "code",
   "execution_count": 38,
   "metadata": {},
   "outputs": [
    {
     "data": {
      "text/plain": [
       "Pipeline(steps=[('impute', KNNImputer()), ('dtree', DecisionTreeClassifier())])"
      ]
     },
     "execution_count": 38,
     "metadata": {},
     "output_type": "execute_result"
    }
   ],
   "source": [
    "pipe.fit(X_train, y_train)"
   ]
  },
  {
   "cell_type": "code",
   "execution_count": 39,
   "metadata": {},
   "outputs": [
    {
     "data": {
      "text/plain": [
       "0.7757847533632287"
      ]
     },
     "execution_count": 39,
     "metadata": {},
     "output_type": "execute_result"
    }
   ],
   "source": [
    "pipe.score(X_test, y_test)"
   ]
  },
  {
   "cell_type": "code",
   "execution_count": 40,
   "metadata": {},
   "outputs": [
    {
     "data": {
      "text/plain": [
       "0.9895209580838323"
      ]
     },
     "execution_count": 40,
     "metadata": {},
     "output_type": "execute_result"
    }
   ],
   "source": [
    "pipe.score(X_train, y_train)"
   ]
  },
  {
   "cell_type": "code",
   "execution_count": 41,
   "metadata": {},
   "outputs": [],
   "source": [
    "params = {'dtree__max_depth': [None, 4, 5, 10], \n",
    "         'dtree__criterion': ['gini', 'entropy']}"
   ]
  },
  {
   "cell_type": "code",
   "execution_count": 42,
   "metadata": {},
   "outputs": [],
   "source": [
    "grid = GridSearchCV(pipe, param_grid=params)"
   ]
  },
  {
   "cell_type": "code",
   "execution_count": 43,
   "metadata": {},
   "outputs": [
    {
     "data": {
      "text/plain": [
       "GridSearchCV(estimator=Pipeline(steps=[('impute', KNNImputer()),\n",
       "                                       ('dtree', DecisionTreeClassifier())]),\n",
       "             param_grid={'dtree__criterion': ['gini', 'entropy'],\n",
       "                         'dtree__max_depth': [None, 4, 5, 10]})"
      ]
     },
     "execution_count": 43,
     "metadata": {},
     "output_type": "execute_result"
    }
   ],
   "source": [
    "grid.fit(X_train, y_train)"
   ]
  },
  {
   "cell_type": "code",
   "execution_count": 44,
   "metadata": {},
   "outputs": [
    {
     "data": {
      "text/plain": [
       "0.8071748878923767"
      ]
     },
     "execution_count": 44,
     "metadata": {},
     "output_type": "execute_result"
    }
   ],
   "source": [
    "grid.score(X_test, y_test)"
   ]
  },
  {
   "cell_type": "code",
   "execution_count": 45,
   "metadata": {},
   "outputs": [
    {
     "data": {
      "text/plain": [
       "0.8458083832335329"
      ]
     },
     "execution_count": 45,
     "metadata": {},
     "output_type": "execute_result"
    }
   ],
   "source": [
    "grid.score(X_train, y_train)"
   ]
  },
  {
   "cell_type": "code",
   "execution_count": 61,
   "metadata": {},
   "outputs": [
    {
     "data": {
      "text/plain": [
       "{'dtree__criterion': 'entropy', 'dtree__max_depth': 4}"
      ]
     },
     "execution_count": 61,
     "metadata": {},
     "output_type": "execute_result"
    }
   ],
   "source": [
    "grid.best_params_"
   ]
  },
  {
   "cell_type": "code",
   "execution_count": 62,
   "metadata": {},
   "outputs": [],
   "source": [
    "est = grid.best_estimator_"
   ]
  },
  {
   "cell_type": "code",
   "execution_count": null,
   "metadata": {},
   "outputs": [],
   "source": [
    "est."
   ]
  },
  {
   "cell_type": "code",
   "execution_count": 46,
   "metadata": {},
   "outputs": [],
   "source": [
    "from sklearn.metrics import classification_report, roc_curve"
   ]
  },
  {
   "cell_type": "code",
   "execution_count": 47,
   "metadata": {},
   "outputs": [
    {
     "name": "stdout",
     "output_type": "stream",
     "text": [
      "              precision    recall  f1-score   support\n",
      "\n",
      "           0       0.80      0.88      0.84       127\n",
      "           1       0.82      0.71      0.76        96\n",
      "\n",
      "    accuracy                           0.81       223\n",
      "   macro avg       0.81      0.80      0.80       223\n",
      "weighted avg       0.81      0.81      0.80       223\n",
      "\n"
     ]
    }
   ],
   "source": [
    "print(classification_report(y_test, grid.predict(X_test)))"
   ]
  },
  {
   "cell_type": "code",
   "execution_count": 50,
   "metadata": {},
   "outputs": [],
   "source": [
    "fpr, tpr, thresholds = roc_curve(y_test, grid.predict_proba(X_test)[:, 1])"
   ]
  },
  {
   "cell_type": "code",
   "execution_count": 52,
   "metadata": {},
   "outputs": [
    {
     "data": {
      "text/plain": [
       "[<matplotlib.lines.Line2D at 0x7f92db8f6690>]"
      ]
     },
     "execution_count": 52,
     "metadata": {},
     "output_type": "execute_result"
    },
    {
     "data": {
      "image/png": "[encoded data removed]",
      "text/plain": [
       "<Figure size 432x288 with 1 Axes>"
      ]
     },
     "metadata": {
      "needs_background": "light"
     },
     "output_type": "display_data"
    }
   ],
   "source": [
    "plt.plot(fpr, tpr)\n",
    "plt.plot(tpr, tpr)"
   ]
  },
  {
   "cell_type": "code",
   "execution_count": 53,
   "metadata": {},
   "outputs": [],
   "source": [
    "from sklearn.metrics import precision_recall_curve"
   ]
  },
  {
   "cell_type": "code",
   "execution_count": 59,
   "metadata": {},
   "outputs": [],
   "source": [
    "pr, recall, thresh = precision_recall_curve(y_train, grid.predict_proba(X_train)[:, 1])"
   ]
  },
  {
   "cell_type": "code",
   "execution_count": 60,
   "metadata": {},
   "outputs": [
    {
     "data": {
      "text/plain": [
       "[<matplotlib.lines.Line2D at 0x7f929976c050>]"
      ]
     },
     "execution_count": 60,
     "metadata": {},
     "output_type": "execute_result"
    },
    {
     "data": {
      "image/png": "[encoded data removed]",
      "text/plain": [
       "<Figure size 432x288 with 1 Axes>"
      ]
     },
     "metadata": {
      "needs_background": "light"
     },
     "output_type": "display_data"
    }
   ],
   "source": [
    "plt.plot(thresh, pr[:-1])\n",
    "plt.plot(thresh, recall[:-1])"
   ]
  },
  {
   "cell_type": "code",
   "execution_count": 67,
   "metadata": {},
   "outputs": [
    {
     "data": {
      "text/html": [
       "<div>\n",
       "<style scoped>\n",
       "    .dataframe tbody tr th:only-of-type {\n",
       "        vertical-align: middle;\n",
       "    }\n",
       "\n",
       "    .dataframe tbody tr th {\n",
       "        vertical-align: top;\n",
       "    }\n",
       "\n",
       "    .dataframe thead th {\n",
       "        text-align: right;\n",
       "    }\n",
       "</style>\n",
       "<table border=\"1\" class=\"dataframe\">\n",
       "  <thead>\n",
       "    <tr style=\"text-align: right;\">\n",
       "      <th></th>\n",
       "      <th>features</th>\n",
       "      <th>import</th>\n",
       "    </tr>\n",
       "  </thead>\n",
       "  <tbody>\n",
       "    <tr>\n",
       "      <td>5</td>\n",
       "      <td>adult_male</td>\n",
       "      <td>0.527891</td>\n",
       "    </tr>\n",
       "    <tr>\n",
       "      <td>0</td>\n",
       "      <td>pclass</td>\n",
       "      <td>0.200473</td>\n",
       "    </tr>\n",
       "    <tr>\n",
       "      <td>4</td>\n",
       "      <td>fare</td>\n",
       "      <td>0.193774</td>\n",
       "    </tr>\n",
       "    <tr>\n",
       "      <td>1</td>\n",
       "      <td>age</td>\n",
       "      <td>0.027830</td>\n",
       "    </tr>\n",
       "    <tr>\n",
       "      <td>10</td>\n",
       "      <td>class_Second</td>\n",
       "      <td>0.017086</td>\n",
       "    </tr>\n",
       "    <tr>\n",
       "      <td>3</td>\n",
       "      <td>parch</td>\n",
       "      <td>0.013708</td>\n",
       "    </tr>\n",
       "    <tr>\n",
       "      <td>15</td>\n",
       "      <td>deck_E</td>\n",
       "      <td>0.011218</td>\n",
       "    </tr>\n",
       "    <tr>\n",
       "      <td>13</td>\n",
       "      <td>deck_C</td>\n",
       "      <td>0.008019</td>\n",
       "    </tr>\n",
       "    <tr>\n",
       "      <td>12</td>\n",
       "      <td>deck_B</td>\n",
       "      <td>0.000000</td>\n",
       "    </tr>\n",
       "    <tr>\n",
       "      <td>16</td>\n",
       "      <td>deck_F</td>\n",
       "      <td>0.000000</td>\n",
       "    </tr>\n",
       "    <tr>\n",
       "      <td>14</td>\n",
       "      <td>deck_D</td>\n",
       "      <td>0.000000</td>\n",
       "    </tr>\n",
       "    <tr>\n",
       "      <td>9</td>\n",
       "      <td>embarked_S</td>\n",
       "      <td>0.000000</td>\n",
       "    </tr>\n",
       "    <tr>\n",
       "      <td>11</td>\n",
       "      <td>class_Third</td>\n",
       "      <td>0.000000</td>\n",
       "    </tr>\n",
       "    <tr>\n",
       "      <td>8</td>\n",
       "      <td>embarked_Q</td>\n",
       "      <td>0.000000</td>\n",
       "    </tr>\n",
       "    <tr>\n",
       "      <td>7</td>\n",
       "      <td>sex_male</td>\n",
       "      <td>0.000000</td>\n",
       "    </tr>\n",
       "    <tr>\n",
       "      <td>6</td>\n",
       "      <td>alone</td>\n",
       "      <td>0.000000</td>\n",
       "    </tr>\n",
       "    <tr>\n",
       "      <td>2</td>\n",
       "      <td>sibsp</td>\n",
       "      <td>0.000000</td>\n",
       "    </tr>\n",
       "    <tr>\n",
       "      <td>17</td>\n",
       "      <td>deck_G</td>\n",
       "      <td>0.000000</td>\n",
       "    </tr>\n",
       "  </tbody>\n",
       "</table>\n",
       "</div>"
      ],
      "text/plain": [
       "        features    import\n",
       "5     adult_male  0.527891\n",
       "0         pclass  0.200473\n",
       "4           fare  0.193774\n",
       "1            age  0.027830\n",
       "10  class_Second  0.017086\n",
       "3          parch  0.013708\n",
       "15        deck_E  0.011218\n",
       "13        deck_C  0.008019\n",
       "12        deck_B  0.000000\n",
       "16        deck_F  0.000000\n",
       "14        deck_D  0.000000\n",
       "9     embarked_S  0.000000\n",
       "11   class_Third  0.000000\n",
       "8     embarked_Q  0.000000\n",
       "7       sex_male  0.000000\n",
       "6          alone  0.000000\n",
       "2          sibsp  0.000000\n",
       "17        deck_G  0.000000"
      ]
     },
     "execution_count": 67,
     "metadata": {},
     "output_type": "execute_result"
    }
   ],
   "source": [
    "pd.DataFrame({'features': X_train.columns, 'import': est.named_steps['dtree'].feature_importances_}).sort_values(ascending = False, by = 'import')"
   ]
  },
  {
   "cell_type": "code",
   "execution_count": 69,
   "metadata": {},
   "outputs": [],
   "source": [
    "from sklearn.tree import plot_tree"
   ]
  },
  {
   "cell_type": "code",
   "execution_count": 70,
   "metadata": {},
   "outputs": [],
   "source": [
    "tree = est.named_steps['dtree']"
   ]
  },
  {
   "cell_type": "code",
   "execution_count": 98,
   "metadata": {},
   "outputs": [
    {
     "data": {
      "image/png": "[encoded data removed]",
      "text/plain": [
       "<Figure size 1440x720 with 1 Axes>"
      ]
     },
     "metadata": {
      "needs_background": "light"
     },
     "output_type": "display_data"
    }
   ],
   "source": [
    "plt.figure(figsize = (20, 10))\n",
    "plot_tree(tree,  \n",
    "                     feature_names=X.columns,  \n",
    "                     class_names=['died', 'survived'],  \n",
    "                     filled=True, rounded=True,  \n",
    "                     );\n",
    "plt.savefig('dtree.png', dpi = 400)"
   ]
  },
  {
   "cell_type": "code",
   "execution_count": 75,
   "metadata": {},
   "outputs": [],
   "source": [
    "import graphviz \n",
    "from sklearn.tree import export_graphviz"
   ]
  },
  {
   "cell_type": "code",
   "execution_count": 87,
   "metadata": {},
   "outputs": [],
   "source": [
    "dot_data = export_graphviz(tree, out_file=None, \n",
    "                     feature_names=X.columns,  \n",
    "                     class_names=['died', 'survived'],  \n",
    "                     filled=True, rounded=True,  \n",
    "                     special_characters=True)  \n",
    "graph = graphviz.Source(dot_data, format = 'png')  \n"
   ]
  },
  {
   "cell_type": "code",
   "execution_count": 88,
   "metadata": {},
   "outputs": [],
   "source": [
    "from IPython.display import Image"
   ]
  },
  {
   "cell_type": "code",
   "execution_count": 90,
   "metadata": {},
   "outputs": [
    {
     "data": {
      "image/svg+xml": [
       "<?xml version=\"1.0\" encoding=\"UTF-8\" standalone=\"no\"?>\n",
       "<!DOCTYPE svg PUBLIC \"-//W3C//DTD SVG 1.1//EN\"\n",
       " \"http://www.w3.org/Graphics/SVG/1.1/DTD/svg11.dtd\">\n",
       "<!-- Generated by graphviz version 2.43.0 (0)\n",
       " -->\n",
       "<!-- Title: Tree Pages: 1 -->\n",
       "<svg width=\"1566pt\" height=\"528pt\"\n",
       " viewBox=\"0.00 0.00 1565.83 528.00\" xmlns=\"http://www.w3.org/2000/svg\" xmlns:xlink=\"http://www.w3.org/1999/xlink\">\n",
       "<g id=\"graph0\" class=\"graph\" transform=\"scale(1 1) rotate(0) translate(4 524)\">\n",
       "<title>Tree</title>\n",
       "<polygon fill=\"white\" stroke=\"transparent\" points=\"-4,4 -4,-524 1561.83,-524 1561.83,4 -4,4\"/>\n",
       "<!-- 0 -->\n",
       "<g id=\"node1\" class=\"node\">\n",
       "<title>0</title>\n",
       "<path fill=\"#f4caac\" stroke=\"black\" d=\"M1024.69,-520C1024.69,-520 921.29,-520 921.29,-520 915.29,-520 909.29,-514 909.29,-508 909.29,-508 909.29,-454 909.29,-454 909.29,-448 915.29,-442 921.29,-442 921.29,-442 1024.69,-442 1024.69,-442 1030.69,-442 1036.69,-448 1036.69,-454 1036.69,-454 1036.69,-508 1036.69,-508 1036.69,-514 1030.69,-520 1024.69,-520\"/>\n",
       "<text text-anchor=\"start\" x=\"921.28\" y=\"-504.8\" font-family=\"Helvetica,sans-Serif\" font-size=\"14.00\">adult_male ≤ 0.5</text>\n",
       "<text text-anchor=\"start\" x=\"924.15\" y=\"-490.8\" font-family=\"Helvetica,sans-Serif\" font-size=\"14.00\">entropy = 0.949</text>\n",
       "<text text-anchor=\"start\" x=\"927.27\" y=\"-476.8\" font-family=\"Helvetica,sans-Serif\" font-size=\"14.00\">samples = 668</text>\n",
       "<text text-anchor=\"start\" x=\"917.14\" y=\"-462.8\" font-family=\"Helvetica,sans-Serif\" font-size=\"14.00\">value = [422, 246]</text>\n",
       "<text text-anchor=\"start\" x=\"935.83\" y=\"-448.8\" font-family=\"Helvetica,sans-Serif\" font-size=\"14.00\">class = died</text>\n",
       "</g>\n",
       "<!-- 1 -->\n",
       "<g id=\"node2\" class=\"node\">\n",
       "<title>1</title>\n",
       "<path fill=\"#8cc6f0\" stroke=\"black\" d=\"M823.9,-406C823.9,-406 728.08,-406 728.08,-406 722.08,-406 716.08,-400 716.08,-394 716.08,-394 716.08,-340 716.08,-340 716.08,-334 722.08,-328 728.08,-328 728.08,-328 823.9,-328 823.9,-328 829.9,-328 835.9,-334 835.9,-340 835.9,-340 835.9,-394 835.9,-394 835.9,-400 829.9,-406 823.9,-406\"/>\n",
       "<text text-anchor=\"start\" x=\"738.69\" y=\"-390.8\" font-family=\"Helvetica,sans-Serif\" font-size=\"14.00\">pclass ≤ 2.5</text>\n",
       "<text text-anchor=\"start\" x=\"727.15\" y=\"-376.8\" font-family=\"Helvetica,sans-Serif\" font-size=\"14.00\">entropy = 0.875</text>\n",
       "<text text-anchor=\"start\" x=\"730.27\" y=\"-362.8\" font-family=\"Helvetica,sans-Serif\" font-size=\"14.00\">samples = 258</text>\n",
       "<text text-anchor=\"start\" x=\"724.03\" y=\"-348.8\" font-family=\"Helvetica,sans-Serif\" font-size=\"14.00\">value = [76, 182]</text>\n",
       "<text text-anchor=\"start\" x=\"726\" y=\"-334.8\" font-family=\"Helvetica,sans-Serif\" font-size=\"14.00\">class = survived</text>\n",
       "</g>\n",
       "<!-- 0&#45;&gt;1 -->\n",
       "<g id=\"edge1\" class=\"edge\">\n",
       "<title>0&#45;&gt;1</title>\n",
       "<path fill=\"none\" stroke=\"black\" d=\"M909.03,-443.64C888.49,-431.96 865.64,-418.97 844.77,-407.1\"/>\n",
       "<polygon fill=\"black\" stroke=\"black\" points=\"846.38,-403.99 835.95,-402.09 842.92,-410.08 846.38,-403.99\"/>\n",
       "<text text-anchor=\"middle\" x=\"842.58\" y=\"-421.99\" font-family=\"Helvetica,sans-Serif\" font-size=\"14.00\">True</text>\n",
       "</g>\n",
       "<!-- 16 -->\n",
       "<g id=\"node17\" class=\"node\">\n",
       "<title>16</title>\n",
       "<path fill=\"#ea985e\" stroke=\"black\" d=\"M1212.9,-406C1212.9,-406 1117.08,-406 1117.08,-406 1111.08,-406 1105.08,-400 1105.08,-394 1105.08,-394 1105.08,-340 1105.08,-340 1105.08,-334 1111.08,-328 1117.08,-328 1117.08,-328 1212.9,-328 1212.9,-328 1218.9,-328 1224.9,-334 1224.9,-340 1224.9,-340 1224.9,-394 1224.9,-394 1224.9,-400 1218.9,-406 1212.9,-406\"/>\n",
       "<text text-anchor=\"start\" x=\"1123.79\" y=\"-390.8\" font-family=\"Helvetica,sans-Serif\" font-size=\"14.00\">fare ≤ 26.269</text>\n",
       "<text text-anchor=\"start\" x=\"1116.15\" y=\"-376.8\" font-family=\"Helvetica,sans-Serif\" font-size=\"14.00\">entropy = 0.625</text>\n",
       "<text text-anchor=\"start\" x=\"1119.27\" y=\"-362.8\" font-family=\"Helvetica,sans-Serif\" font-size=\"14.00\">samples = 410</text>\n",
       "<text text-anchor=\"start\" x=\"1113.03\" y=\"-348.8\" font-family=\"Helvetica,sans-Serif\" font-size=\"14.00\">value = [346, 64]</text>\n",
       "<text text-anchor=\"start\" x=\"1127.83\" y=\"-334.8\" font-family=\"Helvetica,sans-Serif\" font-size=\"14.00\">class = died</text>\n",
       "</g>\n",
       "<!-- 0&#45;&gt;16 -->\n",
       "<g id=\"edge16\" class=\"edge\">\n",
       "<title>0&#45;&gt;16</title>\n",
       "<path fill=\"none\" stroke=\"black\" d=\"M1036.92,-442.71C1055.94,-431.61 1076.85,-419.42 1096.16,-408.15\"/>\n",
       "<polygon fill=\"black\" stroke=\"black\" points=\"1098.04,-411.11 1104.91,-403.05 1094.51,-405.06 1098.04,-411.11\"/>\n",
       "<text text-anchor=\"middle\" x=\"1098.55\" y=\"-423.02\" font-family=\"Helvetica,sans-Serif\" font-size=\"14.00\">False</text>\n",
       "</g>\n",
       "<!-- 2 -->\n",
       "<g id=\"node3\" class=\"node\">\n",
       "<title>2</title>\n",
       "<path fill=\"#44a3e6\" stroke=\"black\" d=\"M438.97,-292C438.97,-292 347.01,-292 347.01,-292 341.01,-292 335.01,-286 335.01,-280 335.01,-280 335.01,-226 335.01,-226 335.01,-220 341.01,-214 347.01,-214 347.01,-214 438.97,-214 438.97,-214 444.97,-214 450.97,-220 450.97,-226 450.97,-226 450.97,-280 450.97,-280 450.97,-286 444.97,-292 438.97,-292\"/>\n",
       "<text text-anchor=\"start\" x=\"351.79\" y=\"-276.8\" font-family=\"Helvetica,sans-Serif\" font-size=\"14.00\">deck_C ≤ 0.5</text>\n",
       "<text text-anchor=\"start\" x=\"344.15\" y=\"-262.8\" font-family=\"Helvetica,sans-Serif\" font-size=\"14.00\">entropy = 0.304</text>\n",
       "<text text-anchor=\"start\" x=\"347.27\" y=\"-248.8\" font-family=\"Helvetica,sans-Serif\" font-size=\"14.00\">samples = 129</text>\n",
       "<text text-anchor=\"start\" x=\"344.93\" y=\"-234.8\" font-family=\"Helvetica,sans-Serif\" font-size=\"14.00\">value = [7, 122]</text>\n",
       "<text text-anchor=\"start\" x=\"343\" y=\"-220.8\" font-family=\"Helvetica,sans-Serif\" font-size=\"14.00\">class = survived</text>\n",
       "</g>\n",
       "<!-- 1&#45;&gt;2 -->\n",
       "<g id=\"edge2\" class=\"edge\">\n",
       "<title>1&#45;&gt;2</title>\n",
       "<path fill=\"none\" stroke=\"black\" d=\"M715.73,-348.38C646.51,-328.14 533.24,-295.01 460.94,-273.87\"/>\n",
       "<polygon fill=\"black\" stroke=\"black\" points=\"461.6,-270.42 451.02,-270.97 459.64,-277.14 461.6,-270.42\"/>\n",
       "</g>\n",
       "<!-- 9 -->\n",
       "<g id=\"node10\" class=\"node\">\n",
       "<title>9</title>\n",
       "<path fill=\"#fcefe5\" stroke=\"black\" d=\"M820.68,-292C820.68,-292 731.31,-292 731.31,-292 725.31,-292 719.31,-286 719.31,-280 719.31,-280 719.31,-226 719.31,-226 719.31,-220 725.31,-214 731.31,-214 731.31,-214 820.68,-214 820.68,-214 826.68,-214 832.68,-220 832.68,-226 832.68,-226 832.68,-280 832.68,-280 832.68,-286 826.68,-292 820.68,-292\"/>\n",
       "<text text-anchor=\"start\" x=\"734.79\" y=\"-276.8\" font-family=\"Helvetica,sans-Serif\" font-size=\"14.00\">fare ≤ 24.808</text>\n",
       "<text text-anchor=\"start\" x=\"727.15\" y=\"-262.8\" font-family=\"Helvetica,sans-Serif\" font-size=\"14.00\">entropy = 0.996</text>\n",
       "<text text-anchor=\"start\" x=\"730.27\" y=\"-248.8\" font-family=\"Helvetica,sans-Serif\" font-size=\"14.00\">samples = 129</text>\n",
       "<text text-anchor=\"start\" x=\"727.93\" y=\"-234.8\" font-family=\"Helvetica,sans-Serif\" font-size=\"14.00\">value = [69, 60]</text>\n",
       "<text text-anchor=\"start\" x=\"738.83\" y=\"-220.8\" font-family=\"Helvetica,sans-Serif\" font-size=\"14.00\">class = died</text>\n",
       "</g>\n",
       "<!-- 1&#45;&gt;9 -->\n",
       "<g id=\"edge9\" class=\"edge\">\n",
       "<title>1&#45;&gt;9</title>\n",
       "<path fill=\"none\" stroke=\"black\" d=\"M775.99,-327.77C775.99,-319.57 775.99,-310.8 775.99,-302.28\"/>\n",
       "<polygon fill=\"black\" stroke=\"black\" points=\"779.49,-302.06 775.99,-292.06 772.49,-302.06 779.49,-302.06\"/>\n",
       "</g>\n",
       "<!-- 3 -->\n",
       "<g id=\"node4\" class=\"node\">\n",
       "<title>3</title>\n",
       "<path fill=\"#41a1e6\" stroke=\"black\" d=\"M237.97,-178C237.97,-178 146.01,-178 146.01,-178 140.01,-178 134.01,-172 134.01,-166 134.01,-166 134.01,-112 134.01,-112 134.01,-106 140.01,-100 146.01,-100 146.01,-100 237.97,-100 237.97,-100 243.97,-100 249.97,-106 249.97,-112 249.97,-112 249.97,-166 249.97,-166 249.97,-172 243.97,-178 237.97,-178\"/>\n",
       "<text text-anchor=\"start\" x=\"150.79\" y=\"-162.8\" font-family=\"Helvetica,sans-Serif\" font-size=\"14.00\">fare ≤ 26.125</text>\n",
       "<text text-anchor=\"start\" x=\"143.15\" y=\"-148.8\" font-family=\"Helvetica,sans-Serif\" font-size=\"14.00\">entropy = 0.227</text>\n",
       "<text text-anchor=\"start\" x=\"146.27\" y=\"-134.8\" font-family=\"Helvetica,sans-Serif\" font-size=\"14.00\">samples = 109</text>\n",
       "<text text-anchor=\"start\" x=\"143.93\" y=\"-120.8\" font-family=\"Helvetica,sans-Serif\" font-size=\"14.00\">value = [4, 105]</text>\n",
       "<text text-anchor=\"start\" x=\"142\" y=\"-106.8\" font-family=\"Helvetica,sans-Serif\" font-size=\"14.00\">class = survived</text>\n",
       "</g>\n",
       "<!-- 2&#45;&gt;3 -->\n",
       "<g id=\"edge3\" class=\"edge\">\n",
       "<title>2&#45;&gt;3</title>\n",
       "<path fill=\"none\" stroke=\"black\" d=\"M334.85,-219.6C311.1,-206.37 283.49,-190.98 258.91,-177.29\"/>\n",
       "<polygon fill=\"black\" stroke=\"black\" points=\"260.44,-174.13 250,-172.32 257.03,-180.25 260.44,-174.13\"/>\n",
       "</g>\n",
       "<!-- 6 -->\n",
       "<g id=\"node7\" class=\"node\">\n",
       "<title>6</title>\n",
       "<path fill=\"#5caeea\" stroke=\"black\" d=\"M438.97,-178C438.97,-178 347.01,-178 347.01,-178 341.01,-178 335.01,-172 335.01,-166 335.01,-166 335.01,-112 335.01,-112 335.01,-106 341.01,-100 347.01,-100 347.01,-100 438.97,-100 438.97,-100 444.97,-100 450.97,-106 450.97,-112 450.97,-112 450.97,-166 450.97,-166 450.97,-172 444.97,-178 438.97,-178\"/>\n",
       "<text text-anchor=\"start\" x=\"358.02\" y=\"-162.8\" font-family=\"Helvetica,sans-Serif\" font-size=\"14.00\">parch ≤ 1.5</text>\n",
       "<text text-anchor=\"start\" x=\"348.04\" y=\"-148.8\" font-family=\"Helvetica,sans-Serif\" font-size=\"14.00\">entropy = 0.61</text>\n",
       "<text text-anchor=\"start\" x=\"351.16\" y=\"-134.8\" font-family=\"Helvetica,sans-Serif\" font-size=\"14.00\">samples = 20</text>\n",
       "<text text-anchor=\"start\" x=\"348.82\" y=\"-120.8\" font-family=\"Helvetica,sans-Serif\" font-size=\"14.00\">value = [3, 17]</text>\n",
       "<text text-anchor=\"start\" x=\"343\" y=\"-106.8\" font-family=\"Helvetica,sans-Serif\" font-size=\"14.00\">class = survived</text>\n",
       "</g>\n",
       "<!-- 2&#45;&gt;6 -->\n",
       "<g id=\"edge6\" class=\"edge\">\n",
       "<title>2&#45;&gt;6</title>\n",
       "<path fill=\"none\" stroke=\"black\" d=\"M392.99,-213.77C392.99,-205.57 392.99,-196.8 392.99,-188.28\"/>\n",
       "<polygon fill=\"black\" stroke=\"black\" points=\"396.49,-188.06 392.99,-178.06 389.49,-188.06 396.49,-188.06\"/>\n",
       "</g>\n",
       "<!-- 4 -->\n",
       "<g id=\"node5\" class=\"node\">\n",
       "<title>4</title>\n",
       "<path fill=\"#4aa6e7\" stroke=\"black\" d=\"M103.97,-64C103.97,-64 12.01,-64 12.01,-64 6.01,-64 0.01,-58 0.01,-52 0.01,-52 0.01,-12 0.01,-12 0.01,-6 6.01,0 12.01,0 12.01,0 103.97,0 103.97,0 109.97,0 115.97,-6 115.97,-12 115.97,-12 115.97,-52 115.97,-52 115.97,-58 109.97,-64 103.97,-64\"/>\n",
       "<text text-anchor=\"start\" x=\"9.15\" y=\"-48.8\" font-family=\"Helvetica,sans-Serif\" font-size=\"14.00\">entropy = 0.402</text>\n",
       "<text text-anchor=\"start\" x=\"16.16\" y=\"-34.8\" font-family=\"Helvetica,sans-Serif\" font-size=\"14.00\">samples = 50</text>\n",
       "<text text-anchor=\"start\" x=\"13.82\" y=\"-20.8\" font-family=\"Helvetica,sans-Serif\" font-size=\"14.00\">value = [4, 46]</text>\n",
       "<text text-anchor=\"start\" x=\"8\" y=\"-6.8\" font-family=\"Helvetica,sans-Serif\" font-size=\"14.00\">class = survived</text>\n",
       "</g>\n",
       "<!-- 3&#45;&gt;4 -->\n",
       "<g id=\"edge4\" class=\"edge\">\n",
       "<title>3&#45;&gt;4</title>\n",
       "<path fill=\"none\" stroke=\"black\" d=\"M143.24,-99.8C130.96,-90.18 117.8,-79.86 105.58,-70.29\"/>\n",
       "<polygon fill=\"black\" stroke=\"black\" points=\"107.73,-67.53 97.7,-64.12 103.42,-73.04 107.73,-67.53\"/>\n",
       "</g>\n",
       "<!-- 5 -->\n",
       "<g id=\"node6\" class=\"node\">\n",
       "<title>5</title>\n",
       "<path fill=\"#399de5\" stroke=\"black\" d=\"M237.97,-64C237.97,-64 146.01,-64 146.01,-64 140.01,-64 134.01,-58 134.01,-52 134.01,-52 134.01,-12 134.01,-12 134.01,-6 140.01,0 146.01,0 146.01,0 237.97,0 237.97,0 243.97,0 249.97,-6 249.97,-12 249.97,-12 249.97,-52 249.97,-52 249.97,-58 243.97,-64 237.97,-64\"/>\n",
       "<text text-anchor=\"start\" x=\"150.93\" y=\"-48.8\" font-family=\"Helvetica,sans-Serif\" font-size=\"14.00\">entropy = 0.0</text>\n",
       "<text text-anchor=\"start\" x=\"150.16\" y=\"-34.8\" font-family=\"Helvetica,sans-Serif\" font-size=\"14.00\">samples = 59</text>\n",
       "<text text-anchor=\"start\" x=\"147.82\" y=\"-20.8\" font-family=\"Helvetica,sans-Serif\" font-size=\"14.00\">value = [0, 59]</text>\n",
       "<text text-anchor=\"start\" x=\"142\" y=\"-6.8\" font-family=\"Helvetica,sans-Serif\" font-size=\"14.00\">class = survived</text>\n",
       "</g>\n",
       "<!-- 3&#45;&gt;5 -->\n",
       "<g id=\"edge5\" class=\"edge\">\n",
       "<title>3&#45;&gt;5</title>\n",
       "<path fill=\"none\" stroke=\"black\" d=\"M191.99,-99.8C191.99,-91.46 191.99,-82.6 191.99,-74.15\"/>\n",
       "<polygon fill=\"black\" stroke=\"black\" points=\"195.49,-74.12 191.99,-64.12 188.49,-74.12 195.49,-74.12\"/>\n",
       "</g>\n",
       "<!-- 7 -->\n",
       "<g id=\"node8\" class=\"node\">\n",
       "<title>7</title>\n",
       "<path fill=\"#45a3e7\" stroke=\"black\" d=\"M371.97,-64C371.97,-64 280.01,-64 280.01,-64 274.01,-64 268.01,-58 268.01,-52 268.01,-52 268.01,-12 268.01,-12 268.01,-6 274.01,0 280.01,0 280.01,0 371.97,0 371.97,0 377.97,0 383.97,-6 383.97,-12 383.97,-12 383.97,-52 383.97,-52 383.97,-58 377.97,-64 371.97,-64\"/>\n",
       "<text text-anchor=\"start\" x=\"277.15\" y=\"-48.8\" font-family=\"Helvetica,sans-Serif\" font-size=\"14.00\">entropy = 0.323</text>\n",
       "<text text-anchor=\"start\" x=\"284.16\" y=\"-34.8\" font-family=\"Helvetica,sans-Serif\" font-size=\"14.00\">samples = 17</text>\n",
       "<text text-anchor=\"start\" x=\"281.82\" y=\"-20.8\" font-family=\"Helvetica,sans-Serif\" font-size=\"14.00\">value = [1, 16]</text>\n",
       "<text text-anchor=\"start\" x=\"276\" y=\"-6.8\" font-family=\"Helvetica,sans-Serif\" font-size=\"14.00\">class = survived</text>\n",
       "</g>\n",
       "<!-- 6&#45;&gt;7 -->\n",
       "<g id=\"edge7\" class=\"edge\">\n",
       "<title>6&#45;&gt;7</title>\n",
       "<path fill=\"none\" stroke=\"black\" d=\"M368.61,-99.8C363,-91 357.02,-81.63 351.37,-72.76\"/>\n",
       "<polygon fill=\"black\" stroke=\"black\" points=\"354.18,-70.66 345.85,-64.12 348.28,-74.43 354.18,-70.66\"/>\n",
       "</g>\n",
       "<!-- 8 -->\n",
       "<g id=\"node9\" class=\"node\">\n",
       "<title>8</title>\n",
       "<path fill=\"#f2c09c\" stroke=\"black\" d=\"M503.68,-64C503.68,-64 414.31,-64 414.31,-64 408.31,-64 402.31,-58 402.31,-52 402.31,-52 402.31,-12 402.31,-12 402.31,-6 408.31,0 414.31,0 414.31,0 503.68,0 503.68,0 509.68,0 515.68,-6 515.68,-12 515.68,-12 515.68,-52 515.68,-52 515.68,-58 509.68,-64 503.68,-64\"/>\n",
       "<text text-anchor=\"start\" x=\"410.15\" y=\"-48.8\" font-family=\"Helvetica,sans-Serif\" font-size=\"14.00\">entropy = 0.918</text>\n",
       "<text text-anchor=\"start\" x=\"421.06\" y=\"-34.8\" font-family=\"Helvetica,sans-Serif\" font-size=\"14.00\">samples = 3</text>\n",
       "<text text-anchor=\"start\" x=\"418.71\" y=\"-20.8\" font-family=\"Helvetica,sans-Serif\" font-size=\"14.00\">value = [2, 1]</text>\n",
       "<text text-anchor=\"start\" x=\"421.83\" y=\"-6.8\" font-family=\"Helvetica,sans-Serif\" font-size=\"14.00\">class = died</text>\n",
       "</g>\n",
       "<!-- 6&#45;&gt;8 -->\n",
       "<g id=\"edge8\" class=\"edge\">\n",
       "<title>6&#45;&gt;8</title>\n",
       "<path fill=\"none\" stroke=\"black\" d=\"M417.01,-99.8C422.53,-91 428.43,-81.63 434,-72.76\"/>\n",
       "<polygon fill=\"black\" stroke=\"black\" points=\"437.07,-74.45 439.43,-64.12 431.15,-70.72 437.07,-74.45\"/>\n",
       "</g>\n",
       "<!-- 10 -->\n",
       "<g id=\"node11\" class=\"node\">\n",
       "<title>10</title>\n",
       "<path fill=\"#c5e2f7\" stroke=\"black\" d=\"M755.97,-178C755.97,-178 664.01,-178 664.01,-178 658.01,-178 652.01,-172 652.01,-166 652.01,-166 652.01,-112 652.01,-112 652.01,-106 658.01,-100 664.01,-100 664.01,-100 755.97,-100 755.97,-100 761.97,-100 767.97,-106 767.97,-112 767.97,-112 767.97,-166 767.97,-166 767.97,-172 761.97,-178 755.97,-178\"/>\n",
       "<text text-anchor=\"start\" x=\"676.96\" y=\"-162.8\" font-family=\"Helvetica,sans-Serif\" font-size=\"14.00\">age ≤ 36.5</text>\n",
       "<text text-anchor=\"start\" x=\"661.15\" y=\"-148.8\" font-family=\"Helvetica,sans-Serif\" font-size=\"14.00\">entropy = 0.979</text>\n",
       "<text text-anchor=\"start\" x=\"668.16\" y=\"-134.8\" font-family=\"Helvetica,sans-Serif\" font-size=\"14.00\">samples = 99</text>\n",
       "<text text-anchor=\"start\" x=\"661.93\" y=\"-120.8\" font-family=\"Helvetica,sans-Serif\" font-size=\"14.00\">value = [41, 58]</text>\n",
       "<text text-anchor=\"start\" x=\"660\" y=\"-106.8\" font-family=\"Helvetica,sans-Serif\" font-size=\"14.00\">class = survived</text>\n",
       "</g>\n",
       "<!-- 9&#45;&gt;10 -->\n",
       "<g id=\"edge10\" class=\"edge\">\n",
       "<title>9&#45;&gt;10</title>\n",
       "<path fill=\"none\" stroke=\"black\" d=\"M753.46,-213.77C748.37,-205.12 742.9,-195.84 737.62,-186.88\"/>\n",
       "<polygon fill=\"black\" stroke=\"black\" points=\"740.51,-184.9 732.42,-178.06 734.48,-188.45 740.51,-184.9\"/>\n",
       "</g>\n",
       "<!-- 13 -->\n",
       "<g id=\"node14\" class=\"node\">\n",
       "<title>13</title>\n",
       "<path fill=\"#e78a47\" stroke=\"black\" d=\"M887.68,-178C887.68,-178 798.31,-178 798.31,-178 792.31,-178 786.31,-172 786.31,-166 786.31,-166 786.31,-112 786.31,-112 786.31,-106 792.31,-100 798.31,-100 798.31,-100 887.68,-100 887.68,-100 893.68,-100 899.68,-106 899.68,-112 899.68,-112 899.68,-166 899.68,-166 899.68,-172 893.68,-178 887.68,-178\"/>\n",
       "<text text-anchor=\"start\" x=\"801.79\" y=\"-162.8\" font-family=\"Helvetica,sans-Serif\" font-size=\"14.00\">fare ≤ 31.331</text>\n",
       "<text text-anchor=\"start\" x=\"794.15\" y=\"-148.8\" font-family=\"Helvetica,sans-Serif\" font-size=\"14.00\">entropy = 0.353</text>\n",
       "<text text-anchor=\"start\" x=\"801.16\" y=\"-134.8\" font-family=\"Helvetica,sans-Serif\" font-size=\"14.00\">samples = 30</text>\n",
       "<text text-anchor=\"start\" x=\"798.82\" y=\"-120.8\" font-family=\"Helvetica,sans-Serif\" font-size=\"14.00\">value = [28, 2]</text>\n",
       "<text text-anchor=\"start\" x=\"805.83\" y=\"-106.8\" font-family=\"Helvetica,sans-Serif\" font-size=\"14.00\">class = died</text>\n",
       "</g>\n",
       "<!-- 9&#45;&gt;13 -->\n",
       "<g id=\"edge13\" class=\"edge\">\n",
       "<title>9&#45;&gt;13</title>\n",
       "<path fill=\"none\" stroke=\"black\" d=\"M798.86,-213.77C804.04,-205.12 809.59,-195.84 814.95,-186.88\"/>\n",
       "<polygon fill=\"black\" stroke=\"black\" points=\"818.09,-188.44 820.22,-178.06 812.09,-184.84 818.09,-188.44\"/>\n",
       "</g>\n",
       "<!-- 11 -->\n",
       "<g id=\"node12\" class=\"node\">\n",
       "<title>11</title>\n",
       "<path fill=\"#b0d8f5\" stroke=\"black\" d=\"M637.97,-64C637.97,-64 546.01,-64 546.01,-64 540.01,-64 534.01,-58 534.01,-52 534.01,-52 534.01,-12 534.01,-12 534.01,-6 540.01,0 546.01,0 546.01,0 637.97,0 637.97,0 643.97,0 649.97,-6 649.97,-12 649.97,-12 649.97,-52 649.97,-52 649.97,-58 643.97,-64 637.97,-64\"/>\n",
       "<text text-anchor=\"start\" x=\"543.15\" y=\"-48.8\" font-family=\"Helvetica,sans-Serif\" font-size=\"14.00\">entropy = 0.955</text>\n",
       "<text text-anchor=\"start\" x=\"550.16\" y=\"-34.8\" font-family=\"Helvetica,sans-Serif\" font-size=\"14.00\">samples = 93</text>\n",
       "<text text-anchor=\"start\" x=\"543.93\" y=\"-20.8\" font-family=\"Helvetica,sans-Serif\" font-size=\"14.00\">value = [35, 58]</text>\n",
       "<text text-anchor=\"start\" x=\"542\" y=\"-6.8\" font-family=\"Helvetica,sans-Serif\" font-size=\"14.00\">class = survived</text>\n",
       "</g>\n",
       "<!-- 10&#45;&gt;11 -->\n",
       "<g id=\"edge11\" class=\"edge\">\n",
       "<title>10&#45;&gt;11</title>\n",
       "<path fill=\"none\" stroke=\"black\" d=\"M667.06,-99.8C656.45,-90.36 645.1,-80.25 634.51,-70.84\"/>\n",
       "<polygon fill=\"black\" stroke=\"black\" points=\"636.76,-68.15 626.96,-64.12 632.1,-73.38 636.76,-68.15\"/>\n",
       "</g>\n",
       "<!-- 12 -->\n",
       "<g id=\"node13\" class=\"node\">\n",
       "<title>12</title>\n",
       "<path fill=\"#e58139\" stroke=\"black\" d=\"M754.1,-64C754.1,-64 679.88,-64 679.88,-64 673.88,-64 667.88,-58 667.88,-52 667.88,-52 667.88,-12 667.88,-12 667.88,-6 673.88,0 679.88,0 679.88,0 754.1,0 754.1,0 760.1,0 766.1,-6 766.1,-12 766.1,-12 766.1,-52 766.1,-52 766.1,-58 760.1,-64 754.1,-64\"/>\n",
       "<text text-anchor=\"start\" x=\"675.93\" y=\"-48.8\" font-family=\"Helvetica,sans-Serif\" font-size=\"14.00\">entropy = 0.0</text>\n",
       "<text text-anchor=\"start\" x=\"679.06\" y=\"-34.8\" font-family=\"Helvetica,sans-Serif\" font-size=\"14.00\">samples = 6</text>\n",
       "<text text-anchor=\"start\" x=\"676.71\" y=\"-20.8\" font-family=\"Helvetica,sans-Serif\" font-size=\"14.00\">value = [6, 0]</text>\n",
       "<text text-anchor=\"start\" x=\"679.83\" y=\"-6.8\" font-family=\"Helvetica,sans-Serif\" font-size=\"14.00\">class = died</text>\n",
       "</g>\n",
       "<!-- 10&#45;&gt;12 -->\n",
       "<g id=\"edge12\" class=\"edge\">\n",
       "<title>10&#45;&gt;12</title>\n",
       "<path fill=\"none\" stroke=\"black\" d=\"M712.54,-99.8C713.09,-91.46 713.68,-82.6 714.25,-74.15\"/>\n",
       "<polygon fill=\"black\" stroke=\"black\" points=\"717.74,-74.33 714.92,-64.12 710.76,-73.86 717.74,-74.33\"/>\n",
       "</g>\n",
       "<!-- 14 -->\n",
       "<g id=\"node15\" class=\"node\">\n",
       "<title>14</title>\n",
       "<path fill=\"#e58139\" stroke=\"black\" d=\"M876.33,-64C876.33,-64 795.65,-64 795.65,-64 789.65,-64 783.65,-58 783.65,-52 783.65,-52 783.65,-12 783.65,-12 783.65,-6 789.65,0 795.65,0 795.65,0 876.33,0 876.33,0 882.33,0 888.33,-6 888.33,-12 888.33,-12 888.33,-52 888.33,-52 888.33,-58 882.33,-64 876.33,-64\"/>\n",
       "<text text-anchor=\"start\" x=\"794.93\" y=\"-48.8\" font-family=\"Helvetica,sans-Serif\" font-size=\"14.00\">entropy = 0.0</text>\n",
       "<text text-anchor=\"start\" x=\"794.16\" y=\"-34.8\" font-family=\"Helvetica,sans-Serif\" font-size=\"14.00\">samples = 16</text>\n",
       "<text text-anchor=\"start\" x=\"791.82\" y=\"-20.8\" font-family=\"Helvetica,sans-Serif\" font-size=\"14.00\">value = [16, 0]</text>\n",
       "<text text-anchor=\"start\" x=\"798.83\" y=\"-6.8\" font-family=\"Helvetica,sans-Serif\" font-size=\"14.00\">class = died</text>\n",
       "</g>\n",
       "<!-- 13&#45;&gt;14 -->\n",
       "<g id=\"edge14\" class=\"edge\">\n",
       "<title>13&#45;&gt;14</title>\n",
       "<path fill=\"none\" stroke=\"black\" d=\"M840.44,-99.8C839.89,-91.46 839.3,-82.6 838.73,-74.15\"/>\n",
       "<polygon fill=\"black\" stroke=\"black\" points=\"842.22,-73.86 838.07,-64.12 835.24,-74.33 842.22,-73.86\"/>\n",
       "</g>\n",
       "<!-- 15 -->\n",
       "<g id=\"node16\" class=\"node\">\n",
       "<title>15</title>\n",
       "<path fill=\"#e9965a\" stroke=\"black\" d=\"M1007.68,-64C1007.68,-64 918.31,-64 918.31,-64 912.31,-64 906.31,-58 906.31,-52 906.31,-52 906.31,-12 906.31,-12 906.31,-6 912.31,0 918.31,0 918.31,0 1007.68,0 1007.68,0 1013.68,0 1019.68,-6 1019.68,-12 1019.68,-12 1019.68,-52 1019.68,-52 1019.68,-58 1013.68,-64 1007.68,-64\"/>\n",
       "<text text-anchor=\"start\" x=\"914.15\" y=\"-48.8\" font-family=\"Helvetica,sans-Serif\" font-size=\"14.00\">entropy = 0.592</text>\n",
       "<text text-anchor=\"start\" x=\"921.16\" y=\"-34.8\" font-family=\"Helvetica,sans-Serif\" font-size=\"14.00\">samples = 14</text>\n",
       "<text text-anchor=\"start\" x=\"918.82\" y=\"-20.8\" font-family=\"Helvetica,sans-Serif\" font-size=\"14.00\">value = [12, 2]</text>\n",
       "<text text-anchor=\"start\" x=\"925.83\" y=\"-6.8\" font-family=\"Helvetica,sans-Serif\" font-size=\"14.00\">class = died</text>\n",
       "</g>\n",
       "<!-- 13&#45;&gt;15 -->\n",
       "<g id=\"edge15\" class=\"edge\">\n",
       "<title>13&#45;&gt;15</title>\n",
       "<path fill=\"none\" stroke=\"black\" d=\"M886.65,-99.8C897.44,-90.36 908.99,-80.25 919.75,-70.84\"/>\n",
       "<polygon fill=\"black\" stroke=\"black\" points=\"922.21,-73.34 927.43,-64.12 917.6,-68.07 922.21,-73.34\"/>\n",
       "</g>\n",
       "<!-- 17 -->\n",
       "<g id=\"node18\" class=\"node\">\n",
       "<title>17</title>\n",
       "<path fill=\"#e88f4f\" stroke=\"black\" d=\"M1212.9,-292C1212.9,-292 1117.08,-292 1117.08,-292 1111.08,-292 1105.08,-286 1105.08,-280 1105.08,-280 1105.08,-226 1105.08,-226 1105.08,-220 1111.08,-214 1117.08,-214 1117.08,-214 1212.9,-214 1212.9,-214 1218.9,-214 1224.9,-220 1224.9,-226 1224.9,-226 1224.9,-280 1224.9,-280 1224.9,-286 1218.9,-292 1212.9,-292\"/>\n",
       "<text text-anchor=\"start\" x=\"1127.68\" y=\"-276.8\" font-family=\"Helvetica,sans-Serif\" font-size=\"14.00\">fare ≤ 23.35</text>\n",
       "<text text-anchor=\"start\" x=\"1116.15\" y=\"-262.8\" font-family=\"Helvetica,sans-Serif\" font-size=\"14.00\">entropy = 0.468</text>\n",
       "<text text-anchor=\"start\" x=\"1119.79\" y=\"-248.8\" font-family=\"Helvetica,sans-Serif\" font-size=\"14.00\">samples = 311</text>\n",
       "<text text-anchor=\"start\" x=\"1113.03\" y=\"-234.8\" font-family=\"Helvetica,sans-Serif\" font-size=\"14.00\">value = [280, 31]</text>\n",
       "<text text-anchor=\"start\" x=\"1127.83\" y=\"-220.8\" font-family=\"Helvetica,sans-Serif\" font-size=\"14.00\">class = died</text>\n",
       "</g>\n",
       "<!-- 16&#45;&gt;17 -->\n",
       "<g id=\"edge17\" class=\"edge\">\n",
       "<title>16&#45;&gt;17</title>\n",
       "<path fill=\"none\" stroke=\"black\" d=\"M1164.99,-327.77C1164.99,-319.57 1164.99,-310.8 1164.99,-302.28\"/>\n",
       "<polygon fill=\"black\" stroke=\"black\" points=\"1168.49,-302.06 1164.99,-292.06 1161.49,-302.06 1168.49,-302.06\"/>\n",
       "</g>\n",
       "<!-- 22 -->\n",
       "<g id=\"node23\" class=\"node\">\n",
       "<title>22</title>\n",
       "<path fill=\"#f2c09c\" stroke=\"black\" d=\"M1425.08,-292C1425.08,-292 1310.9,-292 1310.9,-292 1304.9,-292 1298.9,-286 1298.9,-280 1298.9,-280 1298.9,-226 1298.9,-226 1298.9,-220 1304.9,-214 1310.9,-214 1310.9,-214 1425.08,-214 1425.08,-214 1431.08,-214 1437.08,-220 1437.08,-226 1437.08,-226 1437.08,-280 1437.08,-280 1437.08,-286 1431.08,-292 1425.08,-292\"/>\n",
       "<text text-anchor=\"start\" x=\"1306.95\" y=\"-276.8\" font-family=\"Helvetica,sans-Serif\" font-size=\"14.00\">class_Second ≤ 0.5</text>\n",
       "<text text-anchor=\"start\" x=\"1319.15\" y=\"-262.8\" font-family=\"Helvetica,sans-Serif\" font-size=\"14.00\">entropy = 0.918</text>\n",
       "<text text-anchor=\"start\" x=\"1326.16\" y=\"-248.8\" font-family=\"Helvetica,sans-Serif\" font-size=\"14.00\">samples = 99</text>\n",
       "<text text-anchor=\"start\" x=\"1319.93\" y=\"-234.8\" font-family=\"Helvetica,sans-Serif\" font-size=\"14.00\">value = [66, 33]</text>\n",
       "<text text-anchor=\"start\" x=\"1330.83\" y=\"-220.8\" font-family=\"Helvetica,sans-Serif\" font-size=\"14.00\">class = died</text>\n",
       "</g>\n",
       "<!-- 16&#45;&gt;22 -->\n",
       "<g id=\"edge22\" class=\"edge\">\n",
       "<title>16&#45;&gt;22</title>\n",
       "<path fill=\"none\" stroke=\"black\" d=\"M1225.07,-332.85C1245.42,-321.63 1268.45,-308.92 1289.98,-297.04\"/>\n",
       "<polygon fill=\"black\" stroke=\"black\" points=\"1291.72,-300.08 1298.78,-292.18 1288.34,-293.95 1291.72,-300.08\"/>\n",
       "</g>\n",
       "<!-- 18 -->\n",
       "<g id=\"node19\" class=\"node\">\n",
       "<title>18</title>\n",
       "<path fill=\"#e89051\" stroke=\"black\" d=\"M1151.9,-178C1151.9,-178 1056.08,-178 1056.08,-178 1050.08,-178 1044.08,-172 1044.08,-166 1044.08,-166 1044.08,-112 1044.08,-112 1044.08,-106 1050.08,-100 1056.08,-100 1056.08,-100 1151.9,-100 1151.9,-100 1157.9,-100 1163.9,-106 1163.9,-112 1163.9,-112 1163.9,-166 1163.9,-166 1163.9,-172 1157.9,-178 1151.9,-178\"/>\n",
       "<text text-anchor=\"start\" x=\"1063.18\" y=\"-162.8\" font-family=\"Helvetica,sans-Serif\" font-size=\"14.00\">deck_E ≤ 0.5</text>\n",
       "<text text-anchor=\"start\" x=\"1055.15\" y=\"-148.8\" font-family=\"Helvetica,sans-Serif\" font-size=\"14.00\">entropy = 0.493</text>\n",
       "<text text-anchor=\"start\" x=\"1058.27\" y=\"-134.8\" font-family=\"Helvetica,sans-Serif\" font-size=\"14.00\">samples = 288</text>\n",
       "<text text-anchor=\"start\" x=\"1052.03\" y=\"-120.8\" font-family=\"Helvetica,sans-Serif\" font-size=\"14.00\">value = [257, 31]</text>\n",
       "<text text-anchor=\"start\" x=\"1066.83\" y=\"-106.8\" font-family=\"Helvetica,sans-Serif\" font-size=\"14.00\">class = died</text>\n",
       "</g>\n",
       "<!-- 17&#45;&gt;18 -->\n",
       "<g id=\"edge18\" class=\"edge\">\n",
       "<title>17&#45;&gt;18</title>\n",
       "<path fill=\"none\" stroke=\"black\" d=\"M1144.17,-213.77C1139.46,-205.12 1134.4,-195.84 1129.52,-186.88\"/>\n",
       "<polygon fill=\"black\" stroke=\"black\" points=\"1132.58,-185.17 1124.72,-178.06 1126.43,-188.51 1132.58,-185.17\"/>\n",
       "</g>\n",
       "<!-- 21 -->\n",
       "<g id=\"node22\" class=\"node\">\n",
       "<title>21</title>\n",
       "<path fill=\"#e58139\" stroke=\"black\" d=\"M1274.33,-171C1274.33,-171 1193.65,-171 1193.65,-171 1187.65,-171 1181.65,-165 1181.65,-159 1181.65,-159 1181.65,-119 1181.65,-119 1181.65,-113 1187.65,-107 1193.65,-107 1193.65,-107 1274.33,-107 1274.33,-107 1280.33,-107 1286.33,-113 1286.33,-119 1286.33,-119 1286.33,-159 1286.33,-159 1286.33,-165 1280.33,-171 1274.33,-171\"/>\n",
       "<text text-anchor=\"start\" x=\"1192.93\" y=\"-155.8\" font-family=\"Helvetica,sans-Serif\" font-size=\"14.00\">entropy = 0.0</text>\n",
       "<text text-anchor=\"start\" x=\"1192.16\" y=\"-141.8\" font-family=\"Helvetica,sans-Serif\" font-size=\"14.00\">samples = 23</text>\n",
       "<text text-anchor=\"start\" x=\"1189.82\" y=\"-127.8\" font-family=\"Helvetica,sans-Serif\" font-size=\"14.00\">value = [23, 0]</text>\n",
       "<text text-anchor=\"start\" x=\"1196.83\" y=\"-113.8\" font-family=\"Helvetica,sans-Serif\" font-size=\"14.00\">class = died</text>\n",
       "</g>\n",
       "<!-- 17&#45;&gt;21 -->\n",
       "<g id=\"edge21\" class=\"edge\">\n",
       "<title>17&#45;&gt;21</title>\n",
       "<path fill=\"none\" stroke=\"black\" d=\"M1188.54,-213.77C1195.32,-202.77 1202.73,-190.75 1209.56,-179.66\"/>\n",
       "<polygon fill=\"black\" stroke=\"black\" points=\"1212.62,-181.36 1214.89,-171.01 1206.66,-177.69 1212.62,-181.36\"/>\n",
       "</g>\n",
       "<!-- 19 -->\n",
       "<g id=\"node20\" class=\"node\">\n",
       "<title>19</title>\n",
       "<path fill=\"#e89050\" stroke=\"black\" d=\"M1145.9,-64C1145.9,-64 1050.08,-64 1050.08,-64 1044.08,-64 1038.08,-58 1038.08,-52 1038.08,-52 1038.08,-12 1038.08,-12 1038.08,-6 1044.08,0 1050.08,0 1050.08,0 1145.9,0 1145.9,0 1151.9,0 1157.9,-6 1157.9,-12 1157.9,-12 1157.9,-52 1157.9,-52 1157.9,-58 1151.9,-64 1145.9,-64\"/>\n",
       "<text text-anchor=\"start\" x=\"1049.15\" y=\"-48.8\" font-family=\"Helvetica,sans-Serif\" font-size=\"14.00\">entropy = 0.483</text>\n",
       "<text text-anchor=\"start\" x=\"1052.27\" y=\"-34.8\" font-family=\"Helvetica,sans-Serif\" font-size=\"14.00\">samples = 287</text>\n",
       "<text text-anchor=\"start\" x=\"1046.03\" y=\"-20.8\" font-family=\"Helvetica,sans-Serif\" font-size=\"14.00\">value = [257, 30]</text>\n",
       "<text text-anchor=\"start\" x=\"1060.83\" y=\"-6.8\" font-family=\"Helvetica,sans-Serif\" font-size=\"14.00\">class = died</text>\n",
       "</g>\n",
       "<!-- 18&#45;&gt;19 -->\n",
       "<g id=\"edge19\" class=\"edge\">\n",
       "<title>18&#45;&gt;19</title>\n",
       "<path fill=\"none\" stroke=\"black\" d=\"M1101.81,-99.8C1101.33,-91.46 1100.83,-82.6 1100.34,-74.15\"/>\n",
       "<polygon fill=\"black\" stroke=\"black\" points=\"1103.83,-73.9 1099.77,-64.12 1096.85,-74.3 1103.83,-73.9\"/>\n",
       "</g>\n",
       "<!-- 20 -->\n",
       "<g id=\"node21\" class=\"node\">\n",
       "<title>20</title>\n",
       "<path fill=\"#399de5\" stroke=\"black\" d=\"M1279.97,-64C1279.97,-64 1188.01,-64 1188.01,-64 1182.01,-64 1176.01,-58 1176.01,-52 1176.01,-52 1176.01,-12 1176.01,-12 1176.01,-6 1182.01,0 1188.01,0 1188.01,0 1279.97,0 1279.97,0 1285.97,0 1291.97,-6 1291.97,-12 1291.97,-12 1291.97,-52 1291.97,-52 1291.97,-58 1285.97,-64 1279.97,-64\"/>\n",
       "<text text-anchor=\"start\" x=\"1192.93\" y=\"-48.8\" font-family=\"Helvetica,sans-Serif\" font-size=\"14.00\">entropy = 0.0</text>\n",
       "<text text-anchor=\"start\" x=\"1196.06\" y=\"-34.8\" font-family=\"Helvetica,sans-Serif\" font-size=\"14.00\">samples = 1</text>\n",
       "<text text-anchor=\"start\" x=\"1193.71\" y=\"-20.8\" font-family=\"Helvetica,sans-Serif\" font-size=\"14.00\">value = [0, 1]</text>\n",
       "<text text-anchor=\"start\" x=\"1184\" y=\"-6.8\" font-family=\"Helvetica,sans-Serif\" font-size=\"14.00\">class = survived</text>\n",
       "</g>\n",
       "<!-- 18&#45;&gt;20 -->\n",
       "<g id=\"edge20\" class=\"edge\">\n",
       "<title>18&#45;&gt;20</title>\n",
       "<path fill=\"none\" stroke=\"black\" d=\"M1151.29,-99.8C1163.09,-90.27 1175.73,-80.06 1187.49,-70.56\"/>\n",
       "<polygon fill=\"black\" stroke=\"black\" points=\"1189.88,-73.12 1195.47,-64.12 1185.49,-67.68 1189.88,-73.12\"/>\n",
       "</g>\n",
       "<!-- 23 -->\n",
       "<g id=\"node24\" class=\"node\">\n",
       "<title>23</title>\n",
       "<path fill=\"#f4c9aa\" stroke=\"black\" d=\"M1412.68,-178C1412.68,-178 1323.31,-178 1323.31,-178 1317.31,-178 1311.31,-172 1311.31,-166 1311.31,-166 1311.31,-112 1311.31,-112 1311.31,-106 1317.31,-100 1323.31,-100 1323.31,-100 1412.68,-100 1412.68,-100 1418.68,-100 1424.68,-106 1424.68,-112 1424.68,-112 1424.68,-166 1424.68,-166 1424.68,-172 1418.68,-178 1412.68,-178\"/>\n",
       "<text text-anchor=\"start\" x=\"1326.79\" y=\"-162.8\" font-family=\"Helvetica,sans-Serif\" font-size=\"14.00\">fare ≤ 26.419</text>\n",
       "<text text-anchor=\"start\" x=\"1319.15\" y=\"-148.8\" font-family=\"Helvetica,sans-Serif\" font-size=\"14.00\">entropy = 0.945</text>\n",
       "<text text-anchor=\"start\" x=\"1326.16\" y=\"-134.8\" font-family=\"Helvetica,sans-Serif\" font-size=\"14.00\">samples = 91</text>\n",
       "<text text-anchor=\"start\" x=\"1319.93\" y=\"-120.8\" font-family=\"Helvetica,sans-Serif\" font-size=\"14.00\">value = [58, 33]</text>\n",
       "<text text-anchor=\"start\" x=\"1330.83\" y=\"-106.8\" font-family=\"Helvetica,sans-Serif\" font-size=\"14.00\">class = died</text>\n",
       "</g>\n",
       "<!-- 22&#45;&gt;23 -->\n",
       "<g id=\"edge23\" class=\"edge\">\n",
       "<title>22&#45;&gt;23</title>\n",
       "<path fill=\"none\" stroke=\"black\" d=\"M1367.99,-213.77C1367.99,-205.57 1367.99,-196.8 1367.99,-188.28\"/>\n",
       "<polygon fill=\"black\" stroke=\"black\" points=\"1371.49,-188.06 1367.99,-178.06 1364.49,-188.06 1371.49,-188.06\"/>\n",
       "</g>\n",
       "<!-- 26 -->\n",
       "<g id=\"node27\" class=\"node\">\n",
       "<title>26</title>\n",
       "<path fill=\"#e58139\" stroke=\"black\" d=\"M1529.1,-171C1529.1,-171 1454.88,-171 1454.88,-171 1448.88,-171 1442.88,-165 1442.88,-159 1442.88,-159 1442.88,-119 1442.88,-119 1442.88,-113 1448.88,-107 1454.88,-107 1454.88,-107 1529.1,-107 1529.1,-107 1535.1,-107 1541.1,-113 1541.1,-119 1541.1,-119 1541.1,-159 1541.1,-159 1541.1,-165 1535.1,-171 1529.1,-171\"/>\n",
       "<text text-anchor=\"start\" x=\"1450.93\" y=\"-155.8\" font-family=\"Helvetica,sans-Serif\" font-size=\"14.00\">entropy = 0.0</text>\n",
       "<text text-anchor=\"start\" x=\"1454.06\" y=\"-141.8\" font-family=\"Helvetica,sans-Serif\" font-size=\"14.00\">samples = 8</text>\n",
       "<text text-anchor=\"start\" x=\"1451.71\" y=\"-127.8\" font-family=\"Helvetica,sans-Serif\" font-size=\"14.00\">value = [8, 0]</text>\n",
       "<text text-anchor=\"start\" x=\"1454.83\" y=\"-113.8\" font-family=\"Helvetica,sans-Serif\" font-size=\"14.00\">class = died</text>\n",
       "</g>\n",
       "<!-- 22&#45;&gt;26 -->\n",
       "<g id=\"edge26\" class=\"edge\">\n",
       "<title>22&#45;&gt;26</title>\n",
       "<path fill=\"none\" stroke=\"black\" d=\"M1410.32,-213.77C1423.1,-202.22 1437.13,-189.55 1449.89,-178.02\"/>\n",
       "<polygon fill=\"black\" stroke=\"black\" points=\"1452.58,-180.31 1457.66,-171.01 1447.89,-175.12 1452.58,-180.31\"/>\n",
       "</g>\n",
       "<!-- 24 -->\n",
       "<g id=\"node25\" class=\"node\">\n",
       "<title>24</title>\n",
       "<path fill=\"#399de5\" stroke=\"black\" d=\"M1413.97,-64C1413.97,-64 1322.01,-64 1322.01,-64 1316.01,-64 1310.01,-58 1310.01,-52 1310.01,-52 1310.01,-12 1310.01,-12 1310.01,-6 1316.01,0 1322.01,0 1322.01,0 1413.97,0 1413.97,0 1419.97,0 1425.97,-6 1425.97,-12 1425.97,-12 1425.97,-52 1425.97,-52 1425.97,-58 1419.97,-64 1413.97,-64\"/>\n",
       "<text text-anchor=\"start\" x=\"1326.93\" y=\"-48.8\" font-family=\"Helvetica,sans-Serif\" font-size=\"14.00\">entropy = 0.0</text>\n",
       "<text text-anchor=\"start\" x=\"1330.06\" y=\"-34.8\" font-family=\"Helvetica,sans-Serif\" font-size=\"14.00\">samples = 3</text>\n",
       "<text text-anchor=\"start\" x=\"1327.71\" y=\"-20.8\" font-family=\"Helvetica,sans-Serif\" font-size=\"14.00\">value = [0, 3]</text>\n",
       "<text text-anchor=\"start\" x=\"1318\" y=\"-6.8\" font-family=\"Helvetica,sans-Serif\" font-size=\"14.00\">class = survived</text>\n",
       "</g>\n",
       "<!-- 23&#45;&gt;24 -->\n",
       "<g id=\"edge24\" class=\"edge\">\n",
       "<title>23&#45;&gt;24</title>\n",
       "<path fill=\"none\" stroke=\"black\" d=\"M1367.99,-99.8C1367.99,-91.46 1367.99,-82.6 1367.99,-74.15\"/>\n",
       "<polygon fill=\"black\" stroke=\"black\" points=\"1371.49,-74.12 1367.99,-64.12 1364.49,-74.12 1371.49,-74.12\"/>\n",
       "</g>\n",
       "<!-- 25 -->\n",
       "<g id=\"node26\" class=\"node\">\n",
       "<title>25</title>\n",
       "<path fill=\"#f2c29f\" stroke=\"black\" d=\"M1545.68,-64C1545.68,-64 1456.31,-64 1456.31,-64 1450.31,-64 1444.31,-58 1444.31,-52 1444.31,-52 1444.31,-12 1444.31,-12 1444.31,-6 1450.31,0 1456.31,0 1456.31,0 1545.68,0 1545.68,0 1551.68,0 1557.68,-6 1557.68,-12 1557.68,-12 1557.68,-52 1557.68,-52 1557.68,-58 1551.68,-64 1545.68,-64\"/>\n",
       "<text text-anchor=\"start\" x=\"1452.15\" y=\"-48.8\" font-family=\"Helvetica,sans-Serif\" font-size=\"14.00\">entropy = 0.926</text>\n",
       "<text text-anchor=\"start\" x=\"1459.16\" y=\"-34.8\" font-family=\"Helvetica,sans-Serif\" font-size=\"14.00\">samples = 88</text>\n",
       "<text text-anchor=\"start\" x=\"1452.93\" y=\"-20.8\" font-family=\"Helvetica,sans-Serif\" font-size=\"14.00\">value = [58, 30]</text>\n",
       "<text text-anchor=\"start\" x=\"1463.83\" y=\"-6.8\" font-family=\"Helvetica,sans-Serif\" font-size=\"14.00\">class = died</text>\n",
       "</g>\n",
       "<!-- 23&#45;&gt;25 -->\n",
       "<g id=\"edge25\" class=\"edge\">\n",
       "<title>23&#45;&gt;25</title>\n",
       "<path fill=\"none\" stroke=\"black\" d=\"M1416.38,-99.8C1428.45,-90.27 1441.38,-80.06 1453.41,-70.56\"/>\n",
       "<polygon fill=\"black\" stroke=\"black\" points=\"1455.9,-73.06 1461.58,-64.12 1451.56,-67.57 1455.9,-73.06\"/>\n",
       "</g>\n",
       "</g>\n",
       "</svg>\n"
      ],
      "text/plain": [
       "<graphviz.files.Source at 0x7f92dbfbd910>"
      ]
     },
     "execution_count": 90,
     "metadata": {},
     "output_type": "execute_result"
    }
   ],
   "source": [
    "graph"
   ]
  },
  {
   "cell_type": "code",
   "execution_count": 103,
   "metadata": {},
   "outputs": [
    {
     "ename": "AttributeError",
     "evalue": "'NoneType' object has no attribute 'nclasses'",
     "output_type": "error",
     "traceback": [
      "\u001b[0;31m---------------------------------------------------------------------------\u001b[0m",
      "\u001b[0;31mAttributeError\u001b[0m                            Traceback (most recent call last)",
      "\u001b[0;32m<ipython-input-103-3898ee04346a>\u001b[0m in \u001b[0;36m<module>\u001b[0;34m\u001b[0m\n\u001b[1;32m      4\u001b[0m                 \u001b[0mtarget_name\u001b[0m\u001b[0;34m=\u001b[0m\u001b[0;34m\"target\"\u001b[0m\u001b[0;34m,\u001b[0m\u001b[0;34m\u001b[0m\u001b[0;34m\u001b[0m\u001b[0m\n\u001b[1;32m      5\u001b[0m                 \u001b[0mfeature_names\u001b[0m\u001b[0;34m=\u001b[0m\u001b[0mX\u001b[0m\u001b[0;34m.\u001b[0m\u001b[0mcolumns\u001b[0m\u001b[0;34m,\u001b[0m\u001b[0;34m\u001b[0m\u001b[0;34m\u001b[0m\u001b[0m\n\u001b[0;32m----> 6\u001b[0;31m                 class_names=['die', 'survive'])\n\u001b[0m\u001b[1;32m      7\u001b[0m \u001b[0;34m\u001b[0m\u001b[0m\n\u001b[1;32m      8\u001b[0m \u001b[0mviz\u001b[0m\u001b[0;34m\u001b[0m\u001b[0;34m\u001b[0m\u001b[0m\n",
      "\u001b[0;32m~/opt/anaconda3/lib/python3.7/site-packages/dtreeviz/trees.py\u001b[0m in \u001b[0;36mdtreeviz\u001b[0;34m(tree_model, x_data, y_data, feature_names, target_name, class_names, tree_index, precision, orientation, instance_orientation, show_root_edge_labels, show_node_labels, show_just_path, fancy, histtype, highlight_path, X, max_X_features_LR, max_X_features_TD, label_fontsize, ticks_fontsize, fontname, colors, scale)\u001b[0m\n\u001b[1;32m    752\u001b[0m         \u001b[0mhighlight_path\u001b[0m \u001b[0;34m=\u001b[0m \u001b[0;34m[\u001b[0m\u001b[0mn\u001b[0m\u001b[0;34m.\u001b[0m\u001b[0mid\u001b[0m \u001b[0;32mfor\u001b[0m \u001b[0mn\u001b[0m \u001b[0;32min\u001b[0m \u001b[0mpath\u001b[0m\u001b[0;34m]\u001b[0m\u001b[0;34m\u001b[0m\u001b[0;34m\u001b[0m\u001b[0m\n\u001b[1;32m    753\u001b[0m \u001b[0;34m\u001b[0m\u001b[0m\n\u001b[0;32m--> 754\u001b[0;31m     \u001b[0mn_classes\u001b[0m \u001b[0;34m=\u001b[0m \u001b[0mshadow_tree\u001b[0m\u001b[0;34m.\u001b[0m\u001b[0mnclasses\u001b[0m\u001b[0;34m(\u001b[0m\u001b[0;34m)\u001b[0m\u001b[0;34m\u001b[0m\u001b[0;34m\u001b[0m\u001b[0m\n\u001b[0m\u001b[1;32m    755\u001b[0m     \u001b[0mcolor_values\u001b[0m \u001b[0;34m=\u001b[0m \u001b[0mcolors\u001b[0m\u001b[0;34m[\u001b[0m\u001b[0;34m'classes'\u001b[0m\u001b[0;34m]\u001b[0m\u001b[0;34m[\u001b[0m\u001b[0mn_classes\u001b[0m\u001b[0;34m]\u001b[0m\u001b[0;34m\u001b[0m\u001b[0;34m\u001b[0m\u001b[0m\n\u001b[1;32m    756\u001b[0m \u001b[0;34m\u001b[0m\u001b[0m\n",
      "\u001b[0;31mAttributeError\u001b[0m: 'NoneType' object has no attribute 'nclasses'"
     ]
    }
   ],
   "source": [
    "from dtreeviz.trees import dtreeviz # remember to load the package\n",
    "\n",
    "viz = dtreeviz(est, X_train, y_train,\n",
    "                target_name=\"target\",\n",
    "                feature_names=X.columns,\n",
    "                class_names=['die', 'survive'])\n",
    "\n",
    "viz"
   ]
  },
  {
   "cell_type": "code",
   "execution_count": null,
   "metadata": {},
   "outputs": [],
   "source": []
  },
  {
   "cell_type": "code",
   "execution_count": null,
   "metadata": {},
   "outputs": [],
   "source": []
  },
  {
   "cell_type": "code",
   "execution_count": null,
   "metadata": {},
   "outputs": [],
   "source": []
  },
  {
   "cell_type": "code",
   "execution_count": null,
   "metadata": {},
   "outputs": [],
   "source": []
  },
  {
   "cell_type": "code",
   "execution_count": null,
   "metadata": {},
   "outputs": [],
   "source": []
  },
  {
   "cell_type": "code",
   "execution_count": 83,
   "metadata": {},
   "outputs": [
    {
     "data": {
      "text/plain": [
       "graphviz.files.Source"
      ]
     },
     "execution_count": 83,
     "metadata": {},
     "output_type": "execute_result"
    }
   ],
   "source": [
    "type(graph)"
   ]
  },
  {
   "cell_type": "code",
   "execution_count": null,
   "metadata": {},
   "outputs": [],
   "source": []
  },
  {
   "cell_type": "code",
   "execution_count": null,
   "metadata": {},
   "outputs": [],
   "source": []
  },
  {
   "cell_type": "code",
   "execution_count": null,
   "metadata": {},
   "outputs": [],
   "source": []
  },
  {
   "cell_type": "code",
   "execution_count": 78,
   "metadata": {},
   "outputs": [
    {
     "data": {
      "image/svg+xml": [
       "<?xml version=\"1.0\" encoding=\"UTF-8\" standalone=\"no\"?>\n",
       "<!DOCTYPE svg PUBLIC \"-//W3C//DTD SVG 1.1//EN\"\n",
       " \"http://www.w3.org/Graphics/SVG/1.1/DTD/svg11.dtd\">\n",
       "<!-- Generated by graphviz version 2.43.0 (0)\n",
       " -->\n",
       "<!-- Title: Tree Pages: 1 -->\n",
       "<svg width=\"1430pt\" height=\"458pt\"\n",
       " viewBox=\"0.00 0.00 1430.35 458.00\" xmlns=\"http://www.w3.org/2000/svg\" xmlns:xlink=\"http://www.w3.org/1999/xlink\">\n",
       "<g id=\"graph0\" class=\"graph\" transform=\"scale(1 1) rotate(0) translate(4 454)\">\n",
       "<title>Tree</title>\n",
       "<polygon fill=\"white\" stroke=\"transparent\" points=\"-4,4 -4,-454 1426.35,-454 1426.35,4 -4,4\"/>\n",
       "<!-- 0 -->\n",
       "<g id=\"node1\" class=\"node\">\n",
       "<title>0</title>\n",
       "<polygon fill=\"none\" stroke=\"black\" points=\"956.12,-450 837.04,-450 837.04,-386 956.12,-386 956.12,-450\"/>\n",
       "<text text-anchor=\"middle\" x=\"896.58\" y=\"-434.8\" font-family=\"Times,serif\" font-size=\"14.00\">X[5] &lt;= 0.5</text>\n",
       "<text text-anchor=\"middle\" x=\"896.58\" y=\"-420.8\" font-family=\"Times,serif\" font-size=\"14.00\">entropy = 0.949</text>\n",
       "<text text-anchor=\"middle\" x=\"896.58\" y=\"-406.8\" font-family=\"Times,serif\" font-size=\"14.00\">samples = 668</text>\n",
       "<text text-anchor=\"middle\" x=\"896.58\" y=\"-392.8\" font-family=\"Times,serif\" font-size=\"14.00\">value = [422, 246]</text>\n",
       "</g>\n",
       "<!-- 1 -->\n",
       "<g id=\"node2\" class=\"node\">\n",
       "<title>1</title>\n",
       "<polygon fill=\"none\" stroke=\"black\" points=\"767.62,-350 655.54,-350 655.54,-286 767.62,-286 767.62,-350\"/>\n",
       "<text text-anchor=\"middle\" x=\"711.58\" y=\"-334.8\" font-family=\"Times,serif\" font-size=\"14.00\">X[0] &lt;= 2.5</text>\n",
       "<text text-anchor=\"middle\" x=\"711.58\" y=\"-320.8\" font-family=\"Times,serif\" font-size=\"14.00\">entropy = 0.875</text>\n",
       "<text text-anchor=\"middle\" x=\"711.58\" y=\"-306.8\" font-family=\"Times,serif\" font-size=\"14.00\">samples = 258</text>\n",
       "<text text-anchor=\"middle\" x=\"711.58\" y=\"-292.8\" font-family=\"Times,serif\" font-size=\"14.00\">value = [76, 182]</text>\n",
       "</g>\n",
       "<!-- 0&#45;&gt;1 -->\n",
       "<g id=\"edge1\" class=\"edge\">\n",
       "<title>0&#45;&gt;1</title>\n",
       "<path fill=\"none\" stroke=\"black\" d=\"M838.05,-385.99C818.58,-375.68 796.79,-364.14 776.86,-353.58\"/>\n",
       "<polygon fill=\"black\" stroke=\"black\" points=\"778.32,-350.39 767.84,-348.8 775.04,-356.58 778.32,-350.39\"/>\n",
       "<text text-anchor=\"middle\" x=\"775.19\" y=\"-368.5\" font-family=\"Times,serif\" font-size=\"14.00\">True</text>\n",
       "</g>\n",
       "<!-- 16 -->\n",
       "<g id=\"node17\" class=\"node\">\n",
       "<title>16</title>\n",
       "<polygon fill=\"none\" stroke=\"black\" points=\"1129.62,-350 1017.54,-350 1017.54,-286 1129.62,-286 1129.62,-350\"/>\n",
       "<text text-anchor=\"middle\" x=\"1073.58\" y=\"-334.8\" font-family=\"Times,serif\" font-size=\"14.00\">X[4] &lt;= 26.269</text>\n",
       "<text text-anchor=\"middle\" x=\"1073.58\" y=\"-320.8\" font-family=\"Times,serif\" font-size=\"14.00\">entropy = 0.625</text>\n",
       "<text text-anchor=\"middle\" x=\"1073.58\" y=\"-306.8\" font-family=\"Times,serif\" font-size=\"14.00\">samples = 410</text>\n",
       "<text text-anchor=\"middle\" x=\"1073.58\" y=\"-292.8\" font-family=\"Times,serif\" font-size=\"14.00\">value = [346, 64]</text>\n",
       "</g>\n",
       "<!-- 0&#45;&gt;16 -->\n",
       "<g id=\"edge16\" class=\"edge\">\n",
       "<title>0&#45;&gt;16</title>\n",
       "<path fill=\"none\" stroke=\"black\" d=\"M952.58,-385.99C970.34,-376.16 990.12,-365.21 1008.46,-355.05\"/>\n",
       "<polygon fill=\"black\" stroke=\"black\" points=\"1010.28,-358.05 1017.33,-350.14 1006.89,-351.92 1010.28,-358.05\"/>\n",
       "<text text-anchor=\"middle\" x=\"1010.43\" y=\"-369.97\" font-family=\"Times,serif\" font-size=\"14.00\">False</text>\n",
       "</g>\n",
       "<!-- 2 -->\n",
       "<g id=\"node3\" class=\"node\">\n",
       "<title>2</title>\n",
       "<polygon fill=\"none\" stroke=\"black\" points=\"406.12,-250 301.04,-250 301.04,-186 406.12,-186 406.12,-250\"/>\n",
       "<text text-anchor=\"middle\" x=\"353.58\" y=\"-234.8\" font-family=\"Times,serif\" font-size=\"14.00\">X[13] &lt;= 0.5</text>\n",
       "<text text-anchor=\"middle\" x=\"353.58\" y=\"-220.8\" font-family=\"Times,serif\" font-size=\"14.00\">entropy = 0.304</text>\n",
       "<text text-anchor=\"middle\" x=\"353.58\" y=\"-206.8\" font-family=\"Times,serif\" font-size=\"14.00\">samples = 129</text>\n",
       "<text text-anchor=\"middle\" x=\"353.58\" y=\"-192.8\" font-family=\"Times,serif\" font-size=\"14.00\">value = [7, 122]</text>\n",
       "</g>\n",
       "<!-- 1&#45;&gt;2 -->\n",
       "<g id=\"edge2\" class=\"edge\">\n",
       "<title>1&#45;&gt;2</title>\n",
       "<path fill=\"none\" stroke=\"black\" d=\"M655.25,-301.58C590.22,-283.78 483.57,-254.58 416.05,-236.1\"/>\n",
       "<polygon fill=\"black\" stroke=\"black\" points=\"416.95,-232.72 406.38,-233.45 415.1,-239.47 416.95,-232.72\"/>\n",
       "</g>\n",
       "<!-- 9 -->\n",
       "<g id=\"node10\" class=\"node\">\n",
       "<title>9</title>\n",
       "<polygon fill=\"none\" stroke=\"black\" points=\"764.12,-250 659.04,-250 659.04,-186 764.12,-186 764.12,-250\"/>\n",
       "<text text-anchor=\"middle\" x=\"711.58\" y=\"-234.8\" font-family=\"Times,serif\" font-size=\"14.00\">X[4] &lt;= 24.808</text>\n",
       "<text text-anchor=\"middle\" x=\"711.58\" y=\"-220.8\" font-family=\"Times,serif\" font-size=\"14.00\">entropy = 0.996</text>\n",
       "<text text-anchor=\"middle\" x=\"711.58\" y=\"-206.8\" font-family=\"Times,serif\" font-size=\"14.00\">samples = 129</text>\n",
       "<text text-anchor=\"middle\" x=\"711.58\" y=\"-192.8\" font-family=\"Times,serif\" font-size=\"14.00\">value = [69, 60]</text>\n",
       "</g>\n",
       "<!-- 1&#45;&gt;9 -->\n",
       "<g id=\"edge9\" class=\"edge\">\n",
       "<title>1&#45;&gt;9</title>\n",
       "<path fill=\"none\" stroke=\"black\" d=\"M711.58,-285.99C711.58,-277.86 711.58,-268.96 711.58,-260.38\"/>\n",
       "<polygon fill=\"black\" stroke=\"black\" points=\"715.08,-260.14 711.58,-250.14 708.08,-260.14 715.08,-260.14\"/>\n",
       "</g>\n",
       "<!-- 3 -->\n",
       "<g id=\"node4\" class=\"node\">\n",
       "<title>3</title>\n",
       "<polygon fill=\"none\" stroke=\"black\" points=\"225.12,-150 120.04,-150 120.04,-86 225.12,-86 225.12,-150\"/>\n",
       "<text text-anchor=\"middle\" x=\"172.58\" y=\"-134.8\" font-family=\"Times,serif\" font-size=\"14.00\">X[4] &lt;= 26.125</text>\n",
       "<text text-anchor=\"middle\" x=\"172.58\" y=\"-120.8\" font-family=\"Times,serif\" font-size=\"14.00\">entropy = 0.227</text>\n",
       "<text text-anchor=\"middle\" x=\"172.58\" y=\"-106.8\" font-family=\"Times,serif\" font-size=\"14.00\">samples = 109</text>\n",
       "<text text-anchor=\"middle\" x=\"172.58\" y=\"-92.8\" font-family=\"Times,serif\" font-size=\"14.00\">value = [4, 105]</text>\n",
       "</g>\n",
       "<!-- 2&#45;&gt;3 -->\n",
       "<g id=\"edge3\" class=\"edge\">\n",
       "<title>2&#45;&gt;3</title>\n",
       "<path fill=\"none\" stroke=\"black\" d=\"M300.74,-188.39C279.83,-177.07 255.66,-163.98 233.98,-152.24\"/>\n",
       "<polygon fill=\"black\" stroke=\"black\" points=\"235.63,-149.16 225.17,-147.48 232.3,-155.31 235.63,-149.16\"/>\n",
       "</g>\n",
       "<!-- 6 -->\n",
       "<g id=\"node7\" class=\"node\">\n",
       "<title>6</title>\n",
       "<polygon fill=\"none\" stroke=\"black\" points=\"402.62,-150 304.54,-150 304.54,-86 402.62,-86 402.62,-150\"/>\n",
       "<text text-anchor=\"middle\" x=\"353.58\" y=\"-134.8\" font-family=\"Times,serif\" font-size=\"14.00\">X[3] &lt;= 1.5</text>\n",
       "<text text-anchor=\"middle\" x=\"353.58\" y=\"-120.8\" font-family=\"Times,serif\" font-size=\"14.00\">entropy = 0.61</text>\n",
       "<text text-anchor=\"middle\" x=\"353.58\" y=\"-106.8\" font-family=\"Times,serif\" font-size=\"14.00\">samples = 20</text>\n",
       "<text text-anchor=\"middle\" x=\"353.58\" y=\"-92.8\" font-family=\"Times,serif\" font-size=\"14.00\">value = [3, 17]</text>\n",
       "</g>\n",
       "<!-- 2&#45;&gt;6 -->\n",
       "<g id=\"edge6\" class=\"edge\">\n",
       "<title>2&#45;&gt;6</title>\n",
       "<path fill=\"none\" stroke=\"black\" d=\"M353.58,-185.99C353.58,-177.86 353.58,-168.96 353.58,-160.38\"/>\n",
       "<polygon fill=\"black\" stroke=\"black\" points=\"357.08,-160.14 353.58,-150.14 350.08,-160.14 357.08,-160.14\"/>\n",
       "</g>\n",
       "<!-- 4 -->\n",
       "<g id=\"node5\" class=\"node\">\n",
       "<title>4</title>\n",
       "<polygon fill=\"none\" stroke=\"black\" points=\"105.24,-50 -0.08,-50 -0.08,0 105.24,0 105.24,-50\"/>\n",
       "<text text-anchor=\"middle\" x=\"52.58\" y=\"-34.8\" font-family=\"Times,serif\" font-size=\"14.00\">entropy = 0.402</text>\n",
       "<text text-anchor=\"middle\" x=\"52.58\" y=\"-20.8\" font-family=\"Times,serif\" font-size=\"14.00\">samples = 50</text>\n",
       "<text text-anchor=\"middle\" x=\"52.58\" y=\"-6.8\" font-family=\"Times,serif\" font-size=\"14.00\">value = [4, 46]</text>\n",
       "</g>\n",
       "<!-- 3&#45;&gt;4 -->\n",
       "<g id=\"edge4\" class=\"edge\">\n",
       "<title>3&#45;&gt;4</title>\n",
       "<path fill=\"none\" stroke=\"black\" d=\"M131.62,-85.94C118.92,-76.31 104.95,-65.72 92.34,-56.15\"/>\n",
       "<polygon fill=\"black\" stroke=\"black\" points=\"94.35,-53.28 84.27,-50.03 90.12,-58.86 94.35,-53.28\"/>\n",
       "</g>\n",
       "<!-- 5 -->\n",
       "<g id=\"node6\" class=\"node\">\n",
       "<title>5</title>\n",
       "<polygon fill=\"none\" stroke=\"black\" points=\"221.62,-50 123.54,-50 123.54,0 221.62,0 221.62,-50\"/>\n",
       "<text text-anchor=\"middle\" x=\"172.58\" y=\"-34.8\" font-family=\"Times,serif\" font-size=\"14.00\">entropy = 0.0</text>\n",
       "<text text-anchor=\"middle\" x=\"172.58\" y=\"-20.8\" font-family=\"Times,serif\" font-size=\"14.00\">samples = 59</text>\n",
       "<text text-anchor=\"middle\" x=\"172.58\" y=\"-6.8\" font-family=\"Times,serif\" font-size=\"14.00\">value = [0, 59]</text>\n",
       "</g>\n",
       "<!-- 3&#45;&gt;5 -->\n",
       "<g id=\"edge5\" class=\"edge\">\n",
       "<title>3&#45;&gt;5</title>\n",
       "<path fill=\"none\" stroke=\"black\" d=\"M172.58,-85.94C172.58,-77.68 172.58,-68.72 172.58,-60.31\"/>\n",
       "<polygon fill=\"black\" stroke=\"black\" points=\"176.08,-60.03 172.58,-50.03 169.08,-60.03 176.08,-60.03\"/>\n",
       "</g>\n",
       "<!-- 7 -->\n",
       "<g id=\"node8\" class=\"node\">\n",
       "<title>7</title>\n",
       "<polygon fill=\"none\" stroke=\"black\" points=\"345.24,-50 239.92,-50 239.92,0 345.24,0 345.24,-50\"/>\n",
       "<text text-anchor=\"middle\" x=\"292.58\" y=\"-34.8\" font-family=\"Times,serif\" font-size=\"14.00\">entropy = 0.323</text>\n",
       "<text text-anchor=\"middle\" x=\"292.58\" y=\"-20.8\" font-family=\"Times,serif\" font-size=\"14.00\">samples = 17</text>\n",
       "<text text-anchor=\"middle\" x=\"292.58\" y=\"-6.8\" font-family=\"Times,serif\" font-size=\"14.00\">value = [1, 16]</text>\n",
       "</g>\n",
       "<!-- 6&#45;&gt;7 -->\n",
       "<g id=\"edge7\" class=\"edge\">\n",
       "<title>6&#45;&gt;7</title>\n",
       "<path fill=\"none\" stroke=\"black\" d=\"M332.76,-85.94C326.8,-77.04 320.28,-67.32 314.27,-58.35\"/>\n",
       "<polygon fill=\"black\" stroke=\"black\" points=\"317.16,-56.39 308.69,-50.03 311.35,-60.29 317.16,-56.39\"/>\n",
       "</g>\n",
       "<!-- 8 -->\n",
       "<g id=\"node9\" class=\"node\">\n",
       "<title>8</title>\n",
       "<polygon fill=\"none\" stroke=\"black\" points=\"468.24,-50 362.92,-50 362.92,0 468.24,0 468.24,-50\"/>\n",
       "<text text-anchor=\"middle\" x=\"415.58\" y=\"-34.8\" font-family=\"Times,serif\" font-size=\"14.00\">entropy = 0.918</text>\n",
       "<text text-anchor=\"middle\" x=\"415.58\" y=\"-20.8\" font-family=\"Times,serif\" font-size=\"14.00\">samples = 3</text>\n",
       "<text text-anchor=\"middle\" x=\"415.58\" y=\"-6.8\" font-family=\"Times,serif\" font-size=\"14.00\">value = [2, 1]</text>\n",
       "</g>\n",
       "<!-- 6&#45;&gt;8 -->\n",
       "<g id=\"edge8\" class=\"edge\">\n",
       "<title>6&#45;&gt;8</title>\n",
       "<path fill=\"none\" stroke=\"black\" d=\"M374.74,-85.94C380.81,-77.04 387.43,-67.32 393.54,-58.35\"/>\n",
       "<polygon fill=\"black\" stroke=\"black\" points=\"396.47,-60.26 399.21,-50.03 390.69,-56.32 396.47,-60.26\"/>\n",
       "</g>\n",
       "<!-- 10 -->\n",
       "<g id=\"node11\" class=\"node\">\n",
       "<title>10</title>\n",
       "<polygon fill=\"none\" stroke=\"black\" points=\"703.12,-150 598.04,-150 598.04,-86 703.12,-86 703.12,-150\"/>\n",
       "<text text-anchor=\"middle\" x=\"650.58\" y=\"-134.8\" font-family=\"Times,serif\" font-size=\"14.00\">X[1] &lt;= 36.5</text>\n",
       "<text text-anchor=\"middle\" x=\"650.58\" y=\"-120.8\" font-family=\"Times,serif\" font-size=\"14.00\">entropy = 0.979</text>\n",
       "<text text-anchor=\"middle\" x=\"650.58\" y=\"-106.8\" font-family=\"Times,serif\" font-size=\"14.00\">samples = 99</text>\n",
       "<text text-anchor=\"middle\" x=\"650.58\" y=\"-92.8\" font-family=\"Times,serif\" font-size=\"14.00\">value = [41, 58]</text>\n",
       "</g>\n",
       "<!-- 9&#45;&gt;10 -->\n",
       "<g id=\"edge10\" class=\"edge\">\n",
       "<title>9&#45;&gt;10</title>\n",
       "<path fill=\"none\" stroke=\"black\" d=\"M692.28,-185.99C686.88,-177.32 680.94,-167.78 675.28,-158.68\"/>\n",
       "<polygon fill=\"black\" stroke=\"black\" points=\"678.22,-156.78 669.97,-150.14 672.28,-160.48 678.22,-156.78\"/>\n",
       "</g>\n",
       "<!-- 13 -->\n",
       "<g id=\"node14\" class=\"node\">\n",
       "<title>13</title>\n",
       "<polygon fill=\"none\" stroke=\"black\" points=\"826.24,-150 720.92,-150 720.92,-86 826.24,-86 826.24,-150\"/>\n",
       "<text text-anchor=\"middle\" x=\"773.58\" y=\"-134.8\" font-family=\"Times,serif\" font-size=\"14.00\">X[4] &lt;= 31.331</text>\n",
       "<text text-anchor=\"middle\" x=\"773.58\" y=\"-120.8\" font-family=\"Times,serif\" font-size=\"14.00\">entropy = 0.353</text>\n",
       "<text text-anchor=\"middle\" x=\"773.58\" y=\"-106.8\" font-family=\"Times,serif\" font-size=\"14.00\">samples = 30</text>\n",
       "<text text-anchor=\"middle\" x=\"773.58\" y=\"-92.8\" font-family=\"Times,serif\" font-size=\"14.00\">value = [28, 2]</text>\n",
       "</g>\n",
       "<!-- 9&#45;&gt;13 -->\n",
       "<g id=\"edge13\" class=\"edge\">\n",
       "<title>9&#45;&gt;13</title>\n",
       "<path fill=\"none\" stroke=\"black\" d=\"M731.2,-185.99C736.68,-177.32 742.72,-167.78 748.47,-158.68\"/>\n",
       "<polygon fill=\"black\" stroke=\"black\" points=\"751.49,-160.46 753.88,-150.14 745.57,-156.72 751.49,-160.46\"/>\n",
       "</g>\n",
       "<!-- 11 -->\n",
       "<g id=\"node12\" class=\"node\">\n",
       "<title>11</title>\n",
       "<polygon fill=\"none\" stroke=\"black\" points=\"591.12,-50 486.04,-50 486.04,0 591.12,0 591.12,-50\"/>\n",
       "<text text-anchor=\"middle\" x=\"538.58\" y=\"-34.8\" font-family=\"Times,serif\" font-size=\"14.00\">entropy = 0.955</text>\n",
       "<text text-anchor=\"middle\" x=\"538.58\" y=\"-20.8\" font-family=\"Times,serif\" font-size=\"14.00\">samples = 93</text>\n",
       "<text text-anchor=\"middle\" x=\"538.58\" y=\"-6.8\" font-family=\"Times,serif\" font-size=\"14.00\">value = [35, 58]</text>\n",
       "</g>\n",
       "<!-- 10&#45;&gt;11 -->\n",
       "<g id=\"edge11\" class=\"edge\">\n",
       "<title>10&#45;&gt;11</title>\n",
       "<path fill=\"none\" stroke=\"black\" d=\"M612.35,-85.94C600.61,-76.4 587.71,-65.92 576.02,-56.42\"/>\n",
       "<polygon fill=\"black\" stroke=\"black\" points=\"578.12,-53.62 568.16,-50.03 573.71,-59.05 578.12,-53.62\"/>\n",
       "</g>\n",
       "<!-- 12 -->\n",
       "<g id=\"node13\" class=\"node\">\n",
       "<title>12</title>\n",
       "<polygon fill=\"none\" stroke=\"black\" points=\"701.12,-50 610.04,-50 610.04,0 701.12,0 701.12,-50\"/>\n",
       "<text text-anchor=\"middle\" x=\"655.58\" y=\"-34.8\" font-family=\"Times,serif\" font-size=\"14.00\">entropy = 0.0</text>\n",
       "<text text-anchor=\"middle\" x=\"655.58\" y=\"-20.8\" font-family=\"Times,serif\" font-size=\"14.00\">samples = 6</text>\n",
       "<text text-anchor=\"middle\" x=\"655.58\" y=\"-6.8\" font-family=\"Times,serif\" font-size=\"14.00\">value = [6, 0]</text>\n",
       "</g>\n",
       "<!-- 10&#45;&gt;12 -->\n",
       "<g id=\"edge12\" class=\"edge\">\n",
       "<title>10&#45;&gt;12</title>\n",
       "<path fill=\"none\" stroke=\"black\" d=\"M652.29,-85.94C652.75,-77.59 653.24,-68.52 653.71,-60.02\"/>\n",
       "<polygon fill=\"black\" stroke=\"black\" points=\"657.21,-60.21 654.26,-50.03 650.22,-59.82 657.21,-60.21\"/>\n",
       "</g>\n",
       "<!-- 14 -->\n",
       "<g id=\"node15\" class=\"node\">\n",
       "<title>14</title>\n",
       "<polygon fill=\"none\" stroke=\"black\" points=\"817.62,-50 719.54,-50 719.54,0 817.62,0 817.62,-50\"/>\n",
       "<text text-anchor=\"middle\" x=\"768.58\" y=\"-34.8\" font-family=\"Times,serif\" font-size=\"14.00\">entropy = 0.0</text>\n",
       "<text text-anchor=\"middle\" x=\"768.58\" y=\"-20.8\" font-family=\"Times,serif\" font-size=\"14.00\">samples = 16</text>\n",
       "<text text-anchor=\"middle\" x=\"768.58\" y=\"-6.8\" font-family=\"Times,serif\" font-size=\"14.00\">value = [16, 0]</text>\n",
       "</g>\n",
       "<!-- 13&#45;&gt;14 -->\n",
       "<g id=\"edge14\" class=\"edge\">\n",
       "<title>13&#45;&gt;14</title>\n",
       "<path fill=\"none\" stroke=\"black\" d=\"M771.87,-85.94C771.42,-77.59 770.92,-68.52 770.45,-60.02\"/>\n",
       "<polygon fill=\"black\" stroke=\"black\" points=\"773.94,-59.82 769.9,-50.03 766.95,-60.21 773.94,-59.82\"/>\n",
       "</g>\n",
       "<!-- 15 -->\n",
       "<g id=\"node16\" class=\"node\">\n",
       "<title>15</title>\n",
       "<polygon fill=\"none\" stroke=\"black\" points=\"941.24,-50 835.92,-50 835.92,0 941.24,0 941.24,-50\"/>\n",
       "<text text-anchor=\"middle\" x=\"888.58\" y=\"-34.8\" font-family=\"Times,serif\" font-size=\"14.00\">entropy = 0.592</text>\n",
       "<text text-anchor=\"middle\" x=\"888.58\" y=\"-20.8\" font-family=\"Times,serif\" font-size=\"14.00\">samples = 14</text>\n",
       "<text text-anchor=\"middle\" x=\"888.58\" y=\"-6.8\" font-family=\"Times,serif\" font-size=\"14.00\">value = [12, 2]</text>\n",
       "</g>\n",
       "<!-- 13&#45;&gt;15 -->\n",
       "<g id=\"edge15\" class=\"edge\">\n",
       "<title>13&#45;&gt;15</title>\n",
       "<path fill=\"none\" stroke=\"black\" d=\"M812.84,-85.94C824.89,-76.4 838.14,-65.92 850.14,-56.42\"/>\n",
       "<polygon fill=\"black\" stroke=\"black\" points=\"852.54,-58.98 858.21,-50.03 848.2,-53.49 852.54,-58.98\"/>\n",
       "</g>\n",
       "<!-- 17 -->\n",
       "<g id=\"node18\" class=\"node\">\n",
       "<title>17</title>\n",
       "<polygon fill=\"none\" stroke=\"black\" points=\"1129.62,-250 1017.54,-250 1017.54,-186 1129.62,-186 1129.62,-250\"/>\n",
       "<text text-anchor=\"middle\" x=\"1073.58\" y=\"-234.8\" font-family=\"Times,serif\" font-size=\"14.00\">X[4] &lt;= 23.35</text>\n",
       "<text text-anchor=\"middle\" x=\"1073.58\" y=\"-220.8\" font-family=\"Times,serif\" font-size=\"14.00\">entropy = 0.468</text>\n",
       "<text text-anchor=\"middle\" x=\"1073.58\" y=\"-206.8\" font-family=\"Times,serif\" font-size=\"14.00\">samples = 311</text>\n",
       "<text text-anchor=\"middle\" x=\"1073.58\" y=\"-192.8\" font-family=\"Times,serif\" font-size=\"14.00\">value = [280, 31]</text>\n",
       "</g>\n",
       "<!-- 16&#45;&gt;17 -->\n",
       "<g id=\"edge17\" class=\"edge\">\n",
       "<title>16&#45;&gt;17</title>\n",
       "<path fill=\"none\" stroke=\"black\" d=\"M1073.58,-285.99C1073.58,-277.86 1073.58,-268.96 1073.58,-260.38\"/>\n",
       "<polygon fill=\"black\" stroke=\"black\" points=\"1077.08,-260.14 1073.58,-250.14 1070.08,-260.14 1077.08,-260.14\"/>\n",
       "</g>\n",
       "<!-- 22 -->\n",
       "<g id=\"node23\" class=\"node\">\n",
       "<title>22</title>\n",
       "<polygon fill=\"none\" stroke=\"black\" points=\"1312.12,-250 1207.04,-250 1207.04,-186 1312.12,-186 1312.12,-250\"/>\n",
       "<text text-anchor=\"middle\" x=\"1259.58\" y=\"-234.8\" font-family=\"Times,serif\" font-size=\"14.00\">X[10] &lt;= 0.5</text>\n",
       "<text text-anchor=\"middle\" x=\"1259.58\" y=\"-220.8\" font-family=\"Times,serif\" font-size=\"14.00\">entropy = 0.918</text>\n",
       "<text text-anchor=\"middle\" x=\"1259.58\" y=\"-206.8\" font-family=\"Times,serif\" font-size=\"14.00\">samples = 99</text>\n",
       "<text text-anchor=\"middle\" x=\"1259.58\" y=\"-192.8\" font-family=\"Times,serif\" font-size=\"14.00\">value = [66, 33]</text>\n",
       "</g>\n",
       "<!-- 16&#45;&gt;22 -->\n",
       "<g id=\"edge22\" class=\"edge\">\n",
       "<title>16&#45;&gt;22</title>\n",
       "<path fill=\"none\" stroke=\"black\" d=\"M1129.64,-287.46C1151.17,-276.12 1175.85,-263.12 1197.88,-251.51\"/>\n",
       "<polygon fill=\"black\" stroke=\"black\" points=\"1199.6,-254.56 1206.82,-246.8 1196.34,-248.36 1199.6,-254.56\"/>\n",
       "</g>\n",
       "<!-- 18 -->\n",
       "<g id=\"node19\" class=\"node\">\n",
       "<title>18</title>\n",
       "<polygon fill=\"none\" stroke=\"black\" points=\"1071.62,-150 959.54,-150 959.54,-86 1071.62,-86 1071.62,-150\"/>\n",
       "<text text-anchor=\"middle\" x=\"1015.58\" y=\"-134.8\" font-family=\"Times,serif\" font-size=\"14.00\">X[15] &lt;= 0.5</text>\n",
       "<text text-anchor=\"middle\" x=\"1015.58\" y=\"-120.8\" font-family=\"Times,serif\" font-size=\"14.00\">entropy = 0.493</text>\n",
       "<text text-anchor=\"middle\" x=\"1015.58\" y=\"-106.8\" font-family=\"Times,serif\" font-size=\"14.00\">samples = 288</text>\n",
       "<text text-anchor=\"middle\" x=\"1015.58\" y=\"-92.8\" font-family=\"Times,serif\" font-size=\"14.00\">value = [257, 31]</text>\n",
       "</g>\n",
       "<!-- 17&#45;&gt;18 -->\n",
       "<g id=\"edge18\" class=\"edge\">\n",
       "<title>17&#45;&gt;18</title>\n",
       "<path fill=\"none\" stroke=\"black\" d=\"M1055.23,-185.99C1050.15,-177.41 1044.57,-167.98 1039.23,-158.97\"/>\n",
       "<polygon fill=\"black\" stroke=\"black\" points=\"1042.12,-156.97 1034.01,-150.14 1036.09,-160.53 1042.12,-156.97\"/>\n",
       "</g>\n",
       "<!-- 21 -->\n",
       "<g id=\"node22\" class=\"node\">\n",
       "<title>21</title>\n",
       "<polygon fill=\"none\" stroke=\"black\" points=\"1188.62,-143 1090.54,-143 1090.54,-93 1188.62,-93 1188.62,-143\"/>\n",
       "<text text-anchor=\"middle\" x=\"1139.58\" y=\"-127.8\" font-family=\"Times,serif\" font-size=\"14.00\">entropy = 0.0</text>\n",
       "<text text-anchor=\"middle\" x=\"1139.58\" y=\"-113.8\" font-family=\"Times,serif\" font-size=\"14.00\">samples = 23</text>\n",
       "<text text-anchor=\"middle\" x=\"1139.58\" y=\"-99.8\" font-family=\"Times,serif\" font-size=\"14.00\">value = [23, 0]</text>\n",
       "</g>\n",
       "<!-- 17&#45;&gt;21 -->\n",
       "<g id=\"edge21\" class=\"edge\">\n",
       "<title>17&#45;&gt;21</title>\n",
       "<path fill=\"none\" stroke=\"black\" d=\"M1094.46,-185.99C1101.79,-175.11 1110.05,-162.85 1117.48,-151.82\"/>\n",
       "<polygon fill=\"black\" stroke=\"black\" points=\"1120.54,-153.54 1123.22,-143.29 1114.73,-149.63 1120.54,-153.54\"/>\n",
       "</g>\n",
       "<!-- 19 -->\n",
       "<g id=\"node20\" class=\"node\">\n",
       "<title>19</title>\n",
       "<polygon fill=\"none\" stroke=\"black\" points=\"1071.62,-50 959.54,-50 959.54,0 1071.62,0 1071.62,-50\"/>\n",
       "<text text-anchor=\"middle\" x=\"1015.58\" y=\"-34.8\" font-family=\"Times,serif\" font-size=\"14.00\">entropy = 0.483</text>\n",
       "<text text-anchor=\"middle\" x=\"1015.58\" y=\"-20.8\" font-family=\"Times,serif\" font-size=\"14.00\">samples = 287</text>\n",
       "<text text-anchor=\"middle\" x=\"1015.58\" y=\"-6.8\" font-family=\"Times,serif\" font-size=\"14.00\">value = [257, 30]</text>\n",
       "</g>\n",
       "<!-- 18&#45;&gt;19 -->\n",
       "<g id=\"edge19\" class=\"edge\">\n",
       "<title>18&#45;&gt;19</title>\n",
       "<path fill=\"none\" stroke=\"black\" d=\"M1015.58,-85.94C1015.58,-77.68 1015.58,-68.72 1015.58,-60.31\"/>\n",
       "<polygon fill=\"black\" stroke=\"black\" points=\"1019.08,-60.03 1015.58,-50.03 1012.08,-60.03 1019.08,-60.03\"/>\n",
       "</g>\n",
       "<!-- 20 -->\n",
       "<g id=\"node21\" class=\"node\">\n",
       "<title>20</title>\n",
       "<polygon fill=\"none\" stroke=\"black\" points=\"1181.12,-50 1090.04,-50 1090.04,0 1181.12,0 1181.12,-50\"/>\n",
       "<text text-anchor=\"middle\" x=\"1135.58\" y=\"-34.8\" font-family=\"Times,serif\" font-size=\"14.00\">entropy = 0.0</text>\n",
       "<text text-anchor=\"middle\" x=\"1135.58\" y=\"-20.8\" font-family=\"Times,serif\" font-size=\"14.00\">samples = 1</text>\n",
       "<text text-anchor=\"middle\" x=\"1135.58\" y=\"-6.8\" font-family=\"Times,serif\" font-size=\"14.00\">value = [0, 1]</text>\n",
       "</g>\n",
       "<!-- 18&#45;&gt;20 -->\n",
       "<g id=\"edge20\" class=\"edge\">\n",
       "<title>18&#45;&gt;20</title>\n",
       "<path fill=\"none\" stroke=\"black\" d=\"M1056.54,-85.94C1069.24,-76.31 1083.21,-65.72 1095.82,-56.15\"/>\n",
       "<polygon fill=\"black\" stroke=\"black\" points=\"1098.04,-58.86 1103.89,-50.03 1093.81,-53.28 1098.04,-58.86\"/>\n",
       "</g>\n",
       "<!-- 23 -->\n",
       "<g id=\"node24\" class=\"node\">\n",
       "<title>23</title>\n",
       "<polygon fill=\"none\" stroke=\"black\" points=\"1312.12,-150 1207.04,-150 1207.04,-86 1312.12,-86 1312.12,-150\"/>\n",
       "<text text-anchor=\"middle\" x=\"1259.58\" y=\"-134.8\" font-family=\"Times,serif\" font-size=\"14.00\">X[4] &lt;= 26.419</text>\n",
       "<text text-anchor=\"middle\" x=\"1259.58\" y=\"-120.8\" font-family=\"Times,serif\" font-size=\"14.00\">entropy = 0.945</text>\n",
       "<text text-anchor=\"middle\" x=\"1259.58\" y=\"-106.8\" font-family=\"Times,serif\" font-size=\"14.00\">samples = 91</text>\n",
       "<text text-anchor=\"middle\" x=\"1259.58\" y=\"-92.8\" font-family=\"Times,serif\" font-size=\"14.00\">value = [58, 33]</text>\n",
       "</g>\n",
       "<!-- 22&#45;&gt;23 -->\n",
       "<g id=\"edge23\" class=\"edge\">\n",
       "<title>22&#45;&gt;23</title>\n",
       "<path fill=\"none\" stroke=\"black\" d=\"M1259.58,-185.99C1259.58,-177.86 1259.58,-168.96 1259.58,-160.38\"/>\n",
       "<polygon fill=\"black\" stroke=\"black\" points=\"1263.08,-160.14 1259.58,-150.14 1256.08,-160.14 1263.08,-160.14\"/>\n",
       "</g>\n",
       "<!-- 26 -->\n",
       "<g id=\"node27\" class=\"node\">\n",
       "<title>26</title>\n",
       "<polygon fill=\"none\" stroke=\"black\" points=\"1422.12,-143 1331.04,-143 1331.04,-93 1422.12,-93 1422.12,-143\"/>\n",
       "<text text-anchor=\"middle\" x=\"1376.58\" y=\"-127.8\" font-family=\"Times,serif\" font-size=\"14.00\">entropy = 0.0</text>\n",
       "<text text-anchor=\"middle\" x=\"1376.58\" y=\"-113.8\" font-family=\"Times,serif\" font-size=\"14.00\">samples = 8</text>\n",
       "<text text-anchor=\"middle\" x=\"1376.58\" y=\"-99.8\" font-family=\"Times,serif\" font-size=\"14.00\">value = [8, 0]</text>\n",
       "</g>\n",
       "<!-- 22&#45;&gt;26 -->\n",
       "<g id=\"edge26\" class=\"edge\">\n",
       "<title>22&#45;&gt;26</title>\n",
       "<path fill=\"none\" stroke=\"black\" d=\"M1296.6,-185.99C1310.37,-174.46 1325.98,-161.39 1339.73,-149.87\"/>\n",
       "<polygon fill=\"black\" stroke=\"black\" points=\"1342.17,-152.39 1347.58,-143.29 1337.67,-147.03 1342.17,-152.39\"/>\n",
       "</g>\n",
       "<!-- 24 -->\n",
       "<g id=\"node25\" class=\"node\">\n",
       "<title>24</title>\n",
       "<polygon fill=\"none\" stroke=\"black\" points=\"1298.12,-50 1207.04,-50 1207.04,0 1298.12,0 1298.12,-50\"/>\n",
       "<text text-anchor=\"middle\" x=\"1252.58\" y=\"-34.8\" font-family=\"Times,serif\" font-size=\"14.00\">entropy = 0.0</text>\n",
       "<text text-anchor=\"middle\" x=\"1252.58\" y=\"-20.8\" font-family=\"Times,serif\" font-size=\"14.00\">samples = 3</text>\n",
       "<text text-anchor=\"middle\" x=\"1252.58\" y=\"-6.8\" font-family=\"Times,serif\" font-size=\"14.00\">value = [0, 3]</text>\n",
       "</g>\n",
       "<!-- 23&#45;&gt;24 -->\n",
       "<g id=\"edge24\" class=\"edge\">\n",
       "<title>23&#45;&gt;24</title>\n",
       "<path fill=\"none\" stroke=\"black\" d=\"M1257.19,-85.94C1256.55,-77.59 1255.85,-68.52 1255.2,-60.02\"/>\n",
       "<polygon fill=\"black\" stroke=\"black\" points=\"1258.69,-59.73 1254.43,-50.03 1251.71,-60.27 1258.69,-59.73\"/>\n",
       "</g>\n",
       "<!-- 25 -->\n",
       "<g id=\"node26\" class=\"node\">\n",
       "<title>25</title>\n",
       "<polygon fill=\"none\" stroke=\"black\" points=\"1422.12,-50 1317.04,-50 1317.04,0 1422.12,0 1422.12,-50\"/>\n",
       "<text text-anchor=\"middle\" x=\"1369.58\" y=\"-34.8\" font-family=\"Times,serif\" font-size=\"14.00\">entropy = 0.926</text>\n",
       "<text text-anchor=\"middle\" x=\"1369.58\" y=\"-20.8\" font-family=\"Times,serif\" font-size=\"14.00\">samples = 88</text>\n",
       "<text text-anchor=\"middle\" x=\"1369.58\" y=\"-6.8\" font-family=\"Times,serif\" font-size=\"14.00\">value = [58, 30]</text>\n",
       "</g>\n",
       "<!-- 23&#45;&gt;25 -->\n",
       "<g id=\"edge25\" class=\"edge\">\n",
       "<title>23&#45;&gt;25</title>\n",
       "<path fill=\"none\" stroke=\"black\" d=\"M1297.13,-85.94C1308.66,-76.4 1321.33,-65.92 1332.81,-56.42\"/>\n",
       "<polygon fill=\"black\" stroke=\"black\" points=\"1335.06,-59.1 1340.53,-50.03 1330.6,-53.71 1335.06,-59.1\"/>\n",
       "</g>\n",
       "</g>\n",
       "</svg>\n"
      ],
      "text/plain": [
       "<graphviz.files.Source at 0x7f92dbc6fcd0>"
      ]
     },
     "execution_count": 78,
     "metadata": {},
     "output_type": "execute_result"
    }
   ],
   "source": [
    "graph"
   ]
  },
  {
   "cell_type": "code",
   "execution_count": 13,
   "metadata": {},
   "outputs": [],
   "source": [
    "ex2 = {'deadline': ['urgent', 'urgent', 'near', 'none', 'none', 'none', 'near', 'near', 'near',  'urgent'],\n",
    "      'party': ['y', 'n', 'y', 'y', 'n', 'y', 'n', 'n', 'y', 'n'],\n",
    "      'lazy': ['y', 'n', 'y', 'y', 'n', 'y', 'n', 'n', 'y', 'y', 'n'],\n",
    "      'activity': ['party', 'study', 'party', 'party', 'pub', 'party', 'study', 'tv', 'party', 'study']}"
   ]
  },
  {
   "cell_type": "code",
   "execution_count": 14,
   "metadata": {},
   "outputs": [
    {
     "ename": "ValueError",
     "evalue": "arrays must all be same length",
     "output_type": "error",
     "traceback": [
      "\u001b[0;31m---------------------------------------------------------------------------\u001b[0m",
      "\u001b[0;31mValueError\u001b[0m                                Traceback (most recent call last)",
      "\u001b[0;32m<ipython-input-14-508e5e7b5d4b>\u001b[0m in \u001b[0;36m<module>\u001b[0;34m\u001b[0m\n\u001b[0;32m----> 1\u001b[0;31m \u001b[0mpd\u001b[0m\u001b[0;34m.\u001b[0m\u001b[0mDataFrame\u001b[0m\u001b[0;34m(\u001b[0m\u001b[0mex2\u001b[0m\u001b[0;34m)\u001b[0m\u001b[0;34m\u001b[0m\u001b[0;34m\u001b[0m\u001b[0m\n\u001b[0m",
      "\u001b[0;32m~/opt/anaconda3/lib/python3.7/site-packages/pandas/core/frame.py\u001b[0m in \u001b[0;36m__init__\u001b[0;34m(self, data, index, columns, dtype, copy)\u001b[0m\n\u001b[1;32m    409\u001b[0m             )\n\u001b[1;32m    410\u001b[0m         \u001b[0;32melif\u001b[0m \u001b[0misinstance\u001b[0m\u001b[0;34m(\u001b[0m\u001b[0mdata\u001b[0m\u001b[0;34m,\u001b[0m \u001b[0mdict\u001b[0m\u001b[0;34m)\u001b[0m\u001b[0;34m:\u001b[0m\u001b[0;34m\u001b[0m\u001b[0;34m\u001b[0m\u001b[0m\n\u001b[0;32m--> 411\u001b[0;31m             \u001b[0mmgr\u001b[0m \u001b[0;34m=\u001b[0m \u001b[0minit_dict\u001b[0m\u001b[0;34m(\u001b[0m\u001b[0mdata\u001b[0m\u001b[0;34m,\u001b[0m \u001b[0mindex\u001b[0m\u001b[0;34m,\u001b[0m \u001b[0mcolumns\u001b[0m\u001b[0;34m,\u001b[0m \u001b[0mdtype\u001b[0m\u001b[0;34m=\u001b[0m\u001b[0mdtype\u001b[0m\u001b[0;34m)\u001b[0m\u001b[0;34m\u001b[0m\u001b[0;34m\u001b[0m\u001b[0m\n\u001b[0m\u001b[1;32m    412\u001b[0m         \u001b[0;32melif\u001b[0m \u001b[0misinstance\u001b[0m\u001b[0;34m(\u001b[0m\u001b[0mdata\u001b[0m\u001b[0;34m,\u001b[0m \u001b[0mma\u001b[0m\u001b[0;34m.\u001b[0m\u001b[0mMaskedArray\u001b[0m\u001b[0;34m)\u001b[0m\u001b[0;34m:\u001b[0m\u001b[0;34m\u001b[0m\u001b[0;34m\u001b[0m\u001b[0m\n\u001b[1;32m    413\u001b[0m             \u001b[0;32mimport\u001b[0m \u001b[0mnumpy\u001b[0m\u001b[0;34m.\u001b[0m\u001b[0mma\u001b[0m\u001b[0;34m.\u001b[0m\u001b[0mmrecords\u001b[0m \u001b[0;32mas\u001b[0m \u001b[0mmrecords\u001b[0m\u001b[0;34m\u001b[0m\u001b[0;34m\u001b[0m\u001b[0m\n",
      "\u001b[0;32m~/opt/anaconda3/lib/python3.7/site-packages/pandas/core/internals/construction.py\u001b[0m in \u001b[0;36minit_dict\u001b[0;34m(data, index, columns, dtype)\u001b[0m\n\u001b[1;32m    255\u001b[0m             \u001b[0marr\u001b[0m \u001b[0;32mif\u001b[0m \u001b[0;32mnot\u001b[0m \u001b[0mis_datetime64tz_dtype\u001b[0m\u001b[0;34m(\u001b[0m\u001b[0marr\u001b[0m\u001b[0;34m)\u001b[0m \u001b[0;32melse\u001b[0m \u001b[0marr\u001b[0m\u001b[0;34m.\u001b[0m\u001b[0mcopy\u001b[0m\u001b[0;34m(\u001b[0m\u001b[0;34m)\u001b[0m \u001b[0;32mfor\u001b[0m \u001b[0marr\u001b[0m \u001b[0;32min\u001b[0m \u001b[0marrays\u001b[0m\u001b[0;34m\u001b[0m\u001b[0;34m\u001b[0m\u001b[0m\n\u001b[1;32m    256\u001b[0m         ]\n\u001b[0;32m--> 257\u001b[0;31m     \u001b[0;32mreturn\u001b[0m \u001b[0marrays_to_mgr\u001b[0m\u001b[0;34m(\u001b[0m\u001b[0marrays\u001b[0m\u001b[0;34m,\u001b[0m \u001b[0mdata_names\u001b[0m\u001b[0;34m,\u001b[0m \u001b[0mindex\u001b[0m\u001b[0;34m,\u001b[0m \u001b[0mcolumns\u001b[0m\u001b[0;34m,\u001b[0m \u001b[0mdtype\u001b[0m\u001b[0;34m=\u001b[0m\u001b[0mdtype\u001b[0m\u001b[0;34m)\u001b[0m\u001b[0;34m\u001b[0m\u001b[0;34m\u001b[0m\u001b[0m\n\u001b[0m\u001b[1;32m    258\u001b[0m \u001b[0;34m\u001b[0m\u001b[0m\n\u001b[1;32m    259\u001b[0m \u001b[0;34m\u001b[0m\u001b[0m\n",
      "\u001b[0;32m~/opt/anaconda3/lib/python3.7/site-packages/pandas/core/internals/construction.py\u001b[0m in \u001b[0;36marrays_to_mgr\u001b[0;34m(arrays, arr_names, index, columns, dtype)\u001b[0m\n\u001b[1;32m     75\u001b[0m     \u001b[0;31m# figure out the index, if necessary\u001b[0m\u001b[0;34m\u001b[0m\u001b[0;34m\u001b[0m\u001b[0;34m\u001b[0m\u001b[0m\n\u001b[1;32m     76\u001b[0m     \u001b[0;32mif\u001b[0m \u001b[0mindex\u001b[0m \u001b[0;32mis\u001b[0m \u001b[0;32mNone\u001b[0m\u001b[0;34m:\u001b[0m\u001b[0;34m\u001b[0m\u001b[0;34m\u001b[0m\u001b[0m\n\u001b[0;32m---> 77\u001b[0;31m         \u001b[0mindex\u001b[0m \u001b[0;34m=\u001b[0m \u001b[0mextract_index\u001b[0m\u001b[0;34m(\u001b[0m\u001b[0marrays\u001b[0m\u001b[0;34m)\u001b[0m\u001b[0;34m\u001b[0m\u001b[0;34m\u001b[0m\u001b[0m\n\u001b[0m\u001b[1;32m     78\u001b[0m     \u001b[0;32melse\u001b[0m\u001b[0;34m:\u001b[0m\u001b[0;34m\u001b[0m\u001b[0;34m\u001b[0m\u001b[0m\n\u001b[1;32m     79\u001b[0m         \u001b[0mindex\u001b[0m \u001b[0;34m=\u001b[0m \u001b[0mensure_index\u001b[0m\u001b[0;34m(\u001b[0m\u001b[0mindex\u001b[0m\u001b[0;34m)\u001b[0m\u001b[0;34m\u001b[0m\u001b[0;34m\u001b[0m\u001b[0m\n",
      "\u001b[0;32m~/opt/anaconda3/lib/python3.7/site-packages/pandas/core/internals/construction.py\u001b[0m in \u001b[0;36mextract_index\u001b[0;34m(data)\u001b[0m\n\u001b[1;32m    366\u001b[0m             \u001b[0mlengths\u001b[0m \u001b[0;34m=\u001b[0m \u001b[0mlist\u001b[0m\u001b[0;34m(\u001b[0m\u001b[0mset\u001b[0m\u001b[0;34m(\u001b[0m\u001b[0mraw_lengths\u001b[0m\u001b[0;34m)\u001b[0m\u001b[0;34m)\u001b[0m\u001b[0;34m\u001b[0m\u001b[0;34m\u001b[0m\u001b[0m\n\u001b[1;32m    367\u001b[0m             \u001b[0;32mif\u001b[0m \u001b[0mlen\u001b[0m\u001b[0;34m(\u001b[0m\u001b[0mlengths\u001b[0m\u001b[0;34m)\u001b[0m \u001b[0;34m>\u001b[0m \u001b[0;36m1\u001b[0m\u001b[0;34m:\u001b[0m\u001b[0;34m\u001b[0m\u001b[0;34m\u001b[0m\u001b[0m\n\u001b[0;32m--> 368\u001b[0;31m                 \u001b[0;32mraise\u001b[0m \u001b[0mValueError\u001b[0m\u001b[0;34m(\u001b[0m\u001b[0;34m\"arrays must all be same length\"\u001b[0m\u001b[0;34m)\u001b[0m\u001b[0;34m\u001b[0m\u001b[0;34m\u001b[0m\u001b[0m\n\u001b[0m\u001b[1;32m    369\u001b[0m \u001b[0;34m\u001b[0m\u001b[0m\n\u001b[1;32m    370\u001b[0m             \u001b[0;32mif\u001b[0m \u001b[0mhave_dicts\u001b[0m\u001b[0;34m:\u001b[0m\u001b[0;34m\u001b[0m\u001b[0;34m\u001b[0m\u001b[0m\n",
      "\u001b[0;31mValueError\u001b[0m: arrays must all be same length"
     ]
    }
   ],
   "source": [
    "pd.DataFrame(ex2)"
   ]
  },
  {
   "cell_type": "code",
   "execution_count": null,
   "metadata": {},
   "outputs": [],
   "source": []
  },
  {
   "cell_type": "code",
   "execution_count": null,
   "metadata": {},
   "outputs": [],
   "source": []
  },
  {
   "cell_type": "code",
   "execution_count": null,
   "metadata": {},
   "outputs": [],
   "source": []
  }
 ],
 "metadata": {
  "kernelspec": {
   "display_name": "Python 3",
   "language": "python",
   "name": "python3"
  },
  "language_info": {
   "codemirror_mode": {
    "name": "ipython",
    "version": 3
   },
   "file_extension": ".py",
   "mimetype": "text/x-python",
   "name": "python",
   "nbconvert_exporter": "python",
   "pygments_lexer": "ipython3",
   "version": "3.7.4"
  }
 },
 "nbformat": 4,
 "nbformat_minor": 4
}
