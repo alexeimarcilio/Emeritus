{
 "cells": [
  {
   "cell_type": "markdown",
   "metadata": {},
   "source": [
    "# Plotting with Python"
   ]
  },
  {
   "cell_type": "code",
   "execution_count": 1,
   "metadata": {},
   "outputs": [],
   "source": [
    "%matplotlib inline\n",
    "import matplotlib.pyplot as plt"
   ]
  },
  {
   "cell_type": "code",
   "execution_count": 2,
   "metadata": {},
   "outputs": [],
   "source": [
    "import seaborn as sns"
   ]
  },
  {
   "cell_type": "code",
   "execution_count": 4,
   "metadata": {},
   "outputs": [
    {
     "data": {
      "text/html": [
       "\n",
       "    <div class=\"bk-root\">\n",
       "        <a href=\"https://bokeh.pydata.org\" target=\"_blank\" class=\"bk-logo bk-logo-small bk-logo-notebook\"></a>\n",
       "        <span id=\"1002\">Loading BokehJS ...</span>\n",
       "    </div>"
      ]
     },
     "metadata": {},
     "output_type": "display_data"
    },
    {
     "data": {
      "application/javascript": [
       "\n",
       "(function(root) {\n",
       "  function now() {\n",
       "    return new Date();\n",
       "  }\n",
       "\n",
       "  var force = true;\n",
       "\n",
       "  if (typeof root._bokeh_onload_callbacks === \"undefined\" || force === true) {\n",
       "    root._bokeh_onload_callbacks = [];\n",
       "    root._bokeh_is_loading = undefined;\n",
       "  }\n",
       "\n",
       "  var JS_MIME_TYPE = 'application/javascript';\n",
       "  var HTML_MIME_TYPE = 'text/html';\n",
       "  var EXEC_MIME_TYPE = 'application/vnd.bokehjs_exec.v0+json';\n",
       "  var CLASS_NAME = 'output_bokeh rendered_html';\n",
       "\n",
       "  /**\n",
       "   * Render data to the DOM node\n",
       "   */\n",
       "  function render(props, node) {\n",
       "    var script = document.createElement(\"script\");\n",
       "    node.appendChild(script);\n",
       "  }\n",
       "\n",
       "  /**\n",
       "   * Handle when an output is cleared or removed\n",
       "   */\n",
       "  function handleClearOutput(event, handle) {\n",
       "    var cell = handle.cell;\n",
       "\n",
       "    var id = cell.output_area._bokeh_element_id;\n",
       "    var server_id = cell.output_area._bokeh_server_id;\n",
       "    // Clean up Bokeh references\n",
       "    if (id != null && id in Bokeh.index) {\n",
       "      Bokeh.index[id].model.document.clear();\n",
       "      delete Bokeh.index[id];\n",
       "    }\n",
       "\n",
       "    if (server_id !== undefined) {\n",
       "      // Clean up Bokeh references\n",
       "      var cmd = \"from bokeh.io.state import curstate; print(curstate().uuid_to_server['\" + server_id + \"'].get_sessions()[0].document.roots[0]._id)\";\n",
       "      cell.notebook.kernel.execute(cmd, {\n",
       "        iopub: {\n",
       "          output: function(msg) {\n",
       "            var id = msg.content.text.trim();\n",
       "            if (id in Bokeh.index) {\n",
       "              Bokeh.index[id].model.document.clear();\n",
       "              delete Bokeh.index[id];\n",
       "            }\n",
       "          }\n",
       "        }\n",
       "      });\n",
       "      // Destroy server and session\n",
       "      var cmd = \"import bokeh.io.notebook as ion; ion.destroy_server('\" + server_id + \"')\";\n",
       "      cell.notebook.kernel.execute(cmd);\n",
       "    }\n",
       "  }\n",
       "\n",
       "  /**\n",
       "   * Handle when a new output is added\n",
       "   */\n",
       "  function handleAddOutput(event, handle) {\n",
       "    var output_area = handle.output_area;\n",
       "    var output = handle.output;\n",
       "\n",
       "    // limit handleAddOutput to display_data with EXEC_MIME_TYPE content only\n",
       "    if ((output.output_type != \"display_data\") || (!output.data.hasOwnProperty(EXEC_MIME_TYPE))) {\n",
       "      return\n",
       "    }\n",
       "\n",
       "    var toinsert = output_area.element.find(\".\" + CLASS_NAME.split(' ')[0]);\n",
       "\n",
       "    if (output.metadata[EXEC_MIME_TYPE][\"id\"] !== undefined) {\n",
       "      toinsert[toinsert.length - 1].firstChild.textContent = output.data[JS_MIME_TYPE];\n",
       "      // store reference to embed id on output_area\n",
       "      output_area._bokeh_element_id = output.metadata[EXEC_MIME_TYPE][\"id\"];\n",
       "    }\n",
       "    if (output.metadata[EXEC_MIME_TYPE][\"server_id\"] !== undefined) {\n",
       "      var bk_div = document.createElement(\"div\");\n",
       "      bk_div.innerHTML = output.data[HTML_MIME_TYPE];\n",
       "      var script_attrs = bk_div.children[0].attributes;\n",
       "      for (var i = 0; i < script_attrs.length; i++) {\n",
       "        toinsert[toinsert.length - 1].firstChild.setAttribute(script_attrs[i].name, script_attrs[i].value);\n",
       "      }\n",
       "      // store reference to server id on output_area\n",
       "      output_area._bokeh_server_id = output.metadata[EXEC_MIME_TYPE][\"server_id\"];\n",
       "    }\n",
       "  }\n",
       "\n",
       "  function register_renderer(events, OutputArea) {\n",
       "\n",
       "    function append_mime(data, metadata, element) {\n",
       "      // create a DOM node to render to\n",
       "      var toinsert = this.create_output_subarea(\n",
       "        metadata,\n",
       "        CLASS_NAME,\n",
       "        EXEC_MIME_TYPE\n",
       "      );\n",
       "      this.keyboard_manager.register_events(toinsert);\n",
       "      // Render to node\n",
       "      var props = {data: data, metadata: metadata[EXEC_MIME_TYPE]};\n",
       "      render(props, toinsert[toinsert.length - 1]);\n",
       "      element.append(toinsert);\n",
       "      return toinsert\n",
       "    }\n",
       "\n",
       "    /* Handle when an output is cleared or removed */\n",
       "    events.on('clear_output.CodeCell', handleClearOutput);\n",
       "    events.on('delete.Cell', handleClearOutput);\n",
       "\n",
       "    /* Handle when a new output is added */\n",
       "    events.on('output_added.OutputArea', handleAddOutput);\n",
       "\n",
       "    /**\n",
       "     * Register the mime type and append_mime function with output_area\n",
       "     */\n",
       "    OutputArea.prototype.register_mime_type(EXEC_MIME_TYPE, append_mime, {\n",
       "      /* Is output safe? */\n",
       "      safe: true,\n",
       "      /* Index of renderer in `output_area.display_order` */\n",
       "      index: 0\n",
       "    });\n",
       "  }\n",
       "\n",
       "  // register the mime type if in Jupyter Notebook environment and previously unregistered\n",
       "  if (root.Jupyter !== undefined) {\n",
       "    var events = require('base/js/events');\n",
       "    var OutputArea = require('notebook/js/outputarea').OutputArea;\n",
       "\n",
       "    if (OutputArea.prototype.mime_types().indexOf(EXEC_MIME_TYPE) == -1) {\n",
       "      register_renderer(events, OutputArea);\n",
       "    }\n",
       "  }\n",
       "\n",
       "  \n",
       "  if (typeof (root._bokeh_timeout) === \"undefined\" || force === true) {\n",
       "    root._bokeh_timeout = Date.now() + 5000;\n",
       "    root._bokeh_failed_load = false;\n",
       "  }\n",
       "\n",
       "  var NB_LOAD_WARNING = {'data': {'text/html':\n",
       "     \"<div style='background-color: #fdd'>\\n\"+\n",
       "     \"<p>\\n\"+\n",
       "     \"BokehJS does not appear to have successfully loaded. If loading BokehJS from CDN, this \\n\"+\n",
       "     \"may be due to a slow or bad network connection. Possible fixes:\\n\"+\n",
       "     \"</p>\\n\"+\n",
       "     \"<ul>\\n\"+\n",
       "     \"<li>re-rerun `output_notebook()` to attempt to load from CDN again, or</li>\\n\"+\n",
       "     \"<li>use INLINE resources instead, as so:</li>\\n\"+\n",
       "     \"</ul>\\n\"+\n",
       "     \"<code>\\n\"+\n",
       "     \"from bokeh.resources import INLINE\\n\"+\n",
       "     \"output_notebook(resources=INLINE)\\n\"+\n",
       "     \"</code>\\n\"+\n",
       "     \"</div>\"}};\n",
       "\n",
       "  function display_loaded() {\n",
       "    var el = document.getElementById(\"1002\");\n",
       "    if (el != null) {\n",
       "      el.textContent = \"BokehJS is loading...\";\n",
       "    }\n",
       "    if (root.Bokeh !== undefined) {\n",
       "      if (el != null) {\n",
       "        el.textContent = \"BokehJS \" + root.Bokeh.version + \" successfully loaded.\";\n",
       "      }\n",
       "    } else if (Date.now() < root._bokeh_timeout) {\n",
       "      setTimeout(display_loaded, 100)\n",
       "    }\n",
       "  }\n",
       "\n",
       "\n",
       "  function run_callbacks() {\n",
       "    try {\n",
       "      root._bokeh_onload_callbacks.forEach(function(callback) {\n",
       "        if (callback != null)\n",
       "          callback();\n",
       "      });\n",
       "    } finally {\n",
       "      delete root._bokeh_onload_callbacks\n",
       "    }\n",
       "    console.debug(\"Bokeh: all callbacks have finished\");\n",
       "  }\n",
       "\n",
       "  function load_libs(css_urls, js_urls, callback) {\n",
       "    if (css_urls == null) css_urls = [];\n",
       "    if (js_urls == null) js_urls = [];\n",
       "\n",
       "    root._bokeh_onload_callbacks.push(callback);\n",
       "    if (root._bokeh_is_loading > 0) {\n",
       "      console.debug(\"Bokeh: BokehJS is being loaded, scheduling callback at\", now());\n",
       "      return null;\n",
       "    }\n",
       "    if (js_urls == null || js_urls.length === 0) {\n",
       "      run_callbacks();\n",
       "      return null;\n",
       "    }\n",
       "    console.debug(\"Bokeh: BokehJS not loaded, scheduling load and callback at\", now());\n",
       "    root._bokeh_is_loading = css_urls.length + js_urls.length;\n",
       "\n",
       "    function on_load() {\n",
       "      root._bokeh_is_loading--;\n",
       "      if (root._bokeh_is_loading === 0) {\n",
       "        console.debug(\"Bokeh: all BokehJS libraries/stylesheets loaded\");\n",
       "        run_callbacks()\n",
       "      }\n",
       "    }\n",
       "\n",
       "    function on_error() {\n",
       "      console.error(\"failed to load \" + url);\n",
       "    }\n",
       "\n",
       "    for (var i = 0; i < css_urls.length; i++) {\n",
       "      var url = css_urls[i];\n",
       "      const element = document.createElement(\"link\");\n",
       "      element.onload = on_load;\n",
       "      element.onerror = on_error;\n",
       "      element.rel = \"stylesheet\";\n",
       "      element.type = \"text/css\";\n",
       "      element.href = url;\n",
       "      console.debug(\"Bokeh: injecting link tag for BokehJS stylesheet: \", url);\n",
       "      document.body.appendChild(element);\n",
       "    }\n",
       "\n",
       "    for (var i = 0; i < js_urls.length; i++) {\n",
       "      var url = js_urls[i];\n",
       "      var element = document.createElement('script');\n",
       "      element.onload = on_load;\n",
       "      element.onerror = on_error;\n",
       "      element.async = false;\n",
       "      element.src = url;\n",
       "      console.debug(\"Bokeh: injecting script tag for BokehJS library: \", url);\n",
       "      document.head.appendChild(element);\n",
       "    }\n",
       "  };var element = document.getElementById(\"1002\");\n",
       "  if (element == null) {\n",
       "    console.error(\"Bokeh: ERROR: autoload.js configured with elementid '1002' but no matching script tag was found. \")\n",
       "    return false;\n",
       "  }\n",
       "\n",
       "  function inject_raw_css(css) {\n",
       "    const element = document.createElement(\"style\");\n",
       "    element.appendChild(document.createTextNode(css));\n",
       "    document.body.appendChild(element);\n",
       "  }\n",
       "\n",
       "  var js_urls = [\"https://cdn.pydata.org/bokeh/release/bokeh-1.3.4.min.js\", \"https://cdn.pydata.org/bokeh/release/bokeh-widgets-1.3.4.min.js\", \"https://cdn.pydata.org/bokeh/release/bokeh-tables-1.3.4.min.js\", \"https://cdn.pydata.org/bokeh/release/bokeh-gl-1.3.4.min.js\"];\n",
       "  var css_urls = [];\n",
       "\n",
       "  var inline_js = [\n",
       "    function(Bokeh) {\n",
       "      Bokeh.set_log_level(\"info\");\n",
       "    },\n",
       "    \n",
       "    function(Bokeh) {\n",
       "      \n",
       "    },\n",
       "    function(Bokeh) {} // ensure no trailing comma for IE\n",
       "  ];\n",
       "\n",
       "  function run_inline_js() {\n",
       "    \n",
       "    if ((root.Bokeh !== undefined) || (force === true)) {\n",
       "      for (var i = 0; i < inline_js.length; i++) {\n",
       "        inline_js[i].call(root, root.Bokeh);\n",
       "      }if (force === true) {\n",
       "        display_loaded();\n",
       "      }} else if (Date.now() < root._bokeh_timeout) {\n",
       "      setTimeout(run_inline_js, 100);\n",
       "    } else if (!root._bokeh_failed_load) {\n",
       "      console.log(\"Bokeh: BokehJS failed to load within specified timeout.\");\n",
       "      root._bokeh_failed_load = true;\n",
       "    } else if (force !== true) {\n",
       "      var cell = $(document.getElementById(\"1002\")).parents('.cell').data().cell;\n",
       "      cell.output_area.append_execute_result(NB_LOAD_WARNING)\n",
       "    }\n",
       "\n",
       "  }\n",
       "\n",
       "  if (root._bokeh_is_loading === 0) {\n",
       "    console.debug(\"Bokeh: BokehJS loaded, going straight to plotting\");\n",
       "    run_inline_js();\n",
       "  } else {\n",
       "    load_libs(css_urls, js_urls, function() {\n",
       "      console.debug(\"Bokeh: BokehJS plotting callback run at\", now());\n",
       "      run_inline_js();\n",
       "    });\n",
       "  }\n",
       "}(window));"
      ],
      "application/vnd.bokehjs_load.v0+json": "\n(function(root) {\n  function now() {\n    return new Date();\n  }\n\n  var force = true;\n\n  if (typeof root._bokeh_onload_callbacks === \"undefined\" || force === true) {\n    root._bokeh_onload_callbacks = [];\n    root._bokeh_is_loading = undefined;\n  }\n\n  \n\n  \n  if (typeof (root._bokeh_timeout) === \"undefined\" || force === true) {\n    root._bokeh_timeout = Date.now() + 5000;\n    root._bokeh_failed_load = false;\n  }\n\n  var NB_LOAD_WARNING = {'data': {'text/html':\n     \"<div style='background-color: #fdd'>\\n\"+\n     \"<p>\\n\"+\n     \"BokehJS does not appear to have successfully loaded. If loading BokehJS from CDN, this \\n\"+\n     \"may be due to a slow or bad network connection. Possible fixes:\\n\"+\n     \"</p>\\n\"+\n     \"<ul>\\n\"+\n     \"<li>re-rerun `output_notebook()` to attempt to load from CDN again, or</li>\\n\"+\n     \"<li>use INLINE resources instead, as so:</li>\\n\"+\n     \"</ul>\\n\"+\n     \"<code>\\n\"+\n     \"from bokeh.resources import INLINE\\n\"+\n     \"output_notebook(resources=INLINE)\\n\"+\n     \"</code>\\n\"+\n     \"</div>\"}};\n\n  function display_loaded() {\n    var el = document.getElementById(\"1002\");\n    if (el != null) {\n      el.textContent = \"BokehJS is loading...\";\n    }\n    if (root.Bokeh !== undefined) {\n      if (el != null) {\n        el.textContent = \"BokehJS \" + root.Bokeh.version + \" successfully loaded.\";\n      }\n    } else if (Date.now() < root._bokeh_timeout) {\n      setTimeout(display_loaded, 100)\n    }\n  }\n\n\n  function run_callbacks() {\n    try {\n      root._bokeh_onload_callbacks.forEach(function(callback) {\n        if (callback != null)\n          callback();\n      });\n    } finally {\n      delete root._bokeh_onload_callbacks\n    }\n    console.debug(\"Bokeh: all callbacks have finished\");\n  }\n\n  function load_libs(css_urls, js_urls, callback) {\n    if (css_urls == null) css_urls = [];\n    if (js_urls == null) js_urls = [];\n\n    root._bokeh_onload_callbacks.push(callback);\n    if (root._bokeh_is_loading > 0) {\n      console.debug(\"Bokeh: BokehJS is being loaded, scheduling callback at\", now());\n      return null;\n    }\n    if (js_urls == null || js_urls.length === 0) {\n      run_callbacks();\n      return null;\n    }\n    console.debug(\"Bokeh: BokehJS not loaded, scheduling load and callback at\", now());\n    root._bokeh_is_loading = css_urls.length + js_urls.length;\n\n    function on_load() {\n      root._bokeh_is_loading--;\n      if (root._bokeh_is_loading === 0) {\n        console.debug(\"Bokeh: all BokehJS libraries/stylesheets loaded\");\n        run_callbacks()\n      }\n    }\n\n    function on_error() {\n      console.error(\"failed to load \" + url);\n    }\n\n    for (var i = 0; i < css_urls.length; i++) {\n      var url = css_urls[i];\n      const element = document.createElement(\"link\");\n      element.onload = on_load;\n      element.onerror = on_error;\n      element.rel = \"stylesheet\";\n      element.type = \"text/css\";\n      element.href = url;\n      console.debug(\"Bokeh: injecting link tag for BokehJS stylesheet: \", url);\n      document.body.appendChild(element);\n    }\n\n    for (var i = 0; i < js_urls.length; i++) {\n      var url = js_urls[i];\n      var element = document.createElement('script');\n      element.onload = on_load;\n      element.onerror = on_error;\n      element.async = false;\n      element.src = url;\n      console.debug(\"Bokeh: injecting script tag for BokehJS library: \", url);\n      document.head.appendChild(element);\n    }\n  };var element = document.getElementById(\"1002\");\n  if (element == null) {\n    console.error(\"Bokeh: ERROR: autoload.js configured with elementid '1002' but no matching script tag was found. \")\n    return false;\n  }\n\n  function inject_raw_css(css) {\n    const element = document.createElement(\"style\");\n    element.appendChild(document.createTextNode(css));\n    document.body.appendChild(element);\n  }\n\n  var js_urls = [\"https://cdn.pydata.org/bokeh/release/bokeh-1.3.4.min.js\", \"https://cdn.pydata.org/bokeh/release/bokeh-widgets-1.3.4.min.js\", \"https://cdn.pydata.org/bokeh/release/bokeh-tables-1.3.4.min.js\", \"https://cdn.pydata.org/bokeh/release/bokeh-gl-1.3.4.min.js\"];\n  var css_urls = [];\n\n  var inline_js = [\n    function(Bokeh) {\n      Bokeh.set_log_level(\"info\");\n    },\n    \n    function(Bokeh) {\n      \n    },\n    function(Bokeh) {} // ensure no trailing comma for IE\n  ];\n\n  function run_inline_js() {\n    \n    if ((root.Bokeh !== undefined) || (force === true)) {\n      for (var i = 0; i < inline_js.length; i++) {\n        inline_js[i].call(root, root.Bokeh);\n      }if (force === true) {\n        display_loaded();\n      }} else if (Date.now() < root._bokeh_timeout) {\n      setTimeout(run_inline_js, 100);\n    } else if (!root._bokeh_failed_load) {\n      console.log(\"Bokeh: BokehJS failed to load within specified timeout.\");\n      root._bokeh_failed_load = true;\n    } else if (force !== true) {\n      var cell = $(document.getElementById(\"1002\")).parents('.cell').data().cell;\n      cell.output_area.append_execute_result(NB_LOAD_WARNING)\n    }\n\n  }\n\n  if (root._bokeh_is_loading === 0) {\n    console.debug(\"Bokeh: BokehJS loaded, going straight to plotting\");\n    run_inline_js();\n  } else {\n    load_libs(css_urls, js_urls, function() {\n      console.debug(\"Bokeh: BokehJS plotting callback run at\", now());\n      run_inline_js();\n    });\n  }\n}(window));"
     },
     "metadata": {},
     "output_type": "display_data"
    }
   ],
   "source": [
    "from bokeh.plotting import figure, show, output_notebook\n",
    "output_notebook()"
   ]
  },
  {
   "cell_type": "code",
   "execution_count": 5,
   "metadata": {},
   "outputs": [],
   "source": [
    "from ipywidgets import interact\n",
    "import ipywidgets as widgets"
   ]
  },
  {
   "cell_type": "markdown",
   "metadata": {},
   "source": [
    "### Univariate Plots\n",
    "\n",
    "- *Categorical*\n",
    " - Count\n",
    " - Bar plot\n",
    "- *Numeric*\n",
    " - Distribution of values\n",
    "  - dotplot\n",
    "  - boxplot\n",
    "  - histogram"
   ]
  },
  {
   "cell_type": "code",
   "execution_count": 17,
   "metadata": {},
   "outputs": [],
   "source": [
    "tips = sns.load_dataset('tips')"
   ]
  },
  {
   "cell_type": "code",
   "execution_count": 20,
   "metadata": {},
   "outputs": [
    {
     "data": {
      "text/plain": [
       "<matplotlib.axes._subplots.AxesSubplot at 0x7fb2bd4b3e90>"
      ]
     },
     "execution_count": 20,
     "metadata": {},
     "output_type": "execute_result"
    },
    {
     "data": {
      "image/png": "[encoded data removed]",
      "text/plain": [
       "<Figure size 432x288 with 1 Axes>"
      ]
     },
     "metadata": {
      "needs_background": "light"
     },
     "output_type": "display_data"
    }
   ],
   "source": [
    "tips['sex'].value_counts().plot(kind = 'bar')"
   ]
  },
  {
   "cell_type": "code",
   "execution_count": 25,
   "metadata": {},
   "outputs": [
    {
     "data": {
      "image/png": "[encoded data removed]",
      "text/plain": [
       "<Figure size 432x288 with 1 Axes>"
      ]
     },
     "metadata": {
      "needs_background": "light"
     },
     "output_type": "display_data"
    }
   ],
   "source": [
    "sns.countplot(tips['day'], hue = tips['sex'])\n",
    "plt.title('My Barplot');"
   ]
  },
  {
   "cell_type": "code",
   "execution_count": 26,
   "metadata": {},
   "outputs": [
    {
     "data": {
      "text/plain": [
       "[<matplotlib.lines.Line2D at 0x7fb2bd07e190>]"
      ]
     },
     "execution_count": 26,
     "metadata": {},
     "output_type": "execute_result"
    },
    {
     "data": {
      "image/png": "[encoded data removed]",
      "text/plain": [
       "<Figure size 432x288 with 1 Axes>"
      ]
     },
     "metadata": {
      "needs_background": "light"
     },
     "output_type": "display_data"
    }
   ],
   "source": [
    "plt.plot([1, 2, 4], [5, 4, 3])"
   ]
  },
  {
   "cell_type": "code",
   "execution_count": 46,
   "metadata": {},
   "outputs": [
    {
     "data": {
      "text/plain": [
       "<matplotlib.axes._subplots.AxesSubplot at 0x7fb2be02c1d0>"
      ]
     },
     "execution_count": 46,
     "metadata": {},
     "output_type": "execute_result"
    },
    {
     "data": {
      "image/png": "[encoded data removed]",
      "text/plain": [
       "<Figure size 1080x432 with 4 Axes>"
      ]
     },
     "metadata": {
      "needs_background": "light"
     },
     "output_type": "display_data"
    }
   ],
   "source": [
    "fig, ax = plt.subplots(2, 2, figsize = (15, 6))\n",
    "ax[0, 0].plot(tips['tip'])\n",
    "ax[0, 0].set_title('Plot I')\n",
    "ax[1, 1].boxplot(tips['tip']);\n",
    "ax[1, 0].bar(tips['sex'], tips['tip'], hatch = 'x', width = 0.5)\n",
    "sns.countplot(tips['day'], hue = tips['sex'], ax = ax[0, 1])"
   ]
  },
  {
   "cell_type": "code",
   "execution_count": 47,
   "metadata": {},
   "outputs": [],
   "source": [
    "def width_finder(width):\n",
    "    plt.bar(tips['sex'], tips['tip'], hatch = 'x', width = width)"
   ]
  },
  {
   "cell_type": "code",
   "execution_count": 49,
   "metadata": {},
   "outputs": [
    {
     "data": {
      "application/vnd.jupyter.widget-view+json": {
       "model_id": "0ebf611d745e443ea08ed24cef062d11",
       "version_major": 2,
       "version_minor": 0
      },
      "text/plain": [
       "interactive(children=(FloatSlider(value=0.01, description='width', max=3.0, min=0.01), Output()), _dom_classes…"
      ]
     },
     "metadata": {},
     "output_type": "display_data"
    },
    {
     "data": {
      "text/plain": [
       "<function __main__.width_finder(width)>"
      ]
     },
     "execution_count": 49,
     "metadata": {},
     "output_type": "execute_result"
    }
   ],
   "source": [
    "interact(width_finder, width = widgets.FloatSlider(min = 0.01, max = 3))"
   ]
  },
  {
   "cell_type": "code",
   "execution_count": 7,
   "metadata": {},
   "outputs": [
    {
     "data": {
      "text/html": [
       "<div>\n",
       "<style scoped>\n",
       "    .dataframe tbody tr th:only-of-type {\n",
       "        vertical-align: middle;\n",
       "    }\n",
       "\n",
       "    .dataframe tbody tr th {\n",
       "        vertical-align: top;\n",
       "    }\n",
       "\n",
       "    .dataframe thead th {\n",
       "        text-align: right;\n",
       "    }\n",
       "</style>\n",
       "<table border=\"1\" class=\"dataframe\">\n",
       "  <thead>\n",
       "    <tr style=\"text-align: right;\">\n",
       "      <th></th>\n",
       "      <th>total_bill</th>\n",
       "      <th>tip</th>\n",
       "      <th>sex</th>\n",
       "      <th>smoker</th>\n",
       "      <th>day</th>\n",
       "      <th>time</th>\n",
       "      <th>size</th>\n",
       "    </tr>\n",
       "  </thead>\n",
       "  <tbody>\n",
       "    <tr>\n",
       "      <td>0</td>\n",
       "      <td>16.99</td>\n",
       "      <td>1.01</td>\n",
       "      <td>Female</td>\n",
       "      <td>No</td>\n",
       "      <td>Sun</td>\n",
       "      <td>Dinner</td>\n",
       "      <td>2</td>\n",
       "    </tr>\n",
       "    <tr>\n",
       "      <td>1</td>\n",
       "      <td>10.34</td>\n",
       "      <td>1.66</td>\n",
       "      <td>Male</td>\n",
       "      <td>No</td>\n",
       "      <td>Sun</td>\n",
       "      <td>Dinner</td>\n",
       "      <td>3</td>\n",
       "    </tr>\n",
       "  </tbody>\n",
       "</table>\n",
       "</div>"
      ],
      "text/plain": [
       "   total_bill   tip     sex smoker  day    time  size\n",
       "0       16.99  1.01  Female     No  Sun  Dinner     2\n",
       "1       10.34  1.66    Male     No  Sun  Dinner     3"
      ]
     },
     "execution_count": 7,
     "metadata": {},
     "output_type": "execute_result"
    }
   ],
   "source": [
    "tips.head(2)"
   ]
  },
  {
   "cell_type": "code",
   "execution_count": 12,
   "metadata": {},
   "outputs": [
    {
     "data": {
      "text/plain": [
       "<matplotlib.axes._subplots.AxesSubplot at 0x7fb2bb662ed0>"
      ]
     },
     "execution_count": 12,
     "metadata": {},
     "output_type": "execute_result"
    },
    {
     "data": {
      "image/png": "[encoded data removed]",
      "text/plain": [
       "<Figure size 432x288 with 1 Axes>"
      ]
     },
     "metadata": {
      "needs_background": "light"
     },
     "output_type": "display_data"
    }
   ],
   "source": [
    "sns.stripplot(tips['total_bill'], jitter=False)"
   ]
  },
  {
   "cell_type": "code",
   "execution_count": 13,
   "metadata": {},
   "outputs": [
    {
     "data": {
      "text/plain": [
       "<matplotlib.axes._subplots.AxesSubplot at 0x7fb2bbe617d0>"
      ]
     },
     "execution_count": 13,
     "metadata": {},
     "output_type": "execute_result"
    },
    {
     "data": {
      "image/png": "[encoded data removed]",
      "text/plain": [
       "<Figure size 432x288 with 1 Axes>"
      ]
     },
     "metadata": {
      "needs_background": "light"
     },
     "output_type": "display_data"
    }
   ],
   "source": [
    "sns.boxplot(tips['sex'], tips['total_bill'])"
   ]
  },
  {
   "cell_type": "code",
   "execution_count": 15,
   "metadata": {},
   "outputs": [
    {
     "data": {
      "text/plain": [
       "<matplotlib.axes._subplots.AxesSubplot at 0x7fb2a972bd90>"
      ]
     },
     "execution_count": 15,
     "metadata": {},
     "output_type": "execute_result"
    },
    {
     "data": {
      "image/png": "[encoded data removed]",
      "text/plain": [
       "<Figure size 432x288 with 1 Axes>"
      ]
     },
     "metadata": {
      "needs_background": "light"
     },
     "output_type": "display_data"
    }
   ],
   "source": [
    "sns.distplot(tips['total_bill'], hist=False)"
   ]
  },
  {
   "cell_type": "code",
   "execution_count": 16,
   "metadata": {},
   "outputs": [
    {
     "data": {
      "text/plain": [
       "(array([ 7., 42., 68., 51., 31., 19., 12.,  7.,  3.,  4.]),\n",
       " array([ 3.07 ,  7.844, 12.618, 17.392, 22.166, 26.94 , 31.714, 36.488,\n",
       "        41.262, 46.036, 50.81 ]),\n",
       " <a list of 10 Patch objects>)"
      ]
     },
     "execution_count": 16,
     "metadata": {},
     "output_type": "execute_result"
    },
    {
     "data": {
      "image/png": "[encoded data removed]",
      "text/plain": [
       "<Figure size 432x288 with 1 Axes>"
      ]
     },
     "metadata": {
      "needs_background": "light"
     },
     "output_type": "display_data"
    }
   ],
   "source": [
    "plt.hist(tips['total_bill'])"
   ]
  },
  {
   "cell_type": "markdown",
   "metadata": {},
   "source": [
    "### Bivariate Plotting\n",
    "\n",
    "- Scatterplot\n"
   ]
  },
  {
   "cell_type": "code",
   "execution_count": null,
   "metadata": {},
   "outputs": [],
   "source": []
  },
  {
   "cell_type": "code",
   "execution_count": null,
   "metadata": {},
   "outputs": [],
   "source": []
  },
  {
   "cell_type": "code",
   "execution_count": null,
   "metadata": {},
   "outputs": [],
   "source": []
  },
  {
   "cell_type": "code",
   "execution_count": null,
   "metadata": {},
   "outputs": [],
   "source": []
  },
  {
   "cell_type": "code",
   "execution_count": null,
   "metadata": {},
   "outputs": [],
   "source": []
  },
  {
   "cell_type": "code",
   "execution_count": null,
   "metadata": {},
   "outputs": [],
   "source": []
  }
 ],
 "metadata": {
  "kernelspec": {
   "display_name": "Python 3",
   "language": "python",
   "name": "python3"
  },
  "language_info": {
   "codemirror_mode": {
    "name": "ipython",
    "version": 3
   },
   "file_extension": ".py",
   "mimetype": "text/x-python",
   "name": "python",
   "nbconvert_exporter": "python",
   "pygments_lexer": "ipython3",
   "version": "3.7.4"
  },
  "widgets": {
   "application/vnd.jupyter.widget-state+json": {
    "state": {
     "0ebf611d745e443ea08ed24cef062d11": {
      "model_module": "@jupyter-widgets/controls",
      "model_module_version": "1.5.0",
      "model_name": "VBoxModel",
      "state": {
       "_dom_classes": [
        "widget-interact"
       ],
       "children": [
        "IPY_MODEL_1ab7a0deb0dc40f2a0d3a74ec3b11ef2",
        "IPY_MODEL_7716e55ac8ac4fca80c50b86f424211f"
       ],
       "layout": "IPY_MODEL_42050338a834446da7a8f44f5b84a499"
      }
     },
     "1ab7a0deb0dc40f2a0d3a74ec3b11ef2": {
      "model_module": "@jupyter-widgets/controls",
      "model_module_version": "1.5.0",
      "model_name": "FloatSliderModel",
      "state": {
       "description": "width",
       "layout": "IPY_MODEL_56d2ab9ed9444d0b81baf93f44556526",
       "max": 3,
       "min": 0.01,
       "step": 0.1,
       "style": "IPY_MODEL_6b9f431491aa41d99ff66b7e639f6468",
       "value": 0.81
      }
     },
     "36a330cb9e5942b9b87e1f35b2ba95a0": {
      "model_module": "@jupyter-widgets/base",
      "model_module_version": "1.2.0",
      "model_name": "LayoutModel",
      "state": {}
     },
     "42050338a834446da7a8f44f5b84a499": {
      "model_module": "@jupyter-widgets/base",
      "model_module_version": "1.2.0",
      "model_name": "LayoutModel",
      "state": {}
     },
     "56d2ab9ed9444d0b81baf93f44556526": {
      "model_module": "@jupyter-widgets/base",
      "model_module_version": "1.2.0",
      "model_name": "LayoutModel",
      "state": {}
     },
     "6b9f431491aa41d99ff66b7e639f6468": {
      "model_module": "@jupyter-widgets/controls",
      "model_module_version": "1.5.0",
      "model_name": "SliderStyleModel",
      "state": {
       "description_width": ""
      }
     },
     "7716e55ac8ac4fca80c50b86f424211f": {
      "model_module": "@jupyter-widgets/output",
      "model_module_version": "1.0.0",
      "model_name": "OutputModel",
      "state": {
       "layout": "IPY_MODEL_36a330cb9e5942b9b87e1f35b2ba95a0",
       "outputs": [
        {
         "data": {
          "image/png": "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\n",
          "text/plain": "<Figure size 432x288 with 1 Axes>"
         },
         "metadata": {
          "needs_background": "light"
         },
         "output_type": "display_data"
        }
       ]
      }
     },
     "79ff8423023843e98ca81d239c81745d": {
      "model_module": "@jupyter-widgets/base",
      "model_module_version": "1.2.0",
      "model_name": "LayoutModel",
      "state": {}
     },
     "fb7ae93c0bbe41938d92a3e9d65c57d5": {
      "model_module": "@jupyter-widgets/controls",
      "model_module_version": "1.5.0",
      "model_name": "VBoxModel",
      "state": {
       "_dom_classes": [
        "widget-interact"
       ],
       "layout": "IPY_MODEL_79ff8423023843e98ca81d239c81745d"
      }
     }
    },
    "version_major": 2,
    "version_minor": 0
   }
  }
 },
 "nbformat": 4,
 "nbformat_minor": 4
}
