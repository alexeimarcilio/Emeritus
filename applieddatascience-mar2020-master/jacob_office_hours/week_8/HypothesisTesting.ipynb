{
 "cells": [
  {
   "cell_type": "markdown",
   "metadata": {},
   "source": [
    "# Hypothesis Testing - Week 7"
   ]
  },
  {
   "cell_type": "markdown",
   "metadata": {},
   "source": [
    "## Review of notation"
   ]
  },
  {
   "cell_type": "markdown",
   "metadata": {},
   "source": [
    "* ### $\\bar{x}$ - Sample mean\n",
    "* ### $\\mu$ - Population mean\n",
    "\n",
    "* ### $s$ - Sample standard deviation\n",
    "* ### $\\sigma$ - Population standard deviation\n",
    "\n",
    "* ### $s^2$ - Sample variance\n",
    "* ### $\\sigma^2$ - Population variance\n",
    "\n",
    "* ### $n$ - Sample size\n",
    "\n",
    "* ### $\\alpha$ - Significance level, probability of rejecting the null hypothesis when it is true\n",
    "* ### $Z_{\\alpha/2}$ - alpha level Z-Score for a two-tailed test\n",
    "* ### $t_{\\alpha/2}$ - alpha level t-value for a two-tailed test\n",
    "\n",
    "* ### $\\hat{p} \\pm Z_{\\alpha/2} \\sqrt{\\frac{\\hat{p}(1-\\hat{p})}{n}}$ - Calculating confidence interval for a proportion\n",
    "* ### $\\bar{x} \\pm t_{\\alpha/2} \\frac{s}{\\sqrt{n}}$ - Calculating confidence interval under the Student's t-distribution\n",
    "* ### $\\bar{x} \\pm Z_{\\alpha/2} \\frac{s}{\\sqrt{n}}$ - Calculating confidence interval under the Normal distribution\n",
    "* ### $\\bar{d} \\pm t_{\\alpha/2} \\frac{s_d}{\\sqrt{n}}$ - Calculating confidence interval for a difference in two means under the t-distribution\n",
    "* ### $\\bar{X} - \\bar{Y} \\pm t_{\\alpha/2} \\sqrt{\\frac{s_x^2}{n} + \\frac{s_y^2}{n}}$ - Calculating confidence interval for a difference in means\n",
    "* ### $\\hat{p_1} - \\hat{p_2} \\pm Z_{\\alpha/2} \\sqrt{\\frac{\\hat{p_1}(1-\\hat{p_1})}{n_1} + \\frac{\\hat{p_2}(1-\\hat{p_2})}{n_2}}$ - Calculating confidence interval for a difference in proportion\n",
    "\n"
   ]
  },
  {
   "cell_type": "markdown",
   "metadata": {},
   "source": [
    "# Conceptual Review"
   ]
  },
  {
   "cell_type": "markdown",
   "metadata": {},
   "source": [
    "## Quick note on when you would use a one-tailed test or a two-tailed test\n",
    "* #####  A one tailed test might be if the null hypothesis is that an area has experienced growth in the last couple years.\n",
    "* #####  Here, we're not testing whether there is growth or decay, we only want statistically significant results for growth.\n",
    "\n",
    "## Area in the tails to get our 95% confidence interval for a two-tailed test\n"
   ]
  },
  {
   "cell_type": "markdown",
   "metadata": {},
   "source": [
    "<img src=\"z of 196.png\">"
   ]
  },
  {
   "cell_type": "markdown",
   "metadata": {},
   "source": [
    "<img src=\"z of negative 196.png\">"
   ]
  },
  {
   "cell_type": "markdown",
   "metadata": {},
   "source": [
    "<img src=\"95 confidence.png\">"
   ]
  },
  {
   "cell_type": "markdown",
   "metadata": {},
   "source": [
    "# Finding p-values and multipliers"
   ]
  },
  {
   "cell_type": "code",
   "execution_count": 61,
   "metadata": {},
   "outputs": [
    {
     "data": {
      "text/plain": [
       "1.959963984540054"
      ]
     },
     "execution_count": 61,
     "metadata": {},
     "output_type": "execute_result"
    }
   ],
   "source": [
    "import scipy.stats as sc\n",
    "\n",
    "### Get the Z-Score for alpha = 0.05, two-tailed\n",
    "\n",
    "sc.norm.ppf(.975)"
   ]
  },
  {
   "cell_type": "code",
   "execution_count": 62,
   "metadata": {},
   "outputs": [
    {
     "data": {
      "text/plain": [
       "2.1788128296634177"
      ]
     },
     "execution_count": 62,
     "metadata": {},
     "output_type": "execute_result"
    }
   ],
   "source": [
    "### Get the t-value for alpha = 0.05, two-tailed\n",
    "\n",
    "sc.t.ppf(.975, 12)"
   ]
  },
  {
   "cell_type": "code",
   "execution_count": null,
   "metadata": {},
   "outputs": [],
   "source": [
    "### Find alpha for a given the Z-score for a one-tailed test\n",
    "\n",
    "1- sc.norm.cdf(1.96)"
   ]
  },
  {
   "cell_type": "code",
   "execution_count": 63,
   "metadata": {},
   "outputs": [
    {
     "data": {
      "text/plain": [
       "0.04999579029644097"
      ]
     },
     "execution_count": 63,
     "metadata": {},
     "output_type": "execute_result"
    }
   ],
   "source": [
    "### Find alpha for a given the Z-score for a two-tailed test\n",
    "\n",
    "2*(1 - sc.norm.cdf(1.96))"
   ]
  },
  {
   "cell_type": "code",
   "execution_count": 64,
   "metadata": {},
   "outputs": [
    {
     "data": {
      "text/plain": [
       "0.04999579029644092"
      ]
     },
     "execution_count": 64,
     "metadata": {},
     "output_type": "execute_result"
    }
   ],
   "source": [
    "sc.norm.cdf(-1.96) + (1 - sc.norm.cdf(1.96))"
   ]
  },
  {
   "cell_type": "code",
   "execution_count": null,
   "metadata": {},
   "outputs": [],
   "source": [
    "### Find alpha given a t-value and degrees of freedom for both tails\n",
    "### Degrees of freedom will be n-1 in this type of scenario\n",
    "\n",
    "2*(1 - sc.t.cdf(1.96, 100000))"
   ]
  },
  {
   "cell_type": "code",
   "execution_count": null,
   "metadata": {},
   "outputs": [],
   "source": [
    "### Find alpha given a t-value and degrees of freedom\n",
    "\n",
    "sc.t.cdf(-1.96, 100000)"
   ]
  },
  {
   "cell_type": "code",
   "execution_count": null,
   "metadata": {},
   "outputs": [],
   "source": [
    "### Find alpha given a t-value and degrees of freedom\n",
    "\n",
    "1 - sc.t.cdf(2.624, 14)"
   ]
  },
  {
   "cell_type": "markdown",
   "metadata": {},
   "source": [
    "## Practice 1"
   ]
  },
  {
   "cell_type": "markdown",
   "metadata": {},
   "source": [
    "##### After reviewing a website test for a week, \n",
    "##### you've noticed that in the test cell 20% of customers are converting (buying a product)\n",
    "##### The sample standard deviation of your sample is 5, and you've had 10,000 site visits in the test cell.\n",
    "##### You'd like to create a 95% confidence interval and round your output to 3 decimal places"
   ]
  },
  {
   "cell_type": "code",
   "execution_count": 65,
   "metadata": {},
   "outputs": [
    {
     "name": "stdout",
     "output_type": "stream",
     "text": [
      "0.298\n",
      "0.102\n"
     ]
    }
   ],
   "source": [
    "import math \n",
    "sample_mean = .2\n",
    "sample_standard_dev = 5\n",
    "n = 10000\n",
    "\n",
    "upper_bound = .2+1.96*(sample_standard_dev/math.sqrt(n))\n",
    "lower_bound = .2-1.96*(sample_standard_dev/math.sqrt(n))\n",
    "\n",
    "print(round(upper_bound, 4))\n",
    "print(round(lower_bound, 4))"
   ]
  },
  {
   "cell_type": "markdown",
   "metadata": {},
   "source": [
    "## Practice 2\n",
    "##### Build a function that takes in a list of numbers as input \n",
    "##### return the variance of those numbers\n",
    "##### NumPy statistics functions reference:  https://docs.scipy.org/doc/numpy-1.13.0/reference/routines.statistics.html"
   ]
  },
  {
   "cell_type": "code",
   "execution_count": 66,
   "metadata": {},
   "outputs": [],
   "source": [
    "import numpy as np\n",
    "\n",
    "def variance(list):\n",
    "    return np.var(list)"
   ]
  },
  {
   "cell_type": "code",
   "execution_count": 67,
   "metadata": {},
   "outputs": [
    {
     "name": "stdout",
     "output_type": "stream",
     "text": [
      "0.96\n"
     ]
    }
   ],
   "source": [
    "var_list = [3.3,4.3,5.4,3.2,3.4,3.4,5.1,2.3]\n",
    "print(round(variance(var_list),2))"
   ]
  },
  {
   "cell_type": "markdown",
   "metadata": {},
   "source": [
    "## Practice 3\n",
    "##### Build a function that takes two inputs, a list of numbers and the Z-Score for a two-tailed hypothesis test\n",
    "##### Return the upper and lower bound of a 95% confidence interval as a tuple\n",
    "##### Due to the small sample size in our list, we should be using a t-distribution here."
   ]
  },
  {
   "cell_type": "code",
   "execution_count": 68,
   "metadata": {},
   "outputs": [],
   "source": [
    "def confidence_interval(list, Zscore):\n",
    "    samp_mean = np.mean(list)\n",
    "    samp_sd = np.std(list)\n",
    "    samp_size = len(list)\n",
    "    print(samp_mean)\n",
    "    print(samp_sd)\n",
    "    print(samp_size)\n",
    "    interval = Zscore * (samp_sd/(samp_size)**.5)\n",
    "    return (samp_mean - interval, samp_mean + interval)\n",
    "    "
   ]
  },
  {
   "cell_type": "code",
   "execution_count": 69,
   "metadata": {},
   "outputs": [
    {
     "name": "stdout",
     "output_type": "stream",
     "text": [
      "3.8000000000000003\n",
      "0.9797958971132713\n",
      "8\n",
      "(3.121036083433, 4.478963916567)\n"
     ]
    }
   ],
   "source": [
    "print(confidence_interval(var_list, 1.96))"
   ]
  },
  {
   "cell_type": "markdown",
   "metadata": {},
   "source": [
    "## Practice 4\n",
    "##### Build a function that takes three inputs, a 2 lists of numbers and the t-value for the confidence of a two-tailed hypothesis test\n",
    "##### Return the upper and lower bound of the confidence interval of the pair-wise difference as a tuple"
   ]
  },
  {
   "cell_type": "code",
   "execution_count": 70,
   "metadata": {},
   "outputs": [],
   "source": [
    "def paired_t_test(list1, list2, tval):\n",
    "    #calculate differences\n",
    "    diff = [x-y for x,y in zip(list1, list2)]\n",
    "    ## calculate stats needed for confidence interval\n",
    "    samp_mean = np.mean(diff)\n",
    "    samp_var1 = np.var(list1)\n",
    "    samp_var2 = np.var(list2)\n",
    "    sample_size = len(diff)\n",
    "    print(len(diff))\n",
    "    interval = tval * (((samp_var1/sample_size) + (samp_var2/sample_size))**.5)\n",
    "    \n",
    "    return(samp_mean-interval, samp_mean+interval)"
   ]
  },
  {
   "cell_type": "code",
   "execution_count": 75,
   "metadata": {},
   "outputs": [
    {
     "name": "stdout",
     "output_type": "stream",
     "text": [
      "15\n"
     ]
    },
    {
     "data": {
      "text/plain": [
       "(0.5195286288248854, 2.4004713711751147)"
      ]
     },
     "execution_count": 75,
     "metadata": {},
     "output_type": "execute_result"
    }
   ],
   "source": [
    "test1 = [4.3,5.6,3,7,4,5,6,4,5,3,6,4,3,1,7]\n",
    "test2 = [1,4,2,5,3,4,5,2,3,1,4,3,4,2,3]\n",
    "tval = 1.8\n",
    "\n",
    "paired_t_test(test1, test2, tval)\n",
    "\n"
   ]
  },
  {
   "cell_type": "markdown",
   "metadata": {},
   "source": [
    "##### What was the alpha level in the above test?"
   ]
  },
  {
   "cell_type": "code",
   "execution_count": 76,
   "metadata": {},
   "outputs": [
    {
     "data": {
      "text/plain": [
       "0.09344031049455048"
      ]
     },
     "execution_count": 76,
     "metadata": {},
     "output_type": "execute_result"
    }
   ],
   "source": [
    "2*(1 - sc.t.cdf(1.8, 15-1))"
   ]
  },
  {
   "cell_type": "markdown",
   "metadata": {},
   "source": [
    "## Practice 5\n",
    "##### Given the table below with information from two samples\n",
    "##### Determine if there is a difference between the two means at 95% confidence using a paired t-test\n",
    "\n",
    "<img src=\"Webinar table.png\">\n",
    "\n",
    "## $\\bar{X} - \\bar{Y} \\pm t_{\\alpha/2} \\sqrt{\\frac{s_x^2}{n} + \\frac{s_y^2}{n}}$\n"
   ]
  },
  {
   "cell_type": "code",
   "execution_count": 77,
   "metadata": {},
   "outputs": [],
   "source": [
    "mean1 = 45.6\n",
    "mean2 = 48.9\n",
    "var1 = 3.2**2\n",
    "var2 = 4.2**2\n",
    "n = 10000\n",
    "dof = 10000-1"
   ]
  },
  {
   "cell_type": "code",
   "execution_count": null,
   "metadata": {},
   "outputs": [],
   "source": [
    "## Xbar - Ybar\n",
    "diff = mean1 - mean2\n",
    "\n",
    "## t multiplier\n",
    "t_val = sc.t.ppf(.975, dof)\n",
    "\n",
    "## standard deviation\n",
    "std_dev = ((var1/n)+(var2/n))**.5\n"
   ]
  },
  {
   "cell_type": "code",
   "execution_count": 81,
   "metadata": {},
   "outputs": [
    {
     "name": "stdout",
     "output_type": "stream",
     "text": [
      "0.016939693969396957\n",
      "0.12044129064790679\n",
      "-0.08656190270911288\n"
     ]
    }
   ],
   "source": [
    "### create the interval\n",
    "\n",
    "upper = diff + t_val*std_dev\n",
    "\n",
    "lower = diff - t_val*std_dev\n",
    "\n",
    "print(diff)\n",
    "print(upper)\n",
    "print(lower)"
   ]
  },
  {
   "cell_type": "markdown",
   "metadata": {},
   "source": [
    "## Practice 6\n",
    "##### The marketing team is testing a change to the UI of their website\n",
    "##### In the test group 546 customers converted out of 3,300 visitors to the site\n",
    "##### In the control group 450 customers converted out of 3,030 visitors to the site\n",
    "##### Determine if the two proportions are different at the 95% significance level\n",
    "\n",
    "## $\\hat{p_1} - \\hat{p_2} \\pm Z_{\\alpha/2} \\sqrt{\\frac{\\hat{p_1}(1-\\hat{p_1})}{n_1} + \\frac{\\hat{p_2}(1-\\hat{p_2})}{n_2}}$\n",
    "\n",
    "\n",
    "\n"
   ]
  },
  {
   "cell_type": "code",
   "execution_count": 82,
   "metadata": {},
   "outputs": [],
   "source": [
    "test_prop = 546/3300\n",
    "control_prop = 450/3030\n",
    "test_var = test_prop*(1-test_prop)\n",
    "control_var = control_prop*(1-control_prop)\n",
    "test_n = 3300\n",
    "control_n = 3030\n"
   ]
  },
  {
   "cell_type": "code",
   "execution_count": 83,
   "metadata": {},
   "outputs": [],
   "source": [
    "diff = test_prop - control_prop\n",
    "Z = 1.96\n",
    "stddev = (test_var/test_n + control_var/control_n)**.5"
   ]
  },
  {
   "cell_type": "code",
   "execution_count": 84,
   "metadata": {},
   "outputs": [
    {
     "name": "stdout",
     "output_type": "stream",
     "text": [
      "(-0.0009787799927118111, 0.03485816793150573)\n"
     ]
    }
   ],
   "source": [
    "### computer bounds\n",
    "upper = diff + Z*stddev\n",
    "lower = diff - Z*stddev\n",
    "\n",
    "print((lower, upper))\n"
   ]
  },
  {
   "cell_type": "markdown",
   "metadata": {},
   "source": [
    "# Blog Articles\n",
    "https://datamovesme.com/2018/07/02/learning-with-a-b-testing/\n",
    "\n",
    "https://datamovesme.com/2018/10/01/setting-your-hypothesis-test-up-for-success/"
   ]
  }
 ],
 "metadata": {
  "kernelspec": {
   "display_name": "Python 3",
   "language": "python",
   "name": "python3"
  },
  "language_info": {
   "codemirror_mode": {
    "name": "ipython",
    "version": 3
   },
   "file_extension": ".py",
   "mimetype": "text/x-python",
   "name": "python",
   "nbconvert_exporter": "python",
   "pygments_lexer": "ipython3",
   "version": "3.7.4"
  },
  "widgets": {
   "application/vnd.jupyter.widget-state+json": {
    "state": {},
    "version_major": 2,
    "version_minor": 0
   }
  }
 },
 "nbformat": 4,
 "nbformat_minor": 4
}
