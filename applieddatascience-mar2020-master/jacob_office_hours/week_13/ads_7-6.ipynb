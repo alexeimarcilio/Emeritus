{
 "cells": [
  {
   "cell_type": "markdown",
   "metadata": {},
   "source": [
    "### Office Hours 07-06 Jacob"
   ]
  },
  {
   "cell_type": "code",
   "execution_count": 60,
   "metadata": {},
   "outputs": [],
   "source": [
    "import pandas as pd\n",
    "import numpy as np\n",
    "%matplotlib inline\n",
    "import matplotlib.pyplot as plt"
   ]
  },
  {
   "cell_type": "code",
   "execution_count": 61,
   "metadata": {},
   "outputs": [],
   "source": [
    "outcomes = np.arange(20, 320, 20)\n",
    "prob1 = [0.0144, 0.0714, 0.08, .0875, .2127, .1032, .1039, .0821, 0.088, 0.134, .005, .0029, 0.0005, 0.0002, 0.0137]"
   ]
  },
  {
   "cell_type": "code",
   "execution_count": 62,
   "metadata": {},
   "outputs": [],
   "source": [
    "atm = pd.DataFrame({'outcomes': outcomes, 'probs': prob1})"
   ]
  },
  {
   "cell_type": "code",
   "execution_count": 65,
   "metadata": {},
   "outputs": [],
   "source": [
    "nums = np.random.random(size = 1000)"
   ]
  },
  {
   "cell_type": "code",
   "execution_count": 66,
   "metadata": {},
   "outputs": [
    {
     "data": {
      "text/plain": [
       "(array([110., 100.,  90.,  96.,  89., 104., 116.,  95., 106.,  94.]),\n",
       " array([5.57013947e-04, 1.00385620e-01, 2.00214226e-01, 3.00042832e-01,\n",
       "        3.99871438e-01, 4.99700043e-01, 5.99528649e-01, 6.99357255e-01,\n",
       "        7.99185861e-01, 8.99014467e-01, 9.98843073e-01]),\n",
       " <a list of 10 Patch objects>)"
      ]
     },
     "execution_count": 66,
     "metadata": {},
     "output_type": "execute_result"
    },
    {
     "data": {
      "image/png": "[encoded data removed]",
      "text/plain": [
       "<Figure size 432x288 with 1 Axes>"
      ]
     },
     "metadata": {
      "needs_background": "light"
     },
     "output_type": "display_data"
    }
   ],
   "source": [
    "plt.hist(nums)"
   ]
  },
  {
   "cell_type": "code",
   "execution_count": 68,
   "metadata": {},
   "outputs": [],
   "source": [
    "sample_means = []\n",
    "for i in range(1000):\n",
    "    samp = np.random.choice(nums, 10)\n",
    "    sample_means.append(np.mean(samp))"
   ]
  },
  {
   "cell_type": "code",
   "execution_count": 70,
   "metadata": {},
   "outputs": [],
   "source": [
    "from ipywidgets import interact\n",
    "import ipywidgets as widgets"
   ]
  },
  {
   "cell_type": "code",
   "execution_count": 69,
   "metadata": {},
   "outputs": [
    {
     "data": {
      "text/plain": [
       "(array([  3.,   6.,  26., 125., 217., 249., 226., 109.,  29.,  10.]),\n",
       " array([0.17242977, 0.2324197 , 0.29240963, 0.35239955, 0.41238948,\n",
       "        0.47237941, 0.53236934, 0.59235926, 0.65234919, 0.71233912,\n",
       "        0.77232904]),\n",
       " <a list of 10 Patch objects>)"
      ]
     },
     "execution_count": 69,
     "metadata": {},
     "output_type": "execute_result"
    },
    {
     "data": {
      "image/png": "[encoded data removed]",
      "text/plain": [
       "<Figure size 432x288 with 1 Axes>"
      ]
     },
     "metadata": {
      "needs_background": "light"
     },
     "output_type": "display_data"
    }
   ],
   "source": [
    "plt.hist(sample_means)"
   ]
  },
  {
   "cell_type": "code",
   "execution_count": 53,
   "metadata": {},
   "outputs": [],
   "source": [
    "import scipy.stats as stats"
   ]
  },
  {
   "cell_type": "code",
   "execution_count": 59,
   "metadata": {},
   "outputs": [
    {
     "data": {
      "text/plain": [
       "0.02710516229283999"
      ]
     },
     "execution_count": 59,
     "metadata": {},
     "output_type": "execute_result"
    }
   ],
   "source": [
    "(1- stats.norm.cdf(2.21))*2"
   ]
  },
  {
   "cell_type": "code",
   "execution_count": 75,
   "metadata": {},
   "outputs": [
    {
     "data": {
      "text/plain": [
       "array([0.61830251, 0.65489611, 0.61689024, 0.13672434, 0.02604584,\n",
       "       0.98128535, 0.05055705, 0.85149541, 0.74577601, 0.54946437])"
      ]
     },
     "execution_count": 75,
     "metadata": {},
     "output_type": "execute_result"
    }
   ],
   "source": [
    "nums[:10]"
   ]
  },
  {
   "cell_type": "code",
   "execution_count": 81,
   "metadata": {},
   "outputs": [],
   "source": [
    "def clt(size, samples):\n",
    "    sample_means = []\n",
    "    for i in range(samples):\n",
    "        samp = np.random.choice(nums, size)\n",
    "        sample_means.append(np.mean(samp))\n",
    "    return plt.hist(sample_means);"
   ]
  },
  {
   "cell_type": "code",
   "execution_count": 82,
   "metadata": {},
   "outputs": [
    {
     "data": {
      "application/vnd.jupyter.widget-view+json": {
       "model_id": "e50f2c22a43e4a379245def60e88ab84",
       "version_major": 2,
       "version_minor": 0
      },
      "text/plain": [
       "interactive(children=(IntSlider(value=1, description='size', min=1), IntSlider(value=10, description='samples'…"
      ]
     },
     "metadata": {},
     "output_type": "display_data"
    }
   ],
   "source": [
    "interact(clt, size = widgets.IntSlider(min = 1, max = 100, step = 1),\n",
    "        samples = widgets.IntSlider(min = 10, max = 10_000, step = 1));"
   ]
  },
  {
   "cell_type": "code",
   "execution_count": null,
   "metadata": {},
   "outputs": [],
   "source": []
  }
 ],
 "metadata": {
  "kernelspec": {
   "display_name": "Python 3",
   "language": "python",
   "name": "python3"
  },
  "language_info": {
   "codemirror_mode": {
    "name": "ipython",
    "version": 3
   },
   "file_extension": ".py",
   "mimetype": "text/x-python",
   "name": "python",
   "nbconvert_exporter": "python",
   "pygments_lexer": "ipython3",
   "version": "3.7.4"
  },
  "widgets": {
   "application/vnd.jupyter.widget-state+json": {
    "state": {
     "06c40bdaee484ad8a6d475950369c9f5": {
      "model_module": "@jupyter-widgets/controls",
      "model_module_version": "1.5.0",
      "model_name": "IntSliderModel",
      "state": {
       "description": "size",
       "layout": "IPY_MODEL_3f5b8ba9af314879beece4526808002f",
       "min": 1,
       "style": "IPY_MODEL_a696d0d7357e4086ab0428dd623ce1e0",
       "value": 42
      }
     },
     "06f29977d98d420d9dc8bc04addd46a8": {
      "model_module": "@jupyter-widgets/base",
      "model_module_version": "1.2.0",
      "model_name": "LayoutModel",
      "state": {}
     },
     "0867770decc244d9b182fba709c439fa": {
      "model_module": "@jupyter-widgets/base",
      "model_module_version": "1.2.0",
      "model_name": "LayoutModel",
      "state": {}
     },
     "0af08b2af9464317a938fff798ef9c69": {
      "model_module": "@jupyter-widgets/base",
      "model_module_version": "1.2.0",
      "model_name": "LayoutModel",
      "state": {}
     },
     "0b8a4334ab5942aeaa2f799ddaec9616": {
      "model_module": "@jupyter-widgets/output",
      "model_module_version": "1.0.0",
      "model_name": "OutputModel",
      "state": {
       "layout": "IPY_MODEL_2e4de7bad2c94d6980c3e36885d74457",
       "outputs": [
        {
         "data": {
          "image/png": "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\n",
          "text/plain": "<Figure size 432x288 with 1 Axes>"
         },
         "metadata": {
          "needs_background": "light"
         },
         "output_type": "display_data"
        },
        {
         "data": {
          "text/plain": "(array([1., 0., 0., 0., 1., 1., 2., 0., 2., 3.]),\n array([0.13583674, 0.21937919, 0.30292164, 0.38646409, 0.47000654,\n        0.55354899, 0.63709144, 0.72063389, 0.80417634, 0.88771879,\n        0.97126124]),\n <a list of 10 Patch objects>)"
         },
         "metadata": {},
         "output_type": "display_data"
        }
       ]
      }
     },
     "0c96ea6ece2d41bebe111a6bf0031029": {
      "model_module": "@jupyter-widgets/base",
      "model_module_version": "1.2.0",
      "model_name": "LayoutModel",
      "state": {}
     },
     "14271fcb829b450f93f8fa7fd9226ae7": {
      "model_module": "@jupyter-widgets/controls",
      "model_module_version": "1.5.0",
      "model_name": "VBoxModel",
      "state": {
       "_dom_classes": [
        "widget-interact"
       ],
       "children": [
        "IPY_MODEL_241394b4503a4e15aa0f3812ba541be0",
        "IPY_MODEL_b34c1f6b0ce0482883c8b6404050fb24",
        "IPY_MODEL_4527be88f267464e999e81a91572aa0d"
       ],
       "layout": "IPY_MODEL_c619f02bcf3745c799c021be02e9e9cc"
      }
     },
     "18d336f2f6444808ae28b31431a0c960": {
      "model_module": "@jupyter-widgets/base",
      "model_module_version": "1.2.0",
      "model_name": "LayoutModel",
      "state": {}
     },
     "241394b4503a4e15aa0f3812ba541be0": {
      "model_module": "@jupyter-widgets/controls",
      "model_module_version": "1.5.0",
      "model_name": "IntSliderModel",
      "state": {
       "description": "size",
       "layout": "IPY_MODEL_d45ed5b99e1a40158d9d294b3f63868b",
       "min": 1,
       "style": "IPY_MODEL_a574f25085774c119d61291c49ae8bc8",
       "value": 11
      }
     },
     "27626f0a04a14567922ba7e5879b36a9": {
      "model_module": "@jupyter-widgets/output",
      "model_module_version": "1.0.0",
      "model_name": "OutputModel",
      "state": {
       "layout": "IPY_MODEL_06f29977d98d420d9dc8bc04addd46a8",
       "outputs": [
        {
         "data": {
          "image/png": "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\n",
          "text/plain": "<Figure size 432x288 with 1 Axes>"
         },
         "metadata": {
          "needs_background": "light"
         },
         "output_type": "display_data"
        },
        {
         "data": {
          "text/plain": "(array([ 41.,  74., 135., 323., 595., 556., 327., 147.,  68.,  37.]),\n array([0.0019519 , 0.10151284, 0.20107378, 0.30063472, 0.40019566,\n        0.4997566 , 0.59931754, 0.69887848, 0.79843942, 0.89800036,\n        0.9975613 ]),\n <a list of 10 Patch objects>)"
         },
         "metadata": {},
         "output_type": "display_data"
        }
       ]
      }
     },
     "2a4e3ceb7e7540f1a1ea2388028437f3": {
      "model_module": "@jupyter-widgets/base",
      "model_module_version": "1.2.0",
      "model_name": "LayoutModel",
      "state": {}
     },
     "2e4de7bad2c94d6980c3e36885d74457": {
      "model_module": "@jupyter-widgets/base",
      "model_module_version": "1.2.0",
      "model_name": "LayoutModel",
      "state": {}
     },
     "2fbd935726e945ebb77d69ec7d04b552": {
      "model_module": "@jupyter-widgets/controls",
      "model_module_version": "1.5.0",
      "model_name": "VBoxModel",
      "state": {
       "_dom_classes": [
        "widget-interact"
       ],
       "children": [
        "IPY_MODEL_f893693c875f4b3fa1cac4db0413a4a0",
        "IPY_MODEL_99f41142a53b4f20b8ae5a0477c6cbc6",
        "IPY_MODEL_64630b9a11624647b1a6e0482aeb3fdf"
       ],
       "layout": "IPY_MODEL_d193ad12ba994f90be682c1da4f61523"
      }
     },
     "336ee8bda84a4e4d80677584fd218f47": {
      "model_module": "@jupyter-widgets/controls",
      "model_module_version": "1.5.0",
      "model_name": "SliderStyleModel",
      "state": {
       "description_width": ""
      }
     },
     "3a69c3c796724914b268b2c2031d8920": {
      "model_module": "@jupyter-widgets/controls",
      "model_module_version": "1.5.0",
      "model_name": "VBoxModel",
      "state": {
       "_dom_classes": [
        "widget-interact"
       ],
       "children": [
        "IPY_MODEL_e7a532a4186e40398b2a1917d02f76e6",
        "IPY_MODEL_7fd9c0c448654381a599cb46b1d1e779",
        "IPY_MODEL_27626f0a04a14567922ba7e5879b36a9"
       ],
       "layout": "IPY_MODEL_7decd0a1c7ae411b93821db4fd7fc31e"
      }
     },
     "3a92a14798964bbdbc62fd580e6d741a": {
      "model_module": "@jupyter-widgets/controls",
      "model_module_version": "1.5.0",
      "model_name": "SliderStyleModel",
      "state": {
       "description_width": ""
      }
     },
     "3c69eaf26f814ad4b41bd0c20aa6bfef": {
      "model_module": "@jupyter-widgets/controls",
      "model_module_version": "1.5.0",
      "model_name": "SliderStyleModel",
      "state": {
       "description_width": ""
      }
     },
     "3f5b8ba9af314879beece4526808002f": {
      "model_module": "@jupyter-widgets/base",
      "model_module_version": "1.2.0",
      "model_name": "LayoutModel",
      "state": {}
     },
     "4527be88f267464e999e81a91572aa0d": {
      "model_module": "@jupyter-widgets/output",
      "model_module_version": "1.0.0",
      "model_name": "OutputModel",
      "state": {
       "layout": "IPY_MODEL_bb5f3352d3704509894a781e5e0b510e",
       "outputs": [
        {
         "data": {
          "image/png": "iVBORw0KGgoAAAANSUhEUgAAAXcAAAD4CAYAAAAXUaZHAAAABHNCSVQICAgIfAhkiAAAAAlwSFlzAAALEgAACxIB0t1+/AAAADh0RVh0U29mdHdhcmUAbWF0cGxvdGxpYiB2ZXJzaW9uMy4yLjEsIGh0dHA6Ly9tYXRwbG90bGliLm9yZy+j8jraAAAPLElEQVR4nO3df4xlZ13H8feHrgVBsIUdmrq7MCsskEow1EmtITGEEiyUdJtAmq1GFqxuiOWHQoQFjTUakq0aKkRsstDaJcGWpqJdLYJNgTQYWp1C6U+gS2npblp2oD9QicCSr3/MIbmZznbuzLk/dp95v5LJPec5z7nne3JnP/vkueecSVUhSWrLU6ZdgCRp9Ax3SWqQ4S5JDTLcJalBhrskNWjDtAsA2LhxY83Ozk67DEk6rtx6663fraqZ5bYdE+E+OzvL/Pz8tMuQpONKkgeOts1pGUlqkOEuSQ0y3CWpQYa7JDXIcJekBhnuktQgw12SGmS4S1KDDHdJatAxcYeqtJLZ3ddP7dj37zlnaseW1sqRuyQ1yHCXpAYZ7pLUIMNdkhpkuEtSgwx3SWqQ4S5JDTLcJalBK4Z7kiuSHE5y5zLb3p2kkmzs1pPkw0kOJLk9yenjKFqS9OSGGblfCZy9tDHJFuA1wLcHml8LbOt+dgGX9S9RkrRaK4Z7Vd0EPLLMpkuB9wA10LYd+Hgtuhk4KcmpI6lUkjS0Nc25J9kOHKqqry7ZtAl4cGD9YNe23HvsSjKfZH5hYWEtZUiSjmLV4Z7k6cD7gT/tc+Cq2ltVc1U1NzMz0+etJElLrOWpkC8AtgJfTQKwGfhykjOAQ8CWgb6buzZJ0gSteuReVXdU1XOraraqZlmcejm9qh4G9gNv6q6aORN4vKoeGm3JkqSVDHMp5FXAl4AXJzmY5MIn6f5p4D7gAPBR4PdHUqUkaVVWnJapqgtW2D47sFzARf3LkiT14R2qktQgw12SGmS4S1KDDHdJatBarnPXOja7+/pplyBpCI7cJalBhrskNchwl6QGGe6S1CDDXZIaZLhLUoMMd0lqkOEuSQ0y3CWpQYa7JDXIxw9IK5jWIxfu33POVI6rNjhyl6QGGe6S1CDDXZIaNMwfyL4iyeEkdw60/VWSryW5Pck/JTlpYNv7khxI8vUkvzGuwiVJRzfMyP1K4OwlbTcAL62qlwHfAN4HkOQ0YAfwS90+f5fkhJFVK0kayorhXlU3AY8safv3qjrSrd4MbO6WtwNXV9UPq+pbwAHgjBHWK0kawijm3H8H+LdueRPw4MC2g13bEyTZlWQ+yfzCwsIIypAk/VSvcE/yx8AR4BOr3beq9lbVXFXNzczM9ClDkrTEmm9iSvJm4PXAWVVVXfMhYMtAt81dmyRpgtY0ck9yNvAe4Nyq+sHApv3AjiRPTbIV2Ab8Z/8yJUmrseLIPclVwCuBjUkOAhezeHXMU4EbkgDcXFVvraq7klwD3M3idM1FVfWTcRUvSVreiuFeVRcs03z5k/T/APCBPkVJkvrxDlVJapDhLkkNMtwlqUGGuyQ1yHCXpAYZ7pLUIMNdkhpkuEtSgwx3SWqQ4S5JDTLcJalBhrskNchwl6QGGe6S1CDDXZIaZLhLUoMMd0lqkOEuSQ0y3CWpQSuGe5IrkhxOcudA27OT3JDk3u715K49ST6c5ECS25OcPs7iJUnLG2bkfiVw9pK23cCNVbUNuLFbB3gtsK372QVcNpoyJUmrsWK4V9VNwCNLmrcD+7rlfcB5A+0fr0U3AyclOXVUxUqShrPWOfdTquqhbvlh4JRueRPw4EC/g13bEyTZlWQ+yfzCwsIay5AkLaf3F6pVVUCtYb+9VTVXVXMzMzN9y5AkDVhruH/np9Mt3evhrv0QsGWg3+auTZI0QWsN9/3Azm55J3DdQPubuqtmzgQeH5i+kSRNyIaVOiS5CnglsDHJQeBiYA9wTZILgQeA87vunwZeBxwAfgC8ZQw1S5JWsGK4V9UFR9l01jJ9C7iob1GSYHb39VM57v17zpnKcTVa3qEqSQ0y3CWpQYa7JDXIcJekBhnuktQgw12SGmS4S1KDDHdJapDhLkkNMtwlqUGGuyQ1yHCXpAYZ7pLUIMNdkhpkuEtSgwx3SWqQ4S5JDTLcJalBvcI9yR8muSvJnUmuSvK0JFuT3JLkQJJPJjlxVMVKkoaz5nBPsgl4BzBXVS8FTgB2AJcAl1bVC4FHgQtHUagkaXh9p2U2AD+bZAPwdOAh4FXAtd32fcB5PY8hSVqlNYd7VR0C/hr4Nouh/jhwK/BYVR3puh0ENvUtUpK0On2mZU4GtgNbgV8AngGcvYr9dyWZTzK/sLCw1jIkScvoMy3zauBbVbVQVT8GPgW8Ajipm6YB2AwcWm7nqtpbVXNVNTczM9OjDEnSUn3C/dvAmUmeniTAWcDdwOeBN3Z9dgLX9StRkrRafebcb2Hxi9MvA3d077UXeC/wriQHgOcAl4+gTknSKmxYucvRVdXFwMVLmu8DzujzvpKkfrxDVZIaZLhLUoN6TctoOmZ3Xz/tEiQd4xy5S1KDDHdJapDhLkkNMtwlqUGGuyQ1yHCXpAYZ7pLUIMNdkhpkuEtSgwx3SWqQ4S5JDTLcJalBhrskNchwl6QGGe6S1CDDXZIa1Cvck5yU5NokX0tyT5JfS/LsJDckubd7PXlUxUqShtN35P4h4DNV9RLgl4F7gN3AjVW1DbixW5ckTdCawz3JzwO/DlwOUFU/qqrHgO3Avq7bPuC8vkVKklanz8h9K7AA/H2SryT5WJJnAKdU1UNdn4eBU5bbOcmuJPNJ5hcWFnqUIUlaqk+4bwBOBy6rqpcD/8uSKZiqKqCW27mq9lbVXFXNzczM9ChDkrRUn3A/CBysqlu69WtZDPvvJDkVoHs93K9ESdJqrTncq+ph4MEkL+6azgLuBvYDO7u2ncB1vSqUJK3ahp77vx34RJITgfuAt7D4H8Y1SS4EHgDO73kMSdIq9Qr3qroNmFtm01l93leS1I93qEpSgwx3SWqQ4S5JDTLcJalBhrskNchwl6QGGe6S1CDDXZIaZLhLUoMMd0lqkOEuSQ0y3CWpQYa7JDXIcJekBhnuktQgw12SGmS4S1KDDHdJapDhLkkN6h3uSU5I8pUk/9qtb01yS5IDST7Z/fFsSdIEjWLk/k7gnoH1S4BLq+qFwKPAhSM4hiRpFTb02TnJZuAc4APAu5IEeBXwm12XfcCfAZf1OY6kyZndff3Ujn3/nnOmduzW9Ap34G+A9wDP7NafAzxWVUe69YPApuV2TLIL2AXwvOc9r2cZ0zHNfwSS9GTWPC2T5PXA4aq6dS37V9XeqpqrqrmZmZm1liFJWkafkfsrgHOTvA54GvAs4EPASUk2dKP3zcCh/mVKklZjzSP3qnpfVW2uqllgB/C5qvot4PPAG7tuO4HrelcpSVqVcVzn/l4Wv1w9wOIc/OVjOIYk6Un0/UIVgKr6AvCFbvk+4IxRvK8kaW28Q1WSGmS4S1KDDHdJapDhLkkNMtwlqUGGuyQ1yHCXpAYZ7pLUIMNdkhpkuEtSgwx3SWqQ4S5JDTLcJalBhrskNchwl6QGGe6S1CDDXZIaZLhLUoMMd0lq0JrDPcmWJJ9PcneSu5K8s2t/dpIbktzbvZ48unIlScPoM3I/Ary7qk4DzgQuSnIasBu4saq2ATd265KkCVpzuFfVQ1X15W75v4F7gE3AdmBf120fcF7fIiVJqzOSOfcks8DLgVuAU6rqoW7Tw8ApR9lnV5L5JPMLCwujKEOS1Okd7kl+DvhH4A+q6vuD26qqgFpuv6raW1VzVTU3MzPTtwxJ0oBe4Z7kZ1gM9k9U1ae65u8kObXbfipwuF+JkqTV6nO1TIDLgXuq6oMDm/YDO7vlncB1ay9PkrQWG3rs+wrgt4E7ktzWtb0f2ANck+RC4AHg/H4lSpJWa83hXlVfBHKUzWet9X0lSf15h6okNchwl6QG9ZlzPybM7r5+2iVI0jHHkbskNchwl6QGHffTMpLaMa1p1vv3nDOV446TI3dJapDhLkkNMtwlqUGGuyQ1yHCXpAYZ7pLUIMNdkhpkuEtSgwx3SWqQd6hKWvem+QDCcd0d68hdkhpkuEtSgwx3SWrQ2MI9ydlJvp7kQJLd4zqOJOmJxhLuSU4APgK8FjgNuCDJaeM4liTpicY1cj8DOFBV91XVj4Crge1jOpYkaYlxXQq5CXhwYP0g8KuDHZLsAnZ1q/+T5OtjqmU1NgLfnXYRE+Y5rw/r7ZyPm/PNJb12f/7RNkztOveq2gvsndbxl5Nkvqrmpl3HJHnO68N6O+f1dr7LGde0zCFgy8D65q5NkjQB4wr3/wK2Jdma5ERgB7B/TMeSJC0xlmmZqjqS5G3AZ4ETgCuq6q5xHGvEjqlpognxnNeH9XbO6+18nyBVNe0aJEkj5h2qktQgw12SGrQuw32lRyMkeWuSO5LcluSLLdxdO+zjIJK8IUklOe4vIxvic35zkoXuc74tye9Oo85RGeYzTnJ+kruT3JXkHyZd46gN8RlfOvD5fiPJY9Oocyqqal39sPgF7zeBXwROBL4KnLakz7MGls8FPjPtusd9zl2/ZwI3ATcDc9OuewKf85uBv512rRM8323AV4CTu/XnTrvucZ/zkv5vZ/HijqnXPomf9ThyX/HRCFX1/YHVZwDH+7fOwz4O4i+AS4D/m2RxY7LeHoExzPn+HvCRqnoUoKoOT7jGUVvtZ3wBcNVEKjsGrMdwX+7RCJuWdkpyUZJvAn8JvGNCtY3Liuec5HRgS1VN70/SjNZQnzPwhiS3J7k2yZZlth8vhjnfFwEvSvIfSW5OcvbEqhuPYT9jkjwf2Ap8bgJ1HRPWY7gPpao+UlUvAN4L/Mm06xmnJE8BPgi8e9q1TNi/ALNV9TLgBmDflOsZtw0sTs28ksVR7EeTnDTViiZnB3BtVf1k2oVMynoM99U+GuFq4LyxVjR+K53zM4GXAl9Icj9wJrD/OP9SdcXPuaq+V1U/7FY/BvzKhGobh2F+rw8C+6vqx1X1LeAbLIb98Wo1/5Z3sI6mZGB9hvuKj0ZIMvgLfw5w7wTrG4cnPeeqeryqNlbVbFXNsviF6rlVNT+dckdimM/51IHVc4F7JljfqA3zyI9/ZnHUTpKNLE7T3DfJIkdsqMecJHkJcDLwpQnXN1VTeyrktNRRHo2Q5M+B+araD7wtyauBHwOPAjunV3F/Q55zU4Y853ckORc4AjzC4tUzx6Uhz/ezwGuS3A38BPijqvre9KruZxW/1zuAq6u7ZGa98PEDktSg9TgtI0nNM9wlqUGGuyQ1yHCXpAYZ7pLUIMNdkhpkuEtSg/4fdPbac2qfoOMAAAAASUVORK5CYII=\n",
          "text/plain": "<Figure size 432x288 with 1 Axes>"
         },
         "metadata": {
          "needs_background": "light"
         },
         "output_type": "display_data"
        },
        {
         "data": {
          "text/plain": "(array([ 14.,  40.,  75., 133., 149., 125.,  96.,  41.,  12.,   5.]),\n array([0.26879245, 0.31887406, 0.36895568, 0.4190373 , 0.46911892,\n        0.51920054, 0.56928215, 0.61936377, 0.66944539, 0.71952701,\n        0.76960863]),\n <a list of 10 Patch objects>)"
         },
         "metadata": {},
         "output_type": "display_data"
        }
       ]
      }
     },
     "4db8bdb02fbc46899fab1d1faddf3160": {
      "model_module": "@jupyter-widgets/base",
      "model_module_version": "1.2.0",
      "model_name": "LayoutModel",
      "state": {}
     },
     "4ee556a76ff2482db81167e02402cacf": {
      "model_module": "@jupyter-widgets/controls",
      "model_module_version": "1.5.0",
      "model_name": "IntSliderModel",
      "state": {
       "description": "size",
       "layout": "IPY_MODEL_0c96ea6ece2d41bebe111a6bf0031029",
       "min": 1,
       "style": "IPY_MODEL_883254803ba44854be984465532a4091",
       "value": 16
      }
     },
     "4f442c2241d6478bbb128b9131cfea56": {
      "model_module": "@jupyter-widgets/controls",
      "model_module_version": "1.5.0",
      "model_name": "SliderStyleModel",
      "state": {
       "description_width": ""
      }
     },
     "4f501745653f480182213c82f1b20627": {
      "model_module": "@jupyter-widgets/base",
      "model_module_version": "1.2.0",
      "model_name": "LayoutModel",
      "state": {}
     },
     "4f7f0165fc3945199587a6f14f97ba13": {
      "model_module": "@jupyter-widgets/base",
      "model_module_version": "1.2.0",
      "model_name": "LayoutModel",
      "state": {}
     },
     "51031064ca58405f94a95faa2ba05471": {
      "model_module": "@jupyter-widgets/output",
      "model_module_version": "1.0.0",
      "model_name": "OutputModel",
      "state": {
       "layout": "IPY_MODEL_66f6951643c840969042b83ce5ac9730",
       "outputs": [
        {
         "data": {
          "image/png": "iVBORw0KGgoAAAANSUhEUgAAAX0AAAD4CAYAAAAAczaOAAAABHNCSVQICAgIfAhkiAAAAAlwSFlzAAALEgAACxIB0t1+/AAAADh0RVh0U29mdHdhcmUAbWF0cGxvdGxpYiB2ZXJzaW9uMy4yLjEsIGh0dHA6Ly9tYXRwbG90bGliLm9yZy+j8jraAAAPp0lEQVR4nO3ccaydd13H8feHlWGU6Yotzeyqd5KSWDCO5WbMYHRksnUloRDN0iWwsiyW4GZAiUnBP0YgS0YUSJbMYckaOgOMISA3UJ21ziwYO3oHs6ydc9fRsdayXigOzCI6/PrHeWqOpbf39N5zz9nt7/1KTs5zvs/veZ7fr/f2c577e855UlVIktrwonF3QJI0Ooa+JDXE0Jekhhj6ktQQQ1+SGrJi3B04k1WrVtXExMS4uyFJy8rDDz/8napafbp1L+jQn5iYYHp6etzdkKRlJclTc61zekeSGmLoS1JDDH1JaoihL0kNMfQlqSGGviQ1xNCXpIYY+pLUEENfkhrygv5GrjSfie1fHtuxD9/+xrEdW1ooz/QlqSGGviQ1xNCXpIYY+pLUEENfkhpi6EtSQwx9SWqIoS9JDTH0Jakhhr4kNcTQl6SGGPqS1BBDX5IaYuhLUkO8tbK0QOO6rbO3dNZieKYvSQ0x9CWpIYa+JDVk3tBPsi7JA0kOJTmY5F1d/f1JjiZ5pHts6tvmvUlmkjye5Jq++sauNpNk+9IMSZI0l0Eu5D4PvKeqvpbkAuDhJHu6dR+tqj/pb5xkA7AFeBXwc8DfJnllt/pO4A3AEWB/kqmqOjSMgUiS5jdv6FfVMeBYt/yDJI8Ba8+wyWbg3qr6IfDNJDPA5d26map6EiDJvV1bQ1+SRuSs5vSTTACvAR7qSrckOZBkZ5KVXW0t8HTfZke62lz1U4+xLcl0kunZ2dmz6Z4kaR4Dh36SlwKfA95dVd8H7gJeAVxK7y+BDw+jQ1W1o6omq2py9erVw9ilJKkz0JezkryYXuB/sqo+D1BVz/St/zjwpe7lUWBd3+YXdzXOUJckjcAgn94JcDfwWFV9pK9+UV+ztwCPdstTwJYkL0lyCbAe+CqwH1if5JIk59O72Ds1nGFIkgYxyJn+64C3Ad9I8khXex9wfZJLgQIOA+8AqKqDSe6jd4H2eeDmqvoRQJJbgPuB84CdVXVwiGORJM1jkE/vfAXIaVbtPsM2twG3naa++0zbSZKWlt/IlaSGGPqS1BBDX5IaYuhLUkMMfUlqiKEvSQ0x9CWpIYa+JDXE0Jekhhj6ktQQQ1+SGmLoS1JDDH1JaoihL0kNMfQlqSGGviQ1xNCXpIYY+pLUEENfkhpi6EtSQwx9SWqIoS9JDTH0Jakhhr4kNcTQl6SGGPqS1BBDX5IaYuhLUkPmDf0k65I8kORQkoNJ3tXVX5ZkT5InuueVXT1J7kgyk+RAksv69rW1a/9Ekq1LNyxJ0ukMcqb/PPCeqtoAXAHcnGQDsB3YW1Xrgb3da4BrgfXdYxtwF/TeJIBbgdcClwO3nnyjkCSNxryhX1XHqupr3fIPgMeAtcBmYFfXbBfw5m55M3BP9ewDLkxyEXANsKeqTlTV94A9wMahjkaSdEZnNaefZAJ4DfAQsKaqjnWrvg2s6ZbXAk/3bXakq81VP/UY25JMJ5menZ09m+5JkuYxcOgneSnwOeDdVfX9/nVVVUANo0NVtaOqJqtqcvXq1cPYpSSpM1DoJ3kxvcD/ZFV9vis/003b0D0f7+pHgXV9m1/c1eaqS5JGZJBP7wS4G3isqj7St2oKOPkJnK3AF/vqN3Sf4rkCeLabBrofuDrJyu4C7tVdTZI0IisGaPM64G3AN5I80tXeB9wO3JfkJuAp4Lpu3W5gEzADPAfcCFBVJ5J8ENjftftAVZ0YyigkSQOZN/Sr6itA5lh91WnaF3DzHPvaCew8mw5KkobHb+RKUkMMfUlqiKEvSQ0x9CWpIYa+JDXE0Jekhhj6ktQQQ1+SGmLoS1JDDH1JaoihL0kNMfQlqSGGviQ1xNCXpIYY+pLUEENfkhpi6EtSQwx9SWqIoS9JDTH0Jakhhr4kNcTQl6SGGPqS1BBDX5IaYuhLUkMMfUlqiKEvSQ0x9CWpIfOGfpKdSY4nebSv9v4kR5M80j029a17b5KZJI8nuaavvrGrzSTZPvyhSJLmM8iZ/ieAjaepf7SqLu0euwGSbAC2AK/qtvnTJOclOQ+4E7gW2ABc37WVJI3QivkaVNWDSSYG3N9m4N6q+iHwzSQzwOXdupmqehIgyb1d20Nn3WNJ0oItZk7/liQHuumflV1tLfB0X5sjXW2u+o9Jsi3JdJLp2dnZRXRPknSqhYb+XcArgEuBY8CHh9WhqtpRVZNVNbl69eph7VaSxADTO6dTVc+cXE7yceBL3cujwLq+phd3Nc5QlySNyILO9JNc1PfyLcDJT/ZMAVuSvCTJJcB64KvAfmB9kkuSnE/vYu/UwrstSVqIec/0k3wauBJYleQIcCtwZZJLgQIOA+8AqKqDSe6jd4H2eeDmqvpRt59bgPuB84CdVXVw6KORJJ3RIJ/euf405bvP0P424LbT1HcDu8+qd5KkofIbuZLUEENfkhpi6EtSQwx9SWqIoS9JDTH0Jakhhr4kNcTQl6SGGPqS1BBDX5IaYuhLUkMMfUlqiKEvSQ0x9CWpIYa+JDXE0Jekhhj6ktQQQ1+SGmLoS1JDDH1JaoihL0kNMfQlqSGGviQ1xNCXpIYY+pLUEENfkhpi6EtSQwx9SWrIvKGfZGeS40ke7au9LMmeJE90zyu7epLckWQmyYEkl/Vts7Vr/0SSrUszHEnSmQxypv8JYOMpte3A3qpaD+ztXgNcC6zvHtuAu6D3JgHcCrwWuBy49eQbhSRpdOYN/ap6EDhxSnkzsKtb3gW8ua9+T/XsAy5MchFwDbCnqk5U1feAPfz4G4kkaYktdE5/TVUd65a/DazpltcCT/e1O9LV5qr/mCTbkkwnmZ6dnV1g9yRJp7PoC7lVVUANoS8n97ejqiaranL16tXD2q0kiYWH/jPdtA3d8/GufhRY19fu4q42V12SNEILDf0p4OQncLYCX+yr39B9iucK4NluGuh+4OokK7sLuFd3NUnSCK2Yr0GSTwNXAquSHKH3KZzbgfuS3AQ8BVzXNd8NbAJmgOeAGwGq6kSSDwL7u3YfqKpTLw5LkpbYvKFfVdfPseqq07Qt4OY59rMT2HlWvZMkDZXfyJWkhhj6ktQQQ1+SGmLoS1JDDH1JaoihL0kNMfQlqSGGviQ1xNCXpIYY+pLUEENfkhpi6EtSQwx9SWqIoS9JDTH0Jakhhr4kNcTQl6SGGPqS1BBDX5IaYuhLUkMMfUlqiKEvSQ0x9CWpIYa+JDXE0Jekhhj6ktQQQ1+SGmLoS1JDFhX6SQ4n+UaSR5JMd7WXJdmT5InueWVXT5I7kswkOZDksmEMQJI0uGGc6b++qi6tqsnu9XZgb1WtB/Z2rwGuBdZ3j23AXUM4tiTpLCzF9M5mYFe3vAt4c1/9nurZB1yY5KIlOL4kaQ6LDf0C/ibJw0m2dbU1VXWsW/42sKZbXgs83bftka72/yTZlmQ6yfTs7OwiuydJ6rdikdv/WlUdTfJyYE+Sf+5fWVWVpM5mh1W1A9gBMDk5eVbbanwmtn953F2QNIBFnelX1dHu+TjwBeBy4JmT0zbd8/Gu+VFgXd/mF3c1SdKILDj0k/xUkgtOLgNXA48CU8DWrtlW4Ivd8hRwQ/cpniuAZ/umgSRJI7CY6Z01wBeSnNzPp6rqr5PsB+5LchPwFHBd1343sAmYAZ4DblzEsaVmjXMq7fDtbxzbsTUcCw79qnoS+JXT1L8LXHWaegE3L/R4kqTF8xu5ktQQQ1+SGmLoS1JDDH1JaoihL0kNMfQlqSGGviQ1xNCXpIYY+pLUEENfkhpi6EtSQwx9SWqIoS9JDTH0Jakhhr4kNcTQl6SGGPqS1BBDX5IaYuhLUkMMfUlqiKEvSQ0x9CWpIYa+JDXE0JekhqwYdwc0XBPbvzzuLugcNq7fr8O3v3Esxz0XeaYvSQ0x9CWpIU7vSHrBG+e05bk2tTTyM/0kG5M8nmQmyfZRH1+SWjbSM/0k5wF3Am8AjgD7k0xV1aGlOJ4XNSUt1rl28XrUZ/qXAzNV9WRV/RdwL7B5xH2QpGaNek5/LfB03+sjwGv7GyTZBmzrXv5HkscXeKxVwHcWuO1y5Zjb4JgbkA8tasy/MNeKF9yF3KraAexY7H6STFfV5BC6tGw45jY45jYs1ZhHPb1zFFjX9/ririZJGoFRh/5+YH2SS5KcD2wBpkbcB0lq1kind6rq+SS3APcD5wE7q+rgEh1u0VNEy5BjboNjbsOSjDlVtRT7lSS9AHkbBklqiKEvSQ1Z9qE/320dkrwkyWe69Q8lmRh9L4drgDH/QZJDSQ4k2Ztkzs/sLheD3r4jyW8lqSTL/uN9g4w5yXXdz/pgkk+Nuo/DNsDv9s8neSDJ17vf703j6OcwJdmZ5HiSR+dYnyR3dP8mB5JctqgDVtWyfdC7GPyvwC8C5wP/BGw4pc3vAh/rlrcAnxl3v0cw5tcDP9ktv7OFMXftLgAeBPYBk+Pu9wh+zuuBrwMru9cvH3e/RzDmHcA7u+UNwOFx93sI4/514DLg0TnWbwL+CghwBfDQYo633M/0B7mtw2ZgV7f8F8BVSTLCPg7bvGOuqgeq6rnu5T5634dYzga9fccHgQ8B/znKzi2RQcb8O8CdVfU9gKo6PuI+DtsgYy7gp7vlnwH+bYT9WxJV9SBw4gxNNgP3VM8+4MIkFy30eMs99E93W4e1c7WpqueBZ4GfHUnvlsYgY+53E72zhOVs3jF3f/Kuq6pz5S57g/ycXwm8Msk/JNmXZOPIerc0Bhnz+4G3JjkC7AZ+bzRdG6uz/T9/Ri+42zBoeJK8FZgEfmPcfVlKSV4EfAR4+5i7Mmor6E3xXEnvr7kHk/xyVf37WHu1tK4HPlFVH07yq8CfJ3l1Vf3PuDu2XCz3M/1Bbuvwf22SrKD3J+F3R9K7pTHQrSyS/CbwR8CbquqHI+rbUplvzBcArwb+PslhevOeU8v8Yu4gP+cjwFRV/XdVfRP4F3pvAsvVIGO+CbgPoKr+EfgJejdjO5cN9fY1yz30B7mtwxSwtVv+beDvqrs6skzNO+YkrwH+jF7gL/d5XphnzFX1bFWtqqqJqpqgdx3jTVU1PZ7uDsUgv9t/Se8snySr6E33PDnKTg7ZIGP+FnAVQJJfohf6syPt5ehNATd0n+K5Ani2qo4tdGfLenqn5ritQ5IPANNVNQXcTe9PwBl6F0u2jK/HizfgmP8YeCnw2e6a9beq6k1j6/QiDTjmc8qAY74fuDrJIeBHwB9W1bL9K3bAMb8H+HiS36d3Uffty/wkjiSfpvfmvaq7VnEr8GKAqvoYvWsXm4AZ4DngxkUdb5n/e0mSzsJyn96RJJ0FQ1+SGmLoS1JDDH1JaoihL0kNMfQlqSGGviQ15H8BLBYzymZ3A20AAAAASUVORK5CYII=\n",
          "text/plain": "<Figure size 432x288 with 1 Axes>"
         },
         "metadata": {
          "needs_background": "light"
         },
         "output_type": "display_data"
        },
        {
         "data": {
          "text/plain": "(array([  22.,   30.,   95.,  487., 2805., 2596.,  445.,   96.,   48.,\n          22.]),\n array([0.00139063, 0.10113588, 0.20088112, 0.30062637, 0.40037161,\n        0.50011685, 0.5998621 , 0.69960734, 0.79935259, 0.89909783,\n        0.99884307]),\n <a list of 10 Patch objects>)"
         },
         "metadata": {},
         "output_type": "display_data"
        }
       ]
      }
     },
     "54d9f2fc78e449f2a9d3feaaac0e0a55": {
      "model_module": "@jupyter-widgets/output",
      "model_module_version": "1.0.0",
      "model_name": "OutputModel",
      "state": {
       "layout": "IPY_MODEL_2a4e3ceb7e7540f1a1ea2388028437f3",
       "outputs": [
        {
         "data": {
          "image/png": "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\n",
          "text/plain": "<Figure size 432x288 with 1 Axes>"
         },
         "metadata": {
          "needs_background": "light"
         },
         "output_type": "display_data"
        },
        {
         "data": {
          "text/plain": "(array([  10.,   72.,  399., 1133., 2071., 2303., 1608.,  642.,  159.,\n          22.]),\n array([0.22815751, 0.28031898, 0.33248045, 0.38464192, 0.43680339,\n        0.48896486, 0.54112632, 0.59328779, 0.64544926, 0.69761073,\n        0.7497722 ]),\n <a list of 10 Patch objects>)"
         },
         "metadata": {},
         "output_type": "display_data"
        }
       ]
      }
     },
     "64630b9a11624647b1a6e0482aeb3fdf": {
      "model_module": "@jupyter-widgets/output",
      "model_module_version": "1.0.0",
      "model_name": "OutputModel",
      "state": {
       "layout": "IPY_MODEL_ec5259c8b347467d87249818ae198dc7",
       "outputs": [
        {
         "data": {
          "image/png": "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\n",
          "text/plain": "<Figure size 432x288 with 1 Axes>"
         },
         "metadata": {
          "needs_background": "light"
         },
         "output_type": "display_data"
        },
        {
         "data": {
          "text/plain": "(array([2.000e+00, 3.300e+01, 2.330e+02, 9.040e+02, 2.159e+03, 2.769e+03,\n        2.043e+03, 8.510e+02, 1.770e+02, 3.200e+01]),\n array([0.36307571, 0.38789548, 0.41271525, 0.43753503, 0.4623548 ,\n        0.48717458, 0.51199435, 0.53681412, 0.5616339 , 0.58645367,\n        0.61127344]),\n <a list of 10 Patch objects>)"
         },
         "metadata": {},
         "output_type": "display_data"
        }
       ]
      }
     },
     "64bebd41f204427b993ceaf3abdabe91": {
      "model_module": "@jupyter-widgets/controls",
      "model_module_version": "1.5.0",
      "model_name": "IntSliderModel",
      "state": {
       "description": "size",
       "layout": "IPY_MODEL_4f501745653f480182213c82f1b20627",
       "min": 1,
       "style": "IPY_MODEL_4f442c2241d6478bbb128b9131cfea56",
       "value": 1
      }
     },
     "66f6951643c840969042b83ce5ac9730": {
      "model_module": "@jupyter-widgets/base",
      "model_module_version": "1.2.0",
      "model_name": "LayoutModel",
      "state": {}
     },
     "68aec7b6e3b04d3c8c5f77ed68984912": {
      "model_module": "@jupyter-widgets/base",
      "model_module_version": "1.2.0",
      "model_name": "LayoutModel",
      "state": {}
     },
     "71a7dfb1137545bc9e749768839a1131": {
      "model_module": "@jupyter-widgets/base",
      "model_module_version": "1.2.0",
      "model_name": "LayoutModel",
      "state": {}
     },
     "7decd0a1c7ae411b93821db4fd7fc31e": {
      "model_module": "@jupyter-widgets/base",
      "model_module_version": "1.2.0",
      "model_name": "LayoutModel",
      "state": {}
     },
     "7fd9c0c448654381a599cb46b1d1e779": {
      "model_module": "@jupyter-widgets/controls",
      "model_module_version": "1.5.0",
      "model_name": "IntSliderModel",
      "state": {
       "description": "samples",
       "layout": "IPY_MODEL_68aec7b6e3b04d3c8c5f77ed68984912",
       "max": 10000,
       "min": 10,
       "style": "IPY_MODEL_3c69eaf26f814ad4b41bd0c20aa6bfef",
       "value": 2620
      }
     },
     "883254803ba44854be984465532a4091": {
      "model_module": "@jupyter-widgets/controls",
      "model_module_version": "1.5.0",
      "model_name": "SliderStyleModel",
      "state": {
       "description_width": ""
      }
     },
     "99f41142a53b4f20b8ae5a0477c6cbc6": {
      "model_module": "@jupyter-widgets/controls",
      "model_module_version": "1.5.0",
      "model_name": "IntSliderModel",
      "state": {
       "description": "samples",
       "layout": "IPY_MODEL_4db8bdb02fbc46899fab1d1faddf3160",
       "max": 10000,
       "min": 10,
       "style": "IPY_MODEL_d1c123ef0e4e4d609e0283955e7b1705",
       "value": 9203
      }
     },
     "9ee09aa5b17948d283e478a0b956d879": {
      "model_module": "@jupyter-widgets/controls",
      "model_module_version": "1.5.0",
      "model_name": "SliderStyleModel",
      "state": {
       "description_width": ""
      }
     },
     "9f9071148c16479cb25bbbe4794147ba": {
      "model_module": "@jupyter-widgets/controls",
      "model_module_version": "1.5.0",
      "model_name": "VBoxModel",
      "state": {
       "_dom_classes": [
        "widget-interact"
       ],
       "children": [
        "IPY_MODEL_4ee556a76ff2482db81167e02402cacf",
        "IPY_MODEL_a47c62213f954dbe9d9cfb5d44cd47f2",
        "IPY_MODEL_54d9f2fc78e449f2a9d3feaaac0e0a55"
       ],
       "layout": "IPY_MODEL_e98ff39800c34b8fb91e092f9104123e"
      }
     },
     "a47c62213f954dbe9d9cfb5d44cd47f2": {
      "model_module": "@jupyter-widgets/controls",
      "model_module_version": "1.5.0",
      "model_name": "IntSliderModel",
      "state": {
       "description": "samples",
       "layout": "IPY_MODEL_0867770decc244d9b182fba709c439fa",
       "max": 10000,
       "min": 10,
       "style": "IPY_MODEL_3a92a14798964bbdbc62fd580e6d741a",
       "value": 8419
      }
     },
     "a574f25085774c119d61291c49ae8bc8": {
      "model_module": "@jupyter-widgets/controls",
      "model_module_version": "1.5.0",
      "model_name": "SliderStyleModel",
      "state": {
       "description_width": ""
      }
     },
     "a696d0d7357e4086ab0428dd623ce1e0": {
      "model_module": "@jupyter-widgets/controls",
      "model_module_version": "1.5.0",
      "model_name": "SliderStyleModel",
      "state": {
       "description_width": ""
      }
     },
     "b34c1f6b0ce0482883c8b6404050fb24": {
      "model_module": "@jupyter-widgets/controls",
      "model_module_version": "1.5.0",
      "model_name": "IntSliderModel",
      "state": {
       "description": "samples",
       "layout": "IPY_MODEL_4f7f0165fc3945199587a6f14f97ba13",
       "max": 10000,
       "min": 10,
       "step": 10,
       "style": "IPY_MODEL_fe400b3f538444ec9a0184b9ec7d8505",
       "value": 690
      }
     },
     "b6d9a00955bc4147be44909554553dfb": {
      "model_module": "@jupyter-widgets/controls",
      "model_module_version": "1.5.0",
      "model_name": "VBoxModel",
      "state": {
       "_dom_classes": [
        "widget-interact"
       ],
       "children": [
        "IPY_MODEL_06c40bdaee484ad8a6d475950369c9f5",
        "IPY_MODEL_f5e6828d49f94170b619016746fe99f3",
        "IPY_MODEL_51031064ca58405f94a95faa2ba05471"
       ],
       "layout": "IPY_MODEL_c8f8d270c5ce4c5b860688a2e7dd73bb"
      }
     },
     "bb5f3352d3704509894a781e5e0b510e": {
      "model_module": "@jupyter-widgets/base",
      "model_module_version": "1.2.0",
      "model_name": "LayoutModel",
      "state": {}
     },
     "c619f02bcf3745c799c021be02e9e9cc": {
      "model_module": "@jupyter-widgets/base",
      "model_module_version": "1.2.0",
      "model_name": "LayoutModel",
      "state": {}
     },
     "c8f8d270c5ce4c5b860688a2e7dd73bb": {
      "model_module": "@jupyter-widgets/base",
      "model_module_version": "1.2.0",
      "model_name": "LayoutModel",
      "state": {}
     },
     "d193ad12ba994f90be682c1da4f61523": {
      "model_module": "@jupyter-widgets/base",
      "model_module_version": "1.2.0",
      "model_name": "LayoutModel",
      "state": {}
     },
     "d1c123ef0e4e4d609e0283955e7b1705": {
      "model_module": "@jupyter-widgets/controls",
      "model_module_version": "1.5.0",
      "model_name": "SliderStyleModel",
      "state": {
       "description_width": ""
      }
     },
     "d45ed5b99e1a40158d9d294b3f63868b": {
      "model_module": "@jupyter-widgets/base",
      "model_module_version": "1.2.0",
      "model_name": "LayoutModel",
      "state": {}
     },
     "e2cf643e9f0a41b8a66622db241640f6": {
      "model_module": "@jupyter-widgets/base",
      "model_module_version": "1.2.0",
      "model_name": "LayoutModel",
      "state": {}
     },
     "e50f2c22a43e4a379245def60e88ab84": {
      "model_module": "@jupyter-widgets/controls",
      "model_module_version": "1.5.0",
      "model_name": "VBoxModel",
      "state": {
       "_dom_classes": [
        "widget-interact"
       ],
       "children": [
        "IPY_MODEL_64bebd41f204427b993ceaf3abdabe91",
        "IPY_MODEL_fe7ebb97cc144af485f69cd443535672",
        "IPY_MODEL_0b8a4334ab5942aeaa2f799ddaec9616"
       ],
       "layout": "IPY_MODEL_18d336f2f6444808ae28b31431a0c960"
      }
     },
     "e7a532a4186e40398b2a1917d02f76e6": {
      "model_module": "@jupyter-widgets/controls",
      "model_module_version": "1.5.0",
      "model_name": "IntSliderModel",
      "state": {
       "description": "size",
       "layout": "IPY_MODEL_71a7dfb1137545bc9e749768839a1131",
       "min": 1,
       "style": "IPY_MODEL_9ee09aa5b17948d283e478a0b956d879",
       "value": 9
      }
     },
     "e92bd5cbac554d73a7216eaacce54925": {
      "model_module": "@jupyter-widgets/base",
      "model_module_version": "1.2.0",
      "model_name": "LayoutModel",
      "state": {}
     },
     "e98ff39800c34b8fb91e092f9104123e": {
      "model_module": "@jupyter-widgets/base",
      "model_module_version": "1.2.0",
      "model_name": "LayoutModel",
      "state": {}
     },
     "eba20f59648e4ee782d247bf3d13b960": {
      "model_module": "@jupyter-widgets/controls",
      "model_module_version": "1.5.0",
      "model_name": "SliderStyleModel",
      "state": {
       "description_width": ""
      }
     },
     "ec5259c8b347467d87249818ae198dc7": {
      "model_module": "@jupyter-widgets/base",
      "model_module_version": "1.2.0",
      "model_name": "LayoutModel",
      "state": {}
     },
     "f5e6828d49f94170b619016746fe99f3": {
      "model_module": "@jupyter-widgets/controls",
      "model_module_version": "1.5.0",
      "model_name": "IntSliderModel",
      "state": {
       "description": "samples",
       "layout": "IPY_MODEL_e2cf643e9f0a41b8a66622db241640f6",
       "max": 10000,
       "min": 10,
       "style": "IPY_MODEL_336ee8bda84a4e4d80677584fd218f47",
       "value": 6809
      }
     },
     "f893693c875f4b3fa1cac4db0413a4a0": {
      "model_module": "@jupyter-widgets/controls",
      "model_module_version": "1.5.0",
      "model_name": "IntSliderModel",
      "state": {
       "description": "size",
       "layout": "IPY_MODEL_0af08b2af9464317a938fff798ef9c69",
       "min": 1,
       "style": "IPY_MODEL_ff9940821e954842a384b926bb463aa8",
       "value": 80
      }
     },
     "fe400b3f538444ec9a0184b9ec7d8505": {
      "model_module": "@jupyter-widgets/controls",
      "model_module_version": "1.5.0",
      "model_name": "SliderStyleModel",
      "state": {
       "description_width": ""
      }
     },
     "fe7ebb97cc144af485f69cd443535672": {
      "model_module": "@jupyter-widgets/controls",
      "model_module_version": "1.5.0",
      "model_name": "IntSliderModel",
      "state": {
       "description": "samples",
       "layout": "IPY_MODEL_e92bd5cbac554d73a7216eaacce54925",
       "max": 10000,
       "min": 10,
       "style": "IPY_MODEL_eba20f59648e4ee782d247bf3d13b960",
       "value": 10
      }
     },
     "ff9940821e954842a384b926bb463aa8": {
      "model_module": "@jupyter-widgets/controls",
      "model_module_version": "1.5.0",
      "model_name": "SliderStyleModel",
      "state": {
       "description_width": ""
      }
     }
    },
    "version_major": 2,
    "version_minor": 0
   }
  }
 },
 "nbformat": 4,
 "nbformat_minor": 4
}
