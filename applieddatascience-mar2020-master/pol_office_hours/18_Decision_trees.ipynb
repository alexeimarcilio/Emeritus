{
 "cells": [
  {
   "cell_type": "code",
   "execution_count": 1,
   "metadata": {},
   "outputs": [],
   "source": [
    "import numpy as np\n",
    "import pandas as pd\n",
    "import scipy.stats as stats\n",
    "import matplotlib.pyplot as plt"
   ]
  },
  {
   "cell_type": "markdown",
   "metadata": {},
   "source": [
    "# Decision trees\n",
    "### CART (Classification And Regression Trees)\n",
    "\n",
    "![titanic](https://cdn.patricktriest.com/blog/images/posts/titanic-ml/decision-tree.png)\n",
    "\n",
    "They look for the variable and threshold value that best partitions the dataset, then do that recursively."
   ]
  },
  {
   "cell_type": "code",
   "execution_count": 2,
   "metadata": {},
   "outputs": [
    {
     "data": {
      "image/png": "[encoded data removed]",
      "text/plain": [
       "<Figure size 432x288 with 1 Axes>"
      ]
     },
     "metadata": {
      "needs_background": "light"
     },
     "output_type": "display_data"
    }
   ],
   "source": [
    "from sklearn.datasets import load_iris\n",
    "\n",
    "x, y = load_iris(return_X_y=True, as_frame=True)\n",
    "\n",
    "plt.scatter(x.iloc[:, 0][y == 0], x.iloc[:, 1][y == 0])\n",
    "plt.scatter(x.iloc[:, 0][y == 1], x.iloc[:, 1][y == 1])\n",
    "plt.scatter(x.iloc[:, 0][y == 2], x.iloc[:, 1][y == 2])\n",
    "\n",
    "plt.legend(['setosa', 'virginica', 'versicolor'])\n",
    "\n",
    "plt.show()"
   ]
  },
  {
   "cell_type": "code",
   "execution_count": 3,
   "metadata": {},
   "outputs": [],
   "source": [
    "class DecisionTree():\n",
    "    def __init__(self):\n",
    "        self.x = None\n",
    "        self.y = None\n",
    "        self.tree = {}\n",
    "    \n",
    "    def gini(self, group):\n",
    "        gini = 0\n",
    "        \n",
    "        # Avoid computing Gini on empty groups.\n",
    "        if not len(group):\n",
    "            return gini\n",
    "        \n",
    "        # Gini index.\n",
    "        for k in range(self.y.nunique()):\n",
    "            p = (self.y[group.index] == k).mean() # Propotion of cases with label k.\n",
    "            gini += p * (1 - p)\n",
    "        return gini\n",
    "    \n",
    "    def split(self, group, column, threshold):\n",
    "        idx = group[column] < threshold\n",
    "        left, right = group[idx], group[~idx]\n",
    "        return left, right\n",
    "    \n",
    "    def best_split(self, group):\n",
    "        best_gini = 1\n",
    "        best_column = None\n",
    "        best_threshold = None\n",
    "        \n",
    "        for column in group.columns:\n",
    "            for row in group.index:\n",
    "                threshold = group.loc[row, column] # Easy to implement, but inefficient.\n",
    "                left, right = self.split(group, column, threshold)\n",
    "                \n",
    "                gini = (self.gini(left) * len(left) \\\n",
    "                      + self.gini(right) * len(right)) \\\n",
    "                      / len(group) # Scale Gini by group size.\n",
    "                \n",
    "                if gini < best_gini:\n",
    "                    best_gini = gini\n",
    "                    best_column = column\n",
    "                    best_threshold = threshold\n",
    "                    \n",
    "        return best_gini, best_column, best_threshold\n",
    "        \n",
    "    def build_node(self, group, min_cases=1):\n",
    "        '''Depth-first recursive building'''\n",
    "        classes = self.y[group.index].unique()\n",
    "        if len(classes) == 1:\n",
    "            subtree = classes\n",
    "        else:\n",
    "            g, c, t = self.best_split(group)\n",
    "            left, right = self.split(group, c, t)\n",
    "        \n",
    "            subtree = {}\n",
    "            subtree['rule'] = (g, c, t)\n",
    "            #subtree['data'] = group # Convenient, but inefficient.\n",
    "            \n",
    "            subtree['left'] = self.build_node(left)\n",
    "            subtree['right'] = self.build_node(right)\n",
    "            \n",
    "            # Stop early if the minimum size is reached.\n",
    "            #if len(left) >= min_cases:\n",
    "            #    subtree['left'] = self.build_node(left, min_cases)\n",
    "            #else:\n",
    "            #    subtree['left'] = self.y[left.index].unique()   \n",
    "            #if len(right) >= min_cases:\n",
    "            #    subtree['right'] = self.build_node(right, min_cases)\n",
    "            #else:\n",
    "            #    subtree['right'] = self.y[right.index].unique()\n",
    "                \n",
    "        return subtree\n",
    "    \n",
    "    def fit(self, x, y, min_cases=1):\n",
    "        assert len(x) == len(y)\n",
    "        self.x = x\n",
    "        self.y = y\n",
    "        self.tree = self.build_node(self.x)\n",
    "        \n",
    "    def traverse(self, subtree, x):\n",
    "        '''Depth-first recursive traversal'''\n",
    "        if type(subtree) is dict:\n",
    "            assert 'rule' in subtree\n",
    "            _, column, threshold = subtree['rule']\n",
    "            if x[column] < threshold:\n",
    "                return self.traverse(subtree['left'], x)\n",
    "            else:\n",
    "                return self.traverse(subtree['right'], x)\n",
    "        else:\n",
    "            return subtree[0] # Be careful on leaves with mixed classes.\n",
    "            \n",
    "    def predict(self, x):\n",
    "        assert self.tree, 'DecisionTree.fit() needs to be run first'\n",
    "        \n",
    "        predictions = pd.Series([np.nan] * len(x))\n",
    "        for i in range(len(x)):\n",
    "            predictions.iloc[i] = self.traverse(self.tree, x.iloc[i])\n",
    "        \n",
    "        predictions.index = x.index\n",
    "        return predictions\n",
    "    \n",
    "    def accuracy(self, pred, y):\n",
    "        return (pred == y).mean()\n",
    "    \n",
    "    \n",
    "model = DecisionTree()\n",
    "model.fit(x, y)"
   ]
  },
  {
   "cell_type": "markdown",
   "metadata": {},
   "source": [
    "## Easy to explain (really?)"
   ]
  },
  {
   "cell_type": "code",
   "execution_count": 4,
   "metadata": {},
   "outputs": [
    {
     "data": {
      "text/plain": [
       "{'rule': (0.3333333333333333, 'petal length (cm)', 3.0),\n",
       " 'left': array([0]),\n",
       " 'right': {'rule': (0.11030595813204506, 'petal width (cm)', 1.8),\n",
       "  'left': {'rule': (0.08564814814814818, 'petal length (cm)', 5.0),\n",
       "   'left': {'rule': (0.0, 'petal width (cm)', 1.7),\n",
       "    'left': array([1]),\n",
       "    'right': array([2])},\n",
       "   'right': {'rule': (0.22222222222222224, 'petal width (cm)', 1.6),\n",
       "    'left': array([2]),\n",
       "    'right': {'rule': (0.0, 'sepal length (cm)', 7.2),\n",
       "     'left': array([1]),\n",
       "     'right': array([2])}}},\n",
       "  'right': {'rule': (0.028985507246376815, 'petal length (cm)', 4.9),\n",
       "   'left': {'rule': (0.0, 'sepal length (cm)', 6.0),\n",
       "    'left': array([1]),\n",
       "    'right': array([2])},\n",
       "   'right': array([2])}}}"
      ]
     },
     "execution_count": 4,
     "metadata": {},
     "output_type": "execute_result"
    }
   ],
   "source": [
    "model.tree"
   ]
  },
  {
   "cell_type": "markdown",
   "metadata": {},
   "source": [
    "#### What happens when we have a dataset with 100 variables and 10 classes?\n",
    "\n",
    "### Interpretability is a joint property of the dataset and the model."
   ]
  },
  {
   "cell_type": "markdown",
   "metadata": {},
   "source": [
    "## Performance on the train set"
   ]
  },
  {
   "cell_type": "code",
   "execution_count": 5,
   "metadata": {},
   "outputs": [
    {
     "data": {
      "text/plain": [
       "0      0.0\n",
       "1      0.0\n",
       "2      0.0\n",
       "3      0.0\n",
       "4      0.0\n",
       "      ... \n",
       "145    2.0\n",
       "146    2.0\n",
       "147    2.0\n",
       "148    2.0\n",
       "149    2.0\n",
       "Length: 150, dtype: float64"
      ]
     },
     "execution_count": 5,
     "metadata": {},
     "output_type": "execute_result"
    }
   ],
   "source": [
    "pred = model.predict(x)\n",
    "pred"
   ]
  },
  {
   "cell_type": "code",
   "execution_count": 6,
   "metadata": {},
   "outputs": [
    {
     "data": {
      "text/plain": [
       "1.0"
      ]
     },
     "execution_count": 6,
     "metadata": {},
     "output_type": "execute_result"
    }
   ],
   "source": [
    "model.accuracy(pred, y)"
   ]
  },
  {
   "cell_type": "markdown",
   "metadata": {},
   "source": [
    "### By definition, a basic decision tree always gets 100% accuracy on the train set (always overfits)."
   ]
  },
  {
   "cell_type": "markdown",
   "metadata": {},
   "source": [
    "## Comparison with sklearn"
   ]
  },
  {
   "cell_type": "code",
   "execution_count": 7,
   "metadata": {},
   "outputs": [],
   "source": [
    "from sklearn.model_selection import train_test_split\n",
    "\n",
    "x_train, x_test, y_train, y_test = train_test_split(x, y)"
   ]
  },
  {
   "cell_type": "code",
   "execution_count": 8,
   "metadata": {},
   "outputs": [
    {
     "data": {
      "text/plain": [
       "0.9473684210526315"
      ]
     },
     "execution_count": 8,
     "metadata": {},
     "output_type": "execute_result"
    }
   ],
   "source": [
    "model = DecisionTree()\n",
    "model.fit(x_train, y_train)\n",
    "pred = model.predict(x_test)\n",
    "acc = model.accuracy(pred, y_test)\n",
    "\n",
    "acc"
   ]
  },
  {
   "cell_type": "code",
   "execution_count": 9,
   "metadata": {},
   "outputs": [
    {
     "data": {
      "text/plain": [
       "0.9736842105263158"
      ]
     },
     "execution_count": 9,
     "metadata": {},
     "output_type": "execute_result"
    }
   ],
   "source": [
    "from sklearn.tree import DecisionTreeClassifier\n",
    "\n",
    "sk_model = DecisionTreeClassifier()\n",
    "sk_model.fit(x_train, y_train)\n",
    "sk_pred = sk_model.predict(x_test)\n",
    "sk_acc = sk_model.score(x_test, y_test)\n",
    "\n",
    "sk_acc"
   ]
  },
  {
   "cell_type": "code",
   "execution_count": 10,
   "metadata": {},
   "outputs": [
    {
     "data": {
      "text/plain": [
       "{'rule': (0.31919642857142855, 'petal length (cm)', 3.3),\n",
       " 'left': array([0]),\n",
       " 'right': {'rule': (0.1048951048951049, 'petal length (cm)', 4.9),\n",
       "  'left': {'rule': (0.04040404040404041, 'petal width (cm)', 1.7),\n",
       "   'left': array([1]),\n",
       "   'right': {'rule': (0.0, 'sepal width (cm)', 3.2),\n",
       "    'left': array([2]),\n",
       "    'right': array([1])}},\n",
       "  'right': {'rule': (0.06837606837606838, 'petal length (cm)', 5.1),\n",
       "   'left': {'rule': (0.22222222222222224, 'sepal length (cm)', 6.3),\n",
       "    'left': array([2]),\n",
       "    'right': {'rule': (0.0, 'petal width (cm)', 1.8),\n",
       "     'left': array([1]),\n",
       "     'right': array([2])}},\n",
       "   'right': array([2])}}}"
      ]
     },
     "execution_count": 10,
     "metadata": {},
     "output_type": "execute_result"
    }
   ],
   "source": [
    "# Our tree.\n",
    "model.tree"
   ]
  },
  {
   "cell_type": "code",
   "execution_count": 11,
   "metadata": {},
   "outputs": [
    {
     "data": {
      "text/plain": [
       "Index(['sepal length (cm)', 'sepal width (cm)', 'petal length (cm)',\n",
       "       'petal width (cm)'],\n",
       "      dtype='object')"
      ]
     },
     "execution_count": 11,
     "metadata": {},
     "output_type": "execute_result"
    }
   ],
   "source": [
    "x.columns"
   ]
  },
  {
   "cell_type": "code",
   "execution_count": 12,
   "metadata": {},
   "outputs": [
    {
     "data": {
      "image/png": "[encoded data removed]",
      "text/plain": [
       "<Figure size 900x600 with 1 Axes>"
      ]
     },
     "metadata": {
      "needs_background": "light"
     },
     "output_type": "display_data"
    }
   ],
   "source": [
    "# sklearn's tree.\n",
    "from sklearn.tree import plot_tree\n",
    "\n",
    "plt.figure(dpi=150)\n",
    "plot_tree(sk_model)\n",
    "\n",
    "plt.show()"
   ]
  },
  {
   "cell_type": "markdown",
   "metadata": {},
   "source": [
    "# Hyperparameter optimization by k-fold cross validation"
   ]
  },
  {
   "cell_type": "code",
   "execution_count": 13,
   "metadata": {},
   "outputs": [
    {
     "data": {
      "text/plain": [
       "GridSearchCV(cv=10, estimator=DecisionTreeClassifier(),\n",
       "             param_grid=[{'max_depth': [2, 3, 4, 5, 6, 7, 8, 9, 10],\n",
       "                          'min_samples_leaf': [1, 2, 3, 4, 5, 6, 7, 8, 9, 10]}])"
      ]
     },
     "execution_count": 13,
     "metadata": {},
     "output_type": "execute_result"
    }
   ],
   "source": [
    "from sklearn.model_selection import GridSearchCV\n",
    "#from sklearn.model_selection import RandomizedSearchCV\n",
    "\n",
    "# These are the 2 most common regularization hyperparameters.\n",
    "max_depths = [2, 3, 4, 5, 6, 7, 8, 9, 10]\n",
    "min_samples_leafs = [1, 2, 3, 4, 5, 6, 7, 8, 9, 10]\n",
    "\n",
    "estimator = DecisionTreeClassifier()\n",
    "para_grid = param_grid = [{'max_depth': max_depths,\n",
    "                           'min_samples_leaf': min_samples_leafs}]\n",
    "cv_model = GridSearchCV(estimator, param_grid, cv=10) # 5-fold CV by default.\n",
    "cv_model.fit(x, y) # It will do the split for us."
   ]
  },
  {
   "cell_type": "code",
   "execution_count": 14,
   "metadata": {},
   "outputs": [
    {
     "data": {
      "image/png": "[encoded data removed]",
      "text/plain": [
       "<Figure size 432x288 with 2 Axes>"
      ]
     },
     "metadata": {
      "needs_background": "light"
     },
     "output_type": "display_data"
    }
   ],
   "source": [
    "acc = cv_model.cv_results_['mean_test_score'] \\\n",
    ".reshape((len(max_depths), len(min_samples_leafs)))\n",
    "\n",
    "plt.imshow(acc, origin='lower')\n",
    "plt.xticks(range(len(min_samples_leafs)), min_samples_leafs)\n",
    "plt.yticks(range(len(max_depths)), max_depths)\n",
    "\n",
    "plt.title('Model accuracy')\n",
    "plt.xlabel('min_samples_leaf')\n",
    "plt.ylabel('max_depth')\n",
    "plt.colorbar()\n",
    "\n",
    "plt.show()"
   ]
  },
  {
   "cell_type": "code",
   "execution_count": 15,
   "metadata": {},
   "outputs": [
    {
     "name": "stdout",
     "output_type": "stream",
     "text": [
      "{'max_depth': 3, 'min_samples_leaf': 3}\n",
      "0.9666666666666666\n"
     ]
    }
   ],
   "source": [
    "print(cv_model.best_params_)\n",
    "print(cv_model.best_score_)"
   ]
  }
 ],
 "metadata": {
  "kernelspec": {
   "display_name": "Python 3",
   "language": "python",
   "name": "python3"
  },
  "language_info": {
   "codemirror_mode": {
    "name": "ipython",
    "version": 3
   },
   "file_extension": ".py",
   "mimetype": "text/x-python",
   "name": "python",
   "nbconvert_exporter": "python",
   "pygments_lexer": "ipython3",
   "version": "3.6.10"
  }
 },
 "nbformat": 4,
 "nbformat_minor": 4
}
