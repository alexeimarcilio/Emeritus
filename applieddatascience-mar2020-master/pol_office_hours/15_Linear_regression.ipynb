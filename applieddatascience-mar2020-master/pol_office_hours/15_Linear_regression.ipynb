{
 "cells": [
  {
   "cell_type": "code",
   "execution_count": 1,
   "metadata": {},
   "outputs": [],
   "source": [
    "import numpy as np\n",
    "import pandas as pd\n",
    "import scipy.stats as stats\n",
    "import matplotlib.pyplot as plt\n",
    "from sklearn.linear_model import LinearRegression"
   ]
  },
  {
   "cell_type": "code",
   "execution_count": 2,
   "metadata": {},
   "outputs": [],
   "source": [
    "def abline(intercept, slope, color):\n",
    "    \"\"\"Plot a line from slope and intercept\"\"\"\n",
    "    axes = plt.gca()\n",
    "    x_vals = np.array(axes.get_xlim())\n",
    "    y_vals = intercept + slope * x_vals\n",
    "    x_vals, y_vals = x_vals.reshape(-1, 1),y_vals.reshape(-1, 1)\n",
    "    plt.plot(x_vals, y_vals, '--', color=color)"
   ]
  },
  {
   "cell_type": "markdown",
   "metadata": {},
   "source": [
    "# Simple linear regression\n",
    "$y = a + bx$\n",
    "\n",
    "We want to find an optimal set of values for $a$ and $b$ that minimize the residuals."
   ]
  },
  {
   "cell_type": "code",
   "execution_count": 3,
   "metadata": {},
   "outputs": [
    {
     "name": "stdout",
     "output_type": "stream",
     "text": [
      "[9.9605549] [[2.00781607]]\n"
     ]
    },
    {
     "data": {
      "image/png": "[encoded data removed]",
      "text/plain": [
       "<Figure size 432x288 with 1 Axes>"
      ]
     },
     "metadata": {
      "needs_background": "light"
     },
     "output_type": "display_data"
    }
   ],
   "source": [
    "x = np.random.uniform(0, 10, 20)\n",
    "y = 10 + x * 2 + np.random.randn(20) * 2\n",
    "x, y = x.reshape(-1, 1), y.reshape(-1, 1)\n",
    "\n",
    "lr = LinearRegression()\n",
    "lr.fit(x, y)\n",
    "\n",
    "print(lr.intercept_, lr.coef_)\n",
    "\n",
    "plt.scatter(x, y)\n",
    "abline(lr.intercept_, lr.coef_, 'tab:orange')\n",
    "#abline(25, -1, 'tab:green')\n",
    "plt.ylim((0, 40))\n",
    "\n",
    "plt.show()"
   ]
  },
  {
   "cell_type": "markdown",
   "metadata": {},
   "source": [
    "## Multiple linear regression and dummy variables\n",
    "Each data point now has many values (dimensions), not just X.\n",
    "\n",
    "We still want to predict a single Y by finding an optimal vector of coefficients."
   ]
  },
  {
   "cell_type": "code",
   "execution_count": 4,
   "metadata": {},
   "outputs": [
    {
     "name": "stdout",
     "output_type": "stream",
     "text": [
      "-1.1102230246251565e-16 [ 0.05263158  0.13157895 -0.07894737]\n"
     ]
    }
   ],
   "source": [
    "n = 100\n",
    "y = np.random.uniform(0, 1, n)\n",
    "X = np.array([y *  2 + np.random.randn(n) * 0,\n",
    "              y *  5 + np.random.randn(n) * 0,\n",
    "              y * -3 + np.random.randn(n) * 0]).reshape(3, n).T\n",
    "#y += 5 # Beware, if you uncomment that line, the cell below won't work.\n",
    "\n",
    "lr = LinearRegression()\n",
    "lr.fit(X, y)\n",
    "\n",
    "print(lr.intercept_, lr.coef_)"
   ]
  },
  {
   "cell_type": "code",
   "execution_count": 5,
   "metadata": {},
   "outputs": [
    {
     "data": {
      "text/plain": [
       "array([[ 1.        ,  2.23324151, -1.33994491],\n",
       "       [ 0.        ,  0.27551377, -0.16530826],\n",
       "       [ 0.        ,  1.89837423, -1.13902454],\n",
       "       [ 0.        ,  4.44888907, -2.66933344],\n",
       "       [ 1.        ,  3.69334659, -2.21600795],\n",
       "       [ 0.        ,  0.07736392, -0.04641835],\n",
       "       [ 1.        ,  3.96234496, -2.37740698],\n",
       "       [ 1.        ,  1.52706921, -0.91624152],\n",
       "       [ 0.        ,  0.11602983, -0.0696179 ],\n",
       "       [ 1.        ,  4.74125821, -2.84475493]])"
      ]
     },
     "execution_count": 5,
     "metadata": {},
     "output_type": "execute_result"
    }
   ],
   "source": [
    "X = np.array([np.array([np.random.choice([0, 1], p=[1 - y_i, y_i]) for y_i in y]),\n",
    "              y *  5 + np.random.randn(n) * 0,\n",
    "              y * -3 + np.random.randn(n) * 0]).reshape(3, n).T\n",
    "\n",
    "X[:10]"
   ]
  },
  {
   "cell_type": "code",
   "execution_count": 6,
   "metadata": {},
   "outputs": [
    {
     "data": {
      "text/plain": [
       "array(['C', 'B', 'A', 'B', 'B', 'B', 'C', 'B', 'B', 'A', 'C', 'C', 'A',\n",
       "       'A', 'C', 'C', 'B', 'A', 'B', 'A', 'A', 'C', 'C', 'A', 'B', 'A',\n",
       "       'A', 'C', 'C', 'A', 'A', 'C', 'C', 'A', 'C', 'C', 'C', 'A', 'C',\n",
       "       'B', 'A', 'B', 'C', 'B', 'A', 'A', 'C', 'A', 'B', 'A', 'C', 'C',\n",
       "       'B', 'B', 'C', 'B', 'B', 'C', 'A', 'C', 'A', 'C', 'C', 'A', 'C',\n",
       "       'C', 'B', 'C', 'C', 'A', 'A', 'B', 'C', 'A', 'A', 'A', 'A', 'A',\n",
       "       'A', 'A', 'C', 'A', 'B', 'C', 'A', 'C', 'C', 'C', 'A', 'A', 'B',\n",
       "       'A', 'B', 'A', 'C', 'B', 'A', 'C', 'C', 'A'], dtype='<U1')"
      ]
     },
     "execution_count": 6,
     "metadata": {},
     "output_type": "execute_result"
    }
   ],
   "source": [
    "cat = np.array([np.random.choice(['A', 'B', 'C']) for i in range(n)])\n",
    "cat"
   ]
  },
  {
   "cell_type": "code",
   "execution_count": 7,
   "metadata": {},
   "outputs": [
    {
     "name": "stdout",
     "output_type": "stream",
     "text": [
      "[[0. 0. 1.]\n",
      " [0. 1. 0.]\n",
      " [1. 0. 0.]\n",
      " [0. 1. 0.]\n",
      " [0. 1. 0.]\n",
      " [0. 1. 0.]\n",
      " [0. 0. 1.]\n",
      " [0. 1. 0.]\n",
      " [0. 1. 0.]\n",
      " [1. 0. 0.]]\n",
      "    A  B  C\n",
      "0   0  0  1\n",
      "1   0  1  0\n",
      "2   1  0  0\n",
      "3   0  1  0\n",
      "4   0  1  0\n",
      ".. .. .. ..\n",
      "95  0  1  0\n",
      "96  1  0  0\n",
      "97  0  0  1\n",
      "98  0  0  1\n",
      "99  1  0  0\n",
      "\n",
      "[100 rows x 3 columns]\n",
      "[[ 1.          2.23324151 -1.33994491  0.          1.        ]\n",
      " [ 0.          0.27551377 -0.16530826  1.          0.        ]\n",
      " [ 0.          1.89837423 -1.13902454  0.          0.        ]\n",
      " [ 0.          4.44888907 -2.66933344  1.          0.        ]\n",
      " [ 1.          3.69334659 -2.21600795  1.          0.        ]\n",
      " [ 0.          0.07736392 -0.04641835  1.          0.        ]\n",
      " [ 1.          3.96234496 -2.37740698  0.          1.        ]\n",
      " [ 1.          1.52706921 -0.91624152  1.          0.        ]\n",
      " [ 0.          0.11602983 -0.0696179   1.          0.        ]\n",
      " [ 1.          4.74125821 -2.84475493  0.          0.        ]]\n"
     ]
    }
   ],
   "source": [
    "# Dummy variables (statistics).\n",
    "# One-hot encoding (machine learning).\n",
    "\n",
    "ohe = np.zeros((n, len(set(cat))))\n",
    "for i, c in enumerate(sorted(set(cat))):\n",
    "    ohe[cat == c, i] = 1\n",
    "\n",
    "print(ohe[:10])\n",
    "\n",
    "# Easier using Pandas.\n",
    "print(pd.get_dummies(cat))\n",
    "\n",
    "# We only really need n - 1 of those variables.\n",
    "X = np.concatenate([X, ohe[:, 1:]], axis=1)\n",
    "print(X[:10])"
   ]
  },
  {
   "cell_type": "markdown",
   "metadata": {},
   "source": [
    "# R<sup>2</sup>\n",
    "\n",
    "$R^2 = \\frac{\\textrm{explained variability}}{\\textrm{total variability}} = \\frac{SSR}{SST}$\n",
    "\n",
    "$R^2 = 1 - \\frac{\\textrm{unexplained variability}}{\\textrm{total variability}} = 1 - \\frac{SSE}{SST}$\n",
    "\n",
    "$adjR^2 = 1 - \\frac{SSE}{SST} \\times \\frac{n - 1}{n - k - 1} $"
   ]
  },
  {
   "cell_type": "code",
   "execution_count": 8,
   "metadata": {},
   "outputs": [
    {
     "name": "stdout",
     "output_type": "stream",
     "text": [
      "0.7 0.8366600265340756 0.6662921348314607\n"
     ]
    }
   ],
   "source": [
    "#R2 = lr.score(x, y) # From the first example.\n",
    "R2 = 0.7\n",
    "\n",
    "R = np.sqrt(R2)\n",
    "\n",
    "def R2_adjust(r2, n, k):\n",
    "    # Normalize for less degrees of freedom.\n",
    "    return 1 - ((1 - r2) * (n - 1) / (n - k - 1))\n",
    "    \n",
    "adjR2 = R2_adjust(R2, 100, 10)\n",
    "\n",
    "print(R2, R, adjR2)"
   ]
  },
  {
   "cell_type": "markdown",
   "metadata": {},
   "source": [
    "# Mean Squared Error\n",
    "\n",
    "$MSE = \\frac{SSE}{n - k - 1}$\n",
    "\n",
    "$\\textrm{Standard Error} = RMSE = \\sqrt{MSE}$"
   ]
  },
  {
   "cell_type": "code",
   "execution_count": 9,
   "metadata": {},
   "outputs": [
    {
     "name": "stdout",
     "output_type": "stream",
     "text": [
      "2.0320511616673476\n",
      "1.638012650876842\n"
     ]
    }
   ],
   "source": [
    "x = np.random.uniform(0, 10, 20)\n",
    "y = 10 + x * 2 + np.random.randn(20) * 2\n",
    "x, y = x.reshape(-1, 1), y.reshape(-1, 1)\n",
    "\n",
    "lr = LinearRegression()\n",
    "lr.fit(x, y)\n",
    "\n",
    "rmse = np.sqrt(np.mean((lr.predict(x) - y)**2))\n",
    "print(rmse)\n",
    "\n",
    "mae = np.mean(abs(lr.predict(x) - y))\n",
    "print(mae)"
   ]
  },
  {
   "cell_type": "markdown",
   "metadata": {},
   "source": [
    "# Finding the coefficients\n",
    "## Closed form solution\n",
    "\n",
    "$\\vec{\\beta}= (X^TX)^{-1}X^T\\vec{y}$"
   ]
  },
  {
   "cell_type": "markdown",
   "metadata": {},
   "source": [
    "## Extra: gradient descent"
   ]
  },
  {
   "cell_type": "code",
   "execution_count": 10,
   "metadata": {},
   "outputs": [
    {
     "data": {
      "text/plain": [
       "77.37218307701305"
      ]
     },
     "execution_count": 10,
     "metadata": {},
     "output_type": "execute_result"
    }
   ],
   "source": [
    "n = 20\n",
    "x = np.random.uniform(0, 10, n)\n",
    "y = 0 + x * 2 + np.random.randn(n) * 2\n",
    "x, y = x.reshape(-1, 1), y.reshape(-1, 1)\n",
    "\n",
    "coef = 0\n",
    "\n",
    "def predict(x, coef):\n",
    "    return x * coef\n",
    "\n",
    "def mse(y_pred, y):\n",
    "    return np.mean((y_pred - y)**2) / 2\n",
    "\n",
    "y_pred = predict(x, coef)\n",
    "#print(y_pred)\n",
    "\n",
    "mse(y_pred, y)"
   ]
  },
  {
   "cell_type": "code",
   "execution_count": 11,
   "metadata": {},
   "outputs": [
    {
     "data": {
      "image/png": "[encoded data removed]",
      "text/plain": [
       "<Figure size 432x288 with 1 Axes>"
      ]
     },
     "metadata": {
      "needs_background": "light"
     },
     "output_type": "display_data"
    }
   ],
   "source": [
    "coefs = np.linspace(-2, 6, 100)\n",
    "\n",
    "cost = []\n",
    "for c in coefs:\n",
    "    y_pred = predict(x, c)\n",
    "    cost.append(mse(y_pred, y))\n",
    "\n",
    "plt.plot(coefs, cost)\n",
    "plt.xlabel('Coefficient')\n",
    "plt.ylabel('Cost (MSE)')\n",
    "\n",
    "plt.show()"
   ]
  },
  {
   "cell_type": "code",
   "execution_count": 12,
   "metadata": {
    "scrolled": true
   },
   "outputs": [
    {
     "data": {
      "text/plain": [
       "1.8963847574305883"
      ]
     },
     "execution_count": 12,
     "metadata": {},
     "output_type": "execute_result"
    }
   ],
   "source": [
    "def gradient(x, y, y_pred):\n",
    "    return np.mean((y_pred - y) * x)\n",
    "\n",
    "def update(grad, rate):\n",
    "    return rate * grad\n",
    "\n",
    "def fit(x, y, coef=0, n_iter=100, rate=0.01):\n",
    "    for i in range(n_iter):\n",
    "        #print(coef)\n",
    "        y_pred = predict(x, coef)\n",
    "        #print(mse(y_pred, y))\n",
    "        grad = gradient(x, y, y_pred)\n",
    "        #print(grad)\n",
    "        coef -= update(grad, rate)\n",
    "        \n",
    "    return coef\n",
    "        \n",
    "fit(x, y)"
   ]
  },
  {
   "cell_type": "code",
   "execution_count": 13,
   "metadata": {},
   "outputs": [
    {
     "data": {
      "text/plain": [
       "array([[1.        , 5.71292954],\n",
       "       [1.        , 8.83997988],\n",
       "       [1.        , 1.06192078],\n",
       "       [1.        , 0.52942744],\n",
       "       [1.        , 6.56622682],\n",
       "       [1.        , 6.74554316],\n",
       "       [1.        , 4.3823186 ],\n",
       "       [1.        , 0.37065016],\n",
       "       [1.        , 2.28076335],\n",
       "       [1.        , 1.70543785],\n",
       "       [1.        , 3.5855631 ],\n",
       "       [1.        , 7.07068634],\n",
       "       [1.        , 4.24721758],\n",
       "       [1.        , 0.38300713],\n",
       "       [1.        , 0.57316942],\n",
       "       [1.        , 3.01576829],\n",
       "       [1.        , 5.3199555 ],\n",
       "       [1.        , 3.81504906],\n",
       "       [1.        , 6.27041488],\n",
       "       [1.        , 7.62191771]])"
      ]
     },
     "execution_count": 13,
     "metadata": {},
     "output_type": "execute_result"
    }
   ],
   "source": [
    "n = 20\n",
    "x = np.random.uniform(0, 10, n)\n",
    "y = -5 + x * 2 + np.random.randn(n) * 2\n",
    "x, y = x.reshape(-1, 1), y.reshape(-1, 1)\n",
    "\n",
    "x = np.concatenate([np.ones(n).reshape(-1, 1), x], axis=1)\n",
    "x"
   ]
  },
  {
   "cell_type": "code",
   "execution_count": 14,
   "metadata": {},
   "outputs": [
    {
     "data": {
      "text/plain": [
       "array([-5.54383409,  2.20785051])"
      ]
     },
     "execution_count": 14,
     "metadata": {},
     "output_type": "execute_result"
    }
   ],
   "source": [
    "def predict(x, coef):\n",
    "    # Because 1*coef[0] + x[1]*coef[1] + ... +  x[n]*coef[n] is the dot product coef · x\n",
    "    return np.dot(x, coef).reshape(-1, 1)\n",
    "\n",
    "def gradient(x, y, y_pred):\n",
    "    return np.mean((y_pred - y) * x, axis=0)\n",
    "\n",
    "coef = fit(x, y, coef=np.zeros(2), n_iter=10000)\n",
    "coef"
   ]
  },
  {
   "cell_type": "code",
   "execution_count": 15,
   "metadata": {},
   "outputs": [
    {
     "name": "stdout",
     "output_type": "stream",
     "text": [
      "[-5.54383409] [[2.20785051]]\n"
     ]
    }
   ],
   "source": [
    "lr = LinearRegression().fit(x[:, 1:], y)\n",
    "print(lr.intercept_, lr.coef_)"
   ]
  },
  {
   "cell_type": "code",
   "execution_count": 16,
   "metadata": {},
   "outputs": [
    {
     "data": {
      "image/png": "[encoded data removed]",
      "text/plain": [
       "<Figure size 432x288 with 1 Axes>"
      ]
     },
     "metadata": {
      "needs_background": "light"
     },
     "output_type": "display_data"
    }
   ],
   "source": [
    "plt.scatter(x[:, 1], y)\n",
    "plt.plot(x[:, 1], predict(x, coef), 'tab:orange')\n",
    "\n",
    "plt.show()"
   ]
  },
  {
   "cell_type": "markdown",
   "metadata": {},
   "source": [
    "# Homoscedasticity vs heteroscedasticity\n",
    "OLS assumes data is homoscedastic."
   ]
  },
  {
   "cell_type": "code",
   "execution_count": 17,
   "metadata": {},
   "outputs": [
    {
     "data": {
      "image/png": "[encoded data removed]",
      "text/plain": [
       "<Figure size 864x288 with 2 Axes>"
      ]
     },
     "metadata": {
      "needs_background": "light"
     },
     "output_type": "display_data"
    }
   ],
   "source": [
    "n = 50\n",
    "\n",
    "x1 = np.random.uniform(0, 10, n)\n",
    "y1 = -5 + x1 * 2 + np.random.randn(n) * 2\n",
    "x1, y1 = x1.reshape(-1, 1), y1.reshape(-1, 1)\n",
    "\n",
    "x2 = np.random.uniform(0, 10, n)\n",
    "y2 = -5 + x2 * 2 + np.random.randn(n) * x2 # The residual depends on x!\n",
    "x2, y2 = x2.reshape(-1, 1), y2.reshape(-1, 1)\n",
    "\n",
    "lr1 = LinearRegression().fit(x1, y1)\n",
    "lr2 = LinearRegression().fit(x2, y2)\n",
    "\n",
    "fig, ax = plt.subplots(1, 2, figsize=(12, 4))\n",
    "\n",
    "ax[0].scatter(x1, y1)\n",
    "ax[0].plot(x1, lr1.predict(x1), 'tab:orange')\n",
    "\n",
    "ax[1].scatter(x2, y2)\n",
    "ax[1].plot(x2, lr2.predict(x2), 'tab:orange')\n",
    "\n",
    "plt.tight_layout()\n",
    "plt.show()"
   ]
  },
  {
   "cell_type": "code",
   "execution_count": 18,
   "metadata": {},
   "outputs": [
    {
     "name": "stdout",
     "output_type": "stream",
     "text": [
      "[[ 1.         -0.01746947]\n",
      " [-0.01746947  1.        ]]\n",
      "[[1.         0.46349027]\n",
      " [0.46349027 1.        ]]\n"
     ]
    },
    {
     "data": {
      "image/png": "[encoded data removed]",
      "text/plain": [
       "<Figure size 432x288 with 1 Axes>"
      ]
     },
     "metadata": {
      "needs_background": "light"
     },
     "output_type": "display_data"
    }
   ],
   "source": [
    "r1 = lr1.predict(x1) - y1\n",
    "r2 = lr2.predict(x2) - y2\n",
    "\n",
    "print(np.corrcoef(x1.reshape(-1), abs(r1).reshape(-1)))\n",
    "print(np.corrcoef(x2.reshape(-1), abs(r2).reshape(-1)))\n",
    "\n",
    "plt.scatter(x1, abs(r1))\n",
    "plt.scatter(x2, abs(r2))\n",
    "\n",
    "plt.show()"
   ]
  },
  {
   "cell_type": "markdown",
   "metadata": {},
   "source": [
    "# Overfitting\n",
    "\n",
    "Model fits train data well, but performs poorly on test data.\n",
    "\n",
    "Occurs when the **sample size is too small** or the **feature space is too big**. It's actually the same thing!\n",
    "\n",
    "### Fixes:\n",
    "\n",
    "- Increase sample size.\n",
    "- Decrease number of dimensions.\n",
    "  - Discard irrelevant variables.\n",
    "  - Dimensionality reduction.\n",
    "- Regularization.\n",
    "  \n",
    "\n",
    "_Note: dimensions == features == variables_"
   ]
  },
  {
   "cell_type": "markdown",
   "metadata": {},
   "source": [
    "# Regularization\n",
    "Any stategy that constrains the search in the $\\beta$ space.\n",
    "\n",
    "The most common are L<sub>1</sub> and L<sub>2</sub> regularization.\n",
    "\n",
    "\n",
    "#### L<sub>1</sub> or [LASSO](https://en.wikipedia.org/wiki/Lasso_(statistics)) (least absolute shrinkage and selection operator)\n",
    "\n",
    "Puts a constraint on high values of $\\beta$. Results in selecting few variables, leaving the rest close to 0 (a type of **feature selection**).\n",
    "\n",
    "#### L<sub>2</sub> or [Tikhonov regularization](https://en.wikipedia.org/wiki/Tikhonov_regularization) or ridge regression\n",
    "\n",
    "Puts a constraint on high values of $\\beta^2$. Results in selecting low $\\beta$s overall, avoiding one variable explaining most of the variability.\n",
    "\n",
    "#### [Elastic net regularization](https://en.wikipedia.org/wiki/Elastic_net_regularization)\n",
    "\n",
    "It's just $L_1 + L_2$ terms. A combination of the previous regularization terms.\n",
    "\n",
    "### In practice: L<sub>1</sub> for feature selection, L<sub>2</sub> to reduce overfitting"
   ]
  },
  {
   "cell_type": "code",
   "execution_count": 19,
   "metadata": {},
   "outputs": [],
   "source": [
    "# Modified cost function.\n",
    "def l1(coefs, par=0.01):\n",
    "    return par * np.mean(abs(coefs))\n",
    "\n",
    "def l2(coefs, par=0.01):\n",
    "    return par * np.mean(coefs**2) / 2\n",
    "\n",
    "def mse(y_pred, coefs, y, par_l1=0.01, par_l2=0.01):\n",
    "    return np.mean((y_pred - y)**2 / 2) + l1(coefs, par_l1) + l2(coefs, par_l2)\n",
    "\n",
    "# Modified gradient function.\n",
    "def grad_l1(coefs, par=0.01):\n",
    "    return par * np.mean(np.sign(coefs), axis=0)\n",
    "\n",
    "def grad_l2(coefs, par=0.01):\n",
    "    return par * np.mean(coefs, axis=0)\n",
    "\n",
    "def gradient(x, y, y_pred, par_l1=0.01, par_l2=0.01):\n",
    "    return np.mean((y_pred - y) * x, axis=0) + grad_l1(coefs, par_l1) + grad_l2(coefs, par_l2)"
   ]
  },
  {
   "cell_type": "code",
   "execution_count": 20,
   "metadata": {},
   "outputs": [],
   "source": [
    "from sklearn.linear_model import Lasso # L1\n",
    "from sklearn.linear_model import Ridge # L2\n",
    "from sklearn.linear_model import ElasticNet # L1 + L2"
   ]
  }
 ],
 "metadata": {
  "kernelspec": {
   "display_name": "Python 3",
   "language": "python",
   "name": "python3"
  },
  "language_info": {
   "codemirror_mode": {
    "name": "ipython",
    "version": 3
   },
   "file_extension": ".py",
   "mimetype": "text/x-python",
   "name": "python",
   "nbconvert_exporter": "python",
   "pygments_lexer": "ipython3",
   "version": "3.6.10"
  }
 },
 "nbformat": 4,
 "nbformat_minor": 4
}
