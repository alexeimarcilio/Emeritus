{
 "cells": [
  {
   "cell_type": "code",
   "execution_count": 1,
   "metadata": {},
   "outputs": [],
   "source": [
    "import numpy as np\n",
    "import pandas as pd\n",
    "import scipy.stats as stats\n",
    "import matplotlib.pyplot as plt"
   ]
  },
  {
   "cell_type": "markdown",
   "metadata": {},
   "source": [
    "# Central limit theorem\n",
    "### The mean follows a normal distribution.\n",
    "\n",
    "The sample mean is an **estimate** of the population mean.\n",
    "\n",
    "Because the sample is random, the sample mean follows a distribution.\n",
    "\n",
    "The **mean** of this distribution is the same as the population mean (unbiased estimate).\n",
    "\n",
    "The **standard deviation** of this distribution is the population standard deviation over the square root of the sample size, also known as the **standard error of the mean**.\n",
    "\n",
    "$sem = \\frac{\\sigma}{\\sqrt{n}}$"
   ]
  },
  {
   "cell_type": "code",
   "execution_count": 2,
   "metadata": {},
   "outputs": [
    {
     "data": {
      "image/png": "[encoded data removed]",
      "text/plain": [
       "<Figure size 720x288 with 2 Axes>"
      ]
     },
     "metadata": {
      "needs_background": "light"
     },
     "output_type": "display_data"
    }
   ],
   "source": [
    "mu = 4\n",
    "sigma = 2.5\n",
    "s = 10000 # Population size.\n",
    "\n",
    "x = stats.norm.rvs(mu, sigma, size=s)\n",
    "x = x - np.mean(x) + mu # Fake mean stabilization for the example.\n",
    "\n",
    "n = 10 # Sample size.\n",
    "x_ = sorted(np.mean(np.random.choice(x, n)) for i in range(500)) # Sample of the means.\n",
    "\n",
    "fig, ax = plt.subplots(1, 2, figsize=(10, 4))\n",
    "ax[0].hist(x, bins = 50, density=True)\n",
    "ax[1].hist(x_, bins = 50, density=True)\n",
    "\n",
    "# Make the plots nicer.\n",
    "window = 3\n",
    "z = np.linspace(min(x), max(x), 100)\n",
    "ax[0].plot(z, stats.norm.pdf(z, np.mean(x), np.std(x)))\n",
    "ax[1].plot(z, stats.norm.pdf(z, np.mean(x_), np.std(x_)))\n",
    "ax[0].set_xlim(min(x), max(x))\n",
    "ax[1].set_xlim(min(x), max(x))\n",
    "ax[0].set_title('Distribution of the original data')\n",
    "ax[0].set_ylabel('Probability density')\n",
    "ax[1].set_title('Distribution of the means')\n",
    "\n",
    "plt.tight_layout()\n",
    "plt.show()"
   ]
  },
  {
   "cell_type": "markdown",
   "metadata": {},
   "source": [
    "### Z values are just the units of a standard normal distribution."
   ]
  },
  {
   "cell_type": "code",
   "execution_count": 3,
   "metadata": {},
   "outputs": [
    {
     "data": {
      "text/plain": [
       "(-1.959963984540054, 1.959963984540054)"
      ]
     },
     "execution_count": 3,
     "metadata": {},
     "output_type": "execute_result"
    }
   ],
   "source": [
    "# 95% confidence intervals of a standard normal.\n",
    "stats.norm.interval(0.95, loc=0, scale=1)"
   ]
  },
  {
   "cell_type": "code",
   "execution_count": 4,
   "metadata": {},
   "outputs": [
    {
     "name": "stdout",
     "output_type": "stream",
     "text": [
      "[-0.86769044  8.86769044]\n",
      "(-0.8676904396421685, 8.867690439642168)\n"
     ]
    }
   ],
   "source": [
    "# 95% confidence intervals of the example distribution.\n",
    "print(np.array(stats.norm.interval(0.95, loc=0, scale=1)) * np.std(x) + np.mean(x))\n",
    "print(stats.norm.interval(0.95, loc=np.mean(x), scale=np.std(x)))"
   ]
  },
  {
   "cell_type": "code",
   "execution_count": 5,
   "metadata": {},
   "outputs": [
    {
     "name": "stdout",
     "output_type": "stream",
     "text": [
      "(2.4607011266104375, 5.539298873389562)\n",
      "(2.4972439628618344, 5.4395028574696696)\n"
     ]
    }
   ],
   "source": [
    "# 95% confidence intervals of the sample mean.\n",
    "print(stats.norm.interval(0.95, loc=np.mean(x), scale=np.std(x) / np.sqrt(n)))\n",
    "print(stats.norm.interval(0.95, loc=np.mean(x_), scale=np.std(x_)))"
   ]
  },
  {
   "cell_type": "markdown",
   "metadata": {},
   "source": [
    "### The standard deviation of a sample is an estimate of the population standard deviation."
   ]
  },
  {
   "cell_type": "code",
   "execution_count": 6,
   "metadata": {},
   "outputs": [
    {
     "name": "stdout",
     "output_type": "stream",
     "text": [
      "3.892496126366074\n",
      "3.0353213281774334\n"
     ]
    },
    {
     "data": {
      "text/plain": [
       "(2.011219045713617, 5.773773207018531)"
      ]
     },
     "execution_count": 6,
     "metadata": {},
     "output_type": "execute_result"
    }
   ],
   "source": [
    "# In practice.\n",
    "my_sample = np.random.choice(x, n) # One sample.\n",
    "print(np.mean(my_sample))\n",
    "print(np.std(my_sample, ddof=1))\n",
    "stats.norm.interval(0.95, loc=np.mean(my_sample), scale=np.std(my_sample, ddof=1) / np.sqrt(n))"
   ]
  },
  {
   "cell_type": "code",
   "execution_count": 7,
   "metadata": {},
   "outputs": [
    {
     "name": "stdout",
     "output_type": "stream",
     "text": [
      "0.9598528827528111\n",
      "0.9598528827528111\n"
     ]
    }
   ],
   "source": [
    "# NumPy vs SciPy. \n",
    "print(np.std(my_sample, ddof=1) / np.sqrt(n))\n",
    "print(stats.sem(my_sample))"
   ]
  },
  {
   "cell_type": "code",
   "execution_count": 8,
   "metadata": {},
   "outputs": [
    {
     "name": "stdout",
     "output_type": "stream",
     "text": [
      "[0.0249979 0.9750021]\n",
      "[0.21032466 0.78967534]\n",
      "[0.21032466 0.78967534]\n"
     ]
    }
   ],
   "source": [
    "# Probability of getting a value in a range.\n",
    "print(stats.norm.cdf([-1.96, 1.96], loc=0, scale=1))\n",
    "print(stats.norm.cdf([- 2 / np.std(x), 2 / np.std(x)], loc=0, scale=1))\n",
    "print(stats.norm.cdf([np.mean(x) - 2, np.mean(x) + 2], loc=np.mean(x), scale=np.std(x)))"
   ]
  },
  {
   "cell_type": "code",
   "execution_count": 9,
   "metadata": {},
   "outputs": [
    {
     "data": {
      "text/plain": [
       "array([0.1487461, 0.8512539])"
      ]
     },
     "execution_count": 9,
     "metadata": {},
     "output_type": "execute_result"
    }
   ],
   "source": [
    "# Probability that the sample mean is within a range.\n",
    "stats.norm.cdf([np.mean(my_sample) - 1, np.mean(my_sample) + 1],\n",
    "               loc=np.mean(my_sample), scale=np.std(my_sample, ddof=1) / np.sqrt(n))"
   ]
  },
  {
   "cell_type": "markdown",
   "metadata": {},
   "source": [
    "# Determining the sample size\n",
    "We always start from a reasonable guess of, preferably, from the results of a pilot study."
   ]
  },
  {
   "cell_type": "code",
   "execution_count": 10,
   "metadata": {
    "scrolled": true
   },
   "outputs": [
    {
     "data": {
      "text/plain": [
       "553.170070179954"
      ]
     },
     "execution_count": 10,
     "metadata": {},
     "output_type": "execute_result"
    }
   ],
   "source": [
    "def min_sample_size(distance, confidence, std):\n",
    "    import scipy.stats\n",
    "    z = scipy.stats.norm.interval(confidence)[1]\n",
    "    \n",
    "    n = (z * std / distance)**2\n",
    "    \n",
    "    return n\n",
    "\n",
    "# Video example.\n",
    "min_sample_size(15, 0.95, 180)"
   ]
  },
  {
   "cell_type": "code",
   "execution_count": 11,
   "metadata": {},
   "outputs": [
    {
     "data": {
      "text/plain": [
       "971.0354241199038"
      ]
     },
     "execution_count": 11,
     "metadata": {},
     "output_type": "execute_result"
    }
   ],
   "source": [
    "# Q4.\n",
    "p = 0.35\n",
    "\n",
    "var = p * (1 - p)\n",
    "std = np.sqrt(var)\n",
    "\n",
    "std = stats.bernoulli(p).std()\n",
    "\n",
    "min_sample_size(0.03, 0.95, std)"
   ]
  },
  {
   "cell_type": "code",
   "execution_count": 12,
   "metadata": {
    "scrolled": true
   },
   "outputs": [
    {
     "name": "stdout",
     "output_type": "stream",
     "text": [
      "[0.02500209 0.97499791]\n"
     ]
    }
   ],
   "source": [
    "# Probability of getting a value in a range.\n",
    "print(stats.norm.cdf([p - 0.03, p + 0.03], loc=p, scale=std / np.sqrt(971)))"
   ]
  },
  {
   "cell_type": "code",
   "execution_count": 13,
   "metadata": {},
   "outputs": [
    {
     "name": "stdout",
     "output_type": "stream",
     "text": [
      "2400.911762933828\n",
      "9603.647051735312\n",
      "The mean is 0.5 +/- 0.01 with 95% confidence.\n"
     ]
    }
   ],
   "source": [
    "# The other video example.\n",
    "p = 0.5\n",
    "std = stats.bernoulli(p).std()\n",
    "\n",
    "confidence = 0.95\n",
    "\n",
    "print(min_sample_size(0.02, 0.95, std))\n",
    "print(min_sample_size(0.01, 0.95, std))\n",
    "\n",
    "# Giving a confidence interval as mean +/- tolerance.\n",
    "l, u = stats.norm.interval(confidence, loc=p, scale=p / np.sqrt(9603))\n",
    "print('The mean is %.1f +/- %.2f with %.0f%% confidence.' % (p, (u - l) / 2, confidence * 100))"
   ]
  },
  {
   "cell_type": "code",
   "execution_count": 14,
   "metadata": {},
   "outputs": [
    {
     "name": "stdout",
     "output_type": "stream",
     "text": [
      "1806.6956857379832\n",
      "557.6221252277726\n"
     ]
    }
   ],
   "source": [
    "# A note on percentages.\n",
    "percentage = 8.3\n",
    "\n",
    "# Video example.\n",
    "print(min_sample_size(percentage, 0.95, 180)) # Wrong.\n",
    "print(min_sample_size(percentage / 100 * 180, 0.95, 180)) # Correct."
   ]
  }
 ],
 "metadata": {
  "kernelspec": {
   "display_name": "Python 3",
   "language": "python",
   "name": "python3"
  },
  "language_info": {
   "codemirror_mode": {
    "name": "ipython",
    "version": 3
   },
   "file_extension": ".py",
   "mimetype": "text/x-python",
   "name": "python",
   "nbconvert_exporter": "python",
   "pygments_lexer": "ipython3",
   "version": "3.6.10"
  }
 },
 "nbformat": 4,
 "nbformat_minor": 4
}
