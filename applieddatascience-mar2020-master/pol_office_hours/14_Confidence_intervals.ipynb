{
 "cells": [
  {
   "cell_type": "code",
   "execution_count": 1,
   "metadata": {},
   "outputs": [],
   "source": [
    "import numpy as np\n",
    "import pandas as pd\n",
    "import scipy.stats as stats\n",
    "import matplotlib.pyplot as plt"
   ]
  },
  {
   "cell_type": "markdown",
   "metadata": {},
   "source": [
    "# Confidence intervals\n",
    "\n",
    "## Using the normal distribution"
   ]
  },
  {
   "cell_type": "code",
   "execution_count": 27,
   "metadata": {},
   "outputs": [],
   "source": [
    "# Video example: Blood glucose levels.\n",
    "\n",
    "n = 56   # Sample size.\n",
    "mu = 135 # Sample mean.\n",
    "sd = 25  # **Population** standard deviation.\n",
    "\n",
    "diabetes = 140 # Diagnostic threshold.\n",
    "error = diabetes - mu"
   ]
  },
  {
   "cell_type": "code",
   "execution_count": 28,
   "metadata": {
    "scrolled": true
   },
   "outputs": [
    {
     "name": "stdout",
     "output_type": "stream",
     "text": [
      "Z 1.4966629547095767\n",
      "P 0.8655190198561848\n",
      "P 0.8655190198561848\n",
      "Z 1.4966629547095764\n",
      "P 0.13448098014381515\n"
     ]
    }
   ],
   "source": [
    "# What's the probability that the population mean is within 135 +/- 5?\n",
    "z = error / (sd / np.sqrt(n))\n",
    "print('Z', z)\n",
    "\n",
    "p = 1 - 2 * stats.norm.cdf(-z)\n",
    "\n",
    "print('P', p)\n",
    "\n",
    "# Alternatively, we can avoid computing the z score (let SciPy do the scaling).\n",
    "p = 1 - 2 * stats.norm.cdf(mu - error, loc=mu, scale=sd / np.sqrt(n))\n",
    "\n",
    "print('P', p)\n",
    "\n",
    "# And from here we could get z using SciPy functions.\n",
    "z = stats.norm.interval(p)[1]\n",
    "print('Z', z)\n",
    "\n",
    "# Also, the probability may represent the chances of NOT being in the interval.\n",
    "print('P', 1 - p)"
   ]
  },
  {
   "cell_type": "code",
   "execution_count": 29,
   "metadata": {},
   "outputs": [
    {
     "name": "stdout",
     "output_type": "stream",
     "text": [
      "0.06724049007190756\n",
      "0.06724049007190758\n"
     ]
    }
   ],
   "source": [
    "# What's the probability that the person is diabetic (population mean above 140)?\n",
    "p = stats.norm.cdf(-z)\n",
    "\n",
    "print(p)\n",
    "\n",
    "# Alternatively, we can avoid computing the z score (let SciPy do the scaling).\n",
    "p = 1 - stats.norm.cdf(diabetes, loc=mu, scale=sd / np.sqrt(n))\n",
    "\n",
    "print(p)"
   ]
  },
  {
   "cell_type": "code",
   "execution_count": 30,
   "metadata": {
    "scrolled": true
   },
   "outputs": [
    {
     "data": {
      "image/png": "[encoded data removed]",
      "text/plain": [
       "<Figure size 432x288 with 1 Axes>"
      ]
     },
     "metadata": {
      "needs_background": "light"
     },
     "output_type": "display_data"
    }
   ],
   "source": [
    "x = np.linspace(-4, 4, 100)\n",
    "\n",
    "plt.plot(x, stats.norm.pdf(x))\n",
    "plt.axvline(-z, c='tab:orange')\n",
    "plt.axvline(z, c='tab:orange')\n",
    "plt.margins(0)\n",
    "\n",
    "plt.show()"
   ]
  },
  {
   "cell_type": "code",
   "execution_count": 31,
   "metadata": {},
   "outputs": [
    {
     "name": "stdout",
     "output_type": "stream",
     "text": [
      "1.959963984540054\n",
      "The population mean is 135 +/- 6.55 with 95% confidence.\n",
      "The population mean is 135 +/- 6.55 with 95% confidence.\n",
      "The population mean is between 128.45 and 141.55 with 95% confidence.\n"
     ]
    }
   ],
   "source": [
    "# What's the interval that contains the population mean with 95% confidence?\n",
    "confidence = 0.95\n",
    "\n",
    "z = stats.norm.interval(confidence)[1]\n",
    "print(z)\n",
    "\n",
    "error = z * sd / np.sqrt(n)\n",
    "print('The population mean is %d +/- %.2f with %d%% confidence.' % (mu, error, confidence * 100))\n",
    "\n",
    "# Alternatively, we can avoid computing the z score (let SciPy do the scaling).\n",
    "error = stats.norm.interval(confidence, scale = sd / np.sqrt(n))[1]\n",
    "print('The population mean is %d +/- %.2f with %d%% confidence.' % (mu, error, confidence * 100))\n",
    "\n",
    "lower, upper = stats.norm.interval(confidence, loc=mu, scale=sd / np.sqrt(n))\n",
    "print('The population mean is between %.2f and %.2f with %d%% confidence.' % (lower, upper, confidence * 100))"
   ]
  },
  {
   "cell_type": "markdown",
   "metadata": {},
   "source": [
    "## Using the t distribution\n",
    "More conservative than the normal for small sample sizes. Virtually equivalent to the normal for big sample sizes (but still better)."
   ]
  },
  {
   "cell_type": "code",
   "execution_count": 7,
   "metadata": {},
   "outputs": [],
   "source": [
    "# Video example: Blood glucose levels.\n",
    "\n",
    "n = 56   # Sample size.\n",
    "mu = 135 # Sample mean.\n",
    "sd = 25  # Sample standard deviation.\n",
    "sd = np.sqrt(sd**2 * n / (n - 1)) # With Bessel's correction.\n",
    "\n",
    "diabetes = 140 # Diagnostic threshold.\n",
    "error = diabetes - mu"
   ]
  },
  {
   "cell_type": "code",
   "execution_count": 8,
   "metadata": {},
   "outputs": [
    {
     "name": "stdout",
     "output_type": "stream",
     "text": [
      "T 1.4832396974191326\n",
      "P 0.8562811761571746\n",
      "P 0.8562811761571746\n",
      "T 1.4832396972121291\n",
      "P 0.14371882384282542\n"
     ]
    }
   ],
   "source": [
    "# What's the probability that the population mean is within 135 +/- 5?\n",
    "t = error / (sd / np.sqrt(n))\n",
    "print('T', t)\n",
    "\n",
    "p = 1 - 2 * stats.t.cdf(-t, n - 1)\n",
    "\n",
    "print('P', p)\n",
    "\n",
    "# Alternatively, we can avoid computing the z score (let SciPy do the scaling).\n",
    "p = 1 - 2 * stats.t.cdf(mu - error, n - 1, loc=mu, scale=sd / np.sqrt(n))\n",
    "\n",
    "print('P', p)\n",
    "\n",
    "# And from here we could get z using SciPy functions.\n",
    "t = stats.t.interval(p, n - 1)[1]\n",
    "print('T', t)\n",
    "\n",
    "# Also, the probability may represent the chances of NOT being in the interval.\n",
    "print('P', 1 - p)"
   ]
  },
  {
   "cell_type": "code",
   "execution_count": 9,
   "metadata": {},
   "outputs": [
    {
     "name": "stdout",
     "output_type": "stream",
     "text": [
      "0.07185941194882726\n",
      "0.07185941192141272\n"
     ]
    }
   ],
   "source": [
    "# What's the probability that the person is diabetic (population mean above 140)?\n",
    "p = stats.t.cdf(-t, n - 1)\n",
    "\n",
    "print(p)\n",
    "\n",
    "# Alternatively, we can avoid computing the t score (let SciPy do the scaling).\n",
    "p = stats.t.cdf(mu - error, n - 1, loc=mu, scale=sd / np.sqrt(n))\n",
    "\n",
    "print(p)"
   ]
  },
  {
   "cell_type": "code",
   "execution_count": 10,
   "metadata": {},
   "outputs": [
    {
     "data": {
      "image/png": "[encoded data removed]",
      "text/plain": [
       "<Figure size 432x288 with 1 Axes>"
      ]
     },
     "metadata": {
      "needs_background": "light"
     },
     "output_type": "display_data"
    }
   ],
   "source": [
    "x = np.linspace(-4, 4, 100)\n",
    "\n",
    "plt.plot(x, stats.t.pdf(x, n - 1))\n",
    "plt.axvline(-t, c='tab:orange')\n",
    "plt.axvline(t, c='tab:orange')\n",
    "plt.margins(0)\n",
    "\n",
    "plt.show()"
   ]
  },
  {
   "cell_type": "code",
   "execution_count": 11,
   "metadata": {},
   "outputs": [
    {
     "name": "stdout",
     "output_type": "stream",
     "text": [
      "2.004044781810181\n",
      "The population mean is 135 +/- 6.76 with 95% confidence.\n",
      "The population mean is 135 +/- 6.76 with 95% confidence.\n",
      "The population mean is between 128.24 and 141.76 with 95% confidence.\n"
     ]
    }
   ],
   "source": [
    "# What's the interval that contains the population mean with 95% confidence?\n",
    "confidence = 0.95\n",
    "\n",
    "t = stats.t.interval(confidence, n - 1)[1]\n",
    "print(t)\n",
    "\n",
    "error = t * sd / np.sqrt(n)\n",
    "print('The population mean is %d +/- %.2f with %d%% confidence.' % (mu, error, confidence * 100))\n",
    "\n",
    "# Alternatively, we can avoid computing the t score (let SciPy do the scaling).\n",
    "error = stats.t.interval(confidence, n - 1, scale = sd / np.sqrt(n))[1]\n",
    "print('The population mean is %d +/- %.2f with %d%% confidence.' % (mu, error, confidence * 100))\n",
    "\n",
    "lower, upper = stats.t.interval(confidence, n - 1, loc=mu, scale=sd / np.sqrt(n))\n",
    "print('The population mean is between %.2f and %.2f with %d%% confidence.' % (lower, upper, confidence * 100))"
   ]
  },
  {
   "cell_type": "markdown",
   "metadata": {},
   "source": [
    "### Differences between using normal _vs_ t, with or without Bessel's correction, are very small."
   ]
  },
  {
   "cell_type": "markdown",
   "metadata": {},
   "source": [
    "## Minimum sample size"
   ]
  },
  {
   "cell_type": "code",
   "execution_count": 12,
   "metadata": {},
   "outputs": [
    {
     "data": {
      "text/plain": [
       "22.12680280719816"
      ]
     },
     "execution_count": 12,
     "metadata": {},
     "output_type": "execute_result"
    }
   ],
   "source": [
    "# We need to use a normal distribution, because we don't have the degrees of freedom!\n",
    "def min_sample_size(error, confidence, std):\n",
    "    import scipy.stats\n",
    "    z = scipy.stats.norm.interval(confidence)[1]\n",
    "    \n",
    "    n = (z * std / error)**2\n",
    "    \n",
    "    return n\n",
    "\n",
    "# Video example.\n",
    "min_sample_size(10, 0.95, 24)"
   ]
  },
  {
   "cell_type": "markdown",
   "metadata": {},
   "source": [
    "# Statistical significance and p-values\n",
    "- The p-value is the probability that the null hypothesis is true.\n",
    "- The p-value is the probability that the differences we observe are only due to chance.\n",
    "\n",
    "The differences between two samples (or one sample and one reference point) are **statistically significant** if the p-value of a statistical test is below a certain significance threshold (typically $p < 0.05$). This does not mean that the differences are large or meaningful, it just means there are differences, at all."
   ]
  },
  {
   "cell_type": "code",
   "execution_count": 195,
   "metadata": {},
   "outputs": [
    {
     "name": "stdout",
     "output_type": "stream",
     "text": [
      "0.07185941192141265\n",
      "0.9281405880785873\n"
     ]
    }
   ],
   "source": [
    "n = 56   # Sample size.\n",
    "mu = 135 # Sample mean.\n",
    "sd = 25  # Sample standard deviation.\n",
    "sd = np.sqrt(sd**2 * n / (n - 1)) # With Bessel's correction.\n",
    "\n",
    "diabetes = 140 # Diagnostic threshold.\n",
    "error = diabetes - mu\n",
    "\n",
    "# What's the probability that the person is diabetic (population mean above 140)?\n",
    "t = error / (sd / np.sqrt(n))\n",
    "p = 1 - stats.t.cdf(t, n - 1)\n",
    "\n",
    "print(p)\n",
    "\n",
    "# Alternatively, we can avoid computing the t score (let SciPy do the scaling).\n",
    "p = 1 - stats.t.cdf(diabetes, n - 1, loc=mu, scale=sd / np.sqrt(n))\n",
    "\n",
    "print(p)"
   ]
  },
  {
   "cell_type": "code",
   "execution_count": 192,
   "metadata": {},
   "outputs": [
    {
     "data": {
      "text/plain": [
       "0.1333777366238743"
      ]
     },
     "execution_count": 192,
     "metadata": {},
     "output_type": "execute_result"
    }
   ],
   "source": [
    "stats.ttest_1samp(stats.norm.rvs(loc=mu, scale=sd, size=n), diabetes).pvalue / 2"
   ]
  },
  {
   "cell_type": "markdown",
   "metadata": {},
   "source": [
    "## Comment on Knowledge Check 2, Q3 and Q4\n",
    "\n",
    "### Q3. Confidence intervals\n",
    "\n",
    "We first start defining our variables. I'll call old to the control group and new to the treatment group. n is the number of user in the group, mu is the mean number of minutes per month per customer, and sd is its standard deviation:"
   ]
  },
  {
   "cell_type": "code",
   "execution_count": 33,
   "metadata": {},
   "outputs": [],
   "source": [
    "n_old = 700\n",
    "mu_old = 163\n",
    "sd_old = 85\n",
    "\n",
    "n_new = 850\n",
    "mu_new = 227\n",
    "sd_new = 135"
   ]
  },
  {
   "cell_type": "markdown",
   "metadata": {},
   "source": [
    "Very quickly, we can get the difference in means between the old and new plans:"
   ]
  },
  {
   "cell_type": "code",
   "execution_count": 34,
   "metadata": {},
   "outputs": [],
   "source": [
    "mu_diff = mu_new - mu_old"
   ]
  },
  {
   "cell_type": "markdown",
   "metadata": {},
   "source": [
    "But is this difference significant? We can compute the standard error of that difference using the formula given in the video (let's make sure we convert the standard deviations to variances in order to do that):"
   ]
  },
  {
   "cell_type": "code",
   "execution_count": 35,
   "metadata": {},
   "outputs": [],
   "source": [
    "se = np.sqrt(sd_old**2 / n_old + sd_new**2 / n_new)"
   ]
  },
  {
   "cell_type": "markdown",
   "metadata": {},
   "source": [
    "Now, our margin of error is this standard error times the desired z-multiplier. In this case, we know that a confidence of 95% corresponds to a multiplier of about 1.96:"
   ]
  },
  {
   "cell_type": "code",
   "execution_count": 36,
   "metadata": {},
   "outputs": [
    {
     "name": "stdout",
     "output_type": "stream",
     "text": [
      "64 11.046231191198732\n"
     ]
    }
   ],
   "source": [
    "error = 1.96 * se\n",
    "print(mu_diff, error)"
   ]
  },
  {
   "cell_type": "markdown",
   "metadata": {},
   "source": [
    "We could instead let SciPy compute the unrounded, more precise value of the z-multiplier instead of using the table-like, rounded version, for a slightly more accurate result:"
   ]
  },
  {
   "cell_type": "code",
   "execution_count": 37,
   "metadata": {},
   "outputs": [
    {
     "name": "stdout",
     "output_type": "stream",
     "text": [
      "64 11.046028214108416\n"
     ]
    }
   ],
   "source": [
    "error = stats.norm.interval(0.95, scale=se)[1]\n",
    "print(mu_diff, error)"
   ]
  },
  {
   "cell_type": "markdown",
   "metadata": {},
   "source": [
    "With either of these solutions we can get an estimate of the difference in means together with its corresponding 95% confidence interval.\n",
    "\n",
    "#### If we want to be extra nitpicky (which is beyond the question)\n",
    "\n",
    "Up to now, we have assumed that the reported standard deviations are the population ones, but what happens if we only have the sample standard deviations? We can convert them to estimates of the population standard deviations by applying the Bessel's correction. Here I'm converting the standard deviation to variance, then applying the correction, then back to standard deviation again:"
   ]
  },
  {
   "cell_type": "code",
   "execution_count": 38,
   "metadata": {},
   "outputs": [],
   "source": [
    "def bc(sd, n):\n",
    "    '''Convert the sample standard deviation to an estimate of the population standard deviation.'''\n",
    "    return np.sqrt(sd**2 * n / (n - 1))"
   ]
  },
  {
   "cell_type": "markdown",
   "metadata": {},
   "source": [
    "We can apply this function to the standard deviations when we compute the standard error as we did before:"
   ]
  },
  {
   "cell_type": "code",
   "execution_count": 39,
   "metadata": {},
   "outputs": [],
   "source": [
    "se = np.sqrt(bc(sd_old, n_old)**2 / n_old + bc(sd_new, n_new)**2 / n_new)"
   ]
  },
  {
   "cell_type": "markdown",
   "metadata": {},
   "source": [
    "But now our estimate is not normally distributed (we don't have an infinite sample size) but t distributed instead, so we can use the t-multiplier from either the corresponding table or let SciPy do the heavy lifting:"
   ]
  },
  {
   "cell_type": "code",
   "execution_count": 40,
   "metadata": {},
   "outputs": [
    {
     "name": "stdout",
     "output_type": "stream",
     "text": [
      "64 11.061628244712692\n"
     ]
    }
   ],
   "source": [
    "error = stats.t.interval(0.95, n_old + n_new - 1, scale=se)[1]\n",
    "print(mu_diff, error)"
   ]
  },
  {
   "cell_type": "markdown",
   "metadata": {},
   "source": [
    "In this last example, we see that the margin of error is slightly bigger than the one reported in the question, so we know the question was assuming we would use the normal distribution to compute the confidence intervals!\n",
    "\n",
    "### Q4. Statistical significance \n",
    "\n",
    "Now, if we want to know if the difference between groups is statistically significant, we may ask: are the means really different from each other? Or alternatively: is the difference between means really different from 0? Same thing.\n",
    "\n",
    "We will thus look whether the confidence interval (mu_diff - error, mu_diff + error) contains 0 or not. If it doesn't, we will conclude that the differences are statistically significant with a p-value < 0.05. We could repeat the confidente interval calculation above for the 90% confidence interval, to check for significance at a threshold of p-value < 0.10, but we already know that if something has a p-value < 0.05, it follows that the p-value is already lower than 0.10, right?"
   ]
  },
  {
   "cell_type": "markdown",
   "metadata": {},
   "source": [
    "## In practice\n",
    "We are given actual samples, not just statistics."
   ]
  },
  {
   "cell_type": "code",
   "execution_count": 66,
   "metadata": {},
   "outputs": [],
   "source": [
    "np.random.seed(2)\n",
    "\n",
    "control = stats.norm.rvs(loc=-1, size=8)\n",
    "treatment = stats.norm.rvs(loc=-1.5, size=9)\n",
    "\n",
    "# Add a dataset to do ttest (2 and 1 sample maybe)."
   ]
  },
  {
   "cell_type": "code",
   "execution_count": 67,
   "metadata": {},
   "outputs": [
    {
     "data": {
      "image/png": "[encoded data removed]",
      "text/plain": [
       "<Figure size 432x288 with 1 Axes>"
      ]
     },
     "metadata": {
      "needs_background": "light"
     },
     "output_type": "display_data"
    }
   ],
   "source": [
    "plt.boxplot([control, treatment], labels=['control', 'treatment'])\n",
    "\n",
    "plt.show()"
   ]
  },
  {
   "cell_type": "code",
   "execution_count": 68,
   "metadata": {},
   "outputs": [
    {
     "data": {
      "text/plain": [
       "Ttest_1sampResult(statistic=-4.2377575915291, pvalue=0.002846142960474799)"
      ]
     },
     "execution_count": 68,
     "metadata": {},
     "output_type": "execute_result"
    }
   ],
   "source": [
    "stats.ttest_1samp(treatment, 0)"
   ]
  },
  {
   "cell_type": "code",
   "execution_count": 69,
   "metadata": {},
   "outputs": [
    {
     "data": {
      "text/plain": [
       "Ttest_indResult(statistic=-0.022456788804293085, pvalue=0.9823795955200982)"
      ]
     },
     "execution_count": 69,
     "metadata": {},
     "output_type": "execute_result"
    }
   ],
   "source": [
    "stats.ttest_ind(control, treatment)"
   ]
  }
 ],
 "metadata": {
  "kernelspec": {
   "display_name": "Python 3",
   "language": "python",
   "name": "python3"
  },
  "language_info": {
   "codemirror_mode": {
    "name": "ipython",
    "version": 3
   },
   "file_extension": ".py",
   "mimetype": "text/x-python",
   "name": "python",
   "nbconvert_exporter": "python",
   "pygments_lexer": "ipython3",
   "version": "3.6.10"
  }
 },
 "nbformat": 4,
 "nbformat_minor": 4
}
