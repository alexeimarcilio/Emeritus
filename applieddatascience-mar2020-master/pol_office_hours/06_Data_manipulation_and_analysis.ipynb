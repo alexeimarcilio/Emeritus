{
 "cells": [
  {
   "cell_type": "code",
   "execution_count": null,
   "metadata": {},
   "outputs": [],
   "source": [
    "import pandas as pd\n",
    "import numpy as np"
   ]
  },
  {
   "cell_type": "markdown",
   "metadata": {},
   "source": [
    "# Importing data"
   ]
  },
  {
   "cell_type": "code",
   "execution_count": null,
   "metadata": {},
   "outputs": [],
   "source": [
    "social = pd.read_csv('January 3-10, 2018 - Core Trends Survey - CSV.csv')"
   ]
  },
  {
   "cell_type": "code",
   "execution_count": null,
   "metadata": {},
   "outputs": [],
   "source": [
    "social"
   ]
  },
  {
   "cell_type": "code",
   "execution_count": null,
   "metadata": {},
   "outputs": [],
   "source": [
    "social.head() # print the first 5 (default) lines."
   ]
  },
  {
   "cell_type": "code",
   "execution_count": null,
   "metadata": {},
   "outputs": [],
   "source": [
    "social.tail() # print the last 5 (default) lines."
   ]
  },
  {
   "cell_type": "code",
   "execution_count": null,
   "metadata": {},
   "outputs": [],
   "source": [
    "social.describe()"
   ]
  },
  {
   "cell_type": "code",
   "execution_count": null,
   "metadata": {},
   "outputs": [],
   "source": [
    "social.to_csv('copy_of_core_trends_survey.csv') # Save DataFrame to disk."
   ]
  },
  {
   "cell_type": "markdown",
   "metadata": {},
   "source": [
    "# Series\n",
    "## *DataFrames are made of Series are made of single values*\n",
    "- Each DataFrame is like a *dictionary* of Series of the **same length**.\n",
    "- Each Series is like a *list* of single values of the **same data type**."
   ]
  },
  {
   "cell_type": "code",
   "execution_count": null,
   "metadata": {},
   "outputs": [],
   "source": [
    "# We can create a Series from a list.\n",
    "l = [1, 2, 3]\n",
    "s = pd.Series(l)\n",
    "print(s)\n",
    "\n",
    "# From an array.\n",
    "a = np.array([1,2,3])\n",
    "s = pd.Series(a, index=['first', 'second', 'third']) # We can optionally add names to the Series index.\n",
    "print(s)\n",
    "\n",
    "# And from a dictionary.\n",
    "d = {'first': 1,\n",
    "     'second': 2,\n",
    "     'third': 3}\n",
    "s = pd.Series(d) # Automatically takes the index names from the dictionary keys.\n",
    "print(s)"
   ]
  },
  {
   "cell_type": "code",
   "execution_count": null,
   "metadata": {},
   "outputs": [],
   "source": [
    "# If we create a DataFrame with Series of different length, the \"holes\" will be filled with missing values.\n",
    "\n",
    "df = pd.DataFrame([s, s[:1]]) # From a list (by row).\n",
    "print(df)\n",
    "\n",
    "df = pd.DataFrame({'one': s,\n",
    "                   'two': s[:1]}) # From a dictionary (by column).\n",
    "print(df)"
   ]
  },
  {
   "cell_type": "markdown",
   "metadata": {},
   "source": [
    "# Selecting data\n",
    "## Columns\n",
    "`df.col` acceps:\n",
    "- A single column name, as an attribute. Doesn't work with special characters. Can interfere with existing attributes/methods.\n",
    "\n",
    "`df[col]` accepts:\n",
    "- A single string. Returns a Series.\n",
    "- A list of strings of any length (including 1). Returns a DataFrame.\n",
    "\n",
    "## Rows (and columns)\n",
    "`df[row]` accepts:\n",
    "- A boolean array. Returns a DataFrame.\n",
    "\n",
    "`df.loc[row, col]` accepts:\n",
    "- A single integer or string.\n",
    "- A list of integers or strings of any lenght (including 1).\n",
    "- A list of booleans of the same lenght as the dimension we want to select.\n",
    "\n",
    "`df.loc[row]` will work with **integers or strings** *depending* on whether the index is made of integers or strings, respectively. Match by **name**.\n",
    "\n",
    "`df.iloc[row]` will *always* work with **integers**, no matter what's in the index. Match by **position**.\n",
    "\n",
    "`.loc` and `.iloc` also accept boolean arrays."
   ]
  },
  {
   "cell_type": "code",
   "execution_count": null,
   "metadata": {},
   "outputs": [],
   "source": [
    "# We can get.\n",
    "var = df[selection]\n",
    "\n",
    "# And set.\n",
    "df[selection] = var"
   ]
  },
  {
   "cell_type": "markdown",
   "metadata": {},
   "source": [
    "# Combining DataFrames"
   ]
  },
  {
   "cell_type": "code",
   "execution_count": null,
   "metadata": {},
   "outputs": [],
   "source": [
    "# Concatenate DataFrames by rows or columns.\n",
    "new_df = pd.concat([df, df, df], axis='columns')\n",
    "new_df"
   ]
  },
  {
   "cell_type": "code",
   "execution_count": null,
   "metadata": {},
   "outputs": [],
   "source": [
    "# Append DataFrames by rows. Unlike list.append(), returns instead of modifying in place.\n",
    "new_df = new_df.append([new_df, new_df])\n",
    "new_df"
   ]
  },
  {
   "cell_type": "code",
   "execution_count": null,
   "metadata": {},
   "outputs": [],
   "source": [
    "new_df = new_df.reset_index(drop=True)\n",
    "new_df"
   ]
  },
  {
   "cell_type": "code",
   "execution_count": null,
   "metadata": {},
   "outputs": [],
   "source": [
    "sub_1 = social.sample(1000)[['respid', 'sex']]\n",
    "sub_2 = social.sample(1000)[['respid', 'age']]\n",
    "\n",
    "merged = sub_1.merge(sub_2, left_on='respid', right_on='respid')\n",
    "print(merged)"
   ]
  },
  {
   "cell_type": "markdown",
   "metadata": {},
   "source": [
    "# Reshaping DataFrames"
   ]
  },
  {
   "cell_type": "code",
   "execution_count": null,
   "metadata": {},
   "outputs": [],
   "source": [
    "print(merged.shape, merged.shape[0] * 2)\n",
    "\n",
    "# Melt.\n",
    "melted = merged.melt(id_vars='respid', value_vars=['sex', 'age'])\n",
    "print(melted)\n",
    "\n",
    "# Pivot.\n",
    "pivoted = melted.pivot(index='respid', columns='variable', values='value').reset_index()\n",
    "pivoted.columns.name = None\n",
    "print(pivoted)"
   ]
  },
  {
   "cell_type": "code",
   "execution_count": null,
   "metadata": {},
   "outputs": [],
   "source": [
    "melted[melted['respid'] == 101639] # Each id is there twice: once for each variable melted."
   ]
  },
  {
   "cell_type": "markdown",
   "metadata": {},
   "source": [
    "# Grouping and aggregating data"
   ]
  },
  {
   "cell_type": "code",
   "execution_count": null,
   "metadata": {},
   "outputs": [],
   "source": [
    "# Separate data into subsets.\n",
    "grouped = merged.groupby('sex') # List-like object that contains 2-tuples with group name and subset data.\n",
    "for name, subset in grouped:\n",
    "    print(name)\n",
    "    print(subset)"
   ]
  },
  {
   "cell_type": "code",
   "execution_count": null,
   "metadata": {},
   "outputs": [],
   "source": [
    "grouped = merged.groupby(['sex', 'age']) # List-like object that contains 2-tuples with group name and subset data.\n",
    "for name, subset in grouped:\n",
    "    print(name)\n",
    "    print(subset)"
   ]
  },
  {
   "cell_type": "code",
   "execution_count": null,
   "metadata": {},
   "outputs": [],
   "source": [
    "grouped.get_group((1, 18))"
   ]
  },
  {
   "cell_type": "code",
   "execution_count": null,
   "metadata": {
    "scrolled": false
   },
   "outputs": [],
   "source": [
    "grouped = merged.groupby('age')\n",
    "\n",
    "# Aggregate with specific methods.\n",
    "print((grouped['sex'].mean() - 1) * 100)\n",
    "\n",
    "# With the more generic method aggregate, and a function.\n",
    "print(grouped['sex'].aggregate(lambda x: (np.mean(x) - 1) * 100))\n",
    "\n",
    "# Or create a new DataFrame with the results \n",
    "pct = grouped['sex'].transform(lambda x: (np.mean(x) - 1) * 100)\n",
    "print(pct)"
   ]
  },
  {
   "cell_type": "code",
   "execution_count": null,
   "metadata": {},
   "outputs": [],
   "source": [
    "merged.assign(pct_sex=pct) # Same as merged['pct_sex'] = pct, but returning instead of modifying in place."
   ]
  }
 ],
 "metadata": {
  "kernelspec": {
   "display_name": "Python 3",
   "language": "python",
   "name": "python3"
  },
  "language_info": {
   "codemirror_mode": {
    "name": "ipython",
    "version": 3
   },
   "file_extension": ".py",
   "mimetype": "text/x-python",
   "name": "python",
   "nbconvert_exporter": "python",
   "pygments_lexer": "ipython3",
   "version": "3.6.10"
  }
 },
 "nbformat": 4,
 "nbformat_minor": 4
}
